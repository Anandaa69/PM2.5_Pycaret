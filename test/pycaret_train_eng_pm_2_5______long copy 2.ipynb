{
 "cells": [
  {
   "cell_type": "code",
   "execution_count": 85,
   "metadata": {},
   "outputs": [],
   "source": [
    "import pycaret\n",
    "import pandas as pd"
   ]
  },
  {
   "cell_type": "code",
   "execution_count": 86,
   "metadata": {},
   "outputs": [],
   "source": [
    "# อ่านไฟล์ CSV\n",
    "data = pd.read_csv('../export_data/filtered_data_3_best.csv')"
   ]
  },
  {
   "cell_type": "code",
   "execution_count": 87,
   "metadata": {},
   "outputs": [],
   "source": [
    "# ตั้ง 'timestamp' เป็น index หากยังไม่ได้ทำ\n",
    "data['timestamp'] = pd.to_datetime(data['timestamp'])\n",
    "data.set_index('timestamp', inplace=True)\n",
    "\n",
    "# ตั้งค่า freq ให้กับ index\n",
    "data = data.asfreq('D')  # 'D' สำหรับรายวัน"
   ]
  },
  {
   "cell_type": "code",
   "execution_count": 88,
   "metadata": {},
   "outputs": [
    {
     "data": {
      "text/html": [
       "<div>\n",
       "<style scoped>\n",
       "    .dataframe tbody tr th:only-of-type {\n",
       "        vertical-align: middle;\n",
       "    }\n",
       "\n",
       "    .dataframe tbody tr th {\n",
       "        vertical-align: top;\n",
       "    }\n",
       "\n",
       "    .dataframe thead th {\n",
       "        text-align: right;\n",
       "    }\n",
       "</style>\n",
       "<table border=\"1\" class=\"dataframe\">\n",
       "  <thead>\n",
       "    <tr style=\"text-align: right;\">\n",
       "      <th></th>\n",
       "      <th>humidity</th>\n",
       "      <th>pm_10</th>\n",
       "      <th>pm_2_5</th>\n",
       "      <th>pm_2_5_sp</th>\n",
       "      <th>temperature</th>\n",
       "    </tr>\n",
       "    <tr>\n",
       "      <th>timestamp</th>\n",
       "      <th></th>\n",
       "      <th></th>\n",
       "      <th></th>\n",
       "      <th></th>\n",
       "      <th></th>\n",
       "    </tr>\n",
       "  </thead>\n",
       "  <tbody>\n",
       "    <tr>\n",
       "      <th>2025-02-07 07:00:00</th>\n",
       "      <td>70.933952</td>\n",
       "      <td>34.743259</td>\n",
       "      <td>29.321219</td>\n",
       "      <td>26.166471</td>\n",
       "      <td>28.271927</td>\n",
       "    </tr>\n",
       "    <tr>\n",
       "      <th>2025-02-08 07:00:00</th>\n",
       "      <td>69.348548</td>\n",
       "      <td>30.654249</td>\n",
       "      <td>26.000000</td>\n",
       "      <td>22.380675</td>\n",
       "      <td>28.385596</td>\n",
       "    </tr>\n",
       "    <tr>\n",
       "      <th>2025-02-09 07:00:00</th>\n",
       "      <td>69.916384</td>\n",
       "      <td>28.971065</td>\n",
       "      <td>24.616898</td>\n",
       "      <td>20.976852</td>\n",
       "      <td>28.373742</td>\n",
       "    </tr>\n",
       "    <tr>\n",
       "      <th>2025-02-10 07:00:00</th>\n",
       "      <td>71.226336</td>\n",
       "      <td>30.652667</td>\n",
       "      <td>25.856981</td>\n",
       "      <td>22.374574</td>\n",
       "      <td>28.251201</td>\n",
       "    </tr>\n",
       "    <tr>\n",
       "      <th>2025-02-11 07:00:00</th>\n",
       "      <td>68.159624</td>\n",
       "      <td>32.532955</td>\n",
       "      <td>27.522727</td>\n",
       "      <td>24.120455</td>\n",
       "      <td>28.693799</td>\n",
       "    </tr>\n",
       "  </tbody>\n",
       "</table>\n",
       "</div>"
      ],
      "text/plain": [
       "                      humidity      pm_10     pm_2_5  pm_2_5_sp  temperature\n",
       "timestamp                                                                   \n",
       "2025-02-07 07:00:00  70.933952  34.743259  29.321219  26.166471    28.271927\n",
       "2025-02-08 07:00:00  69.348548  30.654249  26.000000  22.380675    28.385596\n",
       "2025-02-09 07:00:00  69.916384  28.971065  24.616898  20.976852    28.373742\n",
       "2025-02-10 07:00:00  71.226336  30.652667  25.856981  22.374574    28.251201\n",
       "2025-02-11 07:00:00  68.159624  32.532955  27.522727  24.120455    28.693799"
      ]
     },
     "execution_count": 88,
     "metadata": {},
     "output_type": "execute_result"
    }
   ],
   "source": [
    "data.tail()"
   ]
  },
  {
   "cell_type": "code",
   "execution_count": 89,
   "metadata": {},
   "outputs": [
    {
     "name": "stdout",
     "output_type": "stream",
     "text": [
      "แถวที่มีค่าหายไปก่อนเติม:\n",
      "                     humidity  pm_10  pm_2_5  pm_2_5_sp  temperature\n",
      "timestamp                                                           \n",
      "2023-09-30 07:00:00       NaN    NaN     NaN        NaN          NaN\n",
      "ไม่มีค่าหายไปแล้ว\n"
     ]
    },
    {
     "data": {
      "text/plain": [
       "humidity       82.889367\n",
       "pm_10          60.525519\n",
       "pm_2_5         53.415241\n",
       "pm_2_5_sp      69.527667\n",
       "temperature    29.219760\n",
       "Name: 2023-09-30 07:00:00, dtype: float64"
      ]
     },
     "execution_count": 89,
     "metadata": {},
     "output_type": "execute_result"
    }
   ],
   "source": [
    "# แสดงแถวที่มีค่าหายไปก่อนเติม\n",
    "print(\"แถวที่มีค่าหายไปก่อนเติม:\")\n",
    "print(data[data.isnull().any(axis=1)])\n",
    "\n",
    "# เติมค่าที่หายไปด้วยการ interpolate แบบเส้นตรง\n",
    "data.interpolate(method='linear', inplace=True)\n",
    "\n",
    "# แสดงแถวที่ยังมีค่า NaN หลังจากเติม (ถ้ามี)\n",
    "missing_rows_after = data[data.isnull().any(axis=1)]\n",
    "if not missing_rows_after.empty:\n",
    "    print(\"แถวที่ยังมีค่าหายไปหลังเติม:\")\n",
    "    print(missing_rows_after)\n",
    "else:\n",
    "    print(\"ไม่มีค่าหายไปแล้ว\")\n",
    "\n",
    "\n",
    "row = data.loc[\"2023-09-30 07:00:00\"]\n",
    "row"
   ]
  },
  {
   "cell_type": "code",
   "execution_count": 90,
   "metadata": {},
   "outputs": [],
   "source": [
    "data = data[['pm_2_5', 'humidity', 'temperature']]"
   ]
  },
  {
   "cell_type": "code",
   "execution_count": 91,
   "metadata": {},
   "outputs": [],
   "source": [
    "data[\"year\"] = data.index.year\n",
    "data[\"month\"] = data.index.month\n",
    "data[\"day\"] = data.index.day\n",
    "data[\"day_of_week\"] = data.index.dayofweek  # 0 = Monday, 6 = Sunday\n",
    "data[\"week_of_year\"] = data.index.isocalendar().week  # ค่าจะเป็น int64"
   ]
  },
  {
   "cell_type": "code",
   "execution_count": 92,
   "metadata": {},
   "outputs": [],
   "source": [
    "# สมมติว่า data มี index เป็น datetime อยู่แล้ว\n",
    "def assign_season(month):\n",
    "    if month in [2, 3, 4]:  # ก.พ. - เม.ย.\n",
    "        return \"summer\"        # ฤดูร้อน\n",
    "    elif month in [5, 6, 7]:  # พ.ค. - ก.ค.\n",
    "        return \"early_rainy\"   # ต้นฤดูฝน\n",
    "    else:  # ส.ค. - ม.ค.\n",
    "        return \"late_rainy\"    # ปลายฤดูฝน\n",
    "\n",
    "season_mapping = {'summer': 0, 'early_rainy': 1, 'late_rainy': 2}\n",
    "data[\"season\"] = data.index.month.map(assign_season)\n",
    "data['season'] = data['season'].map(season_mapping)"
   ]
  },
  {
   "cell_type": "code",
   "execution_count": 93,
   "metadata": {},
   "outputs": [],
   "source": [
    "data['dew_point'] = data['temperature'] - ((100 - data['humidity']) / 5)"
   ]
  },
  {
   "cell_type": "code",
   "execution_count": 94,
   "metadata": {},
   "outputs": [],
   "source": [
    "data[\"is_weekend\"] = data.index.dayofweek.isin([5, 6]).astype(int)"
   ]
  },
  {
   "cell_type": "code",
   "execution_count": 95,
   "metadata": {},
   "outputs": [],
   "source": [
    "# อัตราส่วนของอุณหภูมิต่อความชื้น\n",
    "data[\"temp_humidity_ratio\"] = data[\"temperature\"] / (data[\"humidity\"] + 1)"
   ]
  },
  {
   "cell_type": "code",
   "execution_count": 96,
   "metadata": {},
   "outputs": [],
   "source": [
    "# ดัชนีความร้อน (Heat Index) หรืออุณหภูมิที่รับรู้\n",
    "T = data[\"temperature\"]\n",
    "RH = data[\"humidity\"]\n",
    "\n",
    "data[\"heat_index\"] = -42.379 + (2.04901523 * T) + (10.14333127 * RH) - (0.22475541 * T * RH) - \\\n",
    "                   (0.00683783 * T**2) - (0.05481717 * RH**2) + (0.00122874 * T**2 * RH) + \\\n",
    "                   (0.00085282 * T * RH**2) - (0.00000199 * T**2 * RH**2)"
   ]
  },
  {
   "cell_type": "code",
   "execution_count": 97,
   "metadata": {},
   "outputs": [],
   "source": [
    "# ความชื้นสัมพัทธ์เชิงดัชนี\n",
    "data[\"rh_index\"] = data[\"humidity\"] ** 2 / (data[\"temperature\"] + 1)"
   ]
  },
  {
   "cell_type": "code",
   "execution_count": 98,
   "metadata": {},
   "outputs": [],
   "source": [
    "import pandas as pd\n",
    "import numpy as np\n",
    "\n",
    "# สมมุติว่ามี DataFrame data ที่มีข้อมูลอยู่แล้ว\n",
    "# เพิ่มฟีเจอร์ day_of_year\n",
    "data['date'] = pd.to_datetime(data[['year', 'month', 'day']])\n",
    "data['day_of_year'] = data['date'].dt.dayofyear\n",
    "\n",
    "# เพิ่มฟีเจอร์ month_sin และ month_cos\n",
    "data['month_sin'] = np.sin(2 * np.pi * data['month'] / 12)\n",
    "data['month_cos'] = np.cos(2 * np.pi * data['month'] / 12)\n",
    "\n",
    "# เพิ่มฟีเจอร์ day_of_week_sin และ day_of_week_cos\n",
    "data['day_of_week_sin'] = np.sin(2 * np.pi * data['day_of_week'] / 7)\n",
    "data['day_of_week_cos'] = np.cos(2 * np.pi * data['day_of_week'] / 7)\n",
    "\n",
    "rolling_size = 14\n",
    "for i in range(2,rolling_size+1):\n",
    "    data[f'pm_2_5_rolling_{i}'] = data['pm_2_5'].rolling(window=i).mean().shift(1)\n",
    "\n",
    "lag_size = 30\n",
    "for i in range(1,lag_size+1):\n",
    "    data[f'pm_2_5_lag_{i}'] = data['pm_2_5'].shift(i)\n",
    "\n",
    "# data['humidity_rolling_2'] = data['humidity'].rolling(window=2).mean().shift(1)  # ค่าเฉลี่ย 2 วันของ PM 10\n",
    "# data['humidity_rolling_5'] = data['humidity'].rolling(window=5).mean().shift(1)  # ค่าเฉลี่ย 5 วันของ PM 10\n",
    "# data['humidity_rolling_7'] = data['humidity'].rolling(window=7).mean().shift(1)  # ค่าเฉลี่ย 7 วันของ PM 10\n",
    "\n",
    "data['humidity_lag_1'] = data['humidity'].shift(1)\n",
    "data['humidity_lag_2'] = data['humidity'].shift(2)\n",
    "data['humidity_lag_3'] = data['humidity'].shift(3)\n",
    "data['humidity_lag_7'] = data['humidity'].shift(7)\n",
    "\n",
    "# data['temperature_rolling_2'] = data['temperature'].rolling(window=2).mean().shift(1)  # ค่าเฉลี่ย 2 วันของ PM 10\n",
    "# data['temperature_rolling_5'] = data['temperature'].rolling(window=5).mean().shift(1)  # ค่าเฉลี่ย 5 วันของ PM 10\n",
    "# data['temperature_rolling_7'] = data['temperature'].rolling(window=7).mean().shift(1)  # ค่าเฉลี่ย 7 วันของ PM 10\n",
    "\n",
    "data['temperature_lag_1'] = data['temperature'].shift(1)\n",
    "data['temperature_lag_2'] = data['temperature'].shift(2)\n",
    "data['temperature_lag_3'] = data['temperature'].shift(3)\n",
    "data['temperature_lag_7'] = data['temperature'].shift(7)"
   ]
  },
  {
   "cell_type": "code",
   "execution_count": 99,
   "metadata": {},
   "outputs": [],
   "source": [
    "# data[\"temp_diff\"] = data[\"temperature\"].diff()\n",
    "# data[\"humidity_diff\"] = data[\"humidity\"].diff()"
   ]
  },
  {
   "cell_type": "code",
   "execution_count": 100,
   "metadata": {},
   "outputs": [
    {
     "data": {
      "text/plain": [
       "Index(['pm_2_5', 'humidity', 'temperature', 'year', 'month', 'day',\n",
       "       'day_of_week', 'week_of_year', 'season', 'dew_point', 'is_weekend',\n",
       "       'temp_humidity_ratio', 'heat_index', 'rh_index', 'date', 'day_of_year',\n",
       "       'month_sin', 'month_cos', 'day_of_week_sin', 'day_of_week_cos',\n",
       "       'pm_2_5_rolling_2', 'pm_2_5_rolling_3', 'pm_2_5_rolling_4',\n",
       "       'pm_2_5_rolling_5', 'pm_2_5_rolling_6', 'pm_2_5_rolling_7',\n",
       "       'pm_2_5_rolling_8', 'pm_2_5_rolling_9', 'pm_2_5_rolling_10',\n",
       "       'pm_2_5_rolling_11', 'pm_2_5_rolling_12', 'pm_2_5_rolling_13',\n",
       "       'pm_2_5_rolling_14', 'pm_2_5_lag_1', 'pm_2_5_lag_2', 'pm_2_5_lag_3',\n",
       "       'pm_2_5_lag_4', 'pm_2_5_lag_5', 'pm_2_5_lag_6', 'pm_2_5_lag_7',\n",
       "       'pm_2_5_lag_8', 'pm_2_5_lag_9', 'pm_2_5_lag_10', 'pm_2_5_lag_11',\n",
       "       'pm_2_5_lag_12', 'pm_2_5_lag_13', 'pm_2_5_lag_14', 'pm_2_5_lag_15',\n",
       "       'pm_2_5_lag_16', 'pm_2_5_lag_17', 'pm_2_5_lag_18', 'pm_2_5_lag_19',\n",
       "       'pm_2_5_lag_20', 'pm_2_5_lag_21', 'pm_2_5_lag_22', 'pm_2_5_lag_23',\n",
       "       'pm_2_5_lag_24', 'pm_2_5_lag_25', 'pm_2_5_lag_26', 'pm_2_5_lag_27',\n",
       "       'pm_2_5_lag_28', 'pm_2_5_lag_29', 'pm_2_5_lag_30', 'humidity_lag_1',\n",
       "       'humidity_lag_2', 'humidity_lag_3', 'humidity_lag_7',\n",
       "       'temperature_lag_1', 'temperature_lag_2', 'temperature_lag_3',\n",
       "       'temperature_lag_7'],\n",
       "      dtype='object')"
      ]
     },
     "execution_count": 100,
     "metadata": {},
     "output_type": "execute_result"
    }
   ],
   "source": [
    "data.columns"
   ]
  },
  {
   "cell_type": "code",
   "execution_count": 101,
   "metadata": {},
   "outputs": [],
   "source": [
    "data_filtered = data.loc['2023-09':]  # ดึงข้อมูลตั้งแต่กันยายน 2023 เป็นต้นไป"
   ]
  },
  {
   "cell_type": "code",
   "execution_count": 102,
   "metadata": {},
   "outputs": [
    {
     "data": {
      "text/plain": [
       "<Axes: xlabel='timestamp'>"
      ]
     },
     "execution_count": 102,
     "metadata": {},
     "output_type": "execute_result"
    },
    {
     "data": {
      "image/png": "[encoded data removed]",
      "text/plain": [
       "<Figure size 800x550 with 1 Axes>"
      ]
     },
     "metadata": {},
     "output_type": "display_data"
    }
   ],
   "source": [
    "data_filtered.plot()"
   ]
  },
  {
   "cell_type": "code",
   "execution_count": 103,
   "metadata": {},
   "outputs": [
    {
     "data": {
      "text/plain": [
       "0.05660377358490566"
      ]
     },
     "execution_count": 103,
     "metadata": {},
     "output_type": "execute_result"
    }
   ],
   "source": [
    "# สมมติว่า data มีจำนวนวันทั้งหมด\n",
    "total_data = len(data_filtered)\n",
    "\n",
    "# จำนวนวันที่ต้องการเป็น test data\n",
    "test_days = 30\n",
    "\n",
    "# คำนวณสัดส่วนของ 30 วันในข้อมูลทั้งหมด\n",
    "test_size = test_days / total_data\n",
    "test_size"
   ]
  },
  {
   "cell_type": "code",
   "execution_count": 104,
   "metadata": {},
   "outputs": [],
   "source": [
    "from sklearn.model_selection import train_test_split\n",
    "train_data, test_data = train_test_split(data_filtered, test_size=test_size, shuffle=False)"
   ]
  },
  {
   "cell_type": "code",
   "execution_count": 105,
   "metadata": {},
   "outputs": [
    {
     "data": {
      "text/plain": [
       "(500, 71)"
      ]
     },
     "execution_count": 105,
     "metadata": {},
     "output_type": "execute_result"
    }
   ],
   "source": [
    "train_data.shape"
   ]
  },
  {
   "cell_type": "code",
   "execution_count": 106,
   "metadata": {},
   "outputs": [
    {
     "data": {
      "text/plain": [
       "(30, 71)"
      ]
     },
     "execution_count": 106,
     "metadata": {},
     "output_type": "execute_result"
    }
   ],
   "source": [
    "test_data.shape"
   ]
  },
  {
   "cell_type": "code",
   "execution_count": 107,
   "metadata": {},
   "outputs": [
    {
     "data": {
      "text/html": [
       "<div>\n",
       "<style scoped>\n",
       "    .dataframe tbody tr th:only-of-type {\n",
       "        vertical-align: middle;\n",
       "    }\n",
       "\n",
       "    .dataframe tbody tr th {\n",
       "        vertical-align: top;\n",
       "    }\n",
       "\n",
       "    .dataframe thead th {\n",
       "        text-align: right;\n",
       "    }\n",
       "</style>\n",
       "<table border=\"1\" class=\"dataframe\">\n",
       "  <thead>\n",
       "    <tr style=\"text-align: right;\">\n",
       "      <th></th>\n",
       "      <th>pm_2_5</th>\n",
       "      <th>humidity</th>\n",
       "      <th>temperature</th>\n",
       "      <th>year</th>\n",
       "      <th>month</th>\n",
       "      <th>day</th>\n",
       "      <th>day_of_week</th>\n",
       "      <th>week_of_year</th>\n",
       "      <th>season</th>\n",
       "      <th>dew_point</th>\n",
       "      <th>...</th>\n",
       "      <th>pm_2_5_lag_29</th>\n",
       "      <th>pm_2_5_lag_30</th>\n",
       "      <th>humidity_lag_1</th>\n",
       "      <th>humidity_lag_2</th>\n",
       "      <th>humidity_lag_3</th>\n",
       "      <th>humidity_lag_7</th>\n",
       "      <th>temperature_lag_1</th>\n",
       "      <th>temperature_lag_2</th>\n",
       "      <th>temperature_lag_3</th>\n",
       "      <th>temperature_lag_7</th>\n",
       "    </tr>\n",
       "    <tr>\n",
       "      <th>timestamp</th>\n",
       "      <th></th>\n",
       "      <th></th>\n",
       "      <th></th>\n",
       "      <th></th>\n",
       "      <th></th>\n",
       "      <th></th>\n",
       "      <th></th>\n",
       "      <th></th>\n",
       "      <th></th>\n",
       "      <th></th>\n",
       "      <th></th>\n",
       "      <th></th>\n",
       "      <th></th>\n",
       "      <th></th>\n",
       "      <th></th>\n",
       "      <th></th>\n",
       "      <th></th>\n",
       "      <th></th>\n",
       "      <th></th>\n",
       "      <th></th>\n",
       "      <th></th>\n",
       "    </tr>\n",
       "  </thead>\n",
       "  <tbody>\n",
       "    <tr>\n",
       "      <th>2025-01-13 07:00:00</th>\n",
       "      <td>42.594631</td>\n",
       "      <td>78.292202</td>\n",
       "      <td>25.997341</td>\n",
       "      <td>2025</td>\n",
       "      <td>1</td>\n",
       "      <td>13</td>\n",
       "      <td>0</td>\n",
       "      <td>3</td>\n",
       "      <td>2</td>\n",
       "      <td>21.655782</td>\n",
       "      <td>...</td>\n",
       "      <td>9.330097</td>\n",
       "      <td>16.010753</td>\n",
       "      <td>85.379806</td>\n",
       "      <td>73.568381</td>\n",
       "      <td>70.491487</td>\n",
       "      <td>72.844643</td>\n",
       "      <td>25.434972</td>\n",
       "      <td>28.357459</td>\n",
       "      <td>28.945704</td>\n",
       "      <td>28.825509</td>\n",
       "    </tr>\n",
       "  </tbody>\n",
       "</table>\n",
       "<p>1 rows × 71 columns</p>\n",
       "</div>"
      ],
      "text/plain": [
       "                        pm_2_5   humidity  temperature  year  month  day  \\\n",
       "timestamp                                                                  \n",
       "2025-01-13 07:00:00  42.594631  78.292202    25.997341  2025      1   13   \n",
       "\n",
       "                     day_of_week  week_of_year  season  dew_point  ...  \\\n",
       "timestamp                                                          ...   \n",
       "2025-01-13 07:00:00            0             3       2  21.655782  ...   \n",
       "\n",
       "                     pm_2_5_lag_29  pm_2_5_lag_30  humidity_lag_1  \\\n",
       "timestamp                                                           \n",
       "2025-01-13 07:00:00       9.330097      16.010753       85.379806   \n",
       "\n",
       "                     humidity_lag_2 humidity_lag_3  humidity_lag_7  \\\n",
       "timestamp                                                            \n",
       "2025-01-13 07:00:00       73.568381      70.491487       72.844643   \n",
       "\n",
       "                     temperature_lag_1  temperature_lag_2  temperature_lag_3  \\\n",
       "timestamp                                                                      \n",
       "2025-01-13 07:00:00          25.434972          28.357459          28.945704   \n",
       "\n",
       "                     temperature_lag_7  \n",
       "timestamp                               \n",
       "2025-01-13 07:00:00          28.825509  \n",
       "\n",
       "[1 rows x 71 columns]"
      ]
     },
     "execution_count": 107,
     "metadata": {},
     "output_type": "execute_result"
    }
   ],
   "source": [
    "test_data.head(1)"
   ]
  },
  {
   "cell_type": "code",
   "execution_count": 108,
   "metadata": {},
   "outputs": [
    {
     "data": {
      "text/html": [
       "<div>\n",
       "<style scoped>\n",
       "    .dataframe tbody tr th:only-of-type {\n",
       "        vertical-align: middle;\n",
       "    }\n",
       "\n",
       "    .dataframe tbody tr th {\n",
       "        vertical-align: top;\n",
       "    }\n",
       "\n",
       "    .dataframe thead th {\n",
       "        text-align: right;\n",
       "    }\n",
       "</style>\n",
       "<table border=\"1\" class=\"dataframe\">\n",
       "  <thead>\n",
       "    <tr style=\"text-align: right;\">\n",
       "      <th></th>\n",
       "      <th>pm_2_5</th>\n",
       "      <th>humidity</th>\n",
       "      <th>temperature</th>\n",
       "      <th>year</th>\n",
       "      <th>month</th>\n",
       "      <th>day</th>\n",
       "      <th>day_of_week</th>\n",
       "      <th>week_of_year</th>\n",
       "      <th>season</th>\n",
       "      <th>dew_point</th>\n",
       "      <th>...</th>\n",
       "      <th>pm_2_5_lag_29</th>\n",
       "      <th>pm_2_5_lag_30</th>\n",
       "      <th>humidity_lag_1</th>\n",
       "      <th>humidity_lag_2</th>\n",
       "      <th>humidity_lag_3</th>\n",
       "      <th>humidity_lag_7</th>\n",
       "      <th>temperature_lag_1</th>\n",
       "      <th>temperature_lag_2</th>\n",
       "      <th>temperature_lag_3</th>\n",
       "      <th>temperature_lag_7</th>\n",
       "    </tr>\n",
       "    <tr>\n",
       "      <th>timestamp</th>\n",
       "      <th></th>\n",
       "      <th></th>\n",
       "      <th></th>\n",
       "      <th></th>\n",
       "      <th></th>\n",
       "      <th></th>\n",
       "      <th></th>\n",
       "      <th></th>\n",
       "      <th></th>\n",
       "      <th></th>\n",
       "      <th></th>\n",
       "      <th></th>\n",
       "      <th></th>\n",
       "      <th></th>\n",
       "      <th></th>\n",
       "      <th></th>\n",
       "      <th></th>\n",
       "      <th></th>\n",
       "      <th></th>\n",
       "      <th></th>\n",
       "      <th></th>\n",
       "    </tr>\n",
       "  </thead>\n",
       "  <tbody>\n",
       "    <tr>\n",
       "      <th>2025-02-11 07:00:00</th>\n",
       "      <td>27.522727</td>\n",
       "      <td>68.159624</td>\n",
       "      <td>28.693799</td>\n",
       "      <td>2025</td>\n",
       "      <td>2</td>\n",
       "      <td>11</td>\n",
       "      <td>1</td>\n",
       "      <td>7</td>\n",
       "      <td>0</td>\n",
       "      <td>22.325724</td>\n",
       "      <td>...</td>\n",
       "      <td>42.594631</td>\n",
       "      <td>34.02521</td>\n",
       "      <td>71.226336</td>\n",
       "      <td>69.916384</td>\n",
       "      <td>69.348548</td>\n",
       "      <td>70.266522</td>\n",
       "      <td>28.251201</td>\n",
       "      <td>28.373742</td>\n",
       "      <td>28.385596</td>\n",
       "      <td>27.775432</td>\n",
       "    </tr>\n",
       "  </tbody>\n",
       "</table>\n",
       "<p>1 rows × 71 columns</p>\n",
       "</div>"
      ],
      "text/plain": [
       "                        pm_2_5   humidity  temperature  year  month  day  \\\n",
       "timestamp                                                                  \n",
       "2025-02-11 07:00:00  27.522727  68.159624    28.693799  2025      2   11   \n",
       "\n",
       "                     day_of_week  week_of_year  season  dew_point  ...  \\\n",
       "timestamp                                                          ...   \n",
       "2025-02-11 07:00:00            1             7       0  22.325724  ...   \n",
       "\n",
       "                     pm_2_5_lag_29  pm_2_5_lag_30  humidity_lag_1  \\\n",
       "timestamp                                                           \n",
       "2025-02-11 07:00:00      42.594631       34.02521       71.226336   \n",
       "\n",
       "                     humidity_lag_2 humidity_lag_3  humidity_lag_7  \\\n",
       "timestamp                                                            \n",
       "2025-02-11 07:00:00       69.916384      69.348548       70.266522   \n",
       "\n",
       "                     temperature_lag_1  temperature_lag_2  temperature_lag_3  \\\n",
       "timestamp                                                                      \n",
       "2025-02-11 07:00:00          28.251201          28.373742          28.385596   \n",
       "\n",
       "                     temperature_lag_7  \n",
       "timestamp                               \n",
       "2025-02-11 07:00:00          27.775432  \n",
       "\n",
       "[1 rows x 71 columns]"
      ]
     },
     "execution_count": 108,
     "metadata": {},
     "output_type": "execute_result"
    }
   ],
   "source": [
    "test_data.tail(1)"
   ]
  },
  {
   "cell_type": "code",
   "execution_count": 109,
   "metadata": {},
   "outputs": [
    {
     "data": {
      "text/html": [
       "<div>\n",
       "<style scoped>\n",
       "    .dataframe tbody tr th:only-of-type {\n",
       "        vertical-align: middle;\n",
       "    }\n",
       "\n",
       "    .dataframe tbody tr th {\n",
       "        vertical-align: top;\n",
       "    }\n",
       "\n",
       "    .dataframe thead th {\n",
       "        text-align: right;\n",
       "    }\n",
       "</style>\n",
       "<table border=\"1\" class=\"dataframe\">\n",
       "  <thead>\n",
       "    <tr style=\"text-align: right;\">\n",
       "      <th></th>\n",
       "      <th>pm_2_5</th>\n",
       "      <th>humidity</th>\n",
       "      <th>temperature</th>\n",
       "      <th>year</th>\n",
       "      <th>month</th>\n",
       "      <th>day</th>\n",
       "      <th>day_of_week</th>\n",
       "      <th>week_of_year</th>\n",
       "      <th>season</th>\n",
       "      <th>dew_point</th>\n",
       "      <th>...</th>\n",
       "      <th>pm_2_5_lag_29</th>\n",
       "      <th>pm_2_5_lag_30</th>\n",
       "      <th>humidity_lag_1</th>\n",
       "      <th>humidity_lag_2</th>\n",
       "      <th>humidity_lag_3</th>\n",
       "      <th>humidity_lag_7</th>\n",
       "      <th>temperature_lag_1</th>\n",
       "      <th>temperature_lag_2</th>\n",
       "      <th>temperature_lag_3</th>\n",
       "      <th>temperature_lag_7</th>\n",
       "    </tr>\n",
       "    <tr>\n",
       "      <th>timestamp</th>\n",
       "      <th></th>\n",
       "      <th></th>\n",
       "      <th></th>\n",
       "      <th></th>\n",
       "      <th></th>\n",
       "      <th></th>\n",
       "      <th></th>\n",
       "      <th></th>\n",
       "      <th></th>\n",
       "      <th></th>\n",
       "      <th></th>\n",
       "      <th></th>\n",
       "      <th></th>\n",
       "      <th></th>\n",
       "      <th></th>\n",
       "      <th></th>\n",
       "      <th></th>\n",
       "      <th></th>\n",
       "      <th></th>\n",
       "      <th></th>\n",
       "      <th></th>\n",
       "    </tr>\n",
       "  </thead>\n",
       "  <tbody>\n",
       "    <tr>\n",
       "      <th>2025-02-07 07:00:00</th>\n",
       "      <td>29.321219</td>\n",
       "      <td>70.933952</td>\n",
       "      <td>28.271927</td>\n",
       "      <td>2025</td>\n",
       "      <td>2</td>\n",
       "      <td>7</td>\n",
       "      <td>4</td>\n",
       "      <td>6</td>\n",
       "      <td>0</td>\n",
       "      <td>22.458717</td>\n",
       "      <td>...</td>\n",
       "      <td>33.810780</td>\n",
       "      <td>35.536756</td>\n",
       "      <td>69.511783</td>\n",
       "      <td>71.500943</td>\n",
       "      <td>70.266522</td>\n",
       "      <td>68.520368</td>\n",
       "      <td>28.579177</td>\n",
       "      <td>28.327450</td>\n",
       "      <td>27.775432</td>\n",
       "      <td>27.336718</td>\n",
       "    </tr>\n",
       "    <tr>\n",
       "      <th>2025-02-08 07:00:00</th>\n",
       "      <td>26.000000</td>\n",
       "      <td>69.348548</td>\n",
       "      <td>28.385596</td>\n",
       "      <td>2025</td>\n",
       "      <td>2</td>\n",
       "      <td>8</td>\n",
       "      <td>5</td>\n",
       "      <td>6</td>\n",
       "      <td>0</td>\n",
       "      <td>22.255305</td>\n",
       "      <td>...</td>\n",
       "      <td>37.291228</td>\n",
       "      <td>33.810780</td>\n",
       "      <td>70.933952</td>\n",
       "      <td>69.511783</td>\n",
       "      <td>71.500943</td>\n",
       "      <td>69.231031</td>\n",
       "      <td>28.271927</td>\n",
       "      <td>28.579177</td>\n",
       "      <td>28.327450</td>\n",
       "      <td>27.315410</td>\n",
       "    </tr>\n",
       "    <tr>\n",
       "      <th>2025-02-09 07:00:00</th>\n",
       "      <td>24.616898</td>\n",
       "      <td>69.916384</td>\n",
       "      <td>28.373742</td>\n",
       "      <td>2025</td>\n",
       "      <td>2</td>\n",
       "      <td>9</td>\n",
       "      <td>6</td>\n",
       "      <td>6</td>\n",
       "      <td>0</td>\n",
       "      <td>22.357019</td>\n",
       "      <td>...</td>\n",
       "      <td>40.511737</td>\n",
       "      <td>37.291228</td>\n",
       "      <td>69.348548</td>\n",
       "      <td>70.933952</td>\n",
       "      <td>69.511783</td>\n",
       "      <td>70.341639</td>\n",
       "      <td>28.385596</td>\n",
       "      <td>28.271927</td>\n",
       "      <td>28.579177</td>\n",
       "      <td>27.683890</td>\n",
       "    </tr>\n",
       "    <tr>\n",
       "      <th>2025-02-10 07:00:00</th>\n",
       "      <td>25.856981</td>\n",
       "      <td>71.226336</td>\n",
       "      <td>28.251201</td>\n",
       "      <td>2025</td>\n",
       "      <td>2</td>\n",
       "      <td>10</td>\n",
       "      <td>0</td>\n",
       "      <td>7</td>\n",
       "      <td>0</td>\n",
       "      <td>22.496468</td>\n",
       "      <td>...</td>\n",
       "      <td>34.025210</td>\n",
       "      <td>40.511737</td>\n",
       "      <td>69.916384</td>\n",
       "      <td>69.348548</td>\n",
       "      <td>70.933952</td>\n",
       "      <td>65.114261</td>\n",
       "      <td>28.373742</td>\n",
       "      <td>28.385596</td>\n",
       "      <td>28.271927</td>\n",
       "      <td>28.644544</td>\n",
       "    </tr>\n",
       "    <tr>\n",
       "      <th>2025-02-11 07:00:00</th>\n",
       "      <td>27.522727</td>\n",
       "      <td>68.159624</td>\n",
       "      <td>28.693799</td>\n",
       "      <td>2025</td>\n",
       "      <td>2</td>\n",
       "      <td>11</td>\n",
       "      <td>1</td>\n",
       "      <td>7</td>\n",
       "      <td>0</td>\n",
       "      <td>22.325724</td>\n",
       "      <td>...</td>\n",
       "      <td>42.594631</td>\n",
       "      <td>34.025210</td>\n",
       "      <td>71.226336</td>\n",
       "      <td>69.916384</td>\n",
       "      <td>69.348548</td>\n",
       "      <td>70.266522</td>\n",
       "      <td>28.251201</td>\n",
       "      <td>28.373742</td>\n",
       "      <td>28.385596</td>\n",
       "      <td>27.775432</td>\n",
       "    </tr>\n",
       "  </tbody>\n",
       "</table>\n",
       "<p>5 rows × 71 columns</p>\n",
       "</div>"
      ],
      "text/plain": [
       "                        pm_2_5   humidity  temperature  year  month  day  \\\n",
       "timestamp                                                                  \n",
       "2025-02-07 07:00:00  29.321219  70.933952    28.271927  2025      2    7   \n",
       "2025-02-08 07:00:00  26.000000  69.348548    28.385596  2025      2    8   \n",
       "2025-02-09 07:00:00  24.616898  69.916384    28.373742  2025      2    9   \n",
       "2025-02-10 07:00:00  25.856981  71.226336    28.251201  2025      2   10   \n",
       "2025-02-11 07:00:00  27.522727  68.159624    28.693799  2025      2   11   \n",
       "\n",
       "                     day_of_week  week_of_year  season  dew_point  ...  \\\n",
       "timestamp                                                          ...   \n",
       "2025-02-07 07:00:00            4             6       0  22.458717  ...   \n",
       "2025-02-08 07:00:00            5             6       0  22.255305  ...   \n",
       "2025-02-09 07:00:00            6             6       0  22.357019  ...   \n",
       "2025-02-10 07:00:00            0             7       0  22.496468  ...   \n",
       "2025-02-11 07:00:00            1             7       0  22.325724  ...   \n",
       "\n",
       "                     pm_2_5_lag_29  pm_2_5_lag_30  humidity_lag_1  \\\n",
       "timestamp                                                           \n",
       "2025-02-07 07:00:00      33.810780      35.536756       69.511783   \n",
       "2025-02-08 07:00:00      37.291228      33.810780       70.933952   \n",
       "2025-02-09 07:00:00      40.511737      37.291228       69.348548   \n",
       "2025-02-10 07:00:00      34.025210      40.511737       69.916384   \n",
       "2025-02-11 07:00:00      42.594631      34.025210       71.226336   \n",
       "\n",
       "                     humidity_lag_2 humidity_lag_3  humidity_lag_7  \\\n",
       "timestamp                                                            \n",
       "2025-02-07 07:00:00       71.500943      70.266522       68.520368   \n",
       "2025-02-08 07:00:00       69.511783      71.500943       69.231031   \n",
       "2025-02-09 07:00:00       70.933952      69.511783       70.341639   \n",
       "2025-02-10 07:00:00       69.348548      70.933952       65.114261   \n",
       "2025-02-11 07:00:00       69.916384      69.348548       70.266522   \n",
       "\n",
       "                     temperature_lag_1  temperature_lag_2  temperature_lag_3  \\\n",
       "timestamp                                                                      \n",
       "2025-02-07 07:00:00          28.579177          28.327450          27.775432   \n",
       "2025-02-08 07:00:00          28.271927          28.579177          28.327450   \n",
       "2025-02-09 07:00:00          28.385596          28.271927          28.579177   \n",
       "2025-02-10 07:00:00          28.373742          28.385596          28.271927   \n",
       "2025-02-11 07:00:00          28.251201          28.373742          28.385596   \n",
       "\n",
       "                     temperature_lag_7  \n",
       "timestamp                               \n",
       "2025-02-07 07:00:00          27.336718  \n",
       "2025-02-08 07:00:00          27.315410  \n",
       "2025-02-09 07:00:00          27.683890  \n",
       "2025-02-10 07:00:00          28.644544  \n",
       "2025-02-11 07:00:00          27.775432  \n",
       "\n",
       "[5 rows x 71 columns]"
      ]
     },
     "execution_count": 109,
     "metadata": {},
     "output_type": "execute_result"
    }
   ],
   "source": [
    "test_data.tail()"
   ]
  },
  {
   "cell_type": "code",
   "execution_count": 110,
   "metadata": {},
   "outputs": [
    {
     "data": {
      "text/plain": [
       "Index(['pm_2_5', 'humidity', 'temperature', 'year', 'month', 'day',\n",
       "       'day_of_week', 'week_of_year', 'season', 'dew_point', 'is_weekend',\n",
       "       'temp_humidity_ratio', 'heat_index', 'rh_index', 'date', 'day_of_year',\n",
       "       'month_sin', 'month_cos', 'day_of_week_sin', 'day_of_week_cos',\n",
       "       'pm_2_5_rolling_2', 'pm_2_5_rolling_3', 'pm_2_5_rolling_4',\n",
       "       'pm_2_5_rolling_5', 'pm_2_5_rolling_6', 'pm_2_5_rolling_7',\n",
       "       'pm_2_5_rolling_8', 'pm_2_5_rolling_9', 'pm_2_5_rolling_10',\n",
       "       'pm_2_5_rolling_11', 'pm_2_5_rolling_12', 'pm_2_5_rolling_13',\n",
       "       'pm_2_5_rolling_14', 'pm_2_5_lag_1', 'pm_2_5_lag_2', 'pm_2_5_lag_3',\n",
       "       'pm_2_5_lag_4', 'pm_2_5_lag_5', 'pm_2_5_lag_6', 'pm_2_5_lag_7',\n",
       "       'pm_2_5_lag_8', 'pm_2_5_lag_9', 'pm_2_5_lag_10', 'pm_2_5_lag_11',\n",
       "       'pm_2_5_lag_12', 'pm_2_5_lag_13', 'pm_2_5_lag_14', 'pm_2_5_lag_15',\n",
       "       'pm_2_5_lag_16', 'pm_2_5_lag_17', 'pm_2_5_lag_18', 'pm_2_5_lag_19',\n",
       "       'pm_2_5_lag_20', 'pm_2_5_lag_21', 'pm_2_5_lag_22', 'pm_2_5_lag_23',\n",
       "       'pm_2_5_lag_24', 'pm_2_5_lag_25', 'pm_2_5_lag_26', 'pm_2_5_lag_27',\n",
       "       'pm_2_5_lag_28', 'pm_2_5_lag_29', 'pm_2_5_lag_30', 'humidity_lag_1',\n",
       "       'humidity_lag_2', 'humidity_lag_3', 'humidity_lag_7',\n",
       "       'temperature_lag_1', 'temperature_lag_2', 'temperature_lag_3',\n",
       "       'temperature_lag_7'],\n",
       "      dtype='object')"
      ]
     },
     "execution_count": 110,
     "metadata": {},
     "output_type": "execute_result"
    }
   ],
   "source": [
    "test_data.columns"
   ]
  },
  {
   "cell_type": "code",
   "execution_count": 111,
   "metadata": {},
   "outputs": [],
   "source": [
    "# train_data.dropna()"
   ]
  },
  {
   "cell_type": "code",
   "execution_count": 112,
   "metadata": {},
   "outputs": [
    {
     "data": {
      "text/html": [
       "<style type=\"text/css\">\n",
       "#T_6b0e7_row9_col1, #T_6b0e7_row13_col1 {\n",
       "  background-color: lightgreen;\n",
       "}\n",
       "</style>\n",
       "<table id=\"T_6b0e7\">\n",
       "  <thead>\n",
       "    <tr>\n",
       "      <th class=\"blank level0\" >&nbsp;</th>\n",
       "      <th id=\"T_6b0e7_level0_col0\" class=\"col_heading level0 col0\" >Description</th>\n",
       "      <th id=\"T_6b0e7_level0_col1\" class=\"col_heading level0 col1\" >Value</th>\n",
       "    </tr>\n",
       "  </thead>\n",
       "  <tbody>\n",
       "    <tr>\n",
       "      <th id=\"T_6b0e7_level0_row0\" class=\"row_heading level0 row0\" >0</th>\n",
       "      <td id=\"T_6b0e7_row0_col0\" class=\"data row0 col0\" >Session id</td>\n",
       "      <td id=\"T_6b0e7_row0_col1\" class=\"data row0 col1\" >123</td>\n",
       "    </tr>\n",
       "    <tr>\n",
       "      <th id=\"T_6b0e7_level0_row1\" class=\"row_heading level0 row1\" >1</th>\n",
       "      <td id=\"T_6b0e7_row1_col0\" class=\"data row1 col0\" >Target</td>\n",
       "      <td id=\"T_6b0e7_row1_col1\" class=\"data row1 col1\" >pm_2_5</td>\n",
       "    </tr>\n",
       "    <tr>\n",
       "      <th id=\"T_6b0e7_level0_row2\" class=\"row_heading level0 row2\" >2</th>\n",
       "      <td id=\"T_6b0e7_row2_col0\" class=\"data row2 col0\" >Target type</td>\n",
       "      <td id=\"T_6b0e7_row2_col1\" class=\"data row2 col1\" >Regression</td>\n",
       "    </tr>\n",
       "    <tr>\n",
       "      <th id=\"T_6b0e7_level0_row3\" class=\"row_heading level0 row3\" >3</th>\n",
       "      <td id=\"T_6b0e7_row3_col0\" class=\"data row3 col0\" >Original data shape</td>\n",
       "      <td id=\"T_6b0e7_row3_col1\" class=\"data row3 col1\" >(500, 71)</td>\n",
       "    </tr>\n",
       "    <tr>\n",
       "      <th id=\"T_6b0e7_level0_row4\" class=\"row_heading level0 row4\" >4</th>\n",
       "      <td id=\"T_6b0e7_row4_col0\" class=\"data row4 col0\" >Transformed data shape</td>\n",
       "      <td id=\"T_6b0e7_row4_col1\" class=\"data row4 col1\" >(482, 73)</td>\n",
       "    </tr>\n",
       "    <tr>\n",
       "      <th id=\"T_6b0e7_level0_row5\" class=\"row_heading level0 row5\" >5</th>\n",
       "      <td id=\"T_6b0e7_row5_col0\" class=\"data row5 col0\" >Transformed train set shape</td>\n",
       "      <td id=\"T_6b0e7_row5_col1\" class=\"data row5 col1\" >(332, 73)</td>\n",
       "    </tr>\n",
       "    <tr>\n",
       "      <th id=\"T_6b0e7_level0_row6\" class=\"row_heading level0 row6\" >6</th>\n",
       "      <td id=\"T_6b0e7_row6_col0\" class=\"data row6 col0\" >Transformed test set shape</td>\n",
       "      <td id=\"T_6b0e7_row6_col1\" class=\"data row6 col1\" >(150, 73)</td>\n",
       "    </tr>\n",
       "    <tr>\n",
       "      <th id=\"T_6b0e7_level0_row7\" class=\"row_heading level0 row7\" >7</th>\n",
       "      <td id=\"T_6b0e7_row7_col0\" class=\"data row7 col0\" >Numeric features</td>\n",
       "      <td id=\"T_6b0e7_row7_col1\" class=\"data row7 col1\" >69</td>\n",
       "    </tr>\n",
       "    <tr>\n",
       "      <th id=\"T_6b0e7_level0_row8\" class=\"row_heading level0 row8\" >8</th>\n",
       "      <td id=\"T_6b0e7_row8_col0\" class=\"data row8 col0\" >Date features</td>\n",
       "      <td id=\"T_6b0e7_row8_col1\" class=\"data row8 col1\" >1</td>\n",
       "    </tr>\n",
       "    <tr>\n",
       "      <th id=\"T_6b0e7_level0_row9\" class=\"row_heading level0 row9\" >9</th>\n",
       "      <td id=\"T_6b0e7_row9_col0\" class=\"data row9 col0\" >Preprocess</td>\n",
       "      <td id=\"T_6b0e7_row9_col1\" class=\"data row9 col1\" >True</td>\n",
       "    </tr>\n",
       "    <tr>\n",
       "      <th id=\"T_6b0e7_level0_row10\" class=\"row_heading level0 row10\" >10</th>\n",
       "      <td id=\"T_6b0e7_row10_col0\" class=\"data row10 col0\" >Imputation type</td>\n",
       "      <td id=\"T_6b0e7_row10_col1\" class=\"data row10 col1\" >simple</td>\n",
       "    </tr>\n",
       "    <tr>\n",
       "      <th id=\"T_6b0e7_level0_row11\" class=\"row_heading level0 row11\" >11</th>\n",
       "      <td id=\"T_6b0e7_row11_col0\" class=\"data row11 col0\" >Numeric imputation</td>\n",
       "      <td id=\"T_6b0e7_row11_col1\" class=\"data row11 col1\" >mean</td>\n",
       "    </tr>\n",
       "    <tr>\n",
       "      <th id=\"T_6b0e7_level0_row12\" class=\"row_heading level0 row12\" >12</th>\n",
       "      <td id=\"T_6b0e7_row12_col0\" class=\"data row12 col0\" >Categorical imputation</td>\n",
       "      <td id=\"T_6b0e7_row12_col1\" class=\"data row12 col1\" >mode</td>\n",
       "    </tr>\n",
       "    <tr>\n",
       "      <th id=\"T_6b0e7_level0_row13\" class=\"row_heading level0 row13\" >13</th>\n",
       "      <td id=\"T_6b0e7_row13_col0\" class=\"data row13 col0\" >Remove outliers</td>\n",
       "      <td id=\"T_6b0e7_row13_col1\" class=\"data row13 col1\" >True</td>\n",
       "    </tr>\n",
       "    <tr>\n",
       "      <th id=\"T_6b0e7_level0_row14\" class=\"row_heading level0 row14\" >14</th>\n",
       "      <td id=\"T_6b0e7_row14_col0\" class=\"data row14 col0\" >Outliers threshold</td>\n",
       "      <td id=\"T_6b0e7_row14_col1\" class=\"data row14 col1\" >0.050000</td>\n",
       "    </tr>\n",
       "    <tr>\n",
       "      <th id=\"T_6b0e7_level0_row15\" class=\"row_heading level0 row15\" >15</th>\n",
       "      <td id=\"T_6b0e7_row15_col0\" class=\"data row15 col0\" >Fold Generator</td>\n",
       "      <td id=\"T_6b0e7_row15_col1\" class=\"data row15 col1\" >KFold</td>\n",
       "    </tr>\n",
       "    <tr>\n",
       "      <th id=\"T_6b0e7_level0_row16\" class=\"row_heading level0 row16\" >16</th>\n",
       "      <td id=\"T_6b0e7_row16_col0\" class=\"data row16 col0\" >Fold Number</td>\n",
       "      <td id=\"T_6b0e7_row16_col1\" class=\"data row16 col1\" >12</td>\n",
       "    </tr>\n",
       "    <tr>\n",
       "      <th id=\"T_6b0e7_level0_row17\" class=\"row_heading level0 row17\" >17</th>\n",
       "      <td id=\"T_6b0e7_row17_col0\" class=\"data row17 col0\" >CPU Jobs</td>\n",
       "      <td id=\"T_6b0e7_row17_col1\" class=\"data row17 col1\" >-1</td>\n",
       "    </tr>\n",
       "    <tr>\n",
       "      <th id=\"T_6b0e7_level0_row18\" class=\"row_heading level0 row18\" >18</th>\n",
       "      <td id=\"T_6b0e7_row18_col0\" class=\"data row18 col0\" >Use GPU</td>\n",
       "      <td id=\"T_6b0e7_row18_col1\" class=\"data row18 col1\" >False</td>\n",
       "    </tr>\n",
       "    <tr>\n",
       "      <th id=\"T_6b0e7_level0_row19\" class=\"row_heading level0 row19\" >19</th>\n",
       "      <td id=\"T_6b0e7_row19_col0\" class=\"data row19 col0\" >Log Experiment</td>\n",
       "      <td id=\"T_6b0e7_row19_col1\" class=\"data row19 col1\" >False</td>\n",
       "    </tr>\n",
       "    <tr>\n",
       "      <th id=\"T_6b0e7_level0_row20\" class=\"row_heading level0 row20\" >20</th>\n",
       "      <td id=\"T_6b0e7_row20_col0\" class=\"data row20 col0\" >Experiment Name</td>\n",
       "      <td id=\"T_6b0e7_row20_col1\" class=\"data row20 col1\" >reg-default-name</td>\n",
       "    </tr>\n",
       "    <tr>\n",
       "      <th id=\"T_6b0e7_level0_row21\" class=\"row_heading level0 row21\" >21</th>\n",
       "      <td id=\"T_6b0e7_row21_col0\" class=\"data row21 col0\" >USI</td>\n",
       "      <td id=\"T_6b0e7_row21_col1\" class=\"data row21 col1\" >d212</td>\n",
       "    </tr>\n",
       "  </tbody>\n",
       "</table>\n"
      ],
      "text/plain": [
       "<pandas.io.formats.style.Styler at 0x2515b207e50>"
      ]
     },
     "metadata": {},
     "output_type": "display_data"
    },
    {
     "data": {
      "text/plain": [
       "<pycaret.regression.oop.RegressionExperiment at 0x2515b962ad0>"
      ]
     },
     "execution_count": 112,
     "metadata": {},
     "output_type": "execute_result"
    }
   ],
   "source": [
    "# from pycaret.time_series import *\n",
    "from pycaret.regression import RegressionExperiment\n",
    "exp1 = RegressionExperiment()\n",
    "exp1.setup(data=train_data, target='pm_2_5', session_id=123, fold=12, iterative_imputation_iters=100, remove_outliers = True)\n",
    "# iterative_imputation_iters=100, remove_outliers = True"
   ]
  },
  {
   "cell_type": "code",
   "execution_count": 114,
   "metadata": {},
   "outputs": [
    {
     "data": {
      "text/html": [],
      "text/plain": [
       "<IPython.core.display.HTML object>"
      ]
     },
     "metadata": {},
     "output_type": "display_data"
    },
    {
     "data": {
      "text/html": [
       "<style type=\"text/css\">\n",
       "#T_54e0d th {\n",
       "  text-align: left;\n",
       "}\n",
       "#T_54e0d_row0_col0, #T_54e0d_row0_col5, #T_54e0d_row0_col6, #T_54e0d_row1_col0, #T_54e0d_row1_col1, #T_54e0d_row1_col2, #T_54e0d_row1_col3, #T_54e0d_row1_col4, #T_54e0d_row1_col5, #T_54e0d_row1_col6, #T_54e0d_row2_col0, #T_54e0d_row2_col1, #T_54e0d_row2_col2, #T_54e0d_row2_col3, #T_54e0d_row2_col4, #T_54e0d_row2_col5, #T_54e0d_row3_col0, #T_54e0d_row3_col1, #T_54e0d_row3_col2, #T_54e0d_row3_col3, #T_54e0d_row3_col4, #T_54e0d_row3_col5, #T_54e0d_row3_col6, #T_54e0d_row4_col0, #T_54e0d_row4_col1, #T_54e0d_row4_col2, #T_54e0d_row4_col3, #T_54e0d_row4_col4, #T_54e0d_row4_col6, #T_54e0d_row5_col0, #T_54e0d_row5_col1, #T_54e0d_row5_col2, #T_54e0d_row5_col3, #T_54e0d_row5_col4, #T_54e0d_row5_col5, #T_54e0d_row5_col6, #T_54e0d_row6_col0, #T_54e0d_row6_col1, #T_54e0d_row6_col2, #T_54e0d_row6_col3, #T_54e0d_row6_col4, #T_54e0d_row6_col5, #T_54e0d_row6_col6, #T_54e0d_row7_col0, #T_54e0d_row7_col1, #T_54e0d_row7_col2, #T_54e0d_row7_col3, #T_54e0d_row7_col4, #T_54e0d_row7_col5, #T_54e0d_row7_col6, #T_54e0d_row8_col0, #T_54e0d_row8_col1, #T_54e0d_row8_col2, #T_54e0d_row8_col3, #T_54e0d_row8_col4, #T_54e0d_row8_col5, #T_54e0d_row8_col6, #T_54e0d_row9_col0, #T_54e0d_row9_col1, #T_54e0d_row9_col2, #T_54e0d_row9_col3, #T_54e0d_row9_col4, #T_54e0d_row9_col5, #T_54e0d_row9_col6, #T_54e0d_row10_col0, #T_54e0d_row10_col1, #T_54e0d_row10_col2, #T_54e0d_row10_col3, #T_54e0d_row10_col4, #T_54e0d_row10_col5, #T_54e0d_row10_col6, #T_54e0d_row11_col0, #T_54e0d_row11_col1, #T_54e0d_row11_col2, #T_54e0d_row11_col3, #T_54e0d_row11_col4, #T_54e0d_row11_col5, #T_54e0d_row11_col6, #T_54e0d_row12_col0, #T_54e0d_row12_col1, #T_54e0d_row12_col2, #T_54e0d_row12_col3, #T_54e0d_row12_col4, #T_54e0d_row12_col5, #T_54e0d_row12_col6, #T_54e0d_row13_col0, #T_54e0d_row13_col1, #T_54e0d_row13_col2, #T_54e0d_row13_col3, #T_54e0d_row13_col4, #T_54e0d_row13_col5, #T_54e0d_row13_col6, #T_54e0d_row14_col0, #T_54e0d_row14_col1, #T_54e0d_row14_col2, #T_54e0d_row14_col3, #T_54e0d_row14_col4, #T_54e0d_row14_col5, #T_54e0d_row14_col6, #T_54e0d_row15_col0, #T_54e0d_row15_col1, #T_54e0d_row15_col2, #T_54e0d_row15_col3, #T_54e0d_row15_col4, #T_54e0d_row15_col5, #T_54e0d_row15_col6, #T_54e0d_row16_col0, #T_54e0d_row16_col1, #T_54e0d_row16_col2, #T_54e0d_row16_col3, #T_54e0d_row16_col4, #T_54e0d_row16_col5, #T_54e0d_row16_col6, #T_54e0d_row17_col0, #T_54e0d_row17_col1, #T_54e0d_row17_col2, #T_54e0d_row17_col3, #T_54e0d_row17_col4, #T_54e0d_row17_col5, #T_54e0d_row17_col6 {\n",
       "  text-align: left;\n",
       "}\n",
       "#T_54e0d_row0_col1, #T_54e0d_row0_col2, #T_54e0d_row0_col3, #T_54e0d_row0_col4, #T_54e0d_row2_col6, #T_54e0d_row4_col5 {\n",
       "  text-align: left;\n",
       "  background-color: yellow;\n",
       "}\n",
       "#T_54e0d_row0_col7, #T_54e0d_row1_col7, #T_54e0d_row2_col7, #T_54e0d_row3_col7, #T_54e0d_row4_col7, #T_54e0d_row6_col7, #T_54e0d_row7_col7, #T_54e0d_row8_col7, #T_54e0d_row9_col7, #T_54e0d_row10_col7, #T_54e0d_row11_col7, #T_54e0d_row12_col7, #T_54e0d_row13_col7, #T_54e0d_row14_col7, #T_54e0d_row15_col7, #T_54e0d_row16_col7, #T_54e0d_row17_col7 {\n",
       "  text-align: left;\n",
       "  background-color: lightgrey;\n",
       "}\n",
       "#T_54e0d_row5_col7 {\n",
       "  text-align: left;\n",
       "  background-color: yellow;\n",
       "  background-color: lightgrey;\n",
       "}\n",
       "</style>\n",
       "<table id=\"T_54e0d\">\n",
       "  <thead>\n",
       "    <tr>\n",
       "      <th class=\"blank level0\" >&nbsp;</th>\n",
       "      <th id=\"T_54e0d_level0_col0\" class=\"col_heading level0 col0\" >Model</th>\n",
       "      <th id=\"T_54e0d_level0_col1\" class=\"col_heading level0 col1\" >MAE</th>\n",
       "      <th id=\"T_54e0d_level0_col2\" class=\"col_heading level0 col2\" >MSE</th>\n",
       "      <th id=\"T_54e0d_level0_col3\" class=\"col_heading level0 col3\" >RMSE</th>\n",
       "      <th id=\"T_54e0d_level0_col4\" class=\"col_heading level0 col4\" >R2</th>\n",
       "      <th id=\"T_54e0d_level0_col5\" class=\"col_heading level0 col5\" >RMSLE</th>\n",
       "      <th id=\"T_54e0d_level0_col6\" class=\"col_heading level0 col6\" >MAPE</th>\n",
       "      <th id=\"T_54e0d_level0_col7\" class=\"col_heading level0 col7\" >TT (Sec)</th>\n",
       "    </tr>\n",
       "  </thead>\n",
       "  <tbody>\n",
       "    <tr>\n",
       "      <th id=\"T_54e0d_level0_row0\" class=\"row_heading level0 row0\" >gbr</th>\n",
       "      <td id=\"T_54e0d_row0_col0\" class=\"data row0 col0\" >Gradient Boosting Regressor</td>\n",
       "      <td id=\"T_54e0d_row0_col1\" class=\"data row0 col1\" >5.1595</td>\n",
       "      <td id=\"T_54e0d_row0_col2\" class=\"data row0 col2\" >44.9801</td>\n",
       "      <td id=\"T_54e0d_row0_col3\" class=\"data row0 col3\" >6.5699</td>\n",
       "      <td id=\"T_54e0d_row0_col4\" class=\"data row0 col4\" >0.5168</td>\n",
       "      <td id=\"T_54e0d_row0_col5\" class=\"data row0 col5\" >0.3538</td>\n",
       "      <td id=\"T_54e0d_row0_col6\" class=\"data row0 col6\" >0.3348</td>\n",
       "      <td id=\"T_54e0d_row0_col7\" class=\"data row0 col7\" >0.2567</td>\n",
       "    </tr>\n",
       "    <tr>\n",
       "      <th id=\"T_54e0d_level0_row1\" class=\"row_heading level0 row1\" >br</th>\n",
       "      <td id=\"T_54e0d_row1_col0\" class=\"data row1 col0\" >Bayesian Ridge</td>\n",
       "      <td id=\"T_54e0d_row1_col1\" class=\"data row1 col1\" >5.1981</td>\n",
       "      <td id=\"T_54e0d_row1_col2\" class=\"data row1 col2\" >46.1058</td>\n",
       "      <td id=\"T_54e0d_row1_col3\" class=\"data row1 col3\" >6.6448</td>\n",
       "      <td id=\"T_54e0d_row1_col4\" class=\"data row1 col4\" >0.5024</td>\n",
       "      <td id=\"T_54e0d_row1_col5\" class=\"data row1 col5\" >0.3532</td>\n",
       "      <td id=\"T_54e0d_row1_col6\" class=\"data row1 col6\" >0.3301</td>\n",
       "      <td id=\"T_54e0d_row1_col7\" class=\"data row1 col7\" >0.0825</td>\n",
       "    </tr>\n",
       "    <tr>\n",
       "      <th id=\"T_54e0d_level0_row2\" class=\"row_heading level0 row2\" >huber</th>\n",
       "      <td id=\"T_54e0d_row2_col0\" class=\"data row2 col0\" >Huber Regressor</td>\n",
       "      <td id=\"T_54e0d_row2_col1\" class=\"data row2 col1\" >5.1993</td>\n",
       "      <td id=\"T_54e0d_row2_col2\" class=\"data row2 col2\" >46.6591</td>\n",
       "      <td id=\"T_54e0d_row2_col3\" class=\"data row2 col3\" >6.6766</td>\n",
       "      <td id=\"T_54e0d_row2_col4\" class=\"data row2 col4\" >0.5010</td>\n",
       "      <td id=\"T_54e0d_row2_col5\" class=\"data row2 col5\" >0.3513</td>\n",
       "      <td id=\"T_54e0d_row2_col6\" class=\"data row2 col6\" >0.3106</td>\n",
       "      <td id=\"T_54e0d_row2_col7\" class=\"data row2 col7\" >0.0950</td>\n",
       "    </tr>\n",
       "    <tr>\n",
       "      <th id=\"T_54e0d_level0_row3\" class=\"row_heading level0 row3\" >et</th>\n",
       "      <td id=\"T_54e0d_row3_col0\" class=\"data row3 col0\" >Extra Trees Regressor</td>\n",
       "      <td id=\"T_54e0d_row3_col1\" class=\"data row3 col1\" >5.2772</td>\n",
       "      <td id=\"T_54e0d_row3_col2\" class=\"data row3 col2\" >47.5640</td>\n",
       "      <td id=\"T_54e0d_row3_col3\" class=\"data row3 col3\" >6.7213</td>\n",
       "      <td id=\"T_54e0d_row3_col4\" class=\"data row3 col4\" >0.5008</td>\n",
       "      <td id=\"T_54e0d_row3_col5\" class=\"data row3 col5\" >0.3525</td>\n",
       "      <td id=\"T_54e0d_row3_col6\" class=\"data row3 col6\" >0.3399</td>\n",
       "      <td id=\"T_54e0d_row3_col7\" class=\"data row3 col7\" >0.2667</td>\n",
       "    </tr>\n",
       "    <tr>\n",
       "      <th id=\"T_54e0d_level0_row4\" class=\"row_heading level0 row4\" >llar</th>\n",
       "      <td id=\"T_54e0d_row4_col0\" class=\"data row4 col0\" >Lasso Least Angle Regression</td>\n",
       "      <td id=\"T_54e0d_row4_col1\" class=\"data row4 col1\" >5.2160</td>\n",
       "      <td id=\"T_54e0d_row4_col2\" class=\"data row4 col2\" >46.3843</td>\n",
       "      <td id=\"T_54e0d_row4_col3\" class=\"data row4 col3\" >6.6633</td>\n",
       "      <td id=\"T_54e0d_row4_col4\" class=\"data row4 col4\" >0.4975</td>\n",
       "      <td id=\"T_54e0d_row4_col5\" class=\"data row4 col5\" >0.3509</td>\n",
       "      <td id=\"T_54e0d_row4_col6\" class=\"data row4 col6\" >0.3294</td>\n",
       "      <td id=\"T_54e0d_row4_col7\" class=\"data row4 col7\" >0.0825</td>\n",
       "    </tr>\n",
       "    <tr>\n",
       "      <th id=\"T_54e0d_level0_row5\" class=\"row_heading level0 row5\" >omp</th>\n",
       "      <td id=\"T_54e0d_row5_col0\" class=\"data row5 col0\" >Orthogonal Matching Pursuit</td>\n",
       "      <td id=\"T_54e0d_row5_col1\" class=\"data row5 col1\" >5.2183</td>\n",
       "      <td id=\"T_54e0d_row5_col2\" class=\"data row5 col2\" >46.3941</td>\n",
       "      <td id=\"T_54e0d_row5_col3\" class=\"data row5 col3\" >6.6682</td>\n",
       "      <td id=\"T_54e0d_row5_col4\" class=\"data row5 col4\" >0.4964</td>\n",
       "      <td id=\"T_54e0d_row5_col5\" class=\"data row5 col5\" >0.3525</td>\n",
       "      <td id=\"T_54e0d_row5_col6\" class=\"data row5 col6\" >0.3318</td>\n",
       "      <td id=\"T_54e0d_row5_col7\" class=\"data row5 col7\" >0.0792</td>\n",
       "    </tr>\n",
       "    <tr>\n",
       "      <th id=\"T_54e0d_level0_row6\" class=\"row_heading level0 row6\" >lasso</th>\n",
       "      <td id=\"T_54e0d_row6_col0\" class=\"data row6 col0\" >Lasso Regression</td>\n",
       "      <td id=\"T_54e0d_row6_col1\" class=\"data row6 col1\" >5.2179</td>\n",
       "      <td id=\"T_54e0d_row6_col2\" class=\"data row6 col2\" >46.5413</td>\n",
       "      <td id=\"T_54e0d_row6_col3\" class=\"data row6 col3\" >6.6757</td>\n",
       "      <td id=\"T_54e0d_row6_col4\" class=\"data row6 col4\" >0.4945</td>\n",
       "      <td id=\"T_54e0d_row6_col5\" class=\"data row6 col5\" >0.3522</td>\n",
       "      <td id=\"T_54e0d_row6_col6\" class=\"data row6 col6\" >0.3297</td>\n",
       "      <td id=\"T_54e0d_row6_col7\" class=\"data row6 col7\" >0.0975</td>\n",
       "    </tr>\n",
       "    <tr>\n",
       "      <th id=\"T_54e0d_level0_row7\" class=\"row_heading level0 row7\" >ada</th>\n",
       "      <td id=\"T_54e0d_row7_col0\" class=\"data row7 col0\" >AdaBoost Regressor</td>\n",
       "      <td id=\"T_54e0d_row7_col1\" class=\"data row7 col1\" >5.4321</td>\n",
       "      <td id=\"T_54e0d_row7_col2\" class=\"data row7 col2\" >48.3251</td>\n",
       "      <td id=\"T_54e0d_row7_col3\" class=\"data row7 col3\" >6.8064</td>\n",
       "      <td id=\"T_54e0d_row7_col4\" class=\"data row7 col4\" >0.4920</td>\n",
       "      <td id=\"T_54e0d_row7_col5\" class=\"data row7 col5\" >0.3643</td>\n",
       "      <td id=\"T_54e0d_row7_col6\" class=\"data row7 col6\" >0.3635</td>\n",
       "      <td id=\"T_54e0d_row7_col7\" class=\"data row7 col7\" >0.1675</td>\n",
       "    </tr>\n",
       "    <tr>\n",
       "      <th id=\"T_54e0d_level0_row8\" class=\"row_heading level0 row8\" >lightgbm</th>\n",
       "      <td id=\"T_54e0d_row8_col0\" class=\"data row8 col0\" >Light Gradient Boosting Machine</td>\n",
       "      <td id=\"T_54e0d_row8_col1\" class=\"data row8 col1\" >5.3598</td>\n",
       "      <td id=\"T_54e0d_row8_col2\" class=\"data row8 col2\" >47.7076</td>\n",
       "      <td id=\"T_54e0d_row8_col3\" class=\"data row8 col3\" >6.7886</td>\n",
       "      <td id=\"T_54e0d_row8_col4\" class=\"data row8 col4\" >0.4909</td>\n",
       "      <td id=\"T_54e0d_row8_col5\" class=\"data row8 col5\" >0.3614</td>\n",
       "      <td id=\"T_54e0d_row8_col6\" class=\"data row8 col6\" >0.3415</td>\n",
       "      <td id=\"T_54e0d_row8_col7\" class=\"data row8 col7\" >0.2083</td>\n",
       "    </tr>\n",
       "    <tr>\n",
       "      <th id=\"T_54e0d_level0_row9\" class=\"row_heading level0 row9\" >rf</th>\n",
       "      <td id=\"T_54e0d_row9_col0\" class=\"data row9 col0\" >Random Forest Regressor</td>\n",
       "      <td id=\"T_54e0d_row9_col1\" class=\"data row9 col1\" >5.3624</td>\n",
       "      <td id=\"T_54e0d_row9_col2\" class=\"data row9 col2\" >48.1669</td>\n",
       "      <td id=\"T_54e0d_row9_col3\" class=\"data row9 col3\" >6.7880</td>\n",
       "      <td id=\"T_54e0d_row9_col4\" class=\"data row9 col4\" >0.4904</td>\n",
       "      <td id=\"T_54e0d_row9_col5\" class=\"data row9 col5\" >0.3589</td>\n",
       "      <td id=\"T_54e0d_row9_col6\" class=\"data row9 col6\" >0.3495</td>\n",
       "      <td id=\"T_54e0d_row9_col7\" class=\"data row9 col7\" >0.3717</td>\n",
       "    </tr>\n",
       "    <tr>\n",
       "      <th id=\"T_54e0d_level0_row10\" class=\"row_heading level0 row10\" >en</th>\n",
       "      <td id=\"T_54e0d_row10_col0\" class=\"data row10 col0\" >Elastic Net</td>\n",
       "      <td id=\"T_54e0d_row10_col1\" class=\"data row10 col1\" >5.2205</td>\n",
       "      <td id=\"T_54e0d_row10_col2\" class=\"data row10 col2\" >46.8940</td>\n",
       "      <td id=\"T_54e0d_row10_col3\" class=\"data row10 col3\" >6.7069</td>\n",
       "      <td id=\"T_54e0d_row10_col4\" class=\"data row10 col4\" >0.4877</td>\n",
       "      <td id=\"T_54e0d_row10_col5\" class=\"data row10 col5\" >0.3571</td>\n",
       "      <td id=\"T_54e0d_row10_col6\" class=\"data row10 col6\" >0.3296</td>\n",
       "      <td id=\"T_54e0d_row10_col7\" class=\"data row10 col7\" >0.0942</td>\n",
       "    </tr>\n",
       "    <tr>\n",
       "      <th id=\"T_54e0d_level0_row11\" class=\"row_heading level0 row11\" >ridge</th>\n",
       "      <td id=\"T_54e0d_row11_col0\" class=\"data row11 col0\" >Ridge Regression</td>\n",
       "      <td id=\"T_54e0d_row11_col1\" class=\"data row11 col1\" >5.4594</td>\n",
       "      <td id=\"T_54e0d_row11_col2\" class=\"data row11 col2\" >50.5247</td>\n",
       "      <td id=\"T_54e0d_row11_col3\" class=\"data row11 col3\" >6.9986</td>\n",
       "      <td id=\"T_54e0d_row11_col4\" class=\"data row11 col4\" >0.4436</td>\n",
       "      <td id=\"T_54e0d_row11_col5\" class=\"data row11 col5\" >0.3882</td>\n",
       "      <td id=\"T_54e0d_row11_col6\" class=\"data row11 col6\" >0.3423</td>\n",
       "      <td id=\"T_54e0d_row11_col7\" class=\"data row11 col7\" >0.0883</td>\n",
       "    </tr>\n",
       "    <tr>\n",
       "      <th id=\"T_54e0d_level0_row12\" class=\"row_heading level0 row12\" >lr</th>\n",
       "      <td id=\"T_54e0d_row12_col0\" class=\"data row12 col0\" >Linear Regression</td>\n",
       "      <td id=\"T_54e0d_row12_col1\" class=\"data row12 col1\" >5.7371</td>\n",
       "      <td id=\"T_54e0d_row12_col2\" class=\"data row12 col2\" >54.1542</td>\n",
       "      <td id=\"T_54e0d_row12_col3\" class=\"data row12 col3\" >7.2099</td>\n",
       "      <td id=\"T_54e0d_row12_col4\" class=\"data row12 col4\" >0.4092</td>\n",
       "      <td id=\"T_54e0d_row12_col5\" class=\"data row12 col5\" >0.3960</td>\n",
       "      <td id=\"T_54e0d_row12_col6\" class=\"data row12 col6\" >0.3493</td>\n",
       "      <td id=\"T_54e0d_row12_col7\" class=\"data row12 col7\" >0.8067</td>\n",
       "    </tr>\n",
       "    <tr>\n",
       "      <th id=\"T_54e0d_level0_row13\" class=\"row_heading level0 row13\" >knn</th>\n",
       "      <td id=\"T_54e0d_row13_col0\" class=\"data row13 col0\" >K Neighbors Regressor</td>\n",
       "      <td id=\"T_54e0d_row13_col1\" class=\"data row13 col1\" >5.7964</td>\n",
       "      <td id=\"T_54e0d_row13_col2\" class=\"data row13 col2\" >57.3339</td>\n",
       "      <td id=\"T_54e0d_row13_col3\" class=\"data row13 col3\" >7.4354</td>\n",
       "      <td id=\"T_54e0d_row13_col4\" class=\"data row13 col4\" >0.3787</td>\n",
       "      <td id=\"T_54e0d_row13_col5\" class=\"data row13 col5\" >0.3799</td>\n",
       "      <td id=\"T_54e0d_row13_col6\" class=\"data row13 col6\" >0.3679</td>\n",
       "      <td id=\"T_54e0d_row13_col7\" class=\"data row13 col7\" >0.1075</td>\n",
       "    </tr>\n",
       "    <tr>\n",
       "      <th id=\"T_54e0d_level0_row14\" class=\"row_heading level0 row14\" >dt</th>\n",
       "      <td id=\"T_54e0d_row14_col0\" class=\"data row14 col0\" >Decision Tree Regressor</td>\n",
       "      <td id=\"T_54e0d_row14_col1\" class=\"data row14 col1\" >7.5316</td>\n",
       "      <td id=\"T_54e0d_row14_col2\" class=\"data row14 col2\" >93.4173</td>\n",
       "      <td id=\"T_54e0d_row14_col3\" class=\"data row14 col3\" >9.5184</td>\n",
       "      <td id=\"T_54e0d_row14_col4\" class=\"data row14 col4\" >-0.0179</td>\n",
       "      <td id=\"T_54e0d_row14_col5\" class=\"data row14 col5\" >0.4783</td>\n",
       "      <td id=\"T_54e0d_row14_col6\" class=\"data row14 col6\" >0.4628</td>\n",
       "      <td id=\"T_54e0d_row14_col7\" class=\"data row14 col7\" >0.0850</td>\n",
       "    </tr>\n",
       "    <tr>\n",
       "      <th id=\"T_54e0d_level0_row15\" class=\"row_heading level0 row15\" >dummy</th>\n",
       "      <td id=\"T_54e0d_row15_col0\" class=\"data row15 col0\" >Dummy Regressor</td>\n",
       "      <td id=\"T_54e0d_row15_col1\" class=\"data row15 col1\" >7.8491</td>\n",
       "      <td id=\"T_54e0d_row15_col2\" class=\"data row15 col2\" >100.1918</td>\n",
       "      <td id=\"T_54e0d_row15_col3\" class=\"data row15 col3\" >9.8620</td>\n",
       "      <td id=\"T_54e0d_row15_col4\" class=\"data row15 col4\" >-0.0474</td>\n",
       "      <td id=\"T_54e0d_row15_col5\" class=\"data row15 col5\" >0.4974</td>\n",
       "      <td id=\"T_54e0d_row15_col6\" class=\"data row15 col6\" >0.5454</td>\n",
       "      <td id=\"T_54e0d_row15_col7\" class=\"data row15 col7\" >0.0842</td>\n",
       "    </tr>\n",
       "    <tr>\n",
       "      <th id=\"T_54e0d_level0_row16\" class=\"row_heading level0 row16\" >par</th>\n",
       "      <td id=\"T_54e0d_row16_col0\" class=\"data row16 col0\" >Passive Aggressive Regressor</td>\n",
       "      <td id=\"T_54e0d_row16_col1\" class=\"data row16 col1\" >8.5028</td>\n",
       "      <td id=\"T_54e0d_row16_col2\" class=\"data row16 col2\" >121.1673</td>\n",
       "      <td id=\"T_54e0d_row16_col3\" class=\"data row16 col3\" >10.5512</td>\n",
       "      <td id=\"T_54e0d_row16_col4\" class=\"data row16 col4\" >-0.2443</td>\n",
       "      <td id=\"T_54e0d_row16_col5\" class=\"data row16 col5\" >0.5480</td>\n",
       "      <td id=\"T_54e0d_row16_col6\" class=\"data row16 col6\" >0.5145</td>\n",
       "      <td id=\"T_54e0d_row16_col7\" class=\"data row16 col7\" >0.0900</td>\n",
       "    </tr>\n",
       "    <tr>\n",
       "      <th id=\"T_54e0d_level0_row17\" class=\"row_heading level0 row17\" >lar</th>\n",
       "      <td id=\"T_54e0d_row17_col0\" class=\"data row17 col0\" >Least Angle Regression</td>\n",
       "      <td id=\"T_54e0d_row17_col1\" class=\"data row17 col1\" >3196319418742.8774</td>\n",
       "      <td id=\"T_54e0d_row17_col2\" class=\"data row17 col2\" >174935311491448764295544832.0000</td>\n",
       "      <td id=\"T_54e0d_row17_col3\" class=\"data row17 col3\" >3837796701394.5850</td>\n",
       "      <td id=\"T_54e0d_row17_col4\" class=\"data row17 col4\" >-2143735281192444543107072.0000</td>\n",
       "      <td id=\"T_54e0d_row17_col5\" class=\"data row17 col5\" >19.4939</td>\n",
       "      <td id=\"T_54e0d_row17_col6\" class=\"data row17 col6\" >256940147809.7530</td>\n",
       "      <td id=\"T_54e0d_row17_col7\" class=\"data row17 col7\" >0.0850</td>\n",
       "    </tr>\n",
       "  </tbody>\n",
       "</table>\n"
      ],
      "text/plain": [
       "<pandas.io.formats.style.Styler at 0x2515b154510>"
      ]
     },
     "metadata": {},
     "output_type": "display_data"
    },
    {
     "data": {
      "text/html": [],
      "text/plain": [
       "<IPython.core.display.HTML object>"
      ]
     },
     "metadata": {},
     "output_type": "display_data"
    }
   ],
   "source": [
    "# compare baseline models\n",
    "best = exp1.compare_models(n_select=15)"
   ]
  },
  {
   "cell_type": "code",
   "execution_count": null,
   "metadata": {},
   "outputs": [
    {
     "data": {
      "text/html": [],
      "text/plain": [
       "<IPython.core.display.HTML object>"
      ]
     },
     "metadata": {},
     "output_type": "display_data"
    },
    {
     "data": {
      "text/html": [
       "<style type=\"text/css\">\n",
       "#T_15476_row12_col0, #T_15476_row12_col1, #T_15476_row12_col2, #T_15476_row12_col3, #T_15476_row12_col4, #T_15476_row12_col5 {\n",
       "  background: yellow;\n",
       "}\n",
       "</style>\n",
       "<table id=\"T_15476\">\n",
       "  <thead>\n",
       "    <tr>\n",
       "      <th class=\"blank level0\" >&nbsp;</th>\n",
       "      <th id=\"T_15476_level0_col0\" class=\"col_heading level0 col0\" >MAE</th>\n",
       "      <th id=\"T_15476_level0_col1\" class=\"col_heading level0 col1\" >MSE</th>\n",
       "      <th id=\"T_15476_level0_col2\" class=\"col_heading level0 col2\" >RMSE</th>\n",
       "      <th id=\"T_15476_level0_col3\" class=\"col_heading level0 col3\" >R2</th>\n",
       "      <th id=\"T_15476_level0_col4\" class=\"col_heading level0 col4\" >RMSLE</th>\n",
       "      <th id=\"T_15476_level0_col5\" class=\"col_heading level0 col5\" >MAPE</th>\n",
       "    </tr>\n",
       "    <tr>\n",
       "      <th class=\"index_name level0\" >Fold</th>\n",
       "      <th class=\"blank col0\" >&nbsp;</th>\n",
       "      <th class=\"blank col1\" >&nbsp;</th>\n",
       "      <th class=\"blank col2\" >&nbsp;</th>\n",
       "      <th class=\"blank col3\" >&nbsp;</th>\n",
       "      <th class=\"blank col4\" >&nbsp;</th>\n",
       "      <th class=\"blank col5\" >&nbsp;</th>\n",
       "    </tr>\n",
       "  </thead>\n",
       "  <tbody>\n",
       "    <tr>\n",
       "      <th id=\"T_15476_level0_row0\" class=\"row_heading level0 row0\" >0</th>\n",
       "      <td id=\"T_15476_row0_col0\" class=\"data row0 col0\" >4.2751</td>\n",
       "      <td id=\"T_15476_row0_col1\" class=\"data row0 col1\" >29.2687</td>\n",
       "      <td id=\"T_15476_row0_col2\" class=\"data row0 col2\" >5.4101</td>\n",
       "      <td id=\"T_15476_row0_col3\" class=\"data row0 col3\" >0.6781</td>\n",
       "      <td id=\"T_15476_row0_col4\" class=\"data row0 col4\" >0.3155</td>\n",
       "      <td id=\"T_15476_row0_col5\" class=\"data row0 col5\" >0.2924</td>\n",
       "    </tr>\n",
       "    <tr>\n",
       "      <th id=\"T_15476_level0_row1\" class=\"row_heading level0 row1\" >1</th>\n",
       "      <td id=\"T_15476_row1_col0\" class=\"data row1 col0\" >7.4589</td>\n",
       "      <td id=\"T_15476_row1_col1\" class=\"data row1 col1\" >102.5610</td>\n",
       "      <td id=\"T_15476_row1_col2\" class=\"data row1 col2\" >10.1272</td>\n",
       "      <td id=\"T_15476_row1_col3\" class=\"data row1 col3\" >0.4350</td>\n",
       "      <td id=\"T_15476_row1_col4\" class=\"data row1 col4\" >0.4087</td>\n",
       "      <td id=\"T_15476_row1_col5\" class=\"data row1 col5\" >0.3495</td>\n",
       "    </tr>\n",
       "    <tr>\n",
       "      <th id=\"T_15476_level0_row2\" class=\"row_heading level0 row2\" >2</th>\n",
       "      <td id=\"T_15476_row2_col0\" class=\"data row2 col0\" >4.3686</td>\n",
       "      <td id=\"T_15476_row2_col1\" class=\"data row2 col1\" >25.0092</td>\n",
       "      <td id=\"T_15476_row2_col2\" class=\"data row2 col2\" >5.0009</td>\n",
       "      <td id=\"T_15476_row2_col3\" class=\"data row2 col3\" >0.6583</td>\n",
       "      <td id=\"T_15476_row2_col4\" class=\"data row2 col4\" >0.3787</td>\n",
       "      <td id=\"T_15476_row2_col5\" class=\"data row2 col5\" >0.4239</td>\n",
       "    </tr>\n",
       "    <tr>\n",
       "      <th id=\"T_15476_level0_row3\" class=\"row_heading level0 row3\" >3</th>\n",
       "      <td id=\"T_15476_row3_col0\" class=\"data row3 col0\" >6.2326</td>\n",
       "      <td id=\"T_15476_row3_col1\" class=\"data row3 col1\" >58.5038</td>\n",
       "      <td id=\"T_15476_row3_col2\" class=\"data row3 col2\" >7.6488</td>\n",
       "      <td id=\"T_15476_row3_col3\" class=\"data row3 col3\" >0.4792</td>\n",
       "      <td id=\"T_15476_row3_col4\" class=\"data row3 col4\" >0.4179</td>\n",
       "      <td id=\"T_15476_row3_col5\" class=\"data row3 col5\" >0.4467</td>\n",
       "    </tr>\n",
       "    <tr>\n",
       "      <th id=\"T_15476_level0_row4\" class=\"row_heading level0 row4\" >4</th>\n",
       "      <td id=\"T_15476_row4_col0\" class=\"data row4 col0\" >4.4886</td>\n",
       "      <td id=\"T_15476_row4_col1\" class=\"data row4 col1\" >50.3249</td>\n",
       "      <td id=\"T_15476_row4_col2\" class=\"data row4 col2\" >7.0940</td>\n",
       "      <td id=\"T_15476_row4_col3\" class=\"data row4 col3\" >0.5159</td>\n",
       "      <td id=\"T_15476_row4_col4\" class=\"data row4 col4\" >0.2881</td>\n",
       "      <td id=\"T_15476_row4_col5\" class=\"data row4 col5\" >0.2198</td>\n",
       "    </tr>\n",
       "    <tr>\n",
       "      <th id=\"T_15476_level0_row5\" class=\"row_heading level0 row5\" >5</th>\n",
       "      <td id=\"T_15476_row5_col0\" class=\"data row5 col0\" >5.3013</td>\n",
       "      <td id=\"T_15476_row5_col1\" class=\"data row5 col1\" >45.3702</td>\n",
       "      <td id=\"T_15476_row5_col2\" class=\"data row5 col2\" >6.7357</td>\n",
       "      <td id=\"T_15476_row5_col3\" class=\"data row5 col3\" >0.2437</td>\n",
       "      <td id=\"T_15476_row5_col4\" class=\"data row5 col4\" >0.4059</td>\n",
       "      <td id=\"T_15476_row5_col5\" class=\"data row5 col5\" >0.4214</td>\n",
       "    </tr>\n",
       "    <tr>\n",
       "      <th id=\"T_15476_level0_row6\" class=\"row_heading level0 row6\" >6</th>\n",
       "      <td id=\"T_15476_row6_col0\" class=\"data row6 col0\" >5.4068</td>\n",
       "      <td id=\"T_15476_row6_col1\" class=\"data row6 col1\" >44.9082</td>\n",
       "      <td id=\"T_15476_row6_col2\" class=\"data row6 col2\" >6.7014</td>\n",
       "      <td id=\"T_15476_row6_col3\" class=\"data row6 col3\" >0.2663</td>\n",
       "      <td id=\"T_15476_row6_col4\" class=\"data row6 col4\" >0.3746</td>\n",
       "      <td id=\"T_15476_row6_col5\" class=\"data row6 col5\" >0.3776</td>\n",
       "    </tr>\n",
       "    <tr>\n",
       "      <th id=\"T_15476_level0_row7\" class=\"row_heading level0 row7\" >7</th>\n",
       "      <td id=\"T_15476_row7_col0\" class=\"data row7 col0\" >5.9000</td>\n",
       "      <td id=\"T_15476_row7_col1\" class=\"data row7 col1\" >52.3102</td>\n",
       "      <td id=\"T_15476_row7_col2\" class=\"data row7 col2\" >7.2326</td>\n",
       "      <td id=\"T_15476_row7_col3\" class=\"data row7 col3\" >0.5883</td>\n",
       "      <td id=\"T_15476_row7_col4\" class=\"data row7 col4\" >0.3890</td>\n",
       "      <td id=\"T_15476_row7_col5\" class=\"data row7 col5\" >0.4082</td>\n",
       "    </tr>\n",
       "    <tr>\n",
       "      <th id=\"T_15476_level0_row8\" class=\"row_heading level0 row8\" >8</th>\n",
       "      <td id=\"T_15476_row8_col0\" class=\"data row8 col0\" >4.5732</td>\n",
       "      <td id=\"T_15476_row8_col1\" class=\"data row8 col1\" >31.0164</td>\n",
       "      <td id=\"T_15476_row8_col2\" class=\"data row8 col2\" >5.5692</td>\n",
       "      <td id=\"T_15476_row8_col3\" class=\"data row8 col3\" >0.6000</td>\n",
       "      <td id=\"T_15476_row8_col4\" class=\"data row8 col4\" >0.2900</td>\n",
       "      <td id=\"T_15476_row8_col5\" class=\"data row8 col5\" >0.2787</td>\n",
       "    </tr>\n",
       "    <tr>\n",
       "      <th id=\"T_15476_level0_row9\" class=\"row_heading level0 row9\" >9</th>\n",
       "      <td id=\"T_15476_row9_col0\" class=\"data row9 col0\" >4.8887</td>\n",
       "      <td id=\"T_15476_row9_col1\" class=\"data row9 col1\" >38.6003</td>\n",
       "      <td id=\"T_15476_row9_col2\" class=\"data row9 col2\" >6.2129</td>\n",
       "      <td id=\"T_15476_row9_col3\" class=\"data row9 col3\" >0.6236</td>\n",
       "      <td id=\"T_15476_row9_col4\" class=\"data row9 col4\" >0.3038</td>\n",
       "      <td id=\"T_15476_row9_col5\" class=\"data row9 col5\" >0.2446</td>\n",
       "    </tr>\n",
       "    <tr>\n",
       "      <th id=\"T_15476_level0_row10\" class=\"row_heading level0 row10\" >10</th>\n",
       "      <td id=\"T_15476_row10_col0\" class=\"data row10 col0\" >4.9141</td>\n",
       "      <td id=\"T_15476_row10_col1\" class=\"data row10 col1\" >32.8959</td>\n",
       "      <td id=\"T_15476_row10_col2\" class=\"data row10 col2\" >5.7355</td>\n",
       "      <td id=\"T_15476_row10_col3\" class=\"data row10 col3\" >0.5969</td>\n",
       "      <td id=\"T_15476_row10_col4\" class=\"data row10 col4\" >0.3577</td>\n",
       "      <td id=\"T_15476_row10_col5\" class=\"data row10 col5\" >0.3766</td>\n",
       "    </tr>\n",
       "    <tr>\n",
       "      <th id=\"T_15476_level0_row11\" class=\"row_heading level0 row11\" >11</th>\n",
       "      <td id=\"T_15476_row11_col0\" class=\"data row11 col0\" >5.0961</td>\n",
       "      <td id=\"T_15476_row11_col1\" class=\"data row11 col1\" >41.8914</td>\n",
       "      <td id=\"T_15476_row11_col2\" class=\"data row11 col2\" >6.4724</td>\n",
       "      <td id=\"T_15476_row11_col3\" class=\"data row11 col3\" >0.4060</td>\n",
       "      <td id=\"T_15476_row11_col4\" class=\"data row11 col4\" >0.2992</td>\n",
       "      <td id=\"T_15476_row11_col5\" class=\"data row11 col5\" >0.2627</td>\n",
       "    </tr>\n",
       "    <tr>\n",
       "      <th id=\"T_15476_level0_row12\" class=\"row_heading level0 row12\" >Mean</th>\n",
       "      <td id=\"T_15476_row12_col0\" class=\"data row12 col0\" >5.2420</td>\n",
       "      <td id=\"T_15476_row12_col1\" class=\"data row12 col1\" >46.0550</td>\n",
       "      <td id=\"T_15476_row12_col2\" class=\"data row12 col2\" >6.6617</td>\n",
       "      <td id=\"T_15476_row12_col3\" class=\"data row12 col3\" >0.5076</td>\n",
       "      <td id=\"T_15476_row12_col4\" class=\"data row12 col4\" >0.3524</td>\n",
       "      <td id=\"T_15476_row12_col5\" class=\"data row12 col5\" >0.3419</td>\n",
       "    </tr>\n",
       "    <tr>\n",
       "      <th id=\"T_15476_level0_row13\" class=\"row_heading level0 row13\" >Std</th>\n",
       "      <td id=\"T_15476_row13_col0\" class=\"data row13 col0\" >0.8816</td>\n",
       "      <td id=\"T_15476_row13_col1\" class=\"data row13 col1\" >19.5874</td>\n",
       "      <td id=\"T_15476_row13_col2\" class=\"data row13 col2\" >1.2948</td>\n",
       "      <td id=\"T_15476_row13_col3\" class=\"data row13 col3\" >0.1392</td>\n",
       "      <td id=\"T_15476_row13_col4\" class=\"data row13 col4\" >0.0478</td>\n",
       "      <td id=\"T_15476_row13_col5\" class=\"data row13 col5\" >0.0753</td>\n",
       "    </tr>\n",
       "  </tbody>\n",
       "</table>\n"
      ],
      "text/plain": [
       "<pandas.io.formats.style.Styler at 0x251518f68d0>"
      ]
     },
     "metadata": {},
     "output_type": "display_data"
    },
    {
     "data": {
      "text/html": [],
      "text/plain": [
       "<IPython.core.display.HTML object>"
      ]
     },
     "metadata": {},
     "output_type": "display_data"
    }
   ],
   "source": [
    "# model_1 = exp1.create_model('rf')\n",
    "model_1 = exp1.create_model('rf')"
   ]
  },
  {
   "cell_type": "code",
   "execution_count": null,
   "metadata": {},
   "outputs": [
    {
     "data": {
      "text/html": [],
      "text/plain": [
       "<IPython.core.display.HTML object>"
      ]
     },
     "metadata": {},
     "output_type": "display_data"
    },
    {
     "data": {
      "text/html": [
       "<div>\n",
       "<style scoped>\n",
       "    .dataframe tbody tr th:only-of-type {\n",
       "        vertical-align: middle;\n",
       "    }\n",
       "\n",
       "    .dataframe tbody tr th {\n",
       "        vertical-align: top;\n",
       "    }\n",
       "\n",
       "    .dataframe thead th {\n",
       "        text-align: right;\n",
       "    }\n",
       "</style>\n",
       "<table border=\"1\" class=\"dataframe\">\n",
       "  <thead>\n",
       "    <tr style=\"text-align: right;\">\n",
       "      <th></th>\n",
       "      <th>humidity</th>\n",
       "      <th>temperature</th>\n",
       "      <th>year</th>\n",
       "      <th>month</th>\n",
       "      <th>day</th>\n",
       "      <th>day_of_week</th>\n",
       "      <th>week_of_year</th>\n",
       "      <th>season</th>\n",
       "      <th>dew_point</th>\n",
       "      <th>is_weekend</th>\n",
       "      <th>...</th>\n",
       "      <th>pm_2_5_lag_14</th>\n",
       "      <th>humidity_lag_1</th>\n",
       "      <th>humidity_lag_2</th>\n",
       "      <th>humidity_lag_3</th>\n",
       "      <th>humidity_lag_7</th>\n",
       "      <th>temperature_lag_1</th>\n",
       "      <th>temperature_lag_2</th>\n",
       "      <th>temperature_lag_3</th>\n",
       "      <th>temperature_lag_7</th>\n",
       "      <th>prediction_label</th>\n",
       "    </tr>\n",
       "    <tr>\n",
       "      <th>timestamp</th>\n",
       "      <th></th>\n",
       "      <th></th>\n",
       "      <th></th>\n",
       "      <th></th>\n",
       "      <th></th>\n",
       "      <th></th>\n",
       "      <th></th>\n",
       "      <th></th>\n",
       "      <th></th>\n",
       "      <th></th>\n",
       "      <th></th>\n",
       "      <th></th>\n",
       "      <th></th>\n",
       "      <th></th>\n",
       "      <th></th>\n",
       "      <th></th>\n",
       "      <th></th>\n",
       "      <th></th>\n",
       "      <th></th>\n",
       "      <th></th>\n",
       "      <th></th>\n",
       "    </tr>\n",
       "  </thead>\n",
       "  <tbody>\n",
       "    <tr>\n",
       "      <th>2025-01-13 07:00:00</th>\n",
       "      <td>78.292206</td>\n",
       "      <td>25.997341</td>\n",
       "      <td>2025</td>\n",
       "      <td>1</td>\n",
       "      <td>13</td>\n",
       "      <td>0</td>\n",
       "      <td>3</td>\n",
       "      <td>2</td>\n",
       "      <td>21.655781</td>\n",
       "      <td>0</td>\n",
       "      <td>...</td>\n",
       "      <td>10.602564</td>\n",
       "      <td>85.379807</td>\n",
       "      <td>73.568382</td>\n",
       "      <td>70.491486</td>\n",
       "      <td>72.844643</td>\n",
       "      <td>25.434973</td>\n",
       "      <td>28.357460</td>\n",
       "      <td>28.945705</td>\n",
       "      <td>28.825508</td>\n",
       "      <td>29.148905</td>\n",
       "    </tr>\n",
       "    <tr>\n",
       "      <th>2025-01-14 07:00:00</th>\n",
       "      <td>74.887207</td>\n",
       "      <td>26.780884</td>\n",
       "      <td>2025</td>\n",
       "      <td>1</td>\n",
       "      <td>14</td>\n",
       "      <td>1</td>\n",
       "      <td>3</td>\n",
       "      <td>2</td>\n",
       "      <td>21.758324</td>\n",
       "      <td>0</td>\n",
       "      <td>...</td>\n",
       "      <td>23.222094</td>\n",
       "      <td>78.292206</td>\n",
       "      <td>85.379807</td>\n",
       "      <td>73.568382</td>\n",
       "      <td>70.630295</td>\n",
       "      <td>25.997341</td>\n",
       "      <td>25.434973</td>\n",
       "      <td>28.357460</td>\n",
       "      <td>29.145098</td>\n",
       "      <td>35.195877</td>\n",
       "    </tr>\n",
       "    <tr>\n",
       "      <th>2025-01-15 07:00:00</th>\n",
       "      <td>74.201401</td>\n",
       "      <td>27.146723</td>\n",
       "      <td>2025</td>\n",
       "      <td>1</td>\n",
       "      <td>15</td>\n",
       "      <td>2</td>\n",
       "      <td>3</td>\n",
       "      <td>2</td>\n",
       "      <td>21.987003</td>\n",
       "      <td>0</td>\n",
       "      <td>...</td>\n",
       "      <td>19.562716</td>\n",
       "      <td>74.887207</td>\n",
       "      <td>78.292206</td>\n",
       "      <td>85.379807</td>\n",
       "      <td>71.168640</td>\n",
       "      <td>26.780884</td>\n",
       "      <td>25.997341</td>\n",
       "      <td>25.434973</td>\n",
       "      <td>28.921543</td>\n",
       "      <td>37.269023</td>\n",
       "    </tr>\n",
       "    <tr>\n",
       "      <th>2025-01-16 07:00:00</th>\n",
       "      <td>89.873428</td>\n",
       "      <td>24.990604</td>\n",
       "      <td>2025</td>\n",
       "      <td>1</td>\n",
       "      <td>16</td>\n",
       "      <td>3</td>\n",
       "      <td>3</td>\n",
       "      <td>2</td>\n",
       "      <td>22.965288</td>\n",
       "      <td>0</td>\n",
       "      <td>...</td>\n",
       "      <td>26.081564</td>\n",
       "      <td>74.201401</td>\n",
       "      <td>74.887207</td>\n",
       "      <td>78.292206</td>\n",
       "      <td>70.983574</td>\n",
       "      <td>27.146723</td>\n",
       "      <td>26.780884</td>\n",
       "      <td>25.997341</td>\n",
       "      <td>28.383165</td>\n",
       "      <td>34.494715</td>\n",
       "    </tr>\n",
       "    <tr>\n",
       "      <th>2025-01-17 07:00:00</th>\n",
       "      <td>80.848938</td>\n",
       "      <td>27.221664</td>\n",
       "      <td>2025</td>\n",
       "      <td>1</td>\n",
       "      <td>17</td>\n",
       "      <td>4</td>\n",
       "      <td>3</td>\n",
       "      <td>2</td>\n",
       "      <td>23.391453</td>\n",
       "      <td>0</td>\n",
       "      <td>...</td>\n",
       "      <td>23.381714</td>\n",
       "      <td>89.873428</td>\n",
       "      <td>74.201401</td>\n",
       "      <td>74.887207</td>\n",
       "      <td>70.491486</td>\n",
       "      <td>24.990604</td>\n",
       "      <td>27.146723</td>\n",
       "      <td>26.780884</td>\n",
       "      <td>28.945705</td>\n",
       "      <td>36.374815</td>\n",
       "    </tr>\n",
       "  </tbody>\n",
       "</table>\n",
       "<p>5 rows × 42 columns</p>\n",
       "</div>"
      ],
      "text/plain": [
       "                      humidity  temperature  year  month  day  day_of_week  \\\n",
       "timestamp                                                                    \n",
       "2025-01-13 07:00:00  78.292206    25.997341  2025      1   13            0   \n",
       "2025-01-14 07:00:00  74.887207    26.780884  2025      1   14            1   \n",
       "2025-01-15 07:00:00  74.201401    27.146723  2025      1   15            2   \n",
       "2025-01-16 07:00:00  89.873428    24.990604  2025      1   16            3   \n",
       "2025-01-17 07:00:00  80.848938    27.221664  2025      1   17            4   \n",
       "\n",
       "                     week_of_year  season  dew_point  is_weekend  ...  \\\n",
       "timestamp                                                         ...   \n",
       "2025-01-13 07:00:00             3       2  21.655781           0  ...   \n",
       "2025-01-14 07:00:00             3       2  21.758324           0  ...   \n",
       "2025-01-15 07:00:00             3       2  21.987003           0  ...   \n",
       "2025-01-16 07:00:00             3       2  22.965288           0  ...   \n",
       "2025-01-17 07:00:00             3       2  23.391453           0  ...   \n",
       "\n",
       "                     pm_2_5_lag_14  humidity_lag_1  humidity_lag_2  \\\n",
       "timestamp                                                            \n",
       "2025-01-13 07:00:00      10.602564       85.379807       73.568382   \n",
       "2025-01-14 07:00:00      23.222094       78.292206       85.379807   \n",
       "2025-01-15 07:00:00      19.562716       74.887207       78.292206   \n",
       "2025-01-16 07:00:00      26.081564       74.201401       74.887207   \n",
       "2025-01-17 07:00:00      23.381714       89.873428       74.201401   \n",
       "\n",
       "                    humidity_lag_3  humidity_lag_7  temperature_lag_1  \\\n",
       "timestamp                                                               \n",
       "2025-01-13 07:00:00      70.491486       72.844643          25.434973   \n",
       "2025-01-14 07:00:00      73.568382       70.630295          25.997341   \n",
       "2025-01-15 07:00:00      85.379807       71.168640          26.780884   \n",
       "2025-01-16 07:00:00      78.292206       70.983574          27.146723   \n",
       "2025-01-17 07:00:00      74.887207       70.491486          24.990604   \n",
       "\n",
       "                     temperature_lag_2  temperature_lag_3  temperature_lag_7  \\\n",
       "timestamp                                                                      \n",
       "2025-01-13 07:00:00          28.357460          28.945705          28.825508   \n",
       "2025-01-14 07:00:00          25.434973          28.357460          29.145098   \n",
       "2025-01-15 07:00:00          25.997341          25.434973          28.921543   \n",
       "2025-01-16 07:00:00          26.780884          25.997341          28.383165   \n",
       "2025-01-17 07:00:00          27.146723          26.780884          28.945705   \n",
       "\n",
       "                     prediction_label  \n",
       "timestamp                              \n",
       "2025-01-13 07:00:00         29.148905  \n",
       "2025-01-14 07:00:00         35.195877  \n",
       "2025-01-15 07:00:00         37.269023  \n",
       "2025-01-16 07:00:00         34.494715  \n",
       "2025-01-17 07:00:00         36.374815  \n",
       "\n",
       "[5 rows x 42 columns]"
      ]
     },
     "execution_count": 71,
     "metadata": {},
     "output_type": "execute_result"
    }
   ],
   "source": [
    "new_data = test_data.copy().drop(['pm_2_5'], axis=1)\n",
    "predictions = exp1.predict_model(model_1, data=new_data)\n",
    "predictions.head()"
   ]
  },
  {
   "cell_type": "code",
   "execution_count": null,
   "metadata": {},
   "outputs": [
    {
     "data": {
      "text/plain": [
       "timestamp\n",
       "2025-01-13 07:00:00    29.148905\n",
       "2025-01-14 07:00:00    35.195877\n",
       "2025-01-15 07:00:00    37.269023\n",
       "2025-01-16 07:00:00    34.494715\n",
       "2025-01-17 07:00:00    36.374815\n",
       "Freq: D, Name: prediction_label, dtype: float64"
      ]
     },
     "execution_count": 72,
     "metadata": {},
     "output_type": "execute_result"
    }
   ],
   "source": [
    "predict_v = predictions['prediction_label']\n",
    "predict_v.head()"
   ]
  },
  {
   "cell_type": "code",
   "execution_count": null,
   "metadata": {},
   "outputs": [],
   "source": [
    "real = test_data['pm_2_5']\n",
    "# real.head(7)"
   ]
  },
  {
   "cell_type": "markdown",
   "metadata": {},
   "source": [
    "# ทำนาย 1 วันข้างหน้า ต้องทำนายเผื่อ 2 วัน"
   ]
  },
  {
   "cell_type": "code",
   "execution_count": null,
   "metadata": {},
   "outputs": [
    {
     "data": {
      "image/png": "[encoded data removed]",
      "text/plain": [
       "<Figure size 1000x600 with 1 Axes>"
      ]
     },
     "metadata": {},
     "output_type": "display_data"
    }
   ],
   "source": [
    "import pandas as pd\n",
    "import matplotlib.pyplot as plt\n",
    "\n",
    "# สมมุติว่า result คือ DataFrame ที่รวม predictions กับ pm_10\n",
    "result = pd.concat([predict_v.shift(-1), test_data['pm_2_5']], axis=1)\n",
    "result.columns = ['Predictions', 'Actual PM2_5']  # ตั้งชื่อคอลัมน์\n",
    "\n",
    "# พล็อตข้อมูล\n",
    "result.plot(figsize=(10, 6))\n",
    "\n",
    "# ตั้งชื่อกราฟ\n",
    "plt.title('Predictions vs Actual PM2_5')\n",
    "plt.xlabel('Index')\n",
    "plt.ylabel('PM2_5 Values')\n",
    "\n",
    "# แสดงกราฟ\n",
    "plt.show()"
   ]
  },
  {
   "cell_type": "code",
   "execution_count": null,
   "metadata": {},
   "outputs": [
    {
     "name": "stdout",
     "output_type": "stream",
     "text": [
      "R² Score: 0.6345\n",
      "Mean Absolute Error (MAE): 4.9238\n",
      "Root Mean Squared Error (RMSE): 6.0355\n",
      "Accuracy: 82.91%\n"
     ]
    }
   ],
   "source": [
    "from pycaret.regression import *\n",
    "from sklearn.metrics import r2_score, mean_absolute_error, mean_squared_error\n",
    "import numpy as np\n",
    "\n",
    "y_true = test_data[\"pm_2_5\"][:\"2025-2-10\"]\n",
    "y_pred = predict_v.shift(-1).dropna(axis=0)# \"prediction_label\" contains predictions\n",
    "\n",
    "# Calculate Regression Metrics\n",
    "r2 = r2_score(y_true, y_pred)\n",
    "mae = mean_absolute_error(y_true, y_pred)\n",
    "rmse = np.sqrt(mean_squared_error(y_true, y_pred))\n",
    "\n",
    "# Calculate Accuracy as (1 - (MAE / mean_actual)) * 100\n",
    "mean_actual = np.mean(y_true)  # Mean of actual values\n",
    "accuracy = (1 - (mae / mean_actual)) * 100  # Accuracy in percentage\n",
    "\n",
    "# Print Results\n",
    "print(f\"R² Score: {r2:.4f}\")  # Closer to 1 is better\n",
    "print(f\"Mean Absolute Error (MAE): {mae:.4f}\")  # Lower is better\n",
    "print(f\"Root Mean Squared Error (RMSE): {rmse:.4f}\")  # Lower is better\n",
    "print(f\"Accuracy: {accuracy:.2f}%\")  # Accuracy percentage"
   ]
  },
  {
   "cell_type": "markdown",
   "metadata": {},
   "source": [
    "# Predict 1 by 1"
   ]
  },
  {
   "cell_type": "markdown",
   "metadata": {},
   "source": [
    "30 วัน  \n",
    "2025-01-13 07:00:00  \n",
    "2025-02-11 07:00:00  \n",
    "7 วัน  \n",
    "2025-02-05  \n",
    "2025-02-11  \n",
    "24 วัน  \n",
    "2025-01-19 07:00:00  \n",
    "31 วัน\n",
    "2025-01-12 07:00:00"
   ]
  },
  {
   "cell_type": "code",
   "execution_count": null,
   "metadata": {},
   "outputs": [],
   "source": [
    "# model_1 = exp1.create_model('rf')\n",
    "# tune_1 = exp1.tune_model(model_1)"
   ]
  },
  {
   "cell_type": "code",
   "execution_count": null,
   "metadata": {},
   "outputs": [
    {
     "data": {
      "text/html": [],
      "text/plain": [
       "<IPython.core.display.HTML object>"
      ]
     },
     "metadata": {},
     "output_type": "display_data"
    },
    {
     "data": {
      "text/html": [
       "<style type=\"text/css\">\n",
       "#T_79ae1_row12_col0, #T_79ae1_row12_col1, #T_79ae1_row12_col2, #T_79ae1_row12_col3, #T_79ae1_row12_col4, #T_79ae1_row12_col5 {\n",
       "  background: yellow;\n",
       "}\n",
       "</style>\n",
       "<table id=\"T_79ae1\">\n",
       "  <thead>\n",
       "    <tr>\n",
       "      <th class=\"blank level0\" >&nbsp;</th>\n",
       "      <th id=\"T_79ae1_level0_col0\" class=\"col_heading level0 col0\" >MAE</th>\n",
       "      <th id=\"T_79ae1_level0_col1\" class=\"col_heading level0 col1\" >MSE</th>\n",
       "      <th id=\"T_79ae1_level0_col2\" class=\"col_heading level0 col2\" >RMSE</th>\n",
       "      <th id=\"T_79ae1_level0_col3\" class=\"col_heading level0 col3\" >R2</th>\n",
       "      <th id=\"T_79ae1_level0_col4\" class=\"col_heading level0 col4\" >RMSLE</th>\n",
       "      <th id=\"T_79ae1_level0_col5\" class=\"col_heading level0 col5\" >MAPE</th>\n",
       "    </tr>\n",
       "    <tr>\n",
       "      <th class=\"index_name level0\" >Fold</th>\n",
       "      <th class=\"blank col0\" >&nbsp;</th>\n",
       "      <th class=\"blank col1\" >&nbsp;</th>\n",
       "      <th class=\"blank col2\" >&nbsp;</th>\n",
       "      <th class=\"blank col3\" >&nbsp;</th>\n",
       "      <th class=\"blank col4\" >&nbsp;</th>\n",
       "      <th class=\"blank col5\" >&nbsp;</th>\n",
       "    </tr>\n",
       "  </thead>\n",
       "  <tbody>\n",
       "    <tr>\n",
       "      <th id=\"T_79ae1_level0_row0\" class=\"row_heading level0 row0\" >0</th>\n",
       "      <td id=\"T_79ae1_row0_col0\" class=\"data row0 col0\" >5.0125</td>\n",
       "      <td id=\"T_79ae1_row0_col1\" class=\"data row0 col1\" >38.6303</td>\n",
       "      <td id=\"T_79ae1_row0_col2\" class=\"data row0 col2\" >6.2153</td>\n",
       "      <td id=\"T_79ae1_row0_col3\" class=\"data row0 col3\" >0.5751</td>\n",
       "      <td id=\"T_79ae1_row0_col4\" class=\"data row0 col4\" >0.3471</td>\n",
       "      <td id=\"T_79ae1_row0_col5\" class=\"data row0 col5\" >0.3325</td>\n",
       "    </tr>\n",
       "    <tr>\n",
       "      <th id=\"T_79ae1_level0_row1\" class=\"row_heading level0 row1\" >1</th>\n",
       "      <td id=\"T_79ae1_row1_col0\" class=\"data row1 col0\" >7.5967</td>\n",
       "      <td id=\"T_79ae1_row1_col1\" class=\"data row1 col1\" >109.6520</td>\n",
       "      <td id=\"T_79ae1_row1_col2\" class=\"data row1 col2\" >10.4715</td>\n",
       "      <td id=\"T_79ae1_row1_col3\" class=\"data row1 col3\" >0.3959</td>\n",
       "      <td id=\"T_79ae1_row1_col4\" class=\"data row1 col4\" >0.4106</td>\n",
       "      <td id=\"T_79ae1_row1_col5\" class=\"data row1 col5\" >0.3465</td>\n",
       "    </tr>\n",
       "    <tr>\n",
       "      <th id=\"T_79ae1_level0_row2\" class=\"row_heading level0 row2\" >2</th>\n",
       "      <td id=\"T_79ae1_row2_col0\" class=\"data row2 col0\" >4.3346</td>\n",
       "      <td id=\"T_79ae1_row2_col1\" class=\"data row2 col1\" >26.9024</td>\n",
       "      <td id=\"T_79ae1_row2_col2\" class=\"data row2 col2\" >5.1868</td>\n",
       "      <td id=\"T_79ae1_row2_col3\" class=\"data row2 col3\" >0.6324</td>\n",
       "      <td id=\"T_79ae1_row2_col4\" class=\"data row2 col4\" >0.3449</td>\n",
       "      <td id=\"T_79ae1_row2_col5\" class=\"data row2 col5\" >0.3590</td>\n",
       "    </tr>\n",
       "    <tr>\n",
       "      <th id=\"T_79ae1_level0_row3\" class=\"row_heading level0 row3\" >3</th>\n",
       "      <td id=\"T_79ae1_row3_col0\" class=\"data row3 col0\" >6.1966</td>\n",
       "      <td id=\"T_79ae1_row3_col1\" class=\"data row3 col1\" >55.5033</td>\n",
       "      <td id=\"T_79ae1_row3_col2\" class=\"data row3 col2\" >7.4501</td>\n",
       "      <td id=\"T_79ae1_row3_col3\" class=\"data row3 col3\" >0.5059</td>\n",
       "      <td id=\"T_79ae1_row3_col4\" class=\"data row3 col4\" >0.4106</td>\n",
       "      <td id=\"T_79ae1_row3_col5\" class=\"data row3 col5\" >0.4193</td>\n",
       "    </tr>\n",
       "    <tr>\n",
       "      <th id=\"T_79ae1_level0_row4\" class=\"row_heading level0 row4\" >4</th>\n",
       "      <td id=\"T_79ae1_row4_col0\" class=\"data row4 col0\" >4.9207</td>\n",
       "      <td id=\"T_79ae1_row4_col1\" class=\"data row4 col1\" >43.6465</td>\n",
       "      <td id=\"T_79ae1_row4_col2\" class=\"data row4 col2\" >6.6065</td>\n",
       "      <td id=\"T_79ae1_row4_col3\" class=\"data row4 col3\" >0.5802</td>\n",
       "      <td id=\"T_79ae1_row4_col4\" class=\"data row4 col4\" >0.2795</td>\n",
       "      <td id=\"T_79ae1_row4_col5\" class=\"data row4 col5\" >0.2437</td>\n",
       "    </tr>\n",
       "    <tr>\n",
       "      <th id=\"T_79ae1_level0_row5\" class=\"row_heading level0 row5\" >5</th>\n",
       "      <td id=\"T_79ae1_row5_col0\" class=\"data row5 col0\" >5.3706</td>\n",
       "      <td id=\"T_79ae1_row5_col1\" class=\"data row5 col1\" >46.2036</td>\n",
       "      <td id=\"T_79ae1_row5_col2\" class=\"data row5 col2\" >6.7973</td>\n",
       "      <td id=\"T_79ae1_row5_col3\" class=\"data row5 col3\" >0.2299</td>\n",
       "      <td id=\"T_79ae1_row5_col4\" class=\"data row5 col4\" >0.4150</td>\n",
       "      <td id=\"T_79ae1_row5_col5\" class=\"data row5 col5\" >0.4315</td>\n",
       "    </tr>\n",
       "    <tr>\n",
       "      <th id=\"T_79ae1_level0_row6\" class=\"row_heading level0 row6\" >6</th>\n",
       "      <td id=\"T_79ae1_row6_col0\" class=\"data row6 col0\" >5.9676</td>\n",
       "      <td id=\"T_79ae1_row6_col1\" class=\"data row6 col1\" >52.2487</td>\n",
       "      <td id=\"T_79ae1_row6_col2\" class=\"data row6 col2\" >7.2283</td>\n",
       "      <td id=\"T_79ae1_row6_col3\" class=\"data row6 col3\" >0.1464</td>\n",
       "      <td id=\"T_79ae1_row6_col4\" class=\"data row6 col4\" >0.3848</td>\n",
       "      <td id=\"T_79ae1_row6_col5\" class=\"data row6 col5\" >0.4042</td>\n",
       "    </tr>\n",
       "    <tr>\n",
       "      <th id=\"T_79ae1_level0_row7\" class=\"row_heading level0 row7\" >7</th>\n",
       "      <td id=\"T_79ae1_row7_col0\" class=\"data row7 col0\" >5.2017</td>\n",
       "      <td id=\"T_79ae1_row7_col1\" class=\"data row7 col1\" >41.6968</td>\n",
       "      <td id=\"T_79ae1_row7_col2\" class=\"data row7 col2\" >6.4573</td>\n",
       "      <td id=\"T_79ae1_row7_col3\" class=\"data row7 col3\" >0.6718</td>\n",
       "      <td id=\"T_79ae1_row7_col4\" class=\"data row7 col4\" >0.3800</td>\n",
       "      <td id=\"T_79ae1_row7_col5\" class=\"data row7 col5\" >0.3796</td>\n",
       "    </tr>\n",
       "    <tr>\n",
       "      <th id=\"T_79ae1_level0_row8\" class=\"row_heading level0 row8\" >8</th>\n",
       "      <td id=\"T_79ae1_row8_col0\" class=\"data row8 col0\" >4.7358</td>\n",
       "      <td id=\"T_79ae1_row8_col1\" class=\"data row8 col1\" >34.6894</td>\n",
       "      <td id=\"T_79ae1_row8_col2\" class=\"data row8 col2\" >5.8898</td>\n",
       "      <td id=\"T_79ae1_row8_col3\" class=\"data row8 col3\" >0.5527</td>\n",
       "      <td id=\"T_79ae1_row8_col4\" class=\"data row8 col4\" >0.3102</td>\n",
       "      <td id=\"T_79ae1_row8_col5\" class=\"data row8 col5\" >0.2771</td>\n",
       "    </tr>\n",
       "    <tr>\n",
       "      <th id=\"T_79ae1_level0_row9\" class=\"row_heading level0 row9\" >9</th>\n",
       "      <td id=\"T_79ae1_row9_col0\" class=\"data row9 col0\" >5.3206</td>\n",
       "      <td id=\"T_79ae1_row9_col1\" class=\"data row9 col1\" >40.5175</td>\n",
       "      <td id=\"T_79ae1_row9_col2\" class=\"data row9 col2\" >6.3653</td>\n",
       "      <td id=\"T_79ae1_row9_col3\" class=\"data row9 col3\" >0.6049</td>\n",
       "      <td id=\"T_79ae1_row9_col4\" class=\"data row9 col4\" >0.3100</td>\n",
       "      <td id=\"T_79ae1_row9_col5\" class=\"data row9 col5\" >0.2648</td>\n",
       "    </tr>\n",
       "    <tr>\n",
       "      <th id=\"T_79ae1_level0_row10\" class=\"row_heading level0 row10\" >10</th>\n",
       "      <td id=\"T_79ae1_row10_col0\" class=\"data row10 col0\" >4.8227</td>\n",
       "      <td id=\"T_79ae1_row10_col1\" class=\"data row10 col1\" >36.2337</td>\n",
       "      <td id=\"T_79ae1_row10_col2\" class=\"data row10 col2\" >6.0194</td>\n",
       "      <td id=\"T_79ae1_row10_col3\" class=\"data row10 col3\" >0.5560</td>\n",
       "      <td id=\"T_79ae1_row10_col4\" class=\"data row10 col4\" >0.3583</td>\n",
       "      <td id=\"T_79ae1_row10_col5\" class=\"data row10 col5\" >0.3434</td>\n",
       "    </tr>\n",
       "    <tr>\n",
       "      <th id=\"T_79ae1_level0_row11\" class=\"row_heading level0 row11\" >11</th>\n",
       "      <td id=\"T_79ae1_row11_col0\" class=\"data row11 col0\" >4.7730</td>\n",
       "      <td id=\"T_79ae1_row11_col1\" class=\"data row11 col1\" >38.3011</td>\n",
       "      <td id=\"T_79ae1_row11_col2\" class=\"data row11 col2\" >6.1888</td>\n",
       "      <td id=\"T_79ae1_row11_col3\" class=\"data row11 col3\" >0.4569</td>\n",
       "      <td id=\"T_79ae1_row11_col4\" class=\"data row11 col4\" >0.3216</td>\n",
       "      <td id=\"T_79ae1_row11_col5\" class=\"data row11 col5\" >0.2822</td>\n",
       "    </tr>\n",
       "    <tr>\n",
       "      <th id=\"T_79ae1_level0_row12\" class=\"row_heading level0 row12\" >Mean</th>\n",
       "      <td id=\"T_79ae1_row12_col0\" class=\"data row12 col0\" >5.3544</td>\n",
       "      <td id=\"T_79ae1_row12_col1\" class=\"data row12 col1\" >47.0188</td>\n",
       "      <td id=\"T_79ae1_row12_col2\" class=\"data row12 col2\" >6.7397</td>\n",
       "      <td id=\"T_79ae1_row12_col3\" class=\"data row12 col3\" >0.4923</td>\n",
       "      <td id=\"T_79ae1_row12_col4\" class=\"data row12 col4\" >0.3561</td>\n",
       "      <td id=\"T_79ae1_row12_col5\" class=\"data row12 col5\" >0.3403</td>\n",
       "    </tr>\n",
       "    <tr>\n",
       "      <th id=\"T_79ae1_level0_row13\" class=\"row_heading level0 row13\" >Std</th>\n",
       "      <td id=\"T_79ae1_row13_col0\" class=\"data row13 col0\" >0.8410</td>\n",
       "      <td id=\"T_79ae1_row13_col1\" class=\"data row13 col1\" >20.2572</td>\n",
       "      <td id=\"T_79ae1_row13_col2\" class=\"data row13 col2\" >1.2630</td>\n",
       "      <td id=\"T_79ae1_row13_col3\" class=\"data row13 col3\" >0.1544</td>\n",
       "      <td id=\"T_79ae1_row13_col4\" class=\"data row13 col4\" >0.0431</td>\n",
       "      <td id=\"T_79ae1_row13_col5\" class=\"data row13 col5\" >0.0599</td>\n",
       "    </tr>\n",
       "  </tbody>\n",
       "</table>\n"
      ],
      "text/plain": [
       "<pandas.io.formats.style.Styler at 0x2515b7ba850>"
      ]
     },
     "metadata": {},
     "output_type": "display_data"
    },
    {
     "data": {
      "text/html": [],
      "text/plain": [
       "<IPython.core.display.HTML object>"
      ]
     },
     "metadata": {},
     "output_type": "display_data"
    }
   ],
   "source": [
    "model = exp1.create_model('lightgbm')"
   ]
  },
  {
   "cell_type": "code",
   "execution_count": null,
   "metadata": {},
   "outputs": [
    {
     "data": {
      "text/html": [],
      "text/plain": [
       "<IPython.core.display.HTML object>"
      ]
     },
     "metadata": {},
     "output_type": "display_data"
    },
    {
     "data": {
      "text/html": [],
      "text/plain": [
       "<IPython.core.display.HTML object>"
      ]
     },
     "metadata": {},
     "output_type": "display_data"
    },
    {
     "data": {
      "text/html": [],
      "text/plain": [
       "<IPython.core.display.HTML object>"
      ]
     },
     "metadata": {},
     "output_type": "display_data"
    },
    {
     "data": {
      "text/html": [],
      "text/plain": [
       "<IPython.core.display.HTML object>"
      ]
     },
     "metadata": {},
     "output_type": "display_data"
    },
    {
     "data": {
      "text/html": [],
      "text/plain": [
       "<IPython.core.display.HTML object>"
      ]
     },
     "metadata": {},
     "output_type": "display_data"
    },
    {
     "data": {
      "text/html": [],
      "text/plain": [
       "<IPython.core.display.HTML object>"
      ]
     },
     "metadata": {},
     "output_type": "display_data"
    },
    {
     "data": {
      "text/html": [],
      "text/plain": [
       "<IPython.core.display.HTML object>"
      ]
     },
     "metadata": {},
     "output_type": "display_data"
    },
    {
     "data": {
      "text/html": [],
      "text/plain": [
       "<IPython.core.display.HTML object>"
      ]
     },
     "metadata": {},
     "output_type": "display_data"
    },
    {
     "data": {
      "text/html": [],
      "text/plain": [
       "<IPython.core.display.HTML object>"
      ]
     },
     "metadata": {},
     "output_type": "display_data"
    },
    {
     "data": {
      "text/html": [],
      "text/plain": [
       "<IPython.core.display.HTML object>"
      ]
     },
     "metadata": {},
     "output_type": "display_data"
    },
    {
     "data": {
      "text/html": [],
      "text/plain": [
       "<IPython.core.display.HTML object>"
      ]
     },
     "metadata": {},
     "output_type": "display_data"
    },
    {
     "data": {
      "text/html": [],
      "text/plain": [
       "<IPython.core.display.HTML object>"
      ]
     },
     "metadata": {},
     "output_type": "display_data"
    },
    {
     "data": {
      "text/html": [],
      "text/plain": [
       "<IPython.core.display.HTML object>"
      ]
     },
     "metadata": {},
     "output_type": "display_data"
    },
    {
     "data": {
      "text/html": [],
      "text/plain": [
       "<IPython.core.display.HTML object>"
      ]
     },
     "metadata": {},
     "output_type": "display_data"
    },
    {
     "data": {
      "text/html": [],
      "text/plain": [
       "<IPython.core.display.HTML object>"
      ]
     },
     "metadata": {},
     "output_type": "display_data"
    },
    {
     "data": {
      "text/html": [],
      "text/plain": [
       "<IPython.core.display.HTML object>"
      ]
     },
     "metadata": {},
     "output_type": "display_data"
    },
    {
     "data": {
      "text/html": [],
      "text/plain": [
       "<IPython.core.display.HTML object>"
      ]
     },
     "metadata": {},
     "output_type": "display_data"
    },
    {
     "data": {
      "text/html": [],
      "text/plain": [
       "<IPython.core.display.HTML object>"
      ]
     },
     "metadata": {},
     "output_type": "display_data"
    },
    {
     "data": {
      "text/html": [],
      "text/plain": [
       "<IPython.core.display.HTML object>"
      ]
     },
     "metadata": {},
     "output_type": "display_data"
    },
    {
     "data": {
      "text/html": [],
      "text/plain": [
       "<IPython.core.display.HTML object>"
      ]
     },
     "metadata": {},
     "output_type": "display_data"
    },
    {
     "data": {
      "text/html": [],
      "text/plain": [
       "<IPython.core.display.HTML object>"
      ]
     },
     "metadata": {},
     "output_type": "display_data"
    },
    {
     "data": {
      "text/html": [],
      "text/plain": [
       "<IPython.core.display.HTML object>"
      ]
     },
     "metadata": {},
     "output_type": "display_data"
    },
    {
     "data": {
      "text/html": [],
      "text/plain": [
       "<IPython.core.display.HTML object>"
      ]
     },
     "metadata": {},
     "output_type": "display_data"
    },
    {
     "data": {
      "text/html": [],
      "text/plain": [
       "<IPython.core.display.HTML object>"
      ]
     },
     "metadata": {},
     "output_type": "display_data"
    },
    {
     "data": {
      "text/html": [],
      "text/plain": [
       "<IPython.core.display.HTML object>"
      ]
     },
     "metadata": {},
     "output_type": "display_data"
    },
    {
     "data": {
      "text/html": [],
      "text/plain": [
       "<IPython.core.display.HTML object>"
      ]
     },
     "metadata": {},
     "output_type": "display_data"
    },
    {
     "data": {
      "text/html": [],
      "text/plain": [
       "<IPython.core.display.HTML object>"
      ]
     },
     "metadata": {},
     "output_type": "display_data"
    },
    {
     "data": {
      "text/html": [],
      "text/plain": [
       "<IPython.core.display.HTML object>"
      ]
     },
     "metadata": {},
     "output_type": "display_data"
    },
    {
     "data": {
      "text/html": [],
      "text/plain": [
       "<IPython.core.display.HTML object>"
      ]
     },
     "metadata": {},
     "output_type": "display_data"
    },
    {
     "data": {
      "text/html": [],
      "text/plain": [
       "<IPython.core.display.HTML object>"
      ]
     },
     "metadata": {},
     "output_type": "display_data"
    }
   ],
   "source": [
    "data_compare = data_filtered.loc[:'2025-01-12']\n",
    "result = pd.DataFrame()\n",
    "\n",
    "start_date = \"2025-01-13\"\n",
    "end_date = \"2025-02-11\"\n",
    "\n",
    "for date in pd.date_range(start=start_date, end=end_date, freq=\"D\"):\n",
    "    # Drop columns\n",
    "    test_1 = data_filtered\n",
    "    # ดึงวันนี้มา\n",
    "    test_1 = test_1.loc[str(date.date())]\n",
    "\n",
    "    # ใส่เข้าไป\n",
    "    data_compare = pd.concat([data_compare, test_1], axis=0)\n",
    "\n",
    "    # เพิ่มฟีเจอร์ rolling average (ค่าเฉลี่ยเคลื่อนที่)\n",
    "\n",
    "    # data_compare['pm_2_5_rolling_7'] = data_compare['pm_2_5'].rolling(window=7).mean().shift(1)  # ค่าเฉลี่ย 5 วันของ PM 10\n",
    "\n",
    "    # rolling_size = 1\n",
    "    # for i in range(1,rolling_size+1):\n",
    "    #     data_compare[f'pm_2_5_rolling_{i}'] = data_compare['pm_2_5'].rolling(window=i).mean().shift(1)\n",
    "\n",
    "    for i in range(1,lag_size+1):\n",
    "        data_compare[f'pm_2_5_lag_{i}'] = data_compare['pm_2_5'].shift(i)\n",
    "\n",
    "    # ดึง\n",
    "    test_1 = (data_compare.loc[str(date.date())]).drop(columns=['pm_2_5'])\n",
    "    \n",
    "    # Drop ทิ้งล่าสุดใน data_compare\n",
    "    data_compare = data_compare.drop(data_compare.last_valid_index())\n",
    "    test_1 = test_1[~test_1.index.duplicated(keep='last')]\n",
    "\n",
    "    # Predict\n",
    "    predict_test_1 = exp1.predict_model(model, data=test_1)\n",
    "\n",
    "    # เพิ่มผลทำนายเข้าไปใน data_compare\n",
    "    data_compare = pd.concat([data_compare, predict_test_1], axis=0)\n",
    "\n",
    "    # แทนที่ค่าในคอลัมน์ 'pm_2_5' ในวันที่ '2025-01-13' ด้วยค่าในคอลัมน์ 'prediction_label'\n",
    "    data_compare.loc[str(date.date()), 'pm_2_5'] = data_compare.loc[str(date.date()), 'prediction_label']\n",
    "\n",
    "    # ลบคอลัมน์ 'prediction_label' (หากต้องการแค่ผลทำนาย)\n",
    "    data_compare = data_compare.drop(columns=['prediction_label'])\n",
    "\n",
    "    # กรองเอาวันที่ซ้ำกัน (index ซ้ำ) ออกให้เหลือแค่ตัวเดียว\n",
    "    data_compare = data_compare[~data_compare.index.duplicated(keep='last')]\n",
    "\n",
    "    # บันทึกลง result\n",
    "    result = pd.concat([result, predict_test_1], axis=0)"
   ]
  },
  {
   "cell_type": "code",
   "execution_count": null,
   "metadata": {},
   "outputs": [
    {
     "data": {
      "image/png": "[encoded data removed]",
      "text/plain": [
       "<Figure size 1000x600 with 1 Axes>"
      ]
     },
     "metadata": {},
     "output_type": "display_data"
    }
   ],
   "source": [
    "import pandas as pd\n",
    "import matplotlib.pyplot as plt\n",
    "\n",
    "real_data = data_filtered.loc[start_date:end_date]\n",
    "# สมมุติว่า result คือ DataFrame ที่รวม predictions กับ pm_10\n",
    "result_plot = pd.concat([result['prediction_label'].shift(-1), real_data['pm_2_5']], axis=1)\n",
    "result_plot.columns = ['Predictions', 'Actual PM10']  # ตั้งชื่อคอลัมน์\n",
    "\n",
    "# พล็อตข้อมูล\n",
    "result_plot.plot(figsize=(10, 6))\n",
    "\n",
    "# ตั้งชื่อกราฟ\n",
    "plt.title('Predictions vs Actual PM10')\n",
    "plt.xlabel('Index')\n",
    "plt.ylabel('PM10 Values')\n",
    "\n",
    "# แสดงกราฟ\n",
    "plt.show()"
   ]
  },
  {
   "cell_type": "code",
   "execution_count": null,
   "metadata": {},
   "outputs": [
    {
     "name": "stdout",
     "output_type": "stream",
     "text": [
      "R² Score: 0.0632\n",
      "Mean Absolute Error (MAE): 7.3800\n",
      "Root Mean Squared Error (RMSE): 9.6622\n",
      "Accuracy: 74.38%\n"
     ]
    }
   ],
   "source": [
    "from pycaret.regression import *\n",
    "from sklearn.metrics import r2_score, mean_absolute_error, mean_squared_error\n",
    "import numpy as np\n",
    "\n",
    "y_true = real_data[\"pm_2_5\"][:\"2025-2-10\"]\n",
    "y_pred = result['prediction_label'].shift(-1).dropna(axis=0)# \"prediction_label\" contains predictions\n",
    "\n",
    "# Calculate Regression Metrics\n",
    "r2 = r2_score(y_true, y_pred)\n",
    "mae = mean_absolute_error(y_true, y_pred)\n",
    "rmse = np.sqrt(mean_squared_error(y_true, y_pred))\n",
    "\n",
    "# Calculate Accuracy as (1 - (MAE / mean_actual)) * 100\n",
    "mean_actual = np.mean(y_true)  # Mean of actual values\n",
    "accuracy = (1 - (mae / mean_actual)) * 100  # Accuracy in percentage\n",
    "\n",
    "# Print Results\n",
    "print(f\"R² Score: {r2:.4f}\")  # Closer to 1 is better\n",
    "print(f\"Mean Absolute Error (MAE): {mae:.4f}\")  # Lower is better\n",
    "print(f\"Root Mean Squared Error (RMSE): {rmse:.4f}\")  # Lower is better\n",
    "print(f\"Accuracy: {accuracy:.2f}%\")  # Accuracy percentage"
   ]
  },
  {
   "cell_type": "code",
   "execution_count": null,
   "metadata": {},
   "outputs": [
    {
     "name": "stdout",
     "output_type": "stream",
     "text": [
      "R² Score: 0.0632\n",
      "Mean Absolute Percentage Error (MAPE): 30.56%\n"
     ]
    }
   ],
   "source": [
    "# ค่า R² และ MAPE\n",
    "r2 = r2_score(y_true, y_pred)\n",
    "mape = np.mean(np.abs((y_true - y_pred) / y_true)) * 100  # MAPE in percentage\n",
    "\n",
    "# การปรับสเกลของ R² (สมมติให้อยู่ในช่วง 0-100 เพื่อให้อยู่ในช่วงเดียวกับ MAPE)\n",
    "r2_scaled = r2 * 100  # เปลี่ยน R² ให้เป็นค่าร้อยละ\n",
    "\n",
    "print(f\"R² Score: {r2:.4f}\")\n",
    "print(f\"Mean Absolute Percentage Error (MAPE): {mape:.2f}%\")\n",
    "\n"
   ]
  },
  {
   "cell_type": "code",
   "execution_count": 1,
   "metadata": {},
   "outputs": [
    {
     "ename": "NameError",
     "evalue": "name 'data_filtered' is not defined",
     "output_type": "error",
     "traceback": [
      "\u001b[1;31m---------------------------------------------------------------------------\u001b[0m",
      "\u001b[1;31mNameError\u001b[0m                                 Traceback (most recent call last)",
      "Cell \u001b[1;32mIn[1], line 5\u001b[0m\n\u001b[0;32m      2\u001b[0m \u001b[38;5;28;01mimport\u001b[39;00m\u001b[38;5;250m \u001b[39m\u001b[38;5;21;01mmatplotlib\u001b[39;00m\u001b[38;5;21;01m.\u001b[39;00m\u001b[38;5;21;01mpyplot\u001b[39;00m\u001b[38;5;250m \u001b[39m\u001b[38;5;28;01mas\u001b[39;00m\u001b[38;5;250m \u001b[39m\u001b[38;5;21;01mplt\u001b[39;00m\n\u001b[0;32m      4\u001b[0m \u001b[38;5;66;03m# แปลง index เป็น datetime และลบเวลาออก\u001b[39;00m\n\u001b[1;32m----> 5\u001b[0m x \u001b[38;5;241m=\u001b[39m \u001b[43mdata_filtered\u001b[49m\u001b[38;5;241m.\u001b[39mcopy()\n\u001b[0;32m      6\u001b[0m x\u001b[38;5;241m.\u001b[39mindex \u001b[38;5;241m=\u001b[39m pd\u001b[38;5;241m.\u001b[39mto_datetime(x\u001b[38;5;241m.\u001b[39mindex)\u001b[38;5;241m.\u001b[39mnormalize()\n\u001b[0;32m      8\u001b[0m \u001b[38;5;66;03m# เก็บผลลัพธ์ของแต่ละโมเดล\u001b[39;00m\n",
      "\u001b[1;31mNameError\u001b[0m: name 'data_filtered' is not defined"
     ]
    }
   ],
   "source": [
    "import pandas as pd\n",
    "import matplotlib.pyplot as plt\n",
    "\n",
    "# แปลง index เป็น datetime และลบเวลาออก\n",
    "x = data_filtered.copy()\n",
    "x.index = pd.to_datetime(x.index).normalize()\n",
    "\n",
    "# เก็บผลลัพธ์ของแต่ละโมเดล\n",
    "result_dict = {}\n",
    "\n",
    "# รายชื่อโมเดลทั้งหมดจาก best_list\n",
    "model_names = {model.__class__.__name__: model for model in best}\n",
    "\n",
    "start_date = \"2025-01-13\"\n",
    "end_date = \"2025-02-11\"\n",
    "\n",
    "# วนลูปผ่านทุกโมเดล\n",
    "for model_name, model in model_names.items():\n",
    "    print(f\"Processing model: {model_name}\")\n",
    "\n",
    "    data_compare = x.loc[:'2025-01-12'].copy()  # ใช้ copy() ป้องกัน Warning\n",
    "    result = pd.DataFrame()\n",
    "\n",
    "    for date in pd.date_range(start=start_date, end=end_date, freq=\"D\"):\n",
    "        # ลบเวลาออกจากวันที่\n",
    "        date = pd.to_datetime(date).normalize()  # ลบเวลาออกจากตัวแปร date\n",
    "\n",
    "        # ตรวจสอบว่าใน x มีข้อมูลในวันที่นี้หรือไม่\n",
    "        if date not in x.index:\n",
    "            print(f\"⚠️ Warning: Date {date} not found in x index.\")\n",
    "            continue\n",
    "\n",
    "        # ดึงข้อมูลของวันที่ต้องการ\n",
    "        test_1 = x.loc[[date]].copy()\n",
    "\n",
    "        # ใส่เข้าไป\n",
    "        data_compare = pd.concat([data_compare, test_1], axis=0)\n",
    "\n",
    "        for i in range(2,rolling_size+1):\n",
    "            test_1[f'pm_2_5_rolling_{i}'] = data_compare['pm_2_5'].rolling(window=i).mean().shift(1)\n",
    "\n",
    "        # เพิ่ม lag feature\n",
    "        for i in range(1, lag_size + 1):\n",
    "            test_1[f'pm_2_5_lag_{i}'] = data_compare['pm_2_5'].shift(i).iloc[-1]\n",
    "\n",
    "        # ลบค่า NaN ที่เกิดจากการ shift\n",
    "        test_1 = test_1.dropna()\n",
    "\n",
    "        # ทำนายค่า\n",
    "        predict_test_1 = exp1.predict_model(model, data=test_1)\n",
    "\n",
    "        # อัปเดต data_compare\n",
    "        predict_test_1.index = [date]  # กำหนด index เป็นวันที่พยากรณ์\n",
    "        data_compare.loc[date, 'pm_2_5'] = predict_test_1['prediction_label'].values[0]\n",
    "\n",
    "        # บันทึกผลลัพธ์\n",
    "        result = pd.concat([result, predict_test_1], axis=0)\n",
    "\n",
    "    # บันทึกผลลัพธ์ของโมเดลนี้ลง dict\n",
    "    result_dict[model_name] = result\n",
    "\n",
    "# --------------------------------------------\n",
    "# พล็อตกราฟเปรียบเทียบทุกโมเดล\n",
    "# --------------------------------------------\n",
    "real_data = x.loc[start_date:end_date]\n",
    "\n",
    "# วนลูปพล็อตกราฟทีละโมเดล\n",
    "for model_name, result in result_dict.items():\n",
    "    plt.figure(figsize=(12, 6))\n",
    "    \n",
    "    result_plot = pd.concat([result['prediction_label'].shift(-1), real_data['pm_2_5']], axis=1)\n",
    "    result_plot.columns = ['Predictions', 'Actual PM2.5']\n",
    "\n",
    "    plt.plot(result_plot.index, result_plot['Predictions'], label=f\"Predicted ({model_name})\")\n",
    "    plt.plot(real_data.index, real_data['pm_2_5'], label=\"Actual PM2.5\", color=\"black\", linewidth=2)\n",
    "    \n",
    "    # ตั้งค่ากราฟ\n",
    "    plt.title(f'Predictions vs Actual PM2.5 for {model_name}')\n",
    "    plt.xlabel('Date')\n",
    "    plt.ylabel('PM2.5 Values')\n",
    "    plt.legend()\n",
    "\n",
    "    # แสดงกราฟ\n",
    "    plt.show()"
   ]
  },
  {
   "cell_type": "code",
   "execution_count": 120,
   "metadata": {},
   "outputs": [
    {
     "name": "stdout",
     "output_type": "stream",
     "text": [
      "\n",
      "📊 Model Performance Metrics:\n",
      "Model: GradientBoostingRegressor\n",
      "R² Score: -0.2141\n",
      "Mean Absolute Error (MAE): 8.6944\n",
      "Root Mean Squared Error (RMSE): 10.9998\n",
      "Mean Absolute Percentage Error (MAPE): 38.88%\n",
      "Accuracy: 61.12%\n",
      "--------------------------------------------------\n",
      "\n",
      "📊 Model Performance Metrics:\n",
      "Model: BayesianRidge\n",
      "R² Score: -0.1351\n",
      "Mean Absolute Error (MAE): 8.5723\n",
      "Root Mean Squared Error (RMSE): 10.6359\n",
      "Mean Absolute Percentage Error (MAPE): 31.42%\n",
      "Accuracy: 68.58%\n",
      "--------------------------------------------------\n",
      "\n",
      "📊 Model Performance Metrics:\n",
      "Model: HuberRegressor\n",
      "R² Score: -0.2296\n",
      "Mean Absolute Error (MAE): 9.1535\n",
      "Root Mean Squared Error (RMSE): 11.0697\n",
      "Mean Absolute Percentage Error (MAPE): 32.90%\n",
      "Accuracy: 67.10%\n",
      "--------------------------------------------------\n",
      "\n",
      "📊 Model Performance Metrics:\n",
      "Model: ExtraTreesRegressor\n",
      "R² Score: -0.1776\n",
      "Mean Absolute Error (MAE): 8.4231\n",
      "Root Mean Squared Error (RMSE): 10.8331\n",
      "Mean Absolute Percentage Error (MAPE): 29.37%\n",
      "Accuracy: 70.63%\n",
      "--------------------------------------------------\n",
      "\n",
      "📊 Model Performance Metrics:\n",
      "Model: LassoLars\n",
      "R² Score: -0.1124\n",
      "Mean Absolute Error (MAE): 8.4412\n",
      "Root Mean Squared Error (RMSE): 10.5290\n",
      "Mean Absolute Percentage Error (MAPE): 31.38%\n",
      "Accuracy: 68.62%\n",
      "--------------------------------------------------\n",
      "\n",
      "📊 Model Performance Metrics:\n",
      "Model: OrthogonalMatchingPursuit\n",
      "R² Score: -0.0329\n",
      "Mean Absolute Error (MAE): 8.1766\n",
      "Root Mean Squared Error (RMSE): 10.1458\n",
      "Mean Absolute Percentage Error (MAPE): 32.88%\n",
      "Accuracy: 67.12%\n",
      "--------------------------------------------------\n",
      "\n",
      "📊 Model Performance Metrics:\n",
      "Model: Lasso\n",
      "R² Score: -0.1126\n",
      "Mean Absolute Error (MAE): 8.4418\n",
      "Root Mean Squared Error (RMSE): 10.5298\n",
      "Mean Absolute Percentage Error (MAPE): 31.38%\n",
      "Accuracy: 68.62%\n",
      "--------------------------------------------------\n",
      "\n",
      "📊 Model Performance Metrics:\n",
      "Model: AdaBoostRegressor\n",
      "R² Score: -0.3692\n",
      "Mean Absolute Error (MAE): 9.8607\n",
      "Root Mean Squared Error (RMSE): 11.6814\n",
      "Mean Absolute Percentage Error (MAPE): 33.16%\n",
      "Accuracy: 66.84%\n",
      "--------------------------------------------------\n",
      "\n",
      "📊 Model Performance Metrics:\n",
      "Model: LGBMRegressor\n",
      "R² Score: -0.2057\n",
      "Mean Absolute Error (MAE): 9.2029\n",
      "Root Mean Squared Error (RMSE): 10.9616\n",
      "Mean Absolute Percentage Error (MAPE): 33.80%\n",
      "Accuracy: 66.20%\n",
      "--------------------------------------------------\n",
      "\n",
      "📊 Model Performance Metrics:\n",
      "Model: RandomForestRegressor\n",
      "R² Score: 0.1418\n",
      "Mean Absolute Error (MAE): 7.1721\n",
      "Root Mean Squared Error (RMSE): 9.2480\n",
      "Mean Absolute Percentage Error (MAPE): 29.75%\n",
      "Accuracy: 70.25%\n",
      "--------------------------------------------------\n",
      "\n",
      "📊 Model Performance Metrics:\n",
      "Model: ElasticNet\n",
      "R² Score: -0.2133\n",
      "Mean Absolute Error (MAE): 8.9048\n",
      "Root Mean Squared Error (RMSE): 10.9962\n",
      "Mean Absolute Percentage Error (MAPE): 31.90%\n",
      "Accuracy: 68.10%\n",
      "--------------------------------------------------\n",
      "\n",
      "📊 Model Performance Metrics:\n",
      "Model: Ridge\n",
      "R² Score: -0.2013\n",
      "Mean Absolute Error (MAE): 8.5349\n",
      "Root Mean Squared Error (RMSE): 10.9416\n",
      "Mean Absolute Percentage Error (MAPE): 31.42%\n",
      "Accuracy: 68.58%\n",
      "--------------------------------------------------\n",
      "\n",
      "📊 Model Performance Metrics:\n",
      "Model: LinearRegression\n",
      "R² Score: -0.5360\n",
      "Mean Absolute Error (MAE): 9.3765\n",
      "Root Mean Squared Error (RMSE): 12.3724\n",
      "Mean Absolute Percentage Error (MAPE): 32.42%\n",
      "Accuracy: 67.58%\n",
      "--------------------------------------------------\n",
      "\n",
      "📊 Model Performance Metrics:\n",
      "Model: KNeighborsRegressor\n",
      "R² Score: -0.8599\n",
      "Mean Absolute Error (MAE): 10.8903\n",
      "Root Mean Squared Error (RMSE): 13.6145\n",
      "Mean Absolute Percentage Error (MAPE): 36.39%\n",
      "Accuracy: 63.61%\n",
      "--------------------------------------------------\n",
      "\n",
      "📊 Model Performance Metrics:\n",
      "Model: DecisionTreeRegressor\n",
      "R² Score: -0.8207\n",
      "Mean Absolute Error (MAE): 11.1069\n",
      "Root Mean Squared Error (RMSE): 13.4703\n",
      "Mean Absolute Percentage Error (MAPE): 43.82%\n",
      "Accuracy: 56.18%\n",
      "--------------------------------------------------\n"
     ]
    }
   ],
   "source": [
    "# --------------------------------------------\n",
    "# คำนวณและแสดงผล Regression Metrics (หลังจากพล็อตกราฟ)\n",
    "# --------------------------------------------\n",
    "for model_name, result in result_dict.items():\n",
    "    y_true = x.loc[start_date:end_date, 'pm_2_5']  # ค่าจริง\n",
    "    y_pred = result['prediction_label'].shift(-1)  # ค่าพยากรณ์\n",
    "\n",
    "    # ลบ NaN ที่เกิดจากการ shift\n",
    "    valid_idx = y_pred.dropna().index\n",
    "    y_true = y_true.loc[valid_idx]\n",
    "    y_pred = y_pred.loc[valid_idx]\n",
    "\n",
    "    r2 = r2_score(y_true, y_pred)\n",
    "    mae = mean_absolute_error(y_true, y_pred)\n",
    "    rmse = np.sqrt(mean_squared_error(y_true, y_pred))\n",
    "    mape = np.mean(np.abs((y_true - y_pred) / y_true)) * 100  # Mean Absolute Percentage Error\n",
    "    accuracy = 100 - mape  # เปลี่ยนเป็น Accuracy %\n",
    "\n",
    "    # แสดงค่า Metrics ของโมเดลนี้\n",
    "    print(\"\\n📊 Model Performance Metrics:\")\n",
    "    print(f\"Model: {model_name}\")\n",
    "    print(f\"R² Score: {r2:.4f}\")\n",
    "    print(f\"Mean Absolute Error (MAE): {mae:.4f}\")\n",
    "    print(f\"Root Mean Squared Error (RMSE): {rmse:.4f}\")\n",
    "    print(f\"Mean Absolute Percentage Error (MAPE): {mape:.2f}%\")\n",
    "    print(f\"Accuracy: {accuracy:.2f}%\")\n",
    "    print(\"-\" * 50)"
   ]
  }
 ],
 "metadata": {
  "kernelspec": {
   "display_name": "pycaret_venv",
   "language": "python",
   "name": "python3"
  },
  "language_info": {
   "codemirror_mode": {
    "name": "ipython",
    "version": 3
   },
   "file_extension": ".py",
   "mimetype": "text/x-python",
   "name": "python",
   "nbconvert_exporter": "python",
   "pygments_lexer": "ipython3",
   "version": "3.11.9"
  }
 },
 "nbformat": 4,
 "nbformat_minor": 2
}

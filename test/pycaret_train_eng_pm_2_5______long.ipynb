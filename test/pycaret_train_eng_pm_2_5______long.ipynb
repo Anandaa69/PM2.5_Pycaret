{
 "cells": [
  {
   "cell_type": "code",
   "execution_count": 1130,
   "metadata": {},
   "outputs": [],
   "source": [
    "import pycaret\n",
    "import pandas as pd"
   ]
  },
  {
   "cell_type": "code",
   "execution_count": 1131,
   "metadata": {},
   "outputs": [],
   "source": [
    "# อ่านไฟล์ CSV\n",
    "data = pd.read_csv('../export_data/filtered_data_3_best.csv')"
   ]
  },
  {
   "cell_type": "code",
   "execution_count": 1132,
   "metadata": {},
   "outputs": [],
   "source": [
    "# ตั้ง 'timestamp' เป็น index หากยังไม่ได้ทำ\n",
    "data['timestamp'] = pd.to_datetime(data['timestamp'])\n",
    "data.set_index('timestamp', inplace=True)\n",
    "\n",
    "# ตั้งค่า freq ให้กับ index\n",
    "data = data.asfreq('D')  # 'D' สำหรับรายวัน"
   ]
  },
  {
   "cell_type": "code",
   "execution_count": 1133,
   "metadata": {},
   "outputs": [
    {
     "data": {
      "text/html": [
       "<div>\n",
       "<style scoped>\n",
       "    .dataframe tbody tr th:only-of-type {\n",
       "        vertical-align: middle;\n",
       "    }\n",
       "\n",
       "    .dataframe tbody tr th {\n",
       "        vertical-align: top;\n",
       "    }\n",
       "\n",
       "    .dataframe thead th {\n",
       "        text-align: right;\n",
       "    }\n",
       "</style>\n",
       "<table border=\"1\" class=\"dataframe\">\n",
       "  <thead>\n",
       "    <tr style=\"text-align: right;\">\n",
       "      <th></th>\n",
       "      <th>humidity</th>\n",
       "      <th>pm_10</th>\n",
       "      <th>pm_2_5</th>\n",
       "      <th>pm_2_5_sp</th>\n",
       "      <th>temperature</th>\n",
       "    </tr>\n",
       "    <tr>\n",
       "      <th>timestamp</th>\n",
       "      <th></th>\n",
       "      <th></th>\n",
       "      <th></th>\n",
       "      <th></th>\n",
       "      <th></th>\n",
       "    </tr>\n",
       "  </thead>\n",
       "  <tbody>\n",
       "    <tr>\n",
       "      <th>2025-02-07 07:00:00</th>\n",
       "      <td>70.933952</td>\n",
       "      <td>34.743259</td>\n",
       "      <td>29.321219</td>\n",
       "      <td>26.166471</td>\n",
       "      <td>28.271927</td>\n",
       "    </tr>\n",
       "    <tr>\n",
       "      <th>2025-02-08 07:00:00</th>\n",
       "      <td>69.348548</td>\n",
       "      <td>30.654249</td>\n",
       "      <td>26.000000</td>\n",
       "      <td>22.380675</td>\n",
       "      <td>28.385596</td>\n",
       "    </tr>\n",
       "    <tr>\n",
       "      <th>2025-02-09 07:00:00</th>\n",
       "      <td>69.916384</td>\n",
       "      <td>28.971065</td>\n",
       "      <td>24.616898</td>\n",
       "      <td>20.976852</td>\n",
       "      <td>28.373742</td>\n",
       "    </tr>\n",
       "    <tr>\n",
       "      <th>2025-02-10 07:00:00</th>\n",
       "      <td>71.226336</td>\n",
       "      <td>30.652667</td>\n",
       "      <td>25.856981</td>\n",
       "      <td>22.374574</td>\n",
       "      <td>28.251201</td>\n",
       "    </tr>\n",
       "    <tr>\n",
       "      <th>2025-02-11 07:00:00</th>\n",
       "      <td>68.159624</td>\n",
       "      <td>32.532955</td>\n",
       "      <td>27.522727</td>\n",
       "      <td>24.120455</td>\n",
       "      <td>28.693799</td>\n",
       "    </tr>\n",
       "  </tbody>\n",
       "</table>\n",
       "</div>"
      ],
      "text/plain": [
       "                      humidity      pm_10     pm_2_5  pm_2_5_sp  temperature\n",
       "timestamp                                                                   \n",
       "2025-02-07 07:00:00  70.933952  34.743259  29.321219  26.166471    28.271927\n",
       "2025-02-08 07:00:00  69.348548  30.654249  26.000000  22.380675    28.385596\n",
       "2025-02-09 07:00:00  69.916384  28.971065  24.616898  20.976852    28.373742\n",
       "2025-02-10 07:00:00  71.226336  30.652667  25.856981  22.374574    28.251201\n",
       "2025-02-11 07:00:00  68.159624  32.532955  27.522727  24.120455    28.693799"
      ]
     },
     "execution_count": 1133,
     "metadata": {},
     "output_type": "execute_result"
    }
   ],
   "source": [
    "data.tail()"
   ]
  },
  {
   "cell_type": "code",
   "execution_count": 1134,
   "metadata": {},
   "outputs": [
    {
     "name": "stdout",
     "output_type": "stream",
     "text": [
      "แถวที่มีค่าหายไปก่อนเติม:\n",
      "                     humidity  pm_10  pm_2_5  pm_2_5_sp  temperature\n",
      "timestamp                                                           \n",
      "2023-09-30 07:00:00       NaN    NaN     NaN        NaN          NaN\n",
      "ไม่มีค่าหายไปแล้ว\n"
     ]
    },
    {
     "data": {
      "text/plain": [
       "humidity       82.889367\n",
       "pm_10          60.525519\n",
       "pm_2_5         53.415241\n",
       "pm_2_5_sp      69.527667\n",
       "temperature    29.219760\n",
       "Name: 2023-09-30 07:00:00, dtype: float64"
      ]
     },
     "execution_count": 1134,
     "metadata": {},
     "output_type": "execute_result"
    }
   ],
   "source": [
    "# แสดงแถวที่มีค่าหายไปก่อนเติม\n",
    "print(\"แถวที่มีค่าหายไปก่อนเติม:\")\n",
    "print(data[data.isnull().any(axis=1)])\n",
    "\n",
    "# เติมค่าที่หายไปด้วยการ interpolate แบบเส้นตรง\n",
    "data.interpolate(method='linear', inplace=True)\n",
    "\n",
    "# แสดงแถวที่ยังมีค่า NaN หลังจากเติม (ถ้ามี)\n",
    "missing_rows_after = data[data.isnull().any(axis=1)]\n",
    "if not missing_rows_after.empty:\n",
    "    print(\"แถวที่ยังมีค่าหายไปหลังเติม:\")\n",
    "    print(missing_rows_after)\n",
    "else:\n",
    "    print(\"ไม่มีค่าหายไปแล้ว\")\n",
    "\n",
    "\n",
    "row = data.loc[\"2023-09-30 07:00:00\"]\n",
    "row"
   ]
  },
  {
   "cell_type": "code",
   "execution_count": 1135,
   "metadata": {},
   "outputs": [],
   "source": [
    "data = data[['pm_2_5', 'humidity', 'temperature']]"
   ]
  },
  {
   "cell_type": "code",
   "execution_count": 1136,
   "metadata": {},
   "outputs": [],
   "source": [
    "data[\"year\"] = data.index.year\n",
    "data[\"month\"] = data.index.month\n",
    "data[\"day\"] = data.index.day\n",
    "data[\"day_of_week\"] = data.index.dayofweek  # 0 = Monday, 6 = Sunday\n",
    "data[\"week_of_year\"] = data.index.isocalendar().week  # ค่าจะเป็น int64"
   ]
  },
  {
   "cell_type": "code",
   "execution_count": 1137,
   "metadata": {},
   "outputs": [],
   "source": [
    "# สมมติว่า data มี index เป็น datetime อยู่แล้ว\n",
    "def assign_season(month):\n",
    "    if month in [2, 3, 4]:  # ก.พ. - เม.ย.\n",
    "        return \"summer\"        # ฤดูร้อน\n",
    "    elif month in [5, 6, 7]:  # พ.ค. - ก.ค.\n",
    "        return \"early_rainy\"   # ต้นฤดูฝน\n",
    "    else:  # ส.ค. - ม.ค.\n",
    "        return \"late_rainy\"    # ปลายฤดูฝน\n",
    "\n",
    "season_mapping = {'summer': 0, 'early_rainy': 1, 'late_rainy': 2}\n",
    "data[\"season\"] = data.index.month.map(assign_season)\n",
    "data['season'] = data['season'].map(season_mapping)"
   ]
  },
  {
   "cell_type": "code",
   "execution_count": 1138,
   "metadata": {},
   "outputs": [],
   "source": [
    "data['dew_point'] = data['temperature'] - ((100 - data['humidity']) / 5)"
   ]
  },
  {
   "cell_type": "code",
   "execution_count": 1139,
   "metadata": {},
   "outputs": [],
   "source": [
    "data[\"is_weekend\"] = data.index.dayofweek.isin([5, 6]).astype(int)"
   ]
  },
  {
   "cell_type": "code",
   "execution_count": 1140,
   "metadata": {},
   "outputs": [],
   "source": [
    "# อัตราส่วนของอุณหภูมิต่อความชื้น\n",
    "data[\"temp_humidity_ratio\"] = data[\"temperature\"] / (data[\"humidity\"] + 1)"
   ]
  },
  {
   "cell_type": "code",
   "execution_count": 1141,
   "metadata": {},
   "outputs": [],
   "source": [
    "# ดัชนีความร้อน (Heat Index) หรืออุณหภูมิที่รับรู้\n",
    "T = data[\"temperature\"]\n",
    "RH = data[\"humidity\"]\n",
    "\n",
    "data[\"heat_index\"] = -42.379 + (2.04901523 * T) + (10.14333127 * RH) - (0.22475541 * T * RH) - \\\n",
    "                   (0.00683783 * T**2) - (0.05481717 * RH**2) + (0.00122874 * T**2 * RH) + \\\n",
    "                   (0.00085282 * T * RH**2) - (0.00000199 * T**2 * RH**2)"
   ]
  },
  {
   "cell_type": "code",
   "execution_count": 1142,
   "metadata": {},
   "outputs": [],
   "source": [
    "# ความชื้นสัมพัทธ์เชิงดัชนี\n",
    "data[\"rh_index\"] = data[\"humidity\"] ** 2 / (data[\"temperature\"] + 1)"
   ]
  },
  {
   "cell_type": "code",
   "execution_count": 1143,
   "metadata": {},
   "outputs": [],
   "source": [
    "import pandas as pd\n",
    "import numpy as np\n",
    "\n",
    "# สมมุติว่ามี DataFrame data ที่มีข้อมูลอยู่แล้ว\n",
    "# เพิ่มฟีเจอร์ day_of_year\n",
    "data['date'] = pd.to_datetime(data[['year', 'month', 'day']])\n",
    "data['day_of_year'] = data['date'].dt.dayofyear\n",
    "\n",
    "# เพิ่มฟีเจอร์ month_sin และ month_cos\n",
    "data['month_sin'] = np.sin(2 * np.pi * data['month'] / 12)\n",
    "data['month_cos'] = np.cos(2 * np.pi * data['month'] / 12)\n",
    "\n",
    "# เพิ่มฟีเจอร์ day_of_week_sin และ day_of_week_cos\n",
    "data['day_of_week_sin'] = np.sin(2 * np.pi * data['day_of_week'] / 7)\n",
    "data['day_of_week_cos'] = np.cos(2 * np.pi * data['day_of_week'] / 7)\n",
    "\n",
    "rolling_size = 7\n",
    "for i in range(1,rolling_size+1):\n",
    "    data[f'pm_2_5_rolling_{i}'] = data['pm_2_5'].rolling(window=i).mean().shift(1)\n",
    "\n",
    "lag_size = 7\n",
    "for i in range(1,lag_size+1):\n",
    "    data[f'pm_2_5_lag_{i}'] = data['pm_2_5'].shift(i)\n",
    "\n",
    "data['humidity_rolling_2'] = data['humidity'].rolling(window=2).mean().shift(1)  # ค่าเฉลี่ย 2 วันของ PM 10\n",
    "data['humidity_rolling_3'] = data['humidity'].rolling(window=3).mean().shift(1)  # ค่าเฉลี่ย 3 วันของ PM 10\n",
    "data['humidity_rolling_5'] = data['humidity'].rolling(window=5).mean().shift(1)  # ค่าเฉลี่ย 5 วันของ PM 10\n",
    "data['humidity_rolling_7'] = data['humidity'].rolling(window=7).mean().shift(1)  # ค่าเฉลี่ย 7 วันของ PM 10\n",
    "\n",
    "data['humidity_lag_1'] = data['humidity'].shift(1)\n",
    "data['humidity_lag_2'] = data['humidity'].shift(2)\n",
    "data['humidity_lag_3'] = data['humidity'].shift(3)\n",
    "data['humidity_lag_5'] = data['humidity'].shift(5)\n",
    "data['humidity_lag_7'] = data['humidity'].shift(7)\n",
    "\n",
    "data['temperature_rolling_2'] = data['temperature'].rolling(window=2).mean().shift(1)  # ค่าเฉลี่ย 2 วันของ PM 10\n",
    "data['temperature_rolling_3'] = data['temperature'].rolling(window=3).mean().shift(1)  # ค่าเฉลี่ย 3 วันของ PM 10\n",
    "data['temperature_rolling_5'] = data['temperature'].rolling(window=5).mean().shift(1)  # ค่าเฉลี่ย 5 วันของ PM 10\n",
    "data['temperature_rolling_7'] = data['temperature'].rolling(window=7).mean().shift(1)  # ค่าเฉลี่ย 7 วันของ PM 10\n",
    "\n",
    "data['temperature_lag_1'] = data['temperature'].shift(1)\n",
    "data['temperature_lag_2'] = data['temperature'].shift(2)\n",
    "data['temperature_lag_3'] = data['temperature'].shift(3)\n",
    "data['temperature_lag_5'] = data['temperature'].shift(5)\n",
    "data['temperature_lag_7'] = data['temperature'].shift(7)"
   ]
  },
  {
   "cell_type": "code",
   "execution_count": 1144,
   "metadata": {},
   "outputs": [],
   "source": [
    "# data[\"temp_diff\"] = data[\"temperature\"].diff()\n",
    "# data[\"humidity_diff\"] = data[\"humidity\"].diff()"
   ]
  },
  {
   "cell_type": "code",
   "execution_count": 1145,
   "metadata": {},
   "outputs": [
    {
     "data": {
      "text/plain": [
       "Index(['pm_2_5', 'humidity', 'temperature', 'year', 'month', 'day',\n",
       "       'day_of_week', 'week_of_year', 'season', 'dew_point', 'is_weekend',\n",
       "       'temp_humidity_ratio', 'heat_index', 'rh_index', 'date', 'day_of_year',\n",
       "       'month_sin', 'month_cos', 'day_of_week_sin', 'day_of_week_cos',\n",
       "       'pm_2_5_rolling_1', 'pm_2_5_rolling_2', 'pm_2_5_rolling_3',\n",
       "       'pm_2_5_rolling_4', 'pm_2_5_rolling_5', 'pm_2_5_rolling_6',\n",
       "       'pm_2_5_rolling_7', 'pm_2_5_lag_1', 'pm_2_5_lag_2', 'pm_2_5_lag_3',\n",
       "       'pm_2_5_lag_4', 'pm_2_5_lag_5', 'pm_2_5_lag_6', 'pm_2_5_lag_7',\n",
       "       'humidity_rolling_2', 'humidity_rolling_3', 'humidity_rolling_5',\n",
       "       'humidity_rolling_7', 'humidity_lag_1', 'humidity_lag_2',\n",
       "       'humidity_lag_3', 'humidity_lag_5', 'humidity_lag_7',\n",
       "       'temperature_rolling_2', 'temperature_rolling_3',\n",
       "       'temperature_rolling_5', 'temperature_rolling_7', 'temperature_lag_1',\n",
       "       'temperature_lag_2', 'temperature_lag_3', 'temperature_lag_5',\n",
       "       'temperature_lag_7'],\n",
       "      dtype='object')"
      ]
     },
     "execution_count": 1145,
     "metadata": {},
     "output_type": "execute_result"
    }
   ],
   "source": [
    "data.columns"
   ]
  },
  {
   "cell_type": "code",
   "execution_count": 1146,
   "metadata": {},
   "outputs": [],
   "source": [
    "data_filtered = data.loc['2023-09':]  # ดึงข้อมูลตั้งแต่กันยายน 2023 เป็นต้นไป"
   ]
  },
  {
   "cell_type": "code",
   "execution_count": 1147,
   "metadata": {},
   "outputs": [
    {
     "data": {
      "text/plain": [
       "<Axes: xlabel='timestamp'>"
      ]
     },
     "execution_count": 1147,
     "metadata": {},
     "output_type": "execute_result"
    },
    {
     "data": {
      "image/png": "[encoded data removed]",
      "text/plain": [
       "<Figure size 800x550 with 1 Axes>"
      ]
     },
     "metadata": {},
     "output_type": "display_data"
    }
   ],
   "source": [
    "data_filtered.plot()"
   ]
  },
  {
   "cell_type": "code",
   "execution_count": 1148,
   "metadata": {},
   "outputs": [
    {
     "data": {
      "text/plain": [
       "0.05660377358490566"
      ]
     },
     "execution_count": 1148,
     "metadata": {},
     "output_type": "execute_result"
    }
   ],
   "source": [
    "# สมมติว่า data มีจำนวนวันทั้งหมด\n",
    "total_data = len(data_filtered)\n",
    "\n",
    "# จำนวนวันที่ต้องการเป็น test data\n",
    "test_days = 30\n",
    "\n",
    "# คำนวณสัดส่วนของ 30 วันในข้อมูลทั้งหมด\n",
    "test_size = test_days / total_data\n",
    "test_size"
   ]
  },
  {
   "cell_type": "code",
   "execution_count": 1149,
   "metadata": {},
   "outputs": [],
   "source": [
    "from sklearn.model_selection import train_test_split\n",
    "train_data, test_data = train_test_split(data_filtered, test_size=test_size, shuffle=False)"
   ]
  },
  {
   "cell_type": "code",
   "execution_count": 1150,
   "metadata": {},
   "outputs": [
    {
     "data": {
      "text/plain": [
       "(500, 52)"
      ]
     },
     "execution_count": 1150,
     "metadata": {},
     "output_type": "execute_result"
    }
   ],
   "source": [
    "train_data.shape"
   ]
  },
  {
   "cell_type": "code",
   "execution_count": 1151,
   "metadata": {},
   "outputs": [
    {
     "data": {
      "text/plain": [
       "(30, 52)"
      ]
     },
     "execution_count": 1151,
     "metadata": {},
     "output_type": "execute_result"
    }
   ],
   "source": [
    "test_data.shape"
   ]
  },
  {
   "cell_type": "code",
   "execution_count": 1152,
   "metadata": {},
   "outputs": [
    {
     "data": {
      "text/html": [
       "<div>\n",
       "<style scoped>\n",
       "    .dataframe tbody tr th:only-of-type {\n",
       "        vertical-align: middle;\n",
       "    }\n",
       "\n",
       "    .dataframe tbody tr th {\n",
       "        vertical-align: top;\n",
       "    }\n",
       "\n",
       "    .dataframe thead th {\n",
       "        text-align: right;\n",
       "    }\n",
       "</style>\n",
       "<table border=\"1\" class=\"dataframe\">\n",
       "  <thead>\n",
       "    <tr style=\"text-align: right;\">\n",
       "      <th></th>\n",
       "      <th>pm_2_5</th>\n",
       "      <th>humidity</th>\n",
       "      <th>temperature</th>\n",
       "      <th>year</th>\n",
       "      <th>month</th>\n",
       "      <th>day</th>\n",
       "      <th>day_of_week</th>\n",
       "      <th>week_of_year</th>\n",
       "      <th>season</th>\n",
       "      <th>dew_point</th>\n",
       "      <th>...</th>\n",
       "      <th>humidity_lag_7</th>\n",
       "      <th>temperature_rolling_2</th>\n",
       "      <th>temperature_rolling_3</th>\n",
       "      <th>temperature_rolling_5</th>\n",
       "      <th>temperature_rolling_7</th>\n",
       "      <th>temperature_lag_1</th>\n",
       "      <th>temperature_lag_2</th>\n",
       "      <th>temperature_lag_3</th>\n",
       "      <th>temperature_lag_5</th>\n",
       "      <th>temperature_lag_7</th>\n",
       "    </tr>\n",
       "    <tr>\n",
       "      <th>timestamp</th>\n",
       "      <th></th>\n",
       "      <th></th>\n",
       "      <th></th>\n",
       "      <th></th>\n",
       "      <th></th>\n",
       "      <th></th>\n",
       "      <th></th>\n",
       "      <th></th>\n",
       "      <th></th>\n",
       "      <th></th>\n",
       "      <th></th>\n",
       "      <th></th>\n",
       "      <th></th>\n",
       "      <th></th>\n",
       "      <th></th>\n",
       "      <th></th>\n",
       "      <th></th>\n",
       "      <th></th>\n",
       "      <th></th>\n",
       "      <th></th>\n",
       "      <th></th>\n",
       "    </tr>\n",
       "  </thead>\n",
       "  <tbody>\n",
       "    <tr>\n",
       "      <th>2025-01-13 07:00:00</th>\n",
       "      <td>42.594631</td>\n",
       "      <td>78.292202</td>\n",
       "      <td>25.997341</td>\n",
       "      <td>2025</td>\n",
       "      <td>1</td>\n",
       "      <td>13</td>\n",
       "      <td>0</td>\n",
       "      <td>3</td>\n",
       "      <td>2</td>\n",
       "      <td>21.655782</td>\n",
       "      <td>...</td>\n",
       "      <td>72.844643</td>\n",
       "      <td>26.896216</td>\n",
       "      <td>27.579379</td>\n",
       "      <td>28.008569</td>\n",
       "      <td>28.287636</td>\n",
       "      <td>25.434972</td>\n",
       "      <td>28.357459</td>\n",
       "      <td>28.945704</td>\n",
       "      <td>28.921543</td>\n",
       "      <td>28.825509</td>\n",
       "    </tr>\n",
       "  </tbody>\n",
       "</table>\n",
       "<p>1 rows × 52 columns</p>\n",
       "</div>"
      ],
      "text/plain": [
       "                        pm_2_5   humidity  temperature  year  month  day  \\\n",
       "timestamp                                                                  \n",
       "2025-01-13 07:00:00  42.594631  78.292202    25.997341  2025      1   13   \n",
       "\n",
       "                     day_of_week  week_of_year  season  dew_point  ...  \\\n",
       "timestamp                                                          ...   \n",
       "2025-01-13 07:00:00            0             3       2  21.655782  ...   \n",
       "\n",
       "                     humidity_lag_7  temperature_rolling_2  \\\n",
       "timestamp                                                    \n",
       "2025-01-13 07:00:00       72.844643              26.896216   \n",
       "\n",
       "                     temperature_rolling_3  temperature_rolling_5  \\\n",
       "timestamp                                                           \n",
       "2025-01-13 07:00:00              27.579379              28.008569   \n",
       "\n",
       "                    temperature_rolling_7  temperature_lag_1  \\\n",
       "timestamp                                                      \n",
       "2025-01-13 07:00:00             28.287636          25.434972   \n",
       "\n",
       "                     temperature_lag_2  temperature_lag_3  temperature_lag_5  \\\n",
       "timestamp                                                                      \n",
       "2025-01-13 07:00:00          28.357459          28.945704          28.921543   \n",
       "\n",
       "                     temperature_lag_7  \n",
       "timestamp                               \n",
       "2025-01-13 07:00:00          28.825509  \n",
       "\n",
       "[1 rows x 52 columns]"
      ]
     },
     "execution_count": 1152,
     "metadata": {},
     "output_type": "execute_result"
    }
   ],
   "source": [
    "test_data.head(1)"
   ]
  },
  {
   "cell_type": "code",
   "execution_count": 1153,
   "metadata": {},
   "outputs": [
    {
     "data": {
      "text/html": [
       "<div>\n",
       "<style scoped>\n",
       "    .dataframe tbody tr th:only-of-type {\n",
       "        vertical-align: middle;\n",
       "    }\n",
       "\n",
       "    .dataframe tbody tr th {\n",
       "        vertical-align: top;\n",
       "    }\n",
       "\n",
       "    .dataframe thead th {\n",
       "        text-align: right;\n",
       "    }\n",
       "</style>\n",
       "<table border=\"1\" class=\"dataframe\">\n",
       "  <thead>\n",
       "    <tr style=\"text-align: right;\">\n",
       "      <th></th>\n",
       "      <th>pm_2_5</th>\n",
       "      <th>humidity</th>\n",
       "      <th>temperature</th>\n",
       "      <th>year</th>\n",
       "      <th>month</th>\n",
       "      <th>day</th>\n",
       "      <th>day_of_week</th>\n",
       "      <th>week_of_year</th>\n",
       "      <th>season</th>\n",
       "      <th>dew_point</th>\n",
       "      <th>...</th>\n",
       "      <th>humidity_lag_7</th>\n",
       "      <th>temperature_rolling_2</th>\n",
       "      <th>temperature_rolling_3</th>\n",
       "      <th>temperature_rolling_5</th>\n",
       "      <th>temperature_rolling_7</th>\n",
       "      <th>temperature_lag_1</th>\n",
       "      <th>temperature_lag_2</th>\n",
       "      <th>temperature_lag_3</th>\n",
       "      <th>temperature_lag_5</th>\n",
       "      <th>temperature_lag_7</th>\n",
       "    </tr>\n",
       "    <tr>\n",
       "      <th>timestamp</th>\n",
       "      <th></th>\n",
       "      <th></th>\n",
       "      <th></th>\n",
       "      <th></th>\n",
       "      <th></th>\n",
       "      <th></th>\n",
       "      <th></th>\n",
       "      <th></th>\n",
       "      <th></th>\n",
       "      <th></th>\n",
       "      <th></th>\n",
       "      <th></th>\n",
       "      <th></th>\n",
       "      <th></th>\n",
       "      <th></th>\n",
       "      <th></th>\n",
       "      <th></th>\n",
       "      <th></th>\n",
       "      <th></th>\n",
       "      <th></th>\n",
       "      <th></th>\n",
       "    </tr>\n",
       "  </thead>\n",
       "  <tbody>\n",
       "    <tr>\n",
       "      <th>2025-02-11 07:00:00</th>\n",
       "      <td>27.522727</td>\n",
       "      <td>68.159624</td>\n",
       "      <td>28.693799</td>\n",
       "      <td>2025</td>\n",
       "      <td>2</td>\n",
       "      <td>11</td>\n",
       "      <td>1</td>\n",
       "      <td>7</td>\n",
       "      <td>0</td>\n",
       "      <td>22.325724</td>\n",
       "      <td>...</td>\n",
       "      <td>70.266522</td>\n",
       "      <td>28.312472</td>\n",
       "      <td>28.336846</td>\n",
       "      <td>28.372328</td>\n",
       "      <td>28.280646</td>\n",
       "      <td>28.251201</td>\n",
       "      <td>28.373742</td>\n",
       "      <td>28.385596</td>\n",
       "      <td>28.579177</td>\n",
       "      <td>27.775432</td>\n",
       "    </tr>\n",
       "  </tbody>\n",
       "</table>\n",
       "<p>1 rows × 52 columns</p>\n",
       "</div>"
      ],
      "text/plain": [
       "                        pm_2_5   humidity  temperature  year  month  day  \\\n",
       "timestamp                                                                  \n",
       "2025-02-11 07:00:00  27.522727  68.159624    28.693799  2025      2   11   \n",
       "\n",
       "                     day_of_week  week_of_year  season  dew_point  ...  \\\n",
       "timestamp                                                          ...   \n",
       "2025-02-11 07:00:00            1             7       0  22.325724  ...   \n",
       "\n",
       "                     humidity_lag_7  temperature_rolling_2  \\\n",
       "timestamp                                                    \n",
       "2025-02-11 07:00:00       70.266522              28.312472   \n",
       "\n",
       "                     temperature_rolling_3  temperature_rolling_5  \\\n",
       "timestamp                                                           \n",
       "2025-02-11 07:00:00              28.336846              28.372328   \n",
       "\n",
       "                    temperature_rolling_7  temperature_lag_1  \\\n",
       "timestamp                                                      \n",
       "2025-02-11 07:00:00             28.280646          28.251201   \n",
       "\n",
       "                     temperature_lag_2  temperature_lag_3  temperature_lag_5  \\\n",
       "timestamp                                                                      \n",
       "2025-02-11 07:00:00          28.373742          28.385596          28.579177   \n",
       "\n",
       "                     temperature_lag_7  \n",
       "timestamp                               \n",
       "2025-02-11 07:00:00          27.775432  \n",
       "\n",
       "[1 rows x 52 columns]"
      ]
     },
     "execution_count": 1153,
     "metadata": {},
     "output_type": "execute_result"
    }
   ],
   "source": [
    "test_data.tail(1)"
   ]
  },
  {
   "cell_type": "code",
   "execution_count": 1154,
   "metadata": {},
   "outputs": [
    {
     "data": {
      "text/html": [
       "<div>\n",
       "<style scoped>\n",
       "    .dataframe tbody tr th:only-of-type {\n",
       "        vertical-align: middle;\n",
       "    }\n",
       "\n",
       "    .dataframe tbody tr th {\n",
       "        vertical-align: top;\n",
       "    }\n",
       "\n",
       "    .dataframe thead th {\n",
       "        text-align: right;\n",
       "    }\n",
       "</style>\n",
       "<table border=\"1\" class=\"dataframe\">\n",
       "  <thead>\n",
       "    <tr style=\"text-align: right;\">\n",
       "      <th></th>\n",
       "      <th>pm_2_5</th>\n",
       "      <th>humidity</th>\n",
       "      <th>temperature</th>\n",
       "      <th>year</th>\n",
       "      <th>month</th>\n",
       "      <th>day</th>\n",
       "      <th>day_of_week</th>\n",
       "      <th>week_of_year</th>\n",
       "      <th>season</th>\n",
       "      <th>dew_point</th>\n",
       "      <th>...</th>\n",
       "      <th>humidity_lag_7</th>\n",
       "      <th>temperature_rolling_2</th>\n",
       "      <th>temperature_rolling_3</th>\n",
       "      <th>temperature_rolling_5</th>\n",
       "      <th>temperature_rolling_7</th>\n",
       "      <th>temperature_lag_1</th>\n",
       "      <th>temperature_lag_2</th>\n",
       "      <th>temperature_lag_3</th>\n",
       "      <th>temperature_lag_5</th>\n",
       "      <th>temperature_lag_7</th>\n",
       "    </tr>\n",
       "    <tr>\n",
       "      <th>timestamp</th>\n",
       "      <th></th>\n",
       "      <th></th>\n",
       "      <th></th>\n",
       "      <th></th>\n",
       "      <th></th>\n",
       "      <th></th>\n",
       "      <th></th>\n",
       "      <th></th>\n",
       "      <th></th>\n",
       "      <th></th>\n",
       "      <th></th>\n",
       "      <th></th>\n",
       "      <th></th>\n",
       "      <th></th>\n",
       "      <th></th>\n",
       "      <th></th>\n",
       "      <th></th>\n",
       "      <th></th>\n",
       "      <th></th>\n",
       "      <th></th>\n",
       "      <th></th>\n",
       "    </tr>\n",
       "  </thead>\n",
       "  <tbody>\n",
       "    <tr>\n",
       "      <th>2025-02-07 07:00:00</th>\n",
       "      <td>29.321219</td>\n",
       "      <td>70.933952</td>\n",
       "      <td>28.271927</td>\n",
       "      <td>2025</td>\n",
       "      <td>2</td>\n",
       "      <td>7</td>\n",
       "      <td>4</td>\n",
       "      <td>6</td>\n",
       "      <td>0</td>\n",
       "      <td>22.458717</td>\n",
       "      <td>...</td>\n",
       "      <td>68.520368</td>\n",
       "      <td>28.453313</td>\n",
       "      <td>28.227353</td>\n",
       "      <td>28.202099</td>\n",
       "      <td>27.951803</td>\n",
       "      <td>28.579177</td>\n",
       "      <td>28.327450</td>\n",
       "      <td>27.775432</td>\n",
       "      <td>27.683890</td>\n",
       "      <td>27.336718</td>\n",
       "    </tr>\n",
       "    <tr>\n",
       "      <th>2025-02-08 07:00:00</th>\n",
       "      <td>26.000000</td>\n",
       "      <td>69.348548</td>\n",
       "      <td>28.385596</td>\n",
       "      <td>2025</td>\n",
       "      <td>2</td>\n",
       "      <td>8</td>\n",
       "      <td>5</td>\n",
       "      <td>6</td>\n",
       "      <td>0</td>\n",
       "      <td>22.255305</td>\n",
       "      <td>...</td>\n",
       "      <td>69.231031</td>\n",
       "      <td>28.425552</td>\n",
       "      <td>28.392851</td>\n",
       "      <td>28.319706</td>\n",
       "      <td>28.085404</td>\n",
       "      <td>28.271927</td>\n",
       "      <td>28.579177</td>\n",
       "      <td>28.327450</td>\n",
       "      <td>28.644544</td>\n",
       "      <td>27.315410</td>\n",
       "    </tr>\n",
       "    <tr>\n",
       "      <th>2025-02-09 07:00:00</th>\n",
       "      <td>24.616898</td>\n",
       "      <td>69.916384</td>\n",
       "      <td>28.373742</td>\n",
       "      <td>2025</td>\n",
       "      <td>2</td>\n",
       "      <td>9</td>\n",
       "      <td>6</td>\n",
       "      <td>6</td>\n",
       "      <td>0</td>\n",
       "      <td>22.357019</td>\n",
       "      <td>...</td>\n",
       "      <td>70.341639</td>\n",
       "      <td>28.328761</td>\n",
       "      <td>28.412233</td>\n",
       "      <td>28.267916</td>\n",
       "      <td>28.238288</td>\n",
       "      <td>28.385596</td>\n",
       "      <td>28.271927</td>\n",
       "      <td>28.579177</td>\n",
       "      <td>27.775432</td>\n",
       "      <td>27.683890</td>\n",
       "    </tr>\n",
       "    <tr>\n",
       "      <th>2025-02-10 07:00:00</th>\n",
       "      <td>25.856981</td>\n",
       "      <td>71.226336</td>\n",
       "      <td>28.251201</td>\n",
       "      <td>2025</td>\n",
       "      <td>2</td>\n",
       "      <td>10</td>\n",
       "      <td>0</td>\n",
       "      <td>7</td>\n",
       "      <td>0</td>\n",
       "      <td>22.496468</td>\n",
       "      <td>...</td>\n",
       "      <td>65.114261</td>\n",
       "      <td>28.379669</td>\n",
       "      <td>28.343755</td>\n",
       "      <td>28.387578</td>\n",
       "      <td>28.336838</td>\n",
       "      <td>28.373742</td>\n",
       "      <td>28.385596</td>\n",
       "      <td>28.271927</td>\n",
       "      <td>28.327450</td>\n",
       "      <td>28.644544</td>\n",
       "    </tr>\n",
       "    <tr>\n",
       "      <th>2025-02-11 07:00:00</th>\n",
       "      <td>27.522727</td>\n",
       "      <td>68.159624</td>\n",
       "      <td>28.693799</td>\n",
       "      <td>2025</td>\n",
       "      <td>2</td>\n",
       "      <td>11</td>\n",
       "      <td>1</td>\n",
       "      <td>7</td>\n",
       "      <td>0</td>\n",
       "      <td>22.325724</td>\n",
       "      <td>...</td>\n",
       "      <td>70.266522</td>\n",
       "      <td>28.312472</td>\n",
       "      <td>28.336846</td>\n",
       "      <td>28.372328</td>\n",
       "      <td>28.280646</td>\n",
       "      <td>28.251201</td>\n",
       "      <td>28.373742</td>\n",
       "      <td>28.385596</td>\n",
       "      <td>28.579177</td>\n",
       "      <td>27.775432</td>\n",
       "    </tr>\n",
       "  </tbody>\n",
       "</table>\n",
       "<p>5 rows × 52 columns</p>\n",
       "</div>"
      ],
      "text/plain": [
       "                        pm_2_5   humidity  temperature  year  month  day  \\\n",
       "timestamp                                                                  \n",
       "2025-02-07 07:00:00  29.321219  70.933952    28.271927  2025      2    7   \n",
       "2025-02-08 07:00:00  26.000000  69.348548    28.385596  2025      2    8   \n",
       "2025-02-09 07:00:00  24.616898  69.916384    28.373742  2025      2    9   \n",
       "2025-02-10 07:00:00  25.856981  71.226336    28.251201  2025      2   10   \n",
       "2025-02-11 07:00:00  27.522727  68.159624    28.693799  2025      2   11   \n",
       "\n",
       "                     day_of_week  week_of_year  season  dew_point  ...  \\\n",
       "timestamp                                                          ...   \n",
       "2025-02-07 07:00:00            4             6       0  22.458717  ...   \n",
       "2025-02-08 07:00:00            5             6       0  22.255305  ...   \n",
       "2025-02-09 07:00:00            6             6       0  22.357019  ...   \n",
       "2025-02-10 07:00:00            0             7       0  22.496468  ...   \n",
       "2025-02-11 07:00:00            1             7       0  22.325724  ...   \n",
       "\n",
       "                     humidity_lag_7  temperature_rolling_2  \\\n",
       "timestamp                                                    \n",
       "2025-02-07 07:00:00       68.520368              28.453313   \n",
       "2025-02-08 07:00:00       69.231031              28.425552   \n",
       "2025-02-09 07:00:00       70.341639              28.328761   \n",
       "2025-02-10 07:00:00       65.114261              28.379669   \n",
       "2025-02-11 07:00:00       70.266522              28.312472   \n",
       "\n",
       "                     temperature_rolling_3  temperature_rolling_5  \\\n",
       "timestamp                                                           \n",
       "2025-02-07 07:00:00              28.227353              28.202099   \n",
       "2025-02-08 07:00:00              28.392851              28.319706   \n",
       "2025-02-09 07:00:00              28.412233              28.267916   \n",
       "2025-02-10 07:00:00              28.343755              28.387578   \n",
       "2025-02-11 07:00:00              28.336846              28.372328   \n",
       "\n",
       "                    temperature_rolling_7  temperature_lag_1  \\\n",
       "timestamp                                                      \n",
       "2025-02-07 07:00:00             27.951803          28.579177   \n",
       "2025-02-08 07:00:00             28.085404          28.271927   \n",
       "2025-02-09 07:00:00             28.238288          28.385596   \n",
       "2025-02-10 07:00:00             28.336838          28.373742   \n",
       "2025-02-11 07:00:00             28.280646          28.251201   \n",
       "\n",
       "                     temperature_lag_2  temperature_lag_3  temperature_lag_5  \\\n",
       "timestamp                                                                      \n",
       "2025-02-07 07:00:00          28.327450          27.775432          27.683890   \n",
       "2025-02-08 07:00:00          28.579177          28.327450          28.644544   \n",
       "2025-02-09 07:00:00          28.271927          28.579177          27.775432   \n",
       "2025-02-10 07:00:00          28.385596          28.271927          28.327450   \n",
       "2025-02-11 07:00:00          28.373742          28.385596          28.579177   \n",
       "\n",
       "                     temperature_lag_7  \n",
       "timestamp                               \n",
       "2025-02-07 07:00:00          27.336718  \n",
       "2025-02-08 07:00:00          27.315410  \n",
       "2025-02-09 07:00:00          27.683890  \n",
       "2025-02-10 07:00:00          28.644544  \n",
       "2025-02-11 07:00:00          27.775432  \n",
       "\n",
       "[5 rows x 52 columns]"
      ]
     },
     "execution_count": 1154,
     "metadata": {},
     "output_type": "execute_result"
    }
   ],
   "source": [
    "test_data.tail()"
   ]
  },
  {
   "cell_type": "code",
   "execution_count": 1155,
   "metadata": {},
   "outputs": [
    {
     "data": {
      "text/plain": [
       "Index(['pm_2_5', 'humidity', 'temperature', 'year', 'month', 'day',\n",
       "       'day_of_week', 'week_of_year', 'season', 'dew_point', 'is_weekend',\n",
       "       'temp_humidity_ratio', 'heat_index', 'rh_index', 'date', 'day_of_year',\n",
       "       'month_sin', 'month_cos', 'day_of_week_sin', 'day_of_week_cos',\n",
       "       'pm_2_5_rolling_1', 'pm_2_5_rolling_2', 'pm_2_5_rolling_3',\n",
       "       'pm_2_5_rolling_4', 'pm_2_5_rolling_5', 'pm_2_5_rolling_6',\n",
       "       'pm_2_5_rolling_7', 'pm_2_5_lag_1', 'pm_2_5_lag_2', 'pm_2_5_lag_3',\n",
       "       'pm_2_5_lag_4', 'pm_2_5_lag_5', 'pm_2_5_lag_6', 'pm_2_5_lag_7',\n",
       "       'humidity_rolling_2', 'humidity_rolling_3', 'humidity_rolling_5',\n",
       "       'humidity_rolling_7', 'humidity_lag_1', 'humidity_lag_2',\n",
       "       'humidity_lag_3', 'humidity_lag_5', 'humidity_lag_7',\n",
       "       'temperature_rolling_2', 'temperature_rolling_3',\n",
       "       'temperature_rolling_5', 'temperature_rolling_7', 'temperature_lag_1',\n",
       "       'temperature_lag_2', 'temperature_lag_3', 'temperature_lag_5',\n",
       "       'temperature_lag_7'],\n",
       "      dtype='object')"
      ]
     },
     "execution_count": 1155,
     "metadata": {},
     "output_type": "execute_result"
    }
   ],
   "source": [
    "test_data.columns"
   ]
  },
  {
   "cell_type": "code",
   "execution_count": 1156,
   "metadata": {},
   "outputs": [],
   "source": [
    "# train_data.dropna()"
   ]
  },
  {
   "cell_type": "code",
   "execution_count": 1157,
   "metadata": {},
   "outputs": [
    {
     "data": {
      "text/html": [
       "<style type=\"text/css\">\n",
       "#T_306c7_row9_col1, #T_306c7_row13_col1 {\n",
       "  background-color: lightgreen;\n",
       "}\n",
       "</style>\n",
       "<table id=\"T_306c7\">\n",
       "  <thead>\n",
       "    <tr>\n",
       "      <th class=\"blank level0\" >&nbsp;</th>\n",
       "      <th id=\"T_306c7_level0_col0\" class=\"col_heading level0 col0\" >Description</th>\n",
       "      <th id=\"T_306c7_level0_col1\" class=\"col_heading level0 col1\" >Value</th>\n",
       "    </tr>\n",
       "  </thead>\n",
       "  <tbody>\n",
       "    <tr>\n",
       "      <th id=\"T_306c7_level0_row0\" class=\"row_heading level0 row0\" >0</th>\n",
       "      <td id=\"T_306c7_row0_col0\" class=\"data row0 col0\" >Session id</td>\n",
       "      <td id=\"T_306c7_row0_col1\" class=\"data row0 col1\" >123</td>\n",
       "    </tr>\n",
       "    <tr>\n",
       "      <th id=\"T_306c7_level0_row1\" class=\"row_heading level0 row1\" >1</th>\n",
       "      <td id=\"T_306c7_row1_col0\" class=\"data row1 col0\" >Target</td>\n",
       "      <td id=\"T_306c7_row1_col1\" class=\"data row1 col1\" >pm_2_5</td>\n",
       "    </tr>\n",
       "    <tr>\n",
       "      <th id=\"T_306c7_level0_row2\" class=\"row_heading level0 row2\" >2</th>\n",
       "      <td id=\"T_306c7_row2_col0\" class=\"data row2 col0\" >Target type</td>\n",
       "      <td id=\"T_306c7_row2_col1\" class=\"data row2 col1\" >Regression</td>\n",
       "    </tr>\n",
       "    <tr>\n",
       "      <th id=\"T_306c7_level0_row3\" class=\"row_heading level0 row3\" >3</th>\n",
       "      <td id=\"T_306c7_row3_col0\" class=\"data row3 col0\" >Original data shape</td>\n",
       "      <td id=\"T_306c7_row3_col1\" class=\"data row3 col1\" >(500, 52)</td>\n",
       "    </tr>\n",
       "    <tr>\n",
       "      <th id=\"T_306c7_level0_row4\" class=\"row_heading level0 row4\" >4</th>\n",
       "      <td id=\"T_306c7_row4_col0\" class=\"data row4 col0\" >Transformed data shape</td>\n",
       "      <td id=\"T_306c7_row4_col1\" class=\"data row4 col1\" >(482, 54)</td>\n",
       "    </tr>\n",
       "    <tr>\n",
       "      <th id=\"T_306c7_level0_row5\" class=\"row_heading level0 row5\" >5</th>\n",
       "      <td id=\"T_306c7_row5_col0\" class=\"data row5 col0\" >Transformed train set shape</td>\n",
       "      <td id=\"T_306c7_row5_col1\" class=\"data row5 col1\" >(332, 54)</td>\n",
       "    </tr>\n",
       "    <tr>\n",
       "      <th id=\"T_306c7_level0_row6\" class=\"row_heading level0 row6\" >6</th>\n",
       "      <td id=\"T_306c7_row6_col0\" class=\"data row6 col0\" >Transformed test set shape</td>\n",
       "      <td id=\"T_306c7_row6_col1\" class=\"data row6 col1\" >(150, 54)</td>\n",
       "    </tr>\n",
       "    <tr>\n",
       "      <th id=\"T_306c7_level0_row7\" class=\"row_heading level0 row7\" >7</th>\n",
       "      <td id=\"T_306c7_row7_col0\" class=\"data row7 col0\" >Numeric features</td>\n",
       "      <td id=\"T_306c7_row7_col1\" class=\"data row7 col1\" >50</td>\n",
       "    </tr>\n",
       "    <tr>\n",
       "      <th id=\"T_306c7_level0_row8\" class=\"row_heading level0 row8\" >8</th>\n",
       "      <td id=\"T_306c7_row8_col0\" class=\"data row8 col0\" >Date features</td>\n",
       "      <td id=\"T_306c7_row8_col1\" class=\"data row8 col1\" >1</td>\n",
       "    </tr>\n",
       "    <tr>\n",
       "      <th id=\"T_306c7_level0_row9\" class=\"row_heading level0 row9\" >9</th>\n",
       "      <td id=\"T_306c7_row9_col0\" class=\"data row9 col0\" >Preprocess</td>\n",
       "      <td id=\"T_306c7_row9_col1\" class=\"data row9 col1\" >True</td>\n",
       "    </tr>\n",
       "    <tr>\n",
       "      <th id=\"T_306c7_level0_row10\" class=\"row_heading level0 row10\" >10</th>\n",
       "      <td id=\"T_306c7_row10_col0\" class=\"data row10 col0\" >Imputation type</td>\n",
       "      <td id=\"T_306c7_row10_col1\" class=\"data row10 col1\" >simple</td>\n",
       "    </tr>\n",
       "    <tr>\n",
       "      <th id=\"T_306c7_level0_row11\" class=\"row_heading level0 row11\" >11</th>\n",
       "      <td id=\"T_306c7_row11_col0\" class=\"data row11 col0\" >Numeric imputation</td>\n",
       "      <td id=\"T_306c7_row11_col1\" class=\"data row11 col1\" >mean</td>\n",
       "    </tr>\n",
       "    <tr>\n",
       "      <th id=\"T_306c7_level0_row12\" class=\"row_heading level0 row12\" >12</th>\n",
       "      <td id=\"T_306c7_row12_col0\" class=\"data row12 col0\" >Categorical imputation</td>\n",
       "      <td id=\"T_306c7_row12_col1\" class=\"data row12 col1\" >mode</td>\n",
       "    </tr>\n",
       "    <tr>\n",
       "      <th id=\"T_306c7_level0_row13\" class=\"row_heading level0 row13\" >13</th>\n",
       "      <td id=\"T_306c7_row13_col0\" class=\"data row13 col0\" >Remove outliers</td>\n",
       "      <td id=\"T_306c7_row13_col1\" class=\"data row13 col1\" >True</td>\n",
       "    </tr>\n",
       "    <tr>\n",
       "      <th id=\"T_306c7_level0_row14\" class=\"row_heading level0 row14\" >14</th>\n",
       "      <td id=\"T_306c7_row14_col0\" class=\"data row14 col0\" >Outliers threshold</td>\n",
       "      <td id=\"T_306c7_row14_col1\" class=\"data row14 col1\" >0.050000</td>\n",
       "    </tr>\n",
       "    <tr>\n",
       "      <th id=\"T_306c7_level0_row15\" class=\"row_heading level0 row15\" >15</th>\n",
       "      <td id=\"T_306c7_row15_col0\" class=\"data row15 col0\" >Fold Generator</td>\n",
       "      <td id=\"T_306c7_row15_col1\" class=\"data row15 col1\" >KFold</td>\n",
       "    </tr>\n",
       "    <tr>\n",
       "      <th id=\"T_306c7_level0_row16\" class=\"row_heading level0 row16\" >16</th>\n",
       "      <td id=\"T_306c7_row16_col0\" class=\"data row16 col0\" >Fold Number</td>\n",
       "      <td id=\"T_306c7_row16_col1\" class=\"data row16 col1\" >12</td>\n",
       "    </tr>\n",
       "    <tr>\n",
       "      <th id=\"T_306c7_level0_row17\" class=\"row_heading level0 row17\" >17</th>\n",
       "      <td id=\"T_306c7_row17_col0\" class=\"data row17 col0\" >CPU Jobs</td>\n",
       "      <td id=\"T_306c7_row17_col1\" class=\"data row17 col1\" >-1</td>\n",
       "    </tr>\n",
       "    <tr>\n",
       "      <th id=\"T_306c7_level0_row18\" class=\"row_heading level0 row18\" >18</th>\n",
       "      <td id=\"T_306c7_row18_col0\" class=\"data row18 col0\" >Use GPU</td>\n",
       "      <td id=\"T_306c7_row18_col1\" class=\"data row18 col1\" >False</td>\n",
       "    </tr>\n",
       "    <tr>\n",
       "      <th id=\"T_306c7_level0_row19\" class=\"row_heading level0 row19\" >19</th>\n",
       "      <td id=\"T_306c7_row19_col0\" class=\"data row19 col0\" >Log Experiment</td>\n",
       "      <td id=\"T_306c7_row19_col1\" class=\"data row19 col1\" >False</td>\n",
       "    </tr>\n",
       "    <tr>\n",
       "      <th id=\"T_306c7_level0_row20\" class=\"row_heading level0 row20\" >20</th>\n",
       "      <td id=\"T_306c7_row20_col0\" class=\"data row20 col0\" >Experiment Name</td>\n",
       "      <td id=\"T_306c7_row20_col1\" class=\"data row20 col1\" >reg-default-name</td>\n",
       "    </tr>\n",
       "    <tr>\n",
       "      <th id=\"T_306c7_level0_row21\" class=\"row_heading level0 row21\" >21</th>\n",
       "      <td id=\"T_306c7_row21_col0\" class=\"data row21 col0\" >USI</td>\n",
       "      <td id=\"T_306c7_row21_col1\" class=\"data row21 col1\" >343e</td>\n",
       "    </tr>\n",
       "  </tbody>\n",
       "</table>\n"
      ],
      "text/plain": [
       "<pandas.io.formats.style.Styler at 0x19414641ed0>"
      ]
     },
     "metadata": {},
     "output_type": "display_data"
    },
    {
     "data": {
      "text/plain": [
       "<pycaret.regression.oop.RegressionExperiment at 0x1941ee7d5d0>"
      ]
     },
     "execution_count": 1157,
     "metadata": {},
     "output_type": "execute_result"
    }
   ],
   "source": [
    "# from pycaret.time_series import *\n",
    "from pycaret.regression import RegressionExperiment\n",
    "exp1 = RegressionExperiment()\n",
    "exp1.setup(data=train_data, target='pm_2_5', session_id=123, fold=12, iterative_imputation_iters=100, remove_outliers = True)"
   ]
  },
  {
   "cell_type": "code",
   "execution_count": 1158,
   "metadata": {},
   "outputs": [
    {
     "data": {
      "text/html": [],
      "text/plain": [
       "<IPython.core.display.HTML object>"
      ]
     },
     "metadata": {},
     "output_type": "display_data"
    },
    {
     "data": {
      "text/html": [
       "<style type=\"text/css\">\n",
       "#T_00b7b th {\n",
       "  text-align: left;\n",
       "}\n",
       "#T_00b7b_row0_col0, #T_00b7b_row0_col1, #T_00b7b_row0_col5, #T_00b7b_row0_col6, #T_00b7b_row1_col0, #T_00b7b_row1_col1, #T_00b7b_row1_col2, #T_00b7b_row1_col3, #T_00b7b_row1_col4, #T_00b7b_row1_col6, #T_00b7b_row2_col0, #T_00b7b_row2_col1, #T_00b7b_row2_col2, #T_00b7b_row2_col3, #T_00b7b_row2_col4, #T_00b7b_row2_col5, #T_00b7b_row2_col6, #T_00b7b_row3_col0, #T_00b7b_row3_col1, #T_00b7b_row3_col2, #T_00b7b_row3_col3, #T_00b7b_row3_col4, #T_00b7b_row3_col5, #T_00b7b_row3_col6, #T_00b7b_row4_col0, #T_00b7b_row4_col1, #T_00b7b_row4_col2, #T_00b7b_row4_col3, #T_00b7b_row4_col4, #T_00b7b_row4_col5, #T_00b7b_row4_col6, #T_00b7b_row5_col0, #T_00b7b_row5_col2, #T_00b7b_row5_col3, #T_00b7b_row5_col4, #T_00b7b_row5_col5, #T_00b7b_row6_col0, #T_00b7b_row6_col1, #T_00b7b_row6_col2, #T_00b7b_row6_col3, #T_00b7b_row6_col4, #T_00b7b_row6_col5, #T_00b7b_row6_col6, #T_00b7b_row7_col0, #T_00b7b_row7_col1, #T_00b7b_row7_col2, #T_00b7b_row7_col3, #T_00b7b_row7_col4, #T_00b7b_row7_col5, #T_00b7b_row7_col6, #T_00b7b_row8_col0, #T_00b7b_row8_col1, #T_00b7b_row8_col2, #T_00b7b_row8_col3, #T_00b7b_row8_col4, #T_00b7b_row8_col5, #T_00b7b_row8_col6, #T_00b7b_row9_col0, #T_00b7b_row9_col1, #T_00b7b_row9_col2, #T_00b7b_row9_col3, #T_00b7b_row9_col4, #T_00b7b_row9_col5, #T_00b7b_row9_col6, #T_00b7b_row10_col0, #T_00b7b_row10_col1, #T_00b7b_row10_col2, #T_00b7b_row10_col3, #T_00b7b_row10_col4, #T_00b7b_row10_col5, #T_00b7b_row10_col6, #T_00b7b_row11_col0, #T_00b7b_row11_col1, #T_00b7b_row11_col2, #T_00b7b_row11_col3, #T_00b7b_row11_col4, #T_00b7b_row11_col5, #T_00b7b_row11_col6, #T_00b7b_row12_col0, #T_00b7b_row12_col1, #T_00b7b_row12_col2, #T_00b7b_row12_col3, #T_00b7b_row12_col4, #T_00b7b_row12_col5, #T_00b7b_row12_col6, #T_00b7b_row13_col0, #T_00b7b_row13_col1, #T_00b7b_row13_col2, #T_00b7b_row13_col3, #T_00b7b_row13_col4, #T_00b7b_row13_col5, #T_00b7b_row13_col6, #T_00b7b_row14_col0, #T_00b7b_row14_col1, #T_00b7b_row14_col2, #T_00b7b_row14_col3, #T_00b7b_row14_col4, #T_00b7b_row14_col5, #T_00b7b_row14_col6, #T_00b7b_row15_col0, #T_00b7b_row15_col1, #T_00b7b_row15_col2, #T_00b7b_row15_col3, #T_00b7b_row15_col4, #T_00b7b_row15_col5, #T_00b7b_row15_col6, #T_00b7b_row16_col0, #T_00b7b_row16_col1, #T_00b7b_row16_col2, #T_00b7b_row16_col3, #T_00b7b_row16_col4, #T_00b7b_row16_col5, #T_00b7b_row16_col6, #T_00b7b_row17_col0, #T_00b7b_row17_col1, #T_00b7b_row17_col2, #T_00b7b_row17_col3, #T_00b7b_row17_col4, #T_00b7b_row17_col5, #T_00b7b_row17_col6 {\n",
       "  text-align: left;\n",
       "}\n",
       "#T_00b7b_row0_col2, #T_00b7b_row0_col3, #T_00b7b_row0_col4, #T_00b7b_row1_col5, #T_00b7b_row5_col1, #T_00b7b_row5_col6 {\n",
       "  text-align: left;\n",
       "  background-color: yellow;\n",
       "}\n",
       "#T_00b7b_row0_col7, #T_00b7b_row1_col7, #T_00b7b_row2_col7, #T_00b7b_row3_col7, #T_00b7b_row4_col7, #T_00b7b_row5_col7, #T_00b7b_row6_col7, #T_00b7b_row7_col7, #T_00b7b_row8_col7, #T_00b7b_row9_col7, #T_00b7b_row10_col7, #T_00b7b_row11_col7, #T_00b7b_row12_col7, #T_00b7b_row13_col7, #T_00b7b_row14_col7, #T_00b7b_row15_col7, #T_00b7b_row17_col7 {\n",
       "  text-align: left;\n",
       "  background-color: lightgrey;\n",
       "}\n",
       "#T_00b7b_row16_col7 {\n",
       "  text-align: left;\n",
       "  background-color: yellow;\n",
       "  background-color: lightgrey;\n",
       "}\n",
       "</style>\n",
       "<table id=\"T_00b7b\">\n",
       "  <thead>\n",
       "    <tr>\n",
       "      <th class=\"blank level0\" >&nbsp;</th>\n",
       "      <th id=\"T_00b7b_level0_col0\" class=\"col_heading level0 col0\" >Model</th>\n",
       "      <th id=\"T_00b7b_level0_col1\" class=\"col_heading level0 col1\" >MAE</th>\n",
       "      <th id=\"T_00b7b_level0_col2\" class=\"col_heading level0 col2\" >MSE</th>\n",
       "      <th id=\"T_00b7b_level0_col3\" class=\"col_heading level0 col3\" >RMSE</th>\n",
       "      <th id=\"T_00b7b_level0_col4\" class=\"col_heading level0 col4\" >R2</th>\n",
       "      <th id=\"T_00b7b_level0_col5\" class=\"col_heading level0 col5\" >RMSLE</th>\n",
       "      <th id=\"T_00b7b_level0_col6\" class=\"col_heading level0 col6\" >MAPE</th>\n",
       "      <th id=\"T_00b7b_level0_col7\" class=\"col_heading level0 col7\" >TT (Sec)</th>\n",
       "    </tr>\n",
       "  </thead>\n",
       "  <tbody>\n",
       "    <tr>\n",
       "      <th id=\"T_00b7b_level0_row0\" class=\"row_heading level0 row0\" >lasso</th>\n",
       "      <td id=\"T_00b7b_row0_col0\" class=\"data row0 col0\" >Lasso Regression</td>\n",
       "      <td id=\"T_00b7b_row0_col1\" class=\"data row0 col1\" >5.0997</td>\n",
       "      <td id=\"T_00b7b_row0_col2\" class=\"data row0 col2\" >44.0693</td>\n",
       "      <td id=\"T_00b7b_row0_col3\" class=\"data row0 col3\" >6.4856</td>\n",
       "      <td id=\"T_00b7b_row0_col4\" class=\"data row0 col4\" >0.5305</td>\n",
       "      <td id=\"T_00b7b_row0_col5\" class=\"data row0 col5\" >0.3428</td>\n",
       "      <td id=\"T_00b7b_row0_col6\" class=\"data row0 col6\" >0.3238</td>\n",
       "      <td id=\"T_00b7b_row0_col7\" class=\"data row0 col7\" >0.0275</td>\n",
       "    </tr>\n",
       "    <tr>\n",
       "      <th id=\"T_00b7b_level0_row1\" class=\"row_heading level0 row1\" >llar</th>\n",
       "      <td id=\"T_00b7b_row1_col0\" class=\"data row1 col0\" >Lasso Least Angle Regression</td>\n",
       "      <td id=\"T_00b7b_row1_col1\" class=\"data row1 col1\" >5.1037</td>\n",
       "      <td id=\"T_00b7b_row1_col2\" class=\"data row1 col2\" >44.1387</td>\n",
       "      <td id=\"T_00b7b_row1_col3\" class=\"data row1 col3\" >6.4896</td>\n",
       "      <td id=\"T_00b7b_row1_col4\" class=\"data row1 col4\" >0.5300</td>\n",
       "      <td id=\"T_00b7b_row1_col5\" class=\"data row1 col5\" >0.3426</td>\n",
       "      <td id=\"T_00b7b_row1_col6\" class=\"data row1 col6\" >0.3238</td>\n",
       "      <td id=\"T_00b7b_row1_col7\" class=\"data row1 col7\" >0.0242</td>\n",
       "    </tr>\n",
       "    <tr>\n",
       "      <th id=\"T_00b7b_level0_row2\" class=\"row_heading level0 row2\" >omp</th>\n",
       "      <td id=\"T_00b7b_row2_col0\" class=\"data row2 col0\" >Orthogonal Matching Pursuit</td>\n",
       "      <td id=\"T_00b7b_row2_col1\" class=\"data row2 col1\" >5.1284</td>\n",
       "      <td id=\"T_00b7b_row2_col2\" class=\"data row2 col2\" >44.4361</td>\n",
       "      <td id=\"T_00b7b_row2_col3\" class=\"data row2 col3\" >6.5067</td>\n",
       "      <td id=\"T_00b7b_row2_col4\" class=\"data row2 col4\" >0.5273</td>\n",
       "      <td id=\"T_00b7b_row2_col5\" class=\"data row2 col5\" >0.3457</td>\n",
       "      <td id=\"T_00b7b_row2_col6\" class=\"data row2 col6\" >0.3266</td>\n",
       "      <td id=\"T_00b7b_row2_col7\" class=\"data row2 col7\" >0.0225</td>\n",
       "    </tr>\n",
       "    <tr>\n",
       "      <th id=\"T_00b7b_level0_row3\" class=\"row_heading level0 row3\" >br</th>\n",
       "      <td id=\"T_00b7b_row3_col0\" class=\"data row3 col0\" >Bayesian Ridge</td>\n",
       "      <td id=\"T_00b7b_row3_col1\" class=\"data row3 col1\" >5.1391</td>\n",
       "      <td id=\"T_00b7b_row3_col2\" class=\"data row3 col2\" >44.6256</td>\n",
       "      <td id=\"T_00b7b_row3_col3\" class=\"data row3 col3\" >6.5293</td>\n",
       "      <td id=\"T_00b7b_row3_col4\" class=\"data row3 col4\" >0.5252</td>\n",
       "      <td id=\"T_00b7b_row3_col5\" class=\"data row3 col5\" >0.3454</td>\n",
       "      <td id=\"T_00b7b_row3_col6\" class=\"data row3 col6\" >0.3267</td>\n",
       "      <td id=\"T_00b7b_row3_col7\" class=\"data row3 col7\" >0.0192</td>\n",
       "    </tr>\n",
       "    <tr>\n",
       "      <th id=\"T_00b7b_level0_row4\" class=\"row_heading level0 row4\" >en</th>\n",
       "      <td id=\"T_00b7b_row4_col0\" class=\"data row4 col0\" >Elastic Net</td>\n",
       "      <td id=\"T_00b7b_row4_col1\" class=\"data row4 col1\" >5.1237</td>\n",
       "      <td id=\"T_00b7b_row4_col2\" class=\"data row4 col2\" >44.4917</td>\n",
       "      <td id=\"T_00b7b_row4_col3\" class=\"data row4 col3\" >6.5188</td>\n",
       "      <td id=\"T_00b7b_row4_col4\" class=\"data row4 col4\" >0.5249</td>\n",
       "      <td id=\"T_00b7b_row4_col5\" class=\"data row4 col5\" >0.3451</td>\n",
       "      <td id=\"T_00b7b_row4_col6\" class=\"data row4 col6\" >0.3243</td>\n",
       "      <td id=\"T_00b7b_row4_col7\" class=\"data row4 col7\" >0.0267</td>\n",
       "    </tr>\n",
       "    <tr>\n",
       "      <th id=\"T_00b7b_level0_row5\" class=\"row_heading level0 row5\" >huber</th>\n",
       "      <td id=\"T_00b7b_row5_col0\" class=\"data row5 col0\" >Huber Regressor</td>\n",
       "      <td id=\"T_00b7b_row5_col1\" class=\"data row5 col1\" >5.0905</td>\n",
       "      <td id=\"T_00b7b_row5_col2\" class=\"data row5 col2\" >45.3886</td>\n",
       "      <td id=\"T_00b7b_row5_col3\" class=\"data row5 col3\" >6.5468</td>\n",
       "      <td id=\"T_00b7b_row5_col4\" class=\"data row5 col4\" >0.5173</td>\n",
       "      <td id=\"T_00b7b_row5_col5\" class=\"data row5 col5\" >0.3440</td>\n",
       "      <td id=\"T_00b7b_row5_col6\" class=\"data row5 col6\" >0.3048</td>\n",
       "      <td id=\"T_00b7b_row5_col7\" class=\"data row5 col7\" >0.0200</td>\n",
       "    </tr>\n",
       "    <tr>\n",
       "      <th id=\"T_00b7b_level0_row6\" class=\"row_heading level0 row6\" >lightgbm</th>\n",
       "      <td id=\"T_00b7b_row6_col0\" class=\"data row6 col0\" >Light Gradient Boosting Machine</td>\n",
       "      <td id=\"T_00b7b_row6_col1\" class=\"data row6 col1\" >5.3237</td>\n",
       "      <td id=\"T_00b7b_row6_col2\" class=\"data row6 col2\" >48.6244</td>\n",
       "      <td id=\"T_00b7b_row6_col3\" class=\"data row6 col3\" >6.7912</td>\n",
       "      <td id=\"T_00b7b_row6_col4\" class=\"data row6 col4\" >0.4889</td>\n",
       "      <td id=\"T_00b7b_row6_col5\" class=\"data row6 col5\" >0.3600</td>\n",
       "      <td id=\"T_00b7b_row6_col6\" class=\"data row6 col6\" >0.3424</td>\n",
       "      <td id=\"T_00b7b_row6_col7\" class=\"data row6 col7\" >0.0617</td>\n",
       "    </tr>\n",
       "    <tr>\n",
       "      <th id=\"T_00b7b_level0_row7\" class=\"row_heading level0 row7\" >ridge</th>\n",
       "      <td id=\"T_00b7b_row7_col0\" class=\"data row7 col0\" >Ridge Regression</td>\n",
       "      <td id=\"T_00b7b_row7_col1\" class=\"data row7 col1\" >5.3730</td>\n",
       "      <td id=\"T_00b7b_row7_col2\" class=\"data row7 col2\" >48.2545</td>\n",
       "      <td id=\"T_00b7b_row7_col3\" class=\"data row7 col3\" >6.8172</td>\n",
       "      <td id=\"T_00b7b_row7_col4\" class=\"data row7 col4\" >0.4864</td>\n",
       "      <td id=\"T_00b7b_row7_col5\" class=\"data row7 col5\" >0.3770</td>\n",
       "      <td id=\"T_00b7b_row7_col6\" class=\"data row7 col6\" >0.3357</td>\n",
       "      <td id=\"T_00b7b_row7_col7\" class=\"data row7 col7\" >0.0242</td>\n",
       "    </tr>\n",
       "    <tr>\n",
       "      <th id=\"T_00b7b_level0_row8\" class=\"row_heading level0 row8\" >ada</th>\n",
       "      <td id=\"T_00b7b_row8_col0\" class=\"data row8 col0\" >AdaBoost Regressor</td>\n",
       "      <td id=\"T_00b7b_row8_col1\" class=\"data row8 col1\" >5.4994</td>\n",
       "      <td id=\"T_00b7b_row8_col2\" class=\"data row8 col2\" >48.6577</td>\n",
       "      <td id=\"T_00b7b_row8_col3\" class=\"data row8 col3\" >6.8467</td>\n",
       "      <td id=\"T_00b7b_row8_col4\" class=\"data row8 col4\" >0.4796</td>\n",
       "      <td id=\"T_00b7b_row8_col5\" class=\"data row8 col5\" >0.3695</td>\n",
       "      <td id=\"T_00b7b_row8_col6\" class=\"data row8 col6\" >0.3739</td>\n",
       "      <td id=\"T_00b7b_row8_col7\" class=\"data row8 col7\" >0.0575</td>\n",
       "    </tr>\n",
       "    <tr>\n",
       "      <th id=\"T_00b7b_level0_row9\" class=\"row_heading level0 row9\" >gbr</th>\n",
       "      <td id=\"T_00b7b_row9_col0\" class=\"data row9 col0\" >Gradient Boosting Regressor</td>\n",
       "      <td id=\"T_00b7b_row9_col1\" class=\"data row9 col1\" >5.4973</td>\n",
       "      <td id=\"T_00b7b_row9_col2\" class=\"data row9 col2\" >49.6076</td>\n",
       "      <td id=\"T_00b7b_row9_col3\" class=\"data row9 col3\" >6.8943</td>\n",
       "      <td id=\"T_00b7b_row9_col4\" class=\"data row9 col4\" >0.4755</td>\n",
       "      <td id=\"T_00b7b_row9_col5\" class=\"data row9 col5\" >0.3613</td>\n",
       "      <td id=\"T_00b7b_row9_col6\" class=\"data row9 col6\" >0.3518</td>\n",
       "      <td id=\"T_00b7b_row9_col7\" class=\"data row9 col7\" >0.0742</td>\n",
       "    </tr>\n",
       "    <tr>\n",
       "      <th id=\"T_00b7b_level0_row10\" class=\"row_heading level0 row10\" >rf</th>\n",
       "      <td id=\"T_00b7b_row10_col0\" class=\"data row10 col0\" >Random Forest Regressor</td>\n",
       "      <td id=\"T_00b7b_row10_col1\" class=\"data row10 col1\" >5.4222</td>\n",
       "      <td id=\"T_00b7b_row10_col2\" class=\"data row10 col2\" >48.9444</td>\n",
       "      <td id=\"T_00b7b_row10_col3\" class=\"data row10 col3\" >6.8641</td>\n",
       "      <td id=\"T_00b7b_row10_col4\" class=\"data row10 col4\" >0.4747</td>\n",
       "      <td id=\"T_00b7b_row10_col5\" class=\"data row10 col5\" >0.3658</td>\n",
       "      <td id=\"T_00b7b_row10_col6\" class=\"data row10 col6\" >0.3575</td>\n",
       "      <td id=\"T_00b7b_row10_col7\" class=\"data row10 col7\" >0.1133</td>\n",
       "    </tr>\n",
       "    <tr>\n",
       "      <th id=\"T_00b7b_level0_row11\" class=\"row_heading level0 row11\" >et</th>\n",
       "      <td id=\"T_00b7b_row11_col0\" class=\"data row11 col0\" >Extra Trees Regressor</td>\n",
       "      <td id=\"T_00b7b_row11_col1\" class=\"data row11 col1\" >5.3810</td>\n",
       "      <td id=\"T_00b7b_row11_col2\" class=\"data row11 col2\" >49.2331</td>\n",
       "      <td id=\"T_00b7b_row11_col3\" class=\"data row11 col3\" >6.8709</td>\n",
       "      <td id=\"T_00b7b_row11_col4\" class=\"data row11 col4\" >0.4730</td>\n",
       "      <td id=\"T_00b7b_row11_col5\" class=\"data row11 col5\" >0.3595</td>\n",
       "      <td id=\"T_00b7b_row11_col6\" class=\"data row11 col6\" >0.3456</td>\n",
       "      <td id=\"T_00b7b_row11_col7\" class=\"data row11 col7\" >0.0625</td>\n",
       "    </tr>\n",
       "    <tr>\n",
       "      <th id=\"T_00b7b_level0_row12\" class=\"row_heading level0 row12\" >lr</th>\n",
       "      <td id=\"T_00b7b_row12_col0\" class=\"data row12 col0\" >Linear Regression</td>\n",
       "      <td id=\"T_00b7b_row12_col1\" class=\"data row12 col1\" >5.4779</td>\n",
       "      <td id=\"T_00b7b_row12_col2\" class=\"data row12 col2\" >50.7806</td>\n",
       "      <td id=\"T_00b7b_row12_col3\" class=\"data row12 col3\" >6.9721</td>\n",
       "      <td id=\"T_00b7b_row12_col4\" class=\"data row12 col4\" >0.4627</td>\n",
       "      <td id=\"T_00b7b_row12_col5\" class=\"data row12 col5\" >0.3819</td>\n",
       "      <td id=\"T_00b7b_row12_col6\" class=\"data row12 col6\" >0.3346</td>\n",
       "      <td id=\"T_00b7b_row12_col7\" class=\"data row12 col7\" >0.3600</td>\n",
       "    </tr>\n",
       "    <tr>\n",
       "      <th id=\"T_00b7b_level0_row13\" class=\"row_heading level0 row13\" >knn</th>\n",
       "      <td id=\"T_00b7b_row13_col0\" class=\"data row13 col0\" >K Neighbors Regressor</td>\n",
       "      <td id=\"T_00b7b_row13_col1\" class=\"data row13 col1\" >5.8703</td>\n",
       "      <td id=\"T_00b7b_row13_col2\" class=\"data row13 col2\" >56.8668</td>\n",
       "      <td id=\"T_00b7b_row13_col3\" class=\"data row13 col3\" >7.4301</td>\n",
       "      <td id=\"T_00b7b_row13_col4\" class=\"data row13 col4\" >0.3792</td>\n",
       "      <td id=\"T_00b7b_row13_col5\" class=\"data row13 col5\" >0.3806</td>\n",
       "      <td id=\"T_00b7b_row13_col6\" class=\"data row13 col6\" >0.3745</td>\n",
       "      <td id=\"T_00b7b_row13_col7\" class=\"data row13 col7\" >0.0267</td>\n",
       "    </tr>\n",
       "    <tr>\n",
       "      <th id=\"T_00b7b_level0_row14\" class=\"row_heading level0 row14\" >dt</th>\n",
       "      <td id=\"T_00b7b_row14_col0\" class=\"data row14 col0\" >Decision Tree Regressor</td>\n",
       "      <td id=\"T_00b7b_row14_col1\" class=\"data row14 col1\" >7.4843</td>\n",
       "      <td id=\"T_00b7b_row14_col2\" class=\"data row14 col2\" >91.7635</td>\n",
       "      <td id=\"T_00b7b_row14_col3\" class=\"data row14 col3\" >9.4915</td>\n",
       "      <td id=\"T_00b7b_row14_col4\" class=\"data row14 col4\" >-0.0107</td>\n",
       "      <td id=\"T_00b7b_row14_col5\" class=\"data row14 col5\" >0.4807</td>\n",
       "      <td id=\"T_00b7b_row14_col6\" class=\"data row14 col6\" >0.4487</td>\n",
       "      <td id=\"T_00b7b_row14_col7\" class=\"data row14 col7\" >0.0217</td>\n",
       "    </tr>\n",
       "    <tr>\n",
       "      <th id=\"T_00b7b_level0_row15\" class=\"row_heading level0 row15\" >dummy</th>\n",
       "      <td id=\"T_00b7b_row15_col0\" class=\"data row15 col0\" >Dummy Regressor</td>\n",
       "      <td id=\"T_00b7b_row15_col1\" class=\"data row15 col1\" >7.8600</td>\n",
       "      <td id=\"T_00b7b_row15_col2\" class=\"data row15 col2\" >99.8821</td>\n",
       "      <td id=\"T_00b7b_row15_col3\" class=\"data row15 col3\" >9.8543</td>\n",
       "      <td id=\"T_00b7b_row15_col4\" class=\"data row15 col4\" >-0.0470</td>\n",
       "      <td id=\"T_00b7b_row15_col5\" class=\"data row15 col5\" >0.4996</td>\n",
       "      <td id=\"T_00b7b_row15_col6\" class=\"data row15 col6\" >0.5535</td>\n",
       "      <td id=\"T_00b7b_row15_col7\" class=\"data row15 col7\" >0.0192</td>\n",
       "    </tr>\n",
       "    <tr>\n",
       "      <th id=\"T_00b7b_level0_row16\" class=\"row_heading level0 row16\" >par</th>\n",
       "      <td id=\"T_00b7b_row16_col0\" class=\"data row16 col0\" >Passive Aggressive Regressor</td>\n",
       "      <td id=\"T_00b7b_row16_col1\" class=\"data row16 col1\" >8.7619</td>\n",
       "      <td id=\"T_00b7b_row16_col2\" class=\"data row16 col2\" >131.3286</td>\n",
       "      <td id=\"T_00b7b_row16_col3\" class=\"data row16 col3\" >10.9043</td>\n",
       "      <td id=\"T_00b7b_row16_col4\" class=\"data row16 col4\" >-0.4037</td>\n",
       "      <td id=\"T_00b7b_row16_col5\" class=\"data row16 col5\" >0.5597</td>\n",
       "      <td id=\"T_00b7b_row16_col6\" class=\"data row16 col6\" >0.5325</td>\n",
       "      <td id=\"T_00b7b_row16_col7\" class=\"data row16 col7\" >0.0183</td>\n",
       "    </tr>\n",
       "    <tr>\n",
       "      <th id=\"T_00b7b_level0_row17\" class=\"row_heading level0 row17\" >lar</th>\n",
       "      <td id=\"T_00b7b_row17_col0\" class=\"data row17 col0\" >Least Angle Regression</td>\n",
       "      <td id=\"T_00b7b_row17_col1\" class=\"data row17 col1\" >279179326661583.2188</td>\n",
       "      <td id=\"T_00b7b_row17_col2\" class=\"data row17 col2\" >893865451295157925056786464768.0000</td>\n",
       "      <td id=\"T_00b7b_row17_col3\" class=\"data row17 col3\" >386059030533216.1875</td>\n",
       "      <td id=\"T_00b7b_row17_col4\" class=\"data row17 col4\" >-7294381558826066777772916736.0000</td>\n",
       "      <td id=\"T_00b7b_row17_col5\" class=\"data row17 col5\" >18.3252</td>\n",
       "      <td id=\"T_00b7b_row17_col6\" class=\"data row17 col6\" >13681567012949.0137</td>\n",
       "      <td id=\"T_00b7b_row17_col7\" class=\"data row17 col7\" >0.0258</td>\n",
       "    </tr>\n",
       "  </tbody>\n",
       "</table>\n"
      ],
      "text/plain": [
       "<pandas.io.formats.style.Styler at 0x1941eaa9250>"
      ]
     },
     "metadata": {},
     "output_type": "display_data"
    },
    {
     "data": {
      "text/html": [],
      "text/plain": [
       "<IPython.core.display.HTML object>"
      ]
     },
     "metadata": {},
     "output_type": "display_data"
    }
   ],
   "source": [
    "# compare baseline models\n",
    "best = exp1.compare_models(n_select=17)"
   ]
  },
  {
   "cell_type": "code",
   "execution_count": 1159,
   "metadata": {},
   "outputs": [
    {
     "ename": "NameError",
     "evalue": "name 'stop' is not defined",
     "output_type": "error",
     "traceback": [
      "\u001b[1;31m---------------------------------------------------------------------------\u001b[0m",
      "\u001b[1;31mNameError\u001b[0m                                 Traceback (most recent call last)",
      "Cell \u001b[1;32mIn[1159], line 1\u001b[0m\n\u001b[1;32m----> 1\u001b[0m \u001b[43mstop\u001b[49m\n",
      "\u001b[1;31mNameError\u001b[0m: name 'stop' is not defined"
     ]
    }
   ],
   "source": [
    "stop"
   ]
  },
  {
   "cell_type": "code",
   "execution_count": 1160,
   "metadata": {},
   "outputs": [
    {
     "data": {
      "text/html": [],
      "text/plain": [
       "<IPython.core.display.HTML object>"
      ]
     },
     "metadata": {},
     "output_type": "display_data"
    },
    {
     "data": {
      "text/html": [
       "<style type=\"text/css\">\n",
       "#T_53101_row12_col0, #T_53101_row12_col1, #T_53101_row12_col2, #T_53101_row12_col3, #T_53101_row12_col4, #T_53101_row12_col5 {\n",
       "  background: yellow;\n",
       "}\n",
       "</style>\n",
       "<table id=\"T_53101\">\n",
       "  <thead>\n",
       "    <tr>\n",
       "      <th class=\"blank level0\" >&nbsp;</th>\n",
       "      <th id=\"T_53101_level0_col0\" class=\"col_heading level0 col0\" >MAE</th>\n",
       "      <th id=\"T_53101_level0_col1\" class=\"col_heading level0 col1\" >MSE</th>\n",
       "      <th id=\"T_53101_level0_col2\" class=\"col_heading level0 col2\" >RMSE</th>\n",
       "      <th id=\"T_53101_level0_col3\" class=\"col_heading level0 col3\" >R2</th>\n",
       "      <th id=\"T_53101_level0_col4\" class=\"col_heading level0 col4\" >RMSLE</th>\n",
       "      <th id=\"T_53101_level0_col5\" class=\"col_heading level0 col5\" >MAPE</th>\n",
       "    </tr>\n",
       "    <tr>\n",
       "      <th class=\"index_name level0\" >Fold</th>\n",
       "      <th class=\"blank col0\" >&nbsp;</th>\n",
       "      <th class=\"blank col1\" >&nbsp;</th>\n",
       "      <th class=\"blank col2\" >&nbsp;</th>\n",
       "      <th class=\"blank col3\" >&nbsp;</th>\n",
       "      <th class=\"blank col4\" >&nbsp;</th>\n",
       "      <th class=\"blank col5\" >&nbsp;</th>\n",
       "    </tr>\n",
       "  </thead>\n",
       "  <tbody>\n",
       "    <tr>\n",
       "      <th id=\"T_53101_level0_row0\" class=\"row_heading level0 row0\" >0</th>\n",
       "      <td id=\"T_53101_row0_col0\" class=\"data row0 col0\" >4.4530</td>\n",
       "      <td id=\"T_53101_row0_col1\" class=\"data row0 col1\" >31.4864</td>\n",
       "      <td id=\"T_53101_row0_col2\" class=\"data row0 col2\" >5.6113</td>\n",
       "      <td id=\"T_53101_row0_col3\" class=\"data row0 col3\" >0.6537</td>\n",
       "      <td id=\"T_53101_row0_col4\" class=\"data row0 col4\" >0.3269</td>\n",
       "      <td id=\"T_53101_row0_col5\" class=\"data row0 col5\" >0.2968</td>\n",
       "    </tr>\n",
       "    <tr>\n",
       "      <th id=\"T_53101_level0_row1\" class=\"row_heading level0 row1\" >1</th>\n",
       "      <td id=\"T_53101_row1_col0\" class=\"data row1 col0\" >7.6535</td>\n",
       "      <td id=\"T_53101_row1_col1\" class=\"data row1 col1\" >111.7135</td>\n",
       "      <td id=\"T_53101_row1_col2\" class=\"data row1 col2\" >10.5695</td>\n",
       "      <td id=\"T_53101_row1_col3\" class=\"data row1 col3\" >0.3846</td>\n",
       "      <td id=\"T_53101_row1_col4\" class=\"data row1 col4\" >0.4366</td>\n",
       "      <td id=\"T_53101_row1_col5\" class=\"data row1 col5\" >0.3761</td>\n",
       "    </tr>\n",
       "    <tr>\n",
       "      <th id=\"T_53101_level0_row2\" class=\"row_heading level0 row2\" >2</th>\n",
       "      <td id=\"T_53101_row2_col0\" class=\"data row2 col0\" >4.5477</td>\n",
       "      <td id=\"T_53101_row2_col1\" class=\"data row2 col1\" >28.3466</td>\n",
       "      <td id=\"T_53101_row2_col2\" class=\"data row2 col2\" >5.3241</td>\n",
       "      <td id=\"T_53101_row2_col3\" class=\"data row2 col3\" >0.6127</td>\n",
       "      <td id=\"T_53101_row2_col4\" class=\"data row2 col4\" >0.4094</td>\n",
       "      <td id=\"T_53101_row2_col5\" class=\"data row2 col5\" >0.4637</td>\n",
       "    </tr>\n",
       "    <tr>\n",
       "      <th id=\"T_53101_level0_row3\" class=\"row_heading level0 row3\" >3</th>\n",
       "      <td id=\"T_53101_row3_col0\" class=\"data row3 col0\" >6.2658</td>\n",
       "      <td id=\"T_53101_row3_col1\" class=\"data row3 col1\" >59.0392</td>\n",
       "      <td id=\"T_53101_row3_col2\" class=\"data row3 col2\" >7.6837</td>\n",
       "      <td id=\"T_53101_row3_col3\" class=\"data row3 col3\" >0.4745</td>\n",
       "      <td id=\"T_53101_row3_col4\" class=\"data row3 col4\" >0.4083</td>\n",
       "      <td id=\"T_53101_row3_col5\" class=\"data row3 col5\" >0.4239</td>\n",
       "    </tr>\n",
       "    <tr>\n",
       "      <th id=\"T_53101_level0_row4\" class=\"row_heading level0 row4\" >4</th>\n",
       "      <td id=\"T_53101_row4_col0\" class=\"data row4 col0\" >4.8466</td>\n",
       "      <td id=\"T_53101_row4_col1\" class=\"data row4 col1\" >53.0166</td>\n",
       "      <td id=\"T_53101_row4_col2\" class=\"data row4 col2\" >7.2812</td>\n",
       "      <td id=\"T_53101_row4_col3\" class=\"data row4 col3\" >0.4901</td>\n",
       "      <td id=\"T_53101_row4_col4\" class=\"data row4 col4\" >0.3004</td>\n",
       "      <td id=\"T_53101_row4_col5\" class=\"data row4 col5\" >0.2405</td>\n",
       "    </tr>\n",
       "    <tr>\n",
       "      <th id=\"T_53101_level0_row5\" class=\"row_heading level0 row5\" >5</th>\n",
       "      <td id=\"T_53101_row5_col0\" class=\"data row5 col0\" >5.2729</td>\n",
       "      <td id=\"T_53101_row5_col1\" class=\"data row5 col1\" >42.7568</td>\n",
       "      <td id=\"T_53101_row5_col2\" class=\"data row5 col2\" >6.5389</td>\n",
       "      <td id=\"T_53101_row5_col3\" class=\"data row5 col3\" >0.2873</td>\n",
       "      <td id=\"T_53101_row5_col4\" class=\"data row5 col4\" >0.4019</td>\n",
       "      <td id=\"T_53101_row5_col5\" class=\"data row5 col5\" >0.4185</td>\n",
       "    </tr>\n",
       "    <tr>\n",
       "      <th id=\"T_53101_level0_row6\" class=\"row_heading level0 row6\" >6</th>\n",
       "      <td id=\"T_53101_row6_col0\" class=\"data row6 col0\" >6.2615</td>\n",
       "      <td id=\"T_53101_row6_col1\" class=\"data row6 col1\" >57.3515</td>\n",
       "      <td id=\"T_53101_row6_col2\" class=\"data row6 col2\" >7.5731</td>\n",
       "      <td id=\"T_53101_row6_col3\" class=\"data row6 col3\" >0.0630</td>\n",
       "      <td id=\"T_53101_row6_col4\" class=\"data row6 col4\" >0.4424</td>\n",
       "      <td id=\"T_53101_row6_col5\" class=\"data row6 col5\" >0.4919</td>\n",
       "    </tr>\n",
       "    <tr>\n",
       "      <th id=\"T_53101_level0_row7\" class=\"row_heading level0 row7\" >7</th>\n",
       "      <td id=\"T_53101_row7_col0\" class=\"data row7 col0\" >5.7667</td>\n",
       "      <td id=\"T_53101_row7_col1\" class=\"data row7 col1\" >48.5209</td>\n",
       "      <td id=\"T_53101_row7_col2\" class=\"data row7 col2\" >6.9657</td>\n",
       "      <td id=\"T_53101_row7_col3\" class=\"data row7 col3\" >0.6181</td>\n",
       "      <td id=\"T_53101_row7_col4\" class=\"data row7 col4\" >0.3936</td>\n",
       "      <td id=\"T_53101_row7_col5\" class=\"data row7 col5\" >0.4014</td>\n",
       "    </tr>\n",
       "    <tr>\n",
       "      <th id=\"T_53101_level0_row8\" class=\"row_heading level0 row8\" >8</th>\n",
       "      <td id=\"T_53101_row8_col0\" class=\"data row8 col0\" >4.6646</td>\n",
       "      <td id=\"T_53101_row8_col1\" class=\"data row8 col1\" >29.2726</td>\n",
       "      <td id=\"T_53101_row8_col2\" class=\"data row8 col2\" >5.4104</td>\n",
       "      <td id=\"T_53101_row8_col3\" class=\"data row8 col3\" >0.6225</td>\n",
       "      <td id=\"T_53101_row8_col4\" class=\"data row8 col4\" >0.2946</td>\n",
       "      <td id=\"T_53101_row8_col5\" class=\"data row8 col5\" >0.2901</td>\n",
       "    </tr>\n",
       "    <tr>\n",
       "      <th id=\"T_53101_level0_row9\" class=\"row_heading level0 row9\" >9</th>\n",
       "      <td id=\"T_53101_row9_col0\" class=\"data row9 col0\" >5.2065</td>\n",
       "      <td id=\"T_53101_row9_col1\" class=\"data row9 col1\" >45.6673</td>\n",
       "      <td id=\"T_53101_row9_col2\" class=\"data row9 col2\" >6.7578</td>\n",
       "      <td id=\"T_53101_row9_col3\" class=\"data row9 col3\" >0.5546</td>\n",
       "      <td id=\"T_53101_row9_col4\" class=\"data row9 col4\" >0.3199</td>\n",
       "      <td id=\"T_53101_row9_col5\" class=\"data row9 col5\" >0.2550</td>\n",
       "    </tr>\n",
       "    <tr>\n",
       "      <th id=\"T_53101_level0_row10\" class=\"row_heading level0 row10\" >10</th>\n",
       "      <td id=\"T_53101_row10_col0\" class=\"data row10 col0\" >5.0038</td>\n",
       "      <td id=\"T_53101_row10_col1\" class=\"data row10 col1\" >37.2566</td>\n",
       "      <td id=\"T_53101_row10_col2\" class=\"data row10 col2\" >6.1038</td>\n",
       "      <td id=\"T_53101_row10_col3\" class=\"data row10 col3\" >0.5434</td>\n",
       "      <td id=\"T_53101_row10_col4\" class=\"data row10 col4\" >0.3570</td>\n",
       "      <td id=\"T_53101_row10_col5\" class=\"data row10 col5\" >0.3684</td>\n",
       "    </tr>\n",
       "    <tr>\n",
       "      <th id=\"T_53101_level0_row11\" class=\"row_heading level0 row11\" >11</th>\n",
       "      <td id=\"T_53101_row11_col0\" class=\"data row11 col0\" >5.1238</td>\n",
       "      <td id=\"T_53101_row11_col1\" class=\"data row11 col1\" >42.9053</td>\n",
       "      <td id=\"T_53101_row11_col2\" class=\"data row11 col2\" >6.5502</td>\n",
       "      <td id=\"T_53101_row11_col3\" class=\"data row11 col3\" >0.3916</td>\n",
       "      <td id=\"T_53101_row11_col4\" class=\"data row11 col4\" >0.2987</td>\n",
       "      <td id=\"T_53101_row11_col5\" class=\"data row11 col5\" >0.2634</td>\n",
       "    </tr>\n",
       "    <tr>\n",
       "      <th id=\"T_53101_level0_row12\" class=\"row_heading level0 row12\" >Mean</th>\n",
       "      <td id=\"T_53101_row12_col0\" class=\"data row12 col0\" >5.4222</td>\n",
       "      <td id=\"T_53101_row12_col1\" class=\"data row12 col1\" >48.9444</td>\n",
       "      <td id=\"T_53101_row12_col2\" class=\"data row12 col2\" >6.8641</td>\n",
       "      <td id=\"T_53101_row12_col3\" class=\"data row12 col3\" >0.4747</td>\n",
       "      <td id=\"T_53101_row12_col4\" class=\"data row12 col4\" >0.3658</td>\n",
       "      <td id=\"T_53101_row12_col5\" class=\"data row12 col5\" >0.3575</td>\n",
       "    </tr>\n",
       "    <tr>\n",
       "      <th id=\"T_53101_level0_row13\" class=\"row_heading level0 row13\" >Std</th>\n",
       "      <td id=\"T_53101_row13_col0\" class=\"data row13 col0\" >0.8877</td>\n",
       "      <td id=\"T_53101_row13_col1\" class=\"data row13 col1\" >21.3453</td>\n",
       "      <td id=\"T_53101_row13_col2\" class=\"data row13 col2\" >1.3520</td>\n",
       "      <td id=\"T_53101_row13_col3\" class=\"data row13 col3\" >0.1644</td>\n",
       "      <td id=\"T_53101_row13_col4\" class=\"data row13 col4\" >0.0534</td>\n",
       "      <td id=\"T_53101_row13_col5\" class=\"data row13 col5\" >0.0822</td>\n",
       "    </tr>\n",
       "  </tbody>\n",
       "</table>\n"
      ],
      "text/plain": [
       "<pandas.io.formats.style.Styler at 0x1941ee5d990>"
      ]
     },
     "metadata": {},
     "output_type": "display_data"
    },
    {
     "data": {
      "text/html": [],
      "text/plain": [
       "<IPython.core.display.HTML object>"
      ]
     },
     "metadata": {},
     "output_type": "display_data"
    }
   ],
   "source": [
    "# model_1 = exp1.create_model('rf')\n",
    "model_1 = exp1.create_model('rf')"
   ]
  },
  {
   "cell_type": "code",
   "execution_count": 1161,
   "metadata": {},
   "outputs": [
    {
     "data": {
      "application/vnd.jupyter.widget-view+json": {
       "model_id": "5a90195a7d3341aa949b510fe5cab307",
       "version_major": 2,
       "version_minor": 0
      },
      "text/plain": [
       "interactive(children=(ToggleButtons(description='Plot Type:', icons=('',), options=(('Pipeline Plot', 'pipelin…"
      ]
     },
     "metadata": {},
     "output_type": "display_data"
    }
   ],
   "source": [
    "exp1.evaluate_model(model_1)"
   ]
  },
  {
   "cell_type": "code",
   "execution_count": 1162,
   "metadata": {},
   "outputs": [
    {
     "data": {
      "text/html": [],
      "text/plain": [
       "<IPython.core.display.HTML object>"
      ]
     },
     "metadata": {},
     "output_type": "display_data"
    },
    {
     "data": {
      "text/html": [
       "<style type=\"text/css\">\n",
       "#T_87e49_row12_col0, #T_87e49_row12_col1, #T_87e49_row12_col2, #T_87e49_row12_col3, #T_87e49_row12_col4, #T_87e49_row12_col5 {\n",
       "  background: yellow;\n",
       "}\n",
       "</style>\n",
       "<table id=\"T_87e49\">\n",
       "  <thead>\n",
       "    <tr>\n",
       "      <th class=\"blank level0\" >&nbsp;</th>\n",
       "      <th id=\"T_87e49_level0_col0\" class=\"col_heading level0 col0\" >MAE</th>\n",
       "      <th id=\"T_87e49_level0_col1\" class=\"col_heading level0 col1\" >MSE</th>\n",
       "      <th id=\"T_87e49_level0_col2\" class=\"col_heading level0 col2\" >RMSE</th>\n",
       "      <th id=\"T_87e49_level0_col3\" class=\"col_heading level0 col3\" >R2</th>\n",
       "      <th id=\"T_87e49_level0_col4\" class=\"col_heading level0 col4\" >RMSLE</th>\n",
       "      <th id=\"T_87e49_level0_col5\" class=\"col_heading level0 col5\" >MAPE</th>\n",
       "    </tr>\n",
       "    <tr>\n",
       "      <th class=\"index_name level0\" >Fold</th>\n",
       "      <th class=\"blank col0\" >&nbsp;</th>\n",
       "      <th class=\"blank col1\" >&nbsp;</th>\n",
       "      <th class=\"blank col2\" >&nbsp;</th>\n",
       "      <th class=\"blank col3\" >&nbsp;</th>\n",
       "      <th class=\"blank col4\" >&nbsp;</th>\n",
       "      <th class=\"blank col5\" >&nbsp;</th>\n",
       "    </tr>\n",
       "  </thead>\n",
       "  <tbody>\n",
       "    <tr>\n",
       "      <th id=\"T_87e49_level0_row0\" class=\"row_heading level0 row0\" >0</th>\n",
       "      <td id=\"T_87e49_row0_col0\" class=\"data row0 col0\" >4.7309</td>\n",
       "      <td id=\"T_87e49_row0_col1\" class=\"data row0 col1\" >32.1326</td>\n",
       "      <td id=\"T_87e49_row0_col2\" class=\"data row0 col2\" >5.6686</td>\n",
       "      <td id=\"T_87e49_row0_col3\" class=\"data row0 col3\" >0.6466</td>\n",
       "      <td id=\"T_87e49_row0_col4\" class=\"data row0 col4\" >0.3222</td>\n",
       "      <td id=\"T_87e49_row0_col5\" class=\"data row0 col5\" >0.3155</td>\n",
       "    </tr>\n",
       "    <tr>\n",
       "      <th id=\"T_87e49_level0_row1\" class=\"row_heading level0 row1\" >1</th>\n",
       "      <td id=\"T_87e49_row1_col0\" class=\"data row1 col0\" >7.3140</td>\n",
       "      <td id=\"T_87e49_row1_col1\" class=\"data row1 col1\" >103.4450</td>\n",
       "      <td id=\"T_87e49_row1_col2\" class=\"data row1 col2\" >10.1708</td>\n",
       "      <td id=\"T_87e49_row1_col3\" class=\"data row1 col3\" >0.4301</td>\n",
       "      <td id=\"T_87e49_row1_col4\" class=\"data row1 col4\" >0.4076</td>\n",
       "      <td id=\"T_87e49_row1_col5\" class=\"data row1 col5\" >0.3410</td>\n",
       "    </tr>\n",
       "    <tr>\n",
       "      <th id=\"T_87e49_level0_row2\" class=\"row_heading level0 row2\" >2</th>\n",
       "      <td id=\"T_87e49_row2_col0\" class=\"data row2 col0\" >3.9274</td>\n",
       "      <td id=\"T_87e49_row2_col1\" class=\"data row2 col1\" >22.3068</td>\n",
       "      <td id=\"T_87e49_row2_col2\" class=\"data row2 col2\" >4.7230</td>\n",
       "      <td id=\"T_87e49_row2_col3\" class=\"data row2 col3\" >0.6952</td>\n",
       "      <td id=\"T_87e49_row2_col4\" class=\"data row2 col4\" >0.3389</td>\n",
       "      <td id=\"T_87e49_row2_col5\" class=\"data row2 col5\" >0.3607</td>\n",
       "    </tr>\n",
       "    <tr>\n",
       "      <th id=\"T_87e49_level0_row3\" class=\"row_heading level0 row3\" >3</th>\n",
       "      <td id=\"T_87e49_row3_col0\" class=\"data row3 col0\" >5.4941</td>\n",
       "      <td id=\"T_87e49_row3_col1\" class=\"data row3 col1\" >43.4358</td>\n",
       "      <td id=\"T_87e49_row3_col2\" class=\"data row3 col2\" >6.5906</td>\n",
       "      <td id=\"T_87e49_row3_col3\" class=\"data row3 col3\" >0.6134</td>\n",
       "      <td id=\"T_87e49_row3_col4\" class=\"data row3 col4\" >0.3594</td>\n",
       "      <td id=\"T_87e49_row3_col5\" class=\"data row3 col5\" >0.3687</td>\n",
       "    </tr>\n",
       "    <tr>\n",
       "      <th id=\"T_87e49_level0_row4\" class=\"row_heading level0 row4\" >4</th>\n",
       "      <td id=\"T_87e49_row4_col0\" class=\"data row4 col0\" >5.2567</td>\n",
       "      <td id=\"T_87e49_row4_col1\" class=\"data row4 col1\" >64.0706</td>\n",
       "      <td id=\"T_87e49_row4_col2\" class=\"data row4 col2\" >8.0044</td>\n",
       "      <td id=\"T_87e49_row4_col3\" class=\"data row4 col3\" >0.3837</td>\n",
       "      <td id=\"T_87e49_row4_col4\" class=\"data row4 col4\" >0.3210</td>\n",
       "      <td id=\"T_87e49_row4_col5\" class=\"data row4 col5\" >0.2484</td>\n",
       "    </tr>\n",
       "    <tr>\n",
       "      <th id=\"T_87e49_level0_row5\" class=\"row_heading level0 row5\" >5</th>\n",
       "      <td id=\"T_87e49_row5_col0\" class=\"data row5 col0\" >5.1516</td>\n",
       "      <td id=\"T_87e49_row5_col1\" class=\"data row5 col1\" >38.7665</td>\n",
       "      <td id=\"T_87e49_row5_col2\" class=\"data row5 col2\" >6.2263</td>\n",
       "      <td id=\"T_87e49_row5_col3\" class=\"data row5 col3\" >0.3538</td>\n",
       "      <td id=\"T_87e49_row5_col4\" class=\"data row5 col4\" >0.3727</td>\n",
       "      <td id=\"T_87e49_row5_col5\" class=\"data row5 col5\" >0.3853</td>\n",
       "    </tr>\n",
       "    <tr>\n",
       "      <th id=\"T_87e49_level0_row6\" class=\"row_heading level0 row6\" >6</th>\n",
       "      <td id=\"T_87e49_row6_col0\" class=\"data row6 col0\" >5.4423</td>\n",
       "      <td id=\"T_87e49_row6_col1\" class=\"data row6 col1\" >47.8024</td>\n",
       "      <td id=\"T_87e49_row6_col2\" class=\"data row6 col2\" >6.9139</td>\n",
       "      <td id=\"T_87e49_row6_col3\" class=\"data row6 col3\" >0.2190</td>\n",
       "      <td id=\"T_87e49_row6_col4\" class=\"data row6 col4\" >0.3963</td>\n",
       "      <td id=\"T_87e49_row6_col5\" class=\"data row6 col5\" >0.4115</td>\n",
       "    </tr>\n",
       "    <tr>\n",
       "      <th id=\"T_87e49_level0_row7\" class=\"row_heading level0 row7\" >7</th>\n",
       "      <td id=\"T_87e49_row7_col0\" class=\"data row7 col0\" >5.7765</td>\n",
       "      <td id=\"T_87e49_row7_col1\" class=\"data row7 col1\" >47.3533</td>\n",
       "      <td id=\"T_87e49_row7_col2\" class=\"data row7 col2\" >6.8814</td>\n",
       "      <td id=\"T_87e49_row7_col3\" class=\"data row7 col3\" >0.6273</td>\n",
       "      <td id=\"T_87e49_row7_col4\" class=\"data row7 col4\" >0.3754</td>\n",
       "      <td id=\"T_87e49_row7_col5\" class=\"data row7 col5\" >0.3825</td>\n",
       "    </tr>\n",
       "    <tr>\n",
       "      <th id=\"T_87e49_level0_row8\" class=\"row_heading level0 row8\" >8</th>\n",
       "      <td id=\"T_87e49_row8_col0\" class=\"data row8 col0\" >4.8555</td>\n",
       "      <td id=\"T_87e49_row8_col1\" class=\"data row8 col1\" >31.0509</td>\n",
       "      <td id=\"T_87e49_row8_col2\" class=\"data row8 col2\" >5.5723</td>\n",
       "      <td id=\"T_87e49_row8_col3\" class=\"data row8 col3\" >0.5996</td>\n",
       "      <td id=\"T_87e49_row8_col4\" class=\"data row8 col4\" >0.2894</td>\n",
       "      <td id=\"T_87e49_row8_col5\" class=\"data row8 col5\" >0.2886</td>\n",
       "    </tr>\n",
       "    <tr>\n",
       "      <th id=\"T_87e49_level0_row9\" class=\"row_heading level0 row9\" >9</th>\n",
       "      <td id=\"T_87e49_row9_col0\" class=\"data row9 col0\" >5.1246</td>\n",
       "      <td id=\"T_87e49_row9_col1\" class=\"data row9 col1\" >40.8986</td>\n",
       "      <td id=\"T_87e49_row9_col2\" class=\"data row9 col2\" >6.3952</td>\n",
       "      <td id=\"T_87e49_row9_col3\" class=\"data row9 col3\" >0.6011</td>\n",
       "      <td id=\"T_87e49_row9_col4\" class=\"data row9 col4\" >0.3262</td>\n",
       "      <td id=\"T_87e49_row9_col5\" class=\"data row9 col5\" >0.2462</td>\n",
       "    </tr>\n",
       "    <tr>\n",
       "      <th id=\"T_87e49_level0_row10\" class=\"row_heading level0 row10\" >10</th>\n",
       "      <td id=\"T_87e49_row10_col0\" class=\"data row10 col0\" >3.5425</td>\n",
       "      <td id=\"T_87e49_row10_col1\" class=\"data row10 col1\" >22.5123</td>\n",
       "      <td id=\"T_87e49_row10_col2\" class=\"data row10 col2\" >4.7447</td>\n",
       "      <td id=\"T_87e49_row10_col3\" class=\"data row10 col3\" >0.7241</td>\n",
       "      <td id=\"T_87e49_row10_col4\" class=\"data row10 col4\" >0.3212</td>\n",
       "      <td id=\"T_87e49_row10_col5\" class=\"data row10 col5\" >0.2956</td>\n",
       "    </tr>\n",
       "    <tr>\n",
       "      <th id=\"T_87e49_level0_row11\" class=\"row_heading level0 row11\" >11</th>\n",
       "      <td id=\"T_87e49_row11_col0\" class=\"data row11 col0\" >5.0536</td>\n",
       "      <td id=\"T_87e49_row11_col1\" class=\"data row11 col1\" >41.7323</td>\n",
       "      <td id=\"T_87e49_row11_col2\" class=\"data row11 col2\" >6.4601</td>\n",
       "      <td id=\"T_87e49_row11_col3\" class=\"data row11 col3\" >0.4082</td>\n",
       "      <td id=\"T_87e49_row11_col4\" class=\"data row11 col4\" >0.3147</td>\n",
       "      <td id=\"T_87e49_row11_col5\" class=\"data row11 col5\" >0.2764</td>\n",
       "    </tr>\n",
       "    <tr>\n",
       "      <th id=\"T_87e49_level0_row12\" class=\"row_heading level0 row12\" >Mean</th>\n",
       "      <td id=\"T_87e49_row12_col0\" class=\"data row12 col0\" >5.1391</td>\n",
       "      <td id=\"T_87e49_row12_col1\" class=\"data row12 col1\" >44.6256</td>\n",
       "      <td id=\"T_87e49_row12_col2\" class=\"data row12 col2\" >6.5293</td>\n",
       "      <td id=\"T_87e49_row12_col3\" class=\"data row12 col3\" >0.5252</td>\n",
       "      <td id=\"T_87e49_row12_col4\" class=\"data row12 col4\" >0.3454</td>\n",
       "      <td id=\"T_87e49_row12_col5\" class=\"data row12 col5\" >0.3267</td>\n",
       "    </tr>\n",
       "    <tr>\n",
       "      <th id=\"T_87e49_level0_row13\" class=\"row_heading level0 row13\" >Std</th>\n",
       "      <td id=\"T_87e49_row13_col0\" class=\"data row13 col0\" >0.8963</td>\n",
       "      <td id=\"T_87e49_row13_col1\" class=\"data row13 col1\" >20.8982</td>\n",
       "      <td id=\"T_87e49_row13_col2\" class=\"data row13 col2\" >1.4122</td>\n",
       "      <td id=\"T_87e49_row13_col3\" class=\"data row13 col3\" >0.1524</td>\n",
       "      <td id=\"T_87e49_row13_col4\" class=\"data row13 col4\" >0.0348</td>\n",
       "      <td id=\"T_87e49_row13_col5\" class=\"data row13 col5\" >0.0537</td>\n",
       "    </tr>\n",
       "  </tbody>\n",
       "</table>\n"
      ],
      "text/plain": [
       "<pandas.io.formats.style.Styler at 0x19412a72910>"
      ]
     },
     "metadata": {},
     "output_type": "display_data"
    },
    {
     "data": {
      "text/html": [],
      "text/plain": [
       "<IPython.core.display.HTML object>"
      ]
     },
     "metadata": {},
     "output_type": "display_data"
    }
   ],
   "source": [
    "model_2 = exp1.create_model('br')"
   ]
  },
  {
   "cell_type": "code",
   "execution_count": 1163,
   "metadata": {},
   "outputs": [
    {
     "data": {
      "text/html": [],
      "text/plain": [
       "<IPython.core.display.HTML object>"
      ]
     },
     "metadata": {},
     "output_type": "display_data"
    },
    {
     "data": {
      "text/html": [
       "<style type=\"text/css\">\n",
       "#T_590ed_row12_col0, #T_590ed_row12_col1, #T_590ed_row12_col2, #T_590ed_row12_col3, #T_590ed_row12_col4, #T_590ed_row12_col5 {\n",
       "  background: yellow;\n",
       "}\n",
       "</style>\n",
       "<table id=\"T_590ed\">\n",
       "  <thead>\n",
       "    <tr>\n",
       "      <th class=\"blank level0\" >&nbsp;</th>\n",
       "      <th id=\"T_590ed_level0_col0\" class=\"col_heading level0 col0\" >MAE</th>\n",
       "      <th id=\"T_590ed_level0_col1\" class=\"col_heading level0 col1\" >MSE</th>\n",
       "      <th id=\"T_590ed_level0_col2\" class=\"col_heading level0 col2\" >RMSE</th>\n",
       "      <th id=\"T_590ed_level0_col3\" class=\"col_heading level0 col3\" >R2</th>\n",
       "      <th id=\"T_590ed_level0_col4\" class=\"col_heading level0 col4\" >RMSLE</th>\n",
       "      <th id=\"T_590ed_level0_col5\" class=\"col_heading level0 col5\" >MAPE</th>\n",
       "    </tr>\n",
       "    <tr>\n",
       "      <th class=\"index_name level0\" >Fold</th>\n",
       "      <th class=\"blank col0\" >&nbsp;</th>\n",
       "      <th class=\"blank col1\" >&nbsp;</th>\n",
       "      <th class=\"blank col2\" >&nbsp;</th>\n",
       "      <th class=\"blank col3\" >&nbsp;</th>\n",
       "      <th class=\"blank col4\" >&nbsp;</th>\n",
       "      <th class=\"blank col5\" >&nbsp;</th>\n",
       "    </tr>\n",
       "  </thead>\n",
       "  <tbody>\n",
       "    <tr>\n",
       "      <th id=\"T_590ed_level0_row0\" class=\"row_heading level0 row0\" >0</th>\n",
       "      <td id=\"T_590ed_row0_col0\" class=\"data row0 col0\" >4.5621</td>\n",
       "      <td id=\"T_590ed_row0_col1\" class=\"data row0 col1\" >28.9818</td>\n",
       "      <td id=\"T_590ed_row0_col2\" class=\"data row0 col2\" >5.3835</td>\n",
       "      <td id=\"T_590ed_row0_col3\" class=\"data row0 col3\" >0.6812</td>\n",
       "      <td id=\"T_590ed_row0_col4\" class=\"data row0 col4\" >0.2997</td>\n",
       "      <td id=\"T_590ed_row0_col5\" class=\"data row0 col5\" >0.2818</td>\n",
       "    </tr>\n",
       "    <tr>\n",
       "      <th id=\"T_590ed_level0_row1\" class=\"row_heading level0 row1\" >1</th>\n",
       "      <td id=\"T_590ed_row1_col0\" class=\"data row1 col0\" >7.2717</td>\n",
       "      <td id=\"T_590ed_row1_col1\" class=\"data row1 col1\" >108.8478</td>\n",
       "      <td id=\"T_590ed_row1_col2\" class=\"data row1 col2\" >10.4330</td>\n",
       "      <td id=\"T_590ed_row1_col3\" class=\"data row1 col3\" >0.4003</td>\n",
       "      <td id=\"T_590ed_row1_col4\" class=\"data row1 col4\" >0.4152</td>\n",
       "      <td id=\"T_590ed_row1_col5\" class=\"data row1 col5\" >0.3133</td>\n",
       "    </tr>\n",
       "    <tr>\n",
       "      <th id=\"T_590ed_level0_row2\" class=\"row_heading level0 row2\" >2</th>\n",
       "      <td id=\"T_590ed_row2_col0\" class=\"data row2 col0\" >3.4351</td>\n",
       "      <td id=\"T_590ed_row2_col1\" class=\"data row2 col1\" >18.0882</td>\n",
       "      <td id=\"T_590ed_row2_col2\" class=\"data row2 col2\" >4.2530</td>\n",
       "      <td id=\"T_590ed_row2_col3\" class=\"data row2 col3\" >0.7528</td>\n",
       "      <td id=\"T_590ed_row2_col4\" class=\"data row2 col4\" >0.2776</td>\n",
       "      <td id=\"T_590ed_row2_col5\" class=\"data row2 col5\" >0.2756</td>\n",
       "    </tr>\n",
       "    <tr>\n",
       "      <th id=\"T_590ed_level0_row3\" class=\"row_heading level0 row3\" >3</th>\n",
       "      <td id=\"T_590ed_row3_col0\" class=\"data row3 col0\" >5.6710</td>\n",
       "      <td id=\"T_590ed_row3_col1\" class=\"data row3 col1\" >46.7077</td>\n",
       "      <td id=\"T_590ed_row3_col2\" class=\"data row3 col2\" >6.8343</td>\n",
       "      <td id=\"T_590ed_row3_col3\" class=\"data row3 col3\" >0.5842</td>\n",
       "      <td id=\"T_590ed_row3_col4\" class=\"data row3 col4\" >0.3875</td>\n",
       "      <td id=\"T_590ed_row3_col5\" class=\"data row3 col5\" >0.3695</td>\n",
       "    </tr>\n",
       "    <tr>\n",
       "      <th id=\"T_590ed_level0_row4\" class=\"row_heading level0 row4\" >4</th>\n",
       "      <td id=\"T_590ed_row4_col0\" class=\"data row4 col0\" >5.1624</td>\n",
       "      <td id=\"T_590ed_row4_col1\" class=\"data row4 col1\" >59.4530</td>\n",
       "      <td id=\"T_590ed_row4_col2\" class=\"data row4 col2\" >7.7106</td>\n",
       "      <td id=\"T_590ed_row4_col3\" class=\"data row4 col3\" >0.4281</td>\n",
       "      <td id=\"T_590ed_row4_col4\" class=\"data row4 col4\" >0.3026</td>\n",
       "      <td id=\"T_590ed_row4_col5\" class=\"data row4 col5\" >0.2475</td>\n",
       "    </tr>\n",
       "    <tr>\n",
       "      <th id=\"T_590ed_level0_row5\" class=\"row_heading level0 row5\" >5</th>\n",
       "      <td id=\"T_590ed_row5_col0\" class=\"data row5 col0\" >5.0513</td>\n",
       "      <td id=\"T_590ed_row5_col1\" class=\"data row5 col1\" >39.2784</td>\n",
       "      <td id=\"T_590ed_row5_col2\" class=\"data row5 col2\" >6.2673</td>\n",
       "      <td id=\"T_590ed_row5_col3\" class=\"data row5 col3\" >0.3453</td>\n",
       "      <td id=\"T_590ed_row5_col4\" class=\"data row5 col4\" >0.3826</td>\n",
       "      <td id=\"T_590ed_row5_col5\" class=\"data row5 col5\" >0.3582</td>\n",
       "    </tr>\n",
       "    <tr>\n",
       "      <th id=\"T_590ed_level0_row6\" class=\"row_heading level0 row6\" >6</th>\n",
       "      <td id=\"T_590ed_row6_col0\" class=\"data row6 col0\" >5.7912</td>\n",
       "      <td id=\"T_590ed_row6_col1\" class=\"data row6 col1\" >54.0260</td>\n",
       "      <td id=\"T_590ed_row6_col2\" class=\"data row6 col2\" >7.3502</td>\n",
       "      <td id=\"T_590ed_row6_col3\" class=\"data row6 col3\" >0.1174</td>\n",
       "      <td id=\"T_590ed_row6_col4\" class=\"data row6 col4\" >0.3958</td>\n",
       "      <td id=\"T_590ed_row6_col5\" class=\"data row6 col5\" >0.3968</td>\n",
       "    </tr>\n",
       "    <tr>\n",
       "      <th id=\"T_590ed_level0_row7\" class=\"row_heading level0 row7\" >7</th>\n",
       "      <td id=\"T_590ed_row7_col0\" class=\"data row7 col0\" >5.8112</td>\n",
       "      <td id=\"T_590ed_row7_col1\" class=\"data row7 col1\" >50.8132</td>\n",
       "      <td id=\"T_590ed_row7_col2\" class=\"data row7 col2\" >7.1283</td>\n",
       "      <td id=\"T_590ed_row7_col3\" class=\"data row7 col3\" >0.6001</td>\n",
       "      <td id=\"T_590ed_row7_col4\" class=\"data row7 col4\" >0.3864</td>\n",
       "      <td id=\"T_590ed_row7_col5\" class=\"data row7 col5\" >0.3731</td>\n",
       "    </tr>\n",
       "    <tr>\n",
       "      <th id=\"T_590ed_level0_row8\" class=\"row_heading level0 row8\" >8</th>\n",
       "      <td id=\"T_590ed_row8_col0\" class=\"data row8 col0\" >4.1805</td>\n",
       "      <td id=\"T_590ed_row8_col1\" class=\"data row8 col1\" >25.0487</td>\n",
       "      <td id=\"T_590ed_row8_col2\" class=\"data row8 col2\" >5.0049</td>\n",
       "      <td id=\"T_590ed_row8_col3\" class=\"data row8 col3\" >0.6770</td>\n",
       "      <td id=\"T_590ed_row8_col4\" class=\"data row8 col4\" >0.2599</td>\n",
       "      <td id=\"T_590ed_row8_col5\" class=\"data row8 col5\" >0.2398</td>\n",
       "    </tr>\n",
       "    <tr>\n",
       "      <th id=\"T_590ed_level0_row9\" class=\"row_heading level0 row9\" >9</th>\n",
       "      <td id=\"T_590ed_row9_col0\" class=\"data row9 col0\" >5.1616</td>\n",
       "      <td id=\"T_590ed_row9_col1\" class=\"data row9 col1\" >42.3249</td>\n",
       "      <td id=\"T_590ed_row9_col2\" class=\"data row9 col2\" >6.5058</td>\n",
       "      <td id=\"T_590ed_row9_col3\" class=\"data row9 col3\" >0.5872</td>\n",
       "      <td id=\"T_590ed_row9_col4\" class=\"data row9 col4\" >0.3876</td>\n",
       "      <td id=\"T_590ed_row9_col5\" class=\"data row9 col5\" >0.2557</td>\n",
       "    </tr>\n",
       "    <tr>\n",
       "      <th id=\"T_590ed_level0_row10\" class=\"row_heading level0 row10\" >10</th>\n",
       "      <td id=\"T_590ed_row10_col0\" class=\"data row10 col0\" >3.5430</td>\n",
       "      <td id=\"T_590ed_row10_col1\" class=\"data row10 col1\" >21.8133</td>\n",
       "      <td id=\"T_590ed_row10_col2\" class=\"data row10 col2\" >4.6705</td>\n",
       "      <td id=\"T_590ed_row10_col3\" class=\"data row10 col3\" >0.7327</td>\n",
       "      <td id=\"T_590ed_row10_col4\" class=\"data row10 col4\" >0.3084</td>\n",
       "      <td id=\"T_590ed_row10_col5\" class=\"data row10 col5\" >0.2733</td>\n",
       "    </tr>\n",
       "    <tr>\n",
       "      <th id=\"T_590ed_level0_row11\" class=\"row_heading level0 row11\" >11</th>\n",
       "      <td id=\"T_590ed_row11_col0\" class=\"data row11 col0\" >5.4448</td>\n",
       "      <td id=\"T_590ed_row11_col1\" class=\"data row11 col1\" >49.2800</td>\n",
       "      <td id=\"T_590ed_row11_col2\" class=\"data row11 col2\" >7.0200</td>\n",
       "      <td id=\"T_590ed_row11_col3\" class=\"data row11 col3\" >0.3012</td>\n",
       "      <td id=\"T_590ed_row11_col4\" class=\"data row11 col4\" >0.3249</td>\n",
       "      <td id=\"T_590ed_row11_col5\" class=\"data row11 col5\" >0.2733</td>\n",
       "    </tr>\n",
       "    <tr>\n",
       "      <th id=\"T_590ed_level0_row12\" class=\"row_heading level0 row12\" >Mean</th>\n",
       "      <td id=\"T_590ed_row12_col0\" class=\"data row12 col0\" >5.0905</td>\n",
       "      <td id=\"T_590ed_row12_col1\" class=\"data row12 col1\" >45.3886</td>\n",
       "      <td id=\"T_590ed_row12_col2\" class=\"data row12 col2\" >6.5468</td>\n",
       "      <td id=\"T_590ed_row12_col3\" class=\"data row12 col3\" >0.5173</td>\n",
       "      <td id=\"T_590ed_row12_col4\" class=\"data row12 col4\" >0.3440</td>\n",
       "      <td id=\"T_590ed_row12_col5\" class=\"data row12 col5\" >0.3048</td>\n",
       "    </tr>\n",
       "    <tr>\n",
       "      <th id=\"T_590ed_level0_row13\" class=\"row_heading level0 row13\" >Std</th>\n",
       "      <td id=\"T_590ed_row13_col0\" class=\"data row13 col0\" >1.0200</td>\n",
       "      <td id=\"T_590ed_row13_col1\" class=\"data row13 col1\" >23.0516</td>\n",
       "      <td id=\"T_590ed_row13_col2\" class=\"data row13 col2\" >1.5901</td>\n",
       "      <td id=\"T_590ed_row13_col3\" class=\"data row13 col3\" >0.1889</td>\n",
       "      <td id=\"T_590ed_row13_col4\" class=\"data row13 col4\" >0.0513</td>\n",
       "      <td id=\"T_590ed_row13_col5\" class=\"data row13 col5\" >0.0529</td>\n",
       "    </tr>\n",
       "  </tbody>\n",
       "</table>\n"
      ],
      "text/plain": [
       "<pandas.io.formats.style.Styler at 0x19412a72910>"
      ]
     },
     "metadata": {},
     "output_type": "display_data"
    },
    {
     "data": {
      "text/html": [],
      "text/plain": [
       "<IPython.core.display.HTML object>"
      ]
     },
     "metadata": {},
     "output_type": "display_data"
    }
   ],
   "source": [
    "model_3 = exp1.create_model('huber')"
   ]
  },
  {
   "cell_type": "code",
   "execution_count": 1164,
   "metadata": {},
   "outputs": [
    {
     "data": {
      "text/html": [],
      "text/plain": [
       "<IPython.core.display.HTML object>"
      ]
     },
     "metadata": {},
     "output_type": "display_data"
    },
    {
     "data": {
      "text/html": [
       "<div>\n",
       "<style scoped>\n",
       "    .dataframe tbody tr th:only-of-type {\n",
       "        vertical-align: middle;\n",
       "    }\n",
       "\n",
       "    .dataframe tbody tr th {\n",
       "        vertical-align: top;\n",
       "    }\n",
       "\n",
       "    .dataframe thead th {\n",
       "        text-align: right;\n",
       "    }\n",
       "</style>\n",
       "<table border=\"1\" class=\"dataframe\">\n",
       "  <thead>\n",
       "    <tr style=\"text-align: right;\">\n",
       "      <th></th>\n",
       "      <th>humidity</th>\n",
       "      <th>temperature</th>\n",
       "      <th>year</th>\n",
       "      <th>month</th>\n",
       "      <th>day</th>\n",
       "      <th>day_of_week</th>\n",
       "      <th>week_of_year</th>\n",
       "      <th>season</th>\n",
       "      <th>dew_point</th>\n",
       "      <th>is_weekend</th>\n",
       "      <th>...</th>\n",
       "      <th>temperature_rolling_2</th>\n",
       "      <th>temperature_rolling_3</th>\n",
       "      <th>temperature_rolling_5</th>\n",
       "      <th>temperature_rolling_7</th>\n",
       "      <th>temperature_lag_1</th>\n",
       "      <th>temperature_lag_2</th>\n",
       "      <th>temperature_lag_3</th>\n",
       "      <th>temperature_lag_5</th>\n",
       "      <th>temperature_lag_7</th>\n",
       "      <th>prediction_label</th>\n",
       "    </tr>\n",
       "    <tr>\n",
       "      <th>timestamp</th>\n",
       "      <th></th>\n",
       "      <th></th>\n",
       "      <th></th>\n",
       "      <th></th>\n",
       "      <th></th>\n",
       "      <th></th>\n",
       "      <th></th>\n",
       "      <th></th>\n",
       "      <th></th>\n",
       "      <th></th>\n",
       "      <th></th>\n",
       "      <th></th>\n",
       "      <th></th>\n",
       "      <th></th>\n",
       "      <th></th>\n",
       "      <th></th>\n",
       "      <th></th>\n",
       "      <th></th>\n",
       "      <th></th>\n",
       "      <th></th>\n",
       "      <th></th>\n",
       "    </tr>\n",
       "  </thead>\n",
       "  <tbody>\n",
       "    <tr>\n",
       "      <th>2025-01-13 07:00:00</th>\n",
       "      <td>78.292206</td>\n",
       "      <td>25.997341</td>\n",
       "      <td>2025</td>\n",
       "      <td>1</td>\n",
       "      <td>13</td>\n",
       "      <td>0</td>\n",
       "      <td>3</td>\n",
       "      <td>2</td>\n",
       "      <td>21.655781</td>\n",
       "      <td>0</td>\n",
       "      <td>...</td>\n",
       "      <td>26.896215</td>\n",
       "      <td>27.579378</td>\n",
       "      <td>28.008570</td>\n",
       "      <td>28.287636</td>\n",
       "      <td>25.434973</td>\n",
       "      <td>28.357460</td>\n",
       "      <td>28.945705</td>\n",
       "      <td>28.921543</td>\n",
       "      <td>28.825508</td>\n",
       "      <td>27.013703</td>\n",
       "    </tr>\n",
       "    <tr>\n",
       "      <th>2025-01-14 07:00:00</th>\n",
       "      <td>74.887207</td>\n",
       "      <td>26.780884</td>\n",
       "      <td>2025</td>\n",
       "      <td>1</td>\n",
       "      <td>14</td>\n",
       "      <td>1</td>\n",
       "      <td>3</td>\n",
       "      <td>2</td>\n",
       "      <td>21.758324</td>\n",
       "      <td>0</td>\n",
       "      <td>...</td>\n",
       "      <td>25.716156</td>\n",
       "      <td>26.596590</td>\n",
       "      <td>27.423729</td>\n",
       "      <td>27.883612</td>\n",
       "      <td>25.997341</td>\n",
       "      <td>25.434973</td>\n",
       "      <td>28.357460</td>\n",
       "      <td>28.383165</td>\n",
       "      <td>29.145098</td>\n",
       "      <td>34.592720</td>\n",
       "    </tr>\n",
       "    <tr>\n",
       "      <th>2025-01-15 07:00:00</th>\n",
       "      <td>74.201401</td>\n",
       "      <td>27.146723</td>\n",
       "      <td>2025</td>\n",
       "      <td>1</td>\n",
       "      <td>15</td>\n",
       "      <td>2</td>\n",
       "      <td>3</td>\n",
       "      <td>2</td>\n",
       "      <td>21.987003</td>\n",
       "      <td>0</td>\n",
       "      <td>...</td>\n",
       "      <td>26.389112</td>\n",
       "      <td>26.071066</td>\n",
       "      <td>27.103271</td>\n",
       "      <td>27.545866</td>\n",
       "      <td>26.780884</td>\n",
       "      <td>25.997341</td>\n",
       "      <td>25.434973</td>\n",
       "      <td>28.945705</td>\n",
       "      <td>28.921543</td>\n",
       "      <td>40.085552</td>\n",
       "    </tr>\n",
       "    <tr>\n",
       "      <th>2025-01-16 07:00:00</th>\n",
       "      <td>89.873428</td>\n",
       "      <td>24.990604</td>\n",
       "      <td>2025</td>\n",
       "      <td>1</td>\n",
       "      <td>16</td>\n",
       "      <td>3</td>\n",
       "      <td>3</td>\n",
       "      <td>2</td>\n",
       "      <td>22.965288</td>\n",
       "      <td>0</td>\n",
       "      <td>...</td>\n",
       "      <td>26.963802</td>\n",
       "      <td>26.641649</td>\n",
       "      <td>26.743475</td>\n",
       "      <td>27.292320</td>\n",
       "      <td>27.146723</td>\n",
       "      <td>26.780884</td>\n",
       "      <td>25.997341</td>\n",
       "      <td>28.357460</td>\n",
       "      <td>28.383165</td>\n",
       "      <td>34.060719</td>\n",
       "    </tr>\n",
       "    <tr>\n",
       "      <th>2025-01-17 07:00:00</th>\n",
       "      <td>80.848938</td>\n",
       "      <td>27.221664</td>\n",
       "      <td>2025</td>\n",
       "      <td>1</td>\n",
       "      <td>17</td>\n",
       "      <td>4</td>\n",
       "      <td>3</td>\n",
       "      <td>2</td>\n",
       "      <td>23.391453</td>\n",
       "      <td>0</td>\n",
       "      <td>...</td>\n",
       "      <td>26.068663</td>\n",
       "      <td>26.306070</td>\n",
       "      <td>26.070105</td>\n",
       "      <td>26.807669</td>\n",
       "      <td>24.990604</td>\n",
       "      <td>27.146723</td>\n",
       "      <td>26.780884</td>\n",
       "      <td>25.434973</td>\n",
       "      <td>28.945705</td>\n",
       "      <td>35.629191</td>\n",
       "    </tr>\n",
       "  </tbody>\n",
       "</table>\n",
       "<p>5 rows × 52 columns</p>\n",
       "</div>"
      ],
      "text/plain": [
       "                      humidity  temperature  year  month  day  day_of_week  \\\n",
       "timestamp                                                                    \n",
       "2025-01-13 07:00:00  78.292206    25.997341  2025      1   13            0   \n",
       "2025-01-14 07:00:00  74.887207    26.780884  2025      1   14            1   \n",
       "2025-01-15 07:00:00  74.201401    27.146723  2025      1   15            2   \n",
       "2025-01-16 07:00:00  89.873428    24.990604  2025      1   16            3   \n",
       "2025-01-17 07:00:00  80.848938    27.221664  2025      1   17            4   \n",
       "\n",
       "                     week_of_year  season  dew_point  is_weekend  ...  \\\n",
       "timestamp                                                         ...   \n",
       "2025-01-13 07:00:00             3       2  21.655781           0  ...   \n",
       "2025-01-14 07:00:00             3       2  21.758324           0  ...   \n",
       "2025-01-15 07:00:00             3       2  21.987003           0  ...   \n",
       "2025-01-16 07:00:00             3       2  22.965288           0  ...   \n",
       "2025-01-17 07:00:00             3       2  23.391453           0  ...   \n",
       "\n",
       "                     temperature_rolling_2  temperature_rolling_3  \\\n",
       "timestamp                                                           \n",
       "2025-01-13 07:00:00              26.896215              27.579378   \n",
       "2025-01-14 07:00:00              25.716156              26.596590   \n",
       "2025-01-15 07:00:00              26.389112              26.071066   \n",
       "2025-01-16 07:00:00              26.963802              26.641649   \n",
       "2025-01-17 07:00:00              26.068663              26.306070   \n",
       "\n",
       "                     temperature_rolling_5 temperature_rolling_7  \\\n",
       "timestamp                                                          \n",
       "2025-01-13 07:00:00              28.008570             28.287636   \n",
       "2025-01-14 07:00:00              27.423729             27.883612   \n",
       "2025-01-15 07:00:00              27.103271             27.545866   \n",
       "2025-01-16 07:00:00              26.743475             27.292320   \n",
       "2025-01-17 07:00:00              26.070105             26.807669   \n",
       "\n",
       "                     temperature_lag_1  temperature_lag_2  temperature_lag_3  \\\n",
       "timestamp                                                                      \n",
       "2025-01-13 07:00:00          25.434973          28.357460          28.945705   \n",
       "2025-01-14 07:00:00          25.997341          25.434973          28.357460   \n",
       "2025-01-15 07:00:00          26.780884          25.997341          25.434973   \n",
       "2025-01-16 07:00:00          27.146723          26.780884          25.997341   \n",
       "2025-01-17 07:00:00          24.990604          27.146723          26.780884   \n",
       "\n",
       "                     temperature_lag_5  temperature_lag_7  prediction_label  \n",
       "timestamp                                                                    \n",
       "2025-01-13 07:00:00          28.921543          28.825508         27.013703  \n",
       "2025-01-14 07:00:00          28.383165          29.145098         34.592720  \n",
       "2025-01-15 07:00:00          28.945705          28.921543         40.085552  \n",
       "2025-01-16 07:00:00          28.357460          28.383165         34.060719  \n",
       "2025-01-17 07:00:00          25.434973          28.945705         35.629191  \n",
       "\n",
       "[5 rows x 52 columns]"
      ]
     },
     "execution_count": 1164,
     "metadata": {},
     "output_type": "execute_result"
    }
   ],
   "source": [
    "new_data = test_data.copy().drop(['pm_2_5'], axis=1)\n",
    "predictions = exp1.predict_model(model_2, data=new_data)\n",
    "predictions.head()"
   ]
  },
  {
   "cell_type": "code",
   "execution_count": 1165,
   "metadata": {},
   "outputs": [],
   "source": [
    "predict_v = predictions['prediction_label']\n",
    "# predict_v.head(7)"
   ]
  },
  {
   "cell_type": "code",
   "execution_count": 1166,
   "metadata": {},
   "outputs": [],
   "source": [
    "real = test_data['pm_2_5']\n",
    "# real.head(7)"
   ]
  },
  {
   "cell_type": "markdown",
   "metadata": {},
   "source": [
    "# ทำนาย 1 วันข้างหน้า ต้องทำนายเผื่อ 2 วัน"
   ]
  },
  {
   "cell_type": "code",
   "execution_count": 1167,
   "metadata": {},
   "outputs": [
    {
     "data": {
      "image/png": "[encoded data removed]",
      "text/plain": [
       "<Figure size 1000x600 with 1 Axes>"
      ]
     },
     "metadata": {},
     "output_type": "display_data"
    }
   ],
   "source": [
    "import pandas as pd\n",
    "import matplotlib.pyplot as plt\n",
    "\n",
    "# สมมุติว่า result คือ DataFrame ที่รวม predictions กับ pm_10\n",
    "result = pd.concat([predict_v.shift(-1), test_data['pm_2_5']], axis=1)\n",
    "result.columns = ['Predictions', 'Actual PM2_5']  # ตั้งชื่อคอลัมน์\n",
    "\n",
    "# พล็อตข้อมูล\n",
    "result.plot(figsize=(10, 6))\n",
    "\n",
    "# ตั้งชื่อกราฟ\n",
    "plt.title('Predictions vs Actual PM2_5')\n",
    "plt.xlabel('Index')\n",
    "plt.ylabel('PM2_5 Values')\n",
    "\n",
    "# แสดงกราฟ\n",
    "plt.show()"
   ]
  },
  {
   "cell_type": "markdown",
   "metadata": {},
   "source": [
    "# Predict 1 by 1"
   ]
  },
  {
   "cell_type": "markdown",
   "metadata": {},
   "source": [
    "30 วัน  \n",
    "2025-01-13 07:00:00  \n",
    "2025-02-11 07:00:00  \n",
    "7 วัน  \n",
    "2025-02-05  \n",
    "2025-02-11  \n",
    "24 วัน  \n",
    "2025-01-19 07:00:00  \n",
    "31 วัน\n",
    "2025-01-12 07:00:00"
   ]
  },
  {
   "cell_type": "code",
   "execution_count": null,
   "metadata": {},
   "outputs": [],
   "source": [
    "# model_1 = exp1.create_model('rf')\n",
    "# tune_1 = exp1.tune_model(model_1)"
   ]
  },
  {
   "cell_type": "code",
   "execution_count": 1173,
   "metadata": {},
   "outputs": [
    {
     "data": {
      "text/html": [],
      "text/plain": [
       "<IPython.core.display.HTML object>"
      ]
     },
     "metadata": {},
     "output_type": "display_data"
    },
    {
     "data": {
      "text/html": [],
      "text/plain": [
       "<IPython.core.display.HTML object>"
      ]
     },
     "metadata": {},
     "output_type": "display_data"
    },
    {
     "data": {
      "text/html": [],
      "text/plain": [
       "<IPython.core.display.HTML object>"
      ]
     },
     "metadata": {},
     "output_type": "display_data"
    },
    {
     "data": {
      "text/html": [],
      "text/plain": [
       "<IPython.core.display.HTML object>"
      ]
     },
     "metadata": {},
     "output_type": "display_data"
    },
    {
     "data": {
      "text/html": [],
      "text/plain": [
       "<IPython.core.display.HTML object>"
      ]
     },
     "metadata": {},
     "output_type": "display_data"
    },
    {
     "data": {
      "text/html": [],
      "text/plain": [
       "<IPython.core.display.HTML object>"
      ]
     },
     "metadata": {},
     "output_type": "display_data"
    },
    {
     "data": {
      "text/html": [],
      "text/plain": [
       "<IPython.core.display.HTML object>"
      ]
     },
     "metadata": {},
     "output_type": "display_data"
    },
    {
     "data": {
      "text/html": [],
      "text/plain": [
       "<IPython.core.display.HTML object>"
      ]
     },
     "metadata": {},
     "output_type": "display_data"
    },
    {
     "data": {
      "text/html": [],
      "text/plain": [
       "<IPython.core.display.HTML object>"
      ]
     },
     "metadata": {},
     "output_type": "display_data"
    },
    {
     "data": {
      "text/html": [],
      "text/plain": [
       "<IPython.core.display.HTML object>"
      ]
     },
     "metadata": {},
     "output_type": "display_data"
    },
    {
     "data": {
      "text/html": [],
      "text/plain": [
       "<IPython.core.display.HTML object>"
      ]
     },
     "metadata": {},
     "output_type": "display_data"
    },
    {
     "data": {
      "text/html": [],
      "text/plain": [
       "<IPython.core.display.HTML object>"
      ]
     },
     "metadata": {},
     "output_type": "display_data"
    },
    {
     "data": {
      "text/html": [],
      "text/plain": [
       "<IPython.core.display.HTML object>"
      ]
     },
     "metadata": {},
     "output_type": "display_data"
    },
    {
     "data": {
      "text/html": [],
      "text/plain": [
       "<IPython.core.display.HTML object>"
      ]
     },
     "metadata": {},
     "output_type": "display_data"
    },
    {
     "data": {
      "text/html": [],
      "text/plain": [
       "<IPython.core.display.HTML object>"
      ]
     },
     "metadata": {},
     "output_type": "display_data"
    },
    {
     "data": {
      "text/html": [],
      "text/plain": [
       "<IPython.core.display.HTML object>"
      ]
     },
     "metadata": {},
     "output_type": "display_data"
    },
    {
     "data": {
      "text/html": [],
      "text/plain": [
       "<IPython.core.display.HTML object>"
      ]
     },
     "metadata": {},
     "output_type": "display_data"
    },
    {
     "data": {
      "text/html": [],
      "text/plain": [
       "<IPython.core.display.HTML object>"
      ]
     },
     "metadata": {},
     "output_type": "display_data"
    },
    {
     "data": {
      "text/html": [],
      "text/plain": [
       "<IPython.core.display.HTML object>"
      ]
     },
     "metadata": {},
     "output_type": "display_data"
    },
    {
     "data": {
      "text/html": [],
      "text/plain": [
       "<IPython.core.display.HTML object>"
      ]
     },
     "metadata": {},
     "output_type": "display_data"
    },
    {
     "data": {
      "text/html": [],
      "text/plain": [
       "<IPython.core.display.HTML object>"
      ]
     },
     "metadata": {},
     "output_type": "display_data"
    },
    {
     "data": {
      "text/html": [],
      "text/plain": [
       "<IPython.core.display.HTML object>"
      ]
     },
     "metadata": {},
     "output_type": "display_data"
    },
    {
     "data": {
      "text/html": [],
      "text/plain": [
       "<IPython.core.display.HTML object>"
      ]
     },
     "metadata": {},
     "output_type": "display_data"
    },
    {
     "data": {
      "text/html": [],
      "text/plain": [
       "<IPython.core.display.HTML object>"
      ]
     },
     "metadata": {},
     "output_type": "display_data"
    },
    {
     "data": {
      "text/html": [],
      "text/plain": [
       "<IPython.core.display.HTML object>"
      ]
     },
     "metadata": {},
     "output_type": "display_data"
    },
    {
     "data": {
      "text/html": [],
      "text/plain": [
       "<IPython.core.display.HTML object>"
      ]
     },
     "metadata": {},
     "output_type": "display_data"
    },
    {
     "data": {
      "text/html": [],
      "text/plain": [
       "<IPython.core.display.HTML object>"
      ]
     },
     "metadata": {},
     "output_type": "display_data"
    },
    {
     "data": {
      "text/html": [],
      "text/plain": [
       "<IPython.core.display.HTML object>"
      ]
     },
     "metadata": {},
     "output_type": "display_data"
    },
    {
     "data": {
      "text/html": [],
      "text/plain": [
       "<IPython.core.display.HTML object>"
      ]
     },
     "metadata": {},
     "output_type": "display_data"
    },
    {
     "data": {
      "text/html": [],
      "text/plain": [
       "<IPython.core.display.HTML object>"
      ]
     },
     "metadata": {},
     "output_type": "display_data"
    }
   ],
   "source": [
    "data_compare = data_filtered.loc[:'2025-01-12']\n",
    "result = pd.DataFrame()\n",
    "\n",
    "start_date = \"2025-01-13\"\n",
    "end_date = \"2025-02-11\"\n",
    "\n",
    "model = model_1\n",
    "\n",
    "for date in pd.date_range(start=start_date, end=end_date, freq=\"D\"):\n",
    "    # Drop columns\n",
    "    test_1 = data_filtered.drop(columns=['pm_2_5','pm_2_5_rolling_1', 'pm_2_5_rolling_2', 'pm_2_5_rolling_3',\n",
    "       'pm_2_5_rolling_4', 'pm_2_5_rolling_5', 'pm_2_5_rolling_6',\n",
    "       'pm_2_5_rolling_7', 'pm_2_5_lag_1', 'pm_2_5_lag_2', 'pm_2_5_lag_3',\n",
    "       'pm_2_5_lag_4', 'pm_2_5_lag_5', 'pm_2_5_lag_6', 'pm_2_5_lag_7'])\n",
    "\n",
    "    # ดึงวันนี้มา\n",
    "    test_1 = test_1.loc[str(date.date())]\n",
    "\n",
    "    # ใส่เข้าไป\n",
    "    data_compare = pd.concat([data_compare, test_1], axis=0)\n",
    "\n",
    "    # เพิ่มฟีเจอร์ rolling average (ค่าเฉลี่ยเคลื่อนที่)\n",
    "\n",
    "    # data_compare['pm_2_5_rolling_7'] = data_compare['pm_2_5'].rolling(window=7).mean().shift(1)  # ค่าเฉลี่ย 5 วันของ PM 10\n",
    "\n",
    "    rolling_size = 7\n",
    "    for i in range(1,rolling_size+1):\n",
    "        data_compare[f'pm_2_5_rolling_{i}'] = data_compare['pm_2_5'].rolling(window=i).mean().shift(1)\n",
    "\n",
    "    lag_size = 7\n",
    "    for i in range(1,lag_size+1):\n",
    "        data_compare[f'pm_2_5_lag_{i}'] = data_compare['pm_2_5'].shift(i)\n",
    "\n",
    "    # ดึง\n",
    "    test_1 = (data_compare.loc[str(date.date())]).drop(columns=['pm_2_5'])\n",
    "    \n",
    "    # Drop ทิ้งล่าสุดใน data_compare\n",
    "    data_compare = data_compare.drop(data_compare.last_valid_index())\n",
    "    test_1 = test_1[~test_1.index.duplicated(keep='last')]\n",
    "\n",
    "    # Predict\n",
    "    predict_test_1 = exp1.predict_model(model, data=test_1)\n",
    "\n",
    "        # เพิ่มผลทำนายเข้าไปใน data_compare\n",
    "    data_compare = pd.concat([data_compare, predict_test_1], axis=0)\n",
    "\n",
    "    # แทนที่ค่าในคอลัมน์ 'pm_2_5' ในวันที่ '2025-01-13' ด้วยค่าในคอลัมน์ 'prediction_label'\n",
    "    data_compare.loc[str(date.date()), 'pm_2_5'] = data_compare.loc[str(date.date()), 'prediction_label']\n",
    "\n",
    "    # ลบคอลัมน์ 'prediction_label' (หากต้องการแค่ผลทำนาย)\n",
    "    data_compare = data_compare.drop(columns=['prediction_label'])\n",
    "\n",
    "    # กรองเอาวันที่ซ้ำกัน (index ซ้ำ) ออกให้เหลือแค่ตัวเดียว\n",
    "    data_compare = data_compare[~data_compare.index.duplicated(keep='last')]\n",
    "\n",
    "    # บันทึกลง result\n",
    "    result = pd.concat([result, predict_test_1], axis=0)"
   ]
  },
  {
   "cell_type": "code",
   "execution_count": 1174,
   "metadata": {},
   "outputs": [
    {
     "data": {
      "image/png": "[encoded data removed]",
      "text/plain": [
       "<Figure size 1000x600 with 1 Axes>"
      ]
     },
     "metadata": {},
     "output_type": "display_data"
    }
   ],
   "source": [
    "import pandas as pd\n",
    "import matplotlib.pyplot as plt\n",
    "\n",
    "real_data = data_filtered.loc[start_date:end_date]\n",
    "# สมมุติว่า result คือ DataFrame ที่รวม predictions กับ pm_10\n",
    "result_plot = pd.concat([result['prediction_label'].shift(-1), real_data['pm_2_5']], axis=1)\n",
    "result_plot.columns = ['Predictions', 'Actual PM10']  # ตั้งชื่อคอลัมน์\n",
    "\n",
    "# พล็อตข้อมูล\n",
    "result_plot.plot(figsize=(10, 6))\n",
    "\n",
    "# ตั้งชื่อกราฟ\n",
    "plt.title('Predictions vs Actual PM10')\n",
    "plt.xlabel('Index')\n",
    "plt.ylabel('PM10 Values')\n",
    "\n",
    "# แสดงกราฟ\n",
    "plt.show()"
   ]
  },
  {
   "cell_type": "code",
   "execution_count": 1175,
   "metadata": {},
   "outputs": [
    {
     "name": "stdout",
     "output_type": "stream",
     "text": [
      "R² Score: -0.0281\n",
      "Mean Absolute Error (MAE): 7.8885\n",
      "Root Mean Squared Error (RMSE): 10.1223\n",
      "Accuracy: 72.61%\n"
     ]
    }
   ],
   "source": [
    "from pycaret.regression import *\n",
    "from sklearn.metrics import r2_score, mean_absolute_error, mean_squared_error\n",
    "import numpy as np\n",
    "\n",
    "y_true = real_data[\"pm_2_5\"][:\"2025-2-10\"]\n",
    "y_pred = result['prediction_label'].shift(-1).dropna(axis=0)# \"prediction_label\" contains predictions\n",
    "\n",
    "# Calculate Regression Metrics\n",
    "r2 = r2_score(y_true, y_pred)\n",
    "mae = mean_absolute_error(y_true, y_pred)\n",
    "rmse = np.sqrt(mean_squared_error(y_true, y_pred))\n",
    "\n",
    "# Calculate Accuracy as (1 - (MAE / mean_actual)) * 100\n",
    "mean_actual = np.mean(y_true)  # Mean of actual values\n",
    "accuracy = (1 - (mae / mean_actual)) * 100  # Accuracy in percentage\n",
    "\n",
    "# Print Results\n",
    "print(f\"R² Score: {r2:.4f}\")  # Closer to 1 is better\n",
    "print(f\"Mean Absolute Error (MAE): {mae:.4f}\")  # Lower is better\n",
    "print(f\"Root Mean Squared Error (RMSE): {rmse:.4f}\")  # Lower is better\n",
    "print(f\"Accuracy: {accuracy:.2f}%\")  # Accuracy percentage"
   ]
  },
  {
   "cell_type": "code",
   "execution_count": 1176,
   "metadata": {},
   "outputs": [
    {
     "name": "stdout",
     "output_type": "stream",
     "text": [
      "R² Score: -0.0281\n",
      "Mean Absolute Percentage Error (MAPE): 30.60%\n"
     ]
    }
   ],
   "source": [
    "# ค่า R² และ MAPE\n",
    "r2 = r2_score(y_true, y_pred)\n",
    "mape = np.mean(np.abs((y_true - y_pred) / y_true)) * 100  # MAPE in percentage\n",
    "\n",
    "# การปรับสเกลของ R² (สมมติให้อยู่ในช่วง 0-100 เพื่อให้อยู่ในช่วงเดียวกับ MAPE)\n",
    "r2_scaled = r2 * 100  # เปลี่ยน R² ให้เป็นค่าร้อยละ\n",
    "\n",
    "print(f\"R² Score: {r2:.4f}\")\n",
    "print(f\"Mean Absolute Percentage Error (MAPE): {mape:.2f}%\")\n",
    "\n"
   ]
  },
  {
   "cell_type": "code",
   "execution_count": null,
   "metadata": {},
   "outputs": [],
   "source": []
  }
 ],
 "metadata": {
  "kernelspec": {
   "display_name": "pycaret_venv",
   "language": "python",
   "name": "python3"
  },
  "language_info": {
   "codemirror_mode": {
    "name": "ipython",
    "version": 3
   },
   "file_extension": ".py",
   "mimetype": "text/x-python",
   "name": "python",
   "nbconvert_exporter": "python",
   "pygments_lexer": "ipython3",
   "version": "3.11.9"
  }
 },
 "nbformat": 4,
 "nbformat_minor": 2
}

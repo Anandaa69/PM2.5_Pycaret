{
 "cells": [
  {
   "cell_type": "code",
   "execution_count": 22,
   "metadata": {},
   "outputs": [],
   "source": [
    "import pycaret\n",
    "import pandas as pd"
   ]
  },
  {
   "cell_type": "code",
   "execution_count": 23,
   "metadata": {},
   "outputs": [],
   "source": [
    "# อ่านไฟล์ CSV\n",
    "data = pd.read_csv('../export_data/filtered_data_3_best.csv')"
   ]
  },
  {
   "cell_type": "code",
   "execution_count": 24,
   "metadata": {},
   "outputs": [],
   "source": [
    "# ตั้ง 'timestamp' เป็น index หากยังไม่ได้ทำ\n",
    "data['timestamp'] = pd.to_datetime(data['timestamp'])\n",
    "data.set_index('timestamp', inplace=True)\n",
    "\n",
    "# ตั้งค่า freq ให้กับ index\n",
    "data = data.asfreq('D')  # 'D' สำหรับรายวัน"
   ]
  },
  {
   "cell_type": "code",
   "execution_count": 25,
   "metadata": {},
   "outputs": [
    {
     "data": {
      "text/html": [
       "<div>\n",
       "<style scoped>\n",
       "    .dataframe tbody tr th:only-of-type {\n",
       "        vertical-align: middle;\n",
       "    }\n",
       "\n",
       "    .dataframe tbody tr th {\n",
       "        vertical-align: top;\n",
       "    }\n",
       "\n",
       "    .dataframe thead th {\n",
       "        text-align: right;\n",
       "    }\n",
       "</style>\n",
       "<table border=\"1\" class=\"dataframe\">\n",
       "  <thead>\n",
       "    <tr style=\"text-align: right;\">\n",
       "      <th></th>\n",
       "      <th>humidity</th>\n",
       "      <th>pm_10</th>\n",
       "      <th>pm_2_5</th>\n",
       "      <th>pm_2_5_sp</th>\n",
       "      <th>temperature</th>\n",
       "    </tr>\n",
       "    <tr>\n",
       "      <th>timestamp</th>\n",
       "      <th></th>\n",
       "      <th></th>\n",
       "      <th></th>\n",
       "      <th></th>\n",
       "      <th></th>\n",
       "    </tr>\n",
       "  </thead>\n",
       "  <tbody>\n",
       "    <tr>\n",
       "      <th>2025-02-07 07:00:00</th>\n",
       "      <td>70.933952</td>\n",
       "      <td>34.743259</td>\n",
       "      <td>29.321219</td>\n",
       "      <td>26.166471</td>\n",
       "      <td>28.271927</td>\n",
       "    </tr>\n",
       "    <tr>\n",
       "      <th>2025-02-08 07:00:00</th>\n",
       "      <td>69.348548</td>\n",
       "      <td>30.654249</td>\n",
       "      <td>26.000000</td>\n",
       "      <td>22.380675</td>\n",
       "      <td>28.385596</td>\n",
       "    </tr>\n",
       "    <tr>\n",
       "      <th>2025-02-09 07:00:00</th>\n",
       "      <td>69.916384</td>\n",
       "      <td>28.971065</td>\n",
       "      <td>24.616898</td>\n",
       "      <td>20.976852</td>\n",
       "      <td>28.373742</td>\n",
       "    </tr>\n",
       "    <tr>\n",
       "      <th>2025-02-10 07:00:00</th>\n",
       "      <td>71.226336</td>\n",
       "      <td>30.652667</td>\n",
       "      <td>25.856981</td>\n",
       "      <td>22.374574</td>\n",
       "      <td>28.251201</td>\n",
       "    </tr>\n",
       "    <tr>\n",
       "      <th>2025-02-11 07:00:00</th>\n",
       "      <td>68.159624</td>\n",
       "      <td>32.532955</td>\n",
       "      <td>27.522727</td>\n",
       "      <td>24.120455</td>\n",
       "      <td>28.693799</td>\n",
       "    </tr>\n",
       "  </tbody>\n",
       "</table>\n",
       "</div>"
      ],
      "text/plain": [
       "                      humidity      pm_10     pm_2_5  pm_2_5_sp  temperature\n",
       "timestamp                                                                   \n",
       "2025-02-07 07:00:00  70.933952  34.743259  29.321219  26.166471    28.271927\n",
       "2025-02-08 07:00:00  69.348548  30.654249  26.000000  22.380675    28.385596\n",
       "2025-02-09 07:00:00  69.916384  28.971065  24.616898  20.976852    28.373742\n",
       "2025-02-10 07:00:00  71.226336  30.652667  25.856981  22.374574    28.251201\n",
       "2025-02-11 07:00:00  68.159624  32.532955  27.522727  24.120455    28.693799"
      ]
     },
     "execution_count": 25,
     "metadata": {},
     "output_type": "execute_result"
    }
   ],
   "source": [
    "data.tail()"
   ]
  },
  {
   "cell_type": "code",
   "execution_count": 26,
   "metadata": {},
   "outputs": [
    {
     "name": "stdout",
     "output_type": "stream",
     "text": [
      "แถวที่มีค่าหายไปก่อนเติม:\n",
      "                     humidity  pm_10  pm_2_5  pm_2_5_sp  temperature\n",
      "timestamp                                                           \n",
      "2023-09-30 07:00:00       NaN    NaN     NaN        NaN          NaN\n",
      "ไม่มีค่าหายไปแล้ว\n"
     ]
    },
    {
     "data": {
      "text/plain": [
       "humidity       82.889367\n",
       "pm_10          60.525519\n",
       "pm_2_5         53.415241\n",
       "pm_2_5_sp      69.527667\n",
       "temperature    29.219760\n",
       "Name: 2023-09-30 07:00:00, dtype: float64"
      ]
     },
     "execution_count": 26,
     "metadata": {},
     "output_type": "execute_result"
    }
   ],
   "source": [
    "# แสดงแถวที่มีค่าหายไปก่อนเติม\n",
    "print(\"แถวที่มีค่าหายไปก่อนเติม:\")\n",
    "print(data[data.isnull().any(axis=1)])\n",
    "\n",
    "# เติมค่าที่หายไปด้วยการ interpolate แบบเส้นตรง\n",
    "data.interpolate(method='linear', inplace=True)\n",
    "\n",
    "# แสดงแถวที่ยังมีค่า NaN หลังจากเติม (ถ้ามี)\n",
    "missing_rows_after = data[data.isnull().any(axis=1)]\n",
    "if not missing_rows_after.empty:\n",
    "    print(\"แถวที่ยังมีค่าหายไปหลังเติม:\")\n",
    "    print(missing_rows_after)\n",
    "else:\n",
    "    print(\"ไม่มีค่าหายไปแล้ว\")\n",
    "\n",
    "\n",
    "row = data.loc[\"2023-09-30 07:00:00\"]\n",
    "row"
   ]
  },
  {
   "cell_type": "code",
   "execution_count": 27,
   "metadata": {},
   "outputs": [],
   "source": [
    "data = data[['pm_2_5']]"
   ]
  },
  {
   "cell_type": "code",
   "execution_count": 28,
   "metadata": {},
   "outputs": [],
   "source": [
    "data[\"year\"] = data.index.year\n",
    "data[\"month\"] = data.index.month\n",
    "data[\"day\"] = data.index.day\n",
    "data[\"day_of_week\"] = data.index.dayofweek  # 0 = Monday, 6 = Sunday\n",
    "data[\"week_of_year\"] = data.index.isocalendar().week  # ค่าจะเป็น int64"
   ]
  },
  {
   "cell_type": "code",
   "execution_count": 29,
   "metadata": {},
   "outputs": [],
   "source": [
    "# สมมติว่า data มี index เป็น datetime อยู่แล้ว\n",
    "def assign_season(month):\n",
    "    if month in [2, 3, 4]:  # ก.พ. - เม.ย.\n",
    "        return \"summer\"        # ฤดูร้อน\n",
    "    elif month in [5, 6, 7]:  # พ.ค. - ก.ค.\n",
    "        return \"early_rainy\"   # ต้นฤดูฝน\n",
    "    else:  # ส.ค. - ม.ค.\n",
    "        return \"late_rainy\"    # ปลายฤดูฝน\n",
    "\n",
    "season_mapping = {'summer': 0, 'early_rainy': 1, 'late_rainy': 2}\n",
    "data[\"season\"] = data.index.month.map(assign_season)\n",
    "data['season'] = data['season'].map(season_mapping)"
   ]
  },
  {
   "cell_type": "code",
   "execution_count": 30,
   "metadata": {},
   "outputs": [],
   "source": [
    "data[\"is_weekend\"] = data.index.dayofweek.isin([5, 6]).astype(int)"
   ]
  },
  {
   "cell_type": "code",
   "execution_count": 31,
   "metadata": {},
   "outputs": [],
   "source": [
    "import pandas as pd\n",
    "import numpy as np\n",
    "\n",
    "# สมมุติว่ามี DataFrame data ที่มีข้อมูลอยู่แล้ว\n",
    "# เพิ่มฟีเจอร์ day_of_year\n",
    "data['date'] = pd.to_datetime(data[['year', 'month', 'day']])\n",
    "data['day_of_year'] = data['date'].dt.dayofyear\n",
    "\n",
    "# เพิ่มฟีเจอร์ month_sin และ month_cos\n",
    "data['month_sin'] = np.sin(2 * np.pi * data['month'] / 12)\n",
    "data['month_cos'] = np.cos(2 * np.pi * data['month'] / 12)\n",
    "\n",
    "# เพิ่มฟีเจอร์ day_of_week_sin และ day_of_week_cos\n",
    "data['day_of_week_sin'] = np.sin(2 * np.pi * data['day_of_week'] / 7)\n",
    "data['day_of_week_cos'] = np.cos(2 * np.pi * data['day_of_week'] / 7)\n",
    "\n",
    "lag_size = 30\n",
    "for i in range(1,lag_size+1):\n",
    "    data[f'pm_2_5_lag_{i}'] = data['pm_2_5'].shift(i)"
   ]
  },
  {
   "cell_type": "code",
   "execution_count": 32,
   "metadata": {},
   "outputs": [
    {
     "data": {
      "text/plain": [
       "Index(['pm_2_5', 'year', 'month', 'day', 'day_of_week', 'week_of_year',\n",
       "       'season', 'is_weekend', 'date', 'day_of_year', 'month_sin', 'month_cos',\n",
       "       'day_of_week_sin', 'day_of_week_cos', 'pm_2_5_lag_1', 'pm_2_5_lag_2',\n",
       "       'pm_2_5_lag_3', 'pm_2_5_lag_4', 'pm_2_5_lag_5', 'pm_2_5_lag_6',\n",
       "       'pm_2_5_lag_7', 'pm_2_5_lag_8', 'pm_2_5_lag_9', 'pm_2_5_lag_10',\n",
       "       'pm_2_5_lag_11', 'pm_2_5_lag_12', 'pm_2_5_lag_13', 'pm_2_5_lag_14',\n",
       "       'pm_2_5_lag_15', 'pm_2_5_lag_16', 'pm_2_5_lag_17', 'pm_2_5_lag_18',\n",
       "       'pm_2_5_lag_19', 'pm_2_5_lag_20', 'pm_2_5_lag_21', 'pm_2_5_lag_22',\n",
       "       'pm_2_5_lag_23', 'pm_2_5_lag_24', 'pm_2_5_lag_25', 'pm_2_5_lag_26',\n",
       "       'pm_2_5_lag_27', 'pm_2_5_lag_28', 'pm_2_5_lag_29', 'pm_2_5_lag_30'],\n",
       "      dtype='object')"
      ]
     },
     "execution_count": 32,
     "metadata": {},
     "output_type": "execute_result"
    }
   ],
   "source": [
    "data.columns"
   ]
  },
  {
   "cell_type": "code",
   "execution_count": 33,
   "metadata": {},
   "outputs": [],
   "source": [
    "data_filtered = data.loc['2023-09':]  # ดึงข้อมูลตั้งแต่กันยายน 2023 เป็นต้นไป"
   ]
  },
  {
   "cell_type": "code",
   "execution_count": 34,
   "metadata": {},
   "outputs": [
    {
     "data": {
      "text/plain": [
       "<Axes: xlabel='timestamp'>"
      ]
     },
     "execution_count": 34,
     "metadata": {},
     "output_type": "execute_result"
    },
    {
     "data": {
      "image/png": "[encoded data removed]",
      "text/plain": [
       "<Figure size 800x550 with 1 Axes>"
      ]
     },
     "metadata": {},
     "output_type": "display_data"
    }
   ],
   "source": [
    "data_filtered.plot()"
   ]
  },
  {
   "cell_type": "code",
   "execution_count": 35,
   "metadata": {},
   "outputs": [
    {
     "data": {
      "text/plain": [
       "0.05660377358490566"
      ]
     },
     "execution_count": 35,
     "metadata": {},
     "output_type": "execute_result"
    }
   ],
   "source": [
    "# สมมติว่า data มีจำนวนวันทั้งหมด\n",
    "total_data = len(data_filtered)\n",
    "\n",
    "# จำนวนวันที่ต้องการเป็น test data\n",
    "test_days = 30\n",
    "\n",
    "# คำนวณสัดส่วนของ 30 วันในข้อมูลทั้งหมด\n",
    "test_size = test_days / total_data\n",
    "test_size"
   ]
  },
  {
   "cell_type": "code",
   "execution_count": 36,
   "metadata": {},
   "outputs": [],
   "source": [
    "from sklearn.model_selection import train_test_split\n",
    "train_data, test_data = train_test_split(data_filtered, test_size=test_size, shuffle=False)"
   ]
  },
  {
   "cell_type": "code",
   "execution_count": 37,
   "metadata": {},
   "outputs": [
    {
     "data": {
      "text/plain": [
       "(500, 44)"
      ]
     },
     "execution_count": 37,
     "metadata": {},
     "output_type": "execute_result"
    }
   ],
   "source": [
    "train_data.shape"
   ]
  },
  {
   "cell_type": "code",
   "execution_count": 38,
   "metadata": {},
   "outputs": [
    {
     "data": {
      "text/plain": [
       "(30, 44)"
      ]
     },
     "execution_count": 38,
     "metadata": {},
     "output_type": "execute_result"
    }
   ],
   "source": [
    "test_data.shape"
   ]
  },
  {
   "cell_type": "code",
   "execution_count": 39,
   "metadata": {},
   "outputs": [
    {
     "data": {
      "text/html": [
       "<div>\n",
       "<style scoped>\n",
       "    .dataframe tbody tr th:only-of-type {\n",
       "        vertical-align: middle;\n",
       "    }\n",
       "\n",
       "    .dataframe tbody tr th {\n",
       "        vertical-align: top;\n",
       "    }\n",
       "\n",
       "    .dataframe thead th {\n",
       "        text-align: right;\n",
       "    }\n",
       "</style>\n",
       "<table border=\"1\" class=\"dataframe\">\n",
       "  <thead>\n",
       "    <tr style=\"text-align: right;\">\n",
       "      <th></th>\n",
       "      <th>pm_2_5</th>\n",
       "      <th>year</th>\n",
       "      <th>month</th>\n",
       "      <th>day</th>\n",
       "      <th>day_of_week</th>\n",
       "      <th>week_of_year</th>\n",
       "      <th>season</th>\n",
       "      <th>is_weekend</th>\n",
       "      <th>date</th>\n",
       "      <th>day_of_year</th>\n",
       "      <th>...</th>\n",
       "      <th>pm_2_5_lag_21</th>\n",
       "      <th>pm_2_5_lag_22</th>\n",
       "      <th>pm_2_5_lag_23</th>\n",
       "      <th>pm_2_5_lag_24</th>\n",
       "      <th>pm_2_5_lag_25</th>\n",
       "      <th>pm_2_5_lag_26</th>\n",
       "      <th>pm_2_5_lag_27</th>\n",
       "      <th>pm_2_5_lag_28</th>\n",
       "      <th>pm_2_5_lag_29</th>\n",
       "      <th>pm_2_5_lag_30</th>\n",
       "    </tr>\n",
       "    <tr>\n",
       "      <th>timestamp</th>\n",
       "      <th></th>\n",
       "      <th></th>\n",
       "      <th></th>\n",
       "      <th></th>\n",
       "      <th></th>\n",
       "      <th></th>\n",
       "      <th></th>\n",
       "      <th></th>\n",
       "      <th></th>\n",
       "      <th></th>\n",
       "      <th></th>\n",
       "      <th></th>\n",
       "      <th></th>\n",
       "      <th></th>\n",
       "      <th></th>\n",
       "      <th></th>\n",
       "      <th></th>\n",
       "      <th></th>\n",
       "      <th></th>\n",
       "      <th></th>\n",
       "      <th></th>\n",
       "    </tr>\n",
       "  </thead>\n",
       "  <tbody>\n",
       "    <tr>\n",
       "      <th>2025-01-13 07:00:00</th>\n",
       "      <td>42.594631</td>\n",
       "      <td>2025</td>\n",
       "      <td>1</td>\n",
       "      <td>13</td>\n",
       "      <td>0</td>\n",
       "      <td>3</td>\n",
       "      <td>2</td>\n",
       "      <td>0</td>\n",
       "      <td>2025-01-13</td>\n",
       "      <td>13</td>\n",
       "      <td>...</td>\n",
       "      <td>29.235626</td>\n",
       "      <td>21.650161</td>\n",
       "      <td>17.382743</td>\n",
       "      <td>13.847098</td>\n",
       "      <td>16.493088</td>\n",
       "      <td>14.572545</td>\n",
       "      <td>3.617925</td>\n",
       "      <td>3.025287</td>\n",
       "      <td>9.330097</td>\n",
       "      <td>16.010753</td>\n",
       "    </tr>\n",
       "  </tbody>\n",
       "</table>\n",
       "<p>1 rows × 44 columns</p>\n",
       "</div>"
      ],
      "text/plain": [
       "                        pm_2_5  year  month  day  day_of_week  week_of_year  \\\n",
       "timestamp                                                                     \n",
       "2025-01-13 07:00:00  42.594631  2025      1   13            0             3   \n",
       "\n",
       "                     season  is_weekend       date  day_of_year  ...  \\\n",
       "timestamp                                                        ...   \n",
       "2025-01-13 07:00:00       2           0 2025-01-13           13  ...   \n",
       "\n",
       "                     pm_2_5_lag_21  pm_2_5_lag_22  pm_2_5_lag_23  \\\n",
       "timestamp                                                          \n",
       "2025-01-13 07:00:00      29.235626      21.650161      17.382743   \n",
       "\n",
       "                     pm_2_5_lag_24  pm_2_5_lag_25  pm_2_5_lag_26  \\\n",
       "timestamp                                                          \n",
       "2025-01-13 07:00:00      13.847098      16.493088      14.572545   \n",
       "\n",
       "                     pm_2_5_lag_27  pm_2_5_lag_28  pm_2_5_lag_29  \\\n",
       "timestamp                                                          \n",
       "2025-01-13 07:00:00       3.617925       3.025287       9.330097   \n",
       "\n",
       "                     pm_2_5_lag_30  \n",
       "timestamp                           \n",
       "2025-01-13 07:00:00      16.010753  \n",
       "\n",
       "[1 rows x 44 columns]"
      ]
     },
     "execution_count": 39,
     "metadata": {},
     "output_type": "execute_result"
    }
   ],
   "source": [
    "test_data.head(1)"
   ]
  },
  {
   "cell_type": "code",
   "execution_count": 40,
   "metadata": {},
   "outputs": [
    {
     "data": {
      "text/html": [
       "<div>\n",
       "<style scoped>\n",
       "    .dataframe tbody tr th:only-of-type {\n",
       "        vertical-align: middle;\n",
       "    }\n",
       "\n",
       "    .dataframe tbody tr th {\n",
       "        vertical-align: top;\n",
       "    }\n",
       "\n",
       "    .dataframe thead th {\n",
       "        text-align: right;\n",
       "    }\n",
       "</style>\n",
       "<table border=\"1\" class=\"dataframe\">\n",
       "  <thead>\n",
       "    <tr style=\"text-align: right;\">\n",
       "      <th></th>\n",
       "      <th>pm_2_5</th>\n",
       "      <th>year</th>\n",
       "      <th>month</th>\n",
       "      <th>day</th>\n",
       "      <th>day_of_week</th>\n",
       "      <th>week_of_year</th>\n",
       "      <th>season</th>\n",
       "      <th>is_weekend</th>\n",
       "      <th>date</th>\n",
       "      <th>day_of_year</th>\n",
       "      <th>...</th>\n",
       "      <th>pm_2_5_lag_21</th>\n",
       "      <th>pm_2_5_lag_22</th>\n",
       "      <th>pm_2_5_lag_23</th>\n",
       "      <th>pm_2_5_lag_24</th>\n",
       "      <th>pm_2_5_lag_25</th>\n",
       "      <th>pm_2_5_lag_26</th>\n",
       "      <th>pm_2_5_lag_27</th>\n",
       "      <th>pm_2_5_lag_28</th>\n",
       "      <th>pm_2_5_lag_29</th>\n",
       "      <th>pm_2_5_lag_30</th>\n",
       "    </tr>\n",
       "    <tr>\n",
       "      <th>timestamp</th>\n",
       "      <th></th>\n",
       "      <th></th>\n",
       "      <th></th>\n",
       "      <th></th>\n",
       "      <th></th>\n",
       "      <th></th>\n",
       "      <th></th>\n",
       "      <th></th>\n",
       "      <th></th>\n",
       "      <th></th>\n",
       "      <th></th>\n",
       "      <th></th>\n",
       "      <th></th>\n",
       "      <th></th>\n",
       "      <th></th>\n",
       "      <th></th>\n",
       "      <th></th>\n",
       "      <th></th>\n",
       "      <th></th>\n",
       "      <th></th>\n",
       "      <th></th>\n",
       "    </tr>\n",
       "  </thead>\n",
       "  <tbody>\n",
       "    <tr>\n",
       "      <th>2025-02-11 07:00:00</th>\n",
       "      <td>27.522727</td>\n",
       "      <td>2025</td>\n",
       "      <td>2</td>\n",
       "      <td>11</td>\n",
       "      <td>1</td>\n",
       "      <td>7</td>\n",
       "      <td>0</td>\n",
       "      <td>0</td>\n",
       "      <td>2025-02-11</td>\n",
       "      <td>42</td>\n",
       "      <td>...</td>\n",
       "      <td>21.406285</td>\n",
       "      <td>40.245154</td>\n",
       "      <td>31.798226</td>\n",
       "      <td>16.22314</td>\n",
       "      <td>14.060993</td>\n",
       "      <td>45.747352</td>\n",
       "      <td>42.430233</td>\n",
       "      <td>51.460606</td>\n",
       "      <td>42.594631</td>\n",
       "      <td>34.02521</td>\n",
       "    </tr>\n",
       "  </tbody>\n",
       "</table>\n",
       "<p>1 rows × 44 columns</p>\n",
       "</div>"
      ],
      "text/plain": [
       "                        pm_2_5  year  month  day  day_of_week  week_of_year  \\\n",
       "timestamp                                                                     \n",
       "2025-02-11 07:00:00  27.522727  2025      2   11            1             7   \n",
       "\n",
       "                     season  is_weekend       date  day_of_year  ...  \\\n",
       "timestamp                                                        ...   \n",
       "2025-02-11 07:00:00       0           0 2025-02-11           42  ...   \n",
       "\n",
       "                     pm_2_5_lag_21  pm_2_5_lag_22  pm_2_5_lag_23  \\\n",
       "timestamp                                                          \n",
       "2025-02-11 07:00:00      21.406285      40.245154      31.798226   \n",
       "\n",
       "                     pm_2_5_lag_24  pm_2_5_lag_25  pm_2_5_lag_26  \\\n",
       "timestamp                                                          \n",
       "2025-02-11 07:00:00       16.22314      14.060993      45.747352   \n",
       "\n",
       "                     pm_2_5_lag_27  pm_2_5_lag_28  pm_2_5_lag_29  \\\n",
       "timestamp                                                          \n",
       "2025-02-11 07:00:00      42.430233      51.460606      42.594631   \n",
       "\n",
       "                     pm_2_5_lag_30  \n",
       "timestamp                           \n",
       "2025-02-11 07:00:00       34.02521  \n",
       "\n",
       "[1 rows x 44 columns]"
      ]
     },
     "execution_count": 40,
     "metadata": {},
     "output_type": "execute_result"
    }
   ],
   "source": [
    "test_data.tail(1)"
   ]
  },
  {
   "cell_type": "code",
   "execution_count": 41,
   "metadata": {},
   "outputs": [
    {
     "data": {
      "text/html": [
       "<div>\n",
       "<style scoped>\n",
       "    .dataframe tbody tr th:only-of-type {\n",
       "        vertical-align: middle;\n",
       "    }\n",
       "\n",
       "    .dataframe tbody tr th {\n",
       "        vertical-align: top;\n",
       "    }\n",
       "\n",
       "    .dataframe thead th {\n",
       "        text-align: right;\n",
       "    }\n",
       "</style>\n",
       "<table border=\"1\" class=\"dataframe\">\n",
       "  <thead>\n",
       "    <tr style=\"text-align: right;\">\n",
       "      <th></th>\n",
       "      <th>pm_2_5</th>\n",
       "      <th>year</th>\n",
       "      <th>month</th>\n",
       "      <th>day</th>\n",
       "      <th>day_of_week</th>\n",
       "      <th>week_of_year</th>\n",
       "      <th>season</th>\n",
       "      <th>is_weekend</th>\n",
       "      <th>date</th>\n",
       "      <th>day_of_year</th>\n",
       "      <th>...</th>\n",
       "      <th>pm_2_5_lag_21</th>\n",
       "      <th>pm_2_5_lag_22</th>\n",
       "      <th>pm_2_5_lag_23</th>\n",
       "      <th>pm_2_5_lag_24</th>\n",
       "      <th>pm_2_5_lag_25</th>\n",
       "      <th>pm_2_5_lag_26</th>\n",
       "      <th>pm_2_5_lag_27</th>\n",
       "      <th>pm_2_5_lag_28</th>\n",
       "      <th>pm_2_5_lag_29</th>\n",
       "      <th>pm_2_5_lag_30</th>\n",
       "    </tr>\n",
       "    <tr>\n",
       "      <th>timestamp</th>\n",
       "      <th></th>\n",
       "      <th></th>\n",
       "      <th></th>\n",
       "      <th></th>\n",
       "      <th></th>\n",
       "      <th></th>\n",
       "      <th></th>\n",
       "      <th></th>\n",
       "      <th></th>\n",
       "      <th></th>\n",
       "      <th></th>\n",
       "      <th></th>\n",
       "      <th></th>\n",
       "      <th></th>\n",
       "      <th></th>\n",
       "      <th></th>\n",
       "      <th></th>\n",
       "      <th></th>\n",
       "      <th></th>\n",
       "      <th></th>\n",
       "      <th></th>\n",
       "    </tr>\n",
       "  </thead>\n",
       "  <tbody>\n",
       "    <tr>\n",
       "      <th>2025-02-07 07:00:00</th>\n",
       "      <td>29.321219</td>\n",
       "      <td>2025</td>\n",
       "      <td>2</td>\n",
       "      <td>7</td>\n",
       "      <td>4</td>\n",
       "      <td>6</td>\n",
       "      <td>0</td>\n",
       "      <td>0</td>\n",
       "      <td>2025-02-07</td>\n",
       "      <td>38</td>\n",
       "      <td>...</td>\n",
       "      <td>14.060993</td>\n",
       "      <td>45.747352</td>\n",
       "      <td>42.430233</td>\n",
       "      <td>51.460606</td>\n",
       "      <td>42.594631</td>\n",
       "      <td>34.025210</td>\n",
       "      <td>40.511737</td>\n",
       "      <td>37.291228</td>\n",
       "      <td>33.810780</td>\n",
       "      <td>35.536756</td>\n",
       "    </tr>\n",
       "    <tr>\n",
       "      <th>2025-02-08 07:00:00</th>\n",
       "      <td>26.000000</td>\n",
       "      <td>2025</td>\n",
       "      <td>2</td>\n",
       "      <td>8</td>\n",
       "      <td>5</td>\n",
       "      <td>6</td>\n",
       "      <td>0</td>\n",
       "      <td>1</td>\n",
       "      <td>2025-02-08</td>\n",
       "      <td>39</td>\n",
       "      <td>...</td>\n",
       "      <td>16.223140</td>\n",
       "      <td>14.060993</td>\n",
       "      <td>45.747352</td>\n",
       "      <td>42.430233</td>\n",
       "      <td>51.460606</td>\n",
       "      <td>42.594631</td>\n",
       "      <td>34.025210</td>\n",
       "      <td>40.511737</td>\n",
       "      <td>37.291228</td>\n",
       "      <td>33.810780</td>\n",
       "    </tr>\n",
       "    <tr>\n",
       "      <th>2025-02-09 07:00:00</th>\n",
       "      <td>24.616898</td>\n",
       "      <td>2025</td>\n",
       "      <td>2</td>\n",
       "      <td>9</td>\n",
       "      <td>6</td>\n",
       "      <td>6</td>\n",
       "      <td>0</td>\n",
       "      <td>1</td>\n",
       "      <td>2025-02-09</td>\n",
       "      <td>40</td>\n",
       "      <td>...</td>\n",
       "      <td>31.798226</td>\n",
       "      <td>16.223140</td>\n",
       "      <td>14.060993</td>\n",
       "      <td>45.747352</td>\n",
       "      <td>42.430233</td>\n",
       "      <td>51.460606</td>\n",
       "      <td>42.594631</td>\n",
       "      <td>34.025210</td>\n",
       "      <td>40.511737</td>\n",
       "      <td>37.291228</td>\n",
       "    </tr>\n",
       "    <tr>\n",
       "      <th>2025-02-10 07:00:00</th>\n",
       "      <td>25.856981</td>\n",
       "      <td>2025</td>\n",
       "      <td>2</td>\n",
       "      <td>10</td>\n",
       "      <td>0</td>\n",
       "      <td>7</td>\n",
       "      <td>0</td>\n",
       "      <td>0</td>\n",
       "      <td>2025-02-10</td>\n",
       "      <td>41</td>\n",
       "      <td>...</td>\n",
       "      <td>40.245154</td>\n",
       "      <td>31.798226</td>\n",
       "      <td>16.223140</td>\n",
       "      <td>14.060993</td>\n",
       "      <td>45.747352</td>\n",
       "      <td>42.430233</td>\n",
       "      <td>51.460606</td>\n",
       "      <td>42.594631</td>\n",
       "      <td>34.025210</td>\n",
       "      <td>40.511737</td>\n",
       "    </tr>\n",
       "    <tr>\n",
       "      <th>2025-02-11 07:00:00</th>\n",
       "      <td>27.522727</td>\n",
       "      <td>2025</td>\n",
       "      <td>2</td>\n",
       "      <td>11</td>\n",
       "      <td>1</td>\n",
       "      <td>7</td>\n",
       "      <td>0</td>\n",
       "      <td>0</td>\n",
       "      <td>2025-02-11</td>\n",
       "      <td>42</td>\n",
       "      <td>...</td>\n",
       "      <td>21.406285</td>\n",
       "      <td>40.245154</td>\n",
       "      <td>31.798226</td>\n",
       "      <td>16.223140</td>\n",
       "      <td>14.060993</td>\n",
       "      <td>45.747352</td>\n",
       "      <td>42.430233</td>\n",
       "      <td>51.460606</td>\n",
       "      <td>42.594631</td>\n",
       "      <td>34.025210</td>\n",
       "    </tr>\n",
       "  </tbody>\n",
       "</table>\n",
       "<p>5 rows × 44 columns</p>\n",
       "</div>"
      ],
      "text/plain": [
       "                        pm_2_5  year  month  day  day_of_week  week_of_year  \\\n",
       "timestamp                                                                     \n",
       "2025-02-07 07:00:00  29.321219  2025      2    7            4             6   \n",
       "2025-02-08 07:00:00  26.000000  2025      2    8            5             6   \n",
       "2025-02-09 07:00:00  24.616898  2025      2    9            6             6   \n",
       "2025-02-10 07:00:00  25.856981  2025      2   10            0             7   \n",
       "2025-02-11 07:00:00  27.522727  2025      2   11            1             7   \n",
       "\n",
       "                     season  is_weekend       date  day_of_year  ...  \\\n",
       "timestamp                                                        ...   \n",
       "2025-02-07 07:00:00       0           0 2025-02-07           38  ...   \n",
       "2025-02-08 07:00:00       0           1 2025-02-08           39  ...   \n",
       "2025-02-09 07:00:00       0           1 2025-02-09           40  ...   \n",
       "2025-02-10 07:00:00       0           0 2025-02-10           41  ...   \n",
       "2025-02-11 07:00:00       0           0 2025-02-11           42  ...   \n",
       "\n",
       "                     pm_2_5_lag_21  pm_2_5_lag_22  pm_2_5_lag_23  \\\n",
       "timestamp                                                          \n",
       "2025-02-07 07:00:00      14.060993      45.747352      42.430233   \n",
       "2025-02-08 07:00:00      16.223140      14.060993      45.747352   \n",
       "2025-02-09 07:00:00      31.798226      16.223140      14.060993   \n",
       "2025-02-10 07:00:00      40.245154      31.798226      16.223140   \n",
       "2025-02-11 07:00:00      21.406285      40.245154      31.798226   \n",
       "\n",
       "                     pm_2_5_lag_24  pm_2_5_lag_25  pm_2_5_lag_26  \\\n",
       "timestamp                                                          \n",
       "2025-02-07 07:00:00      51.460606      42.594631      34.025210   \n",
       "2025-02-08 07:00:00      42.430233      51.460606      42.594631   \n",
       "2025-02-09 07:00:00      45.747352      42.430233      51.460606   \n",
       "2025-02-10 07:00:00      14.060993      45.747352      42.430233   \n",
       "2025-02-11 07:00:00      16.223140      14.060993      45.747352   \n",
       "\n",
       "                     pm_2_5_lag_27  pm_2_5_lag_28  pm_2_5_lag_29  \\\n",
       "timestamp                                                          \n",
       "2025-02-07 07:00:00      40.511737      37.291228      33.810780   \n",
       "2025-02-08 07:00:00      34.025210      40.511737      37.291228   \n",
       "2025-02-09 07:00:00      42.594631      34.025210      40.511737   \n",
       "2025-02-10 07:00:00      51.460606      42.594631      34.025210   \n",
       "2025-02-11 07:00:00      42.430233      51.460606      42.594631   \n",
       "\n",
       "                     pm_2_5_lag_30  \n",
       "timestamp                           \n",
       "2025-02-07 07:00:00      35.536756  \n",
       "2025-02-08 07:00:00      33.810780  \n",
       "2025-02-09 07:00:00      37.291228  \n",
       "2025-02-10 07:00:00      40.511737  \n",
       "2025-02-11 07:00:00      34.025210  \n",
       "\n",
       "[5 rows x 44 columns]"
      ]
     },
     "execution_count": 41,
     "metadata": {},
     "output_type": "execute_result"
    }
   ],
   "source": [
    "test_data.tail()"
   ]
  },
  {
   "cell_type": "code",
   "execution_count": 42,
   "metadata": {},
   "outputs": [
    {
     "data": {
      "text/plain": [
       "Index(['pm_2_5', 'year', 'month', 'day', 'day_of_week', 'week_of_year',\n",
       "       'season', 'is_weekend', 'date', 'day_of_year', 'month_sin', 'month_cos',\n",
       "       'day_of_week_sin', 'day_of_week_cos', 'pm_2_5_lag_1', 'pm_2_5_lag_2',\n",
       "       'pm_2_5_lag_3', 'pm_2_5_lag_4', 'pm_2_5_lag_5', 'pm_2_5_lag_6',\n",
       "       'pm_2_5_lag_7', 'pm_2_5_lag_8', 'pm_2_5_lag_9', 'pm_2_5_lag_10',\n",
       "       'pm_2_5_lag_11', 'pm_2_5_lag_12', 'pm_2_5_lag_13', 'pm_2_5_lag_14',\n",
       "       'pm_2_5_lag_15', 'pm_2_5_lag_16', 'pm_2_5_lag_17', 'pm_2_5_lag_18',\n",
       "       'pm_2_5_lag_19', 'pm_2_5_lag_20', 'pm_2_5_lag_21', 'pm_2_5_lag_22',\n",
       "       'pm_2_5_lag_23', 'pm_2_5_lag_24', 'pm_2_5_lag_25', 'pm_2_5_lag_26',\n",
       "       'pm_2_5_lag_27', 'pm_2_5_lag_28', 'pm_2_5_lag_29', 'pm_2_5_lag_30'],\n",
       "      dtype='object')"
      ]
     },
     "execution_count": 42,
     "metadata": {},
     "output_type": "execute_result"
    }
   ],
   "source": [
    "test_data.columns"
   ]
  },
  {
   "cell_type": "code",
   "execution_count": 43,
   "metadata": {},
   "outputs": [
    {
     "data": {
      "text/html": [
       "<style type=\"text/css\">\n",
       "#T_4a163_row9_col1 {\n",
       "  background-color: lightgreen;\n",
       "}\n",
       "</style>\n",
       "<table id=\"T_4a163\">\n",
       "  <thead>\n",
       "    <tr>\n",
       "      <th class=\"blank level0\" >&nbsp;</th>\n",
       "      <th id=\"T_4a163_level0_col0\" class=\"col_heading level0 col0\" >Description</th>\n",
       "      <th id=\"T_4a163_level0_col1\" class=\"col_heading level0 col1\" >Value</th>\n",
       "    </tr>\n",
       "  </thead>\n",
       "  <tbody>\n",
       "    <tr>\n",
       "      <th id=\"T_4a163_level0_row0\" class=\"row_heading level0 row0\" >0</th>\n",
       "      <td id=\"T_4a163_row0_col0\" class=\"data row0 col0\" >Session id</td>\n",
       "      <td id=\"T_4a163_row0_col1\" class=\"data row0 col1\" >123</td>\n",
       "    </tr>\n",
       "    <tr>\n",
       "      <th id=\"T_4a163_level0_row1\" class=\"row_heading level0 row1\" >1</th>\n",
       "      <td id=\"T_4a163_row1_col0\" class=\"data row1 col0\" >Target</td>\n",
       "      <td id=\"T_4a163_row1_col1\" class=\"data row1 col1\" >pm_2_5</td>\n",
       "    </tr>\n",
       "    <tr>\n",
       "      <th id=\"T_4a163_level0_row2\" class=\"row_heading level0 row2\" >2</th>\n",
       "      <td id=\"T_4a163_row2_col0\" class=\"data row2 col0\" >Target type</td>\n",
       "      <td id=\"T_4a163_row2_col1\" class=\"data row2 col1\" >Regression</td>\n",
       "    </tr>\n",
       "    <tr>\n",
       "      <th id=\"T_4a163_level0_row3\" class=\"row_heading level0 row3\" >3</th>\n",
       "      <td id=\"T_4a163_row3_col0\" class=\"data row3 col0\" >Original data shape</td>\n",
       "      <td id=\"T_4a163_row3_col1\" class=\"data row3 col1\" >(500, 44)</td>\n",
       "    </tr>\n",
       "    <tr>\n",
       "      <th id=\"T_4a163_level0_row4\" class=\"row_heading level0 row4\" >4</th>\n",
       "      <td id=\"T_4a163_row4_col0\" class=\"data row4 col0\" >Transformed data shape</td>\n",
       "      <td id=\"T_4a163_row4_col1\" class=\"data row4 col1\" >(500, 46)</td>\n",
       "    </tr>\n",
       "    <tr>\n",
       "      <th id=\"T_4a163_level0_row5\" class=\"row_heading level0 row5\" >5</th>\n",
       "      <td id=\"T_4a163_row5_col0\" class=\"data row5 col0\" >Transformed train set shape</td>\n",
       "      <td id=\"T_4a163_row5_col1\" class=\"data row5 col1\" >(350, 46)</td>\n",
       "    </tr>\n",
       "    <tr>\n",
       "      <th id=\"T_4a163_level0_row6\" class=\"row_heading level0 row6\" >6</th>\n",
       "      <td id=\"T_4a163_row6_col0\" class=\"data row6 col0\" >Transformed test set shape</td>\n",
       "      <td id=\"T_4a163_row6_col1\" class=\"data row6 col1\" >(150, 46)</td>\n",
       "    </tr>\n",
       "    <tr>\n",
       "      <th id=\"T_4a163_level0_row7\" class=\"row_heading level0 row7\" >7</th>\n",
       "      <td id=\"T_4a163_row7_col0\" class=\"data row7 col0\" >Numeric features</td>\n",
       "      <td id=\"T_4a163_row7_col1\" class=\"data row7 col1\" >42</td>\n",
       "    </tr>\n",
       "    <tr>\n",
       "      <th id=\"T_4a163_level0_row8\" class=\"row_heading level0 row8\" >8</th>\n",
       "      <td id=\"T_4a163_row8_col0\" class=\"data row8 col0\" >Date features</td>\n",
       "      <td id=\"T_4a163_row8_col1\" class=\"data row8 col1\" >1</td>\n",
       "    </tr>\n",
       "    <tr>\n",
       "      <th id=\"T_4a163_level0_row9\" class=\"row_heading level0 row9\" >9</th>\n",
       "      <td id=\"T_4a163_row9_col0\" class=\"data row9 col0\" >Preprocess</td>\n",
       "      <td id=\"T_4a163_row9_col1\" class=\"data row9 col1\" >True</td>\n",
       "    </tr>\n",
       "    <tr>\n",
       "      <th id=\"T_4a163_level0_row10\" class=\"row_heading level0 row10\" >10</th>\n",
       "      <td id=\"T_4a163_row10_col0\" class=\"data row10 col0\" >Imputation type</td>\n",
       "      <td id=\"T_4a163_row10_col1\" class=\"data row10 col1\" >simple</td>\n",
       "    </tr>\n",
       "    <tr>\n",
       "      <th id=\"T_4a163_level0_row11\" class=\"row_heading level0 row11\" >11</th>\n",
       "      <td id=\"T_4a163_row11_col0\" class=\"data row11 col0\" >Numeric imputation</td>\n",
       "      <td id=\"T_4a163_row11_col1\" class=\"data row11 col1\" >mean</td>\n",
       "    </tr>\n",
       "    <tr>\n",
       "      <th id=\"T_4a163_level0_row12\" class=\"row_heading level0 row12\" >12</th>\n",
       "      <td id=\"T_4a163_row12_col0\" class=\"data row12 col0\" >Categorical imputation</td>\n",
       "      <td id=\"T_4a163_row12_col1\" class=\"data row12 col1\" >mode</td>\n",
       "    </tr>\n",
       "    <tr>\n",
       "      <th id=\"T_4a163_level0_row13\" class=\"row_heading level0 row13\" >13</th>\n",
       "      <td id=\"T_4a163_row13_col0\" class=\"data row13 col0\" >Fold Generator</td>\n",
       "      <td id=\"T_4a163_row13_col1\" class=\"data row13 col1\" >KFold</td>\n",
       "    </tr>\n",
       "    <tr>\n",
       "      <th id=\"T_4a163_level0_row14\" class=\"row_heading level0 row14\" >14</th>\n",
       "      <td id=\"T_4a163_row14_col0\" class=\"data row14 col0\" >Fold Number</td>\n",
       "      <td id=\"T_4a163_row14_col1\" class=\"data row14 col1\" >10</td>\n",
       "    </tr>\n",
       "    <tr>\n",
       "      <th id=\"T_4a163_level0_row15\" class=\"row_heading level0 row15\" >15</th>\n",
       "      <td id=\"T_4a163_row15_col0\" class=\"data row15 col0\" >CPU Jobs</td>\n",
       "      <td id=\"T_4a163_row15_col1\" class=\"data row15 col1\" >-1</td>\n",
       "    </tr>\n",
       "    <tr>\n",
       "      <th id=\"T_4a163_level0_row16\" class=\"row_heading level0 row16\" >16</th>\n",
       "      <td id=\"T_4a163_row16_col0\" class=\"data row16 col0\" >Use GPU</td>\n",
       "      <td id=\"T_4a163_row16_col1\" class=\"data row16 col1\" >False</td>\n",
       "    </tr>\n",
       "    <tr>\n",
       "      <th id=\"T_4a163_level0_row17\" class=\"row_heading level0 row17\" >17</th>\n",
       "      <td id=\"T_4a163_row17_col0\" class=\"data row17 col0\" >Log Experiment</td>\n",
       "      <td id=\"T_4a163_row17_col1\" class=\"data row17 col1\" >False</td>\n",
       "    </tr>\n",
       "    <tr>\n",
       "      <th id=\"T_4a163_level0_row18\" class=\"row_heading level0 row18\" >18</th>\n",
       "      <td id=\"T_4a163_row18_col0\" class=\"data row18 col0\" >Experiment Name</td>\n",
       "      <td id=\"T_4a163_row18_col1\" class=\"data row18 col1\" >reg-default-name</td>\n",
       "    </tr>\n",
       "    <tr>\n",
       "      <th id=\"T_4a163_level0_row19\" class=\"row_heading level0 row19\" >19</th>\n",
       "      <td id=\"T_4a163_row19_col0\" class=\"data row19 col0\" >USI</td>\n",
       "      <td id=\"T_4a163_row19_col1\" class=\"data row19 col1\" >96e8</td>\n",
       "    </tr>\n",
       "  </tbody>\n",
       "</table>\n"
      ],
      "text/plain": [
       "<pandas.io.formats.style.Styler at 0x1466261d690>"
      ]
     },
     "metadata": {},
     "output_type": "display_data"
    },
    {
     "data": {
      "text/plain": [
       "<pycaret.regression.oop.RegressionExperiment at 0x14660d3ca90>"
      ]
     },
     "execution_count": 43,
     "metadata": {},
     "output_type": "execute_result"
    }
   ],
   "source": [
    "# from pycaret.time_series import *\n",
    "from pycaret.regression import RegressionExperiment\n",
    "exp1 = RegressionExperiment()\n",
    "exp1.setup(data=train_data, target='pm_2_5', session_id=123)\n",
    "\n",
    "# fold=12, iterative_imputation_iters=100, remove_outliers = True"
   ]
  },
  {
   "cell_type": "code",
   "execution_count": 44,
   "metadata": {},
   "outputs": [
    {
     "data": {
      "text/html": [],
      "text/plain": [
       "<IPython.core.display.HTML object>"
      ]
     },
     "metadata": {},
     "output_type": "display_data"
    },
    {
     "data": {
      "text/html": [
       "<style type=\"text/css\">\n",
       "#T_1f21f th {\n",
       "  text-align: left;\n",
       "}\n",
       "#T_1f21f_row0_col0, #T_1f21f_row0_col2, #T_1f21f_row0_col3, #T_1f21f_row0_col5, #T_1f21f_row0_col6, #T_1f21f_row1_col0, #T_1f21f_row1_col1, #T_1f21f_row1_col4, #T_1f21f_row1_col6, #T_1f21f_row2_col0, #T_1f21f_row2_col1, #T_1f21f_row2_col2, #T_1f21f_row2_col3, #T_1f21f_row2_col4, #T_1f21f_row2_col5, #T_1f21f_row2_col6, #T_1f21f_row3_col0, #T_1f21f_row3_col1, #T_1f21f_row3_col2, #T_1f21f_row3_col3, #T_1f21f_row3_col4, #T_1f21f_row3_col5, #T_1f21f_row3_col6, #T_1f21f_row4_col0, #T_1f21f_row4_col1, #T_1f21f_row4_col2, #T_1f21f_row4_col3, #T_1f21f_row4_col4, #T_1f21f_row4_col5, #T_1f21f_row4_col6, #T_1f21f_row5_col0, #T_1f21f_row5_col1, #T_1f21f_row5_col2, #T_1f21f_row5_col3, #T_1f21f_row5_col4, #T_1f21f_row5_col5, #T_1f21f_row5_col6, #T_1f21f_row6_col0, #T_1f21f_row6_col1, #T_1f21f_row6_col2, #T_1f21f_row6_col3, #T_1f21f_row6_col4, #T_1f21f_row6_col5, #T_1f21f_row7_col0, #T_1f21f_row7_col1, #T_1f21f_row7_col2, #T_1f21f_row7_col3, #T_1f21f_row7_col4, #T_1f21f_row7_col5, #T_1f21f_row7_col6, #T_1f21f_row8_col0, #T_1f21f_row8_col1, #T_1f21f_row8_col2, #T_1f21f_row8_col3, #T_1f21f_row8_col4, #T_1f21f_row8_col5, #T_1f21f_row8_col6, #T_1f21f_row9_col0, #T_1f21f_row9_col1, #T_1f21f_row9_col2, #T_1f21f_row9_col3, #T_1f21f_row9_col4, #T_1f21f_row9_col5, #T_1f21f_row9_col6, #T_1f21f_row10_col0, #T_1f21f_row10_col1, #T_1f21f_row10_col2, #T_1f21f_row10_col3, #T_1f21f_row10_col4, #T_1f21f_row10_col5, #T_1f21f_row10_col6, #T_1f21f_row11_col0, #T_1f21f_row11_col1, #T_1f21f_row11_col2, #T_1f21f_row11_col3, #T_1f21f_row11_col4, #T_1f21f_row11_col5, #T_1f21f_row11_col6, #T_1f21f_row12_col0, #T_1f21f_row12_col1, #T_1f21f_row12_col2, #T_1f21f_row12_col3, #T_1f21f_row12_col4, #T_1f21f_row12_col5, #T_1f21f_row12_col6, #T_1f21f_row13_col0, #T_1f21f_row13_col1, #T_1f21f_row13_col2, #T_1f21f_row13_col3, #T_1f21f_row13_col4, #T_1f21f_row13_col5, #T_1f21f_row13_col6, #T_1f21f_row14_col0, #T_1f21f_row14_col1, #T_1f21f_row14_col2, #T_1f21f_row14_col3, #T_1f21f_row14_col4, #T_1f21f_row14_col5, #T_1f21f_row14_col6, #T_1f21f_row15_col0, #T_1f21f_row15_col1, #T_1f21f_row15_col2, #T_1f21f_row15_col3, #T_1f21f_row15_col4, #T_1f21f_row15_col5, #T_1f21f_row15_col6, #T_1f21f_row16_col0, #T_1f21f_row16_col1, #T_1f21f_row16_col2, #T_1f21f_row16_col3, #T_1f21f_row16_col4, #T_1f21f_row16_col5, #T_1f21f_row16_col6, #T_1f21f_row17_col0, #T_1f21f_row17_col1, #T_1f21f_row17_col2, #T_1f21f_row17_col3, #T_1f21f_row17_col4, #T_1f21f_row17_col5, #T_1f21f_row17_col6 {\n",
       "  text-align: left;\n",
       "}\n",
       "#T_1f21f_row0_col1, #T_1f21f_row0_col4, #T_1f21f_row1_col2, #T_1f21f_row1_col3, #T_1f21f_row1_col5, #T_1f21f_row6_col6 {\n",
       "  text-align: left;\n",
       "  background-color: yellow;\n",
       "}\n",
       "#T_1f21f_row0_col7, #T_1f21f_row1_col7, #T_1f21f_row2_col7, #T_1f21f_row3_col7, #T_1f21f_row4_col7, #T_1f21f_row5_col7, #T_1f21f_row6_col7, #T_1f21f_row7_col7, #T_1f21f_row8_col7, #T_1f21f_row9_col7, #T_1f21f_row10_col7, #T_1f21f_row11_col7, #T_1f21f_row12_col7, #T_1f21f_row13_col7, #T_1f21f_row15_col7, #T_1f21f_row16_col7, #T_1f21f_row17_col7 {\n",
       "  text-align: left;\n",
       "  background-color: lightgrey;\n",
       "}\n",
       "#T_1f21f_row14_col7 {\n",
       "  text-align: left;\n",
       "  background-color: yellow;\n",
       "  background-color: lightgrey;\n",
       "}\n",
       "</style>\n",
       "<table id=\"T_1f21f\">\n",
       "  <thead>\n",
       "    <tr>\n",
       "      <th class=\"blank level0\" >&nbsp;</th>\n",
       "      <th id=\"T_1f21f_level0_col0\" class=\"col_heading level0 col0\" >Model</th>\n",
       "      <th id=\"T_1f21f_level0_col1\" class=\"col_heading level0 col1\" >MAE</th>\n",
       "      <th id=\"T_1f21f_level0_col2\" class=\"col_heading level0 col2\" >MSE</th>\n",
       "      <th id=\"T_1f21f_level0_col3\" class=\"col_heading level0 col3\" >RMSE</th>\n",
       "      <th id=\"T_1f21f_level0_col4\" class=\"col_heading level0 col4\" >R2</th>\n",
       "      <th id=\"T_1f21f_level0_col5\" class=\"col_heading level0 col5\" >RMSLE</th>\n",
       "      <th id=\"T_1f21f_level0_col6\" class=\"col_heading level0 col6\" >MAPE</th>\n",
       "      <th id=\"T_1f21f_level0_col7\" class=\"col_heading level0 col7\" >TT (Sec)</th>\n",
       "    </tr>\n",
       "  </thead>\n",
       "  <tbody>\n",
       "    <tr>\n",
       "      <th id=\"T_1f21f_level0_row0\" class=\"row_heading level0 row0\" >omp</th>\n",
       "      <td id=\"T_1f21f_row0_col0\" class=\"data row0 col0\" >Orthogonal Matching Pursuit</td>\n",
       "      <td id=\"T_1f21f_row0_col1\" class=\"data row0 col1\" >5.0518</td>\n",
       "      <td id=\"T_1f21f_row0_col2\" class=\"data row0 col2\" >44.7408</td>\n",
       "      <td id=\"T_1f21f_row0_col3\" class=\"data row0 col3\" >6.6120</td>\n",
       "      <td id=\"T_1f21f_row0_col4\" class=\"data row0 col4\" >0.5213</td>\n",
       "      <td id=\"T_1f21f_row0_col5\" class=\"data row0 col5\" >0.3479</td>\n",
       "      <td id=\"T_1f21f_row0_col6\" class=\"data row0 col6\" >0.3244</td>\n",
       "      <td id=\"T_1f21f_row0_col7\" class=\"data row0 col7\" >0.0070</td>\n",
       "    </tr>\n",
       "    <tr>\n",
       "      <th id=\"T_1f21f_level0_row1\" class=\"row_heading level0 row1\" >llar</th>\n",
       "      <td id=\"T_1f21f_row1_col0\" class=\"data row1 col0\" >Lasso Least Angle Regression</td>\n",
       "      <td id=\"T_1f21f_row1_col1\" class=\"data row1 col1\" >5.0867</td>\n",
       "      <td id=\"T_1f21f_row1_col2\" class=\"data row1 col2\" >44.6743</td>\n",
       "      <td id=\"T_1f21f_row1_col3\" class=\"data row1 col3\" >6.6077</td>\n",
       "      <td id=\"T_1f21f_row1_col4\" class=\"data row1 col4\" >0.5205</td>\n",
       "      <td id=\"T_1f21f_row1_col5\" class=\"data row1 col5\" >0.3455</td>\n",
       "      <td id=\"T_1f21f_row1_col6\" class=\"data row1 col6\" >0.3248</td>\n",
       "      <td id=\"T_1f21f_row1_col7\" class=\"data row1 col7\" >0.0070</td>\n",
       "    </tr>\n",
       "    <tr>\n",
       "      <th id=\"T_1f21f_level0_row2\" class=\"row_heading level0 row2\" >lasso</th>\n",
       "      <td id=\"T_1f21f_row2_col0\" class=\"data row2 col0\" >Lasso Regression</td>\n",
       "      <td id=\"T_1f21f_row2_col1\" class=\"data row2 col1\" >5.0961</td>\n",
       "      <td id=\"T_1f21f_row2_col2\" class=\"data row2 col2\" >44.7563</td>\n",
       "      <td id=\"T_1f21f_row2_col3\" class=\"data row2 col3\" >6.6137</td>\n",
       "      <td id=\"T_1f21f_row2_col4\" class=\"data row2 col4\" >0.5193</td>\n",
       "      <td id=\"T_1f21f_row2_col5\" class=\"data row2 col5\" >0.3462</td>\n",
       "      <td id=\"T_1f21f_row2_col6\" class=\"data row2 col6\" >0.3261</td>\n",
       "      <td id=\"T_1f21f_row2_col7\" class=\"data row2 col7\" >0.1490</td>\n",
       "    </tr>\n",
       "    <tr>\n",
       "      <th id=\"T_1f21f_level0_row3\" class=\"row_heading level0 row3\" >br</th>\n",
       "      <td id=\"T_1f21f_row3_col0\" class=\"data row3 col0\" >Bayesian Ridge</td>\n",
       "      <td id=\"T_1f21f_row3_col1\" class=\"data row3 col1\" >5.1501</td>\n",
       "      <td id=\"T_1f21f_row3_col2\" class=\"data row3 col2\" >45.1115</td>\n",
       "      <td id=\"T_1f21f_row3_col3\" class=\"data row3 col3\" >6.6368</td>\n",
       "      <td id=\"T_1f21f_row3_col4\" class=\"data row3 col4\" >0.5166</td>\n",
       "      <td id=\"T_1f21f_row3_col5\" class=\"data row3 col5\" >0.3492</td>\n",
       "      <td id=\"T_1f21f_row3_col6\" class=\"data row3 col6\" >0.3329</td>\n",
       "      <td id=\"T_1f21f_row3_col7\" class=\"data row3 col7\" >0.0070</td>\n",
       "    </tr>\n",
       "    <tr>\n",
       "      <th id=\"T_1f21f_level0_row4\" class=\"row_heading level0 row4\" >en</th>\n",
       "      <td id=\"T_1f21f_row4_col0\" class=\"data row4 col0\" >Elastic Net</td>\n",
       "      <td id=\"T_1f21f_row4_col1\" class=\"data row4 col1\" >5.1243</td>\n",
       "      <td id=\"T_1f21f_row4_col2\" class=\"data row4 col2\" >45.2219</td>\n",
       "      <td id=\"T_1f21f_row4_col3\" class=\"data row4 col3\" >6.6501</td>\n",
       "      <td id=\"T_1f21f_row4_col4\" class=\"data row4 col4\" >0.5122</td>\n",
       "      <td id=\"T_1f21f_row4_col5\" class=\"data row4 col5\" >0.3493</td>\n",
       "      <td id=\"T_1f21f_row4_col6\" class=\"data row4 col6\" >0.3285</td>\n",
       "      <td id=\"T_1f21f_row4_col7\" class=\"data row4 col7\" >0.0090</td>\n",
       "    </tr>\n",
       "    <tr>\n",
       "      <th id=\"T_1f21f_level0_row5\" class=\"row_heading level0 row5\" >et</th>\n",
       "      <td id=\"T_1f21f_row5_col0\" class=\"data row5 col0\" >Extra Trees Regressor</td>\n",
       "      <td id=\"T_1f21f_row5_col1\" class=\"data row5 col1\" >5.3827</td>\n",
       "      <td id=\"T_1f21f_row5_col2\" class=\"data row5 col2\" >47.9133</td>\n",
       "      <td id=\"T_1f21f_row5_col3\" class=\"data row5 col3\" >6.8298</td>\n",
       "      <td id=\"T_1f21f_row5_col4\" class=\"data row5 col4\" >0.4978</td>\n",
       "      <td id=\"T_1f21f_row5_col5\" class=\"data row5 col5\" >0.3573</td>\n",
       "      <td id=\"T_1f21f_row5_col6\" class=\"data row5 col6\" >0.3470</td>\n",
       "      <td id=\"T_1f21f_row5_col7\" class=\"data row5 col7\" >0.0500</td>\n",
       "    </tr>\n",
       "    <tr>\n",
       "      <th id=\"T_1f21f_level0_row6\" class=\"row_heading level0 row6\" >huber</th>\n",
       "      <td id=\"T_1f21f_row6_col0\" class=\"data row6 col0\" >Huber Regressor</td>\n",
       "      <td id=\"T_1f21f_row6_col1\" class=\"data row6 col1\" >5.2411</td>\n",
       "      <td id=\"T_1f21f_row6_col2\" class=\"data row6 col2\" >46.8517</td>\n",
       "      <td id=\"T_1f21f_row6_col3\" class=\"data row6 col3\" >6.7750</td>\n",
       "      <td id=\"T_1f21f_row6_col4\" class=\"data row6 col4\" >0.4938</td>\n",
       "      <td id=\"T_1f21f_row6_col5\" class=\"data row6 col5\" >0.3517</td>\n",
       "      <td id=\"T_1f21f_row6_col6\" class=\"data row6 col6\" >0.3225</td>\n",
       "      <td id=\"T_1f21f_row6_col7\" class=\"data row6 col7\" >0.0100</td>\n",
       "    </tr>\n",
       "    <tr>\n",
       "      <th id=\"T_1f21f_level0_row7\" class=\"row_heading level0 row7\" >ridge</th>\n",
       "      <td id=\"T_1f21f_row7_col0\" class=\"data row7 col0\" >Ridge Regression</td>\n",
       "      <td id=\"T_1f21f_row7_col1\" class=\"data row7 col1\" >5.2347</td>\n",
       "      <td id=\"T_1f21f_row7_col2\" class=\"data row7 col2\" >46.9830</td>\n",
       "      <td id=\"T_1f21f_row7_col3\" class=\"data row7 col3\" >6.7734</td>\n",
       "      <td id=\"T_1f21f_row7_col4\" class=\"data row7 col4\" >0.4929</td>\n",
       "      <td id=\"T_1f21f_row7_col5\" class=\"data row7 col5\" >0.3560</td>\n",
       "      <td id=\"T_1f21f_row7_col6\" class=\"data row7 col6\" >0.3308</td>\n",
       "      <td id=\"T_1f21f_row7_col7\" class=\"data row7 col7\" >0.0070</td>\n",
       "    </tr>\n",
       "    <tr>\n",
       "      <th id=\"T_1f21f_level0_row8\" class=\"row_heading level0 row8\" >lightgbm</th>\n",
       "      <td id=\"T_1f21f_row8_col0\" class=\"data row8 col0\" >Light Gradient Boosting Machine</td>\n",
       "      <td id=\"T_1f21f_row8_col1\" class=\"data row8 col1\" >5.3875</td>\n",
       "      <td id=\"T_1f21f_row8_col2\" class=\"data row8 col2\" >48.4979</td>\n",
       "      <td id=\"T_1f21f_row8_col3\" class=\"data row8 col3\" >6.8865</td>\n",
       "      <td id=\"T_1f21f_row8_col4\" class=\"data row8 col4\" >0.4799</td>\n",
       "      <td id=\"T_1f21f_row8_col5\" class=\"data row8 col5\" >0.3561</td>\n",
       "      <td id=\"T_1f21f_row8_col6\" class=\"data row8 col6\" >0.3397</td>\n",
       "      <td id=\"T_1f21f_row8_col7\" class=\"data row8 col7\" >0.0470</td>\n",
       "    </tr>\n",
       "    <tr>\n",
       "      <th id=\"T_1f21f_level0_row9\" class=\"row_heading level0 row9\" >rf</th>\n",
       "      <td id=\"T_1f21f_row9_col0\" class=\"data row9 col0\" >Random Forest Regressor</td>\n",
       "      <td id=\"T_1f21f_row9_col1\" class=\"data row9 col1\" >5.3409</td>\n",
       "      <td id=\"T_1f21f_row9_col2\" class=\"data row9 col2\" >48.8302</td>\n",
       "      <td id=\"T_1f21f_row9_col3\" class=\"data row9 col3\" >6.9260</td>\n",
       "      <td id=\"T_1f21f_row9_col4\" class=\"data row9 col4\" >0.4797</td>\n",
       "      <td id=\"T_1f21f_row9_col5\" class=\"data row9 col5\" >0.3610</td>\n",
       "      <td id=\"T_1f21f_row9_col6\" class=\"data row9 col6\" >0.3493</td>\n",
       "      <td id=\"T_1f21f_row9_col7\" class=\"data row9 col7\" >0.0910</td>\n",
       "    </tr>\n",
       "    <tr>\n",
       "      <th id=\"T_1f21f_level0_row10\" class=\"row_heading level0 row10\" >ada</th>\n",
       "      <td id=\"T_1f21f_row10_col0\" class=\"data row10 col0\" >AdaBoost Regressor</td>\n",
       "      <td id=\"T_1f21f_row10_col1\" class=\"data row10 col1\" >5.4617</td>\n",
       "      <td id=\"T_1f21f_row10_col2\" class=\"data row10 col2\" >50.0886</td>\n",
       "      <td id=\"T_1f21f_row10_col3\" class=\"data row10 col3\" >6.9878</td>\n",
       "      <td id=\"T_1f21f_row10_col4\" class=\"data row10 col4\" >0.4783</td>\n",
       "      <td id=\"T_1f21f_row10_col5\" class=\"data row10 col5\" >0.3659</td>\n",
       "      <td id=\"T_1f21f_row10_col6\" class=\"data row10 col6\" >0.3645</td>\n",
       "      <td id=\"T_1f21f_row10_col7\" class=\"data row10 col7\" >0.0290</td>\n",
       "    </tr>\n",
       "    <tr>\n",
       "      <th id=\"T_1f21f_level0_row11\" class=\"row_heading level0 row11\" >gbr</th>\n",
       "      <td id=\"T_1f21f_row11_col0\" class=\"data row11 col0\" >Gradient Boosting Regressor</td>\n",
       "      <td id=\"T_1f21f_row11_col1\" class=\"data row11 col1\" >5.4661</td>\n",
       "      <td id=\"T_1f21f_row11_col2\" class=\"data row11 col2\" >50.3736</td>\n",
       "      <td id=\"T_1f21f_row11_col3\" class=\"data row11 col3\" >7.0249</td>\n",
       "      <td id=\"T_1f21f_row11_col4\" class=\"data row11 col4\" >0.4597</td>\n",
       "      <td id=\"T_1f21f_row11_col5\" class=\"data row11 col5\" >0.3716</td>\n",
       "      <td id=\"T_1f21f_row11_col6\" class=\"data row11 col6\" >0.3593</td>\n",
       "      <td id=\"T_1f21f_row11_col7\" class=\"data row11 col7\" >0.0490</td>\n",
       "    </tr>\n",
       "    <tr>\n",
       "      <th id=\"T_1f21f_level0_row12\" class=\"row_heading level0 row12\" >lr</th>\n",
       "      <td id=\"T_1f21f_row12_col0\" class=\"data row12 col0\" >Linear Regression</td>\n",
       "      <td id=\"T_1f21f_row12_col1\" class=\"data row12 col1\" >5.5274</td>\n",
       "      <td id=\"T_1f21f_row12_col2\" class=\"data row12 col2\" >51.6422</td>\n",
       "      <td id=\"T_1f21f_row12_col3\" class=\"data row12 col3\" >7.0941</td>\n",
       "      <td id=\"T_1f21f_row12_col4\" class=\"data row12 col4\" >0.4513</td>\n",
       "      <td id=\"T_1f21f_row12_col5\" class=\"data row12 col5\" >0.3795</td>\n",
       "      <td id=\"T_1f21f_row12_col6\" class=\"data row12 col6\" >0.3596</td>\n",
       "      <td id=\"T_1f21f_row12_col7\" class=\"data row12 col7\" >0.2830</td>\n",
       "    </tr>\n",
       "    <tr>\n",
       "      <th id=\"T_1f21f_level0_row13\" class=\"row_heading level0 row13\" >knn</th>\n",
       "      <td id=\"T_1f21f_row13_col0\" class=\"data row13 col0\" >K Neighbors Regressor</td>\n",
       "      <td id=\"T_1f21f_row13_col1\" class=\"data row13 col1\" >5.7191</td>\n",
       "      <td id=\"T_1f21f_row13_col2\" class=\"data row13 col2\" >57.7614</td>\n",
       "      <td id=\"T_1f21f_row13_col3\" class=\"data row13 col3\" >7.4973</td>\n",
       "      <td id=\"T_1f21f_row13_col4\" class=\"data row13 col4\" >0.4041</td>\n",
       "      <td id=\"T_1f21f_row13_col5\" class=\"data row13 col5\" >0.3826</td>\n",
       "      <td id=\"T_1f21f_row13_col6\" class=\"data row13 col6\" >0.3621</td>\n",
       "      <td id=\"T_1f21f_row13_col7\" class=\"data row13 col7\" >0.0140</td>\n",
       "    </tr>\n",
       "    <tr>\n",
       "      <th id=\"T_1f21f_level0_row14\" class=\"row_heading level0 row14\" >dummy</th>\n",
       "      <td id=\"T_1f21f_row14_col0\" class=\"data row14 col0\" >Dummy Regressor</td>\n",
       "      <td id=\"T_1f21f_row14_col1\" class=\"data row14 col1\" >7.8806</td>\n",
       "      <td id=\"T_1f21f_row14_col2\" class=\"data row14 col2\" >99.5415</td>\n",
       "      <td id=\"T_1f21f_row14_col3\" class=\"data row14 col3\" >9.8582</td>\n",
       "      <td id=\"T_1f21f_row14_col4\" class=\"data row14 col4\" >-0.0123</td>\n",
       "      <td id=\"T_1f21f_row14_col5\" class=\"data row14 col5\" >0.5007</td>\n",
       "      <td id=\"T_1f21f_row14_col6\" class=\"data row14 col6\" >0.5624</td>\n",
       "      <td id=\"T_1f21f_row14_col7\" class=\"data row14 col7\" >0.0060</td>\n",
       "    </tr>\n",
       "    <tr>\n",
       "      <th id=\"T_1f21f_level0_row15\" class=\"row_heading level0 row15\" >dt</th>\n",
       "      <td id=\"T_1f21f_row15_col0\" class=\"data row15 col0\" >Decision Tree Regressor</td>\n",
       "      <td id=\"T_1f21f_row15_col1\" class=\"data row15 col1\" >7.4482</td>\n",
       "      <td id=\"T_1f21f_row15_col2\" class=\"data row15 col2\" >93.3327</td>\n",
       "      <td id=\"T_1f21f_row15_col3\" class=\"data row15 col3\" >9.5755</td>\n",
       "      <td id=\"T_1f21f_row15_col4\" class=\"data row15 col4\" >-0.0418</td>\n",
       "      <td id=\"T_1f21f_row15_col5\" class=\"data row15 col5\" >0.5286</td>\n",
       "      <td id=\"T_1f21f_row15_col6\" class=\"data row15 col6\" >0.4904</td>\n",
       "      <td id=\"T_1f21f_row15_col7\" class=\"data row15 col7\" >0.0080</td>\n",
       "    </tr>\n",
       "    <tr>\n",
       "      <th id=\"T_1f21f_level0_row16\" class=\"row_heading level0 row16\" >par</th>\n",
       "      <td id=\"T_1f21f_row16_col0\" class=\"data row16 col0\" >Passive Aggressive Regressor</td>\n",
       "      <td id=\"T_1f21f_row16_col1\" class=\"data row16 col1\" >9.6872</td>\n",
       "      <td id=\"T_1f21f_row16_col2\" class=\"data row16 col2\" >162.1014</td>\n",
       "      <td id=\"T_1f21f_row16_col3\" class=\"data row16 col3\" >12.2381</td>\n",
       "      <td id=\"T_1f21f_row16_col4\" class=\"data row16 col4\" >-0.8628</td>\n",
       "      <td id=\"T_1f21f_row16_col5\" class=\"data row16 col5\" >0.7538</td>\n",
       "      <td id=\"T_1f21f_row16_col6\" class=\"data row16 col6\" >0.4809</td>\n",
       "      <td id=\"T_1f21f_row16_col7\" class=\"data row16 col7\" >0.0070</td>\n",
       "    </tr>\n",
       "    <tr>\n",
       "      <th id=\"T_1f21f_level0_row17\" class=\"row_heading level0 row17\" >lar</th>\n",
       "      <td id=\"T_1f21f_row17_col0\" class=\"data row17 col0\" >Least Angle Regression</td>\n",
       "      <td id=\"T_1f21f_row17_col1\" class=\"data row17 col1\" >39812.7435</td>\n",
       "      <td id=\"T_1f21f_row17_col2\" class=\"data row17 col2\" >18962263475.4102</td>\n",
       "      <td id=\"T_1f21f_row17_col3\" class=\"data row17 col3\" >47536.0925</td>\n",
       "      <td id=\"T_1f21f_row17_col4\" class=\"data row17 col4\" >-163003367.8420</td>\n",
       "      <td id=\"T_1f21f_row17_col5\" class=\"data row17 col5\" >3.1747</td>\n",
       "      <td id=\"T_1f21f_row17_col6\" class=\"data row17 col6\" >2228.9214</td>\n",
       "      <td id=\"T_1f21f_row17_col7\" class=\"data row17 col7\" >0.0080</td>\n",
       "    </tr>\n",
       "  </tbody>\n",
       "</table>\n"
      ],
      "text/plain": [
       "<pandas.io.formats.style.Styler at 0x146623299d0>"
      ]
     },
     "metadata": {},
     "output_type": "display_data"
    },
    {
     "data": {
      "text/html": [],
      "text/plain": [
       "<IPython.core.display.HTML object>"
      ]
     },
     "metadata": {},
     "output_type": "display_data"
    }
   ],
   "source": [
    "# compare baseline models\n",
    "best = exp1.compare_models(n_select=15)"
   ]
  },
  {
   "cell_type": "code",
   "execution_count": 45,
   "metadata": {},
   "outputs": [
    {
     "data": {
      "text/html": [],
      "text/plain": [
       "<IPython.core.display.HTML object>"
      ]
     },
     "metadata": {},
     "output_type": "display_data"
    },
    {
     "data": {
      "text/html": [
       "<style type=\"text/css\">\n",
       "#T_a89e5_row10_col0, #T_a89e5_row10_col1, #T_a89e5_row10_col2, #T_a89e5_row10_col3, #T_a89e5_row10_col4, #T_a89e5_row10_col5 {\n",
       "  background: yellow;\n",
       "}\n",
       "</style>\n",
       "<table id=\"T_a89e5\">\n",
       "  <thead>\n",
       "    <tr>\n",
       "      <th class=\"blank level0\" >&nbsp;</th>\n",
       "      <th id=\"T_a89e5_level0_col0\" class=\"col_heading level0 col0\" >MAE</th>\n",
       "      <th id=\"T_a89e5_level0_col1\" class=\"col_heading level0 col1\" >MSE</th>\n",
       "      <th id=\"T_a89e5_level0_col2\" class=\"col_heading level0 col2\" >RMSE</th>\n",
       "      <th id=\"T_a89e5_level0_col3\" class=\"col_heading level0 col3\" >R2</th>\n",
       "      <th id=\"T_a89e5_level0_col4\" class=\"col_heading level0 col4\" >RMSLE</th>\n",
       "      <th id=\"T_a89e5_level0_col5\" class=\"col_heading level0 col5\" >MAPE</th>\n",
       "    </tr>\n",
       "    <tr>\n",
       "      <th class=\"index_name level0\" >Fold</th>\n",
       "      <th class=\"blank col0\" >&nbsp;</th>\n",
       "      <th class=\"blank col1\" >&nbsp;</th>\n",
       "      <th class=\"blank col2\" >&nbsp;</th>\n",
       "      <th class=\"blank col3\" >&nbsp;</th>\n",
       "      <th class=\"blank col4\" >&nbsp;</th>\n",
       "      <th class=\"blank col5\" >&nbsp;</th>\n",
       "    </tr>\n",
       "  </thead>\n",
       "  <tbody>\n",
       "    <tr>\n",
       "      <th id=\"T_a89e5_level0_row0\" class=\"row_heading level0 row0\" >0</th>\n",
       "      <td id=\"T_a89e5_row0_col0\" class=\"data row0 col0\" >4.4980</td>\n",
       "      <td id=\"T_a89e5_row0_col1\" class=\"data row0 col1\" >36.0937</td>\n",
       "      <td id=\"T_a89e5_row0_col2\" class=\"data row0 col2\" >6.0078</td>\n",
       "      <td id=\"T_a89e5_row0_col3\" class=\"data row0 col3\" >0.6646</td>\n",
       "      <td id=\"T_a89e5_row0_col4\" class=\"data row0 col4\" >0.3332</td>\n",
       "      <td id=\"T_a89e5_row0_col5\" class=\"data row0 col5\" >0.3090</td>\n",
       "    </tr>\n",
       "    <tr>\n",
       "      <th id=\"T_a89e5_level0_row1\" class=\"row_heading level0 row1\" >1</th>\n",
       "      <td id=\"T_a89e5_row1_col0\" class=\"data row1 col0\" >6.3820</td>\n",
       "      <td id=\"T_a89e5_row1_col1\" class=\"data row1 col1\" >78.3652</td>\n",
       "      <td id=\"T_a89e5_row1_col2\" class=\"data row1 col2\" >8.8524</td>\n",
       "      <td id=\"T_a89e5_row1_col3\" class=\"data row1 col3\" >0.5216</td>\n",
       "      <td id=\"T_a89e5_row1_col4\" class=\"data row1 col4\" >0.4162</td>\n",
       "      <td id=\"T_a89e5_row1_col5\" class=\"data row1 col5\" >0.3996</td>\n",
       "    </tr>\n",
       "    <tr>\n",
       "      <th id=\"T_a89e5_level0_row2\" class=\"row_heading level0 row2\" >2</th>\n",
       "      <td id=\"T_a89e5_row2_col0\" class=\"data row2 col0\" >4.5480</td>\n",
       "      <td id=\"T_a89e5_row2_col1\" class=\"data row2 col1\" >28.2023</td>\n",
       "      <td id=\"T_a89e5_row2_col2\" class=\"data row2 col2\" >5.3106</td>\n",
       "      <td id=\"T_a89e5_row2_col3\" class=\"data row2 col3\" >0.7158</td>\n",
       "      <td id=\"T_a89e5_row2_col4\" class=\"data row2 col4\" >0.3243</td>\n",
       "      <td id=\"T_a89e5_row2_col5\" class=\"data row2 col5\" >0.3409</td>\n",
       "    </tr>\n",
       "    <tr>\n",
       "      <th id=\"T_a89e5_level0_row3\" class=\"row_heading level0 row3\" >3</th>\n",
       "      <td id=\"T_a89e5_row3_col0\" class=\"data row3 col0\" >4.6695</td>\n",
       "      <td id=\"T_a89e5_row3_col1\" class=\"data row3 col1\" >41.3244</td>\n",
       "      <td id=\"T_a89e5_row3_col2\" class=\"data row3 col2\" >6.4284</td>\n",
       "      <td id=\"T_a89e5_row3_col3\" class=\"data row3 col3\" >0.4055</td>\n",
       "      <td id=\"T_a89e5_row3_col4\" class=\"data row3 col4\" >0.3329</td>\n",
       "      <td id=\"T_a89e5_row3_col5\" class=\"data row3 col5\" >0.2525</td>\n",
       "    </tr>\n",
       "    <tr>\n",
       "      <th id=\"T_a89e5_level0_row4\" class=\"row_heading level0 row4\" >4</th>\n",
       "      <td id=\"T_a89e5_row4_col0\" class=\"data row4 col0\" >5.7229</td>\n",
       "      <td id=\"T_a89e5_row4_col1\" class=\"data row4 col1\" >60.5728</td>\n",
       "      <td id=\"T_a89e5_row4_col2\" class=\"data row4 col2\" >7.7829</td>\n",
       "      <td id=\"T_a89e5_row4_col3\" class=\"data row4 col3\" >0.4358</td>\n",
       "      <td id=\"T_a89e5_row4_col4\" class=\"data row4 col4\" >0.3962</td>\n",
       "      <td id=\"T_a89e5_row4_col5\" class=\"data row4 col5\" >0.3953</td>\n",
       "    </tr>\n",
       "    <tr>\n",
       "      <th id=\"T_a89e5_level0_row5\" class=\"row_heading level0 row5\" >5</th>\n",
       "      <td id=\"T_a89e5_row5_col0\" class=\"data row5 col0\" >5.4806</td>\n",
       "      <td id=\"T_a89e5_row5_col1\" class=\"data row5 col1\" >48.1665</td>\n",
       "      <td id=\"T_a89e5_row5_col2\" class=\"data row5 col2\" >6.9402</td>\n",
       "      <td id=\"T_a89e5_row5_col3\" class=\"data row5 col3\" >0.3614</td>\n",
       "      <td id=\"T_a89e5_row5_col4\" class=\"data row5 col4\" >0.3600</td>\n",
       "      <td id=\"T_a89e5_row5_col5\" class=\"data row5 col5\" >0.3514</td>\n",
       "    </tr>\n",
       "    <tr>\n",
       "      <th id=\"T_a89e5_level0_row6\" class=\"row_heading level0 row6\" >6</th>\n",
       "      <td id=\"T_a89e5_row6_col0\" class=\"data row6 col0\" >5.5775</td>\n",
       "      <td id=\"T_a89e5_row6_col1\" class=\"data row6 col1\" >44.4513</td>\n",
       "      <td id=\"T_a89e5_row6_col2\" class=\"data row6 col2\" >6.6672</td>\n",
       "      <td id=\"T_a89e5_row6_col3\" class=\"data row6 col3\" >0.6256</td>\n",
       "      <td id=\"T_a89e5_row6_col4\" class=\"data row6 col4\" >0.3577</td>\n",
       "      <td id=\"T_a89e5_row6_col5\" class=\"data row6 col5\" >0.3657</td>\n",
       "    </tr>\n",
       "    <tr>\n",
       "      <th id=\"T_a89e5_level0_row7\" class=\"row_heading level0 row7\" >7</th>\n",
       "      <td id=\"T_a89e5_row7_col0\" class=\"data row7 col0\" >4.5761</td>\n",
       "      <td id=\"T_a89e5_row7_col1\" class=\"data row7 col1\" >32.4325</td>\n",
       "      <td id=\"T_a89e5_row7_col2\" class=\"data row7 col2\" >5.6950</td>\n",
       "      <td id=\"T_a89e5_row7_col3\" class=\"data row7 col3\" >0.3908</td>\n",
       "      <td id=\"T_a89e5_row7_col4\" class=\"data row7 col4\" >0.3095</td>\n",
       "      <td id=\"T_a89e5_row7_col5\" class=\"data row7 col5\" >0.2726</td>\n",
       "    </tr>\n",
       "    <tr>\n",
       "      <th id=\"T_a89e5_level0_row8\" class=\"row_heading level0 row8\" >8</th>\n",
       "      <td id=\"T_a89e5_row8_col0\" class=\"data row8 col0\" >4.0830</td>\n",
       "      <td id=\"T_a89e5_row8_col1\" class=\"data row8 col1\" >32.8045</td>\n",
       "      <td id=\"T_a89e5_row8_col2\" class=\"data row8 col2\" >5.7275</td>\n",
       "      <td id=\"T_a89e5_row8_col3\" class=\"data row8 col3\" >0.7183</td>\n",
       "      <td id=\"T_a89e5_row8_col4\" class=\"data row8 col4\" >0.2701</td>\n",
       "      <td id=\"T_a89e5_row8_col5\" class=\"data row8 col5\" >0.2200</td>\n",
       "    </tr>\n",
       "    <tr>\n",
       "      <th id=\"T_a89e5_level0_row9\" class=\"row_heading level0 row9\" >9</th>\n",
       "      <td id=\"T_a89e5_row9_col0\" class=\"data row9 col0\" >4.9807</td>\n",
       "      <td id=\"T_a89e5_row9_col1\" class=\"data row9 col1\" >44.9949</td>\n",
       "      <td id=\"T_a89e5_row9_col2\" class=\"data row9 col2\" >6.7078</td>\n",
       "      <td id=\"T_a89e5_row9_col3\" class=\"data row9 col3\" >0.3734</td>\n",
       "      <td id=\"T_a89e5_row9_col4\" class=\"data row9 col4\" >0.3791</td>\n",
       "      <td id=\"T_a89e5_row9_col5\" class=\"data row9 col5\" >0.3368</td>\n",
       "    </tr>\n",
       "    <tr>\n",
       "      <th id=\"T_a89e5_level0_row10\" class=\"row_heading level0 row10\" >Mean</th>\n",
       "      <td id=\"T_a89e5_row10_col0\" class=\"data row10 col0\" >5.0518</td>\n",
       "      <td id=\"T_a89e5_row10_col1\" class=\"data row10 col1\" >44.7408</td>\n",
       "      <td id=\"T_a89e5_row10_col2\" class=\"data row10 col2\" >6.6120</td>\n",
       "      <td id=\"T_a89e5_row10_col3\" class=\"data row10 col3\" >0.5213</td>\n",
       "      <td id=\"T_a89e5_row10_col4\" class=\"data row10 col4\" >0.3479</td>\n",
       "      <td id=\"T_a89e5_row10_col5\" class=\"data row10 col5\" >0.3244</td>\n",
       "    </tr>\n",
       "    <tr>\n",
       "      <th id=\"T_a89e5_level0_row11\" class=\"row_heading level0 row11\" >Std</th>\n",
       "      <td id=\"T_a89e5_row11_col0\" class=\"data row11 col0\" >0.6750</td>\n",
       "      <td id=\"T_a89e5_row11_col1\" class=\"data row11 col1\" >14.3076</td>\n",
       "      <td id=\"T_a89e5_row11_col2\" class=\"data row11 col2\" >1.0112</td>\n",
       "      <td id=\"T_a89e5_row11_col3\" class=\"data row11 col3\" >0.1390</td>\n",
       "      <td id=\"T_a89e5_row11_col4\" class=\"data row11 col4\" >0.0409</td>\n",
       "      <td id=\"T_a89e5_row11_col5\" class=\"data row11 col5\" >0.0570</td>\n",
       "    </tr>\n",
       "  </tbody>\n",
       "</table>\n"
      ],
      "text/plain": [
       "<pandas.io.formats.style.Styler at 0x14660708250>"
      ]
     },
     "metadata": {},
     "output_type": "display_data"
    },
    {
     "data": {
      "text/html": [],
      "text/plain": [
       "<IPython.core.display.HTML object>"
      ]
     },
     "metadata": {},
     "output_type": "display_data"
    }
   ],
   "source": [
    "# model_1 = exp1.create_model('rf')\n",
    "model_1 = exp1.create_model('omp')"
   ]
  },
  {
   "cell_type": "code",
   "execution_count": 46,
   "metadata": {},
   "outputs": [
    {
     "data": {
      "text/html": [],
      "text/plain": [
       "<IPython.core.display.HTML object>"
      ]
     },
     "metadata": {},
     "output_type": "display_data"
    },
    {
     "data": {
      "image/png": "[encoded data removed]",
      "text/plain": [
       "<Figure size 800x550 with 1 Axes>"
      ]
     },
     "metadata": {},
     "output_type": "display_data"
    }
   ],
   "source": [
    "exp1.plot_model(model_1, 'learning')"
   ]
  },
  {
   "cell_type": "code",
   "execution_count": 31,
   "metadata": {},
   "outputs": [],
   "source": [
    "# exp1.evaluate_model(model_1)"
   ]
  },
  {
   "cell_type": "code",
   "execution_count": 47,
   "metadata": {},
   "outputs": [
    {
     "data": {
      "text/html": [],
      "text/plain": [
       "<IPython.core.display.HTML object>"
      ]
     },
     "metadata": {},
     "output_type": "display_data"
    },
    {
     "data": {
      "text/html": [
       "<style type=\"text/css\">\n",
       "#T_8b474_row10_col0, #T_8b474_row10_col1, #T_8b474_row10_col2, #T_8b474_row10_col3, #T_8b474_row10_col4, #T_8b474_row10_col5 {\n",
       "  background: yellow;\n",
       "}\n",
       "</style>\n",
       "<table id=\"T_8b474\">\n",
       "  <thead>\n",
       "    <tr>\n",
       "      <th class=\"blank level0\" >&nbsp;</th>\n",
       "      <th id=\"T_8b474_level0_col0\" class=\"col_heading level0 col0\" >MAE</th>\n",
       "      <th id=\"T_8b474_level0_col1\" class=\"col_heading level0 col1\" >MSE</th>\n",
       "      <th id=\"T_8b474_level0_col2\" class=\"col_heading level0 col2\" >RMSE</th>\n",
       "      <th id=\"T_8b474_level0_col3\" class=\"col_heading level0 col3\" >R2</th>\n",
       "      <th id=\"T_8b474_level0_col4\" class=\"col_heading level0 col4\" >RMSLE</th>\n",
       "      <th id=\"T_8b474_level0_col5\" class=\"col_heading level0 col5\" >MAPE</th>\n",
       "    </tr>\n",
       "    <tr>\n",
       "      <th class=\"index_name level0\" >Fold</th>\n",
       "      <th class=\"blank col0\" >&nbsp;</th>\n",
       "      <th class=\"blank col1\" >&nbsp;</th>\n",
       "      <th class=\"blank col2\" >&nbsp;</th>\n",
       "      <th class=\"blank col3\" >&nbsp;</th>\n",
       "      <th class=\"blank col4\" >&nbsp;</th>\n",
       "      <th class=\"blank col5\" >&nbsp;</th>\n",
       "    </tr>\n",
       "  </thead>\n",
       "  <tbody>\n",
       "    <tr>\n",
       "      <th id=\"T_8b474_level0_row0\" class=\"row_heading level0 row0\" >0</th>\n",
       "      <td id=\"T_8b474_row0_col0\" class=\"data row0 col0\" >4.6047</td>\n",
       "      <td id=\"T_8b474_row0_col1\" class=\"data row0 col1\" >34.7415</td>\n",
       "      <td id=\"T_8b474_row0_col2\" class=\"data row0 col2\" >5.8942</td>\n",
       "      <td id=\"T_8b474_row0_col3\" class=\"data row0 col3\" >0.6772</td>\n",
       "      <td id=\"T_8b474_row0_col4\" class=\"data row0 col4\" >0.3251</td>\n",
       "      <td id=\"T_8b474_row0_col5\" class=\"data row0 col5\" >0.3106</td>\n",
       "    </tr>\n",
       "    <tr>\n",
       "      <th id=\"T_8b474_level0_row1\" class=\"row_heading level0 row1\" >1</th>\n",
       "      <td id=\"T_8b474_row1_col0\" class=\"data row1 col0\" >6.5355</td>\n",
       "      <td id=\"T_8b474_row1_col1\" class=\"data row1 col1\" >77.8289</td>\n",
       "      <td id=\"T_8b474_row1_col2\" class=\"data row1 col2\" >8.8221</td>\n",
       "      <td id=\"T_8b474_row1_col3\" class=\"data row1 col3\" >0.5249</td>\n",
       "      <td id=\"T_8b474_row1_col4\" class=\"data row1 col4\" >0.4094</td>\n",
       "      <td id=\"T_8b474_row1_col5\" class=\"data row1 col5\" >0.4016</td>\n",
       "    </tr>\n",
       "    <tr>\n",
       "      <th id=\"T_8b474_level0_row2\" class=\"row_heading level0 row2\" >2</th>\n",
       "      <td id=\"T_8b474_row2_col0\" class=\"data row2 col0\" >4.7524</td>\n",
       "      <td id=\"T_8b474_row2_col1\" class=\"data row2 col1\" >32.9014</td>\n",
       "      <td id=\"T_8b474_row2_col2\" class=\"data row2 col2\" >5.7360</td>\n",
       "      <td id=\"T_8b474_row2_col3\" class=\"data row2 col3\" >0.6684</td>\n",
       "      <td id=\"T_8b474_row2_col4\" class=\"data row2 col4\" >0.3388</td>\n",
       "      <td id=\"T_8b474_row2_col5\" class=\"data row2 col5\" >0.3511</td>\n",
       "    </tr>\n",
       "    <tr>\n",
       "      <th id=\"T_8b474_level0_row3\" class=\"row_heading level0 row3\" >3</th>\n",
       "      <td id=\"T_8b474_row3_col0\" class=\"data row3 col0\" >4.7330</td>\n",
       "      <td id=\"T_8b474_row3_col1\" class=\"data row3 col1\" >42.9392</td>\n",
       "      <td id=\"T_8b474_row3_col2\" class=\"data row3 col2\" >6.5528</td>\n",
       "      <td id=\"T_8b474_row3_col3\" class=\"data row3 col3\" >0.3823</td>\n",
       "      <td id=\"T_8b474_row3_col4\" class=\"data row3 col4\" >0.3288</td>\n",
       "      <td id=\"T_8b474_row3_col5\" class=\"data row3 col5\" >0.2519</td>\n",
       "    </tr>\n",
       "    <tr>\n",
       "      <th id=\"T_8b474_level0_row4\" class=\"row_heading level0 row4\" >4</th>\n",
       "      <td id=\"T_8b474_row4_col0\" class=\"data row4 col0\" >5.7993</td>\n",
       "      <td id=\"T_8b474_row4_col1\" class=\"data row4 col1\" >61.0750</td>\n",
       "      <td id=\"T_8b474_row4_col2\" class=\"data row4 col2\" >7.8151</td>\n",
       "      <td id=\"T_8b474_row4_col3\" class=\"data row4 col3\" >0.4312</td>\n",
       "      <td id=\"T_8b474_row4_col4\" class=\"data row4 col4\" >0.4083</td>\n",
       "      <td id=\"T_8b474_row4_col5\" class=\"data row4 col5\" >0.4110</td>\n",
       "    </tr>\n",
       "    <tr>\n",
       "      <th id=\"T_8b474_level0_row5\" class=\"row_heading level0 row5\" >5</th>\n",
       "      <td id=\"T_8b474_row5_col0\" class=\"data row5 col0\" >5.3472</td>\n",
       "      <td id=\"T_8b474_row5_col1\" class=\"data row5 col1\" >45.0854</td>\n",
       "      <td id=\"T_8b474_row5_col2\" class=\"data row5 col2\" >6.7146</td>\n",
       "      <td id=\"T_8b474_row5_col3\" class=\"data row5 col3\" >0.4022</td>\n",
       "      <td id=\"T_8b474_row5_col4\" class=\"data row5 col4\" >0.3323</td>\n",
       "      <td id=\"T_8b474_row5_col5\" class=\"data row5 col5\" >0.3227</td>\n",
       "    </tr>\n",
       "    <tr>\n",
       "      <th id=\"T_8b474_level0_row6\" class=\"row_heading level0 row6\" >6</th>\n",
       "      <td id=\"T_8b474_row6_col0\" class=\"data row6 col0\" >5.5537</td>\n",
       "      <td id=\"T_8b474_row6_col1\" class=\"data row6 col1\" >44.9973</td>\n",
       "      <td id=\"T_8b474_row6_col2\" class=\"data row6 col2\" >6.7080</td>\n",
       "      <td id=\"T_8b474_row6_col3\" class=\"data row6 col3\" >0.6210</td>\n",
       "      <td id=\"T_8b474_row6_col4\" class=\"data row6 col4\" >0.3538</td>\n",
       "      <td id=\"T_8b474_row6_col5\" class=\"data row6 col5\" >0.3635</td>\n",
       "    </tr>\n",
       "    <tr>\n",
       "      <th id=\"T_8b474_level0_row7\" class=\"row_heading level0 row7\" >7</th>\n",
       "      <td id=\"T_8b474_row7_col0\" class=\"data row7 col0\" >4.7445</td>\n",
       "      <td id=\"T_8b474_row7_col1\" class=\"data row7 col1\" >32.9542</td>\n",
       "      <td id=\"T_8b474_row7_col2\" class=\"data row7 col2\" >5.7406</td>\n",
       "      <td id=\"T_8b474_row7_col3\" class=\"data row7 col3\" >0.3810</td>\n",
       "      <td id=\"T_8b474_row7_col4\" class=\"data row7 col4\" >0.3168</td>\n",
       "      <td id=\"T_8b474_row7_col5\" class=\"data row7 col5\" >0.2776</td>\n",
       "    </tr>\n",
       "    <tr>\n",
       "      <th id=\"T_8b474_level0_row8\" class=\"row_heading level0 row8\" >8</th>\n",
       "      <td id=\"T_8b474_row8_col0\" class=\"data row8 col0\" >3.7715</td>\n",
       "      <td id=\"T_8b474_row8_col1\" class=\"data row8 col1\" >28.1655</td>\n",
       "      <td id=\"T_8b474_row8_col2\" class=\"data row8 col2\" >5.3071</td>\n",
       "      <td id=\"T_8b474_row8_col3\" class=\"data row8 col3\" >0.7581</td>\n",
       "      <td id=\"T_8b474_row8_col4\" class=\"data row8 col4\" >0.2565</td>\n",
       "      <td id=\"T_8b474_row8_col5\" class=\"data row8 col5\" >0.2086</td>\n",
       "    </tr>\n",
       "    <tr>\n",
       "      <th id=\"T_8b474_level0_row9\" class=\"row_heading level0 row9\" >9</th>\n",
       "      <td id=\"T_8b474_row9_col0\" class=\"data row9 col0\" >5.0255</td>\n",
       "      <td id=\"T_8b474_row9_col1\" class=\"data row9 col1\" >46.0544</td>\n",
       "      <td id=\"T_8b474_row9_col2\" class=\"data row9 col2\" >6.7863</td>\n",
       "      <td id=\"T_8b474_row9_col3\" class=\"data row9 col3\" >0.3587</td>\n",
       "      <td id=\"T_8b474_row9_col4\" class=\"data row9 col4\" >0.3849</td>\n",
       "      <td id=\"T_8b474_row9_col5\" class=\"data row9 col5\" >0.3495</td>\n",
       "    </tr>\n",
       "    <tr>\n",
       "      <th id=\"T_8b474_level0_row10\" class=\"row_heading level0 row10\" >Mean</th>\n",
       "      <td id=\"T_8b474_row10_col0\" class=\"data row10 col0\" >5.0867</td>\n",
       "      <td id=\"T_8b474_row10_col1\" class=\"data row10 col1\" >44.6743</td>\n",
       "      <td id=\"T_8b474_row10_col2\" class=\"data row10 col2\" >6.6077</td>\n",
       "      <td id=\"T_8b474_row10_col3\" class=\"data row10 col3\" >0.5205</td>\n",
       "      <td id=\"T_8b474_row10_col4\" class=\"data row10 col4\" >0.3455</td>\n",
       "      <td id=\"T_8b474_row10_col5\" class=\"data row10 col5\" >0.3248</td>\n",
       "    </tr>\n",
       "    <tr>\n",
       "      <th id=\"T_8b474_level0_row11\" class=\"row_heading level0 row11\" >Std</th>\n",
       "      <td id=\"T_8b474_row11_col0\" class=\"data row11 col0\" >0.7220</td>\n",
       "      <td id=\"T_8b474_row11_col1\" class=\"data row11 col1\" >14.2146</td>\n",
       "      <td id=\"T_8b474_row11_col2\" class=\"data row11 col2\" >1.0065</td>\n",
       "      <td id=\"T_8b474_row11_col3\" class=\"data row11 col3\" >0.1413</td>\n",
       "      <td id=\"T_8b474_row11_col4\" class=\"data row11 col4\" >0.0439</td>\n",
       "      <td id=\"T_8b474_row11_col5\" class=\"data row11 col5\" >0.0612</td>\n",
       "    </tr>\n",
       "  </tbody>\n",
       "</table>\n"
      ],
      "text/plain": [
       "<pandas.io.formats.style.Styler at 0x1466232a710>"
      ]
     },
     "metadata": {},
     "output_type": "display_data"
    },
    {
     "data": {
      "text/html": [],
      "text/plain": [
       "<IPython.core.display.HTML object>"
      ]
     },
     "metadata": {},
     "output_type": "display_data"
    },
    {
     "data": {
      "text/html": [],
      "text/plain": [
       "<IPython.core.display.HTML object>"
      ]
     },
     "metadata": {},
     "output_type": "display_data"
    },
    {
     "data": {
      "text/html": [
       "<style type=\"text/css\">\n",
       "#T_dee16_row10_col0, #T_dee16_row10_col1, #T_dee16_row10_col2, #T_dee16_row10_col3, #T_dee16_row10_col4, #T_dee16_row10_col5 {\n",
       "  background: yellow;\n",
       "}\n",
       "</style>\n",
       "<table id=\"T_dee16\">\n",
       "  <thead>\n",
       "    <tr>\n",
       "      <th class=\"blank level0\" >&nbsp;</th>\n",
       "      <th id=\"T_dee16_level0_col0\" class=\"col_heading level0 col0\" >MAE</th>\n",
       "      <th id=\"T_dee16_level0_col1\" class=\"col_heading level0 col1\" >MSE</th>\n",
       "      <th id=\"T_dee16_level0_col2\" class=\"col_heading level0 col2\" >RMSE</th>\n",
       "      <th id=\"T_dee16_level0_col3\" class=\"col_heading level0 col3\" >R2</th>\n",
       "      <th id=\"T_dee16_level0_col4\" class=\"col_heading level0 col4\" >RMSLE</th>\n",
       "      <th id=\"T_dee16_level0_col5\" class=\"col_heading level0 col5\" >MAPE</th>\n",
       "    </tr>\n",
       "    <tr>\n",
       "      <th class=\"index_name level0\" >Fold</th>\n",
       "      <th class=\"blank col0\" >&nbsp;</th>\n",
       "      <th class=\"blank col1\" >&nbsp;</th>\n",
       "      <th class=\"blank col2\" >&nbsp;</th>\n",
       "      <th class=\"blank col3\" >&nbsp;</th>\n",
       "      <th class=\"blank col4\" >&nbsp;</th>\n",
       "      <th class=\"blank col5\" >&nbsp;</th>\n",
       "    </tr>\n",
       "  </thead>\n",
       "  <tbody>\n",
       "    <tr>\n",
       "      <th id=\"T_dee16_level0_row0\" class=\"row_heading level0 row0\" >0</th>\n",
       "      <td id=\"T_dee16_row0_col0\" class=\"data row0 col0\" >4.6048</td>\n",
       "      <td id=\"T_dee16_row0_col1\" class=\"data row0 col1\" >34.7412</td>\n",
       "      <td id=\"T_dee16_row0_col2\" class=\"data row0 col2\" >5.8942</td>\n",
       "      <td id=\"T_dee16_row0_col3\" class=\"data row0 col3\" >0.6772</td>\n",
       "      <td id=\"T_dee16_row0_col4\" class=\"data row0 col4\" >0.3251</td>\n",
       "      <td id=\"T_dee16_row0_col5\" class=\"data row0 col5\" >0.3106</td>\n",
       "    </tr>\n",
       "    <tr>\n",
       "      <th id=\"T_dee16_level0_row1\" class=\"row_heading level0 row1\" >1</th>\n",
       "      <td id=\"T_dee16_row1_col0\" class=\"data row1 col0\" >6.5363</td>\n",
       "      <td id=\"T_dee16_row1_col1\" class=\"data row1 col1\" >77.7991</td>\n",
       "      <td id=\"T_dee16_row1_col2\" class=\"data row1 col2\" >8.8204</td>\n",
       "      <td id=\"T_dee16_row1_col3\" class=\"data row1 col3\" >0.5251</td>\n",
       "      <td id=\"T_dee16_row1_col4\" class=\"data row1 col4\" >0.4096</td>\n",
       "      <td id=\"T_dee16_row1_col5\" class=\"data row1 col5\" >0.4019</td>\n",
       "    </tr>\n",
       "    <tr>\n",
       "      <th id=\"T_dee16_level0_row2\" class=\"row_heading level0 row2\" >2</th>\n",
       "      <td id=\"T_dee16_row2_col0\" class=\"data row2 col0\" >4.7524</td>\n",
       "      <td id=\"T_dee16_row2_col1\" class=\"data row2 col1\" >32.9024</td>\n",
       "      <td id=\"T_dee16_row2_col2\" class=\"data row2 col2\" >5.7361</td>\n",
       "      <td id=\"T_dee16_row2_col3\" class=\"data row2 col3\" >0.6684</td>\n",
       "      <td id=\"T_dee16_row2_col4\" class=\"data row2 col4\" >0.3388</td>\n",
       "      <td id=\"T_dee16_row2_col5\" class=\"data row2 col5\" >0.3511</td>\n",
       "    </tr>\n",
       "    <tr>\n",
       "      <th id=\"T_dee16_level0_row3\" class=\"row_heading level0 row3\" >3</th>\n",
       "      <td id=\"T_dee16_row3_col0\" class=\"data row3 col0\" >4.7329</td>\n",
       "      <td id=\"T_dee16_row3_col1\" class=\"data row3 col1\" >42.9400</td>\n",
       "      <td id=\"T_dee16_row3_col2\" class=\"data row3 col2\" >6.5529</td>\n",
       "      <td id=\"T_dee16_row3_col3\" class=\"data row3 col3\" >0.3822</td>\n",
       "      <td id=\"T_dee16_row3_col4\" class=\"data row3 col4\" >0.3288</td>\n",
       "      <td id=\"T_dee16_row3_col5\" class=\"data row3 col5\" >0.2519</td>\n",
       "    </tr>\n",
       "    <tr>\n",
       "      <th id=\"T_dee16_level0_row4\" class=\"row_heading level0 row4\" >4</th>\n",
       "      <td id=\"T_dee16_row4_col0\" class=\"data row4 col0\" >5.7992</td>\n",
       "      <td id=\"T_dee16_row4_col1\" class=\"data row4 col1\" >61.0745</td>\n",
       "      <td id=\"T_dee16_row4_col2\" class=\"data row4 col2\" >7.8150</td>\n",
       "      <td id=\"T_dee16_row4_col3\" class=\"data row4 col3\" >0.4312</td>\n",
       "      <td id=\"T_dee16_row4_col4\" class=\"data row4 col4\" >0.4083</td>\n",
       "      <td id=\"T_dee16_row4_col5\" class=\"data row4 col5\" >0.4110</td>\n",
       "    </tr>\n",
       "    <tr>\n",
       "      <th id=\"T_dee16_level0_row5\" class=\"row_heading level0 row5\" >5</th>\n",
       "      <td id=\"T_dee16_row5_col0\" class=\"data row5 col0\" >5.3472</td>\n",
       "      <td id=\"T_dee16_row5_col1\" class=\"data row5 col1\" >45.0842</td>\n",
       "      <td id=\"T_dee16_row5_col2\" class=\"data row5 col2\" >6.7145</td>\n",
       "      <td id=\"T_dee16_row5_col3\" class=\"data row5 col3\" >0.4023</td>\n",
       "      <td id=\"T_dee16_row5_col4\" class=\"data row5 col4\" >0.3323</td>\n",
       "      <td id=\"T_dee16_row5_col5\" class=\"data row5 col5\" >0.3228</td>\n",
       "    </tr>\n",
       "    <tr>\n",
       "      <th id=\"T_dee16_level0_row6\" class=\"row_heading level0 row6\" >6</th>\n",
       "      <td id=\"T_dee16_row6_col0\" class=\"data row6 col0\" >5.5539</td>\n",
       "      <td id=\"T_dee16_row6_col1\" class=\"data row6 col1\" >44.9980</td>\n",
       "      <td id=\"T_dee16_row6_col2\" class=\"data row6 col2\" >6.7081</td>\n",
       "      <td id=\"T_dee16_row6_col3\" class=\"data row6 col3\" >0.6210</td>\n",
       "      <td id=\"T_dee16_row6_col4\" class=\"data row6 col4\" >0.3538</td>\n",
       "      <td id=\"T_dee16_row6_col5\" class=\"data row6 col5\" >0.3635</td>\n",
       "    </tr>\n",
       "    <tr>\n",
       "      <th id=\"T_dee16_level0_row7\" class=\"row_heading level0 row7\" >7</th>\n",
       "      <td id=\"T_dee16_row7_col0\" class=\"data row7 col0\" >4.7444</td>\n",
       "      <td id=\"T_dee16_row7_col1\" class=\"data row7 col1\" >32.9523</td>\n",
       "      <td id=\"T_dee16_row7_col2\" class=\"data row7 col2\" >5.7404</td>\n",
       "      <td id=\"T_dee16_row7_col3\" class=\"data row7 col3\" >0.3810</td>\n",
       "      <td id=\"T_dee16_row7_col4\" class=\"data row7 col4\" >0.3167</td>\n",
       "      <td id=\"T_dee16_row7_col5\" class=\"data row7 col5\" >0.2776</td>\n",
       "    </tr>\n",
       "    <tr>\n",
       "      <th id=\"T_dee16_level0_row8\" class=\"row_heading level0 row8\" >8</th>\n",
       "      <td id=\"T_dee16_row8_col0\" class=\"data row8 col0\" >3.7715</td>\n",
       "      <td id=\"T_dee16_row8_col1\" class=\"data row8 col1\" >28.1644</td>\n",
       "      <td id=\"T_dee16_row8_col2\" class=\"data row8 col2\" >5.3070</td>\n",
       "      <td id=\"T_dee16_row8_col3\" class=\"data row8 col3\" >0.7581</td>\n",
       "      <td id=\"T_dee16_row8_col4\" class=\"data row8 col4\" >0.2565</td>\n",
       "      <td id=\"T_dee16_row8_col5\" class=\"data row8 col5\" >0.2086</td>\n",
       "    </tr>\n",
       "    <tr>\n",
       "      <th id=\"T_dee16_level0_row9\" class=\"row_heading level0 row9\" >9</th>\n",
       "      <td id=\"T_dee16_row9_col0\" class=\"data row9 col0\" >5.1185</td>\n",
       "      <td id=\"T_dee16_row9_col1\" class=\"data row9 col1\" >46.9065</td>\n",
       "      <td id=\"T_dee16_row9_col2\" class=\"data row9 col2\" >6.8488</td>\n",
       "      <td id=\"T_dee16_row9_col3\" class=\"data row9 col3\" >0.3468</td>\n",
       "      <td id=\"T_dee16_row9_col4\" class=\"data row9 col4\" >0.3916</td>\n",
       "      <td id=\"T_dee16_row9_col5\" class=\"data row9 col5\" >0.3619</td>\n",
       "    </tr>\n",
       "    <tr>\n",
       "      <th id=\"T_dee16_level0_row10\" class=\"row_heading level0 row10\" >Mean</th>\n",
       "      <td id=\"T_dee16_row10_col0\" class=\"data row10 col0\" >5.0961</td>\n",
       "      <td id=\"T_dee16_row10_col1\" class=\"data row10 col1\" >44.7563</td>\n",
       "      <td id=\"T_dee16_row10_col2\" class=\"data row10 col2\" >6.6137</td>\n",
       "      <td id=\"T_dee16_row10_col3\" class=\"data row10 col3\" >0.5193</td>\n",
       "      <td id=\"T_dee16_row10_col4\" class=\"data row10 col4\" >0.3462</td>\n",
       "      <td id=\"T_dee16_row10_col5\" class=\"data row10 col5\" >0.3261</td>\n",
       "    </tr>\n",
       "    <tr>\n",
       "      <th id=\"T_dee16_level0_row11\" class=\"row_heading level0 row11\" >Std</th>\n",
       "      <td id=\"T_dee16_row11_col0\" class=\"data row11 col0\" >0.7219</td>\n",
       "      <td id=\"T_dee16_row11_col1\" class=\"data row11 col1\" >14.2185</td>\n",
       "      <td id=\"T_dee16_row11_col2\" class=\"data row11 col2\" >1.0074</td>\n",
       "      <td id=\"T_dee16_row11_col3\" class=\"data row11 col3\" >0.1427</td>\n",
       "      <td id=\"T_dee16_row11_col4\" class=\"data row11 col4\" >0.0446</td>\n",
       "      <td id=\"T_dee16_row11_col5\" class=\"data row11 col5\" >0.0618</td>\n",
       "    </tr>\n",
       "  </tbody>\n",
       "</table>\n"
      ],
      "text/plain": [
       "<pandas.io.formats.style.Styler at 0x14660ccf710>"
      ]
     },
     "metadata": {},
     "output_type": "display_data"
    },
    {
     "data": {
      "text/html": [],
      "text/plain": [
       "<IPython.core.display.HTML object>"
      ]
     },
     "metadata": {},
     "output_type": "display_data"
    },
    {
     "data": {
      "text/html": [],
      "text/plain": [
       "<IPython.core.display.HTML object>"
      ]
     },
     "metadata": {},
     "output_type": "display_data"
    },
    {
     "data": {
      "text/html": [
       "<style type=\"text/css\">\n",
       "#T_da247_row10_col0, #T_da247_row10_col1, #T_da247_row10_col2, #T_da247_row10_col3, #T_da247_row10_col4, #T_da247_row10_col5 {\n",
       "  background: yellow;\n",
       "}\n",
       "</style>\n",
       "<table id=\"T_da247\">\n",
       "  <thead>\n",
       "    <tr>\n",
       "      <th class=\"blank level0\" >&nbsp;</th>\n",
       "      <th id=\"T_da247_level0_col0\" class=\"col_heading level0 col0\" >MAE</th>\n",
       "      <th id=\"T_da247_level0_col1\" class=\"col_heading level0 col1\" >MSE</th>\n",
       "      <th id=\"T_da247_level0_col2\" class=\"col_heading level0 col2\" >RMSE</th>\n",
       "      <th id=\"T_da247_level0_col3\" class=\"col_heading level0 col3\" >R2</th>\n",
       "      <th id=\"T_da247_level0_col4\" class=\"col_heading level0 col4\" >RMSLE</th>\n",
       "      <th id=\"T_da247_level0_col5\" class=\"col_heading level0 col5\" >MAPE</th>\n",
       "    </tr>\n",
       "    <tr>\n",
       "      <th class=\"index_name level0\" >Fold</th>\n",
       "      <th class=\"blank col0\" >&nbsp;</th>\n",
       "      <th class=\"blank col1\" >&nbsp;</th>\n",
       "      <th class=\"blank col2\" >&nbsp;</th>\n",
       "      <th class=\"blank col3\" >&nbsp;</th>\n",
       "      <th class=\"blank col4\" >&nbsp;</th>\n",
       "      <th class=\"blank col5\" >&nbsp;</th>\n",
       "    </tr>\n",
       "  </thead>\n",
       "  <tbody>\n",
       "    <tr>\n",
       "      <th id=\"T_da247_level0_row0\" class=\"row_heading level0 row0\" >0</th>\n",
       "      <td id=\"T_da247_row0_col0\" class=\"data row0 col0\" >4.5507</td>\n",
       "      <td id=\"T_da247_row0_col1\" class=\"data row0 col1\" >35.1901</td>\n",
       "      <td id=\"T_da247_row0_col2\" class=\"data row0 col2\" >5.9321</td>\n",
       "      <td id=\"T_da247_row0_col3\" class=\"data row0 col3\" >0.6730</td>\n",
       "      <td id=\"T_da247_row0_col4\" class=\"data row0 col4\" >0.3204</td>\n",
       "      <td id=\"T_da247_row0_col5\" class=\"data row0 col5\" >0.3039</td>\n",
       "    </tr>\n",
       "    <tr>\n",
       "      <th id=\"T_da247_level0_row1\" class=\"row_heading level0 row1\" >1</th>\n",
       "      <td id=\"T_da247_row1_col0\" class=\"data row1 col0\" >6.8344</td>\n",
       "      <td id=\"T_da247_row1_col1\" class=\"data row1 col1\" >80.9342</td>\n",
       "      <td id=\"T_da247_row1_col2\" class=\"data row1 col2\" >8.9963</td>\n",
       "      <td id=\"T_da247_row1_col3\" class=\"data row1 col3\" >0.5060</td>\n",
       "      <td id=\"T_da247_row1_col4\" class=\"data row1 col4\" >0.4235</td>\n",
       "      <td id=\"T_da247_row1_col5\" class=\"data row1 col5\" >0.4312</td>\n",
       "    </tr>\n",
       "    <tr>\n",
       "      <th id=\"T_da247_level0_row2\" class=\"row_heading level0 row2\" >2</th>\n",
       "      <td id=\"T_da247_row2_col0\" class=\"data row2 col0\" >4.8329</td>\n",
       "      <td id=\"T_da247_row2_col1\" class=\"data row2 col1\" >34.6044</td>\n",
       "      <td id=\"T_da247_row2_col2\" class=\"data row2 col2\" >5.8825</td>\n",
       "      <td id=\"T_da247_row2_col3\" class=\"data row2 col3\" >0.6513</td>\n",
       "      <td id=\"T_da247_row2_col4\" class=\"data row2 col4\" >0.3454</td>\n",
       "      <td id=\"T_da247_row2_col5\" class=\"data row2 col5\" >0.3564</td>\n",
       "    </tr>\n",
       "    <tr>\n",
       "      <th id=\"T_da247_level0_row3\" class=\"row_heading level0 row3\" >3</th>\n",
       "      <td id=\"T_da247_row3_col0\" class=\"data row3 col0\" >4.8328</td>\n",
       "      <td id=\"T_da247_row3_col1\" class=\"data row3 col1\" >42.8751</td>\n",
       "      <td id=\"T_da247_row3_col2\" class=\"data row3 col2\" >6.5479</td>\n",
       "      <td id=\"T_da247_row3_col3\" class=\"data row3 col3\" >0.3832</td>\n",
       "      <td id=\"T_da247_row3_col4\" class=\"data row3 col4\" >0.3284</td>\n",
       "      <td id=\"T_da247_row3_col5\" class=\"data row3 col5\" >0.2534</td>\n",
       "    </tr>\n",
       "    <tr>\n",
       "      <th id=\"T_da247_level0_row4\" class=\"row_heading level0 row4\" >4</th>\n",
       "      <td id=\"T_da247_row4_col0\" class=\"data row4 col0\" >5.9321</td>\n",
       "      <td id=\"T_da247_row4_col1\" class=\"data row4 col1\" >62.2056</td>\n",
       "      <td id=\"T_da247_row4_col2\" class=\"data row4 col2\" >7.8871</td>\n",
       "      <td id=\"T_da247_row4_col3\" class=\"data row4 col3\" >0.4206</td>\n",
       "      <td id=\"T_da247_row4_col4\" class=\"data row4 col4\" >0.4218</td>\n",
       "      <td id=\"T_da247_row4_col5\" class=\"data row4 col5\" >0.4333</td>\n",
       "    </tr>\n",
       "    <tr>\n",
       "      <th id=\"T_da247_level0_row5\" class=\"row_heading level0 row5\" >5</th>\n",
       "      <td id=\"T_da247_row5_col0\" class=\"data row5 col0\" >5.2431</td>\n",
       "      <td id=\"T_da247_row5_col1\" class=\"data row5 col1\" >43.6619</td>\n",
       "      <td id=\"T_da247_row5_col2\" class=\"data row5 col2\" >6.6077</td>\n",
       "      <td id=\"T_da247_row5_col3\" class=\"data row5 col3\" >0.4211</td>\n",
       "      <td id=\"T_da247_row5_col4\" class=\"data row5 col4\" >0.3229</td>\n",
       "      <td id=\"T_da247_row5_col5\" class=\"data row5 col5\" >0.3134</td>\n",
       "    </tr>\n",
       "    <tr>\n",
       "      <th id=\"T_da247_level0_row6\" class=\"row_heading level0 row6\" >6</th>\n",
       "      <td id=\"T_da247_row6_col0\" class=\"data row6 col0\" >5.4572</td>\n",
       "      <td id=\"T_da247_row6_col1\" class=\"data row6 col1\" >42.9458</td>\n",
       "      <td id=\"T_da247_row6_col2\" class=\"data row6 col2\" >6.5533</td>\n",
       "      <td id=\"T_da247_row6_col3\" class=\"data row6 col3\" >0.6383</td>\n",
       "      <td id=\"T_da247_row6_col4\" class=\"data row6 col4\" >0.3501</td>\n",
       "      <td id=\"T_da247_row6_col5\" class=\"data row6 col5\" >0.3603</td>\n",
       "    </tr>\n",
       "    <tr>\n",
       "      <th id=\"T_da247_level0_row7\" class=\"row_heading level0 row7\" >7</th>\n",
       "      <td id=\"T_da247_row7_col0\" class=\"data row7 col0\" >4.7817</td>\n",
       "      <td id=\"T_da247_row7_col1\" class=\"data row7 col1\" >33.8914</td>\n",
       "      <td id=\"T_da247_row7_col2\" class=\"data row7 col2\" >5.8216</td>\n",
       "      <td id=\"T_da247_row7_col3\" class=\"data row7 col3\" >0.3634</td>\n",
       "      <td id=\"T_da247_row7_col4\" class=\"data row7 col4\" >0.3279</td>\n",
       "      <td id=\"T_da247_row7_col5\" class=\"data row7 col5\" >0.2847</td>\n",
       "    </tr>\n",
       "    <tr>\n",
       "      <th id=\"T_da247_level0_row8\" class=\"row_heading level0 row8\" >8</th>\n",
       "      <td id=\"T_da247_row8_col0\" class=\"data row8 col0\" >3.8125</td>\n",
       "      <td id=\"T_da247_row8_col1\" class=\"data row8 col1\" >28.2814</td>\n",
       "      <td id=\"T_da247_row8_col2\" class=\"data row8 col2\" >5.3180</td>\n",
       "      <td id=\"T_da247_row8_col3\" class=\"data row8 col3\" >0.7571</td>\n",
       "      <td id=\"T_da247_row8_col4\" class=\"data row8 col4\" >0.2536</td>\n",
       "      <td id=\"T_da247_row8_col5\" class=\"data row8 col5\" >0.2123</td>\n",
       "    </tr>\n",
       "    <tr>\n",
       "      <th id=\"T_da247_level0_row9\" class=\"row_heading level0 row9\" >9</th>\n",
       "      <td id=\"T_da247_row9_col0\" class=\"data row9 col0\" >5.2231</td>\n",
       "      <td id=\"T_da247_row9_col1\" class=\"data row9 col1\" >46.5253</td>\n",
       "      <td id=\"T_da247_row9_col2\" class=\"data row9 col2\" >6.8209</td>\n",
       "      <td id=\"T_da247_row9_col3\" class=\"data row9 col3\" >0.3521</td>\n",
       "      <td id=\"T_da247_row9_col4\" class=\"data row9 col4\" >0.3977</td>\n",
       "      <td id=\"T_da247_row9_col5\" class=\"data row9 col5\" >0.3801</td>\n",
       "    </tr>\n",
       "    <tr>\n",
       "      <th id=\"T_da247_level0_row10\" class=\"row_heading level0 row10\" >Mean</th>\n",
       "      <td id=\"T_da247_row10_col0\" class=\"data row10 col0\" >5.1501</td>\n",
       "      <td id=\"T_da247_row10_col1\" class=\"data row10 col1\" >45.1115</td>\n",
       "      <td id=\"T_da247_row10_col2\" class=\"data row10 col2\" >6.6368</td>\n",
       "      <td id=\"T_da247_row10_col3\" class=\"data row10 col3\" >0.5166</td>\n",
       "      <td id=\"T_da247_row10_col4\" class=\"data row10 col4\" >0.3492</td>\n",
       "      <td id=\"T_da247_row10_col5\" class=\"data row10 col5\" >0.3329</td>\n",
       "    </tr>\n",
       "    <tr>\n",
       "      <th id=\"T_da247_level0_row11\" class=\"row_heading level0 row11\" >Std</th>\n",
       "      <td id=\"T_da247_row11_col0\" class=\"data row11 col0\" >0.7773</td>\n",
       "      <td id=\"T_da247_row11_col1\" class=\"data row11 col1\" >14.8568</td>\n",
       "      <td id=\"T_da247_row11_col2\" class=\"data row11 col2\" >1.0320</td>\n",
       "      <td id=\"T_da247_row11_col3\" class=\"data row11 col3\" >0.1421</td>\n",
       "      <td id=\"T_da247_row11_col4\" class=\"data row11 col4\" >0.0497</td>\n",
       "      <td id=\"T_da247_row11_col5\" class=\"data row11 col5\" >0.0691</td>\n",
       "    </tr>\n",
       "  </tbody>\n",
       "</table>\n"
      ],
      "text/plain": [
       "<pandas.io.formats.style.Styler at 0x14660bad710>"
      ]
     },
     "metadata": {},
     "output_type": "display_data"
    },
    {
     "data": {
      "text/html": [],
      "text/plain": [
       "<IPython.core.display.HTML object>"
      ]
     },
     "metadata": {},
     "output_type": "display_data"
    }
   ],
   "source": [
    "model_2 = exp1.create_model('llar')\n",
    "model_3 = exp1.create_model('lasso')\n",
    "model_4 = exp1.create_model('br')"
   ]
  },
  {
   "cell_type": "code",
   "execution_count": 48,
   "metadata": {},
   "outputs": [
    {
     "data": {
      "text/html": [],
      "text/plain": [
       "<IPython.core.display.HTML object>"
      ]
     },
     "metadata": {},
     "output_type": "display_data"
    },
    {
     "data": {
      "text/html": [
       "<div>\n",
       "<style scoped>\n",
       "    .dataframe tbody tr th:only-of-type {\n",
       "        vertical-align: middle;\n",
       "    }\n",
       "\n",
       "    .dataframe tbody tr th {\n",
       "        vertical-align: top;\n",
       "    }\n",
       "\n",
       "    .dataframe thead th {\n",
       "        text-align: right;\n",
       "    }\n",
       "</style>\n",
       "<table border=\"1\" class=\"dataframe\">\n",
       "  <thead>\n",
       "    <tr style=\"text-align: right;\">\n",
       "      <th></th>\n",
       "      <th>year</th>\n",
       "      <th>month</th>\n",
       "      <th>day</th>\n",
       "      <th>day_of_week</th>\n",
       "      <th>week_of_year</th>\n",
       "      <th>season</th>\n",
       "      <th>is_weekend</th>\n",
       "      <th>date</th>\n",
       "      <th>day_of_year</th>\n",
       "      <th>month_sin</th>\n",
       "      <th>...</th>\n",
       "      <th>pm_2_5_lag_22</th>\n",
       "      <th>pm_2_5_lag_23</th>\n",
       "      <th>pm_2_5_lag_24</th>\n",
       "      <th>pm_2_5_lag_25</th>\n",
       "      <th>pm_2_5_lag_26</th>\n",
       "      <th>pm_2_5_lag_27</th>\n",
       "      <th>pm_2_5_lag_28</th>\n",
       "      <th>pm_2_5_lag_29</th>\n",
       "      <th>pm_2_5_lag_30</th>\n",
       "      <th>prediction_label</th>\n",
       "    </tr>\n",
       "    <tr>\n",
       "      <th>timestamp</th>\n",
       "      <th></th>\n",
       "      <th></th>\n",
       "      <th></th>\n",
       "      <th></th>\n",
       "      <th></th>\n",
       "      <th></th>\n",
       "      <th></th>\n",
       "      <th></th>\n",
       "      <th></th>\n",
       "      <th></th>\n",
       "      <th></th>\n",
       "      <th></th>\n",
       "      <th></th>\n",
       "      <th></th>\n",
       "      <th></th>\n",
       "      <th></th>\n",
       "      <th></th>\n",
       "      <th></th>\n",
       "      <th></th>\n",
       "      <th></th>\n",
       "      <th></th>\n",
       "    </tr>\n",
       "  </thead>\n",
       "  <tbody>\n",
       "    <tr>\n",
       "      <th>2025-01-13 07:00:00</th>\n",
       "      <td>2025</td>\n",
       "      <td>1</td>\n",
       "      <td>13</td>\n",
       "      <td>0</td>\n",
       "      <td>3</td>\n",
       "      <td>2</td>\n",
       "      <td>0</td>\n",
       "      <td>2025-01-13</td>\n",
       "      <td>13</td>\n",
       "      <td>0.5</td>\n",
       "      <td>...</td>\n",
       "      <td>21.650162</td>\n",
       "      <td>17.382744</td>\n",
       "      <td>13.847098</td>\n",
       "      <td>16.493088</td>\n",
       "      <td>14.572545</td>\n",
       "      <td>3.617924</td>\n",
       "      <td>3.025287</td>\n",
       "      <td>9.330097</td>\n",
       "      <td>16.010754</td>\n",
       "      <td>31.011239</td>\n",
       "    </tr>\n",
       "    <tr>\n",
       "      <th>2025-01-14 07:00:00</th>\n",
       "      <td>2025</td>\n",
       "      <td>1</td>\n",
       "      <td>14</td>\n",
       "      <td>1</td>\n",
       "      <td>3</td>\n",
       "      <td>2</td>\n",
       "      <td>0</td>\n",
       "      <td>2025-01-14</td>\n",
       "      <td>14</td>\n",
       "      <td>0.5</td>\n",
       "      <td>...</td>\n",
       "      <td>29.235626</td>\n",
       "      <td>21.650162</td>\n",
       "      <td>17.382744</td>\n",
       "      <td>13.847098</td>\n",
       "      <td>16.493088</td>\n",
       "      <td>14.572545</td>\n",
       "      <td>3.617924</td>\n",
       "      <td>3.025287</td>\n",
       "      <td>9.330097</td>\n",
       "      <td>36.049170</td>\n",
       "    </tr>\n",
       "    <tr>\n",
       "      <th>2025-01-15 07:00:00</th>\n",
       "      <td>2025</td>\n",
       "      <td>1</td>\n",
       "      <td>15</td>\n",
       "      <td>2</td>\n",
       "      <td>3</td>\n",
       "      <td>2</td>\n",
       "      <td>0</td>\n",
       "      <td>2025-01-15</td>\n",
       "      <td>15</td>\n",
       "      <td>0.5</td>\n",
       "      <td>...</td>\n",
       "      <td>29.046980</td>\n",
       "      <td>29.235626</td>\n",
       "      <td>21.650162</td>\n",
       "      <td>17.382744</td>\n",
       "      <td>13.847098</td>\n",
       "      <td>16.493088</td>\n",
       "      <td>14.572545</td>\n",
       "      <td>3.617924</td>\n",
       "      <td>3.025287</td>\n",
       "      <td>44.807888</td>\n",
       "    </tr>\n",
       "    <tr>\n",
       "      <th>2025-01-16 07:00:00</th>\n",
       "      <td>2025</td>\n",
       "      <td>1</td>\n",
       "      <td>16</td>\n",
       "      <td>3</td>\n",
       "      <td>3</td>\n",
       "      <td>2</td>\n",
       "      <td>0</td>\n",
       "      <td>2025-01-16</td>\n",
       "      <td>16</td>\n",
       "      <td>0.5</td>\n",
       "      <td>...</td>\n",
       "      <td>25.877863</td>\n",
       "      <td>29.046980</td>\n",
       "      <td>29.235626</td>\n",
       "      <td>21.650162</td>\n",
       "      <td>17.382744</td>\n",
       "      <td>13.847098</td>\n",
       "      <td>16.493088</td>\n",
       "      <td>14.572545</td>\n",
       "      <td>3.617924</td>\n",
       "      <td>39.509174</td>\n",
       "    </tr>\n",
       "    <tr>\n",
       "      <th>2025-01-17 07:00:00</th>\n",
       "      <td>2025</td>\n",
       "      <td>1</td>\n",
       "      <td>17</td>\n",
       "      <td>4</td>\n",
       "      <td>3</td>\n",
       "      <td>2</td>\n",
       "      <td>0</td>\n",
       "      <td>2025-01-17</td>\n",
       "      <td>17</td>\n",
       "      <td>0.5</td>\n",
       "      <td>...</td>\n",
       "      <td>25.487585</td>\n",
       "      <td>25.877863</td>\n",
       "      <td>29.046980</td>\n",
       "      <td>29.235626</td>\n",
       "      <td>21.650162</td>\n",
       "      <td>17.382744</td>\n",
       "      <td>13.847098</td>\n",
       "      <td>16.493088</td>\n",
       "      <td>14.572545</td>\n",
       "      <td>41.833760</td>\n",
       "    </tr>\n",
       "  </tbody>\n",
       "</table>\n",
       "<p>5 rows × 44 columns</p>\n",
       "</div>"
      ],
      "text/plain": [
       "                     year  month  day  day_of_week  week_of_year  season  \\\n",
       "timestamp                                                                  \n",
       "2025-01-13 07:00:00  2025      1   13            0             3       2   \n",
       "2025-01-14 07:00:00  2025      1   14            1             3       2   \n",
       "2025-01-15 07:00:00  2025      1   15            2             3       2   \n",
       "2025-01-16 07:00:00  2025      1   16            3             3       2   \n",
       "2025-01-17 07:00:00  2025      1   17            4             3       2   \n",
       "\n",
       "                     is_weekend       date  day_of_year  month_sin  ...  \\\n",
       "timestamp                                                           ...   \n",
       "2025-01-13 07:00:00           0 2025-01-13           13        0.5  ...   \n",
       "2025-01-14 07:00:00           0 2025-01-14           14        0.5  ...   \n",
       "2025-01-15 07:00:00           0 2025-01-15           15        0.5  ...   \n",
       "2025-01-16 07:00:00           0 2025-01-16           16        0.5  ...   \n",
       "2025-01-17 07:00:00           0 2025-01-17           17        0.5  ...   \n",
       "\n",
       "                     pm_2_5_lag_22  pm_2_5_lag_23  pm_2_5_lag_24  \\\n",
       "timestamp                                                          \n",
       "2025-01-13 07:00:00      21.650162      17.382744      13.847098   \n",
       "2025-01-14 07:00:00      29.235626      21.650162      17.382744   \n",
       "2025-01-15 07:00:00      29.046980      29.235626      21.650162   \n",
       "2025-01-16 07:00:00      25.877863      29.046980      29.235626   \n",
       "2025-01-17 07:00:00      25.487585      25.877863      29.046980   \n",
       "\n",
       "                     pm_2_5_lag_25  pm_2_5_lag_26  pm_2_5_lag_27  \\\n",
       "timestamp                                                          \n",
       "2025-01-13 07:00:00      16.493088      14.572545       3.617924   \n",
       "2025-01-14 07:00:00      13.847098      16.493088      14.572545   \n",
       "2025-01-15 07:00:00      17.382744      13.847098      16.493088   \n",
       "2025-01-16 07:00:00      21.650162      17.382744      13.847098   \n",
       "2025-01-17 07:00:00      29.235626      21.650162      17.382744   \n",
       "\n",
       "                     pm_2_5_lag_28  pm_2_5_lag_29  pm_2_5_lag_30  \\\n",
       "timestamp                                                          \n",
       "2025-01-13 07:00:00       3.025287       9.330097      16.010754   \n",
       "2025-01-14 07:00:00       3.617924       3.025287       9.330097   \n",
       "2025-01-15 07:00:00      14.572545       3.617924       3.025287   \n",
       "2025-01-16 07:00:00      16.493088      14.572545       3.617924   \n",
       "2025-01-17 07:00:00      13.847098      16.493088      14.572545   \n",
       "\n",
       "                     prediction_label  \n",
       "timestamp                              \n",
       "2025-01-13 07:00:00         31.011239  \n",
       "2025-01-14 07:00:00         36.049170  \n",
       "2025-01-15 07:00:00         44.807888  \n",
       "2025-01-16 07:00:00         39.509174  \n",
       "2025-01-17 07:00:00         41.833760  \n",
       "\n",
       "[5 rows x 44 columns]"
      ]
     },
     "execution_count": 48,
     "metadata": {},
     "output_type": "execute_result"
    }
   ],
   "source": [
    "new_data = test_data.copy().drop(['pm_2_5'], axis=1)\n",
    "predictions = exp1.predict_model(model_1, data=new_data)\n",
    "predictions.head()"
   ]
  },
  {
   "cell_type": "code",
   "execution_count": 49,
   "metadata": {},
   "outputs": [
    {
     "data": {
      "text/plain": [
       "timestamp\n",
       "2025-01-13 07:00:00    31.011239\n",
       "2025-01-14 07:00:00    36.049170\n",
       "2025-01-15 07:00:00    44.807888\n",
       "2025-01-16 07:00:00    39.509174\n",
       "2025-01-17 07:00:00    41.833760\n",
       "Freq: D, Name: prediction_label, dtype: float64"
      ]
     },
     "execution_count": 49,
     "metadata": {},
     "output_type": "execute_result"
    }
   ],
   "source": [
    "predict_v = predictions['prediction_label']\n",
    "predict_v.head()"
   ]
  },
  {
   "cell_type": "code",
   "execution_count": 50,
   "metadata": {},
   "outputs": [],
   "source": [
    "real = test_data['pm_2_5']\n",
    "# real.head(7)"
   ]
  },
  {
   "cell_type": "markdown",
   "metadata": {},
   "source": [
    "# ทำนาย 1 วันข้างหน้า ต้องทำนายเผื่อ 2 วัน"
   ]
  },
  {
   "cell_type": "code",
   "execution_count": 53,
   "metadata": {},
   "outputs": [
    {
     "data": {
      "image/png": "[encoded data removed]",
      "text/plain": [
       "<Figure size 1000x600 with 1 Axes>"
      ]
     },
     "metadata": {},
     "output_type": "display_data"
    }
   ],
   "source": [
    "import pandas as pd\n",
    "import matplotlib.pyplot as plt\n",
    "\n",
    "# สมมุติว่า result คือ DataFrame ที่รวม predictions กับ pm_10\n",
    "result = pd.concat([predict_v.shift(-1), test_data['pm_2_5']], axis=1)\n",
    "result.columns = ['Predictions', 'Actual PM2_5']  # ตั้งชื่อคอลัมน์\n",
    "\n",
    "# พล็อตข้อมูล\n",
    "result.plot(figsize=(10, 6))\n",
    "\n",
    "# ตั้งชื่อกราฟ\n",
    "plt.title('Predictions vs Actual PM2_5')\n",
    "plt.xlabel('Index')\n",
    "plt.ylabel('PM2_5 Values')\n",
    "\n",
    "# แสดงกราฟ\n",
    "plt.show()"
   ]
  },
  {
   "cell_type": "code",
   "execution_count": 55,
   "metadata": {},
   "outputs": [
    {
     "name": "stdout",
     "output_type": "stream",
     "text": [
      "R² Score: 0.8844\n",
      "Mean Absolute Error (MAE): 2.6792\n",
      "Root Mean Squared Error (RMSE): 3.3946\n",
      "Mean Absolute Percentage Error (MAPE): 10.45%\n",
      "Accuracy: 89.55%\n"
     ]
    }
   ],
   "source": [
    "from pycaret.regression import *\n",
    "from sklearn.metrics import r2_score, mean_absolute_error, mean_squared_error\n",
    "import numpy as np\n",
    "\n",
    "# Extract actual values and predicted values\n",
    "y_true = test_data[\"pm_2_5\"][:\"2025-2-10\"]\n",
    "y_pred = predict_v.shift(-1).dropna(axis=0)\n",
    "\n",
    "# Calculate Regression Metrics\n",
    "r2 = r2_score(y_true, y_pred)\n",
    "mae = mean_absolute_error(y_true, y_pred)\n",
    "rmse = np.sqrt(mean_squared_error(y_true, y_pred))\n",
    "\n",
    "# Calculate MAPE and Accuracy\n",
    "mape = np.mean(np.abs((y_true - y_pred) / y_true)) * 100  # Mean Absolute Percentage Error\n",
    "accuracy = 100 - mape  # Convert to Accuracy %\n",
    "\n",
    "# Print Results\n",
    "print(f\"R² Score: {r2:.4f}\")\n",
    "print(f\"Mean Absolute Error (MAE): {mae:.4f}\")\n",
    "print(f\"Root Mean Squared Error (RMSE): {rmse:.4f}\")\n",
    "print(f\"Mean Absolute Percentage Error (MAPE): {mape:.2f}%\")\n",
    "print(f\"Accuracy: {accuracy:.2f}%\")"
   ]
  },
  {
   "cell_type": "markdown",
   "metadata": {},
   "source": [
    "# Predict 1 by 1"
   ]
  },
  {
   "cell_type": "code",
   "execution_count": 70,
   "metadata": {},
   "outputs": [
    {
     "data": {
      "text/html": [],
      "text/plain": [
       "<IPython.core.display.HTML object>"
      ]
     },
     "metadata": {},
     "output_type": "display_data"
    },
    {
     "data": {
      "text/html": [],
      "text/plain": [
       "<IPython.core.display.HTML object>"
      ]
     },
     "metadata": {},
     "output_type": "display_data"
    },
    {
     "data": {
      "text/html": [],
      "text/plain": [
       "<IPython.core.display.HTML object>"
      ]
     },
     "metadata": {},
     "output_type": "display_data"
    },
    {
     "data": {
      "text/html": [],
      "text/plain": [
       "<IPython.core.display.HTML object>"
      ]
     },
     "metadata": {},
     "output_type": "display_data"
    },
    {
     "data": {
      "text/html": [],
      "text/plain": [
       "<IPython.core.display.HTML object>"
      ]
     },
     "metadata": {},
     "output_type": "display_data"
    },
    {
     "data": {
      "text/html": [],
      "text/plain": [
       "<IPython.core.display.HTML object>"
      ]
     },
     "metadata": {},
     "output_type": "display_data"
    },
    {
     "data": {
      "text/html": [],
      "text/plain": [
       "<IPython.core.display.HTML object>"
      ]
     },
     "metadata": {},
     "output_type": "display_data"
    },
    {
     "data": {
      "text/html": [],
      "text/plain": [
       "<IPython.core.display.HTML object>"
      ]
     },
     "metadata": {},
     "output_type": "display_data"
    },
    {
     "data": {
      "text/html": [],
      "text/plain": [
       "<IPython.core.display.HTML object>"
      ]
     },
     "metadata": {},
     "output_type": "display_data"
    },
    {
     "data": {
      "text/html": [],
      "text/plain": [
       "<IPython.core.display.HTML object>"
      ]
     },
     "metadata": {},
     "output_type": "display_data"
    },
    {
     "data": {
      "text/html": [],
      "text/plain": [
       "<IPython.core.display.HTML object>"
      ]
     },
     "metadata": {},
     "output_type": "display_data"
    },
    {
     "data": {
      "text/html": [],
      "text/plain": [
       "<IPython.core.display.HTML object>"
      ]
     },
     "metadata": {},
     "output_type": "display_data"
    },
    {
     "data": {
      "text/html": [],
      "text/plain": [
       "<IPython.core.display.HTML object>"
      ]
     },
     "metadata": {},
     "output_type": "display_data"
    },
    {
     "data": {
      "text/html": [],
      "text/plain": [
       "<IPython.core.display.HTML object>"
      ]
     },
     "metadata": {},
     "output_type": "display_data"
    },
    {
     "data": {
      "text/html": [],
      "text/plain": [
       "<IPython.core.display.HTML object>"
      ]
     },
     "metadata": {},
     "output_type": "display_data"
    },
    {
     "data": {
      "text/html": [],
      "text/plain": [
       "<IPython.core.display.HTML object>"
      ]
     },
     "metadata": {},
     "output_type": "display_data"
    },
    {
     "data": {
      "text/html": [],
      "text/plain": [
       "<IPython.core.display.HTML object>"
      ]
     },
     "metadata": {},
     "output_type": "display_data"
    },
    {
     "data": {
      "text/html": [],
      "text/plain": [
       "<IPython.core.display.HTML object>"
      ]
     },
     "metadata": {},
     "output_type": "display_data"
    },
    {
     "data": {
      "text/html": [],
      "text/plain": [
       "<IPython.core.display.HTML object>"
      ]
     },
     "metadata": {},
     "output_type": "display_data"
    },
    {
     "data": {
      "text/html": [],
      "text/plain": [
       "<IPython.core.display.HTML object>"
      ]
     },
     "metadata": {},
     "output_type": "display_data"
    },
    {
     "data": {
      "text/html": [],
      "text/plain": [
       "<IPython.core.display.HTML object>"
      ]
     },
     "metadata": {},
     "output_type": "display_data"
    },
    {
     "data": {
      "text/html": [],
      "text/plain": [
       "<IPython.core.display.HTML object>"
      ]
     },
     "metadata": {},
     "output_type": "display_data"
    },
    {
     "data": {
      "text/html": [],
      "text/plain": [
       "<IPython.core.display.HTML object>"
      ]
     },
     "metadata": {},
     "output_type": "display_data"
    },
    {
     "data": {
      "text/html": [],
      "text/plain": [
       "<IPython.core.display.HTML object>"
      ]
     },
     "metadata": {},
     "output_type": "display_data"
    },
    {
     "data": {
      "text/html": [],
      "text/plain": [
       "<IPython.core.display.HTML object>"
      ]
     },
     "metadata": {},
     "output_type": "display_data"
    },
    {
     "data": {
      "text/html": [],
      "text/plain": [
       "<IPython.core.display.HTML object>"
      ]
     },
     "metadata": {},
     "output_type": "display_data"
    },
    {
     "data": {
      "text/html": [],
      "text/plain": [
       "<IPython.core.display.HTML object>"
      ]
     },
     "metadata": {},
     "output_type": "display_data"
    },
    {
     "data": {
      "text/html": [],
      "text/plain": [
       "<IPython.core.display.HTML object>"
      ]
     },
     "metadata": {},
     "output_type": "display_data"
    },
    {
     "data": {
      "text/html": [],
      "text/plain": [
       "<IPython.core.display.HTML object>"
      ]
     },
     "metadata": {},
     "output_type": "display_data"
    },
    {
     "data": {
      "text/html": [],
      "text/plain": [
       "<IPython.core.display.HTML object>"
      ]
     },
     "metadata": {},
     "output_type": "display_data"
    }
   ],
   "source": [
    "data_compare = data_filtered.loc[:'2025-01-12']\n",
    "result = pd.DataFrame()\n",
    "\n",
    "start_date = \"2025-01-13\"\n",
    "end_date = \"2025-02-11\"\n",
    "\n",
    "model = model_1\n",
    "\n",
    "for date in pd.date_range(start=start_date, end=end_date, freq=\"D\"):\n",
    "    # Drop columns\n",
    "    test_1 = data_filtered\n",
    "    # ดึงวันนี้มา\n",
    "    test_1 = test_1.loc[str(date.date())]\n",
    "\n",
    "    # ใส่เข้าไป\n",
    "    data_compare = pd.concat([data_compare, test_1], axis=0)\n",
    "\n",
    "    for i in range(1,lag_size+1):\n",
    "        data_compare[f'pm_2_5_lag_{i}'] = data_compare['pm_2_5'].shift(i)\n",
    "\n",
    "    # ดึง\n",
    "    test_1 = (data_compare.loc[str(date.date())]).drop(columns=['pm_2_5'])\n",
    "    \n",
    "    # Drop ทิ้งล่าสุดใน data_compare\n",
    "    data_compare = data_compare.drop(data_compare.last_valid_index())\n",
    "    test_1 = test_1[~test_1.index.duplicated(keep='last')]\n",
    "\n",
    "    # Predict\n",
    "    predict_test_1 = exp1.predict_model(model, data=test_1)\n",
    "\n",
    "    # เพิ่มผลทำนายเข้าไปใน data_compare\n",
    "    data_compare = pd.concat([data_compare, predict_test_1], axis=0)\n",
    "\n",
    "    # แทนที่ค่าในคอลัมน์ 'pm_2_5' ในวันที่ '2025-01-13' ด้วยค่าในคอลัมน์ 'prediction_label'\n",
    "    data_compare.loc[str(date.date()), 'pm_2_5'] = data_compare.loc[str(date.date()), 'prediction_label']\n",
    "\n",
    "    # ลบคอลัมน์ 'prediction_label' (หากต้องการแค่ผลทำนาย)\n",
    "    data_compare = data_compare.drop(columns=['prediction_label'])\n",
    "\n",
    "    # กรองเอาวันที่ซ้ำกัน (index ซ้ำ) ออกให้เหลือแค่ตัวเดียว\n",
    "    data_compare = data_compare[~data_compare.index.duplicated(keep='last')]\n",
    "\n",
    "    # บันทึกลง result\n",
    "    result = pd.concat([result, predict_test_1], axis=0)"
   ]
  },
  {
   "cell_type": "code",
   "execution_count": 71,
   "metadata": {},
   "outputs": [
    {
     "data": {
      "image/png": "[encoded data removed]",
      "text/plain": [
       "<Figure size 1000x600 with 1 Axes>"
      ]
     },
     "metadata": {},
     "output_type": "display_data"
    }
   ],
   "source": [
    "import pandas as pd\n",
    "import matplotlib.pyplot as plt\n",
    "\n",
    "real_data = data_filtered.loc[start_date:end_date]\n",
    "# สมมุติว่า result คือ DataFrame ที่รวม predictions กับ pm_10\n",
    "result_plot = pd.concat([result['prediction_label'].shift(-1), real_data['pm_2_5']], axis=1)\n",
    "result_plot.columns = ['Predictions', 'Actual PM10']  # ตั้งชื่อคอลัมน์\n",
    "\n",
    "# พล็อตข้อมูล\n",
    "result_plot.plot(figsize=(10, 6))\n",
    "\n",
    "# ตั้งชื่อกราฟ\n",
    "plt.title('Predictions vs Actual PM2.5')\n",
    "plt.xlabel('Index')\n",
    "plt.ylabel('PM2.5 Values')\n",
    "\n",
    "# แสดงกราฟ\n",
    "plt.show()"
   ]
  },
  {
   "cell_type": "code",
   "execution_count": 73,
   "metadata": {},
   "outputs": [
    {
     "name": "stdout",
     "output_type": "stream",
     "text": [
      "R² Score: -0.0023\n",
      "Mean Absolute Error (MAE): 7.9369\n",
      "Root Mean Squared Error (RMSE): 9.9942\n",
      "Mean Absolute Percentage Error (MAPE): 32.09%\n",
      "Accuracy: 67.91%\n"
     ]
    }
   ],
   "source": [
    "from sklearn.metrics import r2_score, mean_absolute_error, mean_squared_error\n",
    "\n",
    "# Calculate Regression Metrics\n",
    "r2 = r2_score(y_true, y_pred)\n",
    "mae = mean_absolute_error(y_true, y_pred)\n",
    "rmse = np.sqrt(mean_squared_error(y_true, y_pred))\n",
    "\n",
    "# Calculate MAPE and Accuracy\n",
    "mape = np.mean(np.abs((y_true - y_pred) / y_true)) * 100  # Mean Absolute Percentage Error\n",
    "accuracy = 100 - mape  # Convert to Accuracy %\n",
    "\n",
    "# Print Results\n",
    "print(f\"R² Score: {r2:.4f}\")\n",
    "print(f\"Mean Absolute Error (MAE): {mae:.4f}\")\n",
    "print(f\"Root Mean Squared Error (RMSE): {rmse:.4f}\")\n",
    "print(f\"Mean Absolute Percentage Error (MAPE): {mape:.2f}%\")\n",
    "print(f\"Accuracy: {accuracy:.2f}%\")"
   ]
  }
 ],
 "metadata": {
  "kernelspec": {
   "display_name": "pycaret_venv",
   "language": "python",
   "name": "python3"
  },
  "language_info": {
   "codemirror_mode": {
    "name": "ipython",
    "version": 3
   },
   "file_extension": ".py",
   "mimetype": "text/x-python",
   "name": "python",
   "nbconvert_exporter": "python",
   "pygments_lexer": "ipython3",
   "version": "3.11.9"
  }
 },
 "nbformat": 4,
 "nbformat_minor": 2
}

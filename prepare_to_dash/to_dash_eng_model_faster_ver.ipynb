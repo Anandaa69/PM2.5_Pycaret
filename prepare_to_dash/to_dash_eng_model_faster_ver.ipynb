{
 "cells": [
  {
   "cell_type": "markdown",
   "metadata": {},
   "source": [
    "# Paremeter Set"
   ]
  },
  {
   "cell_type": "code",
   "execution_count": null,
   "metadata": {},
   "outputs": [],
   "source": [
    "num_days = days # วันที่ต้องการทำนาย"
   ]
  },
  {
   "cell_type": "markdown",
   "metadata": {},
   "source": [
    "# Predict TEMP model"
   ]
  },
  {
   "cell_type": "code",
   "execution_count": 7,
   "metadata": {},
   "outputs": [],
   "source": [
    "import pycaret\n",
    "import pandas as pd\n",
    "import numpy as np"
   ]
  },
  {
   "cell_type": "code",
   "execution_count": 8,
   "metadata": {},
   "outputs": [],
   "source": [
    "# อ่านไฟล์ CSV\n",
    "data = pd.read_csv('../eng_psu_hatyai/export_data/filtered_data_3_best.csv')"
   ]
  },
  {
   "cell_type": "code",
   "execution_count": 9,
   "metadata": {},
   "outputs": [],
   "source": [
    "# ตั้ง 'timestamp' เป็น index หากยังไม่ได้ทำ\n",
    "data['timestamp'] = pd.to_datetime(data['timestamp'])\n",
    "data.set_index('timestamp', inplace=True)\n",
    "\n",
    "# ตั้งค่า freq ให้กับ index\n",
    "data = data.asfreq('D')  # 'D' สำหรับรายวัน\n",
    "\n",
    "# เติมค่าที่หายไปด้วยการ interpolate แบบเส้นตรง\n",
    "data.interpolate(method='linear', inplace=True)\n"
   ]
  },
  {
   "cell_type": "code",
   "execution_count": 10,
   "metadata": {},
   "outputs": [],
   "source": [
    "# กำหนดจำนวนวันที่ต้องการเพิ่ม\n",
    "num_days = num_days\n",
    "\n",
    "# สร้างวันที่ใหม่\n",
    "next_date = data.index[-1] + pd.Timedelta(days=1)\n",
    "new_dates = pd.date_range(start=next_date, periods=num_days, freq='D')\n",
    "\n",
    "# สร้างแถวใหม่\n",
    "new_rows = pd.DataFrame({'value': range(40, 40 + num_days)}, index=new_dates)\n",
    "\n",
    "# รวมข้อมูล (ป้องกัน index ซ้ำซ้อน)\n",
    "data = pd.concat([data, new_rows]).sort_index()\n",
    "\n",
    "# ลบ index ที่ซ้ำกัน (ถ้ามี)\n",
    "data = data.loc[~data.index.duplicated(keep='first')]\n"
   ]
  },
  {
   "cell_type": "code",
   "execution_count": 11,
   "metadata": {},
   "outputs": [],
   "source": [
    "last_date_temp = data.index[-1].strftime('%Y-%m-%d')"
   ]
  },
  {
   "cell_type": "code",
   "execution_count": 12,
   "metadata": {},
   "outputs": [],
   "source": [
    "data[\"year\"] = data.index.year\n",
    "data[\"month\"] = data.index.month\n",
    "data[\"day\"] = data.index.day\n",
    "data[\"day_of_week\"] = data.index.dayofweek  # 0 = Monday, 6 = Sunday\n",
    "data[\"week_of_year\"] = data.index.isocalendar().week  # ค่าจะเป็น int64\n",
    "\n",
    "# สมมติว่า data มี index เป็น datetime อยู่แล้ว\n",
    "def assign_season(month):\n",
    "    if month in [2, 3, 4]:  # ก.พ. - เม.ย.\n",
    "        return \"summer\"        # ฤดูร้อน\n",
    "    elif month in [5, 6, 7]:  # พ.ค. - ก.ค.\n",
    "        return \"early_rainy\"   # ต้นฤดูฝน\n",
    "    else:  # ส.ค. - ม.ค.\n",
    "        return \"late_rainy\"    # ปลายฤดูฝน\n",
    "\n",
    "season_mapping = {'summer': 0, 'early_rainy': 1, 'late_rainy': 2}\n",
    "data[\"season\"] = data.index.month.map(assign_season)\n",
    "data['season'] = data['season'].map(season_mapping)\n",
    "\n",
    "data[\"is_weekend\"] = data.index.dayofweek.isin([5, 6]).astype(int)\n",
    "\n",
    "# สมมุติว่ามี DataFrame data ที่มีข้อมูลอยู่แล้ว\n",
    "# เพิ่มฟีเจอร์ day_of_year\n",
    "data['date'] = pd.to_datetime(data[['year', 'month', 'day']])\n",
    "data['day_of_year'] = data['date'].dt.dayofyear\n",
    "\n",
    "# เพิ่มฟีเจอร์ month_sin และ month_cos\n",
    "data['month_sin'] = np.sin(2 * np.pi * data['month'] / 12)\n",
    "data['month_cos'] = np.cos(2 * np.pi * data['month'] / 12)\n",
    "\n",
    "# เพิ่มฟีเจอร์ day_of_week_sin และ day_of_week_cos\n",
    "data['day_of_week_sin'] = np.sin(2 * np.pi * data['day_of_week'] / 7)\n",
    "data['day_of_week_cos'] = np.cos(2 * np.pi * data['day_of_week'] / 7)\n"
   ]
  },
  {
   "cell_type": "code",
   "execution_count": 13,
   "metadata": {},
   "outputs": [],
   "source": [
    "data.drop(columns=['pm_10', 'pm_2_5_sp', 'value'], inplace=True)"
   ]
  },
  {
   "cell_type": "code",
   "execution_count": 14,
   "metadata": {},
   "outputs": [],
   "source": [
    "data_temp = data.copy()\n",
    "\n",
    "data_temp.drop(columns=['humidity', 'pm_2_5'], inplace=True)\n",
    "\n",
    "lag_size = 7\n",
    "for i in range(1,lag_size+1):\n",
    "    data_temp[f'temperature_lag_{i}'] = data_temp['temperature'].shift(i)"
   ]
  },
  {
   "cell_type": "code",
   "execution_count": 15,
   "metadata": {},
   "outputs": [],
   "source": [
    "data_filtered = data_temp.loc['2023-09':]  # ดึงข้อมูลตั้งแต่กันยายน 2023 เป็นต้นไป"
   ]
  },
  {
   "cell_type": "code",
   "execution_count": 16,
   "metadata": {},
   "outputs": [
    {
     "name": "stdout",
     "output_type": "stream",
     "text": [
      "Transformation Pipeline and Model Successfully Loaded\n"
     ]
    }
   ],
   "source": [
    "from pycaret.regression import load_model, predict_model\n",
    "\n",
    "model_temp = load_model(\"../eng_psu_hatyai/main/lgmb_temp_model_eng\")\n"
   ]
  },
  {
   "cell_type": "code",
   "execution_count": 17,
   "metadata": {},
   "outputs": [],
   "source": [
    "data_compare = data_filtered.loc[:'2025-01-12']\n",
    "result = pd.DataFrame()\n",
    "\n",
    "start_date = \"2025-01-13\"\n",
    "end_date = last_date_temp\n",
    "\n",
    "model = model_temp\n",
    "\n",
    "for date in pd.date_range(start=start_date, end=end_date, freq=\"D\"):\n",
    "    # Drop columns\n",
    "    test_1 = data_filtered\n",
    "    # ดึงวันนี้มา\n",
    "    test_1 = test_1.loc[str(date.date())]\n",
    "\n",
    "    # ใส่เข้าไป\n",
    "    data_compare = pd.concat([data_compare, test_1], axis=0)\n",
    "\n",
    "    for i in range(1,lag_size+1):\n",
    "        data_compare[f'temperature_lag_{i}'] = data_compare['temperature'].shift(i)\n",
    "\n",
    "    # ดึง\n",
    "    test_1 = (data_compare.loc[str(date.date())]).drop(columns=['temperature'])\n",
    "    \n",
    "    # Drop ทิ้งล่าสุดใน data_compare\n",
    "    data_compare = data_compare.drop(data_compare.last_valid_index())\n",
    "    test_1 = test_1[~test_1.index.duplicated(keep='last')]\n",
    "\n",
    "    # Predict\n",
    "    predict_test_1 = predict_model(model, data=test_1)\n",
    "\n",
    "    # เพิ่มผลทำนายเข้าไปใน data_compare\n",
    "    data_compare = pd.concat([data_compare, predict_test_1], axis=0)\n",
    "\n",
    "    # แทนที่ค่าในคอลัมน์ 'pm_2_5' ในวันที่ '2025-01-13' ด้วยค่าในคอลัมน์ 'prediction_label'\n",
    "    data_compare.loc[str(date.date()), 'temperature'] = data_compare.loc[str(date.date()), 'prediction_label']\n",
    "\n",
    "    # ลบคอลัมน์ 'prediction_label' (หากต้องการแค่ผลทำนาย)\n",
    "    data_compare = data_compare.drop(columns=['prediction_label'])\n",
    "\n",
    "    # กรองเอาวันที่ซ้ำกัน (index ซ้ำ) ออกให้เหลือแค่ตัวเดียว\n",
    "    data_compare = data_compare[~data_compare.index.duplicated(keep='last')]\n",
    "\n",
    "    # บันทึกลง result\n",
    "    result = pd.concat([result, predict_test_1], axis=0)"
   ]
  },
  {
   "cell_type": "markdown",
   "metadata": {},
   "source": [
    "## Plot Graph TEMP"
   ]
  },
  {
   "cell_type": "code",
   "execution_count": 18,
   "metadata": {},
   "outputs": [],
   "source": [
    "#------------TEMP PREDICT VALUE--------------\n",
    "\n",
    "real_data = data_filtered.loc[start_date:end_date]\n",
    "# สมมุติว่า result คือ DataFrame ที่รวม predictions กับ pm_10\n",
    "result_plot_temp = pd.concat([result['prediction_label'].shift(-1), real_data['temperature']], axis=1)\n",
    "result_plot_temp.columns = ['Predictions', 'Actual TEMP']  # ตั้งชื่อคอลัมน์\n",
    "\n",
    "#---------------------------------------------\n"
   ]
  },
  {
   "cell_type": "markdown",
   "metadata": {},
   "source": [
    "# Predict HUMI model"
   ]
  },
  {
   "cell_type": "code",
   "execution_count": 19,
   "metadata": {},
   "outputs": [
    {
     "name": "stdout",
     "output_type": "stream",
     "text": [
      "Transformation Pipeline and Model Successfully Loaded\n"
     ]
    }
   ],
   "source": [
    "model_humi = load_model(\"../eng_psu_hatyai/main/humi_use_temp_model_2\")"
   ]
  },
  {
   "cell_type": "code",
   "execution_count": 20,
   "metadata": {},
   "outputs": [],
   "source": [
    "# อ่านไฟล์ CSV\n",
    "data_humi = data.copy()\n",
    "\n",
    "data_humi.drop(columns=['pm_2_5'], inplace=True)\n",
    "\n",
    "# ลบแถวล่าสุด (แถวสุดท้าย)\n",
    "data_humi = data_humi.drop(data_humi.index[-1])"
   ]
  },
  {
   "cell_type": "code",
   "execution_count": 21,
   "metadata": {},
   "outputs": [
    {
     "data": {
      "text/html": [
       "<div>\n",
       "<style scoped>\n",
       "    .dataframe tbody tr th:only-of-type {\n",
       "        vertical-align: middle;\n",
       "    }\n",
       "\n",
       "    .dataframe tbody tr th {\n",
       "        vertical-align: top;\n",
       "    }\n",
       "\n",
       "    .dataframe thead th {\n",
       "        text-align: right;\n",
       "    }\n",
       "</style>\n",
       "<table border=\"1\" class=\"dataframe\">\n",
       "  <thead>\n",
       "    <tr style=\"text-align: right;\">\n",
       "      <th></th>\n",
       "      <th>humidity</th>\n",
       "      <th>temperature</th>\n",
       "      <th>year</th>\n",
       "      <th>month</th>\n",
       "      <th>day</th>\n",
       "      <th>day_of_week</th>\n",
       "      <th>week_of_year</th>\n",
       "      <th>season</th>\n",
       "      <th>is_weekend</th>\n",
       "      <th>date</th>\n",
       "      <th>day_of_year</th>\n",
       "      <th>month_sin</th>\n",
       "      <th>month_cos</th>\n",
       "      <th>day_of_week_sin</th>\n",
       "      <th>day_of_week_cos</th>\n",
       "    </tr>\n",
       "  </thead>\n",
       "  <tbody>\n",
       "    <tr>\n",
       "      <th>2023-07-01 07:00:00</th>\n",
       "      <td>67.844074</td>\n",
       "      <td>31.131941</td>\n",
       "      <td>2023</td>\n",
       "      <td>7</td>\n",
       "      <td>1</td>\n",
       "      <td>5</td>\n",
       "      <td>26</td>\n",
       "      <td>1</td>\n",
       "      <td>1</td>\n",
       "      <td>2023-07-01</td>\n",
       "      <td>182</td>\n",
       "      <td>-0.500000</td>\n",
       "      <td>-0.866025</td>\n",
       "      <td>-0.974928</td>\n",
       "      <td>-0.222521</td>\n",
       "    </tr>\n",
       "    <tr>\n",
       "      <th>2023-07-02 07:00:00</th>\n",
       "      <td>68.552865</td>\n",
       "      <td>32.240924</td>\n",
       "      <td>2023</td>\n",
       "      <td>7</td>\n",
       "      <td>2</td>\n",
       "      <td>6</td>\n",
       "      <td>26</td>\n",
       "      <td>1</td>\n",
       "      <td>1</td>\n",
       "      <td>2023-07-02</td>\n",
       "      <td>183</td>\n",
       "      <td>-0.500000</td>\n",
       "      <td>-0.866025</td>\n",
       "      <td>-0.781831</td>\n",
       "      <td>0.623490</td>\n",
       "    </tr>\n",
       "    <tr>\n",
       "      <th>2023-07-03 07:00:00</th>\n",
       "      <td>63.142228</td>\n",
       "      <td>35.841610</td>\n",
       "      <td>2023</td>\n",
       "      <td>7</td>\n",
       "      <td>3</td>\n",
       "      <td>0</td>\n",
       "      <td>27</td>\n",
       "      <td>1</td>\n",
       "      <td>0</td>\n",
       "      <td>2023-07-03</td>\n",
       "      <td>184</td>\n",
       "      <td>-0.500000</td>\n",
       "      <td>-0.866025</td>\n",
       "      <td>0.000000</td>\n",
       "      <td>1.000000</td>\n",
       "    </tr>\n",
       "    <tr>\n",
       "      <th>2023-07-04 07:00:00</th>\n",
       "      <td>61.741030</td>\n",
       "      <td>36.269393</td>\n",
       "      <td>2023</td>\n",
       "      <td>7</td>\n",
       "      <td>4</td>\n",
       "      <td>1</td>\n",
       "      <td>27</td>\n",
       "      <td>1</td>\n",
       "      <td>0</td>\n",
       "      <td>2023-07-04</td>\n",
       "      <td>185</td>\n",
       "      <td>-0.500000</td>\n",
       "      <td>-0.866025</td>\n",
       "      <td>0.781831</td>\n",
       "      <td>0.623490</td>\n",
       "    </tr>\n",
       "    <tr>\n",
       "      <th>2023-07-05 07:00:00</th>\n",
       "      <td>62.085527</td>\n",
       "      <td>36.176134</td>\n",
       "      <td>2023</td>\n",
       "      <td>7</td>\n",
       "      <td>5</td>\n",
       "      <td>2</td>\n",
       "      <td>27</td>\n",
       "      <td>1</td>\n",
       "      <td>0</td>\n",
       "      <td>2023-07-05</td>\n",
       "      <td>186</td>\n",
       "      <td>-0.500000</td>\n",
       "      <td>-0.866025</td>\n",
       "      <td>0.974928</td>\n",
       "      <td>-0.222521</td>\n",
       "    </tr>\n",
       "    <tr>\n",
       "      <th>...</th>\n",
       "      <td>...</td>\n",
       "      <td>...</td>\n",
       "      <td>...</td>\n",
       "      <td>...</td>\n",
       "      <td>...</td>\n",
       "      <td>...</td>\n",
       "      <td>...</td>\n",
       "      <td>...</td>\n",
       "      <td>...</td>\n",
       "      <td>...</td>\n",
       "      <td>...</td>\n",
       "      <td>...</td>\n",
       "      <td>...</td>\n",
       "      <td>...</td>\n",
       "      <td>...</td>\n",
       "    </tr>\n",
       "    <tr>\n",
       "      <th>2025-04-07 07:00:00</th>\n",
       "      <td>NaN</td>\n",
       "      <td>NaN</td>\n",
       "      <td>2025</td>\n",
       "      <td>4</td>\n",
       "      <td>7</td>\n",
       "      <td>0</td>\n",
       "      <td>15</td>\n",
       "      <td>0</td>\n",
       "      <td>0</td>\n",
       "      <td>2025-04-07</td>\n",
       "      <td>97</td>\n",
       "      <td>0.866025</td>\n",
       "      <td>-0.500000</td>\n",
       "      <td>0.000000</td>\n",
       "      <td>1.000000</td>\n",
       "    </tr>\n",
       "    <tr>\n",
       "      <th>2025-04-08 07:00:00</th>\n",
       "      <td>NaN</td>\n",
       "      <td>NaN</td>\n",
       "      <td>2025</td>\n",
       "      <td>4</td>\n",
       "      <td>8</td>\n",
       "      <td>1</td>\n",
       "      <td>15</td>\n",
       "      <td>0</td>\n",
       "      <td>0</td>\n",
       "      <td>2025-04-08</td>\n",
       "      <td>98</td>\n",
       "      <td>0.866025</td>\n",
       "      <td>-0.500000</td>\n",
       "      <td>0.781831</td>\n",
       "      <td>0.623490</td>\n",
       "    </tr>\n",
       "    <tr>\n",
       "      <th>2025-04-09 07:00:00</th>\n",
       "      <td>NaN</td>\n",
       "      <td>NaN</td>\n",
       "      <td>2025</td>\n",
       "      <td>4</td>\n",
       "      <td>9</td>\n",
       "      <td>2</td>\n",
       "      <td>15</td>\n",
       "      <td>0</td>\n",
       "      <td>0</td>\n",
       "      <td>2025-04-09</td>\n",
       "      <td>99</td>\n",
       "      <td>0.866025</td>\n",
       "      <td>-0.500000</td>\n",
       "      <td>0.974928</td>\n",
       "      <td>-0.222521</td>\n",
       "    </tr>\n",
       "    <tr>\n",
       "      <th>2025-04-10 07:00:00</th>\n",
       "      <td>NaN</td>\n",
       "      <td>NaN</td>\n",
       "      <td>2025</td>\n",
       "      <td>4</td>\n",
       "      <td>10</td>\n",
       "      <td>3</td>\n",
       "      <td>15</td>\n",
       "      <td>0</td>\n",
       "      <td>0</td>\n",
       "      <td>2025-04-10</td>\n",
       "      <td>100</td>\n",
       "      <td>0.866025</td>\n",
       "      <td>-0.500000</td>\n",
       "      <td>0.433884</td>\n",
       "      <td>-0.900969</td>\n",
       "    </tr>\n",
       "    <tr>\n",
       "      <th>2025-04-11 07:00:00</th>\n",
       "      <td>NaN</td>\n",
       "      <td>NaN</td>\n",
       "      <td>2025</td>\n",
       "      <td>4</td>\n",
       "      <td>11</td>\n",
       "      <td>4</td>\n",
       "      <td>15</td>\n",
       "      <td>0</td>\n",
       "      <td>0</td>\n",
       "      <td>2025-04-11</td>\n",
       "      <td>101</td>\n",
       "      <td>0.866025</td>\n",
       "      <td>-0.500000</td>\n",
       "      <td>-0.433884</td>\n",
       "      <td>-0.900969</td>\n",
       "    </tr>\n",
       "  </tbody>\n",
       "</table>\n",
       "<p>651 rows × 15 columns</p>\n",
       "</div>"
      ],
      "text/plain": [
       "                      humidity  temperature  year  month  day  day_of_week  \\\n",
       "2023-07-01 07:00:00  67.844074    31.131941  2023      7    1            5   \n",
       "2023-07-02 07:00:00  68.552865    32.240924  2023      7    2            6   \n",
       "2023-07-03 07:00:00  63.142228    35.841610  2023      7    3            0   \n",
       "2023-07-04 07:00:00  61.741030    36.269393  2023      7    4            1   \n",
       "2023-07-05 07:00:00  62.085527    36.176134  2023      7    5            2   \n",
       "...                        ...          ...   ...    ...  ...          ...   \n",
       "2025-04-07 07:00:00        NaN          NaN  2025      4    7            0   \n",
       "2025-04-08 07:00:00        NaN          NaN  2025      4    8            1   \n",
       "2025-04-09 07:00:00        NaN          NaN  2025      4    9            2   \n",
       "2025-04-10 07:00:00        NaN          NaN  2025      4   10            3   \n",
       "2025-04-11 07:00:00        NaN          NaN  2025      4   11            4   \n",
       "\n",
       "                     week_of_year  season  is_weekend       date  day_of_year  \\\n",
       "2023-07-01 07:00:00            26       1           1 2023-07-01          182   \n",
       "2023-07-02 07:00:00            26       1           1 2023-07-02          183   \n",
       "2023-07-03 07:00:00            27       1           0 2023-07-03          184   \n",
       "2023-07-04 07:00:00            27       1           0 2023-07-04          185   \n",
       "2023-07-05 07:00:00            27       1           0 2023-07-05          186   \n",
       "...                           ...     ...         ...        ...          ...   \n",
       "2025-04-07 07:00:00            15       0           0 2025-04-07           97   \n",
       "2025-04-08 07:00:00            15       0           0 2025-04-08           98   \n",
       "2025-04-09 07:00:00            15       0           0 2025-04-09           99   \n",
       "2025-04-10 07:00:00            15       0           0 2025-04-10          100   \n",
       "2025-04-11 07:00:00            15       0           0 2025-04-11          101   \n",
       "\n",
       "                     month_sin  month_cos  day_of_week_sin  day_of_week_cos  \n",
       "2023-07-01 07:00:00  -0.500000  -0.866025        -0.974928        -0.222521  \n",
       "2023-07-02 07:00:00  -0.500000  -0.866025        -0.781831         0.623490  \n",
       "2023-07-03 07:00:00  -0.500000  -0.866025         0.000000         1.000000  \n",
       "2023-07-04 07:00:00  -0.500000  -0.866025         0.781831         0.623490  \n",
       "2023-07-05 07:00:00  -0.500000  -0.866025         0.974928        -0.222521  \n",
       "...                        ...        ...              ...              ...  \n",
       "2025-04-07 07:00:00   0.866025  -0.500000         0.000000         1.000000  \n",
       "2025-04-08 07:00:00   0.866025  -0.500000         0.781831         0.623490  \n",
       "2025-04-09 07:00:00   0.866025  -0.500000         0.974928        -0.222521  \n",
       "2025-04-10 07:00:00   0.866025  -0.500000         0.433884        -0.900969  \n",
       "2025-04-11 07:00:00   0.866025  -0.500000        -0.433884        -0.900969  \n",
       "\n",
       "[651 rows x 15 columns]"
      ]
     },
     "execution_count": 21,
     "metadata": {},
     "output_type": "execute_result"
    }
   ],
   "source": [
    "data_humi"
   ]
  },
  {
   "cell_type": "code",
   "execution_count": 22,
   "metadata": {},
   "outputs": [],
   "source": [
    "last_date_humi = data_humi.index[-1].strftime('%Y-%m-%d')"
   ]
  },
  {
   "cell_type": "code",
   "execution_count": 23,
   "metadata": {},
   "outputs": [],
   "source": [
    "# add temp predict column\n",
    "shifted_predictions_temp = result['prediction_label'].shift(-1).iloc[:-1]\n",
    "\n",
    "data_humi.loc[shifted_predictions_temp.index, 'temperature'] = shifted_predictions_temp\n"
   ]
  },
  {
   "cell_type": "code",
   "execution_count": 24,
   "metadata": {},
   "outputs": [],
   "source": [
    "lag_size = 7\n",
    "for i in range(1,lag_size+1):\n",
    "    data_humi[f'humidity_lag_{i}'] = data_humi['humidity'].shift(i)\n",
    "\n",
    "for i in range(1,lag_size+1):\n",
    "    data_humi[f'temperature_lag_{i}'] = data_humi['temperature'].shift(i)\n",
    "    "
   ]
  },
  {
   "cell_type": "code",
   "execution_count": 25,
   "metadata": {},
   "outputs": [],
   "source": [
    "data_filtered = data_humi.loc['2023-09':]  # ดึงข้อมูลตั้งแต่กันยายน 2023 เป็นต้นไป"
   ]
  },
  {
   "cell_type": "code",
   "execution_count": 26,
   "metadata": {},
   "outputs": [],
   "source": [
    "data_compare = data_filtered.loc[:'2025-01-12']\n",
    "result_humi = pd.DataFrame()\n",
    "\n",
    "start_date = \"2025-01-13\"\n",
    "end_date = last_date_humi\n",
    "\n",
    "model = model_humi\n",
    "\n",
    "for date in pd.date_range(start=start_date, end=end_date, freq=\"D\"):\n",
    "    # Drop columns\n",
    "    test_1 = data_filtered\n",
    "    # ดึงวันนี้มา\n",
    "    test_1 = test_1.loc[str(date.date())]\n",
    "\n",
    "    # ใส่เข้าไป\n",
    "    data_compare = pd.concat([data_compare, test_1], axis=0)\n",
    "\n",
    "    for i in range(1,lag_size+1):\n",
    "        data_compare[f'humidity_lag_{i}'] = data_compare['humidity'].shift(i)\n",
    "\n",
    "    # ดึง\n",
    "    test_1 = (data_compare.loc[str(date.date())]).drop(columns=['humidity'])\n",
    "    \n",
    "    # Drop ทิ้งล่าสุดใน data_compare\n",
    "    data_compare = data_compare.drop(data_compare.last_valid_index())\n",
    "    test_1 = test_1[~test_1.index.duplicated(keep='last')]\n",
    "\n",
    "    # Predict\n",
    "    predict_test_1 = predict_model(model, data=test_1)\n",
    "\n",
    "    # เพิ่มผลทำนายเข้าไปใน data_compare\n",
    "    data_compare = pd.concat([data_compare, predict_test_1], axis=0)\n",
    "\n",
    "    # แทนที่ค่าในคอลัมน์ 'pm_2_5' ในวันที่ '2025-01-13' ด้วยค่าในคอลัมน์ 'prediction_label'\n",
    "    data_compare.loc[str(date.date()), 'humidity'] = data_compare.loc[str(date.date()), 'prediction_label']\n",
    "\n",
    "    # ลบคอลัมน์ 'prediction_label' (หากต้องการแค่ผลทำนาย)\n",
    "    data_compare = data_compare.drop(columns=['prediction_label'])\n",
    "\n",
    "    # กรองเอาวันที่ซ้ำกัน (index ซ้ำ) ออกให้เหลือแค่ตัวเดียว\n",
    "    data_compare = data_compare[~data_compare.index.duplicated(keep='last')]\n",
    "\n",
    "    # บันทึกลง result_humi\n",
    "    result_humi = pd.concat([result_humi, predict_test_1], axis=0)\n",
    "    "
   ]
  },
  {
   "cell_type": "markdown",
   "metadata": {},
   "source": [
    "## Plot Graph HUMI"
   ]
  },
  {
   "cell_type": "code",
   "execution_count": 27,
   "metadata": {},
   "outputs": [],
   "source": [
    "#-----------PLOT GRAPH HUMI---------\n",
    "real_data = data_filtered.loc[start_date:end_date]\n",
    "# สมมุติว่า result คือ DataFrame ที่รวม predictions กับ pm_10\n",
    "result_plot_humi = pd.concat([result_humi['prediction_label'].shift(-1), real_data['humidity']], axis=1)\n",
    "result_plot_humi.columns = ['Predictions', 'Actual HUMI']  # ตั้งชื่อคอลัมน์\n",
    "#------------------------------------"
   ]
  },
  {
   "cell_type": "markdown",
   "metadata": {},
   "source": [
    "# Predict PM2.5"
   ]
  },
  {
   "cell_type": "code",
   "execution_count": 28,
   "metadata": {},
   "outputs": [
    {
     "name": "stdout",
     "output_type": "stream",
     "text": [
      "Transformation Pipeline and Model Successfully Loaded\n"
     ]
    }
   ],
   "source": [
    "model_pm_2_5 = load_model(\"../eng_psu_hatyai/main/dt_model_eng\")"
   ]
  },
  {
   "cell_type": "code",
   "execution_count": 29,
   "metadata": {},
   "outputs": [],
   "source": [
    "# อ่านไฟล์ CSV\n",
    "data_pm_2_5 = data.copy()\n",
    "\n",
    "# ลบ 2 แถวล่าสุด\n",
    "data_pm_2_5 = data_pm_2_5.drop(data_pm_2_5.index[-2:])"
   ]
  },
  {
   "cell_type": "code",
   "execution_count": 30,
   "metadata": {},
   "outputs": [],
   "source": [
    "\n",
    "last_date_pm_2_5 = data_pm_2_5.index[-1].strftime('%Y-%m-%d')\n"
   ]
  },
  {
   "cell_type": "code",
   "execution_count": 31,
   "metadata": {},
   "outputs": [],
   "source": [
    "\n",
    "# add humi predict column\n",
    "\n",
    "# เลื่อนค่าของ prediction_label ไปข้างหน้า 1 วัน และตัดค่าแถวสุดท้ายที่ไม่มีผล\n",
    "shifted_predictions = result_humi['prediction_label'].shift(-1).iloc[:-1]\n",
    "\n",
    "# สมมติว่า data_pm_2_5 และ shifted_predictions มีอยู่แล้ว\n",
    "# data_pm_2_5 เป็น DataFrame ที่มีคอลัมน์ 'humidity' และ index เป็น timestamp\n",
    "# shifted_predictions เป็น Series ที่มี index เป็น timestamp ในช่วงวันที่ 2025-01-13 ถึง 2025-02-10\n",
    "\n",
    "# แทนที่ค่าของคอลัมน์ 'humidity' ใน data_pm_2_5 ด้วยค่าจาก shifted_predictions ในวันที่ตรงกัน\n",
    "data_pm_2_5.loc[shifted_predictions.index, 'humidity'] = shifted_predictions\n"
   ]
  },
  {
   "cell_type": "code",
   "execution_count": 32,
   "metadata": {},
   "outputs": [],
   "source": [
    "\n",
    "# เลื่อนค่าของ prediction_label ไปข้างหน้า 1 วัน และตัดค่าแถวสุดท้ายที่ไม่มีผล\n",
    "shifted_predictions_temp = result['prediction_label'].shift(-1).iloc[:-1]\n",
    "\n",
    "# กรองข้อมูลที่มีวันที่น้อยกว่าหรือเท่ากับ last_day\n",
    "shifted_predictions_temp = shifted_predictions_temp[:last_date_pm_2_5]\n",
    "\n",
    "# แทนที่ค่าของคอลัมน์ 'temperature' ใน data_pm_2_5\n",
    "data_pm_2_5.loc[shifted_predictions_temp.index, 'temperature'] = shifted_predictions_temp\n"
   ]
  },
  {
   "cell_type": "code",
   "execution_count": 33,
   "metadata": {},
   "outputs": [],
   "source": [
    "data_pm_2_5['dew_point'] = data_pm_2_5['temperature'] - ((100 - data_pm_2_5['humidity']) / 5)\n",
    "# อัตราส่วนของอุณหภูมิต่อความชื้น\n",
    "data_pm_2_5[\"temp_humidity_ratio\"] = data_pm_2_5[\"temperature\"] / (data_pm_2_5[\"humidity\"] + 1)\n",
    "# ดัชนีความร้อน (Heat Index) หรืออุณหภูมิที่รับรู้\n",
    "T = data_pm_2_5[\"temperature\"]\n",
    "RH = data_pm_2_5[\"humidity\"]\n",
    "\n",
    "data_pm_2_5[\"heat_index\"] = -42.379 + (2.04901523 * T) + (10.14333127 * RH) - (0.22475541 * T * RH) - \\\n",
    "                   (0.00683783 * T**2) - (0.05481717 * RH**2) + (0.00122874 * T**2 * RH) + \\\n",
    "                   (0.00085282 * T * RH**2) - (0.00000199 * T**2 * RH**2)\n",
    "\n",
    "# ความชื้นสัมพัทธ์เชิงดัชนี\n",
    "data_pm_2_5[\"rh_index\"] = data_pm_2_5[\"humidity\"] ** 2 / (data_pm_2_5[\"temperature\"] + 1)\n"
   ]
  },
  {
   "cell_type": "code",
   "execution_count": 34,
   "metadata": {},
   "outputs": [],
   "source": [
    "# เพิ่มฟีเจอร์ day_of_year\n",
    "data_pm_2_5['date'] = pd.to_datetime(data_pm_2_5[['year', 'month', 'day']])\n",
    "data_pm_2_5['day_of_year'] = data_pm_2_5['date'].dt.dayofyear\n",
    "\n",
    "# เพิ่มฟีเจอร์ month_sin และ month_cos\n",
    "data_pm_2_5['month_sin'] = np.sin(2 * np.pi * data_pm_2_5['month'] / 12)\n",
    "data_pm_2_5['month_cos'] = np.cos(2 * np.pi * data_pm_2_5['month'] / 12)\n",
    "\n",
    "# เพิ่มฟีเจอร์ day_of_week_sin และ day_of_week_cos\n",
    "data_pm_2_5['day_of_week_sin'] = np.sin(2 * np.pi * data_pm_2_5['day_of_week'] / 7)\n",
    "data_pm_2_5['day_of_week_cos'] = np.cos(2 * np.pi * data_pm_2_5['day_of_week'] / 7)\n",
    "\n",
    "lag_size = 30\n",
    "for i in range(1,lag_size+1):\n",
    "    data_pm_2_5[f'pm_2_5_lag_{i}'] = data_pm_2_5['pm_2_5'].shift(i)\n",
    "\n",
    "data_pm_2_5['humidity_lag_1'] = data_pm_2_5['humidity'].shift(1)\n",
    "data_pm_2_5['humidity_lag_2'] = data_pm_2_5['humidity'].shift(2)\n",
    "data_pm_2_5['humidity_lag_3'] = data_pm_2_5['humidity'].shift(3)\n",
    "data_pm_2_5['humidity_lag_7'] = data_pm_2_5['humidity'].shift(7)\n",
    "\n",
    "data_pm_2_5['temperature_lag_1'] = data_pm_2_5['temperature'].shift(1)\n",
    "data_pm_2_5['temperature_lag_2'] = data_pm_2_5['temperature'].shift(2)\n",
    "data_pm_2_5['temperature_lag_3'] = data_pm_2_5['temperature'].shift(3)\n",
    "data_pm_2_5['temperature_lag_7'] = data_pm_2_5['temperature'].shift(7)\n"
   ]
  },
  {
   "cell_type": "code",
   "execution_count": 35,
   "metadata": {},
   "outputs": [],
   "source": [
    "data_filtered = data_pm_2_5.loc['2023-09':]  # ดึงข้อมูลตั้งแต่กันยายน 2023 เป็นต้นไป\n"
   ]
  },
  {
   "cell_type": "code",
   "execution_count": 36,
   "metadata": {},
   "outputs": [],
   "source": [
    "data_compare = data_filtered.loc[:'2025-01-12']\n",
    "result_pm_2_5 = pd.DataFrame()\n",
    "\n",
    "start_date = \"2025-01-13\"\n",
    "end_date = last_date_pm_2_5\n",
    "\n",
    "model = model_pm_2_5\n",
    "\n",
    "for date in pd.date_range(start=start_date, end=end_date, freq=\"D\"):\n",
    "    # Drop columns\n",
    "    test_1 = data_filtered\n",
    "    \n",
    "    # ดึงวันนี้มา\n",
    "    test_1 = test_1.loc[str(date.date())]\n",
    "\n",
    "    # ใส่เข้าไป\n",
    "    data_compare = pd.concat([data_compare, test_1], axis=0)\n",
    "\n",
    "    for i in range(1,lag_size+1):\n",
    "        data_compare[f'pm_2_5_lag_{i}'] = data_compare['pm_2_5'].shift(i)\n",
    "\n",
    "    # ดึง\n",
    "    test_1 = (data_compare.loc[str(date.date())]).drop(columns=['pm_2_5'])\n",
    "    \n",
    "    # Drop ทิ้งล่าสุดใน data_compare\n",
    "    data_compare = data_compare.drop(data_compare.last_valid_index())\n",
    "    test_1 = test_1[~test_1.index.duplicated(keep='last')]\n",
    "\n",
    "    # Predict\n",
    "    predict_test_1 = predict_model(model, data=test_1)\n",
    "\n",
    "    # เพิ่มผลทำนายเข้าไปใน data_compare\n",
    "    data_compare = pd.concat([data_compare, predict_test_1], axis=0)\n",
    "\n",
    "    # แทนที่ค่าในคอลัมน์ 'pm_2_5' ในวันที่ '2025-01-13' ด้วยค่าในคอลัมน์ 'prediction_label'\n",
    "    data_compare.loc[str(date.date()), 'pm_2_5'] = data_compare.loc[str(date.date()), 'prediction_label']\n",
    "\n",
    "    # ลบคอลัมน์ 'prediction_label' (หากต้องการแค่ผลทำนาย)\n",
    "    data_compare = data_compare.drop(columns=['prediction_label'])\n",
    "\n",
    "    # กรองเอาวันที่ซ้ำกัน (index ซ้ำ) ออกให้เหลือแค่ตัวเดียว\n",
    "    data_compare = data_compare[~data_compare.index.duplicated(keep='last')]\n",
    "\n",
    "    # บันทึกลง result_pm_2_5\n",
    "    result_pm_2_5 = pd.concat([result_pm_2_5, predict_test_1], axis=0)\n"
   ]
  },
  {
   "cell_type": "markdown",
   "metadata": {},
   "source": [
    "## Plot Graph PM2.5"
   ]
  },
  {
   "cell_type": "code",
   "execution_count": 37,
   "metadata": {},
   "outputs": [
    {
     "data": {
      "image/png": "[encoded data removed]",
      "text/plain": [
       "<Figure size 1000x600 with 1 Axes>"
      ]
     },
     "metadata": {},
     "output_type": "display_data"
    }
   ],
   "source": [
    "# คำนวณวัน\n",
    "from datetime import datetime, timedelta\n",
    "\n",
    "# แปลง str เป็น datetime\n",
    "date_str = \"2025-01-13\"\n",
    "date_obj = datetime.strptime(date_str, \"%Y-%m-%d\")\n",
    "\n",
    "# บวกวัน\n",
    "days_to_add = days - 1  # จำนวนวันที่ต้องการบวก\n",
    "new_date = date_obj + timedelta(days=days_to_add)\n",
    "\n",
    "# แสดงผลลัพธ์\n",
    "print(new_date.strftime(\"%Y-%m-%d\"))\n",
    "\n",
    "real_data = data_filtered.loc[start_date:end_date]\n",
    "# สมมุติว่า result คือ DataFrame ที่รวม predictions กับ pm_10\n",
    "result_plot_pm_2_5 = pd.concat(\n",
    "    [\n",
    "        (result_pm_2_5[\"prediction_label\"].shift(-1))[start_date:new_date],\n",
    "        real_data[\"pm_2_5\"],\n",
    "    ],\n",
    "    axis=1,\n",
    ")\n",
    "result_plot_pm_2_5.columns = [\"Predictions\", \"Actual PM2.5\"]"
   ]
  }
 ],
 "metadata": {
  "kernelspec": {
   "display_name": "pycaret_venv",
   "language": "python",
   "name": "python3"
  },
  "language_info": {
   "codemirror_mode": {
    "name": "ipython",
    "version": 3
   },
   "file_extension": ".py",
   "mimetype": "text/x-python",
   "name": "python",
   "nbconvert_exporter": "python",
   "pygments_lexer": "ipython3",
   "version": "3.11.9"
  }
 },
 "nbformat": 4,
 "nbformat_minor": 2
}

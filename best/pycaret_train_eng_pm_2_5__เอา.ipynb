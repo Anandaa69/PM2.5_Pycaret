{
 "cells": [
  {
   "cell_type": "code",
   "execution_count": 228,
   "metadata": {},
   "outputs": [],
   "source": [
    "import pycaret\n",
    "import pandas as pd"
   ]
  },
  {
   "cell_type": "code",
   "execution_count": 229,
   "metadata": {},
   "outputs": [],
   "source": [
    "# อ่านไฟล์ CSV\n",
    "data = pd.read_csv('../export_data/filtered_data_3_best.csv')"
   ]
  },
  {
   "cell_type": "code",
   "execution_count": 230,
   "metadata": {},
   "outputs": [],
   "source": [
    "# ตั้ง 'timestamp' เป็น index หากยังไม่ได้ทำ\n",
    "data['timestamp'] = pd.to_datetime(data['timestamp'])\n",
    "data.set_index('timestamp', inplace=True)\n",
    "\n",
    "# ตั้งค่า freq ให้กับ index\n",
    "data = data.asfreq('D')  # 'D' สำหรับรายวัน"
   ]
  },
  {
   "cell_type": "code",
   "execution_count": 231,
   "metadata": {},
   "outputs": [
    {
     "data": {
      "text/html": [
       "<div>\n",
       "<style scoped>\n",
       "    .dataframe tbody tr th:only-of-type {\n",
       "        vertical-align: middle;\n",
       "    }\n",
       "\n",
       "    .dataframe tbody tr th {\n",
       "        vertical-align: top;\n",
       "    }\n",
       "\n",
       "    .dataframe thead th {\n",
       "        text-align: right;\n",
       "    }\n",
       "</style>\n",
       "<table border=\"1\" class=\"dataframe\">\n",
       "  <thead>\n",
       "    <tr style=\"text-align: right;\">\n",
       "      <th></th>\n",
       "      <th>humidity</th>\n",
       "      <th>pm_10</th>\n",
       "      <th>pm_2_5</th>\n",
       "      <th>pm_2_5_sp</th>\n",
       "      <th>temperature</th>\n",
       "    </tr>\n",
       "    <tr>\n",
       "      <th>timestamp</th>\n",
       "      <th></th>\n",
       "      <th></th>\n",
       "      <th></th>\n",
       "      <th></th>\n",
       "      <th></th>\n",
       "    </tr>\n",
       "  </thead>\n",
       "  <tbody>\n",
       "    <tr>\n",
       "      <th>2025-02-07 07:00:00</th>\n",
       "      <td>70.933952</td>\n",
       "      <td>34.743259</td>\n",
       "      <td>29.321219</td>\n",
       "      <td>26.166471</td>\n",
       "      <td>28.271927</td>\n",
       "    </tr>\n",
       "    <tr>\n",
       "      <th>2025-02-08 07:00:00</th>\n",
       "      <td>69.348548</td>\n",
       "      <td>30.654249</td>\n",
       "      <td>26.000000</td>\n",
       "      <td>22.380675</td>\n",
       "      <td>28.385596</td>\n",
       "    </tr>\n",
       "    <tr>\n",
       "      <th>2025-02-09 07:00:00</th>\n",
       "      <td>69.916384</td>\n",
       "      <td>28.971065</td>\n",
       "      <td>24.616898</td>\n",
       "      <td>20.976852</td>\n",
       "      <td>28.373742</td>\n",
       "    </tr>\n",
       "    <tr>\n",
       "      <th>2025-02-10 07:00:00</th>\n",
       "      <td>71.226336</td>\n",
       "      <td>30.652667</td>\n",
       "      <td>25.856981</td>\n",
       "      <td>22.374574</td>\n",
       "      <td>28.251201</td>\n",
       "    </tr>\n",
       "    <tr>\n",
       "      <th>2025-02-11 07:00:00</th>\n",
       "      <td>68.159624</td>\n",
       "      <td>32.532955</td>\n",
       "      <td>27.522727</td>\n",
       "      <td>24.120455</td>\n",
       "      <td>28.693799</td>\n",
       "    </tr>\n",
       "  </tbody>\n",
       "</table>\n",
       "</div>"
      ],
      "text/plain": [
       "                      humidity      pm_10     pm_2_5  pm_2_5_sp  temperature\n",
       "timestamp                                                                   \n",
       "2025-02-07 07:00:00  70.933952  34.743259  29.321219  26.166471    28.271927\n",
       "2025-02-08 07:00:00  69.348548  30.654249  26.000000  22.380675    28.385596\n",
       "2025-02-09 07:00:00  69.916384  28.971065  24.616898  20.976852    28.373742\n",
       "2025-02-10 07:00:00  71.226336  30.652667  25.856981  22.374574    28.251201\n",
       "2025-02-11 07:00:00  68.159624  32.532955  27.522727  24.120455    28.693799"
      ]
     },
     "execution_count": 231,
     "metadata": {},
     "output_type": "execute_result"
    }
   ],
   "source": [
    "data.tail()"
   ]
  },
  {
   "cell_type": "code",
   "execution_count": 232,
   "metadata": {},
   "outputs": [
    {
     "name": "stdout",
     "output_type": "stream",
     "text": [
      "แถวที่มีค่าหายไปก่อนเติม:\n",
      "                     humidity  pm_10  pm_2_5  pm_2_5_sp  temperature\n",
      "timestamp                                                           \n",
      "2023-09-30 07:00:00       NaN    NaN     NaN        NaN          NaN\n",
      "ไม่มีค่าหายไปแล้ว\n"
     ]
    },
    {
     "data": {
      "text/plain": [
       "humidity       82.889367\n",
       "pm_10          60.525519\n",
       "pm_2_5         53.415241\n",
       "pm_2_5_sp      69.527667\n",
       "temperature    29.219760\n",
       "Name: 2023-09-30 07:00:00, dtype: float64"
      ]
     },
     "execution_count": 232,
     "metadata": {},
     "output_type": "execute_result"
    }
   ],
   "source": [
    "# แสดงแถวที่มีค่าหายไปก่อนเติม\n",
    "print(\"แถวที่มีค่าหายไปก่อนเติม:\")\n",
    "print(data[data.isnull().any(axis=1)])\n",
    "\n",
    "# เติมค่าที่หายไปด้วยการ interpolate แบบเส้นตรง\n",
    "data.interpolate(method='linear', inplace=True)\n",
    "\n",
    "# แสดงแถวที่ยังมีค่า NaN หลังจากเติม (ถ้ามี)\n",
    "missing_rows_after = data[data.isnull().any(axis=1)]\n",
    "if not missing_rows_after.empty:\n",
    "    print(\"แถวที่ยังมีค่าหายไปหลังเติม:\")\n",
    "    print(missing_rows_after)\n",
    "else:\n",
    "    print(\"ไม่มีค่าหายไปแล้ว\")\n",
    "\n",
    "\n",
    "row = data.loc[\"2023-09-30 07:00:00\"]\n",
    "row"
   ]
  },
  {
   "cell_type": "code",
   "execution_count": 233,
   "metadata": {},
   "outputs": [],
   "source": [
    "data = data[['pm_2_5', 'humidity', 'temperature']]"
   ]
  },
  {
   "cell_type": "code",
   "execution_count": 234,
   "metadata": {},
   "outputs": [],
   "source": [
    "data[\"year\"] = data.index.year\n",
    "data[\"month\"] = data.index.month\n",
    "data[\"day\"] = data.index.day\n",
    "data[\"day_of_week\"] = data.index.dayofweek  # 0 = Monday, 6 = Sunday\n",
    "data[\"week_of_year\"] = data.index.isocalendar().week  # ค่าจะเป็น int64"
   ]
  },
  {
   "cell_type": "code",
   "execution_count": 235,
   "metadata": {},
   "outputs": [],
   "source": [
    "# สมมติว่า data มี index เป็น datetime อยู่แล้ว\n",
    "def assign_season(month):\n",
    "    if month in [2, 3, 4]:  # ก.พ. - เม.ย.\n",
    "        return \"summer\"        # ฤดูร้อน\n",
    "    elif month in [5, 6, 7]:  # พ.ค. - ก.ค.\n",
    "        return \"early_rainy\"   # ต้นฤดูฝน\n",
    "    else:  # ส.ค. - ม.ค.\n",
    "        return \"late_rainy\"    # ปลายฤดูฝน\n",
    "\n",
    "season_mapping = {'summer': 0, 'early_rainy': 1, 'late_rainy': 2}\n",
    "data[\"season\"] = data.index.month.map(assign_season)\n",
    "data['season'] = data['season'].map(season_mapping)"
   ]
  },
  {
   "cell_type": "code",
   "execution_count": 236,
   "metadata": {},
   "outputs": [],
   "source": [
    "data['dew_point'] = data['temperature'] - ((100 - data['humidity']) / 5)"
   ]
  },
  {
   "cell_type": "code",
   "execution_count": 237,
   "metadata": {},
   "outputs": [],
   "source": [
    "data[\"is_weekend\"] = data.index.dayofweek.isin([5, 6]).astype(int)"
   ]
  },
  {
   "cell_type": "code",
   "execution_count": 238,
   "metadata": {},
   "outputs": [],
   "source": [
    "# อัตราส่วนของอุณหภูมิต่อความชื้น\n",
    "data[\"temp_humidity_ratio\"] = data[\"temperature\"] / (data[\"humidity\"] + 1)"
   ]
  },
  {
   "cell_type": "code",
   "execution_count": 239,
   "metadata": {},
   "outputs": [],
   "source": [
    "# ดัชนีความร้อน (Heat Index) หรืออุณหภูมิที่รับรู้\n",
    "T = data[\"temperature\"]\n",
    "RH = data[\"humidity\"]\n",
    "\n",
    "data[\"heat_index\"] = -42.379 + (2.04901523 * T) + (10.14333127 * RH) - (0.22475541 * T * RH) - \\\n",
    "                   (0.00683783 * T**2) - (0.05481717 * RH**2) + (0.00122874 * T**2 * RH) + \\\n",
    "                   (0.00085282 * T * RH**2) - (0.00000199 * T**2 * RH**2)"
   ]
  },
  {
   "cell_type": "code",
   "execution_count": 240,
   "metadata": {},
   "outputs": [],
   "source": [
    "# ความชื้นสัมพัทธ์เชิงดัชนี\n",
    "data[\"rh_index\"] = data[\"humidity\"] ** 2 / (data[\"temperature\"] + 1)"
   ]
  },
  {
   "cell_type": "code",
   "execution_count": null,
   "metadata": {},
   "outputs": [],
   "source": [
    "import pandas as pd\n",
    "import numpy as np\n",
    "\n",
    "# สมมุติว่ามี DataFrame data ที่มีข้อมูลอยู่แล้ว\n",
    "# เพิ่มฟีเจอร์ day_of_year\n",
    "data['date'] = pd.to_datetime(data[['year', 'month', 'day']])\n",
    "data['day_of_year'] = data['date'].dt.dayofyear\n",
    "\n",
    "# เพิ่มฟีเจอร์ month_sin และ month_cos\n",
    "data['month_sin'] = np.sin(2 * np.pi * data['month'] / 12)\n",
    "data['month_cos'] = np.cos(2 * np.pi * data['month'] / 12)\n",
    "\n",
    "# เพิ่มฟีเจอร์ day_of_week_sin และ day_of_week_cos\n",
    "data['day_of_week_sin'] = np.sin(2 * np.pi * data['day_of_week'] / 7)\n",
    "data['day_of_week_cos'] = np.cos(2 * np.pi * data['day_of_week'] / 7)\n",
    "\n",
    "# rolling_size = 1\n",
    "# for i in range(2,rolling_size+1):\n",
    "#     data[f'pm_2_5_rolling_{i}'] = data['pm_2_5'].rolling(window=i).mean().shift(1)\n",
    "\n",
    "lag_size = 30\n",
    "for i in range(1,lag_size+1):\n",
    "    data[f'pm_2_5_lag_{i}'] = data['pm_2_5'].shift(i)\n",
    "\n",
    "# data['humidity_rolling_2'] = data['humidity'].rolling(window=2).mean().shift(1)  # ค่าเฉลี่ย 2 วันของ PM 10\n",
    "# data['humidity_rolling_5'] = data['humidity'].rolling(window=5).mean().shift(1)  # ค่าเฉลี่ย 5 วันของ PM 10\n",
    "# data['humidity_rolling_7'] = data['humidity'].rolling(window=7).mean().shift(1)  # ค่าเฉลี่ย 7 วันของ PM 10\n",
    "\n",
    "data['humidity_lag_1'] = data['humidity'].shift(1)\n",
    "data['humidity_lag_2'] = data['humidity'].shift(2)\n",
    "data['humidity_lag_3'] = data['humidity'].shift(3)\n",
    "data['humidity_lag_7'] = data['humidity'].shift(7)\n",
    "\n",
    "# data['temperature_rolling_2'] = data['temperature'].rolling(window=2).mean().shift(1)  # ค่าเฉลี่ย 2 วันของ PM 10\n",
    "# data['temperature_rolling_5'] = data['temperature'].rolling(window=5).mean().shift(1)  # ค่าเฉลี่ย 5 วันของ PM 10\n",
    "# data['temperature_rolling_7'] = data['temperature'].rolling(window=7).mean().shift(1)  # ค่าเฉลี่ย 7 วันของ PM 10\n",
    "\n",
    "data['temperature_lag_1'] = data['temperature'].shift(1)\n",
    "data['temperature_lag_2'] = data['temperature'].shift(2)\n",
    "data['temperature_lag_3'] = data['temperature'].shift(3)\n",
    "data['temperature_lag_7'] = data['temperature'].shift(7)"
   ]
  },
  {
   "cell_type": "code",
   "execution_count": 242,
   "metadata": {},
   "outputs": [],
   "source": [
    "# data[\"temp_diff\"] = data[\"temperature\"].diff()\n",
    "# data[\"humidity_diff\"] = data[\"humidity\"].diff()"
   ]
  },
  {
   "cell_type": "code",
   "execution_count": 243,
   "metadata": {},
   "outputs": [
    {
     "data": {
      "text/plain": [
       "Index(['pm_2_5', 'humidity', 'temperature', 'year', 'month', 'day',\n",
       "       'day_of_week', 'week_of_year', 'season', 'dew_point', 'is_weekend',\n",
       "       'temp_humidity_ratio', 'heat_index', 'rh_index', 'date', 'day_of_year',\n",
       "       'month_sin', 'month_cos', 'day_of_week_sin', 'day_of_week_cos',\n",
       "       'pm_2_5_lag_1', 'pm_2_5_lag_2', 'pm_2_5_lag_3', 'pm_2_5_lag_4',\n",
       "       'pm_2_5_lag_5', 'pm_2_5_lag_6', 'pm_2_5_lag_7', 'pm_2_5_lag_8',\n",
       "       'pm_2_5_lag_9', 'pm_2_5_lag_10', 'pm_2_5_lag_11', 'pm_2_5_lag_12',\n",
       "       'pm_2_5_lag_13', 'pm_2_5_lag_14', 'pm_2_5_lag_15', 'pm_2_5_lag_16',\n",
       "       'pm_2_5_lag_17', 'pm_2_5_lag_18', 'pm_2_5_lag_19', 'pm_2_5_lag_20',\n",
       "       'pm_2_5_lag_21', 'pm_2_5_lag_22', 'pm_2_5_lag_23', 'pm_2_5_lag_24',\n",
       "       'pm_2_5_lag_25', 'pm_2_5_lag_26', 'pm_2_5_lag_27', 'pm_2_5_lag_28',\n",
       "       'pm_2_5_lag_29', 'pm_2_5_lag_30', 'humidity_lag_1', 'humidity_lag_2',\n",
       "       'humidity_lag_3', 'humidity_lag_7', 'temperature_lag_1',\n",
       "       'temperature_lag_2', 'temperature_lag_3', 'temperature_lag_7'],\n",
       "      dtype='object')"
      ]
     },
     "execution_count": 243,
     "metadata": {},
     "output_type": "execute_result"
    }
   ],
   "source": [
    "data.columns"
   ]
  },
  {
   "cell_type": "code",
   "execution_count": 244,
   "metadata": {},
   "outputs": [],
   "source": [
    "data_filtered = data.loc['2023-09':]  # ดึงข้อมูลตั้งแต่กันยายน 2023 เป็นต้นไป"
   ]
  },
  {
   "cell_type": "code",
   "execution_count": 245,
   "metadata": {},
   "outputs": [
    {
     "data": {
      "text/plain": [
       "<Axes: xlabel='timestamp'>"
      ]
     },
     "execution_count": 245,
     "metadata": {},
     "output_type": "execute_result"
    },
    {
     "data": {
      "image/png": "[encoded data removed]",
      "text/plain": [
       "<Figure size 800x550 with 1 Axes>"
      ]
     },
     "metadata": {},
     "output_type": "display_data"
    }
   ],
   "source": [
    "data_filtered.plot()"
   ]
  },
  {
   "cell_type": "code",
   "execution_count": 246,
   "metadata": {},
   "outputs": [
    {
     "data": {
      "text/plain": [
       "0.05660377358490566"
      ]
     },
     "execution_count": 246,
     "metadata": {},
     "output_type": "execute_result"
    }
   ],
   "source": [
    "# สมมติว่า data มีจำนวนวันทั้งหมด\n",
    "total_data = len(data_filtered)\n",
    "\n",
    "# จำนวนวันที่ต้องการเป็น test data\n",
    "test_days = 30\n",
    "\n",
    "# คำนวณสัดส่วนของ 30 วันในข้อมูลทั้งหมด\n",
    "test_size = test_days / total_data\n",
    "test_size"
   ]
  },
  {
   "cell_type": "code",
   "execution_count": 247,
   "metadata": {},
   "outputs": [],
   "source": [
    "from sklearn.model_selection import train_test_split\n",
    "train_data, test_data = train_test_split(data_filtered, test_size=test_size, shuffle=False)"
   ]
  },
  {
   "cell_type": "code",
   "execution_count": 248,
   "metadata": {},
   "outputs": [
    {
     "data": {
      "text/plain": [
       "(500, 58)"
      ]
     },
     "execution_count": 248,
     "metadata": {},
     "output_type": "execute_result"
    }
   ],
   "source": [
    "train_data.shape"
   ]
  },
  {
   "cell_type": "code",
   "execution_count": 249,
   "metadata": {},
   "outputs": [
    {
     "data": {
      "text/plain": [
       "(30, 58)"
      ]
     },
     "execution_count": 249,
     "metadata": {},
     "output_type": "execute_result"
    }
   ],
   "source": [
    "test_data.shape"
   ]
  },
  {
   "cell_type": "code",
   "execution_count": 250,
   "metadata": {},
   "outputs": [
    {
     "data": {
      "text/html": [
       "<div>\n",
       "<style scoped>\n",
       "    .dataframe tbody tr th:only-of-type {\n",
       "        vertical-align: middle;\n",
       "    }\n",
       "\n",
       "    .dataframe tbody tr th {\n",
       "        vertical-align: top;\n",
       "    }\n",
       "\n",
       "    .dataframe thead th {\n",
       "        text-align: right;\n",
       "    }\n",
       "</style>\n",
       "<table border=\"1\" class=\"dataframe\">\n",
       "  <thead>\n",
       "    <tr style=\"text-align: right;\">\n",
       "      <th></th>\n",
       "      <th>pm_2_5</th>\n",
       "      <th>humidity</th>\n",
       "      <th>temperature</th>\n",
       "      <th>year</th>\n",
       "      <th>month</th>\n",
       "      <th>day</th>\n",
       "      <th>day_of_week</th>\n",
       "      <th>week_of_year</th>\n",
       "      <th>season</th>\n",
       "      <th>dew_point</th>\n",
       "      <th>...</th>\n",
       "      <th>pm_2_5_lag_29</th>\n",
       "      <th>pm_2_5_lag_30</th>\n",
       "      <th>humidity_lag_1</th>\n",
       "      <th>humidity_lag_2</th>\n",
       "      <th>humidity_lag_3</th>\n",
       "      <th>humidity_lag_7</th>\n",
       "      <th>temperature_lag_1</th>\n",
       "      <th>temperature_lag_2</th>\n",
       "      <th>temperature_lag_3</th>\n",
       "      <th>temperature_lag_7</th>\n",
       "    </tr>\n",
       "    <tr>\n",
       "      <th>timestamp</th>\n",
       "      <th></th>\n",
       "      <th></th>\n",
       "      <th></th>\n",
       "      <th></th>\n",
       "      <th></th>\n",
       "      <th></th>\n",
       "      <th></th>\n",
       "      <th></th>\n",
       "      <th></th>\n",
       "      <th></th>\n",
       "      <th></th>\n",
       "      <th></th>\n",
       "      <th></th>\n",
       "      <th></th>\n",
       "      <th></th>\n",
       "      <th></th>\n",
       "      <th></th>\n",
       "      <th></th>\n",
       "      <th></th>\n",
       "      <th></th>\n",
       "      <th></th>\n",
       "    </tr>\n",
       "  </thead>\n",
       "  <tbody>\n",
       "    <tr>\n",
       "      <th>2025-01-13 07:00:00</th>\n",
       "      <td>42.594631</td>\n",
       "      <td>78.292202</td>\n",
       "      <td>25.997341</td>\n",
       "      <td>2025</td>\n",
       "      <td>1</td>\n",
       "      <td>13</td>\n",
       "      <td>0</td>\n",
       "      <td>3</td>\n",
       "      <td>2</td>\n",
       "      <td>21.655782</td>\n",
       "      <td>...</td>\n",
       "      <td>9.330097</td>\n",
       "      <td>16.010753</td>\n",
       "      <td>85.379806</td>\n",
       "      <td>73.568381</td>\n",
       "      <td>70.491487</td>\n",
       "      <td>72.844643</td>\n",
       "      <td>25.434972</td>\n",
       "      <td>28.357459</td>\n",
       "      <td>28.945704</td>\n",
       "      <td>28.825509</td>\n",
       "    </tr>\n",
       "  </tbody>\n",
       "</table>\n",
       "<p>1 rows × 58 columns</p>\n",
       "</div>"
      ],
      "text/plain": [
       "                        pm_2_5   humidity  temperature  year  month  day  \\\n",
       "timestamp                                                                  \n",
       "2025-01-13 07:00:00  42.594631  78.292202    25.997341  2025      1   13   \n",
       "\n",
       "                     day_of_week  week_of_year  season  dew_point  ...  \\\n",
       "timestamp                                                          ...   \n",
       "2025-01-13 07:00:00            0             3       2  21.655782  ...   \n",
       "\n",
       "                     pm_2_5_lag_29  pm_2_5_lag_30  humidity_lag_1  \\\n",
       "timestamp                                                           \n",
       "2025-01-13 07:00:00       9.330097      16.010753       85.379806   \n",
       "\n",
       "                     humidity_lag_2 humidity_lag_3  humidity_lag_7  \\\n",
       "timestamp                                                            \n",
       "2025-01-13 07:00:00       73.568381      70.491487       72.844643   \n",
       "\n",
       "                     temperature_lag_1  temperature_lag_2  temperature_lag_3  \\\n",
       "timestamp                                                                      \n",
       "2025-01-13 07:00:00          25.434972          28.357459          28.945704   \n",
       "\n",
       "                     temperature_lag_7  \n",
       "timestamp                               \n",
       "2025-01-13 07:00:00          28.825509  \n",
       "\n",
       "[1 rows x 58 columns]"
      ]
     },
     "execution_count": 250,
     "metadata": {},
     "output_type": "execute_result"
    }
   ],
   "source": [
    "test_data.head(1)"
   ]
  },
  {
   "cell_type": "code",
   "execution_count": 251,
   "metadata": {},
   "outputs": [
    {
     "data": {
      "text/html": [
       "<div>\n",
       "<style scoped>\n",
       "    .dataframe tbody tr th:only-of-type {\n",
       "        vertical-align: middle;\n",
       "    }\n",
       "\n",
       "    .dataframe tbody tr th {\n",
       "        vertical-align: top;\n",
       "    }\n",
       "\n",
       "    .dataframe thead th {\n",
       "        text-align: right;\n",
       "    }\n",
       "</style>\n",
       "<table border=\"1\" class=\"dataframe\">\n",
       "  <thead>\n",
       "    <tr style=\"text-align: right;\">\n",
       "      <th></th>\n",
       "      <th>pm_2_5</th>\n",
       "      <th>humidity</th>\n",
       "      <th>temperature</th>\n",
       "      <th>year</th>\n",
       "      <th>month</th>\n",
       "      <th>day</th>\n",
       "      <th>day_of_week</th>\n",
       "      <th>week_of_year</th>\n",
       "      <th>season</th>\n",
       "      <th>dew_point</th>\n",
       "      <th>...</th>\n",
       "      <th>pm_2_5_lag_29</th>\n",
       "      <th>pm_2_5_lag_30</th>\n",
       "      <th>humidity_lag_1</th>\n",
       "      <th>humidity_lag_2</th>\n",
       "      <th>humidity_lag_3</th>\n",
       "      <th>humidity_lag_7</th>\n",
       "      <th>temperature_lag_1</th>\n",
       "      <th>temperature_lag_2</th>\n",
       "      <th>temperature_lag_3</th>\n",
       "      <th>temperature_lag_7</th>\n",
       "    </tr>\n",
       "    <tr>\n",
       "      <th>timestamp</th>\n",
       "      <th></th>\n",
       "      <th></th>\n",
       "      <th></th>\n",
       "      <th></th>\n",
       "      <th></th>\n",
       "      <th></th>\n",
       "      <th></th>\n",
       "      <th></th>\n",
       "      <th></th>\n",
       "      <th></th>\n",
       "      <th></th>\n",
       "      <th></th>\n",
       "      <th></th>\n",
       "      <th></th>\n",
       "      <th></th>\n",
       "      <th></th>\n",
       "      <th></th>\n",
       "      <th></th>\n",
       "      <th></th>\n",
       "      <th></th>\n",
       "      <th></th>\n",
       "    </tr>\n",
       "  </thead>\n",
       "  <tbody>\n",
       "    <tr>\n",
       "      <th>2025-02-11 07:00:00</th>\n",
       "      <td>27.522727</td>\n",
       "      <td>68.159624</td>\n",
       "      <td>28.693799</td>\n",
       "      <td>2025</td>\n",
       "      <td>2</td>\n",
       "      <td>11</td>\n",
       "      <td>1</td>\n",
       "      <td>7</td>\n",
       "      <td>0</td>\n",
       "      <td>22.325724</td>\n",
       "      <td>...</td>\n",
       "      <td>42.594631</td>\n",
       "      <td>34.02521</td>\n",
       "      <td>71.226336</td>\n",
       "      <td>69.916384</td>\n",
       "      <td>69.348548</td>\n",
       "      <td>70.266522</td>\n",
       "      <td>28.251201</td>\n",
       "      <td>28.373742</td>\n",
       "      <td>28.385596</td>\n",
       "      <td>27.775432</td>\n",
       "    </tr>\n",
       "  </tbody>\n",
       "</table>\n",
       "<p>1 rows × 58 columns</p>\n",
       "</div>"
      ],
      "text/plain": [
       "                        pm_2_5   humidity  temperature  year  month  day  \\\n",
       "timestamp                                                                  \n",
       "2025-02-11 07:00:00  27.522727  68.159624    28.693799  2025      2   11   \n",
       "\n",
       "                     day_of_week  week_of_year  season  dew_point  ...  \\\n",
       "timestamp                                                          ...   \n",
       "2025-02-11 07:00:00            1             7       0  22.325724  ...   \n",
       "\n",
       "                     pm_2_5_lag_29  pm_2_5_lag_30  humidity_lag_1  \\\n",
       "timestamp                                                           \n",
       "2025-02-11 07:00:00      42.594631       34.02521       71.226336   \n",
       "\n",
       "                     humidity_lag_2 humidity_lag_3  humidity_lag_7  \\\n",
       "timestamp                                                            \n",
       "2025-02-11 07:00:00       69.916384      69.348548       70.266522   \n",
       "\n",
       "                     temperature_lag_1  temperature_lag_2  temperature_lag_3  \\\n",
       "timestamp                                                                      \n",
       "2025-02-11 07:00:00          28.251201          28.373742          28.385596   \n",
       "\n",
       "                     temperature_lag_7  \n",
       "timestamp                               \n",
       "2025-02-11 07:00:00          27.775432  \n",
       "\n",
       "[1 rows x 58 columns]"
      ]
     },
     "execution_count": 251,
     "metadata": {},
     "output_type": "execute_result"
    }
   ],
   "source": [
    "test_data.tail(1)"
   ]
  },
  {
   "cell_type": "code",
   "execution_count": 252,
   "metadata": {},
   "outputs": [
    {
     "data": {
      "text/html": [
       "<div>\n",
       "<style scoped>\n",
       "    .dataframe tbody tr th:only-of-type {\n",
       "        vertical-align: middle;\n",
       "    }\n",
       "\n",
       "    .dataframe tbody tr th {\n",
       "        vertical-align: top;\n",
       "    }\n",
       "\n",
       "    .dataframe thead th {\n",
       "        text-align: right;\n",
       "    }\n",
       "</style>\n",
       "<table border=\"1\" class=\"dataframe\">\n",
       "  <thead>\n",
       "    <tr style=\"text-align: right;\">\n",
       "      <th></th>\n",
       "      <th>pm_2_5</th>\n",
       "      <th>humidity</th>\n",
       "      <th>temperature</th>\n",
       "      <th>year</th>\n",
       "      <th>month</th>\n",
       "      <th>day</th>\n",
       "      <th>day_of_week</th>\n",
       "      <th>week_of_year</th>\n",
       "      <th>season</th>\n",
       "      <th>dew_point</th>\n",
       "      <th>...</th>\n",
       "      <th>pm_2_5_lag_29</th>\n",
       "      <th>pm_2_5_lag_30</th>\n",
       "      <th>humidity_lag_1</th>\n",
       "      <th>humidity_lag_2</th>\n",
       "      <th>humidity_lag_3</th>\n",
       "      <th>humidity_lag_7</th>\n",
       "      <th>temperature_lag_1</th>\n",
       "      <th>temperature_lag_2</th>\n",
       "      <th>temperature_lag_3</th>\n",
       "      <th>temperature_lag_7</th>\n",
       "    </tr>\n",
       "    <tr>\n",
       "      <th>timestamp</th>\n",
       "      <th></th>\n",
       "      <th></th>\n",
       "      <th></th>\n",
       "      <th></th>\n",
       "      <th></th>\n",
       "      <th></th>\n",
       "      <th></th>\n",
       "      <th></th>\n",
       "      <th></th>\n",
       "      <th></th>\n",
       "      <th></th>\n",
       "      <th></th>\n",
       "      <th></th>\n",
       "      <th></th>\n",
       "      <th></th>\n",
       "      <th></th>\n",
       "      <th></th>\n",
       "      <th></th>\n",
       "      <th></th>\n",
       "      <th></th>\n",
       "      <th></th>\n",
       "    </tr>\n",
       "  </thead>\n",
       "  <tbody>\n",
       "    <tr>\n",
       "      <th>2025-02-07 07:00:00</th>\n",
       "      <td>29.321219</td>\n",
       "      <td>70.933952</td>\n",
       "      <td>28.271927</td>\n",
       "      <td>2025</td>\n",
       "      <td>2</td>\n",
       "      <td>7</td>\n",
       "      <td>4</td>\n",
       "      <td>6</td>\n",
       "      <td>0</td>\n",
       "      <td>22.458717</td>\n",
       "      <td>...</td>\n",
       "      <td>33.810780</td>\n",
       "      <td>35.536756</td>\n",
       "      <td>69.511783</td>\n",
       "      <td>71.500943</td>\n",
       "      <td>70.266522</td>\n",
       "      <td>68.520368</td>\n",
       "      <td>28.579177</td>\n",
       "      <td>28.327450</td>\n",
       "      <td>27.775432</td>\n",
       "      <td>27.336718</td>\n",
       "    </tr>\n",
       "    <tr>\n",
       "      <th>2025-02-08 07:00:00</th>\n",
       "      <td>26.000000</td>\n",
       "      <td>69.348548</td>\n",
       "      <td>28.385596</td>\n",
       "      <td>2025</td>\n",
       "      <td>2</td>\n",
       "      <td>8</td>\n",
       "      <td>5</td>\n",
       "      <td>6</td>\n",
       "      <td>0</td>\n",
       "      <td>22.255305</td>\n",
       "      <td>...</td>\n",
       "      <td>37.291228</td>\n",
       "      <td>33.810780</td>\n",
       "      <td>70.933952</td>\n",
       "      <td>69.511783</td>\n",
       "      <td>71.500943</td>\n",
       "      <td>69.231031</td>\n",
       "      <td>28.271927</td>\n",
       "      <td>28.579177</td>\n",
       "      <td>28.327450</td>\n",
       "      <td>27.315410</td>\n",
       "    </tr>\n",
       "    <tr>\n",
       "      <th>2025-02-09 07:00:00</th>\n",
       "      <td>24.616898</td>\n",
       "      <td>69.916384</td>\n",
       "      <td>28.373742</td>\n",
       "      <td>2025</td>\n",
       "      <td>2</td>\n",
       "      <td>9</td>\n",
       "      <td>6</td>\n",
       "      <td>6</td>\n",
       "      <td>0</td>\n",
       "      <td>22.357019</td>\n",
       "      <td>...</td>\n",
       "      <td>40.511737</td>\n",
       "      <td>37.291228</td>\n",
       "      <td>69.348548</td>\n",
       "      <td>70.933952</td>\n",
       "      <td>69.511783</td>\n",
       "      <td>70.341639</td>\n",
       "      <td>28.385596</td>\n",
       "      <td>28.271927</td>\n",
       "      <td>28.579177</td>\n",
       "      <td>27.683890</td>\n",
       "    </tr>\n",
       "    <tr>\n",
       "      <th>2025-02-10 07:00:00</th>\n",
       "      <td>25.856981</td>\n",
       "      <td>71.226336</td>\n",
       "      <td>28.251201</td>\n",
       "      <td>2025</td>\n",
       "      <td>2</td>\n",
       "      <td>10</td>\n",
       "      <td>0</td>\n",
       "      <td>7</td>\n",
       "      <td>0</td>\n",
       "      <td>22.496468</td>\n",
       "      <td>...</td>\n",
       "      <td>34.025210</td>\n",
       "      <td>40.511737</td>\n",
       "      <td>69.916384</td>\n",
       "      <td>69.348548</td>\n",
       "      <td>70.933952</td>\n",
       "      <td>65.114261</td>\n",
       "      <td>28.373742</td>\n",
       "      <td>28.385596</td>\n",
       "      <td>28.271927</td>\n",
       "      <td>28.644544</td>\n",
       "    </tr>\n",
       "    <tr>\n",
       "      <th>2025-02-11 07:00:00</th>\n",
       "      <td>27.522727</td>\n",
       "      <td>68.159624</td>\n",
       "      <td>28.693799</td>\n",
       "      <td>2025</td>\n",
       "      <td>2</td>\n",
       "      <td>11</td>\n",
       "      <td>1</td>\n",
       "      <td>7</td>\n",
       "      <td>0</td>\n",
       "      <td>22.325724</td>\n",
       "      <td>...</td>\n",
       "      <td>42.594631</td>\n",
       "      <td>34.025210</td>\n",
       "      <td>71.226336</td>\n",
       "      <td>69.916384</td>\n",
       "      <td>69.348548</td>\n",
       "      <td>70.266522</td>\n",
       "      <td>28.251201</td>\n",
       "      <td>28.373742</td>\n",
       "      <td>28.385596</td>\n",
       "      <td>27.775432</td>\n",
       "    </tr>\n",
       "  </tbody>\n",
       "</table>\n",
       "<p>5 rows × 58 columns</p>\n",
       "</div>"
      ],
      "text/plain": [
       "                        pm_2_5   humidity  temperature  year  month  day  \\\n",
       "timestamp                                                                  \n",
       "2025-02-07 07:00:00  29.321219  70.933952    28.271927  2025      2    7   \n",
       "2025-02-08 07:00:00  26.000000  69.348548    28.385596  2025      2    8   \n",
       "2025-02-09 07:00:00  24.616898  69.916384    28.373742  2025      2    9   \n",
       "2025-02-10 07:00:00  25.856981  71.226336    28.251201  2025      2   10   \n",
       "2025-02-11 07:00:00  27.522727  68.159624    28.693799  2025      2   11   \n",
       "\n",
       "                     day_of_week  week_of_year  season  dew_point  ...  \\\n",
       "timestamp                                                          ...   \n",
       "2025-02-07 07:00:00            4             6       0  22.458717  ...   \n",
       "2025-02-08 07:00:00            5             6       0  22.255305  ...   \n",
       "2025-02-09 07:00:00            6             6       0  22.357019  ...   \n",
       "2025-02-10 07:00:00            0             7       0  22.496468  ...   \n",
       "2025-02-11 07:00:00            1             7       0  22.325724  ...   \n",
       "\n",
       "                     pm_2_5_lag_29  pm_2_5_lag_30  humidity_lag_1  \\\n",
       "timestamp                                                           \n",
       "2025-02-07 07:00:00      33.810780      35.536756       69.511783   \n",
       "2025-02-08 07:00:00      37.291228      33.810780       70.933952   \n",
       "2025-02-09 07:00:00      40.511737      37.291228       69.348548   \n",
       "2025-02-10 07:00:00      34.025210      40.511737       69.916384   \n",
       "2025-02-11 07:00:00      42.594631      34.025210       71.226336   \n",
       "\n",
       "                     humidity_lag_2 humidity_lag_3  humidity_lag_7  \\\n",
       "timestamp                                                            \n",
       "2025-02-07 07:00:00       71.500943      70.266522       68.520368   \n",
       "2025-02-08 07:00:00       69.511783      71.500943       69.231031   \n",
       "2025-02-09 07:00:00       70.933952      69.511783       70.341639   \n",
       "2025-02-10 07:00:00       69.348548      70.933952       65.114261   \n",
       "2025-02-11 07:00:00       69.916384      69.348548       70.266522   \n",
       "\n",
       "                     temperature_lag_1  temperature_lag_2  temperature_lag_3  \\\n",
       "timestamp                                                                      \n",
       "2025-02-07 07:00:00          28.579177          28.327450          27.775432   \n",
       "2025-02-08 07:00:00          28.271927          28.579177          28.327450   \n",
       "2025-02-09 07:00:00          28.385596          28.271927          28.579177   \n",
       "2025-02-10 07:00:00          28.373742          28.385596          28.271927   \n",
       "2025-02-11 07:00:00          28.251201          28.373742          28.385596   \n",
       "\n",
       "                     temperature_lag_7  \n",
       "timestamp                               \n",
       "2025-02-07 07:00:00          27.336718  \n",
       "2025-02-08 07:00:00          27.315410  \n",
       "2025-02-09 07:00:00          27.683890  \n",
       "2025-02-10 07:00:00          28.644544  \n",
       "2025-02-11 07:00:00          27.775432  \n",
       "\n",
       "[5 rows x 58 columns]"
      ]
     },
     "execution_count": 252,
     "metadata": {},
     "output_type": "execute_result"
    }
   ],
   "source": [
    "test_data.tail()"
   ]
  },
  {
   "cell_type": "code",
   "execution_count": 253,
   "metadata": {},
   "outputs": [
    {
     "data": {
      "text/plain": [
       "Index(['pm_2_5', 'humidity', 'temperature', 'year', 'month', 'day',\n",
       "       'day_of_week', 'week_of_year', 'season', 'dew_point', 'is_weekend',\n",
       "       'temp_humidity_ratio', 'heat_index', 'rh_index', 'date', 'day_of_year',\n",
       "       'month_sin', 'month_cos', 'day_of_week_sin', 'day_of_week_cos',\n",
       "       'pm_2_5_lag_1', 'pm_2_5_lag_2', 'pm_2_5_lag_3', 'pm_2_5_lag_4',\n",
       "       'pm_2_5_lag_5', 'pm_2_5_lag_6', 'pm_2_5_lag_7', 'pm_2_5_lag_8',\n",
       "       'pm_2_5_lag_9', 'pm_2_5_lag_10', 'pm_2_5_lag_11', 'pm_2_5_lag_12',\n",
       "       'pm_2_5_lag_13', 'pm_2_5_lag_14', 'pm_2_5_lag_15', 'pm_2_5_lag_16',\n",
       "       'pm_2_5_lag_17', 'pm_2_5_lag_18', 'pm_2_5_lag_19', 'pm_2_5_lag_20',\n",
       "       'pm_2_5_lag_21', 'pm_2_5_lag_22', 'pm_2_5_lag_23', 'pm_2_5_lag_24',\n",
       "       'pm_2_5_lag_25', 'pm_2_5_lag_26', 'pm_2_5_lag_27', 'pm_2_5_lag_28',\n",
       "       'pm_2_5_lag_29', 'pm_2_5_lag_30', 'humidity_lag_1', 'humidity_lag_2',\n",
       "       'humidity_lag_3', 'humidity_lag_7', 'temperature_lag_1',\n",
       "       'temperature_lag_2', 'temperature_lag_3', 'temperature_lag_7'],\n",
       "      dtype='object')"
      ]
     },
     "execution_count": 253,
     "metadata": {},
     "output_type": "execute_result"
    }
   ],
   "source": [
    "test_data.columns"
   ]
  },
  {
   "cell_type": "code",
   "execution_count": 254,
   "metadata": {},
   "outputs": [],
   "source": [
    "# train_data.dropna()"
   ]
  },
  {
   "cell_type": "code",
   "execution_count": 255,
   "metadata": {},
   "outputs": [
    {
     "data": {
      "text/html": [
       "<style type=\"text/css\">\n",
       "#T_58ef9_row9_col1, #T_58ef9_row13_col1 {\n",
       "  background-color: lightgreen;\n",
       "}\n",
       "</style>\n",
       "<table id=\"T_58ef9\">\n",
       "  <thead>\n",
       "    <tr>\n",
       "      <th class=\"blank level0\" >&nbsp;</th>\n",
       "      <th id=\"T_58ef9_level0_col0\" class=\"col_heading level0 col0\" >Description</th>\n",
       "      <th id=\"T_58ef9_level0_col1\" class=\"col_heading level0 col1\" >Value</th>\n",
       "    </tr>\n",
       "  </thead>\n",
       "  <tbody>\n",
       "    <tr>\n",
       "      <th id=\"T_58ef9_level0_row0\" class=\"row_heading level0 row0\" >0</th>\n",
       "      <td id=\"T_58ef9_row0_col0\" class=\"data row0 col0\" >Session id</td>\n",
       "      <td id=\"T_58ef9_row0_col1\" class=\"data row0 col1\" >123</td>\n",
       "    </tr>\n",
       "    <tr>\n",
       "      <th id=\"T_58ef9_level0_row1\" class=\"row_heading level0 row1\" >1</th>\n",
       "      <td id=\"T_58ef9_row1_col0\" class=\"data row1 col0\" >Target</td>\n",
       "      <td id=\"T_58ef9_row1_col1\" class=\"data row1 col1\" >pm_2_5</td>\n",
       "    </tr>\n",
       "    <tr>\n",
       "      <th id=\"T_58ef9_level0_row2\" class=\"row_heading level0 row2\" >2</th>\n",
       "      <td id=\"T_58ef9_row2_col0\" class=\"data row2 col0\" >Target type</td>\n",
       "      <td id=\"T_58ef9_row2_col1\" class=\"data row2 col1\" >Regression</td>\n",
       "    </tr>\n",
       "    <tr>\n",
       "      <th id=\"T_58ef9_level0_row3\" class=\"row_heading level0 row3\" >3</th>\n",
       "      <td id=\"T_58ef9_row3_col0\" class=\"data row3 col0\" >Original data shape</td>\n",
       "      <td id=\"T_58ef9_row3_col1\" class=\"data row3 col1\" >(500, 58)</td>\n",
       "    </tr>\n",
       "    <tr>\n",
       "      <th id=\"T_58ef9_level0_row4\" class=\"row_heading level0 row4\" >4</th>\n",
       "      <td id=\"T_58ef9_row4_col0\" class=\"data row4 col0\" >Transformed data shape</td>\n",
       "      <td id=\"T_58ef9_row4_col1\" class=\"data row4 col1\" >(482, 60)</td>\n",
       "    </tr>\n",
       "    <tr>\n",
       "      <th id=\"T_58ef9_level0_row5\" class=\"row_heading level0 row5\" >5</th>\n",
       "      <td id=\"T_58ef9_row5_col0\" class=\"data row5 col0\" >Transformed train set shape</td>\n",
       "      <td id=\"T_58ef9_row5_col1\" class=\"data row5 col1\" >(332, 60)</td>\n",
       "    </tr>\n",
       "    <tr>\n",
       "      <th id=\"T_58ef9_level0_row6\" class=\"row_heading level0 row6\" >6</th>\n",
       "      <td id=\"T_58ef9_row6_col0\" class=\"data row6 col0\" >Transformed test set shape</td>\n",
       "      <td id=\"T_58ef9_row6_col1\" class=\"data row6 col1\" >(150, 60)</td>\n",
       "    </tr>\n",
       "    <tr>\n",
       "      <th id=\"T_58ef9_level0_row7\" class=\"row_heading level0 row7\" >7</th>\n",
       "      <td id=\"T_58ef9_row7_col0\" class=\"data row7 col0\" >Numeric features</td>\n",
       "      <td id=\"T_58ef9_row7_col1\" class=\"data row7 col1\" >56</td>\n",
       "    </tr>\n",
       "    <tr>\n",
       "      <th id=\"T_58ef9_level0_row8\" class=\"row_heading level0 row8\" >8</th>\n",
       "      <td id=\"T_58ef9_row8_col0\" class=\"data row8 col0\" >Date features</td>\n",
       "      <td id=\"T_58ef9_row8_col1\" class=\"data row8 col1\" >1</td>\n",
       "    </tr>\n",
       "    <tr>\n",
       "      <th id=\"T_58ef9_level0_row9\" class=\"row_heading level0 row9\" >9</th>\n",
       "      <td id=\"T_58ef9_row9_col0\" class=\"data row9 col0\" >Preprocess</td>\n",
       "      <td id=\"T_58ef9_row9_col1\" class=\"data row9 col1\" >True</td>\n",
       "    </tr>\n",
       "    <tr>\n",
       "      <th id=\"T_58ef9_level0_row10\" class=\"row_heading level0 row10\" >10</th>\n",
       "      <td id=\"T_58ef9_row10_col0\" class=\"data row10 col0\" >Imputation type</td>\n",
       "      <td id=\"T_58ef9_row10_col1\" class=\"data row10 col1\" >simple</td>\n",
       "    </tr>\n",
       "    <tr>\n",
       "      <th id=\"T_58ef9_level0_row11\" class=\"row_heading level0 row11\" >11</th>\n",
       "      <td id=\"T_58ef9_row11_col0\" class=\"data row11 col0\" >Numeric imputation</td>\n",
       "      <td id=\"T_58ef9_row11_col1\" class=\"data row11 col1\" >mean</td>\n",
       "    </tr>\n",
       "    <tr>\n",
       "      <th id=\"T_58ef9_level0_row12\" class=\"row_heading level0 row12\" >12</th>\n",
       "      <td id=\"T_58ef9_row12_col0\" class=\"data row12 col0\" >Categorical imputation</td>\n",
       "      <td id=\"T_58ef9_row12_col1\" class=\"data row12 col1\" >mode</td>\n",
       "    </tr>\n",
       "    <tr>\n",
       "      <th id=\"T_58ef9_level0_row13\" class=\"row_heading level0 row13\" >13</th>\n",
       "      <td id=\"T_58ef9_row13_col0\" class=\"data row13 col0\" >Remove outliers</td>\n",
       "      <td id=\"T_58ef9_row13_col1\" class=\"data row13 col1\" >True</td>\n",
       "    </tr>\n",
       "    <tr>\n",
       "      <th id=\"T_58ef9_level0_row14\" class=\"row_heading level0 row14\" >14</th>\n",
       "      <td id=\"T_58ef9_row14_col0\" class=\"data row14 col0\" >Outliers threshold</td>\n",
       "      <td id=\"T_58ef9_row14_col1\" class=\"data row14 col1\" >0.050000</td>\n",
       "    </tr>\n",
       "    <tr>\n",
       "      <th id=\"T_58ef9_level0_row15\" class=\"row_heading level0 row15\" >15</th>\n",
       "      <td id=\"T_58ef9_row15_col0\" class=\"data row15 col0\" >Fold Generator</td>\n",
       "      <td id=\"T_58ef9_row15_col1\" class=\"data row15 col1\" >KFold</td>\n",
       "    </tr>\n",
       "    <tr>\n",
       "      <th id=\"T_58ef9_level0_row16\" class=\"row_heading level0 row16\" >16</th>\n",
       "      <td id=\"T_58ef9_row16_col0\" class=\"data row16 col0\" >Fold Number</td>\n",
       "      <td id=\"T_58ef9_row16_col1\" class=\"data row16 col1\" >12</td>\n",
       "    </tr>\n",
       "    <tr>\n",
       "      <th id=\"T_58ef9_level0_row17\" class=\"row_heading level0 row17\" >17</th>\n",
       "      <td id=\"T_58ef9_row17_col0\" class=\"data row17 col0\" >CPU Jobs</td>\n",
       "      <td id=\"T_58ef9_row17_col1\" class=\"data row17 col1\" >-1</td>\n",
       "    </tr>\n",
       "    <tr>\n",
       "      <th id=\"T_58ef9_level0_row18\" class=\"row_heading level0 row18\" >18</th>\n",
       "      <td id=\"T_58ef9_row18_col0\" class=\"data row18 col0\" >Use GPU</td>\n",
       "      <td id=\"T_58ef9_row18_col1\" class=\"data row18 col1\" >False</td>\n",
       "    </tr>\n",
       "    <tr>\n",
       "      <th id=\"T_58ef9_level0_row19\" class=\"row_heading level0 row19\" >19</th>\n",
       "      <td id=\"T_58ef9_row19_col0\" class=\"data row19 col0\" >Log Experiment</td>\n",
       "      <td id=\"T_58ef9_row19_col1\" class=\"data row19 col1\" >False</td>\n",
       "    </tr>\n",
       "    <tr>\n",
       "      <th id=\"T_58ef9_level0_row20\" class=\"row_heading level0 row20\" >20</th>\n",
       "      <td id=\"T_58ef9_row20_col0\" class=\"data row20 col0\" >Experiment Name</td>\n",
       "      <td id=\"T_58ef9_row20_col1\" class=\"data row20 col1\" >reg-default-name</td>\n",
       "    </tr>\n",
       "    <tr>\n",
       "      <th id=\"T_58ef9_level0_row21\" class=\"row_heading level0 row21\" >21</th>\n",
       "      <td id=\"T_58ef9_row21_col0\" class=\"data row21 col0\" >USI</td>\n",
       "      <td id=\"T_58ef9_row21_col1\" class=\"data row21 col1\" >186b</td>\n",
       "    </tr>\n",
       "  </tbody>\n",
       "</table>\n"
      ],
      "text/plain": [
       "<pandas.io.formats.style.Styler at 0x1ca47a27110>"
      ]
     },
     "metadata": {},
     "output_type": "display_data"
    },
    {
     "data": {
      "text/plain": [
       "<pycaret.regression.oop.RegressionExperiment at 0x1ca4a933e50>"
      ]
     },
     "execution_count": 255,
     "metadata": {},
     "output_type": "execute_result"
    }
   ],
   "source": [
    "# from pycaret.time_series import *\n",
    "from pycaret.regression import RegressionExperiment\n",
    "exp1 = RegressionExperiment()\n",
    "exp1.setup(data=train_data, target='pm_2_5', session_id=123, fold=12, iterative_imputation_iters=100, remove_outliers = True)\n",
    "# iterative_imputation_iters=100, remove_outliers = True"
   ]
  },
  {
   "cell_type": "code",
   "execution_count": 256,
   "metadata": {},
   "outputs": [
    {
     "data": {
      "text/html": [],
      "text/plain": [
       "<IPython.core.display.HTML object>"
      ]
     },
     "metadata": {},
     "output_type": "display_data"
    },
    {
     "data": {
      "text/html": [
       "<style type=\"text/css\">\n",
       "#T_28645 th {\n",
       "  text-align: left;\n",
       "}\n",
       "#T_28645_row0_col0, #T_28645_row0_col6, #T_28645_row1_col0, #T_28645_row1_col1, #T_28645_row1_col2, #T_28645_row1_col3, #T_28645_row1_col4, #T_28645_row1_col5, #T_28645_row1_col6, #T_28645_row2_col0, #T_28645_row2_col1, #T_28645_row2_col2, #T_28645_row2_col3, #T_28645_row2_col4, #T_28645_row2_col5, #T_28645_row2_col6, #T_28645_row3_col0, #T_28645_row3_col1, #T_28645_row3_col2, #T_28645_row3_col3, #T_28645_row3_col4, #T_28645_row3_col5, #T_28645_row3_col6, #T_28645_row4_col0, #T_28645_row4_col1, #T_28645_row4_col2, #T_28645_row4_col3, #T_28645_row4_col4, #T_28645_row4_col5, #T_28645_row4_col6, #T_28645_row5_col0, #T_28645_row5_col1, #T_28645_row5_col2, #T_28645_row5_col3, #T_28645_row5_col4, #T_28645_row5_col5, #T_28645_row5_col6, #T_28645_row6_col0, #T_28645_row6_col1, #T_28645_row6_col2, #T_28645_row6_col3, #T_28645_row6_col4, #T_28645_row6_col5, #T_28645_row6_col6, #T_28645_row7_col0, #T_28645_row7_col1, #T_28645_row7_col2, #T_28645_row7_col3, #T_28645_row7_col4, #T_28645_row7_col5, #T_28645_row8_col0, #T_28645_row8_col1, #T_28645_row8_col2, #T_28645_row8_col3, #T_28645_row8_col4, #T_28645_row8_col5, #T_28645_row8_col6, #T_28645_row9_col0, #T_28645_row9_col1, #T_28645_row9_col2, #T_28645_row9_col3, #T_28645_row9_col4, #T_28645_row9_col5, #T_28645_row9_col6, #T_28645_row10_col0, #T_28645_row10_col1, #T_28645_row10_col2, #T_28645_row10_col3, #T_28645_row10_col4, #T_28645_row10_col5, #T_28645_row10_col6, #T_28645_row11_col0, #T_28645_row11_col1, #T_28645_row11_col2, #T_28645_row11_col3, #T_28645_row11_col4, #T_28645_row11_col5, #T_28645_row11_col6, #T_28645_row12_col0, #T_28645_row12_col1, #T_28645_row12_col2, #T_28645_row12_col3, #T_28645_row12_col4, #T_28645_row12_col5, #T_28645_row12_col6, #T_28645_row13_col0, #T_28645_row13_col1, #T_28645_row13_col2, #T_28645_row13_col3, #T_28645_row13_col4, #T_28645_row13_col5, #T_28645_row13_col6, #T_28645_row14_col0, #T_28645_row14_col1, #T_28645_row14_col2, #T_28645_row14_col3, #T_28645_row14_col4, #T_28645_row14_col5, #T_28645_row14_col6, #T_28645_row15_col0, #T_28645_row15_col1, #T_28645_row15_col2, #T_28645_row15_col3, #T_28645_row15_col4, #T_28645_row15_col5, #T_28645_row15_col6, #T_28645_row16_col0, #T_28645_row16_col1, #T_28645_row16_col2, #T_28645_row16_col3, #T_28645_row16_col4, #T_28645_row16_col5, #T_28645_row16_col6, #T_28645_row17_col0, #T_28645_row17_col1, #T_28645_row17_col2, #T_28645_row17_col3, #T_28645_row17_col4, #T_28645_row17_col5, #T_28645_row17_col6 {\n",
       "  text-align: left;\n",
       "}\n",
       "#T_28645_row0_col1, #T_28645_row0_col2, #T_28645_row0_col3, #T_28645_row0_col4, #T_28645_row0_col5, #T_28645_row7_col6 {\n",
       "  text-align: left;\n",
       "  background-color: yellow;\n",
       "}\n",
       "#T_28645_row0_col7, #T_28645_row1_col7, #T_28645_row2_col7, #T_28645_row3_col7, #T_28645_row4_col7, #T_28645_row6_col7, #T_28645_row7_col7, #T_28645_row8_col7, #T_28645_row9_col7, #T_28645_row10_col7, #T_28645_row11_col7, #T_28645_row12_col7, #T_28645_row13_col7, #T_28645_row14_col7, #T_28645_row15_col7, #T_28645_row16_col7, #T_28645_row17_col7 {\n",
       "  text-align: left;\n",
       "  background-color: lightgrey;\n",
       "}\n",
       "#T_28645_row5_col7 {\n",
       "  text-align: left;\n",
       "  background-color: yellow;\n",
       "  background-color: lightgrey;\n",
       "}\n",
       "</style>\n",
       "<table id=\"T_28645\">\n",
       "  <thead>\n",
       "    <tr>\n",
       "      <th class=\"blank level0\" >&nbsp;</th>\n",
       "      <th id=\"T_28645_level0_col0\" class=\"col_heading level0 col0\" >Model</th>\n",
       "      <th id=\"T_28645_level0_col1\" class=\"col_heading level0 col1\" >MAE</th>\n",
       "      <th id=\"T_28645_level0_col2\" class=\"col_heading level0 col2\" >MSE</th>\n",
       "      <th id=\"T_28645_level0_col3\" class=\"col_heading level0 col3\" >RMSE</th>\n",
       "      <th id=\"T_28645_level0_col4\" class=\"col_heading level0 col4\" >R2</th>\n",
       "      <th id=\"T_28645_level0_col5\" class=\"col_heading level0 col5\" >RMSLE</th>\n",
       "      <th id=\"T_28645_level0_col6\" class=\"col_heading level0 col6\" >MAPE</th>\n",
       "      <th id=\"T_28645_level0_col7\" class=\"col_heading level0 col7\" >TT (Sec)</th>\n",
       "    </tr>\n",
       "  </thead>\n",
       "  <tbody>\n",
       "    <tr>\n",
       "      <th id=\"T_28645_level0_row0\" class=\"row_heading level0 row0\" >omp</th>\n",
       "      <td id=\"T_28645_row0_col0\" class=\"data row0 col0\" >Orthogonal Matching Pursuit</td>\n",
       "      <td id=\"T_28645_row0_col1\" class=\"data row0 col1\" >5.1032</td>\n",
       "      <td id=\"T_28645_row0_col2\" class=\"data row0 col2\" >45.0624</td>\n",
       "      <td id=\"T_28645_row0_col3\" class=\"data row0 col3\" >6.5731</td>\n",
       "      <td id=\"T_28645_row0_col4\" class=\"data row0 col4\" >0.5125</td>\n",
       "      <td id=\"T_28645_row0_col5\" class=\"data row0 col5\" >0.3462</td>\n",
       "      <td id=\"T_28645_row0_col6\" class=\"data row0 col6\" >0.3263</td>\n",
       "      <td id=\"T_28645_row0_col7\" class=\"data row0 col7\" >0.0775</td>\n",
       "    </tr>\n",
       "    <tr>\n",
       "      <th id=\"T_28645_level0_row1\" class=\"row_heading level0 row1\" >ada</th>\n",
       "      <td id=\"T_28645_row1_col0\" class=\"data row1 col0\" >AdaBoost Regressor</td>\n",
       "      <td id=\"T_28645_row1_col1\" class=\"data row1 col1\" >5.3761</td>\n",
       "      <td id=\"T_28645_row1_col2\" class=\"data row1 col2\" >47.2899</td>\n",
       "      <td id=\"T_28645_row1_col3\" class=\"data row1 col3\" >6.7359</td>\n",
       "      <td id=\"T_28645_row1_col4\" class=\"data row1 col4\" >0.4982</td>\n",
       "      <td id=\"T_28645_row1_col5\" class=\"data row1 col5\" >0.3662</td>\n",
       "      <td id=\"T_28645_row1_col6\" class=\"data row1 col6\" >0.3666</td>\n",
       "      <td id=\"T_28645_row1_col7\" class=\"data row1 col7\" >0.1342</td>\n",
       "    </tr>\n",
       "    <tr>\n",
       "      <th id=\"T_28645_level0_row2\" class=\"row_heading level0 row2\" >et</th>\n",
       "      <td id=\"T_28645_row2_col0\" class=\"data row2 col0\" >Extra Trees Regressor</td>\n",
       "      <td id=\"T_28645_row2_col1\" class=\"data row2 col1\" >5.3166</td>\n",
       "      <td id=\"T_28645_row2_col2\" class=\"data row2 col2\" >47.0982</td>\n",
       "      <td id=\"T_28645_row2_col3\" class=\"data row2 col3\" >6.7073</td>\n",
       "      <td id=\"T_28645_row2_col4\" class=\"data row2 col4\" >0.4947</td>\n",
       "      <td id=\"T_28645_row2_col5\" class=\"data row2 col5\" >0.3558</td>\n",
       "      <td id=\"T_28645_row2_col6\" class=\"data row2 col6\" >0.3473</td>\n",
       "      <td id=\"T_28645_row2_col7\" class=\"data row2 col7\" >0.1950</td>\n",
       "    </tr>\n",
       "    <tr>\n",
       "      <th id=\"T_28645_level0_row3\" class=\"row_heading level0 row3\" >br</th>\n",
       "      <td id=\"T_28645_row3_col0\" class=\"data row3 col0\" >Bayesian Ridge</td>\n",
       "      <td id=\"T_28645_row3_col1\" class=\"data row3 col1\" >5.2175</td>\n",
       "      <td id=\"T_28645_row3_col2\" class=\"data row3 col2\" >46.0613</td>\n",
       "      <td id=\"T_28645_row3_col3\" class=\"data row3 col3\" >6.6755</td>\n",
       "      <td id=\"T_28645_row3_col4\" class=\"data row3 col4\" >0.4940</td>\n",
       "      <td id=\"T_28645_row3_col5\" class=\"data row3 col5\" >0.3555</td>\n",
       "      <td id=\"T_28645_row3_col6\" class=\"data row3 col6\" >0.3339</td>\n",
       "      <td id=\"T_28645_row3_col7\" class=\"data row3 col7\" >0.0750</td>\n",
       "    </tr>\n",
       "    <tr>\n",
       "      <th id=\"T_28645_level0_row4\" class=\"row_heading level0 row4\" >llar</th>\n",
       "      <td id=\"T_28645_row4_col0\" class=\"data row4 col0\" >Lasso Least Angle Regression</td>\n",
       "      <td id=\"T_28645_row4_col1\" class=\"data row4 col1\" >5.1859</td>\n",
       "      <td id=\"T_28645_row4_col2\" class=\"data row4 col2\" >46.1156</td>\n",
       "      <td id=\"T_28645_row4_col3\" class=\"data row4 col3\" >6.6666</td>\n",
       "      <td id=\"T_28645_row4_col4\" class=\"data row4 col4\" >0.4932</td>\n",
       "      <td id=\"T_28645_row4_col5\" class=\"data row4 col5\" >0.3515</td>\n",
       "      <td id=\"T_28645_row4_col6\" class=\"data row4 col6\" >0.3304</td>\n",
       "      <td id=\"T_28645_row4_col7\" class=\"data row4 col7\" >0.0842</td>\n",
       "    </tr>\n",
       "    <tr>\n",
       "      <th id=\"T_28645_level0_row5\" class=\"row_heading level0 row5\" >lasso</th>\n",
       "      <td id=\"T_28645_row5_col0\" class=\"data row5 col0\" >Lasso Regression</td>\n",
       "      <td id=\"T_28645_row5_col1\" class=\"data row5 col1\" >5.1918</td>\n",
       "      <td id=\"T_28645_row5_col2\" class=\"data row5 col2\" >46.1861</td>\n",
       "      <td id=\"T_28645_row5_col3\" class=\"data row5 col3\" >6.6718</td>\n",
       "      <td id=\"T_28645_row5_col4\" class=\"data row5 col4\" >0.4921</td>\n",
       "      <td id=\"T_28645_row5_col5\" class=\"data row5 col5\" >0.3530</td>\n",
       "      <td id=\"T_28645_row5_col6\" class=\"data row5 col6\" >0.3311</td>\n",
       "      <td id=\"T_28645_row5_col7\" class=\"data row5 col7\" >0.0725</td>\n",
       "    </tr>\n",
       "    <tr>\n",
       "      <th id=\"T_28645_level0_row6\" class=\"row_heading level0 row6\" >lightgbm</th>\n",
       "      <td id=\"T_28645_row6_col0\" class=\"data row6 col0\" >Light Gradient Boosting Machine</td>\n",
       "      <td id=\"T_28645_row6_col1\" class=\"data row6 col1\" >5.3497</td>\n",
       "      <td id=\"T_28645_row6_col2\" class=\"data row6 col2\" >47.4178</td>\n",
       "      <td id=\"T_28645_row6_col3\" class=\"data row6 col3\" >6.7619</td>\n",
       "      <td id=\"T_28645_row6_col4\" class=\"data row6 col4\" >0.4918</td>\n",
       "      <td id=\"T_28645_row6_col5\" class=\"data row6 col5\" >0.3641</td>\n",
       "      <td id=\"T_28645_row6_col6\" class=\"data row6 col6\" >0.3464</td>\n",
       "      <td id=\"T_28645_row6_col7\" class=\"data row6 col7\" >0.2025</td>\n",
       "    </tr>\n",
       "    <tr>\n",
       "      <th id=\"T_28645_level0_row7\" class=\"row_heading level0 row7\" >huber</th>\n",
       "      <td id=\"T_28645_row7_col0\" class=\"data row7 col0\" >Huber Regressor</td>\n",
       "      <td id=\"T_28645_row7_col1\" class=\"data row7 col1\" >5.2434</td>\n",
       "      <td id=\"T_28645_row7_col2\" class=\"data row7 col2\" >46.7648</td>\n",
       "      <td id=\"T_28645_row7_col3\" class=\"data row7 col3\" >6.7077</td>\n",
       "      <td id=\"T_28645_row7_col4\" class=\"data row7 col4\" >0.4917</td>\n",
       "      <td id=\"T_28645_row7_col5\" class=\"data row7 col5\" >0.3537</td>\n",
       "      <td id=\"T_28645_row7_col6\" class=\"data row7 col6\" >0.3187</td>\n",
       "      <td id=\"T_28645_row7_col7\" class=\"data row7 col7\" >0.0833</td>\n",
       "    </tr>\n",
       "    <tr>\n",
       "      <th id=\"T_28645_level0_row8\" class=\"row_heading level0 row8\" >gbr</th>\n",
       "      <td id=\"T_28645_row8_col0\" class=\"data row8 col0\" >Gradient Boosting Regressor</td>\n",
       "      <td id=\"T_28645_row8_col1\" class=\"data row8 col1\" >5.3472</td>\n",
       "      <td id=\"T_28645_row8_col2\" class=\"data row8 col2\" >47.0763</td>\n",
       "      <td id=\"T_28645_row8_col3\" class=\"data row8 col3\" >6.7685</td>\n",
       "      <td id=\"T_28645_row8_col4\" class=\"data row8 col4\" >0.4838</td>\n",
       "      <td id=\"T_28645_row8_col5\" class=\"data row8 col5\" >0.3586</td>\n",
       "      <td id=\"T_28645_row8_col6\" class=\"data row8 col6\" >0.3450</td>\n",
       "      <td id=\"T_28645_row8_col7\" class=\"data row8 col7\" >0.2267</td>\n",
       "    </tr>\n",
       "    <tr>\n",
       "      <th id=\"T_28645_level0_row9\" class=\"row_heading level0 row9\" >en</th>\n",
       "      <td id=\"T_28645_row9_col0\" class=\"data row9 col0\" >Elastic Net</td>\n",
       "      <td id=\"T_28645_row9_col1\" class=\"data row9 col1\" >5.2183</td>\n",
       "      <td id=\"T_28645_row9_col2\" class=\"data row9 col2\" >46.6786</td>\n",
       "      <td id=\"T_28645_row9_col3\" class=\"data row9 col3\" >6.7185</td>\n",
       "      <td id=\"T_28645_row9_col4\" class=\"data row9 col4\" >0.4830</td>\n",
       "      <td id=\"T_28645_row9_col5\" class=\"data row9 col5\" >0.3578</td>\n",
       "      <td id=\"T_28645_row9_col6\" class=\"data row9 col6\" >0.3323</td>\n",
       "      <td id=\"T_28645_row9_col7\" class=\"data row9 col7\" >0.0733</td>\n",
       "    </tr>\n",
       "    <tr>\n",
       "      <th id=\"T_28645_level0_row10\" class=\"row_heading level0 row10\" >rf</th>\n",
       "      <td id=\"T_28645_row10_col0\" class=\"data row10 col0\" >Random Forest Regressor</td>\n",
       "      <td id=\"T_28645_row10_col1\" class=\"data row10 col1\" >5.4602</td>\n",
       "      <td id=\"T_28645_row10_col2\" class=\"data row10 col2\" >48.7533</td>\n",
       "      <td id=\"T_28645_row10_col3\" class=\"data row10 col3\" >6.8538</td>\n",
       "      <td id=\"T_28645_row10_col4\" class=\"data row10 col4\" >0.4757</td>\n",
       "      <td id=\"T_28645_row10_col5\" class=\"data row10 col5\" >0.3572</td>\n",
       "      <td id=\"T_28645_row10_col6\" class=\"data row10 col6\" >0.3521</td>\n",
       "      <td id=\"T_28645_row10_col7\" class=\"data row10 col7\" >0.3000</td>\n",
       "    </tr>\n",
       "    <tr>\n",
       "      <th id=\"T_28645_level0_row11\" class=\"row_heading level0 row11\" >ridge</th>\n",
       "      <td id=\"T_28645_row11_col0\" class=\"data row11 col0\" >Ridge Regression</td>\n",
       "      <td id=\"T_28645_row11_col1\" class=\"data row11 col1\" >5.5320</td>\n",
       "      <td id=\"T_28645_row11_col2\" class=\"data row11 col2\" >51.4311</td>\n",
       "      <td id=\"T_28645_row11_col3\" class=\"data row11 col3\" >7.0898</td>\n",
       "      <td id=\"T_28645_row11_col4\" class=\"data row11 col4\" >0.4258</td>\n",
       "      <td id=\"T_28645_row11_col5\" class=\"data row11 col5\" >0.3816</td>\n",
       "      <td id=\"T_28645_row11_col6\" class=\"data row11 col6\" >0.3499</td>\n",
       "      <td id=\"T_28645_row11_col7\" class=\"data row11 col7\" >0.0842</td>\n",
       "    </tr>\n",
       "    <tr>\n",
       "      <th id=\"T_28645_level0_row12\" class=\"row_heading level0 row12\" >lr</th>\n",
       "      <td id=\"T_28645_row12_col0\" class=\"data row12 col0\" >Linear Regression</td>\n",
       "      <td id=\"T_28645_row12_col1\" class=\"data row12 col1\" >5.6034</td>\n",
       "      <td id=\"T_28645_row12_col2\" class=\"data row12 col2\" >52.3436</td>\n",
       "      <td id=\"T_28645_row12_col3\" class=\"data row12 col3\" >7.1489</td>\n",
       "      <td id=\"T_28645_row12_col4\" class=\"data row12 col4\" >0.4153</td>\n",
       "      <td id=\"T_28645_row12_col5\" class=\"data row12 col5\" >0.3863</td>\n",
       "      <td id=\"T_28645_row12_col6\" class=\"data row12 col6\" >0.3510</td>\n",
       "      <td id=\"T_28645_row12_col7\" class=\"data row12 col7\" >3.5250</td>\n",
       "    </tr>\n",
       "    <tr>\n",
       "      <th id=\"T_28645_level0_row13\" class=\"row_heading level0 row13\" >knn</th>\n",
       "      <td id=\"T_28645_row13_col0\" class=\"data row13 col0\" >K Neighbors Regressor</td>\n",
       "      <td id=\"T_28645_row13_col1\" class=\"data row13 col1\" >5.7558</td>\n",
       "      <td id=\"T_28645_row13_col2\" class=\"data row13 col2\" >56.2505</td>\n",
       "      <td id=\"T_28645_row13_col3\" class=\"data row13 col3\" >7.3937</td>\n",
       "      <td id=\"T_28645_row13_col4\" class=\"data row13 col4\" >0.3899</td>\n",
       "      <td id=\"T_28645_row13_col5\" class=\"data row13 col5\" >0.3822</td>\n",
       "      <td id=\"T_28645_row13_col6\" class=\"data row13 col6\" >0.3675</td>\n",
       "      <td id=\"T_28645_row13_col7\" class=\"data row13 col7\" >0.0875</td>\n",
       "    </tr>\n",
       "    <tr>\n",
       "      <th id=\"T_28645_level0_row14\" class=\"row_heading level0 row14\" >dummy</th>\n",
       "      <td id=\"T_28645_row14_col0\" class=\"data row14 col0\" >Dummy Regressor</td>\n",
       "      <td id=\"T_28645_row14_col1\" class=\"data row14 col1\" >7.8684</td>\n",
       "      <td id=\"T_28645_row14_col2\" class=\"data row14 col2\" >99.9385</td>\n",
       "      <td id=\"T_28645_row14_col3\" class=\"data row14 col3\" >9.8577</td>\n",
       "      <td id=\"T_28645_row14_col4\" class=\"data row14 col4\" >-0.0482</td>\n",
       "      <td id=\"T_28645_row14_col5\" class=\"data row14 col5\" >0.5004</td>\n",
       "      <td id=\"T_28645_row14_col6\" class=\"data row14 col6\" >0.5557</td>\n",
       "      <td id=\"T_28645_row14_col7\" class=\"data row14 col7\" >0.0850</td>\n",
       "    </tr>\n",
       "    <tr>\n",
       "      <th id=\"T_28645_level0_row15\" class=\"row_heading level0 row15\" >dt</th>\n",
       "      <td id=\"T_28645_row15_col0\" class=\"data row15 col0\" >Decision Tree Regressor</td>\n",
       "      <td id=\"T_28645_row15_col1\" class=\"data row15 col1\" >7.5547</td>\n",
       "      <td id=\"T_28645_row15_col2\" class=\"data row15 col2\" >97.4513</td>\n",
       "      <td id=\"T_28645_row15_col3\" class=\"data row15 col3\" >9.7383</td>\n",
       "      <td id=\"T_28645_row15_col4\" class=\"data row15 col4\" >-0.0875</td>\n",
       "      <td id=\"T_28645_row15_col5\" class=\"data row15 col5\" >0.5029</td>\n",
       "      <td id=\"T_28645_row15_col6\" class=\"data row15 col6\" >0.4508</td>\n",
       "      <td id=\"T_28645_row15_col7\" class=\"data row15 col7\" >0.0742</td>\n",
       "    </tr>\n",
       "    <tr>\n",
       "      <th id=\"T_28645_level0_row16\" class=\"row_heading level0 row16\" >par</th>\n",
       "      <td id=\"T_28645_row16_col0\" class=\"data row16 col0\" >Passive Aggressive Regressor</td>\n",
       "      <td id=\"T_28645_row16_col1\" class=\"data row16 col1\" >9.1932</td>\n",
       "      <td id=\"T_28645_row16_col2\" class=\"data row16 col2\" >137.3853</td>\n",
       "      <td id=\"T_28645_row16_col3\" class=\"data row16 col3\" >11.3392</td>\n",
       "      <td id=\"T_28645_row16_col4\" class=\"data row16 col4\" >-0.5385</td>\n",
       "      <td id=\"T_28645_row16_col5\" class=\"data row16 col5\" >0.5974</td>\n",
       "      <td id=\"T_28645_row16_col6\" class=\"data row16 col6\" >0.5426</td>\n",
       "      <td id=\"T_28645_row16_col7\" class=\"data row16 col7\" >0.0775</td>\n",
       "    </tr>\n",
       "    <tr>\n",
       "      <th id=\"T_28645_level0_row17\" class=\"row_heading level0 row17\" >lar</th>\n",
       "      <td id=\"T_28645_row17_col0\" class=\"data row17 col0\" >Least Angle Regression</td>\n",
       "      <td id=\"T_28645_row17_col1\" class=\"data row17 col1\" >3504862718617260.0000</td>\n",
       "      <td id=\"T_28645_row17_col2\" class=\"data row17 col2\" >174439795188846363834311851900928.0000</td>\n",
       "      <td id=\"T_28645_row17_col3\" class=\"data row17 col3\" >4374869947733845.5000</td>\n",
       "      <td id=\"T_28645_row17_col4\" class=\"data row17 col4\" >-1713252248223880929105420484608.0000</td>\n",
       "      <td id=\"T_28645_row17_col5\" class=\"data row17 col5\" >21.5789</td>\n",
       "      <td id=\"T_28645_row17_col6\" class=\"data row17 col6\" >195557718007918.7500</td>\n",
       "      <td id=\"T_28645_row17_col7\" class=\"data row17 col7\" >0.0958</td>\n",
       "    </tr>\n",
       "  </tbody>\n",
       "</table>\n"
      ],
      "text/plain": [
       "<pandas.io.formats.style.Styler at 0x1ca4aa0a7d0>"
      ]
     },
     "metadata": {},
     "output_type": "display_data"
    },
    {
     "data": {
      "text/html": [],
      "text/plain": [
       "<IPython.core.display.HTML object>"
      ]
     },
     "metadata": {},
     "output_type": "display_data"
    }
   ],
   "source": [
    "# compare baseline models\n",
    "best = exp1.compare_models(n_select=15)"
   ]
  },
  {
   "cell_type": "code",
   "execution_count": 257,
   "metadata": {},
   "outputs": [
    {
     "ename": "NameError",
     "evalue": "name 'stop' is not defined",
     "output_type": "error",
     "traceback": [
      "\u001b[31m---------------------------------------------------------------------------\u001b[39m",
      "\u001b[31mNameError\u001b[39m                                 Traceback (most recent call last)",
      "\u001b[36mCell\u001b[39m\u001b[36m \u001b[39m\u001b[32mIn[257]\u001b[39m\u001b[32m, line 1\u001b[39m\n\u001b[32m----> \u001b[39m\u001b[32m1\u001b[39m \u001b[43mstop\u001b[49m\n",
      "\u001b[31mNameError\u001b[39m: name 'stop' is not defined"
     ]
    }
   ],
   "source": [
    "stop"
   ]
  },
  {
   "cell_type": "code",
   "execution_count": 258,
   "metadata": {},
   "outputs": [
    {
     "data": {
      "text/html": [],
      "text/plain": [
       "<IPython.core.display.HTML object>"
      ]
     },
     "metadata": {},
     "output_type": "display_data"
    },
    {
     "data": {
      "text/html": [
       "<style type=\"text/css\">\n",
       "#T_bef1a_row12_col0, #T_bef1a_row12_col1, #T_bef1a_row12_col2, #T_bef1a_row12_col3, #T_bef1a_row12_col4, #T_bef1a_row12_col5 {\n",
       "  background: yellow;\n",
       "}\n",
       "</style>\n",
       "<table id=\"T_bef1a\">\n",
       "  <thead>\n",
       "    <tr>\n",
       "      <th class=\"blank level0\" >&nbsp;</th>\n",
       "      <th id=\"T_bef1a_level0_col0\" class=\"col_heading level0 col0\" >MAE</th>\n",
       "      <th id=\"T_bef1a_level0_col1\" class=\"col_heading level0 col1\" >MSE</th>\n",
       "      <th id=\"T_bef1a_level0_col2\" class=\"col_heading level0 col2\" >RMSE</th>\n",
       "      <th id=\"T_bef1a_level0_col3\" class=\"col_heading level0 col3\" >R2</th>\n",
       "      <th id=\"T_bef1a_level0_col4\" class=\"col_heading level0 col4\" >RMSLE</th>\n",
       "      <th id=\"T_bef1a_level0_col5\" class=\"col_heading level0 col5\" >MAPE</th>\n",
       "    </tr>\n",
       "    <tr>\n",
       "      <th class=\"index_name level0\" >Fold</th>\n",
       "      <th class=\"blank col0\" >&nbsp;</th>\n",
       "      <th class=\"blank col1\" >&nbsp;</th>\n",
       "      <th class=\"blank col2\" >&nbsp;</th>\n",
       "      <th class=\"blank col3\" >&nbsp;</th>\n",
       "      <th class=\"blank col4\" >&nbsp;</th>\n",
       "      <th class=\"blank col5\" >&nbsp;</th>\n",
       "    </tr>\n",
       "  </thead>\n",
       "  <tbody>\n",
       "    <tr>\n",
       "      <th id=\"T_bef1a_level0_row0\" class=\"row_heading level0 row0\" >0</th>\n",
       "      <td id=\"T_bef1a_row0_col0\" class=\"data row0 col0\" >4.5868</td>\n",
       "      <td id=\"T_bef1a_row0_col1\" class=\"data row0 col1\" >29.1110</td>\n",
       "      <td id=\"T_bef1a_row0_col2\" class=\"data row0 col2\" >5.3955</td>\n",
       "      <td id=\"T_bef1a_row0_col3\" class=\"data row0 col3\" >0.6798</td>\n",
       "      <td id=\"T_bef1a_row0_col4\" class=\"data row0 col4\" >0.3209</td>\n",
       "      <td id=\"T_bef1a_row0_col5\" class=\"data row0 col5\" >0.3131</td>\n",
       "    </tr>\n",
       "    <tr>\n",
       "      <th id=\"T_bef1a_level0_row1\" class=\"row_heading level0 row1\" >1</th>\n",
       "      <td id=\"T_bef1a_row1_col0\" class=\"data row1 col0\" >7.8401</td>\n",
       "      <td id=\"T_bef1a_row1_col1\" class=\"data row1 col1\" >108.8342</td>\n",
       "      <td id=\"T_bef1a_row1_col2\" class=\"data row1 col2\" >10.4324</td>\n",
       "      <td id=\"T_bef1a_row1_col3\" class=\"data row1 col3\" >0.4004</td>\n",
       "      <td id=\"T_bef1a_row1_col4\" class=\"data row1 col4\" >0.4171</td>\n",
       "      <td id=\"T_bef1a_row1_col5\" class=\"data row1 col5\" >0.3779</td>\n",
       "    </tr>\n",
       "    <tr>\n",
       "      <th id=\"T_bef1a_level0_row2\" class=\"row_heading level0 row2\" >2</th>\n",
       "      <td id=\"T_bef1a_row2_col0\" class=\"data row2 col0\" >4.2693</td>\n",
       "      <td id=\"T_bef1a_row2_col1\" class=\"data row2 col1\" >23.9117</td>\n",
       "      <td id=\"T_bef1a_row2_col2\" class=\"data row2 col2\" >4.8900</td>\n",
       "      <td id=\"T_bef1a_row2_col3\" class=\"data row2 col3\" >0.6733</td>\n",
       "      <td id=\"T_bef1a_row2_col4\" class=\"data row2 col4\" >0.3680</td>\n",
       "      <td id=\"T_bef1a_row2_col5\" class=\"data row2 col5\" >0.4087</td>\n",
       "    </tr>\n",
       "    <tr>\n",
       "      <th id=\"T_bef1a_level0_row3\" class=\"row_heading level0 row3\" >3</th>\n",
       "      <td id=\"T_bef1a_row3_col0\" class=\"data row3 col0\" >6.1253</td>\n",
       "      <td id=\"T_bef1a_row3_col1\" class=\"data row3 col1\" >55.9986</td>\n",
       "      <td id=\"T_bef1a_row3_col2\" class=\"data row3 col2\" >7.4832</td>\n",
       "      <td id=\"T_bef1a_row3_col3\" class=\"data row3 col3\" >0.5015</td>\n",
       "      <td id=\"T_bef1a_row3_col4\" class=\"data row3 col4\" >0.4202</td>\n",
       "      <td id=\"T_bef1a_row3_col5\" class=\"data row3 col5\" >0.4539</td>\n",
       "    </tr>\n",
       "    <tr>\n",
       "      <th id=\"T_bef1a_level0_row4\" class=\"row_heading level0 row4\" >4</th>\n",
       "      <td id=\"T_bef1a_row4_col0\" class=\"data row4 col0\" >4.7035</td>\n",
       "      <td id=\"T_bef1a_row4_col1\" class=\"data row4 col1\" >54.5073</td>\n",
       "      <td id=\"T_bef1a_row4_col2\" class=\"data row4 col2\" >7.3829</td>\n",
       "      <td id=\"T_bef1a_row4_col3\" class=\"data row4 col3\" >0.4757</td>\n",
       "      <td id=\"T_bef1a_row4_col4\" class=\"data row4 col4\" >0.2946</td>\n",
       "      <td id=\"T_bef1a_row4_col5\" class=\"data row4 col5\" >0.2219</td>\n",
       "    </tr>\n",
       "    <tr>\n",
       "      <th id=\"T_bef1a_level0_row5\" class=\"row_heading level0 row5\" >5</th>\n",
       "      <td id=\"T_bef1a_row5_col0\" class=\"data row5 col0\" >5.2350</td>\n",
       "      <td id=\"T_bef1a_row5_col1\" class=\"data row5 col1\" >44.9730</td>\n",
       "      <td id=\"T_bef1a_row5_col2\" class=\"data row5 col2\" >6.7062</td>\n",
       "      <td id=\"T_bef1a_row5_col3\" class=\"data row5 col3\" >0.2504</td>\n",
       "      <td id=\"T_bef1a_row5_col4\" class=\"data row5 col4\" >0.4015</td>\n",
       "      <td id=\"T_bef1a_row5_col5\" class=\"data row5 col5\" >0.4170</td>\n",
       "    </tr>\n",
       "    <tr>\n",
       "      <th id=\"T_bef1a_level0_row6\" class=\"row_heading level0 row6\" >6</th>\n",
       "      <td id=\"T_bef1a_row6_col0\" class=\"data row6 col0\" >6.0137</td>\n",
       "      <td id=\"T_bef1a_row6_col1\" class=\"data row6 col1\" >53.2879</td>\n",
       "      <td id=\"T_bef1a_row6_col2\" class=\"data row6 col2\" >7.2999</td>\n",
       "      <td id=\"T_bef1a_row6_col3\" class=\"data row6 col3\" >0.1294</td>\n",
       "      <td id=\"T_bef1a_row6_col4\" class=\"data row6 col4\" >0.3872</td>\n",
       "      <td id=\"T_bef1a_row6_col5\" class=\"data row6 col5\" >0.4087</td>\n",
       "    </tr>\n",
       "    <tr>\n",
       "      <th id=\"T_bef1a_level0_row7\" class=\"row_heading level0 row7\" >7</th>\n",
       "      <td id=\"T_bef1a_row7_col0\" class=\"data row7 col0\" >6.1053</td>\n",
       "      <td id=\"T_bef1a_row7_col1\" class=\"data row7 col1\" >53.3386</td>\n",
       "      <td id=\"T_bef1a_row7_col2\" class=\"data row7 col2\" >7.3033</td>\n",
       "      <td id=\"T_bef1a_row7_col3\" class=\"data row7 col3\" >0.5802</td>\n",
       "      <td id=\"T_bef1a_row7_col4\" class=\"data row7 col4\" >0.3857</td>\n",
       "      <td id=\"T_bef1a_row7_col5\" class=\"data row7 col5\" >0.4083</td>\n",
       "    </tr>\n",
       "    <tr>\n",
       "      <th id=\"T_bef1a_level0_row8\" class=\"row_heading level0 row8\" >8</th>\n",
       "      <td id=\"T_bef1a_row8_col0\" class=\"data row8 col0\" >5.1172</td>\n",
       "      <td id=\"T_bef1a_row8_col1\" class=\"data row8 col1\" >38.5593</td>\n",
       "      <td id=\"T_bef1a_row8_col2\" class=\"data row8 col2\" >6.2096</td>\n",
       "      <td id=\"T_bef1a_row8_col3\" class=\"data row8 col3\" >0.5028</td>\n",
       "      <td id=\"T_bef1a_row8_col4\" class=\"data row8 col4\" >0.3215</td>\n",
       "      <td id=\"T_bef1a_row8_col5\" class=\"data row8 col5\" >0.3139</td>\n",
       "    </tr>\n",
       "    <tr>\n",
       "      <th id=\"T_bef1a_level0_row9\" class=\"row_heading level0 row9\" >9</th>\n",
       "      <td id=\"T_bef1a_row9_col0\" class=\"data row9 col0\" >5.2479</td>\n",
       "      <td id=\"T_bef1a_row9_col1\" class=\"data row9 col1\" >41.8208</td>\n",
       "      <td id=\"T_bef1a_row9_col2\" class=\"data row9 col2\" >6.4669</td>\n",
       "      <td id=\"T_bef1a_row9_col3\" class=\"data row9 col3\" >0.5921</td>\n",
       "      <td id=\"T_bef1a_row9_col4\" class=\"data row9 col4\" >0.3088</td>\n",
       "      <td id=\"T_bef1a_row9_col5\" class=\"data row9 col5\" >0.2615</td>\n",
       "    </tr>\n",
       "    <tr>\n",
       "      <th id=\"T_bef1a_level0_row10\" class=\"row_heading level0 row10\" >10</th>\n",
       "      <td id=\"T_bef1a_row10_col0\" class=\"data row10 col0\" >4.9053</td>\n",
       "      <td id=\"T_bef1a_row10_col1\" class=\"data row10 col1\" >34.9521</td>\n",
       "      <td id=\"T_bef1a_row10_col2\" class=\"data row10 col2\" >5.9120</td>\n",
       "      <td id=\"T_bef1a_row10_col3\" class=\"data row10 col3\" >0.5717</td>\n",
       "      <td id=\"T_bef1a_row10_col4\" class=\"data row10 col4\" >0.3441</td>\n",
       "      <td id=\"T_bef1a_row10_col5\" class=\"data row10 col5\" >0.3540</td>\n",
       "    </tr>\n",
       "    <tr>\n",
       "      <th id=\"T_bef1a_level0_row11\" class=\"row_heading level0 row11\" >11</th>\n",
       "      <td id=\"T_bef1a_row11_col0\" class=\"data row11 col0\" >5.3726</td>\n",
       "      <td id=\"T_bef1a_row11_col1\" class=\"data row11 col1\" >45.7446</td>\n",
       "      <td id=\"T_bef1a_row11_col2\" class=\"data row11 col2\" >6.7635</td>\n",
       "      <td id=\"T_bef1a_row11_col3\" class=\"data row11 col3\" >0.3513</td>\n",
       "      <td id=\"T_bef1a_row11_col4\" class=\"data row11 col4\" >0.3166</td>\n",
       "      <td id=\"T_bef1a_row11_col5\" class=\"data row11 col5\" >0.2869</td>\n",
       "    </tr>\n",
       "    <tr>\n",
       "      <th id=\"T_bef1a_level0_row12\" class=\"row_heading level0 row12\" >Mean</th>\n",
       "      <td id=\"T_bef1a_row12_col0\" class=\"data row12 col0\" >5.4602</td>\n",
       "      <td id=\"T_bef1a_row12_col1\" class=\"data row12 col1\" >48.7533</td>\n",
       "      <td id=\"T_bef1a_row12_col2\" class=\"data row12 col2\" >6.8538</td>\n",
       "      <td id=\"T_bef1a_row12_col3\" class=\"data row12 col3\" >0.4757</td>\n",
       "      <td id=\"T_bef1a_row12_col4\" class=\"data row12 col4\" >0.3572</td>\n",
       "      <td id=\"T_bef1a_row12_col5\" class=\"data row12 col5\" >0.3521</td>\n",
       "    </tr>\n",
       "    <tr>\n",
       "      <th id=\"T_bef1a_level0_row13\" class=\"row_heading level0 row13\" >Std</th>\n",
       "      <td id=\"T_bef1a_row13_col0\" class=\"data row13 col0\" >0.9180</td>\n",
       "      <td id=\"T_bef1a_row13_col1\" class=\"data row13 col1\" >20.6269</td>\n",
       "      <td id=\"T_bef1a_row13_col2\" class=\"data row13 col2\" >1.3338</td>\n",
       "      <td id=\"T_bef1a_row13_col3\" class=\"data row13 col3\" >0.1601</td>\n",
       "      <td id=\"T_bef1a_row13_col4\" class=\"data row13 col4\" >0.0428</td>\n",
       "      <td id=\"T_bef1a_row13_col5\" class=\"data row13 col5\" >0.0690</td>\n",
       "    </tr>\n",
       "  </tbody>\n",
       "</table>\n"
      ],
      "text/plain": [
       "<pandas.io.formats.style.Styler at 0x1ca4ab2be50>"
      ]
     },
     "metadata": {},
     "output_type": "display_data"
    },
    {
     "data": {
      "text/html": [],
      "text/plain": [
       "<IPython.core.display.HTML object>"
      ]
     },
     "metadata": {},
     "output_type": "display_data"
    }
   ],
   "source": [
    "# model_1 = exp1.create_model('rf')\n",
    "model_1 = exp1.create_model('rf')"
   ]
  },
  {
   "cell_type": "code",
   "execution_count": null,
   "metadata": {},
   "outputs": [],
   "source": [
    "# exp1.evaluate_model(model_1)"
   ]
  },
  {
   "cell_type": "code",
   "execution_count": null,
   "metadata": {},
   "outputs": [
    {
     "data": {
      "text/html": [],
      "text/plain": [
       "<IPython.core.display.HTML object>"
      ]
     },
     "metadata": {},
     "output_type": "display_data"
    },
    {
     "data": {
      "text/html": [
       "<style type=\"text/css\">\n",
       "#T_663c8_row12_col0, #T_663c8_row12_col1, #T_663c8_row12_col2, #T_663c8_row12_col3, #T_663c8_row12_col4, #T_663c8_row12_col5 {\n",
       "  background: yellow;\n",
       "}\n",
       "</style>\n",
       "<table id=\"T_663c8\">\n",
       "  <thead>\n",
       "    <tr>\n",
       "      <th class=\"blank level0\" >&nbsp;</th>\n",
       "      <th id=\"T_663c8_level0_col0\" class=\"col_heading level0 col0\" >MAE</th>\n",
       "      <th id=\"T_663c8_level0_col1\" class=\"col_heading level0 col1\" >MSE</th>\n",
       "      <th id=\"T_663c8_level0_col2\" class=\"col_heading level0 col2\" >RMSE</th>\n",
       "      <th id=\"T_663c8_level0_col3\" class=\"col_heading level0 col3\" >R2</th>\n",
       "      <th id=\"T_663c8_level0_col4\" class=\"col_heading level0 col4\" >RMSLE</th>\n",
       "      <th id=\"T_663c8_level0_col5\" class=\"col_heading level0 col5\" >MAPE</th>\n",
       "    </tr>\n",
       "    <tr>\n",
       "      <th class=\"index_name level0\" >Fold</th>\n",
       "      <th class=\"blank col0\" >&nbsp;</th>\n",
       "      <th class=\"blank col1\" >&nbsp;</th>\n",
       "      <th class=\"blank col2\" >&nbsp;</th>\n",
       "      <th class=\"blank col3\" >&nbsp;</th>\n",
       "      <th class=\"blank col4\" >&nbsp;</th>\n",
       "      <th class=\"blank col5\" >&nbsp;</th>\n",
       "    </tr>\n",
       "  </thead>\n",
       "  <tbody>\n",
       "    <tr>\n",
       "      <th id=\"T_663c8_level0_row0\" class=\"row_heading level0 row0\" >0</th>\n",
       "      <td id=\"T_663c8_row0_col0\" class=\"data row0 col0\" >4.9705</td>\n",
       "      <td id=\"T_663c8_row0_col1\" class=\"data row0 col1\" >35.9462</td>\n",
       "      <td id=\"T_663c8_row0_col2\" class=\"data row0 col2\" >5.9955</td>\n",
       "      <td id=\"T_663c8_row0_col3\" class=\"data row0 col3\" >0.6046</td>\n",
       "      <td id=\"T_663c8_row0_col4\" class=\"data row0 col4\" >0.3446</td>\n",
       "      <td id=\"T_663c8_row0_col5\" class=\"data row0 col5\" >0.3444</td>\n",
       "    </tr>\n",
       "    <tr>\n",
       "      <th id=\"T_663c8_level0_row1\" class=\"row_heading level0 row1\" >1</th>\n",
       "      <td id=\"T_663c8_row1_col0\" class=\"data row1 col0\" >7.8980</td>\n",
       "      <td id=\"T_663c8_row1_col1\" class=\"data row1 col1\" >115.9229</td>\n",
       "      <td id=\"T_663c8_row1_col2\" class=\"data row1 col2\" >10.7667</td>\n",
       "      <td id=\"T_663c8_row1_col3\" class=\"data row1 col3\" >0.3614</td>\n",
       "      <td id=\"T_663c8_row1_col4\" class=\"data row1 col4\" >0.4351</td>\n",
       "      <td id=\"T_663c8_row1_col5\" class=\"data row1 col5\" >0.3911</td>\n",
       "    </tr>\n",
       "    <tr>\n",
       "      <th id=\"T_663c8_level0_row2\" class=\"row_heading level0 row2\" >2</th>\n",
       "      <td id=\"T_663c8_row2_col0\" class=\"data row2 col0\" >4.3182</td>\n",
       "      <td id=\"T_663c8_row2_col1\" class=\"data row2 col1\" >26.2535</td>\n",
       "      <td id=\"T_663c8_row2_col2\" class=\"data row2 col2\" >5.1238</td>\n",
       "      <td id=\"T_663c8_row2_col3\" class=\"data row2 col3\" >0.6413</td>\n",
       "      <td id=\"T_663c8_row2_col4\" class=\"data row2 col4\" >0.3976</td>\n",
       "      <td id=\"T_663c8_row2_col5\" class=\"data row2 col5\" >0.4431</td>\n",
       "    </tr>\n",
       "    <tr>\n",
       "      <th id=\"T_663c8_level0_row3\" class=\"row_heading level0 row3\" >3</th>\n",
       "      <td id=\"T_663c8_row3_col0\" class=\"data row3 col0\" >6.3881</td>\n",
       "      <td id=\"T_663c8_row3_col1\" class=\"data row3 col1\" >56.0219</td>\n",
       "      <td id=\"T_663c8_row3_col2\" class=\"data row3 col2\" >7.4848</td>\n",
       "      <td id=\"T_663c8_row3_col3\" class=\"data row3 col3\" >0.5013</td>\n",
       "      <td id=\"T_663c8_row3_col4\" class=\"data row3 col4\" >0.4516</td>\n",
       "      <td id=\"T_663c8_row3_col5\" class=\"data row3 col5\" >0.5163</td>\n",
       "    </tr>\n",
       "    <tr>\n",
       "      <th id=\"T_663c8_level0_row4\" class=\"row_heading level0 row4\" >4</th>\n",
       "      <td id=\"T_663c8_row4_col0\" class=\"data row4 col0\" >5.0537</td>\n",
       "      <td id=\"T_663c8_row4_col1\" class=\"data row4 col1\" >53.3611</td>\n",
       "      <td id=\"T_663c8_row4_col2\" class=\"data row4 col2\" >7.3049</td>\n",
       "      <td id=\"T_663c8_row4_col3\" class=\"data row4 col3\" >0.4867</td>\n",
       "      <td id=\"T_663c8_row4_col4\" class=\"data row4 col4\" >0.3056</td>\n",
       "      <td id=\"T_663c8_row4_col5\" class=\"data row4 col5\" >0.2553</td>\n",
       "    </tr>\n",
       "    <tr>\n",
       "      <th id=\"T_663c8_level0_row5\" class=\"row_heading level0 row5\" >5</th>\n",
       "      <td id=\"T_663c8_row5_col0\" class=\"data row5 col0\" >5.1493</td>\n",
       "      <td id=\"T_663c8_row5_col1\" class=\"data row5 col1\" >37.7545</td>\n",
       "      <td id=\"T_663c8_row5_col2\" class=\"data row5 col2\" >6.1445</td>\n",
       "      <td id=\"T_663c8_row5_col3\" class=\"data row5 col3\" >0.3707</td>\n",
       "      <td id=\"T_663c8_row5_col4\" class=\"data row5 col4\" >0.3903</td>\n",
       "      <td id=\"T_663c8_row5_col5\" class=\"data row5 col5\" >0.4202</td>\n",
       "    </tr>\n",
       "    <tr>\n",
       "      <th id=\"T_663c8_level0_row6\" class=\"row_heading level0 row6\" >6</th>\n",
       "      <td id=\"T_663c8_row6_col0\" class=\"data row6 col0\" >5.6329</td>\n",
       "      <td id=\"T_663c8_row6_col1\" class=\"data row6 col1\" >48.6430</td>\n",
       "      <td id=\"T_663c8_row6_col2\" class=\"data row6 col2\" >6.9745</td>\n",
       "      <td id=\"T_663c8_row6_col3\" class=\"data row6 col3\" >0.2053</td>\n",
       "      <td id=\"T_663c8_row6_col4\" class=\"data row6 col4\" >0.3996</td>\n",
       "      <td id=\"T_663c8_row6_col5\" class=\"data row6 col5\" >0.4192</td>\n",
       "    </tr>\n",
       "    <tr>\n",
       "      <th id=\"T_663c8_level0_row7\" class=\"row_heading level0 row7\" >7</th>\n",
       "      <td id=\"T_663c8_row7_col0\" class=\"data row7 col0\" >4.9055</td>\n",
       "      <td id=\"T_663c8_row7_col1\" class=\"data row7 col1\" >42.6619</td>\n",
       "      <td id=\"T_663c8_row7_col2\" class=\"data row7 col2\" >6.5316</td>\n",
       "      <td id=\"T_663c8_row7_col3\" class=\"data row7 col3\" >0.6642</td>\n",
       "      <td id=\"T_663c8_row7_col4\" class=\"data row7 col4\" >0.3736</td>\n",
       "      <td id=\"T_663c8_row7_col5\" class=\"data row7 col5\" >0.3510</td>\n",
       "    </tr>\n",
       "    <tr>\n",
       "      <th id=\"T_663c8_level0_row8\" class=\"row_heading level0 row8\" >8</th>\n",
       "      <td id=\"T_663c8_row8_col0\" class=\"data row8 col0\" >5.6169</td>\n",
       "      <td id=\"T_663c8_row8_col1\" class=\"data row8 col1\" >42.1187</td>\n",
       "      <td id=\"T_663c8_row8_col2\" class=\"data row8 col2\" >6.4899</td>\n",
       "      <td id=\"T_663c8_row8_col3\" class=\"data row8 col3\" >0.4569</td>\n",
       "      <td id=\"T_663c8_row8_col4\" class=\"data row8 col4\" >0.3422</td>\n",
       "      <td id=\"T_663c8_row8_col5\" class=\"data row8 col5\" >0.3517</td>\n",
       "    </tr>\n",
       "    <tr>\n",
       "      <th id=\"T_663c8_level0_row9\" class=\"row_heading level0 row9\" >9</th>\n",
       "      <td id=\"T_663c8_row9_col0\" class=\"data row9 col0\" >4.9048</td>\n",
       "      <td id=\"T_663c8_row9_col1\" class=\"data row9 col1\" >39.1993</td>\n",
       "      <td id=\"T_663c8_row9_col2\" class=\"data row9 col2\" >6.2609</td>\n",
       "      <td id=\"T_663c8_row9_col3\" class=\"data row9 col3\" >0.6177</td>\n",
       "      <td id=\"T_663c8_row9_col4\" class=\"data row9 col4\" >0.2827</td>\n",
       "      <td id=\"T_663c8_row9_col5\" class=\"data row9 col5\" >0.2465</td>\n",
       "    </tr>\n",
       "    <tr>\n",
       "      <th id=\"T_663c8_level0_row10\" class=\"row_heading level0 row10\" >10</th>\n",
       "      <td id=\"T_663c8_row10_col0\" class=\"data row10 col0\" >4.3940</td>\n",
       "      <td id=\"T_663c8_row10_col1\" class=\"data row10 col1\" >28.8205</td>\n",
       "      <td id=\"T_663c8_row10_col2\" class=\"data row10 col2\" >5.3685</td>\n",
       "      <td id=\"T_663c8_row10_col3\" class=\"data row10 col3\" >0.6468</td>\n",
       "      <td id=\"T_663c8_row10_col4\" class=\"data row10 col4\" >0.3633</td>\n",
       "      <td id=\"T_663c8_row10_col5\" class=\"data row10 col5\" >0.3733</td>\n",
       "    </tr>\n",
       "    <tr>\n",
       "      <th id=\"T_663c8_level0_row11\" class=\"row_heading level0 row11\" >11</th>\n",
       "      <td id=\"T_663c8_row11_col0\" class=\"data row11 col0\" >5.2812</td>\n",
       "      <td id=\"T_663c8_row11_col1\" class=\"data row11 col1\" >40.7757</td>\n",
       "      <td id=\"T_663c8_row11_col2\" class=\"data row11 col2\" >6.3856</td>\n",
       "      <td id=\"T_663c8_row11_col3\" class=\"data row11 col3\" >0.4218</td>\n",
       "      <td id=\"T_663c8_row11_col4\" class=\"data row11 col4\" >0.3085</td>\n",
       "      <td id=\"T_663c8_row11_col5\" class=\"data row11 col5\" >0.2878</td>\n",
       "    </tr>\n",
       "    <tr>\n",
       "      <th id=\"T_663c8_level0_row12\" class=\"row_heading level0 row12\" >Mean</th>\n",
       "      <td id=\"T_663c8_row12_col0\" class=\"data row12 col0\" >5.3761</td>\n",
       "      <td id=\"T_663c8_row12_col1\" class=\"data row12 col1\" >47.2899</td>\n",
       "      <td id=\"T_663c8_row12_col2\" class=\"data row12 col2\" >6.7359</td>\n",
       "      <td id=\"T_663c8_row12_col3\" class=\"data row12 col3\" >0.4982</td>\n",
       "      <td id=\"T_663c8_row12_col4\" class=\"data row12 col4\" >0.3662</td>\n",
       "      <td id=\"T_663c8_row12_col5\" class=\"data row12 col5\" >0.3666</td>\n",
       "    </tr>\n",
       "    <tr>\n",
       "      <th id=\"T_663c8_level0_row13\" class=\"row_heading level0 row13\" >Std</th>\n",
       "      <td id=\"T_663c8_row13_col0\" class=\"data row13 col0\" >0.9293</td>\n",
       "      <td id=\"T_663c8_row13_col1\" class=\"data row13 col1\" >22.3322</td>\n",
       "      <td id=\"T_663c8_row13_col2\" class=\"data row13 col2\" >1.3846</td>\n",
       "      <td id=\"T_663c8_row13_col3\" class=\"data row13 col3\" >0.1367</td>\n",
       "      <td id=\"T_663c8_row13_col4\" class=\"data row13 col4\" >0.0498</td>\n",
       "      <td id=\"T_663c8_row13_col5\" class=\"data row13 col5\" >0.0756</td>\n",
       "    </tr>\n",
       "  </tbody>\n",
       "</table>\n"
      ],
      "text/plain": [
       "<pandas.io.formats.style.Styler at 0x1ca40556990>"
      ]
     },
     "metadata": {},
     "output_type": "display_data"
    },
    {
     "data": {
      "text/html": [],
      "text/plain": [
       "<IPython.core.display.HTML object>"
      ]
     },
     "metadata": {},
     "output_type": "display_data"
    },
    {
     "data": {
      "text/html": [],
      "text/plain": [
       "<IPython.core.display.HTML object>"
      ]
     },
     "metadata": {},
     "output_type": "display_data"
    },
    {
     "data": {
      "text/html": [
       "<style type=\"text/css\">\n",
       "#T_aabc8_row12_col0, #T_aabc8_row12_col1, #T_aabc8_row12_col2, #T_aabc8_row12_col3, #T_aabc8_row12_col4, #T_aabc8_row12_col5 {\n",
       "  background: yellow;\n",
       "}\n",
       "</style>\n",
       "<table id=\"T_aabc8\">\n",
       "  <thead>\n",
       "    <tr>\n",
       "      <th class=\"blank level0\" >&nbsp;</th>\n",
       "      <th id=\"T_aabc8_level0_col0\" class=\"col_heading level0 col0\" >MAE</th>\n",
       "      <th id=\"T_aabc8_level0_col1\" class=\"col_heading level0 col1\" >MSE</th>\n",
       "      <th id=\"T_aabc8_level0_col2\" class=\"col_heading level0 col2\" >RMSE</th>\n",
       "      <th id=\"T_aabc8_level0_col3\" class=\"col_heading level0 col3\" >R2</th>\n",
       "      <th id=\"T_aabc8_level0_col4\" class=\"col_heading level0 col4\" >RMSLE</th>\n",
       "      <th id=\"T_aabc8_level0_col5\" class=\"col_heading level0 col5\" >MAPE</th>\n",
       "    </tr>\n",
       "    <tr>\n",
       "      <th class=\"index_name level0\" >Fold</th>\n",
       "      <th class=\"blank col0\" >&nbsp;</th>\n",
       "      <th class=\"blank col1\" >&nbsp;</th>\n",
       "      <th class=\"blank col2\" >&nbsp;</th>\n",
       "      <th class=\"blank col3\" >&nbsp;</th>\n",
       "      <th class=\"blank col4\" >&nbsp;</th>\n",
       "      <th class=\"blank col5\" >&nbsp;</th>\n",
       "    </tr>\n",
       "  </thead>\n",
       "  <tbody>\n",
       "    <tr>\n",
       "      <th id=\"T_aabc8_level0_row0\" class=\"row_heading level0 row0\" >0</th>\n",
       "      <td id=\"T_aabc8_row0_col0\" class=\"data row0 col0\" >4.9620</td>\n",
       "      <td id=\"T_aabc8_row0_col1\" class=\"data row0 col1\" >34.5544</td>\n",
       "      <td id=\"T_aabc8_row0_col2\" class=\"data row0 col2\" >5.8783</td>\n",
       "      <td id=\"T_aabc8_row0_col3\" class=\"data row0 col3\" >0.6199</td>\n",
       "      <td id=\"T_aabc8_row0_col4\" class=\"data row0 col4\" >0.3352</td>\n",
       "      <td id=\"T_aabc8_row0_col5\" class=\"data row0 col5\" >0.3283</td>\n",
       "    </tr>\n",
       "    <tr>\n",
       "      <th id=\"T_aabc8_level0_row1\" class=\"row_heading level0 row1\" >1</th>\n",
       "      <td id=\"T_aabc8_row1_col0\" class=\"data row1 col0\" >7.7354</td>\n",
       "      <td id=\"T_aabc8_row1_col1\" class=\"data row1 col1\" >107.6814</td>\n",
       "      <td id=\"T_aabc8_row1_col2\" class=\"data row1 col2\" >10.3770</td>\n",
       "      <td id=\"T_aabc8_row1_col3\" class=\"data row1 col3\" >0.4068</td>\n",
       "      <td id=\"T_aabc8_row1_col4\" class=\"data row1 col4\" >0.4350</td>\n",
       "      <td id=\"T_aabc8_row1_col5\" class=\"data row1 col5\" >0.3700</td>\n",
       "    </tr>\n",
       "    <tr>\n",
       "      <th id=\"T_aabc8_level0_row2\" class=\"row_heading level0 row2\" >2</th>\n",
       "      <td id=\"T_aabc8_row2_col0\" class=\"data row2 col0\" >4.2787</td>\n",
       "      <td id=\"T_aabc8_row2_col1\" class=\"data row2 col1\" >30.1057</td>\n",
       "      <td id=\"T_aabc8_row2_col2\" class=\"data row2 col2\" >5.4869</td>\n",
       "      <td id=\"T_aabc8_row2_col3\" class=\"data row2 col3\" >0.5886</td>\n",
       "      <td id=\"T_aabc8_row2_col4\" class=\"data row2 col4\" >0.3969</td>\n",
       "      <td id=\"T_aabc8_row2_col5\" class=\"data row2 col5\" >0.4127</td>\n",
       "    </tr>\n",
       "    <tr>\n",
       "      <th id=\"T_aabc8_level0_row3\" class=\"row_heading level0 row3\" >3</th>\n",
       "      <td id=\"T_aabc8_row3_col0\" class=\"data row3 col0\" >6.0180</td>\n",
       "      <td id=\"T_aabc8_row3_col1\" class=\"data row3 col1\" >59.7898</td>\n",
       "      <td id=\"T_aabc8_row3_col2\" class=\"data row3 col2\" >7.7324</td>\n",
       "      <td id=\"T_aabc8_row3_col3\" class=\"data row3 col3\" >0.4678</td>\n",
       "      <td id=\"T_aabc8_row3_col4\" class=\"data row3 col4\" >0.4317</td>\n",
       "      <td id=\"T_aabc8_row3_col5\" class=\"data row3 col5\" >0.4435</td>\n",
       "    </tr>\n",
       "    <tr>\n",
       "      <th id=\"T_aabc8_level0_row4\" class=\"row_heading level0 row4\" >4</th>\n",
       "      <td id=\"T_aabc8_row4_col0\" class=\"data row4 col0\" >5.4810</td>\n",
       "      <td id=\"T_aabc8_row4_col1\" class=\"data row4 col1\" >56.7273</td>\n",
       "      <td id=\"T_aabc8_row4_col2\" class=\"data row4 col2\" >7.5318</td>\n",
       "      <td id=\"T_aabc8_row4_col3\" class=\"data row4 col3\" >0.4544</td>\n",
       "      <td id=\"T_aabc8_row4_col4\" class=\"data row4 col4\" >0.2984</td>\n",
       "      <td id=\"T_aabc8_row4_col5\" class=\"data row4 col5\" >0.2573</td>\n",
       "    </tr>\n",
       "    <tr>\n",
       "      <th id=\"T_aabc8_level0_row5\" class=\"row_heading level0 row5\" >5</th>\n",
       "      <td id=\"T_aabc8_row5_col0\" class=\"data row5 col0\" >4.7969</td>\n",
       "      <td id=\"T_aabc8_row5_col1\" class=\"data row5 col1\" >34.8627</td>\n",
       "      <td id=\"T_aabc8_row5_col2\" class=\"data row5 col2\" >5.9045</td>\n",
       "      <td id=\"T_aabc8_row5_col3\" class=\"data row5 col3\" >0.4189</td>\n",
       "      <td id=\"T_aabc8_row5_col4\" class=\"data row5 col4\" >0.3668</td>\n",
       "      <td id=\"T_aabc8_row5_col5\" class=\"data row5 col5\" >0.3709</td>\n",
       "    </tr>\n",
       "    <tr>\n",
       "      <th id=\"T_aabc8_level0_row6\" class=\"row_heading level0 row6\" >6</th>\n",
       "      <td id=\"T_aabc8_row6_col0\" class=\"data row6 col0\" >5.9995</td>\n",
       "      <td id=\"T_aabc8_row6_col1\" class=\"data row6 col1\" >53.4559</td>\n",
       "      <td id=\"T_aabc8_row6_col2\" class=\"data row6 col2\" >7.3114</td>\n",
       "      <td id=\"T_aabc8_row6_col3\" class=\"data row6 col3\" >0.1267</td>\n",
       "      <td id=\"T_aabc8_row6_col4\" class=\"data row6 col4\" >0.3905</td>\n",
       "      <td id=\"T_aabc8_row6_col5\" class=\"data row6 col5\" >0.4027</td>\n",
       "    </tr>\n",
       "    <tr>\n",
       "      <th id=\"T_aabc8_level0_row7\" class=\"row_heading level0 row7\" >7</th>\n",
       "      <td id=\"T_aabc8_row7_col0\" class=\"data row7 col0\" >5.1246</td>\n",
       "      <td id=\"T_aabc8_row7_col1\" class=\"data row7 col1\" >41.8534</td>\n",
       "      <td id=\"T_aabc8_row7_col2\" class=\"data row7 col2\" >6.4694</td>\n",
       "      <td id=\"T_aabc8_row7_col3\" class=\"data row7 col3\" >0.6706</td>\n",
       "      <td id=\"T_aabc8_row7_col4\" class=\"data row7 col4\" >0.3757</td>\n",
       "      <td id=\"T_aabc8_row7_col5\" class=\"data row7 col5\" >0.3623</td>\n",
       "    </tr>\n",
       "    <tr>\n",
       "      <th id=\"T_aabc8_level0_row8\" class=\"row_heading level0 row8\" >8</th>\n",
       "      <td id=\"T_aabc8_row8_col0\" class=\"data row8 col0\" >5.2491</td>\n",
       "      <td id=\"T_aabc8_row8_col1\" class=\"data row8 col1\" >44.6606</td>\n",
       "      <td id=\"T_aabc8_row8_col2\" class=\"data row8 col2\" >6.6829</td>\n",
       "      <td id=\"T_aabc8_row8_col3\" class=\"data row8 col3\" >0.4241</td>\n",
       "      <td id=\"T_aabc8_row8_col4\" class=\"data row8 col4\" >0.3444</td>\n",
       "      <td id=\"T_aabc8_row8_col5\" class=\"data row8 col5\" >0.3132</td>\n",
       "    </tr>\n",
       "    <tr>\n",
       "      <th id=\"T_aabc8_level0_row9\" class=\"row_heading level0 row9\" >9</th>\n",
       "      <td id=\"T_aabc8_row9_col0\" class=\"data row9 col0\" >4.9027</td>\n",
       "      <td id=\"T_aabc8_row9_col1\" class=\"data row9 col1\" >34.9700</td>\n",
       "      <td id=\"T_aabc8_row9_col2\" class=\"data row9 col2\" >5.9135</td>\n",
       "      <td id=\"T_aabc8_row9_col3\" class=\"data row9 col3\" >0.6590</td>\n",
       "      <td id=\"T_aabc8_row9_col4\" class=\"data row9 col4\" >0.3183</td>\n",
       "      <td id=\"T_aabc8_row9_col5\" class=\"data row9 col5\" >0.2549</td>\n",
       "    </tr>\n",
       "    <tr>\n",
       "      <th id=\"T_aabc8_level0_row10\" class=\"row_heading level0 row10\" >10</th>\n",
       "      <td id=\"T_aabc8_row10_col0\" class=\"data row10 col0\" >4.6788</td>\n",
       "      <td id=\"T_aabc8_row10_col1\" class=\"data row10 col1\" >32.7139</td>\n",
       "      <td id=\"T_aabc8_row10_col2\" class=\"data row10 col2\" >5.7196</td>\n",
       "      <td id=\"T_aabc8_row10_col3\" class=\"data row10 col3\" >0.5991</td>\n",
       "      <td id=\"T_aabc8_row10_col4\" class=\"data row10 col4\" >0.3490</td>\n",
       "      <td id=\"T_aabc8_row10_col5\" class=\"data row10 col5\" >0.3409</td>\n",
       "    </tr>\n",
       "    <tr>\n",
       "      <th id=\"T_aabc8_level0_row11\" class=\"row_heading level0 row11\" >11</th>\n",
       "      <td id=\"T_aabc8_row11_col0\" class=\"data row11 col0\" >4.9691</td>\n",
       "      <td id=\"T_aabc8_row11_col1\" class=\"data row11 col1\" >37.6385</td>\n",
       "      <td id=\"T_aabc8_row11_col2\" class=\"data row11 col2\" >6.1350</td>\n",
       "      <td id=\"T_aabc8_row11_col3\" class=\"data row11 col3\" >0.4663</td>\n",
       "      <td id=\"T_aabc8_row11_col4\" class=\"data row11 col4\" >0.3276</td>\n",
       "      <td id=\"T_aabc8_row11_col5\" class=\"data row11 col5\" >0.3002</td>\n",
       "    </tr>\n",
       "    <tr>\n",
       "      <th id=\"T_aabc8_level0_row12\" class=\"row_heading level0 row12\" >Mean</th>\n",
       "      <td id=\"T_aabc8_row12_col0\" class=\"data row12 col0\" >5.3497</td>\n",
       "      <td id=\"T_aabc8_row12_col1\" class=\"data row12 col1\" >47.4178</td>\n",
       "      <td id=\"T_aabc8_row12_col2\" class=\"data row12 col2\" >6.7619</td>\n",
       "      <td id=\"T_aabc8_row12_col3\" class=\"data row12 col3\" >0.4918</td>\n",
       "      <td id=\"T_aabc8_row12_col4\" class=\"data row12 col4\" >0.3641</td>\n",
       "      <td id=\"T_aabc8_row12_col5\" class=\"data row12 col5\" >0.3464</td>\n",
       "    </tr>\n",
       "    <tr>\n",
       "      <th id=\"T_aabc8_level0_row13\" class=\"row_heading level0 row13\" >Std</th>\n",
       "      <td id=\"T_aabc8_row13_col0\" class=\"data row13 col0\" >0.8678</td>\n",
       "      <td id=\"T_aabc8_row13_col1\" class=\"data row13 col1\" >20.4859</td>\n",
       "      <td id=\"T_aabc8_row13_col2\" class=\"data row13 col2\" >1.3018</td>\n",
       "      <td id=\"T_aabc8_row13_col3\" class=\"data row13 col3\" >0.1444</td>\n",
       "      <td id=\"T_aabc8_row13_col4\" class=\"data row13 col4\" >0.0415</td>\n",
       "      <td id=\"T_aabc8_row13_col5\" class=\"data row13 col5\" >0.0565</td>\n",
       "    </tr>\n",
       "  </tbody>\n",
       "</table>\n"
      ],
      "text/plain": [
       "<pandas.io.formats.style.Styler at 0x1ca40a1bcd0>"
      ]
     },
     "metadata": {},
     "output_type": "display_data"
    },
    {
     "data": {
      "text/html": [],
      "text/plain": [
       "<IPython.core.display.HTML object>"
      ]
     },
     "metadata": {},
     "output_type": "display_data"
    },
    {
     "data": {
      "text/html": [],
      "text/plain": [
       "<IPython.core.display.HTML object>"
      ]
     },
     "metadata": {},
     "output_type": "display_data"
    },
    {
     "data": {
      "text/html": [
       "<style type=\"text/css\">\n",
       "#T_8b4c6_row12_col0, #T_8b4c6_row12_col1, #T_8b4c6_row12_col2, #T_8b4c6_row12_col3, #T_8b4c6_row12_col4, #T_8b4c6_row12_col5 {\n",
       "  background: yellow;\n",
       "}\n",
       "</style>\n",
       "<table id=\"T_8b4c6\">\n",
       "  <thead>\n",
       "    <tr>\n",
       "      <th class=\"blank level0\" >&nbsp;</th>\n",
       "      <th id=\"T_8b4c6_level0_col0\" class=\"col_heading level0 col0\" >MAE</th>\n",
       "      <th id=\"T_8b4c6_level0_col1\" class=\"col_heading level0 col1\" >MSE</th>\n",
       "      <th id=\"T_8b4c6_level0_col2\" class=\"col_heading level0 col2\" >RMSE</th>\n",
       "      <th id=\"T_8b4c6_level0_col3\" class=\"col_heading level0 col3\" >R2</th>\n",
       "      <th id=\"T_8b4c6_level0_col4\" class=\"col_heading level0 col4\" >RMSLE</th>\n",
       "      <th id=\"T_8b4c6_level0_col5\" class=\"col_heading level0 col5\" >MAPE</th>\n",
       "    </tr>\n",
       "    <tr>\n",
       "      <th class=\"index_name level0\" >Fold</th>\n",
       "      <th class=\"blank col0\" >&nbsp;</th>\n",
       "      <th class=\"blank col1\" >&nbsp;</th>\n",
       "      <th class=\"blank col2\" >&nbsp;</th>\n",
       "      <th class=\"blank col3\" >&nbsp;</th>\n",
       "      <th class=\"blank col4\" >&nbsp;</th>\n",
       "      <th class=\"blank col5\" >&nbsp;</th>\n",
       "    </tr>\n",
       "  </thead>\n",
       "  <tbody>\n",
       "    <tr>\n",
       "      <th id=\"T_8b4c6_level0_row0\" class=\"row_heading level0 row0\" >0</th>\n",
       "      <td id=\"T_8b4c6_row0_col0\" class=\"data row0 col0\" >4.3544</td>\n",
       "      <td id=\"T_8b4c6_row0_col1\" class=\"data row0 col1\" >29.6799</td>\n",
       "      <td id=\"T_8b4c6_row0_col2\" class=\"data row0 col2\" >5.4479</td>\n",
       "      <td id=\"T_8b4c6_row0_col3\" class=\"data row0 col3\" >0.6736</td>\n",
       "      <td id=\"T_8b4c6_row0_col4\" class=\"data row0 col4\" >0.2904</td>\n",
       "      <td id=\"T_8b4c6_row0_col5\" class=\"data row0 col5\" >0.2734</td>\n",
       "    </tr>\n",
       "    <tr>\n",
       "      <th id=\"T_8b4c6_level0_row1\" class=\"row_heading level0 row1\" >1</th>\n",
       "      <td id=\"T_8b4c6_row1_col0\" class=\"data row1 col0\" >7.3250</td>\n",
       "      <td id=\"T_8b4c6_row1_col1\" class=\"data row1 col1\" >93.3981</td>\n",
       "      <td id=\"T_8b4c6_row1_col2\" class=\"data row1 col2\" >9.6643</td>\n",
       "      <td id=\"T_8b4c6_row1_col3\" class=\"data row1 col3\" >0.4855</td>\n",
       "      <td id=\"T_8b4c6_row1_col4\" class=\"data row1 col4\" >0.4023</td>\n",
       "      <td id=\"T_8b4c6_row1_col5\" class=\"data row1 col5\" >0.3677</td>\n",
       "    </tr>\n",
       "    <tr>\n",
       "      <th id=\"T_8b4c6_level0_row2\" class=\"row_heading level0 row2\" >2</th>\n",
       "      <td id=\"T_8b4c6_row2_col0\" class=\"data row2 col0\" >4.2920</td>\n",
       "      <td id=\"T_8b4c6_row2_col1\" class=\"data row2 col1\" >26.9578</td>\n",
       "      <td id=\"T_8b4c6_row2_col2\" class=\"data row2 col2\" >5.1921</td>\n",
       "      <td id=\"T_8b4c6_row2_col3\" class=\"data row2 col3\" >0.6316</td>\n",
       "      <td id=\"T_8b4c6_row2_col4\" class=\"data row2 col4\" >0.3343</td>\n",
       "      <td id=\"T_8b4c6_row2_col5\" class=\"data row2 col5\" >0.3486</td>\n",
       "    </tr>\n",
       "    <tr>\n",
       "      <th id=\"T_8b4c6_level0_row3\" class=\"row_heading level0 row3\" >3</th>\n",
       "      <td id=\"T_8b4c6_row3_col0\" class=\"data row3 col0\" >5.5359</td>\n",
       "      <td id=\"T_8b4c6_row3_col1\" class=\"data row3 col1\" >44.7461</td>\n",
       "      <td id=\"T_8b4c6_row3_col2\" class=\"data row3 col2\" >6.6893</td>\n",
       "      <td id=\"T_8b4c6_row3_col3\" class=\"data row3 col3\" >0.6017</td>\n",
       "      <td id=\"T_8b4c6_row3_col4\" class=\"data row3 col4\" >0.3651</td>\n",
       "      <td id=\"T_8b4c6_row3_col5\" class=\"data row3 col5\" >0.3902</td>\n",
       "    </tr>\n",
       "    <tr>\n",
       "      <th id=\"T_8b4c6_level0_row4\" class=\"row_heading level0 row4\" >4</th>\n",
       "      <td id=\"T_8b4c6_row4_col0\" class=\"data row4 col0\" >5.4724</td>\n",
       "      <td id=\"T_8b4c6_row4_col1\" class=\"data row4 col1\" >65.0422</td>\n",
       "      <td id=\"T_8b4c6_row4_col2\" class=\"data row4 col2\" >8.0649</td>\n",
       "      <td id=\"T_8b4c6_row4_col3\" class=\"data row4 col3\" >0.3744</td>\n",
       "      <td id=\"T_8b4c6_row4_col4\" class=\"data row4 col4\" >0.3516</td>\n",
       "      <td id=\"T_8b4c6_row4_col5\" class=\"data row4 col5\" >0.2704</td>\n",
       "    </tr>\n",
       "    <tr>\n",
       "      <th id=\"T_8b4c6_level0_row5\" class=\"row_heading level0 row5\" >5</th>\n",
       "      <td id=\"T_8b4c6_row5_col0\" class=\"data row5 col0\" >5.4082</td>\n",
       "      <td id=\"T_8b4c6_row5_col1\" class=\"data row5 col1\" >47.6571</td>\n",
       "      <td id=\"T_8b4c6_row5_col2\" class=\"data row5 col2\" >6.9034</td>\n",
       "      <td id=\"T_8b4c6_row5_col3\" class=\"data row5 col3\" >0.2056</td>\n",
       "      <td id=\"T_8b4c6_row5_col4\" class=\"data row5 col4\" >0.4237</td>\n",
       "      <td id=\"T_8b4c6_row5_col5\" class=\"data row5 col5\" >0.4389</td>\n",
       "    </tr>\n",
       "    <tr>\n",
       "      <th id=\"T_8b4c6_level0_row6\" class=\"row_heading level0 row6\" >6</th>\n",
       "      <td id=\"T_8b4c6_row6_col0\" class=\"data row6 col0\" >5.7949</td>\n",
       "      <td id=\"T_8b4c6_row6_col1\" class=\"data row6 col1\" >53.2133</td>\n",
       "      <td id=\"T_8b4c6_row6_col2\" class=\"data row6 col2\" >7.2947</td>\n",
       "      <td id=\"T_8b4c6_row6_col3\" class=\"data row6 col3\" >0.1306</td>\n",
       "      <td id=\"T_8b4c6_row6_col4\" class=\"data row6 col4\" >0.3762</td>\n",
       "      <td id=\"T_8b4c6_row6_col5\" class=\"data row6 col5\" >0.3750</td>\n",
       "    </tr>\n",
       "    <tr>\n",
       "      <th id=\"T_8b4c6_level0_row7\" class=\"row_heading level0 row7\" >7</th>\n",
       "      <td id=\"T_8b4c6_row7_col0\" class=\"data row7 col0\" >5.3927</td>\n",
       "      <td id=\"T_8b4c6_row7_col1\" class=\"data row7 col1\" >42.7875</td>\n",
       "      <td id=\"T_8b4c6_row7_col2\" class=\"data row7 col2\" >6.5412</td>\n",
       "      <td id=\"T_8b4c6_row7_col3\" class=\"data row7 col3\" >0.6633</td>\n",
       "      <td id=\"T_8b4c6_row7_col4\" class=\"data row7 col4\" >0.3599</td>\n",
       "      <td id=\"T_8b4c6_row7_col5\" class=\"data row7 col5\" >0.3618</td>\n",
       "    </tr>\n",
       "    <tr>\n",
       "      <th id=\"T_8b4c6_level0_row8\" class=\"row_heading level0 row8\" >8</th>\n",
       "      <td id=\"T_8b4c6_row8_col0\" class=\"data row8 col0\" >5.0585</td>\n",
       "      <td id=\"T_8b4c6_row8_col1\" class=\"data row8 col1\" >39.9781</td>\n",
       "      <td id=\"T_8b4c6_row8_col2\" class=\"data row8 col2\" >6.3228</td>\n",
       "      <td id=\"T_8b4c6_row8_col3\" class=\"data row8 col3\" >0.4845</td>\n",
       "      <td id=\"T_8b4c6_row8_col4\" class=\"data row8 col4\" >0.3083</td>\n",
       "      <td id=\"T_8b4c6_row8_col5\" class=\"data row8 col5\" >0.2864</td>\n",
       "    </tr>\n",
       "    <tr>\n",
       "      <th id=\"T_8b4c6_level0_row9\" class=\"row_heading level0 row9\" >9</th>\n",
       "      <td id=\"T_8b4c6_row9_col0\" class=\"data row9 col0\" >4.9620</td>\n",
       "      <td id=\"T_8b4c6_row9_col1\" class=\"data row9 col1\" >40.2903</td>\n",
       "      <td id=\"T_8b4c6_row9_col2\" class=\"data row9 col2\" >6.3475</td>\n",
       "      <td id=\"T_8b4c6_row9_col3\" class=\"data row9 col3\" >0.6071</td>\n",
       "      <td id=\"T_8b4c6_row9_col4\" class=\"data row9 col4\" >0.3637</td>\n",
       "      <td id=\"T_8b4c6_row9_col5\" class=\"data row9 col5\" >0.2438</td>\n",
       "    </tr>\n",
       "    <tr>\n",
       "      <th id=\"T_8b4c6_level0_row10\" class=\"row_heading level0 row10\" >10</th>\n",
       "      <td id=\"T_8b4c6_row10_col0\" class=\"data row10 col0\" >3.8656</td>\n",
       "      <td id=\"T_8b4c6_row10_col1\" class=\"data row10 col1\" >25.2218</td>\n",
       "      <td id=\"T_8b4c6_row10_col2\" class=\"data row10 col2\" >5.0221</td>\n",
       "      <td id=\"T_8b4c6_row10_col3\" class=\"data row10 col3\" >0.6909</td>\n",
       "      <td id=\"T_8b4c6_row10_col4\" class=\"data row10 col4\" >0.3648</td>\n",
       "      <td id=\"T_8b4c6_row10_col5\" class=\"data row10 col5\" >0.3581</td>\n",
       "    </tr>\n",
       "    <tr>\n",
       "      <th id=\"T_8b4c6_level0_row11\" class=\"row_heading level0 row11\" >11</th>\n",
       "      <td id=\"T_8b4c6_row11_col0\" class=\"data row11 col0\" >5.1485</td>\n",
       "      <td id=\"T_8b4c6_row11_col1\" class=\"data row11 col1\" >43.7632</td>\n",
       "      <td id=\"T_8b4c6_row11_col2\" class=\"data row11 col2\" >6.6154</td>\n",
       "      <td id=\"T_8b4c6_row11_col3\" class=\"data row11 col3\" >0.3794</td>\n",
       "      <td id=\"T_8b4c6_row11_col4\" class=\"data row11 col4\" >0.3257</td>\n",
       "      <td id=\"T_8b4c6_row11_col5\" class=\"data row11 col5\" >0.2923</td>\n",
       "    </tr>\n",
       "    <tr>\n",
       "      <th id=\"T_8b4c6_level0_row12\" class=\"row_heading level0 row12\" >Mean</th>\n",
       "      <td id=\"T_8b4c6_row12_col0\" class=\"data row12 col0\" >5.2175</td>\n",
       "      <td id=\"T_8b4c6_row12_col1\" class=\"data row12 col1\" >46.0613</td>\n",
       "      <td id=\"T_8b4c6_row12_col2\" class=\"data row12 col2\" >6.6755</td>\n",
       "      <td id=\"T_8b4c6_row12_col3\" class=\"data row12 col3\" >0.4940</td>\n",
       "      <td id=\"T_8b4c6_row12_col4\" class=\"data row12 col4\" >0.3555</td>\n",
       "      <td id=\"T_8b4c6_row12_col5\" class=\"data row12 col5\" >0.3339</td>\n",
       "    </tr>\n",
       "    <tr>\n",
       "      <th id=\"T_8b4c6_level0_row13\" class=\"row_heading level0 row13\" >Std</th>\n",
       "      <td id=\"T_8b4c6_row13_col0\" class=\"data row13 col0\" >0.8432</td>\n",
       "      <td id=\"T_8b4c6_row13_col1\" class=\"data row13 col1\" >17.8194</td>\n",
       "      <td id=\"T_8b4c6_row13_col2\" class=\"data row13 col2\" >1.2245</td>\n",
       "      <td id=\"T_8b4c6_row13_col3\" class=\"data row13 col3\" >0.1793</td>\n",
       "      <td id=\"T_8b4c6_row13_col4\" class=\"data row13 col4\" >0.0358</td>\n",
       "      <td id=\"T_8b4c6_row13_col5\" class=\"data row13 col5\" >0.0566</td>\n",
       "    </tr>\n",
       "  </tbody>\n",
       "</table>\n"
      ],
      "text/plain": [
       "<pandas.io.formats.style.Styler at 0x1ca4048e290>"
      ]
     },
     "metadata": {},
     "output_type": "display_data"
    },
    {
     "data": {
      "text/html": [],
      "text/plain": [
       "<IPython.core.display.HTML object>"
      ]
     },
     "metadata": {},
     "output_type": "display_data"
    },
    {
     "data": {
      "text/html": [],
      "text/plain": [
       "<IPython.core.display.HTML object>"
      ]
     },
     "metadata": {},
     "output_type": "display_data"
    },
    {
     "data": {
      "text/html": [
       "<style type=\"text/css\">\n",
       "#T_db6d3_row12_col0, #T_db6d3_row12_col1, #T_db6d3_row12_col2, #T_db6d3_row12_col3, #T_db6d3_row12_col4, #T_db6d3_row12_col5 {\n",
       "  background: yellow;\n",
       "}\n",
       "</style>\n",
       "<table id=\"T_db6d3\">\n",
       "  <thead>\n",
       "    <tr>\n",
       "      <th class=\"blank level0\" >&nbsp;</th>\n",
       "      <th id=\"T_db6d3_level0_col0\" class=\"col_heading level0 col0\" >MAE</th>\n",
       "      <th id=\"T_db6d3_level0_col1\" class=\"col_heading level0 col1\" >MSE</th>\n",
       "      <th id=\"T_db6d3_level0_col2\" class=\"col_heading level0 col2\" >RMSE</th>\n",
       "      <th id=\"T_db6d3_level0_col3\" class=\"col_heading level0 col3\" >R2</th>\n",
       "      <th id=\"T_db6d3_level0_col4\" class=\"col_heading level0 col4\" >RMSLE</th>\n",
       "      <th id=\"T_db6d3_level0_col5\" class=\"col_heading level0 col5\" >MAPE</th>\n",
       "    </tr>\n",
       "    <tr>\n",
       "      <th class=\"index_name level0\" >Fold</th>\n",
       "      <th class=\"blank col0\" >&nbsp;</th>\n",
       "      <th class=\"blank col1\" >&nbsp;</th>\n",
       "      <th class=\"blank col2\" >&nbsp;</th>\n",
       "      <th class=\"blank col3\" >&nbsp;</th>\n",
       "      <th class=\"blank col4\" >&nbsp;</th>\n",
       "      <th class=\"blank col5\" >&nbsp;</th>\n",
       "    </tr>\n",
       "  </thead>\n",
       "  <tbody>\n",
       "    <tr>\n",
       "      <th id=\"T_db6d3_level0_row0\" class=\"row_heading level0 row0\" >0</th>\n",
       "      <td id=\"T_db6d3_row0_col0\" class=\"data row0 col0\" >4.6738</td>\n",
       "      <td id=\"T_db6d3_row0_col1\" class=\"data row0 col1\" >31.8957</td>\n",
       "      <td id=\"T_db6d3_row0_col2\" class=\"data row0 col2\" >5.6476</td>\n",
       "      <td id=\"T_db6d3_row0_col3\" class=\"data row0 col3\" >0.6492</td>\n",
       "      <td id=\"T_db6d3_row0_col4\" class=\"data row0 col4\" >0.3331</td>\n",
       "      <td id=\"T_db6d3_row0_col5\" class=\"data row0 col5\" >0.3216</td>\n",
       "    </tr>\n",
       "    <tr>\n",
       "      <th id=\"T_db6d3_level0_row1\" class=\"row_heading level0 row1\" >1</th>\n",
       "      <td id=\"T_db6d3_row1_col0\" class=\"data row1 col0\" >7.9465</td>\n",
       "      <td id=\"T_db6d3_row1_col1\" class=\"data row1 col1\" >116.7318</td>\n",
       "      <td id=\"T_db6d3_row1_col2\" class=\"data row1 col2\" >10.8043</td>\n",
       "      <td id=\"T_db6d3_row1_col3\" class=\"data row1 col3\" >0.3569</td>\n",
       "      <td id=\"T_db6d3_row1_col4\" class=\"data row1 col4\" >0.4186</td>\n",
       "      <td id=\"T_db6d3_row1_col5\" class=\"data row1 col5\" >0.3734</td>\n",
       "    </tr>\n",
       "    <tr>\n",
       "      <th id=\"T_db6d3_level0_row2\" class=\"row_heading level0 row2\" >2</th>\n",
       "      <td id=\"T_db6d3_row2_col0\" class=\"data row2 col0\" >4.0331</td>\n",
       "      <td id=\"T_db6d3_row2_col1\" class=\"data row2 col1\" >22.6035</td>\n",
       "      <td id=\"T_db6d3_row2_col2\" class=\"data row2 col2\" >4.7543</td>\n",
       "      <td id=\"T_db6d3_row2_col3\" class=\"data row2 col3\" >0.6911</td>\n",
       "      <td id=\"T_db6d3_row2_col4\" class=\"data row2 col4\" >0.3623</td>\n",
       "      <td id=\"T_db6d3_row2_col5\" class=\"data row2 col5\" >0.3904</td>\n",
       "    </tr>\n",
       "    <tr>\n",
       "      <th id=\"T_db6d3_level0_row3\" class=\"row_heading level0 row3\" >3</th>\n",
       "      <td id=\"T_db6d3_row3_col0\" class=\"data row3 col0\" >5.7170</td>\n",
       "      <td id=\"T_db6d3_row3_col1\" class=\"data row3 col1\" >47.0965</td>\n",
       "      <td id=\"T_db6d3_row3_col2\" class=\"data row3 col2\" >6.8627</td>\n",
       "      <td id=\"T_db6d3_row3_col3\" class=\"data row3 col3\" >0.5808</td>\n",
       "      <td id=\"T_db6d3_row3_col4\" class=\"data row3 col4\" >0.4035</td>\n",
       "      <td id=\"T_db6d3_row3_col5\" class=\"data row3 col5\" >0.4312</td>\n",
       "    </tr>\n",
       "    <tr>\n",
       "      <th id=\"T_db6d3_level0_row4\" class=\"row_heading level0 row4\" >4</th>\n",
       "      <td id=\"T_db6d3_row4_col0\" class=\"data row4 col0\" >4.7086</td>\n",
       "      <td id=\"T_db6d3_row4_col1\" class=\"data row4 col1\" >51.2765</td>\n",
       "      <td id=\"T_db6d3_row4_col2\" class=\"data row4 col2\" >7.1608</td>\n",
       "      <td id=\"T_db6d3_row4_col3\" class=\"data row4 col3\" >0.5068</td>\n",
       "      <td id=\"T_db6d3_row4_col4\" class=\"data row4 col4\" >0.2895</td>\n",
       "      <td id=\"T_db6d3_row4_col5\" class=\"data row4 col5\" >0.2289</td>\n",
       "    </tr>\n",
       "    <tr>\n",
       "      <th id=\"T_db6d3_level0_row5\" class=\"row_heading level0 row5\" >5</th>\n",
       "      <td id=\"T_db6d3_row5_col0\" class=\"data row5 col0\" >4.7792</td>\n",
       "      <td id=\"T_db6d3_row5_col1\" class=\"data row5 col1\" >37.6813</td>\n",
       "      <td id=\"T_db6d3_row5_col2\" class=\"data row5 col2\" >6.1385</td>\n",
       "      <td id=\"T_db6d3_row5_col3\" class=\"data row5 col3\" >0.3719</td>\n",
       "      <td id=\"T_db6d3_row5_col4\" class=\"data row5 col4\" >0.3914</td>\n",
       "      <td id=\"T_db6d3_row5_col5\" class=\"data row5 col5\" >0.3865</td>\n",
       "    </tr>\n",
       "    <tr>\n",
       "      <th id=\"T_db6d3_level0_row6\" class=\"row_heading level0 row6\" >6</th>\n",
       "      <td id=\"T_db6d3_row6_col0\" class=\"data row6 col0\" >6.1715</td>\n",
       "      <td id=\"T_db6d3_row6_col1\" class=\"data row6 col1\" >58.4863</td>\n",
       "      <td id=\"T_db6d3_row6_col2\" class=\"data row6 col2\" >7.6476</td>\n",
       "      <td id=\"T_db6d3_row6_col3\" class=\"data row6 col3\" >0.0445</td>\n",
       "      <td id=\"T_db6d3_row6_col4\" class=\"data row6 col4\" >0.4138</td>\n",
       "      <td id=\"T_db6d3_row6_col5\" class=\"data row6 col5\" >0.4416</td>\n",
       "    </tr>\n",
       "    <tr>\n",
       "      <th id=\"T_db6d3_level0_row7\" class=\"row_heading level0 row7\" >7</th>\n",
       "      <td id=\"T_db6d3_row7_col0\" class=\"data row7 col0\" >5.4591</td>\n",
       "      <td id=\"T_db6d3_row7_col1\" class=\"data row7 col1\" >47.0944</td>\n",
       "      <td id=\"T_db6d3_row7_col2\" class=\"data row7 col2\" >6.8625</td>\n",
       "      <td id=\"T_db6d3_row7_col3\" class=\"data row7 col3\" >0.6294</td>\n",
       "      <td id=\"T_db6d3_row7_col4\" class=\"data row7 col4\" >0.3735</td>\n",
       "      <td id=\"T_db6d3_row7_col5\" class=\"data row7 col5\" >0.3777</td>\n",
       "    </tr>\n",
       "    <tr>\n",
       "      <th id=\"T_db6d3_level0_row8\" class=\"row_heading level0 row8\" >8</th>\n",
       "      <td id=\"T_db6d3_row8_col0\" class=\"data row8 col0\" >5.3914</td>\n",
       "      <td id=\"T_db6d3_row8_col1\" class=\"data row8 col1\" >42.9275</td>\n",
       "      <td id=\"T_db6d3_row8_col2\" class=\"data row8 col2\" >6.5519</td>\n",
       "      <td id=\"T_db6d3_row8_col3\" class=\"data row8 col3\" >0.4464</td>\n",
       "      <td id=\"T_db6d3_row8_col4\" class=\"data row8 col4\" >0.3277</td>\n",
       "      <td id=\"T_db6d3_row8_col5\" class=\"data row8 col5\" >0.3256</td>\n",
       "    </tr>\n",
       "    <tr>\n",
       "      <th id=\"T_db6d3_level0_row9\" class=\"row_heading level0 row9\" >9</th>\n",
       "      <td id=\"T_db6d3_row9_col0\" class=\"data row9 col0\" >4.7792</td>\n",
       "      <td id=\"T_db6d3_row9_col1\" class=\"data row9 col1\" >34.2119</td>\n",
       "      <td id=\"T_db6d3_row9_col2\" class=\"data row9 col2\" >5.8491</td>\n",
       "      <td id=\"T_db6d3_row9_col3\" class=\"data row9 col3\" >0.6664</td>\n",
       "      <td id=\"T_db6d3_row9_col4\" class=\"data row9 col4\" >0.2878</td>\n",
       "      <td id=\"T_db6d3_row9_col5\" class=\"data row9 col5\" >0.2329</td>\n",
       "    </tr>\n",
       "    <tr>\n",
       "      <th id=\"T_db6d3_level0_row10\" class=\"row_heading level0 row10\" >10</th>\n",
       "      <td id=\"T_db6d3_row10_col0\" class=\"data row10 col0\" >4.6690</td>\n",
       "      <td id=\"T_db6d3_row10_col1\" class=\"data row10 col1\" >30.6489</td>\n",
       "      <td id=\"T_db6d3_row10_col2\" class=\"data row10 col2\" >5.5361</td>\n",
       "      <td id=\"T_db6d3_row10_col3\" class=\"data row10 col3\" >0.6244</td>\n",
       "      <td id=\"T_db6d3_row10_col4\" class=\"data row10 col4\" >0.3361</td>\n",
       "      <td id=\"T_db6d3_row10_col5\" class=\"data row10 col5\" >0.3432</td>\n",
       "    </tr>\n",
       "    <tr>\n",
       "      <th id=\"T_db6d3_level0_row11\" class=\"row_heading level0 row11\" >11</th>\n",
       "      <td id=\"T_db6d3_row11_col0\" class=\"data row11 col0\" >5.4709</td>\n",
       "      <td id=\"T_db6d3_row11_col1\" class=\"data row11 col1\" >44.5241</td>\n",
       "      <td id=\"T_db6d3_row11_col2\" class=\"data row11 col2\" >6.6726</td>\n",
       "      <td id=\"T_db6d3_row11_col3\" class=\"data row11 col3\" >0.3686</td>\n",
       "      <td id=\"T_db6d3_row11_col4\" class=\"data row11 col4\" >0.3318</td>\n",
       "      <td id=\"T_db6d3_row11_col5\" class=\"data row11 col5\" >0.3142</td>\n",
       "    </tr>\n",
       "    <tr>\n",
       "      <th id=\"T_db6d3_level0_row12\" class=\"row_heading level0 row12\" >Mean</th>\n",
       "      <td id=\"T_db6d3_row12_col0\" class=\"data row12 col0\" >5.3166</td>\n",
       "      <td id=\"T_db6d3_row12_col1\" class=\"data row12 col1\" >47.0982</td>\n",
       "      <td id=\"T_db6d3_row12_col2\" class=\"data row12 col2\" >6.7073</td>\n",
       "      <td id=\"T_db6d3_row12_col3\" class=\"data row12 col3\" >0.4947</td>\n",
       "      <td id=\"T_db6d3_row12_col4\" class=\"data row12 col4\" >0.3558</td>\n",
       "      <td id=\"T_db6d3_row12_col5\" class=\"data row12 col5\" >0.3473</td>\n",
       "    </tr>\n",
       "    <tr>\n",
       "      <th id=\"T_db6d3_level0_row13\" class=\"row_heading level0 row13\" >Std</th>\n",
       "      <td id=\"T_db6d3_row13_col0\" class=\"data row13 col0\" >0.9697</td>\n",
       "      <td id=\"T_db6d3_row13_col1\" class=\"data row13 col1\" >23.0514</td>\n",
       "      <td id=\"T_db6d3_row13_col2\" class=\"data row13 col2\" >1.4525</td>\n",
       "      <td id=\"T_db6d3_row13_col3\" class=\"data row13 col3\" >0.1801</td>\n",
       "      <td id=\"T_db6d3_row13_col4\" class=\"data row13 col4\" >0.0433</td>\n",
       "      <td id=\"T_db6d3_row13_col5\" class=\"data row13 col5\" >0.0647</td>\n",
       "    </tr>\n",
       "  </tbody>\n",
       "</table>\n"
      ],
      "text/plain": [
       "<pandas.io.formats.style.Styler at 0x1ca4068f890>"
      ]
     },
     "metadata": {},
     "output_type": "display_data"
    },
    {
     "data": {
      "text/html": [],
      "text/plain": [
       "<IPython.core.display.HTML object>"
      ]
     },
     "metadata": {},
     "output_type": "display_data"
    }
   ],
   "source": [
    "model_2 = exp1.create_model('ada')\n",
    "model_3 = exp1.create_model('lightgbm')\n",
    "model_4 = exp1.create_model('br')\n",
    "model_5 = exp1.create_model('et')"
   ]
  },
  {
   "cell_type": "code",
   "execution_count": null,
   "metadata": {},
   "outputs": [
    {
     "data": {
      "application/vnd.jupyter.widget-view+json": {
       "model_id": "ff10608217b6440585b42ddeacafd40a",
       "version_major": 2,
       "version_minor": 0
      },
      "text/plain": [
       "interactive(children=(ToggleButtons(description='Plot Type:', icons=('',), options=(('Pipeline Plot', 'pipelin…"
      ]
     },
     "metadata": {},
     "output_type": "display_data"
    }
   ],
   "source": [
    "exp1.evaluate_model(model_3)"
   ]
  },
  {
   "cell_type": "code",
   "execution_count": 259,
   "metadata": {},
   "outputs": [
    {
     "data": {
      "text/html": [],
      "text/plain": [
       "<IPython.core.display.HTML object>"
      ]
     },
     "metadata": {},
     "output_type": "display_data"
    },
    {
     "data": {
      "text/html": [
       "<div>\n",
       "<style scoped>\n",
       "    .dataframe tbody tr th:only-of-type {\n",
       "        vertical-align: middle;\n",
       "    }\n",
       "\n",
       "    .dataframe tbody tr th {\n",
       "        vertical-align: top;\n",
       "    }\n",
       "\n",
       "    .dataframe thead th {\n",
       "        text-align: right;\n",
       "    }\n",
       "</style>\n",
       "<table border=\"1\" class=\"dataframe\">\n",
       "  <thead>\n",
       "    <tr style=\"text-align: right;\">\n",
       "      <th></th>\n",
       "      <th>humidity</th>\n",
       "      <th>temperature</th>\n",
       "      <th>year</th>\n",
       "      <th>month</th>\n",
       "      <th>day</th>\n",
       "      <th>day_of_week</th>\n",
       "      <th>week_of_year</th>\n",
       "      <th>season</th>\n",
       "      <th>dew_point</th>\n",
       "      <th>is_weekend</th>\n",
       "      <th>...</th>\n",
       "      <th>pm_2_5_lag_30</th>\n",
       "      <th>humidity_lag_1</th>\n",
       "      <th>humidity_lag_2</th>\n",
       "      <th>humidity_lag_3</th>\n",
       "      <th>humidity_lag_7</th>\n",
       "      <th>temperature_lag_1</th>\n",
       "      <th>temperature_lag_2</th>\n",
       "      <th>temperature_lag_3</th>\n",
       "      <th>temperature_lag_7</th>\n",
       "      <th>prediction_label</th>\n",
       "    </tr>\n",
       "    <tr>\n",
       "      <th>timestamp</th>\n",
       "      <th></th>\n",
       "      <th></th>\n",
       "      <th></th>\n",
       "      <th></th>\n",
       "      <th></th>\n",
       "      <th></th>\n",
       "      <th></th>\n",
       "      <th></th>\n",
       "      <th></th>\n",
       "      <th></th>\n",
       "      <th></th>\n",
       "      <th></th>\n",
       "      <th></th>\n",
       "      <th></th>\n",
       "      <th></th>\n",
       "      <th></th>\n",
       "      <th></th>\n",
       "      <th></th>\n",
       "      <th></th>\n",
       "      <th></th>\n",
       "      <th></th>\n",
       "    </tr>\n",
       "  </thead>\n",
       "  <tbody>\n",
       "    <tr>\n",
       "      <th>2025-01-13 07:00:00</th>\n",
       "      <td>78.292206</td>\n",
       "      <td>25.997341</td>\n",
       "      <td>2025</td>\n",
       "      <td>1</td>\n",
       "      <td>13</td>\n",
       "      <td>0</td>\n",
       "      <td>3</td>\n",
       "      <td>2</td>\n",
       "      <td>21.655781</td>\n",
       "      <td>0</td>\n",
       "      <td>...</td>\n",
       "      <td>16.010754</td>\n",
       "      <td>85.379807</td>\n",
       "      <td>73.568382</td>\n",
       "      <td>70.491486</td>\n",
       "      <td>72.844643</td>\n",
       "      <td>25.434973</td>\n",
       "      <td>28.357460</td>\n",
       "      <td>28.945705</td>\n",
       "      <td>28.825508</td>\n",
       "      <td>30.814896</td>\n",
       "    </tr>\n",
       "    <tr>\n",
       "      <th>2025-01-14 07:00:00</th>\n",
       "      <td>74.887207</td>\n",
       "      <td>26.780884</td>\n",
       "      <td>2025</td>\n",
       "      <td>1</td>\n",
       "      <td>14</td>\n",
       "      <td>1</td>\n",
       "      <td>3</td>\n",
       "      <td>2</td>\n",
       "      <td>21.758324</td>\n",
       "      <td>0</td>\n",
       "      <td>...</td>\n",
       "      <td>9.330097</td>\n",
       "      <td>78.292206</td>\n",
       "      <td>85.379807</td>\n",
       "      <td>73.568382</td>\n",
       "      <td>70.630295</td>\n",
       "      <td>25.997341</td>\n",
       "      <td>25.434973</td>\n",
       "      <td>28.357460</td>\n",
       "      <td>29.145098</td>\n",
       "      <td>34.742229</td>\n",
       "    </tr>\n",
       "    <tr>\n",
       "      <th>2025-01-15 07:00:00</th>\n",
       "      <td>74.201401</td>\n",
       "      <td>27.146723</td>\n",
       "      <td>2025</td>\n",
       "      <td>1</td>\n",
       "      <td>15</td>\n",
       "      <td>2</td>\n",
       "      <td>3</td>\n",
       "      <td>2</td>\n",
       "      <td>21.987003</td>\n",
       "      <td>0</td>\n",
       "      <td>...</td>\n",
       "      <td>3.025287</td>\n",
       "      <td>74.887207</td>\n",
       "      <td>78.292206</td>\n",
       "      <td>85.379807</td>\n",
       "      <td>71.168640</td>\n",
       "      <td>26.780884</td>\n",
       "      <td>25.997341</td>\n",
       "      <td>25.434973</td>\n",
       "      <td>28.921543</td>\n",
       "      <td>37.110592</td>\n",
       "    </tr>\n",
       "    <tr>\n",
       "      <th>2025-01-16 07:00:00</th>\n",
       "      <td>89.873428</td>\n",
       "      <td>24.990604</td>\n",
       "      <td>2025</td>\n",
       "      <td>1</td>\n",
       "      <td>16</td>\n",
       "      <td>3</td>\n",
       "      <td>3</td>\n",
       "      <td>2</td>\n",
       "      <td>22.965288</td>\n",
       "      <td>0</td>\n",
       "      <td>...</td>\n",
       "      <td>3.617924</td>\n",
       "      <td>74.201401</td>\n",
       "      <td>74.887207</td>\n",
       "      <td>78.292206</td>\n",
       "      <td>70.983574</td>\n",
       "      <td>27.146723</td>\n",
       "      <td>26.780884</td>\n",
       "      <td>25.997341</td>\n",
       "      <td>28.383165</td>\n",
       "      <td>35.261879</td>\n",
       "    </tr>\n",
       "    <tr>\n",
       "      <th>2025-01-17 07:00:00</th>\n",
       "      <td>80.848938</td>\n",
       "      <td>27.221664</td>\n",
       "      <td>2025</td>\n",
       "      <td>1</td>\n",
       "      <td>17</td>\n",
       "      <td>4</td>\n",
       "      <td>3</td>\n",
       "      <td>2</td>\n",
       "      <td>23.391453</td>\n",
       "      <td>0</td>\n",
       "      <td>...</td>\n",
       "      <td>14.572545</td>\n",
       "      <td>89.873428</td>\n",
       "      <td>74.201401</td>\n",
       "      <td>74.887207</td>\n",
       "      <td>70.491486</td>\n",
       "      <td>24.990604</td>\n",
       "      <td>27.146723</td>\n",
       "      <td>26.780884</td>\n",
       "      <td>28.945705</td>\n",
       "      <td>35.209860</td>\n",
       "    </tr>\n",
       "  </tbody>\n",
       "</table>\n",
       "<p>5 rows × 58 columns</p>\n",
       "</div>"
      ],
      "text/plain": [
       "                      humidity  temperature  year  month  day  day_of_week  \\\n",
       "timestamp                                                                    \n",
       "2025-01-13 07:00:00  78.292206    25.997341  2025      1   13            0   \n",
       "2025-01-14 07:00:00  74.887207    26.780884  2025      1   14            1   \n",
       "2025-01-15 07:00:00  74.201401    27.146723  2025      1   15            2   \n",
       "2025-01-16 07:00:00  89.873428    24.990604  2025      1   16            3   \n",
       "2025-01-17 07:00:00  80.848938    27.221664  2025      1   17            4   \n",
       "\n",
       "                     week_of_year  season  dew_point  is_weekend  ...  \\\n",
       "timestamp                                                         ...   \n",
       "2025-01-13 07:00:00             3       2  21.655781           0  ...   \n",
       "2025-01-14 07:00:00             3       2  21.758324           0  ...   \n",
       "2025-01-15 07:00:00             3       2  21.987003           0  ...   \n",
       "2025-01-16 07:00:00             3       2  22.965288           0  ...   \n",
       "2025-01-17 07:00:00             3       2  23.391453           0  ...   \n",
       "\n",
       "                     pm_2_5_lag_30  humidity_lag_1  humidity_lag_2  \\\n",
       "timestamp                                                            \n",
       "2025-01-13 07:00:00      16.010754       85.379807       73.568382   \n",
       "2025-01-14 07:00:00       9.330097       78.292206       85.379807   \n",
       "2025-01-15 07:00:00       3.025287       74.887207       78.292206   \n",
       "2025-01-16 07:00:00       3.617924       74.201401       74.887207   \n",
       "2025-01-17 07:00:00      14.572545       89.873428       74.201401   \n",
       "\n",
       "                    humidity_lag_3  humidity_lag_7  temperature_lag_1  \\\n",
       "timestamp                                                               \n",
       "2025-01-13 07:00:00      70.491486       72.844643          25.434973   \n",
       "2025-01-14 07:00:00      73.568382       70.630295          25.997341   \n",
       "2025-01-15 07:00:00      85.379807       71.168640          26.780884   \n",
       "2025-01-16 07:00:00      78.292206       70.983574          27.146723   \n",
       "2025-01-17 07:00:00      74.887207       70.491486          24.990604   \n",
       "\n",
       "                     temperature_lag_2  temperature_lag_3  temperature_lag_7  \\\n",
       "timestamp                                                                      \n",
       "2025-01-13 07:00:00          28.357460          28.945705          28.825508   \n",
       "2025-01-14 07:00:00          25.434973          28.357460          29.145098   \n",
       "2025-01-15 07:00:00          25.997341          25.434973          28.921543   \n",
       "2025-01-16 07:00:00          26.780884          25.997341          28.383165   \n",
       "2025-01-17 07:00:00          27.146723          26.780884          28.945705   \n",
       "\n",
       "                     prediction_label  \n",
       "timestamp                              \n",
       "2025-01-13 07:00:00         30.814896  \n",
       "2025-01-14 07:00:00         34.742229  \n",
       "2025-01-15 07:00:00         37.110592  \n",
       "2025-01-16 07:00:00         35.261879  \n",
       "2025-01-17 07:00:00         35.209860  \n",
       "\n",
       "[5 rows x 58 columns]"
      ]
     },
     "execution_count": 259,
     "metadata": {},
     "output_type": "execute_result"
    }
   ],
   "source": [
    "new_data = test_data.copy().drop(['pm_2_5'], axis=1)\n",
    "predictions = exp1.predict_model(model_1, data=new_data)\n",
    "predictions.head()"
   ]
  },
  {
   "cell_type": "code",
   "execution_count": 260,
   "metadata": {},
   "outputs": [
    {
     "data": {
      "text/plain": [
       "timestamp\n",
       "2025-01-13 07:00:00    30.814896\n",
       "2025-01-14 07:00:00    34.742229\n",
       "2025-01-15 07:00:00    37.110592\n",
       "2025-01-16 07:00:00    35.261879\n",
       "2025-01-17 07:00:00    35.209860\n",
       "Freq: D, Name: prediction_label, dtype: float64"
      ]
     },
     "execution_count": 260,
     "metadata": {},
     "output_type": "execute_result"
    }
   ],
   "source": [
    "predict_v = predictions['prediction_label']\n",
    "predict_v.head()"
   ]
  },
  {
   "cell_type": "code",
   "execution_count": 261,
   "metadata": {},
   "outputs": [],
   "source": [
    "real = test_data['pm_2_5']\n",
    "# real.head(7)"
   ]
  },
  {
   "cell_type": "markdown",
   "metadata": {},
   "source": [
    "# ทำนาย 1 วันข้างหน้า ต้องทำนายเผื่อ 2 วัน"
   ]
  },
  {
   "cell_type": "code",
   "execution_count": 3,
   "metadata": {},
   "outputs": [
    {
     "ename": "NameError",
     "evalue": "name 'predict_v' is not defined",
     "output_type": "error",
     "traceback": [
      "\u001b[31m---------------------------------------------------------------------------\u001b[39m",
      "\u001b[31mNameError\u001b[39m                                 Traceback (most recent call last)",
      "\u001b[36mCell\u001b[39m\u001b[36m \u001b[39m\u001b[32mIn[3]\u001b[39m\u001b[32m, line 5\u001b[39m\n\u001b[32m      2\u001b[39m \u001b[38;5;28;01mimport\u001b[39;00m\u001b[38;5;250m \u001b[39m\u001b[34;01mmatplotlib\u001b[39;00m\u001b[34;01m.\u001b[39;00m\u001b[34;01mpyplot\u001b[39;00m\u001b[38;5;250m \u001b[39m\u001b[38;5;28;01mas\u001b[39;00m\u001b[38;5;250m \u001b[39m\u001b[34;01mplt\u001b[39;00m\n\u001b[32m      4\u001b[39m \u001b[38;5;66;03m# สมมุติว่า result คือ DataFrame ที่รวม predictions กับ pm_10\u001b[39;00m\n\u001b[32m----> \u001b[39m\u001b[32m5\u001b[39m result = pd.concat([\u001b[43mpredict_v\u001b[49m, test_data[\u001b[33m'\u001b[39m\u001b[33mpm_2_5\u001b[39m\u001b[33m'\u001b[39m]], axis=\u001b[32m1\u001b[39m)\n\u001b[32m      6\u001b[39m result.columns = [\u001b[33m'\u001b[39m\u001b[33mPredictions\u001b[39m\u001b[33m'\u001b[39m, \u001b[33m'\u001b[39m\u001b[33mActual PM2_5\u001b[39m\u001b[33m'\u001b[39m]  \u001b[38;5;66;03m# ตั้งชื่อคอลัมน์\u001b[39;00m\n\u001b[32m      8\u001b[39m \u001b[38;5;66;03m# พล็อตข้อมูล\u001b[39;00m\n",
      "\u001b[31mNameError\u001b[39m: name 'predict_v' is not defined"
     ]
    }
   ],
   "source": [
    "import pandas as pd\n",
    "import matplotlib.pyplot as plt\n",
    "\n",
    "# สมมุติว่า result คือ DataFrame ที่รวม predictions กับ pm_10\n",
    "result = pd.concat([predict_v.shift(-1), test_data['pm_2_5']], axis=1)\n",
    "result.columns = ['Predictions', 'Actual PM2_5']  # ตั้งชื่อคอลัมน์\n",
    "\n",
    "# พล็อตข้อมูล\n",
    "result.plot(figsize=(10, 6))\n",
    "\n",
    "# ตั้งชื่อกราฟ\n",
    "plt.title('Predictions vs Actual PM2_5')\n",
    "plt.xlabel('Index')\n",
    "plt.ylabel('PM2_5 Values')\n",
    "\n",
    "# แสดงกราฟ\n",
    "plt.show()"
   ]
  },
  {
   "cell_type": "code",
   "execution_count": 263,
   "metadata": {},
   "outputs": [
    {
     "name": "stdout",
     "output_type": "stream",
     "text": [
      "R² Score: 0.6416\n",
      "Mean Absolute Error (MAE): 4.9264\n",
      "Root Mean Squared Error (RMSE): 5.9763\n",
      "Accuracy: 82.90%\n"
     ]
    }
   ],
   "source": [
    "from pycaret.regression import *\n",
    "from sklearn.metrics import r2_score, mean_absolute_error, mean_squared_error\n",
    "import numpy as np\n",
    "\n",
    "y_true = test_data[\"pm_2_5\"][:\"2025-2-10\"]\n",
    "y_pred = predict_v.shift(-1).dropna(axis=0)# \"prediction_label\" contains predictions\n",
    "\n",
    "# Calculate Regression Metrics\n",
    "r2 = r2_score(y_true, y_pred)\n",
    "mae = mean_absolute_error(y_true, y_pred)\n",
    "rmse = np.sqrt(mean_squared_error(y_true, y_pred))\n",
    "\n",
    "# Calculate Accuracy as (1 - (MAE / mean_actual)) * 100\n",
    "mean_actual = np.mean(y_true)  # Mean of actual values\n",
    "accuracy = (1 - (mae / mean_actual)) * 100  # Accuracy in percentage\n",
    "\n",
    "# Print Results\n",
    "print(f\"R² Score: {r2:.4f}\")  # Closer to 1 is better\n",
    "print(f\"Mean Absolute Error (MAE): {mae:.4f}\")  # Lower is better\n",
    "print(f\"Root Mean Squared Error (RMSE): {rmse:.4f}\")  # Lower is better\n",
    "print(f\"Accuracy: {accuracy:.2f}%\")  # Accuracy percentage"
   ]
  },
  {
   "cell_type": "code",
   "execution_count": 264,
   "metadata": {},
   "outputs": [
    {
     "name": "stdout",
     "output_type": "stream",
     "text": [
      "R² Score: 0.6416\n",
      "Mean Absolute Error (MAE): 4.9264\n",
      "Root Mean Squared Error (RMSE): 5.9763\n",
      "Mean Absolute Percentage Error (MAPE): 18.25%\n",
      "Accuracy: 81.75%\n"
     ]
    }
   ],
   "source": [
    "from pycaret.regression import *\n",
    "from sklearn.metrics import r2_score, mean_absolute_error, mean_squared_error\n",
    "import numpy as np\n",
    "\n",
    "# Extract actual values and predicted values\n",
    "y_true = test_data[\"pm_2_5\"][:\"2025-2-10\"]\n",
    "y_pred = predict_v.shift(-1).dropna(axis=0)\n",
    "\n",
    "# Calculate Regression Metrics\n",
    "r2 = r2_score(y_true, y_pred)\n",
    "mae = mean_absolute_error(y_true, y_pred)\n",
    "rmse = np.sqrt(mean_squared_error(y_true, y_pred))\n",
    "\n",
    "# Calculate MAPE and Accuracy\n",
    "mape = np.mean(np.abs((y_true - y_pred) / y_true)) * 100  # Mean Absolute Percentage Error\n",
    "accuracy = 100 - mape  # Convert to Accuracy %\n",
    "\n",
    "# Print Results\n",
    "print(f\"R² Score: {r2:.4f}\")\n",
    "print(f\"Mean Absolute Error (MAE): {mae:.4f}\")\n",
    "print(f\"Root Mean Squared Error (RMSE): {rmse:.4f}\")\n",
    "print(f\"Mean Absolute Percentage Error (MAPE): {mape:.2f}%\")\n",
    "print(f\"Accuracy: {accuracy:.2f}%\")"
   ]
  },
  {
   "cell_type": "markdown",
   "metadata": {},
   "source": [
    "# Predict 1 by 1"
   ]
  },
  {
   "cell_type": "markdown",
   "metadata": {},
   "source": [
    "30 วัน  \n",
    "2025-01-13 07:00:00  \n",
    "2025-02-11 07:00:00  \n",
    "7 วัน  \n",
    "2025-02-05  \n",
    "2025-02-11  \n",
    "24 วัน  \n",
    "2025-01-19 07:00:00  \n",
    "31 วัน\n",
    "2025-01-12 07:00:00"
   ]
  },
  {
   "cell_type": "code",
   "execution_count": null,
   "metadata": {},
   "outputs": [],
   "source": [
    "# model_1 = exp1.create_model('rf')\n",
    "# tune_1 = exp1.tune_model(model_1)"
   ]
  },
  {
   "cell_type": "code",
   "execution_count": 272,
   "metadata": {},
   "outputs": [
    {
     "data": {
      "text/html": [],
      "text/plain": [
       "<IPython.core.display.HTML object>"
      ]
     },
     "metadata": {},
     "output_type": "display_data"
    },
    {
     "data": {
      "text/html": [],
      "text/plain": [
       "<IPython.core.display.HTML object>"
      ]
     },
     "metadata": {},
     "output_type": "display_data"
    },
    {
     "data": {
      "text/html": [],
      "text/plain": [
       "<IPython.core.display.HTML object>"
      ]
     },
     "metadata": {},
     "output_type": "display_data"
    },
    {
     "data": {
      "text/html": [],
      "text/plain": [
       "<IPython.core.display.HTML object>"
      ]
     },
     "metadata": {},
     "output_type": "display_data"
    },
    {
     "data": {
      "text/html": [],
      "text/plain": [
       "<IPython.core.display.HTML object>"
      ]
     },
     "metadata": {},
     "output_type": "display_data"
    },
    {
     "data": {
      "text/html": [],
      "text/plain": [
       "<IPython.core.display.HTML object>"
      ]
     },
     "metadata": {},
     "output_type": "display_data"
    },
    {
     "data": {
      "text/html": [],
      "text/plain": [
       "<IPython.core.display.HTML object>"
      ]
     },
     "metadata": {},
     "output_type": "display_data"
    },
    {
     "data": {
      "text/html": [],
      "text/plain": [
       "<IPython.core.display.HTML object>"
      ]
     },
     "metadata": {},
     "output_type": "display_data"
    },
    {
     "data": {
      "text/html": [],
      "text/plain": [
       "<IPython.core.display.HTML object>"
      ]
     },
     "metadata": {},
     "output_type": "display_data"
    },
    {
     "data": {
      "text/html": [],
      "text/plain": [
       "<IPython.core.display.HTML object>"
      ]
     },
     "metadata": {},
     "output_type": "display_data"
    },
    {
     "data": {
      "text/html": [],
      "text/plain": [
       "<IPython.core.display.HTML object>"
      ]
     },
     "metadata": {},
     "output_type": "display_data"
    },
    {
     "data": {
      "text/html": [],
      "text/plain": [
       "<IPython.core.display.HTML object>"
      ]
     },
     "metadata": {},
     "output_type": "display_data"
    },
    {
     "data": {
      "text/html": [],
      "text/plain": [
       "<IPython.core.display.HTML object>"
      ]
     },
     "metadata": {},
     "output_type": "display_data"
    },
    {
     "data": {
      "text/html": [],
      "text/plain": [
       "<IPython.core.display.HTML object>"
      ]
     },
     "metadata": {},
     "output_type": "display_data"
    },
    {
     "data": {
      "text/html": [],
      "text/plain": [
       "<IPython.core.display.HTML object>"
      ]
     },
     "metadata": {},
     "output_type": "display_data"
    },
    {
     "data": {
      "text/html": [],
      "text/plain": [
       "<IPython.core.display.HTML object>"
      ]
     },
     "metadata": {},
     "output_type": "display_data"
    },
    {
     "data": {
      "text/html": [],
      "text/plain": [
       "<IPython.core.display.HTML object>"
      ]
     },
     "metadata": {},
     "output_type": "display_data"
    },
    {
     "data": {
      "text/html": [],
      "text/plain": [
       "<IPython.core.display.HTML object>"
      ]
     },
     "metadata": {},
     "output_type": "display_data"
    },
    {
     "data": {
      "text/html": [],
      "text/plain": [
       "<IPython.core.display.HTML object>"
      ]
     },
     "metadata": {},
     "output_type": "display_data"
    },
    {
     "data": {
      "text/html": [],
      "text/plain": [
       "<IPython.core.display.HTML object>"
      ]
     },
     "metadata": {},
     "output_type": "display_data"
    },
    {
     "data": {
      "text/html": [],
      "text/plain": [
       "<IPython.core.display.HTML object>"
      ]
     },
     "metadata": {},
     "output_type": "display_data"
    },
    {
     "data": {
      "text/html": [],
      "text/plain": [
       "<IPython.core.display.HTML object>"
      ]
     },
     "metadata": {},
     "output_type": "display_data"
    },
    {
     "data": {
      "text/html": [],
      "text/plain": [
       "<IPython.core.display.HTML object>"
      ]
     },
     "metadata": {},
     "output_type": "display_data"
    },
    {
     "data": {
      "text/html": [],
      "text/plain": [
       "<IPython.core.display.HTML object>"
      ]
     },
     "metadata": {},
     "output_type": "display_data"
    },
    {
     "data": {
      "text/html": [],
      "text/plain": [
       "<IPython.core.display.HTML object>"
      ]
     },
     "metadata": {},
     "output_type": "display_data"
    },
    {
     "data": {
      "text/html": [],
      "text/plain": [
       "<IPython.core.display.HTML object>"
      ]
     },
     "metadata": {},
     "output_type": "display_data"
    },
    {
     "data": {
      "text/html": [],
      "text/plain": [
       "<IPython.core.display.HTML object>"
      ]
     },
     "metadata": {},
     "output_type": "display_data"
    },
    {
     "data": {
      "text/html": [],
      "text/plain": [
       "<IPython.core.display.HTML object>"
      ]
     },
     "metadata": {},
     "output_type": "display_data"
    },
    {
     "data": {
      "text/html": [],
      "text/plain": [
       "<IPython.core.display.HTML object>"
      ]
     },
     "metadata": {},
     "output_type": "display_data"
    },
    {
     "data": {
      "text/html": [],
      "text/plain": [
       "<IPython.core.display.HTML object>"
      ]
     },
     "metadata": {},
     "output_type": "display_data"
    }
   ],
   "source": [
    "data_compare = data_filtered.loc[:'2025-01-12']\n",
    "result = pd.DataFrame()\n",
    "\n",
    "start_date = \"2025-01-13\"\n",
    "end_date = \"2025-02-11\"\n",
    "\n",
    "model = model_1\n",
    "\n",
    "for date in pd.date_range(start=start_date, end=end_date, freq=\"D\"):\n",
    "    # Drop columns\n",
    "    test_1 = data_filtered\n",
    "    # ดึงวันนี้มา\n",
    "    test_1 = test_1.loc[str(date.date())]\n",
    "\n",
    "    # ใส่เข้าไป\n",
    "    data_compare = pd.concat([data_compare, test_1], axis=0)\n",
    "\n",
    "    # เพิ่มฟีเจอร์ rolling average (ค่าเฉลี่ยเคลื่อนที่)\n",
    "\n",
    "    # data_compare['pm_2_5_rolling_7'] = data_compare['pm_2_5'].rolling(window=7).mean().shift(1)  # ค่าเฉลี่ย 5 วันของ PM 10\n",
    "\n",
    "    # rolling_size = 1\n",
    "    # for i in range(1,rolling_size+1):\n",
    "    #     data_compare[f'pm_2_5_rolling_{i}'] = data_compare['pm_2_5'].rolling(window=i).mean().shift(1)\n",
    "\n",
    "    for i in range(1,lag_size+1):\n",
    "        data_compare[f'pm_2_5_lag_{i}'] = data_compare['pm_2_5'].shift(i)\n",
    "\n",
    "    # ดึง\n",
    "    test_1 = (data_compare.loc[str(date.date())]).drop(columns=['pm_2_5'])\n",
    "    \n",
    "    # Drop ทิ้งล่าสุดใน data_compare\n",
    "    data_compare = data_compare.drop(data_compare.last_valid_index())\n",
    "    test_1 = test_1[~test_1.index.duplicated(keep='last')]\n",
    "\n",
    "    # Predict\n",
    "    predict_test_1 = exp1.predict_model(model, data=test_1)\n",
    "\n",
    "    # เพิ่มผลทำนายเข้าไปใน data_compare\n",
    "    data_compare = pd.concat([data_compare, predict_test_1], axis=0)\n",
    "\n",
    "    # แทนที่ค่าในคอลัมน์ 'pm_2_5' ในวันที่ '2025-01-13' ด้วยค่าในคอลัมน์ 'prediction_label'\n",
    "    data_compare.loc[str(date.date()), 'pm_2_5'] = data_compare.loc[str(date.date()), 'prediction_label']\n",
    "\n",
    "    # ลบคอลัมน์ 'prediction_label' (หากต้องการแค่ผลทำนาย)\n",
    "    data_compare = data_compare.drop(columns=['prediction_label'])\n",
    "\n",
    "    # กรองเอาวันที่ซ้ำกัน (index ซ้ำ) ออกให้เหลือแค่ตัวเดียว\n",
    "    data_compare = data_compare[~data_compare.index.duplicated(keep='last')]\n",
    "\n",
    "    # บันทึกลง result\n",
    "    result = pd.concat([result, predict_test_1], axis=0)"
   ]
  },
  {
   "cell_type": "code",
   "execution_count": 2,
   "metadata": {},
   "outputs": [
    {
     "ename": "NameError",
     "evalue": "name 'plot_model' is not defined",
     "output_type": "error",
     "traceback": [
      "\u001b[31m---------------------------------------------------------------------------\u001b[39m",
      "\u001b[31mNameError\u001b[39m                                 Traceback (most recent call last)",
      "\u001b[36mCell\u001b[39m\u001b[36m \u001b[39m\u001b[32mIn[2]\u001b[39m\u001b[32m, line 1\u001b[39m\n\u001b[32m----> \u001b[39m\u001b[32m1\u001b[39m \u001b[43mplot_model\u001b[49m(model_1, \u001b[33m'\u001b[39m\u001b[33mlearning\u001b[39m\u001b[33m'\u001b[39m)\n",
      "\u001b[31mNameError\u001b[39m: name 'plot_model' is not defined"
     ]
    }
   ],
   "source": [
    "exp1.plot_model(model_1, 'learning')"
   ]
  },
  {
   "cell_type": "code",
   "execution_count": 266,
   "metadata": {},
   "outputs": [
    {
     "data": {
      "image/png": "[encoded data removed]",
      "text/plain": [
       "<Figure size 1000x600 with 1 Axes>"
      ]
     },
     "metadata": {},
     "output_type": "display_data"
    }
   ],
   "source": [
    "import pandas as pd\n",
    "import matplotlib.pyplot as plt\n",
    "\n",
    "real_data = data_filtered.loc[start_date:end_date]\n",
    "# สมมุติว่า result คือ DataFrame ที่รวม predictions กับ pm_10\n",
    "result_plot = pd.concat([result['prediction_label'].shift(-1), real_data['pm_2_5']], axis=1)\n",
    "result_plot.columns = ['Predictions', 'Actual PM10']  # ตั้งชื่อคอลัมน์\n",
    "\n",
    "# พล็อตข้อมูล\n",
    "result_plot.plot(figsize=(10, 6))\n",
    "\n",
    "# ตั้งชื่อกราฟ\n",
    "plt.title('Predictions vs Actual PM2.5')\n",
    "plt.xlabel('Index')\n",
    "plt.ylabel('PM2.5 Values')\n",
    "\n",
    "# แสดงกราฟ\n",
    "plt.show()"
   ]
  },
  {
   "cell_type": "code",
   "execution_count": 267,
   "metadata": {},
   "outputs": [
    {
     "name": "stdout",
     "output_type": "stream",
     "text": [
      "R² Score: 0.1466\n",
      "Mean Absolute Error (MAE): 7.3529\n",
      "Root Mean Squared Error (RMSE): 9.2223\n",
      "Accuracy: 74.47%\n"
     ]
    }
   ],
   "source": [
    "from pycaret.regression import *\n",
    "from sklearn.metrics import r2_score, mean_absolute_error, mean_squared_error\n",
    "import numpy as np\n",
    "\n",
    "y_true = real_data[\"pm_2_5\"][:\"2025-2-10\"]\n",
    "y_pred = result['prediction_label'].shift(-1).dropna(axis=0)# \"prediction_label\" contains predictions\n",
    "\n",
    "# Calculate Regression Metrics\n",
    "r2 = r2_score(y_true, y_pred)\n",
    "mae = mean_absolute_error(y_true, y_pred)\n",
    "rmse = np.sqrt(mean_squared_error(y_true, y_pred))\n",
    "\n",
    "# Calculate Accuracy as (1 - (MAE / mean_actual)) * 100\n",
    "mean_actual = np.mean(y_true)  # Mean of actual values\n",
    "accuracy = (1 - (mae / mean_actual)) * 100  # Accuracy in percentage\n",
    "\n",
    "# Print Results\n",
    "print(f\"R² Score: {r2:.4f}\")  # Closer to 1 is better\n",
    "print(f\"Mean Absolute Error (MAE): {mae:.4f}\")  # Lower is better\n",
    "print(f\"Root Mean Squared Error (RMSE): {rmse:.4f}\")  # Lower is better\n",
    "print(f\"Accuracy: {accuracy:.2f}%\")  # Accuracy percentage"
   ]
  },
  {
   "cell_type": "code",
   "execution_count": 268,
   "metadata": {},
   "outputs": [
    {
     "name": "stdout",
     "output_type": "stream",
     "text": [
      "R² Score: 0.1466\n",
      "Mean Absolute Percentage Error (MAPE): 29.54%\n"
     ]
    }
   ],
   "source": [
    "# ค่า R² และ MAPE\n",
    "r2 = r2_score(y_true, y_pred)\n",
    "mape = np.mean(np.abs((y_true - y_pred) / y_true)) * 100  # MAPE in percentage\n",
    "\n",
    "# การปรับสเกลของ R² (สมมติให้อยู่ในช่วง 0-100 เพื่อให้อยู่ในช่วงเดียวกับ MAPE)\n",
    "r2_scaled = r2 * 100  # เปลี่ยน R² ให้เป็นค่าร้อยละ\n",
    "\n",
    "print(f\"R² Score: {r2:.4f}\")\n",
    "print(f\"Mean Absolute Percentage Error (MAPE): {mape:.2f}%\")\n",
    "\n"
   ]
  },
  {
   "cell_type": "code",
   "execution_count": 269,
   "metadata": {},
   "outputs": [
    {
     "name": "stdout",
     "output_type": "stream",
     "text": [
      "R² Score: 0.1466\n",
      "Mean Absolute Error (MAE): 7.3529\n",
      "Root Mean Squared Error (RMSE): 9.2223\n",
      "Mean Absolute Percentage Error (MAPE): 29.54%\n",
      "Accuracy: 70.46%\n"
     ]
    }
   ],
   "source": [
    "# Calculate Regression Metrics\n",
    "r2 = r2_score(y_true, y_pred)\n",
    "mae = mean_absolute_error(y_true, y_pred)\n",
    "rmse = np.sqrt(mean_squared_error(y_true, y_pred))\n",
    "\n",
    "# Calculate MAPE and Accuracy\n",
    "mape = np.mean(np.abs((y_true - y_pred) / y_true)) * 100  # Mean Absolute Percentage Error\n",
    "accuracy = 100 - mape  # Convert to Accuracy %\n",
    "\n",
    "# Print Results\n",
    "print(f\"R² Score: {r2:.4f}\")\n",
    "print(f\"Mean Absolute Error (MAE): {mae:.4f}\")\n",
    "print(f\"Root Mean Squared Error (RMSE): {rmse:.4f}\")\n",
    "print(f\"Mean Absolute Percentage Error (MAPE): {mape:.2f}%\")\n",
    "print(f\"Accuracy: {accuracy:.2f}%\")"
   ]
  }
 ],
 "metadata": {
  "kernelspec": {
   "display_name": "Python 3.11.9 ('venv': venv)",
   "language": "python",
   "name": "python3"
  },
  "language_info": {
   "codemirror_mode": {
    "name": "ipython",
    "version": 3
   },
   "file_extension": ".py",
   "mimetype": "text/x-python",
   "name": "python",
   "nbconvert_exporter": "python",
   "pygments_lexer": "ipython3",
   "version": "3.11.9"
  },
  "vscode": {
   "interpreter": {
    "hash": "a59bf01f6890b2ed43fbf06ab972ae61aa40692c1f27817fbc63d183940b6722"
   }
  }
 },
 "nbformat": 4,
 "nbformat_minor": 2
}

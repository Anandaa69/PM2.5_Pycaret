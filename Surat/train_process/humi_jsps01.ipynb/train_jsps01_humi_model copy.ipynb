{
 "cells": [
  {
   "cell_type": "markdown",
   "metadata": {},
   "source": [
    "------------------"
   ]
  },
  {
   "cell_type": "code",
   "execution_count": 31,
   "metadata": {},
   "outputs": [],
   "source": [
    "import pandas as pd"
   ]
  },
  {
   "cell_type": "code",
   "execution_count": 32,
   "metadata": {},
   "outputs": [],
   "source": [
    "# อ่านไฟล์ CSV\n",
    "data = pd.read_csv('../../export_data_jsp01/clean_data_jsps001_1d.csv')"
   ]
  },
  {
   "cell_type": "code",
   "execution_count": 33,
   "metadata": {},
   "outputs": [],
   "source": [
    "# ตั้ง 'timestamp' เป็น index หากยังไม่ได้ทำ\n",
    "data['timestamp'] = pd.to_datetime(data['timestamp'])\n",
    "data.set_index('timestamp', inplace=True)\n",
    "\n",
    "# ตั้งค่า freq ให้กับ index\n",
    "data = data.asfreq('D')  # 'D' สำหรับรายวัน"
   ]
  },
  {
   "cell_type": "code",
   "execution_count": 34,
   "metadata": {},
   "outputs": [
    {
     "data": {
      "text/html": [
       "<div>\n",
       "<style scoped>\n",
       "    .dataframe tbody tr th:only-of-type {\n",
       "        vertical-align: middle;\n",
       "    }\n",
       "\n",
       "    .dataframe tbody tr th {\n",
       "        vertical-align: top;\n",
       "    }\n",
       "\n",
       "    .dataframe thead th {\n",
       "        text-align: right;\n",
       "    }\n",
       "</style>\n",
       "<table border=\"1\" class=\"dataframe\">\n",
       "  <thead>\n",
       "    <tr style=\"text-align: right;\">\n",
       "      <th></th>\n",
       "      <th>humidity</th>\n",
       "      <th>pm_2_5</th>\n",
       "      <th>temperature</th>\n",
       "    </tr>\n",
       "    <tr>\n",
       "      <th>timestamp</th>\n",
       "      <th></th>\n",
       "      <th></th>\n",
       "      <th></th>\n",
       "    </tr>\n",
       "  </thead>\n",
       "  <tbody>\n",
       "    <tr>\n",
       "      <th>2025-02-07 07:00:00</th>\n",
       "      <td>72.053758</td>\n",
       "      <td>27.864365</td>\n",
       "      <td>28.186164</td>\n",
       "    </tr>\n",
       "    <tr>\n",
       "      <th>2025-02-08 07:00:00</th>\n",
       "      <td>72.759274</td>\n",
       "      <td>33.923883</td>\n",
       "      <td>28.104894</td>\n",
       "    </tr>\n",
       "    <tr>\n",
       "      <th>2025-02-09 07:00:00</th>\n",
       "      <td>69.850659</td>\n",
       "      <td>32.647832</td>\n",
       "      <td>28.231867</td>\n",
       "    </tr>\n",
       "    <tr>\n",
       "      <th>2025-02-10 07:00:00</th>\n",
       "      <td>69.598712</td>\n",
       "      <td>32.856690</td>\n",
       "      <td>28.338313</td>\n",
       "    </tr>\n",
       "    <tr>\n",
       "      <th>2025-02-11 07:00:00</th>\n",
       "      <td>71.713989</td>\n",
       "      <td>34.038326</td>\n",
       "      <td>28.029813</td>\n",
       "    </tr>\n",
       "  </tbody>\n",
       "</table>\n",
       "</div>"
      ],
      "text/plain": [
       "                      humidity     pm_2_5  temperature\n",
       "timestamp                                             \n",
       "2025-02-07 07:00:00  72.053758  27.864365    28.186164\n",
       "2025-02-08 07:00:00  72.759274  33.923883    28.104894\n",
       "2025-02-09 07:00:00  69.850659  32.647832    28.231867\n",
       "2025-02-10 07:00:00  69.598712  32.856690    28.338313\n",
       "2025-02-11 07:00:00  71.713989  34.038326    28.029813"
      ]
     },
     "execution_count": 34,
     "metadata": {},
     "output_type": "execute_result"
    }
   ],
   "source": [
    "data.tail()"
   ]
  },
  {
   "cell_type": "code",
   "execution_count": 35,
   "metadata": {},
   "outputs": [
    {
     "name": "stdout",
     "output_type": "stream",
     "text": [
      "แถวที่มีค่าหายไปก่อนเติม:\n",
      "Empty DataFrame\n",
      "Columns: [humidity, pm_2_5, temperature]\n",
      "Index: []\n",
      "ไม่มีค่าหายไปแล้ว\n"
     ]
    },
    {
     "data": {
      "text/plain": [
       "humidity       75.436933\n",
       "pm_2_5         41.697658\n",
       "temperature    30.098761\n",
       "Name: 2023-09-30 07:00:00, dtype: float64"
      ]
     },
     "execution_count": 35,
     "metadata": {},
     "output_type": "execute_result"
    }
   ],
   "source": [
    "# แสดงแถวที่มีค่าหายไปก่อนเติม\n",
    "print(\"แถวที่มีค่าหายไปก่อนเติม:\")\n",
    "print(data[data.isnull().any(axis=1)])\n",
    "\n",
    "# เติมค่าที่หายไปด้วยการ interpolate แบบเส้นตรง\n",
    "data.interpolate(method='linear', inplace=True)\n",
    "\n",
    "# แสดงแถวที่ยังมีค่า NaN หลังจากเติม (ถ้ามี)\n",
    "missing_rows_after = data[data.isnull().any(axis=1)]\n",
    "if not missing_rows_after.empty:\n",
    "    print(\"แถวที่ยังมีค่าหายไปหลังเติม:\")\n",
    "    print(missing_rows_after)\n",
    "else:\n",
    "    print(\"ไม่มีค่าหายไปแล้ว\")\n",
    "\n",
    "\n",
    "row = data.loc[\"2023-09-30 07:00:00\"]\n",
    "row"
   ]
  },
  {
   "cell_type": "code",
   "execution_count": 36,
   "metadata": {},
   "outputs": [],
   "source": [
    "data = data[['humidity', 'temperature']]"
   ]
  },
  {
   "cell_type": "code",
   "execution_count": 37,
   "metadata": {},
   "outputs": [],
   "source": [
    "data[\"year\"] = data.index.year\n",
    "data[\"month\"] = data.index.month\n",
    "data[\"day\"] = data.index.day\n",
    "data[\"day_of_week\"] = data.index.dayofweek  # 0 = Monday, 6 = Sunday\n",
    "data[\"week_of_year\"] = data.index.isocalendar().week  # ค่าจะเป็น int64"
   ]
  },
  {
   "cell_type": "code",
   "execution_count": 38,
   "metadata": {},
   "outputs": [],
   "source": [
    "# สมมติว่า data มี index เป็น datetime อยู่แล้ว\n",
    "def assign_season(month):\n",
    "    if month in [2, 3, 4]:  # ก.พ. - เม.ย.\n",
    "        return \"summer\"        # ฤดูร้อน\n",
    "    elif month in [5, 6, 7]:  # พ.ค. - ก.ค.\n",
    "        return \"early_rainy\"   # ต้นฤดูฝน\n",
    "    else:  # ส.ค. - ม.ค.\n",
    "        return \"late_rainy\"    # ปลายฤดูฝน\n",
    "\n",
    "season_mapping = {'summer': 0, 'early_rainy': 1, 'late_rainy': 2}\n",
    "data[\"season\"] = data.index.month.map(assign_season)\n",
    "data['season'] = data['season'].map(season_mapping)"
   ]
  },
  {
   "cell_type": "code",
   "execution_count": 39,
   "metadata": {},
   "outputs": [],
   "source": [
    "data[\"is_weekend\"] = data.index.dayofweek.isin([5, 6]).astype(int)"
   ]
  },
  {
   "cell_type": "code",
   "execution_count": 40,
   "metadata": {},
   "outputs": [],
   "source": [
    "import pandas as pd\n",
    "import numpy as np\n",
    "\n",
    "# สมมุติว่ามี DataFrame data ที่มีข้อมูลอยู่แล้ว\n",
    "# เพิ่มฟีเจอร์ day_of_year\n",
    "data['date'] = pd.to_datetime(data[['year', 'month', 'day']])\n",
    "data['day_of_year'] = data['date'].dt.dayofyear\n",
    "\n",
    "# # เพิ่มฟีเจอร์ month_sin และ month_cos\n",
    "# data['month_sin'] = np.sin(2 * np.pi * data['month'] / 12)\n",
    "# data['month_cos'] = np.cos(2 * np.pi * data['month'] / 12)\n",
    "\n",
    "# # เพิ่มฟีเจอร์ day_of_week_sin และ day_of_week_cos\n",
    "# data['day_of_week_sin'] = np.sin(2 * np.pi * data['day_of_week'] / 7)\n",
    "# data['day_of_week_cos'] = np.cos(2 * np.pi * data['day_of_week'] / 7)\n",
    "\n",
    "lag_size = 7\n",
    "for i in range(1,lag_size+1):\n",
    "    data[f'humidity_lag_{i}'] = data['humidity'].shift(i)\n",
    "\n",
    "for i in range(1,lag_size+1):\n",
    "    data[f'temperature_lag_{i}'] = data['temperature'].shift(i)"
   ]
  },
  {
   "cell_type": "code",
   "execution_count": 41,
   "metadata": {},
   "outputs": [],
   "source": [
    "# data[\"temp_diff\"] = data[\"temperature\"].diff()"
   ]
  },
  {
   "cell_type": "code",
   "execution_count": 42,
   "metadata": {},
   "outputs": [
    {
     "data": {
      "text/plain": [
       "Index(['humidity', 'temperature', 'year', 'month', 'day', 'day_of_week',\n",
       "       'week_of_year', 'season', 'is_weekend', 'date', 'day_of_year',\n",
       "       'humidity_lag_1', 'humidity_lag_2', 'humidity_lag_3', 'humidity_lag_4',\n",
       "       'humidity_lag_5', 'humidity_lag_6', 'humidity_lag_7',\n",
       "       'temperature_lag_1', 'temperature_lag_2', 'temperature_lag_3',\n",
       "       'temperature_lag_4', 'temperature_lag_5', 'temperature_lag_6',\n",
       "       'temperature_lag_7'],\n",
       "      dtype='object')"
      ]
     },
     "execution_count": 42,
     "metadata": {},
     "output_type": "execute_result"
    }
   ],
   "source": [
    "data.columns"
   ]
  },
  {
   "cell_type": "code",
   "execution_count": 43,
   "metadata": {},
   "outputs": [],
   "source": [
    "data_filtered = data.loc['2023-09':]  # ดึงข้อมูลตั้งแต่กันยายน 2023 เป็นต้นไป"
   ]
  },
  {
   "cell_type": "code",
   "execution_count": 44,
   "metadata": {},
   "outputs": [
    {
     "data": {
      "text/plain": [
       "<Axes: xlabel='timestamp'>"
      ]
     },
     "execution_count": 44,
     "metadata": {},
     "output_type": "execute_result"
    },
    {
     "data": {
      "image/png": "[encoded data removed]",
      "text/plain": [
       "<Figure size 800x550 with 1 Axes>"
      ]
     },
     "metadata": {},
     "output_type": "display_data"
    }
   ],
   "source": [
    "data_filtered.plot()"
   ]
  },
  {
   "cell_type": "code",
   "execution_count": 45,
   "metadata": {},
   "outputs": [
    {
     "data": {
      "text/plain": [
       "0.05660377358490566"
      ]
     },
     "execution_count": 45,
     "metadata": {},
     "output_type": "execute_result"
    }
   ],
   "source": [
    "# สมมติว่า data มีจำนวนวันทั้งหมด\n",
    "total_data = len(data_filtered)\n",
    "\n",
    "# จำนวนวันที่ต้องการเป็น test data\n",
    "test_days = 30\n",
    "\n",
    "# คำนวณสัดส่วนของ 30 วันในข้อมูลทั้งหมด\n",
    "test_size = test_days / total_data\n",
    "test_size"
   ]
  },
  {
   "cell_type": "code",
   "execution_count": 46,
   "metadata": {},
   "outputs": [],
   "source": [
    "from sklearn.model_selection import train_test_split\n",
    "train_data, test_data = train_test_split(data_filtered, test_size=test_size, shuffle=False)"
   ]
  },
  {
   "cell_type": "code",
   "execution_count": 47,
   "metadata": {},
   "outputs": [
    {
     "data": {
      "text/plain": [
       "(500, 25)"
      ]
     },
     "execution_count": 47,
     "metadata": {},
     "output_type": "execute_result"
    }
   ],
   "source": [
    "train_data.shape"
   ]
  },
  {
   "cell_type": "code",
   "execution_count": 48,
   "metadata": {},
   "outputs": [
    {
     "data": {
      "text/plain": [
       "(30, 25)"
      ]
     },
     "execution_count": 48,
     "metadata": {},
     "output_type": "execute_result"
    }
   ],
   "source": [
    "test_data.shape"
   ]
  },
  {
   "cell_type": "code",
   "execution_count": 49,
   "metadata": {},
   "outputs": [
    {
     "data": {
      "text/html": [
       "<div>\n",
       "<style scoped>\n",
       "    .dataframe tbody tr th:only-of-type {\n",
       "        vertical-align: middle;\n",
       "    }\n",
       "\n",
       "    .dataframe tbody tr th {\n",
       "        vertical-align: top;\n",
       "    }\n",
       "\n",
       "    .dataframe thead th {\n",
       "        text-align: right;\n",
       "    }\n",
       "</style>\n",
       "<table border=\"1\" class=\"dataframe\">\n",
       "  <thead>\n",
       "    <tr style=\"text-align: right;\">\n",
       "      <th></th>\n",
       "      <th>humidity</th>\n",
       "      <th>temperature</th>\n",
       "      <th>year</th>\n",
       "      <th>month</th>\n",
       "      <th>day</th>\n",
       "      <th>day_of_week</th>\n",
       "      <th>week_of_year</th>\n",
       "      <th>season</th>\n",
       "      <th>is_weekend</th>\n",
       "      <th>date</th>\n",
       "      <th>...</th>\n",
       "      <th>humidity_lag_5</th>\n",
       "      <th>humidity_lag_6</th>\n",
       "      <th>humidity_lag_7</th>\n",
       "      <th>temperature_lag_1</th>\n",
       "      <th>temperature_lag_2</th>\n",
       "      <th>temperature_lag_3</th>\n",
       "      <th>temperature_lag_4</th>\n",
       "      <th>temperature_lag_5</th>\n",
       "      <th>temperature_lag_6</th>\n",
       "      <th>temperature_lag_7</th>\n",
       "    </tr>\n",
       "    <tr>\n",
       "      <th>timestamp</th>\n",
       "      <th></th>\n",
       "      <th></th>\n",
       "      <th></th>\n",
       "      <th></th>\n",
       "      <th></th>\n",
       "      <th></th>\n",
       "      <th></th>\n",
       "      <th></th>\n",
       "      <th></th>\n",
       "      <th></th>\n",
       "      <th></th>\n",
       "      <th></th>\n",
       "      <th></th>\n",
       "      <th></th>\n",
       "      <th></th>\n",
       "      <th></th>\n",
       "      <th></th>\n",
       "      <th></th>\n",
       "      <th></th>\n",
       "      <th></th>\n",
       "      <th></th>\n",
       "    </tr>\n",
       "  </thead>\n",
       "  <tbody>\n",
       "    <tr>\n",
       "      <th>2025-01-13 07:00:00</th>\n",
       "      <td>75.720718</td>\n",
       "      <td>24.857799</td>\n",
       "      <td>2025</td>\n",
       "      <td>1</td>\n",
       "      <td>13</td>\n",
       "      <td>0</td>\n",
       "      <td>3</td>\n",
       "      <td>2</td>\n",
       "      <td>0</td>\n",
       "      <td>2025-01-13</td>\n",
       "      <td>...</td>\n",
       "      <td>73.449632</td>\n",
       "      <td>73.350454</td>\n",
       "      <td>85.925103</td>\n",
       "      <td>26.640566</td>\n",
       "      <td>28.05223</td>\n",
       "      <td>28.380074</td>\n",
       "      <td>28.482274</td>\n",
       "      <td>28.022162</td>\n",
       "      <td>27.094928</td>\n",
       "      <td>25.455684</td>\n",
       "    </tr>\n",
       "  </tbody>\n",
       "</table>\n",
       "<p>1 rows × 25 columns</p>\n",
       "</div>"
      ],
      "text/plain": [
       "                      humidity  temperature  year  month  day  day_of_week  \\\n",
       "timestamp                                                                    \n",
       "2025-01-13 07:00:00  75.720718    24.857799  2025      1   13            0   \n",
       "\n",
       "                     week_of_year  season  is_weekend       date  ...  \\\n",
       "timestamp                                                         ...   \n",
       "2025-01-13 07:00:00             3       2           0 2025-01-13  ...   \n",
       "\n",
       "                     humidity_lag_5  humidity_lag_6  humidity_lag_7  \\\n",
       "timestamp                                                             \n",
       "2025-01-13 07:00:00       73.449632       73.350454       85.925103   \n",
       "\n",
       "                     temperature_lag_1  temperature_lag_2  temperature_lag_3  \\\n",
       "timestamp                                                                      \n",
       "2025-01-13 07:00:00          26.640566           28.05223          28.380074   \n",
       "\n",
       "                     temperature_lag_4  temperature_lag_5  temperature_lag_6  \\\n",
       "timestamp                                                                      \n",
       "2025-01-13 07:00:00          28.482274          28.022162          27.094928   \n",
       "\n",
       "                     temperature_lag_7  \n",
       "timestamp                               \n",
       "2025-01-13 07:00:00          25.455684  \n",
       "\n",
       "[1 rows x 25 columns]"
      ]
     },
     "execution_count": 49,
     "metadata": {},
     "output_type": "execute_result"
    }
   ],
   "source": [
    "test_data.head(1)"
   ]
  },
  {
   "cell_type": "code",
   "execution_count": 50,
   "metadata": {},
   "outputs": [
    {
     "data": {
      "text/html": [
       "<div>\n",
       "<style scoped>\n",
       "    .dataframe tbody tr th:only-of-type {\n",
       "        vertical-align: middle;\n",
       "    }\n",
       "\n",
       "    .dataframe tbody tr th {\n",
       "        vertical-align: top;\n",
       "    }\n",
       "\n",
       "    .dataframe thead th {\n",
       "        text-align: right;\n",
       "    }\n",
       "</style>\n",
       "<table border=\"1\" class=\"dataframe\">\n",
       "  <thead>\n",
       "    <tr style=\"text-align: right;\">\n",
       "      <th></th>\n",
       "      <th>humidity</th>\n",
       "      <th>temperature</th>\n",
       "      <th>year</th>\n",
       "      <th>month</th>\n",
       "      <th>day</th>\n",
       "      <th>day_of_week</th>\n",
       "      <th>week_of_year</th>\n",
       "      <th>season</th>\n",
       "      <th>is_weekend</th>\n",
       "      <th>date</th>\n",
       "      <th>...</th>\n",
       "      <th>humidity_lag_5</th>\n",
       "      <th>humidity_lag_6</th>\n",
       "      <th>humidity_lag_7</th>\n",
       "      <th>temperature_lag_1</th>\n",
       "      <th>temperature_lag_2</th>\n",
       "      <th>temperature_lag_3</th>\n",
       "      <th>temperature_lag_4</th>\n",
       "      <th>temperature_lag_5</th>\n",
       "      <th>temperature_lag_6</th>\n",
       "      <th>temperature_lag_7</th>\n",
       "    </tr>\n",
       "    <tr>\n",
       "      <th>timestamp</th>\n",
       "      <th></th>\n",
       "      <th></th>\n",
       "      <th></th>\n",
       "      <th></th>\n",
       "      <th></th>\n",
       "      <th></th>\n",
       "      <th></th>\n",
       "      <th></th>\n",
       "      <th></th>\n",
       "      <th></th>\n",
       "      <th></th>\n",
       "      <th></th>\n",
       "      <th></th>\n",
       "      <th></th>\n",
       "      <th></th>\n",
       "      <th></th>\n",
       "      <th></th>\n",
       "      <th></th>\n",
       "      <th></th>\n",
       "      <th></th>\n",
       "      <th></th>\n",
       "    </tr>\n",
       "  </thead>\n",
       "  <tbody>\n",
       "    <tr>\n",
       "      <th>2025-02-11 07:00:00</th>\n",
       "      <td>71.713989</td>\n",
       "      <td>28.029813</td>\n",
       "      <td>2025</td>\n",
       "      <td>2</td>\n",
       "      <td>11</td>\n",
       "      <td>1</td>\n",
       "      <td>7</td>\n",
       "      <td>0</td>\n",
       "      <td>0</td>\n",
       "      <td>2025-02-11</td>\n",
       "      <td>...</td>\n",
       "      <td>70.853854</td>\n",
       "      <td>70.575618</td>\n",
       "      <td>71.844422</td>\n",
       "      <td>28.338313</td>\n",
       "      <td>28.231867</td>\n",
       "      <td>28.104894</td>\n",
       "      <td>28.186164</td>\n",
       "      <td>28.15022</td>\n",
       "      <td>27.676822</td>\n",
       "      <td>27.531455</td>\n",
       "    </tr>\n",
       "  </tbody>\n",
       "</table>\n",
       "<p>1 rows × 25 columns</p>\n",
       "</div>"
      ],
      "text/plain": [
       "                      humidity  temperature  year  month  day  day_of_week  \\\n",
       "timestamp                                                                    \n",
       "2025-02-11 07:00:00  71.713989    28.029813  2025      2   11            1   \n",
       "\n",
       "                     week_of_year  season  is_weekend       date  ...  \\\n",
       "timestamp                                                         ...   \n",
       "2025-02-11 07:00:00             7       0           0 2025-02-11  ...   \n",
       "\n",
       "                     humidity_lag_5  humidity_lag_6  humidity_lag_7  \\\n",
       "timestamp                                                             \n",
       "2025-02-11 07:00:00       70.853854       70.575618       71.844422   \n",
       "\n",
       "                     temperature_lag_1  temperature_lag_2  temperature_lag_3  \\\n",
       "timestamp                                                                      \n",
       "2025-02-11 07:00:00          28.338313          28.231867          28.104894   \n",
       "\n",
       "                     temperature_lag_4  temperature_lag_5  temperature_lag_6  \\\n",
       "timestamp                                                                      \n",
       "2025-02-11 07:00:00          28.186164           28.15022          27.676822   \n",
       "\n",
       "                     temperature_lag_7  \n",
       "timestamp                               \n",
       "2025-02-11 07:00:00          27.531455  \n",
       "\n",
       "[1 rows x 25 columns]"
      ]
     },
     "execution_count": 50,
     "metadata": {},
     "output_type": "execute_result"
    }
   ],
   "source": [
    "test_data.tail(1)"
   ]
  },
  {
   "cell_type": "code",
   "execution_count": 51,
   "metadata": {},
   "outputs": [
    {
     "data": {
      "text/plain": [
       "Index(['humidity', 'temperature', 'year', 'month', 'day', 'day_of_week',\n",
       "       'week_of_year', 'season', 'is_weekend', 'date', 'day_of_year',\n",
       "       'humidity_lag_1', 'humidity_lag_2', 'humidity_lag_3', 'humidity_lag_4',\n",
       "       'humidity_lag_5', 'humidity_lag_6', 'humidity_lag_7',\n",
       "       'temperature_lag_1', 'temperature_lag_2', 'temperature_lag_3',\n",
       "       'temperature_lag_4', 'temperature_lag_5', 'temperature_lag_6',\n",
       "       'temperature_lag_7'],\n",
       "      dtype='object')"
      ]
     },
     "execution_count": 51,
     "metadata": {},
     "output_type": "execute_result"
    }
   ],
   "source": [
    "test_data.columns"
   ]
  },
  {
   "cell_type": "code",
   "execution_count": 52,
   "metadata": {},
   "outputs": [
    {
     "data": {
      "text/html": [
       "<style type=\"text/css\">\n",
       "#T_a3c13_row9_col1, #T_a3c13_row13_col1 {\n",
       "  background-color: lightgreen;\n",
       "}\n",
       "</style>\n",
       "<table id=\"T_a3c13\">\n",
       "  <thead>\n",
       "    <tr>\n",
       "      <th class=\"blank level0\" >&nbsp;</th>\n",
       "      <th id=\"T_a3c13_level0_col0\" class=\"col_heading level0 col0\" >Description</th>\n",
       "      <th id=\"T_a3c13_level0_col1\" class=\"col_heading level0 col1\" >Value</th>\n",
       "    </tr>\n",
       "  </thead>\n",
       "  <tbody>\n",
       "    <tr>\n",
       "      <th id=\"T_a3c13_level0_row0\" class=\"row_heading level0 row0\" >0</th>\n",
       "      <td id=\"T_a3c13_row0_col0\" class=\"data row0 col0\" >Session id</td>\n",
       "      <td id=\"T_a3c13_row0_col1\" class=\"data row0 col1\" >123</td>\n",
       "    </tr>\n",
       "    <tr>\n",
       "      <th id=\"T_a3c13_level0_row1\" class=\"row_heading level0 row1\" >1</th>\n",
       "      <td id=\"T_a3c13_row1_col0\" class=\"data row1 col0\" >Target</td>\n",
       "      <td id=\"T_a3c13_row1_col1\" class=\"data row1 col1\" >humidity</td>\n",
       "    </tr>\n",
       "    <tr>\n",
       "      <th id=\"T_a3c13_level0_row2\" class=\"row_heading level0 row2\" >2</th>\n",
       "      <td id=\"T_a3c13_row2_col0\" class=\"data row2 col0\" >Target type</td>\n",
       "      <td id=\"T_a3c13_row2_col1\" class=\"data row2 col1\" >Regression</td>\n",
       "    </tr>\n",
       "    <tr>\n",
       "      <th id=\"T_a3c13_level0_row3\" class=\"row_heading level0 row3\" >3</th>\n",
       "      <td id=\"T_a3c13_row3_col0\" class=\"data row3 col0\" >Original data shape</td>\n",
       "      <td id=\"T_a3c13_row3_col1\" class=\"data row3 col1\" >(500, 25)</td>\n",
       "    </tr>\n",
       "    <tr>\n",
       "      <th id=\"T_a3c13_level0_row4\" class=\"row_heading level0 row4\" >4</th>\n",
       "      <td id=\"T_a3c13_row4_col0\" class=\"data row4 col0\" >Transformed data shape</td>\n",
       "      <td id=\"T_a3c13_row4_col1\" class=\"data row4 col1\" >(482, 27)</td>\n",
       "    </tr>\n",
       "    <tr>\n",
       "      <th id=\"T_a3c13_level0_row5\" class=\"row_heading level0 row5\" >5</th>\n",
       "      <td id=\"T_a3c13_row5_col0\" class=\"data row5 col0\" >Transformed train set shape</td>\n",
       "      <td id=\"T_a3c13_row5_col1\" class=\"data row5 col1\" >(332, 27)</td>\n",
       "    </tr>\n",
       "    <tr>\n",
       "      <th id=\"T_a3c13_level0_row6\" class=\"row_heading level0 row6\" >6</th>\n",
       "      <td id=\"T_a3c13_row6_col0\" class=\"data row6 col0\" >Transformed test set shape</td>\n",
       "      <td id=\"T_a3c13_row6_col1\" class=\"data row6 col1\" >(150, 27)</td>\n",
       "    </tr>\n",
       "    <tr>\n",
       "      <th id=\"T_a3c13_level0_row7\" class=\"row_heading level0 row7\" >7</th>\n",
       "      <td id=\"T_a3c13_row7_col0\" class=\"data row7 col0\" >Numeric features</td>\n",
       "      <td id=\"T_a3c13_row7_col1\" class=\"data row7 col1\" >23</td>\n",
       "    </tr>\n",
       "    <tr>\n",
       "      <th id=\"T_a3c13_level0_row8\" class=\"row_heading level0 row8\" >8</th>\n",
       "      <td id=\"T_a3c13_row8_col0\" class=\"data row8 col0\" >Date features</td>\n",
       "      <td id=\"T_a3c13_row8_col1\" class=\"data row8 col1\" >1</td>\n",
       "    </tr>\n",
       "    <tr>\n",
       "      <th id=\"T_a3c13_level0_row9\" class=\"row_heading level0 row9\" >9</th>\n",
       "      <td id=\"T_a3c13_row9_col0\" class=\"data row9 col0\" >Preprocess</td>\n",
       "      <td id=\"T_a3c13_row9_col1\" class=\"data row9 col1\" >True</td>\n",
       "    </tr>\n",
       "    <tr>\n",
       "      <th id=\"T_a3c13_level0_row10\" class=\"row_heading level0 row10\" >10</th>\n",
       "      <td id=\"T_a3c13_row10_col0\" class=\"data row10 col0\" >Imputation type</td>\n",
       "      <td id=\"T_a3c13_row10_col1\" class=\"data row10 col1\" >simple</td>\n",
       "    </tr>\n",
       "    <tr>\n",
       "      <th id=\"T_a3c13_level0_row11\" class=\"row_heading level0 row11\" >11</th>\n",
       "      <td id=\"T_a3c13_row11_col0\" class=\"data row11 col0\" >Numeric imputation</td>\n",
       "      <td id=\"T_a3c13_row11_col1\" class=\"data row11 col1\" >mean</td>\n",
       "    </tr>\n",
       "    <tr>\n",
       "      <th id=\"T_a3c13_level0_row12\" class=\"row_heading level0 row12\" >12</th>\n",
       "      <td id=\"T_a3c13_row12_col0\" class=\"data row12 col0\" >Categorical imputation</td>\n",
       "      <td id=\"T_a3c13_row12_col1\" class=\"data row12 col1\" >mode</td>\n",
       "    </tr>\n",
       "    <tr>\n",
       "      <th id=\"T_a3c13_level0_row13\" class=\"row_heading level0 row13\" >13</th>\n",
       "      <td id=\"T_a3c13_row13_col0\" class=\"data row13 col0\" >Remove outliers</td>\n",
       "      <td id=\"T_a3c13_row13_col1\" class=\"data row13 col1\" >True</td>\n",
       "    </tr>\n",
       "    <tr>\n",
       "      <th id=\"T_a3c13_level0_row14\" class=\"row_heading level0 row14\" >14</th>\n",
       "      <td id=\"T_a3c13_row14_col0\" class=\"data row14 col0\" >Outliers threshold</td>\n",
       "      <td id=\"T_a3c13_row14_col1\" class=\"data row14 col1\" >0.050000</td>\n",
       "    </tr>\n",
       "    <tr>\n",
       "      <th id=\"T_a3c13_level0_row15\" class=\"row_heading level0 row15\" >15</th>\n",
       "      <td id=\"T_a3c13_row15_col0\" class=\"data row15 col0\" >Fold Generator</td>\n",
       "      <td id=\"T_a3c13_row15_col1\" class=\"data row15 col1\" >KFold</td>\n",
       "    </tr>\n",
       "    <tr>\n",
       "      <th id=\"T_a3c13_level0_row16\" class=\"row_heading level0 row16\" >16</th>\n",
       "      <td id=\"T_a3c13_row16_col0\" class=\"data row16 col0\" >Fold Number</td>\n",
       "      <td id=\"T_a3c13_row16_col1\" class=\"data row16 col1\" >12</td>\n",
       "    </tr>\n",
       "    <tr>\n",
       "      <th id=\"T_a3c13_level0_row17\" class=\"row_heading level0 row17\" >17</th>\n",
       "      <td id=\"T_a3c13_row17_col0\" class=\"data row17 col0\" >CPU Jobs</td>\n",
       "      <td id=\"T_a3c13_row17_col1\" class=\"data row17 col1\" >-1</td>\n",
       "    </tr>\n",
       "    <tr>\n",
       "      <th id=\"T_a3c13_level0_row18\" class=\"row_heading level0 row18\" >18</th>\n",
       "      <td id=\"T_a3c13_row18_col0\" class=\"data row18 col0\" >Use GPU</td>\n",
       "      <td id=\"T_a3c13_row18_col1\" class=\"data row18 col1\" >False</td>\n",
       "    </tr>\n",
       "    <tr>\n",
       "      <th id=\"T_a3c13_level0_row19\" class=\"row_heading level0 row19\" >19</th>\n",
       "      <td id=\"T_a3c13_row19_col0\" class=\"data row19 col0\" >Log Experiment</td>\n",
       "      <td id=\"T_a3c13_row19_col1\" class=\"data row19 col1\" >False</td>\n",
       "    </tr>\n",
       "    <tr>\n",
       "      <th id=\"T_a3c13_level0_row20\" class=\"row_heading level0 row20\" >20</th>\n",
       "      <td id=\"T_a3c13_row20_col0\" class=\"data row20 col0\" >Experiment Name</td>\n",
       "      <td id=\"T_a3c13_row20_col1\" class=\"data row20 col1\" >reg-default-name</td>\n",
       "    </tr>\n",
       "    <tr>\n",
       "      <th id=\"T_a3c13_level0_row21\" class=\"row_heading level0 row21\" >21</th>\n",
       "      <td id=\"T_a3c13_row21_col0\" class=\"data row21 col0\" >USI</td>\n",
       "      <td id=\"T_a3c13_row21_col1\" class=\"data row21 col1\" >85a9</td>\n",
       "    </tr>\n",
       "  </tbody>\n",
       "</table>\n"
      ],
      "text/plain": [
       "<pandas.io.formats.style.Styler at 0x17a0abb2650>"
      ]
     },
     "metadata": {},
     "output_type": "display_data"
    },
    {
     "data": {
      "text/plain": [
       "<pycaret.regression.oop.RegressionExperiment at 0x17a0cd4d5d0>"
      ]
     },
     "execution_count": 52,
     "metadata": {},
     "output_type": "execute_result"
    }
   ],
   "source": [
    "from pycaret.regression import RegressionExperiment\n",
    "exp1 = RegressionExperiment()\n",
    "exp1.setup(data=train_data, target='humidity', session_id=123, fold=12, remove_outliers = True)"
   ]
  },
  {
   "cell_type": "code",
   "execution_count": 53,
   "metadata": {},
   "outputs": [
    {
     "data": {
      "text/html": [],
      "text/plain": [
       "<IPython.core.display.HTML object>"
      ]
     },
     "metadata": {},
     "output_type": "display_data"
    },
    {
     "data": {
      "text/html": [
       "<style type=\"text/css\">\n",
       "#T_ed932 th {\n",
       "  text-align: left;\n",
       "}\n",
       "#T_ed932_row0_col0, #T_ed932_row1_col0, #T_ed932_row1_col1, #T_ed932_row1_col2, #T_ed932_row1_col3, #T_ed932_row1_col4, #T_ed932_row1_col5, #T_ed932_row2_col0, #T_ed932_row2_col1, #T_ed932_row2_col2, #T_ed932_row2_col3, #T_ed932_row2_col4, #T_ed932_row2_col5, #T_ed932_row2_col6, #T_ed932_row3_col0, #T_ed932_row3_col1, #T_ed932_row3_col2, #T_ed932_row3_col3, #T_ed932_row3_col4, #T_ed932_row3_col5, #T_ed932_row3_col6, #T_ed932_row4_col0, #T_ed932_row4_col1, #T_ed932_row4_col2, #T_ed932_row4_col3, #T_ed932_row4_col4, #T_ed932_row4_col5, #T_ed932_row4_col6, #T_ed932_row5_col0, #T_ed932_row5_col1, #T_ed932_row5_col2, #T_ed932_row5_col3, #T_ed932_row5_col4, #T_ed932_row5_col5, #T_ed932_row5_col6, #T_ed932_row6_col0, #T_ed932_row6_col1, #T_ed932_row6_col2, #T_ed932_row6_col3, #T_ed932_row6_col4, #T_ed932_row6_col5, #T_ed932_row6_col6, #T_ed932_row7_col0, #T_ed932_row7_col1, #T_ed932_row7_col2, #T_ed932_row7_col3, #T_ed932_row7_col4, #T_ed932_row7_col5, #T_ed932_row7_col6, #T_ed932_row8_col0, #T_ed932_row8_col1, #T_ed932_row8_col2, #T_ed932_row8_col3, #T_ed932_row8_col4, #T_ed932_row8_col5, #T_ed932_row8_col6, #T_ed932_row9_col0, #T_ed932_row9_col1, #T_ed932_row9_col2, #T_ed932_row9_col3, #T_ed932_row9_col4, #T_ed932_row9_col5, #T_ed932_row9_col6, #T_ed932_row10_col0, #T_ed932_row10_col1, #T_ed932_row10_col2, #T_ed932_row10_col3, #T_ed932_row10_col4, #T_ed932_row10_col5, #T_ed932_row10_col6, #T_ed932_row11_col0, #T_ed932_row11_col1, #T_ed932_row11_col2, #T_ed932_row11_col3, #T_ed932_row11_col4, #T_ed932_row11_col5, #T_ed932_row11_col6, #T_ed932_row12_col0, #T_ed932_row12_col1, #T_ed932_row12_col2, #T_ed932_row12_col3, #T_ed932_row12_col4, #T_ed932_row12_col5, #T_ed932_row12_col6, #T_ed932_row13_col0, #T_ed932_row13_col1, #T_ed932_row13_col2, #T_ed932_row13_col3, #T_ed932_row13_col4, #T_ed932_row13_col5, #T_ed932_row13_col6, #T_ed932_row14_col0, #T_ed932_row14_col1, #T_ed932_row14_col2, #T_ed932_row14_col3, #T_ed932_row14_col4, #T_ed932_row14_col5, #T_ed932_row14_col6, #T_ed932_row15_col0, #T_ed932_row15_col1, #T_ed932_row15_col2, #T_ed932_row15_col3, #T_ed932_row15_col4, #T_ed932_row15_col5, #T_ed932_row15_col6, #T_ed932_row16_col0, #T_ed932_row16_col1, #T_ed932_row16_col2, #T_ed932_row16_col3, #T_ed932_row16_col4, #T_ed932_row16_col5, #T_ed932_row16_col6, #T_ed932_row17_col0, #T_ed932_row17_col1, #T_ed932_row17_col2, #T_ed932_row17_col3, #T_ed932_row17_col4, #T_ed932_row17_col5, #T_ed932_row17_col6 {\n",
       "  text-align: left;\n",
       "}\n",
       "#T_ed932_row0_col1, #T_ed932_row0_col2, #T_ed932_row0_col3, #T_ed932_row0_col4, #T_ed932_row0_col5, #T_ed932_row0_col6, #T_ed932_row1_col6 {\n",
       "  text-align: left;\n",
       "  background-color: yellow;\n",
       "}\n",
       "#T_ed932_row0_col7, #T_ed932_row12_col7, #T_ed932_row16_col7 {\n",
       "  text-align: left;\n",
       "  background-color: yellow;\n",
       "  background-color: lightgrey;\n",
       "}\n",
       "#T_ed932_row1_col7, #T_ed932_row2_col7, #T_ed932_row3_col7, #T_ed932_row4_col7, #T_ed932_row5_col7, #T_ed932_row6_col7, #T_ed932_row7_col7, #T_ed932_row8_col7, #T_ed932_row9_col7, #T_ed932_row10_col7, #T_ed932_row11_col7, #T_ed932_row13_col7, #T_ed932_row14_col7, #T_ed932_row15_col7, #T_ed932_row17_col7 {\n",
       "  text-align: left;\n",
       "  background-color: lightgrey;\n",
       "}\n",
       "</style>\n",
       "<table id=\"T_ed932\">\n",
       "  <thead>\n",
       "    <tr>\n",
       "      <th class=\"blank level0\" >&nbsp;</th>\n",
       "      <th id=\"T_ed932_level0_col0\" class=\"col_heading level0 col0\" >Model</th>\n",
       "      <th id=\"T_ed932_level0_col1\" class=\"col_heading level0 col1\" >MAE</th>\n",
       "      <th id=\"T_ed932_level0_col2\" class=\"col_heading level0 col2\" >MSE</th>\n",
       "      <th id=\"T_ed932_level0_col3\" class=\"col_heading level0 col3\" >RMSE</th>\n",
       "      <th id=\"T_ed932_level0_col4\" class=\"col_heading level0 col4\" >R2</th>\n",
       "      <th id=\"T_ed932_level0_col5\" class=\"col_heading level0 col5\" >RMSLE</th>\n",
       "      <th id=\"T_ed932_level0_col6\" class=\"col_heading level0 col6\" >MAPE</th>\n",
       "      <th id=\"T_ed932_level0_col7\" class=\"col_heading level0 col7\" >TT (Sec)</th>\n",
       "    </tr>\n",
       "  </thead>\n",
       "  <tbody>\n",
       "    <tr>\n",
       "      <th id=\"T_ed932_level0_row0\" class=\"row_heading level0 row0\" >br</th>\n",
       "      <td id=\"T_ed932_row0_col0\" class=\"data row0 col0\" >Bayesian Ridge</td>\n",
       "      <td id=\"T_ed932_row0_col1\" class=\"data row0 col1\" >1.7562</td>\n",
       "      <td id=\"T_ed932_row0_col2\" class=\"data row0 col2\" >5.4522</td>\n",
       "      <td id=\"T_ed932_row0_col3\" class=\"data row0 col3\" >2.2939</td>\n",
       "      <td id=\"T_ed932_row0_col4\" class=\"data row0 col4\" >0.8954</td>\n",
       "      <td id=\"T_ed932_row0_col5\" class=\"data row0 col5\" >0.0300</td>\n",
       "      <td id=\"T_ed932_row0_col6\" class=\"data row0 col6\" >0.0232</td>\n",
       "      <td id=\"T_ed932_row0_col7\" class=\"data row0 col7\" >0.0192</td>\n",
       "    </tr>\n",
       "    <tr>\n",
       "      <th id=\"T_ed932_level0_row1\" class=\"row_heading level0 row1\" >ridge</th>\n",
       "      <td id=\"T_ed932_row1_col0\" class=\"data row1 col0\" >Ridge Regression</td>\n",
       "      <td id=\"T_ed932_row1_col1\" class=\"data row1 col1\" >1.7613</td>\n",
       "      <td id=\"T_ed932_row1_col2\" class=\"data row1 col2\" >5.4670</td>\n",
       "      <td id=\"T_ed932_row1_col3\" class=\"data row1 col3\" >2.2995</td>\n",
       "      <td id=\"T_ed932_row1_col4\" class=\"data row1 col4\" >0.8950</td>\n",
       "      <td id=\"T_ed932_row1_col5\" class=\"data row1 col5\" >0.0301</td>\n",
       "      <td id=\"T_ed932_row1_col6\" class=\"data row1 col6\" >0.0232</td>\n",
       "      <td id=\"T_ed932_row1_col7\" class=\"data row1 col7\" >0.0208</td>\n",
       "    </tr>\n",
       "    <tr>\n",
       "      <th id=\"T_ed932_level0_row2\" class=\"row_heading level0 row2\" >lr</th>\n",
       "      <td id=\"T_ed932_row2_col0\" class=\"data row2 col0\" >Linear Regression</td>\n",
       "      <td id=\"T_ed932_row2_col1\" class=\"data row2 col1\" >1.7716</td>\n",
       "      <td id=\"T_ed932_row2_col2\" class=\"data row2 col2\" >5.5280</td>\n",
       "      <td id=\"T_ed932_row2_col3\" class=\"data row2 col3\" >2.3115</td>\n",
       "      <td id=\"T_ed932_row2_col4\" class=\"data row2 col4\" >0.8940</td>\n",
       "      <td id=\"T_ed932_row2_col5\" class=\"data row2 col5\" >0.0303</td>\n",
       "      <td id=\"T_ed932_row2_col6\" class=\"data row2 col6\" >0.0234</td>\n",
       "      <td id=\"T_ed932_row2_col7\" class=\"data row2 col7\" >0.2858</td>\n",
       "    </tr>\n",
       "    <tr>\n",
       "      <th id=\"T_ed932_level0_row3\" class=\"row_heading level0 row3\" >et</th>\n",
       "      <td id=\"T_ed932_row3_col0\" class=\"data row3 col0\" >Extra Trees Regressor</td>\n",
       "      <td id=\"T_ed932_row3_col1\" class=\"data row3 col1\" >1.9843</td>\n",
       "      <td id=\"T_ed932_row3_col2\" class=\"data row3 col2\" >7.0556</td>\n",
       "      <td id=\"T_ed932_row3_col3\" class=\"data row3 col3\" >2.5876</td>\n",
       "      <td id=\"T_ed932_row3_col4\" class=\"data row3 col4\" >0.8642</td>\n",
       "      <td id=\"T_ed932_row3_col5\" class=\"data row3 col5\" >0.0334</td>\n",
       "      <td id=\"T_ed932_row3_col6\" class=\"data row3 col6\" >0.0260</td>\n",
       "      <td id=\"T_ed932_row3_col7\" class=\"data row3 col7\" >0.0450</td>\n",
       "    </tr>\n",
       "    <tr>\n",
       "      <th id=\"T_ed932_level0_row4\" class=\"row_heading level0 row4\" >lightgbm</th>\n",
       "      <td id=\"T_ed932_row4_col0\" class=\"data row4 col0\" >Light Gradient Boosting Machine</td>\n",
       "      <td id=\"T_ed932_row4_col1\" class=\"data row4 col1\" >2.0259</td>\n",
       "      <td id=\"T_ed932_row4_col2\" class=\"data row4 col2\" >7.2825</td>\n",
       "      <td id=\"T_ed932_row4_col3\" class=\"data row4 col3\" >2.6473</td>\n",
       "      <td id=\"T_ed932_row4_col4\" class=\"data row4 col4\" >0.8603</td>\n",
       "      <td id=\"T_ed932_row4_col5\" class=\"data row4 col5\" >0.0343</td>\n",
       "      <td id=\"T_ed932_row4_col6\" class=\"data row4 col6\" >0.0266</td>\n",
       "      <td id=\"T_ed932_row4_col7\" class=\"data row4 col7\" >0.0567</td>\n",
       "    </tr>\n",
       "    <tr>\n",
       "      <th id=\"T_ed932_level0_row5\" class=\"row_heading level0 row5\" >gbr</th>\n",
       "      <td id=\"T_ed932_row5_col0\" class=\"data row5 col0\" >Gradient Boosting Regressor</td>\n",
       "      <td id=\"T_ed932_row5_col1\" class=\"data row5 col1\" >2.0438</td>\n",
       "      <td id=\"T_ed932_row5_col2\" class=\"data row5 col2\" >7.6474</td>\n",
       "      <td id=\"T_ed932_row5_col3\" class=\"data row5 col3\" >2.7137</td>\n",
       "      <td id=\"T_ed932_row5_col4\" class=\"data row5 col4\" >0.8525</td>\n",
       "      <td id=\"T_ed932_row5_col5\" class=\"data row5 col5\" >0.0353</td>\n",
       "      <td id=\"T_ed932_row5_col6\" class=\"data row5 col6\" >0.0269</td>\n",
       "      <td id=\"T_ed932_row5_col7\" class=\"data row5 col7\" >0.0417</td>\n",
       "    </tr>\n",
       "    <tr>\n",
       "      <th id=\"T_ed932_level0_row6\" class=\"row_heading level0 row6\" >rf</th>\n",
       "      <td id=\"T_ed932_row6_col0\" class=\"data row6 col0\" >Random Forest Regressor</td>\n",
       "      <td id=\"T_ed932_row6_col1\" class=\"data row6 col1\" >2.2126</td>\n",
       "      <td id=\"T_ed932_row6_col2\" class=\"data row6 col2\" >8.7819</td>\n",
       "      <td id=\"T_ed932_row6_col3\" class=\"data row6 col3\" >2.9012</td>\n",
       "      <td id=\"T_ed932_row6_col4\" class=\"data row6 col4\" >0.8292</td>\n",
       "      <td id=\"T_ed932_row6_col5\" class=\"data row6 col5\" >0.0375</td>\n",
       "      <td id=\"T_ed932_row6_col6\" class=\"data row6 col6\" >0.0290</td>\n",
       "      <td id=\"T_ed932_row6_col7\" class=\"data row6 col7\" >0.0675</td>\n",
       "    </tr>\n",
       "    <tr>\n",
       "      <th id=\"T_ed932_level0_row7\" class=\"row_heading level0 row7\" >ada</th>\n",
       "      <td id=\"T_ed932_row7_col0\" class=\"data row7 col0\" >AdaBoost Regressor</td>\n",
       "      <td id=\"T_ed932_row7_col1\" class=\"data row7 col1\" >2.3523</td>\n",
       "      <td id=\"T_ed932_row7_col2\" class=\"data row7 col2\" >9.5132</td>\n",
       "      <td id=\"T_ed932_row7_col3\" class=\"data row7 col3\" >3.0278</td>\n",
       "      <td id=\"T_ed932_row7_col4\" class=\"data row7 col4\" >0.8153</td>\n",
       "      <td id=\"T_ed932_row7_col5\" class=\"data row7 col5\" >0.0391</td>\n",
       "      <td id=\"T_ed932_row7_col6\" class=\"data row7 col6\" >0.0308</td>\n",
       "      <td id=\"T_ed932_row7_col7\" class=\"data row7 col7\" >0.0342</td>\n",
       "    </tr>\n",
       "    <tr>\n",
       "      <th id=\"T_ed932_level0_row8\" class=\"row_heading level0 row8\" >lasso</th>\n",
       "      <td id=\"T_ed932_row8_col0\" class=\"data row8 col0\" >Lasso Regression</td>\n",
       "      <td id=\"T_ed932_row8_col1\" class=\"data row8 col1\" >2.3957</td>\n",
       "      <td id=\"T_ed932_row8_col2\" class=\"data row8 col2\" >9.8793</td>\n",
       "      <td id=\"T_ed932_row8_col3\" class=\"data row8 col3\" >3.0532</td>\n",
       "      <td id=\"T_ed932_row8_col4\" class=\"data row8 col4\" >0.8119</td>\n",
       "      <td id=\"T_ed932_row8_col5\" class=\"data row8 col5\" >0.0393</td>\n",
       "      <td id=\"T_ed932_row8_col6\" class=\"data row8 col6\" >0.0313</td>\n",
       "      <td id=\"T_ed932_row8_col7\" class=\"data row8 col7\" >0.0208</td>\n",
       "    </tr>\n",
       "    <tr>\n",
       "      <th id=\"T_ed932_level0_row9\" class=\"row_heading level0 row9\" >llar</th>\n",
       "      <td id=\"T_ed932_row9_col0\" class=\"data row9 col0\" >Lasso Least Angle Regression</td>\n",
       "      <td id=\"T_ed932_row9_col1\" class=\"data row9 col1\" >2.4024</td>\n",
       "      <td id=\"T_ed932_row9_col2\" class=\"data row9 col2\" >9.9319</td>\n",
       "      <td id=\"T_ed932_row9_col3\" class=\"data row9 col3\" >3.0600</td>\n",
       "      <td id=\"T_ed932_row9_col4\" class=\"data row9 col4\" >0.8107</td>\n",
       "      <td id=\"T_ed932_row9_col5\" class=\"data row9 col5\" >0.0394</td>\n",
       "      <td id=\"T_ed932_row9_col6\" class=\"data row9 col6\" >0.0313</td>\n",
       "      <td id=\"T_ed932_row9_col7\" class=\"data row9 col7\" >0.0208</td>\n",
       "    </tr>\n",
       "    <tr>\n",
       "      <th id=\"T_ed932_level0_row10\" class=\"row_heading level0 row10\" >en</th>\n",
       "      <td id=\"T_ed932_row10_col0\" class=\"data row10 col0\" >Elastic Net</td>\n",
       "      <td id=\"T_ed932_row10_col1\" class=\"data row10 col1\" >2.3830</td>\n",
       "      <td id=\"T_ed932_row10_col2\" class=\"data row10 col2\" >9.9490</td>\n",
       "      <td id=\"T_ed932_row10_col3\" class=\"data row10 col3\" >3.0562</td>\n",
       "      <td id=\"T_ed932_row10_col4\" class=\"data row10 col4\" >0.8105</td>\n",
       "      <td id=\"T_ed932_row10_col5\" class=\"data row10 col5\" >0.0392</td>\n",
       "      <td id=\"T_ed932_row10_col6\" class=\"data row10 col6\" >0.0310</td>\n",
       "      <td id=\"T_ed932_row10_col7\" class=\"data row10 col7\" >0.0225</td>\n",
       "    </tr>\n",
       "    <tr>\n",
       "      <th id=\"T_ed932_level0_row11\" class=\"row_heading level0 row11\" >huber</th>\n",
       "      <td id=\"T_ed932_row11_col0\" class=\"data row11 col0\" >Huber Regressor</td>\n",
       "      <td id=\"T_ed932_row11_col1\" class=\"data row11 col1\" >2.7798</td>\n",
       "      <td id=\"T_ed932_row11_col2\" class=\"data row11 col2\" >13.4118</td>\n",
       "      <td id=\"T_ed932_row11_col3\" class=\"data row11 col3\" >3.5439</td>\n",
       "      <td id=\"T_ed932_row11_col4\" class=\"data row11 col4\" >0.7424</td>\n",
       "      <td id=\"T_ed932_row11_col5\" class=\"data row11 col5\" >0.0451</td>\n",
       "      <td id=\"T_ed932_row11_col6\" class=\"data row11 col6\" >0.0360</td>\n",
       "      <td id=\"T_ed932_row11_col7\" class=\"data row11 col7\" >0.0208</td>\n",
       "    </tr>\n",
       "    <tr>\n",
       "      <th id=\"T_ed932_level0_row12\" class=\"row_heading level0 row12\" >omp</th>\n",
       "      <td id=\"T_ed932_row12_col0\" class=\"data row12 col0\" >Orthogonal Matching Pursuit</td>\n",
       "      <td id=\"T_ed932_row12_col1\" class=\"data row12 col1\" >3.1281</td>\n",
       "      <td id=\"T_ed932_row12_col2\" class=\"data row12 col2\" >16.9199</td>\n",
       "      <td id=\"T_ed932_row12_col3\" class=\"data row12 col3\" >4.0083</td>\n",
       "      <td id=\"T_ed932_row12_col4\" class=\"data row12 col4\" >0.6781</td>\n",
       "      <td id=\"T_ed932_row12_col5\" class=\"data row12 col5\" >0.0510</td>\n",
       "      <td id=\"T_ed932_row12_col6\" class=\"data row12 col6\" >0.0404</td>\n",
       "      <td id=\"T_ed932_row12_col7\" class=\"data row12 col7\" >0.0192</td>\n",
       "    </tr>\n",
       "    <tr>\n",
       "      <th id=\"T_ed932_level0_row13\" class=\"row_heading level0 row13\" >dt</th>\n",
       "      <td id=\"T_ed932_row13_col0\" class=\"data row13 col0\" >Decision Tree Regressor</td>\n",
       "      <td id=\"T_ed932_row13_col1\" class=\"data row13 col1\" >3.2901</td>\n",
       "      <td id=\"T_ed932_row13_col2\" class=\"data row13 col2\" >18.8415</td>\n",
       "      <td id=\"T_ed932_row13_col3\" class=\"data row13 col3\" >4.2629</td>\n",
       "      <td id=\"T_ed932_row13_col4\" class=\"data row13 col4\" >0.6436</td>\n",
       "      <td id=\"T_ed932_row13_col5\" class=\"data row13 col5\" >0.0551</td>\n",
       "      <td id=\"T_ed932_row13_col6\" class=\"data row13 col6\" >0.0430</td>\n",
       "      <td id=\"T_ed932_row13_col7\" class=\"data row13 col7\" >0.0200</td>\n",
       "    </tr>\n",
       "    <tr>\n",
       "      <th id=\"T_ed932_level0_row14\" class=\"row_heading level0 row14\" >knn</th>\n",
       "      <td id=\"T_ed932_row14_col0\" class=\"data row14 col0\" >K Neighbors Regressor</td>\n",
       "      <td id=\"T_ed932_row14_col1\" class=\"data row14 col1\" >3.6098</td>\n",
       "      <td id=\"T_ed932_row14_col2\" class=\"data row14 col2\" >23.1470</td>\n",
       "      <td id=\"T_ed932_row14_col3\" class=\"data row14 col3\" >4.7531</td>\n",
       "      <td id=\"T_ed932_row14_col4\" class=\"data row14 col4\" >0.5542</td>\n",
       "      <td id=\"T_ed932_row14_col5\" class=\"data row14 col5\" >0.0604</td>\n",
       "      <td id=\"T_ed932_row14_col6\" class=\"data row14 col6\" >0.0469</td>\n",
       "      <td id=\"T_ed932_row14_col7\" class=\"data row14 col7\" >0.0267</td>\n",
       "    </tr>\n",
       "    <tr>\n",
       "      <th id=\"T_ed932_level0_row15\" class=\"row_heading level0 row15\" >lar</th>\n",
       "      <td id=\"T_ed932_row15_col0\" class=\"data row15 col0\" >Least Angle Regression</td>\n",
       "      <td id=\"T_ed932_row15_col1\" class=\"data row15 col1\" >3.2508</td>\n",
       "      <td id=\"T_ed932_row15_col2\" class=\"data row15 col2\" >24.5411</td>\n",
       "      <td id=\"T_ed932_row15_col3\" class=\"data row15 col3\" >4.1706</td>\n",
       "      <td id=\"T_ed932_row15_col4\" class=\"data row15 col4\" >0.5507</td>\n",
       "      <td id=\"T_ed932_row15_col5\" class=\"data row15 col5\" >0.0562</td>\n",
       "      <td id=\"T_ed932_row15_col6\" class=\"data row15 col6\" >0.0432</td>\n",
       "      <td id=\"T_ed932_row15_col7\" class=\"data row15 col7\" >0.0225</td>\n",
       "    </tr>\n",
       "    <tr>\n",
       "      <th id=\"T_ed932_level0_row16\" class=\"row_heading level0 row16\" >par</th>\n",
       "      <td id=\"T_ed932_row16_col0\" class=\"data row16 col0\" >Passive Aggressive Regressor</td>\n",
       "      <td id=\"T_ed932_row16_col1\" class=\"data row16 col1\" >5.6634</td>\n",
       "      <td id=\"T_ed932_row16_col2\" class=\"data row16 col2\" >50.2413</td>\n",
       "      <td id=\"T_ed932_row16_col3\" class=\"data row16 col3\" >6.9483</td>\n",
       "      <td id=\"T_ed932_row16_col4\" class=\"data row16 col4\" >0.0640</td>\n",
       "      <td id=\"T_ed932_row16_col5\" class=\"data row16 col5\" >0.0891</td>\n",
       "      <td id=\"T_ed932_row16_col6\" class=\"data row16 col6\" >0.0746</td>\n",
       "      <td id=\"T_ed932_row16_col7\" class=\"data row16 col7\" >0.0192</td>\n",
       "    </tr>\n",
       "    <tr>\n",
       "      <th id=\"T_ed932_level0_row17\" class=\"row_heading level0 row17\" >dummy</th>\n",
       "      <td id=\"T_ed932_row17_col0\" class=\"data row17 col0\" >Dummy Regressor</td>\n",
       "      <td id=\"T_ed932_row17_col1\" class=\"data row17 col1\" >6.3065</td>\n",
       "      <td id=\"T_ed932_row17_col2\" class=\"data row17 col2\" >56.8264</td>\n",
       "      <td id=\"T_ed932_row17_col3\" class=\"data row17 col3\" >7.5043</td>\n",
       "      <td id=\"T_ed932_row17_col4\" class=\"data row17 col4\" >-0.0576</td>\n",
       "      <td id=\"T_ed932_row17_col5\" class=\"data row17 col5\" >0.0963</td>\n",
       "      <td id=\"T_ed932_row17_col6\" class=\"data row17 col6\" >0.0827</td>\n",
       "      <td id=\"T_ed932_row17_col7\" class=\"data row17 col7\" >0.0217</td>\n",
       "    </tr>\n",
       "  </tbody>\n",
       "</table>\n"
      ],
      "text/plain": [
       "<pandas.io.formats.style.Styler at 0x17a6dcfa110>"
      ]
     },
     "metadata": {},
     "output_type": "display_data"
    },
    {
     "data": {
      "text/html": [],
      "text/plain": [
       "<IPython.core.display.HTML object>"
      ]
     },
     "metadata": {},
     "output_type": "display_data"
    }
   ],
   "source": [
    "# compare baseline models\n",
    "best = exp1.compare_models(n_select=15)"
   ]
  },
  {
   "cell_type": "code",
   "execution_count": 54,
   "metadata": {},
   "outputs": [
    {
     "data": {
      "text/html": [],
      "text/plain": [
       "<IPython.core.display.HTML object>"
      ]
     },
     "metadata": {},
     "output_type": "display_data"
    },
    {
     "data": {
      "text/html": [
       "<style type=\"text/css\">\n",
       "#T_74ade_row12_col0, #T_74ade_row12_col1, #T_74ade_row12_col2, #T_74ade_row12_col3, #T_74ade_row12_col4, #T_74ade_row12_col5 {\n",
       "  background: yellow;\n",
       "}\n",
       "</style>\n",
       "<table id=\"T_74ade\">\n",
       "  <thead>\n",
       "    <tr>\n",
       "      <th class=\"blank level0\" >&nbsp;</th>\n",
       "      <th id=\"T_74ade_level0_col0\" class=\"col_heading level0 col0\" >MAE</th>\n",
       "      <th id=\"T_74ade_level0_col1\" class=\"col_heading level0 col1\" >MSE</th>\n",
       "      <th id=\"T_74ade_level0_col2\" class=\"col_heading level0 col2\" >RMSE</th>\n",
       "      <th id=\"T_74ade_level0_col3\" class=\"col_heading level0 col3\" >R2</th>\n",
       "      <th id=\"T_74ade_level0_col4\" class=\"col_heading level0 col4\" >RMSLE</th>\n",
       "      <th id=\"T_74ade_level0_col5\" class=\"col_heading level0 col5\" >MAPE</th>\n",
       "    </tr>\n",
       "    <tr>\n",
       "      <th class=\"index_name level0\" >Fold</th>\n",
       "      <th class=\"blank col0\" >&nbsp;</th>\n",
       "      <th class=\"blank col1\" >&nbsp;</th>\n",
       "      <th class=\"blank col2\" >&nbsp;</th>\n",
       "      <th class=\"blank col3\" >&nbsp;</th>\n",
       "      <th class=\"blank col4\" >&nbsp;</th>\n",
       "      <th class=\"blank col5\" >&nbsp;</th>\n",
       "    </tr>\n",
       "  </thead>\n",
       "  <tbody>\n",
       "    <tr>\n",
       "      <th id=\"T_74ade_level0_row0\" class=\"row_heading level0 row0\" >0</th>\n",
       "      <td id=\"T_74ade_row0_col0\" class=\"data row0 col0\" >1.4493</td>\n",
       "      <td id=\"T_74ade_row0_col1\" class=\"data row0 col1\" >4.9972</td>\n",
       "      <td id=\"T_74ade_row0_col2\" class=\"data row0 col2\" >2.2354</td>\n",
       "      <td id=\"T_74ade_row0_col3\" class=\"data row0 col3\" >0.8968</td>\n",
       "      <td id=\"T_74ade_row0_col4\" class=\"data row0 col4\" >0.0299</td>\n",
       "      <td id=\"T_74ade_row0_col5\" class=\"data row0 col5\" >0.0201</td>\n",
       "    </tr>\n",
       "    <tr>\n",
       "      <th id=\"T_74ade_level0_row1\" class=\"row_heading level0 row1\" >1</th>\n",
       "      <td id=\"T_74ade_row1_col0\" class=\"data row1 col0\" >2.0169</td>\n",
       "      <td id=\"T_74ade_row1_col1\" class=\"data row1 col1\" >6.6818</td>\n",
       "      <td id=\"T_74ade_row1_col2\" class=\"data row1 col2\" >2.5849</td>\n",
       "      <td id=\"T_74ade_row1_col3\" class=\"data row1 col3\" >0.8794</td>\n",
       "      <td id=\"T_74ade_row1_col4\" class=\"data row1 col4\" >0.0344</td>\n",
       "      <td id=\"T_74ade_row1_col5\" class=\"data row1 col5\" >0.0272</td>\n",
       "    </tr>\n",
       "    <tr>\n",
       "      <th id=\"T_74ade_level0_row2\" class=\"row_heading level0 row2\" >2</th>\n",
       "      <td id=\"T_74ade_row2_col0\" class=\"data row2 col0\" >1.7565</td>\n",
       "      <td id=\"T_74ade_row2_col1\" class=\"data row2 col1\" >4.9309</td>\n",
       "      <td id=\"T_74ade_row2_col2\" class=\"data row2 col2\" >2.2206</td>\n",
       "      <td id=\"T_74ade_row2_col3\" class=\"data row2 col3\" >0.9246</td>\n",
       "      <td id=\"T_74ade_row2_col4\" class=\"data row2 col4\" >0.0292</td>\n",
       "      <td id=\"T_74ade_row2_col5\" class=\"data row2 col5\" >0.0230</td>\n",
       "    </tr>\n",
       "    <tr>\n",
       "      <th id=\"T_74ade_level0_row3\" class=\"row_heading level0 row3\" >3</th>\n",
       "      <td id=\"T_74ade_row3_col0\" class=\"data row3 col0\" >2.1203</td>\n",
       "      <td id=\"T_74ade_row3_col1\" class=\"data row3 col1\" >7.1522</td>\n",
       "      <td id=\"T_74ade_row3_col2\" class=\"data row3 col2\" >2.6744</td>\n",
       "      <td id=\"T_74ade_row3_col3\" class=\"data row3 col3\" >0.8896</td>\n",
       "      <td id=\"T_74ade_row3_col4\" class=\"data row3 col4\" >0.0341</td>\n",
       "      <td id=\"T_74ade_row3_col5\" class=\"data row3 col5\" >0.0276</td>\n",
       "    </tr>\n",
       "    <tr>\n",
       "      <th id=\"T_74ade_level0_row4\" class=\"row_heading level0 row4\" >4</th>\n",
       "      <td id=\"T_74ade_row4_col0\" class=\"data row4 col0\" >1.5033</td>\n",
       "      <td id=\"T_74ade_row4_col1\" class=\"data row4 col1\" >4.3381</td>\n",
       "      <td id=\"T_74ade_row4_col2\" class=\"data row4 col2\" >2.0828</td>\n",
       "      <td id=\"T_74ade_row4_col3\" class=\"data row4 col3\" >0.9011</td>\n",
       "      <td id=\"T_74ade_row4_col4\" class=\"data row4 col4\" >0.0290</td>\n",
       "      <td id=\"T_74ade_row4_col5\" class=\"data row4 col5\" >0.0208</td>\n",
       "    </tr>\n",
       "    <tr>\n",
       "      <th id=\"T_74ade_level0_row5\" class=\"row_heading level0 row5\" >5</th>\n",
       "      <td id=\"T_74ade_row5_col0\" class=\"data row5 col0\" >1.4332</td>\n",
       "      <td id=\"T_74ade_row5_col1\" class=\"data row5 col1\" >3.0416</td>\n",
       "      <td id=\"T_74ade_row5_col2\" class=\"data row5 col2\" >1.7440</td>\n",
       "      <td id=\"T_74ade_row5_col3\" class=\"data row5 col3\" >0.9480</td>\n",
       "      <td id=\"T_74ade_row5_col4\" class=\"data row5 col4\" >0.0233</td>\n",
       "      <td id=\"T_74ade_row5_col5\" class=\"data row5 col5\" >0.0190</td>\n",
       "    </tr>\n",
       "    <tr>\n",
       "      <th id=\"T_74ade_level0_row6\" class=\"row_heading level0 row6\" >6</th>\n",
       "      <td id=\"T_74ade_row6_col0\" class=\"data row6 col0\" >1.3089</td>\n",
       "      <td id=\"T_74ade_row6_col1\" class=\"data row6 col1\" >2.5257</td>\n",
       "      <td id=\"T_74ade_row6_col2\" class=\"data row6 col2\" >1.5892</td>\n",
       "      <td id=\"T_74ade_row6_col3\" class=\"data row6 col3\" >0.9605</td>\n",
       "      <td id=\"T_74ade_row6_col4\" class=\"data row6 col4\" >0.0202</td>\n",
       "      <td id=\"T_74ade_row6_col5\" class=\"data row6 col5\" >0.0167</td>\n",
       "    </tr>\n",
       "    <tr>\n",
       "      <th id=\"T_74ade_level0_row7\" class=\"row_heading level0 row7\" >7</th>\n",
       "      <td id=\"T_74ade_row7_col0\" class=\"data row7 col0\" >2.2066</td>\n",
       "      <td id=\"T_74ade_row7_col1\" class=\"data row7 col1\" >8.5222</td>\n",
       "      <td id=\"T_74ade_row7_col2\" class=\"data row7 col2\" >2.9193</td>\n",
       "      <td id=\"T_74ade_row7_col3\" class=\"data row7 col3\" >0.7847</td>\n",
       "      <td id=\"T_74ade_row7_col4\" class=\"data row7 col4\" >0.0380</td>\n",
       "      <td id=\"T_74ade_row7_col5\" class=\"data row7 col5\" >0.0290</td>\n",
       "    </tr>\n",
       "    <tr>\n",
       "      <th id=\"T_74ade_level0_row8\" class=\"row_heading level0 row8\" >8</th>\n",
       "      <td id=\"T_74ade_row8_col0\" class=\"data row8 col0\" >2.1111</td>\n",
       "      <td id=\"T_74ade_row8_col1\" class=\"data row8 col1\" >7.7879</td>\n",
       "      <td id=\"T_74ade_row8_col2\" class=\"data row8 col2\" >2.7907</td>\n",
       "      <td id=\"T_74ade_row8_col3\" class=\"data row8 col3\" >0.8791</td>\n",
       "      <td id=\"T_74ade_row8_col4\" class=\"data row8 col4\" >0.0349</td>\n",
       "      <td id=\"T_74ade_row8_col5\" class=\"data row8 col5\" >0.0267</td>\n",
       "    </tr>\n",
       "    <tr>\n",
       "      <th id=\"T_74ade_level0_row9\" class=\"row_heading level0 row9\" >9</th>\n",
       "      <td id=\"T_74ade_row9_col0\" class=\"data row9 col0\" >1.6273</td>\n",
       "      <td id=\"T_74ade_row9_col1\" class=\"data row9 col1\" >3.7654</td>\n",
       "      <td id=\"T_74ade_row9_col2\" class=\"data row9 col2\" >1.9405</td>\n",
       "      <td id=\"T_74ade_row9_col3\" class=\"data row9 col3\" >0.9242</td>\n",
       "      <td id=\"T_74ade_row9_col4\" class=\"data row9 col4\" >0.0256</td>\n",
       "      <td id=\"T_74ade_row9_col5\" class=\"data row9 col5\" >0.0215</td>\n",
       "    </tr>\n",
       "    <tr>\n",
       "      <th id=\"T_74ade_level0_row10\" class=\"row_heading level0 row10\" >10</th>\n",
       "      <td id=\"T_74ade_row10_col0\" class=\"data row10 col0\" >1.5746</td>\n",
       "      <td id=\"T_74ade_row10_col1\" class=\"data row10 col1\" >3.6483</td>\n",
       "      <td id=\"T_74ade_row10_col2\" class=\"data row10 col2\" >1.9100</td>\n",
       "      <td id=\"T_74ade_row10_col3\" class=\"data row10 col3\" >0.8913</td>\n",
       "      <td id=\"T_74ade_row10_col4\" class=\"data row10 col4\" >0.0248</td>\n",
       "      <td id=\"T_74ade_row10_col5\" class=\"data row10 col5\" >0.0205</td>\n",
       "    </tr>\n",
       "    <tr>\n",
       "      <th id=\"T_74ade_level0_row11\" class=\"row_heading level0 row11\" >11</th>\n",
       "      <td id=\"T_74ade_row11_col0\" class=\"data row11 col0\" >1.9666</td>\n",
       "      <td id=\"T_74ade_row11_col1\" class=\"data row11 col1\" >8.0353</td>\n",
       "      <td id=\"T_74ade_row11_col2\" class=\"data row11 col2\" >2.8347</td>\n",
       "      <td id=\"T_74ade_row11_col3\" class=\"data row11 col3\" >0.8651</td>\n",
       "      <td id=\"T_74ade_row11_col4\" class=\"data row11 col4\" >0.0369</td>\n",
       "      <td id=\"T_74ade_row11_col5\" class=\"data row11 col5\" >0.0257</td>\n",
       "    </tr>\n",
       "    <tr>\n",
       "      <th id=\"T_74ade_level0_row12\" class=\"row_heading level0 row12\" >Mean</th>\n",
       "      <td id=\"T_74ade_row12_col0\" class=\"data row12 col0\" >1.7562</td>\n",
       "      <td id=\"T_74ade_row12_col1\" class=\"data row12 col1\" >5.4522</td>\n",
       "      <td id=\"T_74ade_row12_col2\" class=\"data row12 col2\" >2.2939</td>\n",
       "      <td id=\"T_74ade_row12_col3\" class=\"data row12 col3\" >0.8954</td>\n",
       "      <td id=\"T_74ade_row12_col4\" class=\"data row12 col4\" >0.0300</td>\n",
       "      <td id=\"T_74ade_row12_col5\" class=\"data row12 col5\" >0.0232</td>\n",
       "    </tr>\n",
       "    <tr>\n",
       "      <th id=\"T_74ade_level0_row13\" class=\"row_heading level0 row13\" >Std</th>\n",
       "      <td id=\"T_74ade_row13_col0\" class=\"data row13 col0\" >0.3008</td>\n",
       "      <td id=\"T_74ade_row13_col1\" class=\"data row13 col1\" >2.0031</td>\n",
       "      <td id=\"T_74ade_row13_col2\" class=\"data row13 col2\" >0.4363</td>\n",
       "      <td id=\"T_74ade_row13_col3\" class=\"data row13 col3\" >0.0433</td>\n",
       "      <td id=\"T_74ade_row13_col4\" class=\"data row13 col4\" >0.0055</td>\n",
       "      <td id=\"T_74ade_row13_col5\" class=\"data row13 col5\" >0.0038</td>\n",
       "    </tr>\n",
       "  </tbody>\n",
       "</table>\n"
      ],
      "text/plain": [
       "<pandas.io.formats.style.Styler at 0x17a0e0e1650>"
      ]
     },
     "metadata": {},
     "output_type": "display_data"
    },
    {
     "data": {
      "text/html": [],
      "text/plain": [
       "<IPython.core.display.HTML object>"
      ]
     },
     "metadata": {},
     "output_type": "display_data"
    }
   ],
   "source": [
    "model_3 = exp1.create_model('br')"
   ]
  },
  {
   "cell_type": "code",
   "execution_count": null,
   "metadata": {},
   "outputs": [
    {
     "data": {
      "application/vnd.jupyter.widget-view+json": {
       "model_id": "3b482e1c02224877b0742e0bf3add3ae",
       "version_major": 2,
       "version_minor": 0
      },
      "text/plain": [
       "interactive(children=(ToggleButtons(description='Plot Type:', icons=('',), options=(('Pipeline Plot', 'pipelin…"
      ]
     },
     "metadata": {},
     "output_type": "display_data"
    }
   ],
   "source": [
    "exp1.evaluate_model(model_3)"
   ]
  },
  {
   "cell_type": "code",
   "execution_count": 56,
   "metadata": {},
   "outputs": [
    {
     "data": {
      "text/html": [
       "<style type=\"text/css\">\n",
       "</style>\n",
       "<table id=\"T_7fa60\">\n",
       "  <thead>\n",
       "    <tr>\n",
       "      <th class=\"blank level0\" >&nbsp;</th>\n",
       "      <th id=\"T_7fa60_level0_col0\" class=\"col_heading level0 col0\" >Model</th>\n",
       "      <th id=\"T_7fa60_level0_col1\" class=\"col_heading level0 col1\" >MAE</th>\n",
       "      <th id=\"T_7fa60_level0_col2\" class=\"col_heading level0 col2\" >MSE</th>\n",
       "      <th id=\"T_7fa60_level0_col3\" class=\"col_heading level0 col3\" >RMSE</th>\n",
       "      <th id=\"T_7fa60_level0_col4\" class=\"col_heading level0 col4\" >R2</th>\n",
       "      <th id=\"T_7fa60_level0_col5\" class=\"col_heading level0 col5\" >RMSLE</th>\n",
       "      <th id=\"T_7fa60_level0_col6\" class=\"col_heading level0 col6\" >MAPE</th>\n",
       "    </tr>\n",
       "  </thead>\n",
       "  <tbody>\n",
       "    <tr>\n",
       "      <th id=\"T_7fa60_level0_row0\" class=\"row_heading level0 row0\" >0</th>\n",
       "      <td id=\"T_7fa60_row0_col0\" class=\"data row0 col0\" >Bayesian Ridge</td>\n",
       "      <td id=\"T_7fa60_row0_col1\" class=\"data row0 col1\" >2.7694</td>\n",
       "      <td id=\"T_7fa60_row0_col2\" class=\"data row0 col2\" >13.4692</td>\n",
       "      <td id=\"T_7fa60_row0_col3\" class=\"data row0 col3\" >3.6700</td>\n",
       "      <td id=\"T_7fa60_row0_col4\" class=\"data row0 col4\" >0.3524</td>\n",
       "      <td id=\"T_7fa60_row0_col5\" class=\"data row0 col5\" >0.0475</td>\n",
       "      <td id=\"T_7fa60_row0_col6\" class=\"data row0 col6\" >0.0372</td>\n",
       "    </tr>\n",
       "  </tbody>\n",
       "</table>\n"
      ],
      "text/plain": [
       "<pandas.io.formats.style.Styler at 0x17a0a037610>"
      ]
     },
     "metadata": {},
     "output_type": "display_data"
    }
   ],
   "source": [
    "predictions = exp1.predict_model(model_3, data=test_data)\n",
    "predict_v = predictions['prediction_label']\n",
    "real = test_data['humidity']"
   ]
  },
  {
   "cell_type": "code",
   "execution_count": 57,
   "metadata": {},
   "outputs": [],
   "source": [
    "# exp1.plot_model(model_2, 'learning')"
   ]
  },
  {
   "cell_type": "markdown",
   "metadata": {},
   "source": [
    "# ทำนาย 1 วันข้างหน้า ต้องทำนายเผื่อ 2 วัน"
   ]
  },
  {
   "cell_type": "code",
   "execution_count": 58,
   "metadata": {},
   "outputs": [
    {
     "data": {
      "image/png": "[encoded data removed]",
      "text/plain": [
       "<Figure size 1000x600 with 1 Axes>"
      ]
     },
     "metadata": {},
     "output_type": "display_data"
    }
   ],
   "source": [
    "import pandas as pd\n",
    "import matplotlib.pyplot as plt\n",
    "\n",
    "# สมมุติว่า result คือ DataFrame ที่รวม predictions กับ pm_10\n",
    "result = pd.concat([predict_v.shift(-1), test_data['humidity']], axis=1)\n",
    "result.columns = ['Predictions', 'Actual HUMI']  # ตั้งชื่อคอลัมน์\n",
    "\n",
    "# พล็อตข้อมูล\n",
    "result.plot(figsize=(10, 6))\n",
    "\n",
    "# ตั้งชื่อกราฟ\n",
    "plt.title('Predictions vs Actual HUMI')\n",
    "plt.xlabel('Index')\n",
    "plt.ylabel('HUMI Values')\n",
    "\n",
    "# แสดงกราฟ\n",
    "plt.show()"
   ]
  },
  {
   "cell_type": "code",
   "execution_count": 59,
   "metadata": {},
   "outputs": [
    {
     "data": {
      "text/plain": [
       "29"
      ]
     },
     "execution_count": 59,
     "metadata": {},
     "output_type": "execute_result"
    }
   ],
   "source": [
    "len(y_true)"
   ]
  },
  {
   "cell_type": "code",
   "execution_count": 60,
   "metadata": {},
   "outputs": [
    {
     "name": "stdout",
     "output_type": "stream",
     "text": [
      "R² Score: 0.6822\n",
      "Mean Absolute Error (MAE): 2.1982\n",
      "Root Mean Squared Error (RMSE): 2.6042\n",
      "Accuracy: 97.03%\n"
     ]
    }
   ],
   "source": [
    "from pycaret.regression import *\n",
    "from sklearn.metrics import r2_score, mean_absolute_error, mean_squared_error\n",
    "import numpy as np\n",
    "\n",
    "y_true = test_data[\"humidity\"][:\"2025-2-10\"]\n",
    "y_pred = predict_v.shift(-1)[:\"2025-2-10\"]\n",
    "\n",
    "# Calculate Regression Metrics\n",
    "r2 = r2_score(y_true, y_pred)\n",
    "mae = mean_absolute_error(y_true, y_pred)\n",
    "rmse = np.sqrt(mean_squared_error(y_true, y_pred))\n",
    "\n",
    "# Calculate Accuracy as (1 - (MAE / mean_actual)) * 100\n",
    "mean_actual = np.mean(y_true)  # Mean of actual values\n",
    "accuracy = (1 - (mae / mean_actual)) * 100  # Accuracy in percentage\n",
    "\n",
    "# Print Results\n",
    "print(f\"R² Score: {r2:.4f}\")  # Closer to 1 is better\n",
    "print(f\"Mean Absolute Error (MAE): {mae:.4f}\")  # Lower is better\n",
    "print(f\"Root Mean Squared Error (RMSE): {rmse:.4f}\")  # Lower is better\n",
    "print(f\"Accuracy: {accuracy:.2f}%\")  # Accuracy percentage"
   ]
  },
  {
   "cell_type": "code",
   "execution_count": 61,
   "metadata": {},
   "outputs": [
    {
     "name": "stdout",
     "output_type": "stream",
     "text": [
      "R² Score: 0.7456\n",
      "Mean Absolute Error (MAE): 2.5770\n",
      "Root Mean Squared Error (RMSE): 2.9285\n",
      "Mean Absolute Percentage Error (MAPE): 3.39%\n",
      "Accuracy: 96.61%\n"
     ]
    }
   ],
   "source": [
    "from pycaret.regression import *\n",
    "from sklearn.metrics import r2_score, mean_absolute_error, mean_squared_error\n",
    "import numpy as np\n",
    "\n",
    "# Extract actual values and predicted values\n",
    "y_true = test_data[\"humidity\"][:7]\n",
    "y_pred = (predict_v.shift(-1).dropna(axis=0))[:7]\n",
    "\n",
    "# Calculate Regression Metrics\n",
    "r2 = r2_score(y_true, y_pred)\n",
    "mae = mean_absolute_error(y_true, y_pred)\n",
    "rmse = np.sqrt(mean_squared_error(y_true, y_pred))\n",
    "\n",
    "# Calculate MAPE and Accuracy\n",
    "mape = np.mean(np.abs((y_true - y_pred) / y_true)) * 100  # Mean Absolute Percentage Error\n",
    "accuracy = 100 - mape  # Convert to Accuracy %\n",
    "\n",
    "# Print Results\n",
    "print(f\"R² Score: {r2:.4f}\")\n",
    "print(f\"Mean Absolute Error (MAE): {mae:.4f}\")\n",
    "print(f\"Root Mean Squared Error (RMSE): {rmse:.4f}\")\n",
    "print(f\"Mean Absolute Percentage Error (MAPE): {mape:.2f}%\")\n",
    "print(f\"Accuracy: {accuracy:.2f}%\")"
   ]
  },
  {
   "cell_type": "markdown",
   "metadata": {},
   "source": [
    "# Predict 1 by 1"
   ]
  },
  {
   "cell_type": "markdown",
   "metadata": {},
   "source": [
    "30 วัน  \n",
    "2025-01-13 07:00:00  \n",
    "2025-02-11 07:00:00  \n",
    "7 วัน  \n",
    "2025-02-05  \n",
    "2025-02-11  \n",
    "24 วัน  \n",
    "2025-01-19 07:00:00  \n",
    "31 วัน\n",
    "2025-01-12 07:00:00"
   ]
  },
  {
   "cell_type": "code",
   "execution_count": 62,
   "metadata": {},
   "outputs": [
    {
     "data": {
      "text/html": [],
      "text/plain": [
       "<IPython.core.display.HTML object>"
      ]
     },
     "metadata": {},
     "output_type": "display_data"
    },
    {
     "data": {
      "text/html": [],
      "text/plain": [
       "<IPython.core.display.HTML object>"
      ]
     },
     "metadata": {},
     "output_type": "display_data"
    },
    {
     "data": {
      "text/html": [],
      "text/plain": [
       "<IPython.core.display.HTML object>"
      ]
     },
     "metadata": {},
     "output_type": "display_data"
    },
    {
     "data": {
      "text/html": [],
      "text/plain": [
       "<IPython.core.display.HTML object>"
      ]
     },
     "metadata": {},
     "output_type": "display_data"
    },
    {
     "data": {
      "text/html": [],
      "text/plain": [
       "<IPython.core.display.HTML object>"
      ]
     },
     "metadata": {},
     "output_type": "display_data"
    },
    {
     "data": {
      "text/html": [],
      "text/plain": [
       "<IPython.core.display.HTML object>"
      ]
     },
     "metadata": {},
     "output_type": "display_data"
    },
    {
     "data": {
      "text/html": [],
      "text/plain": [
       "<IPython.core.display.HTML object>"
      ]
     },
     "metadata": {},
     "output_type": "display_data"
    },
    {
     "data": {
      "text/html": [],
      "text/plain": [
       "<IPython.core.display.HTML object>"
      ]
     },
     "metadata": {},
     "output_type": "display_data"
    },
    {
     "data": {
      "text/html": [],
      "text/plain": [
       "<IPython.core.display.HTML object>"
      ]
     },
     "metadata": {},
     "output_type": "display_data"
    },
    {
     "data": {
      "text/html": [],
      "text/plain": [
       "<IPython.core.display.HTML object>"
      ]
     },
     "metadata": {},
     "output_type": "display_data"
    },
    {
     "data": {
      "text/html": [],
      "text/plain": [
       "<IPython.core.display.HTML object>"
      ]
     },
     "metadata": {},
     "output_type": "display_data"
    },
    {
     "data": {
      "text/html": [],
      "text/plain": [
       "<IPython.core.display.HTML object>"
      ]
     },
     "metadata": {},
     "output_type": "display_data"
    },
    {
     "data": {
      "text/html": [],
      "text/plain": [
       "<IPython.core.display.HTML object>"
      ]
     },
     "metadata": {},
     "output_type": "display_data"
    },
    {
     "data": {
      "text/html": [],
      "text/plain": [
       "<IPython.core.display.HTML object>"
      ]
     },
     "metadata": {},
     "output_type": "display_data"
    },
    {
     "data": {
      "text/html": [],
      "text/plain": [
       "<IPython.core.display.HTML object>"
      ]
     },
     "metadata": {},
     "output_type": "display_data"
    },
    {
     "data": {
      "text/html": [],
      "text/plain": [
       "<IPython.core.display.HTML object>"
      ]
     },
     "metadata": {},
     "output_type": "display_data"
    },
    {
     "data": {
      "text/html": [],
      "text/plain": [
       "<IPython.core.display.HTML object>"
      ]
     },
     "metadata": {},
     "output_type": "display_data"
    },
    {
     "data": {
      "text/html": [],
      "text/plain": [
       "<IPython.core.display.HTML object>"
      ]
     },
     "metadata": {},
     "output_type": "display_data"
    },
    {
     "data": {
      "text/html": [],
      "text/plain": [
       "<IPython.core.display.HTML object>"
      ]
     },
     "metadata": {},
     "output_type": "display_data"
    },
    {
     "data": {
      "text/html": [],
      "text/plain": [
       "<IPython.core.display.HTML object>"
      ]
     },
     "metadata": {},
     "output_type": "display_data"
    },
    {
     "data": {
      "text/html": [],
      "text/plain": [
       "<IPython.core.display.HTML object>"
      ]
     },
     "metadata": {},
     "output_type": "display_data"
    },
    {
     "data": {
      "text/html": [],
      "text/plain": [
       "<IPython.core.display.HTML object>"
      ]
     },
     "metadata": {},
     "output_type": "display_data"
    },
    {
     "data": {
      "text/html": [],
      "text/plain": [
       "<IPython.core.display.HTML object>"
      ]
     },
     "metadata": {},
     "output_type": "display_data"
    },
    {
     "data": {
      "text/html": [],
      "text/plain": [
       "<IPython.core.display.HTML object>"
      ]
     },
     "metadata": {},
     "output_type": "display_data"
    },
    {
     "data": {
      "text/html": [],
      "text/plain": [
       "<IPython.core.display.HTML object>"
      ]
     },
     "metadata": {},
     "output_type": "display_data"
    },
    {
     "data": {
      "text/html": [],
      "text/plain": [
       "<IPython.core.display.HTML object>"
      ]
     },
     "metadata": {},
     "output_type": "display_data"
    },
    {
     "data": {
      "text/html": [],
      "text/plain": [
       "<IPython.core.display.HTML object>"
      ]
     },
     "metadata": {},
     "output_type": "display_data"
    },
    {
     "data": {
      "text/html": [],
      "text/plain": [
       "<IPython.core.display.HTML object>"
      ]
     },
     "metadata": {},
     "output_type": "display_data"
    },
    {
     "data": {
      "text/html": [],
      "text/plain": [
       "<IPython.core.display.HTML object>"
      ]
     },
     "metadata": {},
     "output_type": "display_data"
    },
    {
     "data": {
      "text/html": [],
      "text/plain": [
       "<IPython.core.display.HTML object>"
      ]
     },
     "metadata": {},
     "output_type": "display_data"
    }
   ],
   "source": [
    "data_compare = data_filtered.loc[:'2025-01-12']\n",
    "result = pd.DataFrame()\n",
    "\n",
    "start_date = \"2025-01-13\"\n",
    "end_date = \"2025-02-11\"\n",
    "\n",
    "model = model_3\n",
    "\n",
    "for date in pd.date_range(start=start_date, end=end_date, freq=\"D\"):\n",
    "    # Drop columns\n",
    "    test_1 = data_filtered\n",
    "    # ดึงวันนี้มา\n",
    "    test_1 = test_1.loc[str(date.date())]\n",
    "\n",
    "    # ใส่เข้าไป\n",
    "    data_compare = pd.concat([data_compare, test_1], axis=0)\n",
    "\n",
    "    # เพิ่มฟีเจอร์ rolling average (ค่าเฉลี่ยเคลื่อนที่)\n",
    "\n",
    "    # data_compare['pm_2_5_rolling_7'] = data_compare['pm_2_5'].rolling(window=7).mean().shift(1)  # ค่าเฉลี่ย 5 วันของ PM 10\n",
    "\n",
    "    for i in range(1,lag_size+1):\n",
    "        data_compare[f'humidity_lag_{i}'] = data_compare['humidity'].shift(i)\n",
    "\n",
    "    # ดึง\n",
    "    test_1 = (data_compare.loc[str(date.date())]).drop(columns=['humidity'])\n",
    "    \n",
    "    # Drop ทิ้งล่าสุดใน data_compare\n",
    "    data_compare = data_compare.drop(data_compare.last_valid_index())\n",
    "    test_1 = test_1[~test_1.index.duplicated(keep='last')]\n",
    "\n",
    "    # Predict\n",
    "    predict_test_1 = exp1.predict_model(model, data=test_1)\n",
    "\n",
    "    # เพิ่มผลทำนายเข้าไปใน data_compare\n",
    "    data_compare = pd.concat([data_compare, predict_test_1], axis=0)\n",
    "\n",
    "    # แทนที่ค่าในคอลัมน์ 'pm_2_5' ในวันที่ '2025-01-13' ด้วยค่าในคอลัมน์ 'prediction_label'\n",
    "    data_compare.loc[str(date.date()), 'humidity'] = data_compare.loc[str(date.date()), 'prediction_label']\n",
    "\n",
    "    # ลบคอลัมน์ 'prediction_label' (หากต้องการแค่ผลทำนาย)\n",
    "    data_compare = data_compare.drop(columns=['prediction_label'])\n",
    "\n",
    "    # กรองเอาวันที่ซ้ำกัน (index ซ้ำ) ออกให้เหลือแค่ตัวเดียว\n",
    "    data_compare = data_compare[~data_compare.index.duplicated(keep='last')]\n",
    "\n",
    "    # บันทึกลง result\n",
    "    result = pd.concat([result, predict_test_1], axis=0)"
   ]
  },
  {
   "cell_type": "code",
   "execution_count": 63,
   "metadata": {},
   "outputs": [
    {
     "data": {
      "image/png": "[encoded data removed]",
      "text/plain": [
       "<Figure size 1000x600 with 1 Axes>"
      ]
     },
     "metadata": {},
     "output_type": "display_data"
    }
   ],
   "source": [
    "import pandas as pd\n",
    "import matplotlib.pyplot as plt\n",
    "\n",
    "real_data = data_filtered.loc[start_date:end_date]\n",
    "# สมมุติว่า result คือ DataFrame ที่รวม predictions กับ pm_10\n",
    "result_plot = pd.concat([result['prediction_label'].shift(-1), real_data['humidity']], axis=1)\n",
    "result_plot.columns = ['Predictions', 'Actual HUMI']  # ตั้งชื่อคอลัมน์\n",
    "\n",
    "# พล็อตข้อมูล\n",
    "result_plot.plot(figsize=(10, 6))\n",
    "\n",
    "# ตั้งชื่อกราฟ\n",
    "plt.title('Predictions vs Actual HUMI')\n",
    "plt.xlabel('Index')\n",
    "plt.ylabel('HUMI Values')\n",
    "\n",
    "# แสดงกราฟ\n",
    "plt.show()"
   ]
  },
  {
   "cell_type": "code",
   "execution_count": 64,
   "metadata": {},
   "outputs": [],
   "source": [
    "y_true = test_data[\"humidity\"][:\"2025-2-10\"]\n",
    "y_pred = result['prediction_label'].shift(-1).dropna(axis=0)"
   ]
  },
  {
   "cell_type": "code",
   "execution_count": 65,
   "metadata": {},
   "outputs": [],
   "source": [
    "y_true = test_data[\"humidity\"][:7]\n",
    "y_pred = (result['prediction_label'].shift(-1).dropna(axis=0))[:7]"
   ]
  },
  {
   "cell_type": "code",
   "execution_count": 66,
   "metadata": {},
   "outputs": [
    {
     "name": "stdout",
     "output_type": "stream",
     "text": [
      "R² Score: 0.1567\n",
      "Mean Absolute Error (MAE): 4.4390\n",
      "Root Mean Squared Error (RMSE): 5.3321\n",
      "Mean Absolute Percentage Error (MAPE): 5.81%\n",
      "Accuracy: 94.19%\n"
     ]
    }
   ],
   "source": [
    "# Calculate Regression Metrics\n",
    "r2 = r2_score(y_true, y_pred)\n",
    "mae = mean_absolute_error(y_true, y_pred)\n",
    "rmse = np.sqrt(mean_squared_error(y_true, y_pred))\n",
    "\n",
    "# Calculate MAPE and Accuracy\n",
    "mape = np.mean(np.abs((y_true - y_pred) / y_true)) * 100  # Mean Absolute Percentage Error\n",
    "accuracy = 100 - mape  # Convert to Accuracy %\n",
    "\n",
    "# Print Results\n",
    "print(f\"R² Score: {r2:.4f}\")\n",
    "print(f\"Mean Absolute Error (MAE): {mae:.4f}\")\n",
    "print(f\"Root Mean Squared Error (RMSE): {rmse:.4f}\")\n",
    "print(f\"Mean Absolute Percentage Error (MAPE): {mape:.2f}%\")\n",
    "print(f\"Accuracy: {accuracy:.2f}%\")"
   ]
  }
 ],
 "metadata": {
  "kernelspec": {
   "display_name": "pycaret_venv",
   "language": "python",
   "name": "python3"
  },
  "language_info": {
   "codemirror_mode": {
    "name": "ipython",
    "version": 3
   },
   "file_extension": ".py",
   "mimetype": "text/x-python",
   "name": "python",
   "nbconvert_exporter": "python",
   "pygments_lexer": "ipython3",
   "version": "3.11.9"
  }
 },
 "nbformat": 4,
 "nbformat_minor": 2
}

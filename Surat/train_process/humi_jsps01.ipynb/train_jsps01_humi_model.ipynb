{
 "cells": [
  {
   "cell_type": "code",
   "execution_count": 1,
   "metadata": {},
   "outputs": [],
   "source": [
    "import pycaret\n",
    "import pandas as pd"
   ]
  },
  {
   "cell_type": "code",
   "execution_count": 2,
   "metadata": {},
   "outputs": [],
   "source": [
    "# อ่านไฟล์ CSV\n",
    "data = pd.read_csv('../../export_data_jsp01/clean_data_jsps001_1d.csv')"
   ]
  },
  {
   "cell_type": "code",
   "execution_count": 3,
   "metadata": {},
   "outputs": [
    {
     "name": "stdout",
     "output_type": "stream",
     "text": [
      "แถวที่มีค่าหายไปก่อนเติม:\n",
      "Empty DataFrame\n",
      "Columns: [humidity, pm_2_5, temperature]\n",
      "Index: []\n",
      "ไม่มีค่าหายไปแล้ว\n"
     ]
    }
   ],
   "source": [
    "# ตั้ง 'timestamp' เป็น index หากยังไม่ได้ทำ\n",
    "data['timestamp'] = pd.to_datetime(data['timestamp'])\n",
    "data.set_index('timestamp', inplace=True)\n",
    "\n",
    "# ตั้งค่า freq ให้กับ index\n",
    "data = data.asfreq('D')  # 'D' สำหรับรายวัน\n",
    "\n",
    "# แสดงแถวที่มีค่าหายไปก่อนเติม\n",
    "print(\"แถวที่มีค่าหายไปก่อนเติม:\")\n",
    "print(data[data.isnull().any(axis=1)])\n",
    "\n",
    "# เติมค่าที่หายไปด้วยการ interpolate แบบเส้นตรง\n",
    "data.interpolate(method='linear', inplace=True)\n",
    "\n",
    "# แสดงแถวที่ยังมีค่า NaN หลังจากเติม (ถ้ามี)\n",
    "missing_rows_after = data[data.isnull().any(axis=1)]\n",
    "if not missing_rows_after.empty:\n",
    "    print(\"แถวที่ยังมีค่าหายไปหลังเติม:\")\n",
    "    print(missing_rows_after)\n",
    "else:\n",
    "    print(\"ไม่มีค่าหายไปแล้ว\")\n",
    "\n",
    "\n",
    "# row = data.loc[\"2023-09-30 07:00:00\"]\n",
    "# row"
   ]
  },
  {
   "cell_type": "code",
   "execution_count": 4,
   "metadata": {},
   "outputs": [],
   "source": [
    "data = data[['temperature']]"
   ]
  },
  {
   "cell_type": "code",
   "execution_count": 5,
   "metadata": {},
   "outputs": [],
   "source": [
    "data[\"year\"] = data.index.year\n",
    "data[\"month\"] = data.index.month\n",
    "data[\"day\"] = data.index.day\n",
    "data[\"day_of_week\"] = data.index.dayofweek  # 0 = Monday, 6 = Sunday\n",
    "data[\"week_of_year\"] = data.index.isocalendar().week  # ค่าจะเป็น int64\n",
    "\n",
    "# สมมติว่า data มี index เป็น datetime อยู่แล้ว\n",
    "def assign_season(month):\n",
    "    if month in [2, 3, 4]:  # ก.พ. - เม.ย.\n",
    "        return \"summer\"        # ฤดูร้อน\n",
    "    elif month in [5, 6, 7]:  # พ.ค. - ก.ค.\n",
    "        return \"early_rainy\"   # ต้นฤดูฝน\n",
    "    else:  # ส.ค. - ม.ค.\n",
    "        return \"late_rainy\"    # ปลายฤดูฝน\n",
    "\n",
    "season_mapping = {'summer': 0, 'early_rainy': 1, 'late_rainy': 2}\n",
    "data[\"season\"] = data.index.month.map(assign_season)\n",
    "data['season'] = data['season'].map(season_mapping)\n",
    "\n",
    "data[\"is_weekend\"] = data.index.dayofweek.isin([5, 6]).astype(int)\n",
    "\n",
    "import pandas as pd\n",
    "import numpy as np\n",
    "\n",
    "# สมมุติว่ามี DataFrame data ที่มีข้อมูลอยู่แล้ว\n",
    "# เพิ่มฟีเจอร์ day_of_year\n",
    "data['date'] = pd.to_datetime(data[['year', 'month', 'day']])\n",
    "data['day_of_year'] = data['date'].dt.dayofyear\n",
    "\n",
    "# เพิ่มฟีเจอร์ month_sin และ month_cos\n",
    "data['month_sin'] = np.sin(2 * np.pi * data['month'] / 12)\n",
    "data['month_cos'] = np.cos(2 * np.pi * data['month'] / 12)\n",
    "\n",
    "# เพิ่มฟีเจอร์ day_of_week_sin และ day_of_week_cos\n",
    "data['day_of_week_sin'] = np.sin(2 * np.pi * data['day_of_week'] / 7)\n",
    "data['day_of_week_cos'] = np.cos(2 * np.pi * data['day_of_week'] / 7)\n",
    "\n",
    "lag_size = 7\n",
    "for i in range(1,lag_size+1):\n",
    "    data[f'temperature_lag_{i}'] = data['temperature'].shift(i)\n"
   ]
  },
  {
   "cell_type": "code",
   "execution_count": 6,
   "metadata": {},
   "outputs": [],
   "source": [
    "data_filtered = data.loc['2023-09':]  # ดึงข้อมูลตั้งแต่กันยายน 2023 เป็นต้นไป"
   ]
  },
  {
   "cell_type": "code",
   "execution_count": 7,
   "metadata": {},
   "outputs": [],
   "source": [
    "# สมมติว่า data มีจำนวนวันทั้งหมด\n",
    "total_data = len(data_filtered)\n",
    "\n",
    "# จำนวนวันที่ต้องการเป็น test data\n",
    "test_days = 30\n",
    "\n",
    "# คำนวณสัดส่วนของ 30 วันในข้อมูลทั้งหมด\n",
    "test_size = test_days / total_data\n",
    "\n",
    "from sklearn.model_selection import train_test_split\n",
    "train_data, test_data = train_test_split(data_filtered, test_size=test_size, shuffle=False)\n",
    "\n"
   ]
  },
  {
   "cell_type": "code",
   "execution_count": 8,
   "metadata": {},
   "outputs": [
    {
     "name": "stdout",
     "output_type": "stream",
     "text": [
      "Transformation Pipeline and Model Successfully Loaded\n"
     ]
    }
   ],
   "source": [
    "from pycaret.regression import load_model, predict_model\n",
    "\n",
    "model_temp = load_model(\"ada_and_dt_jsps01_temp_model\")"
   ]
  },
  {
   "cell_type": "code",
   "execution_count": 9,
   "metadata": {},
   "outputs": [],
   "source": [
    "data_compare = data_filtered.loc[:'2025-01-12']\n",
    "result = pd.DataFrame()\n",
    "\n",
    "start_date = \"2025-01-13\"\n",
    "end_date = \"2025-02-11\"\n",
    "\n",
    "model = model_temp\n",
    "\n",
    "for date in pd.date_range(start=start_date, end=end_date, freq=\"D\"):\n",
    "    # Drop columns\n",
    "    test_1 = data_filtered\n",
    "    # ดึงวันนี้มา\n",
    "    test_1 = test_1.loc[str(date.date())]\n",
    "\n",
    "    # ใส่เข้าไป\n",
    "    data_compare = pd.concat([data_compare, test_1], axis=0)\n",
    "\n",
    "    for i in range(1,lag_size+1):\n",
    "        data_compare[f'temperature_lag_{i}'] = data_compare['temperature'].shift(i)\n",
    "\n",
    "    # ดึง\n",
    "    test_1 = (data_compare.loc[str(date.date())]).drop(columns=['temperature'])\n",
    "    \n",
    "    # Drop ทิ้งล่าสุดใน data_compare\n",
    "    data_compare = data_compare.drop(data_compare.last_valid_index())\n",
    "    test_1 = test_1[~test_1.index.duplicated(keep='last')]\n",
    "\n",
    "    # Predict\n",
    "    predict_test_1 = predict_model(model, data=test_1)\n",
    "\n",
    "    # เพิ่มผลทำนายเข้าไปใน data_compare\n",
    "    data_compare = pd.concat([data_compare, predict_test_1], axis=0)\n",
    "\n",
    "    # แทนที่ค่าในคอลัมน์ 'pm_2_5' ในวันที่ '2025-01-13' ด้วยค่าในคอลัมน์ 'prediction_label'\n",
    "    data_compare.loc[str(date.date()), 'temperature'] = data_compare.loc[str(date.date()), 'prediction_label']\n",
    "\n",
    "    # ลบคอลัมน์ 'prediction_label' (หากต้องการแค่ผลทำนาย)\n",
    "    data_compare = data_compare.drop(columns=['prediction_label'])\n",
    "\n",
    "    # กรองเอาวันที่ซ้ำกัน (index ซ้ำ) ออกให้เหลือแค่ตัวเดียว\n",
    "    data_compare = data_compare[~data_compare.index.duplicated(keep='last')]\n",
    "\n",
    "    # บันทึกลง result\n",
    "    result = pd.concat([result, predict_test_1], axis=0)"
   ]
  },
  {
   "cell_type": "code",
   "execution_count": 10,
   "metadata": {},
   "outputs": [
    {
     "data": {
      "image/png": "[encoded data removed]",
      "text/plain": [
       "<Figure size 1000x600 with 1 Axes>"
      ]
     },
     "metadata": {},
     "output_type": "display_data"
    }
   ],
   "source": [
    "import pandas as pd\n",
    "import matplotlib.pyplot as plt\n",
    "\n",
    "real_data = data_filtered.loc[start_date:end_date]\n",
    "# สมมุติว่า result คือ DataFrame ที่รวม predictions กับ pm_10\n",
    "result_plot = pd.concat([result['prediction_label'].shift(-1), real_data['temperature']], axis=1)\n",
    "result_plot.columns = ['Predictions', 'Actual TEMP']  # ตั้งชื่อคอลัมน์\n",
    "\n",
    "# พล็อตข้อมูล\n",
    "result_plot.plot(figsize=(10, 6))\n",
    "\n",
    "# ตั้งชื่อกราฟ\n",
    "plt.title('Predictions vs Actual PM2.5')\n",
    "plt.xlabel('Index')\n",
    "plt.ylabel('PM2.5 Values')\n",
    "\n",
    "# แสดงกราฟ\n",
    "plt.show()"
   ]
  },
  {
   "cell_type": "code",
   "execution_count": 11,
   "metadata": {},
   "outputs": [],
   "source": [
    "y_true = test_data[\"temperature\"][:\"2025-2-10\"]\n",
    "y_pred = result[\"prediction_label\"].shift(-1).dropna(axis=0)"
   ]
  },
  {
   "cell_type": "code",
   "execution_count": 12,
   "metadata": {},
   "outputs": [
    {
     "name": "stdout",
     "output_type": "stream",
     "text": [
      "R² Score: -0.1035\n",
      "Mean Absolute Error (MAE): 0.9031\n",
      "Root Mean Squared Error (RMSE): 1.1676\n",
      "Mean Absolute Percentage Error (MAPE): 3.39%\n",
      "Accuracy: 96.61%\n"
     ]
    }
   ],
   "source": [
    "from sklearn.metrics import r2_score, mean_absolute_error, mean_squared_error\n",
    "\n",
    "# Calculate Regression Metrics\n",
    "r2 = r2_score(y_true, y_pred)\n",
    "mae = mean_absolute_error(y_true, y_pred)\n",
    "rmse = np.sqrt(mean_squared_error(y_true, y_pred))\n",
    "\n",
    "# Calculate MAPE and Accuracy\n",
    "mape = np.mean(np.abs((y_true - y_pred) / y_true)) * 100  # Mean Absolute Percentage Error\n",
    "accuracy = 100 - mape  # Convert to Accuracy %\n",
    "\n",
    "# Print Results\n",
    "print(f\"R² Score: {r2:.4f}\")\n",
    "print(f\"Mean Absolute Error (MAE): {mae:.4f}\")\n",
    "print(f\"Root Mean Squared Error (RMSE): {rmse:.4f}\")\n",
    "print(f\"Mean Absolute Percentage Error (MAPE): {mape:.2f}%\")\n",
    "print(f\"Accuracy: {accuracy:.2f}%\")"
   ]
  },
  {
   "cell_type": "code",
   "execution_count": 13,
   "metadata": {},
   "outputs": [
    {
     "data": {
      "text/html": [
       "<div>\n",
       "<style scoped>\n",
       "    .dataframe tbody tr th:only-of-type {\n",
       "        vertical-align: middle;\n",
       "    }\n",
       "\n",
       "    .dataframe tbody tr th {\n",
       "        vertical-align: top;\n",
       "    }\n",
       "\n",
       "    .dataframe thead th {\n",
       "        text-align: right;\n",
       "    }\n",
       "</style>\n",
       "<table border=\"1\" class=\"dataframe\">\n",
       "  <thead>\n",
       "    <tr style=\"text-align: right;\">\n",
       "      <th></th>\n",
       "      <th>year</th>\n",
       "      <th>month</th>\n",
       "      <th>day</th>\n",
       "      <th>day_of_week</th>\n",
       "      <th>week_of_year</th>\n",
       "      <th>season</th>\n",
       "      <th>is_weekend</th>\n",
       "      <th>date</th>\n",
       "      <th>day_of_year</th>\n",
       "      <th>month_sin</th>\n",
       "      <th>...</th>\n",
       "      <th>day_of_week_sin</th>\n",
       "      <th>day_of_week_cos</th>\n",
       "      <th>temperature_lag_1</th>\n",
       "      <th>temperature_lag_2</th>\n",
       "      <th>temperature_lag_3</th>\n",
       "      <th>temperature_lag_4</th>\n",
       "      <th>temperature_lag_5</th>\n",
       "      <th>temperature_lag_6</th>\n",
       "      <th>temperature_lag_7</th>\n",
       "      <th>prediction_label</th>\n",
       "    </tr>\n",
       "    <tr>\n",
       "      <th>timestamp</th>\n",
       "      <th></th>\n",
       "      <th></th>\n",
       "      <th></th>\n",
       "      <th></th>\n",
       "      <th></th>\n",
       "      <th></th>\n",
       "      <th></th>\n",
       "      <th></th>\n",
       "      <th></th>\n",
       "      <th></th>\n",
       "      <th></th>\n",
       "      <th></th>\n",
       "      <th></th>\n",
       "      <th></th>\n",
       "      <th></th>\n",
       "      <th></th>\n",
       "      <th></th>\n",
       "      <th></th>\n",
       "      <th></th>\n",
       "      <th></th>\n",
       "      <th></th>\n",
       "    </tr>\n",
       "  </thead>\n",
       "  <tbody>\n",
       "    <tr>\n",
       "      <th>2025-02-07 07:00:00</th>\n",
       "      <td>2025</td>\n",
       "      <td>2</td>\n",
       "      <td>7</td>\n",
       "      <td>4</td>\n",
       "      <td>6</td>\n",
       "      <td>0</td>\n",
       "      <td>0</td>\n",
       "      <td>2025-02-07</td>\n",
       "      <td>38</td>\n",
       "      <td>0.866025</td>\n",
       "      <td>...</td>\n",
       "      <td>-0.433884</td>\n",
       "      <td>-0.900969</td>\n",
       "      <td>27.664705</td>\n",
       "      <td>27.664705</td>\n",
       "      <td>27.663752</td>\n",
       "      <td>27.663752</td>\n",
       "      <td>27.653965</td>\n",
       "      <td>27.697985</td>\n",
       "      <td>27.843803</td>\n",
       "      <td>27.664705</td>\n",
       "    </tr>\n",
       "    <tr>\n",
       "      <th>2025-02-08 07:00:00</th>\n",
       "      <td>2025</td>\n",
       "      <td>2</td>\n",
       "      <td>8</td>\n",
       "      <td>5</td>\n",
       "      <td>6</td>\n",
       "      <td>0</td>\n",
       "      <td>1</td>\n",
       "      <td>2025-02-08</td>\n",
       "      <td>39</td>\n",
       "      <td>0.866025</td>\n",
       "      <td>...</td>\n",
       "      <td>-0.974928</td>\n",
       "      <td>-0.222521</td>\n",
       "      <td>27.664705</td>\n",
       "      <td>27.664705</td>\n",
       "      <td>27.664705</td>\n",
       "      <td>27.663752</td>\n",
       "      <td>27.663752</td>\n",
       "      <td>27.653965</td>\n",
       "      <td>27.697985</td>\n",
       "      <td>27.697985</td>\n",
       "    </tr>\n",
       "    <tr>\n",
       "      <th>2025-02-09 07:00:00</th>\n",
       "      <td>2025</td>\n",
       "      <td>2</td>\n",
       "      <td>9</td>\n",
       "      <td>6</td>\n",
       "      <td>6</td>\n",
       "      <td>0</td>\n",
       "      <td>1</td>\n",
       "      <td>2025-02-09</td>\n",
       "      <td>40</td>\n",
       "      <td>0.866025</td>\n",
       "      <td>...</td>\n",
       "      <td>-0.781832</td>\n",
       "      <td>0.623490</td>\n",
       "      <td>27.697985</td>\n",
       "      <td>27.664705</td>\n",
       "      <td>27.664705</td>\n",
       "      <td>27.664705</td>\n",
       "      <td>27.663752</td>\n",
       "      <td>27.663752</td>\n",
       "      <td>27.653965</td>\n",
       "      <td>27.664705</td>\n",
       "    </tr>\n",
       "    <tr>\n",
       "      <th>2025-02-10 07:00:00</th>\n",
       "      <td>2025</td>\n",
       "      <td>2</td>\n",
       "      <td>10</td>\n",
       "      <td>0</td>\n",
       "      <td>7</td>\n",
       "      <td>0</td>\n",
       "      <td>0</td>\n",
       "      <td>2025-02-10</td>\n",
       "      <td>41</td>\n",
       "      <td>0.866025</td>\n",
       "      <td>...</td>\n",
       "      <td>0.000000</td>\n",
       "      <td>1.000000</td>\n",
       "      <td>27.664705</td>\n",
       "      <td>27.697985</td>\n",
       "      <td>27.664705</td>\n",
       "      <td>27.664705</td>\n",
       "      <td>27.664705</td>\n",
       "      <td>27.663752</td>\n",
       "      <td>27.663752</td>\n",
       "      <td>27.664705</td>\n",
       "    </tr>\n",
       "    <tr>\n",
       "      <th>2025-02-11 07:00:00</th>\n",
       "      <td>2025</td>\n",
       "      <td>2</td>\n",
       "      <td>11</td>\n",
       "      <td>1</td>\n",
       "      <td>7</td>\n",
       "      <td>0</td>\n",
       "      <td>0</td>\n",
       "      <td>2025-02-11</td>\n",
       "      <td>42</td>\n",
       "      <td>0.866025</td>\n",
       "      <td>...</td>\n",
       "      <td>0.781832</td>\n",
       "      <td>0.623490</td>\n",
       "      <td>27.664705</td>\n",
       "      <td>27.664705</td>\n",
       "      <td>27.697985</td>\n",
       "      <td>27.664705</td>\n",
       "      <td>27.664705</td>\n",
       "      <td>27.664705</td>\n",
       "      <td>27.663752</td>\n",
       "      <td>27.664705</td>\n",
       "    </tr>\n",
       "  </tbody>\n",
       "</table>\n",
       "<p>5 rows × 21 columns</p>\n",
       "</div>"
      ],
      "text/plain": [
       "                     year  month  day  day_of_week  week_of_year  season  \\\n",
       "timestamp                                                                  \n",
       "2025-02-07 07:00:00  2025      2    7            4             6       0   \n",
       "2025-02-08 07:00:00  2025      2    8            5             6       0   \n",
       "2025-02-09 07:00:00  2025      2    9            6             6       0   \n",
       "2025-02-10 07:00:00  2025      2   10            0             7       0   \n",
       "2025-02-11 07:00:00  2025      2   11            1             7       0   \n",
       "\n",
       "                     is_weekend       date  day_of_year  month_sin  ...  \\\n",
       "timestamp                                                           ...   \n",
       "2025-02-07 07:00:00           0 2025-02-07           38   0.866025  ...   \n",
       "2025-02-08 07:00:00           1 2025-02-08           39   0.866025  ...   \n",
       "2025-02-09 07:00:00           1 2025-02-09           40   0.866025  ...   \n",
       "2025-02-10 07:00:00           0 2025-02-10           41   0.866025  ...   \n",
       "2025-02-11 07:00:00           0 2025-02-11           42   0.866025  ...   \n",
       "\n",
       "                     day_of_week_sin  day_of_week_cos  temperature_lag_1  \\\n",
       "timestamp                                                                  \n",
       "2025-02-07 07:00:00        -0.433884        -0.900969          27.664705   \n",
       "2025-02-08 07:00:00        -0.974928        -0.222521          27.664705   \n",
       "2025-02-09 07:00:00        -0.781832         0.623490          27.697985   \n",
       "2025-02-10 07:00:00         0.000000         1.000000          27.664705   \n",
       "2025-02-11 07:00:00         0.781832         0.623490          27.664705   \n",
       "\n",
       "                     temperature_lag_2  temperature_lag_3  temperature_lag_4  \\\n",
       "timestamp                                                                      \n",
       "2025-02-07 07:00:00          27.664705          27.663752          27.663752   \n",
       "2025-02-08 07:00:00          27.664705          27.664705          27.663752   \n",
       "2025-02-09 07:00:00          27.664705          27.664705          27.664705   \n",
       "2025-02-10 07:00:00          27.697985          27.664705          27.664705   \n",
       "2025-02-11 07:00:00          27.664705          27.697985          27.664705   \n",
       "\n",
       "                     temperature_lag_5  temperature_lag_6  temperature_lag_7  \\\n",
       "timestamp                                                                      \n",
       "2025-02-07 07:00:00          27.653965          27.697985          27.843803   \n",
       "2025-02-08 07:00:00          27.663752          27.653965          27.697985   \n",
       "2025-02-09 07:00:00          27.663752          27.663752          27.653965   \n",
       "2025-02-10 07:00:00          27.664705          27.663752          27.663752   \n",
       "2025-02-11 07:00:00          27.664705          27.664705          27.663752   \n",
       "\n",
       "                     prediction_label  \n",
       "timestamp                              \n",
       "2025-02-07 07:00:00         27.664705  \n",
       "2025-02-08 07:00:00         27.697985  \n",
       "2025-02-09 07:00:00         27.664705  \n",
       "2025-02-10 07:00:00         27.664705  \n",
       "2025-02-11 07:00:00         27.664705  \n",
       "\n",
       "[5 rows x 21 columns]"
      ]
     },
     "execution_count": 13,
     "metadata": {},
     "output_type": "execute_result"
    }
   ],
   "source": [
    "result.tail()"
   ]
  },
  {
   "cell_type": "markdown",
   "metadata": {},
   "source": [
    "------------------"
   ]
  },
  {
   "cell_type": "code",
   "execution_count": 14,
   "metadata": {},
   "outputs": [],
   "source": [
    "# อ่านไฟล์ CSV\n",
    "data = pd.read_csv('../../export_data_jsp01/clean_data_jsps001_1d.csv')"
   ]
  },
  {
   "cell_type": "code",
   "execution_count": 15,
   "metadata": {},
   "outputs": [],
   "source": [
    "# ตั้ง 'timestamp' เป็น index หากยังไม่ได้ทำ\n",
    "data['timestamp'] = pd.to_datetime(data['timestamp'])\n",
    "data.set_index('timestamp', inplace=True)\n",
    "\n",
    "# ตั้งค่า freq ให้กับ index\n",
    "data = data.asfreq('D')  # 'D' สำหรับรายวัน"
   ]
  },
  {
   "cell_type": "code",
   "execution_count": 16,
   "metadata": {},
   "outputs": [
    {
     "data": {
      "text/html": [
       "<div>\n",
       "<style scoped>\n",
       "    .dataframe tbody tr th:only-of-type {\n",
       "        vertical-align: middle;\n",
       "    }\n",
       "\n",
       "    .dataframe tbody tr th {\n",
       "        vertical-align: top;\n",
       "    }\n",
       "\n",
       "    .dataframe thead th {\n",
       "        text-align: right;\n",
       "    }\n",
       "</style>\n",
       "<table border=\"1\" class=\"dataframe\">\n",
       "  <thead>\n",
       "    <tr style=\"text-align: right;\">\n",
       "      <th></th>\n",
       "      <th>humidity</th>\n",
       "      <th>pm_2_5</th>\n",
       "      <th>temperature</th>\n",
       "    </tr>\n",
       "    <tr>\n",
       "      <th>timestamp</th>\n",
       "      <th></th>\n",
       "      <th></th>\n",
       "      <th></th>\n",
       "    </tr>\n",
       "  </thead>\n",
       "  <tbody>\n",
       "    <tr>\n",
       "      <th>2025-02-07 07:00:00</th>\n",
       "      <td>72.053758</td>\n",
       "      <td>27.864365</td>\n",
       "      <td>28.186164</td>\n",
       "    </tr>\n",
       "    <tr>\n",
       "      <th>2025-02-08 07:00:00</th>\n",
       "      <td>72.759274</td>\n",
       "      <td>33.923883</td>\n",
       "      <td>28.104894</td>\n",
       "    </tr>\n",
       "    <tr>\n",
       "      <th>2025-02-09 07:00:00</th>\n",
       "      <td>69.850659</td>\n",
       "      <td>32.647832</td>\n",
       "      <td>28.231867</td>\n",
       "    </tr>\n",
       "    <tr>\n",
       "      <th>2025-02-10 07:00:00</th>\n",
       "      <td>69.598712</td>\n",
       "      <td>32.856690</td>\n",
       "      <td>28.338313</td>\n",
       "    </tr>\n",
       "    <tr>\n",
       "      <th>2025-02-11 07:00:00</th>\n",
       "      <td>71.713989</td>\n",
       "      <td>34.038326</td>\n",
       "      <td>28.029813</td>\n",
       "    </tr>\n",
       "  </tbody>\n",
       "</table>\n",
       "</div>"
      ],
      "text/plain": [
       "                      humidity     pm_2_5  temperature\n",
       "timestamp                                             \n",
       "2025-02-07 07:00:00  72.053758  27.864365    28.186164\n",
       "2025-02-08 07:00:00  72.759274  33.923883    28.104894\n",
       "2025-02-09 07:00:00  69.850659  32.647832    28.231867\n",
       "2025-02-10 07:00:00  69.598712  32.856690    28.338313\n",
       "2025-02-11 07:00:00  71.713989  34.038326    28.029813"
      ]
     },
     "execution_count": 16,
     "metadata": {},
     "output_type": "execute_result"
    }
   ],
   "source": [
    "data.tail()"
   ]
  },
  {
   "cell_type": "code",
   "execution_count": 17,
   "metadata": {},
   "outputs": [
    {
     "name": "stdout",
     "output_type": "stream",
     "text": [
      "แถวที่มีค่าหายไปก่อนเติม:\n",
      "Empty DataFrame\n",
      "Columns: [humidity, pm_2_5, temperature]\n",
      "Index: []\n",
      "ไม่มีค่าหายไปแล้ว\n"
     ]
    },
    {
     "data": {
      "text/plain": [
       "humidity       75.436933\n",
       "pm_2_5         41.697658\n",
       "temperature    30.098761\n",
       "Name: 2023-09-30 07:00:00, dtype: float64"
      ]
     },
     "execution_count": 17,
     "metadata": {},
     "output_type": "execute_result"
    }
   ],
   "source": [
    "# แสดงแถวที่มีค่าหายไปก่อนเติม\n",
    "print(\"แถวที่มีค่าหายไปก่อนเติม:\")\n",
    "print(data[data.isnull().any(axis=1)])\n",
    "\n",
    "# เติมค่าที่หายไปด้วยการ interpolate แบบเส้นตรง\n",
    "data.interpolate(method='linear', inplace=True)\n",
    "\n",
    "# แสดงแถวที่ยังมีค่า NaN หลังจากเติม (ถ้ามี)\n",
    "missing_rows_after = data[data.isnull().any(axis=1)]\n",
    "if not missing_rows_after.empty:\n",
    "    print(\"แถวที่ยังมีค่าหายไปหลังเติม:\")\n",
    "    print(missing_rows_after)\n",
    "else:\n",
    "    print(\"ไม่มีค่าหายไปแล้ว\")\n",
    "\n",
    "\n",
    "row = data.loc[\"2023-09-30 07:00:00\"]\n",
    "row"
   ]
  },
  {
   "cell_type": "code",
   "execution_count": 18,
   "metadata": {},
   "outputs": [
    {
     "data": {
      "text/html": [
       "<div>\n",
       "<style scoped>\n",
       "    .dataframe tbody tr th:only-of-type {\n",
       "        vertical-align: middle;\n",
       "    }\n",
       "\n",
       "    .dataframe tbody tr th {\n",
       "        vertical-align: top;\n",
       "    }\n",
       "\n",
       "    .dataframe thead th {\n",
       "        text-align: right;\n",
       "    }\n",
       "</style>\n",
       "<table border=\"1\" class=\"dataframe\">\n",
       "  <thead>\n",
       "    <tr style=\"text-align: right;\">\n",
       "      <th></th>\n",
       "      <th>humidity</th>\n",
       "      <th>pm_2_5</th>\n",
       "      <th>temperature</th>\n",
       "    </tr>\n",
       "    <tr>\n",
       "      <th>timestamp</th>\n",
       "      <th></th>\n",
       "      <th></th>\n",
       "      <th></th>\n",
       "    </tr>\n",
       "  </thead>\n",
       "  <tbody>\n",
       "    <tr>\n",
       "      <th>2025-01-13 07:00:00</th>\n",
       "      <td>75.720718</td>\n",
       "      <td>30.592321</td>\n",
       "      <td>27.824428</td>\n",
       "    </tr>\n",
       "    <tr>\n",
       "      <th>2025-01-14 07:00:00</th>\n",
       "      <td>69.815912</td>\n",
       "      <td>33.313586</td>\n",
       "      <td>27.790195</td>\n",
       "    </tr>\n",
       "    <tr>\n",
       "      <th>2025-01-15 07:00:00</th>\n",
       "      <td>75.254666</td>\n",
       "      <td>50.672600</td>\n",
       "      <td>27.307275</td>\n",
       "    </tr>\n",
       "    <tr>\n",
       "      <th>2025-01-16 07:00:00</th>\n",
       "      <td>75.413310</td>\n",
       "      <td>49.521314</td>\n",
       "      <td>27.697801</td>\n",
       "    </tr>\n",
       "    <tr>\n",
       "      <th>2025-01-17 07:00:00</th>\n",
       "      <td>87.503481</td>\n",
       "      <td>22.819705</td>\n",
       "      <td>27.851053</td>\n",
       "    </tr>\n",
       "    <tr>\n",
       "      <th>2025-01-18 07:00:00</th>\n",
       "      <td>85.722029</td>\n",
       "      <td>33.084067</td>\n",
       "      <td>28.165335</td>\n",
       "    </tr>\n",
       "    <tr>\n",
       "      <th>2025-01-19 07:00:00</th>\n",
       "      <td>78.304175</td>\n",
       "      <td>40.635307</td>\n",
       "      <td>27.317966</td>\n",
       "    </tr>\n",
       "    <tr>\n",
       "      <th>2025-01-20 07:00:00</th>\n",
       "      <td>76.309167</td>\n",
       "      <td>49.684027</td>\n",
       "      <td>27.903474</td>\n",
       "    </tr>\n",
       "    <tr>\n",
       "      <th>2025-01-21 07:00:00</th>\n",
       "      <td>77.957346</td>\n",
       "      <td>46.786058</td>\n",
       "      <td>27.809075</td>\n",
       "    </tr>\n",
       "    <tr>\n",
       "      <th>2025-01-22 07:00:00</th>\n",
       "      <td>77.775011</td>\n",
       "      <td>43.888089</td>\n",
       "      <td>27.795735</td>\n",
       "    </tr>\n",
       "    <tr>\n",
       "      <th>2025-01-23 07:00:00</th>\n",
       "      <td>72.026358</td>\n",
       "      <td>40.577017</td>\n",
       "      <td>27.317966</td>\n",
       "    </tr>\n",
       "    <tr>\n",
       "      <th>2025-01-24 07:00:00</th>\n",
       "      <td>71.435957</td>\n",
       "      <td>44.376693</td>\n",
       "      <td>28.033634</td>\n",
       "    </tr>\n",
       "    <tr>\n",
       "      <th>2025-01-25 07:00:00</th>\n",
       "      <td>78.005603</td>\n",
       "      <td>41.808726</td>\n",
       "      <td>27.959576</td>\n",
       "    </tr>\n",
       "    <tr>\n",
       "      <th>2025-01-26 07:00:00</th>\n",
       "      <td>76.766380</td>\n",
       "      <td>42.700908</td>\n",
       "      <td>28.038013</td>\n",
       "    </tr>\n",
       "    <tr>\n",
       "      <th>2025-01-27 07:00:00</th>\n",
       "      <td>75.314715</td>\n",
       "      <td>27.720182</td>\n",
       "      <td>27.453160</td>\n",
       "    </tr>\n",
       "    <tr>\n",
       "      <th>2025-01-28 07:00:00</th>\n",
       "      <td>69.657851</td>\n",
       "      <td>28.658365</td>\n",
       "      <td>27.929518</td>\n",
       "    </tr>\n",
       "    <tr>\n",
       "      <th>2025-01-29 07:00:00</th>\n",
       "      <td>72.195499</td>\n",
       "      <td>25.836471</td>\n",
       "      <td>27.959576</td>\n",
       "    </tr>\n",
       "    <tr>\n",
       "      <th>2025-01-30 07:00:00</th>\n",
       "      <td>70.817757</td>\n",
       "      <td>34.602027</td>\n",
       "      <td>27.843804</td>\n",
       "    </tr>\n",
       "    <tr>\n",
       "      <th>2025-01-31 07:00:00</th>\n",
       "      <td>68.361925</td>\n",
       "      <td>33.967001</td>\n",
       "      <td>27.697985</td>\n",
       "    </tr>\n",
       "    <tr>\n",
       "      <th>2025-02-01 07:00:00</th>\n",
       "      <td>73.127154</td>\n",
       "      <td>39.954672</td>\n",
       "      <td>27.653966</td>\n",
       "    </tr>\n",
       "    <tr>\n",
       "      <th>2025-02-02 07:00:00</th>\n",
       "      <td>74.573612</td>\n",
       "      <td>43.738720</td>\n",
       "      <td>27.663752</td>\n",
       "    </tr>\n",
       "    <tr>\n",
       "      <th>2025-02-03 07:00:00</th>\n",
       "      <td>66.783050</td>\n",
       "      <td>53.791623</td>\n",
       "      <td>27.663752</td>\n",
       "    </tr>\n",
       "    <tr>\n",
       "      <th>2025-02-04 07:00:00</th>\n",
       "      <td>71.844422</td>\n",
       "      <td>33.424542</td>\n",
       "      <td>27.664705</td>\n",
       "    </tr>\n",
       "    <tr>\n",
       "      <th>2025-02-05 07:00:00</th>\n",
       "      <td>70.575618</td>\n",
       "      <td>29.342907</td>\n",
       "      <td>27.664705</td>\n",
       "    </tr>\n",
       "    <tr>\n",
       "      <th>2025-02-06 07:00:00</th>\n",
       "      <td>70.853854</td>\n",
       "      <td>28.153336</td>\n",
       "      <td>27.664705</td>\n",
       "    </tr>\n",
       "    <tr>\n",
       "      <th>2025-02-07 07:00:00</th>\n",
       "      <td>72.053758</td>\n",
       "      <td>27.864365</td>\n",
       "      <td>27.697985</td>\n",
       "    </tr>\n",
       "    <tr>\n",
       "      <th>2025-02-08 07:00:00</th>\n",
       "      <td>72.759274</td>\n",
       "      <td>33.923883</td>\n",
       "      <td>27.664705</td>\n",
       "    </tr>\n",
       "    <tr>\n",
       "      <th>2025-02-09 07:00:00</th>\n",
       "      <td>69.850659</td>\n",
       "      <td>32.647832</td>\n",
       "      <td>27.664705</td>\n",
       "    </tr>\n",
       "    <tr>\n",
       "      <th>2025-02-10 07:00:00</th>\n",
       "      <td>69.598712</td>\n",
       "      <td>32.856690</td>\n",
       "      <td>27.664705</td>\n",
       "    </tr>\n",
       "    <tr>\n",
       "      <th>2025-02-11 07:00:00</th>\n",
       "      <td>71.713989</td>\n",
       "      <td>34.038326</td>\n",
       "      <td>28.029813</td>\n",
       "    </tr>\n",
       "  </tbody>\n",
       "</table>\n",
       "</div>"
      ],
      "text/plain": [
       "                      humidity     pm_2_5  temperature\n",
       "timestamp                                             \n",
       "2025-01-13 07:00:00  75.720718  30.592321    27.824428\n",
       "2025-01-14 07:00:00  69.815912  33.313586    27.790195\n",
       "2025-01-15 07:00:00  75.254666  50.672600    27.307275\n",
       "2025-01-16 07:00:00  75.413310  49.521314    27.697801\n",
       "2025-01-17 07:00:00  87.503481  22.819705    27.851053\n",
       "2025-01-18 07:00:00  85.722029  33.084067    28.165335\n",
       "2025-01-19 07:00:00  78.304175  40.635307    27.317966\n",
       "2025-01-20 07:00:00  76.309167  49.684027    27.903474\n",
       "2025-01-21 07:00:00  77.957346  46.786058    27.809075\n",
       "2025-01-22 07:00:00  77.775011  43.888089    27.795735\n",
       "2025-01-23 07:00:00  72.026358  40.577017    27.317966\n",
       "2025-01-24 07:00:00  71.435957  44.376693    28.033634\n",
       "2025-01-25 07:00:00  78.005603  41.808726    27.959576\n",
       "2025-01-26 07:00:00  76.766380  42.700908    28.038013\n",
       "2025-01-27 07:00:00  75.314715  27.720182    27.453160\n",
       "2025-01-28 07:00:00  69.657851  28.658365    27.929518\n",
       "2025-01-29 07:00:00  72.195499  25.836471    27.959576\n",
       "2025-01-30 07:00:00  70.817757  34.602027    27.843804\n",
       "2025-01-31 07:00:00  68.361925  33.967001    27.697985\n",
       "2025-02-01 07:00:00  73.127154  39.954672    27.653966\n",
       "2025-02-02 07:00:00  74.573612  43.738720    27.663752\n",
       "2025-02-03 07:00:00  66.783050  53.791623    27.663752\n",
       "2025-02-04 07:00:00  71.844422  33.424542    27.664705\n",
       "2025-02-05 07:00:00  70.575618  29.342907    27.664705\n",
       "2025-02-06 07:00:00  70.853854  28.153336    27.664705\n",
       "2025-02-07 07:00:00  72.053758  27.864365    27.697985\n",
       "2025-02-08 07:00:00  72.759274  33.923883    27.664705\n",
       "2025-02-09 07:00:00  69.850659  32.647832    27.664705\n",
       "2025-02-10 07:00:00  69.598712  32.856690    27.664705\n",
       "2025-02-11 07:00:00  71.713989  34.038326    28.029813"
      ]
     },
     "execution_count": 18,
     "metadata": {},
     "output_type": "execute_result"
    }
   ],
   "source": [
    "# add temp predict column\n",
    "shifted_predictions_temp = result['prediction_label'].shift(-1).iloc[:-1]\n",
    "\n",
    "data.loc[shifted_predictions_temp.index, 'temperature'] = shifted_predictions_temp\n",
    "data.tail(30)"
   ]
  },
  {
   "cell_type": "code",
   "execution_count": 19,
   "metadata": {},
   "outputs": [],
   "source": [
    "data = data[['humidity', 'temperature']]"
   ]
  },
  {
   "cell_type": "code",
   "execution_count": 20,
   "metadata": {},
   "outputs": [],
   "source": [
    "data[\"year\"] = data.index.year\n",
    "data[\"month\"] = data.index.month\n",
    "data[\"day\"] = data.index.day\n",
    "data[\"day_of_week\"] = data.index.dayofweek  # 0 = Monday, 6 = Sunday\n",
    "data[\"week_of_year\"] = data.index.isocalendar().week  # ค่าจะเป็น int64"
   ]
  },
  {
   "cell_type": "code",
   "execution_count": 21,
   "metadata": {},
   "outputs": [],
   "source": [
    "# สมมติว่า data มี index เป็น datetime อยู่แล้ว\n",
    "def assign_season(month):\n",
    "    if month in [2, 3, 4]:  # ก.พ. - เม.ย.\n",
    "        return \"summer\"        # ฤดูร้อน\n",
    "    elif month in [5, 6, 7]:  # พ.ค. - ก.ค.\n",
    "        return \"early_rainy\"   # ต้นฤดูฝน\n",
    "    else:  # ส.ค. - ม.ค.\n",
    "        return \"late_rainy\"    # ปลายฤดูฝน\n",
    "\n",
    "season_mapping = {'summer': 0, 'early_rainy': 1, 'late_rainy': 2}\n",
    "data[\"season\"] = data.index.month.map(assign_season)\n",
    "data['season'] = data['season'].map(season_mapping)"
   ]
  },
  {
   "cell_type": "code",
   "execution_count": 22,
   "metadata": {},
   "outputs": [],
   "source": [
    "data[\"is_weekend\"] = data.index.dayofweek.isin([5, 6]).astype(int)"
   ]
  },
  {
   "cell_type": "code",
   "execution_count": 23,
   "metadata": {},
   "outputs": [],
   "source": [
    "import pandas as pd\n",
    "import numpy as np\n",
    "\n",
    "# สมมุติว่ามี DataFrame data ที่มีข้อมูลอยู่แล้ว\n",
    "# เพิ่มฟีเจอร์ day_of_year\n",
    "data['date'] = pd.to_datetime(data[['year', 'month', 'day']])\n",
    "data['day_of_year'] = data['date'].dt.dayofyear\n",
    "\n",
    "# # เพิ่มฟีเจอร์ month_sin และ month_cos\n",
    "# data['month_sin'] = np.sin(2 * np.pi * data['month'] / 12)\n",
    "# data['month_cos'] = np.cos(2 * np.pi * data['month'] / 12)\n",
    "\n",
    "# # เพิ่มฟีเจอร์ day_of_week_sin และ day_of_week_cos\n",
    "# data['day_of_week_sin'] = np.sin(2 * np.pi * data['day_of_week'] / 7)\n",
    "# data['day_of_week_cos'] = np.cos(2 * np.pi * data['day_of_week'] / 7)\n",
    "\n",
    "lag_size = 7\n",
    "for i in range(1,lag_size+1):\n",
    "    data[f'humidity_lag_{i}'] = data['humidity'].shift(i)\n",
    "\n",
    "for i in range(1,lag_size+1):\n",
    "    data[f'temperature_lag_{i}'] = data['temperature'].shift(i)"
   ]
  },
  {
   "cell_type": "code",
   "execution_count": 24,
   "metadata": {},
   "outputs": [],
   "source": [
    "# data[\"temp_diff\"] = data[\"temperature\"].diff()"
   ]
  },
  {
   "cell_type": "code",
   "execution_count": 25,
   "metadata": {},
   "outputs": [
    {
     "data": {
      "text/plain": [
       "Index(['humidity', 'temperature', 'year', 'month', 'day', 'day_of_week',\n",
       "       'week_of_year', 'season', 'is_weekend', 'date', 'day_of_year',\n",
       "       'humidity_lag_1', 'humidity_lag_2', 'humidity_lag_3', 'humidity_lag_4',\n",
       "       'humidity_lag_5', 'humidity_lag_6', 'humidity_lag_7',\n",
       "       'temperature_lag_1', 'temperature_lag_2', 'temperature_lag_3',\n",
       "       'temperature_lag_4', 'temperature_lag_5', 'temperature_lag_6',\n",
       "       'temperature_lag_7'],\n",
       "      dtype='object')"
      ]
     },
     "execution_count": 25,
     "metadata": {},
     "output_type": "execute_result"
    }
   ],
   "source": [
    "data.columns"
   ]
  },
  {
   "cell_type": "code",
   "execution_count": 26,
   "metadata": {},
   "outputs": [],
   "source": [
    "data_filtered = data.loc['2023-09':]  # ดึงข้อมูลตั้งแต่กันยายน 2023 เป็นต้นไป"
   ]
  },
  {
   "cell_type": "code",
   "execution_count": 27,
   "metadata": {},
   "outputs": [
    {
     "data": {
      "text/plain": [
       "<Axes: xlabel='timestamp'>"
      ]
     },
     "execution_count": 27,
     "metadata": {},
     "output_type": "execute_result"
    },
    {
     "data": {
      "image/png": "[encoded data removed]",
      "text/plain": [
       "<Figure size 800x550 with 1 Axes>"
      ]
     },
     "metadata": {},
     "output_type": "display_data"
    }
   ],
   "source": [
    "data_filtered.plot()"
   ]
  },
  {
   "cell_type": "code",
   "execution_count": 28,
   "metadata": {},
   "outputs": [
    {
     "data": {
      "text/plain": [
       "0.05660377358490566"
      ]
     },
     "execution_count": 28,
     "metadata": {},
     "output_type": "execute_result"
    }
   ],
   "source": [
    "# สมมติว่า data มีจำนวนวันทั้งหมด\n",
    "total_data = len(data_filtered)\n",
    "\n",
    "# จำนวนวันที่ต้องการเป็น test data\n",
    "test_days = 30\n",
    "\n",
    "# คำนวณสัดส่วนของ 30 วันในข้อมูลทั้งหมด\n",
    "test_size = test_days / total_data\n",
    "test_size"
   ]
  },
  {
   "cell_type": "code",
   "execution_count": 29,
   "metadata": {},
   "outputs": [],
   "source": [
    "from sklearn.model_selection import train_test_split\n",
    "train_data, test_data = train_test_split(data_filtered, test_size=test_size, shuffle=False)"
   ]
  },
  {
   "cell_type": "code",
   "execution_count": 30,
   "metadata": {},
   "outputs": [
    {
     "data": {
      "text/plain": [
       "(500, 25)"
      ]
     },
     "execution_count": 30,
     "metadata": {},
     "output_type": "execute_result"
    }
   ],
   "source": [
    "train_data.shape"
   ]
  },
  {
   "cell_type": "code",
   "execution_count": 31,
   "metadata": {},
   "outputs": [
    {
     "data": {
      "text/plain": [
       "(30, 25)"
      ]
     },
     "execution_count": 31,
     "metadata": {},
     "output_type": "execute_result"
    }
   ],
   "source": [
    "test_data.shape"
   ]
  },
  {
   "cell_type": "code",
   "execution_count": 32,
   "metadata": {},
   "outputs": [
    {
     "data": {
      "text/html": [
       "<div>\n",
       "<style scoped>\n",
       "    .dataframe tbody tr th:only-of-type {\n",
       "        vertical-align: middle;\n",
       "    }\n",
       "\n",
       "    .dataframe tbody tr th {\n",
       "        vertical-align: top;\n",
       "    }\n",
       "\n",
       "    .dataframe thead th {\n",
       "        text-align: right;\n",
       "    }\n",
       "</style>\n",
       "<table border=\"1\" class=\"dataframe\">\n",
       "  <thead>\n",
       "    <tr style=\"text-align: right;\">\n",
       "      <th></th>\n",
       "      <th>humidity</th>\n",
       "      <th>temperature</th>\n",
       "      <th>year</th>\n",
       "      <th>month</th>\n",
       "      <th>day</th>\n",
       "      <th>day_of_week</th>\n",
       "      <th>week_of_year</th>\n",
       "      <th>season</th>\n",
       "      <th>is_weekend</th>\n",
       "      <th>date</th>\n",
       "      <th>...</th>\n",
       "      <th>humidity_lag_5</th>\n",
       "      <th>humidity_lag_6</th>\n",
       "      <th>humidity_lag_7</th>\n",
       "      <th>temperature_lag_1</th>\n",
       "      <th>temperature_lag_2</th>\n",
       "      <th>temperature_lag_3</th>\n",
       "      <th>temperature_lag_4</th>\n",
       "      <th>temperature_lag_5</th>\n",
       "      <th>temperature_lag_6</th>\n",
       "      <th>temperature_lag_7</th>\n",
       "    </tr>\n",
       "    <tr>\n",
       "      <th>timestamp</th>\n",
       "      <th></th>\n",
       "      <th></th>\n",
       "      <th></th>\n",
       "      <th></th>\n",
       "      <th></th>\n",
       "      <th></th>\n",
       "      <th></th>\n",
       "      <th></th>\n",
       "      <th></th>\n",
       "      <th></th>\n",
       "      <th></th>\n",
       "      <th></th>\n",
       "      <th></th>\n",
       "      <th></th>\n",
       "      <th></th>\n",
       "      <th></th>\n",
       "      <th></th>\n",
       "      <th></th>\n",
       "      <th></th>\n",
       "      <th></th>\n",
       "      <th></th>\n",
       "    </tr>\n",
       "  </thead>\n",
       "  <tbody>\n",
       "    <tr>\n",
       "      <th>2025-01-13 07:00:00</th>\n",
       "      <td>75.720718</td>\n",
       "      <td>27.824428</td>\n",
       "      <td>2025</td>\n",
       "      <td>1</td>\n",
       "      <td>13</td>\n",
       "      <td>0</td>\n",
       "      <td>3</td>\n",
       "      <td>2</td>\n",
       "      <td>0</td>\n",
       "      <td>2025-01-13</td>\n",
       "      <td>...</td>\n",
       "      <td>73.449632</td>\n",
       "      <td>73.350454</td>\n",
       "      <td>85.925103</td>\n",
       "      <td>26.640566</td>\n",
       "      <td>28.05223</td>\n",
       "      <td>28.380074</td>\n",
       "      <td>28.482274</td>\n",
       "      <td>28.022162</td>\n",
       "      <td>27.094928</td>\n",
       "      <td>25.455684</td>\n",
       "    </tr>\n",
       "  </tbody>\n",
       "</table>\n",
       "<p>1 rows × 25 columns</p>\n",
       "</div>"
      ],
      "text/plain": [
       "                      humidity  temperature  year  month  day  day_of_week  \\\n",
       "timestamp                                                                    \n",
       "2025-01-13 07:00:00  75.720718    27.824428  2025      1   13            0   \n",
       "\n",
       "                     week_of_year  season  is_weekend       date  ...  \\\n",
       "timestamp                                                         ...   \n",
       "2025-01-13 07:00:00             3       2           0 2025-01-13  ...   \n",
       "\n",
       "                     humidity_lag_5  humidity_lag_6  humidity_lag_7  \\\n",
       "timestamp                                                             \n",
       "2025-01-13 07:00:00       73.449632       73.350454       85.925103   \n",
       "\n",
       "                     temperature_lag_1  temperature_lag_2  temperature_lag_3  \\\n",
       "timestamp                                                                      \n",
       "2025-01-13 07:00:00          26.640566           28.05223          28.380074   \n",
       "\n",
       "                     temperature_lag_4  temperature_lag_5  temperature_lag_6  \\\n",
       "timestamp                                                                      \n",
       "2025-01-13 07:00:00          28.482274          28.022162          27.094928   \n",
       "\n",
       "                     temperature_lag_7  \n",
       "timestamp                               \n",
       "2025-01-13 07:00:00          25.455684  \n",
       "\n",
       "[1 rows x 25 columns]"
      ]
     },
     "execution_count": 32,
     "metadata": {},
     "output_type": "execute_result"
    }
   ],
   "source": [
    "test_data.head(1)"
   ]
  },
  {
   "cell_type": "code",
   "execution_count": 33,
   "metadata": {},
   "outputs": [
    {
     "data": {
      "text/html": [
       "<div>\n",
       "<style scoped>\n",
       "    .dataframe tbody tr th:only-of-type {\n",
       "        vertical-align: middle;\n",
       "    }\n",
       "\n",
       "    .dataframe tbody tr th {\n",
       "        vertical-align: top;\n",
       "    }\n",
       "\n",
       "    .dataframe thead th {\n",
       "        text-align: right;\n",
       "    }\n",
       "</style>\n",
       "<table border=\"1\" class=\"dataframe\">\n",
       "  <thead>\n",
       "    <tr style=\"text-align: right;\">\n",
       "      <th></th>\n",
       "      <th>humidity</th>\n",
       "      <th>temperature</th>\n",
       "      <th>year</th>\n",
       "      <th>month</th>\n",
       "      <th>day</th>\n",
       "      <th>day_of_week</th>\n",
       "      <th>week_of_year</th>\n",
       "      <th>season</th>\n",
       "      <th>is_weekend</th>\n",
       "      <th>date</th>\n",
       "      <th>...</th>\n",
       "      <th>humidity_lag_5</th>\n",
       "      <th>humidity_lag_6</th>\n",
       "      <th>humidity_lag_7</th>\n",
       "      <th>temperature_lag_1</th>\n",
       "      <th>temperature_lag_2</th>\n",
       "      <th>temperature_lag_3</th>\n",
       "      <th>temperature_lag_4</th>\n",
       "      <th>temperature_lag_5</th>\n",
       "      <th>temperature_lag_6</th>\n",
       "      <th>temperature_lag_7</th>\n",
       "    </tr>\n",
       "    <tr>\n",
       "      <th>timestamp</th>\n",
       "      <th></th>\n",
       "      <th></th>\n",
       "      <th></th>\n",
       "      <th></th>\n",
       "      <th></th>\n",
       "      <th></th>\n",
       "      <th></th>\n",
       "      <th></th>\n",
       "      <th></th>\n",
       "      <th></th>\n",
       "      <th></th>\n",
       "      <th></th>\n",
       "      <th></th>\n",
       "      <th></th>\n",
       "      <th></th>\n",
       "      <th></th>\n",
       "      <th></th>\n",
       "      <th></th>\n",
       "      <th></th>\n",
       "      <th></th>\n",
       "      <th></th>\n",
       "    </tr>\n",
       "  </thead>\n",
       "  <tbody>\n",
       "    <tr>\n",
       "      <th>2025-02-11 07:00:00</th>\n",
       "      <td>71.713989</td>\n",
       "      <td>28.029813</td>\n",
       "      <td>2025</td>\n",
       "      <td>2</td>\n",
       "      <td>11</td>\n",
       "      <td>1</td>\n",
       "      <td>7</td>\n",
       "      <td>0</td>\n",
       "      <td>0</td>\n",
       "      <td>2025-02-11</td>\n",
       "      <td>...</td>\n",
       "      <td>70.853854</td>\n",
       "      <td>70.575618</td>\n",
       "      <td>71.844422</td>\n",
       "      <td>27.664705</td>\n",
       "      <td>27.664705</td>\n",
       "      <td>27.664705</td>\n",
       "      <td>27.697985</td>\n",
       "      <td>27.664705</td>\n",
       "      <td>27.664705</td>\n",
       "      <td>27.664705</td>\n",
       "    </tr>\n",
       "  </tbody>\n",
       "</table>\n",
       "<p>1 rows × 25 columns</p>\n",
       "</div>"
      ],
      "text/plain": [
       "                      humidity  temperature  year  month  day  day_of_week  \\\n",
       "timestamp                                                                    \n",
       "2025-02-11 07:00:00  71.713989    28.029813  2025      2   11            1   \n",
       "\n",
       "                     week_of_year  season  is_weekend       date  ...  \\\n",
       "timestamp                                                         ...   \n",
       "2025-02-11 07:00:00             7       0           0 2025-02-11  ...   \n",
       "\n",
       "                     humidity_lag_5  humidity_lag_6  humidity_lag_7  \\\n",
       "timestamp                                                             \n",
       "2025-02-11 07:00:00       70.853854       70.575618       71.844422   \n",
       "\n",
       "                     temperature_lag_1  temperature_lag_2  temperature_lag_3  \\\n",
       "timestamp                                                                      \n",
       "2025-02-11 07:00:00          27.664705          27.664705          27.664705   \n",
       "\n",
       "                     temperature_lag_4  temperature_lag_5  temperature_lag_6  \\\n",
       "timestamp                                                                      \n",
       "2025-02-11 07:00:00          27.697985          27.664705          27.664705   \n",
       "\n",
       "                     temperature_lag_7  \n",
       "timestamp                               \n",
       "2025-02-11 07:00:00          27.664705  \n",
       "\n",
       "[1 rows x 25 columns]"
      ]
     },
     "execution_count": 33,
     "metadata": {},
     "output_type": "execute_result"
    }
   ],
   "source": [
    "test_data.tail(1)"
   ]
  },
  {
   "cell_type": "code",
   "execution_count": 34,
   "metadata": {},
   "outputs": [
    {
     "data": {
      "text/plain": [
       "Index(['humidity', 'temperature', 'year', 'month', 'day', 'day_of_week',\n",
       "       'week_of_year', 'season', 'is_weekend', 'date', 'day_of_year',\n",
       "       'humidity_lag_1', 'humidity_lag_2', 'humidity_lag_3', 'humidity_lag_4',\n",
       "       'humidity_lag_5', 'humidity_lag_6', 'humidity_lag_7',\n",
       "       'temperature_lag_1', 'temperature_lag_2', 'temperature_lag_3',\n",
       "       'temperature_lag_4', 'temperature_lag_5', 'temperature_lag_6',\n",
       "       'temperature_lag_7'],\n",
       "      dtype='object')"
      ]
     },
     "execution_count": 34,
     "metadata": {},
     "output_type": "execute_result"
    }
   ],
   "source": [
    "test_data.columns"
   ]
  },
  {
   "cell_type": "code",
   "execution_count": 35,
   "metadata": {},
   "outputs": [
    {
     "data": {
      "text/html": [
       "<style type=\"text/css\">\n",
       "#T_be2d5_row9_col1, #T_be2d5_row13_col1 {\n",
       "  background-color: lightgreen;\n",
       "}\n",
       "</style>\n",
       "<table id=\"T_be2d5\">\n",
       "  <thead>\n",
       "    <tr>\n",
       "      <th class=\"blank level0\" >&nbsp;</th>\n",
       "      <th id=\"T_be2d5_level0_col0\" class=\"col_heading level0 col0\" >Description</th>\n",
       "      <th id=\"T_be2d5_level0_col1\" class=\"col_heading level0 col1\" >Value</th>\n",
       "    </tr>\n",
       "  </thead>\n",
       "  <tbody>\n",
       "    <tr>\n",
       "      <th id=\"T_be2d5_level0_row0\" class=\"row_heading level0 row0\" >0</th>\n",
       "      <td id=\"T_be2d5_row0_col0\" class=\"data row0 col0\" >Session id</td>\n",
       "      <td id=\"T_be2d5_row0_col1\" class=\"data row0 col1\" >123</td>\n",
       "    </tr>\n",
       "    <tr>\n",
       "      <th id=\"T_be2d5_level0_row1\" class=\"row_heading level0 row1\" >1</th>\n",
       "      <td id=\"T_be2d5_row1_col0\" class=\"data row1 col0\" >Target</td>\n",
       "      <td id=\"T_be2d5_row1_col1\" class=\"data row1 col1\" >humidity</td>\n",
       "    </tr>\n",
       "    <tr>\n",
       "      <th id=\"T_be2d5_level0_row2\" class=\"row_heading level0 row2\" >2</th>\n",
       "      <td id=\"T_be2d5_row2_col0\" class=\"data row2 col0\" >Target type</td>\n",
       "      <td id=\"T_be2d5_row2_col1\" class=\"data row2 col1\" >Regression</td>\n",
       "    </tr>\n",
       "    <tr>\n",
       "      <th id=\"T_be2d5_level0_row3\" class=\"row_heading level0 row3\" >3</th>\n",
       "      <td id=\"T_be2d5_row3_col0\" class=\"data row3 col0\" >Original data shape</td>\n",
       "      <td id=\"T_be2d5_row3_col1\" class=\"data row3 col1\" >(500, 25)</td>\n",
       "    </tr>\n",
       "    <tr>\n",
       "      <th id=\"T_be2d5_level0_row4\" class=\"row_heading level0 row4\" >4</th>\n",
       "      <td id=\"T_be2d5_row4_col0\" class=\"data row4 col0\" >Transformed data shape</td>\n",
       "      <td id=\"T_be2d5_row4_col1\" class=\"data row4 col1\" >(482, 27)</td>\n",
       "    </tr>\n",
       "    <tr>\n",
       "      <th id=\"T_be2d5_level0_row5\" class=\"row_heading level0 row5\" >5</th>\n",
       "      <td id=\"T_be2d5_row5_col0\" class=\"data row5 col0\" >Transformed train set shape</td>\n",
       "      <td id=\"T_be2d5_row5_col1\" class=\"data row5 col1\" >(332, 27)</td>\n",
       "    </tr>\n",
       "    <tr>\n",
       "      <th id=\"T_be2d5_level0_row6\" class=\"row_heading level0 row6\" >6</th>\n",
       "      <td id=\"T_be2d5_row6_col0\" class=\"data row6 col0\" >Transformed test set shape</td>\n",
       "      <td id=\"T_be2d5_row6_col1\" class=\"data row6 col1\" >(150, 27)</td>\n",
       "    </tr>\n",
       "    <tr>\n",
       "      <th id=\"T_be2d5_level0_row7\" class=\"row_heading level0 row7\" >7</th>\n",
       "      <td id=\"T_be2d5_row7_col0\" class=\"data row7 col0\" >Numeric features</td>\n",
       "      <td id=\"T_be2d5_row7_col1\" class=\"data row7 col1\" >23</td>\n",
       "    </tr>\n",
       "    <tr>\n",
       "      <th id=\"T_be2d5_level0_row8\" class=\"row_heading level0 row8\" >8</th>\n",
       "      <td id=\"T_be2d5_row8_col0\" class=\"data row8 col0\" >Date features</td>\n",
       "      <td id=\"T_be2d5_row8_col1\" class=\"data row8 col1\" >1</td>\n",
       "    </tr>\n",
       "    <tr>\n",
       "      <th id=\"T_be2d5_level0_row9\" class=\"row_heading level0 row9\" >9</th>\n",
       "      <td id=\"T_be2d5_row9_col0\" class=\"data row9 col0\" >Preprocess</td>\n",
       "      <td id=\"T_be2d5_row9_col1\" class=\"data row9 col1\" >True</td>\n",
       "    </tr>\n",
       "    <tr>\n",
       "      <th id=\"T_be2d5_level0_row10\" class=\"row_heading level0 row10\" >10</th>\n",
       "      <td id=\"T_be2d5_row10_col0\" class=\"data row10 col0\" >Imputation type</td>\n",
       "      <td id=\"T_be2d5_row10_col1\" class=\"data row10 col1\" >simple</td>\n",
       "    </tr>\n",
       "    <tr>\n",
       "      <th id=\"T_be2d5_level0_row11\" class=\"row_heading level0 row11\" >11</th>\n",
       "      <td id=\"T_be2d5_row11_col0\" class=\"data row11 col0\" >Numeric imputation</td>\n",
       "      <td id=\"T_be2d5_row11_col1\" class=\"data row11 col1\" >mean</td>\n",
       "    </tr>\n",
       "    <tr>\n",
       "      <th id=\"T_be2d5_level0_row12\" class=\"row_heading level0 row12\" >12</th>\n",
       "      <td id=\"T_be2d5_row12_col0\" class=\"data row12 col0\" >Categorical imputation</td>\n",
       "      <td id=\"T_be2d5_row12_col1\" class=\"data row12 col1\" >mode</td>\n",
       "    </tr>\n",
       "    <tr>\n",
       "      <th id=\"T_be2d5_level0_row13\" class=\"row_heading level0 row13\" >13</th>\n",
       "      <td id=\"T_be2d5_row13_col0\" class=\"data row13 col0\" >Remove outliers</td>\n",
       "      <td id=\"T_be2d5_row13_col1\" class=\"data row13 col1\" >True</td>\n",
       "    </tr>\n",
       "    <tr>\n",
       "      <th id=\"T_be2d5_level0_row14\" class=\"row_heading level0 row14\" >14</th>\n",
       "      <td id=\"T_be2d5_row14_col0\" class=\"data row14 col0\" >Outliers threshold</td>\n",
       "      <td id=\"T_be2d5_row14_col1\" class=\"data row14 col1\" >0.050000</td>\n",
       "    </tr>\n",
       "    <tr>\n",
       "      <th id=\"T_be2d5_level0_row15\" class=\"row_heading level0 row15\" >15</th>\n",
       "      <td id=\"T_be2d5_row15_col0\" class=\"data row15 col0\" >Fold Generator</td>\n",
       "      <td id=\"T_be2d5_row15_col1\" class=\"data row15 col1\" >KFold</td>\n",
       "    </tr>\n",
       "    <tr>\n",
       "      <th id=\"T_be2d5_level0_row16\" class=\"row_heading level0 row16\" >16</th>\n",
       "      <td id=\"T_be2d5_row16_col0\" class=\"data row16 col0\" >Fold Number</td>\n",
       "      <td id=\"T_be2d5_row16_col1\" class=\"data row16 col1\" >12</td>\n",
       "    </tr>\n",
       "    <tr>\n",
       "      <th id=\"T_be2d5_level0_row17\" class=\"row_heading level0 row17\" >17</th>\n",
       "      <td id=\"T_be2d5_row17_col0\" class=\"data row17 col0\" >CPU Jobs</td>\n",
       "      <td id=\"T_be2d5_row17_col1\" class=\"data row17 col1\" >-1</td>\n",
       "    </tr>\n",
       "    <tr>\n",
       "      <th id=\"T_be2d5_level0_row18\" class=\"row_heading level0 row18\" >18</th>\n",
       "      <td id=\"T_be2d5_row18_col0\" class=\"data row18 col0\" >Use GPU</td>\n",
       "      <td id=\"T_be2d5_row18_col1\" class=\"data row18 col1\" >False</td>\n",
       "    </tr>\n",
       "    <tr>\n",
       "      <th id=\"T_be2d5_level0_row19\" class=\"row_heading level0 row19\" >19</th>\n",
       "      <td id=\"T_be2d5_row19_col0\" class=\"data row19 col0\" >Log Experiment</td>\n",
       "      <td id=\"T_be2d5_row19_col1\" class=\"data row19 col1\" >False</td>\n",
       "    </tr>\n",
       "    <tr>\n",
       "      <th id=\"T_be2d5_level0_row20\" class=\"row_heading level0 row20\" >20</th>\n",
       "      <td id=\"T_be2d5_row20_col0\" class=\"data row20 col0\" >Experiment Name</td>\n",
       "      <td id=\"T_be2d5_row20_col1\" class=\"data row20 col1\" >reg-default-name</td>\n",
       "    </tr>\n",
       "    <tr>\n",
       "      <th id=\"T_be2d5_level0_row21\" class=\"row_heading level0 row21\" >21</th>\n",
       "      <td id=\"T_be2d5_row21_col0\" class=\"data row21 col0\" >USI</td>\n",
       "      <td id=\"T_be2d5_row21_col1\" class=\"data row21 col1\" >9e77</td>\n",
       "    </tr>\n",
       "  </tbody>\n",
       "</table>\n"
      ],
      "text/plain": [
       "<pandas.io.formats.style.Styler at 0x1f73a71ec50>"
      ]
     },
     "metadata": {},
     "output_type": "display_data"
    },
    {
     "data": {
      "text/plain": [
       "<pycaret.regression.oop.RegressionExperiment at 0x1f73c56fc90>"
      ]
     },
     "execution_count": 35,
     "metadata": {},
     "output_type": "execute_result"
    }
   ],
   "source": [
    "# from pycaret.time_series import *\n",
    "from pycaret.regression import RegressionExperiment\n",
    "exp1 = RegressionExperiment()\n",
    "exp1.setup(data=train_data, target='humidity', session_id=123, fold=12, iterative_imputation_iters=100, remove_outliers = True)\n",
    "# iterative_imputation_iters=100, remove_outliers = True"
   ]
  },
  {
   "cell_type": "code",
   "execution_count": 36,
   "metadata": {},
   "outputs": [
    {
     "data": {
      "text/html": [],
      "text/plain": [
       "<IPython.core.display.HTML object>"
      ]
     },
     "metadata": {},
     "output_type": "display_data"
    },
    {
     "data": {
      "text/html": [
       "<style type=\"text/css\">\n",
       "#T_b6c3d th {\n",
       "  text-align: left;\n",
       "}\n",
       "#T_b6c3d_row0_col0, #T_b6c3d_row1_col0, #T_b6c3d_row1_col1, #T_b6c3d_row1_col2, #T_b6c3d_row1_col3, #T_b6c3d_row1_col4, #T_b6c3d_row1_col5, #T_b6c3d_row2_col0, #T_b6c3d_row2_col1, #T_b6c3d_row2_col2, #T_b6c3d_row2_col3, #T_b6c3d_row2_col4, #T_b6c3d_row2_col5, #T_b6c3d_row2_col6, #T_b6c3d_row3_col0, #T_b6c3d_row3_col1, #T_b6c3d_row3_col2, #T_b6c3d_row3_col3, #T_b6c3d_row3_col4, #T_b6c3d_row3_col5, #T_b6c3d_row3_col6, #T_b6c3d_row4_col0, #T_b6c3d_row4_col1, #T_b6c3d_row4_col2, #T_b6c3d_row4_col3, #T_b6c3d_row4_col4, #T_b6c3d_row4_col5, #T_b6c3d_row4_col6, #T_b6c3d_row5_col0, #T_b6c3d_row5_col1, #T_b6c3d_row5_col2, #T_b6c3d_row5_col3, #T_b6c3d_row5_col4, #T_b6c3d_row5_col5, #T_b6c3d_row5_col6, #T_b6c3d_row6_col0, #T_b6c3d_row6_col1, #T_b6c3d_row6_col2, #T_b6c3d_row6_col3, #T_b6c3d_row6_col4, #T_b6c3d_row6_col5, #T_b6c3d_row6_col6, #T_b6c3d_row7_col0, #T_b6c3d_row7_col1, #T_b6c3d_row7_col2, #T_b6c3d_row7_col3, #T_b6c3d_row7_col4, #T_b6c3d_row7_col5, #T_b6c3d_row7_col6, #T_b6c3d_row8_col0, #T_b6c3d_row8_col1, #T_b6c3d_row8_col2, #T_b6c3d_row8_col3, #T_b6c3d_row8_col4, #T_b6c3d_row8_col5, #T_b6c3d_row8_col6, #T_b6c3d_row9_col0, #T_b6c3d_row9_col1, #T_b6c3d_row9_col2, #T_b6c3d_row9_col3, #T_b6c3d_row9_col4, #T_b6c3d_row9_col5, #T_b6c3d_row9_col6, #T_b6c3d_row10_col0, #T_b6c3d_row10_col1, #T_b6c3d_row10_col2, #T_b6c3d_row10_col3, #T_b6c3d_row10_col4, #T_b6c3d_row10_col5, #T_b6c3d_row10_col6, #T_b6c3d_row11_col0, #T_b6c3d_row11_col1, #T_b6c3d_row11_col2, #T_b6c3d_row11_col3, #T_b6c3d_row11_col4, #T_b6c3d_row11_col5, #T_b6c3d_row11_col6, #T_b6c3d_row12_col0, #T_b6c3d_row12_col1, #T_b6c3d_row12_col2, #T_b6c3d_row12_col3, #T_b6c3d_row12_col4, #T_b6c3d_row12_col5, #T_b6c3d_row12_col6, #T_b6c3d_row13_col0, #T_b6c3d_row13_col1, #T_b6c3d_row13_col2, #T_b6c3d_row13_col3, #T_b6c3d_row13_col4, #T_b6c3d_row13_col5, #T_b6c3d_row13_col6, #T_b6c3d_row14_col0, #T_b6c3d_row14_col1, #T_b6c3d_row14_col2, #T_b6c3d_row14_col3, #T_b6c3d_row14_col4, #T_b6c3d_row14_col5, #T_b6c3d_row14_col6, #T_b6c3d_row15_col0, #T_b6c3d_row15_col1, #T_b6c3d_row15_col2, #T_b6c3d_row15_col3, #T_b6c3d_row15_col4, #T_b6c3d_row15_col5, #T_b6c3d_row15_col6, #T_b6c3d_row16_col0, #T_b6c3d_row16_col1, #T_b6c3d_row16_col2, #T_b6c3d_row16_col3, #T_b6c3d_row16_col4, #T_b6c3d_row16_col5, #T_b6c3d_row16_col6, #T_b6c3d_row17_col0, #T_b6c3d_row17_col1, #T_b6c3d_row17_col2, #T_b6c3d_row17_col3, #T_b6c3d_row17_col4, #T_b6c3d_row17_col5, #T_b6c3d_row17_col6 {\n",
       "  text-align: left;\n",
       "}\n",
       "#T_b6c3d_row0_col1, #T_b6c3d_row0_col2, #T_b6c3d_row0_col3, #T_b6c3d_row0_col4, #T_b6c3d_row0_col5, #T_b6c3d_row0_col6, #T_b6c3d_row1_col6 {\n",
       "  text-align: left;\n",
       "  background-color: yellow;\n",
       "}\n",
       "#T_b6c3d_row0_col7, #T_b6c3d_row1_col7, #T_b6c3d_row2_col7, #T_b6c3d_row3_col7, #T_b6c3d_row4_col7, #T_b6c3d_row5_col7, #T_b6c3d_row6_col7, #T_b6c3d_row7_col7, #T_b6c3d_row8_col7, #T_b6c3d_row9_col7, #T_b6c3d_row10_col7, #T_b6c3d_row11_col7, #T_b6c3d_row12_col7, #T_b6c3d_row13_col7, #T_b6c3d_row14_col7, #T_b6c3d_row15_col7 {\n",
       "  text-align: left;\n",
       "  background-color: lightgrey;\n",
       "}\n",
       "#T_b6c3d_row16_col7, #T_b6c3d_row17_col7 {\n",
       "  text-align: left;\n",
       "  background-color: yellow;\n",
       "  background-color: lightgrey;\n",
       "}\n",
       "</style>\n",
       "<table id=\"T_b6c3d\">\n",
       "  <thead>\n",
       "    <tr>\n",
       "      <th class=\"blank level0\" >&nbsp;</th>\n",
       "      <th id=\"T_b6c3d_level0_col0\" class=\"col_heading level0 col0\" >Model</th>\n",
       "      <th id=\"T_b6c3d_level0_col1\" class=\"col_heading level0 col1\" >MAE</th>\n",
       "      <th id=\"T_b6c3d_level0_col2\" class=\"col_heading level0 col2\" >MSE</th>\n",
       "      <th id=\"T_b6c3d_level0_col3\" class=\"col_heading level0 col3\" >RMSE</th>\n",
       "      <th id=\"T_b6c3d_level0_col4\" class=\"col_heading level0 col4\" >R2</th>\n",
       "      <th id=\"T_b6c3d_level0_col5\" class=\"col_heading level0 col5\" >RMSLE</th>\n",
       "      <th id=\"T_b6c3d_level0_col6\" class=\"col_heading level0 col6\" >MAPE</th>\n",
       "      <th id=\"T_b6c3d_level0_col7\" class=\"col_heading level0 col7\" >TT (Sec)</th>\n",
       "    </tr>\n",
       "  </thead>\n",
       "  <tbody>\n",
       "    <tr>\n",
       "      <th id=\"T_b6c3d_level0_row0\" class=\"row_heading level0 row0\" >br</th>\n",
       "      <td id=\"T_b6c3d_row0_col0\" class=\"data row0 col0\" >Bayesian Ridge</td>\n",
       "      <td id=\"T_b6c3d_row0_col1\" class=\"data row0 col1\" >1.7562</td>\n",
       "      <td id=\"T_b6c3d_row0_col2\" class=\"data row0 col2\" >5.4522</td>\n",
       "      <td id=\"T_b6c3d_row0_col3\" class=\"data row0 col3\" >2.2939</td>\n",
       "      <td id=\"T_b6c3d_row0_col4\" class=\"data row0 col4\" >0.8954</td>\n",
       "      <td id=\"T_b6c3d_row0_col5\" class=\"data row0 col5\" >0.0300</td>\n",
       "      <td id=\"T_b6c3d_row0_col6\" class=\"data row0 col6\" >0.0232</td>\n",
       "      <td id=\"T_b6c3d_row0_col7\" class=\"data row0 col7\" >0.0183</td>\n",
       "    </tr>\n",
       "    <tr>\n",
       "      <th id=\"T_b6c3d_level0_row1\" class=\"row_heading level0 row1\" >ridge</th>\n",
       "      <td id=\"T_b6c3d_row1_col0\" class=\"data row1 col0\" >Ridge Regression</td>\n",
       "      <td id=\"T_b6c3d_row1_col1\" class=\"data row1 col1\" >1.7613</td>\n",
       "      <td id=\"T_b6c3d_row1_col2\" class=\"data row1 col2\" >5.4670</td>\n",
       "      <td id=\"T_b6c3d_row1_col3\" class=\"data row1 col3\" >2.2995</td>\n",
       "      <td id=\"T_b6c3d_row1_col4\" class=\"data row1 col4\" >0.8950</td>\n",
       "      <td id=\"T_b6c3d_row1_col5\" class=\"data row1 col5\" >0.0301</td>\n",
       "      <td id=\"T_b6c3d_row1_col6\" class=\"data row1 col6\" >0.0232</td>\n",
       "      <td id=\"T_b6c3d_row1_col7\" class=\"data row1 col7\" >0.0183</td>\n",
       "    </tr>\n",
       "    <tr>\n",
       "      <th id=\"T_b6c3d_level0_row2\" class=\"row_heading level0 row2\" >lr</th>\n",
       "      <td id=\"T_b6c3d_row2_col0\" class=\"data row2 col0\" >Linear Regression</td>\n",
       "      <td id=\"T_b6c3d_row2_col1\" class=\"data row2 col1\" >1.7716</td>\n",
       "      <td id=\"T_b6c3d_row2_col2\" class=\"data row2 col2\" >5.5280</td>\n",
       "      <td id=\"T_b6c3d_row2_col3\" class=\"data row2 col3\" >2.3115</td>\n",
       "      <td id=\"T_b6c3d_row2_col4\" class=\"data row2 col4\" >0.8940</td>\n",
       "      <td id=\"T_b6c3d_row2_col5\" class=\"data row2 col5\" >0.0303</td>\n",
       "      <td id=\"T_b6c3d_row2_col6\" class=\"data row2 col6\" >0.0234</td>\n",
       "      <td id=\"T_b6c3d_row2_col7\" class=\"data row2 col7\" >0.2658</td>\n",
       "    </tr>\n",
       "    <tr>\n",
       "      <th id=\"T_b6c3d_level0_row3\" class=\"row_heading level0 row3\" >et</th>\n",
       "      <td id=\"T_b6c3d_row3_col0\" class=\"data row3 col0\" >Extra Trees Regressor</td>\n",
       "      <td id=\"T_b6c3d_row3_col1\" class=\"data row3 col1\" >1.9843</td>\n",
       "      <td id=\"T_b6c3d_row3_col2\" class=\"data row3 col2\" >7.0556</td>\n",
       "      <td id=\"T_b6c3d_row3_col3\" class=\"data row3 col3\" >2.5876</td>\n",
       "      <td id=\"T_b6c3d_row3_col4\" class=\"data row3 col4\" >0.8642</td>\n",
       "      <td id=\"T_b6c3d_row3_col5\" class=\"data row3 col5\" >0.0334</td>\n",
       "      <td id=\"T_b6c3d_row3_col6\" class=\"data row3 col6\" >0.0260</td>\n",
       "      <td id=\"T_b6c3d_row3_col7\" class=\"data row3 col7\" >0.0442</td>\n",
       "    </tr>\n",
       "    <tr>\n",
       "      <th id=\"T_b6c3d_level0_row4\" class=\"row_heading level0 row4\" >lightgbm</th>\n",
       "      <td id=\"T_b6c3d_row4_col0\" class=\"data row4 col0\" >Light Gradient Boosting Machine</td>\n",
       "      <td id=\"T_b6c3d_row4_col1\" class=\"data row4 col1\" >2.0259</td>\n",
       "      <td id=\"T_b6c3d_row4_col2\" class=\"data row4 col2\" >7.2825</td>\n",
       "      <td id=\"T_b6c3d_row4_col3\" class=\"data row4 col3\" >2.6473</td>\n",
       "      <td id=\"T_b6c3d_row4_col4\" class=\"data row4 col4\" >0.8603</td>\n",
       "      <td id=\"T_b6c3d_row4_col5\" class=\"data row4 col5\" >0.0343</td>\n",
       "      <td id=\"T_b6c3d_row4_col6\" class=\"data row4 col6\" >0.0266</td>\n",
       "      <td id=\"T_b6c3d_row4_col7\" class=\"data row4 col7\" >0.0475</td>\n",
       "    </tr>\n",
       "    <tr>\n",
       "      <th id=\"T_b6c3d_level0_row5\" class=\"row_heading level0 row5\" >gbr</th>\n",
       "      <td id=\"T_b6c3d_row5_col0\" class=\"data row5 col0\" >Gradient Boosting Regressor</td>\n",
       "      <td id=\"T_b6c3d_row5_col1\" class=\"data row5 col1\" >2.0438</td>\n",
       "      <td id=\"T_b6c3d_row5_col2\" class=\"data row5 col2\" >7.6474</td>\n",
       "      <td id=\"T_b6c3d_row5_col3\" class=\"data row5 col3\" >2.7137</td>\n",
       "      <td id=\"T_b6c3d_row5_col4\" class=\"data row5 col4\" >0.8525</td>\n",
       "      <td id=\"T_b6c3d_row5_col5\" class=\"data row5 col5\" >0.0353</td>\n",
       "      <td id=\"T_b6c3d_row5_col6\" class=\"data row5 col6\" >0.0269</td>\n",
       "      <td id=\"T_b6c3d_row5_col7\" class=\"data row5 col7\" >0.0392</td>\n",
       "    </tr>\n",
       "    <tr>\n",
       "      <th id=\"T_b6c3d_level0_row6\" class=\"row_heading level0 row6\" >rf</th>\n",
       "      <td id=\"T_b6c3d_row6_col0\" class=\"data row6 col0\" >Random Forest Regressor</td>\n",
       "      <td id=\"T_b6c3d_row6_col1\" class=\"data row6 col1\" >2.2126</td>\n",
       "      <td id=\"T_b6c3d_row6_col2\" class=\"data row6 col2\" >8.7819</td>\n",
       "      <td id=\"T_b6c3d_row6_col3\" class=\"data row6 col3\" >2.9012</td>\n",
       "      <td id=\"T_b6c3d_row6_col4\" class=\"data row6 col4\" >0.8292</td>\n",
       "      <td id=\"T_b6c3d_row6_col5\" class=\"data row6 col5\" >0.0375</td>\n",
       "      <td id=\"T_b6c3d_row6_col6\" class=\"data row6 col6\" >0.0290</td>\n",
       "      <td id=\"T_b6c3d_row6_col7\" class=\"data row6 col7\" >0.0625</td>\n",
       "    </tr>\n",
       "    <tr>\n",
       "      <th id=\"T_b6c3d_level0_row7\" class=\"row_heading level0 row7\" >ada</th>\n",
       "      <td id=\"T_b6c3d_row7_col0\" class=\"data row7 col0\" >AdaBoost Regressor</td>\n",
       "      <td id=\"T_b6c3d_row7_col1\" class=\"data row7 col1\" >2.3523</td>\n",
       "      <td id=\"T_b6c3d_row7_col2\" class=\"data row7 col2\" >9.5132</td>\n",
       "      <td id=\"T_b6c3d_row7_col3\" class=\"data row7 col3\" >3.0278</td>\n",
       "      <td id=\"T_b6c3d_row7_col4\" class=\"data row7 col4\" >0.8153</td>\n",
       "      <td id=\"T_b6c3d_row7_col5\" class=\"data row7 col5\" >0.0391</td>\n",
       "      <td id=\"T_b6c3d_row7_col6\" class=\"data row7 col6\" >0.0308</td>\n",
       "      <td id=\"T_b6c3d_row7_col7\" class=\"data row7 col7\" >0.0283</td>\n",
       "    </tr>\n",
       "    <tr>\n",
       "      <th id=\"T_b6c3d_level0_row8\" class=\"row_heading level0 row8\" >lasso</th>\n",
       "      <td id=\"T_b6c3d_row8_col0\" class=\"data row8 col0\" >Lasso Regression</td>\n",
       "      <td id=\"T_b6c3d_row8_col1\" class=\"data row8 col1\" >2.3957</td>\n",
       "      <td id=\"T_b6c3d_row8_col2\" class=\"data row8 col2\" >9.8793</td>\n",
       "      <td id=\"T_b6c3d_row8_col3\" class=\"data row8 col3\" >3.0532</td>\n",
       "      <td id=\"T_b6c3d_row8_col4\" class=\"data row8 col4\" >0.8119</td>\n",
       "      <td id=\"T_b6c3d_row8_col5\" class=\"data row8 col5\" >0.0393</td>\n",
       "      <td id=\"T_b6c3d_row8_col6\" class=\"data row8 col6\" >0.0313</td>\n",
       "      <td id=\"T_b6c3d_row8_col7\" class=\"data row8 col7\" >0.0200</td>\n",
       "    </tr>\n",
       "    <tr>\n",
       "      <th id=\"T_b6c3d_level0_row9\" class=\"row_heading level0 row9\" >llar</th>\n",
       "      <td id=\"T_b6c3d_row9_col0\" class=\"data row9 col0\" >Lasso Least Angle Regression</td>\n",
       "      <td id=\"T_b6c3d_row9_col1\" class=\"data row9 col1\" >2.4024</td>\n",
       "      <td id=\"T_b6c3d_row9_col2\" class=\"data row9 col2\" >9.9319</td>\n",
       "      <td id=\"T_b6c3d_row9_col3\" class=\"data row9 col3\" >3.0600</td>\n",
       "      <td id=\"T_b6c3d_row9_col4\" class=\"data row9 col4\" >0.8107</td>\n",
       "      <td id=\"T_b6c3d_row9_col5\" class=\"data row9 col5\" >0.0394</td>\n",
       "      <td id=\"T_b6c3d_row9_col6\" class=\"data row9 col6\" >0.0313</td>\n",
       "      <td id=\"T_b6c3d_row9_col7\" class=\"data row9 col7\" >0.0217</td>\n",
       "    </tr>\n",
       "    <tr>\n",
       "      <th id=\"T_b6c3d_level0_row10\" class=\"row_heading level0 row10\" >en</th>\n",
       "      <td id=\"T_b6c3d_row10_col0\" class=\"data row10 col0\" >Elastic Net</td>\n",
       "      <td id=\"T_b6c3d_row10_col1\" class=\"data row10 col1\" >2.3830</td>\n",
       "      <td id=\"T_b6c3d_row10_col2\" class=\"data row10 col2\" >9.9490</td>\n",
       "      <td id=\"T_b6c3d_row10_col3\" class=\"data row10 col3\" >3.0562</td>\n",
       "      <td id=\"T_b6c3d_row10_col4\" class=\"data row10 col4\" >0.8105</td>\n",
       "      <td id=\"T_b6c3d_row10_col5\" class=\"data row10 col5\" >0.0392</td>\n",
       "      <td id=\"T_b6c3d_row10_col6\" class=\"data row10 col6\" >0.0310</td>\n",
       "      <td id=\"T_b6c3d_row10_col7\" class=\"data row10 col7\" >0.0225</td>\n",
       "    </tr>\n",
       "    <tr>\n",
       "      <th id=\"T_b6c3d_level0_row11\" class=\"row_heading level0 row11\" >huber</th>\n",
       "      <td id=\"T_b6c3d_row11_col0\" class=\"data row11 col0\" >Huber Regressor</td>\n",
       "      <td id=\"T_b6c3d_row11_col1\" class=\"data row11 col1\" >2.7798</td>\n",
       "      <td id=\"T_b6c3d_row11_col2\" class=\"data row11 col2\" >13.4118</td>\n",
       "      <td id=\"T_b6c3d_row11_col3\" class=\"data row11 col3\" >3.5439</td>\n",
       "      <td id=\"T_b6c3d_row11_col4\" class=\"data row11 col4\" >0.7424</td>\n",
       "      <td id=\"T_b6c3d_row11_col5\" class=\"data row11 col5\" >0.0451</td>\n",
       "      <td id=\"T_b6c3d_row11_col6\" class=\"data row11 col6\" >0.0360</td>\n",
       "      <td id=\"T_b6c3d_row11_col7\" class=\"data row11 col7\" >0.0200</td>\n",
       "    </tr>\n",
       "    <tr>\n",
       "      <th id=\"T_b6c3d_level0_row12\" class=\"row_heading level0 row12\" >omp</th>\n",
       "      <td id=\"T_b6c3d_row12_col0\" class=\"data row12 col0\" >Orthogonal Matching Pursuit</td>\n",
       "      <td id=\"T_b6c3d_row12_col1\" class=\"data row12 col1\" >3.1281</td>\n",
       "      <td id=\"T_b6c3d_row12_col2\" class=\"data row12 col2\" >16.9199</td>\n",
       "      <td id=\"T_b6c3d_row12_col3\" class=\"data row12 col3\" >4.0083</td>\n",
       "      <td id=\"T_b6c3d_row12_col4\" class=\"data row12 col4\" >0.6781</td>\n",
       "      <td id=\"T_b6c3d_row12_col5\" class=\"data row12 col5\" >0.0510</td>\n",
       "      <td id=\"T_b6c3d_row12_col6\" class=\"data row12 col6\" >0.0404</td>\n",
       "      <td id=\"T_b6c3d_row12_col7\" class=\"data row12 col7\" >0.0183</td>\n",
       "    </tr>\n",
       "    <tr>\n",
       "      <th id=\"T_b6c3d_level0_row13\" class=\"row_heading level0 row13\" >dt</th>\n",
       "      <td id=\"T_b6c3d_row13_col0\" class=\"data row13 col0\" >Decision Tree Regressor</td>\n",
       "      <td id=\"T_b6c3d_row13_col1\" class=\"data row13 col1\" >3.2901</td>\n",
       "      <td id=\"T_b6c3d_row13_col2\" class=\"data row13 col2\" >18.8415</td>\n",
       "      <td id=\"T_b6c3d_row13_col3\" class=\"data row13 col3\" >4.2629</td>\n",
       "      <td id=\"T_b6c3d_row13_col4\" class=\"data row13 col4\" >0.6436</td>\n",
       "      <td id=\"T_b6c3d_row13_col5\" class=\"data row13 col5\" >0.0551</td>\n",
       "      <td id=\"T_b6c3d_row13_col6\" class=\"data row13 col6\" >0.0430</td>\n",
       "      <td id=\"T_b6c3d_row13_col7\" class=\"data row13 col7\" >0.0192</td>\n",
       "    </tr>\n",
       "    <tr>\n",
       "      <th id=\"T_b6c3d_level0_row14\" class=\"row_heading level0 row14\" >knn</th>\n",
       "      <td id=\"T_b6c3d_row14_col0\" class=\"data row14 col0\" >K Neighbors Regressor</td>\n",
       "      <td id=\"T_b6c3d_row14_col1\" class=\"data row14 col1\" >3.6098</td>\n",
       "      <td id=\"T_b6c3d_row14_col2\" class=\"data row14 col2\" >23.1470</td>\n",
       "      <td id=\"T_b6c3d_row14_col3\" class=\"data row14 col3\" >4.7531</td>\n",
       "      <td id=\"T_b6c3d_row14_col4\" class=\"data row14 col4\" >0.5542</td>\n",
       "      <td id=\"T_b6c3d_row14_col5\" class=\"data row14 col5\" >0.0604</td>\n",
       "      <td id=\"T_b6c3d_row14_col6\" class=\"data row14 col6\" >0.0469</td>\n",
       "      <td id=\"T_b6c3d_row14_col7\" class=\"data row14 col7\" >0.0250</td>\n",
       "    </tr>\n",
       "    <tr>\n",
       "      <th id=\"T_b6c3d_level0_row15\" class=\"row_heading level0 row15\" >lar</th>\n",
       "      <td id=\"T_b6c3d_row15_col0\" class=\"data row15 col0\" >Least Angle Regression</td>\n",
       "      <td id=\"T_b6c3d_row15_col1\" class=\"data row15 col1\" >3.2508</td>\n",
       "      <td id=\"T_b6c3d_row15_col2\" class=\"data row15 col2\" >24.5411</td>\n",
       "      <td id=\"T_b6c3d_row15_col3\" class=\"data row15 col3\" >4.1706</td>\n",
       "      <td id=\"T_b6c3d_row15_col4\" class=\"data row15 col4\" >0.5507</td>\n",
       "      <td id=\"T_b6c3d_row15_col5\" class=\"data row15 col5\" >0.0562</td>\n",
       "      <td id=\"T_b6c3d_row15_col6\" class=\"data row15 col6\" >0.0432</td>\n",
       "      <td id=\"T_b6c3d_row15_col7\" class=\"data row15 col7\" >0.0208</td>\n",
       "    </tr>\n",
       "    <tr>\n",
       "      <th id=\"T_b6c3d_level0_row16\" class=\"row_heading level0 row16\" >par</th>\n",
       "      <td id=\"T_b6c3d_row16_col0\" class=\"data row16 col0\" >Passive Aggressive Regressor</td>\n",
       "      <td id=\"T_b6c3d_row16_col1\" class=\"data row16 col1\" >5.6634</td>\n",
       "      <td id=\"T_b6c3d_row16_col2\" class=\"data row16 col2\" >50.2413</td>\n",
       "      <td id=\"T_b6c3d_row16_col3\" class=\"data row16 col3\" >6.9483</td>\n",
       "      <td id=\"T_b6c3d_row16_col4\" class=\"data row16 col4\" >0.0640</td>\n",
       "      <td id=\"T_b6c3d_row16_col5\" class=\"data row16 col5\" >0.0891</td>\n",
       "      <td id=\"T_b6c3d_row16_col6\" class=\"data row16 col6\" >0.0746</td>\n",
       "      <td id=\"T_b6c3d_row16_col7\" class=\"data row16 col7\" >0.0175</td>\n",
       "    </tr>\n",
       "    <tr>\n",
       "      <th id=\"T_b6c3d_level0_row17\" class=\"row_heading level0 row17\" >dummy</th>\n",
       "      <td id=\"T_b6c3d_row17_col0\" class=\"data row17 col0\" >Dummy Regressor</td>\n",
       "      <td id=\"T_b6c3d_row17_col1\" class=\"data row17 col1\" >6.3065</td>\n",
       "      <td id=\"T_b6c3d_row17_col2\" class=\"data row17 col2\" >56.8264</td>\n",
       "      <td id=\"T_b6c3d_row17_col3\" class=\"data row17 col3\" >7.5043</td>\n",
       "      <td id=\"T_b6c3d_row17_col4\" class=\"data row17 col4\" >-0.0576</td>\n",
       "      <td id=\"T_b6c3d_row17_col5\" class=\"data row17 col5\" >0.0963</td>\n",
       "      <td id=\"T_b6c3d_row17_col6\" class=\"data row17 col6\" >0.0827</td>\n",
       "      <td id=\"T_b6c3d_row17_col7\" class=\"data row17 col7\" >0.0175</td>\n",
       "    </tr>\n",
       "  </tbody>\n",
       "</table>\n"
      ],
      "text/plain": [
       "<pandas.io.formats.style.Styler at 0x1f73e6c8490>"
      ]
     },
     "metadata": {},
     "output_type": "display_data"
    },
    {
     "data": {
      "text/html": [],
      "text/plain": [
       "<IPython.core.display.HTML object>"
      ]
     },
     "metadata": {},
     "output_type": "display_data"
    }
   ],
   "source": [
    "# compare baseline models\n",
    "best = exp1.compare_models(n_select=15)"
   ]
  },
  {
   "cell_type": "code",
   "execution_count": 37,
   "metadata": {},
   "outputs": [
    {
     "data": {
      "text/html": [],
      "text/plain": [
       "<IPython.core.display.HTML object>"
      ]
     },
     "metadata": {},
     "output_type": "display_data"
    },
    {
     "data": {
      "text/html": [
       "<style type=\"text/css\">\n",
       "#T_ac2ea_row12_col0, #T_ac2ea_row12_col1, #T_ac2ea_row12_col2, #T_ac2ea_row12_col3, #T_ac2ea_row12_col4, #T_ac2ea_row12_col5 {\n",
       "  background: yellow;\n",
       "}\n",
       "</style>\n",
       "<table id=\"T_ac2ea\">\n",
       "  <thead>\n",
       "    <tr>\n",
       "      <th class=\"blank level0\" >&nbsp;</th>\n",
       "      <th id=\"T_ac2ea_level0_col0\" class=\"col_heading level0 col0\" >MAE</th>\n",
       "      <th id=\"T_ac2ea_level0_col1\" class=\"col_heading level0 col1\" >MSE</th>\n",
       "      <th id=\"T_ac2ea_level0_col2\" class=\"col_heading level0 col2\" >RMSE</th>\n",
       "      <th id=\"T_ac2ea_level0_col3\" class=\"col_heading level0 col3\" >R2</th>\n",
       "      <th id=\"T_ac2ea_level0_col4\" class=\"col_heading level0 col4\" >RMSLE</th>\n",
       "      <th id=\"T_ac2ea_level0_col5\" class=\"col_heading level0 col5\" >MAPE</th>\n",
       "    </tr>\n",
       "    <tr>\n",
       "      <th class=\"index_name level0\" >Fold</th>\n",
       "      <th class=\"blank col0\" >&nbsp;</th>\n",
       "      <th class=\"blank col1\" >&nbsp;</th>\n",
       "      <th class=\"blank col2\" >&nbsp;</th>\n",
       "      <th class=\"blank col3\" >&nbsp;</th>\n",
       "      <th class=\"blank col4\" >&nbsp;</th>\n",
       "      <th class=\"blank col5\" >&nbsp;</th>\n",
       "    </tr>\n",
       "  </thead>\n",
       "  <tbody>\n",
       "    <tr>\n",
       "      <th id=\"T_ac2ea_level0_row0\" class=\"row_heading level0 row0\" >0</th>\n",
       "      <td id=\"T_ac2ea_row0_col0\" class=\"data row0 col0\" >2.6678</td>\n",
       "      <td id=\"T_ac2ea_row0_col1\" class=\"data row0 col1\" >14.7489</td>\n",
       "      <td id=\"T_ac2ea_row0_col2\" class=\"data row0 col2\" >3.8404</td>\n",
       "      <td id=\"T_ac2ea_row0_col3\" class=\"data row0 col3\" >0.6955</td>\n",
       "      <td id=\"T_ac2ea_row0_col4\" class=\"data row0 col4\" >0.0498</td>\n",
       "      <td id=\"T_ac2ea_row0_col5\" class=\"data row0 col5\" >0.0364</td>\n",
       "    </tr>\n",
       "    <tr>\n",
       "      <th id=\"T_ac2ea_level0_row1\" class=\"row_heading level0 row1\" >1</th>\n",
       "      <td id=\"T_ac2ea_row1_col0\" class=\"data row1 col0\" >2.5452</td>\n",
       "      <td id=\"T_ac2ea_row1_col1\" class=\"data row1 col1\" >10.8875</td>\n",
       "      <td id=\"T_ac2ea_row1_col2\" class=\"data row1 col2\" >3.2996</td>\n",
       "      <td id=\"T_ac2ea_row1_col3\" class=\"data row1 col3\" >0.8034</td>\n",
       "      <td id=\"T_ac2ea_row1_col4\" class=\"data row1 col4\" >0.0434</td>\n",
       "      <td id=\"T_ac2ea_row1_col5\" class=\"data row1 col5\" >0.0341</td>\n",
       "    </tr>\n",
       "    <tr>\n",
       "      <th id=\"T_ac2ea_level0_row2\" class=\"row_heading level0 row2\" >2</th>\n",
       "      <td id=\"T_ac2ea_row2_col0\" class=\"data row2 col0\" >2.4591</td>\n",
       "      <td id=\"T_ac2ea_row2_col1\" class=\"data row2 col1\" >9.8572</td>\n",
       "      <td id=\"T_ac2ea_row2_col2\" class=\"data row2 col2\" >3.1396</td>\n",
       "      <td id=\"T_ac2ea_row2_col3\" class=\"data row2 col3\" >0.8493</td>\n",
       "      <td id=\"T_ac2ea_row2_col4\" class=\"data row2 col4\" >0.0408</td>\n",
       "      <td id=\"T_ac2ea_row2_col5\" class=\"data row2 col5\" >0.0317</td>\n",
       "    </tr>\n",
       "    <tr>\n",
       "      <th id=\"T_ac2ea_level0_row3\" class=\"row_heading level0 row3\" >3</th>\n",
       "      <td id=\"T_ac2ea_row3_col0\" class=\"data row3 col0\" >2.1847</td>\n",
       "      <td id=\"T_ac2ea_row3_col1\" class=\"data row3 col1\" >8.7465</td>\n",
       "      <td id=\"T_ac2ea_row3_col2\" class=\"data row3 col2\" >2.9575</td>\n",
       "      <td id=\"T_ac2ea_row3_col3\" class=\"data row3 col3\" >0.8649</td>\n",
       "      <td id=\"T_ac2ea_row3_col4\" class=\"data row3 col4\" >0.0371</td>\n",
       "      <td id=\"T_ac2ea_row3_col5\" class=\"data row3 col5\" >0.0284</td>\n",
       "    </tr>\n",
       "    <tr>\n",
       "      <th id=\"T_ac2ea_level0_row4\" class=\"row_heading level0 row4\" >4</th>\n",
       "      <td id=\"T_ac2ea_row4_col0\" class=\"data row4 col0\" >1.9022</td>\n",
       "      <td id=\"T_ac2ea_row4_col1\" class=\"data row4 col1\" >6.5687</td>\n",
       "      <td id=\"T_ac2ea_row4_col2\" class=\"data row4 col2\" >2.5630</td>\n",
       "      <td id=\"T_ac2ea_row4_col3\" class=\"data row4 col3\" >0.8502</td>\n",
       "      <td id=\"T_ac2ea_row4_col4\" class=\"data row4 col4\" >0.0351</td>\n",
       "      <td id=\"T_ac2ea_row4_col5\" class=\"data row4 col5\" >0.0262</td>\n",
       "    </tr>\n",
       "    <tr>\n",
       "      <th id=\"T_ac2ea_level0_row5\" class=\"row_heading level0 row5\" >5</th>\n",
       "      <td id=\"T_ac2ea_row5_col0\" class=\"data row5 col0\" >1.8291</td>\n",
       "      <td id=\"T_ac2ea_row5_col1\" class=\"data row5 col1\" >5.0373</td>\n",
       "      <td id=\"T_ac2ea_row5_col2\" class=\"data row5 col2\" >2.2444</td>\n",
       "      <td id=\"T_ac2ea_row5_col3\" class=\"data row5 col3\" >0.9138</td>\n",
       "      <td id=\"T_ac2ea_row5_col4\" class=\"data row5 col4\" >0.0287</td>\n",
       "      <td id=\"T_ac2ea_row5_col5\" class=\"data row5 col5\" >0.0239</td>\n",
       "    </tr>\n",
       "    <tr>\n",
       "      <th id=\"T_ac2ea_level0_row6\" class=\"row_heading level0 row6\" >6</th>\n",
       "      <td id=\"T_ac2ea_row6_col0\" class=\"data row6 col0\" >1.2914</td>\n",
       "      <td id=\"T_ac2ea_row6_col1\" class=\"data row6 col1\" >2.9862</td>\n",
       "      <td id=\"T_ac2ea_row6_col2\" class=\"data row6 col2\" >1.7281</td>\n",
       "      <td id=\"T_ac2ea_row6_col3\" class=\"data row6 col3\" >0.9533</td>\n",
       "      <td id=\"T_ac2ea_row6_col4\" class=\"data row6 col4\" >0.0206</td>\n",
       "      <td id=\"T_ac2ea_row6_col5\" class=\"data row6 col5\" >0.0160</td>\n",
       "    </tr>\n",
       "    <tr>\n",
       "      <th id=\"T_ac2ea_level0_row7\" class=\"row_heading level0 row7\" >7</th>\n",
       "      <td id=\"T_ac2ea_row7_col0\" class=\"data row7 col0\" >2.7377</td>\n",
       "      <td id=\"T_ac2ea_row7_col1\" class=\"data row7 col1\" >14.1897</td>\n",
       "      <td id=\"T_ac2ea_row7_col2\" class=\"data row7 col2\" >3.7669</td>\n",
       "      <td id=\"T_ac2ea_row7_col3\" class=\"data row7 col3\" >0.6415</td>\n",
       "      <td id=\"T_ac2ea_row7_col4\" class=\"data row7 col4\" >0.0500</td>\n",
       "      <td id=\"T_ac2ea_row7_col5\" class=\"data row7 col5\" >0.0357</td>\n",
       "    </tr>\n",
       "    <tr>\n",
       "      <th id=\"T_ac2ea_level0_row8\" class=\"row_heading level0 row8\" >8</th>\n",
       "      <td id=\"T_ac2ea_row8_col0\" class=\"data row8 col0\" >2.5386</td>\n",
       "      <td id=\"T_ac2ea_row8_col1\" class=\"data row8 col1\" >10.4964</td>\n",
       "      <td id=\"T_ac2ea_row8_col2\" class=\"data row8 col2\" >3.2398</td>\n",
       "      <td id=\"T_ac2ea_row8_col3\" class=\"data row8 col3\" >0.8371</td>\n",
       "      <td id=\"T_ac2ea_row8_col4\" class=\"data row8 col4\" >0.0404</td>\n",
       "      <td id=\"T_ac2ea_row8_col5\" class=\"data row8 col5\" >0.0318</td>\n",
       "    </tr>\n",
       "    <tr>\n",
       "      <th id=\"T_ac2ea_level0_row9\" class=\"row_heading level0 row9\" >9</th>\n",
       "      <td id=\"T_ac2ea_row9_col0\" class=\"data row9 col0\" >2.3802</td>\n",
       "      <td id=\"T_ac2ea_row9_col1\" class=\"data row9 col1\" >8.7150</td>\n",
       "      <td id=\"T_ac2ea_row9_col2\" class=\"data row9 col2\" >2.9521</td>\n",
       "      <td id=\"T_ac2ea_row9_col3\" class=\"data row9 col3\" >0.8246</td>\n",
       "      <td id=\"T_ac2ea_row9_col4\" class=\"data row9 col4\" >0.0386</td>\n",
       "      <td id=\"T_ac2ea_row9_col5\" class=\"data row9 col5\" >0.0318</td>\n",
       "    </tr>\n",
       "    <tr>\n",
       "      <th id=\"T_ac2ea_level0_row10\" class=\"row_heading level0 row10\" >10</th>\n",
       "      <td id=\"T_ac2ea_row10_col0\" class=\"data row10 col0\" >1.7540</td>\n",
       "      <td id=\"T_ac2ea_row10_col1\" class=\"data row10 col1\" >4.8505</td>\n",
       "      <td id=\"T_ac2ea_row10_col2\" class=\"data row10 col2\" >2.2024</td>\n",
       "      <td id=\"T_ac2ea_row10_col3\" class=\"data row10 col3\" >0.8555</td>\n",
       "      <td id=\"T_ac2ea_row10_col4\" class=\"data row10 col4\" >0.0282</td>\n",
       "      <td id=\"T_ac2ea_row10_col5\" class=\"data row10 col5\" >0.0227</td>\n",
       "    </tr>\n",
       "    <tr>\n",
       "      <th id=\"T_ac2ea_level0_row11\" class=\"row_heading level0 row11\" >11</th>\n",
       "      <td id=\"T_ac2ea_row11_col0\" class=\"data row11 col0\" >2.2615</td>\n",
       "      <td id=\"T_ac2ea_row11_col1\" class=\"data row11 col1\" >8.2987</td>\n",
       "      <td id=\"T_ac2ea_row11_col2\" class=\"data row11 col2\" >2.8807</td>\n",
       "      <td id=\"T_ac2ea_row11_col3\" class=\"data row11 col3\" >0.8607</td>\n",
       "      <td id=\"T_ac2ea_row11_col4\" class=\"data row11 col4\" >0.0380</td>\n",
       "      <td id=\"T_ac2ea_row11_col5\" class=\"data row11 col5\" >0.0296</td>\n",
       "    </tr>\n",
       "    <tr>\n",
       "      <th id=\"T_ac2ea_level0_row12\" class=\"row_heading level0 row12\" >Mean</th>\n",
       "      <td id=\"T_ac2ea_row12_col0\" class=\"data row12 col0\" >2.2126</td>\n",
       "      <td id=\"T_ac2ea_row12_col1\" class=\"data row12 col1\" >8.7819</td>\n",
       "      <td id=\"T_ac2ea_row12_col2\" class=\"data row12 col2\" >2.9012</td>\n",
       "      <td id=\"T_ac2ea_row12_col3\" class=\"data row12 col3\" >0.8292</td>\n",
       "      <td id=\"T_ac2ea_row12_col4\" class=\"data row12 col4\" >0.0375</td>\n",
       "      <td id=\"T_ac2ea_row12_col5\" class=\"data row12 col5\" >0.0290</td>\n",
       "    </tr>\n",
       "    <tr>\n",
       "      <th id=\"T_ac2ea_level0_row13\" class=\"row_heading level0 row13\" >Std</th>\n",
       "      <td id=\"T_ac2ea_row13_col0\" class=\"data row13 col0\" >0.4177</td>\n",
       "      <td id=\"T_ac2ea_row13_col1\" class=\"data row13 col1\" >3.4349</td>\n",
       "      <td id=\"T_ac2ea_row13_col2\" class=\"data row13 col2\" >0.6040</td>\n",
       "      <td id=\"T_ac2ea_row13_col3\" class=\"data row13 col3\" >0.0818</td>\n",
       "      <td id=\"T_ac2ea_row13_col4\" class=\"data row13 col4\" >0.0082</td>\n",
       "      <td id=\"T_ac2ea_row13_col5\" class=\"data row13 col5\" >0.0057</td>\n",
       "    </tr>\n",
       "  </tbody>\n",
       "</table>\n"
      ],
      "text/plain": [
       "<pandas.io.formats.style.Styler at 0x1f73e6ada90>"
      ]
     },
     "metadata": {},
     "output_type": "display_data"
    },
    {
     "data": {
      "text/html": [],
      "text/plain": [
       "<IPython.core.display.HTML object>"
      ]
     },
     "metadata": {},
     "output_type": "display_data"
    },
    {
     "data": {
      "text/html": [],
      "text/plain": [
       "<IPython.core.display.HTML object>"
      ]
     },
     "metadata": {},
     "output_type": "display_data"
    },
    {
     "data": {
      "text/html": [
       "<style type=\"text/css\">\n",
       "#T_0677e_row12_col0, #T_0677e_row12_col1, #T_0677e_row12_col2, #T_0677e_row12_col3, #T_0677e_row12_col4, #T_0677e_row12_col5 {\n",
       "  background: yellow;\n",
       "}\n",
       "</style>\n",
       "<table id=\"T_0677e\">\n",
       "  <thead>\n",
       "    <tr>\n",
       "      <th class=\"blank level0\" >&nbsp;</th>\n",
       "      <th id=\"T_0677e_level0_col0\" class=\"col_heading level0 col0\" >MAE</th>\n",
       "      <th id=\"T_0677e_level0_col1\" class=\"col_heading level0 col1\" >MSE</th>\n",
       "      <th id=\"T_0677e_level0_col2\" class=\"col_heading level0 col2\" >RMSE</th>\n",
       "      <th id=\"T_0677e_level0_col3\" class=\"col_heading level0 col3\" >R2</th>\n",
       "      <th id=\"T_0677e_level0_col4\" class=\"col_heading level0 col4\" >RMSLE</th>\n",
       "      <th id=\"T_0677e_level0_col5\" class=\"col_heading level0 col5\" >MAPE</th>\n",
       "    </tr>\n",
       "    <tr>\n",
       "      <th class=\"index_name level0\" >Fold</th>\n",
       "      <th class=\"blank col0\" >&nbsp;</th>\n",
       "      <th class=\"blank col1\" >&nbsp;</th>\n",
       "      <th class=\"blank col2\" >&nbsp;</th>\n",
       "      <th class=\"blank col3\" >&nbsp;</th>\n",
       "      <th class=\"blank col4\" >&nbsp;</th>\n",
       "      <th class=\"blank col5\" >&nbsp;</th>\n",
       "    </tr>\n",
       "  </thead>\n",
       "  <tbody>\n",
       "    <tr>\n",
       "      <th id=\"T_0677e_level0_row0\" class=\"row_heading level0 row0\" >0</th>\n",
       "      <td id=\"T_0677e_row0_col0\" class=\"data row0 col0\" >1.4516</td>\n",
       "      <td id=\"T_0677e_row0_col1\" class=\"data row0 col1\" >5.0015</td>\n",
       "      <td id=\"T_0677e_row0_col2\" class=\"data row0 col2\" >2.2364</td>\n",
       "      <td id=\"T_0677e_row0_col3\" class=\"data row0 col3\" >0.8967</td>\n",
       "      <td id=\"T_0677e_row0_col4\" class=\"data row0 col4\" >0.0299</td>\n",
       "      <td id=\"T_0677e_row0_col5\" class=\"data row0 col5\" >0.0201</td>\n",
       "    </tr>\n",
       "    <tr>\n",
       "      <th id=\"T_0677e_level0_row1\" class=\"row_heading level0 row1\" >1</th>\n",
       "      <td id=\"T_0677e_row1_col0\" class=\"data row1 col0\" >1.9881</td>\n",
       "      <td id=\"T_0677e_row1_col1\" class=\"data row1 col1\" >6.5555</td>\n",
       "      <td id=\"T_0677e_row1_col2\" class=\"data row1 col2\" >2.5604</td>\n",
       "      <td id=\"T_0677e_row1_col3\" class=\"data row1 col3\" >0.8817</td>\n",
       "      <td id=\"T_0677e_row1_col4\" class=\"data row1 col4\" >0.0341</td>\n",
       "      <td id=\"T_0677e_row1_col5\" class=\"data row1 col5\" >0.0269</td>\n",
       "    </tr>\n",
       "    <tr>\n",
       "      <th id=\"T_0677e_level0_row2\" class=\"row_heading level0 row2\" >2</th>\n",
       "      <td id=\"T_0677e_row2_col0\" class=\"data row2 col0\" >1.7799</td>\n",
       "      <td id=\"T_0677e_row2_col1\" class=\"data row2 col1\" >4.9548</td>\n",
       "      <td id=\"T_0677e_row2_col2\" class=\"data row2 col2\" >2.2259</td>\n",
       "      <td id=\"T_0677e_row2_col3\" class=\"data row2 col3\" >0.9242</td>\n",
       "      <td id=\"T_0677e_row2_col4\" class=\"data row2 col4\" >0.0293</td>\n",
       "      <td id=\"T_0677e_row2_col5\" class=\"data row2 col5\" >0.0233</td>\n",
       "    </tr>\n",
       "    <tr>\n",
       "      <th id=\"T_0677e_level0_row3\" class=\"row_heading level0 row3\" >3</th>\n",
       "      <td id=\"T_0677e_row3_col0\" class=\"data row3 col0\" >2.1240</td>\n",
       "      <td id=\"T_0677e_row3_col1\" class=\"data row3 col1\" >7.0737</td>\n",
       "      <td id=\"T_0677e_row3_col2\" class=\"data row3 col2\" >2.6597</td>\n",
       "      <td id=\"T_0677e_row3_col3\" class=\"data row3 col3\" >0.8908</td>\n",
       "      <td id=\"T_0677e_row3_col4\" class=\"data row3 col4\" >0.0339</td>\n",
       "      <td id=\"T_0677e_row3_col5\" class=\"data row3 col5\" >0.0277</td>\n",
       "    </tr>\n",
       "    <tr>\n",
       "      <th id=\"T_0677e_level0_row4\" class=\"row_heading level0 row4\" >4</th>\n",
       "      <td id=\"T_0677e_row4_col0\" class=\"data row4 col0\" >1.5116</td>\n",
       "      <td id=\"T_0677e_row4_col1\" class=\"data row4 col1\" >4.3549</td>\n",
       "      <td id=\"T_0677e_row4_col2\" class=\"data row4 col2\" >2.0868</td>\n",
       "      <td id=\"T_0677e_row4_col3\" class=\"data row4 col3\" >0.9007</td>\n",
       "      <td id=\"T_0677e_row4_col4\" class=\"data row4 col4\" >0.0291</td>\n",
       "      <td id=\"T_0677e_row4_col5\" class=\"data row4 col5\" >0.0209</td>\n",
       "    </tr>\n",
       "    <tr>\n",
       "      <th id=\"T_0677e_level0_row5\" class=\"row_heading level0 row5\" >5</th>\n",
       "      <td id=\"T_0677e_row5_col0\" class=\"data row5 col0\" >1.4511</td>\n",
       "      <td id=\"T_0677e_row5_col1\" class=\"data row5 col1\" >3.1305</td>\n",
       "      <td id=\"T_0677e_row5_col2\" class=\"data row5 col2\" >1.7693</td>\n",
       "      <td id=\"T_0677e_row5_col3\" class=\"data row5 col3\" >0.9464</td>\n",
       "      <td id=\"T_0677e_row5_col4\" class=\"data row5 col4\" >0.0236</td>\n",
       "      <td id=\"T_0677e_row5_col5\" class=\"data row5 col5\" >0.0193</td>\n",
       "    </tr>\n",
       "    <tr>\n",
       "      <th id=\"T_0677e_level0_row6\" class=\"row_heading level0 row6\" >6</th>\n",
       "      <td id=\"T_0677e_row6_col0\" class=\"data row6 col0\" >1.2994</td>\n",
       "      <td id=\"T_0677e_row6_col1\" class=\"data row6 col1\" >2.6118</td>\n",
       "      <td id=\"T_0677e_row6_col2\" class=\"data row6 col2\" >1.6161</td>\n",
       "      <td id=\"T_0677e_row6_col3\" class=\"data row6 col3\" >0.9592</td>\n",
       "      <td id=\"T_0677e_row6_col4\" class=\"data row6 col4\" >0.0207</td>\n",
       "      <td id=\"T_0677e_row6_col5\" class=\"data row6 col5\" >0.0166</td>\n",
       "    </tr>\n",
       "    <tr>\n",
       "      <th id=\"T_0677e_level0_row7\" class=\"row_heading level0 row7\" >7</th>\n",
       "      <td id=\"T_0677e_row7_col0\" class=\"data row7 col0\" >2.2102</td>\n",
       "      <td id=\"T_0677e_row7_col1\" class=\"data row7 col1\" >8.3773</td>\n",
       "      <td id=\"T_0677e_row7_col2\" class=\"data row7 col2\" >2.8943</td>\n",
       "      <td id=\"T_0677e_row7_col3\" class=\"data row7 col3\" >0.7884</td>\n",
       "      <td id=\"T_0677e_row7_col4\" class=\"data row7 col4\" >0.0377</td>\n",
       "      <td id=\"T_0677e_row7_col5\" class=\"data row7 col5\" >0.0291</td>\n",
       "    </tr>\n",
       "    <tr>\n",
       "      <th id=\"T_0677e_level0_row8\" class=\"row_heading level0 row8\" >8</th>\n",
       "      <td id=\"T_0677e_row8_col0\" class=\"data row8 col0\" >2.1121</td>\n",
       "      <td id=\"T_0677e_row8_col1\" class=\"data row8 col1\" >7.7474</td>\n",
       "      <td id=\"T_0677e_row8_col2\" class=\"data row8 col2\" >2.7834</td>\n",
       "      <td id=\"T_0677e_row8_col3\" class=\"data row8 col3\" >0.8798</td>\n",
       "      <td id=\"T_0677e_row8_col4\" class=\"data row8 col4\" >0.0349</td>\n",
       "      <td id=\"T_0677e_row8_col5\" class=\"data row8 col5\" >0.0267</td>\n",
       "    </tr>\n",
       "    <tr>\n",
       "      <th id=\"T_0677e_level0_row9\" class=\"row_heading level0 row9\" >9</th>\n",
       "      <td id=\"T_0677e_row9_col0\" class=\"data row9 col0\" >1.6313</td>\n",
       "      <td id=\"T_0677e_row9_col1\" class=\"data row9 col1\" >3.7881</td>\n",
       "      <td id=\"T_0677e_row9_col2\" class=\"data row9 col2\" >1.9463</td>\n",
       "      <td id=\"T_0677e_row9_col3\" class=\"data row9 col3\" >0.9238</td>\n",
       "      <td id=\"T_0677e_row9_col4\" class=\"data row9 col4\" >0.0256</td>\n",
       "      <td id=\"T_0677e_row9_col5\" class=\"data row9 col5\" >0.0215</td>\n",
       "    </tr>\n",
       "    <tr>\n",
       "      <th id=\"T_0677e_level0_row10\" class=\"row_heading level0 row10\" >10</th>\n",
       "      <td id=\"T_0677e_row10_col0\" class=\"data row10 col0\" >1.5994</td>\n",
       "      <td id=\"T_0677e_row10_col1\" class=\"data row10 col1\" >3.8145</td>\n",
       "      <td id=\"T_0677e_row10_col2\" class=\"data row10 col2\" >1.9531</td>\n",
       "      <td id=\"T_0677e_row10_col3\" class=\"data row10 col3\" >0.8864</td>\n",
       "      <td id=\"T_0677e_row10_col4\" class=\"data row10 col4\" >0.0253</td>\n",
       "      <td id=\"T_0677e_row10_col5\" class=\"data row10 col5\" >0.0208</td>\n",
       "    </tr>\n",
       "    <tr>\n",
       "      <th id=\"T_0677e_level0_row11\" class=\"row_heading level0 row11\" >11</th>\n",
       "      <td id=\"T_0677e_row11_col0\" class=\"data row11 col0\" >1.9772</td>\n",
       "      <td id=\"T_0677e_row11_col1\" class=\"data row11 col1\" >8.1939</td>\n",
       "      <td id=\"T_0677e_row11_col2\" class=\"data row11 col2\" >2.8625</td>\n",
       "      <td id=\"T_0677e_row11_col3\" class=\"data row11 col3\" >0.8625</td>\n",
       "      <td id=\"T_0677e_row11_col4\" class=\"data row11 col4\" >0.0373</td>\n",
       "      <td id=\"T_0677e_row11_col5\" class=\"data row11 col5\" >0.0258</td>\n",
       "    </tr>\n",
       "    <tr>\n",
       "      <th id=\"T_0677e_level0_row12\" class=\"row_heading level0 row12\" >Mean</th>\n",
       "      <td id=\"T_0677e_row12_col0\" class=\"data row12 col0\" >1.7613</td>\n",
       "      <td id=\"T_0677e_row12_col1\" class=\"data row12 col1\" >5.4670</td>\n",
       "      <td id=\"T_0677e_row12_col2\" class=\"data row12 col2\" >2.2995</td>\n",
       "      <td id=\"T_0677e_row12_col3\" class=\"data row12 col3\" >0.8950</td>\n",
       "      <td id=\"T_0677e_row12_col4\" class=\"data row12 col4\" >0.0301</td>\n",
       "      <td id=\"T_0677e_row12_col5\" class=\"data row12 col5\" >0.0232</td>\n",
       "    </tr>\n",
       "    <tr>\n",
       "      <th id=\"T_0677e_level0_row13\" class=\"row_heading level0 row13\" >Std</th>\n",
       "      <td id=\"T_0677e_row13_col0\" class=\"data row13 col0\" >0.2980</td>\n",
       "      <td id=\"T_0677e_row13_col1\" class=\"data row13 col1\" >1.9525</td>\n",
       "      <td id=\"T_0677e_row13_col2\" class=\"data row13 col2\" >0.4233</td>\n",
       "      <td id=\"T_0677e_row13_col3\" class=\"data row13 col3\" >0.0422</td>\n",
       "      <td id=\"T_0677e_row13_col4\" class=\"data row13 col4\" >0.0053</td>\n",
       "      <td id=\"T_0677e_row13_col5\" class=\"data row13 col5\" >0.0038</td>\n",
       "    </tr>\n",
       "  </tbody>\n",
       "</table>\n"
      ],
      "text/plain": [
       "<pandas.io.formats.style.Styler at 0x1f73c562d10>"
      ]
     },
     "metadata": {},
     "output_type": "display_data"
    },
    {
     "data": {
      "text/html": [],
      "text/plain": [
       "<IPython.core.display.HTML object>"
      ]
     },
     "metadata": {},
     "output_type": "display_data"
    },
    {
     "data": {
      "text/html": [],
      "text/plain": [
       "<IPython.core.display.HTML object>"
      ]
     },
     "metadata": {},
     "output_type": "display_data"
    },
    {
     "data": {
      "text/html": [
       "<style type=\"text/css\">\n",
       "#T_7c3dc_row12_col0, #T_7c3dc_row12_col1, #T_7c3dc_row12_col2, #T_7c3dc_row12_col3, #T_7c3dc_row12_col4, #T_7c3dc_row12_col5 {\n",
       "  background: yellow;\n",
       "}\n",
       "</style>\n",
       "<table id=\"T_7c3dc\">\n",
       "  <thead>\n",
       "    <tr>\n",
       "      <th class=\"blank level0\" >&nbsp;</th>\n",
       "      <th id=\"T_7c3dc_level0_col0\" class=\"col_heading level0 col0\" >MAE</th>\n",
       "      <th id=\"T_7c3dc_level0_col1\" class=\"col_heading level0 col1\" >MSE</th>\n",
       "      <th id=\"T_7c3dc_level0_col2\" class=\"col_heading level0 col2\" >RMSE</th>\n",
       "      <th id=\"T_7c3dc_level0_col3\" class=\"col_heading level0 col3\" >R2</th>\n",
       "      <th id=\"T_7c3dc_level0_col4\" class=\"col_heading level0 col4\" >RMSLE</th>\n",
       "      <th id=\"T_7c3dc_level0_col5\" class=\"col_heading level0 col5\" >MAPE</th>\n",
       "    </tr>\n",
       "    <tr>\n",
       "      <th class=\"index_name level0\" >Fold</th>\n",
       "      <th class=\"blank col0\" >&nbsp;</th>\n",
       "      <th class=\"blank col1\" >&nbsp;</th>\n",
       "      <th class=\"blank col2\" >&nbsp;</th>\n",
       "      <th class=\"blank col3\" >&nbsp;</th>\n",
       "      <th class=\"blank col4\" >&nbsp;</th>\n",
       "      <th class=\"blank col5\" >&nbsp;</th>\n",
       "    </tr>\n",
       "  </thead>\n",
       "  <tbody>\n",
       "    <tr>\n",
       "      <th id=\"T_7c3dc_level0_row0\" class=\"row_heading level0 row0\" >0</th>\n",
       "      <td id=\"T_7c3dc_row0_col0\" class=\"data row0 col0\" >1.4493</td>\n",
       "      <td id=\"T_7c3dc_row0_col1\" class=\"data row0 col1\" >4.9972</td>\n",
       "      <td id=\"T_7c3dc_row0_col2\" class=\"data row0 col2\" >2.2354</td>\n",
       "      <td id=\"T_7c3dc_row0_col3\" class=\"data row0 col3\" >0.8968</td>\n",
       "      <td id=\"T_7c3dc_row0_col4\" class=\"data row0 col4\" >0.0299</td>\n",
       "      <td id=\"T_7c3dc_row0_col5\" class=\"data row0 col5\" >0.0201</td>\n",
       "    </tr>\n",
       "    <tr>\n",
       "      <th id=\"T_7c3dc_level0_row1\" class=\"row_heading level0 row1\" >1</th>\n",
       "      <td id=\"T_7c3dc_row1_col0\" class=\"data row1 col0\" >2.0169</td>\n",
       "      <td id=\"T_7c3dc_row1_col1\" class=\"data row1 col1\" >6.6818</td>\n",
       "      <td id=\"T_7c3dc_row1_col2\" class=\"data row1 col2\" >2.5849</td>\n",
       "      <td id=\"T_7c3dc_row1_col3\" class=\"data row1 col3\" >0.8794</td>\n",
       "      <td id=\"T_7c3dc_row1_col4\" class=\"data row1 col4\" >0.0344</td>\n",
       "      <td id=\"T_7c3dc_row1_col5\" class=\"data row1 col5\" >0.0272</td>\n",
       "    </tr>\n",
       "    <tr>\n",
       "      <th id=\"T_7c3dc_level0_row2\" class=\"row_heading level0 row2\" >2</th>\n",
       "      <td id=\"T_7c3dc_row2_col0\" class=\"data row2 col0\" >1.7565</td>\n",
       "      <td id=\"T_7c3dc_row2_col1\" class=\"data row2 col1\" >4.9309</td>\n",
       "      <td id=\"T_7c3dc_row2_col2\" class=\"data row2 col2\" >2.2206</td>\n",
       "      <td id=\"T_7c3dc_row2_col3\" class=\"data row2 col3\" >0.9246</td>\n",
       "      <td id=\"T_7c3dc_row2_col4\" class=\"data row2 col4\" >0.0292</td>\n",
       "      <td id=\"T_7c3dc_row2_col5\" class=\"data row2 col5\" >0.0230</td>\n",
       "    </tr>\n",
       "    <tr>\n",
       "      <th id=\"T_7c3dc_level0_row3\" class=\"row_heading level0 row3\" >3</th>\n",
       "      <td id=\"T_7c3dc_row3_col0\" class=\"data row3 col0\" >2.1203</td>\n",
       "      <td id=\"T_7c3dc_row3_col1\" class=\"data row3 col1\" >7.1522</td>\n",
       "      <td id=\"T_7c3dc_row3_col2\" class=\"data row3 col2\" >2.6744</td>\n",
       "      <td id=\"T_7c3dc_row3_col3\" class=\"data row3 col3\" >0.8896</td>\n",
       "      <td id=\"T_7c3dc_row3_col4\" class=\"data row3 col4\" >0.0341</td>\n",
       "      <td id=\"T_7c3dc_row3_col5\" class=\"data row3 col5\" >0.0276</td>\n",
       "    </tr>\n",
       "    <tr>\n",
       "      <th id=\"T_7c3dc_level0_row4\" class=\"row_heading level0 row4\" >4</th>\n",
       "      <td id=\"T_7c3dc_row4_col0\" class=\"data row4 col0\" >1.5033</td>\n",
       "      <td id=\"T_7c3dc_row4_col1\" class=\"data row4 col1\" >4.3381</td>\n",
       "      <td id=\"T_7c3dc_row4_col2\" class=\"data row4 col2\" >2.0828</td>\n",
       "      <td id=\"T_7c3dc_row4_col3\" class=\"data row4 col3\" >0.9011</td>\n",
       "      <td id=\"T_7c3dc_row4_col4\" class=\"data row4 col4\" >0.0290</td>\n",
       "      <td id=\"T_7c3dc_row4_col5\" class=\"data row4 col5\" >0.0208</td>\n",
       "    </tr>\n",
       "    <tr>\n",
       "      <th id=\"T_7c3dc_level0_row5\" class=\"row_heading level0 row5\" >5</th>\n",
       "      <td id=\"T_7c3dc_row5_col0\" class=\"data row5 col0\" >1.4332</td>\n",
       "      <td id=\"T_7c3dc_row5_col1\" class=\"data row5 col1\" >3.0416</td>\n",
       "      <td id=\"T_7c3dc_row5_col2\" class=\"data row5 col2\" >1.7440</td>\n",
       "      <td id=\"T_7c3dc_row5_col3\" class=\"data row5 col3\" >0.9480</td>\n",
       "      <td id=\"T_7c3dc_row5_col4\" class=\"data row5 col4\" >0.0233</td>\n",
       "      <td id=\"T_7c3dc_row5_col5\" class=\"data row5 col5\" >0.0190</td>\n",
       "    </tr>\n",
       "    <tr>\n",
       "      <th id=\"T_7c3dc_level0_row6\" class=\"row_heading level0 row6\" >6</th>\n",
       "      <td id=\"T_7c3dc_row6_col0\" class=\"data row6 col0\" >1.3089</td>\n",
       "      <td id=\"T_7c3dc_row6_col1\" class=\"data row6 col1\" >2.5257</td>\n",
       "      <td id=\"T_7c3dc_row6_col2\" class=\"data row6 col2\" >1.5892</td>\n",
       "      <td id=\"T_7c3dc_row6_col3\" class=\"data row6 col3\" >0.9605</td>\n",
       "      <td id=\"T_7c3dc_row6_col4\" class=\"data row6 col4\" >0.0202</td>\n",
       "      <td id=\"T_7c3dc_row6_col5\" class=\"data row6 col5\" >0.0167</td>\n",
       "    </tr>\n",
       "    <tr>\n",
       "      <th id=\"T_7c3dc_level0_row7\" class=\"row_heading level0 row7\" >7</th>\n",
       "      <td id=\"T_7c3dc_row7_col0\" class=\"data row7 col0\" >2.2066</td>\n",
       "      <td id=\"T_7c3dc_row7_col1\" class=\"data row7 col1\" >8.5222</td>\n",
       "      <td id=\"T_7c3dc_row7_col2\" class=\"data row7 col2\" >2.9193</td>\n",
       "      <td id=\"T_7c3dc_row7_col3\" class=\"data row7 col3\" >0.7847</td>\n",
       "      <td id=\"T_7c3dc_row7_col4\" class=\"data row7 col4\" >0.0380</td>\n",
       "      <td id=\"T_7c3dc_row7_col5\" class=\"data row7 col5\" >0.0290</td>\n",
       "    </tr>\n",
       "    <tr>\n",
       "      <th id=\"T_7c3dc_level0_row8\" class=\"row_heading level0 row8\" >8</th>\n",
       "      <td id=\"T_7c3dc_row8_col0\" class=\"data row8 col0\" >2.1111</td>\n",
       "      <td id=\"T_7c3dc_row8_col1\" class=\"data row8 col1\" >7.7879</td>\n",
       "      <td id=\"T_7c3dc_row8_col2\" class=\"data row8 col2\" >2.7907</td>\n",
       "      <td id=\"T_7c3dc_row8_col3\" class=\"data row8 col3\" >0.8791</td>\n",
       "      <td id=\"T_7c3dc_row8_col4\" class=\"data row8 col4\" >0.0349</td>\n",
       "      <td id=\"T_7c3dc_row8_col5\" class=\"data row8 col5\" >0.0267</td>\n",
       "    </tr>\n",
       "    <tr>\n",
       "      <th id=\"T_7c3dc_level0_row9\" class=\"row_heading level0 row9\" >9</th>\n",
       "      <td id=\"T_7c3dc_row9_col0\" class=\"data row9 col0\" >1.6273</td>\n",
       "      <td id=\"T_7c3dc_row9_col1\" class=\"data row9 col1\" >3.7654</td>\n",
       "      <td id=\"T_7c3dc_row9_col2\" class=\"data row9 col2\" >1.9405</td>\n",
       "      <td id=\"T_7c3dc_row9_col3\" class=\"data row9 col3\" >0.9242</td>\n",
       "      <td id=\"T_7c3dc_row9_col4\" class=\"data row9 col4\" >0.0256</td>\n",
       "      <td id=\"T_7c3dc_row9_col5\" class=\"data row9 col5\" >0.0215</td>\n",
       "    </tr>\n",
       "    <tr>\n",
       "      <th id=\"T_7c3dc_level0_row10\" class=\"row_heading level0 row10\" >10</th>\n",
       "      <td id=\"T_7c3dc_row10_col0\" class=\"data row10 col0\" >1.5746</td>\n",
       "      <td id=\"T_7c3dc_row10_col1\" class=\"data row10 col1\" >3.6483</td>\n",
       "      <td id=\"T_7c3dc_row10_col2\" class=\"data row10 col2\" >1.9100</td>\n",
       "      <td id=\"T_7c3dc_row10_col3\" class=\"data row10 col3\" >0.8913</td>\n",
       "      <td id=\"T_7c3dc_row10_col4\" class=\"data row10 col4\" >0.0248</td>\n",
       "      <td id=\"T_7c3dc_row10_col5\" class=\"data row10 col5\" >0.0205</td>\n",
       "    </tr>\n",
       "    <tr>\n",
       "      <th id=\"T_7c3dc_level0_row11\" class=\"row_heading level0 row11\" >11</th>\n",
       "      <td id=\"T_7c3dc_row11_col0\" class=\"data row11 col0\" >1.9666</td>\n",
       "      <td id=\"T_7c3dc_row11_col1\" class=\"data row11 col1\" >8.0353</td>\n",
       "      <td id=\"T_7c3dc_row11_col2\" class=\"data row11 col2\" >2.8347</td>\n",
       "      <td id=\"T_7c3dc_row11_col3\" class=\"data row11 col3\" >0.8651</td>\n",
       "      <td id=\"T_7c3dc_row11_col4\" class=\"data row11 col4\" >0.0369</td>\n",
       "      <td id=\"T_7c3dc_row11_col5\" class=\"data row11 col5\" >0.0257</td>\n",
       "    </tr>\n",
       "    <tr>\n",
       "      <th id=\"T_7c3dc_level0_row12\" class=\"row_heading level0 row12\" >Mean</th>\n",
       "      <td id=\"T_7c3dc_row12_col0\" class=\"data row12 col0\" >1.7562</td>\n",
       "      <td id=\"T_7c3dc_row12_col1\" class=\"data row12 col1\" >5.4522</td>\n",
       "      <td id=\"T_7c3dc_row12_col2\" class=\"data row12 col2\" >2.2939</td>\n",
       "      <td id=\"T_7c3dc_row12_col3\" class=\"data row12 col3\" >0.8954</td>\n",
       "      <td id=\"T_7c3dc_row12_col4\" class=\"data row12 col4\" >0.0300</td>\n",
       "      <td id=\"T_7c3dc_row12_col5\" class=\"data row12 col5\" >0.0232</td>\n",
       "    </tr>\n",
       "    <tr>\n",
       "      <th id=\"T_7c3dc_level0_row13\" class=\"row_heading level0 row13\" >Std</th>\n",
       "      <td id=\"T_7c3dc_row13_col0\" class=\"data row13 col0\" >0.3008</td>\n",
       "      <td id=\"T_7c3dc_row13_col1\" class=\"data row13 col1\" >2.0031</td>\n",
       "      <td id=\"T_7c3dc_row13_col2\" class=\"data row13 col2\" >0.4363</td>\n",
       "      <td id=\"T_7c3dc_row13_col3\" class=\"data row13 col3\" >0.0433</td>\n",
       "      <td id=\"T_7c3dc_row13_col4\" class=\"data row13 col4\" >0.0055</td>\n",
       "      <td id=\"T_7c3dc_row13_col5\" class=\"data row13 col5\" >0.0038</td>\n",
       "    </tr>\n",
       "  </tbody>\n",
       "</table>\n"
      ],
      "text/plain": [
       "<pandas.io.formats.style.Styler at 0x1f73e8f3190>"
      ]
     },
     "metadata": {},
     "output_type": "display_data"
    },
    {
     "data": {
      "text/html": [],
      "text/plain": [
       "<IPython.core.display.HTML object>"
      ]
     },
     "metadata": {},
     "output_type": "display_data"
    }
   ],
   "source": [
    "# model_1 = exp1.create_model('rf')\n",
    "model_1 = exp1.create_model('rf')\n",
    "model_2 = exp1.create_model('ridge')\n",
    "model_3 = exp1.create_model('br')"
   ]
  },
  {
   "cell_type": "code",
   "execution_count": 38,
   "metadata": {},
   "outputs": [],
   "source": [
    "# exp1.evaluate_model(model_1)"
   ]
  },
  {
   "cell_type": "code",
   "execution_count": 39,
   "metadata": {},
   "outputs": [
    {
     "data": {
      "text/html": [
       "<style type=\"text/css\">\n",
       "</style>\n",
       "<table id=\"T_afa61\">\n",
       "  <thead>\n",
       "    <tr>\n",
       "      <th class=\"blank level0\" >&nbsp;</th>\n",
       "      <th id=\"T_afa61_level0_col0\" class=\"col_heading level0 col0\" >Model</th>\n",
       "      <th id=\"T_afa61_level0_col1\" class=\"col_heading level0 col1\" >MAE</th>\n",
       "      <th id=\"T_afa61_level0_col2\" class=\"col_heading level0 col2\" >MSE</th>\n",
       "      <th id=\"T_afa61_level0_col3\" class=\"col_heading level0 col3\" >RMSE</th>\n",
       "      <th id=\"T_afa61_level0_col4\" class=\"col_heading level0 col4\" >R2</th>\n",
       "      <th id=\"T_afa61_level0_col5\" class=\"col_heading level0 col5\" >RMSLE</th>\n",
       "      <th id=\"T_afa61_level0_col6\" class=\"col_heading level0 col6\" >MAPE</th>\n",
       "    </tr>\n",
       "  </thead>\n",
       "  <tbody>\n",
       "    <tr>\n",
       "      <th id=\"T_afa61_level0_row0\" class=\"row_heading level0 row0\" >0</th>\n",
       "      <td id=\"T_afa61_row0_col0\" class=\"data row0 col0\" >Ridge Regression</td>\n",
       "      <td id=\"T_afa61_row0_col1\" class=\"data row0 col1\" >2.9298</td>\n",
       "      <td id=\"T_afa61_row0_col2\" class=\"data row0 col2\" >15.7690</td>\n",
       "      <td id=\"T_afa61_row0_col3\" class=\"data row0 col3\" >3.9710</td>\n",
       "      <td id=\"T_afa61_row0_col4\" class=\"data row0 col4\" >0.2418</td>\n",
       "      <td id=\"T_afa61_row0_col5\" class=\"data row0 col5\" >0.0512</td>\n",
       "      <td id=\"T_afa61_row0_col6\" class=\"data row0 col6\" >0.0390</td>\n",
       "    </tr>\n",
       "  </tbody>\n",
       "</table>\n"
      ],
      "text/plain": [
       "<pandas.io.formats.style.Styler at 0x1f73e6d7ed0>"
      ]
     },
     "metadata": {},
     "output_type": "display_data"
    }
   ],
   "source": [
    "predictions = exp1.predict_model(model_2, data=test_data)\n",
    "predict_v = predictions['prediction_label']\n",
    "real = test_data['humidity']"
   ]
  },
  {
   "cell_type": "code",
   "execution_count": 40,
   "metadata": {},
   "outputs": [],
   "source": [
    "# exp1.plot_model(model_2, 'learning')"
   ]
  },
  {
   "cell_type": "markdown",
   "metadata": {},
   "source": [
    "# ทำนาย 1 วันข้างหน้า ต้องทำนายเผื่อ 2 วัน"
   ]
  },
  {
   "cell_type": "code",
   "execution_count": 50,
   "metadata": {},
   "outputs": [
    {
     "data": {
      "image/png": "[encoded data removed]",
      "text/plain": [
       "<Figure size 1000x600 with 1 Axes>"
      ]
     },
     "metadata": {},
     "output_type": "display_data"
    }
   ],
   "source": [
    "import pandas as pd\n",
    "import matplotlib.pyplot as plt\n",
    "\n",
    "# สมมุติว่า result คือ DataFrame ที่รวม predictions กับ pm_10\n",
    "result = pd.concat([predict_v.shift(-1), test_data['humidity']], axis=1)\n",
    "result.columns = ['Predictions', 'Actual HUMI']  # ตั้งชื่อคอลัมน์\n",
    "\n",
    "# พล็อตข้อมูล\n",
    "result.plot(figsize=(10, 6))\n",
    "\n",
    "# ตั้งชื่อกราฟ\n",
    "plt.title('Predictions vs Actual HUMI')\n",
    "plt.xlabel('Index')\n",
    "plt.ylabel('HUMI Values')\n",
    "\n",
    "# แสดงกราฟ\n",
    "plt.show()"
   ]
  },
  {
   "cell_type": "code",
   "execution_count": 42,
   "metadata": {},
   "outputs": [
    {
     "name": "stdout",
     "output_type": "stream",
     "text": [
      "R² Score: 0.8161\n",
      "Mean Absolute Error (MAE): 1.4353\n",
      "Root Mean Squared Error (RMSE): 1.9812\n",
      "Accuracy: 98.06%\n"
     ]
    }
   ],
   "source": [
    "from pycaret.regression import *\n",
    "from sklearn.metrics import r2_score, mean_absolute_error, mean_squared_error\n",
    "import numpy as np\n",
    "\n",
    "y_true = test_data[\"humidity\"][:\"2025-2-10\"]\n",
    "y_pred = predict_v.shift(-1).dropna(axis=0)\n",
    "\n",
    "# Calculate Regression Metrics\n",
    "r2 = r2_score(y_true, y_pred)\n",
    "mae = mean_absolute_error(y_true, y_pred)\n",
    "rmse = np.sqrt(mean_squared_error(y_true, y_pred))\n",
    "\n",
    "# Calculate Accuracy as (1 - (MAE / mean_actual)) * 100\n",
    "mean_actual = np.mean(y_true)  # Mean of actual values\n",
    "accuracy = (1 - (mae / mean_actual)) * 100  # Accuracy in percentage\n",
    "\n",
    "# Print Results\n",
    "print(f\"R² Score: {r2:.4f}\")  # Closer to 1 is better\n",
    "print(f\"Mean Absolute Error (MAE): {mae:.4f}\")  # Lower is better\n",
    "print(f\"Root Mean Squared Error (RMSE): {rmse:.4f}\")  # Lower is better\n",
    "print(f\"Accuracy: {accuracy:.2f}%\")  # Accuracy percentage"
   ]
  },
  {
   "cell_type": "code",
   "execution_count": 43,
   "metadata": {},
   "outputs": [
    {
     "name": "stdout",
     "output_type": "stream",
     "text": [
      "R² Score: 0.8161\n",
      "Mean Absolute Error (MAE): 1.4353\n",
      "Root Mean Squared Error (RMSE): 1.9812\n",
      "Mean Absolute Percentage Error (MAPE): 1.92%\n",
      "Accuracy: 98.08%\n"
     ]
    }
   ],
   "source": [
    "from pycaret.regression import *\n",
    "from sklearn.metrics import r2_score, mean_absolute_error, mean_squared_error\n",
    "import numpy as np\n",
    "\n",
    "# Extract actual values and predicted values\n",
    "y_true = test_data[\"humidity\"][:\"2025-2-10\"]\n",
    "y_pred = predict_v.shift(-1).dropna(axis=0)\n",
    "\n",
    "# Calculate Regression Metrics\n",
    "r2 = r2_score(y_true, y_pred)\n",
    "mae = mean_absolute_error(y_true, y_pred)\n",
    "rmse = np.sqrt(mean_squared_error(y_true, y_pred))\n",
    "\n",
    "# Calculate MAPE and Accuracy\n",
    "mape = np.mean(np.abs((y_true - y_pred) / y_true)) * 100  # Mean Absolute Percentage Error\n",
    "accuracy = 100 - mape  # Convert to Accuracy %\n",
    "\n",
    "# Print Results\n",
    "print(f\"R² Score: {r2:.4f}\")\n",
    "print(f\"Mean Absolute Error (MAE): {mae:.4f}\")\n",
    "print(f\"Root Mean Squared Error (RMSE): {rmse:.4f}\")\n",
    "print(f\"Mean Absolute Percentage Error (MAPE): {mape:.2f}%\")\n",
    "print(f\"Accuracy: {accuracy:.2f}%\")"
   ]
  },
  {
   "cell_type": "markdown",
   "metadata": {},
   "source": [
    "# Predict 1 by 1"
   ]
  },
  {
   "cell_type": "markdown",
   "metadata": {},
   "source": [
    "30 วัน  \n",
    "2025-01-13 07:00:00  \n",
    "2025-02-11 07:00:00  \n",
    "7 วัน  \n",
    "2025-02-05  \n",
    "2025-02-11  \n",
    "24 วัน  \n",
    "2025-01-19 07:00:00  \n",
    "31 วัน\n",
    "2025-01-12 07:00:00"
   ]
  },
  {
   "cell_type": "code",
   "execution_count": 44,
   "metadata": {},
   "outputs": [
    {
     "data": {
      "text/html": [],
      "text/plain": [
       "<IPython.core.display.HTML object>"
      ]
     },
     "metadata": {},
     "output_type": "display_data"
    },
    {
     "data": {
      "text/html": [],
      "text/plain": [
       "<IPython.core.display.HTML object>"
      ]
     },
     "metadata": {},
     "output_type": "display_data"
    },
    {
     "data": {
      "text/html": [],
      "text/plain": [
       "<IPython.core.display.HTML object>"
      ]
     },
     "metadata": {},
     "output_type": "display_data"
    },
    {
     "data": {
      "text/html": [],
      "text/plain": [
       "<IPython.core.display.HTML object>"
      ]
     },
     "metadata": {},
     "output_type": "display_data"
    },
    {
     "data": {
      "text/html": [],
      "text/plain": [
       "<IPython.core.display.HTML object>"
      ]
     },
     "metadata": {},
     "output_type": "display_data"
    },
    {
     "data": {
      "text/html": [],
      "text/plain": [
       "<IPython.core.display.HTML object>"
      ]
     },
     "metadata": {},
     "output_type": "display_data"
    },
    {
     "data": {
      "text/html": [],
      "text/plain": [
       "<IPython.core.display.HTML object>"
      ]
     },
     "metadata": {},
     "output_type": "display_data"
    },
    {
     "data": {
      "text/html": [],
      "text/plain": [
       "<IPython.core.display.HTML object>"
      ]
     },
     "metadata": {},
     "output_type": "display_data"
    },
    {
     "data": {
      "text/html": [],
      "text/plain": [
       "<IPython.core.display.HTML object>"
      ]
     },
     "metadata": {},
     "output_type": "display_data"
    },
    {
     "data": {
      "text/html": [],
      "text/plain": [
       "<IPython.core.display.HTML object>"
      ]
     },
     "metadata": {},
     "output_type": "display_data"
    },
    {
     "data": {
      "text/html": [],
      "text/plain": [
       "<IPython.core.display.HTML object>"
      ]
     },
     "metadata": {},
     "output_type": "display_data"
    },
    {
     "data": {
      "text/html": [],
      "text/plain": [
       "<IPython.core.display.HTML object>"
      ]
     },
     "metadata": {},
     "output_type": "display_data"
    },
    {
     "data": {
      "text/html": [],
      "text/plain": [
       "<IPython.core.display.HTML object>"
      ]
     },
     "metadata": {},
     "output_type": "display_data"
    },
    {
     "data": {
      "text/html": [],
      "text/plain": [
       "<IPython.core.display.HTML object>"
      ]
     },
     "metadata": {},
     "output_type": "display_data"
    },
    {
     "data": {
      "text/html": [],
      "text/plain": [
       "<IPython.core.display.HTML object>"
      ]
     },
     "metadata": {},
     "output_type": "display_data"
    },
    {
     "data": {
      "text/html": [],
      "text/plain": [
       "<IPython.core.display.HTML object>"
      ]
     },
     "metadata": {},
     "output_type": "display_data"
    },
    {
     "data": {
      "text/html": [],
      "text/plain": [
       "<IPython.core.display.HTML object>"
      ]
     },
     "metadata": {},
     "output_type": "display_data"
    },
    {
     "data": {
      "text/html": [],
      "text/plain": [
       "<IPython.core.display.HTML object>"
      ]
     },
     "metadata": {},
     "output_type": "display_data"
    },
    {
     "data": {
      "text/html": [],
      "text/plain": [
       "<IPython.core.display.HTML object>"
      ]
     },
     "metadata": {},
     "output_type": "display_data"
    },
    {
     "data": {
      "text/html": [],
      "text/plain": [
       "<IPython.core.display.HTML object>"
      ]
     },
     "metadata": {},
     "output_type": "display_data"
    },
    {
     "data": {
      "text/html": [],
      "text/plain": [
       "<IPython.core.display.HTML object>"
      ]
     },
     "metadata": {},
     "output_type": "display_data"
    },
    {
     "data": {
      "text/html": [],
      "text/plain": [
       "<IPython.core.display.HTML object>"
      ]
     },
     "metadata": {},
     "output_type": "display_data"
    },
    {
     "data": {
      "text/html": [],
      "text/plain": [
       "<IPython.core.display.HTML object>"
      ]
     },
     "metadata": {},
     "output_type": "display_data"
    },
    {
     "data": {
      "text/html": [],
      "text/plain": [
       "<IPython.core.display.HTML object>"
      ]
     },
     "metadata": {},
     "output_type": "display_data"
    },
    {
     "data": {
      "text/html": [],
      "text/plain": [
       "<IPython.core.display.HTML object>"
      ]
     },
     "metadata": {},
     "output_type": "display_data"
    },
    {
     "data": {
      "text/html": [],
      "text/plain": [
       "<IPython.core.display.HTML object>"
      ]
     },
     "metadata": {},
     "output_type": "display_data"
    },
    {
     "data": {
      "text/html": [],
      "text/plain": [
       "<IPython.core.display.HTML object>"
      ]
     },
     "metadata": {},
     "output_type": "display_data"
    },
    {
     "data": {
      "text/html": [],
      "text/plain": [
       "<IPython.core.display.HTML object>"
      ]
     },
     "metadata": {},
     "output_type": "display_data"
    },
    {
     "data": {
      "text/html": [],
      "text/plain": [
       "<IPython.core.display.HTML object>"
      ]
     },
     "metadata": {},
     "output_type": "display_data"
    },
    {
     "data": {
      "text/html": [],
      "text/plain": [
       "<IPython.core.display.HTML object>"
      ]
     },
     "metadata": {},
     "output_type": "display_data"
    }
   ],
   "source": [
    "data_compare = data_filtered.loc[:'2025-01-12']\n",
    "result = pd.DataFrame()\n",
    "\n",
    "start_date = \"2025-01-13\"\n",
    "end_date = \"2025-02-11\"\n",
    "\n",
    "model = model_3\n",
    "\n",
    "for date in pd.date_range(start=start_date, end=end_date, freq=\"D\"):\n",
    "    # Drop columns\n",
    "    test_1 = data_filtered\n",
    "    # ดึงวันนี้มา\n",
    "    test_1 = test_1.loc[str(date.date())]\n",
    "\n",
    "    # ใส่เข้าไป\n",
    "    data_compare = pd.concat([data_compare, test_1], axis=0)\n",
    "\n",
    "    # เพิ่มฟีเจอร์ rolling average (ค่าเฉลี่ยเคลื่อนที่)\n",
    "\n",
    "    # data_compare['pm_2_5_rolling_7'] = data_compare['pm_2_5'].rolling(window=7).mean().shift(1)  # ค่าเฉลี่ย 5 วันของ PM 10\n",
    "\n",
    "    for i in range(1,lag_size+1):\n",
    "        data_compare[f'humidity_lag_{i}'] = data_compare['humidity'].shift(i)\n",
    "\n",
    "    # ดึง\n",
    "    test_1 = (data_compare.loc[str(date.date())]).drop(columns=['humidity'])\n",
    "    \n",
    "    # Drop ทิ้งล่าสุดใน data_compare\n",
    "    data_compare = data_compare.drop(data_compare.last_valid_index())\n",
    "    test_1 = test_1[~test_1.index.duplicated(keep='last')]\n",
    "\n",
    "    # Predict\n",
    "    predict_test_1 = exp1.predict_model(model, data=test_1)\n",
    "\n",
    "    # เพิ่มผลทำนายเข้าไปใน data_compare\n",
    "    data_compare = pd.concat([data_compare, predict_test_1], axis=0)\n",
    "\n",
    "    # แทนที่ค่าในคอลัมน์ 'pm_2_5' ในวันที่ '2025-01-13' ด้วยค่าในคอลัมน์ 'prediction_label'\n",
    "    data_compare.loc[str(date.date()), 'humidity'] = data_compare.loc[str(date.date()), 'prediction_label']\n",
    "\n",
    "    # ลบคอลัมน์ 'prediction_label' (หากต้องการแค่ผลทำนาย)\n",
    "    data_compare = data_compare.drop(columns=['prediction_label'])\n",
    "\n",
    "    # กรองเอาวันที่ซ้ำกัน (index ซ้ำ) ออกให้เหลือแค่ตัวเดียว\n",
    "    data_compare = data_compare[~data_compare.index.duplicated(keep='last')]\n",
    "\n",
    "    # บันทึกลง result\n",
    "    result = pd.concat([result, predict_test_1], axis=0)"
   ]
  },
  {
   "cell_type": "code",
   "execution_count": 45,
   "metadata": {},
   "outputs": [
    {
     "data": {
      "image/png": "[encoded data removed]",
      "text/plain": [
       "<Figure size 1000x600 with 1 Axes>"
      ]
     },
     "metadata": {},
     "output_type": "display_data"
    }
   ],
   "source": [
    "import pandas as pd\n",
    "import matplotlib.pyplot as plt\n",
    "\n",
    "real_data = data_filtered.loc[start_date:end_date]\n",
    "# สมมุติว่า result คือ DataFrame ที่รวม predictions กับ pm_10\n",
    "result_plot = pd.concat([result['prediction_label'].shift(-1), real_data['humidity']], axis=1)\n",
    "result_plot.columns = ['Predictions', 'Actual HUMI']  # ตั้งชื่อคอลัมน์\n",
    "\n",
    "# พล็อตข้อมูล\n",
    "result_plot.plot(figsize=(10, 6))\n",
    "\n",
    "# ตั้งชื่อกราฟ\n",
    "plt.title('Predictions vs Actual HUMI')\n",
    "plt.xlabel('Index')\n",
    "plt.ylabel('HUMI Values')\n",
    "\n",
    "# แสดงกราฟ\n",
    "plt.show()"
   ]
  },
  {
   "cell_type": "code",
   "execution_count": 46,
   "metadata": {},
   "outputs": [],
   "source": [
    "y_true = test_data[\"humidity\"][:\"2025-2-10\"]\n",
    "y_pred = result['prediction_label'].shift(-1).dropna(axis=0)"
   ]
  },
  {
   "cell_type": "code",
   "execution_count": 47,
   "metadata": {},
   "outputs": [
    {
     "name": "stdout",
     "output_type": "stream",
     "text": [
      "R² Score: -0.0558\n",
      "Mean Absolute Error (MAE): 3.7147\n",
      "Root Mean Squared Error (RMSE): 4.7467\n",
      "Mean Absolute Percentage Error (MAPE): 4.94%\n",
      "Accuracy: 95.06%\n"
     ]
    }
   ],
   "source": [
    "# Calculate Regression Metrics\n",
    "r2 = r2_score(y_true, y_pred)\n",
    "mae = mean_absolute_error(y_true, y_pred)\n",
    "rmse = np.sqrt(mean_squared_error(y_true, y_pred))\n",
    "\n",
    "# Calculate MAPE and Accuracy\n",
    "mape = np.mean(np.abs((y_true - y_pred) / y_true)) * 100  # Mean Absolute Percentage Error\n",
    "accuracy = 100 - mape  # Convert to Accuracy %\n",
    "\n",
    "# Print Results\n",
    "print(f\"R² Score: {r2:.4f}\")\n",
    "print(f\"Mean Absolute Error (MAE): {mae:.4f}\")\n",
    "print(f\"Root Mean Squared Error (RMSE): {rmse:.4f}\")\n",
    "print(f\"Mean Absolute Percentage Error (MAPE): {mape:.2f}%\")\n",
    "print(f\"Accuracy: {accuracy:.2f}%\")"
   ]
  },
  {
   "cell_type": "code",
   "execution_count": 48,
   "metadata": {},
   "outputs": [
    {
     "name": "stdout",
     "output_type": "stream",
     "text": [
      "Transformation Pipeline and Model Successfully Saved\n"
     ]
    },
    {
     "data": {
      "text/plain": [
       "(Pipeline(memory=Memory(location=None),\n",
       "          steps=[('date_feature_extractor',\n",
       "                  TransformerWrapper(include=['date'],\n",
       "                                     transformer=ExtractDateTimeFeatures())),\n",
       "                 ('numerical_imputer',\n",
       "                  TransformerWrapper(include=['temperature', 'year', 'month',\n",
       "                                              'day', 'day_of_week',\n",
       "                                              'week_of_year', 'season',\n",
       "                                              'is_weekend', 'day_of_year',\n",
       "                                              'humidity_lag_1', 'humidity_lag_2',\n",
       "                                              'humidity_lag_3', 'hu...\n",
       "                                              'temperature_lag_3',\n",
       "                                              'temperature_lag_4',\n",
       "                                              'temperature_lag_5',\n",
       "                                              'temperature_lag_6',\n",
       "                                              'temperature_lag_7'],\n",
       "                                     transformer=SimpleImputer())),\n",
       "                 ('categorical_imputer',\n",
       "                  TransformerWrapper(include=[],\n",
       "                                     transformer=SimpleImputer(strategy='most_frequent'))),\n",
       "                 ('remove_outliers',\n",
       "                  TransformerWrapper(transformer=RemoveOutliers(random_state=123))),\n",
       "                 ('trained_model', BayesianRidge())]),\n",
       " 'br_humi_u_temp_model_jsps01.pkl')"
      ]
     },
     "execution_count": 48,
     "metadata": {},
     "output_type": "execute_result"
    }
   ],
   "source": [
    "exp1.save_model(model_3, \"br_humi_u_temp_model_jsps01\")"
   ]
  },
  {
   "cell_type": "code",
   "execution_count": 49,
   "metadata": {},
   "outputs": [
    {
     "name": "stdout",
     "output_type": "stream",
     "text": [
      "Processing model: BayesianRidge\n"
     ]
    },
    {
     "data": {
      "text/html": [
       "<style type=\"text/css\">\n",
       "</style>\n",
       "<table id=\"T_e5b02\">\n",
       "  <thead>\n",
       "    <tr>\n",
       "      <th class=\"blank level0\" >&nbsp;</th>\n",
       "      <th id=\"T_e5b02_level0_col0\" class=\"col_heading level0 col0\" >Model</th>\n",
       "      <th id=\"T_e5b02_level0_col1\" class=\"col_heading level0 col1\" >MAE</th>\n",
       "      <th id=\"T_e5b02_level0_col2\" class=\"col_heading level0 col2\" >MSE</th>\n",
       "      <th id=\"T_e5b02_level0_col3\" class=\"col_heading level0 col3\" >RMSE</th>\n",
       "      <th id=\"T_e5b02_level0_col4\" class=\"col_heading level0 col4\" >R2</th>\n",
       "      <th id=\"T_e5b02_level0_col5\" class=\"col_heading level0 col5\" >RMSLE</th>\n",
       "      <th id=\"T_e5b02_level0_col6\" class=\"col_heading level0 col6\" >MAPE</th>\n",
       "    </tr>\n",
       "  </thead>\n",
       "  <tbody>\n",
       "    <tr>\n",
       "      <th id=\"T_e5b02_level0_row0\" class=\"row_heading level0 row0\" >0</th>\n",
       "      <td id=\"T_e5b02_row0_col0\" class=\"data row0 col0\" >Bayesian Ridge</td>\n",
       "      <td id=\"T_e5b02_row0_col1\" class=\"data row0 col1\" >1.6580</td>\n",
       "      <td id=\"T_e5b02_row0_col2\" class=\"data row0 col2\" >2.7491</td>\n",
       "      <td id=\"T_e5b02_row0_col3\" class=\"data row0 col3\" >1.6580</td>\n",
       "      <td id=\"T_e5b02_row0_col4\" class=\"data row0 col4\" >nan</td>\n",
       "      <td id=\"T_e5b02_row0_col5\" class=\"data row0 col5\" >0.0218</td>\n",
       "      <td id=\"T_e5b02_row0_col6\" class=\"data row0 col6\" >0.0219</td>\n",
       "    </tr>\n",
       "  </tbody>\n",
       "</table>\n"
      ],
      "text/plain": [
       "<pandas.io.formats.style.Styler at 0x1f73e78ad10>"
      ]
     },
     "metadata": {},
     "output_type": "display_data"
    },
    {
     "data": {
      "text/html": [
       "<style type=\"text/css\">\n",
       "</style>\n",
       "<table id=\"T_7d9af\">\n",
       "  <thead>\n",
       "    <tr>\n",
       "      <th class=\"blank level0\" >&nbsp;</th>\n",
       "      <th id=\"T_7d9af_level0_col0\" class=\"col_heading level0 col0\" >Model</th>\n",
       "      <th id=\"T_7d9af_level0_col1\" class=\"col_heading level0 col1\" >MAE</th>\n",
       "      <th id=\"T_7d9af_level0_col2\" class=\"col_heading level0 col2\" >MSE</th>\n",
       "      <th id=\"T_7d9af_level0_col3\" class=\"col_heading level0 col3\" >RMSE</th>\n",
       "      <th id=\"T_7d9af_level0_col4\" class=\"col_heading level0 col4\" >R2</th>\n",
       "      <th id=\"T_7d9af_level0_col5\" class=\"col_heading level0 col5\" >RMSLE</th>\n",
       "      <th id=\"T_7d9af_level0_col6\" class=\"col_heading level0 col6\" >MAPE</th>\n",
       "    </tr>\n",
       "  </thead>\n",
       "  <tbody>\n",
       "    <tr>\n",
       "      <th id=\"T_7d9af_level0_row0\" class=\"row_heading level0 row0\" >0</th>\n",
       "      <td id=\"T_7d9af_row0_col0\" class=\"data row0 col0\" >Bayesian Ridge</td>\n",
       "      <td id=\"T_7d9af_row0_col1\" class=\"data row0 col1\" >3.5774</td>\n",
       "      <td id=\"T_7d9af_row0_col2\" class=\"data row0 col2\" >12.7975</td>\n",
       "      <td id=\"T_7d9af_row0_col3\" class=\"data row0 col3\" >3.5774</td>\n",
       "      <td id=\"T_7d9af_row0_col4\" class=\"data row0 col4\" >nan</td>\n",
       "      <td id=\"T_7d9af_row0_col5\" class=\"data row0 col5\" >0.0493</td>\n",
       "      <td id=\"T_7d9af_row0_col6\" class=\"data row0 col6\" >0.0512</td>\n",
       "    </tr>\n",
       "  </tbody>\n",
       "</table>\n"
      ],
      "text/plain": [
       "<pandas.io.formats.style.Styler at 0x1f73c3c99d0>"
      ]
     },
     "metadata": {},
     "output_type": "display_data"
    },
    {
     "data": {
      "text/html": [
       "<style type=\"text/css\">\n",
       "</style>\n",
       "<table id=\"T_fc4fa\">\n",
       "  <thead>\n",
       "    <tr>\n",
       "      <th class=\"blank level0\" >&nbsp;</th>\n",
       "      <th id=\"T_fc4fa_level0_col0\" class=\"col_heading level0 col0\" >Model</th>\n",
       "      <th id=\"T_fc4fa_level0_col1\" class=\"col_heading level0 col1\" >MAE</th>\n",
       "      <th id=\"T_fc4fa_level0_col2\" class=\"col_heading level0 col2\" >MSE</th>\n",
       "      <th id=\"T_fc4fa_level0_col3\" class=\"col_heading level0 col3\" >RMSE</th>\n",
       "      <th id=\"T_fc4fa_level0_col4\" class=\"col_heading level0 col4\" >R2</th>\n",
       "      <th id=\"T_fc4fa_level0_col5\" class=\"col_heading level0 col5\" >RMSLE</th>\n",
       "      <th id=\"T_fc4fa_level0_col6\" class=\"col_heading level0 col6\" >MAPE</th>\n",
       "    </tr>\n",
       "  </thead>\n",
       "  <tbody>\n",
       "    <tr>\n",
       "      <th id=\"T_fc4fa_level0_row0\" class=\"row_heading level0 row0\" >0</th>\n",
       "      <td id=\"T_fc4fa_row0_col0\" class=\"data row0 col0\" >Bayesian Ridge</td>\n",
       "      <td id=\"T_fc4fa_row0_col1\" class=\"data row0 col1\" >0.0844</td>\n",
       "      <td id=\"T_fc4fa_row0_col2\" class=\"data row0 col2\" >0.0071</td>\n",
       "      <td id=\"T_fc4fa_row0_col3\" class=\"data row0 col3\" >0.0844</td>\n",
       "      <td id=\"T_fc4fa_row0_col4\" class=\"data row0 col4\" >nan</td>\n",
       "      <td id=\"T_fc4fa_row0_col5\" class=\"data row0 col5\" >0.0011</td>\n",
       "      <td id=\"T_fc4fa_row0_col6\" class=\"data row0 col6\" >0.0011</td>\n",
       "    </tr>\n",
       "  </tbody>\n",
       "</table>\n"
      ],
      "text/plain": [
       "<pandas.io.formats.style.Styler at 0x1f73e6cad10>"
      ]
     },
     "metadata": {},
     "output_type": "display_data"
    },
    {
     "data": {
      "text/html": [
       "<style type=\"text/css\">\n",
       "</style>\n",
       "<table id=\"T_7699f\">\n",
       "  <thead>\n",
       "    <tr>\n",
       "      <th class=\"blank level0\" >&nbsp;</th>\n",
       "      <th id=\"T_7699f_level0_col0\" class=\"col_heading level0 col0\" >Model</th>\n",
       "      <th id=\"T_7699f_level0_col1\" class=\"col_heading level0 col1\" >MAE</th>\n",
       "      <th id=\"T_7699f_level0_col2\" class=\"col_heading level0 col2\" >MSE</th>\n",
       "      <th id=\"T_7699f_level0_col3\" class=\"col_heading level0 col3\" >RMSE</th>\n",
       "      <th id=\"T_7699f_level0_col4\" class=\"col_heading level0 col4\" >R2</th>\n",
       "      <th id=\"T_7699f_level0_col5\" class=\"col_heading level0 col5\" >RMSLE</th>\n",
       "      <th id=\"T_7699f_level0_col6\" class=\"col_heading level0 col6\" >MAPE</th>\n",
       "    </tr>\n",
       "  </thead>\n",
       "  <tbody>\n",
       "    <tr>\n",
       "      <th id=\"T_7699f_level0_row0\" class=\"row_heading level0 row0\" >0</th>\n",
       "      <td id=\"T_7699f_row0_col0\" class=\"data row0 col0\" >Bayesian Ridge</td>\n",
       "      <td id=\"T_7699f_row0_col1\" class=\"data row0 col1\" >1.5833</td>\n",
       "      <td id=\"T_7699f_row0_col2\" class=\"data row0 col2\" >2.5070</td>\n",
       "      <td id=\"T_7699f_row0_col3\" class=\"data row0 col3\" >1.5833</td>\n",
       "      <td id=\"T_7699f_row0_col4\" class=\"data row0 col4\" >nan</td>\n",
       "      <td id=\"T_7699f_row0_col5\" class=\"data row0 col5\" >0.0209</td>\n",
       "      <td id=\"T_7699f_row0_col6\" class=\"data row0 col6\" >0.0210</td>\n",
       "    </tr>\n",
       "  </tbody>\n",
       "</table>\n"
      ],
      "text/plain": [
       "<pandas.io.formats.style.Styler at 0x1f73ed72ad0>"
      ]
     },
     "metadata": {},
     "output_type": "display_data"
    },
    {
     "data": {
      "text/html": [
       "<style type=\"text/css\">\n",
       "</style>\n",
       "<table id=\"T_f0aeb\">\n",
       "  <thead>\n",
       "    <tr>\n",
       "      <th class=\"blank level0\" >&nbsp;</th>\n",
       "      <th id=\"T_f0aeb_level0_col0\" class=\"col_heading level0 col0\" >Model</th>\n",
       "      <th id=\"T_f0aeb_level0_col1\" class=\"col_heading level0 col1\" >MAE</th>\n",
       "      <th id=\"T_f0aeb_level0_col2\" class=\"col_heading level0 col2\" >MSE</th>\n",
       "      <th id=\"T_f0aeb_level0_col3\" class=\"col_heading level0 col3\" >RMSE</th>\n",
       "      <th id=\"T_f0aeb_level0_col4\" class=\"col_heading level0 col4\" >R2</th>\n",
       "      <th id=\"T_f0aeb_level0_col5\" class=\"col_heading level0 col5\" >RMSLE</th>\n",
       "      <th id=\"T_f0aeb_level0_col6\" class=\"col_heading level0 col6\" >MAPE</th>\n",
       "    </tr>\n",
       "  </thead>\n",
       "  <tbody>\n",
       "    <tr>\n",
       "      <th id=\"T_f0aeb_level0_row0\" class=\"row_heading level0 row0\" >0</th>\n",
       "      <td id=\"T_f0aeb_row0_col0\" class=\"data row0 col0\" >Bayesian Ridge</td>\n",
       "      <td id=\"T_f0aeb_row0_col1\" class=\"data row0 col1\" >13.9043</td>\n",
       "      <td id=\"T_f0aeb_row0_col2\" class=\"data row0 col2\" >193.3304</td>\n",
       "      <td id=\"T_f0aeb_row0_col3\" class=\"data row0 col3\" >13.9043</td>\n",
       "      <td id=\"T_f0aeb_row0_col4\" class=\"data row0 col4\" >nan</td>\n",
       "      <td id=\"T_f0aeb_row0_col5\" class=\"data row0 col5\" >0.1709</td>\n",
       "      <td id=\"T_f0aeb_row0_col6\" class=\"data row0 col6\" >0.1589</td>\n",
       "    </tr>\n",
       "  </tbody>\n",
       "</table>\n"
      ],
      "text/plain": [
       "<pandas.io.formats.style.Styler at 0x1f73ef01f90>"
      ]
     },
     "metadata": {},
     "output_type": "display_data"
    },
    {
     "data": {
      "text/html": [
       "<style type=\"text/css\">\n",
       "</style>\n",
       "<table id=\"T_2e505\">\n",
       "  <thead>\n",
       "    <tr>\n",
       "      <th class=\"blank level0\" >&nbsp;</th>\n",
       "      <th id=\"T_2e505_level0_col0\" class=\"col_heading level0 col0\" >Model</th>\n",
       "      <th id=\"T_2e505_level0_col1\" class=\"col_heading level0 col1\" >MAE</th>\n",
       "      <th id=\"T_2e505_level0_col2\" class=\"col_heading level0 col2\" >MSE</th>\n",
       "      <th id=\"T_2e505_level0_col3\" class=\"col_heading level0 col3\" >RMSE</th>\n",
       "      <th id=\"T_2e505_level0_col4\" class=\"col_heading level0 col4\" >R2</th>\n",
       "      <th id=\"T_2e505_level0_col5\" class=\"col_heading level0 col5\" >RMSLE</th>\n",
       "      <th id=\"T_2e505_level0_col6\" class=\"col_heading level0 col6\" >MAPE</th>\n",
       "    </tr>\n",
       "  </thead>\n",
       "  <tbody>\n",
       "    <tr>\n",
       "      <th id=\"T_2e505_level0_row0\" class=\"row_heading level0 row0\" >0</th>\n",
       "      <td id=\"T_2e505_row0_col0\" class=\"data row0 col0\" >Bayesian Ridge</td>\n",
       "      <td id=\"T_2e505_row0_col1\" class=\"data row0 col1\" >13.0305</td>\n",
       "      <td id=\"T_2e505_row0_col2\" class=\"data row0 col2\" >169.7945</td>\n",
       "      <td id=\"T_2e505_row0_col3\" class=\"data row0 col3\" >13.0305</td>\n",
       "      <td id=\"T_2e505_row0_col4\" class=\"data row0 col4\" >nan</td>\n",
       "      <td id=\"T_2e505_row0_col5\" class=\"data row0 col5\" >0.1628</td>\n",
       "      <td id=\"T_2e505_row0_col6\" class=\"data row0 col6\" >0.1520</td>\n",
       "    </tr>\n",
       "  </tbody>\n",
       "</table>\n"
      ],
      "text/plain": [
       "<pandas.io.formats.style.Styler at 0x1f73c5559d0>"
      ]
     },
     "metadata": {},
     "output_type": "display_data"
    },
    {
     "data": {
      "text/html": [
       "<style type=\"text/css\">\n",
       "</style>\n",
       "<table id=\"T_5e378\">\n",
       "  <thead>\n",
       "    <tr>\n",
       "      <th class=\"blank level0\" >&nbsp;</th>\n",
       "      <th id=\"T_5e378_level0_col0\" class=\"col_heading level0 col0\" >Model</th>\n",
       "      <th id=\"T_5e378_level0_col1\" class=\"col_heading level0 col1\" >MAE</th>\n",
       "      <th id=\"T_5e378_level0_col2\" class=\"col_heading level0 col2\" >MSE</th>\n",
       "      <th id=\"T_5e378_level0_col3\" class=\"col_heading level0 col3\" >RMSE</th>\n",
       "      <th id=\"T_5e378_level0_col4\" class=\"col_heading level0 col4\" >R2</th>\n",
       "      <th id=\"T_5e378_level0_col5\" class=\"col_heading level0 col5\" >RMSLE</th>\n",
       "      <th id=\"T_5e378_level0_col6\" class=\"col_heading level0 col6\" >MAPE</th>\n",
       "    </tr>\n",
       "  </thead>\n",
       "  <tbody>\n",
       "    <tr>\n",
       "      <th id=\"T_5e378_level0_row0\" class=\"row_heading level0 row0\" >0</th>\n",
       "      <td id=\"T_5e378_row0_col0\" class=\"data row0 col0\" >Bayesian Ridge</td>\n",
       "      <td id=\"T_5e378_row0_col1\" class=\"data row0 col1\" >2.8322</td>\n",
       "      <td id=\"T_5e378_row0_col2\" class=\"data row0 col2\" >8.0214</td>\n",
       "      <td id=\"T_5e378_row0_col3\" class=\"data row0 col3\" >2.8322</td>\n",
       "      <td id=\"T_5e378_row0_col4\" class=\"data row0 col4\" >nan</td>\n",
       "      <td id=\"T_5e378_row0_col5\" class=\"data row0 col5\" >0.0364</td>\n",
       "      <td id=\"T_5e378_row0_col6\" class=\"data row0 col6\" >0.0362</td>\n",
       "    </tr>\n",
       "  </tbody>\n",
       "</table>\n"
      ],
      "text/plain": [
       "<pandas.io.formats.style.Styler at 0x1f73e745dd0>"
      ]
     },
     "metadata": {},
     "output_type": "display_data"
    },
    {
     "data": {
      "text/html": [
       "<style type=\"text/css\">\n",
       "</style>\n",
       "<table id=\"T_216de\">\n",
       "  <thead>\n",
       "    <tr>\n",
       "      <th class=\"blank level0\" >&nbsp;</th>\n",
       "      <th id=\"T_216de_level0_col0\" class=\"col_heading level0 col0\" >Model</th>\n",
       "      <th id=\"T_216de_level0_col1\" class=\"col_heading level0 col1\" >MAE</th>\n",
       "      <th id=\"T_216de_level0_col2\" class=\"col_heading level0 col2\" >MSE</th>\n",
       "      <th id=\"T_216de_level0_col3\" class=\"col_heading level0 col3\" >RMSE</th>\n",
       "      <th id=\"T_216de_level0_col4\" class=\"col_heading level0 col4\" >R2</th>\n",
       "      <th id=\"T_216de_level0_col5\" class=\"col_heading level0 col5\" >RMSLE</th>\n",
       "      <th id=\"T_216de_level0_col6\" class=\"col_heading level0 col6\" >MAPE</th>\n",
       "    </tr>\n",
       "  </thead>\n",
       "  <tbody>\n",
       "    <tr>\n",
       "      <th id=\"T_216de_level0_row0\" class=\"row_heading level0 row0\" >0</th>\n",
       "      <td id=\"T_216de_row0_col0\" class=\"data row0 col0\" >Bayesian Ridge</td>\n",
       "      <td id=\"T_216de_row0_col1\" class=\"data row0 col1\" >2.7732</td>\n",
       "      <td id=\"T_216de_row0_col2\" class=\"data row0 col2\" >7.6907</td>\n",
       "      <td id=\"T_216de_row0_col3\" class=\"data row0 col3\" >2.7732</td>\n",
       "      <td id=\"T_216de_row0_col4\" class=\"data row0 col4\" >nan</td>\n",
       "      <td id=\"T_216de_row0_col5\" class=\"data row0 col5\" >0.0365</td>\n",
       "      <td id=\"T_216de_row0_col6\" class=\"data row0 col6\" >0.0363</td>\n",
       "    </tr>\n",
       "  </tbody>\n",
       "</table>\n"
      ],
      "text/plain": [
       "<pandas.io.formats.style.Styler at 0x1f73e8f5890>"
      ]
     },
     "metadata": {},
     "output_type": "display_data"
    },
    {
     "data": {
      "text/html": [
       "<style type=\"text/css\">\n",
       "</style>\n",
       "<table id=\"T_7b7dc\">\n",
       "  <thead>\n",
       "    <tr>\n",
       "      <th class=\"blank level0\" >&nbsp;</th>\n",
       "      <th id=\"T_7b7dc_level0_col0\" class=\"col_heading level0 col0\" >Model</th>\n",
       "      <th id=\"T_7b7dc_level0_col1\" class=\"col_heading level0 col1\" >MAE</th>\n",
       "      <th id=\"T_7b7dc_level0_col2\" class=\"col_heading level0 col2\" >MSE</th>\n",
       "      <th id=\"T_7b7dc_level0_col3\" class=\"col_heading level0 col3\" >RMSE</th>\n",
       "      <th id=\"T_7b7dc_level0_col4\" class=\"col_heading level0 col4\" >R2</th>\n",
       "      <th id=\"T_7b7dc_level0_col5\" class=\"col_heading level0 col5\" >RMSLE</th>\n",
       "      <th id=\"T_7b7dc_level0_col6\" class=\"col_heading level0 col6\" >MAPE</th>\n",
       "    </tr>\n",
       "  </thead>\n",
       "  <tbody>\n",
       "    <tr>\n",
       "      <th id=\"T_7b7dc_level0_row0\" class=\"row_heading level0 row0\" >0</th>\n",
       "      <td id=\"T_7b7dc_row0_col0\" class=\"data row0 col0\" >Bayesian Ridge</td>\n",
       "      <td id=\"T_7b7dc_row0_col1\" class=\"data row0 col1\" >4.3120</td>\n",
       "      <td id=\"T_7b7dc_row0_col2\" class=\"data row0 col2\" >18.5938</td>\n",
       "      <td id=\"T_7b7dc_row0_col3\" class=\"data row0 col3\" >4.3120</td>\n",
       "      <td id=\"T_7b7dc_row0_col4\" class=\"data row0 col4\" >nan</td>\n",
       "      <td id=\"T_7b7dc_row0_col5\" class=\"data row0 col5\" >0.0562</td>\n",
       "      <td id=\"T_7b7dc_row0_col6\" class=\"data row0 col6\" >0.0553</td>\n",
       "    </tr>\n",
       "  </tbody>\n",
       "</table>\n"
      ],
      "text/plain": [
       "<pandas.io.formats.style.Styler at 0x1f73c3fb690>"
      ]
     },
     "metadata": {},
     "output_type": "display_data"
    },
    {
     "data": {
      "text/html": [
       "<style type=\"text/css\">\n",
       "</style>\n",
       "<table id=\"T_e6203\">\n",
       "  <thead>\n",
       "    <tr>\n",
       "      <th class=\"blank level0\" >&nbsp;</th>\n",
       "      <th id=\"T_e6203_level0_col0\" class=\"col_heading level0 col0\" >Model</th>\n",
       "      <th id=\"T_e6203_level0_col1\" class=\"col_heading level0 col1\" >MAE</th>\n",
       "      <th id=\"T_e6203_level0_col2\" class=\"col_heading level0 col2\" >MSE</th>\n",
       "      <th id=\"T_e6203_level0_col3\" class=\"col_heading level0 col3\" >RMSE</th>\n",
       "      <th id=\"T_e6203_level0_col4\" class=\"col_heading level0 col4\" >R2</th>\n",
       "      <th id=\"T_e6203_level0_col5\" class=\"col_heading level0 col5\" >RMSLE</th>\n",
       "      <th id=\"T_e6203_level0_col6\" class=\"col_heading level0 col6\" >MAPE</th>\n",
       "    </tr>\n",
       "  </thead>\n",
       "  <tbody>\n",
       "    <tr>\n",
       "      <th id=\"T_e6203_level0_row0\" class=\"row_heading level0 row0\" >0</th>\n",
       "      <td id=\"T_e6203_row0_col0\" class=\"data row0 col0\" >Bayesian Ridge</td>\n",
       "      <td id=\"T_e6203_row0_col1\" class=\"data row0 col1\" >4.0079</td>\n",
       "      <td id=\"T_e6203_row0_col2\" class=\"data row0 col2\" >16.0630</td>\n",
       "      <td id=\"T_e6203_row0_col3\" class=\"data row0 col3\" >4.0079</td>\n",
       "      <td id=\"T_e6203_row0_col4\" class=\"data row0 col4\" >nan</td>\n",
       "      <td id=\"T_e6203_row0_col5\" class=\"data row0 col5\" >0.0522</td>\n",
       "      <td id=\"T_e6203_row0_col6\" class=\"data row0 col6\" >0.0515</td>\n",
       "    </tr>\n",
       "  </tbody>\n",
       "</table>\n"
      ],
      "text/plain": [
       "<pandas.io.formats.style.Styler at 0x1f73eebb6d0>"
      ]
     },
     "metadata": {},
     "output_type": "display_data"
    },
    {
     "data": {
      "text/html": [
       "<style type=\"text/css\">\n",
       "</style>\n",
       "<table id=\"T_dc554\">\n",
       "  <thead>\n",
       "    <tr>\n",
       "      <th class=\"blank level0\" >&nbsp;</th>\n",
       "      <th id=\"T_dc554_level0_col0\" class=\"col_heading level0 col0\" >Model</th>\n",
       "      <th id=\"T_dc554_level0_col1\" class=\"col_heading level0 col1\" >MAE</th>\n",
       "      <th id=\"T_dc554_level0_col2\" class=\"col_heading level0 col2\" >MSE</th>\n",
       "      <th id=\"T_dc554_level0_col3\" class=\"col_heading level0 col3\" >RMSE</th>\n",
       "      <th id=\"T_dc554_level0_col4\" class=\"col_heading level0 col4\" >R2</th>\n",
       "      <th id=\"T_dc554_level0_col5\" class=\"col_heading level0 col5\" >RMSLE</th>\n",
       "      <th id=\"T_dc554_level0_col6\" class=\"col_heading level0 col6\" >MAPE</th>\n",
       "    </tr>\n",
       "  </thead>\n",
       "  <tbody>\n",
       "    <tr>\n",
       "      <th id=\"T_dc554_level0_row0\" class=\"row_heading level0 row0\" >0</th>\n",
       "      <td id=\"T_dc554_row0_col0\" class=\"data row0 col0\" >Bayesian Ridge</td>\n",
       "      <td id=\"T_dc554_row0_col1\" class=\"data row0 col1\" >3.3497</td>\n",
       "      <td id=\"T_dc554_row0_col2\" class=\"data row0 col2\" >11.2203</td>\n",
       "      <td id=\"T_dc554_row0_col3\" class=\"data row0 col3\" >3.3497</td>\n",
       "      <td id=\"T_dc554_row0_col4\" class=\"data row0 col4\" >nan</td>\n",
       "      <td id=\"T_dc554_row0_col5\" class=\"data row0 col5\" >0.0448</td>\n",
       "      <td id=\"T_dc554_row0_col6\" class=\"data row0 col6\" >0.0465</td>\n",
       "    </tr>\n",
       "  </tbody>\n",
       "</table>\n"
      ],
      "text/plain": [
       "<pandas.io.formats.style.Styler at 0x1f73e66d390>"
      ]
     },
     "metadata": {},
     "output_type": "display_data"
    },
    {
     "data": {
      "text/html": [
       "<style type=\"text/css\">\n",
       "</style>\n",
       "<table id=\"T_12d3a\">\n",
       "  <thead>\n",
       "    <tr>\n",
       "      <th class=\"blank level0\" >&nbsp;</th>\n",
       "      <th id=\"T_12d3a_level0_col0\" class=\"col_heading level0 col0\" >Model</th>\n",
       "      <th id=\"T_12d3a_level0_col1\" class=\"col_heading level0 col1\" >MAE</th>\n",
       "      <th id=\"T_12d3a_level0_col2\" class=\"col_heading level0 col2\" >MSE</th>\n",
       "      <th id=\"T_12d3a_level0_col3\" class=\"col_heading level0 col3\" >RMSE</th>\n",
       "      <th id=\"T_12d3a_level0_col4\" class=\"col_heading level0 col4\" >R2</th>\n",
       "      <th id=\"T_12d3a_level0_col5\" class=\"col_heading level0 col5\" >RMSLE</th>\n",
       "      <th id=\"T_12d3a_level0_col6\" class=\"col_heading level0 col6\" >MAPE</th>\n",
       "    </tr>\n",
       "  </thead>\n",
       "  <tbody>\n",
       "    <tr>\n",
       "      <th id=\"T_12d3a_level0_row0\" class=\"row_heading level0 row0\" >0</th>\n",
       "      <td id=\"T_12d3a_row0_col0\" class=\"data row0 col0\" >Bayesian Ridge</td>\n",
       "      <td id=\"T_12d3a_row0_col1\" class=\"data row0 col1\" >1.6821</td>\n",
       "      <td id=\"T_12d3a_row0_col2\" class=\"data row0 col2\" >2.8294</td>\n",
       "      <td id=\"T_12d3a_row0_col3\" class=\"data row0 col3\" >1.6821</td>\n",
       "      <td id=\"T_12d3a_row0_col4\" class=\"data row0 col4\" >nan</td>\n",
       "      <td id=\"T_12d3a_row0_col5\" class=\"data row0 col5\" >0.0230</td>\n",
       "      <td id=\"T_12d3a_row0_col6\" class=\"data row0 col6\" >0.0235</td>\n",
       "    </tr>\n",
       "  </tbody>\n",
       "</table>\n"
      ],
      "text/plain": [
       "<pandas.io.formats.style.Styler at 0x1f70794ce90>"
      ]
     },
     "metadata": {},
     "output_type": "display_data"
    },
    {
     "data": {
      "text/html": [
       "<style type=\"text/css\">\n",
       "</style>\n",
       "<table id=\"T_f2a17\">\n",
       "  <thead>\n",
       "    <tr>\n",
       "      <th class=\"blank level0\" >&nbsp;</th>\n",
       "      <th id=\"T_f2a17_level0_col0\" class=\"col_heading level0 col0\" >Model</th>\n",
       "      <th id=\"T_f2a17_level0_col1\" class=\"col_heading level0 col1\" >MAE</th>\n",
       "      <th id=\"T_f2a17_level0_col2\" class=\"col_heading level0 col2\" >MSE</th>\n",
       "      <th id=\"T_f2a17_level0_col3\" class=\"col_heading level0 col3\" >RMSE</th>\n",
       "      <th id=\"T_f2a17_level0_col4\" class=\"col_heading level0 col4\" >R2</th>\n",
       "      <th id=\"T_f2a17_level0_col5\" class=\"col_heading level0 col5\" >RMSLE</th>\n",
       "      <th id=\"T_f2a17_level0_col6\" class=\"col_heading level0 col6\" >MAPE</th>\n",
       "    </tr>\n",
       "  </thead>\n",
       "  <tbody>\n",
       "    <tr>\n",
       "      <th id=\"T_f2a17_level0_row0\" class=\"row_heading level0 row0\" >0</th>\n",
       "      <td id=\"T_f2a17_row0_col0\" class=\"data row0 col0\" >Bayesian Ridge</td>\n",
       "      <td id=\"T_f2a17_row0_col1\" class=\"data row0 col1\" >4.6269</td>\n",
       "      <td id=\"T_f2a17_row0_col2\" class=\"data row0 col2\" >21.4082</td>\n",
       "      <td id=\"T_f2a17_row0_col3\" class=\"data row0 col3\" >4.6269</td>\n",
       "      <td id=\"T_f2a17_row0_col4\" class=\"data row0 col4\" >nan</td>\n",
       "      <td id=\"T_f2a17_row0_col5\" class=\"data row0 col5\" >0.0603</td>\n",
       "      <td id=\"T_f2a17_row0_col6\" class=\"data row0 col6\" >0.0593</td>\n",
       "    </tr>\n",
       "  </tbody>\n",
       "</table>\n"
      ],
      "text/plain": [
       "<pandas.io.formats.style.Styler at 0x1f73eeeddd0>"
      ]
     },
     "metadata": {},
     "output_type": "display_data"
    },
    {
     "data": {
      "text/html": [
       "<style type=\"text/css\">\n",
       "</style>\n",
       "<table id=\"T_d1691\">\n",
       "  <thead>\n",
       "    <tr>\n",
       "      <th class=\"blank level0\" >&nbsp;</th>\n",
       "      <th id=\"T_d1691_level0_col0\" class=\"col_heading level0 col0\" >Model</th>\n",
       "      <th id=\"T_d1691_level0_col1\" class=\"col_heading level0 col1\" >MAE</th>\n",
       "      <th id=\"T_d1691_level0_col2\" class=\"col_heading level0 col2\" >MSE</th>\n",
       "      <th id=\"T_d1691_level0_col3\" class=\"col_heading level0 col3\" >RMSE</th>\n",
       "      <th id=\"T_d1691_level0_col4\" class=\"col_heading level0 col4\" >R2</th>\n",
       "      <th id=\"T_d1691_level0_col5\" class=\"col_heading level0 col5\" >RMSLE</th>\n",
       "      <th id=\"T_d1691_level0_col6\" class=\"col_heading level0 col6\" >MAPE</th>\n",
       "    </tr>\n",
       "  </thead>\n",
       "  <tbody>\n",
       "    <tr>\n",
       "      <th id=\"T_d1691_level0_row0\" class=\"row_heading level0 row0\" >0</th>\n",
       "      <td id=\"T_d1691_row0_col0\" class=\"data row0 col0\" >Bayesian Ridge</td>\n",
       "      <td id=\"T_d1691_row0_col1\" class=\"data row0 col1\" >3.5280</td>\n",
       "      <td id=\"T_d1691_row0_col2\" class=\"data row0 col2\" >12.4465</td>\n",
       "      <td id=\"T_d1691_row0_col3\" class=\"data row0 col3\" >3.5280</td>\n",
       "      <td id=\"T_d1691_row0_col4\" class=\"data row0 col4\" >nan</td>\n",
       "      <td id=\"T_d1691_row0_col5\" class=\"data row0 col5\" >0.0464</td>\n",
       "      <td id=\"T_d1691_row0_col6\" class=\"data row0 col6\" >0.0460</td>\n",
       "    </tr>\n",
       "  </tbody>\n",
       "</table>\n"
      ],
      "text/plain": [
       "<pandas.io.formats.style.Styler at 0x1f73eef2d90>"
      ]
     },
     "metadata": {},
     "output_type": "display_data"
    },
    {
     "data": {
      "text/html": [
       "<style type=\"text/css\">\n",
       "</style>\n",
       "<table id=\"T_fe784\">\n",
       "  <thead>\n",
       "    <tr>\n",
       "      <th class=\"blank level0\" >&nbsp;</th>\n",
       "      <th id=\"T_fe784_level0_col0\" class=\"col_heading level0 col0\" >Model</th>\n",
       "      <th id=\"T_fe784_level0_col1\" class=\"col_heading level0 col1\" >MAE</th>\n",
       "      <th id=\"T_fe784_level0_col2\" class=\"col_heading level0 col2\" >MSE</th>\n",
       "      <th id=\"T_fe784_level0_col3\" class=\"col_heading level0 col3\" >RMSE</th>\n",
       "      <th id=\"T_fe784_level0_col4\" class=\"col_heading level0 col4\" >R2</th>\n",
       "      <th id=\"T_fe784_level0_col5\" class=\"col_heading level0 col5\" >RMSLE</th>\n",
       "      <th id=\"T_fe784_level0_col6\" class=\"col_heading level0 col6\" >MAPE</th>\n",
       "    </tr>\n",
       "  </thead>\n",
       "  <tbody>\n",
       "    <tr>\n",
       "      <th id=\"T_fe784_level0_row0\" class=\"row_heading level0 row0\" >0</th>\n",
       "      <td id=\"T_fe784_row0_col0\" class=\"data row0 col0\" >Bayesian Ridge</td>\n",
       "      <td id=\"T_fe784_row0_col1\" class=\"data row0 col1\" >0.2872</td>\n",
       "      <td id=\"T_fe784_row0_col2\" class=\"data row0 col2\" >0.0825</td>\n",
       "      <td id=\"T_fe784_row0_col3\" class=\"data row0 col3\" >0.2872</td>\n",
       "      <td id=\"T_fe784_row0_col4\" class=\"data row0 col4\" >nan</td>\n",
       "      <td id=\"T_fe784_row0_col5\" class=\"data row0 col5\" >0.0038</td>\n",
       "      <td id=\"T_fe784_row0_col6\" class=\"data row0 col6\" >0.0038</td>\n",
       "    </tr>\n",
       "  </tbody>\n",
       "</table>\n"
      ],
      "text/plain": [
       "<pandas.io.formats.style.Styler at 0x1f73eef53d0>"
      ]
     },
     "metadata": {},
     "output_type": "display_data"
    },
    {
     "data": {
      "text/html": [
       "<style type=\"text/css\">\n",
       "</style>\n",
       "<table id=\"T_89a2a\">\n",
       "  <thead>\n",
       "    <tr>\n",
       "      <th class=\"blank level0\" >&nbsp;</th>\n",
       "      <th id=\"T_89a2a_level0_col0\" class=\"col_heading level0 col0\" >Model</th>\n",
       "      <th id=\"T_89a2a_level0_col1\" class=\"col_heading level0 col1\" >MAE</th>\n",
       "      <th id=\"T_89a2a_level0_col2\" class=\"col_heading level0 col2\" >MSE</th>\n",
       "      <th id=\"T_89a2a_level0_col3\" class=\"col_heading level0 col3\" >RMSE</th>\n",
       "      <th id=\"T_89a2a_level0_col4\" class=\"col_heading level0 col4\" >R2</th>\n",
       "      <th id=\"T_89a2a_level0_col5\" class=\"col_heading level0 col5\" >RMSLE</th>\n",
       "      <th id=\"T_89a2a_level0_col6\" class=\"col_heading level0 col6\" >MAPE</th>\n",
       "    </tr>\n",
       "  </thead>\n",
       "  <tbody>\n",
       "    <tr>\n",
       "      <th id=\"T_89a2a_level0_row0\" class=\"row_heading level0 row0\" >0</th>\n",
       "      <td id=\"T_89a2a_row0_col0\" class=\"data row0 col0\" >Bayesian Ridge</td>\n",
       "      <td id=\"T_89a2a_row0_col1\" class=\"data row0 col1\" >3.8131</td>\n",
       "      <td id=\"T_89a2a_row0_col2\" class=\"data row0 col2\" >14.5397</td>\n",
       "      <td id=\"T_89a2a_row0_col3\" class=\"data row0 col3\" >3.8131</td>\n",
       "      <td id=\"T_89a2a_row0_col4\" class=\"data row0 col4\" >nan</td>\n",
       "      <td id=\"T_89a2a_row0_col5\" class=\"data row0 col5\" >0.0526</td>\n",
       "      <td id=\"T_89a2a_row0_col6\" class=\"data row0 col6\" >0.0547</td>\n",
       "    </tr>\n",
       "  </tbody>\n",
       "</table>\n"
      ],
      "text/plain": [
       "<pandas.io.formats.style.Styler at 0x1f73ee401d0>"
      ]
     },
     "metadata": {},
     "output_type": "display_data"
    },
    {
     "data": {
      "text/html": [
       "<style type=\"text/css\">\n",
       "</style>\n",
       "<table id=\"T_4f4fb\">\n",
       "  <thead>\n",
       "    <tr>\n",
       "      <th class=\"blank level0\" >&nbsp;</th>\n",
       "      <th id=\"T_4f4fb_level0_col0\" class=\"col_heading level0 col0\" >Model</th>\n",
       "      <th id=\"T_4f4fb_level0_col1\" class=\"col_heading level0 col1\" >MAE</th>\n",
       "      <th id=\"T_4f4fb_level0_col2\" class=\"col_heading level0 col2\" >MSE</th>\n",
       "      <th id=\"T_4f4fb_level0_col3\" class=\"col_heading level0 col3\" >RMSE</th>\n",
       "      <th id=\"T_4f4fb_level0_col4\" class=\"col_heading level0 col4\" >R2</th>\n",
       "      <th id=\"T_4f4fb_level0_col5\" class=\"col_heading level0 col5\" >RMSLE</th>\n",
       "      <th id=\"T_4f4fb_level0_col6\" class=\"col_heading level0 col6\" >MAPE</th>\n",
       "    </tr>\n",
       "  </thead>\n",
       "  <tbody>\n",
       "    <tr>\n",
       "      <th id=\"T_4f4fb_level0_row0\" class=\"row_heading level0 row0\" >0</th>\n",
       "      <td id=\"T_4f4fb_row0_col0\" class=\"data row0 col0\" >Bayesian Ridge</td>\n",
       "      <td id=\"T_4f4fb_row0_col1\" class=\"data row0 col1\" >1.0368</td>\n",
       "      <td id=\"T_4f4fb_row0_col2\" class=\"data row0 col2\" >1.0750</td>\n",
       "      <td id=\"T_4f4fb_row0_col3\" class=\"data row0 col3\" >1.0368</td>\n",
       "      <td id=\"T_4f4fb_row0_col4\" class=\"data row0 col4\" >nan</td>\n",
       "      <td id=\"T_4f4fb_row0_col5\" class=\"data row0 col5\" >0.0141</td>\n",
       "      <td id=\"T_4f4fb_row0_col6\" class=\"data row0 col6\" >0.0144</td>\n",
       "    </tr>\n",
       "  </tbody>\n",
       "</table>\n"
      ],
      "text/plain": [
       "<pandas.io.formats.style.Styler at 0x1f73c591850>"
      ]
     },
     "metadata": {},
     "output_type": "display_data"
    },
    {
     "data": {
      "text/html": [
       "<style type=\"text/css\">\n",
       "</style>\n",
       "<table id=\"T_0344b\">\n",
       "  <thead>\n",
       "    <tr>\n",
       "      <th class=\"blank level0\" >&nbsp;</th>\n",
       "      <th id=\"T_0344b_level0_col0\" class=\"col_heading level0 col0\" >Model</th>\n",
       "      <th id=\"T_0344b_level0_col1\" class=\"col_heading level0 col1\" >MAE</th>\n",
       "      <th id=\"T_0344b_level0_col2\" class=\"col_heading level0 col2\" >MSE</th>\n",
       "      <th id=\"T_0344b_level0_col3\" class=\"col_heading level0 col3\" >RMSE</th>\n",
       "      <th id=\"T_0344b_level0_col4\" class=\"col_heading level0 col4\" >R2</th>\n",
       "      <th id=\"T_0344b_level0_col5\" class=\"col_heading level0 col5\" >RMSLE</th>\n",
       "      <th id=\"T_0344b_level0_col6\" class=\"col_heading level0 col6\" >MAPE</th>\n",
       "    </tr>\n",
       "  </thead>\n",
       "  <tbody>\n",
       "    <tr>\n",
       "      <th id=\"T_0344b_level0_row0\" class=\"row_heading level0 row0\" >0</th>\n",
       "      <td id=\"T_0344b_row0_col0\" class=\"data row0 col0\" >Bayesian Ridge</td>\n",
       "      <td id=\"T_0344b_row0_col1\" class=\"data row0 col1\" >2.8480</td>\n",
       "      <td id=\"T_0344b_row0_col2\" class=\"data row0 col2\" >8.1110</td>\n",
       "      <td id=\"T_0344b_row0_col3\" class=\"data row0 col3\" >2.8480</td>\n",
       "      <td id=\"T_0344b_row0_col4\" class=\"data row0 col4\" >nan</td>\n",
       "      <td id=\"T_0344b_row0_col5\" class=\"data row0 col5\" >0.0389</td>\n",
       "      <td id=\"T_0344b_row0_col6\" class=\"data row0 col6\" >0.0402</td>\n",
       "    </tr>\n",
       "  </tbody>\n",
       "</table>\n"
      ],
      "text/plain": [
       "<pandas.io.formats.style.Styler at 0x1f73e797450>"
      ]
     },
     "metadata": {},
     "output_type": "display_data"
    },
    {
     "data": {
      "text/html": [
       "<style type=\"text/css\">\n",
       "</style>\n",
       "<table id=\"T_ced9e\">\n",
       "  <thead>\n",
       "    <tr>\n",
       "      <th class=\"blank level0\" >&nbsp;</th>\n",
       "      <th id=\"T_ced9e_level0_col0\" class=\"col_heading level0 col0\" >Model</th>\n",
       "      <th id=\"T_ced9e_level0_col1\" class=\"col_heading level0 col1\" >MAE</th>\n",
       "      <th id=\"T_ced9e_level0_col2\" class=\"col_heading level0 col2\" >MSE</th>\n",
       "      <th id=\"T_ced9e_level0_col3\" class=\"col_heading level0 col3\" >RMSE</th>\n",
       "      <th id=\"T_ced9e_level0_col4\" class=\"col_heading level0 col4\" >R2</th>\n",
       "      <th id=\"T_ced9e_level0_col5\" class=\"col_heading level0 col5\" >RMSLE</th>\n",
       "      <th id=\"T_ced9e_level0_col6\" class=\"col_heading level0 col6\" >MAPE</th>\n",
       "    </tr>\n",
       "  </thead>\n",
       "  <tbody>\n",
       "    <tr>\n",
       "      <th id=\"T_ced9e_level0_row0\" class=\"row_heading level0 row0\" >0</th>\n",
       "      <td id=\"T_ced9e_row0_col0\" class=\"data row0 col0\" >Bayesian Ridge</td>\n",
       "      <td id=\"T_ced9e_row0_col1\" class=\"data row0 col1\" >5.8869</td>\n",
       "      <td id=\"T_ced9e_row0_col2\" class=\"data row0 col2\" >34.6558</td>\n",
       "      <td id=\"T_ced9e_row0_col3\" class=\"data row0 col3\" >5.8869</td>\n",
       "      <td id=\"T_ced9e_row0_col4\" class=\"data row0 col4\" >nan</td>\n",
       "      <td id=\"T_ced9e_row0_col5\" class=\"data row0 col5\" >0.0815</td>\n",
       "      <td id=\"T_ced9e_row0_col6\" class=\"data row0 col6\" >0.0861</td>\n",
       "    </tr>\n",
       "  </tbody>\n",
       "</table>\n"
      ],
      "text/plain": [
       "<pandas.io.formats.style.Styler at 0x1f73e692290>"
      ]
     },
     "metadata": {},
     "output_type": "display_data"
    },
    {
     "data": {
      "text/html": [
       "<style type=\"text/css\">\n",
       "</style>\n",
       "<table id=\"T_5113c\">\n",
       "  <thead>\n",
       "    <tr>\n",
       "      <th class=\"blank level0\" >&nbsp;</th>\n",
       "      <th id=\"T_5113c_level0_col0\" class=\"col_heading level0 col0\" >Model</th>\n",
       "      <th id=\"T_5113c_level0_col1\" class=\"col_heading level0 col1\" >MAE</th>\n",
       "      <th id=\"T_5113c_level0_col2\" class=\"col_heading level0 col2\" >MSE</th>\n",
       "      <th id=\"T_5113c_level0_col3\" class=\"col_heading level0 col3\" >RMSE</th>\n",
       "      <th id=\"T_5113c_level0_col4\" class=\"col_heading level0 col4\" >R2</th>\n",
       "      <th id=\"T_5113c_level0_col5\" class=\"col_heading level0 col5\" >RMSLE</th>\n",
       "      <th id=\"T_5113c_level0_col6\" class=\"col_heading level0 col6\" >MAPE</th>\n",
       "    </tr>\n",
       "  </thead>\n",
       "  <tbody>\n",
       "    <tr>\n",
       "      <th id=\"T_5113c_level0_row0\" class=\"row_heading level0 row0\" >0</th>\n",
       "      <td id=\"T_5113c_row0_col0\" class=\"data row0 col0\" >Bayesian Ridge</td>\n",
       "      <td id=\"T_5113c_row0_col1\" class=\"data row0 col1\" >1.4825</td>\n",
       "      <td id=\"T_5113c_row0_col2\" class=\"data row0 col2\" >2.1978</td>\n",
       "      <td id=\"T_5113c_row0_col3\" class=\"data row0 col3\" >1.4825</td>\n",
       "      <td id=\"T_5113c_row0_col4\" class=\"data row0 col4\" >nan</td>\n",
       "      <td id=\"T_5113c_row0_col5\" class=\"data row0 col5\" >0.0198</td>\n",
       "      <td id=\"T_5113c_row0_col6\" class=\"data row0 col6\" >0.0203</td>\n",
       "    </tr>\n",
       "  </tbody>\n",
       "</table>\n"
      ],
      "text/plain": [
       "<pandas.io.formats.style.Styler at 0x1f73c4cfb50>"
      ]
     },
     "metadata": {},
     "output_type": "display_data"
    },
    {
     "data": {
      "text/html": [
       "<style type=\"text/css\">\n",
       "</style>\n",
       "<table id=\"T_3ed12\">\n",
       "  <thead>\n",
       "    <tr>\n",
       "      <th class=\"blank level0\" >&nbsp;</th>\n",
       "      <th id=\"T_3ed12_level0_col0\" class=\"col_heading level0 col0\" >Model</th>\n",
       "      <th id=\"T_3ed12_level0_col1\" class=\"col_heading level0 col1\" >MAE</th>\n",
       "      <th id=\"T_3ed12_level0_col2\" class=\"col_heading level0 col2\" >MSE</th>\n",
       "      <th id=\"T_3ed12_level0_col3\" class=\"col_heading level0 col3\" >RMSE</th>\n",
       "      <th id=\"T_3ed12_level0_col4\" class=\"col_heading level0 col4\" >R2</th>\n",
       "      <th id=\"T_3ed12_level0_col5\" class=\"col_heading level0 col5\" >RMSLE</th>\n",
       "      <th id=\"T_3ed12_level0_col6\" class=\"col_heading level0 col6\" >MAPE</th>\n",
       "    </tr>\n",
       "  </thead>\n",
       "  <tbody>\n",
       "    <tr>\n",
       "      <th id=\"T_3ed12_level0_row0\" class=\"row_heading level0 row0\" >0</th>\n",
       "      <td id=\"T_3ed12_row0_col0\" class=\"data row0 col0\" >Bayesian Ridge</td>\n",
       "      <td id=\"T_3ed12_row0_col1\" class=\"data row0 col1\" >0.1203</td>\n",
       "      <td id=\"T_3ed12_row0_col2\" class=\"data row0 col2\" >0.0145</td>\n",
       "      <td id=\"T_3ed12_row0_col3\" class=\"data row0 col3\" >0.1203</td>\n",
       "      <td id=\"T_3ed12_row0_col4\" class=\"data row0 col4\" >nan</td>\n",
       "      <td id=\"T_3ed12_row0_col5\" class=\"data row0 col5\" >0.0016</td>\n",
       "      <td id=\"T_3ed12_row0_col6\" class=\"data row0 col6\" >0.0016</td>\n",
       "    </tr>\n",
       "  </tbody>\n",
       "</table>\n"
      ],
      "text/plain": [
       "<pandas.io.formats.style.Styler at 0x1f73eeeddd0>"
      ]
     },
     "metadata": {},
     "output_type": "display_data"
    },
    {
     "data": {
      "text/html": [
       "<style type=\"text/css\">\n",
       "</style>\n",
       "<table id=\"T_da370\">\n",
       "  <thead>\n",
       "    <tr>\n",
       "      <th class=\"blank level0\" >&nbsp;</th>\n",
       "      <th id=\"T_da370_level0_col0\" class=\"col_heading level0 col0\" >Model</th>\n",
       "      <th id=\"T_da370_level0_col1\" class=\"col_heading level0 col1\" >MAE</th>\n",
       "      <th id=\"T_da370_level0_col2\" class=\"col_heading level0 col2\" >MSE</th>\n",
       "      <th id=\"T_da370_level0_col3\" class=\"col_heading level0 col3\" >RMSE</th>\n",
       "      <th id=\"T_da370_level0_col4\" class=\"col_heading level0 col4\" >R2</th>\n",
       "      <th id=\"T_da370_level0_col5\" class=\"col_heading level0 col5\" >RMSLE</th>\n",
       "      <th id=\"T_da370_level0_col6\" class=\"col_heading level0 col6\" >MAPE</th>\n",
       "    </tr>\n",
       "  </thead>\n",
       "  <tbody>\n",
       "    <tr>\n",
       "      <th id=\"T_da370_level0_row0\" class=\"row_heading level0 row0\" >0</th>\n",
       "      <td id=\"T_da370_row0_col0\" class=\"data row0 col0\" >Bayesian Ridge</td>\n",
       "      <td id=\"T_da370_row0_col1\" class=\"data row0 col1\" >7.5961</td>\n",
       "      <td id=\"T_da370_row0_col2\" class=\"data row0 col2\" >57.7011</td>\n",
       "      <td id=\"T_da370_row0_col3\" class=\"data row0 col3\" >7.5961</td>\n",
       "      <td id=\"T_da370_row0_col4\" class=\"data row0 col4\" >nan</td>\n",
       "      <td id=\"T_da370_row0_col5\" class=\"data row0 col5\" >0.1062</td>\n",
       "      <td id=\"T_da370_row0_col6\" class=\"data row0 col6\" >0.1137</td>\n",
       "    </tr>\n",
       "  </tbody>\n",
       "</table>\n"
      ],
      "text/plain": [
       "<pandas.io.formats.style.Styler at 0x1f73e8e7b10>"
      ]
     },
     "metadata": {},
     "output_type": "display_data"
    },
    {
     "data": {
      "text/html": [
       "<style type=\"text/css\">\n",
       "</style>\n",
       "<table id=\"T_d478e\">\n",
       "  <thead>\n",
       "    <tr>\n",
       "      <th class=\"blank level0\" >&nbsp;</th>\n",
       "      <th id=\"T_d478e_level0_col0\" class=\"col_heading level0 col0\" >Model</th>\n",
       "      <th id=\"T_d478e_level0_col1\" class=\"col_heading level0 col1\" >MAE</th>\n",
       "      <th id=\"T_d478e_level0_col2\" class=\"col_heading level0 col2\" >MSE</th>\n",
       "      <th id=\"T_d478e_level0_col3\" class=\"col_heading level0 col3\" >RMSE</th>\n",
       "      <th id=\"T_d478e_level0_col4\" class=\"col_heading level0 col4\" >R2</th>\n",
       "      <th id=\"T_d478e_level0_col5\" class=\"col_heading level0 col5\" >RMSLE</th>\n",
       "      <th id=\"T_d478e_level0_col6\" class=\"col_heading level0 col6\" >MAPE</th>\n",
       "    </tr>\n",
       "  </thead>\n",
       "  <tbody>\n",
       "    <tr>\n",
       "      <th id=\"T_d478e_level0_row0\" class=\"row_heading level0 row0\" >0</th>\n",
       "      <td id=\"T_d478e_row0_col0\" class=\"data row0 col0\" >Bayesian Ridge</td>\n",
       "      <td id=\"T_d478e_row0_col1\" class=\"data row0 col1\" >2.5157</td>\n",
       "      <td id=\"T_d478e_row0_col2\" class=\"data row0 col2\" >6.3289</td>\n",
       "      <td id=\"T_d478e_row0_col3\" class=\"data row0 col3\" >2.5157</td>\n",
       "      <td id=\"T_d478e_row0_col4\" class=\"data row0 col4\" >nan</td>\n",
       "      <td id=\"T_d478e_row0_col5\" class=\"data row0 col5\" >0.0340</td>\n",
       "      <td id=\"T_d478e_row0_col6\" class=\"data row0 col6\" >0.0350</td>\n",
       "    </tr>\n",
       "  </tbody>\n",
       "</table>\n"
      ],
      "text/plain": [
       "<pandas.io.formats.style.Styler at 0x1f738236a90>"
      ]
     },
     "metadata": {},
     "output_type": "display_data"
    },
    {
     "data": {
      "text/html": [
       "<style type=\"text/css\">\n",
       "</style>\n",
       "<table id=\"T_3994d\">\n",
       "  <thead>\n",
       "    <tr>\n",
       "      <th class=\"blank level0\" >&nbsp;</th>\n",
       "      <th id=\"T_3994d_level0_col0\" class=\"col_heading level0 col0\" >Model</th>\n",
       "      <th id=\"T_3994d_level0_col1\" class=\"col_heading level0 col1\" >MAE</th>\n",
       "      <th id=\"T_3994d_level0_col2\" class=\"col_heading level0 col2\" >MSE</th>\n",
       "      <th id=\"T_3994d_level0_col3\" class=\"col_heading level0 col3\" >RMSE</th>\n",
       "      <th id=\"T_3994d_level0_col4\" class=\"col_heading level0 col4\" >R2</th>\n",
       "      <th id=\"T_3994d_level0_col5\" class=\"col_heading level0 col5\" >RMSLE</th>\n",
       "      <th id=\"T_3994d_level0_col6\" class=\"col_heading level0 col6\" >MAPE</th>\n",
       "    </tr>\n",
       "  </thead>\n",
       "  <tbody>\n",
       "    <tr>\n",
       "      <th id=\"T_3994d_level0_row0\" class=\"row_heading level0 row0\" >0</th>\n",
       "      <td id=\"T_3994d_row0_col0\" class=\"data row0 col0\" >Bayesian Ridge</td>\n",
       "      <td id=\"T_3994d_row0_col1\" class=\"data row0 col1\" >3.7934</td>\n",
       "      <td id=\"T_3994d_row0_col2\" class=\"data row0 col2\" >14.3901</td>\n",
       "      <td id=\"T_3994d_row0_col3\" class=\"data row0 col3\" >3.7934</td>\n",
       "      <td id=\"T_3994d_row0_col4\" class=\"data row0 col4\" >nan</td>\n",
       "      <td id=\"T_3994d_row0_col5\" class=\"data row0 col5\" >0.0516</td>\n",
       "      <td id=\"T_3994d_row0_col6\" class=\"data row0 col6\" >0.0537</td>\n",
       "    </tr>\n",
       "  </tbody>\n",
       "</table>\n"
      ],
      "text/plain": [
       "<pandas.io.formats.style.Styler at 0x1f73c3e4c10>"
      ]
     },
     "metadata": {},
     "output_type": "display_data"
    },
    {
     "data": {
      "text/html": [
       "<style type=\"text/css\">\n",
       "</style>\n",
       "<table id=\"T_edb5d\">\n",
       "  <thead>\n",
       "    <tr>\n",
       "      <th class=\"blank level0\" >&nbsp;</th>\n",
       "      <th id=\"T_edb5d_level0_col0\" class=\"col_heading level0 col0\" >Model</th>\n",
       "      <th id=\"T_edb5d_level0_col1\" class=\"col_heading level0 col1\" >MAE</th>\n",
       "      <th id=\"T_edb5d_level0_col2\" class=\"col_heading level0 col2\" >MSE</th>\n",
       "      <th id=\"T_edb5d_level0_col3\" class=\"col_heading level0 col3\" >RMSE</th>\n",
       "      <th id=\"T_edb5d_level0_col4\" class=\"col_heading level0 col4\" >R2</th>\n",
       "      <th id=\"T_edb5d_level0_col5\" class=\"col_heading level0 col5\" >RMSLE</th>\n",
       "      <th id=\"T_edb5d_level0_col6\" class=\"col_heading level0 col6\" >MAPE</th>\n",
       "    </tr>\n",
       "  </thead>\n",
       "  <tbody>\n",
       "    <tr>\n",
       "      <th id=\"T_edb5d_level0_row0\" class=\"row_heading level0 row0\" >0</th>\n",
       "      <td id=\"T_edb5d_row0_col0\" class=\"data row0 col0\" >Bayesian Ridge</td>\n",
       "      <td id=\"T_edb5d_row0_col1\" class=\"data row0 col1\" >3.5217</td>\n",
       "      <td id=\"T_edb5d_row0_col2\" class=\"data row0 col2\" >12.4021</td>\n",
       "      <td id=\"T_edb5d_row0_col3\" class=\"data row0 col3\" >3.5217</td>\n",
       "      <td id=\"T_edb5d_row0_col4\" class=\"data row0 col4\" >nan</td>\n",
       "      <td id=\"T_edb5d_row0_col5\" class=\"data row0 col5\" >0.0478</td>\n",
       "      <td id=\"T_edb5d_row0_col6\" class=\"data row0 col6\" >0.0497</td>\n",
       "    </tr>\n",
       "  </tbody>\n",
       "</table>\n"
      ],
      "text/plain": [
       "<pandas.io.formats.style.Styler at 0x1f73c563c10>"
      ]
     },
     "metadata": {},
     "output_type": "display_data"
    },
    {
     "data": {
      "text/html": [
       "<style type=\"text/css\">\n",
       "</style>\n",
       "<table id=\"T_d718b\">\n",
       "  <thead>\n",
       "    <tr>\n",
       "      <th class=\"blank level0\" >&nbsp;</th>\n",
       "      <th id=\"T_d718b_level0_col0\" class=\"col_heading level0 col0\" >Model</th>\n",
       "      <th id=\"T_d718b_level0_col1\" class=\"col_heading level0 col1\" >MAE</th>\n",
       "      <th id=\"T_d718b_level0_col2\" class=\"col_heading level0 col2\" >MSE</th>\n",
       "      <th id=\"T_d718b_level0_col3\" class=\"col_heading level0 col3\" >RMSE</th>\n",
       "      <th id=\"T_d718b_level0_col4\" class=\"col_heading level0 col4\" >R2</th>\n",
       "      <th id=\"T_d718b_level0_col5\" class=\"col_heading level0 col5\" >RMSLE</th>\n",
       "      <th id=\"T_d718b_level0_col6\" class=\"col_heading level0 col6\" >MAPE</th>\n",
       "    </tr>\n",
       "  </thead>\n",
       "  <tbody>\n",
       "    <tr>\n",
       "      <th id=\"T_d718b_level0_row0\" class=\"row_heading level0 row0\" >0</th>\n",
       "      <td id=\"T_d718b_row0_col0\" class=\"data row0 col0\" >Bayesian Ridge</td>\n",
       "      <td id=\"T_d718b_row0_col1\" class=\"data row0 col1\" >2.2486</td>\n",
       "      <td id=\"T_d718b_row0_col2\" class=\"data row0 col2\" >5.0563</td>\n",
       "      <td id=\"T_d718b_row0_col3\" class=\"data row0 col3\" >2.2486</td>\n",
       "      <td id=\"T_d718b_row0_col4\" class=\"data row0 col4\" >nan</td>\n",
       "      <td id=\"T_d718b_row0_col5\" class=\"data row0 col5\" >0.0303</td>\n",
       "      <td id=\"T_d718b_row0_col6\" class=\"data row0 col6\" >0.0312</td>\n",
       "    </tr>\n",
       "  </tbody>\n",
       "</table>\n"
      ],
      "text/plain": [
       "<pandas.io.formats.style.Styler at 0x1f73ef088d0>"
      ]
     },
     "metadata": {},
     "output_type": "display_data"
    },
    {
     "data": {
      "text/html": [
       "<style type=\"text/css\">\n",
       "</style>\n",
       "<table id=\"T_a0304\">\n",
       "  <thead>\n",
       "    <tr>\n",
       "      <th class=\"blank level0\" >&nbsp;</th>\n",
       "      <th id=\"T_a0304_level0_col0\" class=\"col_heading level0 col0\" >Model</th>\n",
       "      <th id=\"T_a0304_level0_col1\" class=\"col_heading level0 col1\" >MAE</th>\n",
       "      <th id=\"T_a0304_level0_col2\" class=\"col_heading level0 col2\" >MSE</th>\n",
       "      <th id=\"T_a0304_level0_col3\" class=\"col_heading level0 col3\" >RMSE</th>\n",
       "      <th id=\"T_a0304_level0_col4\" class=\"col_heading level0 col4\" >R2</th>\n",
       "      <th id=\"T_a0304_level0_col5\" class=\"col_heading level0 col5\" >RMSLE</th>\n",
       "      <th id=\"T_a0304_level0_col6\" class=\"col_heading level0 col6\" >MAPE</th>\n",
       "    </tr>\n",
       "  </thead>\n",
       "  <tbody>\n",
       "    <tr>\n",
       "      <th id=\"T_a0304_level0_row0\" class=\"row_heading level0 row0\" >0</th>\n",
       "      <td id=\"T_a0304_row0_col0\" class=\"data row0 col0\" >Bayesian Ridge</td>\n",
       "      <td id=\"T_a0304_row0_col1\" class=\"data row0 col1\" >1.7409</td>\n",
       "      <td id=\"T_a0304_row0_col2\" class=\"data row0 col2\" >3.0306</td>\n",
       "      <td id=\"T_a0304_row0_col3\" class=\"data row0 col3\" >1.7409</td>\n",
       "      <td id=\"T_a0304_row0_col4\" class=\"data row0 col4\" >nan</td>\n",
       "      <td id=\"T_a0304_row0_col5\" class=\"data row0 col5\" >0.0233</td>\n",
       "      <td id=\"T_a0304_row0_col6\" class=\"data row0 col6\" >0.0239</td>\n",
       "    </tr>\n",
       "  </tbody>\n",
       "</table>\n"
      ],
      "text/plain": [
       "<pandas.io.formats.style.Styler at 0x1f73c5902d0>"
      ]
     },
     "metadata": {},
     "output_type": "display_data"
    },
    {
     "data": {
      "text/html": [
       "<style type=\"text/css\">\n",
       "</style>\n",
       "<table id=\"T_3b632\">\n",
       "  <thead>\n",
       "    <tr>\n",
       "      <th class=\"blank level0\" >&nbsp;</th>\n",
       "      <th id=\"T_3b632_level0_col0\" class=\"col_heading level0 col0\" >Model</th>\n",
       "      <th id=\"T_3b632_level0_col1\" class=\"col_heading level0 col1\" >MAE</th>\n",
       "      <th id=\"T_3b632_level0_col2\" class=\"col_heading level0 col2\" >MSE</th>\n",
       "      <th id=\"T_3b632_level0_col3\" class=\"col_heading level0 col3\" >RMSE</th>\n",
       "      <th id=\"T_3b632_level0_col4\" class=\"col_heading level0 col4\" >R2</th>\n",
       "      <th id=\"T_3b632_level0_col5\" class=\"col_heading level0 col5\" >RMSLE</th>\n",
       "      <th id=\"T_3b632_level0_col6\" class=\"col_heading level0 col6\" >MAPE</th>\n",
       "    </tr>\n",
       "  </thead>\n",
       "  <tbody>\n",
       "    <tr>\n",
       "      <th id=\"T_3b632_level0_row0\" class=\"row_heading level0 row0\" >0</th>\n",
       "      <td id=\"T_3b632_row0_col0\" class=\"data row0 col0\" >Bayesian Ridge</td>\n",
       "      <td id=\"T_3b632_row0_col1\" class=\"data row0 col1\" >4.8103</td>\n",
       "      <td id=\"T_3b632_row0_col2\" class=\"data row0 col2\" >23.1393</td>\n",
       "      <td id=\"T_3b632_row0_col3\" class=\"data row0 col3\" >4.8103</td>\n",
       "      <td id=\"T_3b632_row0_col4\" class=\"data row0 col4\" >nan</td>\n",
       "      <td id=\"T_3b632_row0_col5\" class=\"data row0 col5\" >0.0657</td>\n",
       "      <td id=\"T_3b632_row0_col6\" class=\"data row0 col6\" >0.0689</td>\n",
       "    </tr>\n",
       "  </tbody>\n",
       "</table>\n"
      ],
      "text/plain": [
       "<pandas.io.formats.style.Styler at 0x1f73e6d5dd0>"
      ]
     },
     "metadata": {},
     "output_type": "display_data"
    },
    {
     "data": {
      "text/html": [
       "<style type=\"text/css\">\n",
       "</style>\n",
       "<table id=\"T_905be\">\n",
       "  <thead>\n",
       "    <tr>\n",
       "      <th class=\"blank level0\" >&nbsp;</th>\n",
       "      <th id=\"T_905be_level0_col0\" class=\"col_heading level0 col0\" >Model</th>\n",
       "      <th id=\"T_905be_level0_col1\" class=\"col_heading level0 col1\" >MAE</th>\n",
       "      <th id=\"T_905be_level0_col2\" class=\"col_heading level0 col2\" >MSE</th>\n",
       "      <th id=\"T_905be_level0_col3\" class=\"col_heading level0 col3\" >RMSE</th>\n",
       "      <th id=\"T_905be_level0_col4\" class=\"col_heading level0 col4\" >R2</th>\n",
       "      <th id=\"T_905be_level0_col5\" class=\"col_heading level0 col5\" >RMSLE</th>\n",
       "      <th id=\"T_905be_level0_col6\" class=\"col_heading level0 col6\" >MAPE</th>\n",
       "    </tr>\n",
       "  </thead>\n",
       "  <tbody>\n",
       "    <tr>\n",
       "      <th id=\"T_905be_level0_row0\" class=\"row_heading level0 row0\" >0</th>\n",
       "      <td id=\"T_905be_row0_col0\" class=\"data row0 col0\" >Bayesian Ridge</td>\n",
       "      <td id=\"T_905be_row0_col1\" class=\"data row0 col1\" >4.7872</td>\n",
       "      <td id=\"T_905be_row0_col2\" class=\"data row0 col2\" >22.9172</td>\n",
       "      <td id=\"T_905be_row0_col3\" class=\"data row0 col3\" >4.7872</td>\n",
       "      <td id=\"T_905be_row0_col4\" class=\"data row0 col4\" >nan</td>\n",
       "      <td id=\"T_905be_row0_col5\" class=\"data row0 col5\" >0.0656</td>\n",
       "      <td id=\"T_905be_row0_col6\" class=\"data row0 col6\" >0.0688</td>\n",
       "    </tr>\n",
       "  </tbody>\n",
       "</table>\n"
      ],
      "text/plain": [
       "<pandas.io.formats.style.Styler at 0x1f73c57f410>"
      ]
     },
     "metadata": {},
     "output_type": "display_data"
    },
    {
     "data": {
      "text/html": [
       "<style type=\"text/css\">\n",
       "</style>\n",
       "<table id=\"T_616fd\">\n",
       "  <thead>\n",
       "    <tr>\n",
       "      <th class=\"blank level0\" >&nbsp;</th>\n",
       "      <th id=\"T_616fd_level0_col0\" class=\"col_heading level0 col0\" >Model</th>\n",
       "      <th id=\"T_616fd_level0_col1\" class=\"col_heading level0 col1\" >MAE</th>\n",
       "      <th id=\"T_616fd_level0_col2\" class=\"col_heading level0 col2\" >MSE</th>\n",
       "      <th id=\"T_616fd_level0_col3\" class=\"col_heading level0 col3\" >RMSE</th>\n",
       "      <th id=\"T_616fd_level0_col4\" class=\"col_heading level0 col4\" >R2</th>\n",
       "      <th id=\"T_616fd_level0_col5\" class=\"col_heading level0 col5\" >RMSLE</th>\n",
       "      <th id=\"T_616fd_level0_col6\" class=\"col_heading level0 col6\" >MAPE</th>\n",
       "    </tr>\n",
       "  </thead>\n",
       "  <tbody>\n",
       "    <tr>\n",
       "      <th id=\"T_616fd_level0_row0\" class=\"row_heading level0 row0\" >0</th>\n",
       "      <td id=\"T_616fd_row0_col0\" class=\"data row0 col0\" >Bayesian Ridge</td>\n",
       "      <td id=\"T_616fd_row0_col1\" class=\"data row0 col1\" >1.3360</td>\n",
       "      <td id=\"T_616fd_row0_col2\" class=\"data row0 col2\" >1.7848</td>\n",
       "      <td id=\"T_616fd_row0_col3\" class=\"data row0 col3\" >1.3360</td>\n",
       "      <td id=\"T_616fd_row0_col4\" class=\"data row0 col4\" >nan</td>\n",
       "      <td id=\"T_616fd_row0_col5\" class=\"data row0 col5\" >0.0182</td>\n",
       "      <td id=\"T_616fd_row0_col6\" class=\"data row0 col6\" >0.0186</td>\n",
       "    </tr>\n",
       "  </tbody>\n",
       "</table>\n"
      ],
      "text/plain": [
       "<pandas.io.formats.style.Styler at 0x1f73e68a590>"
      ]
     },
     "metadata": {},
     "output_type": "display_data"
    },
    {
     "name": "stdout",
     "output_type": "stream",
     "text": [
      "Processing model: Ridge\n"
     ]
    },
    {
     "data": {
      "text/html": [
       "<style type=\"text/css\">\n",
       "</style>\n",
       "<table id=\"T_c9d92\">\n",
       "  <thead>\n",
       "    <tr>\n",
       "      <th class=\"blank level0\" >&nbsp;</th>\n",
       "      <th id=\"T_c9d92_level0_col0\" class=\"col_heading level0 col0\" >Model</th>\n",
       "      <th id=\"T_c9d92_level0_col1\" class=\"col_heading level0 col1\" >MAE</th>\n",
       "      <th id=\"T_c9d92_level0_col2\" class=\"col_heading level0 col2\" >MSE</th>\n",
       "      <th id=\"T_c9d92_level0_col3\" class=\"col_heading level0 col3\" >RMSE</th>\n",
       "      <th id=\"T_c9d92_level0_col4\" class=\"col_heading level0 col4\" >R2</th>\n",
       "      <th id=\"T_c9d92_level0_col5\" class=\"col_heading level0 col5\" >RMSLE</th>\n",
       "      <th id=\"T_c9d92_level0_col6\" class=\"col_heading level0 col6\" >MAPE</th>\n",
       "    </tr>\n",
       "  </thead>\n",
       "  <tbody>\n",
       "    <tr>\n",
       "      <th id=\"T_c9d92_level0_row0\" class=\"row_heading level0 row0\" >0</th>\n",
       "      <td id=\"T_c9d92_row0_col0\" class=\"data row0 col0\" >Ridge Regression</td>\n",
       "      <td id=\"T_c9d92_row0_col1\" class=\"data row0 col1\" >1.7264</td>\n",
       "      <td id=\"T_c9d92_row0_col2\" class=\"data row0 col2\" >2.9803</td>\n",
       "      <td id=\"T_c9d92_row0_col3\" class=\"data row0 col3\" >1.7264</td>\n",
       "      <td id=\"T_c9d92_row0_col4\" class=\"data row0 col4\" >nan</td>\n",
       "      <td id=\"T_c9d92_row0_col5\" class=\"data row0 col5\" >0.0228</td>\n",
       "      <td id=\"T_c9d92_row0_col6\" class=\"data row0 col6\" >0.0228</td>\n",
       "    </tr>\n",
       "  </tbody>\n",
       "</table>\n"
      ],
      "text/plain": [
       "<pandas.io.formats.style.Styler at 0x1f73e6555d0>"
      ]
     },
     "metadata": {},
     "output_type": "display_data"
    },
    {
     "data": {
      "text/html": [
       "<style type=\"text/css\">\n",
       "</style>\n",
       "<table id=\"T_dd872\">\n",
       "  <thead>\n",
       "    <tr>\n",
       "      <th class=\"blank level0\" >&nbsp;</th>\n",
       "      <th id=\"T_dd872_level0_col0\" class=\"col_heading level0 col0\" >Model</th>\n",
       "      <th id=\"T_dd872_level0_col1\" class=\"col_heading level0 col1\" >MAE</th>\n",
       "      <th id=\"T_dd872_level0_col2\" class=\"col_heading level0 col2\" >MSE</th>\n",
       "      <th id=\"T_dd872_level0_col3\" class=\"col_heading level0 col3\" >RMSE</th>\n",
       "      <th id=\"T_dd872_level0_col4\" class=\"col_heading level0 col4\" >R2</th>\n",
       "      <th id=\"T_dd872_level0_col5\" class=\"col_heading level0 col5\" >RMSLE</th>\n",
       "      <th id=\"T_dd872_level0_col6\" class=\"col_heading level0 col6\" >MAPE</th>\n",
       "    </tr>\n",
       "  </thead>\n",
       "  <tbody>\n",
       "    <tr>\n",
       "      <th id=\"T_dd872_level0_row0\" class=\"row_heading level0 row0\" >0</th>\n",
       "      <td id=\"T_dd872_row0_col0\" class=\"data row0 col0\" >Ridge Regression</td>\n",
       "      <td id=\"T_dd872_row0_col1\" class=\"data row0 col1\" >3.5271</td>\n",
       "      <td id=\"T_dd872_row0_col2\" class=\"data row0 col2\" >12.4402</td>\n",
       "      <td id=\"T_dd872_row0_col3\" class=\"data row0 col3\" >3.5271</td>\n",
       "      <td id=\"T_dd872_row0_col4\" class=\"data row0 col4\" >nan</td>\n",
       "      <td id=\"T_dd872_row0_col5\" class=\"data row0 col5\" >0.0486</td>\n",
       "      <td id=\"T_dd872_row0_col6\" class=\"data row0 col6\" >0.0505</td>\n",
       "    </tr>\n",
       "  </tbody>\n",
       "</table>\n"
      ],
      "text/plain": [
       "<pandas.io.formats.style.Styler at 0x1f73e750550>"
      ]
     },
     "metadata": {},
     "output_type": "display_data"
    },
    {
     "data": {
      "text/html": [
       "<style type=\"text/css\">\n",
       "</style>\n",
       "<table id=\"T_2965a\">\n",
       "  <thead>\n",
       "    <tr>\n",
       "      <th class=\"blank level0\" >&nbsp;</th>\n",
       "      <th id=\"T_2965a_level0_col0\" class=\"col_heading level0 col0\" >Model</th>\n",
       "      <th id=\"T_2965a_level0_col1\" class=\"col_heading level0 col1\" >MAE</th>\n",
       "      <th id=\"T_2965a_level0_col2\" class=\"col_heading level0 col2\" >MSE</th>\n",
       "      <th id=\"T_2965a_level0_col3\" class=\"col_heading level0 col3\" >RMSE</th>\n",
       "      <th id=\"T_2965a_level0_col4\" class=\"col_heading level0 col4\" >R2</th>\n",
       "      <th id=\"T_2965a_level0_col5\" class=\"col_heading level0 col5\" >RMSLE</th>\n",
       "      <th id=\"T_2965a_level0_col6\" class=\"col_heading level0 col6\" >MAPE</th>\n",
       "    </tr>\n",
       "  </thead>\n",
       "  <tbody>\n",
       "    <tr>\n",
       "      <th id=\"T_2965a_level0_row0\" class=\"row_heading level0 row0\" >0</th>\n",
       "      <td id=\"T_2965a_row0_col0\" class=\"data row0 col0\" >Ridge Regression</td>\n",
       "      <td id=\"T_2965a_row0_col1\" class=\"data row0 col1\" >0.0565</td>\n",
       "      <td id=\"T_2965a_row0_col2\" class=\"data row0 col2\" >0.0032</td>\n",
       "      <td id=\"T_2965a_row0_col3\" class=\"data row0 col3\" >0.0565</td>\n",
       "      <td id=\"T_2965a_row0_col4\" class=\"data row0 col4\" >nan</td>\n",
       "      <td id=\"T_2965a_row0_col5\" class=\"data row0 col5\" >0.0007</td>\n",
       "      <td id=\"T_2965a_row0_col6\" class=\"data row0 col6\" >0.0008</td>\n",
       "    </tr>\n",
       "  </tbody>\n",
       "</table>\n"
      ],
      "text/plain": [
       "<pandas.io.formats.style.Styler at 0x1f73c3ad850>"
      ]
     },
     "metadata": {},
     "output_type": "display_data"
    },
    {
     "data": {
      "text/html": [
       "<style type=\"text/css\">\n",
       "</style>\n",
       "<table id=\"T_4fa8c\">\n",
       "  <thead>\n",
       "    <tr>\n",
       "      <th class=\"blank level0\" >&nbsp;</th>\n",
       "      <th id=\"T_4fa8c_level0_col0\" class=\"col_heading level0 col0\" >Model</th>\n",
       "      <th id=\"T_4fa8c_level0_col1\" class=\"col_heading level0 col1\" >MAE</th>\n",
       "      <th id=\"T_4fa8c_level0_col2\" class=\"col_heading level0 col2\" >MSE</th>\n",
       "      <th id=\"T_4fa8c_level0_col3\" class=\"col_heading level0 col3\" >RMSE</th>\n",
       "      <th id=\"T_4fa8c_level0_col4\" class=\"col_heading level0 col4\" >R2</th>\n",
       "      <th id=\"T_4fa8c_level0_col5\" class=\"col_heading level0 col5\" >RMSLE</th>\n",
       "      <th id=\"T_4fa8c_level0_col6\" class=\"col_heading level0 col6\" >MAPE</th>\n",
       "    </tr>\n",
       "  </thead>\n",
       "  <tbody>\n",
       "    <tr>\n",
       "      <th id=\"T_4fa8c_level0_row0\" class=\"row_heading level0 row0\" >0</th>\n",
       "      <td id=\"T_4fa8c_row0_col0\" class=\"data row0 col0\" >Ridge Regression</td>\n",
       "      <td id=\"T_4fa8c_row0_col1\" class=\"data row0 col1\" >1.6456</td>\n",
       "      <td id=\"T_4fa8c_row0_col2\" class=\"data row0 col2\" >2.7078</td>\n",
       "      <td id=\"T_4fa8c_row0_col3\" class=\"data row0 col3\" >1.6456</td>\n",
       "      <td id=\"T_4fa8c_row0_col4\" class=\"data row0 col4\" >nan</td>\n",
       "      <td id=\"T_4fa8c_row0_col5\" class=\"data row0 col5\" >0.0218</td>\n",
       "      <td id=\"T_4fa8c_row0_col6\" class=\"data row0 col6\" >0.0218</td>\n",
       "    </tr>\n",
       "  </tbody>\n",
       "</table>\n"
      ],
      "text/plain": [
       "<pandas.io.formats.style.Styler at 0x1f73ee1ca90>"
      ]
     },
     "metadata": {},
     "output_type": "display_data"
    },
    {
     "data": {
      "text/html": [
       "<style type=\"text/css\">\n",
       "</style>\n",
       "<table id=\"T_ee8fe\">\n",
       "  <thead>\n",
       "    <tr>\n",
       "      <th class=\"blank level0\" >&nbsp;</th>\n",
       "      <th id=\"T_ee8fe_level0_col0\" class=\"col_heading level0 col0\" >Model</th>\n",
       "      <th id=\"T_ee8fe_level0_col1\" class=\"col_heading level0 col1\" >MAE</th>\n",
       "      <th id=\"T_ee8fe_level0_col2\" class=\"col_heading level0 col2\" >MSE</th>\n",
       "      <th id=\"T_ee8fe_level0_col3\" class=\"col_heading level0 col3\" >RMSE</th>\n",
       "      <th id=\"T_ee8fe_level0_col4\" class=\"col_heading level0 col4\" >R2</th>\n",
       "      <th id=\"T_ee8fe_level0_col5\" class=\"col_heading level0 col5\" >RMSLE</th>\n",
       "      <th id=\"T_ee8fe_level0_col6\" class=\"col_heading level0 col6\" >MAPE</th>\n",
       "    </tr>\n",
       "  </thead>\n",
       "  <tbody>\n",
       "    <tr>\n",
       "      <th id=\"T_ee8fe_level0_row0\" class=\"row_heading level0 row0\" >0</th>\n",
       "      <td id=\"T_ee8fe_row0_col0\" class=\"data row0 col0\" >Ridge Regression</td>\n",
       "      <td id=\"T_ee8fe_row0_col1\" class=\"data row0 col1\" >13.9818</td>\n",
       "      <td id=\"T_ee8fe_row0_col2\" class=\"data row0 col2\" >195.4903</td>\n",
       "      <td id=\"T_ee8fe_row0_col3\" class=\"data row0 col3\" >13.9818</td>\n",
       "      <td id=\"T_ee8fe_row0_col4\" class=\"data row0 col4\" >nan</td>\n",
       "      <td id=\"T_ee8fe_row0_col5\" class=\"data row0 col5\" >0.1720</td>\n",
       "      <td id=\"T_ee8fe_row0_col6\" class=\"data row0 col6\" >0.1598</td>\n",
       "    </tr>\n",
       "  </tbody>\n",
       "</table>\n"
      ],
      "text/plain": [
       "<pandas.io.formats.style.Styler at 0x1f720149f50>"
      ]
     },
     "metadata": {},
     "output_type": "display_data"
    },
    {
     "data": {
      "text/html": [
       "<style type=\"text/css\">\n",
       "</style>\n",
       "<table id=\"T_4b57c\">\n",
       "  <thead>\n",
       "    <tr>\n",
       "      <th class=\"blank level0\" >&nbsp;</th>\n",
       "      <th id=\"T_4b57c_level0_col0\" class=\"col_heading level0 col0\" >Model</th>\n",
       "      <th id=\"T_4b57c_level0_col1\" class=\"col_heading level0 col1\" >MAE</th>\n",
       "      <th id=\"T_4b57c_level0_col2\" class=\"col_heading level0 col2\" >MSE</th>\n",
       "      <th id=\"T_4b57c_level0_col3\" class=\"col_heading level0 col3\" >RMSE</th>\n",
       "      <th id=\"T_4b57c_level0_col4\" class=\"col_heading level0 col4\" >R2</th>\n",
       "      <th id=\"T_4b57c_level0_col5\" class=\"col_heading level0 col5\" >RMSLE</th>\n",
       "      <th id=\"T_4b57c_level0_col6\" class=\"col_heading level0 col6\" >MAPE</th>\n",
       "    </tr>\n",
       "  </thead>\n",
       "  <tbody>\n",
       "    <tr>\n",
       "      <th id=\"T_4b57c_level0_row0\" class=\"row_heading level0 row0\" >0</th>\n",
       "      <td id=\"T_4b57c_row0_col0\" class=\"data row0 col0\" >Ridge Regression</td>\n",
       "      <td id=\"T_4b57c_row0_col1\" class=\"data row0 col1\" >13.0993</td>\n",
       "      <td id=\"T_4b57c_row0_col2\" class=\"data row0 col2\" >171.5906</td>\n",
       "      <td id=\"T_4b57c_row0_col3\" class=\"data row0 col3\" >13.0993</td>\n",
       "      <td id=\"T_4b57c_row0_col4\" class=\"data row0 col4\" >nan</td>\n",
       "      <td id=\"T_4b57c_row0_col5\" class=\"data row0 col5\" >0.1638</td>\n",
       "      <td id=\"T_4b57c_row0_col6\" class=\"data row0 col6\" >0.1528</td>\n",
       "    </tr>\n",
       "  </tbody>\n",
       "</table>\n"
      ],
      "text/plain": [
       "<pandas.io.formats.style.Styler at 0x1f73e689b90>"
      ]
     },
     "metadata": {},
     "output_type": "display_data"
    },
    {
     "data": {
      "text/html": [
       "<style type=\"text/css\">\n",
       "</style>\n",
       "<table id=\"T_7679c\">\n",
       "  <thead>\n",
       "    <tr>\n",
       "      <th class=\"blank level0\" >&nbsp;</th>\n",
       "      <th id=\"T_7679c_level0_col0\" class=\"col_heading level0 col0\" >Model</th>\n",
       "      <th id=\"T_7679c_level0_col1\" class=\"col_heading level0 col1\" >MAE</th>\n",
       "      <th id=\"T_7679c_level0_col2\" class=\"col_heading level0 col2\" >MSE</th>\n",
       "      <th id=\"T_7679c_level0_col3\" class=\"col_heading level0 col3\" >RMSE</th>\n",
       "      <th id=\"T_7679c_level0_col4\" class=\"col_heading level0 col4\" >R2</th>\n",
       "      <th id=\"T_7679c_level0_col5\" class=\"col_heading level0 col5\" >RMSLE</th>\n",
       "      <th id=\"T_7679c_level0_col6\" class=\"col_heading level0 col6\" >MAPE</th>\n",
       "    </tr>\n",
       "  </thead>\n",
       "  <tbody>\n",
       "    <tr>\n",
       "      <th id=\"T_7679c_level0_row0\" class=\"row_heading level0 row0\" >0</th>\n",
       "      <td id=\"T_7679c_row0_col0\" class=\"data row0 col0\" >Ridge Regression</td>\n",
       "      <td id=\"T_7679c_row0_col1\" class=\"data row0 col1\" >2.8438</td>\n",
       "      <td id=\"T_7679c_row0_col2\" class=\"data row0 col2\" >8.0874</td>\n",
       "      <td id=\"T_7679c_row0_col3\" class=\"data row0 col3\" >2.8438</td>\n",
       "      <td id=\"T_7679c_row0_col4\" class=\"data row0 col4\" >nan</td>\n",
       "      <td id=\"T_7679c_row0_col5\" class=\"data row0 col5\" >0.0365</td>\n",
       "      <td id=\"T_7679c_row0_col6\" class=\"data row0 col6\" >0.0363</td>\n",
       "    </tr>\n",
       "  </tbody>\n",
       "</table>\n"
      ],
      "text/plain": [
       "<pandas.io.formats.style.Styler at 0x1f73e68be10>"
      ]
     },
     "metadata": {},
     "output_type": "display_data"
    },
    {
     "data": {
      "text/html": [
       "<style type=\"text/css\">\n",
       "</style>\n",
       "<table id=\"T_bc9af\">\n",
       "  <thead>\n",
       "    <tr>\n",
       "      <th class=\"blank level0\" >&nbsp;</th>\n",
       "      <th id=\"T_bc9af_level0_col0\" class=\"col_heading level0 col0\" >Model</th>\n",
       "      <th id=\"T_bc9af_level0_col1\" class=\"col_heading level0 col1\" >MAE</th>\n",
       "      <th id=\"T_bc9af_level0_col2\" class=\"col_heading level0 col2\" >MSE</th>\n",
       "      <th id=\"T_bc9af_level0_col3\" class=\"col_heading level0 col3\" >RMSE</th>\n",
       "      <th id=\"T_bc9af_level0_col4\" class=\"col_heading level0 col4\" >R2</th>\n",
       "      <th id=\"T_bc9af_level0_col5\" class=\"col_heading level0 col5\" >RMSLE</th>\n",
       "      <th id=\"T_bc9af_level0_col6\" class=\"col_heading level0 col6\" >MAPE</th>\n",
       "    </tr>\n",
       "  </thead>\n",
       "  <tbody>\n",
       "    <tr>\n",
       "      <th id=\"T_bc9af_level0_row0\" class=\"row_heading level0 row0\" >0</th>\n",
       "      <td id=\"T_bc9af_row0_col0\" class=\"data row0 col0\" >Ridge Regression</td>\n",
       "      <td id=\"T_bc9af_row0_col1\" class=\"data row0 col1\" >2.8423</td>\n",
       "      <td id=\"T_bc9af_row0_col2\" class=\"data row0 col2\" >8.0789</td>\n",
       "      <td id=\"T_bc9af_row0_col3\" class=\"data row0 col3\" >2.8423</td>\n",
       "      <td id=\"T_bc9af_row0_col4\" class=\"data row0 col4\" >nan</td>\n",
       "      <td id=\"T_bc9af_row0_col5\" class=\"data row0 col5\" >0.0375</td>\n",
       "      <td id=\"T_bc9af_row0_col6\" class=\"data row0 col6\" >0.0372</td>\n",
       "    </tr>\n",
       "  </tbody>\n",
       "</table>\n"
      ],
      "text/plain": [
       "<pandas.io.formats.style.Styler at 0x1f70794cd10>"
      ]
     },
     "metadata": {},
     "output_type": "display_data"
    },
    {
     "data": {
      "text/html": [
       "<style type=\"text/css\">\n",
       "</style>\n",
       "<table id=\"T_be572\">\n",
       "  <thead>\n",
       "    <tr>\n",
       "      <th class=\"blank level0\" >&nbsp;</th>\n",
       "      <th id=\"T_be572_level0_col0\" class=\"col_heading level0 col0\" >Model</th>\n",
       "      <th id=\"T_be572_level0_col1\" class=\"col_heading level0 col1\" >MAE</th>\n",
       "      <th id=\"T_be572_level0_col2\" class=\"col_heading level0 col2\" >MSE</th>\n",
       "      <th id=\"T_be572_level0_col3\" class=\"col_heading level0 col3\" >RMSE</th>\n",
       "      <th id=\"T_be572_level0_col4\" class=\"col_heading level0 col4\" >R2</th>\n",
       "      <th id=\"T_be572_level0_col5\" class=\"col_heading level0 col5\" >RMSLE</th>\n",
       "      <th id=\"T_be572_level0_col6\" class=\"col_heading level0 col6\" >MAPE</th>\n",
       "    </tr>\n",
       "  </thead>\n",
       "  <tbody>\n",
       "    <tr>\n",
       "      <th id=\"T_be572_level0_row0\" class=\"row_heading level0 row0\" >0</th>\n",
       "      <td id=\"T_be572_row0_col0\" class=\"data row0 col0\" >Ridge Regression</td>\n",
       "      <td id=\"T_be572_row0_col1\" class=\"data row0 col1\" >4.3375</td>\n",
       "      <td id=\"T_be572_row0_col2\" class=\"data row0 col2\" >18.8141</td>\n",
       "      <td id=\"T_be572_row0_col3\" class=\"data row0 col3\" >4.3375</td>\n",
       "      <td id=\"T_be572_row0_col4\" class=\"data row0 col4\" >nan</td>\n",
       "      <td id=\"T_be572_row0_col5\" class=\"data row0 col5\" >0.0565</td>\n",
       "      <td id=\"T_be572_row0_col6\" class=\"data row0 col6\" >0.0556</td>\n",
       "    </tr>\n",
       "  </tbody>\n",
       "</table>\n"
      ],
      "text/plain": [
       "<pandas.io.formats.style.Styler at 0x1f73ee40190>"
      ]
     },
     "metadata": {},
     "output_type": "display_data"
    },
    {
     "data": {
      "text/html": [
       "<style type=\"text/css\">\n",
       "</style>\n",
       "<table id=\"T_7c105\">\n",
       "  <thead>\n",
       "    <tr>\n",
       "      <th class=\"blank level0\" >&nbsp;</th>\n",
       "      <th id=\"T_7c105_level0_col0\" class=\"col_heading level0 col0\" >Model</th>\n",
       "      <th id=\"T_7c105_level0_col1\" class=\"col_heading level0 col1\" >MAE</th>\n",
       "      <th id=\"T_7c105_level0_col2\" class=\"col_heading level0 col2\" >MSE</th>\n",
       "      <th id=\"T_7c105_level0_col3\" class=\"col_heading level0 col3\" >RMSE</th>\n",
       "      <th id=\"T_7c105_level0_col4\" class=\"col_heading level0 col4\" >R2</th>\n",
       "      <th id=\"T_7c105_level0_col5\" class=\"col_heading level0 col5\" >RMSLE</th>\n",
       "      <th id=\"T_7c105_level0_col6\" class=\"col_heading level0 col6\" >MAPE</th>\n",
       "    </tr>\n",
       "  </thead>\n",
       "  <tbody>\n",
       "    <tr>\n",
       "      <th id=\"T_7c105_level0_row0\" class=\"row_heading level0 row0\" >0</th>\n",
       "      <td id=\"T_7c105_row0_col0\" class=\"data row0 col0\" >Ridge Regression</td>\n",
       "      <td id=\"T_7c105_row0_col1\" class=\"data row0 col1\" >4.0450</td>\n",
       "      <td id=\"T_7c105_row0_col2\" class=\"data row0 col2\" >16.3621</td>\n",
       "      <td id=\"T_7c105_row0_col3\" class=\"data row0 col3\" >4.0450</td>\n",
       "      <td id=\"T_7c105_row0_col4\" class=\"data row0 col4\" >nan</td>\n",
       "      <td id=\"T_7c105_row0_col5\" class=\"data row0 col5\" >0.0527</td>\n",
       "      <td id=\"T_7c105_row0_col6\" class=\"data row0 col6\" >0.0520</td>\n",
       "    </tr>\n",
       "  </tbody>\n",
       "</table>\n"
      ],
      "text/plain": [
       "<pandas.io.formats.style.Styler at 0x1f707942d50>"
      ]
     },
     "metadata": {},
     "output_type": "display_data"
    },
    {
     "data": {
      "text/html": [
       "<style type=\"text/css\">\n",
       "</style>\n",
       "<table id=\"T_64e6e\">\n",
       "  <thead>\n",
       "    <tr>\n",
       "      <th class=\"blank level0\" >&nbsp;</th>\n",
       "      <th id=\"T_64e6e_level0_col0\" class=\"col_heading level0 col0\" >Model</th>\n",
       "      <th id=\"T_64e6e_level0_col1\" class=\"col_heading level0 col1\" >MAE</th>\n",
       "      <th id=\"T_64e6e_level0_col2\" class=\"col_heading level0 col2\" >MSE</th>\n",
       "      <th id=\"T_64e6e_level0_col3\" class=\"col_heading level0 col3\" >RMSE</th>\n",
       "      <th id=\"T_64e6e_level0_col4\" class=\"col_heading level0 col4\" >R2</th>\n",
       "      <th id=\"T_64e6e_level0_col5\" class=\"col_heading level0 col5\" >RMSLE</th>\n",
       "      <th id=\"T_64e6e_level0_col6\" class=\"col_heading level0 col6\" >MAPE</th>\n",
       "    </tr>\n",
       "  </thead>\n",
       "  <tbody>\n",
       "    <tr>\n",
       "      <th id=\"T_64e6e_level0_row0\" class=\"row_heading level0 row0\" >0</th>\n",
       "      <td id=\"T_64e6e_row0_col0\" class=\"data row0 col0\" >Ridge Regression</td>\n",
       "      <td id=\"T_64e6e_row0_col1\" class=\"data row0 col1\" >3.3657</td>\n",
       "      <td id=\"T_64e6e_row0_col2\" class=\"data row0 col2\" >11.3277</td>\n",
       "      <td id=\"T_64e6e_row0_col3\" class=\"data row0 col3\" >3.3657</td>\n",
       "      <td id=\"T_64e6e_row0_col4\" class=\"data row0 col4\" >nan</td>\n",
       "      <td id=\"T_64e6e_row0_col5\" class=\"data row0 col5\" >0.0451</td>\n",
       "      <td id=\"T_64e6e_row0_col6\" class=\"data row0 col6\" >0.0467</td>\n",
       "    </tr>\n",
       "  </tbody>\n",
       "</table>\n"
      ],
      "text/plain": [
       "<pandas.io.formats.style.Styler at 0x1f73ee1bed0>"
      ]
     },
     "metadata": {},
     "output_type": "display_data"
    },
    {
     "data": {
      "text/html": [
       "<style type=\"text/css\">\n",
       "</style>\n",
       "<table id=\"T_c95a7\">\n",
       "  <thead>\n",
       "    <tr>\n",
       "      <th class=\"blank level0\" >&nbsp;</th>\n",
       "      <th id=\"T_c95a7_level0_col0\" class=\"col_heading level0 col0\" >Model</th>\n",
       "      <th id=\"T_c95a7_level0_col1\" class=\"col_heading level0 col1\" >MAE</th>\n",
       "      <th id=\"T_c95a7_level0_col2\" class=\"col_heading level0 col2\" >MSE</th>\n",
       "      <th id=\"T_c95a7_level0_col3\" class=\"col_heading level0 col3\" >RMSE</th>\n",
       "      <th id=\"T_c95a7_level0_col4\" class=\"col_heading level0 col4\" >R2</th>\n",
       "      <th id=\"T_c95a7_level0_col5\" class=\"col_heading level0 col5\" >RMSLE</th>\n",
       "      <th id=\"T_c95a7_level0_col6\" class=\"col_heading level0 col6\" >MAPE</th>\n",
       "    </tr>\n",
       "  </thead>\n",
       "  <tbody>\n",
       "    <tr>\n",
       "      <th id=\"T_c95a7_level0_row0\" class=\"row_heading level0 row0\" >0</th>\n",
       "      <td id=\"T_c95a7_row0_col0\" class=\"data row0 col0\" >Ridge Regression</td>\n",
       "      <td id=\"T_c95a7_row0_col1\" class=\"data row0 col1\" >1.6154</td>\n",
       "      <td id=\"T_c95a7_row0_col2\" class=\"data row0 col2\" >2.6095</td>\n",
       "      <td id=\"T_c95a7_row0_col3\" class=\"data row0 col3\" >1.6154</td>\n",
       "      <td id=\"T_c95a7_row0_col4\" class=\"data row0 col4\" >nan</td>\n",
       "      <td id=\"T_c95a7_row0_col5\" class=\"data row0 col5\" >0.0221</td>\n",
       "      <td id=\"T_c95a7_row0_col6\" class=\"data row0 col6\" >0.0226</td>\n",
       "    </tr>\n",
       "  </tbody>\n",
       "</table>\n"
      ],
      "text/plain": [
       "<pandas.io.formats.style.Styler at 0x1f73ef094d0>"
      ]
     },
     "metadata": {},
     "output_type": "display_data"
    },
    {
     "data": {
      "text/html": [
       "<style type=\"text/css\">\n",
       "</style>\n",
       "<table id=\"T_10689\">\n",
       "  <thead>\n",
       "    <tr>\n",
       "      <th class=\"blank level0\" >&nbsp;</th>\n",
       "      <th id=\"T_10689_level0_col0\" class=\"col_heading level0 col0\" >Model</th>\n",
       "      <th id=\"T_10689_level0_col1\" class=\"col_heading level0 col1\" >MAE</th>\n",
       "      <th id=\"T_10689_level0_col2\" class=\"col_heading level0 col2\" >MSE</th>\n",
       "      <th id=\"T_10689_level0_col3\" class=\"col_heading level0 col3\" >RMSE</th>\n",
       "      <th id=\"T_10689_level0_col4\" class=\"col_heading level0 col4\" >R2</th>\n",
       "      <th id=\"T_10689_level0_col5\" class=\"col_heading level0 col5\" >RMSLE</th>\n",
       "      <th id=\"T_10689_level0_col6\" class=\"col_heading level0 col6\" >MAPE</th>\n",
       "    </tr>\n",
       "  </thead>\n",
       "  <tbody>\n",
       "    <tr>\n",
       "      <th id=\"T_10689_level0_row0\" class=\"row_heading level0 row0\" >0</th>\n",
       "      <td id=\"T_10689_row0_col0\" class=\"data row0 col0\" >Ridge Regression</td>\n",
       "      <td id=\"T_10689_row0_col1\" class=\"data row0 col1\" >4.6612</td>\n",
       "      <td id=\"T_10689_row0_col2\" class=\"data row0 col2\" >21.7266</td>\n",
       "      <td id=\"T_10689_row0_col3\" class=\"data row0 col3\" >4.6612</td>\n",
       "      <td id=\"T_10689_row0_col4\" class=\"data row0 col4\" >nan</td>\n",
       "      <td id=\"T_10689_row0_col5\" class=\"data row0 col5\" >0.0608</td>\n",
       "      <td id=\"T_10689_row0_col6\" class=\"data row0 col6\" >0.0598</td>\n",
       "    </tr>\n",
       "  </tbody>\n",
       "</table>\n"
      ],
      "text/plain": [
       "<pandas.io.formats.style.Styler at 0x1f73ef08a50>"
      ]
     },
     "metadata": {},
     "output_type": "display_data"
    },
    {
     "data": {
      "text/html": [
       "<style type=\"text/css\">\n",
       "</style>\n",
       "<table id=\"T_24bdb\">\n",
       "  <thead>\n",
       "    <tr>\n",
       "      <th class=\"blank level0\" >&nbsp;</th>\n",
       "      <th id=\"T_24bdb_level0_col0\" class=\"col_heading level0 col0\" >Model</th>\n",
       "      <th id=\"T_24bdb_level0_col1\" class=\"col_heading level0 col1\" >MAE</th>\n",
       "      <th id=\"T_24bdb_level0_col2\" class=\"col_heading level0 col2\" >MSE</th>\n",
       "      <th id=\"T_24bdb_level0_col3\" class=\"col_heading level0 col3\" >RMSE</th>\n",
       "      <th id=\"T_24bdb_level0_col4\" class=\"col_heading level0 col4\" >R2</th>\n",
       "      <th id=\"T_24bdb_level0_col5\" class=\"col_heading level0 col5\" >RMSLE</th>\n",
       "      <th id=\"T_24bdb_level0_col6\" class=\"col_heading level0 col6\" >MAPE</th>\n",
       "    </tr>\n",
       "  </thead>\n",
       "  <tbody>\n",
       "    <tr>\n",
       "      <th id=\"T_24bdb_level0_row0\" class=\"row_heading level0 row0\" >0</th>\n",
       "      <td id=\"T_24bdb_row0_col0\" class=\"data row0 col0\" >Ridge Regression</td>\n",
       "      <td id=\"T_24bdb_row0_col1\" class=\"data row0 col1\" >3.5832</td>\n",
       "      <td id=\"T_24bdb_row0_col2\" class=\"data row0 col2\" >12.8393</td>\n",
       "      <td id=\"T_24bdb_row0_col3\" class=\"data row0 col3\" >3.5832</td>\n",
       "      <td id=\"T_24bdb_row0_col4\" class=\"data row0 col4\" >nan</td>\n",
       "      <td id=\"T_24bdb_row0_col5\" class=\"data row0 col5\" >0.0472</td>\n",
       "      <td id=\"T_24bdb_row0_col6\" class=\"data row0 col6\" >0.0467</td>\n",
       "    </tr>\n",
       "  </tbody>\n",
       "</table>\n"
      ],
      "text/plain": [
       "<pandas.io.formats.style.Styler at 0x1f73c5c8890>"
      ]
     },
     "metadata": {},
     "output_type": "display_data"
    },
    {
     "data": {
      "text/html": [
       "<style type=\"text/css\">\n",
       "</style>\n",
       "<table id=\"T_d43d4\">\n",
       "  <thead>\n",
       "    <tr>\n",
       "      <th class=\"blank level0\" >&nbsp;</th>\n",
       "      <th id=\"T_d43d4_level0_col0\" class=\"col_heading level0 col0\" >Model</th>\n",
       "      <th id=\"T_d43d4_level0_col1\" class=\"col_heading level0 col1\" >MAE</th>\n",
       "      <th id=\"T_d43d4_level0_col2\" class=\"col_heading level0 col2\" >MSE</th>\n",
       "      <th id=\"T_d43d4_level0_col3\" class=\"col_heading level0 col3\" >RMSE</th>\n",
       "      <th id=\"T_d43d4_level0_col4\" class=\"col_heading level0 col4\" >R2</th>\n",
       "      <th id=\"T_d43d4_level0_col5\" class=\"col_heading level0 col5\" >RMSLE</th>\n",
       "      <th id=\"T_d43d4_level0_col6\" class=\"col_heading level0 col6\" >MAPE</th>\n",
       "    </tr>\n",
       "  </thead>\n",
       "  <tbody>\n",
       "    <tr>\n",
       "      <th id=\"T_d43d4_level0_row0\" class=\"row_heading level0 row0\" >0</th>\n",
       "      <td id=\"T_d43d4_row0_col0\" class=\"data row0 col0\" >Ridge Regression</td>\n",
       "      <td id=\"T_d43d4_row0_col1\" class=\"data row0 col1\" >0.2743</td>\n",
       "      <td id=\"T_d43d4_row0_col2\" class=\"data row0 col2\" >0.0752</td>\n",
       "      <td id=\"T_d43d4_row0_col3\" class=\"data row0 col3\" >0.2743</td>\n",
       "      <td id=\"T_d43d4_row0_col4\" class=\"data row0 col4\" >nan</td>\n",
       "      <td id=\"T_d43d4_row0_col5\" class=\"data row0 col5\" >0.0036</td>\n",
       "      <td id=\"T_d43d4_row0_col6\" class=\"data row0 col6\" >0.0036</td>\n",
       "    </tr>\n",
       "  </tbody>\n",
       "</table>\n"
      ],
      "text/plain": [
       "<pandas.io.formats.style.Styler at 0x1f73c3d4350>"
      ]
     },
     "metadata": {},
     "output_type": "display_data"
    },
    {
     "data": {
      "text/html": [
       "<style type=\"text/css\">\n",
       "</style>\n",
       "<table id=\"T_1b205\">\n",
       "  <thead>\n",
       "    <tr>\n",
       "      <th class=\"blank level0\" >&nbsp;</th>\n",
       "      <th id=\"T_1b205_level0_col0\" class=\"col_heading level0 col0\" >Model</th>\n",
       "      <th id=\"T_1b205_level0_col1\" class=\"col_heading level0 col1\" >MAE</th>\n",
       "      <th id=\"T_1b205_level0_col2\" class=\"col_heading level0 col2\" >MSE</th>\n",
       "      <th id=\"T_1b205_level0_col3\" class=\"col_heading level0 col3\" >RMSE</th>\n",
       "      <th id=\"T_1b205_level0_col4\" class=\"col_heading level0 col4\" >R2</th>\n",
       "      <th id=\"T_1b205_level0_col5\" class=\"col_heading level0 col5\" >RMSLE</th>\n",
       "      <th id=\"T_1b205_level0_col6\" class=\"col_heading level0 col6\" >MAPE</th>\n",
       "    </tr>\n",
       "  </thead>\n",
       "  <tbody>\n",
       "    <tr>\n",
       "      <th id=\"T_1b205_level0_row0\" class=\"row_heading level0 row0\" >0</th>\n",
       "      <td id=\"T_1b205_row0_col0\" class=\"data row0 col0\" >Ridge Regression</td>\n",
       "      <td id=\"T_1b205_row0_col1\" class=\"data row0 col1\" >3.7692</td>\n",
       "      <td id=\"T_1b205_row0_col2\" class=\"data row0 col2\" >14.2065</td>\n",
       "      <td id=\"T_1b205_row0_col3\" class=\"data row0 col3\" >3.7692</td>\n",
       "      <td id=\"T_1b205_row0_col4\" class=\"data row0 col4\" >nan</td>\n",
       "      <td id=\"T_1b205_row0_col5\" class=\"data row0 col5\" >0.0520</td>\n",
       "      <td id=\"T_1b205_row0_col6\" class=\"data row0 col6\" >0.0541</td>\n",
       "    </tr>\n",
       "  </tbody>\n",
       "</table>\n"
      ],
      "text/plain": [
       "<pandas.io.formats.style.Styler at 0x1f73e6af8d0>"
      ]
     },
     "metadata": {},
     "output_type": "display_data"
    },
    {
     "data": {
      "text/html": [
       "<style type=\"text/css\">\n",
       "</style>\n",
       "<table id=\"T_03b6e\">\n",
       "  <thead>\n",
       "    <tr>\n",
       "      <th class=\"blank level0\" >&nbsp;</th>\n",
       "      <th id=\"T_03b6e_level0_col0\" class=\"col_heading level0 col0\" >Model</th>\n",
       "      <th id=\"T_03b6e_level0_col1\" class=\"col_heading level0 col1\" >MAE</th>\n",
       "      <th id=\"T_03b6e_level0_col2\" class=\"col_heading level0 col2\" >MSE</th>\n",
       "      <th id=\"T_03b6e_level0_col3\" class=\"col_heading level0 col3\" >RMSE</th>\n",
       "      <th id=\"T_03b6e_level0_col4\" class=\"col_heading level0 col4\" >R2</th>\n",
       "      <th id=\"T_03b6e_level0_col5\" class=\"col_heading level0 col5\" >RMSLE</th>\n",
       "      <th id=\"T_03b6e_level0_col6\" class=\"col_heading level0 col6\" >MAPE</th>\n",
       "    </tr>\n",
       "  </thead>\n",
       "  <tbody>\n",
       "    <tr>\n",
       "      <th id=\"T_03b6e_level0_row0\" class=\"row_heading level0 row0\" >0</th>\n",
       "      <td id=\"T_03b6e_row0_col0\" class=\"data row0 col0\" >Ridge Regression</td>\n",
       "      <td id=\"T_03b6e_row0_col1\" class=\"data row0 col1\" >1.0137</td>\n",
       "      <td id=\"T_03b6e_row0_col2\" class=\"data row0 col2\" >1.0277</td>\n",
       "      <td id=\"T_03b6e_row0_col3\" class=\"data row0 col3\" >1.0137</td>\n",
       "      <td id=\"T_03b6e_row0_col4\" class=\"data row0 col4\" >nan</td>\n",
       "      <td id=\"T_03b6e_row0_col5\" class=\"data row0 col5\" >0.0138</td>\n",
       "      <td id=\"T_03b6e_row0_col6\" class=\"data row0 col6\" >0.0140</td>\n",
       "    </tr>\n",
       "  </tbody>\n",
       "</table>\n"
      ],
      "text/plain": [
       "<pandas.io.formats.style.Styler at 0x1f73eef4790>"
      ]
     },
     "metadata": {},
     "output_type": "display_data"
    },
    {
     "data": {
      "text/html": [
       "<style type=\"text/css\">\n",
       "</style>\n",
       "<table id=\"T_72d35\">\n",
       "  <thead>\n",
       "    <tr>\n",
       "      <th class=\"blank level0\" >&nbsp;</th>\n",
       "      <th id=\"T_72d35_level0_col0\" class=\"col_heading level0 col0\" >Model</th>\n",
       "      <th id=\"T_72d35_level0_col1\" class=\"col_heading level0 col1\" >MAE</th>\n",
       "      <th id=\"T_72d35_level0_col2\" class=\"col_heading level0 col2\" >MSE</th>\n",
       "      <th id=\"T_72d35_level0_col3\" class=\"col_heading level0 col3\" >RMSE</th>\n",
       "      <th id=\"T_72d35_level0_col4\" class=\"col_heading level0 col4\" >R2</th>\n",
       "      <th id=\"T_72d35_level0_col5\" class=\"col_heading level0 col5\" >RMSLE</th>\n",
       "      <th id=\"T_72d35_level0_col6\" class=\"col_heading level0 col6\" >MAPE</th>\n",
       "    </tr>\n",
       "  </thead>\n",
       "  <tbody>\n",
       "    <tr>\n",
       "      <th id=\"T_72d35_level0_row0\" class=\"row_heading level0 row0\" >0</th>\n",
       "      <td id=\"T_72d35_row0_col0\" class=\"data row0 col0\" >Ridge Regression</td>\n",
       "      <td id=\"T_72d35_row0_col1\" class=\"data row0 col1\" >2.8299</td>\n",
       "      <td id=\"T_72d35_row0_col2\" class=\"data row0 col2\" >8.0083</td>\n",
       "      <td id=\"T_72d35_row0_col3\" class=\"data row0 col3\" >2.8299</td>\n",
       "      <td id=\"T_72d35_row0_col4\" class=\"data row0 col4\" >nan</td>\n",
       "      <td id=\"T_72d35_row0_col5\" class=\"data row0 col5\" >0.0386</td>\n",
       "      <td id=\"T_72d35_row0_col6\" class=\"data row0 col6\" >0.0400</td>\n",
       "    </tr>\n",
       "  </tbody>\n",
       "</table>\n"
      ],
      "text/plain": [
       "<pandas.io.formats.style.Styler at 0x1f73ecbcf50>"
      ]
     },
     "metadata": {},
     "output_type": "display_data"
    },
    {
     "data": {
      "text/html": [
       "<style type=\"text/css\">\n",
       "</style>\n",
       "<table id=\"T_87d17\">\n",
       "  <thead>\n",
       "    <tr>\n",
       "      <th class=\"blank level0\" >&nbsp;</th>\n",
       "      <th id=\"T_87d17_level0_col0\" class=\"col_heading level0 col0\" >Model</th>\n",
       "      <th id=\"T_87d17_level0_col1\" class=\"col_heading level0 col1\" >MAE</th>\n",
       "      <th id=\"T_87d17_level0_col2\" class=\"col_heading level0 col2\" >MSE</th>\n",
       "      <th id=\"T_87d17_level0_col3\" class=\"col_heading level0 col3\" >RMSE</th>\n",
       "      <th id=\"T_87d17_level0_col4\" class=\"col_heading level0 col4\" >R2</th>\n",
       "      <th id=\"T_87d17_level0_col5\" class=\"col_heading level0 col5\" >RMSLE</th>\n",
       "      <th id=\"T_87d17_level0_col6\" class=\"col_heading level0 col6\" >MAPE</th>\n",
       "    </tr>\n",
       "  </thead>\n",
       "  <tbody>\n",
       "    <tr>\n",
       "      <th id=\"T_87d17_level0_row0\" class=\"row_heading level0 row0\" >0</th>\n",
       "      <td id=\"T_87d17_row0_col0\" class=\"data row0 col0\" >Ridge Regression</td>\n",
       "      <td id=\"T_87d17_row0_col1\" class=\"data row0 col1\" >5.8815</td>\n",
       "      <td id=\"T_87d17_row0_col2\" class=\"data row0 col2\" >34.5915</td>\n",
       "      <td id=\"T_87d17_row0_col3\" class=\"data row0 col3\" >5.8815</td>\n",
       "      <td id=\"T_87d17_row0_col4\" class=\"data row0 col4\" >nan</td>\n",
       "      <td id=\"T_87d17_row0_col5\" class=\"data row0 col5\" >0.0814</td>\n",
       "      <td id=\"T_87d17_row0_col6\" class=\"data row0 col6\" >0.0860</td>\n",
       "    </tr>\n",
       "  </tbody>\n",
       "</table>\n"
      ],
      "text/plain": [
       "<pandas.io.formats.style.Styler at 0x1f73eeb9410>"
      ]
     },
     "metadata": {},
     "output_type": "display_data"
    },
    {
     "data": {
      "text/html": [
       "<style type=\"text/css\">\n",
       "</style>\n",
       "<table id=\"T_912e5\">\n",
       "  <thead>\n",
       "    <tr>\n",
       "      <th class=\"blank level0\" >&nbsp;</th>\n",
       "      <th id=\"T_912e5_level0_col0\" class=\"col_heading level0 col0\" >Model</th>\n",
       "      <th id=\"T_912e5_level0_col1\" class=\"col_heading level0 col1\" >MAE</th>\n",
       "      <th id=\"T_912e5_level0_col2\" class=\"col_heading level0 col2\" >MSE</th>\n",
       "      <th id=\"T_912e5_level0_col3\" class=\"col_heading level0 col3\" >RMSE</th>\n",
       "      <th id=\"T_912e5_level0_col4\" class=\"col_heading level0 col4\" >R2</th>\n",
       "      <th id=\"T_912e5_level0_col5\" class=\"col_heading level0 col5\" >RMSLE</th>\n",
       "      <th id=\"T_912e5_level0_col6\" class=\"col_heading level0 col6\" >MAPE</th>\n",
       "    </tr>\n",
       "  </thead>\n",
       "  <tbody>\n",
       "    <tr>\n",
       "      <th id=\"T_912e5_level0_row0\" class=\"row_heading level0 row0\" >0</th>\n",
       "      <td id=\"T_912e5_row0_col0\" class=\"data row0 col0\" >Ridge Regression</td>\n",
       "      <td id=\"T_912e5_row0_col1\" class=\"data row0 col1\" >1.4505</td>\n",
       "      <td id=\"T_912e5_row0_col2\" class=\"data row0 col2\" >2.1038</td>\n",
       "      <td id=\"T_912e5_row0_col3\" class=\"data row0 col3\" >1.4505</td>\n",
       "      <td id=\"T_912e5_row0_col4\" class=\"data row0 col4\" >nan</td>\n",
       "      <td id=\"T_912e5_row0_col5\" class=\"data row0 col5\" >0.0194</td>\n",
       "      <td id=\"T_912e5_row0_col6\" class=\"data row0 col6\" >0.0198</td>\n",
       "    </tr>\n",
       "  </tbody>\n",
       "</table>\n"
      ],
      "text/plain": [
       "<pandas.io.formats.style.Styler at 0x1f73c571a90>"
      ]
     },
     "metadata": {},
     "output_type": "display_data"
    },
    {
     "data": {
      "text/html": [
       "<style type=\"text/css\">\n",
       "</style>\n",
       "<table id=\"T_d59ad\">\n",
       "  <thead>\n",
       "    <tr>\n",
       "      <th class=\"blank level0\" >&nbsp;</th>\n",
       "      <th id=\"T_d59ad_level0_col0\" class=\"col_heading level0 col0\" >Model</th>\n",
       "      <th id=\"T_d59ad_level0_col1\" class=\"col_heading level0 col1\" >MAE</th>\n",
       "      <th id=\"T_d59ad_level0_col2\" class=\"col_heading level0 col2\" >MSE</th>\n",
       "      <th id=\"T_d59ad_level0_col3\" class=\"col_heading level0 col3\" >RMSE</th>\n",
       "      <th id=\"T_d59ad_level0_col4\" class=\"col_heading level0 col4\" >R2</th>\n",
       "      <th id=\"T_d59ad_level0_col5\" class=\"col_heading level0 col5\" >RMSLE</th>\n",
       "      <th id=\"T_d59ad_level0_col6\" class=\"col_heading level0 col6\" >MAPE</th>\n",
       "    </tr>\n",
       "  </thead>\n",
       "  <tbody>\n",
       "    <tr>\n",
       "      <th id=\"T_d59ad_level0_row0\" class=\"row_heading level0 row0\" >0</th>\n",
       "      <td id=\"T_d59ad_row0_col0\" class=\"data row0 col0\" >Ridge Regression</td>\n",
       "      <td id=\"T_d59ad_row0_col1\" class=\"data row0 col1\" >0.0757</td>\n",
       "      <td id=\"T_d59ad_row0_col2\" class=\"data row0 col2\" >0.0057</td>\n",
       "      <td id=\"T_d59ad_row0_col3\" class=\"data row0 col3\" >0.0757</td>\n",
       "      <td id=\"T_d59ad_row0_col4\" class=\"data row0 col4\" >nan</td>\n",
       "      <td id=\"T_d59ad_row0_col5\" class=\"data row0 col5\" >0.0010</td>\n",
       "      <td id=\"T_d59ad_row0_col6\" class=\"data row0 col6\" >0.0010</td>\n",
       "    </tr>\n",
       "  </tbody>\n",
       "</table>\n"
      ],
      "text/plain": [
       "<pandas.io.formats.style.Styler at 0x1f73ee1e110>"
      ]
     },
     "metadata": {},
     "output_type": "display_data"
    },
    {
     "data": {
      "text/html": [
       "<style type=\"text/css\">\n",
       "</style>\n",
       "<table id=\"T_83d2e\">\n",
       "  <thead>\n",
       "    <tr>\n",
       "      <th class=\"blank level0\" >&nbsp;</th>\n",
       "      <th id=\"T_83d2e_level0_col0\" class=\"col_heading level0 col0\" >Model</th>\n",
       "      <th id=\"T_83d2e_level0_col1\" class=\"col_heading level0 col1\" >MAE</th>\n",
       "      <th id=\"T_83d2e_level0_col2\" class=\"col_heading level0 col2\" >MSE</th>\n",
       "      <th id=\"T_83d2e_level0_col3\" class=\"col_heading level0 col3\" >RMSE</th>\n",
       "      <th id=\"T_83d2e_level0_col4\" class=\"col_heading level0 col4\" >R2</th>\n",
       "      <th id=\"T_83d2e_level0_col5\" class=\"col_heading level0 col5\" >RMSLE</th>\n",
       "      <th id=\"T_83d2e_level0_col6\" class=\"col_heading level0 col6\" >MAPE</th>\n",
       "    </tr>\n",
       "  </thead>\n",
       "  <tbody>\n",
       "    <tr>\n",
       "      <th id=\"T_83d2e_level0_row0\" class=\"row_heading level0 row0\" >0</th>\n",
       "      <td id=\"T_83d2e_row0_col0\" class=\"data row0 col0\" >Ridge Regression</td>\n",
       "      <td id=\"T_83d2e_row0_col1\" class=\"data row0 col1\" >7.5581</td>\n",
       "      <td id=\"T_83d2e_row0_col2\" class=\"data row0 col2\" >57.1255</td>\n",
       "      <td id=\"T_83d2e_row0_col3\" class=\"data row0 col3\" >7.5581</td>\n",
       "      <td id=\"T_83d2e_row0_col4\" class=\"data row0 col4\" >nan</td>\n",
       "      <td id=\"T_83d2e_row0_col5\" class=\"data row0 col5\" >0.1057</td>\n",
       "      <td id=\"T_83d2e_row0_col6\" class=\"data row0 col6\" >0.1132</td>\n",
       "    </tr>\n",
       "  </tbody>\n",
       "</table>\n"
      ],
      "text/plain": [
       "<pandas.io.formats.style.Styler at 0x1f73e6d5fd0>"
      ]
     },
     "metadata": {},
     "output_type": "display_data"
    },
    {
     "data": {
      "text/html": [
       "<style type=\"text/css\">\n",
       "</style>\n",
       "<table id=\"T_ae5e2\">\n",
       "  <thead>\n",
       "    <tr>\n",
       "      <th class=\"blank level0\" >&nbsp;</th>\n",
       "      <th id=\"T_ae5e2_level0_col0\" class=\"col_heading level0 col0\" >Model</th>\n",
       "      <th id=\"T_ae5e2_level0_col1\" class=\"col_heading level0 col1\" >MAE</th>\n",
       "      <th id=\"T_ae5e2_level0_col2\" class=\"col_heading level0 col2\" >MSE</th>\n",
       "      <th id=\"T_ae5e2_level0_col3\" class=\"col_heading level0 col3\" >RMSE</th>\n",
       "      <th id=\"T_ae5e2_level0_col4\" class=\"col_heading level0 col4\" >R2</th>\n",
       "      <th id=\"T_ae5e2_level0_col5\" class=\"col_heading level0 col5\" >RMSLE</th>\n",
       "      <th id=\"T_ae5e2_level0_col6\" class=\"col_heading level0 col6\" >MAPE</th>\n",
       "    </tr>\n",
       "  </thead>\n",
       "  <tbody>\n",
       "    <tr>\n",
       "      <th id=\"T_ae5e2_level0_row0\" class=\"row_heading level0 row0\" >0</th>\n",
       "      <td id=\"T_ae5e2_row0_col0\" class=\"data row0 col0\" >Ridge Regression</td>\n",
       "      <td id=\"T_ae5e2_row0_col1\" class=\"data row0 col1\" >2.4693</td>\n",
       "      <td id=\"T_ae5e2_row0_col2\" class=\"data row0 col2\" >6.0973</td>\n",
       "      <td id=\"T_ae5e2_row0_col3\" class=\"data row0 col3\" >2.4693</td>\n",
       "      <td id=\"T_ae5e2_row0_col4\" class=\"data row0 col4\" >nan</td>\n",
       "      <td id=\"T_ae5e2_row0_col5\" class=\"data row0 col5\" >0.0333</td>\n",
       "      <td id=\"T_ae5e2_row0_col6\" class=\"data row0 col6\" >0.0344</td>\n",
       "    </tr>\n",
       "  </tbody>\n",
       "</table>\n"
      ],
      "text/plain": [
       "<pandas.io.formats.style.Styler at 0x1f73e7519d0>"
      ]
     },
     "metadata": {},
     "output_type": "display_data"
    },
    {
     "data": {
      "text/html": [
       "<style type=\"text/css\">\n",
       "</style>\n",
       "<table id=\"T_5910e\">\n",
       "  <thead>\n",
       "    <tr>\n",
       "      <th class=\"blank level0\" >&nbsp;</th>\n",
       "      <th id=\"T_5910e_level0_col0\" class=\"col_heading level0 col0\" >Model</th>\n",
       "      <th id=\"T_5910e_level0_col1\" class=\"col_heading level0 col1\" >MAE</th>\n",
       "      <th id=\"T_5910e_level0_col2\" class=\"col_heading level0 col2\" >MSE</th>\n",
       "      <th id=\"T_5910e_level0_col3\" class=\"col_heading level0 col3\" >RMSE</th>\n",
       "      <th id=\"T_5910e_level0_col4\" class=\"col_heading level0 col4\" >R2</th>\n",
       "      <th id=\"T_5910e_level0_col5\" class=\"col_heading level0 col5\" >RMSLE</th>\n",
       "      <th id=\"T_5910e_level0_col6\" class=\"col_heading level0 col6\" >MAPE</th>\n",
       "    </tr>\n",
       "  </thead>\n",
       "  <tbody>\n",
       "    <tr>\n",
       "      <th id=\"T_5910e_level0_row0\" class=\"row_heading level0 row0\" >0</th>\n",
       "      <td id=\"T_5910e_row0_col0\" class=\"data row0 col0\" >Ridge Regression</td>\n",
       "      <td id=\"T_5910e_row0_col1\" class=\"data row0 col1\" >3.7451</td>\n",
       "      <td id=\"T_5910e_row0_col2\" class=\"data row0 col2\" >14.0259</td>\n",
       "      <td id=\"T_5910e_row0_col3\" class=\"data row0 col3\" >3.7451</td>\n",
       "      <td id=\"T_5910e_row0_col4\" class=\"data row0 col4\" >nan</td>\n",
       "      <td id=\"T_5910e_row0_col5\" class=\"data row0 col5\" >0.0510</td>\n",
       "      <td id=\"T_5910e_row0_col6\" class=\"data row0 col6\" >0.0531</td>\n",
       "    </tr>\n",
       "  </tbody>\n",
       "</table>\n"
      ],
      "text/plain": [
       "<pandas.io.formats.style.Styler at 0x1f73c3fb690>"
      ]
     },
     "metadata": {},
     "output_type": "display_data"
    },
    {
     "data": {
      "text/html": [
       "<style type=\"text/css\">\n",
       "</style>\n",
       "<table id=\"T_5e42a\">\n",
       "  <thead>\n",
       "    <tr>\n",
       "      <th class=\"blank level0\" >&nbsp;</th>\n",
       "      <th id=\"T_5e42a_level0_col0\" class=\"col_heading level0 col0\" >Model</th>\n",
       "      <th id=\"T_5e42a_level0_col1\" class=\"col_heading level0 col1\" >MAE</th>\n",
       "      <th id=\"T_5e42a_level0_col2\" class=\"col_heading level0 col2\" >MSE</th>\n",
       "      <th id=\"T_5e42a_level0_col3\" class=\"col_heading level0 col3\" >RMSE</th>\n",
       "      <th id=\"T_5e42a_level0_col4\" class=\"col_heading level0 col4\" >R2</th>\n",
       "      <th id=\"T_5e42a_level0_col5\" class=\"col_heading level0 col5\" >RMSLE</th>\n",
       "      <th id=\"T_5e42a_level0_col6\" class=\"col_heading level0 col6\" >MAPE</th>\n",
       "    </tr>\n",
       "  </thead>\n",
       "  <tbody>\n",
       "    <tr>\n",
       "      <th id=\"T_5e42a_level0_row0\" class=\"row_heading level0 row0\" >0</th>\n",
       "      <td id=\"T_5e42a_row0_col0\" class=\"data row0 col0\" >Ridge Regression</td>\n",
       "      <td id=\"T_5e42a_row0_col1\" class=\"data row0 col1\" >3.4674</td>\n",
       "      <td id=\"T_5e42a_row0_col2\" class=\"data row0 col2\" >12.0227</td>\n",
       "      <td id=\"T_5e42a_row0_col3\" class=\"data row0 col3\" >3.4674</td>\n",
       "      <td id=\"T_5e42a_row0_col4\" class=\"data row0 col4\" >nan</td>\n",
       "      <td id=\"T_5e42a_row0_col5\" class=\"data row0 col5\" >0.0471</td>\n",
       "      <td id=\"T_5e42a_row0_col6\" class=\"data row0 col6\" >0.0489</td>\n",
       "    </tr>\n",
       "  </tbody>\n",
       "</table>\n"
      ],
      "text/plain": [
       "<pandas.io.formats.style.Styler at 0x1f73e690e50>"
      ]
     },
     "metadata": {},
     "output_type": "display_data"
    },
    {
     "data": {
      "text/html": [
       "<style type=\"text/css\">\n",
       "</style>\n",
       "<table id=\"T_c7960\">\n",
       "  <thead>\n",
       "    <tr>\n",
       "      <th class=\"blank level0\" >&nbsp;</th>\n",
       "      <th id=\"T_c7960_level0_col0\" class=\"col_heading level0 col0\" >Model</th>\n",
       "      <th id=\"T_c7960_level0_col1\" class=\"col_heading level0 col1\" >MAE</th>\n",
       "      <th id=\"T_c7960_level0_col2\" class=\"col_heading level0 col2\" >MSE</th>\n",
       "      <th id=\"T_c7960_level0_col3\" class=\"col_heading level0 col3\" >RMSE</th>\n",
       "      <th id=\"T_c7960_level0_col4\" class=\"col_heading level0 col4\" >R2</th>\n",
       "      <th id=\"T_c7960_level0_col5\" class=\"col_heading level0 col5\" >RMSLE</th>\n",
       "      <th id=\"T_c7960_level0_col6\" class=\"col_heading level0 col6\" >MAPE</th>\n",
       "    </tr>\n",
       "  </thead>\n",
       "  <tbody>\n",
       "    <tr>\n",
       "      <th id=\"T_c7960_level0_row0\" class=\"row_heading level0 row0\" >0</th>\n",
       "      <td id=\"T_c7960_row0_col0\" class=\"data row0 col0\" >Ridge Regression</td>\n",
       "      <td id=\"T_c7960_row0_col1\" class=\"data row0 col1\" >2.1911</td>\n",
       "      <td id=\"T_c7960_row0_col2\" class=\"data row0 col2\" >4.8010</td>\n",
       "      <td id=\"T_c7960_row0_col3\" class=\"data row0 col3\" >2.1911</td>\n",
       "      <td id=\"T_c7960_row0_col4\" class=\"data row0 col4\" >nan</td>\n",
       "      <td id=\"T_c7960_row0_col5\" class=\"data row0 col5\" >0.0296</td>\n",
       "      <td id=\"T_c7960_row0_col6\" class=\"data row0 col6\" >0.0304</td>\n",
       "    </tr>\n",
       "  </tbody>\n",
       "</table>\n"
      ],
      "text/plain": [
       "<pandas.io.formats.style.Styler at 0x1f720185590>"
      ]
     },
     "metadata": {},
     "output_type": "display_data"
    },
    {
     "data": {
      "text/html": [
       "<style type=\"text/css\">\n",
       "</style>\n",
       "<table id=\"T_bb2d4\">\n",
       "  <thead>\n",
       "    <tr>\n",
       "      <th class=\"blank level0\" >&nbsp;</th>\n",
       "      <th id=\"T_bb2d4_level0_col0\" class=\"col_heading level0 col0\" >Model</th>\n",
       "      <th id=\"T_bb2d4_level0_col1\" class=\"col_heading level0 col1\" >MAE</th>\n",
       "      <th id=\"T_bb2d4_level0_col2\" class=\"col_heading level0 col2\" >MSE</th>\n",
       "      <th id=\"T_bb2d4_level0_col3\" class=\"col_heading level0 col3\" >RMSE</th>\n",
       "      <th id=\"T_bb2d4_level0_col4\" class=\"col_heading level0 col4\" >R2</th>\n",
       "      <th id=\"T_bb2d4_level0_col5\" class=\"col_heading level0 col5\" >RMSLE</th>\n",
       "      <th id=\"T_bb2d4_level0_col6\" class=\"col_heading level0 col6\" >MAPE</th>\n",
       "    </tr>\n",
       "  </thead>\n",
       "  <tbody>\n",
       "    <tr>\n",
       "      <th id=\"T_bb2d4_level0_row0\" class=\"row_heading level0 row0\" >0</th>\n",
       "      <td id=\"T_bb2d4_row0_col0\" class=\"data row0 col0\" >Ridge Regression</td>\n",
       "      <td id=\"T_bb2d4_row0_col1\" class=\"data row0 col1\" >1.6736</td>\n",
       "      <td id=\"T_bb2d4_row0_col2\" class=\"data row0 col2\" >2.8008</td>\n",
       "      <td id=\"T_bb2d4_row0_col3\" class=\"data row0 col3\" >1.6736</td>\n",
       "      <td id=\"T_bb2d4_row0_col4\" class=\"data row0 col4\" >nan</td>\n",
       "      <td id=\"T_bb2d4_row0_col5\" class=\"data row0 col5\" >0.0224</td>\n",
       "      <td id=\"T_bb2d4_row0_col6\" class=\"data row0 col6\" >0.0230</td>\n",
       "    </tr>\n",
       "  </tbody>\n",
       "</table>\n"
      ],
      "text/plain": [
       "<pandas.io.formats.style.Styler at 0x1f73e789ad0>"
      ]
     },
     "metadata": {},
     "output_type": "display_data"
    },
    {
     "data": {
      "text/html": [
       "<style type=\"text/css\">\n",
       "</style>\n",
       "<table id=\"T_948bd\">\n",
       "  <thead>\n",
       "    <tr>\n",
       "      <th class=\"blank level0\" >&nbsp;</th>\n",
       "      <th id=\"T_948bd_level0_col0\" class=\"col_heading level0 col0\" >Model</th>\n",
       "      <th id=\"T_948bd_level0_col1\" class=\"col_heading level0 col1\" >MAE</th>\n",
       "      <th id=\"T_948bd_level0_col2\" class=\"col_heading level0 col2\" >MSE</th>\n",
       "      <th id=\"T_948bd_level0_col3\" class=\"col_heading level0 col3\" >RMSE</th>\n",
       "      <th id=\"T_948bd_level0_col4\" class=\"col_heading level0 col4\" >R2</th>\n",
       "      <th id=\"T_948bd_level0_col5\" class=\"col_heading level0 col5\" >RMSLE</th>\n",
       "      <th id=\"T_948bd_level0_col6\" class=\"col_heading level0 col6\" >MAPE</th>\n",
       "    </tr>\n",
       "  </thead>\n",
       "  <tbody>\n",
       "    <tr>\n",
       "      <th id=\"T_948bd_level0_row0\" class=\"row_heading level0 row0\" >0</th>\n",
       "      <td id=\"T_948bd_row0_col0\" class=\"data row0 col0\" >Ridge Regression</td>\n",
       "      <td id=\"T_948bd_row0_col1\" class=\"data row0 col1\" >4.7354</td>\n",
       "      <td id=\"T_948bd_row0_col2\" class=\"data row0 col2\" >22.4244</td>\n",
       "      <td id=\"T_948bd_row0_col3\" class=\"data row0 col3\" >4.7354</td>\n",
       "      <td id=\"T_948bd_row0_col4\" class=\"data row0 col4\" >nan</td>\n",
       "      <td id=\"T_948bd_row0_col5\" class=\"data row0 col5\" >0.0647</td>\n",
       "      <td id=\"T_948bd_row0_col6\" class=\"data row0 col6\" >0.0678</td>\n",
       "    </tr>\n",
       "  </tbody>\n",
       "</table>\n"
      ],
      "text/plain": [
       "<pandas.io.formats.style.Styler at 0x1f73ecbdad0>"
      ]
     },
     "metadata": {},
     "output_type": "display_data"
    },
    {
     "data": {
      "text/html": [
       "<style type=\"text/css\">\n",
       "</style>\n",
       "<table id=\"T_d5506\">\n",
       "  <thead>\n",
       "    <tr>\n",
       "      <th class=\"blank level0\" >&nbsp;</th>\n",
       "      <th id=\"T_d5506_level0_col0\" class=\"col_heading level0 col0\" >Model</th>\n",
       "      <th id=\"T_d5506_level0_col1\" class=\"col_heading level0 col1\" >MAE</th>\n",
       "      <th id=\"T_d5506_level0_col2\" class=\"col_heading level0 col2\" >MSE</th>\n",
       "      <th id=\"T_d5506_level0_col3\" class=\"col_heading level0 col3\" >RMSE</th>\n",
       "      <th id=\"T_d5506_level0_col4\" class=\"col_heading level0 col4\" >R2</th>\n",
       "      <th id=\"T_d5506_level0_col5\" class=\"col_heading level0 col5\" >RMSLE</th>\n",
       "      <th id=\"T_d5506_level0_col6\" class=\"col_heading level0 col6\" >MAPE</th>\n",
       "    </tr>\n",
       "  </thead>\n",
       "  <tbody>\n",
       "    <tr>\n",
       "      <th id=\"T_d5506_level0_row0\" class=\"row_heading level0 row0\" >0</th>\n",
       "      <td id=\"T_d5506_row0_col0\" class=\"data row0 col0\" >Ridge Regression</td>\n",
       "      <td id=\"T_d5506_row0_col1\" class=\"data row0 col1\" >4.7257</td>\n",
       "      <td id=\"T_d5506_row0_col2\" class=\"data row0 col2\" >22.3319</td>\n",
       "      <td id=\"T_d5506_row0_col3\" class=\"data row0 col3\" >4.7257</td>\n",
       "      <td id=\"T_d5506_row0_col4\" class=\"data row0 col4\" >nan</td>\n",
       "      <td id=\"T_d5506_row0_col5\" class=\"data row0 col5\" >0.0648</td>\n",
       "      <td id=\"T_d5506_row0_col6\" class=\"data row0 col6\" >0.0679</td>\n",
       "    </tr>\n",
       "  </tbody>\n",
       "</table>\n"
      ],
      "text/plain": [
       "<pandas.io.formats.style.Styler at 0x1f73ed70190>"
      ]
     },
     "metadata": {},
     "output_type": "display_data"
    },
    {
     "data": {
      "text/html": [
       "<style type=\"text/css\">\n",
       "</style>\n",
       "<table id=\"T_2b0bb\">\n",
       "  <thead>\n",
       "    <tr>\n",
       "      <th class=\"blank level0\" >&nbsp;</th>\n",
       "      <th id=\"T_2b0bb_level0_col0\" class=\"col_heading level0 col0\" >Model</th>\n",
       "      <th id=\"T_2b0bb_level0_col1\" class=\"col_heading level0 col1\" >MAE</th>\n",
       "      <th id=\"T_2b0bb_level0_col2\" class=\"col_heading level0 col2\" >MSE</th>\n",
       "      <th id=\"T_2b0bb_level0_col3\" class=\"col_heading level0 col3\" >RMSE</th>\n",
       "      <th id=\"T_2b0bb_level0_col4\" class=\"col_heading level0 col4\" >R2</th>\n",
       "      <th id=\"T_2b0bb_level0_col5\" class=\"col_heading level0 col5\" >RMSLE</th>\n",
       "      <th id=\"T_2b0bb_level0_col6\" class=\"col_heading level0 col6\" >MAPE</th>\n",
       "    </tr>\n",
       "  </thead>\n",
       "  <tbody>\n",
       "    <tr>\n",
       "      <th id=\"T_2b0bb_level0_row0\" class=\"row_heading level0 row0\" >0</th>\n",
       "      <td id=\"T_2b0bb_row0_col0\" class=\"data row0 col0\" >Ridge Regression</td>\n",
       "      <td id=\"T_2b0bb_row0_col1\" class=\"data row0 col1\" >1.2422</td>\n",
       "      <td id=\"T_2b0bb_row0_col2\" class=\"data row0 col2\" >1.5431</td>\n",
       "      <td id=\"T_2b0bb_row0_col3\" class=\"data row0 col3\" >1.2422</td>\n",
       "      <td id=\"T_2b0bb_row0_col4\" class=\"data row0 col4\" >nan</td>\n",
       "      <td id=\"T_2b0bb_row0_col5\" class=\"data row0 col5\" >0.0169</td>\n",
       "      <td id=\"T_2b0bb_row0_col6\" class=\"data row0 col6\" >0.0173</td>\n",
       "    </tr>\n",
       "  </tbody>\n",
       "</table>\n"
      ],
      "text/plain": [
       "<pandas.io.formats.style.Styler at 0x1f73a529fd0>"
      ]
     },
     "metadata": {},
     "output_type": "display_data"
    },
    {
     "name": "stdout",
     "output_type": "stream",
     "text": [
      "Processing model: LinearRegression\n"
     ]
    },
    {
     "data": {
      "text/html": [
       "<style type=\"text/css\">\n",
       "</style>\n",
       "<table id=\"T_a1cc9\">\n",
       "  <thead>\n",
       "    <tr>\n",
       "      <th class=\"blank level0\" >&nbsp;</th>\n",
       "      <th id=\"T_a1cc9_level0_col0\" class=\"col_heading level0 col0\" >Model</th>\n",
       "      <th id=\"T_a1cc9_level0_col1\" class=\"col_heading level0 col1\" >MAE</th>\n",
       "      <th id=\"T_a1cc9_level0_col2\" class=\"col_heading level0 col2\" >MSE</th>\n",
       "      <th id=\"T_a1cc9_level0_col3\" class=\"col_heading level0 col3\" >RMSE</th>\n",
       "      <th id=\"T_a1cc9_level0_col4\" class=\"col_heading level0 col4\" >R2</th>\n",
       "      <th id=\"T_a1cc9_level0_col5\" class=\"col_heading level0 col5\" >RMSLE</th>\n",
       "      <th id=\"T_a1cc9_level0_col6\" class=\"col_heading level0 col6\" >MAPE</th>\n",
       "    </tr>\n",
       "  </thead>\n",
       "  <tbody>\n",
       "    <tr>\n",
       "      <th id=\"T_a1cc9_level0_row0\" class=\"row_heading level0 row0\" >0</th>\n",
       "      <td id=\"T_a1cc9_row0_col0\" class=\"data row0 col0\" >Linear Regression</td>\n",
       "      <td id=\"T_a1cc9_row0_col1\" class=\"data row0 col1\" >1.5166</td>\n",
       "      <td id=\"T_a1cc9_row0_col2\" class=\"data row0 col2\" >2.3001</td>\n",
       "      <td id=\"T_a1cc9_row0_col3\" class=\"data row0 col3\" >1.5166</td>\n",
       "      <td id=\"T_a1cc9_row0_col4\" class=\"data row0 col4\" >nan</td>\n",
       "      <td id=\"T_a1cc9_row0_col5\" class=\"data row0 col5\" >0.0200</td>\n",
       "      <td id=\"T_a1cc9_row0_col6\" class=\"data row0 col6\" >0.0200</td>\n",
       "    </tr>\n",
       "  </tbody>\n",
       "</table>\n"
      ],
      "text/plain": [
       "<pandas.io.formats.style.Styler at 0x1f73ee19190>"
      ]
     },
     "metadata": {},
     "output_type": "display_data"
    },
    {
     "data": {
      "text/html": [
       "<style type=\"text/css\">\n",
       "</style>\n",
       "<table id=\"T_72e02\">\n",
       "  <thead>\n",
       "    <tr>\n",
       "      <th class=\"blank level0\" >&nbsp;</th>\n",
       "      <th id=\"T_72e02_level0_col0\" class=\"col_heading level0 col0\" >Model</th>\n",
       "      <th id=\"T_72e02_level0_col1\" class=\"col_heading level0 col1\" >MAE</th>\n",
       "      <th id=\"T_72e02_level0_col2\" class=\"col_heading level0 col2\" >MSE</th>\n",
       "      <th id=\"T_72e02_level0_col3\" class=\"col_heading level0 col3\" >RMSE</th>\n",
       "      <th id=\"T_72e02_level0_col4\" class=\"col_heading level0 col4\" >R2</th>\n",
       "      <th id=\"T_72e02_level0_col5\" class=\"col_heading level0 col5\" >RMSLE</th>\n",
       "      <th id=\"T_72e02_level0_col6\" class=\"col_heading level0 col6\" >MAPE</th>\n",
       "    </tr>\n",
       "  </thead>\n",
       "  <tbody>\n",
       "    <tr>\n",
       "      <th id=\"T_72e02_level0_row0\" class=\"row_heading level0 row0\" >0</th>\n",
       "      <td id=\"T_72e02_row0_col0\" class=\"data row0 col0\" >Linear Regression</td>\n",
       "      <td id=\"T_72e02_row0_col1\" class=\"data row0 col1\" >3.8669</td>\n",
       "      <td id=\"T_72e02_row0_col2\" class=\"data row0 col2\" >14.9529</td>\n",
       "      <td id=\"T_72e02_row0_col3\" class=\"data row0 col3\" >3.8669</td>\n",
       "      <td id=\"T_72e02_row0_col4\" class=\"data row0 col4\" >nan</td>\n",
       "      <td id=\"T_72e02_row0_col5\" class=\"data row0 col5\" >0.0532</td>\n",
       "      <td id=\"T_72e02_row0_col6\" class=\"data row0 col6\" >0.0554</td>\n",
       "    </tr>\n",
       "  </tbody>\n",
       "</table>\n"
      ],
      "text/plain": [
       "<pandas.io.formats.style.Styler at 0x1f73e753810>"
      ]
     },
     "metadata": {},
     "output_type": "display_data"
    },
    {
     "data": {
      "text/html": [
       "<style type=\"text/css\">\n",
       "</style>\n",
       "<table id=\"T_acdc3\">\n",
       "  <thead>\n",
       "    <tr>\n",
       "      <th class=\"blank level0\" >&nbsp;</th>\n",
       "      <th id=\"T_acdc3_level0_col0\" class=\"col_heading level0 col0\" >Model</th>\n",
       "      <th id=\"T_acdc3_level0_col1\" class=\"col_heading level0 col1\" >MAE</th>\n",
       "      <th id=\"T_acdc3_level0_col2\" class=\"col_heading level0 col2\" >MSE</th>\n",
       "      <th id=\"T_acdc3_level0_col3\" class=\"col_heading level0 col3\" >RMSE</th>\n",
       "      <th id=\"T_acdc3_level0_col4\" class=\"col_heading level0 col4\" >R2</th>\n",
       "      <th id=\"T_acdc3_level0_col5\" class=\"col_heading level0 col5\" >RMSLE</th>\n",
       "      <th id=\"T_acdc3_level0_col6\" class=\"col_heading level0 col6\" >MAPE</th>\n",
       "    </tr>\n",
       "  </thead>\n",
       "  <tbody>\n",
       "    <tr>\n",
       "      <th id=\"T_acdc3_level0_row0\" class=\"row_heading level0 row0\" >0</th>\n",
       "      <td id=\"T_acdc3_row0_col0\" class=\"data row0 col0\" >Linear Regression</td>\n",
       "      <td id=\"T_acdc3_row0_col1\" class=\"data row0 col1\" >0.4827</td>\n",
       "      <td id=\"T_acdc3_row0_col2\" class=\"data row0 col2\" >0.2330</td>\n",
       "      <td id=\"T_acdc3_row0_col3\" class=\"data row0 col3\" >0.4827</td>\n",
       "      <td id=\"T_acdc3_row0_col4\" class=\"data row0 col4\" >nan</td>\n",
       "      <td id=\"T_acdc3_row0_col5\" class=\"data row0 col5\" >0.0063</td>\n",
       "      <td id=\"T_acdc3_row0_col6\" class=\"data row0 col6\" >0.0064</td>\n",
       "    </tr>\n",
       "  </tbody>\n",
       "</table>\n"
      ],
      "text/plain": [
       "<pandas.io.formats.style.Styler at 0x1f73ef03c50>"
      ]
     },
     "metadata": {},
     "output_type": "display_data"
    },
    {
     "data": {
      "text/html": [
       "<style type=\"text/css\">\n",
       "</style>\n",
       "<table id=\"T_51502\">\n",
       "  <thead>\n",
       "    <tr>\n",
       "      <th class=\"blank level0\" >&nbsp;</th>\n",
       "      <th id=\"T_51502_level0_col0\" class=\"col_heading level0 col0\" >Model</th>\n",
       "      <th id=\"T_51502_level0_col1\" class=\"col_heading level0 col1\" >MAE</th>\n",
       "      <th id=\"T_51502_level0_col2\" class=\"col_heading level0 col2\" >MSE</th>\n",
       "      <th id=\"T_51502_level0_col3\" class=\"col_heading level0 col3\" >RMSE</th>\n",
       "      <th id=\"T_51502_level0_col4\" class=\"col_heading level0 col4\" >R2</th>\n",
       "      <th id=\"T_51502_level0_col5\" class=\"col_heading level0 col5\" >RMSLE</th>\n",
       "      <th id=\"T_51502_level0_col6\" class=\"col_heading level0 col6\" >MAPE</th>\n",
       "    </tr>\n",
       "  </thead>\n",
       "  <tbody>\n",
       "    <tr>\n",
       "      <th id=\"T_51502_level0_row0\" class=\"row_heading level0 row0\" >0</th>\n",
       "      <td id=\"T_51502_row0_col0\" class=\"data row0 col0\" >Linear Regression</td>\n",
       "      <td id=\"T_51502_row0_col1\" class=\"data row0 col1\" >1.1274</td>\n",
       "      <td id=\"T_51502_row0_col2\" class=\"data row0 col2\" >1.2709</td>\n",
       "      <td id=\"T_51502_row0_col3\" class=\"data row0 col3\" >1.1274</td>\n",
       "      <td id=\"T_51502_row0_col4\" class=\"data row0 col4\" >nan</td>\n",
       "      <td id=\"T_51502_row0_col5\" class=\"data row0 col5\" >0.0149</td>\n",
       "      <td id=\"T_51502_row0_col6\" class=\"data row0 col6\" >0.0149</td>\n",
       "    </tr>\n",
       "  </tbody>\n",
       "</table>\n"
      ],
      "text/plain": [
       "<pandas.io.formats.style.Styler at 0x1f73c3a2f10>"
      ]
     },
     "metadata": {},
     "output_type": "display_data"
    },
    {
     "data": {
      "text/html": [
       "<style type=\"text/css\">\n",
       "</style>\n",
       "<table id=\"T_207ad\">\n",
       "  <thead>\n",
       "    <tr>\n",
       "      <th class=\"blank level0\" >&nbsp;</th>\n",
       "      <th id=\"T_207ad_level0_col0\" class=\"col_heading level0 col0\" >Model</th>\n",
       "      <th id=\"T_207ad_level0_col1\" class=\"col_heading level0 col1\" >MAE</th>\n",
       "      <th id=\"T_207ad_level0_col2\" class=\"col_heading level0 col2\" >MSE</th>\n",
       "      <th id=\"T_207ad_level0_col3\" class=\"col_heading level0 col3\" >RMSE</th>\n",
       "      <th id=\"T_207ad_level0_col4\" class=\"col_heading level0 col4\" >R2</th>\n",
       "      <th id=\"T_207ad_level0_col5\" class=\"col_heading level0 col5\" >RMSLE</th>\n",
       "      <th id=\"T_207ad_level0_col6\" class=\"col_heading level0 col6\" >MAPE</th>\n",
       "    </tr>\n",
       "  </thead>\n",
       "  <tbody>\n",
       "    <tr>\n",
       "      <th id=\"T_207ad_level0_row0\" class=\"row_heading level0 row0\" >0</th>\n",
       "      <td id=\"T_207ad_row0_col0\" class=\"data row0 col0\" >Linear Regression</td>\n",
       "      <td id=\"T_207ad_row0_col1\" class=\"data row0 col1\" >13.4060</td>\n",
       "      <td id=\"T_207ad_row0_col2\" class=\"data row0 col2\" >179.7197</td>\n",
       "      <td id=\"T_207ad_row0_col3\" class=\"data row0 col3\" >13.4060</td>\n",
       "      <td id=\"T_207ad_row0_col4\" class=\"data row0 col4\" >nan</td>\n",
       "      <td id=\"T_207ad_row0_col5\" class=\"data row0 col5\" >0.1643</td>\n",
       "      <td id=\"T_207ad_row0_col6\" class=\"data row0 col6\" >0.1532</td>\n",
       "    </tr>\n",
       "  </tbody>\n",
       "</table>\n"
      ],
      "text/plain": [
       "<pandas.io.formats.style.Styler at 0x1f73c3a3950>"
      ]
     },
     "metadata": {},
     "output_type": "display_data"
    },
    {
     "data": {
      "text/html": [
       "<style type=\"text/css\">\n",
       "</style>\n",
       "<table id=\"T_99f1d\">\n",
       "  <thead>\n",
       "    <tr>\n",
       "      <th class=\"blank level0\" >&nbsp;</th>\n",
       "      <th id=\"T_99f1d_level0_col0\" class=\"col_heading level0 col0\" >Model</th>\n",
       "      <th id=\"T_99f1d_level0_col1\" class=\"col_heading level0 col1\" >MAE</th>\n",
       "      <th id=\"T_99f1d_level0_col2\" class=\"col_heading level0 col2\" >MSE</th>\n",
       "      <th id=\"T_99f1d_level0_col3\" class=\"col_heading level0 col3\" >RMSE</th>\n",
       "      <th id=\"T_99f1d_level0_col4\" class=\"col_heading level0 col4\" >R2</th>\n",
       "      <th id=\"T_99f1d_level0_col5\" class=\"col_heading level0 col5\" >RMSLE</th>\n",
       "      <th id=\"T_99f1d_level0_col6\" class=\"col_heading level0 col6\" >MAPE</th>\n",
       "    </tr>\n",
       "  </thead>\n",
       "  <tbody>\n",
       "    <tr>\n",
       "      <th id=\"T_99f1d_level0_row0\" class=\"row_heading level0 row0\" >0</th>\n",
       "      <td id=\"T_99f1d_row0_col0\" class=\"data row0 col0\" >Linear Regression</td>\n",
       "      <td id=\"T_99f1d_row0_col1\" class=\"data row0 col1\" >12.4420</td>\n",
       "      <td id=\"T_99f1d_row0_col2\" class=\"data row0 col2\" >154.8040</td>\n",
       "      <td id=\"T_99f1d_row0_col3\" class=\"data row0 col3\" >12.4420</td>\n",
       "      <td id=\"T_99f1d_row0_col4\" class=\"data row0 col4\" >nan</td>\n",
       "      <td id=\"T_99f1d_row0_col5\" class=\"data row0 col5\" >0.1549</td>\n",
       "      <td id=\"T_99f1d_row0_col6\" class=\"data row0 col6\" >0.1451</td>\n",
       "    </tr>\n",
       "  </tbody>\n",
       "</table>\n"
      ],
      "text/plain": [
       "<pandas.io.formats.style.Styler at 0x1f73eef5450>"
      ]
     },
     "metadata": {},
     "output_type": "display_data"
    },
    {
     "data": {
      "text/html": [
       "<style type=\"text/css\">\n",
       "</style>\n",
       "<table id=\"T_27142\">\n",
       "  <thead>\n",
       "    <tr>\n",
       "      <th class=\"blank level0\" >&nbsp;</th>\n",
       "      <th id=\"T_27142_level0_col0\" class=\"col_heading level0 col0\" >Model</th>\n",
       "      <th id=\"T_27142_level0_col1\" class=\"col_heading level0 col1\" >MAE</th>\n",
       "      <th id=\"T_27142_level0_col2\" class=\"col_heading level0 col2\" >MSE</th>\n",
       "      <th id=\"T_27142_level0_col3\" class=\"col_heading level0 col3\" >RMSE</th>\n",
       "      <th id=\"T_27142_level0_col4\" class=\"col_heading level0 col4\" >R2</th>\n",
       "      <th id=\"T_27142_level0_col5\" class=\"col_heading level0 col5\" >RMSLE</th>\n",
       "      <th id=\"T_27142_level0_col6\" class=\"col_heading level0 col6\" >MAPE</th>\n",
       "    </tr>\n",
       "  </thead>\n",
       "  <tbody>\n",
       "    <tr>\n",
       "      <th id=\"T_27142_level0_row0\" class=\"row_heading level0 row0\" >0</th>\n",
       "      <td id=\"T_27142_row0_col0\" class=\"data row0 col0\" >Linear Regression</td>\n",
       "      <td id=\"T_27142_row0_col1\" class=\"data row0 col1\" >2.1295</td>\n",
       "      <td id=\"T_27142_row0_col2\" class=\"data row0 col2\" >4.5349</td>\n",
       "      <td id=\"T_27142_row0_col3\" class=\"data row0 col3\" >2.1295</td>\n",
       "      <td id=\"T_27142_row0_col4\" class=\"data row0 col4\" >nan</td>\n",
       "      <td id=\"T_27142_row0_col5\" class=\"data row0 col5\" >0.0272</td>\n",
       "      <td id=\"T_27142_row0_col6\" class=\"data row0 col6\" >0.0272</td>\n",
       "    </tr>\n",
       "  </tbody>\n",
       "</table>\n"
      ],
      "text/plain": [
       "<pandas.io.formats.style.Styler at 0x1f73e7957d0>"
      ]
     },
     "metadata": {},
     "output_type": "display_data"
    },
    {
     "data": {
      "text/html": [
       "<style type=\"text/css\">\n",
       "</style>\n",
       "<table id=\"T_94cda\">\n",
       "  <thead>\n",
       "    <tr>\n",
       "      <th class=\"blank level0\" >&nbsp;</th>\n",
       "      <th id=\"T_94cda_level0_col0\" class=\"col_heading level0 col0\" >Model</th>\n",
       "      <th id=\"T_94cda_level0_col1\" class=\"col_heading level0 col1\" >MAE</th>\n",
       "      <th id=\"T_94cda_level0_col2\" class=\"col_heading level0 col2\" >MSE</th>\n",
       "      <th id=\"T_94cda_level0_col3\" class=\"col_heading level0 col3\" >RMSE</th>\n",
       "      <th id=\"T_94cda_level0_col4\" class=\"col_heading level0 col4\" >R2</th>\n",
       "      <th id=\"T_94cda_level0_col5\" class=\"col_heading level0 col5\" >RMSLE</th>\n",
       "      <th id=\"T_94cda_level0_col6\" class=\"col_heading level0 col6\" >MAPE</th>\n",
       "    </tr>\n",
       "  </thead>\n",
       "  <tbody>\n",
       "    <tr>\n",
       "      <th id=\"T_94cda_level0_row0\" class=\"row_heading level0 row0\" >0</th>\n",
       "      <td id=\"T_94cda_row0_col0\" class=\"data row0 col0\" >Linear Regression</td>\n",
       "      <td id=\"T_94cda_row0_col1\" class=\"data row0 col1\" >2.1297</td>\n",
       "      <td id=\"T_94cda_row0_col2\" class=\"data row0 col2\" >4.5355</td>\n",
       "      <td id=\"T_94cda_row0_col3\" class=\"data row0 col3\" >2.1297</td>\n",
       "      <td id=\"T_94cda_row0_col4\" class=\"data row0 col4\" >nan</td>\n",
       "      <td id=\"T_94cda_row0_col5\" class=\"data row0 col5\" >0.0279</td>\n",
       "      <td id=\"T_94cda_row0_col6\" class=\"data row0 col6\" >0.0279</td>\n",
       "    </tr>\n",
       "  </tbody>\n",
       "</table>\n"
      ],
      "text/plain": [
       "<pandas.io.formats.style.Styler at 0x1f73ee9fa10>"
      ]
     },
     "metadata": {},
     "output_type": "display_data"
    },
    {
     "data": {
      "text/html": [
       "<style type=\"text/css\">\n",
       "</style>\n",
       "<table id=\"T_20f75\">\n",
       "  <thead>\n",
       "    <tr>\n",
       "      <th class=\"blank level0\" >&nbsp;</th>\n",
       "      <th id=\"T_20f75_level0_col0\" class=\"col_heading level0 col0\" >Model</th>\n",
       "      <th id=\"T_20f75_level0_col1\" class=\"col_heading level0 col1\" >MAE</th>\n",
       "      <th id=\"T_20f75_level0_col2\" class=\"col_heading level0 col2\" >MSE</th>\n",
       "      <th id=\"T_20f75_level0_col3\" class=\"col_heading level0 col3\" >RMSE</th>\n",
       "      <th id=\"T_20f75_level0_col4\" class=\"col_heading level0 col4\" >R2</th>\n",
       "      <th id=\"T_20f75_level0_col5\" class=\"col_heading level0 col5\" >RMSLE</th>\n",
       "      <th id=\"T_20f75_level0_col6\" class=\"col_heading level0 col6\" >MAPE</th>\n",
       "    </tr>\n",
       "  </thead>\n",
       "  <tbody>\n",
       "    <tr>\n",
       "      <th id=\"T_20f75_level0_row0\" class=\"row_heading level0 row0\" >0</th>\n",
       "      <td id=\"T_20f75_row0_col0\" class=\"data row0 col0\" >Linear Regression</td>\n",
       "      <td id=\"T_20f75_row0_col1\" class=\"data row0 col1\" >3.5897</td>\n",
       "      <td id=\"T_20f75_row0_col2\" class=\"data row0 col2\" >12.8859</td>\n",
       "      <td id=\"T_20f75_row0_col3\" class=\"data row0 col3\" >3.5897</td>\n",
       "      <td id=\"T_20f75_row0_col4\" class=\"data row0 col4\" >nan</td>\n",
       "      <td id=\"T_20f75_row0_col5\" class=\"data row0 col5\" >0.0465</td>\n",
       "      <td id=\"T_20f75_row0_col6\" class=\"data row0 col6\" >0.0460</td>\n",
       "    </tr>\n",
       "  </tbody>\n",
       "</table>\n"
      ],
      "text/plain": [
       "<pandas.io.formats.style.Styler at 0x1f73eef6e90>"
      ]
     },
     "metadata": {},
     "output_type": "display_data"
    },
    {
     "data": {
      "text/html": [
       "<style type=\"text/css\">\n",
       "</style>\n",
       "<table id=\"T_4e364\">\n",
       "  <thead>\n",
       "    <tr>\n",
       "      <th class=\"blank level0\" >&nbsp;</th>\n",
       "      <th id=\"T_4e364_level0_col0\" class=\"col_heading level0 col0\" >Model</th>\n",
       "      <th id=\"T_4e364_level0_col1\" class=\"col_heading level0 col1\" >MAE</th>\n",
       "      <th id=\"T_4e364_level0_col2\" class=\"col_heading level0 col2\" >MSE</th>\n",
       "      <th id=\"T_4e364_level0_col3\" class=\"col_heading level0 col3\" >RMSE</th>\n",
       "      <th id=\"T_4e364_level0_col4\" class=\"col_heading level0 col4\" >R2</th>\n",
       "      <th id=\"T_4e364_level0_col5\" class=\"col_heading level0 col5\" >RMSLE</th>\n",
       "      <th id=\"T_4e364_level0_col6\" class=\"col_heading level0 col6\" >MAPE</th>\n",
       "    </tr>\n",
       "  </thead>\n",
       "  <tbody>\n",
       "    <tr>\n",
       "      <th id=\"T_4e364_level0_row0\" class=\"row_heading level0 row0\" >0</th>\n",
       "      <td id=\"T_4e364_row0_col0\" class=\"data row0 col0\" >Linear Regression</td>\n",
       "      <td id=\"T_4e364_row0_col1\" class=\"data row0 col1\" >3.2909</td>\n",
       "      <td id=\"T_4e364_row0_col2\" class=\"data row0 col2\" >10.8301</td>\n",
       "      <td id=\"T_4e364_row0_col3\" class=\"data row0 col3\" >3.2909</td>\n",
       "      <td id=\"T_4e364_row0_col4\" class=\"data row0 col4\" >nan</td>\n",
       "      <td id=\"T_4e364_row0_col5\" class=\"data row0 col5\" >0.0427</td>\n",
       "      <td id=\"T_4e364_row0_col6\" class=\"data row0 col6\" >0.0423</td>\n",
       "    </tr>\n",
       "  </tbody>\n",
       "</table>\n"
      ],
      "text/plain": [
       "<pandas.io.formats.style.Styler at 0x1f73ed70690>"
      ]
     },
     "metadata": {},
     "output_type": "display_data"
    },
    {
     "data": {
      "text/html": [
       "<style type=\"text/css\">\n",
       "</style>\n",
       "<table id=\"T_93b72\">\n",
       "  <thead>\n",
       "    <tr>\n",
       "      <th class=\"blank level0\" >&nbsp;</th>\n",
       "      <th id=\"T_93b72_level0_col0\" class=\"col_heading level0 col0\" >Model</th>\n",
       "      <th id=\"T_93b72_level0_col1\" class=\"col_heading level0 col1\" >MAE</th>\n",
       "      <th id=\"T_93b72_level0_col2\" class=\"col_heading level0 col2\" >MSE</th>\n",
       "      <th id=\"T_93b72_level0_col3\" class=\"col_heading level0 col3\" >RMSE</th>\n",
       "      <th id=\"T_93b72_level0_col4\" class=\"col_heading level0 col4\" >R2</th>\n",
       "      <th id=\"T_93b72_level0_col5\" class=\"col_heading level0 col5\" >RMSLE</th>\n",
       "      <th id=\"T_93b72_level0_col6\" class=\"col_heading level0 col6\" >MAPE</th>\n",
       "    </tr>\n",
       "  </thead>\n",
       "  <tbody>\n",
       "    <tr>\n",
       "      <th id=\"T_93b72_level0_row0\" class=\"row_heading level0 row0\" >0</th>\n",
       "      <td id=\"T_93b72_row0_col0\" class=\"data row0 col0\" >Linear Regression</td>\n",
       "      <td id=\"T_93b72_row0_col1\" class=\"data row0 col1\" >4.1478</td>\n",
       "      <td id=\"T_93b72_row0_col2\" class=\"data row0 col2\" >17.2038</td>\n",
       "      <td id=\"T_93b72_row0_col3\" class=\"data row0 col3\" >4.1478</td>\n",
       "      <td id=\"T_93b72_row0_col4\" class=\"data row0 col4\" >nan</td>\n",
       "      <td id=\"T_93b72_row0_col5\" class=\"data row0 col5\" >0.0552</td>\n",
       "      <td id=\"T_93b72_row0_col6\" class=\"data row0 col6\" >0.0576</td>\n",
       "    </tr>\n",
       "  </tbody>\n",
       "</table>\n"
      ],
      "text/plain": [
       "<pandas.io.formats.style.Styler at 0x1f720184cd0>"
      ]
     },
     "metadata": {},
     "output_type": "display_data"
    },
    {
     "data": {
      "text/html": [
       "<style type=\"text/css\">\n",
       "</style>\n",
       "<table id=\"T_df9bd\">\n",
       "  <thead>\n",
       "    <tr>\n",
       "      <th class=\"blank level0\" >&nbsp;</th>\n",
       "      <th id=\"T_df9bd_level0_col0\" class=\"col_heading level0 col0\" >Model</th>\n",
       "      <th id=\"T_df9bd_level0_col1\" class=\"col_heading level0 col1\" >MAE</th>\n",
       "      <th id=\"T_df9bd_level0_col2\" class=\"col_heading level0 col2\" >MSE</th>\n",
       "      <th id=\"T_df9bd_level0_col3\" class=\"col_heading level0 col3\" >RMSE</th>\n",
       "      <th id=\"T_df9bd_level0_col4\" class=\"col_heading level0 col4\" >R2</th>\n",
       "      <th id=\"T_df9bd_level0_col5\" class=\"col_heading level0 col5\" >RMSLE</th>\n",
       "      <th id=\"T_df9bd_level0_col6\" class=\"col_heading level0 col6\" >MAPE</th>\n",
       "    </tr>\n",
       "  </thead>\n",
       "  <tbody>\n",
       "    <tr>\n",
       "      <th id=\"T_df9bd_level0_row0\" class=\"row_heading level0 row0\" >0</th>\n",
       "      <td id=\"T_df9bd_row0_col0\" class=\"data row0 col0\" >Linear Regression</td>\n",
       "      <td id=\"T_df9bd_row0_col1\" class=\"data row0 col1\" >2.3850</td>\n",
       "      <td id=\"T_df9bd_row0_col2\" class=\"data row0 col2\" >5.6881</td>\n",
       "      <td id=\"T_df9bd_row0_col3\" class=\"data row0 col3\" >2.3850</td>\n",
       "      <td id=\"T_df9bd_row0_col4\" class=\"data row0 col4\" >nan</td>\n",
       "      <td id=\"T_df9bd_row0_col5\" class=\"data row0 col5\" >0.0324</td>\n",
       "      <td id=\"T_df9bd_row0_col6\" class=\"data row0 col6\" >0.0334</td>\n",
       "    </tr>\n",
       "  </tbody>\n",
       "</table>\n"
      ],
      "text/plain": [
       "<pandas.io.formats.style.Styler at 0x1f73e7a0dd0>"
      ]
     },
     "metadata": {},
     "output_type": "display_data"
    },
    {
     "data": {
      "text/html": [
       "<style type=\"text/css\">\n",
       "</style>\n",
       "<table id=\"T_c9d8d\">\n",
       "  <thead>\n",
       "    <tr>\n",
       "      <th class=\"blank level0\" >&nbsp;</th>\n",
       "      <th id=\"T_c9d8d_level0_col0\" class=\"col_heading level0 col0\" >Model</th>\n",
       "      <th id=\"T_c9d8d_level0_col1\" class=\"col_heading level0 col1\" >MAE</th>\n",
       "      <th id=\"T_c9d8d_level0_col2\" class=\"col_heading level0 col2\" >MSE</th>\n",
       "      <th id=\"T_c9d8d_level0_col3\" class=\"col_heading level0 col3\" >RMSE</th>\n",
       "      <th id=\"T_c9d8d_level0_col4\" class=\"col_heading level0 col4\" >R2</th>\n",
       "      <th id=\"T_c9d8d_level0_col5\" class=\"col_heading level0 col5\" >RMSLE</th>\n",
       "      <th id=\"T_c9d8d_level0_col6\" class=\"col_heading level0 col6\" >MAPE</th>\n",
       "    </tr>\n",
       "  </thead>\n",
       "  <tbody>\n",
       "    <tr>\n",
       "      <th id=\"T_c9d8d_level0_row0\" class=\"row_heading level0 row0\" >0</th>\n",
       "      <td id=\"T_c9d8d_row0_col0\" class=\"data row0 col0\" >Linear Regression</td>\n",
       "      <td id=\"T_c9d8d_row0_col1\" class=\"data row0 col1\" >3.8803</td>\n",
       "      <td id=\"T_c9d8d_row0_col2\" class=\"data row0 col2\" >15.0570</td>\n",
       "      <td id=\"T_c9d8d_row0_col3\" class=\"data row0 col3\" >3.8803</td>\n",
       "      <td id=\"T_c9d8d_row0_col4\" class=\"data row0 col4\" >nan</td>\n",
       "      <td id=\"T_c9d8d_row0_col5\" class=\"data row0 col5\" >0.0504</td>\n",
       "      <td id=\"T_c9d8d_row0_col6\" class=\"data row0 col6\" >0.0497</td>\n",
       "    </tr>\n",
       "  </tbody>\n",
       "</table>\n"
      ],
      "text/plain": [
       "<pandas.io.formats.style.Styler at 0x1f73e8f4090>"
      ]
     },
     "metadata": {},
     "output_type": "display_data"
    },
    {
     "data": {
      "text/html": [
       "<style type=\"text/css\">\n",
       "</style>\n",
       "<table id=\"T_0f071\">\n",
       "  <thead>\n",
       "    <tr>\n",
       "      <th class=\"blank level0\" >&nbsp;</th>\n",
       "      <th id=\"T_0f071_level0_col0\" class=\"col_heading level0 col0\" >Model</th>\n",
       "      <th id=\"T_0f071_level0_col1\" class=\"col_heading level0 col1\" >MAE</th>\n",
       "      <th id=\"T_0f071_level0_col2\" class=\"col_heading level0 col2\" >MSE</th>\n",
       "      <th id=\"T_0f071_level0_col3\" class=\"col_heading level0 col3\" >RMSE</th>\n",
       "      <th id=\"T_0f071_level0_col4\" class=\"col_heading level0 col4\" >R2</th>\n",
       "      <th id=\"T_0f071_level0_col5\" class=\"col_heading level0 col5\" >RMSLE</th>\n",
       "      <th id=\"T_0f071_level0_col6\" class=\"col_heading level0 col6\" >MAPE</th>\n",
       "    </tr>\n",
       "  </thead>\n",
       "  <tbody>\n",
       "    <tr>\n",
       "      <th id=\"T_0f071_level0_row0\" class=\"row_heading level0 row0\" >0</th>\n",
       "      <td id=\"T_0f071_row0_col0\" class=\"data row0 col0\" >Linear Regression</td>\n",
       "      <td id=\"T_0f071_row0_col1\" class=\"data row0 col1\" >2.7980</td>\n",
       "      <td id=\"T_0f071_row0_col2\" class=\"data row0 col2\" >7.8289</td>\n",
       "      <td id=\"T_0f071_row0_col3\" class=\"data row0 col3\" >2.7980</td>\n",
       "      <td id=\"T_0f071_row0_col4\" class=\"data row0 col4\" >nan</td>\n",
       "      <td id=\"T_0f071_row0_col5\" class=\"data row0 col5\" >0.0366</td>\n",
       "      <td id=\"T_0f071_row0_col6\" class=\"data row0 col6\" >0.0364</td>\n",
       "    </tr>\n",
       "  </tbody>\n",
       "</table>\n"
      ],
      "text/plain": [
       "<pandas.io.formats.style.Styler at 0x1f73e796e10>"
      ]
     },
     "metadata": {},
     "output_type": "display_data"
    },
    {
     "data": {
      "text/html": [
       "<style type=\"text/css\">\n",
       "</style>\n",
       "<table id=\"T_f1a15\">\n",
       "  <thead>\n",
       "    <tr>\n",
       "      <th class=\"blank level0\" >&nbsp;</th>\n",
       "      <th id=\"T_f1a15_level0_col0\" class=\"col_heading level0 col0\" >Model</th>\n",
       "      <th id=\"T_f1a15_level0_col1\" class=\"col_heading level0 col1\" >MAE</th>\n",
       "      <th id=\"T_f1a15_level0_col2\" class=\"col_heading level0 col2\" >MSE</th>\n",
       "      <th id=\"T_f1a15_level0_col3\" class=\"col_heading level0 col3\" >RMSE</th>\n",
       "      <th id=\"T_f1a15_level0_col4\" class=\"col_heading level0 col4\" >R2</th>\n",
       "      <th id=\"T_f1a15_level0_col5\" class=\"col_heading level0 col5\" >RMSLE</th>\n",
       "      <th id=\"T_f1a15_level0_col6\" class=\"col_heading level0 col6\" >MAPE</th>\n",
       "    </tr>\n",
       "  </thead>\n",
       "  <tbody>\n",
       "    <tr>\n",
       "      <th id=\"T_f1a15_level0_row0\" class=\"row_heading level0 row0\" >0</th>\n",
       "      <td id=\"T_f1a15_row0_col0\" class=\"data row0 col0\" >Linear Regression</td>\n",
       "      <td id=\"T_f1a15_row0_col1\" class=\"data row0 col1\" >0.5096</td>\n",
       "      <td id=\"T_f1a15_row0_col2\" class=\"data row0 col2\" >0.2596</td>\n",
       "      <td id=\"T_f1a15_row0_col3\" class=\"data row0 col3\" >0.5096</td>\n",
       "      <td id=\"T_f1a15_row0_col4\" class=\"data row0 col4\" >nan</td>\n",
       "      <td id=\"T_f1a15_row0_col5\" class=\"data row0 col5\" >0.0067</td>\n",
       "      <td id=\"T_f1a15_row0_col6\" class=\"data row0 col6\" >0.0068</td>\n",
       "    </tr>\n",
       "  </tbody>\n",
       "</table>\n"
      ],
      "text/plain": [
       "<pandas.io.formats.style.Styler at 0x1f73e7957d0>"
      ]
     },
     "metadata": {},
     "output_type": "display_data"
    },
    {
     "data": {
      "text/html": [
       "<style type=\"text/css\">\n",
       "</style>\n",
       "<table id=\"T_de41d\">\n",
       "  <thead>\n",
       "    <tr>\n",
       "      <th class=\"blank level0\" >&nbsp;</th>\n",
       "      <th id=\"T_de41d_level0_col0\" class=\"col_heading level0 col0\" >Model</th>\n",
       "      <th id=\"T_de41d_level0_col1\" class=\"col_heading level0 col1\" >MAE</th>\n",
       "      <th id=\"T_de41d_level0_col2\" class=\"col_heading level0 col2\" >MSE</th>\n",
       "      <th id=\"T_de41d_level0_col3\" class=\"col_heading level0 col3\" >RMSE</th>\n",
       "      <th id=\"T_de41d_level0_col4\" class=\"col_heading level0 col4\" >R2</th>\n",
       "      <th id=\"T_de41d_level0_col5\" class=\"col_heading level0 col5\" >RMSLE</th>\n",
       "      <th id=\"T_de41d_level0_col6\" class=\"col_heading level0 col6\" >MAPE</th>\n",
       "    </tr>\n",
       "  </thead>\n",
       "  <tbody>\n",
       "    <tr>\n",
       "      <th id=\"T_de41d_level0_row0\" class=\"row_heading level0 row0\" >0</th>\n",
       "      <td id=\"T_de41d_row0_col0\" class=\"data row0 col0\" >Linear Regression</td>\n",
       "      <td id=\"T_de41d_row0_col1\" class=\"data row0 col1\" >4.5366</td>\n",
       "      <td id=\"T_de41d_row0_col2\" class=\"data row0 col2\" >20.5811</td>\n",
       "      <td id=\"T_de41d_row0_col3\" class=\"data row0 col3\" >4.5366</td>\n",
       "      <td id=\"T_de41d_row0_col4\" class=\"data row0 col4\" >nan</td>\n",
       "      <td id=\"T_de41d_row0_col5\" class=\"data row0 col5\" >0.0622</td>\n",
       "      <td id=\"T_de41d_row0_col6\" class=\"data row0 col6\" >0.0651</td>\n",
       "    </tr>\n",
       "  </tbody>\n",
       "</table>\n"
      ],
      "text/plain": [
       "<pandas.io.formats.style.Styler at 0x1f73e78a310>"
      ]
     },
     "metadata": {},
     "output_type": "display_data"
    },
    {
     "data": {
      "text/html": [
       "<style type=\"text/css\">\n",
       "</style>\n",
       "<table id=\"T_0e848\">\n",
       "  <thead>\n",
       "    <tr>\n",
       "      <th class=\"blank level0\" >&nbsp;</th>\n",
       "      <th id=\"T_0e848_level0_col0\" class=\"col_heading level0 col0\" >Model</th>\n",
       "      <th id=\"T_0e848_level0_col1\" class=\"col_heading level0 col1\" >MAE</th>\n",
       "      <th id=\"T_0e848_level0_col2\" class=\"col_heading level0 col2\" >MSE</th>\n",
       "      <th id=\"T_0e848_level0_col3\" class=\"col_heading level0 col3\" >RMSE</th>\n",
       "      <th id=\"T_0e848_level0_col4\" class=\"col_heading level0 col4\" >R2</th>\n",
       "      <th id=\"T_0e848_level0_col5\" class=\"col_heading level0 col5\" >RMSLE</th>\n",
       "      <th id=\"T_0e848_level0_col6\" class=\"col_heading level0 col6\" >MAPE</th>\n",
       "    </tr>\n",
       "  </thead>\n",
       "  <tbody>\n",
       "    <tr>\n",
       "      <th id=\"T_0e848_level0_row0\" class=\"row_heading level0 row0\" >0</th>\n",
       "      <td id=\"T_0e848_row0_col0\" class=\"data row0 col0\" >Linear Regression</td>\n",
       "      <td id=\"T_0e848_row0_col1\" class=\"data row0 col1\" >1.7838</td>\n",
       "      <td id=\"T_0e848_row0_col2\" class=\"data row0 col2\" >3.1820</td>\n",
       "      <td id=\"T_0e848_row0_col3\" class=\"data row0 col3\" >1.7838</td>\n",
       "      <td id=\"T_0e848_row0_col4\" class=\"data row0 col4\" >nan</td>\n",
       "      <td id=\"T_0e848_row0_col5\" class=\"data row0 col5\" >0.0241</td>\n",
       "      <td id=\"T_0e848_row0_col6\" class=\"data row0 col6\" >0.0247</td>\n",
       "    </tr>\n",
       "  </tbody>\n",
       "</table>\n"
      ],
      "text/plain": [
       "<pandas.io.formats.style.Styler at 0x1f73e7a0450>"
      ]
     },
     "metadata": {},
     "output_type": "display_data"
    },
    {
     "data": {
      "text/html": [
       "<style type=\"text/css\">\n",
       "</style>\n",
       "<table id=\"T_b6020\">\n",
       "  <thead>\n",
       "    <tr>\n",
       "      <th class=\"blank level0\" >&nbsp;</th>\n",
       "      <th id=\"T_b6020_level0_col0\" class=\"col_heading level0 col0\" >Model</th>\n",
       "      <th id=\"T_b6020_level0_col1\" class=\"col_heading level0 col1\" >MAE</th>\n",
       "      <th id=\"T_b6020_level0_col2\" class=\"col_heading level0 col2\" >MSE</th>\n",
       "      <th id=\"T_b6020_level0_col3\" class=\"col_heading level0 col3\" >RMSE</th>\n",
       "      <th id=\"T_b6020_level0_col4\" class=\"col_heading level0 col4\" >R2</th>\n",
       "      <th id=\"T_b6020_level0_col5\" class=\"col_heading level0 col5\" >RMSLE</th>\n",
       "      <th id=\"T_b6020_level0_col6\" class=\"col_heading level0 col6\" >MAPE</th>\n",
       "    </tr>\n",
       "  </thead>\n",
       "  <tbody>\n",
       "    <tr>\n",
       "      <th id=\"T_b6020_level0_row0\" class=\"row_heading level0 row0\" >0</th>\n",
       "      <td id=\"T_b6020_row0_col0\" class=\"data row0 col0\" >Linear Regression</td>\n",
       "      <td id=\"T_b6020_row0_col1\" class=\"data row0 col1\" >3.5957</td>\n",
       "      <td id=\"T_b6020_row0_col2\" class=\"data row0 col2\" >12.9289</td>\n",
       "      <td id=\"T_b6020_row0_col3\" class=\"data row0 col3\" >3.5957</td>\n",
       "      <td id=\"T_b6020_row0_col4\" class=\"data row0 col4\" >nan</td>\n",
       "      <td id=\"T_b6020_row0_col5\" class=\"data row0 col5\" >0.0489</td>\n",
       "      <td id=\"T_b6020_row0_col6\" class=\"data row0 col6\" >0.0508</td>\n",
       "    </tr>\n",
       "  </tbody>\n",
       "</table>\n"
      ],
      "text/plain": [
       "<pandas.io.formats.style.Styler at 0x1f73c391290>"
      ]
     },
     "metadata": {},
     "output_type": "display_data"
    },
    {
     "data": {
      "text/html": [
       "<style type=\"text/css\">\n",
       "</style>\n",
       "<table id=\"T_003b8\">\n",
       "  <thead>\n",
       "    <tr>\n",
       "      <th class=\"blank level0\" >&nbsp;</th>\n",
       "      <th id=\"T_003b8_level0_col0\" class=\"col_heading level0 col0\" >Model</th>\n",
       "      <th id=\"T_003b8_level0_col1\" class=\"col_heading level0 col1\" >MAE</th>\n",
       "      <th id=\"T_003b8_level0_col2\" class=\"col_heading level0 col2\" >MSE</th>\n",
       "      <th id=\"T_003b8_level0_col3\" class=\"col_heading level0 col3\" >RMSE</th>\n",
       "      <th id=\"T_003b8_level0_col4\" class=\"col_heading level0 col4\" >R2</th>\n",
       "      <th id=\"T_003b8_level0_col5\" class=\"col_heading level0 col5\" >RMSLE</th>\n",
       "      <th id=\"T_003b8_level0_col6\" class=\"col_heading level0 col6\" >MAPE</th>\n",
       "    </tr>\n",
       "  </thead>\n",
       "  <tbody>\n",
       "    <tr>\n",
       "      <th id=\"T_003b8_level0_row0\" class=\"row_heading level0 row0\" >0</th>\n",
       "      <td id=\"T_003b8_row0_col0\" class=\"data row0 col0\" >Linear Regression</td>\n",
       "      <td id=\"T_003b8_row0_col1\" class=\"data row0 col1\" >6.6506</td>\n",
       "      <td id=\"T_003b8_row0_col2\" class=\"data row0 col2\" >44.2303</td>\n",
       "      <td id=\"T_003b8_row0_col3\" class=\"data row0 col3\" >6.6506</td>\n",
       "      <td id=\"T_003b8_row0_col4\" class=\"data row0 col4\" >nan</td>\n",
       "      <td id=\"T_003b8_row0_col5\" class=\"data row0 col5\" >0.0916</td>\n",
       "      <td id=\"T_003b8_row0_col6\" class=\"data row0 col6\" >0.0973</td>\n",
       "    </tr>\n",
       "  </tbody>\n",
       "</table>\n"
      ],
      "text/plain": [
       "<pandas.io.formats.style.Styler at 0x1f73e789510>"
      ]
     },
     "metadata": {},
     "output_type": "display_data"
    },
    {
     "data": {
      "text/html": [
       "<style type=\"text/css\">\n",
       "</style>\n",
       "<table id=\"T_bb852\">\n",
       "  <thead>\n",
       "    <tr>\n",
       "      <th class=\"blank level0\" >&nbsp;</th>\n",
       "      <th id=\"T_bb852_level0_col0\" class=\"col_heading level0 col0\" >Model</th>\n",
       "      <th id=\"T_bb852_level0_col1\" class=\"col_heading level0 col1\" >MAE</th>\n",
       "      <th id=\"T_bb852_level0_col2\" class=\"col_heading level0 col2\" >MSE</th>\n",
       "      <th id=\"T_bb852_level0_col3\" class=\"col_heading level0 col3\" >RMSE</th>\n",
       "      <th id=\"T_bb852_level0_col4\" class=\"col_heading level0 col4\" >R2</th>\n",
       "      <th id=\"T_bb852_level0_col5\" class=\"col_heading level0 col5\" >RMSLE</th>\n",
       "      <th id=\"T_bb852_level0_col6\" class=\"col_heading level0 col6\" >MAPE</th>\n",
       "    </tr>\n",
       "  </thead>\n",
       "  <tbody>\n",
       "    <tr>\n",
       "      <th id=\"T_bb852_level0_row0\" class=\"row_heading level0 row0\" >0</th>\n",
       "      <td id=\"T_bb852_row0_col0\" class=\"data row0 col0\" >Linear Regression</td>\n",
       "      <td id=\"T_bb852_row0_col1\" class=\"data row0 col1\" >2.0781</td>\n",
       "      <td id=\"T_bb852_row0_col2\" class=\"data row0 col2\" >4.3183</td>\n",
       "      <td id=\"T_bb852_row0_col3\" class=\"data row0 col3\" >2.0781</td>\n",
       "      <td id=\"T_bb852_row0_col4\" class=\"data row0 col4\" >nan</td>\n",
       "      <td id=\"T_bb852_row0_col5\" class=\"data row0 col5\" >0.0276</td>\n",
       "      <td id=\"T_bb852_row0_col6\" class=\"data row0 col6\" >0.0284</td>\n",
       "    </tr>\n",
       "  </tbody>\n",
       "</table>\n"
      ],
      "text/plain": [
       "<pandas.io.formats.style.Styler at 0x1f73e6af050>"
      ]
     },
     "metadata": {},
     "output_type": "display_data"
    },
    {
     "data": {
      "text/html": [
       "<style type=\"text/css\">\n",
       "</style>\n",
       "<table id=\"T_4198a\">\n",
       "  <thead>\n",
       "    <tr>\n",
       "      <th class=\"blank level0\" >&nbsp;</th>\n",
       "      <th id=\"T_4198a_level0_col0\" class=\"col_heading level0 col0\" >Model</th>\n",
       "      <th id=\"T_4198a_level0_col1\" class=\"col_heading level0 col1\" >MAE</th>\n",
       "      <th id=\"T_4198a_level0_col2\" class=\"col_heading level0 col2\" >MSE</th>\n",
       "      <th id=\"T_4198a_level0_col3\" class=\"col_heading level0 col3\" >RMSE</th>\n",
       "      <th id=\"T_4198a_level0_col4\" class=\"col_heading level0 col4\" >R2</th>\n",
       "      <th id=\"T_4198a_level0_col5\" class=\"col_heading level0 col5\" >RMSLE</th>\n",
       "      <th id=\"T_4198a_level0_col6\" class=\"col_heading level0 col6\" >MAPE</th>\n",
       "    </tr>\n",
       "  </thead>\n",
       "  <tbody>\n",
       "    <tr>\n",
       "      <th id=\"T_4198a_level0_row0\" class=\"row_heading level0 row0\" >0</th>\n",
       "      <td id=\"T_4198a_row0_col0\" class=\"data row0 col0\" >Linear Regression</td>\n",
       "      <td id=\"T_4198a_row0_col1\" class=\"data row0 col1\" >0.6324</td>\n",
       "      <td id=\"T_4198a_row0_col2\" class=\"data row0 col2\" >0.4000</td>\n",
       "      <td id=\"T_4198a_row0_col3\" class=\"data row0 col3\" >0.6324</td>\n",
       "      <td id=\"T_4198a_row0_col4\" class=\"data row0 col4\" >nan</td>\n",
       "      <td id=\"T_4198a_row0_col5\" class=\"data row0 col5\" >0.0083</td>\n",
       "      <td id=\"T_4198a_row0_col6\" class=\"data row0 col6\" >0.0085</td>\n",
       "    </tr>\n",
       "  </tbody>\n",
       "</table>\n"
      ],
      "text/plain": [
       "<pandas.io.formats.style.Styler at 0x1f73c557490>"
      ]
     },
     "metadata": {},
     "output_type": "display_data"
    },
    {
     "data": {
      "text/html": [
       "<style type=\"text/css\">\n",
       "</style>\n",
       "<table id=\"T_4ad37\">\n",
       "  <thead>\n",
       "    <tr>\n",
       "      <th class=\"blank level0\" >&nbsp;</th>\n",
       "      <th id=\"T_4ad37_level0_col0\" class=\"col_heading level0 col0\" >Model</th>\n",
       "      <th id=\"T_4ad37_level0_col1\" class=\"col_heading level0 col1\" >MAE</th>\n",
       "      <th id=\"T_4ad37_level0_col2\" class=\"col_heading level0 col2\" >MSE</th>\n",
       "      <th id=\"T_4ad37_level0_col3\" class=\"col_heading level0 col3\" >RMSE</th>\n",
       "      <th id=\"T_4ad37_level0_col4\" class=\"col_heading level0 col4\" >R2</th>\n",
       "      <th id=\"T_4ad37_level0_col5\" class=\"col_heading level0 col5\" >RMSLE</th>\n",
       "      <th id=\"T_4ad37_level0_col6\" class=\"col_heading level0 col6\" >MAPE</th>\n",
       "    </tr>\n",
       "  </thead>\n",
       "  <tbody>\n",
       "    <tr>\n",
       "      <th id=\"T_4ad37_level0_row0\" class=\"row_heading level0 row0\" >0</th>\n",
       "      <td id=\"T_4ad37_row0_col0\" class=\"data row0 col0\" >Linear Regression</td>\n",
       "      <td id=\"T_4ad37_row0_col1\" class=\"data row0 col1\" >8.0441</td>\n",
       "      <td id=\"T_4ad37_row0_col2\" class=\"data row0 col2\" >64.7068</td>\n",
       "      <td id=\"T_4ad37_row0_col3\" class=\"data row0 col3\" >8.0441</td>\n",
       "      <td id=\"T_4ad37_row0_col4\" class=\"data row0 col4\" >nan</td>\n",
       "      <td id=\"T_4ad37_row0_col5\" class=\"data row0 col5\" >0.1121</td>\n",
       "      <td id=\"T_4ad37_row0_col6\" class=\"data row0 col6\" >0.1205</td>\n",
       "    </tr>\n",
       "  </tbody>\n",
       "</table>\n"
      ],
      "text/plain": [
       "<pandas.io.formats.style.Styler at 0x1f73e6931d0>"
      ]
     },
     "metadata": {},
     "output_type": "display_data"
    },
    {
     "data": {
      "text/html": [
       "<style type=\"text/css\">\n",
       "</style>\n",
       "<table id=\"T_f1dd7\">\n",
       "  <thead>\n",
       "    <tr>\n",
       "      <th class=\"blank level0\" >&nbsp;</th>\n",
       "      <th id=\"T_f1dd7_level0_col0\" class=\"col_heading level0 col0\" >Model</th>\n",
       "      <th id=\"T_f1dd7_level0_col1\" class=\"col_heading level0 col1\" >MAE</th>\n",
       "      <th id=\"T_f1dd7_level0_col2\" class=\"col_heading level0 col2\" >MSE</th>\n",
       "      <th id=\"T_f1dd7_level0_col3\" class=\"col_heading level0 col3\" >RMSE</th>\n",
       "      <th id=\"T_f1dd7_level0_col4\" class=\"col_heading level0 col4\" >R2</th>\n",
       "      <th id=\"T_f1dd7_level0_col5\" class=\"col_heading level0 col5\" >RMSLE</th>\n",
       "      <th id=\"T_f1dd7_level0_col6\" class=\"col_heading level0 col6\" >MAPE</th>\n",
       "    </tr>\n",
       "  </thead>\n",
       "  <tbody>\n",
       "    <tr>\n",
       "      <th id=\"T_f1dd7_level0_row0\" class=\"row_heading level0 row0\" >0</th>\n",
       "      <td id=\"T_f1dd7_row0_col0\" class=\"data row0 col0\" >Linear Regression</td>\n",
       "      <td id=\"T_f1dd7_row0_col1\" class=\"data row0 col1\" >2.8874</td>\n",
       "      <td id=\"T_f1dd7_row0_col2\" class=\"data row0 col2\" >8.3372</td>\n",
       "      <td id=\"T_f1dd7_row0_col3\" class=\"data row0 col3\" >2.8874</td>\n",
       "      <td id=\"T_f1dd7_row0_col4\" class=\"data row0 col4\" >nan</td>\n",
       "      <td id=\"T_f1dd7_row0_col5\" class=\"data row0 col5\" >0.0389</td>\n",
       "      <td id=\"T_f1dd7_row0_col6\" class=\"data row0 col6\" >0.0402</td>\n",
       "    </tr>\n",
       "  </tbody>\n",
       "</table>\n"
      ],
      "text/plain": [
       "<pandas.io.formats.style.Styler at 0x1f73edeef10>"
      ]
     },
     "metadata": {},
     "output_type": "display_data"
    },
    {
     "data": {
      "text/html": [
       "<style type=\"text/css\">\n",
       "</style>\n",
       "<table id=\"T_bdf03\">\n",
       "  <thead>\n",
       "    <tr>\n",
       "      <th class=\"blank level0\" >&nbsp;</th>\n",
       "      <th id=\"T_bdf03_level0_col0\" class=\"col_heading level0 col0\" >Model</th>\n",
       "      <th id=\"T_bdf03_level0_col1\" class=\"col_heading level0 col1\" >MAE</th>\n",
       "      <th id=\"T_bdf03_level0_col2\" class=\"col_heading level0 col2\" >MSE</th>\n",
       "      <th id=\"T_bdf03_level0_col3\" class=\"col_heading level0 col3\" >RMSE</th>\n",
       "      <th id=\"T_bdf03_level0_col4\" class=\"col_heading level0 col4\" >R2</th>\n",
       "      <th id=\"T_bdf03_level0_col5\" class=\"col_heading level0 col5\" >RMSLE</th>\n",
       "      <th id=\"T_bdf03_level0_col6\" class=\"col_heading level0 col6\" >MAPE</th>\n",
       "    </tr>\n",
       "  </thead>\n",
       "  <tbody>\n",
       "    <tr>\n",
       "      <th id=\"T_bdf03_level0_row0\" class=\"row_heading level0 row0\" >0</th>\n",
       "      <td id=\"T_bdf03_row0_col0\" class=\"data row0 col0\" >Linear Regression</td>\n",
       "      <td id=\"T_bdf03_row0_col1\" class=\"data row0 col1\" >4.1194</td>\n",
       "      <td id=\"T_bdf03_row0_col2\" class=\"data row0 col2\" >16.9693</td>\n",
       "      <td id=\"T_bdf03_row0_col3\" class=\"data row0 col3\" >4.1194</td>\n",
       "      <td id=\"T_bdf03_row0_col4\" class=\"data row0 col4\" >nan</td>\n",
       "      <td id=\"T_bdf03_row0_col5\" class=\"data row0 col5\" >0.0560</td>\n",
       "      <td id=\"T_bdf03_row0_col6\" class=\"data row0 col6\" >0.0584</td>\n",
       "    </tr>\n",
       "  </tbody>\n",
       "</table>\n"
      ],
      "text/plain": [
       "<pandas.io.formats.style.Styler at 0x1f73e692d50>"
      ]
     },
     "metadata": {},
     "output_type": "display_data"
    },
    {
     "data": {
      "text/html": [
       "<style type=\"text/css\">\n",
       "</style>\n",
       "<table id=\"T_43a99\">\n",
       "  <thead>\n",
       "    <tr>\n",
       "      <th class=\"blank level0\" >&nbsp;</th>\n",
       "      <th id=\"T_43a99_level0_col0\" class=\"col_heading level0 col0\" >Model</th>\n",
       "      <th id=\"T_43a99_level0_col1\" class=\"col_heading level0 col1\" >MAE</th>\n",
       "      <th id=\"T_43a99_level0_col2\" class=\"col_heading level0 col2\" >MSE</th>\n",
       "      <th id=\"T_43a99_level0_col3\" class=\"col_heading level0 col3\" >RMSE</th>\n",
       "      <th id=\"T_43a99_level0_col4\" class=\"col_heading level0 col4\" >R2</th>\n",
       "      <th id=\"T_43a99_level0_col5\" class=\"col_heading level0 col5\" >RMSLE</th>\n",
       "      <th id=\"T_43a99_level0_col6\" class=\"col_heading level0 col6\" >MAPE</th>\n",
       "    </tr>\n",
       "  </thead>\n",
       "  <tbody>\n",
       "    <tr>\n",
       "      <th id=\"T_43a99_level0_row0\" class=\"row_heading level0 row0\" >0</th>\n",
       "      <td id=\"T_43a99_row0_col0\" class=\"data row0 col0\" >Linear Regression</td>\n",
       "      <td id=\"T_43a99_row0_col1\" class=\"data row0 col1\" >3.7947</td>\n",
       "      <td id=\"T_43a99_row0_col2\" class=\"data row0 col2\" >14.3998</td>\n",
       "      <td id=\"T_43a99_row0_col3\" class=\"data row0 col3\" >3.7947</td>\n",
       "      <td id=\"T_43a99_row0_col4\" class=\"data row0 col4\" >nan</td>\n",
       "      <td id=\"T_43a99_row0_col5\" class=\"data row0 col5\" >0.0515</td>\n",
       "      <td id=\"T_43a99_row0_col6\" class=\"data row0 col6\" >0.0536</td>\n",
       "    </tr>\n",
       "  </tbody>\n",
       "</table>\n"
      ],
      "text/plain": [
       "<pandas.io.formats.style.Styler at 0x1f73e6aed50>"
      ]
     },
     "metadata": {},
     "output_type": "display_data"
    },
    {
     "data": {
      "text/html": [
       "<style type=\"text/css\">\n",
       "</style>\n",
       "<table id=\"T_31de5\">\n",
       "  <thead>\n",
       "    <tr>\n",
       "      <th class=\"blank level0\" >&nbsp;</th>\n",
       "      <th id=\"T_31de5_level0_col0\" class=\"col_heading level0 col0\" >Model</th>\n",
       "      <th id=\"T_31de5_level0_col1\" class=\"col_heading level0 col1\" >MAE</th>\n",
       "      <th id=\"T_31de5_level0_col2\" class=\"col_heading level0 col2\" >MSE</th>\n",
       "      <th id=\"T_31de5_level0_col3\" class=\"col_heading level0 col3\" >RMSE</th>\n",
       "      <th id=\"T_31de5_level0_col4\" class=\"col_heading level0 col4\" >R2</th>\n",
       "      <th id=\"T_31de5_level0_col5\" class=\"col_heading level0 col5\" >RMSLE</th>\n",
       "      <th id=\"T_31de5_level0_col6\" class=\"col_heading level0 col6\" >MAPE</th>\n",
       "    </tr>\n",
       "  </thead>\n",
       "  <tbody>\n",
       "    <tr>\n",
       "      <th id=\"T_31de5_level0_row0\" class=\"row_heading level0 row0\" >0</th>\n",
       "      <td id=\"T_31de5_row0_col0\" class=\"data row0 col0\" >Linear Regression</td>\n",
       "      <td id=\"T_31de5_row0_col1\" class=\"data row0 col1\" >2.4999</td>\n",
       "      <td id=\"T_31de5_row0_col2\" class=\"data row0 col2\" >6.2493</td>\n",
       "      <td id=\"T_31de5_row0_col3\" class=\"data row0 col3\" >2.4999</td>\n",
       "      <td id=\"T_31de5_row0_col4\" class=\"data row0 col4\" >nan</td>\n",
       "      <td id=\"T_31de5_row0_col5\" class=\"data row0 col5\" >0.0336</td>\n",
       "      <td id=\"T_31de5_row0_col6\" class=\"data row0 col6\" >0.0347</td>\n",
       "    </tr>\n",
       "  </tbody>\n",
       "</table>\n"
      ],
      "text/plain": [
       "<pandas.io.formats.style.Styler at 0x1f73eef81d0>"
      ]
     },
     "metadata": {},
     "output_type": "display_data"
    },
    {
     "data": {
      "text/html": [
       "<style type=\"text/css\">\n",
       "</style>\n",
       "<table id=\"T_11548\">\n",
       "  <thead>\n",
       "    <tr>\n",
       "      <th class=\"blank level0\" >&nbsp;</th>\n",
       "      <th id=\"T_11548_level0_col0\" class=\"col_heading level0 col0\" >Model</th>\n",
       "      <th id=\"T_11548_level0_col1\" class=\"col_heading level0 col1\" >MAE</th>\n",
       "      <th id=\"T_11548_level0_col2\" class=\"col_heading level0 col2\" >MSE</th>\n",
       "      <th id=\"T_11548_level0_col3\" class=\"col_heading level0 col3\" >RMSE</th>\n",
       "      <th id=\"T_11548_level0_col4\" class=\"col_heading level0 col4\" >R2</th>\n",
       "      <th id=\"T_11548_level0_col5\" class=\"col_heading level0 col5\" >RMSLE</th>\n",
       "      <th id=\"T_11548_level0_col6\" class=\"col_heading level0 col6\" >MAPE</th>\n",
       "    </tr>\n",
       "  </thead>\n",
       "  <tbody>\n",
       "    <tr>\n",
       "      <th id=\"T_11548_level0_row0\" class=\"row_heading level0 row0\" >0</th>\n",
       "      <td id=\"T_11548_row0_col0\" class=\"data row0 col0\" >Linear Regression</td>\n",
       "      <td id=\"T_11548_row0_col1\" class=\"data row0 col1\" >1.9614</td>\n",
       "      <td id=\"T_11548_row0_col2\" class=\"data row0 col2\" >3.8472</td>\n",
       "      <td id=\"T_11548_row0_col3\" class=\"data row0 col3\" >1.9614</td>\n",
       "      <td id=\"T_11548_row0_col4\" class=\"data row0 col4\" >nan</td>\n",
       "      <td id=\"T_11548_row0_col5\" class=\"data row0 col5\" >0.0262</td>\n",
       "      <td id=\"T_11548_row0_col6\" class=\"data row0 col6\" >0.0270</td>\n",
       "    </tr>\n",
       "  </tbody>\n",
       "</table>\n"
      ],
      "text/plain": [
       "<pandas.io.formats.style.Styler at 0x1f73c391050>"
      ]
     },
     "metadata": {},
     "output_type": "display_data"
    },
    {
     "data": {
      "text/html": [
       "<style type=\"text/css\">\n",
       "</style>\n",
       "<table id=\"T_106dd\">\n",
       "  <thead>\n",
       "    <tr>\n",
       "      <th class=\"blank level0\" >&nbsp;</th>\n",
       "      <th id=\"T_106dd_level0_col0\" class=\"col_heading level0 col0\" >Model</th>\n",
       "      <th id=\"T_106dd_level0_col1\" class=\"col_heading level0 col1\" >MAE</th>\n",
       "      <th id=\"T_106dd_level0_col2\" class=\"col_heading level0 col2\" >MSE</th>\n",
       "      <th id=\"T_106dd_level0_col3\" class=\"col_heading level0 col3\" >RMSE</th>\n",
       "      <th id=\"T_106dd_level0_col4\" class=\"col_heading level0 col4\" >R2</th>\n",
       "      <th id=\"T_106dd_level0_col5\" class=\"col_heading level0 col5\" >RMSLE</th>\n",
       "      <th id=\"T_106dd_level0_col6\" class=\"col_heading level0 col6\" >MAPE</th>\n",
       "    </tr>\n",
       "  </thead>\n",
       "  <tbody>\n",
       "    <tr>\n",
       "      <th id=\"T_106dd_level0_row0\" class=\"row_heading level0 row0\" >0</th>\n",
       "      <td id=\"T_106dd_row0_col0\" class=\"data row0 col0\" >Linear Regression</td>\n",
       "      <td id=\"T_106dd_row0_col1\" class=\"data row0 col1\" >5.0093</td>\n",
       "      <td id=\"T_106dd_row0_col2\" class=\"data row0 col2\" >25.0932</td>\n",
       "      <td id=\"T_106dd_row0_col3\" class=\"data row0 col3\" >5.0093</td>\n",
       "      <td id=\"T_106dd_row0_col4\" class=\"data row0 col4\" >nan</td>\n",
       "      <td id=\"T_106dd_row0_col5\" class=\"data row0 col5\" >0.0683</td>\n",
       "      <td id=\"T_106dd_row0_col6\" class=\"data row0 col6\" >0.0717</td>\n",
       "    </tr>\n",
       "  </tbody>\n",
       "</table>\n"
      ],
      "text/plain": [
       "<pandas.io.formats.style.Styler at 0x1f73c3922d0>"
      ]
     },
     "metadata": {},
     "output_type": "display_data"
    },
    {
     "data": {
      "text/html": [
       "<style type=\"text/css\">\n",
       "</style>\n",
       "<table id=\"T_8d57c\">\n",
       "  <thead>\n",
       "    <tr>\n",
       "      <th class=\"blank level0\" >&nbsp;</th>\n",
       "      <th id=\"T_8d57c_level0_col0\" class=\"col_heading level0 col0\" >Model</th>\n",
       "      <th id=\"T_8d57c_level0_col1\" class=\"col_heading level0 col1\" >MAE</th>\n",
       "      <th id=\"T_8d57c_level0_col2\" class=\"col_heading level0 col2\" >MSE</th>\n",
       "      <th id=\"T_8d57c_level0_col3\" class=\"col_heading level0 col3\" >RMSE</th>\n",
       "      <th id=\"T_8d57c_level0_col4\" class=\"col_heading level0 col4\" >R2</th>\n",
       "      <th id=\"T_8d57c_level0_col5\" class=\"col_heading level0 col5\" >RMSLE</th>\n",
       "      <th id=\"T_8d57c_level0_col6\" class=\"col_heading level0 col6\" >MAPE</th>\n",
       "    </tr>\n",
       "  </thead>\n",
       "  <tbody>\n",
       "    <tr>\n",
       "      <th id=\"T_8d57c_level0_row0\" class=\"row_heading level0 row0\" >0</th>\n",
       "      <td id=\"T_8d57c_row0_col0\" class=\"data row0 col0\" >Linear Regression</td>\n",
       "      <td id=\"T_8d57c_row0_col1\" class=\"data row0 col1\" >4.9770</td>\n",
       "      <td id=\"T_8d57c_row0_col2\" class=\"data row0 col2\" >24.7707</td>\n",
       "      <td id=\"T_8d57c_row0_col3\" class=\"data row0 col3\" >4.9770</td>\n",
       "      <td id=\"T_8d57c_row0_col4\" class=\"data row0 col4\" >nan</td>\n",
       "      <td id=\"T_8d57c_row0_col5\" class=\"data row0 col5\" >0.0681</td>\n",
       "      <td id=\"T_8d57c_row0_col6\" class=\"data row0 col6\" >0.0715</td>\n",
       "    </tr>\n",
       "  </tbody>\n",
       "</table>\n"
      ],
      "text/plain": [
       "<pandas.io.formats.style.Styler at 0x1f73e6caf90>"
      ]
     },
     "metadata": {},
     "output_type": "display_data"
    },
    {
     "data": {
      "text/html": [
       "<style type=\"text/css\">\n",
       "</style>\n",
       "<table id=\"T_27d7b\">\n",
       "  <thead>\n",
       "    <tr>\n",
       "      <th class=\"blank level0\" >&nbsp;</th>\n",
       "      <th id=\"T_27d7b_level0_col0\" class=\"col_heading level0 col0\" >Model</th>\n",
       "      <th id=\"T_27d7b_level0_col1\" class=\"col_heading level0 col1\" >MAE</th>\n",
       "      <th id=\"T_27d7b_level0_col2\" class=\"col_heading level0 col2\" >MSE</th>\n",
       "      <th id=\"T_27d7b_level0_col3\" class=\"col_heading level0 col3\" >RMSE</th>\n",
       "      <th id=\"T_27d7b_level0_col4\" class=\"col_heading level0 col4\" >R2</th>\n",
       "      <th id=\"T_27d7b_level0_col5\" class=\"col_heading level0 col5\" >RMSLE</th>\n",
       "      <th id=\"T_27d7b_level0_col6\" class=\"col_heading level0 col6\" >MAPE</th>\n",
       "    </tr>\n",
       "  </thead>\n",
       "  <tbody>\n",
       "    <tr>\n",
       "      <th id=\"T_27d7b_level0_row0\" class=\"row_heading level0 row0\" >0</th>\n",
       "      <td id=\"T_27d7b_row0_col0\" class=\"data row0 col0\" >Linear Regression</td>\n",
       "      <td id=\"T_27d7b_row0_col1\" class=\"data row0 col1\" >1.4709</td>\n",
       "      <td id=\"T_27d7b_row0_col2\" class=\"data row0 col2\" >2.1635</td>\n",
       "      <td id=\"T_27d7b_row0_col3\" class=\"data row0 col3\" >1.4709</td>\n",
       "      <td id=\"T_27d7b_row0_col4\" class=\"data row0 col4\" >nan</td>\n",
       "      <td id=\"T_27d7b_row0_col5\" class=\"data row0 col5\" >0.0200</td>\n",
       "      <td id=\"T_27d7b_row0_col6\" class=\"data row0 col6\" >0.0205</td>\n",
       "    </tr>\n",
       "  </tbody>\n",
       "</table>\n"
      ],
      "text/plain": [
       "<pandas.io.formats.style.Styler at 0x1f73ecc3090>"
      ]
     },
     "metadata": {},
     "output_type": "display_data"
    },
    {
     "name": "stdout",
     "output_type": "stream",
     "text": [
      "Processing model: ExtraTreesRegressor\n"
     ]
    },
    {
     "data": {
      "text/html": [
       "<style type=\"text/css\">\n",
       "</style>\n",
       "<table id=\"T_b0a2c\">\n",
       "  <thead>\n",
       "    <tr>\n",
       "      <th class=\"blank level0\" >&nbsp;</th>\n",
       "      <th id=\"T_b0a2c_level0_col0\" class=\"col_heading level0 col0\" >Model</th>\n",
       "      <th id=\"T_b0a2c_level0_col1\" class=\"col_heading level0 col1\" >MAE</th>\n",
       "      <th id=\"T_b0a2c_level0_col2\" class=\"col_heading level0 col2\" >MSE</th>\n",
       "      <th id=\"T_b0a2c_level0_col3\" class=\"col_heading level0 col3\" >RMSE</th>\n",
       "      <th id=\"T_b0a2c_level0_col4\" class=\"col_heading level0 col4\" >R2</th>\n",
       "      <th id=\"T_b0a2c_level0_col5\" class=\"col_heading level0 col5\" >RMSLE</th>\n",
       "      <th id=\"T_b0a2c_level0_col6\" class=\"col_heading level0 col6\" >MAPE</th>\n",
       "    </tr>\n",
       "  </thead>\n",
       "  <tbody>\n",
       "    <tr>\n",
       "      <th id=\"T_b0a2c_level0_row0\" class=\"row_heading level0 row0\" >0</th>\n",
       "      <td id=\"T_b0a2c_row0_col0\" class=\"data row0 col0\" >Extra Trees Regressor</td>\n",
       "      <td id=\"T_b0a2c_row0_col1\" class=\"data row0 col1\" >2.0421</td>\n",
       "      <td id=\"T_b0a2c_row0_col2\" class=\"data row0 col2\" >4.1704</td>\n",
       "      <td id=\"T_b0a2c_row0_col3\" class=\"data row0 col3\" >2.0421</td>\n",
       "      <td id=\"T_b0a2c_row0_col4\" class=\"data row0 col4\" >nan</td>\n",
       "      <td id=\"T_b0a2c_row0_col5\" class=\"data row0 col5\" >0.0263</td>\n",
       "      <td id=\"T_b0a2c_row0_col6\" class=\"data row0 col6\" >0.0270</td>\n",
       "    </tr>\n",
       "  </tbody>\n",
       "</table>\n"
      ],
      "text/plain": [
       "<pandas.io.formats.style.Styler at 0x1f73ed705d0>"
      ]
     },
     "metadata": {},
     "output_type": "display_data"
    },
    {
     "data": {
      "text/html": [
       "<style type=\"text/css\">\n",
       "</style>\n",
       "<table id=\"T_a34ca\">\n",
       "  <thead>\n",
       "    <tr>\n",
       "      <th class=\"blank level0\" >&nbsp;</th>\n",
       "      <th id=\"T_a34ca_level0_col0\" class=\"col_heading level0 col0\" >Model</th>\n",
       "      <th id=\"T_a34ca_level0_col1\" class=\"col_heading level0 col1\" >MAE</th>\n",
       "      <th id=\"T_a34ca_level0_col2\" class=\"col_heading level0 col2\" >MSE</th>\n",
       "      <th id=\"T_a34ca_level0_col3\" class=\"col_heading level0 col3\" >RMSE</th>\n",
       "      <th id=\"T_a34ca_level0_col4\" class=\"col_heading level0 col4\" >R2</th>\n",
       "      <th id=\"T_a34ca_level0_col5\" class=\"col_heading level0 col5\" >RMSLE</th>\n",
       "      <th id=\"T_a34ca_level0_col6\" class=\"col_heading level0 col6\" >MAPE</th>\n",
       "    </tr>\n",
       "  </thead>\n",
       "  <tbody>\n",
       "    <tr>\n",
       "      <th id=\"T_a34ca_level0_row0\" class=\"row_heading level0 row0\" >0</th>\n",
       "      <td id=\"T_a34ca_row0_col0\" class=\"data row0 col0\" >Extra Trees Regressor</td>\n",
       "      <td id=\"T_a34ca_row0_col1\" class=\"data row0 col1\" >7.9394</td>\n",
       "      <td id=\"T_a34ca_row0_col2\" class=\"data row0 col2\" >63.0348</td>\n",
       "      <td id=\"T_a34ca_row0_col3\" class=\"data row0 col3\" >7.9394</td>\n",
       "      <td id=\"T_a34ca_row0_col4\" class=\"data row0 col4\" >nan</td>\n",
       "      <td id=\"T_a34ca_row0_col5\" class=\"data row0 col5\" >0.1063</td>\n",
       "      <td id=\"T_a34ca_row0_col6\" class=\"data row0 col6\" >0.1137</td>\n",
       "    </tr>\n",
       "  </tbody>\n",
       "</table>\n"
      ],
      "text/plain": [
       "<pandas.io.formats.style.Styler at 0x1f73c3f8190>"
      ]
     },
     "metadata": {},
     "output_type": "display_data"
    },
    {
     "data": {
      "text/html": [
       "<style type=\"text/css\">\n",
       "</style>\n",
       "<table id=\"T_cbcf7\">\n",
       "  <thead>\n",
       "    <tr>\n",
       "      <th class=\"blank level0\" >&nbsp;</th>\n",
       "      <th id=\"T_cbcf7_level0_col0\" class=\"col_heading level0 col0\" >Model</th>\n",
       "      <th id=\"T_cbcf7_level0_col1\" class=\"col_heading level0 col1\" >MAE</th>\n",
       "      <th id=\"T_cbcf7_level0_col2\" class=\"col_heading level0 col2\" >MSE</th>\n",
       "      <th id=\"T_cbcf7_level0_col3\" class=\"col_heading level0 col3\" >RMSE</th>\n",
       "      <th id=\"T_cbcf7_level0_col4\" class=\"col_heading level0 col4\" >R2</th>\n",
       "      <th id=\"T_cbcf7_level0_col5\" class=\"col_heading level0 col5\" >RMSLE</th>\n",
       "      <th id=\"T_cbcf7_level0_col6\" class=\"col_heading level0 col6\" >MAPE</th>\n",
       "    </tr>\n",
       "  </thead>\n",
       "  <tbody>\n",
       "    <tr>\n",
       "      <th id=\"T_cbcf7_level0_row0\" class=\"row_heading level0 row0\" >0</th>\n",
       "      <td id=\"T_cbcf7_row0_col0\" class=\"data row0 col0\" >Extra Trees Regressor</td>\n",
       "      <td id=\"T_cbcf7_row0_col1\" class=\"data row0 col1\" >3.6983</td>\n",
       "      <td id=\"T_cbcf7_row0_col2\" class=\"data row0 col2\" >13.6777</td>\n",
       "      <td id=\"T_cbcf7_row0_col3\" class=\"data row0 col3\" >3.6983</td>\n",
       "      <td id=\"T_cbcf7_row0_col4\" class=\"data row0 col4\" >nan</td>\n",
       "      <td id=\"T_cbcf7_row0_col5\" class=\"data row0 col5\" >0.0474</td>\n",
       "      <td id=\"T_cbcf7_row0_col6\" class=\"data row0 col6\" >0.0491</td>\n",
       "    </tr>\n",
       "  </tbody>\n",
       "</table>\n"
      ],
      "text/plain": [
       "<pandas.io.formats.style.Styler at 0x1f73e8f2350>"
      ]
     },
     "metadata": {},
     "output_type": "display_data"
    },
    {
     "data": {
      "text/html": [
       "<style type=\"text/css\">\n",
       "</style>\n",
       "<table id=\"T_40f0c\">\n",
       "  <thead>\n",
       "    <tr>\n",
       "      <th class=\"blank level0\" >&nbsp;</th>\n",
       "      <th id=\"T_40f0c_level0_col0\" class=\"col_heading level0 col0\" >Model</th>\n",
       "      <th id=\"T_40f0c_level0_col1\" class=\"col_heading level0 col1\" >MAE</th>\n",
       "      <th id=\"T_40f0c_level0_col2\" class=\"col_heading level0 col2\" >MSE</th>\n",
       "      <th id=\"T_40f0c_level0_col3\" class=\"col_heading level0 col3\" >RMSE</th>\n",
       "      <th id=\"T_40f0c_level0_col4\" class=\"col_heading level0 col4\" >R2</th>\n",
       "      <th id=\"T_40f0c_level0_col5\" class=\"col_heading level0 col5\" >RMSLE</th>\n",
       "      <th id=\"T_40f0c_level0_col6\" class=\"col_heading level0 col6\" >MAPE</th>\n",
       "    </tr>\n",
       "  </thead>\n",
       "  <tbody>\n",
       "    <tr>\n",
       "      <th id=\"T_40f0c_level0_row0\" class=\"row_heading level0 row0\" >0</th>\n",
       "      <td id=\"T_40f0c_row0_col0\" class=\"data row0 col0\" >Extra Trees Regressor</td>\n",
       "      <td id=\"T_40f0c_row0_col1\" class=\"data row0 col1\" >2.5382</td>\n",
       "      <td id=\"T_40f0c_row0_col2\" class=\"data row0 col2\" >6.4423</td>\n",
       "      <td id=\"T_40f0c_row0_col3\" class=\"data row0 col3\" >2.5382</td>\n",
       "      <td id=\"T_40f0c_row0_col4\" class=\"data row0 col4\" >nan</td>\n",
       "      <td id=\"T_40f0c_row0_col5\" class=\"data row0 col5\" >0.0327</td>\n",
       "      <td id=\"T_40f0c_row0_col6\" class=\"data row0 col6\" >0.0337</td>\n",
       "    </tr>\n",
       "  </tbody>\n",
       "</table>\n"
      ],
      "text/plain": [
       "<pandas.io.formats.style.Styler at 0x1f73c3d7550>"
      ]
     },
     "metadata": {},
     "output_type": "display_data"
    },
    {
     "data": {
      "text/html": [
       "<style type=\"text/css\">\n",
       "</style>\n",
       "<table id=\"T_9baaf\">\n",
       "  <thead>\n",
       "    <tr>\n",
       "      <th class=\"blank level0\" >&nbsp;</th>\n",
       "      <th id=\"T_9baaf_level0_col0\" class=\"col_heading level0 col0\" >Model</th>\n",
       "      <th id=\"T_9baaf_level0_col1\" class=\"col_heading level0 col1\" >MAE</th>\n",
       "      <th id=\"T_9baaf_level0_col2\" class=\"col_heading level0 col2\" >MSE</th>\n",
       "      <th id=\"T_9baaf_level0_col3\" class=\"col_heading level0 col3\" >RMSE</th>\n",
       "      <th id=\"T_9baaf_level0_col4\" class=\"col_heading level0 col4\" >R2</th>\n",
       "      <th id=\"T_9baaf_level0_col5\" class=\"col_heading level0 col5\" >RMSLE</th>\n",
       "      <th id=\"T_9baaf_level0_col6\" class=\"col_heading level0 col6\" >MAPE</th>\n",
       "    </tr>\n",
       "  </thead>\n",
       "  <tbody>\n",
       "    <tr>\n",
       "      <th id=\"T_9baaf_level0_row0\" class=\"row_heading level0 row0\" >0</th>\n",
       "      <td id=\"T_9baaf_row0_col0\" class=\"data row0 col0\" >Extra Trees Regressor</td>\n",
       "      <td id=\"T_9baaf_row0_col1\" class=\"data row0 col1\" >10.0906</td>\n",
       "      <td id=\"T_9baaf_row0_col2\" class=\"data row0 col2\" >101.8203</td>\n",
       "      <td id=\"T_9baaf_row0_col3\" class=\"data row0 col3\" >10.0906</td>\n",
       "      <td id=\"T_9baaf_row0_col4\" class=\"data row0 col4\" >nan</td>\n",
       "      <td id=\"T_9baaf_row0_col5\" class=\"data row0 col5\" >0.1211</td>\n",
       "      <td id=\"T_9baaf_row0_col6\" class=\"data row0 col6\" >0.1153</td>\n",
       "    </tr>\n",
       "  </tbody>\n",
       "</table>\n"
      ],
      "text/plain": [
       "<pandas.io.formats.style.Styler at 0x1f7201821d0>"
      ]
     },
     "metadata": {},
     "output_type": "display_data"
    },
    {
     "data": {
      "text/html": [
       "<style type=\"text/css\">\n",
       "</style>\n",
       "<table id=\"T_4df68\">\n",
       "  <thead>\n",
       "    <tr>\n",
       "      <th class=\"blank level0\" >&nbsp;</th>\n",
       "      <th id=\"T_4df68_level0_col0\" class=\"col_heading level0 col0\" >Model</th>\n",
       "      <th id=\"T_4df68_level0_col1\" class=\"col_heading level0 col1\" >MAE</th>\n",
       "      <th id=\"T_4df68_level0_col2\" class=\"col_heading level0 col2\" >MSE</th>\n",
       "      <th id=\"T_4df68_level0_col3\" class=\"col_heading level0 col3\" >RMSE</th>\n",
       "      <th id=\"T_4df68_level0_col4\" class=\"col_heading level0 col4\" >R2</th>\n",
       "      <th id=\"T_4df68_level0_col5\" class=\"col_heading level0 col5\" >RMSLE</th>\n",
       "      <th id=\"T_4df68_level0_col6\" class=\"col_heading level0 col6\" >MAPE</th>\n",
       "    </tr>\n",
       "  </thead>\n",
       "  <tbody>\n",
       "    <tr>\n",
       "      <th id=\"T_4df68_level0_row0\" class=\"row_heading level0 row0\" >0</th>\n",
       "      <td id=\"T_4df68_row0_col0\" class=\"data row0 col0\" >Extra Trees Regressor</td>\n",
       "      <td id=\"T_4df68_row0_col1\" class=\"data row0 col1\" >9.2680</td>\n",
       "      <td id=\"T_4df68_row0_col2\" class=\"data row0 col2\" >85.8962</td>\n",
       "      <td id=\"T_4df68_row0_col3\" class=\"data row0 col3\" >9.2680</td>\n",
       "      <td id=\"T_4df68_row0_col4\" class=\"data row0 col4\" >nan</td>\n",
       "      <td id=\"T_4df68_row0_col5\" class=\"data row0 col5\" >0.1130</td>\n",
       "      <td id=\"T_4df68_row0_col6\" class=\"data row0 col6\" >0.1081</td>\n",
       "    </tr>\n",
       "  </tbody>\n",
       "</table>\n"
      ],
      "text/plain": [
       "<pandas.io.formats.style.Styler at 0x1f73eef0b10>"
      ]
     },
     "metadata": {},
     "output_type": "display_data"
    },
    {
     "data": {
      "text/html": [
       "<style type=\"text/css\">\n",
       "</style>\n",
       "<table id=\"T_afb23\">\n",
       "  <thead>\n",
       "    <tr>\n",
       "      <th class=\"blank level0\" >&nbsp;</th>\n",
       "      <th id=\"T_afb23_level0_col0\" class=\"col_heading level0 col0\" >Model</th>\n",
       "      <th id=\"T_afb23_level0_col1\" class=\"col_heading level0 col1\" >MAE</th>\n",
       "      <th id=\"T_afb23_level0_col2\" class=\"col_heading level0 col2\" >MSE</th>\n",
       "      <th id=\"T_afb23_level0_col3\" class=\"col_heading level0 col3\" >RMSE</th>\n",
       "      <th id=\"T_afb23_level0_col4\" class=\"col_heading level0 col4\" >R2</th>\n",
       "      <th id=\"T_afb23_level0_col5\" class=\"col_heading level0 col5\" >RMSLE</th>\n",
       "      <th id=\"T_afb23_level0_col6\" class=\"col_heading level0 col6\" >MAPE</th>\n",
       "    </tr>\n",
       "  </thead>\n",
       "  <tbody>\n",
       "    <tr>\n",
       "      <th id=\"T_afb23_level0_row0\" class=\"row_heading level0 row0\" >0</th>\n",
       "      <td id=\"T_afb23_row0_col0\" class=\"data row0 col0\" >Extra Trees Regressor</td>\n",
       "      <td id=\"T_afb23_row0_col1\" class=\"data row0 col1\" >0.3082</td>\n",
       "      <td id=\"T_afb23_row0_col2\" class=\"data row0 col2\" >0.0950</td>\n",
       "      <td id=\"T_afb23_row0_col3\" class=\"data row0 col3\" >0.3082</td>\n",
       "      <td id=\"T_afb23_row0_col4\" class=\"data row0 col4\" >nan</td>\n",
       "      <td id=\"T_afb23_row0_col5\" class=\"data row0 col5\" >0.0039</td>\n",
       "      <td id=\"T_afb23_row0_col6\" class=\"data row0 col6\" >0.0039</td>\n",
       "    </tr>\n",
       "  </tbody>\n",
       "</table>\n"
      ],
      "text/plain": [
       "<pandas.io.formats.style.Styler at 0x1f73ed71dd0>"
      ]
     },
     "metadata": {},
     "output_type": "display_data"
    },
    {
     "data": {
      "text/html": [
       "<style type=\"text/css\">\n",
       "</style>\n",
       "<table id=\"T_13318\">\n",
       "  <thead>\n",
       "    <tr>\n",
       "      <th class=\"blank level0\" >&nbsp;</th>\n",
       "      <th id=\"T_13318_level0_col0\" class=\"col_heading level0 col0\" >Model</th>\n",
       "      <th id=\"T_13318_level0_col1\" class=\"col_heading level0 col1\" >MAE</th>\n",
       "      <th id=\"T_13318_level0_col2\" class=\"col_heading level0 col2\" >MSE</th>\n",
       "      <th id=\"T_13318_level0_col3\" class=\"col_heading level0 col3\" >RMSE</th>\n",
       "      <th id=\"T_13318_level0_col4\" class=\"col_heading level0 col4\" >R2</th>\n",
       "      <th id=\"T_13318_level0_col5\" class=\"col_heading level0 col5\" >RMSLE</th>\n",
       "      <th id=\"T_13318_level0_col6\" class=\"col_heading level0 col6\" >MAPE</th>\n",
       "    </tr>\n",
       "  </thead>\n",
       "  <tbody>\n",
       "    <tr>\n",
       "      <th id=\"T_13318_level0_row0\" class=\"row_heading level0 row0\" >0</th>\n",
       "      <td id=\"T_13318_row0_col0\" class=\"data row0 col0\" >Extra Trees Regressor</td>\n",
       "      <td id=\"T_13318_row0_col1\" class=\"data row0 col1\" >1.3090</td>\n",
       "      <td id=\"T_13318_row0_col2\" class=\"data row0 col2\" >1.7135</td>\n",
       "      <td id=\"T_13318_row0_col3\" class=\"data row0 col3\" >1.3090</td>\n",
       "      <td id=\"T_13318_row0_col4\" class=\"data row0 col4\" >nan</td>\n",
       "      <td id=\"T_13318_row0_col5\" class=\"data row0 col5\" >0.0168</td>\n",
       "      <td id=\"T_13318_row0_col6\" class=\"data row0 col6\" >0.0172</td>\n",
       "    </tr>\n",
       "  </tbody>\n",
       "</table>\n"
      ],
      "text/plain": [
       "<pandas.io.formats.style.Styler at 0x1f73c3e63d0>"
      ]
     },
     "metadata": {},
     "output_type": "display_data"
    },
    {
     "data": {
      "text/html": [
       "<style type=\"text/css\">\n",
       "</style>\n",
       "<table id=\"T_fba2b\">\n",
       "  <thead>\n",
       "    <tr>\n",
       "      <th class=\"blank level0\" >&nbsp;</th>\n",
       "      <th id=\"T_fba2b_level0_col0\" class=\"col_heading level0 col0\" >Model</th>\n",
       "      <th id=\"T_fba2b_level0_col1\" class=\"col_heading level0 col1\" >MAE</th>\n",
       "      <th id=\"T_fba2b_level0_col2\" class=\"col_heading level0 col2\" >MSE</th>\n",
       "      <th id=\"T_fba2b_level0_col3\" class=\"col_heading level0 col3\" >RMSE</th>\n",
       "      <th id=\"T_fba2b_level0_col4\" class=\"col_heading level0 col4\" >R2</th>\n",
       "      <th id=\"T_fba2b_level0_col5\" class=\"col_heading level0 col5\" >RMSLE</th>\n",
       "      <th id=\"T_fba2b_level0_col6\" class=\"col_heading level0 col6\" >MAPE</th>\n",
       "    </tr>\n",
       "  </thead>\n",
       "  <tbody>\n",
       "    <tr>\n",
       "      <th id=\"T_fba2b_level0_row0\" class=\"row_heading level0 row0\" >0</th>\n",
       "      <td id=\"T_fba2b_row0_col0\" class=\"data row0 col0\" >Extra Trees Regressor</td>\n",
       "      <td id=\"T_fba2b_row0_col1\" class=\"data row0 col1\" >0.4458</td>\n",
       "      <td id=\"T_fba2b_row0_col2\" class=\"data row0 col2\" >0.1988</td>\n",
       "      <td id=\"T_fba2b_row0_col3\" class=\"data row0 col3\" >0.4458</td>\n",
       "      <td id=\"T_fba2b_row0_col4\" class=\"data row0 col4\" >nan</td>\n",
       "      <td id=\"T_fba2b_row0_col5\" class=\"data row0 col5\" >0.0057</td>\n",
       "      <td id=\"T_fba2b_row0_col6\" class=\"data row0 col6\" >0.0057</td>\n",
       "    </tr>\n",
       "  </tbody>\n",
       "</table>\n"
      ],
      "text/plain": [
       "<pandas.io.formats.style.Styler at 0x1f73e69c810>"
      ]
     },
     "metadata": {},
     "output_type": "display_data"
    },
    {
     "data": {
      "text/html": [
       "<style type=\"text/css\">\n",
       "</style>\n",
       "<table id=\"T_17dcc\">\n",
       "  <thead>\n",
       "    <tr>\n",
       "      <th class=\"blank level0\" >&nbsp;</th>\n",
       "      <th id=\"T_17dcc_level0_col0\" class=\"col_heading level0 col0\" >Model</th>\n",
       "      <th id=\"T_17dcc_level0_col1\" class=\"col_heading level0 col1\" >MAE</th>\n",
       "      <th id=\"T_17dcc_level0_col2\" class=\"col_heading level0 col2\" >MSE</th>\n",
       "      <th id=\"T_17dcc_level0_col3\" class=\"col_heading level0 col3\" >RMSE</th>\n",
       "      <th id=\"T_17dcc_level0_col4\" class=\"col_heading level0 col4\" >R2</th>\n",
       "      <th id=\"T_17dcc_level0_col5\" class=\"col_heading level0 col5\" >RMSLE</th>\n",
       "      <th id=\"T_17dcc_level0_col6\" class=\"col_heading level0 col6\" >MAPE</th>\n",
       "    </tr>\n",
       "  </thead>\n",
       "  <tbody>\n",
       "    <tr>\n",
       "      <th id=\"T_17dcc_level0_row0\" class=\"row_heading level0 row0\" >0</th>\n",
       "      <td id=\"T_17dcc_row0_col0\" class=\"data row0 col0\" >Extra Trees Regressor</td>\n",
       "      <td id=\"T_17dcc_row0_col1\" class=\"data row0 col1\" >0.1653</td>\n",
       "      <td id=\"T_17dcc_row0_col2\" class=\"data row0 col2\" >0.0273</td>\n",
       "      <td id=\"T_17dcc_row0_col3\" class=\"data row0 col3\" >0.1653</td>\n",
       "      <td id=\"T_17dcc_row0_col4\" class=\"data row0 col4\" >nan</td>\n",
       "      <td id=\"T_17dcc_row0_col5\" class=\"data row0 col5\" >0.0021</td>\n",
       "      <td id=\"T_17dcc_row0_col6\" class=\"data row0 col6\" >0.0021</td>\n",
       "    </tr>\n",
       "  </tbody>\n",
       "</table>\n"
      ],
      "text/plain": [
       "<pandas.io.formats.style.Styler at 0x1f73e7a2650>"
      ]
     },
     "metadata": {},
     "output_type": "display_data"
    },
    {
     "data": {
      "text/html": [
       "<style type=\"text/css\">\n",
       "</style>\n",
       "<table id=\"T_8bf7f\">\n",
       "  <thead>\n",
       "    <tr>\n",
       "      <th class=\"blank level0\" >&nbsp;</th>\n",
       "      <th id=\"T_8bf7f_level0_col0\" class=\"col_heading level0 col0\" >Model</th>\n",
       "      <th id=\"T_8bf7f_level0_col1\" class=\"col_heading level0 col1\" >MAE</th>\n",
       "      <th id=\"T_8bf7f_level0_col2\" class=\"col_heading level0 col2\" >MSE</th>\n",
       "      <th id=\"T_8bf7f_level0_col3\" class=\"col_heading level0 col3\" >RMSE</th>\n",
       "      <th id=\"T_8bf7f_level0_col4\" class=\"col_heading level0 col4\" >R2</th>\n",
       "      <th id=\"T_8bf7f_level0_col5\" class=\"col_heading level0 col5\" >RMSLE</th>\n",
       "      <th id=\"T_8bf7f_level0_col6\" class=\"col_heading level0 col6\" >MAPE</th>\n",
       "    </tr>\n",
       "  </thead>\n",
       "  <tbody>\n",
       "    <tr>\n",
       "      <th id=\"T_8bf7f_level0_row0\" class=\"row_heading level0 row0\" >0</th>\n",
       "      <td id=\"T_8bf7f_row0_col0\" class=\"data row0 col0\" >Extra Trees Regressor</td>\n",
       "      <td id=\"T_8bf7f_row0_col1\" class=\"data row0 col1\" >6.8182</td>\n",
       "      <td id=\"T_8bf7f_row0_col2\" class=\"data row0 col2\" >46.4873</td>\n",
       "      <td id=\"T_8bf7f_row0_col3\" class=\"data row0 col3\" >6.8182</td>\n",
       "      <td id=\"T_8bf7f_row0_col4\" class=\"data row0 col4\" >nan</td>\n",
       "      <td id=\"T_8bf7f_row0_col5\" class=\"data row0 col5\" >0.0893</td>\n",
       "      <td id=\"T_8bf7f_row0_col6\" class=\"data row0 col6\" >0.0947</td>\n",
       "    </tr>\n",
       "  </tbody>\n",
       "</table>\n"
      ],
      "text/plain": [
       "<pandas.io.formats.style.Styler at 0x1f73ef011d0>"
      ]
     },
     "metadata": {},
     "output_type": "display_data"
    },
    {
     "data": {
      "text/html": [
       "<style type=\"text/css\">\n",
       "</style>\n",
       "<table id=\"T_83075\">\n",
       "  <thead>\n",
       "    <tr>\n",
       "      <th class=\"blank level0\" >&nbsp;</th>\n",
       "      <th id=\"T_83075_level0_col0\" class=\"col_heading level0 col0\" >Model</th>\n",
       "      <th id=\"T_83075_level0_col1\" class=\"col_heading level0 col1\" >MAE</th>\n",
       "      <th id=\"T_83075_level0_col2\" class=\"col_heading level0 col2\" >MSE</th>\n",
       "      <th id=\"T_83075_level0_col3\" class=\"col_heading level0 col3\" >RMSE</th>\n",
       "      <th id=\"T_83075_level0_col4\" class=\"col_heading level0 col4\" >R2</th>\n",
       "      <th id=\"T_83075_level0_col5\" class=\"col_heading level0 col5\" >RMSLE</th>\n",
       "      <th id=\"T_83075_level0_col6\" class=\"col_heading level0 col6\" >MAPE</th>\n",
       "    </tr>\n",
       "  </thead>\n",
       "  <tbody>\n",
       "    <tr>\n",
       "      <th id=\"T_83075_level0_row0\" class=\"row_heading level0 row0\" >0</th>\n",
       "      <td id=\"T_83075_row0_col0\" class=\"data row0 col0\" >Extra Trees Regressor</td>\n",
       "      <td id=\"T_83075_row0_col1\" class=\"data row0 col1\" >5.5857</td>\n",
       "      <td id=\"T_83075_row0_col2\" class=\"data row0 col2\" >31.1997</td>\n",
       "      <td id=\"T_83075_row0_col3\" class=\"data row0 col3\" >5.5857</td>\n",
       "      <td id=\"T_83075_row0_col4\" class=\"data row0 col4\" >nan</td>\n",
       "      <td id=\"T_83075_row0_col5\" class=\"data row0 col5\" >0.0743</td>\n",
       "      <td id=\"T_83075_row0_col6\" class=\"data row0 col6\" >0.0782</td>\n",
       "    </tr>\n",
       "  </tbody>\n",
       "</table>\n"
      ],
      "text/plain": [
       "<pandas.io.formats.style.Styler at 0x1f73e8d0150>"
      ]
     },
     "metadata": {},
     "output_type": "display_data"
    },
    {
     "data": {
      "text/html": [
       "<style type=\"text/css\">\n",
       "</style>\n",
       "<table id=\"T_643fd\">\n",
       "  <thead>\n",
       "    <tr>\n",
       "      <th class=\"blank level0\" >&nbsp;</th>\n",
       "      <th id=\"T_643fd_level0_col0\" class=\"col_heading level0 col0\" >Model</th>\n",
       "      <th id=\"T_643fd_level0_col1\" class=\"col_heading level0 col1\" >MAE</th>\n",
       "      <th id=\"T_643fd_level0_col2\" class=\"col_heading level0 col2\" >MSE</th>\n",
       "      <th id=\"T_643fd_level0_col3\" class=\"col_heading level0 col3\" >RMSE</th>\n",
       "      <th id=\"T_643fd_level0_col4\" class=\"col_heading level0 col4\" >R2</th>\n",
       "      <th id=\"T_643fd_level0_col5\" class=\"col_heading level0 col5\" >RMSLE</th>\n",
       "      <th id=\"T_643fd_level0_col6\" class=\"col_heading level0 col6\" >MAPE</th>\n",
       "    </tr>\n",
       "  </thead>\n",
       "  <tbody>\n",
       "    <tr>\n",
       "      <th id=\"T_643fd_level0_row0\" class=\"row_heading level0 row0\" >0</th>\n",
       "      <td id=\"T_643fd_row0_col0\" class=\"data row0 col0\" >Extra Trees Regressor</td>\n",
       "      <td id=\"T_643fd_row0_col1\" class=\"data row0 col1\" >0.6490</td>\n",
       "      <td id=\"T_643fd_row0_col2\" class=\"data row0 col2\" >0.4212</td>\n",
       "      <td id=\"T_643fd_row0_col3\" class=\"data row0 col3\" >0.6490</td>\n",
       "      <td id=\"T_643fd_row0_col4\" class=\"data row0 col4\" >nan</td>\n",
       "      <td id=\"T_643fd_row0_col5\" class=\"data row0 col5\" >0.0082</td>\n",
       "      <td id=\"T_643fd_row0_col6\" class=\"data row0 col6\" >0.0083</td>\n",
       "    </tr>\n",
       "  </tbody>\n",
       "</table>\n"
      ],
      "text/plain": [
       "<pandas.io.formats.style.Styler at 0x1f73ee40a90>"
      ]
     },
     "metadata": {},
     "output_type": "display_data"
    },
    {
     "data": {
      "text/html": [
       "<style type=\"text/css\">\n",
       "</style>\n",
       "<table id=\"T_b589c\">\n",
       "  <thead>\n",
       "    <tr>\n",
       "      <th class=\"blank level0\" >&nbsp;</th>\n",
       "      <th id=\"T_b589c_level0_col0\" class=\"col_heading level0 col0\" >Model</th>\n",
       "      <th id=\"T_b589c_level0_col1\" class=\"col_heading level0 col1\" >MAE</th>\n",
       "      <th id=\"T_b589c_level0_col2\" class=\"col_heading level0 col2\" >MSE</th>\n",
       "      <th id=\"T_b589c_level0_col3\" class=\"col_heading level0 col3\" >RMSE</th>\n",
       "      <th id=\"T_b589c_level0_col4\" class=\"col_heading level0 col4\" >R2</th>\n",
       "      <th id=\"T_b589c_level0_col5\" class=\"col_heading level0 col5\" >RMSLE</th>\n",
       "      <th id=\"T_b589c_level0_col6\" class=\"col_heading level0 col6\" >MAPE</th>\n",
       "    </tr>\n",
       "  </thead>\n",
       "  <tbody>\n",
       "    <tr>\n",
       "      <th id=\"T_b589c_level0_row0\" class=\"row_heading level0 row0\" >0</th>\n",
       "      <td id=\"T_b589c_row0_col0\" class=\"data row0 col0\" >Extra Trees Regressor</td>\n",
       "      <td id=\"T_b589c_row0_col1\" class=\"data row0 col1\" >0.3684</td>\n",
       "      <td id=\"T_b589c_row0_col2\" class=\"data row0 col2\" >0.1357</td>\n",
       "      <td id=\"T_b589c_row0_col3\" class=\"data row0 col3\" >0.3684</td>\n",
       "      <td id=\"T_b589c_row0_col4\" class=\"data row0 col4\" >nan</td>\n",
       "      <td id=\"T_b589c_row0_col5\" class=\"data row0 col5\" >0.0047</td>\n",
       "      <td id=\"T_b589c_row0_col6\" class=\"data row0 col6\" >0.0048</td>\n",
       "    </tr>\n",
       "  </tbody>\n",
       "</table>\n"
      ],
      "text/plain": [
       "<pandas.io.formats.style.Styler at 0x1f73e8d2210>"
      ]
     },
     "metadata": {},
     "output_type": "display_data"
    },
    {
     "data": {
      "text/html": [
       "<style type=\"text/css\">\n",
       "</style>\n",
       "<table id=\"T_4db0b\">\n",
       "  <thead>\n",
       "    <tr>\n",
       "      <th class=\"blank level0\" >&nbsp;</th>\n",
       "      <th id=\"T_4db0b_level0_col0\" class=\"col_heading level0 col0\" >Model</th>\n",
       "      <th id=\"T_4db0b_level0_col1\" class=\"col_heading level0 col1\" >MAE</th>\n",
       "      <th id=\"T_4db0b_level0_col2\" class=\"col_heading level0 col2\" >MSE</th>\n",
       "      <th id=\"T_4db0b_level0_col3\" class=\"col_heading level0 col3\" >RMSE</th>\n",
       "      <th id=\"T_4db0b_level0_col4\" class=\"col_heading level0 col4\" >R2</th>\n",
       "      <th id=\"T_4db0b_level0_col5\" class=\"col_heading level0 col5\" >RMSLE</th>\n",
       "      <th id=\"T_4db0b_level0_col6\" class=\"col_heading level0 col6\" >MAPE</th>\n",
       "    </tr>\n",
       "  </thead>\n",
       "  <tbody>\n",
       "    <tr>\n",
       "      <th id=\"T_4db0b_level0_row0\" class=\"row_heading level0 row0\" >0</th>\n",
       "      <td id=\"T_4db0b_row0_col0\" class=\"data row0 col0\" >Extra Trees Regressor</td>\n",
       "      <td id=\"T_4db0b_row0_col1\" class=\"data row0 col1\" >2.7806</td>\n",
       "      <td id=\"T_4db0b_row0_col2\" class=\"data row0 col2\" >7.7318</td>\n",
       "      <td id=\"T_4db0b_row0_col3\" class=\"data row0 col3\" >2.7806</td>\n",
       "      <td id=\"T_4db0b_row0_col4\" class=\"data row0 col4\" >nan</td>\n",
       "      <td id=\"T_4db0b_row0_col5\" class=\"data row0 col5\" >0.0358</td>\n",
       "      <td id=\"T_4db0b_row0_col6\" class=\"data row0 col6\" >0.0369</td>\n",
       "    </tr>\n",
       "  </tbody>\n",
       "</table>\n"
      ],
      "text/plain": [
       "<pandas.io.formats.style.Styler at 0x1f73c392b90>"
      ]
     },
     "metadata": {},
     "output_type": "display_data"
    },
    {
     "data": {
      "text/html": [
       "<style type=\"text/css\">\n",
       "</style>\n",
       "<table id=\"T_092c8\">\n",
       "  <thead>\n",
       "    <tr>\n",
       "      <th class=\"blank level0\" >&nbsp;</th>\n",
       "      <th id=\"T_092c8_level0_col0\" class=\"col_heading level0 col0\" >Model</th>\n",
       "      <th id=\"T_092c8_level0_col1\" class=\"col_heading level0 col1\" >MAE</th>\n",
       "      <th id=\"T_092c8_level0_col2\" class=\"col_heading level0 col2\" >MSE</th>\n",
       "      <th id=\"T_092c8_level0_col3\" class=\"col_heading level0 col3\" >RMSE</th>\n",
       "      <th id=\"T_092c8_level0_col4\" class=\"col_heading level0 col4\" >R2</th>\n",
       "      <th id=\"T_092c8_level0_col5\" class=\"col_heading level0 col5\" >RMSLE</th>\n",
       "      <th id=\"T_092c8_level0_col6\" class=\"col_heading level0 col6\" >MAPE</th>\n",
       "    </tr>\n",
       "  </thead>\n",
       "  <tbody>\n",
       "    <tr>\n",
       "      <th id=\"T_092c8_level0_row0\" class=\"row_heading level0 row0\" >0</th>\n",
       "      <td id=\"T_092c8_row0_col0\" class=\"data row0 col0\" >Extra Trees Regressor</td>\n",
       "      <td id=\"T_092c8_row0_col1\" class=\"data row0 col1\" >7.7601</td>\n",
       "      <td id=\"T_092c8_row0_col2\" class=\"data row0 col2\" >60.2186</td>\n",
       "      <td id=\"T_092c8_row0_col3\" class=\"data row0 col3\" >7.7601</td>\n",
       "      <td id=\"T_092c8_row0_col4\" class=\"data row0 col4\" >nan</td>\n",
       "      <td id=\"T_092c8_row0_col5\" class=\"data row0 col5\" >0.1042</td>\n",
       "      <td id=\"T_092c8_row0_col6\" class=\"data row0 col6\" >0.1114</td>\n",
       "    </tr>\n",
       "  </tbody>\n",
       "</table>\n"
      ],
      "text/plain": [
       "<pandas.io.formats.style.Styler at 0x1f73c3f8190>"
      ]
     },
     "metadata": {},
     "output_type": "display_data"
    },
    {
     "data": {
      "text/html": [
       "<style type=\"text/css\">\n",
       "</style>\n",
       "<table id=\"T_d0505\">\n",
       "  <thead>\n",
       "    <tr>\n",
       "      <th class=\"blank level0\" >&nbsp;</th>\n",
       "      <th id=\"T_d0505_level0_col0\" class=\"col_heading level0 col0\" >Model</th>\n",
       "      <th id=\"T_d0505_level0_col1\" class=\"col_heading level0 col1\" >MAE</th>\n",
       "      <th id=\"T_d0505_level0_col2\" class=\"col_heading level0 col2\" >MSE</th>\n",
       "      <th id=\"T_d0505_level0_col3\" class=\"col_heading level0 col3\" >RMSE</th>\n",
       "      <th id=\"T_d0505_level0_col4\" class=\"col_heading level0 col4\" >R2</th>\n",
       "      <th id=\"T_d0505_level0_col5\" class=\"col_heading level0 col5\" >RMSLE</th>\n",
       "      <th id=\"T_d0505_level0_col6\" class=\"col_heading level0 col6\" >MAPE</th>\n",
       "    </tr>\n",
       "  </thead>\n",
       "  <tbody>\n",
       "    <tr>\n",
       "      <th id=\"T_d0505_level0_row0\" class=\"row_heading level0 row0\" >0</th>\n",
       "      <td id=\"T_d0505_row0_col0\" class=\"data row0 col0\" >Extra Trees Regressor</td>\n",
       "      <td id=\"T_d0505_row0_col1\" class=\"data row0 col1\" >4.8657</td>\n",
       "      <td id=\"T_d0505_row0_col2\" class=\"data row0 col2\" >23.6749</td>\n",
       "      <td id=\"T_d0505_row0_col3\" class=\"data row0 col3\" >4.8657</td>\n",
       "      <td id=\"T_d0505_row0_col4\" class=\"data row0 col4\" >nan</td>\n",
       "      <td id=\"T_d0505_row0_col5\" class=\"data row0 col5\" >0.0644</td>\n",
       "      <td id=\"T_d0505_row0_col6\" class=\"data row0 col6\" >0.0674</td>\n",
       "    </tr>\n",
       "  </tbody>\n",
       "</table>\n"
      ],
      "text/plain": [
       "<pandas.io.formats.style.Styler at 0x1f73e68a590>"
      ]
     },
     "metadata": {},
     "output_type": "display_data"
    },
    {
     "data": {
      "text/html": [
       "<style type=\"text/css\">\n",
       "</style>\n",
       "<table id=\"T_5101a\">\n",
       "  <thead>\n",
       "    <tr>\n",
       "      <th class=\"blank level0\" >&nbsp;</th>\n",
       "      <th id=\"T_5101a_level0_col0\" class=\"col_heading level0 col0\" >Model</th>\n",
       "      <th id=\"T_5101a_level0_col1\" class=\"col_heading level0 col1\" >MAE</th>\n",
       "      <th id=\"T_5101a_level0_col2\" class=\"col_heading level0 col2\" >MSE</th>\n",
       "      <th id=\"T_5101a_level0_col3\" class=\"col_heading level0 col3\" >RMSE</th>\n",
       "      <th id=\"T_5101a_level0_col4\" class=\"col_heading level0 col4\" >R2</th>\n",
       "      <th id=\"T_5101a_level0_col5\" class=\"col_heading level0 col5\" >RMSLE</th>\n",
       "      <th id=\"T_5101a_level0_col6\" class=\"col_heading level0 col6\" >MAPE</th>\n",
       "    </tr>\n",
       "  </thead>\n",
       "  <tbody>\n",
       "    <tr>\n",
       "      <th id=\"T_5101a_level0_row0\" class=\"row_heading level0 row0\" >0</th>\n",
       "      <td id=\"T_5101a_row0_col0\" class=\"data row0 col0\" >Extra Trees Regressor</td>\n",
       "      <td id=\"T_5101a_row0_col1\" class=\"data row0 col1\" >6.4965</td>\n",
       "      <td id=\"T_5101a_row0_col2\" class=\"data row0 col2\" >42.2042</td>\n",
       "      <td id=\"T_5101a_row0_col3\" class=\"data row0 col3\" >6.4965</td>\n",
       "      <td id=\"T_5101a_row0_col4\" class=\"data row0 col4\" >nan</td>\n",
       "      <td id=\"T_5101a_row0_col5\" class=\"data row0 col5\" >0.0866</td>\n",
       "      <td id=\"T_5101a_row0_col6\" class=\"data row0 col6\" >0.0917</td>\n",
       "    </tr>\n",
       "  </tbody>\n",
       "</table>\n"
      ],
      "text/plain": [
       "<pandas.io.formats.style.Styler at 0x1f73e795190>"
      ]
     },
     "metadata": {},
     "output_type": "display_data"
    },
    {
     "data": {
      "text/html": [
       "<style type=\"text/css\">\n",
       "</style>\n",
       "<table id=\"T_891ef\">\n",
       "  <thead>\n",
       "    <tr>\n",
       "      <th class=\"blank level0\" >&nbsp;</th>\n",
       "      <th id=\"T_891ef_level0_col0\" class=\"col_heading level0 col0\" >Model</th>\n",
       "      <th id=\"T_891ef_level0_col1\" class=\"col_heading level0 col1\" >MAE</th>\n",
       "      <th id=\"T_891ef_level0_col2\" class=\"col_heading level0 col2\" >MSE</th>\n",
       "      <th id=\"T_891ef_level0_col3\" class=\"col_heading level0 col3\" >RMSE</th>\n",
       "      <th id=\"T_891ef_level0_col4\" class=\"col_heading level0 col4\" >R2</th>\n",
       "      <th id=\"T_891ef_level0_col5\" class=\"col_heading level0 col5\" >RMSLE</th>\n",
       "      <th id=\"T_891ef_level0_col6\" class=\"col_heading level0 col6\" >MAPE</th>\n",
       "    </tr>\n",
       "  </thead>\n",
       "  <tbody>\n",
       "    <tr>\n",
       "      <th id=\"T_891ef_level0_row0\" class=\"row_heading level0 row0\" >0</th>\n",
       "      <td id=\"T_891ef_row0_col0\" class=\"data row0 col0\" >Extra Trees Regressor</td>\n",
       "      <td id=\"T_891ef_row0_col1\" class=\"data row0 col1\" >9.3175</td>\n",
       "      <td id=\"T_891ef_row0_col2\" class=\"data row0 col2\" >86.8167</td>\n",
       "      <td id=\"T_891ef_row0_col3\" class=\"data row0 col3\" >9.3175</td>\n",
       "      <td id=\"T_891ef_row0_col4\" class=\"data row0 col4\" >nan</td>\n",
       "      <td id=\"T_891ef_row0_col5\" class=\"data row0 col5\" >0.1260</td>\n",
       "      <td id=\"T_891ef_row0_col6\" class=\"data row0 col6\" >0.1363</td>\n",
       "    </tr>\n",
       "  </tbody>\n",
       "</table>\n"
      ],
      "text/plain": [
       "<pandas.io.formats.style.Styler at 0x1f73e69be90>"
      ]
     },
     "metadata": {},
     "output_type": "display_data"
    },
    {
     "data": {
      "text/html": [
       "<style type=\"text/css\">\n",
       "</style>\n",
       "<table id=\"T_ae97d\">\n",
       "  <thead>\n",
       "    <tr>\n",
       "      <th class=\"blank level0\" >&nbsp;</th>\n",
       "      <th id=\"T_ae97d_level0_col0\" class=\"col_heading level0 col0\" >Model</th>\n",
       "      <th id=\"T_ae97d_level0_col1\" class=\"col_heading level0 col1\" >MAE</th>\n",
       "      <th id=\"T_ae97d_level0_col2\" class=\"col_heading level0 col2\" >MSE</th>\n",
       "      <th id=\"T_ae97d_level0_col3\" class=\"col_heading level0 col3\" >RMSE</th>\n",
       "      <th id=\"T_ae97d_level0_col4\" class=\"col_heading level0 col4\" >R2</th>\n",
       "      <th id=\"T_ae97d_level0_col5\" class=\"col_heading level0 col5\" >RMSLE</th>\n",
       "      <th id=\"T_ae97d_level0_col6\" class=\"col_heading level0 col6\" >MAPE</th>\n",
       "    </tr>\n",
       "  </thead>\n",
       "  <tbody>\n",
       "    <tr>\n",
       "      <th id=\"T_ae97d_level0_row0\" class=\"row_heading level0 row0\" >0</th>\n",
       "      <td id=\"T_ae97d_row0_col0\" class=\"data row0 col0\" >Extra Trees Regressor</td>\n",
       "      <td id=\"T_ae97d_row0_col1\" class=\"data row0 col1\" >4.8141</td>\n",
       "      <td id=\"T_ae97d_row0_col2\" class=\"data row0 col2\" >23.1755</td>\n",
       "      <td id=\"T_ae97d_row0_col3\" class=\"data row0 col3\" >4.8141</td>\n",
       "      <td id=\"T_ae97d_row0_col4\" class=\"data row0 col4\" >nan</td>\n",
       "      <td id=\"T_ae97d_row0_col5\" class=\"data row0 col5\" >0.0629</td>\n",
       "      <td id=\"T_ae97d_row0_col6\" class=\"data row0 col6\" >0.0658</td>\n",
       "    </tr>\n",
       "  </tbody>\n",
       "</table>\n"
      ],
      "text/plain": [
       "<pandas.io.formats.style.Styler at 0x1f73e7516d0>"
      ]
     },
     "metadata": {},
     "output_type": "display_data"
    },
    {
     "data": {
      "text/html": [
       "<style type=\"text/css\">\n",
       "</style>\n",
       "<table id=\"T_c9f90\">\n",
       "  <thead>\n",
       "    <tr>\n",
       "      <th class=\"blank level0\" >&nbsp;</th>\n",
       "      <th id=\"T_c9f90_level0_col0\" class=\"col_heading level0 col0\" >Model</th>\n",
       "      <th id=\"T_c9f90_level0_col1\" class=\"col_heading level0 col1\" >MAE</th>\n",
       "      <th id=\"T_c9f90_level0_col2\" class=\"col_heading level0 col2\" >MSE</th>\n",
       "      <th id=\"T_c9f90_level0_col3\" class=\"col_heading level0 col3\" >RMSE</th>\n",
       "      <th id=\"T_c9f90_level0_col4\" class=\"col_heading level0 col4\" >R2</th>\n",
       "      <th id=\"T_c9f90_level0_col5\" class=\"col_heading level0 col5\" >RMSLE</th>\n",
       "      <th id=\"T_c9f90_level0_col6\" class=\"col_heading level0 col6\" >MAPE</th>\n",
       "    </tr>\n",
       "  </thead>\n",
       "  <tbody>\n",
       "    <tr>\n",
       "      <th id=\"T_c9f90_level0_row0\" class=\"row_heading level0 row0\" >0</th>\n",
       "      <td id=\"T_c9f90_row0_col0\" class=\"data row0 col0\" >Extra Trees Regressor</td>\n",
       "      <td id=\"T_c9f90_row0_col1\" class=\"data row0 col1\" >3.3240</td>\n",
       "      <td id=\"T_c9f90_row0_col2\" class=\"data row0 col2\" >11.0492</td>\n",
       "      <td id=\"T_c9f90_row0_col3\" class=\"data row0 col3\" >3.3240</td>\n",
       "      <td id=\"T_c9f90_row0_col4\" class=\"data row0 col4\" >nan</td>\n",
       "      <td id=\"T_c9f90_row0_col5\" class=\"data row0 col5\" >0.0430</td>\n",
       "      <td id=\"T_c9f90_row0_col6\" class=\"data row0 col6\" >0.0446</td>\n",
       "    </tr>\n",
       "  </tbody>\n",
       "</table>\n"
      ],
      "text/plain": [
       "<pandas.io.formats.style.Styler at 0x1f73e6b5d10>"
      ]
     },
     "metadata": {},
     "output_type": "display_data"
    },
    {
     "data": {
      "text/html": [
       "<style type=\"text/css\">\n",
       "</style>\n",
       "<table id=\"T_b2c0a\">\n",
       "  <thead>\n",
       "    <tr>\n",
       "      <th class=\"blank level0\" >&nbsp;</th>\n",
       "      <th id=\"T_b2c0a_level0_col0\" class=\"col_heading level0 col0\" >Model</th>\n",
       "      <th id=\"T_b2c0a_level0_col1\" class=\"col_heading level0 col1\" >MAE</th>\n",
       "      <th id=\"T_b2c0a_level0_col2\" class=\"col_heading level0 col2\" >MSE</th>\n",
       "      <th id=\"T_b2c0a_level0_col3\" class=\"col_heading level0 col3\" >RMSE</th>\n",
       "      <th id=\"T_b2c0a_level0_col4\" class=\"col_heading level0 col4\" >R2</th>\n",
       "      <th id=\"T_b2c0a_level0_col5\" class=\"col_heading level0 col5\" >RMSLE</th>\n",
       "      <th id=\"T_b2c0a_level0_col6\" class=\"col_heading level0 col6\" >MAPE</th>\n",
       "    </tr>\n",
       "  </thead>\n",
       "  <tbody>\n",
       "    <tr>\n",
       "      <th id=\"T_b2c0a_level0_row0\" class=\"row_heading level0 row0\" >0</th>\n",
       "      <td id=\"T_b2c0a_row0_col0\" class=\"data row0 col0\" >Extra Trees Regressor</td>\n",
       "      <td id=\"T_b2c0a_row0_col1\" class=\"data row0 col1\" >11.0883</td>\n",
       "      <td id=\"T_b2c0a_row0_col2\" class=\"data row0 col2\" >122.9502</td>\n",
       "      <td id=\"T_b2c0a_row0_col3\" class=\"data row0 col3\" >11.0883</td>\n",
       "      <td id=\"T_b2c0a_row0_col4\" class=\"data row0 col4\" >nan</td>\n",
       "      <td id=\"T_b2c0a_row0_col5\" class=\"data row0 col5\" >0.1515</td>\n",
       "      <td id=\"T_b2c0a_row0_col6\" class=\"data row0 col6\" >0.1660</td>\n",
       "    </tr>\n",
       "  </tbody>\n",
       "</table>\n"
      ],
      "text/plain": [
       "<pandas.io.formats.style.Styler at 0x1f73ee43dd0>"
      ]
     },
     "metadata": {},
     "output_type": "display_data"
    },
    {
     "ename": "KeyboardInterrupt",
     "evalue": "",
     "output_type": "error",
     "traceback": [
      "\u001b[1;31m---------------------------------------------------------------------------\u001b[0m",
      "\u001b[1;31mKeyboardInterrupt\u001b[0m                         Traceback (most recent call last)",
      "Cell \u001b[1;32mIn[49], line 47\u001b[0m\n\u001b[0;32m     44\u001b[0m test_1 \u001b[38;5;241m=\u001b[39m test_1\u001b[38;5;241m.\u001b[39mdropna()\n\u001b[0;32m     46\u001b[0m \u001b[38;5;66;03m# ทำนายค่า\u001b[39;00m\n\u001b[1;32m---> 47\u001b[0m predict_test_1 \u001b[38;5;241m=\u001b[39m \u001b[43mexp1\u001b[49m\u001b[38;5;241;43m.\u001b[39;49m\u001b[43mpredict_model\u001b[49m\u001b[43m(\u001b[49m\u001b[43mmodel\u001b[49m\u001b[43m,\u001b[49m\u001b[43m \u001b[49m\u001b[43mdata\u001b[49m\u001b[38;5;241;43m=\u001b[39;49m\u001b[43mtest_1\u001b[49m\u001b[43m)\u001b[49m\n\u001b[0;32m     49\u001b[0m \u001b[38;5;66;03m# อัปเดต data_compare\u001b[39;00m\n\u001b[0;32m     50\u001b[0m predict_test_1\u001b[38;5;241m.\u001b[39mindex \u001b[38;5;241m=\u001b[39m [date]  \u001b[38;5;66;03m# กำหนด index เป็นวันที่พยากรณ์\u001b[39;00m\n",
      "File \u001b[1;32md:\\Normal File\\Coder\\MINI_PROJECT_1-2\\pycaret_venv\\Lib\\site-packages\\pycaret\\regression\\oop.py:2188\u001b[0m, in \u001b[0;36mRegressionExperiment.predict_model\u001b[1;34m(self, estimator, data, round, verbose)\u001b[0m\n\u001b[0;32m   2134\u001b[0m \u001b[38;5;28;01mdef\u001b[39;00m\u001b[38;5;250m \u001b[39m\u001b[38;5;21mpredict_model\u001b[39m(\n\u001b[0;32m   2135\u001b[0m     \u001b[38;5;28mself\u001b[39m,\n\u001b[0;32m   2136\u001b[0m     estimator,\n\u001b[1;32m   (...)\u001b[0m\n\u001b[0;32m   2139\u001b[0m     verbose: \u001b[38;5;28mbool\u001b[39m \u001b[38;5;241m=\u001b[39m \u001b[38;5;28;01mTrue\u001b[39;00m,\n\u001b[0;32m   2140\u001b[0m ) \u001b[38;5;241m-\u001b[39m\u001b[38;5;241m>\u001b[39m pd\u001b[38;5;241m.\u001b[39mDataFrame:\n\u001b[0;32m   2141\u001b[0m \u001b[38;5;250m    \u001b[39m\u001b[38;5;124;03m\"\"\"\u001b[39;00m\n\u001b[0;32m   2142\u001b[0m \u001b[38;5;124;03m    This function predicts ``Label`` using a trained model. When ``data`` is\u001b[39;00m\n\u001b[0;32m   2143\u001b[0m \u001b[38;5;124;03m    None, it predicts label on the holdout set.\u001b[39;00m\n\u001b[1;32m   (...)\u001b[0m\n\u001b[0;32m   2185\u001b[0m \n\u001b[0;32m   2186\u001b[0m \u001b[38;5;124;03m    \"\"\"\u001b[39;00m\n\u001b[1;32m-> 2188\u001b[0m     \u001b[38;5;28;01mreturn\u001b[39;00m \u001b[38;5;28;43msuper\u001b[39;49m\u001b[43m(\u001b[49m\u001b[43m)\u001b[49m\u001b[38;5;241;43m.\u001b[39;49m\u001b[43mpredict_model\u001b[49m\u001b[43m(\u001b[49m\n\u001b[0;32m   2189\u001b[0m \u001b[43m        \u001b[49m\u001b[43mestimator\u001b[49m\u001b[38;5;241;43m=\u001b[39;49m\u001b[43mestimator\u001b[49m\u001b[43m,\u001b[49m\n\u001b[0;32m   2190\u001b[0m \u001b[43m        \u001b[49m\u001b[43mdata\u001b[49m\u001b[38;5;241;43m=\u001b[39;49m\u001b[43mdata\u001b[49m\u001b[43m,\u001b[49m\n\u001b[0;32m   2191\u001b[0m \u001b[43m        \u001b[49m\u001b[43mprobability_threshold\u001b[49m\u001b[38;5;241;43m=\u001b[39;49m\u001b[38;5;28;43;01mNone\u001b[39;49;00m\u001b[43m,\u001b[49m\n\u001b[0;32m   2192\u001b[0m \u001b[43m        \u001b[49m\u001b[43mencoded_labels\u001b[49m\u001b[38;5;241;43m=\u001b[39;49m\u001b[38;5;28;43;01mFalse\u001b[39;49;00m\u001b[43m,\u001b[49m\n\u001b[0;32m   2193\u001b[0m \u001b[43m        \u001b[49m\u001b[38;5;28;43mround\u001b[39;49m\u001b[38;5;241;43m=\u001b[39;49m\u001b[38;5;28;43mround\u001b[39;49m\u001b[43m,\u001b[49m\n\u001b[0;32m   2194\u001b[0m \u001b[43m        \u001b[49m\u001b[43mverbose\u001b[49m\u001b[38;5;241;43m=\u001b[39;49m\u001b[43mverbose\u001b[49m\u001b[43m,\u001b[49m\n\u001b[0;32m   2195\u001b[0m \u001b[43m    \u001b[49m\u001b[43m)\u001b[49m\n",
      "File \u001b[1;32md:\\Normal File\\Coder\\MINI_PROJECT_1-2\\pycaret_venv\\Lib\\site-packages\\pycaret\\internal\\pycaret_experiment\\supervised_experiment.py:5085\u001b[0m, in \u001b[0;36m_SupervisedExperiment.predict_model\u001b[1;34m(self, estimator, data, probability_threshold, encoded_labels, raw_score, round, verbose, ml_usecase, preprocess)\u001b[0m\n\u001b[0;32m   5082\u001b[0m \u001b[38;5;28;01mif\u001b[39;00m df_score \u001b[38;5;129;01mis\u001b[39;00m \u001b[38;5;129;01mnot\u001b[39;00m \u001b[38;5;28;01mNone\u001b[39;00m:\n\u001b[0;32m   5083\u001b[0m     \u001b[38;5;28mself\u001b[39m\u001b[38;5;241m.\u001b[39m_display_container\u001b[38;5;241m.\u001b[39mappend(df_score)\n\u001b[1;32m-> 5085\u001b[0m gc\u001b[38;5;241m.\u001b[39mcollect()\n\u001b[0;32m   5086\u001b[0m \u001b[38;5;28;01mreturn\u001b[39;00m X_test_\n",
      "\u001b[1;31mKeyboardInterrupt\u001b[0m: "
     ]
    }
   ],
   "source": [
    "import pandas as pd\n",
    "import matplotlib.pyplot as plt\n",
    "\n",
    "# แปลง index เป็น datetime และลบเวลาออก\n",
    "x = data_filtered.copy()\n",
    "x.index = pd.to_datetime(x.index).normalize()\n",
    "\n",
    "# เก็บผลลัพธ์ของแต่ละโมเดล\n",
    "result_dict = {}\n",
    "\n",
    "# รายชื่อโมเดลทั้งหมดจาก best_list\n",
    "model_names = {model.__class__.__name__: model for model in best}\n",
    "\n",
    "start_date = \"2025-01-13\"\n",
    "end_date = \"2025-02-11\"\n",
    "\n",
    "# วนลูปผ่านทุกโมเดล\n",
    "for model_name, model in model_names.items():\n",
    "    print(f\"Processing model: {model_name}\")\n",
    "\n",
    "    data_compare = x.loc[:'2025-01-12'].copy()  # ใช้ copy() ป้องกัน Warning\n",
    "    result = pd.DataFrame()\n",
    "\n",
    "    for date in pd.date_range(start=start_date, end=end_date, freq=\"D\"):\n",
    "        # ลบเวลาออกจากวันที่\n",
    "        date = pd.to_datetime(date).normalize()  # ลบเวลาออกจากตัวแปร date\n",
    "\n",
    "        # ตรวจสอบว่าใน x มีข้อมูลในวันที่นี้หรือไม่\n",
    "        if date not in x.index:\n",
    "            print(f\"⚠️ Warning: Date {date} not found in x index.\")\n",
    "            continue\n",
    "\n",
    "        # ดึงข้อมูลของวันที่ต้องการ\n",
    "        test_1 = x.loc[[date]].copy()\n",
    "\n",
    "        # ใส่เข้าไป\n",
    "        data_compare = pd.concat([data_compare, test_1], axis=0)\n",
    "\n",
    "        # เพิ่ม lag feature\n",
    "        for i in range(1, lag_size + 1):\n",
    "            test_1[f'humidity_lag_{i}'] = data_compare['humidity'].shift(i).iloc[-1]\n",
    "\n",
    "        # ลบค่า NaN ที่เกิดจากการ shift\n",
    "        test_1 = test_1.dropna()\n",
    "\n",
    "        # ทำนายค่า\n",
    "        predict_test_1 = exp1.predict_model(model, data=test_1)\n",
    "\n",
    "        # อัปเดต data_compare\n",
    "        predict_test_1.index = [date]  # กำหนด index เป็นวันที่พยากรณ์\n",
    "        data_compare.loc[date, 'humidity'] = predict_test_1['prediction_label'].values[0]\n",
    "\n",
    "        # บันทึกผลลัพธ์\n",
    "        result = pd.concat([result, predict_test_1], axis=0)\n",
    "\n",
    "    # บันทึกผลลัพธ์ของโมเดลนี้ลง dict\n",
    "    result_dict[model_name] = result\n",
    "\n",
    "# --------------------------------------------\n",
    "# พล็อตกราฟเปรียบเทียบทุกโมเดล\n",
    "# --------------------------------------------\n",
    "real_data = x.loc[start_date:end_date]\n",
    "\n",
    "# วนลูปพล็อตกราฟทีละโมเดล\n",
    "for model_name, result in result_dict.items():\n",
    "    plt.figure(figsize=(12, 6))\n",
    "    \n",
    "    result_plot = pd.concat([result['prediction_label'], real_data['humidity']], axis=1)\n",
    "    result_plot.columns = ['Predictions', 'Actual TEMP']\n",
    "\n",
    "    plt.plot(result_plot.index, result_plot['Predictions'], label=f\"Predicted ({model_name})\")\n",
    "    plt.plot(real_data.index, real_data['humidity'], label=\"Actual TEMP\", color=\"black\", linewidth=2)\n",
    "    \n",
    "    # ตั้งค่ากราฟ\n",
    "    plt.title(f'Predictions vs Actual TEMP for {model_name}')\n",
    "    plt.xlabel('Date')\n",
    "    plt.ylabel('TEMP Values')\n",
    "    plt.legend()\n",
    "\n",
    "    # แสดงกราฟ\n",
    "    plt.show()"
   ]
  },
  {
   "cell_type": "code",
   "execution_count": null,
   "metadata": {},
   "outputs": [
    {
     "name": "stdout",
     "output_type": "stream",
     "text": [
      "\n",
      "📊 Model Performance Metrics:\n",
      "Model: BayesianRidge\n",
      "R² Score: -0.1009\n",
      "Mean Absolute Error (MAE): 3.6258\n",
      "Root Mean Squared Error (RMSE): 4.7850\n",
      "Mean Absolute Percentage Error (MAPE): 4.82%\n",
      "Accuracy: 95.18%\n",
      "--------------------------------------------------\n",
      "\n",
      "📊 Model Performance Metrics:\n",
      "Model: Ridge\n",
      "R² Score: -0.1031\n",
      "Mean Absolute Error (MAE): 3.6144\n",
      "Root Mean Squared Error (RMSE): 4.7897\n",
      "Mean Absolute Percentage Error (MAPE): 4.80%\n",
      "Accuracy: 95.20%\n",
      "--------------------------------------------------\n",
      "\n",
      "📊 Model Performance Metrics:\n",
      "Model: LinearRegression\n",
      "R² Score: -0.0967\n",
      "Mean Absolute Error (MAE): 3.7248\n",
      "Root Mean Squared Error (RMSE): 4.7759\n",
      "Mean Absolute Percentage Error (MAPE): 4.98%\n",
      "Accuracy: 95.02%\n",
      "--------------------------------------------------\n",
      "\n",
      "📊 Model Performance Metrics:\n",
      "Model: ExtraTreesRegressor\n",
      "R² Score: -0.7658\n",
      "Mean Absolute Error (MAE): 5.1692\n",
      "Root Mean Squared Error (RMSE): 6.0601\n",
      "Mean Absolute Percentage Error (MAPE): 7.12%\n",
      "Accuracy: 92.88%\n",
      "--------------------------------------------------\n",
      "\n",
      "📊 Model Performance Metrics:\n",
      "Model: LGBMRegressor\n",
      "R² Score: -1.2626\n",
      "Mean Absolute Error (MAE): 6.1213\n",
      "Root Mean Squared Error (RMSE): 6.8599\n",
      "Mean Absolute Percentage Error (MAPE): 8.44%\n",
      "Accuracy: 91.56%\n",
      "--------------------------------------------------\n",
      "\n",
      "📊 Model Performance Metrics:\n",
      "Model: GradientBoostingRegressor\n",
      "R² Score: -1.7604\n",
      "Mean Absolute Error (MAE): 6.8525\n",
      "Root Mean Squared Error (RMSE): 7.5770\n",
      "Mean Absolute Percentage Error (MAPE): 9.47%\n",
      "Accuracy: 90.53%\n",
      "--------------------------------------------------\n",
      "\n",
      "📊 Model Performance Metrics:\n",
      "Model: RandomForestRegressor\n",
      "R² Score: -2.0912\n",
      "Mean Absolute Error (MAE): 7.3864\n",
      "Root Mean Squared Error (RMSE): 8.0182\n",
      "Mean Absolute Percentage Error (MAPE): 10.20%\n",
      "Accuracy: 89.80%\n",
      "--------------------------------------------------\n",
      "\n",
      "📊 Model Performance Metrics:\n",
      "Model: AdaBoostRegressor\n",
      "R² Score: -3.8578\n",
      "Mean Absolute Error (MAE): 9.4275\n",
      "Root Mean Squared Error (RMSE): 10.0516\n",
      "Mean Absolute Percentage Error (MAPE): 13.04%\n",
      "Accuracy: 86.96%\n",
      "--------------------------------------------------\n",
      "\n",
      "📊 Model Performance Metrics:\n",
      "Model: Lasso\n",
      "R² Score: -1.0374\n",
      "Mean Absolute Error (MAE): 5.5595\n",
      "Root Mean Squared Error (RMSE): 6.5095\n",
      "Mean Absolute Percentage Error (MAPE): 7.68%\n",
      "Accuracy: 92.32%\n",
      "--------------------------------------------------\n",
      "\n",
      "📊 Model Performance Metrics:\n",
      "Model: LassoLars\n",
      "R² Score: -1.0377\n",
      "Mean Absolute Error (MAE): 5.5599\n",
      "Root Mean Squared Error (RMSE): 6.5101\n",
      "Mean Absolute Percentage Error (MAPE): 7.68%\n",
      "Accuracy: 92.32%\n",
      "--------------------------------------------------\n",
      "\n",
      "📊 Model Performance Metrics:\n",
      "Model: ElasticNet\n",
      "R² Score: -0.7367\n",
      "Mean Absolute Error (MAE): 5.0771\n",
      "Root Mean Squared Error (RMSE): 6.0100\n",
      "Mean Absolute Percentage Error (MAPE): 6.98%\n",
      "Accuracy: 93.02%\n",
      "--------------------------------------------------\n",
      "\n",
      "📊 Model Performance Metrics:\n",
      "Model: HuberRegressor\n",
      "R² Score: -0.2080\n",
      "Mean Absolute Error (MAE): 4.0734\n",
      "Root Mean Squared Error (RMSE): 5.0125\n",
      "Mean Absolute Percentage Error (MAPE): 5.52%\n",
      "Accuracy: 94.48%\n",
      "--------------------------------------------------\n",
      "\n",
      "📊 Model Performance Metrics:\n",
      "Model: OrthogonalMatchingPursuit\n",
      "R² Score: -1.1502\n",
      "Mean Absolute Error (MAE): 5.1296\n",
      "Root Mean Squared Error (RMSE): 6.6873\n",
      "Mean Absolute Percentage Error (MAPE): 6.65%\n",
      "Accuracy: 93.35%\n",
      "--------------------------------------------------\n",
      "\n",
      "📊 Model Performance Metrics:\n",
      "Model: DecisionTreeRegressor\n",
      "R² Score: -2.5838\n",
      "Mean Absolute Error (MAE): 7.8268\n",
      "Root Mean Squared Error (RMSE): 8.6334\n",
      "Mean Absolute Percentage Error (MAPE): 10.82%\n",
      "Accuracy: 89.18%\n",
      "--------------------------------------------------\n",
      "\n",
      "📊 Model Performance Metrics:\n",
      "Model: KNeighborsRegressor\n",
      "R² Score: 0.0252\n",
      "Mean Absolute Error (MAE): 3.1709\n",
      "Root Mean Squared Error (RMSE): 4.5027\n",
      "Mean Absolute Percentage Error (MAPE): 4.12%\n",
      "Accuracy: 95.88%\n",
      "--------------------------------------------------\n"
     ]
    }
   ],
   "source": [
    "# --------------------------------------------\n",
    "# คำนวณและแสดงผล Regression Metrics (หลังจากพล็อตกราฟ)\n",
    "# --------------------------------------------\n",
    "for model_name, result in result_dict.items():\n",
    "    y_true = x.loc[start_date:end_date, 'humidity']  # ค่าจริง\n",
    "    y_pred = result['prediction_label']\n",
    "\n",
    "    # ลบ NaN ที่เกิดจากการ shift\n",
    "    valid_idx = y_pred.dropna().index\n",
    "    y_true = y_true.loc[valid_idx]\n",
    "    y_pred = y_pred.loc[valid_idx]\n",
    "\n",
    "    r2 = r2_score(y_true, y_pred)\n",
    "    mae = mean_absolute_error(y_true, y_pred)\n",
    "    rmse = np.sqrt(mean_squared_error(y_true, y_pred))\n",
    "    mape = np.mean(np.abs((y_true - y_pred) / y_true)) * 100  # Mean Absolute Percentage Error\n",
    "    accuracy = 100 - mape  # เปลี่ยนเป็น Accuracy %\n",
    "\n",
    "    # แสดงค่า Metrics ของโมเดลนี้\n",
    "    print(\"\\n📊 Model Performance Metrics:\")\n",
    "    print(f\"Model: {model_name}\")\n",
    "    print(f\"R² Score: {r2:.4f}\")\n",
    "    print(f\"Mean Absolute Error (MAE): {mae:.4f}\")\n",
    "    print(f\"Root Mean Squared Error (RMSE): {rmse:.4f}\")\n",
    "    print(f\"Mean Absolute Percentage Error (MAPE): {mape:.2f}%\")\n",
    "    print(f\"Accuracy: {accuracy:.2f}%\")\n",
    "    print(\"-\" * 50)"
   ]
  }
 ],
 "metadata": {
  "kernelspec": {
   "display_name": "pycaret_venv",
   "language": "python",
   "name": "python3"
  },
  "language_info": {
   "codemirror_mode": {
    "name": "ipython",
    "version": 3
   },
   "file_extension": ".py",
   "mimetype": "text/x-python",
   "name": "python",
   "nbconvert_exporter": "python",
   "pygments_lexer": "ipython3",
   "version": "3.11.9"
  }
 },
 "nbformat": 4,
 "nbformat_minor": 2
}

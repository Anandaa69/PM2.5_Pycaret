{
 "cells": [
  {
   "cell_type": "code",
   "execution_count": 93,
   "metadata": {},
   "outputs": [],
   "source": [
    "import pycaret\n",
    "import pandas as pd"
   ]
  },
  {
   "cell_type": "code",
   "execution_count": 94,
   "metadata": {},
   "outputs": [],
   "source": [
    "# อ่านไฟล์ CSV\n",
    "data = pd.read_csv('../export_data/filtered_data_3_best.csv')"
   ]
  },
  {
   "cell_type": "code",
   "execution_count": 95,
   "metadata": {},
   "outputs": [],
   "source": [
    "# ตั้ง 'timestamp' เป็น index หากยังไม่ได้ทำ\n",
    "data['timestamp'] = pd.to_datetime(data['timestamp'])\n",
    "data.set_index('timestamp', inplace=True)\n",
    "\n",
    "# ตั้งค่า freq ให้กับ index\n",
    "data = data.asfreq('D')  # 'D' สำหรับรายวัน"
   ]
  },
  {
   "cell_type": "code",
   "execution_count": 96,
   "metadata": {},
   "outputs": [
    {
     "data": {
      "text/html": [
       "<div>\n",
       "<style scoped>\n",
       "    .dataframe tbody tr th:only-of-type {\n",
       "        vertical-align: middle;\n",
       "    }\n",
       "\n",
       "    .dataframe tbody tr th {\n",
       "        vertical-align: top;\n",
       "    }\n",
       "\n",
       "    .dataframe thead th {\n",
       "        text-align: right;\n",
       "    }\n",
       "</style>\n",
       "<table border=\"1\" class=\"dataframe\">\n",
       "  <thead>\n",
       "    <tr style=\"text-align: right;\">\n",
       "      <th></th>\n",
       "      <th>humidity</th>\n",
       "      <th>pm_10</th>\n",
       "      <th>pm_2_5</th>\n",
       "      <th>pm_2_5_sp</th>\n",
       "      <th>temperature</th>\n",
       "    </tr>\n",
       "    <tr>\n",
       "      <th>timestamp</th>\n",
       "      <th></th>\n",
       "      <th></th>\n",
       "      <th></th>\n",
       "      <th></th>\n",
       "      <th></th>\n",
       "    </tr>\n",
       "  </thead>\n",
       "  <tbody>\n",
       "    <tr>\n",
       "      <th>2025-02-07 07:00:00</th>\n",
       "      <td>70.933952</td>\n",
       "      <td>34.743259</td>\n",
       "      <td>29.321219</td>\n",
       "      <td>26.166471</td>\n",
       "      <td>28.271927</td>\n",
       "    </tr>\n",
       "    <tr>\n",
       "      <th>2025-02-08 07:00:00</th>\n",
       "      <td>69.348548</td>\n",
       "      <td>30.654249</td>\n",
       "      <td>26.000000</td>\n",
       "      <td>22.380675</td>\n",
       "      <td>28.385596</td>\n",
       "    </tr>\n",
       "    <tr>\n",
       "      <th>2025-02-09 07:00:00</th>\n",
       "      <td>69.916384</td>\n",
       "      <td>28.971065</td>\n",
       "      <td>24.616898</td>\n",
       "      <td>20.976852</td>\n",
       "      <td>28.373742</td>\n",
       "    </tr>\n",
       "    <tr>\n",
       "      <th>2025-02-10 07:00:00</th>\n",
       "      <td>71.226336</td>\n",
       "      <td>30.652667</td>\n",
       "      <td>25.856981</td>\n",
       "      <td>22.374574</td>\n",
       "      <td>28.251201</td>\n",
       "    </tr>\n",
       "    <tr>\n",
       "      <th>2025-02-11 07:00:00</th>\n",
       "      <td>68.159624</td>\n",
       "      <td>32.532955</td>\n",
       "      <td>27.522727</td>\n",
       "      <td>24.120455</td>\n",
       "      <td>28.693799</td>\n",
       "    </tr>\n",
       "  </tbody>\n",
       "</table>\n",
       "</div>"
      ],
      "text/plain": [
       "                      humidity      pm_10     pm_2_5  pm_2_5_sp  temperature\n",
       "timestamp                                                                   \n",
       "2025-02-07 07:00:00  70.933952  34.743259  29.321219  26.166471    28.271927\n",
       "2025-02-08 07:00:00  69.348548  30.654249  26.000000  22.380675    28.385596\n",
       "2025-02-09 07:00:00  69.916384  28.971065  24.616898  20.976852    28.373742\n",
       "2025-02-10 07:00:00  71.226336  30.652667  25.856981  22.374574    28.251201\n",
       "2025-02-11 07:00:00  68.159624  32.532955  27.522727  24.120455    28.693799"
      ]
     },
     "execution_count": 96,
     "metadata": {},
     "output_type": "execute_result"
    }
   ],
   "source": [
    "data.tail(5)"
   ]
  },
  {
   "cell_type": "code",
   "execution_count": 97,
   "metadata": {},
   "outputs": [
    {
     "name": "stdout",
     "output_type": "stream",
     "text": [
      "แถวที่มีค่าหายไปก่อนเติม:\n",
      "                     humidity  pm_10  pm_2_5  pm_2_5_sp  temperature\n",
      "timestamp                                                           \n",
      "2023-09-30 07:00:00       NaN    NaN     NaN        NaN          NaN\n",
      "ไม่มีค่าหายไปแล้ว\n"
     ]
    },
    {
     "data": {
      "text/plain": [
       "humidity       82.889367\n",
       "pm_10          60.525519\n",
       "pm_2_5         53.415241\n",
       "pm_2_5_sp      69.527667\n",
       "temperature    29.219760\n",
       "Name: 2023-09-30 07:00:00, dtype: float64"
      ]
     },
     "execution_count": 97,
     "metadata": {},
     "output_type": "execute_result"
    }
   ],
   "source": [
    "# แสดงแถวที่มีค่าหายไปก่อนเติม\n",
    "print(\"แถวที่มีค่าหายไปก่อนเติม:\")\n",
    "print(data[data.isnull().any(axis=1)])\n",
    "\n",
    "# เติมค่าที่หายไปด้วยการ interpolate แบบเส้นตรง\n",
    "data.interpolate(method='linear', inplace=True)\n",
    "\n",
    "# แสดงแถวที่ยังมีค่า NaN หลังจากเติม (ถ้ามี)\n",
    "missing_rows_after = data[data.isnull().any(axis=1)]\n",
    "if not missing_rows_after.empty:\n",
    "    print(\"แถวที่ยังมีค่าหายไปหลังเติม:\")\n",
    "    print(missing_rows_after)\n",
    "else:\n",
    "    print(\"ไม่มีค่าหายไปแล้ว\")\n",
    "\n",
    "\n",
    "row = data.loc[\"2023-09-30 07:00:00\"]\n",
    "row"
   ]
  },
  {
   "cell_type": "code",
   "execution_count": 98,
   "metadata": {},
   "outputs": [],
   "source": [
    "data = data[['temperature']]"
   ]
  },
  {
   "cell_type": "code",
   "execution_count": 99,
   "metadata": {},
   "outputs": [],
   "source": [
    "data[\"year\"] = data.index.year\n",
    "data[\"month\"] = data.index.month\n",
    "data[\"day\"] = data.index.day\n",
    "data[\"day_of_week\"] = data.index.dayofweek  # 0 = Monday, 6 = Sunday\n",
    "data[\"week_of_year\"] = data.index.isocalendar().week  # ค่าจะเป็น int64"
   ]
  },
  {
   "cell_type": "code",
   "execution_count": 100,
   "metadata": {},
   "outputs": [],
   "source": [
    "# สมมติว่า data มี index เป็น datetime อยู่แล้ว\n",
    "def assign_season(month):\n",
    "    if month in [2, 3, 4]:  # ก.พ. - เม.ย.\n",
    "        return \"summer\"        # ฤดูร้อน\n",
    "    elif month in [5, 6, 7]:  # พ.ค. - ก.ค.\n",
    "        return \"early_rainy\"   # ต้นฤดูฝน\n",
    "    else:  # ส.ค. - ม.ค.\n",
    "        return \"late_rainy\"    # ปลายฤดูฝน\n",
    "\n",
    "season_mapping = {'summer': 0, 'early_rainy': 1, 'late_rainy': 2}\n",
    "data[\"season\"] = data.index.month.map(assign_season)\n",
    "data['season'] = data['season'].map(season_mapping)"
   ]
  },
  {
   "cell_type": "code",
   "execution_count": 101,
   "metadata": {},
   "outputs": [],
   "source": [
    "data[\"is_weekend\"] = data.index.dayofweek.isin([5, 6]).astype(int)"
   ]
  },
  {
   "cell_type": "code",
   "execution_count": 102,
   "metadata": {},
   "outputs": [],
   "source": [
    "import pandas as pd\n",
    "import numpy as np\n",
    "\n",
    "# สมมุติว่ามี DataFrame data ที่มีข้อมูลอยู่แล้ว\n",
    "# เพิ่มฟีเจอร์ day_of_year\n",
    "data['date'] = pd.to_datetime(data[['year', 'month', 'day']])\n",
    "data['day_of_year'] = data['date'].dt.dayofyear\n",
    "\n",
    "# เพิ่มฟีเจอร์ month_sin และ month_cos\n",
    "data['month_sin'] = np.sin(2 * np.pi * data['month'] / 12)\n",
    "data['month_cos'] = np.cos(2 * np.pi * data['month'] / 12)\n",
    "\n",
    "# เพิ่มฟีเจอร์ day_of_week_sin และ day_of_week_cos\n",
    "data['day_of_week_sin'] = np.sin(2 * np.pi * data['day_of_week'] / 7)\n",
    "data['day_of_week_cos'] = np.cos(2 * np.pi * data['day_of_week'] / 7)\n",
    "\n",
    "lag_size = 7\n",
    "for i in range(1,lag_size+1):\n",
    "    data[f'temperature_lag_{i}'] = data['temperature'].shift(i)\n"
   ]
  },
  {
   "cell_type": "code",
   "execution_count": 103,
   "metadata": {},
   "outputs": [],
   "source": [
    "# data[\"temp_diff\"] = data[\"temperature\"].diff()"
   ]
  },
  {
   "cell_type": "code",
   "execution_count": 104,
   "metadata": {},
   "outputs": [
    {
     "data": {
      "text/plain": [
       "Index(['temperature', 'year', 'month', 'day', 'day_of_week', 'week_of_year',\n",
       "       'season', 'is_weekend', 'date', 'day_of_year', 'month_sin', 'month_cos',\n",
       "       'day_of_week_sin', 'day_of_week_cos', 'temperature_lag_1',\n",
       "       'temperature_lag_2', 'temperature_lag_3', 'temperature_lag_4',\n",
       "       'temperature_lag_5', 'temperature_lag_6', 'temperature_lag_7'],\n",
       "      dtype='object')"
      ]
     },
     "execution_count": 104,
     "metadata": {},
     "output_type": "execute_result"
    }
   ],
   "source": [
    "data.columns"
   ]
  },
  {
   "cell_type": "code",
   "execution_count": 105,
   "metadata": {},
   "outputs": [],
   "source": [
    "data_filtered = data.loc['2023-09':]  # ดึงข้อมูลตั้งแต่กันยายน 2023 เป็นต้นไป"
   ]
  },
  {
   "cell_type": "code",
   "execution_count": 106,
   "metadata": {},
   "outputs": [
    {
     "data": {
      "text/plain": [
       "<Axes: xlabel='timestamp'>"
      ]
     },
     "execution_count": 106,
     "metadata": {},
     "output_type": "execute_result"
    },
    {
     "data": {
      "image/png": "[encoded data removed]",
      "text/plain": [
       "<Figure size 800x550 with 1 Axes>"
      ]
     },
     "metadata": {},
     "output_type": "display_data"
    }
   ],
   "source": [
    "data_filtered.plot()"
   ]
  },
  {
   "cell_type": "code",
   "execution_count": 107,
   "metadata": {},
   "outputs": [
    {
     "data": {
      "text/plain": [
       "0.05660377358490566"
      ]
     },
     "execution_count": 107,
     "metadata": {},
     "output_type": "execute_result"
    }
   ],
   "source": [
    "# สมมติว่า data มีจำนวนวันทั้งหมด\n",
    "total_data = len(data_filtered)\n",
    "\n",
    "# จำนวนวันที่ต้องการเป็น test data\n",
    "test_days = 30\n",
    "\n",
    "# คำนวณสัดส่วนของ 30 วันในข้อมูลทั้งหมด\n",
    "test_size = test_days / total_data\n",
    "test_size"
   ]
  },
  {
   "cell_type": "code",
   "execution_count": 108,
   "metadata": {},
   "outputs": [],
   "source": [
    "from sklearn.model_selection import train_test_split\n",
    "train_data, test_data = train_test_split(data_filtered, test_size=test_size, shuffle=False)"
   ]
  },
  {
   "cell_type": "code",
   "execution_count": 109,
   "metadata": {},
   "outputs": [
    {
     "data": {
      "text/plain": [
       "(500, 21)"
      ]
     },
     "execution_count": 109,
     "metadata": {},
     "output_type": "execute_result"
    }
   ],
   "source": [
    "train_data.shape"
   ]
  },
  {
   "cell_type": "code",
   "execution_count": 110,
   "metadata": {},
   "outputs": [
    {
     "data": {
      "text/plain": [
       "(30, 21)"
      ]
     },
     "execution_count": 110,
     "metadata": {},
     "output_type": "execute_result"
    }
   ],
   "source": [
    "test_data.shape"
   ]
  },
  {
   "cell_type": "code",
   "execution_count": 111,
   "metadata": {},
   "outputs": [
    {
     "data": {
      "text/html": [
       "<div>\n",
       "<style scoped>\n",
       "    .dataframe tbody tr th:only-of-type {\n",
       "        vertical-align: middle;\n",
       "    }\n",
       "\n",
       "    .dataframe tbody tr th {\n",
       "        vertical-align: top;\n",
       "    }\n",
       "\n",
       "    .dataframe thead th {\n",
       "        text-align: right;\n",
       "    }\n",
       "</style>\n",
       "<table border=\"1\" class=\"dataframe\">\n",
       "  <thead>\n",
       "    <tr style=\"text-align: right;\">\n",
       "      <th></th>\n",
       "      <th>temperature</th>\n",
       "      <th>year</th>\n",
       "      <th>month</th>\n",
       "      <th>day</th>\n",
       "      <th>day_of_week</th>\n",
       "      <th>week_of_year</th>\n",
       "      <th>season</th>\n",
       "      <th>is_weekend</th>\n",
       "      <th>date</th>\n",
       "      <th>day_of_year</th>\n",
       "      <th>...</th>\n",
       "      <th>month_cos</th>\n",
       "      <th>day_of_week_sin</th>\n",
       "      <th>day_of_week_cos</th>\n",
       "      <th>temperature_lag_1</th>\n",
       "      <th>temperature_lag_2</th>\n",
       "      <th>temperature_lag_3</th>\n",
       "      <th>temperature_lag_4</th>\n",
       "      <th>temperature_lag_5</th>\n",
       "      <th>temperature_lag_6</th>\n",
       "      <th>temperature_lag_7</th>\n",
       "    </tr>\n",
       "    <tr>\n",
       "      <th>timestamp</th>\n",
       "      <th></th>\n",
       "      <th></th>\n",
       "      <th></th>\n",
       "      <th></th>\n",
       "      <th></th>\n",
       "      <th></th>\n",
       "      <th></th>\n",
       "      <th></th>\n",
       "      <th></th>\n",
       "      <th></th>\n",
       "      <th></th>\n",
       "      <th></th>\n",
       "      <th></th>\n",
       "      <th></th>\n",
       "      <th></th>\n",
       "      <th></th>\n",
       "      <th></th>\n",
       "      <th></th>\n",
       "      <th></th>\n",
       "      <th></th>\n",
       "      <th></th>\n",
       "    </tr>\n",
       "  </thead>\n",
       "  <tbody>\n",
       "    <tr>\n",
       "      <th>2025-01-13 07:00:00</th>\n",
       "      <td>25.997341</td>\n",
       "      <td>2025</td>\n",
       "      <td>1</td>\n",
       "      <td>13</td>\n",
       "      <td>0</td>\n",
       "      <td>3</td>\n",
       "      <td>2</td>\n",
       "      <td>0</td>\n",
       "      <td>2025-01-13</td>\n",
       "      <td>13</td>\n",
       "      <td>...</td>\n",
       "      <td>0.866025</td>\n",
       "      <td>0.0</td>\n",
       "      <td>1.0</td>\n",
       "      <td>25.434972</td>\n",
       "      <td>28.357459</td>\n",
       "      <td>28.945704</td>\n",
       "      <td>28.383165</td>\n",
       "      <td>28.921543</td>\n",
       "      <td>29.145097</td>\n",
       "      <td>28.825509</td>\n",
       "    </tr>\n",
       "  </tbody>\n",
       "</table>\n",
       "<p>1 rows × 21 columns</p>\n",
       "</div>"
      ],
      "text/plain": [
       "                     temperature  year  month  day  day_of_week  week_of_year  \\\n",
       "timestamp                                                                       \n",
       "2025-01-13 07:00:00    25.997341  2025      1   13            0             3   \n",
       "\n",
       "                     season  is_weekend       date  day_of_year  ...  \\\n",
       "timestamp                                                        ...   \n",
       "2025-01-13 07:00:00       2           0 2025-01-13           13  ...   \n",
       "\n",
       "                     month_cos  day_of_week_sin  day_of_week_cos  \\\n",
       "timestamp                                                          \n",
       "2025-01-13 07:00:00   0.866025              0.0              1.0   \n",
       "\n",
       "                     temperature_lag_1  temperature_lag_2  temperature_lag_3  \\\n",
       "timestamp                                                                      \n",
       "2025-01-13 07:00:00          25.434972          28.357459          28.945704   \n",
       "\n",
       "                     temperature_lag_4  temperature_lag_5  temperature_lag_6  \\\n",
       "timestamp                                                                      \n",
       "2025-01-13 07:00:00          28.383165          28.921543          29.145097   \n",
       "\n",
       "                     temperature_lag_7  \n",
       "timestamp                               \n",
       "2025-01-13 07:00:00          28.825509  \n",
       "\n",
       "[1 rows x 21 columns]"
      ]
     },
     "execution_count": 111,
     "metadata": {},
     "output_type": "execute_result"
    }
   ],
   "source": [
    "test_data.head(1)"
   ]
  },
  {
   "cell_type": "code",
   "execution_count": 112,
   "metadata": {},
   "outputs": [
    {
     "data": {
      "text/html": [
       "<div>\n",
       "<style scoped>\n",
       "    .dataframe tbody tr th:only-of-type {\n",
       "        vertical-align: middle;\n",
       "    }\n",
       "\n",
       "    .dataframe tbody tr th {\n",
       "        vertical-align: top;\n",
       "    }\n",
       "\n",
       "    .dataframe thead th {\n",
       "        text-align: right;\n",
       "    }\n",
       "</style>\n",
       "<table border=\"1\" class=\"dataframe\">\n",
       "  <thead>\n",
       "    <tr style=\"text-align: right;\">\n",
       "      <th></th>\n",
       "      <th>temperature</th>\n",
       "      <th>year</th>\n",
       "      <th>month</th>\n",
       "      <th>day</th>\n",
       "      <th>day_of_week</th>\n",
       "      <th>week_of_year</th>\n",
       "      <th>season</th>\n",
       "      <th>is_weekend</th>\n",
       "      <th>date</th>\n",
       "      <th>day_of_year</th>\n",
       "      <th>...</th>\n",
       "      <th>month_cos</th>\n",
       "      <th>day_of_week_sin</th>\n",
       "      <th>day_of_week_cos</th>\n",
       "      <th>temperature_lag_1</th>\n",
       "      <th>temperature_lag_2</th>\n",
       "      <th>temperature_lag_3</th>\n",
       "      <th>temperature_lag_4</th>\n",
       "      <th>temperature_lag_5</th>\n",
       "      <th>temperature_lag_6</th>\n",
       "      <th>temperature_lag_7</th>\n",
       "    </tr>\n",
       "    <tr>\n",
       "      <th>timestamp</th>\n",
       "      <th></th>\n",
       "      <th></th>\n",
       "      <th></th>\n",
       "      <th></th>\n",
       "      <th></th>\n",
       "      <th></th>\n",
       "      <th></th>\n",
       "      <th></th>\n",
       "      <th></th>\n",
       "      <th></th>\n",
       "      <th></th>\n",
       "      <th></th>\n",
       "      <th></th>\n",
       "      <th></th>\n",
       "      <th></th>\n",
       "      <th></th>\n",
       "      <th></th>\n",
       "      <th></th>\n",
       "      <th></th>\n",
       "      <th></th>\n",
       "      <th></th>\n",
       "    </tr>\n",
       "  </thead>\n",
       "  <tbody>\n",
       "    <tr>\n",
       "      <th>2025-02-11 07:00:00</th>\n",
       "      <td>28.693799</td>\n",
       "      <td>2025</td>\n",
       "      <td>2</td>\n",
       "      <td>11</td>\n",
       "      <td>1</td>\n",
       "      <td>7</td>\n",
       "      <td>0</td>\n",
       "      <td>0</td>\n",
       "      <td>2025-02-11</td>\n",
       "      <td>42</td>\n",
       "      <td>...</td>\n",
       "      <td>0.5</td>\n",
       "      <td>0.781831</td>\n",
       "      <td>0.62349</td>\n",
       "      <td>28.251201</td>\n",
       "      <td>28.373742</td>\n",
       "      <td>28.385596</td>\n",
       "      <td>28.271927</td>\n",
       "      <td>28.579177</td>\n",
       "      <td>28.32745</td>\n",
       "      <td>27.775432</td>\n",
       "    </tr>\n",
       "  </tbody>\n",
       "</table>\n",
       "<p>1 rows × 21 columns</p>\n",
       "</div>"
      ],
      "text/plain": [
       "                     temperature  year  month  day  day_of_week  week_of_year  \\\n",
       "timestamp                                                                       \n",
       "2025-02-11 07:00:00    28.693799  2025      2   11            1             7   \n",
       "\n",
       "                     season  is_weekend       date  day_of_year  ...  \\\n",
       "timestamp                                                        ...   \n",
       "2025-02-11 07:00:00       0           0 2025-02-11           42  ...   \n",
       "\n",
       "                     month_cos  day_of_week_sin  day_of_week_cos  \\\n",
       "timestamp                                                          \n",
       "2025-02-11 07:00:00        0.5         0.781831          0.62349   \n",
       "\n",
       "                     temperature_lag_1  temperature_lag_2  temperature_lag_3  \\\n",
       "timestamp                                                                      \n",
       "2025-02-11 07:00:00          28.251201          28.373742          28.385596   \n",
       "\n",
       "                     temperature_lag_4  temperature_lag_5  temperature_lag_6  \\\n",
       "timestamp                                                                      \n",
       "2025-02-11 07:00:00          28.271927          28.579177           28.32745   \n",
       "\n",
       "                     temperature_lag_7  \n",
       "timestamp                               \n",
       "2025-02-11 07:00:00          27.775432  \n",
       "\n",
       "[1 rows x 21 columns]"
      ]
     },
     "execution_count": 112,
     "metadata": {},
     "output_type": "execute_result"
    }
   ],
   "source": [
    "test_data.tail(1)"
   ]
  },
  {
   "cell_type": "code",
   "execution_count": 113,
   "metadata": {},
   "outputs": [
    {
     "data": {
      "text/plain": [
       "Index(['temperature', 'year', 'month', 'day', 'day_of_week', 'week_of_year',\n",
       "       'season', 'is_weekend', 'date', 'day_of_year', 'month_sin', 'month_cos',\n",
       "       'day_of_week_sin', 'day_of_week_cos', 'temperature_lag_1',\n",
       "       'temperature_lag_2', 'temperature_lag_3', 'temperature_lag_4',\n",
       "       'temperature_lag_5', 'temperature_lag_6', 'temperature_lag_7'],\n",
       "      dtype='object')"
      ]
     },
     "execution_count": 113,
     "metadata": {},
     "output_type": "execute_result"
    }
   ],
   "source": [
    "test_data.columns"
   ]
  },
  {
   "cell_type": "code",
   "execution_count": 114,
   "metadata": {},
   "outputs": [
    {
     "data": {
      "text/html": [
       "<style type=\"text/css\">\n",
       "#T_18e91_row9_col1, #T_18e91_row13_col1 {\n",
       "  background-color: lightgreen;\n",
       "}\n",
       "</style>\n",
       "<table id=\"T_18e91\">\n",
       "  <thead>\n",
       "    <tr>\n",
       "      <th class=\"blank level0\" >&nbsp;</th>\n",
       "      <th id=\"T_18e91_level0_col0\" class=\"col_heading level0 col0\" >Description</th>\n",
       "      <th id=\"T_18e91_level0_col1\" class=\"col_heading level0 col1\" >Value</th>\n",
       "    </tr>\n",
       "  </thead>\n",
       "  <tbody>\n",
       "    <tr>\n",
       "      <th id=\"T_18e91_level0_row0\" class=\"row_heading level0 row0\" >0</th>\n",
       "      <td id=\"T_18e91_row0_col0\" class=\"data row0 col0\" >Session id</td>\n",
       "      <td id=\"T_18e91_row0_col1\" class=\"data row0 col1\" >123</td>\n",
       "    </tr>\n",
       "    <tr>\n",
       "      <th id=\"T_18e91_level0_row1\" class=\"row_heading level0 row1\" >1</th>\n",
       "      <td id=\"T_18e91_row1_col0\" class=\"data row1 col0\" >Target</td>\n",
       "      <td id=\"T_18e91_row1_col1\" class=\"data row1 col1\" >temperature</td>\n",
       "    </tr>\n",
       "    <tr>\n",
       "      <th id=\"T_18e91_level0_row2\" class=\"row_heading level0 row2\" >2</th>\n",
       "      <td id=\"T_18e91_row2_col0\" class=\"data row2 col0\" >Target type</td>\n",
       "      <td id=\"T_18e91_row2_col1\" class=\"data row2 col1\" >Regression</td>\n",
       "    </tr>\n",
       "    <tr>\n",
       "      <th id=\"T_18e91_level0_row3\" class=\"row_heading level0 row3\" >3</th>\n",
       "      <td id=\"T_18e91_row3_col0\" class=\"data row3 col0\" >Original data shape</td>\n",
       "      <td id=\"T_18e91_row3_col1\" class=\"data row3 col1\" >(500, 21)</td>\n",
       "    </tr>\n",
       "    <tr>\n",
       "      <th id=\"T_18e91_level0_row4\" class=\"row_heading level0 row4\" >4</th>\n",
       "      <td id=\"T_18e91_row4_col0\" class=\"data row4 col0\" >Transformed data shape</td>\n",
       "      <td id=\"T_18e91_row4_col1\" class=\"data row4 col1\" >(482, 23)</td>\n",
       "    </tr>\n",
       "    <tr>\n",
       "      <th id=\"T_18e91_level0_row5\" class=\"row_heading level0 row5\" >5</th>\n",
       "      <td id=\"T_18e91_row5_col0\" class=\"data row5 col0\" >Transformed train set shape</td>\n",
       "      <td id=\"T_18e91_row5_col1\" class=\"data row5 col1\" >(332, 23)</td>\n",
       "    </tr>\n",
       "    <tr>\n",
       "      <th id=\"T_18e91_level0_row6\" class=\"row_heading level0 row6\" >6</th>\n",
       "      <td id=\"T_18e91_row6_col0\" class=\"data row6 col0\" >Transformed test set shape</td>\n",
       "      <td id=\"T_18e91_row6_col1\" class=\"data row6 col1\" >(150, 23)</td>\n",
       "    </tr>\n",
       "    <tr>\n",
       "      <th id=\"T_18e91_level0_row7\" class=\"row_heading level0 row7\" >7</th>\n",
       "      <td id=\"T_18e91_row7_col0\" class=\"data row7 col0\" >Numeric features</td>\n",
       "      <td id=\"T_18e91_row7_col1\" class=\"data row7 col1\" >19</td>\n",
       "    </tr>\n",
       "    <tr>\n",
       "      <th id=\"T_18e91_level0_row8\" class=\"row_heading level0 row8\" >8</th>\n",
       "      <td id=\"T_18e91_row8_col0\" class=\"data row8 col0\" >Date features</td>\n",
       "      <td id=\"T_18e91_row8_col1\" class=\"data row8 col1\" >1</td>\n",
       "    </tr>\n",
       "    <tr>\n",
       "      <th id=\"T_18e91_level0_row9\" class=\"row_heading level0 row9\" >9</th>\n",
       "      <td id=\"T_18e91_row9_col0\" class=\"data row9 col0\" >Preprocess</td>\n",
       "      <td id=\"T_18e91_row9_col1\" class=\"data row9 col1\" >True</td>\n",
       "    </tr>\n",
       "    <tr>\n",
       "      <th id=\"T_18e91_level0_row10\" class=\"row_heading level0 row10\" >10</th>\n",
       "      <td id=\"T_18e91_row10_col0\" class=\"data row10 col0\" >Imputation type</td>\n",
       "      <td id=\"T_18e91_row10_col1\" class=\"data row10 col1\" >simple</td>\n",
       "    </tr>\n",
       "    <tr>\n",
       "      <th id=\"T_18e91_level0_row11\" class=\"row_heading level0 row11\" >11</th>\n",
       "      <td id=\"T_18e91_row11_col0\" class=\"data row11 col0\" >Numeric imputation</td>\n",
       "      <td id=\"T_18e91_row11_col1\" class=\"data row11 col1\" >mean</td>\n",
       "    </tr>\n",
       "    <tr>\n",
       "      <th id=\"T_18e91_level0_row12\" class=\"row_heading level0 row12\" >12</th>\n",
       "      <td id=\"T_18e91_row12_col0\" class=\"data row12 col0\" >Categorical imputation</td>\n",
       "      <td id=\"T_18e91_row12_col1\" class=\"data row12 col1\" >mode</td>\n",
       "    </tr>\n",
       "    <tr>\n",
       "      <th id=\"T_18e91_level0_row13\" class=\"row_heading level0 row13\" >13</th>\n",
       "      <td id=\"T_18e91_row13_col0\" class=\"data row13 col0\" >Remove outliers</td>\n",
       "      <td id=\"T_18e91_row13_col1\" class=\"data row13 col1\" >True</td>\n",
       "    </tr>\n",
       "    <tr>\n",
       "      <th id=\"T_18e91_level0_row14\" class=\"row_heading level0 row14\" >14</th>\n",
       "      <td id=\"T_18e91_row14_col0\" class=\"data row14 col0\" >Outliers threshold</td>\n",
       "      <td id=\"T_18e91_row14_col1\" class=\"data row14 col1\" >0.050000</td>\n",
       "    </tr>\n",
       "    <tr>\n",
       "      <th id=\"T_18e91_level0_row15\" class=\"row_heading level0 row15\" >15</th>\n",
       "      <td id=\"T_18e91_row15_col0\" class=\"data row15 col0\" >Fold Generator</td>\n",
       "      <td id=\"T_18e91_row15_col1\" class=\"data row15 col1\" >KFold</td>\n",
       "    </tr>\n",
       "    <tr>\n",
       "      <th id=\"T_18e91_level0_row16\" class=\"row_heading level0 row16\" >16</th>\n",
       "      <td id=\"T_18e91_row16_col0\" class=\"data row16 col0\" >Fold Number</td>\n",
       "      <td id=\"T_18e91_row16_col1\" class=\"data row16 col1\" >12</td>\n",
       "    </tr>\n",
       "    <tr>\n",
       "      <th id=\"T_18e91_level0_row17\" class=\"row_heading level0 row17\" >17</th>\n",
       "      <td id=\"T_18e91_row17_col0\" class=\"data row17 col0\" >CPU Jobs</td>\n",
       "      <td id=\"T_18e91_row17_col1\" class=\"data row17 col1\" >-1</td>\n",
       "    </tr>\n",
       "    <tr>\n",
       "      <th id=\"T_18e91_level0_row18\" class=\"row_heading level0 row18\" >18</th>\n",
       "      <td id=\"T_18e91_row18_col0\" class=\"data row18 col0\" >Use GPU</td>\n",
       "      <td id=\"T_18e91_row18_col1\" class=\"data row18 col1\" >False</td>\n",
       "    </tr>\n",
       "    <tr>\n",
       "      <th id=\"T_18e91_level0_row19\" class=\"row_heading level0 row19\" >19</th>\n",
       "      <td id=\"T_18e91_row19_col0\" class=\"data row19 col0\" >Log Experiment</td>\n",
       "      <td id=\"T_18e91_row19_col1\" class=\"data row19 col1\" >False</td>\n",
       "    </tr>\n",
       "    <tr>\n",
       "      <th id=\"T_18e91_level0_row20\" class=\"row_heading level0 row20\" >20</th>\n",
       "      <td id=\"T_18e91_row20_col0\" class=\"data row20 col0\" >Experiment Name</td>\n",
       "      <td id=\"T_18e91_row20_col1\" class=\"data row20 col1\" >reg-default-name</td>\n",
       "    </tr>\n",
       "    <tr>\n",
       "      <th id=\"T_18e91_level0_row21\" class=\"row_heading level0 row21\" >21</th>\n",
       "      <td id=\"T_18e91_row21_col0\" class=\"data row21 col0\" >USI</td>\n",
       "      <td id=\"T_18e91_row21_col1\" class=\"data row21 col1\" >a4fb</td>\n",
       "    </tr>\n",
       "  </tbody>\n",
       "</table>\n"
      ],
      "text/plain": [
       "<pandas.io.formats.style.Styler at 0x149e2142910>"
      ]
     },
     "metadata": {},
     "output_type": "display_data"
    },
    {
     "data": {
      "text/plain": [
       "<pycaret.regression.oop.RegressionExperiment at 0x149e2618190>"
      ]
     },
     "execution_count": 114,
     "metadata": {},
     "output_type": "execute_result"
    }
   ],
   "source": [
    "# from pycaret.time_series import *\n",
    "from pycaret.regression import RegressionExperiment\n",
    "exp1 = RegressionExperiment()\n",
    "exp1.setup(data=train_data, target='temperature', session_id=123, fold=12, iterative_imputation_iters=100, remove_outliers = True)\n",
    "# iterative_imputation_iters=100, remove_outliers = True"
   ]
  },
  {
   "cell_type": "code",
   "execution_count": 115,
   "metadata": {},
   "outputs": [
    {
     "data": {
      "text/html": [],
      "text/plain": [
       "<IPython.core.display.HTML object>"
      ]
     },
     "metadata": {},
     "output_type": "display_data"
    },
    {
     "data": {
      "text/html": [
       "<style type=\"text/css\">\n",
       "#T_2eebe th {\n",
       "  text-align: left;\n",
       "}\n",
       "#T_2eebe_row0_col0, #T_2eebe_row1_col0, #T_2eebe_row1_col1, #T_2eebe_row1_col2, #T_2eebe_row1_col3, #T_2eebe_row1_col4, #T_2eebe_row1_col5, #T_2eebe_row1_col6, #T_2eebe_row2_col0, #T_2eebe_row2_col1, #T_2eebe_row2_col2, #T_2eebe_row2_col3, #T_2eebe_row2_col4, #T_2eebe_row2_col5, #T_2eebe_row2_col6, #T_2eebe_row3_col0, #T_2eebe_row3_col1, #T_2eebe_row3_col2, #T_2eebe_row3_col3, #T_2eebe_row3_col4, #T_2eebe_row3_col5, #T_2eebe_row3_col6, #T_2eebe_row4_col0, #T_2eebe_row4_col1, #T_2eebe_row4_col2, #T_2eebe_row4_col3, #T_2eebe_row4_col4, #T_2eebe_row4_col5, #T_2eebe_row4_col6, #T_2eebe_row5_col0, #T_2eebe_row5_col1, #T_2eebe_row5_col2, #T_2eebe_row5_col3, #T_2eebe_row5_col4, #T_2eebe_row5_col5, #T_2eebe_row5_col6, #T_2eebe_row6_col0, #T_2eebe_row6_col1, #T_2eebe_row6_col2, #T_2eebe_row6_col3, #T_2eebe_row6_col4, #T_2eebe_row6_col5, #T_2eebe_row6_col6, #T_2eebe_row7_col0, #T_2eebe_row7_col1, #T_2eebe_row7_col2, #T_2eebe_row7_col3, #T_2eebe_row7_col4, #T_2eebe_row7_col5, #T_2eebe_row7_col6, #T_2eebe_row8_col0, #T_2eebe_row8_col1, #T_2eebe_row8_col2, #T_2eebe_row8_col3, #T_2eebe_row8_col4, #T_2eebe_row8_col5, #T_2eebe_row8_col6, #T_2eebe_row9_col0, #T_2eebe_row9_col1, #T_2eebe_row9_col2, #T_2eebe_row9_col3, #T_2eebe_row9_col4, #T_2eebe_row9_col5, #T_2eebe_row9_col6, #T_2eebe_row10_col0, #T_2eebe_row10_col1, #T_2eebe_row10_col2, #T_2eebe_row10_col3, #T_2eebe_row10_col4, #T_2eebe_row10_col5, #T_2eebe_row10_col6, #T_2eebe_row11_col0, #T_2eebe_row11_col1, #T_2eebe_row11_col2, #T_2eebe_row11_col3, #T_2eebe_row11_col4, #T_2eebe_row11_col5, #T_2eebe_row11_col6, #T_2eebe_row12_col0, #T_2eebe_row12_col1, #T_2eebe_row12_col2, #T_2eebe_row12_col3, #T_2eebe_row12_col4, #T_2eebe_row12_col5, #T_2eebe_row12_col6, #T_2eebe_row13_col0, #T_2eebe_row13_col1, #T_2eebe_row13_col2, #T_2eebe_row13_col3, #T_2eebe_row13_col4, #T_2eebe_row13_col5, #T_2eebe_row13_col6, #T_2eebe_row14_col0, #T_2eebe_row14_col1, #T_2eebe_row14_col2, #T_2eebe_row14_col3, #T_2eebe_row14_col4, #T_2eebe_row14_col5, #T_2eebe_row14_col6, #T_2eebe_row15_col0, #T_2eebe_row15_col1, #T_2eebe_row15_col2, #T_2eebe_row15_col3, #T_2eebe_row15_col4, #T_2eebe_row15_col5, #T_2eebe_row15_col6, #T_2eebe_row16_col0, #T_2eebe_row16_col1, #T_2eebe_row16_col2, #T_2eebe_row16_col3, #T_2eebe_row16_col4, #T_2eebe_row16_col5, #T_2eebe_row16_col6, #T_2eebe_row17_col0, #T_2eebe_row17_col1, #T_2eebe_row17_col2, #T_2eebe_row17_col3, #T_2eebe_row17_col4, #T_2eebe_row17_col5, #T_2eebe_row17_col6 {\n",
       "  text-align: left;\n",
       "}\n",
       "#T_2eebe_row0_col1, #T_2eebe_row0_col2, #T_2eebe_row0_col3, #T_2eebe_row0_col4, #T_2eebe_row0_col5, #T_2eebe_row0_col6 {\n",
       "  text-align: left;\n",
       "  background-color: yellow;\n",
       "}\n",
       "#T_2eebe_row0_col7, #T_2eebe_row1_col7, #T_2eebe_row2_col7, #T_2eebe_row3_col7, #T_2eebe_row4_col7, #T_2eebe_row5_col7, #T_2eebe_row6_col7, #T_2eebe_row7_col7, #T_2eebe_row8_col7, #T_2eebe_row9_col7, #T_2eebe_row11_col7, #T_2eebe_row12_col7, #T_2eebe_row13_col7, #T_2eebe_row14_col7, #T_2eebe_row15_col7, #T_2eebe_row16_col7, #T_2eebe_row17_col7 {\n",
       "  text-align: left;\n",
       "  background-color: lightgrey;\n",
       "}\n",
       "#T_2eebe_row10_col7 {\n",
       "  text-align: left;\n",
       "  background-color: yellow;\n",
       "  background-color: lightgrey;\n",
       "}\n",
       "</style>\n",
       "<table id=\"T_2eebe\">\n",
       "  <thead>\n",
       "    <tr>\n",
       "      <th class=\"blank level0\" >&nbsp;</th>\n",
       "      <th id=\"T_2eebe_level0_col0\" class=\"col_heading level0 col0\" >Model</th>\n",
       "      <th id=\"T_2eebe_level0_col1\" class=\"col_heading level0 col1\" >MAE</th>\n",
       "      <th id=\"T_2eebe_level0_col2\" class=\"col_heading level0 col2\" >MSE</th>\n",
       "      <th id=\"T_2eebe_level0_col3\" class=\"col_heading level0 col3\" >RMSE</th>\n",
       "      <th id=\"T_2eebe_level0_col4\" class=\"col_heading level0 col4\" >R2</th>\n",
       "      <th id=\"T_2eebe_level0_col5\" class=\"col_heading level0 col5\" >RMSLE</th>\n",
       "      <th id=\"T_2eebe_level0_col6\" class=\"col_heading level0 col6\" >MAPE</th>\n",
       "      <th id=\"T_2eebe_level0_col7\" class=\"col_heading level0 col7\" >TT (Sec)</th>\n",
       "    </tr>\n",
       "  </thead>\n",
       "  <tbody>\n",
       "    <tr>\n",
       "      <th id=\"T_2eebe_level0_row0\" class=\"row_heading level0 row0\" >br</th>\n",
       "      <td id=\"T_2eebe_row0_col0\" class=\"data row0 col0\" >Bayesian Ridge</td>\n",
       "      <td id=\"T_2eebe_row0_col1\" class=\"data row0 col1\" >0.7801</td>\n",
       "      <td id=\"T_2eebe_row0_col2\" class=\"data row0 col2\" >1.1028</td>\n",
       "      <td id=\"T_2eebe_row0_col3\" class=\"data row0 col3\" >1.0436</td>\n",
       "      <td id=\"T_2eebe_row0_col4\" class=\"data row0 col4\" >0.4992</td>\n",
       "      <td id=\"T_2eebe_row0_col5\" class=\"data row0 col5\" >0.0359</td>\n",
       "      <td id=\"T_2eebe_row0_col6\" class=\"data row0 col6\" >0.0278</td>\n",
       "      <td id=\"T_2eebe_row0_col7\" class=\"data row0 col7\" >0.0250</td>\n",
       "    </tr>\n",
       "    <tr>\n",
       "      <th id=\"T_2eebe_level0_row1\" class=\"row_heading level0 row1\" >lr</th>\n",
       "      <td id=\"T_2eebe_row1_col0\" class=\"data row1 col0\" >Linear Regression</td>\n",
       "      <td id=\"T_2eebe_row1_col1\" class=\"data row1 col1\" >0.7866</td>\n",
       "      <td id=\"T_2eebe_row1_col2\" class=\"data row1 col2\" >1.1152</td>\n",
       "      <td id=\"T_2eebe_row1_col3\" class=\"data row1 col3\" >1.0485</td>\n",
       "      <td id=\"T_2eebe_row1_col4\" class=\"data row1 col4\" >0.4903</td>\n",
       "      <td id=\"T_2eebe_row1_col5\" class=\"data row1 col5\" >0.0360</td>\n",
       "      <td id=\"T_2eebe_row1_col6\" class=\"data row1 col6\" >0.0280</td>\n",
       "      <td id=\"T_2eebe_row1_col7\" class=\"data row1 col7\" >0.0283</td>\n",
       "    </tr>\n",
       "    <tr>\n",
       "      <th id=\"T_2eebe_level0_row2\" class=\"row_heading level0 row2\" >ridge</th>\n",
       "      <td id=\"T_2eebe_row2_col0\" class=\"data row2 col0\" >Ridge Regression</td>\n",
       "      <td id=\"T_2eebe_row2_col1\" class=\"data row2 col1\" >0.7864</td>\n",
       "      <td id=\"T_2eebe_row2_col2\" class=\"data row2 col2\" >1.1185</td>\n",
       "      <td id=\"T_2eebe_row2_col3\" class=\"data row2 col3\" >1.0500</td>\n",
       "      <td id=\"T_2eebe_row2_col4\" class=\"data row2 col4\" >0.4891</td>\n",
       "      <td id=\"T_2eebe_row2_col5\" class=\"data row2 col5\" >0.0361</td>\n",
       "      <td id=\"T_2eebe_row2_col6\" class=\"data row2 col6\" >0.0281</td>\n",
       "      <td id=\"T_2eebe_row2_col7\" class=\"data row2 col7\" >0.0217</td>\n",
       "    </tr>\n",
       "    <tr>\n",
       "      <th id=\"T_2eebe_level0_row3\" class=\"row_heading level0 row3\" >et</th>\n",
       "      <td id=\"T_2eebe_row3_col0\" class=\"data row3 col0\" >Extra Trees Regressor</td>\n",
       "      <td id=\"T_2eebe_row3_col1\" class=\"data row3 col1\" >0.7975</td>\n",
       "      <td id=\"T_2eebe_row3_col2\" class=\"data row3 col2\" >1.1391</td>\n",
       "      <td id=\"T_2eebe_row3_col3\" class=\"data row3 col3\" >1.0595</td>\n",
       "      <td id=\"T_2eebe_row3_col4\" class=\"data row3 col4\" >0.4839</td>\n",
       "      <td id=\"T_2eebe_row3_col5\" class=\"data row3 col5\" >0.0364</td>\n",
       "      <td id=\"T_2eebe_row3_col6\" class=\"data row3 col6\" >0.0284</td>\n",
       "      <td id=\"T_2eebe_row3_col7\" class=\"data row3 col7\" >0.0558</td>\n",
       "    </tr>\n",
       "    <tr>\n",
       "      <th id=\"T_2eebe_level0_row4\" class=\"row_heading level0 row4\" >rf</th>\n",
       "      <td id=\"T_2eebe_row4_col0\" class=\"data row4 col0\" >Random Forest Regressor</td>\n",
       "      <td id=\"T_2eebe_row4_col1\" class=\"data row4 col1\" >0.7967</td>\n",
       "      <td id=\"T_2eebe_row4_col2\" class=\"data row4 col2\" >1.1324</td>\n",
       "      <td id=\"T_2eebe_row4_col3\" class=\"data row4 col3\" >1.0580</td>\n",
       "      <td id=\"T_2eebe_row4_col4\" class=\"data row4 col4\" >0.4816</td>\n",
       "      <td id=\"T_2eebe_row4_col5\" class=\"data row4 col5\" >0.0364</td>\n",
       "      <td id=\"T_2eebe_row4_col6\" class=\"data row4 col6\" >0.0284</td>\n",
       "      <td id=\"T_2eebe_row4_col7\" class=\"data row4 col7\" >0.0667</td>\n",
       "    </tr>\n",
       "    <tr>\n",
       "      <th id=\"T_2eebe_level0_row5\" class=\"row_heading level0 row5\" >ada</th>\n",
       "      <td id=\"T_2eebe_row5_col0\" class=\"data row5 col0\" >AdaBoost Regressor</td>\n",
       "      <td id=\"T_2eebe_row5_col1\" class=\"data row5 col1\" >0.8136</td>\n",
       "      <td id=\"T_2eebe_row5_col2\" class=\"data row5 col2\" >1.1458</td>\n",
       "      <td id=\"T_2eebe_row5_col3\" class=\"data row5 col3\" >1.0651</td>\n",
       "      <td id=\"T_2eebe_row5_col4\" class=\"data row5 col4\" >0.4792</td>\n",
       "      <td id=\"T_2eebe_row5_col5\" class=\"data row5 col5\" >0.0366</td>\n",
       "      <td id=\"T_2eebe_row5_col6\" class=\"data row5 col6\" >0.0289</td>\n",
       "      <td id=\"T_2eebe_row5_col7\" class=\"data row5 col7\" >0.0392</td>\n",
       "    </tr>\n",
       "    <tr>\n",
       "      <th id=\"T_2eebe_level0_row6\" class=\"row_heading level0 row6\" >huber</th>\n",
       "      <td id=\"T_2eebe_row6_col0\" class=\"data row6 col0\" >Huber Regressor</td>\n",
       "      <td id=\"T_2eebe_row6_col1\" class=\"data row6 col1\" >0.7814</td>\n",
       "      <td id=\"T_2eebe_row6_col2\" class=\"data row6 col2\" >1.1285</td>\n",
       "      <td id=\"T_2eebe_row6_col3\" class=\"data row6 col3\" >1.0551</td>\n",
       "      <td id=\"T_2eebe_row6_col4\" class=\"data row6 col4\" >0.4769</td>\n",
       "      <td id=\"T_2eebe_row6_col5\" class=\"data row6 col5\" >0.0364</td>\n",
       "      <td id=\"T_2eebe_row6_col6\" class=\"data row6 col6\" >0.0279</td>\n",
       "      <td id=\"T_2eebe_row6_col7\" class=\"data row6 col7\" >0.0267</td>\n",
       "    </tr>\n",
       "    <tr>\n",
       "      <th id=\"T_2eebe_level0_row7\" class=\"row_heading level0 row7\" >omp</th>\n",
       "      <td id=\"T_2eebe_row7_col0\" class=\"data row7 col0\" >Orthogonal Matching Pursuit</td>\n",
       "      <td id=\"T_2eebe_row7_col1\" class=\"data row7 col1\" >0.8261</td>\n",
       "      <td id=\"T_2eebe_row7_col2\" class=\"data row7 col2\" >1.1844</td>\n",
       "      <td id=\"T_2eebe_row7_col3\" class=\"data row7 col3\" >1.0807</td>\n",
       "      <td id=\"T_2eebe_row7_col4\" class=\"data row7 col4\" >0.4643</td>\n",
       "      <td id=\"T_2eebe_row7_col5\" class=\"data row7 col5\" >0.0372</td>\n",
       "      <td id=\"T_2eebe_row7_col6\" class=\"data row7 col6\" >0.0294</td>\n",
       "      <td id=\"T_2eebe_row7_col7\" class=\"data row7 col7\" >0.0258</td>\n",
       "    </tr>\n",
       "    <tr>\n",
       "      <th id=\"T_2eebe_level0_row8\" class=\"row_heading level0 row8\" >lightgbm</th>\n",
       "      <td id=\"T_2eebe_row8_col0\" class=\"data row8 col0\" >Light Gradient Boosting Machine</td>\n",
       "      <td id=\"T_2eebe_row8_col1\" class=\"data row8 col1\" >0.8458</td>\n",
       "      <td id=\"T_2eebe_row8_col2\" class=\"data row8 col2\" >1.2044</td>\n",
       "      <td id=\"T_2eebe_row8_col3\" class=\"data row8 col3\" >1.0899</td>\n",
       "      <td id=\"T_2eebe_row8_col4\" class=\"data row8 col4\" >0.4502</td>\n",
       "      <td id=\"T_2eebe_row8_col5\" class=\"data row8 col5\" >0.0375</td>\n",
       "      <td id=\"T_2eebe_row8_col6\" class=\"data row8 col6\" >0.0301</td>\n",
       "      <td id=\"T_2eebe_row8_col7\" class=\"data row8 col7\" >0.0583</td>\n",
       "    </tr>\n",
       "    <tr>\n",
       "      <th id=\"T_2eebe_level0_row9\" class=\"row_heading level0 row9\" >gbr</th>\n",
       "      <td id=\"T_2eebe_row9_col0\" class=\"data row9 col0\" >Gradient Boosting Regressor</td>\n",
       "      <td id=\"T_2eebe_row9_col1\" class=\"data row9 col1\" >0.8353</td>\n",
       "      <td id=\"T_2eebe_row9_col2\" class=\"data row9 col2\" >1.2168</td>\n",
       "      <td id=\"T_2eebe_row9_col3\" class=\"data row9 col3\" >1.0963</td>\n",
       "      <td id=\"T_2eebe_row9_col4\" class=\"data row9 col4\" >0.4421</td>\n",
       "      <td id=\"T_2eebe_row9_col5\" class=\"data row9 col5\" >0.0377</td>\n",
       "      <td id=\"T_2eebe_row9_col6\" class=\"data row9 col6\" >0.0298</td>\n",
       "      <td id=\"T_2eebe_row9_col7\" class=\"data row9 col7\" >0.0467</td>\n",
       "    </tr>\n",
       "    <tr>\n",
       "      <th id=\"T_2eebe_level0_row10\" class=\"row_heading level0 row10\" >lar</th>\n",
       "      <td id=\"T_2eebe_row10_col0\" class=\"data row10 col0\" >Least Angle Regression</td>\n",
       "      <td id=\"T_2eebe_row10_col1\" class=\"data row10 col1\" >0.8257</td>\n",
       "      <td id=\"T_2eebe_row10_col2\" class=\"data row10 col2\" >1.2149</td>\n",
       "      <td id=\"T_2eebe_row10_col3\" class=\"data row10 col3\" >1.0916</td>\n",
       "      <td id=\"T_2eebe_row10_col4\" class=\"data row10 col4\" >0.4332</td>\n",
       "      <td id=\"T_2eebe_row10_col5\" class=\"data row10 col5\" >0.0375</td>\n",
       "      <td id=\"T_2eebe_row10_col6\" class=\"data row10 col6\" >0.0294</td>\n",
       "      <td id=\"T_2eebe_row10_col7\" class=\"data row10 col7\" >0.0208</td>\n",
       "    </tr>\n",
       "    <tr>\n",
       "      <th id=\"T_2eebe_level0_row11\" class=\"row_heading level0 row11\" >knn</th>\n",
       "      <td id=\"T_2eebe_row11_col0\" class=\"data row11 col0\" >K Neighbors Regressor</td>\n",
       "      <td id=\"T_2eebe_row11_col1\" class=\"data row11 col1\" >0.8775</td>\n",
       "      <td id=\"T_2eebe_row11_col2\" class=\"data row11 col2\" >1.3205</td>\n",
       "      <td id=\"T_2eebe_row11_col3\" class=\"data row11 col3\" >1.1396</td>\n",
       "      <td id=\"T_2eebe_row11_col4\" class=\"data row11 col4\" >0.4058</td>\n",
       "      <td id=\"T_2eebe_row11_col5\" class=\"data row11 col5\" >0.0390</td>\n",
       "      <td id=\"T_2eebe_row11_col6\" class=\"data row11 col6\" >0.0311</td>\n",
       "      <td id=\"T_2eebe_row11_col7\" class=\"data row11 col7\" >0.0300</td>\n",
       "    </tr>\n",
       "    <tr>\n",
       "      <th id=\"T_2eebe_level0_row12\" class=\"row_heading level0 row12\" >en</th>\n",
       "      <td id=\"T_2eebe_row12_col0\" class=\"data row12 col0\" >Elastic Net</td>\n",
       "      <td id=\"T_2eebe_row12_col1\" class=\"data row12 col1\" >0.9331</td>\n",
       "      <td id=\"T_2eebe_row12_col2\" class=\"data row12 col2\" >1.3768</td>\n",
       "      <td id=\"T_2eebe_row12_col3\" class=\"data row12 col3\" >1.1620</td>\n",
       "      <td id=\"T_2eebe_row12_col4\" class=\"data row12 col4\" >0.3974</td>\n",
       "      <td id=\"T_2eebe_row12_col5\" class=\"data row12 col5\" >0.0399</td>\n",
       "      <td id=\"T_2eebe_row12_col6\" class=\"data row12 col6\" >0.0331</td>\n",
       "      <td id=\"T_2eebe_row12_col7\" class=\"data row12 col7\" >0.0225</td>\n",
       "    </tr>\n",
       "    <tr>\n",
       "      <th id=\"T_2eebe_level0_row13\" class=\"row_heading level0 row13\" >lasso</th>\n",
       "      <td id=\"T_2eebe_row13_col0\" class=\"data row13 col0\" >Lasso Regression</td>\n",
       "      <td id=\"T_2eebe_row13_col1\" class=\"data row13 col1\" >1.0713</td>\n",
       "      <td id=\"T_2eebe_row13_col2\" class=\"data row13 col2\" >1.7669</td>\n",
       "      <td id=\"T_2eebe_row13_col3\" class=\"data row13 col3\" >1.3126</td>\n",
       "      <td id=\"T_2eebe_row13_col4\" class=\"data row13 col4\" >0.2366</td>\n",
       "      <td id=\"T_2eebe_row13_col5\" class=\"data row13 col5\" >0.0449</td>\n",
       "      <td id=\"T_2eebe_row13_col6\" class=\"data row13 col6\" >0.0380</td>\n",
       "      <td id=\"T_2eebe_row13_col7\" class=\"data row13 col7\" >0.0225</td>\n",
       "    </tr>\n",
       "    <tr>\n",
       "      <th id=\"T_2eebe_level0_row14\" class=\"row_heading level0 row14\" >llar</th>\n",
       "      <td id=\"T_2eebe_row14_col0\" class=\"data row14 col0\" >Lasso Least Angle Regression</td>\n",
       "      <td id=\"T_2eebe_row14_col1\" class=\"data row14 col1\" >1.0713</td>\n",
       "      <td id=\"T_2eebe_row14_col2\" class=\"data row14 col2\" >1.7669</td>\n",
       "      <td id=\"T_2eebe_row14_col3\" class=\"data row14 col3\" >1.3126</td>\n",
       "      <td id=\"T_2eebe_row14_col4\" class=\"data row14 col4\" >0.2366</td>\n",
       "      <td id=\"T_2eebe_row14_col5\" class=\"data row14 col5\" >0.0449</td>\n",
       "      <td id=\"T_2eebe_row14_col6\" class=\"data row14 col6\" >0.0380</td>\n",
       "      <td id=\"T_2eebe_row14_col7\" class=\"data row14 col7\" >0.0317</td>\n",
       "    </tr>\n",
       "    <tr>\n",
       "      <th id=\"T_2eebe_level0_row15\" class=\"row_heading level0 row15\" >dt</th>\n",
       "      <td id=\"T_2eebe_row15_col0\" class=\"data row15 col0\" >Decision Tree Regressor</td>\n",
       "      <td id=\"T_2eebe_row15_col1\" class=\"data row15 col1\" >1.1427</td>\n",
       "      <td id=\"T_2eebe_row15_col2\" class=\"data row15 col2\" >2.1921</td>\n",
       "      <td id=\"T_2eebe_row15_col3\" class=\"data row15 col3\" >1.4642</td>\n",
       "      <td id=\"T_2eebe_row15_col4\" class=\"data row15 col4\" >-0.0068</td>\n",
       "      <td id=\"T_2eebe_row15_col5\" class=\"data row15 col5\" >0.0504</td>\n",
       "      <td id=\"T_2eebe_row15_col6\" class=\"data row15 col6\" >0.0406</td>\n",
       "      <td id=\"T_2eebe_row15_col7\" class=\"data row15 col7\" >0.0258</td>\n",
       "    </tr>\n",
       "    <tr>\n",
       "      <th id=\"T_2eebe_level0_row16\" class=\"row_heading level0 row16\" >dummy</th>\n",
       "      <td id=\"T_2eebe_row16_col0\" class=\"data row16 col0\" >Dummy Regressor</td>\n",
       "      <td id=\"T_2eebe_row16_col1\" class=\"data row16 col1\" >1.2196</td>\n",
       "      <td id=\"T_2eebe_row16_col2\" class=\"data row16 col2\" >2.3746</td>\n",
       "      <td id=\"T_2eebe_row16_col3\" class=\"data row16 col3\" >1.5293</td>\n",
       "      <td id=\"T_2eebe_row16_col4\" class=\"data row16 col4\" >-0.0378</td>\n",
       "      <td id=\"T_2eebe_row16_col5\" class=\"data row16 col5\" >0.0524</td>\n",
       "      <td id=\"T_2eebe_row16_col6\" class=\"data row16 col6\" >0.0433</td>\n",
       "      <td id=\"T_2eebe_row16_col7\" class=\"data row16 col7\" >0.0250</td>\n",
       "    </tr>\n",
       "    <tr>\n",
       "      <th id=\"T_2eebe_level0_row17\" class=\"row_heading level0 row17\" >par</th>\n",
       "      <td id=\"T_2eebe_row17_col0\" class=\"data row17 col0\" >Passive Aggressive Regressor</td>\n",
       "      <td id=\"T_2eebe_row17_col1\" class=\"data row17 col1\" >1.7653</td>\n",
       "      <td id=\"T_2eebe_row17_col2\" class=\"data row17 col2\" >4.7563</td>\n",
       "      <td id=\"T_2eebe_row17_col3\" class=\"data row17 col3\" >2.0898</td>\n",
       "      <td id=\"T_2eebe_row17_col4\" class=\"data row17 col4\" >-1.1801</td>\n",
       "      <td id=\"T_2eebe_row17_col5\" class=\"data row17 col5\" >0.0706</td>\n",
       "      <td id=\"T_2eebe_row17_col6\" class=\"data row17 col6\" >0.0635</td>\n",
       "      <td id=\"T_2eebe_row17_col7\" class=\"data row17 col7\" >0.0217</td>\n",
       "    </tr>\n",
       "  </tbody>\n",
       "</table>\n"
      ],
      "text/plain": [
       "<pandas.io.formats.style.Styler at 0x149e25aa810>"
      ]
     },
     "metadata": {},
     "output_type": "display_data"
    },
    {
     "data": {
      "text/html": [],
      "text/plain": [
       "<IPython.core.display.HTML object>"
      ]
     },
     "metadata": {},
     "output_type": "display_data"
    }
   ],
   "source": [
    "# compare baseline models\n",
    "best = exp1.compare_models(n_select=15)"
   ]
  },
  {
   "cell_type": "code",
   "execution_count": 116,
   "metadata": {},
   "outputs": [
    {
     "data": {
      "text/html": [],
      "text/plain": [
       "<IPython.core.display.HTML object>"
      ]
     },
     "metadata": {},
     "output_type": "display_data"
    },
    {
     "data": {
      "text/html": [
       "<style type=\"text/css\">\n",
       "#T_73cfa_row12_col0, #T_73cfa_row12_col1, #T_73cfa_row12_col2, #T_73cfa_row12_col3, #T_73cfa_row12_col4, #T_73cfa_row12_col5 {\n",
       "  background: yellow;\n",
       "}\n",
       "</style>\n",
       "<table id=\"T_73cfa\">\n",
       "  <thead>\n",
       "    <tr>\n",
       "      <th class=\"blank level0\" >&nbsp;</th>\n",
       "      <th id=\"T_73cfa_level0_col0\" class=\"col_heading level0 col0\" >MAE</th>\n",
       "      <th id=\"T_73cfa_level0_col1\" class=\"col_heading level0 col1\" >MSE</th>\n",
       "      <th id=\"T_73cfa_level0_col2\" class=\"col_heading level0 col2\" >RMSE</th>\n",
       "      <th id=\"T_73cfa_level0_col3\" class=\"col_heading level0 col3\" >R2</th>\n",
       "      <th id=\"T_73cfa_level0_col4\" class=\"col_heading level0 col4\" >RMSLE</th>\n",
       "      <th id=\"T_73cfa_level0_col5\" class=\"col_heading level0 col5\" >MAPE</th>\n",
       "    </tr>\n",
       "    <tr>\n",
       "      <th class=\"index_name level0\" >Fold</th>\n",
       "      <th class=\"blank col0\" >&nbsp;</th>\n",
       "      <th class=\"blank col1\" >&nbsp;</th>\n",
       "      <th class=\"blank col2\" >&nbsp;</th>\n",
       "      <th class=\"blank col3\" >&nbsp;</th>\n",
       "      <th class=\"blank col4\" >&nbsp;</th>\n",
       "      <th class=\"blank col5\" >&nbsp;</th>\n",
       "    </tr>\n",
       "  </thead>\n",
       "  <tbody>\n",
       "    <tr>\n",
       "      <th id=\"T_73cfa_level0_row0\" class=\"row_heading level0 row0\" >0</th>\n",
       "      <td id=\"T_73cfa_row0_col0\" class=\"data row0 col0\" >0.7681</td>\n",
       "      <td id=\"T_73cfa_row0_col1\" class=\"data row0 col1\" >1.1633</td>\n",
       "      <td id=\"T_73cfa_row0_col2\" class=\"data row0 col2\" >1.0786</td>\n",
       "      <td id=\"T_73cfa_row0_col3\" class=\"data row0 col3\" >0.3707</td>\n",
       "      <td id=\"T_73cfa_row0_col4\" class=\"data row0 col4\" >0.0364</td>\n",
       "      <td id=\"T_73cfa_row0_col5\" class=\"data row0 col5\" >0.0267</td>\n",
       "    </tr>\n",
       "    <tr>\n",
       "      <th id=\"T_73cfa_level0_row1\" class=\"row_heading level0 row1\" >1</th>\n",
       "      <td id=\"T_73cfa_row1_col0\" class=\"data row1 col0\" >0.7302</td>\n",
       "      <td id=\"T_73cfa_row1_col1\" class=\"data row1 col1\" >0.8877</td>\n",
       "      <td id=\"T_73cfa_row1_col2\" class=\"data row1 col2\" >0.9422</td>\n",
       "      <td id=\"T_73cfa_row1_col3\" class=\"data row1 col3\" >0.5486</td>\n",
       "      <td id=\"T_73cfa_row1_col4\" class=\"data row1 col4\" >0.0321</td>\n",
       "      <td id=\"T_73cfa_row1_col5\" class=\"data row1 col5\" >0.0257</td>\n",
       "    </tr>\n",
       "    <tr>\n",
       "      <th id=\"T_73cfa_level0_row2\" class=\"row_heading level0 row2\" >2</th>\n",
       "      <td id=\"T_73cfa_row2_col0\" class=\"data row2 col0\" >0.6381</td>\n",
       "      <td id=\"T_73cfa_row2_col1\" class=\"data row2 col1\" >1.0231</td>\n",
       "      <td id=\"T_73cfa_row2_col2\" class=\"data row2 col2\" >1.0115</td>\n",
       "      <td id=\"T_73cfa_row2_col3\" class=\"data row2 col3\" >0.6228</td>\n",
       "      <td id=\"T_73cfa_row2_col4\" class=\"data row2 col4\" >0.0352</td>\n",
       "      <td id=\"T_73cfa_row2_col5\" class=\"data row2 col5\" >0.0228</td>\n",
       "    </tr>\n",
       "    <tr>\n",
       "      <th id=\"T_73cfa_level0_row3\" class=\"row_heading level0 row3\" >3</th>\n",
       "      <td id=\"T_73cfa_row3_col0\" class=\"data row3 col0\" >0.8822</td>\n",
       "      <td id=\"T_73cfa_row3_col1\" class=\"data row3 col1\" >1.1843</td>\n",
       "      <td id=\"T_73cfa_row3_col2\" class=\"data row3 col2\" >1.0882</td>\n",
       "      <td id=\"T_73cfa_row3_col3\" class=\"data row3 col3\" >0.6020</td>\n",
       "      <td id=\"T_73cfa_row3_col4\" class=\"data row3 col4\" >0.0369</td>\n",
       "      <td id=\"T_73cfa_row3_col5\" class=\"data row3 col5\" >0.0312</td>\n",
       "    </tr>\n",
       "    <tr>\n",
       "      <th id=\"T_73cfa_level0_row4\" class=\"row_heading level0 row4\" >4</th>\n",
       "      <td id=\"T_73cfa_row4_col0\" class=\"data row4 col0\" >0.7848</td>\n",
       "      <td id=\"T_73cfa_row4_col1\" class=\"data row4 col1\" >1.0053</td>\n",
       "      <td id=\"T_73cfa_row4_col2\" class=\"data row4 col2\" >1.0026</td>\n",
       "      <td id=\"T_73cfa_row4_col3\" class=\"data row4 col3\" >0.5119</td>\n",
       "      <td id=\"T_73cfa_row4_col4\" class=\"data row4 col4\" >0.0342</td>\n",
       "      <td id=\"T_73cfa_row4_col5\" class=\"data row4 col5\" >0.0274</td>\n",
       "    </tr>\n",
       "    <tr>\n",
       "      <th id=\"T_73cfa_level0_row5\" class=\"row_heading level0 row5\" >5</th>\n",
       "      <td id=\"T_73cfa_row5_col0\" class=\"data row5 col0\" >0.7981</td>\n",
       "      <td id=\"T_73cfa_row5_col1\" class=\"data row5 col1\" >1.1157</td>\n",
       "      <td id=\"T_73cfa_row5_col2\" class=\"data row5 col2\" >1.0563</td>\n",
       "      <td id=\"T_73cfa_row5_col3\" class=\"data row5 col3\" >0.3603</td>\n",
       "      <td id=\"T_73cfa_row5_col4\" class=\"data row5 col4\" >0.0375</td>\n",
       "      <td id=\"T_73cfa_row5_col5\" class=\"data row5 col5\" >0.0292</td>\n",
       "    </tr>\n",
       "    <tr>\n",
       "      <th id=\"T_73cfa_level0_row6\" class=\"row_heading level0 row6\" >6</th>\n",
       "      <td id=\"T_73cfa_row6_col0\" class=\"data row6 col0\" >0.7422</td>\n",
       "      <td id=\"T_73cfa_row6_col1\" class=\"data row6 col1\" >0.9661</td>\n",
       "      <td id=\"T_73cfa_row6_col2\" class=\"data row6 col2\" >0.9829</td>\n",
       "      <td id=\"T_73cfa_row6_col3\" class=\"data row6 col3\" >0.6641</td>\n",
       "      <td id=\"T_73cfa_row6_col4\" class=\"data row6 col4\" >0.0341</td>\n",
       "      <td id=\"T_73cfa_row6_col5\" class=\"data row6 col5\" >0.0265</td>\n",
       "    </tr>\n",
       "    <tr>\n",
       "      <th id=\"T_73cfa_level0_row7\" class=\"row_heading level0 row7\" >7</th>\n",
       "      <td id=\"T_73cfa_row7_col0\" class=\"data row7 col0\" >0.7763</td>\n",
       "      <td id=\"T_73cfa_row7_col1\" class=\"data row7 col1\" >1.0345</td>\n",
       "      <td id=\"T_73cfa_row7_col2\" class=\"data row7 col2\" >1.0171</td>\n",
       "      <td id=\"T_73cfa_row7_col3\" class=\"data row7 col3\" >0.4916</td>\n",
       "      <td id=\"T_73cfa_row7_col4\" class=\"data row7 col4\" >0.0351</td>\n",
       "      <td id=\"T_73cfa_row7_col5\" class=\"data row7 col5\" >0.0281</td>\n",
       "    </tr>\n",
       "    <tr>\n",
       "      <th id=\"T_73cfa_level0_row8\" class=\"row_heading level0 row8\" >8</th>\n",
       "      <td id=\"T_73cfa_row8_col0\" class=\"data row8 col0\" >0.9823</td>\n",
       "      <td id=\"T_73cfa_row8_col1\" class=\"data row8 col1\" >1.7283</td>\n",
       "      <td id=\"T_73cfa_row8_col2\" class=\"data row8 col2\" >1.3147</td>\n",
       "      <td id=\"T_73cfa_row8_col3\" class=\"data row8 col3\" >0.3839</td>\n",
       "      <td id=\"T_73cfa_row8_col4\" class=\"data row8 col4\" >0.0454</td>\n",
       "      <td id=\"T_73cfa_row8_col5\" class=\"data row8 col5\" >0.0356</td>\n",
       "    </tr>\n",
       "    <tr>\n",
       "      <th id=\"T_73cfa_level0_row9\" class=\"row_heading level0 row9\" >9</th>\n",
       "      <td id=\"T_73cfa_row9_col0\" class=\"data row9 col0\" >0.9326</td>\n",
       "      <td id=\"T_73cfa_row9_col1\" class=\"data row9 col1\" >1.5586</td>\n",
       "      <td id=\"T_73cfa_row9_col2\" class=\"data row9 col2\" >1.2484</td>\n",
       "      <td id=\"T_73cfa_row9_col3\" class=\"data row9 col3\" >0.5471</td>\n",
       "      <td id=\"T_73cfa_row9_col4\" class=\"data row9 col4\" >0.0431</td>\n",
       "      <td id=\"T_73cfa_row9_col5\" class=\"data row9 col5\" >0.0333</td>\n",
       "    </tr>\n",
       "    <tr>\n",
       "      <th id=\"T_73cfa_level0_row10\" class=\"row_heading level0 row10\" >10</th>\n",
       "      <td id=\"T_73cfa_row10_col0\" class=\"data row10 col0\" >0.8197</td>\n",
       "      <td id=\"T_73cfa_row10_col1\" class=\"data row10 col1\" >1.1281</td>\n",
       "      <td id=\"T_73cfa_row10_col2\" class=\"data row10 col2\" >1.0621</td>\n",
       "      <td id=\"T_73cfa_row10_col3\" class=\"data row10 col3\" >0.0807</td>\n",
       "      <td id=\"T_73cfa_row10_col4\" class=\"data row10 col4\" >0.0365</td>\n",
       "      <td id=\"T_73cfa_row10_col5\" class=\"data row10 col5\" >0.0295</td>\n",
       "    </tr>\n",
       "    <tr>\n",
       "      <th id=\"T_73cfa_level0_row11\" class=\"row_heading level0 row11\" >11</th>\n",
       "      <td id=\"T_73cfa_row11_col0\" class=\"data row11 col0\" >0.7056</td>\n",
       "      <td id=\"T_73cfa_row11_col1\" class=\"data row11 col1\" >0.7936</td>\n",
       "      <td id=\"T_73cfa_row11_col2\" class=\"data row11 col2\" >0.8908</td>\n",
       "      <td id=\"T_73cfa_row11_col3\" class=\"data row11 col3\" >0.5959</td>\n",
       "      <td id=\"T_73cfa_row11_col4\" class=\"data row11 col4\" >0.0306</td>\n",
       "      <td id=\"T_73cfa_row11_col5\" class=\"data row11 col5\" >0.0252</td>\n",
       "    </tr>\n",
       "    <tr>\n",
       "      <th id=\"T_73cfa_level0_row12\" class=\"row_heading level0 row12\" >Mean</th>\n",
       "      <td id=\"T_73cfa_row12_col0\" class=\"data row12 col0\" >0.7967</td>\n",
       "      <td id=\"T_73cfa_row12_col1\" class=\"data row12 col1\" >1.1324</td>\n",
       "      <td id=\"T_73cfa_row12_col2\" class=\"data row12 col2\" >1.0580</td>\n",
       "      <td id=\"T_73cfa_row12_col3\" class=\"data row12 col3\" >0.4816</td>\n",
       "      <td id=\"T_73cfa_row12_col4\" class=\"data row12 col4\" >0.0364</td>\n",
       "      <td id=\"T_73cfa_row12_col5\" class=\"data row12 col5\" >0.0284</td>\n",
       "    </tr>\n",
       "    <tr>\n",
       "      <th id=\"T_73cfa_level0_row13\" class=\"row_heading level0 row13\" >Std</th>\n",
       "      <td id=\"T_73cfa_row13_col0\" class=\"data row13 col0\" >0.0926</td>\n",
       "      <td id=\"T_73cfa_row13_col1\" class=\"data row13 col1\" >0.2551</td>\n",
       "      <td id=\"T_73cfa_row13_col2\" class=\"data row13 col2\" >0.1145</td>\n",
       "      <td id=\"T_73cfa_row13_col3\" class=\"data row13 col3\" >0.1549</td>\n",
       "      <td id=\"T_73cfa_row13_col4\" class=\"data row13 col4\" >0.0040</td>\n",
       "      <td id=\"T_73cfa_row13_col5\" class=\"data row13 col5\" >0.0034</td>\n",
       "    </tr>\n",
       "  </tbody>\n",
       "</table>\n"
      ],
      "text/plain": [
       "<pandas.io.formats.style.Styler at 0x149e2807010>"
      ]
     },
     "metadata": {},
     "output_type": "display_data"
    },
    {
     "data": {
      "text/html": [],
      "text/plain": [
       "<IPython.core.display.HTML object>"
      ]
     },
     "metadata": {},
     "output_type": "display_data"
    },
    {
     "data": {
      "text/html": [],
      "text/plain": [
       "<IPython.core.display.HTML object>"
      ]
     },
     "metadata": {},
     "output_type": "display_data"
    },
    {
     "data": {
      "text/html": [
       "<style type=\"text/css\">\n",
       "#T_158a0_row12_col0, #T_158a0_row12_col1, #T_158a0_row12_col2, #T_158a0_row12_col3, #T_158a0_row12_col4, #T_158a0_row12_col5 {\n",
       "  background: yellow;\n",
       "}\n",
       "</style>\n",
       "<table id=\"T_158a0\">\n",
       "  <thead>\n",
       "    <tr>\n",
       "      <th class=\"blank level0\" >&nbsp;</th>\n",
       "      <th id=\"T_158a0_level0_col0\" class=\"col_heading level0 col0\" >MAE</th>\n",
       "      <th id=\"T_158a0_level0_col1\" class=\"col_heading level0 col1\" >MSE</th>\n",
       "      <th id=\"T_158a0_level0_col2\" class=\"col_heading level0 col2\" >RMSE</th>\n",
       "      <th id=\"T_158a0_level0_col3\" class=\"col_heading level0 col3\" >R2</th>\n",
       "      <th id=\"T_158a0_level0_col4\" class=\"col_heading level0 col4\" >RMSLE</th>\n",
       "      <th id=\"T_158a0_level0_col5\" class=\"col_heading level0 col5\" >MAPE</th>\n",
       "    </tr>\n",
       "    <tr>\n",
       "      <th class=\"index_name level0\" >Fold</th>\n",
       "      <th class=\"blank col0\" >&nbsp;</th>\n",
       "      <th class=\"blank col1\" >&nbsp;</th>\n",
       "      <th class=\"blank col2\" >&nbsp;</th>\n",
       "      <th class=\"blank col3\" >&nbsp;</th>\n",
       "      <th class=\"blank col4\" >&nbsp;</th>\n",
       "      <th class=\"blank col5\" >&nbsp;</th>\n",
       "    </tr>\n",
       "  </thead>\n",
       "  <tbody>\n",
       "    <tr>\n",
       "      <th id=\"T_158a0_level0_row0\" class=\"row_heading level0 row0\" >0</th>\n",
       "      <td id=\"T_158a0_row0_col0\" class=\"data row0 col0\" >0.7320</td>\n",
       "      <td id=\"T_158a0_row0_col1\" class=\"data row0 col1\" >1.1464</td>\n",
       "      <td id=\"T_158a0_row0_col2\" class=\"data row0 col2\" >1.0707</td>\n",
       "      <td id=\"T_158a0_row0_col3\" class=\"data row0 col3\" >0.3798</td>\n",
       "      <td id=\"T_158a0_row0_col4\" class=\"data row0 col4\" >0.0360</td>\n",
       "      <td id=\"T_158a0_row0_col5\" class=\"data row0 col5\" >0.0253</td>\n",
       "    </tr>\n",
       "    <tr>\n",
       "      <th id=\"T_158a0_level0_row1\" class=\"row_heading level0 row1\" >1</th>\n",
       "      <td id=\"T_158a0_row1_col0\" class=\"data row1 col0\" >0.7444</td>\n",
       "      <td id=\"T_158a0_row1_col1\" class=\"data row1 col1\" >0.8132</td>\n",
       "      <td id=\"T_158a0_row1_col2\" class=\"data row1 col2\" >0.9018</td>\n",
       "      <td id=\"T_158a0_row1_col3\" class=\"data row1 col3\" >0.5864</td>\n",
       "      <td id=\"T_158a0_row1_col4\" class=\"data row1 col4\" >0.0310</td>\n",
       "      <td id=\"T_158a0_row1_col5\" class=\"data row1 col5\" >0.0264</td>\n",
       "    </tr>\n",
       "    <tr>\n",
       "      <th id=\"T_158a0_level0_row2\" class=\"row_heading level0 row2\" >2</th>\n",
       "      <td id=\"T_158a0_row2_col0\" class=\"data row2 col0\" >0.6440</td>\n",
       "      <td id=\"T_158a0_row2_col1\" class=\"data row2 col1\" >0.9732</td>\n",
       "      <td id=\"T_158a0_row2_col2\" class=\"data row2 col2\" >0.9865</td>\n",
       "      <td id=\"T_158a0_row2_col3\" class=\"data row2 col3\" >0.6412</td>\n",
       "      <td id=\"T_158a0_row2_col4\" class=\"data row2 col4\" >0.0342</td>\n",
       "      <td id=\"T_158a0_row2_col5\" class=\"data row2 col5\" >0.0229</td>\n",
       "    </tr>\n",
       "    <tr>\n",
       "      <th id=\"T_158a0_level0_row3\" class=\"row_heading level0 row3\" >3</th>\n",
       "      <td id=\"T_158a0_row3_col0\" class=\"data row3 col0\" >0.9508</td>\n",
       "      <td id=\"T_158a0_row3_col1\" class=\"data row3 col1\" >1.3631</td>\n",
       "      <td id=\"T_158a0_row3_col2\" class=\"data row3 col2\" >1.1675</td>\n",
       "      <td id=\"T_158a0_row3_col3\" class=\"data row3 col3\" >0.5419</td>\n",
       "      <td id=\"T_158a0_row3_col4\" class=\"data row3 col4\" >0.0399</td>\n",
       "      <td id=\"T_158a0_row3_col5\" class=\"data row3 col5\" >0.0339</td>\n",
       "    </tr>\n",
       "    <tr>\n",
       "      <th id=\"T_158a0_level0_row4\" class=\"row_heading level0 row4\" >4</th>\n",
       "      <td id=\"T_158a0_row4_col0\" class=\"data row4 col0\" >0.8343</td>\n",
       "      <td id=\"T_158a0_row4_col1\" class=\"data row4 col1\" >1.1809</td>\n",
       "      <td id=\"T_158a0_row4_col2\" class=\"data row4 col2\" >1.0867</td>\n",
       "      <td id=\"T_158a0_row4_col3\" class=\"data row4 col3\" >0.4267</td>\n",
       "      <td id=\"T_158a0_row4_col4\" class=\"data row4 col4\" >0.0369</td>\n",
       "      <td id=\"T_158a0_row4_col5\" class=\"data row4 col5\" >0.0291</td>\n",
       "    </tr>\n",
       "    <tr>\n",
       "      <th id=\"T_158a0_level0_row5\" class=\"row_heading level0 row5\" >5</th>\n",
       "      <td id=\"T_158a0_row5_col0\" class=\"data row5 col0\" >0.7258</td>\n",
       "      <td id=\"T_158a0_row5_col1\" class=\"data row5 col1\" >0.9050</td>\n",
       "      <td id=\"T_158a0_row5_col2\" class=\"data row5 col2\" >0.9513</td>\n",
       "      <td id=\"T_158a0_row5_col3\" class=\"data row5 col3\" >0.4811</td>\n",
       "      <td id=\"T_158a0_row5_col4\" class=\"data row5 col4\" >0.0338</td>\n",
       "      <td id=\"T_158a0_row5_col5\" class=\"data row5 col5\" >0.0266</td>\n",
       "    </tr>\n",
       "    <tr>\n",
       "      <th id=\"T_158a0_level0_row6\" class=\"row_heading level0 row6\" >6</th>\n",
       "      <td id=\"T_158a0_row6_col0\" class=\"data row6 col0\" >0.7946</td>\n",
       "      <td id=\"T_158a0_row6_col1\" class=\"data row6 col1\" >1.0917</td>\n",
       "      <td id=\"T_158a0_row6_col2\" class=\"data row6 col2\" >1.0448</td>\n",
       "      <td id=\"T_158a0_row6_col3\" class=\"data row6 col3\" >0.6204</td>\n",
       "      <td id=\"T_158a0_row6_col4\" class=\"data row6 col4\" >0.0363</td>\n",
       "      <td id=\"T_158a0_row6_col5\" class=\"data row6 col5\" >0.0283</td>\n",
       "    </tr>\n",
       "    <tr>\n",
       "      <th id=\"T_158a0_level0_row7\" class=\"row_heading level0 row7\" >7</th>\n",
       "      <td id=\"T_158a0_row7_col0\" class=\"data row7 col0\" >0.8028</td>\n",
       "      <td id=\"T_158a0_row7_col1\" class=\"data row7 col1\" >1.1321</td>\n",
       "      <td id=\"T_158a0_row7_col2\" class=\"data row7 col2\" >1.0640</td>\n",
       "      <td id=\"T_158a0_row7_col3\" class=\"data row7 col3\" >0.4436</td>\n",
       "      <td id=\"T_158a0_row7_col4\" class=\"data row7 col4\" >0.0365</td>\n",
       "      <td id=\"T_158a0_row7_col5\" class=\"data row7 col5\" >0.0290</td>\n",
       "    </tr>\n",
       "    <tr>\n",
       "      <th id=\"T_158a0_level0_row8\" class=\"row_heading level0 row8\" >8</th>\n",
       "      <td id=\"T_158a0_row8_col0\" class=\"data row8 col0\" >1.0415</td>\n",
       "      <td id=\"T_158a0_row8_col1\" class=\"data row8 col1\" >1.8932</td>\n",
       "      <td id=\"T_158a0_row8_col2\" class=\"data row8 col2\" >1.3759</td>\n",
       "      <td id=\"T_158a0_row8_col3\" class=\"data row8 col3\" >0.3251</td>\n",
       "      <td id=\"T_158a0_row8_col4\" class=\"data row8 col4\" >0.0471</td>\n",
       "      <td id=\"T_158a0_row8_col5\" class=\"data row8 col5\" >0.0376</td>\n",
       "    </tr>\n",
       "    <tr>\n",
       "      <th id=\"T_158a0_level0_row9\" class=\"row_heading level0 row9\" >9</th>\n",
       "      <td id=\"T_158a0_row9_col0\" class=\"data row9 col0\" >0.8726</td>\n",
       "      <td id=\"T_158a0_row9_col1\" class=\"data row9 col1\" >1.3496</td>\n",
       "      <td id=\"T_158a0_row9_col2\" class=\"data row9 col2\" >1.1617</td>\n",
       "      <td id=\"T_158a0_row9_col3\" class=\"data row9 col3\" >0.6078</td>\n",
       "      <td id=\"T_158a0_row9_col4\" class=\"data row9 col4\" >0.0400</td>\n",
       "      <td id=\"T_158a0_row9_col5\" class=\"data row9 col5\" >0.0310</td>\n",
       "    </tr>\n",
       "    <tr>\n",
       "      <th id=\"T_158a0_level0_row10\" class=\"row_heading level0 row10\" >10</th>\n",
       "      <td id=\"T_158a0_row10_col0\" class=\"data row10 col0\" >0.7256</td>\n",
       "      <td id=\"T_158a0_row10_col1\" class=\"data row10 col1\" >1.0477</td>\n",
       "      <td id=\"T_158a0_row10_col2\" class=\"data row10 col2\" >1.0236</td>\n",
       "      <td id=\"T_158a0_row10_col3\" class=\"data row10 col3\" >0.1463</td>\n",
       "      <td id=\"T_158a0_row10_col4\" class=\"data row10 col4\" >0.0352</td>\n",
       "      <td id=\"T_158a0_row10_col5\" class=\"data row10 col5\" >0.0262</td>\n",
       "    </tr>\n",
       "    <tr>\n",
       "      <th id=\"T_158a0_level0_row11\" class=\"row_heading level0 row11\" >11</th>\n",
       "      <td id=\"T_158a0_row11_col0\" class=\"data row11 col0\" >0.7021</td>\n",
       "      <td id=\"T_158a0_row11_col1\" class=\"data row11 col1\" >0.7732</td>\n",
       "      <td id=\"T_158a0_row11_col2\" class=\"data row11 col2\" >0.8793</td>\n",
       "      <td id=\"T_158a0_row11_col3\" class=\"data row11 col3\" >0.6062</td>\n",
       "      <td id=\"T_158a0_row11_col4\" class=\"data row11 col4\" >0.0303</td>\n",
       "      <td id=\"T_158a0_row11_col5\" class=\"data row11 col5\" >0.0251</td>\n",
       "    </tr>\n",
       "    <tr>\n",
       "      <th id=\"T_158a0_level0_row12\" class=\"row_heading level0 row12\" >Mean</th>\n",
       "      <td id=\"T_158a0_row12_col0\" class=\"data row12 col0\" >0.7975</td>\n",
       "      <td id=\"T_158a0_row12_col1\" class=\"data row12 col1\" >1.1391</td>\n",
       "      <td id=\"T_158a0_row12_col2\" class=\"data row12 col2\" >1.0595</td>\n",
       "      <td id=\"T_158a0_row12_col3\" class=\"data row12 col3\" >0.4839</td>\n",
       "      <td id=\"T_158a0_row12_col4\" class=\"data row12 col4\" >0.0364</td>\n",
       "      <td id=\"T_158a0_row12_col5\" class=\"data row12 col5\" >0.0284</td>\n",
       "    </tr>\n",
       "    <tr>\n",
       "      <th id=\"T_158a0_level0_row13\" class=\"row_heading level0 row13\" >Std</th>\n",
       "      <td id=\"T_158a0_row13_col0\" class=\"data row13 col0\" >0.1081</td>\n",
       "      <td id=\"T_158a0_row13_col1\" class=\"data row13 col1\" >0.2884</td>\n",
       "      <td id=\"T_158a0_row13_col2\" class=\"data row13 col2\" >0.1288</td>\n",
       "      <td id=\"T_158a0_row13_col3\" class=\"data row13 col3\" >0.1422</td>\n",
       "      <td id=\"T_158a0_row13_col4\" class=\"data row13 col4\" >0.0043</td>\n",
       "      <td id=\"T_158a0_row13_col5\" class=\"data row13 col5\" >0.0039</td>\n",
       "    </tr>\n",
       "  </tbody>\n",
       "</table>\n"
      ],
      "text/plain": [
       "<pandas.io.formats.style.Styler at 0x149de9e5090>"
      ]
     },
     "metadata": {},
     "output_type": "display_data"
    },
    {
     "data": {
      "text/html": [],
      "text/plain": [
       "<IPython.core.display.HTML object>"
      ]
     },
     "metadata": {},
     "output_type": "display_data"
    },
    {
     "data": {
      "text/html": [],
      "text/plain": [
       "<IPython.core.display.HTML object>"
      ]
     },
     "metadata": {},
     "output_type": "display_data"
    },
    {
     "data": {
      "text/html": [
       "<style type=\"text/css\">\n",
       "#T_9f13c_row12_col0, #T_9f13c_row12_col1, #T_9f13c_row12_col2, #T_9f13c_row12_col3, #T_9f13c_row12_col4, #T_9f13c_row12_col5 {\n",
       "  background: yellow;\n",
       "}\n",
       "</style>\n",
       "<table id=\"T_9f13c\">\n",
       "  <thead>\n",
       "    <tr>\n",
       "      <th class=\"blank level0\" >&nbsp;</th>\n",
       "      <th id=\"T_9f13c_level0_col0\" class=\"col_heading level0 col0\" >MAE</th>\n",
       "      <th id=\"T_9f13c_level0_col1\" class=\"col_heading level0 col1\" >MSE</th>\n",
       "      <th id=\"T_9f13c_level0_col2\" class=\"col_heading level0 col2\" >RMSE</th>\n",
       "      <th id=\"T_9f13c_level0_col3\" class=\"col_heading level0 col3\" >R2</th>\n",
       "      <th id=\"T_9f13c_level0_col4\" class=\"col_heading level0 col4\" >RMSLE</th>\n",
       "      <th id=\"T_9f13c_level0_col5\" class=\"col_heading level0 col5\" >MAPE</th>\n",
       "    </tr>\n",
       "    <tr>\n",
       "      <th class=\"index_name level0\" >Fold</th>\n",
       "      <th class=\"blank col0\" >&nbsp;</th>\n",
       "      <th class=\"blank col1\" >&nbsp;</th>\n",
       "      <th class=\"blank col2\" >&nbsp;</th>\n",
       "      <th class=\"blank col3\" >&nbsp;</th>\n",
       "      <th class=\"blank col4\" >&nbsp;</th>\n",
       "      <th class=\"blank col5\" >&nbsp;</th>\n",
       "    </tr>\n",
       "  </thead>\n",
       "  <tbody>\n",
       "    <tr>\n",
       "      <th id=\"T_9f13c_level0_row0\" class=\"row_heading level0 row0\" >0</th>\n",
       "      <td id=\"T_9f13c_row0_col0\" class=\"data row0 col0\" >0.7579</td>\n",
       "      <td id=\"T_9f13c_row0_col1\" class=\"data row0 col1\" >1.0771</td>\n",
       "      <td id=\"T_9f13c_row0_col2\" class=\"data row0 col2\" >1.0378</td>\n",
       "      <td id=\"T_9f13c_row0_col3\" class=\"data row0 col3\" >0.4173</td>\n",
       "      <td id=\"T_9f13c_row0_col4\" class=\"data row0 col4\" >0.0351</td>\n",
       "      <td id=\"T_9f13c_row0_col5\" class=\"data row0 col5\" >0.0263</td>\n",
       "    </tr>\n",
       "    <tr>\n",
       "      <th id=\"T_9f13c_level0_row1\" class=\"row_heading level0 row1\" >1</th>\n",
       "      <td id=\"T_9f13c_row1_col0\" class=\"data row1 col0\" >0.6747</td>\n",
       "      <td id=\"T_9f13c_row1_col1\" class=\"data row1 col1\" >0.7291</td>\n",
       "      <td id=\"T_9f13c_row1_col2\" class=\"data row1 col2\" >0.8538</td>\n",
       "      <td id=\"T_9f13c_row1_col3\" class=\"data row1 col3\" >0.6292</td>\n",
       "      <td id=\"T_9f13c_row1_col4\" class=\"data row1 col4\" >0.0291</td>\n",
       "      <td id=\"T_9f13c_row1_col5\" class=\"data row1 col5\" >0.0238</td>\n",
       "    </tr>\n",
       "    <tr>\n",
       "      <th id=\"T_9f13c_level0_row2\" class=\"row_heading level0 row2\" >2</th>\n",
       "      <td id=\"T_9f13c_row2_col0\" class=\"data row2 col0\" >0.7081</td>\n",
       "      <td id=\"T_9f13c_row2_col1\" class=\"data row2 col1\" >1.1305</td>\n",
       "      <td id=\"T_9f13c_row2_col2\" class=\"data row2 col2\" >1.0633</td>\n",
       "      <td id=\"T_9f13c_row2_col3\" class=\"data row2 col3\" >0.5832</td>\n",
       "      <td id=\"T_9f13c_row2_col4\" class=\"data row2 col4\" >0.0370</td>\n",
       "      <td id=\"T_9f13c_row2_col5\" class=\"data row2 col5\" >0.0254</td>\n",
       "    </tr>\n",
       "    <tr>\n",
       "      <th id=\"T_9f13c_level0_row3\" class=\"row_heading level0 row3\" >3</th>\n",
       "      <td id=\"T_9f13c_row3_col0\" class=\"data row3 col0\" >0.9073</td>\n",
       "      <td id=\"T_9f13c_row3_col1\" class=\"data row3 col1\" >1.3122</td>\n",
       "      <td id=\"T_9f13c_row3_col2\" class=\"data row3 col2\" >1.1455</td>\n",
       "      <td id=\"T_9f13c_row3_col3\" class=\"data row3 col3\" >0.5590</td>\n",
       "      <td id=\"T_9f13c_row3_col4\" class=\"data row3 col4\" >0.0391</td>\n",
       "      <td id=\"T_9f13c_row3_col5\" class=\"data row3 col5\" >0.0322</td>\n",
       "    </tr>\n",
       "    <tr>\n",
       "      <th id=\"T_9f13c_level0_row4\" class=\"row_heading level0 row4\" >4</th>\n",
       "      <td id=\"T_9f13c_row4_col0\" class=\"data row4 col0\" >0.7432</td>\n",
       "      <td id=\"T_9f13c_row4_col1\" class=\"data row4 col1\" >1.0166</td>\n",
       "      <td id=\"T_9f13c_row4_col2\" class=\"data row4 col2\" >1.0083</td>\n",
       "      <td id=\"T_9f13c_row4_col3\" class=\"data row4 col3\" >0.5064</td>\n",
       "      <td id=\"T_9f13c_row4_col4\" class=\"data row4 col4\" >0.0349</td>\n",
       "      <td id=\"T_9f13c_row4_col5\" class=\"data row4 col5\" >0.0261</td>\n",
       "    </tr>\n",
       "    <tr>\n",
       "      <th id=\"T_9f13c_level0_row5\" class=\"row_heading level0 row5\" >5</th>\n",
       "      <td id=\"T_9f13c_row5_col0\" class=\"data row5 col0\" >0.7744</td>\n",
       "      <td id=\"T_9f13c_row5_col1\" class=\"data row5 col1\" >1.1161</td>\n",
       "      <td id=\"T_9f13c_row5_col2\" class=\"data row5 col2\" >1.0564</td>\n",
       "      <td id=\"T_9f13c_row5_col3\" class=\"data row5 col3\" >0.3601</td>\n",
       "      <td id=\"T_9f13c_row5_col4\" class=\"data row5 col4\" >0.0374</td>\n",
       "      <td id=\"T_9f13c_row5_col5\" class=\"data row5 col5\" >0.0284</td>\n",
       "    </tr>\n",
       "    <tr>\n",
       "      <th id=\"T_9f13c_level0_row6\" class=\"row_heading level0 row6\" >6</th>\n",
       "      <td id=\"T_9f13c_row6_col0\" class=\"data row6 col0\" >0.8094</td>\n",
       "      <td id=\"T_9f13c_row6_col1\" class=\"data row6 col1\" >0.9457</td>\n",
       "      <td id=\"T_9f13c_row6_col2\" class=\"data row6 col2\" >0.9725</td>\n",
       "      <td id=\"T_9f13c_row6_col3\" class=\"data row6 col3\" >0.6712</td>\n",
       "      <td id=\"T_9f13c_row6_col4\" class=\"data row6 col4\" >0.0334</td>\n",
       "      <td id=\"T_9f13c_row6_col5\" class=\"data row6 col5\" >0.0286</td>\n",
       "    </tr>\n",
       "    <tr>\n",
       "      <th id=\"T_9f13c_level0_row7\" class=\"row_heading level0 row7\" >7</th>\n",
       "      <td id=\"T_9f13c_row7_col0\" class=\"data row7 col0\" >0.7532</td>\n",
       "      <td id=\"T_9f13c_row7_col1\" class=\"data row7 col1\" >0.9964</td>\n",
       "      <td id=\"T_9f13c_row7_col2\" class=\"data row7 col2\" >0.9982</td>\n",
       "      <td id=\"T_9f13c_row7_col3\" class=\"data row7 col3\" >0.5103</td>\n",
       "      <td id=\"T_9f13c_row7_col4\" class=\"data row7 col4\" >0.0343</td>\n",
       "      <td id=\"T_9f13c_row7_col5\" class=\"data row7 col5\" >0.0272</td>\n",
       "    </tr>\n",
       "    <tr>\n",
       "      <th id=\"T_9f13c_level0_row8\" class=\"row_heading level0 row8\" >8</th>\n",
       "      <td id=\"T_9f13c_row8_col0\" class=\"data row8 col0\" >0.9313</td>\n",
       "      <td id=\"T_9f13c_row8_col1\" class=\"data row8 col1\" >1.7231</td>\n",
       "      <td id=\"T_9f13c_row8_col2\" class=\"data row8 col2\" >1.3127</td>\n",
       "      <td id=\"T_9f13c_row8_col3\" class=\"data row8 col3\" >0.3857</td>\n",
       "      <td id=\"T_9f13c_row8_col4\" class=\"data row8 col4\" >0.0452</td>\n",
       "      <td id=\"T_9f13c_row8_col5\" class=\"data row8 col5\" >0.0338</td>\n",
       "    </tr>\n",
       "    <tr>\n",
       "      <th id=\"T_9f13c_level0_row9\" class=\"row_heading level0 row9\" >9</th>\n",
       "      <td id=\"T_9f13c_row9_col0\" class=\"data row9 col0\" >0.9001</td>\n",
       "      <td id=\"T_9f13c_row9_col1\" class=\"data row9 col1\" >1.3645</td>\n",
       "      <td id=\"T_9f13c_row9_col2\" class=\"data row9 col2\" >1.1681</td>\n",
       "      <td id=\"T_9f13c_row9_col3\" class=\"data row9 col3\" >0.6035</td>\n",
       "      <td id=\"T_9f13c_row9_col4\" class=\"data row9 col4\" >0.0404</td>\n",
       "      <td id=\"T_9f13c_row9_col5\" class=\"data row9 col5\" >0.0321</td>\n",
       "    </tr>\n",
       "    <tr>\n",
       "      <th id=\"T_9f13c_level0_row10\" class=\"row_heading level0 row10\" >10</th>\n",
       "      <td id=\"T_9f13c_row10_col0\" class=\"data row10 col0\" >0.7185</td>\n",
       "      <td id=\"T_9f13c_row10_col1\" class=\"data row10 col1\" >1.0040</td>\n",
       "      <td id=\"T_9f13c_row10_col2\" class=\"data row10 col2\" >1.0020</td>\n",
       "      <td id=\"T_9f13c_row10_col3\" class=\"data row10 col3\" >0.1819</td>\n",
       "      <td id=\"T_9f13c_row10_col4\" class=\"data row10 col4\" >0.0344</td>\n",
       "      <td id=\"T_9f13c_row10_col5\" class=\"data row10 col5\" >0.0259</td>\n",
       "    </tr>\n",
       "    <tr>\n",
       "      <th id=\"T_9f13c_level0_row11\" class=\"row_heading level0 row11\" >11</th>\n",
       "      <td id=\"T_9f13c_row11_col0\" class=\"data row11 col0\" >0.6837</td>\n",
       "      <td id=\"T_9f13c_row11_col1\" class=\"data row11 col1\" >0.8188</td>\n",
       "      <td id=\"T_9f13c_row11_col2\" class=\"data row11 col2\" >0.9049</td>\n",
       "      <td id=\"T_9f13c_row11_col3\" class=\"data row11 col3\" >0.5830</td>\n",
       "      <td id=\"T_9f13c_row11_col4\" class=\"data row11 col4\" >0.0310</td>\n",
       "      <td id=\"T_9f13c_row11_col5\" class=\"data row11 col5\" >0.0243</td>\n",
       "    </tr>\n",
       "    <tr>\n",
       "      <th id=\"T_9f13c_level0_row12\" class=\"row_heading level0 row12\" >Mean</th>\n",
       "      <td id=\"T_9f13c_row12_col0\" class=\"data row12 col0\" >0.7801</td>\n",
       "      <td id=\"T_9f13c_row12_col1\" class=\"data row12 col1\" >1.1028</td>\n",
       "      <td id=\"T_9f13c_row12_col2\" class=\"data row12 col2\" >1.0436</td>\n",
       "      <td id=\"T_9f13c_row12_col3\" class=\"data row12 col3\" >0.4992</td>\n",
       "      <td id=\"T_9f13c_row12_col4\" class=\"data row12 col4\" >0.0359</td>\n",
       "      <td id=\"T_9f13c_row12_col5\" class=\"data row12 col5\" >0.0278</td>\n",
       "    </tr>\n",
       "    <tr>\n",
       "      <th id=\"T_9f13c_level0_row13\" class=\"row_heading level0 row13\" >Std</th>\n",
       "      <td id=\"T_9f13c_row13_col0\" class=\"data row13 col0\" >0.0848</td>\n",
       "      <td id=\"T_9f13c_row13_col1\" class=\"data row13 col1\" >0.2537</td>\n",
       "      <td id=\"T_9f13c_row13_col2\" class=\"data row13 col2\" >0.1170</td>\n",
       "      <td id=\"T_9f13c_row13_col3\" class=\"data row13 col3\" >0.1338</td>\n",
       "      <td id=\"T_9f13c_row13_col4\" class=\"data row13 col4\" >0.0041</td>\n",
       "      <td id=\"T_9f13c_row13_col5\" class=\"data row13 col5\" >0.0031</td>\n",
       "    </tr>\n",
       "  </tbody>\n",
       "</table>\n"
      ],
      "text/plain": [
       "<pandas.io.formats.style.Styler at 0x149e243a850>"
      ]
     },
     "metadata": {},
     "output_type": "display_data"
    },
    {
     "data": {
      "text/html": [],
      "text/plain": [
       "<IPython.core.display.HTML object>"
      ]
     },
     "metadata": {},
     "output_type": "display_data"
    }
   ],
   "source": [
    "# model_1 = exp1.create_model('rf')\n",
    "model_1 = exp1.create_model('rf')\n",
    "model_2 = exp1.create_model('et')\n",
    "model_3 = exp1.create_model('br')"
   ]
  },
  {
   "cell_type": "code",
   "execution_count": 117,
   "metadata": {},
   "outputs": [],
   "source": [
    "# exp1.evaluate_model(model_1)"
   ]
  },
  {
   "cell_type": "code",
   "execution_count": 118,
   "metadata": {},
   "outputs": [
    {
     "data": {
      "text/html": [
       "<style type=\"text/css\">\n",
       "</style>\n",
       "<table id=\"T_28380\">\n",
       "  <thead>\n",
       "    <tr>\n",
       "      <th class=\"blank level0\" >&nbsp;</th>\n",
       "      <th id=\"T_28380_level0_col0\" class=\"col_heading level0 col0\" >Model</th>\n",
       "      <th id=\"T_28380_level0_col1\" class=\"col_heading level0 col1\" >MAE</th>\n",
       "      <th id=\"T_28380_level0_col2\" class=\"col_heading level0 col2\" >MSE</th>\n",
       "      <th id=\"T_28380_level0_col3\" class=\"col_heading level0 col3\" >RMSE</th>\n",
       "      <th id=\"T_28380_level0_col4\" class=\"col_heading level0 col4\" >R2</th>\n",
       "      <th id=\"T_28380_level0_col5\" class=\"col_heading level0 col5\" >RMSLE</th>\n",
       "      <th id=\"T_28380_level0_col6\" class=\"col_heading level0 col6\" >MAPE</th>\n",
       "    </tr>\n",
       "  </thead>\n",
       "  <tbody>\n",
       "    <tr>\n",
       "      <th id=\"T_28380_level0_row0\" class=\"row_heading level0 row0\" >0</th>\n",
       "      <td id=\"T_28380_row0_col0\" class=\"data row0 col0\" >Bayesian Ridge</td>\n",
       "      <td id=\"T_28380_row0_col1\" class=\"data row0 col1\" >0.5449</td>\n",
       "      <td id=\"T_28380_row0_col2\" class=\"data row0 col2\" >0.6438</td>\n",
       "      <td id=\"T_28380_row0_col3\" class=\"data row0 col3\" >0.8024</td>\n",
       "      <td id=\"T_28380_row0_col4\" class=\"data row0 col4\" >0.2496</td>\n",
       "      <td id=\"T_28380_row0_col5\" class=\"data row0 col5\" >0.0288</td>\n",
       "      <td id=\"T_28380_row0_col6\" class=\"data row0 col6\" >0.0202</td>\n",
       "    </tr>\n",
       "  </tbody>\n",
       "</table>\n"
      ],
      "text/plain": [
       "<pandas.io.formats.style.Styler at 0x149deced090>"
      ]
     },
     "metadata": {},
     "output_type": "display_data"
    },
    {
     "data": {
      "text/html": [
       "<div>\n",
       "<style scoped>\n",
       "    .dataframe tbody tr th:only-of-type {\n",
       "        vertical-align: middle;\n",
       "    }\n",
       "\n",
       "    .dataframe tbody tr th {\n",
       "        vertical-align: top;\n",
       "    }\n",
       "\n",
       "    .dataframe thead th {\n",
       "        text-align: right;\n",
       "    }\n",
       "</style>\n",
       "<table border=\"1\" class=\"dataframe\">\n",
       "  <thead>\n",
       "    <tr style=\"text-align: right;\">\n",
       "      <th></th>\n",
       "      <th>year</th>\n",
       "      <th>month</th>\n",
       "      <th>day</th>\n",
       "      <th>day_of_week</th>\n",
       "      <th>week_of_year</th>\n",
       "      <th>season</th>\n",
       "      <th>is_weekend</th>\n",
       "      <th>date</th>\n",
       "      <th>day_of_year</th>\n",
       "      <th>month_sin</th>\n",
       "      <th>...</th>\n",
       "      <th>day_of_week_cos</th>\n",
       "      <th>temperature_lag_1</th>\n",
       "      <th>temperature_lag_2</th>\n",
       "      <th>temperature_lag_3</th>\n",
       "      <th>temperature_lag_4</th>\n",
       "      <th>temperature_lag_5</th>\n",
       "      <th>temperature_lag_6</th>\n",
       "      <th>temperature_lag_7</th>\n",
       "      <th>temperature</th>\n",
       "      <th>prediction_label</th>\n",
       "    </tr>\n",
       "    <tr>\n",
       "      <th>timestamp</th>\n",
       "      <th></th>\n",
       "      <th></th>\n",
       "      <th></th>\n",
       "      <th></th>\n",
       "      <th></th>\n",
       "      <th></th>\n",
       "      <th></th>\n",
       "      <th></th>\n",
       "      <th></th>\n",
       "      <th></th>\n",
       "      <th></th>\n",
       "      <th></th>\n",
       "      <th></th>\n",
       "      <th></th>\n",
       "      <th></th>\n",
       "      <th></th>\n",
       "      <th></th>\n",
       "      <th></th>\n",
       "      <th></th>\n",
       "      <th></th>\n",
       "      <th></th>\n",
       "    </tr>\n",
       "  </thead>\n",
       "  <tbody>\n",
       "    <tr>\n",
       "      <th>2025-01-13 07:00:00</th>\n",
       "      <td>2025</td>\n",
       "      <td>1</td>\n",
       "      <td>13</td>\n",
       "      <td>0</td>\n",
       "      <td>3</td>\n",
       "      <td>2</td>\n",
       "      <td>0</td>\n",
       "      <td>2025-01-13</td>\n",
       "      <td>13</td>\n",
       "      <td>0.5</td>\n",
       "      <td>...</td>\n",
       "      <td>1.000000</td>\n",
       "      <td>25.434973</td>\n",
       "      <td>28.357460</td>\n",
       "      <td>28.945705</td>\n",
       "      <td>28.383165</td>\n",
       "      <td>28.921543</td>\n",
       "      <td>29.145098</td>\n",
       "      <td>28.825508</td>\n",
       "      <td>25.997341</td>\n",
       "      <td>27.123058</td>\n",
       "    </tr>\n",
       "    <tr>\n",
       "      <th>2025-01-14 07:00:00</th>\n",
       "      <td>2025</td>\n",
       "      <td>1</td>\n",
       "      <td>14</td>\n",
       "      <td>1</td>\n",
       "      <td>3</td>\n",
       "      <td>2</td>\n",
       "      <td>0</td>\n",
       "      <td>2025-01-14</td>\n",
       "      <td>14</td>\n",
       "      <td>0.5</td>\n",
       "      <td>...</td>\n",
       "      <td>0.623490</td>\n",
       "      <td>25.997341</td>\n",
       "      <td>25.434973</td>\n",
       "      <td>28.357460</td>\n",
       "      <td>28.945705</td>\n",
       "      <td>28.383165</td>\n",
       "      <td>28.921543</td>\n",
       "      <td>29.145098</td>\n",
       "      <td>26.780884</td>\n",
       "      <td>26.857555</td>\n",
       "    </tr>\n",
       "    <tr>\n",
       "      <th>2025-01-15 07:00:00</th>\n",
       "      <td>2025</td>\n",
       "      <td>1</td>\n",
       "      <td>15</td>\n",
       "      <td>2</td>\n",
       "      <td>3</td>\n",
       "      <td>2</td>\n",
       "      <td>0</td>\n",
       "      <td>2025-01-15</td>\n",
       "      <td>15</td>\n",
       "      <td>0.5</td>\n",
       "      <td>...</td>\n",
       "      <td>-0.222521</td>\n",
       "      <td>26.780884</td>\n",
       "      <td>25.997341</td>\n",
       "      <td>25.434973</td>\n",
       "      <td>28.357460</td>\n",
       "      <td>28.945705</td>\n",
       "      <td>28.383165</td>\n",
       "      <td>28.921543</td>\n",
       "      <td>27.146723</td>\n",
       "      <td>27.136673</td>\n",
       "    </tr>\n",
       "    <tr>\n",
       "      <th>2025-01-16 07:00:00</th>\n",
       "      <td>2025</td>\n",
       "      <td>1</td>\n",
       "      <td>16</td>\n",
       "      <td>3</td>\n",
       "      <td>3</td>\n",
       "      <td>2</td>\n",
       "      <td>0</td>\n",
       "      <td>2025-01-16</td>\n",
       "      <td>16</td>\n",
       "      <td>0.5</td>\n",
       "      <td>...</td>\n",
       "      <td>-0.900969</td>\n",
       "      <td>27.146723</td>\n",
       "      <td>26.780884</td>\n",
       "      <td>25.997341</td>\n",
       "      <td>25.434973</td>\n",
       "      <td>28.357460</td>\n",
       "      <td>28.945705</td>\n",
       "      <td>28.383165</td>\n",
       "      <td>24.990604</td>\n",
       "      <td>27.627089</td>\n",
       "    </tr>\n",
       "    <tr>\n",
       "      <th>2025-01-17 07:00:00</th>\n",
       "      <td>2025</td>\n",
       "      <td>1</td>\n",
       "      <td>17</td>\n",
       "      <td>4</td>\n",
       "      <td>3</td>\n",
       "      <td>2</td>\n",
       "      <td>0</td>\n",
       "      <td>2025-01-17</td>\n",
       "      <td>17</td>\n",
       "      <td>0.5</td>\n",
       "      <td>...</td>\n",
       "      <td>-0.900969</td>\n",
       "      <td>24.990604</td>\n",
       "      <td>27.146723</td>\n",
       "      <td>26.780884</td>\n",
       "      <td>25.997341</td>\n",
       "      <td>25.434973</td>\n",
       "      <td>28.357460</td>\n",
       "      <td>28.945705</td>\n",
       "      <td>27.221664</td>\n",
       "      <td>26.509545</td>\n",
       "    </tr>\n",
       "  </tbody>\n",
       "</table>\n",
       "<p>5 rows × 22 columns</p>\n",
       "</div>"
      ],
      "text/plain": [
       "                     year  month  day  day_of_week  week_of_year  season  \\\n",
       "timestamp                                                                  \n",
       "2025-01-13 07:00:00  2025      1   13            0             3       2   \n",
       "2025-01-14 07:00:00  2025      1   14            1             3       2   \n",
       "2025-01-15 07:00:00  2025      1   15            2             3       2   \n",
       "2025-01-16 07:00:00  2025      1   16            3             3       2   \n",
       "2025-01-17 07:00:00  2025      1   17            4             3       2   \n",
       "\n",
       "                     is_weekend       date  day_of_year  month_sin  ...  \\\n",
       "timestamp                                                           ...   \n",
       "2025-01-13 07:00:00           0 2025-01-13           13        0.5  ...   \n",
       "2025-01-14 07:00:00           0 2025-01-14           14        0.5  ...   \n",
       "2025-01-15 07:00:00           0 2025-01-15           15        0.5  ...   \n",
       "2025-01-16 07:00:00           0 2025-01-16           16        0.5  ...   \n",
       "2025-01-17 07:00:00           0 2025-01-17           17        0.5  ...   \n",
       "\n",
       "                     day_of_week_cos  temperature_lag_1  temperature_lag_2  \\\n",
       "timestamp                                                                    \n",
       "2025-01-13 07:00:00         1.000000          25.434973          28.357460   \n",
       "2025-01-14 07:00:00         0.623490          25.997341          25.434973   \n",
       "2025-01-15 07:00:00        -0.222521          26.780884          25.997341   \n",
       "2025-01-16 07:00:00        -0.900969          27.146723          26.780884   \n",
       "2025-01-17 07:00:00        -0.900969          24.990604          27.146723   \n",
       "\n",
       "                     temperature_lag_3  temperature_lag_4  temperature_lag_5  \\\n",
       "timestamp                                                                      \n",
       "2025-01-13 07:00:00          28.945705          28.383165          28.921543   \n",
       "2025-01-14 07:00:00          28.357460          28.945705          28.383165   \n",
       "2025-01-15 07:00:00          25.434973          28.357460          28.945705   \n",
       "2025-01-16 07:00:00          25.997341          25.434973          28.357460   \n",
       "2025-01-17 07:00:00          26.780884          25.997341          25.434973   \n",
       "\n",
       "                     temperature_lag_6  temperature_lag_7  temperature  \\\n",
       "timestamp                                                                \n",
       "2025-01-13 07:00:00          29.145098          28.825508    25.997341   \n",
       "2025-01-14 07:00:00          28.921543          29.145098    26.780884   \n",
       "2025-01-15 07:00:00          28.383165          28.921543    27.146723   \n",
       "2025-01-16 07:00:00          28.945705          28.383165    24.990604   \n",
       "2025-01-17 07:00:00          28.357460          28.945705    27.221664   \n",
       "\n",
       "                     prediction_label  \n",
       "timestamp                              \n",
       "2025-01-13 07:00:00         27.123058  \n",
       "2025-01-14 07:00:00         26.857555  \n",
       "2025-01-15 07:00:00         27.136673  \n",
       "2025-01-16 07:00:00         27.627089  \n",
       "2025-01-17 07:00:00         26.509545  \n",
       "\n",
       "[5 rows x 22 columns]"
      ]
     },
     "execution_count": 118,
     "metadata": {},
     "output_type": "execute_result"
    }
   ],
   "source": [
    "predictions = exp1.predict_model(model_3, data=test_data)\n",
    "predictions.head()"
   ]
  },
  {
   "cell_type": "code",
   "execution_count": 119,
   "metadata": {},
   "outputs": [
    {
     "data": {
      "text/plain": [
       "timestamp\n",
       "2025-01-13 07:00:00    27.123058\n",
       "2025-01-14 07:00:00    26.857555\n",
       "2025-01-15 07:00:00    27.136673\n",
       "2025-01-16 07:00:00    27.627089\n",
       "2025-01-17 07:00:00    26.509545\n",
       "Freq: D, Name: prediction_label, dtype: float64"
      ]
     },
     "execution_count": 119,
     "metadata": {},
     "output_type": "execute_result"
    }
   ],
   "source": [
    "predict_v = predictions['prediction_label']\n",
    "predict_v.head()"
   ]
  },
  {
   "cell_type": "code",
   "execution_count": 120,
   "metadata": {},
   "outputs": [
    {
     "data": {
      "text/plain": [
       "timestamp\n",
       "2025-01-13 07:00:00    25.997341\n",
       "2025-01-14 07:00:00    26.780883\n",
       "2025-01-15 07:00:00    27.146722\n",
       "2025-01-16 07:00:00    24.990604\n",
       "2025-01-17 07:00:00    27.221665\n",
       "Freq: D, Name: temperature, dtype: float64"
      ]
     },
     "execution_count": 120,
     "metadata": {},
     "output_type": "execute_result"
    }
   ],
   "source": [
    "real = test_data['temperature']\n",
    "real.head()"
   ]
  },
  {
   "cell_type": "markdown",
   "metadata": {},
   "source": [
    "# ทำนาย 1 วันข้างหน้า ต้องทำนายเผื่อ 2 วัน"
   ]
  },
  {
   "cell_type": "code",
   "execution_count": 121,
   "metadata": {},
   "outputs": [
    {
     "data": {
      "image/png": "[encoded data removed]",
      "text/plain": [
       "<Figure size 1000x600 with 1 Axes>"
      ]
     },
     "metadata": {},
     "output_type": "display_data"
    }
   ],
   "source": [
    "import pandas as pd\n",
    "import matplotlib.pyplot as plt\n",
    "\n",
    "# สมมุติว่า result คือ DataFrame ที่รวม predictions กับ pm_10\n",
    "result = pd.concat([predict_v.shift(-1), test_data['temperature']], axis=1)\n",
    "result.columns = ['Predictions', 'Actual temp']  # ตั้งชื่อคอลัมน์\n",
    "\n",
    "# พล็อตข้อมูล\n",
    "result.plot(figsize=(10, 6))\n",
    "\n",
    "# ตั้งชื่อกราฟ\n",
    "plt.title('Predictions vs Actual TEMP')\n",
    "plt.xlabel('Index')\n",
    "plt.ylabel('TEMP Values')\n",
    "\n",
    "# แสดงกราฟ\n",
    "plt.show()"
   ]
  },
  {
   "cell_type": "code",
   "execution_count": 122,
   "metadata": {},
   "outputs": [
    {
     "data": {
      "text/html": [],
      "text/plain": [
       "<IPython.core.display.HTML object>"
      ]
     },
     "metadata": {},
     "output_type": "display_data"
    },
    {
     "data": {
      "image/png": "[encoded data removed]",
      "text/plain": [
       "<Figure size 800x550 with 1 Axes>"
      ]
     },
     "metadata": {},
     "output_type": "display_data"
    }
   ],
   "source": [
    "exp1.plot_model(model_1, 'learning')"
   ]
  },
  {
   "cell_type": "code",
   "execution_count": 123,
   "metadata": {},
   "outputs": [
    {
     "ename": "NameError",
     "evalue": "name 'stop' is not defined",
     "output_type": "error",
     "traceback": [
      "\u001b[1;31m---------------------------------------------------------------------------\u001b[0m",
      "\u001b[1;31mNameError\u001b[0m                                 Traceback (most recent call last)",
      "Cell \u001b[1;32mIn[123], line 1\u001b[0m\n\u001b[1;32m----> 1\u001b[0m \u001b[43mstop\u001b[49m\n",
      "\u001b[1;31mNameError\u001b[0m: name 'stop' is not defined"
     ]
    }
   ],
   "source": [
    "stop"
   ]
  },
  {
   "cell_type": "code",
   "execution_count": null,
   "metadata": {},
   "outputs": [
    {
     "name": "stdout",
     "output_type": "stream",
     "text": [
      "R² Score: 0.6060\n",
      "Mean Absolute Error (MAE): 0.4600\n",
      "Root Mean Squared Error (RMSE): 0.5751\n",
      "Accuracy: 98.33%\n"
     ]
    }
   ],
   "source": [
    "from pycaret.regression import *\n",
    "from sklearn.metrics import r2_score, mean_absolute_error, mean_squared_error\n",
    "import numpy as np\n",
    "\n",
    "y_true = test_data[\"temperature\"][:\"2025-2-10\"]\n",
    "y_pred = predict_v.shift(-1).dropna(axis=0)\n",
    "\n",
    "# Calculate Regression Metrics\n",
    "r2 = r2_score(y_true, y_pred)\n",
    "mae = mean_absolute_error(y_true, y_pred)\n",
    "rmse = np.sqrt(mean_squared_error(y_true, y_pred))\n",
    "\n",
    "# Calculate Accuracy as (1 - (MAE / mean_actual)) * 100\n",
    "mean_actual = np.mean(y_true)  # Mean of actual values\n",
    "accuracy = (1 - (mae / mean_actual)) * 100  # Accuracy in percentage\n",
    "\n",
    "# Print Results\n",
    "print(f\"R² Score: {r2:.4f}\")  # Closer to 1 is better\n",
    "print(f\"Mean Absolute Error (MAE): {mae:.4f}\")  # Lower is better\n",
    "print(f\"Root Mean Squared Error (RMSE): {rmse:.4f}\")  # Lower is better\n",
    "print(f\"Accuracy: {accuracy:.2f}%\")  # Accuracy percentage"
   ]
  },
  {
   "cell_type": "code",
   "execution_count": null,
   "metadata": {},
   "outputs": [
    {
     "name": "stdout",
     "output_type": "stream",
     "text": [
      "R² Score: 0.6060\n",
      "Mean Absolute Error (MAE): 0.4600\n",
      "Root Mean Squared Error (RMSE): 0.5751\n",
      "Mean Absolute Percentage Error (MAPE): 1.70%\n",
      "Accuracy: 98.30%\n"
     ]
    }
   ],
   "source": [
    "from pycaret.regression import *\n",
    "from sklearn.metrics import r2_score, mean_absolute_error, mean_squared_error\n",
    "import numpy as np\n",
    "\n",
    "# Extract actual values and predicted values\n",
    "y_true = test_data[\"temperature\"][:\"2025-2-10\"]\n",
    "y_pred = predict_v.shift(-1).dropna(axis=0)\n",
    "\n",
    "# Calculate Regression Metrics\n",
    "r2 = r2_score(y_true, y_pred)\n",
    "mae = mean_absolute_error(y_true, y_pred)\n",
    "rmse = np.sqrt(mean_squared_error(y_true, y_pred))\n",
    "\n",
    "# Calculate MAPE and Accuracy\n",
    "mape = np.mean(np.abs((y_true - y_pred) / y_true)) * 100  # Mean Absolute Percentage Error\n",
    "accuracy = 100 - mape  # Convert to Accuracy %\n",
    "\n",
    "# Print Results\n",
    "print(f\"R² Score: {r2:.4f}\")\n",
    "print(f\"Mean Absolute Error (MAE): {mae:.4f}\")\n",
    "print(f\"Root Mean Squared Error (RMSE): {rmse:.4f}\")\n",
    "print(f\"Mean Absolute Percentage Error (MAPE): {mape:.2f}%\")\n",
    "print(f\"Accuracy: {accuracy:.2f}%\")"
   ]
  },
  {
   "cell_type": "markdown",
   "metadata": {},
   "source": [
    "# Predict 1 by 1"
   ]
  },
  {
   "cell_type": "markdown",
   "metadata": {},
   "source": [
    "30 วัน  \n",
    "2025-01-13 07:00:00  \n",
    "2025-02-11 07:00:00  \n",
    "7 วัน  \n",
    "2025-02-05  \n",
    "2025-02-11  \n",
    "24 วัน  \n",
    "2025-01-19 07:00:00  \n",
    "31 วัน\n",
    "2025-01-12 07:00:00"
   ]
  },
  {
   "cell_type": "code",
   "execution_count": null,
   "metadata": {},
   "outputs": [],
   "source": [
    "# model_1 = exp1.create_model('rf')\n",
    "# tune_1 = exp1.tune_model(model_1)"
   ]
  },
  {
   "cell_type": "code",
   "execution_count": null,
   "metadata": {},
   "outputs": [
    {
     "data": {
      "text/html": [],
      "text/plain": [
       "<IPython.core.display.HTML object>"
      ]
     },
     "metadata": {},
     "output_type": "display_data"
    },
    {
     "data": {
      "text/html": [],
      "text/plain": [
       "<IPython.core.display.HTML object>"
      ]
     },
     "metadata": {},
     "output_type": "display_data"
    },
    {
     "data": {
      "text/html": [],
      "text/plain": [
       "<IPython.core.display.HTML object>"
      ]
     },
     "metadata": {},
     "output_type": "display_data"
    },
    {
     "data": {
      "text/html": [],
      "text/plain": [
       "<IPython.core.display.HTML object>"
      ]
     },
     "metadata": {},
     "output_type": "display_data"
    },
    {
     "data": {
      "text/html": [],
      "text/plain": [
       "<IPython.core.display.HTML object>"
      ]
     },
     "metadata": {},
     "output_type": "display_data"
    },
    {
     "data": {
      "text/html": [],
      "text/plain": [
       "<IPython.core.display.HTML object>"
      ]
     },
     "metadata": {},
     "output_type": "display_data"
    },
    {
     "data": {
      "text/html": [],
      "text/plain": [
       "<IPython.core.display.HTML object>"
      ]
     },
     "metadata": {},
     "output_type": "display_data"
    },
    {
     "data": {
      "text/html": [],
      "text/plain": [
       "<IPython.core.display.HTML object>"
      ]
     },
     "metadata": {},
     "output_type": "display_data"
    },
    {
     "data": {
      "text/html": [],
      "text/plain": [
       "<IPython.core.display.HTML object>"
      ]
     },
     "metadata": {},
     "output_type": "display_data"
    },
    {
     "data": {
      "text/html": [],
      "text/plain": [
       "<IPython.core.display.HTML object>"
      ]
     },
     "metadata": {},
     "output_type": "display_data"
    },
    {
     "data": {
      "text/html": [],
      "text/plain": [
       "<IPython.core.display.HTML object>"
      ]
     },
     "metadata": {},
     "output_type": "display_data"
    },
    {
     "data": {
      "text/html": [],
      "text/plain": [
       "<IPython.core.display.HTML object>"
      ]
     },
     "metadata": {},
     "output_type": "display_data"
    },
    {
     "data": {
      "text/html": [],
      "text/plain": [
       "<IPython.core.display.HTML object>"
      ]
     },
     "metadata": {},
     "output_type": "display_data"
    },
    {
     "data": {
      "text/html": [],
      "text/plain": [
       "<IPython.core.display.HTML object>"
      ]
     },
     "metadata": {},
     "output_type": "display_data"
    },
    {
     "data": {
      "text/html": [],
      "text/plain": [
       "<IPython.core.display.HTML object>"
      ]
     },
     "metadata": {},
     "output_type": "display_data"
    },
    {
     "data": {
      "text/html": [],
      "text/plain": [
       "<IPython.core.display.HTML object>"
      ]
     },
     "metadata": {},
     "output_type": "display_data"
    },
    {
     "data": {
      "text/html": [],
      "text/plain": [
       "<IPython.core.display.HTML object>"
      ]
     },
     "metadata": {},
     "output_type": "display_data"
    },
    {
     "data": {
      "text/html": [],
      "text/plain": [
       "<IPython.core.display.HTML object>"
      ]
     },
     "metadata": {},
     "output_type": "display_data"
    },
    {
     "data": {
      "text/html": [],
      "text/plain": [
       "<IPython.core.display.HTML object>"
      ]
     },
     "metadata": {},
     "output_type": "display_data"
    },
    {
     "data": {
      "text/html": [],
      "text/plain": [
       "<IPython.core.display.HTML object>"
      ]
     },
     "metadata": {},
     "output_type": "display_data"
    },
    {
     "data": {
      "text/html": [],
      "text/plain": [
       "<IPython.core.display.HTML object>"
      ]
     },
     "metadata": {},
     "output_type": "display_data"
    },
    {
     "data": {
      "text/html": [],
      "text/plain": [
       "<IPython.core.display.HTML object>"
      ]
     },
     "metadata": {},
     "output_type": "display_data"
    },
    {
     "data": {
      "text/html": [],
      "text/plain": [
       "<IPython.core.display.HTML object>"
      ]
     },
     "metadata": {},
     "output_type": "display_data"
    },
    {
     "data": {
      "text/html": [],
      "text/plain": [
       "<IPython.core.display.HTML object>"
      ]
     },
     "metadata": {},
     "output_type": "display_data"
    },
    {
     "data": {
      "text/html": [],
      "text/plain": [
       "<IPython.core.display.HTML object>"
      ]
     },
     "metadata": {},
     "output_type": "display_data"
    },
    {
     "data": {
      "text/html": [],
      "text/plain": [
       "<IPython.core.display.HTML object>"
      ]
     },
     "metadata": {},
     "output_type": "display_data"
    },
    {
     "data": {
      "text/html": [],
      "text/plain": [
       "<IPython.core.display.HTML object>"
      ]
     },
     "metadata": {},
     "output_type": "display_data"
    },
    {
     "data": {
      "text/html": [],
      "text/plain": [
       "<IPython.core.display.HTML object>"
      ]
     },
     "metadata": {},
     "output_type": "display_data"
    },
    {
     "data": {
      "text/html": [],
      "text/plain": [
       "<IPython.core.display.HTML object>"
      ]
     },
     "metadata": {},
     "output_type": "display_data"
    },
    {
     "data": {
      "text/html": [],
      "text/plain": [
       "<IPython.core.display.HTML object>"
      ]
     },
     "metadata": {},
     "output_type": "display_data"
    }
   ],
   "source": [
    "data_compare = data_filtered.loc[:'2025-01-12']\n",
    "result = pd.DataFrame()\n",
    "\n",
    "start_date = \"2025-01-13\"\n",
    "end_date = \"2025-02-11\"\n",
    "\n",
    "model = model_1\n",
    "\n",
    "for date in pd.date_range(start=start_date, end=end_date, freq=\"D\"):\n",
    "    # Drop columns\n",
    "    test_1 = data_filtered\n",
    "    # ดึงวันนี้มา\n",
    "    test_1 = test_1.loc[str(date.date())]\n",
    "\n",
    "    # ใส่เข้าไป\n",
    "    data_compare = pd.concat([data_compare, test_1], axis=0)\n",
    "\n",
    "    # เพิ่มฟีเจอร์ rolling average (ค่าเฉลี่ยเคลื่อนที่)\n",
    "\n",
    "    # data_compare['pm_2_5_rolling_7'] = data_compare['pm_2_5'].rolling(window=7).mean().shift(1)  # ค่าเฉลี่ย 5 วันของ PM 10\n",
    "\n",
    "    # rolling_size = 1\n",
    "    # for i in range(1,rolling_size+1):\n",
    "    #     data_compare[f'pm_2_5_rolling_{i}'] = data_compare['pm_2_5'].rolling(window=i).mean().shift(1)\n",
    "\n",
    "    for i in range(1,lag_size+1):\n",
    "        data_compare[f'temperature_lag_{i}'] = data_compare['temperature'].shift(i)\n",
    "\n",
    "    # ดึง\n",
    "    test_1 = (data_compare.loc[str(date.date())]).drop(columns=['temperature'])\n",
    "    \n",
    "    # Drop ทิ้งล่าสุดใน data_compare\n",
    "    data_compare = data_compare.drop(data_compare.last_valid_index())\n",
    "    test_1 = test_1[~test_1.index.duplicated(keep='last')]\n",
    "\n",
    "    # Predict\n",
    "    predict_test_1 = exp1.predict_model(model, data=test_1)\n",
    "\n",
    "    # เพิ่มผลทำนายเข้าไปใน data_compare\n",
    "    data_compare = pd.concat([data_compare, predict_test_1], axis=0)\n",
    "\n",
    "    # แทนที่ค่าในคอลัมน์ 'pm_2_5' ในวันที่ '2025-01-13' ด้วยค่าในคอลัมน์ 'prediction_label'\n",
    "    data_compare.loc[str(date.date()), 'temperature'] = data_compare.loc[str(date.date()), 'prediction_label']\n",
    "\n",
    "    # ลบคอลัมน์ 'prediction_label' (หากต้องการแค่ผลทำนาย)\n",
    "    data_compare = data_compare.drop(columns=['prediction_label'])\n",
    "\n",
    "    # กรองเอาวันที่ซ้ำกัน (index ซ้ำ) ออกให้เหลือแค่ตัวเดียว\n",
    "    data_compare = data_compare[~data_compare.index.duplicated(keep='last')]\n",
    "\n",
    "    # บันทึกลง result\n",
    "    result = pd.concat([result, predict_test_1], axis=0)"
   ]
  },
  {
   "cell_type": "code",
   "execution_count": null,
   "metadata": {},
   "outputs": [
    {
     "data": {
      "image/png": "[encoded data removed]",
      "text/plain": [
       "<Figure size 1000x600 with 1 Axes>"
      ]
     },
     "metadata": {},
     "output_type": "display_data"
    }
   ],
   "source": [
    "import pandas as pd\n",
    "import matplotlib.pyplot as plt\n",
    "\n",
    "real_data = data_filtered.loc[start_date:end_date]\n",
    "# สมมุติว่า result คือ DataFrame ที่รวม predictions กับ pm_10\n",
    "result_plot = pd.concat([result['prediction_label'].shift(-1), real_data['temperature']], axis=1)\n",
    "result_plot.columns = ['Predictions', 'Actual TEMP']  # ตั้งชื่อคอลัมน์\n",
    "\n",
    "# พล็อตข้อมูล\n",
    "result_plot.plot(figsize=(10, 6))\n",
    "\n",
    "# ตั้งชื่อกราฟ\n",
    "plt.title('Predictions vs Actual PM2.5')\n",
    "plt.xlabel('Index')\n",
    "plt.ylabel('PM2.5 Values')\n",
    "\n",
    "# แสดงกราฟ\n",
    "plt.show()"
   ]
  },
  {
   "cell_type": "code",
   "execution_count": null,
   "metadata": {},
   "outputs": [
    {
     "name": "stdout",
     "output_type": "stream",
     "text": [
      "Transformation Pipeline and Model Successfully Saved\n"
     ]
    },
    {
     "data": {
      "text/plain": [
       "(Pipeline(memory=Memory(location=None),\n",
       "          steps=[('date_feature_extractor',\n",
       "                  TransformerWrapper(include=['date'],\n",
       "                                     transformer=ExtractDateTimeFeatures())),\n",
       "                 ('numerical_imputer',\n",
       "                  TransformerWrapper(include=['year', 'month', 'day',\n",
       "                                              'day_of_week', 'week_of_year',\n",
       "                                              'season', 'is_weekend',\n",
       "                                              'day_of_year', 'month_sin',\n",
       "                                              'month_cos', 'day_of_week_sin',\n",
       "                                              'day_of_week_cos',\n",
       "                                              'tempera...\n",
       "                                              'temperature_lag_5',\n",
       "                                              'temperature_lag_6',\n",
       "                                              'temperature_lag_7'],\n",
       "                                     transformer=SimpleImputer())),\n",
       "                 ('categorical_imputer',\n",
       "                  TransformerWrapper(include=[],\n",
       "                                     transformer=SimpleImputer(strategy='most_frequent'))),\n",
       "                 ('remove_outliers',\n",
       "                  TransformerWrapper(transformer=RemoveOutliers(random_state=123))),\n",
       "                 ('trained_model',\n",
       "                  RandomForestRegressor(n_jobs=-1, random_state=123))]),\n",
       " 'temp_model_1.pkl')"
      ]
     },
     "execution_count": 57,
     "metadata": {},
     "output_type": "execute_result"
    }
   ],
   "source": [
    "exp1.save_model(model_1, \"temp_model_1\")"
   ]
  },
  {
   "cell_type": "code",
   "execution_count": null,
   "metadata": {},
   "outputs": [],
   "source": [
    "y_true = test_data[\"temperature\"][:\"2025-2-10\"]\n",
    "y_pred = result[\"prediction_label\"].shift(-1).dropna(axis=0)"
   ]
  },
  {
   "cell_type": "code",
   "execution_count": null,
   "metadata": {},
   "outputs": [
    {
     "name": "stdout",
     "output_type": "stream",
     "text": [
      "R² Score: 0.0804\n",
      "Mean Absolute Error (MAE): 0.6729\n",
      "Root Mean Squared Error (RMSE): 0.8787\n",
      "Mean Absolute Percentage Error (MAPE): 2.51%\n",
      "Accuracy: 97.49%\n"
     ]
    }
   ],
   "source": [
    "from sklearn.metrics import r2_score, mean_absolute_error, mean_squared_error\n",
    "\n",
    "# Calculate Regression Metrics\n",
    "r2 = r2_score(y_true, y_pred)\n",
    "mae = mean_absolute_error(y_true, y_pred)\n",
    "rmse = np.sqrt(mean_squared_error(y_true, y_pred))\n",
    "\n",
    "# Calculate MAPE and Accuracy\n",
    "mape = np.mean(np.abs((y_true - y_pred) / y_true)) * 100  # Mean Absolute Percentage Error\n",
    "accuracy = 100 - mape  # Convert to Accuracy %\n",
    "\n",
    "# Print Results\n",
    "print(f\"R² Score: {r2:.4f}\")\n",
    "print(f\"Mean Absolute Error (MAE): {mae:.4f}\")\n",
    "print(f\"Root Mean Squared Error (RMSE): {rmse:.4f}\")\n",
    "print(f\"Mean Absolute Percentage Error (MAPE): {mape:.2f}%\")\n",
    "print(f\"Accuracy: {accuracy:.2f}%\")"
   ]
  },
  {
   "cell_type": "markdown",
   "metadata": {},
   "source": [
    "I THINK THAT COMPLETE FOR TEMP  \n",
    "THE MODEL IS 'rf'\n",
    "Accuracy(MAPE) = 100 - 2.45 = 97.55 %"
   ]
  },
  {
   "cell_type": "code",
   "execution_count": null,
   "metadata": {},
   "outputs": [
    {
     "name": "stdout",
     "output_type": "stream",
     "text": [
      "Processing model: BayesianRidge\n"
     ]
    },
    {
     "data": {
      "text/html": [
       "<style type=\"text/css\">\n",
       "</style>\n",
       "<table id=\"T_60cc4\">\n",
       "  <thead>\n",
       "    <tr>\n",
       "      <th class=\"blank level0\" >&nbsp;</th>\n",
       "      <th id=\"T_60cc4_level0_col0\" class=\"col_heading level0 col0\" >Model</th>\n",
       "      <th id=\"T_60cc4_level0_col1\" class=\"col_heading level0 col1\" >MAE</th>\n",
       "      <th id=\"T_60cc4_level0_col2\" class=\"col_heading level0 col2\" >MSE</th>\n",
       "      <th id=\"T_60cc4_level0_col3\" class=\"col_heading level0 col3\" >RMSE</th>\n",
       "      <th id=\"T_60cc4_level0_col4\" class=\"col_heading level0 col4\" >R2</th>\n",
       "      <th id=\"T_60cc4_level0_col5\" class=\"col_heading level0 col5\" >RMSLE</th>\n",
       "      <th id=\"T_60cc4_level0_col6\" class=\"col_heading level0 col6\" >MAPE</th>\n",
       "    </tr>\n",
       "  </thead>\n",
       "  <tbody>\n",
       "    <tr>\n",
       "      <th id=\"T_60cc4_level0_row0\" class=\"row_heading level0 row0\" >0</th>\n",
       "      <td id=\"T_60cc4_row0_col0\" class=\"data row0 col0\" >Bayesian Ridge</td>\n",
       "      <td id=\"T_60cc4_row0_col1\" class=\"data row0 col1\" >1.1257</td>\n",
       "      <td id=\"T_60cc4_row0_col2\" class=\"data row0 col2\" >1.2672</td>\n",
       "      <td id=\"T_60cc4_row0_col3\" class=\"data row0 col3\" >1.1257</td>\n",
       "      <td id=\"T_60cc4_row0_col4\" class=\"data row0 col4\" >nan</td>\n",
       "      <td id=\"T_60cc4_row0_col5\" class=\"data row0 col5\" >0.0409</td>\n",
       "      <td id=\"T_60cc4_row0_col6\" class=\"data row0 col6\" >0.0433</td>\n",
       "    </tr>\n",
       "  </tbody>\n",
       "</table>\n"
      ],
      "text/plain": [
       "<pandas.io.formats.style.Styler at 0x19be48a9590>"
      ]
     },
     "metadata": {},
     "output_type": "display_data"
    },
    {
     "data": {
      "text/html": [
       "<style type=\"text/css\">\n",
       "</style>\n",
       "<table id=\"T_7f6e2\">\n",
       "  <thead>\n",
       "    <tr>\n",
       "      <th class=\"blank level0\" >&nbsp;</th>\n",
       "      <th id=\"T_7f6e2_level0_col0\" class=\"col_heading level0 col0\" >Model</th>\n",
       "      <th id=\"T_7f6e2_level0_col1\" class=\"col_heading level0 col1\" >MAE</th>\n",
       "      <th id=\"T_7f6e2_level0_col2\" class=\"col_heading level0 col2\" >MSE</th>\n",
       "      <th id=\"T_7f6e2_level0_col3\" class=\"col_heading level0 col3\" >RMSE</th>\n",
       "      <th id=\"T_7f6e2_level0_col4\" class=\"col_heading level0 col4\" >R2</th>\n",
       "      <th id=\"T_7f6e2_level0_col5\" class=\"col_heading level0 col5\" >RMSLE</th>\n",
       "      <th id=\"T_7f6e2_level0_col6\" class=\"col_heading level0 col6\" >MAPE</th>\n",
       "    </tr>\n",
       "  </thead>\n",
       "  <tbody>\n",
       "    <tr>\n",
       "      <th id=\"T_7f6e2_level0_row0\" class=\"row_heading level0 row0\" >0</th>\n",
       "      <td id=\"T_7f6e2_row0_col0\" class=\"data row0 col0\" >Bayesian Ridge</td>\n",
       "      <td id=\"T_7f6e2_row0_col1\" class=\"data row0 col1\" >0.5311</td>\n",
       "      <td id=\"T_7f6e2_row0_col2\" class=\"data row0 col2\" >0.2821</td>\n",
       "      <td id=\"T_7f6e2_row0_col3\" class=\"data row0 col3\" >0.5311</td>\n",
       "      <td id=\"T_7f6e2_row0_col4\" class=\"data row0 col4\" >nan</td>\n",
       "      <td id=\"T_7f6e2_row0_col5\" class=\"data row0 col5\" >0.0189</td>\n",
       "      <td id=\"T_7f6e2_row0_col6\" class=\"data row0 col6\" >0.0198</td>\n",
       "    </tr>\n",
       "  </tbody>\n",
       "</table>\n"
      ],
      "text/plain": [
       "<pandas.io.formats.style.Styler at 0x19be4ee31d0>"
      ]
     },
     "metadata": {},
     "output_type": "display_data"
    },
    {
     "data": {
      "text/html": [
       "<style type=\"text/css\">\n",
       "</style>\n",
       "<table id=\"T_42208\">\n",
       "  <thead>\n",
       "    <tr>\n",
       "      <th class=\"blank level0\" >&nbsp;</th>\n",
       "      <th id=\"T_42208_level0_col0\" class=\"col_heading level0 col0\" >Model</th>\n",
       "      <th id=\"T_42208_level0_col1\" class=\"col_heading level0 col1\" >MAE</th>\n",
       "      <th id=\"T_42208_level0_col2\" class=\"col_heading level0 col2\" >MSE</th>\n",
       "      <th id=\"T_42208_level0_col3\" class=\"col_heading level0 col3\" >RMSE</th>\n",
       "      <th id=\"T_42208_level0_col4\" class=\"col_heading level0 col4\" >R2</th>\n",
       "      <th id=\"T_42208_level0_col5\" class=\"col_heading level0 col5\" >RMSLE</th>\n",
       "      <th id=\"T_42208_level0_col6\" class=\"col_heading level0 col6\" >MAPE</th>\n",
       "    </tr>\n",
       "  </thead>\n",
       "  <tbody>\n",
       "    <tr>\n",
       "      <th id=\"T_42208_level0_row0\" class=\"row_heading level0 row0\" >0</th>\n",
       "      <td id=\"T_42208_row0_col0\" class=\"data row0 col0\" >Bayesian Ridge</td>\n",
       "      <td id=\"T_42208_row0_col1\" class=\"data row0 col1\" >0.3623</td>\n",
       "      <td id=\"T_42208_row0_col2\" class=\"data row0 col2\" >0.1312</td>\n",
       "      <td id=\"T_42208_row0_col3\" class=\"data row0 col3\" >0.3623</td>\n",
       "      <td id=\"T_42208_row0_col4\" class=\"data row0 col4\" >nan</td>\n",
       "      <td id=\"T_42208_row0_col5\" class=\"data row0 col5\" >0.0128</td>\n",
       "      <td id=\"T_42208_row0_col6\" class=\"data row0 col6\" >0.0133</td>\n",
       "    </tr>\n",
       "  </tbody>\n",
       "</table>\n"
      ],
      "text/plain": [
       "<pandas.io.formats.style.Styler at 0x19be4fb2710>"
      ]
     },
     "metadata": {},
     "output_type": "display_data"
    },
    {
     "data": {
      "text/html": [
       "<style type=\"text/css\">\n",
       "</style>\n",
       "<table id=\"T_ae804\">\n",
       "  <thead>\n",
       "    <tr>\n",
       "      <th class=\"blank level0\" >&nbsp;</th>\n",
       "      <th id=\"T_ae804_level0_col0\" class=\"col_heading level0 col0\" >Model</th>\n",
       "      <th id=\"T_ae804_level0_col1\" class=\"col_heading level0 col1\" >MAE</th>\n",
       "      <th id=\"T_ae804_level0_col2\" class=\"col_heading level0 col2\" >MSE</th>\n",
       "      <th id=\"T_ae804_level0_col3\" class=\"col_heading level0 col3\" >RMSE</th>\n",
       "      <th id=\"T_ae804_level0_col4\" class=\"col_heading level0 col4\" >R2</th>\n",
       "      <th id=\"T_ae804_level0_col5\" class=\"col_heading level0 col5\" >RMSLE</th>\n",
       "      <th id=\"T_ae804_level0_col6\" class=\"col_heading level0 col6\" >MAPE</th>\n",
       "    </tr>\n",
       "  </thead>\n",
       "  <tbody>\n",
       "    <tr>\n",
       "      <th id=\"T_ae804_level0_row0\" class=\"row_heading level0 row0\" >0</th>\n",
       "      <td id=\"T_ae804_row0_col0\" class=\"data row0 col0\" >Bayesian Ridge</td>\n",
       "      <td id=\"T_ae804_row0_col1\" class=\"data row0 col1\" >2.9308</td>\n",
       "      <td id=\"T_ae804_row0_col2\" class=\"data row0 col2\" >8.5895</td>\n",
       "      <td id=\"T_ae804_row0_col3\" class=\"data row0 col3\" >2.9308</td>\n",
       "      <td id=\"T_ae804_row0_col4\" class=\"data row0 col4\" >nan</td>\n",
       "      <td id=\"T_ae804_row0_col5\" class=\"data row0 col5\" >0.1068</td>\n",
       "      <td id=\"T_ae804_row0_col6\" class=\"data row0 col6\" >0.1173</td>\n",
       "    </tr>\n",
       "  </tbody>\n",
       "</table>\n"
      ],
      "text/plain": [
       "<pandas.io.formats.style.Styler at 0x19be48aaf50>"
      ]
     },
     "metadata": {},
     "output_type": "display_data"
    },
    {
     "data": {
      "text/html": [
       "<style type=\"text/css\">\n",
       "</style>\n",
       "<table id=\"T_51205\">\n",
       "  <thead>\n",
       "    <tr>\n",
       "      <th class=\"blank level0\" >&nbsp;</th>\n",
       "      <th id=\"T_51205_level0_col0\" class=\"col_heading level0 col0\" >Model</th>\n",
       "      <th id=\"T_51205_level0_col1\" class=\"col_heading level0 col1\" >MAE</th>\n",
       "      <th id=\"T_51205_level0_col2\" class=\"col_heading level0 col2\" >MSE</th>\n",
       "      <th id=\"T_51205_level0_col3\" class=\"col_heading level0 col3\" >RMSE</th>\n",
       "      <th id=\"T_51205_level0_col4\" class=\"col_heading level0 col4\" >R2</th>\n",
       "      <th id=\"T_51205_level0_col5\" class=\"col_heading level0 col5\" >RMSLE</th>\n",
       "      <th id=\"T_51205_level0_col6\" class=\"col_heading level0 col6\" >MAPE</th>\n",
       "    </tr>\n",
       "  </thead>\n",
       "  <tbody>\n",
       "    <tr>\n",
       "      <th id=\"T_51205_level0_row0\" class=\"row_heading level0 row0\" >0</th>\n",
       "      <td id=\"T_51205_row0_col0\" class=\"data row0 col0\" >Bayesian Ridge</td>\n",
       "      <td id=\"T_51205_row0_col1\" class=\"data row0 col1\" >0.4940</td>\n",
       "      <td id=\"T_51205_row0_col2\" class=\"data row0 col2\" >0.2441</td>\n",
       "      <td id=\"T_51205_row0_col3\" class=\"data row0 col3\" >0.4940</td>\n",
       "      <td id=\"T_51205_row0_col4\" class=\"data row0 col4\" >nan</td>\n",
       "      <td id=\"T_51205_row0_col5\" class=\"data row0 col5\" >0.0174</td>\n",
       "      <td id=\"T_51205_row0_col6\" class=\"data row0 col6\" >0.0181</td>\n",
       "    </tr>\n",
       "  </tbody>\n",
       "</table>\n"
      ],
      "text/plain": [
       "<pandas.io.formats.style.Styler at 0x19be4f82710>"
      ]
     },
     "metadata": {},
     "output_type": "display_data"
    },
    {
     "data": {
      "text/html": [
       "<style type=\"text/css\">\n",
       "</style>\n",
       "<table id=\"T_5e815\">\n",
       "  <thead>\n",
       "    <tr>\n",
       "      <th class=\"blank level0\" >&nbsp;</th>\n",
       "      <th id=\"T_5e815_level0_col0\" class=\"col_heading level0 col0\" >Model</th>\n",
       "      <th id=\"T_5e815_level0_col1\" class=\"col_heading level0 col1\" >MAE</th>\n",
       "      <th id=\"T_5e815_level0_col2\" class=\"col_heading level0 col2\" >MSE</th>\n",
       "      <th id=\"T_5e815_level0_col3\" class=\"col_heading level0 col3\" >RMSE</th>\n",
       "      <th id=\"T_5e815_level0_col4\" class=\"col_heading level0 col4\" >R2</th>\n",
       "      <th id=\"T_5e815_level0_col5\" class=\"col_heading level0 col5\" >RMSLE</th>\n",
       "      <th id=\"T_5e815_level0_col6\" class=\"col_heading level0 col6\" >MAPE</th>\n",
       "    </tr>\n",
       "  </thead>\n",
       "  <tbody>\n",
       "    <tr>\n",
       "      <th id=\"T_5e815_level0_row0\" class=\"row_heading level0 row0\" >0</th>\n",
       "      <td id=\"T_5e815_row0_col0\" class=\"data row0 col0\" >Bayesian Ridge</td>\n",
       "      <td id=\"T_5e815_row0_col1\" class=\"data row0 col1\" >0.7249</td>\n",
       "      <td id=\"T_5e815_row0_col2\" class=\"data row0 col2\" >0.5255</td>\n",
       "      <td id=\"T_5e815_row0_col3\" class=\"data row0 col3\" >0.7249</td>\n",
       "      <td id=\"T_5e815_row0_col4\" class=\"data row0 col4\" >nan</td>\n",
       "      <td id=\"T_5e815_row0_col5\" class=\"data row0 col5\" >0.0257</td>\n",
       "      <td id=\"T_5e815_row0_col6\" class=\"data row0 col6\" >0.0270</td>\n",
       "    </tr>\n",
       "  </tbody>\n",
       "</table>\n"
      ],
      "text/plain": [
       "<pandas.io.formats.style.Styler at 0x19be4f55350>"
      ]
     },
     "metadata": {},
     "output_type": "display_data"
    },
    {
     "data": {
      "text/html": [
       "<style type=\"text/css\">\n",
       "</style>\n",
       "<table id=\"T_9f976\">\n",
       "  <thead>\n",
       "    <tr>\n",
       "      <th class=\"blank level0\" >&nbsp;</th>\n",
       "      <th id=\"T_9f976_level0_col0\" class=\"col_heading level0 col0\" >Model</th>\n",
       "      <th id=\"T_9f976_level0_col1\" class=\"col_heading level0 col1\" >MAE</th>\n",
       "      <th id=\"T_9f976_level0_col2\" class=\"col_heading level0 col2\" >MSE</th>\n",
       "      <th id=\"T_9f976_level0_col3\" class=\"col_heading level0 col3\" >RMSE</th>\n",
       "      <th id=\"T_9f976_level0_col4\" class=\"col_heading level0 col4\" >R2</th>\n",
       "      <th id=\"T_9f976_level0_col5\" class=\"col_heading level0 col5\" >RMSLE</th>\n",
       "      <th id=\"T_9f976_level0_col6\" class=\"col_heading level0 col6\" >MAPE</th>\n",
       "    </tr>\n",
       "  </thead>\n",
       "  <tbody>\n",
       "    <tr>\n",
       "      <th id=\"T_9f976_level0_row0\" class=\"row_heading level0 row0\" >0</th>\n",
       "      <td id=\"T_9f976_row0_col0\" class=\"data row0 col0\" >Bayesian Ridge</td>\n",
       "      <td id=\"T_9f976_row0_col1\" class=\"data row0 col1\" >2.1597</td>\n",
       "      <td id=\"T_9f976_row0_col2\" class=\"data row0 col2\" >4.6644</td>\n",
       "      <td id=\"T_9f976_row0_col3\" class=\"data row0 col3\" >2.1597</td>\n",
       "      <td id=\"T_9f976_row0_col4\" class=\"data row0 col4\" >nan</td>\n",
       "      <td id=\"T_9f976_row0_col5\" class=\"data row0 col5\" >0.0781</td>\n",
       "      <td id=\"T_9f976_row0_col6\" class=\"data row0 col6\" >0.0844</td>\n",
       "    </tr>\n",
       "  </tbody>\n",
       "</table>\n"
      ],
      "text/plain": [
       "<pandas.io.formats.style.Styler at 0x19be4fb2710>"
      ]
     },
     "metadata": {},
     "output_type": "display_data"
    },
    {
     "data": {
      "text/html": [
       "<style type=\"text/css\">\n",
       "</style>\n",
       "<table id=\"T_b46e3\">\n",
       "  <thead>\n",
       "    <tr>\n",
       "      <th class=\"blank level0\" >&nbsp;</th>\n",
       "      <th id=\"T_b46e3_level0_col0\" class=\"col_heading level0 col0\" >Model</th>\n",
       "      <th id=\"T_b46e3_level0_col1\" class=\"col_heading level0 col1\" >MAE</th>\n",
       "      <th id=\"T_b46e3_level0_col2\" class=\"col_heading level0 col2\" >MSE</th>\n",
       "      <th id=\"T_b46e3_level0_col3\" class=\"col_heading level0 col3\" >RMSE</th>\n",
       "      <th id=\"T_b46e3_level0_col4\" class=\"col_heading level0 col4\" >R2</th>\n",
       "      <th id=\"T_b46e3_level0_col5\" class=\"col_heading level0 col5\" >RMSLE</th>\n",
       "      <th id=\"T_b46e3_level0_col6\" class=\"col_heading level0 col6\" >MAPE</th>\n",
       "    </tr>\n",
       "  </thead>\n",
       "  <tbody>\n",
       "    <tr>\n",
       "      <th id=\"T_b46e3_level0_row0\" class=\"row_heading level0 row0\" >0</th>\n",
       "      <td id=\"T_b46e3_row0_col0\" class=\"data row0 col0\" >Bayesian Ridge</td>\n",
       "      <td id=\"T_b46e3_row0_col1\" class=\"data row0 col1\" >1.2964</td>\n",
       "      <td id=\"T_b46e3_row0_col2\" class=\"data row0 col2\" >1.6806</td>\n",
       "      <td id=\"T_b46e3_row0_col3\" class=\"data row0 col3\" >1.2964</td>\n",
       "      <td id=\"T_b46e3_row0_col4\" class=\"data row0 col4\" >nan</td>\n",
       "      <td id=\"T_b46e3_row0_col5\" class=\"data row0 col5\" >0.0463</td>\n",
       "      <td id=\"T_b46e3_row0_col6\" class=\"data row0 col6\" >0.0492</td>\n",
       "    </tr>\n",
       "  </tbody>\n",
       "</table>\n"
      ],
      "text/plain": [
       "<pandas.io.formats.style.Styler at 0x19be4f82710>"
      ]
     },
     "metadata": {},
     "output_type": "display_data"
    },
    {
     "data": {
      "text/html": [
       "<style type=\"text/css\">\n",
       "</style>\n",
       "<table id=\"T_25e37\">\n",
       "  <thead>\n",
       "    <tr>\n",
       "      <th class=\"blank level0\" >&nbsp;</th>\n",
       "      <th id=\"T_25e37_level0_col0\" class=\"col_heading level0 col0\" >Model</th>\n",
       "      <th id=\"T_25e37_level0_col1\" class=\"col_heading level0 col1\" >MAE</th>\n",
       "      <th id=\"T_25e37_level0_col2\" class=\"col_heading level0 col2\" >MSE</th>\n",
       "      <th id=\"T_25e37_level0_col3\" class=\"col_heading level0 col3\" >RMSE</th>\n",
       "      <th id=\"T_25e37_level0_col4\" class=\"col_heading level0 col4\" >R2</th>\n",
       "      <th id=\"T_25e37_level0_col5\" class=\"col_heading level0 col5\" >RMSLE</th>\n",
       "      <th id=\"T_25e37_level0_col6\" class=\"col_heading level0 col6\" >MAPE</th>\n",
       "    </tr>\n",
       "  </thead>\n",
       "  <tbody>\n",
       "    <tr>\n",
       "      <th id=\"T_25e37_level0_row0\" class=\"row_heading level0 row0\" >0</th>\n",
       "      <td id=\"T_25e37_row0_col0\" class=\"data row0 col0\" >Bayesian Ridge</td>\n",
       "      <td id=\"T_25e37_row0_col1\" class=\"data row0 col1\" >0.6234</td>\n",
       "      <td id=\"T_25e37_row0_col2\" class=\"data row0 col2\" >0.3887</td>\n",
       "      <td id=\"T_25e37_row0_col3\" class=\"data row0 col3\" >0.6234</td>\n",
       "      <td id=\"T_25e37_row0_col4\" class=\"data row0 col4\" >nan</td>\n",
       "      <td id=\"T_25e37_row0_col5\" class=\"data row0 col5\" >0.0215</td>\n",
       "      <td id=\"T_25e37_row0_col6\" class=\"data row0 col6\" >0.0220</td>\n",
       "    </tr>\n",
       "  </tbody>\n",
       "</table>\n"
      ],
      "text/plain": [
       "<pandas.io.formats.style.Styler at 0x19be471cfd0>"
      ]
     },
     "metadata": {},
     "output_type": "display_data"
    },
    {
     "data": {
      "text/html": [
       "<style type=\"text/css\">\n",
       "</style>\n",
       "<table id=\"T_6d8cf\">\n",
       "  <thead>\n",
       "    <tr>\n",
       "      <th class=\"blank level0\" >&nbsp;</th>\n",
       "      <th id=\"T_6d8cf_level0_col0\" class=\"col_heading level0 col0\" >Model</th>\n",
       "      <th id=\"T_6d8cf_level0_col1\" class=\"col_heading level0 col1\" >MAE</th>\n",
       "      <th id=\"T_6d8cf_level0_col2\" class=\"col_heading level0 col2\" >MSE</th>\n",
       "      <th id=\"T_6d8cf_level0_col3\" class=\"col_heading level0 col3\" >RMSE</th>\n",
       "      <th id=\"T_6d8cf_level0_col4\" class=\"col_heading level0 col4\" >R2</th>\n",
       "      <th id=\"T_6d8cf_level0_col5\" class=\"col_heading level0 col5\" >RMSLE</th>\n",
       "      <th id=\"T_6d8cf_level0_col6\" class=\"col_heading level0 col6\" >MAPE</th>\n",
       "    </tr>\n",
       "  </thead>\n",
       "  <tbody>\n",
       "    <tr>\n",
       "      <th id=\"T_6d8cf_level0_row0\" class=\"row_heading level0 row0\" >0</th>\n",
       "      <td id=\"T_6d8cf_row0_col0\" class=\"data row0 col0\" >Bayesian Ridge</td>\n",
       "      <td id=\"T_6d8cf_row0_col1\" class=\"data row0 col1\" >0.1777</td>\n",
       "      <td id=\"T_6d8cf_row0_col2\" class=\"data row0 col2\" >0.0316</td>\n",
       "      <td id=\"T_6d8cf_row0_col3\" class=\"data row0 col3\" >0.1777</td>\n",
       "      <td id=\"T_6d8cf_row0_col4\" class=\"data row0 col4\" >nan</td>\n",
       "      <td id=\"T_6d8cf_row0_col5\" class=\"data row0 col5\" >0.0062</td>\n",
       "      <td id=\"T_6d8cf_row0_col6\" class=\"data row0 col6\" >0.0064</td>\n",
       "    </tr>\n",
       "  </tbody>\n",
       "</table>\n"
      ],
      "text/plain": [
       "<pandas.io.formats.style.Styler at 0x19bec03c050>"
      ]
     },
     "metadata": {},
     "output_type": "display_data"
    },
    {
     "data": {
      "text/html": [
       "<style type=\"text/css\">\n",
       "</style>\n",
       "<table id=\"T_89bf9\">\n",
       "  <thead>\n",
       "    <tr>\n",
       "      <th class=\"blank level0\" >&nbsp;</th>\n",
       "      <th id=\"T_89bf9_level0_col0\" class=\"col_heading level0 col0\" >Model</th>\n",
       "      <th id=\"T_89bf9_level0_col1\" class=\"col_heading level0 col1\" >MAE</th>\n",
       "      <th id=\"T_89bf9_level0_col2\" class=\"col_heading level0 col2\" >MSE</th>\n",
       "      <th id=\"T_89bf9_level0_col3\" class=\"col_heading level0 col3\" >RMSE</th>\n",
       "      <th id=\"T_89bf9_level0_col4\" class=\"col_heading level0 col4\" >R2</th>\n",
       "      <th id=\"T_89bf9_level0_col5\" class=\"col_heading level0 col5\" >RMSLE</th>\n",
       "      <th id=\"T_89bf9_level0_col6\" class=\"col_heading level0 col6\" >MAPE</th>\n",
       "    </tr>\n",
       "  </thead>\n",
       "  <tbody>\n",
       "    <tr>\n",
       "      <th id=\"T_89bf9_level0_row0\" class=\"row_heading level0 row0\" >0</th>\n",
       "      <td id=\"T_89bf9_row0_col0\" class=\"data row0 col0\" >Bayesian Ridge</td>\n",
       "      <td id=\"T_89bf9_row0_col1\" class=\"data row0 col1\" >0.3229</td>\n",
       "      <td id=\"T_89bf9_row0_col2\" class=\"data row0 col2\" >0.1043</td>\n",
       "      <td id=\"T_89bf9_row0_col3\" class=\"data row0 col3\" >0.3229</td>\n",
       "      <td id=\"T_89bf9_row0_col4\" class=\"data row0 col4\" >nan</td>\n",
       "      <td id=\"T_89bf9_row0_col5\" class=\"data row0 col5\" >0.0111</td>\n",
       "      <td id=\"T_89bf9_row0_col6\" class=\"data row0 col6\" >0.0115</td>\n",
       "    </tr>\n",
       "  </tbody>\n",
       "</table>\n"
      ],
      "text/plain": [
       "<pandas.io.formats.style.Styler at 0x19be4f32710>"
      ]
     },
     "metadata": {},
     "output_type": "display_data"
    },
    {
     "data": {
      "text/html": [
       "<style type=\"text/css\">\n",
       "</style>\n",
       "<table id=\"T_beb95\">\n",
       "  <thead>\n",
       "    <tr>\n",
       "      <th class=\"blank level0\" >&nbsp;</th>\n",
       "      <th id=\"T_beb95_level0_col0\" class=\"col_heading level0 col0\" >Model</th>\n",
       "      <th id=\"T_beb95_level0_col1\" class=\"col_heading level0 col1\" >MAE</th>\n",
       "      <th id=\"T_beb95_level0_col2\" class=\"col_heading level0 col2\" >MSE</th>\n",
       "      <th id=\"T_beb95_level0_col3\" class=\"col_heading level0 col3\" >RMSE</th>\n",
       "      <th id=\"T_beb95_level0_col4\" class=\"col_heading level0 col4\" >R2</th>\n",
       "      <th id=\"T_beb95_level0_col5\" class=\"col_heading level0 col5\" >RMSLE</th>\n",
       "      <th id=\"T_beb95_level0_col6\" class=\"col_heading level0 col6\" >MAPE</th>\n",
       "    </tr>\n",
       "  </thead>\n",
       "  <tbody>\n",
       "    <tr>\n",
       "      <th id=\"T_beb95_level0_row0\" class=\"row_heading level0 row0\" >0</th>\n",
       "      <td id=\"T_beb95_row0_col0\" class=\"data row0 col0\" >Bayesian Ridge</td>\n",
       "      <td id=\"T_beb95_row0_col1\" class=\"data row0 col1\" >0.0579</td>\n",
       "      <td id=\"T_beb95_row0_col2\" class=\"data row0 col2\" >0.0034</td>\n",
       "      <td id=\"T_beb95_row0_col3\" class=\"data row0 col3\" >0.0579</td>\n",
       "      <td id=\"T_beb95_row0_col4\" class=\"data row0 col4\" >nan</td>\n",
       "      <td id=\"T_beb95_row0_col5\" class=\"data row0 col5\" >0.0020</td>\n",
       "      <td id=\"T_beb95_row0_col6\" class=\"data row0 col6\" >0.0021</td>\n",
       "    </tr>\n",
       "  </tbody>\n",
       "</table>\n"
      ],
      "text/plain": [
       "<pandas.io.formats.style.Styler at 0x19be4e9f110>"
      ]
     },
     "metadata": {},
     "output_type": "display_data"
    },
    {
     "data": {
      "text/html": [
       "<style type=\"text/css\">\n",
       "</style>\n",
       "<table id=\"T_8c6b2\">\n",
       "  <thead>\n",
       "    <tr>\n",
       "      <th class=\"blank level0\" >&nbsp;</th>\n",
       "      <th id=\"T_8c6b2_level0_col0\" class=\"col_heading level0 col0\" >Model</th>\n",
       "      <th id=\"T_8c6b2_level0_col1\" class=\"col_heading level0 col1\" >MAE</th>\n",
       "      <th id=\"T_8c6b2_level0_col2\" class=\"col_heading level0 col2\" >MSE</th>\n",
       "      <th id=\"T_8c6b2_level0_col3\" class=\"col_heading level0 col3\" >RMSE</th>\n",
       "      <th id=\"T_8c6b2_level0_col4\" class=\"col_heading level0 col4\" >R2</th>\n",
       "      <th id=\"T_8c6b2_level0_col5\" class=\"col_heading level0 col5\" >RMSLE</th>\n",
       "      <th id=\"T_8c6b2_level0_col6\" class=\"col_heading level0 col6\" >MAPE</th>\n",
       "    </tr>\n",
       "  </thead>\n",
       "  <tbody>\n",
       "    <tr>\n",
       "      <th id=\"T_8c6b2_level0_row0\" class=\"row_heading level0 row0\" >0</th>\n",
       "      <td id=\"T_8c6b2_row0_col0\" class=\"data row0 col0\" >Bayesian Ridge</td>\n",
       "      <td id=\"T_8c6b2_row0_col1\" class=\"data row0 col1\" >1.4023</td>\n",
       "      <td id=\"T_8c6b2_row0_col2\" class=\"data row0 col2\" >1.9663</td>\n",
       "      <td id=\"T_8c6b2_row0_col3\" class=\"data row0 col3\" >1.4023</td>\n",
       "      <td id=\"T_8c6b2_row0_col4\" class=\"data row0 col4\" >nan</td>\n",
       "      <td id=\"T_8c6b2_row0_col5\" class=\"data row0 col5\" >0.0498</td>\n",
       "      <td id=\"T_8c6b2_row0_col6\" class=\"data row0 col6\" >0.0530</td>\n",
       "    </tr>\n",
       "  </tbody>\n",
       "</table>\n"
      ],
      "text/plain": [
       "<pandas.io.formats.style.Styler at 0x19be4fbc8d0>"
      ]
     },
     "metadata": {},
     "output_type": "display_data"
    },
    {
     "data": {
      "text/html": [
       "<style type=\"text/css\">\n",
       "</style>\n",
       "<table id=\"T_79e98\">\n",
       "  <thead>\n",
       "    <tr>\n",
       "      <th class=\"blank level0\" >&nbsp;</th>\n",
       "      <th id=\"T_79e98_level0_col0\" class=\"col_heading level0 col0\" >Model</th>\n",
       "      <th id=\"T_79e98_level0_col1\" class=\"col_heading level0 col1\" >MAE</th>\n",
       "      <th id=\"T_79e98_level0_col2\" class=\"col_heading level0 col2\" >MSE</th>\n",
       "      <th id=\"T_79e98_level0_col3\" class=\"col_heading level0 col3\" >RMSE</th>\n",
       "      <th id=\"T_79e98_level0_col4\" class=\"col_heading level0 col4\" >R2</th>\n",
       "      <th id=\"T_79e98_level0_col5\" class=\"col_heading level0 col5\" >RMSLE</th>\n",
       "      <th id=\"T_79e98_level0_col6\" class=\"col_heading level0 col6\" >MAPE</th>\n",
       "    </tr>\n",
       "  </thead>\n",
       "  <tbody>\n",
       "    <tr>\n",
       "      <th id=\"T_79e98_level0_row0\" class=\"row_heading level0 row0\" >0</th>\n",
       "      <td id=\"T_79e98_row0_col0\" class=\"data row0 col0\" >Bayesian Ridge</td>\n",
       "      <td id=\"T_79e98_row0_col1\" class=\"data row0 col1\" >0.1327</td>\n",
       "      <td id=\"T_79e98_row0_col2\" class=\"data row0 col2\" >0.0176</td>\n",
       "      <td id=\"T_79e98_row0_col3\" class=\"data row0 col3\" >0.1327</td>\n",
       "      <td id=\"T_79e98_row0_col4\" class=\"data row0 col4\" >nan</td>\n",
       "      <td id=\"T_79e98_row0_col5\" class=\"data row0 col5\" >0.0046</td>\n",
       "      <td id=\"T_79e98_row0_col6\" class=\"data row0 col6\" >0.0048</td>\n",
       "    </tr>\n",
       "  </tbody>\n",
       "</table>\n"
      ],
      "text/plain": [
       "<pandas.io.formats.style.Styler at 0x19be4f54590>"
      ]
     },
     "metadata": {},
     "output_type": "display_data"
    },
    {
     "data": {
      "text/html": [
       "<style type=\"text/css\">\n",
       "</style>\n",
       "<table id=\"T_d2f5f\">\n",
       "  <thead>\n",
       "    <tr>\n",
       "      <th class=\"blank level0\" >&nbsp;</th>\n",
       "      <th id=\"T_d2f5f_level0_col0\" class=\"col_heading level0 col0\" >Model</th>\n",
       "      <th id=\"T_d2f5f_level0_col1\" class=\"col_heading level0 col1\" >MAE</th>\n",
       "      <th id=\"T_d2f5f_level0_col2\" class=\"col_heading level0 col2\" >MSE</th>\n",
       "      <th id=\"T_d2f5f_level0_col3\" class=\"col_heading level0 col3\" >RMSE</th>\n",
       "      <th id=\"T_d2f5f_level0_col4\" class=\"col_heading level0 col4\" >R2</th>\n",
       "      <th id=\"T_d2f5f_level0_col5\" class=\"col_heading level0 col5\" >RMSLE</th>\n",
       "      <th id=\"T_d2f5f_level0_col6\" class=\"col_heading level0 col6\" >MAPE</th>\n",
       "    </tr>\n",
       "  </thead>\n",
       "  <tbody>\n",
       "    <tr>\n",
       "      <th id=\"T_d2f5f_level0_row0\" class=\"row_heading level0 row0\" >0</th>\n",
       "      <td id=\"T_d2f5f_row0_col0\" class=\"data row0 col0\" >Bayesian Ridge</td>\n",
       "      <td id=\"T_d2f5f_row0_col1\" class=\"data row0 col1\" >0.6714</td>\n",
       "      <td id=\"T_d2f5f_row0_col2\" class=\"data row0 col2\" >0.4508</td>\n",
       "      <td id=\"T_d2f5f_row0_col3\" class=\"data row0 col3\" >0.6714</td>\n",
       "      <td id=\"T_d2f5f_row0_col4\" class=\"data row0 col4\" >nan</td>\n",
       "      <td id=\"T_d2f5f_row0_col5\" class=\"data row0 col5\" >0.0230</td>\n",
       "      <td id=\"T_d2f5f_row0_col6\" class=\"data row0 col6\" >0.0236</td>\n",
       "    </tr>\n",
       "  </tbody>\n",
       "</table>\n"
      ],
      "text/plain": [
       "<pandas.io.formats.style.Styler at 0x19be4fa31d0>"
      ]
     },
     "metadata": {},
     "output_type": "display_data"
    },
    {
     "data": {
      "text/html": [
       "<style type=\"text/css\">\n",
       "</style>\n",
       "<table id=\"T_2fbf9\">\n",
       "  <thead>\n",
       "    <tr>\n",
       "      <th class=\"blank level0\" >&nbsp;</th>\n",
       "      <th id=\"T_2fbf9_level0_col0\" class=\"col_heading level0 col0\" >Model</th>\n",
       "      <th id=\"T_2fbf9_level0_col1\" class=\"col_heading level0 col1\" >MAE</th>\n",
       "      <th id=\"T_2fbf9_level0_col2\" class=\"col_heading level0 col2\" >MSE</th>\n",
       "      <th id=\"T_2fbf9_level0_col3\" class=\"col_heading level0 col3\" >RMSE</th>\n",
       "      <th id=\"T_2fbf9_level0_col4\" class=\"col_heading level0 col4\" >R2</th>\n",
       "      <th id=\"T_2fbf9_level0_col5\" class=\"col_heading level0 col5\" >RMSLE</th>\n",
       "      <th id=\"T_2fbf9_level0_col6\" class=\"col_heading level0 col6\" >MAPE</th>\n",
       "    </tr>\n",
       "  </thead>\n",
       "  <tbody>\n",
       "    <tr>\n",
       "      <th id=\"T_2fbf9_level0_row0\" class=\"row_heading level0 row0\" >0</th>\n",
       "      <td id=\"T_2fbf9_row0_col0\" class=\"data row0 col0\" >Bayesian Ridge</td>\n",
       "      <td id=\"T_2fbf9_row0_col1\" class=\"data row0 col1\" >0.0452</td>\n",
       "      <td id=\"T_2fbf9_row0_col2\" class=\"data row0 col2\" >0.0020</td>\n",
       "      <td id=\"T_2fbf9_row0_col3\" class=\"data row0 col3\" >0.0452</td>\n",
       "      <td id=\"T_2fbf9_row0_col4\" class=\"data row0 col4\" >nan</td>\n",
       "      <td id=\"T_2fbf9_row0_col5\" class=\"data row0 col5\" >0.0016</td>\n",
       "      <td id=\"T_2fbf9_row0_col6\" class=\"data row0 col6\" >0.0016</td>\n",
       "    </tr>\n",
       "  </tbody>\n",
       "</table>\n"
      ],
      "text/plain": [
       "<pandas.io.formats.style.Styler at 0x19be4ffc050>"
      ]
     },
     "metadata": {},
     "output_type": "display_data"
    },
    {
     "data": {
      "text/html": [
       "<style type=\"text/css\">\n",
       "</style>\n",
       "<table id=\"T_50a44\">\n",
       "  <thead>\n",
       "    <tr>\n",
       "      <th class=\"blank level0\" >&nbsp;</th>\n",
       "      <th id=\"T_50a44_level0_col0\" class=\"col_heading level0 col0\" >Model</th>\n",
       "      <th id=\"T_50a44_level0_col1\" class=\"col_heading level0 col1\" >MAE</th>\n",
       "      <th id=\"T_50a44_level0_col2\" class=\"col_heading level0 col2\" >MSE</th>\n",
       "      <th id=\"T_50a44_level0_col3\" class=\"col_heading level0 col3\" >RMSE</th>\n",
       "      <th id=\"T_50a44_level0_col4\" class=\"col_heading level0 col4\" >R2</th>\n",
       "      <th id=\"T_50a44_level0_col5\" class=\"col_heading level0 col5\" >RMSLE</th>\n",
       "      <th id=\"T_50a44_level0_col6\" class=\"col_heading level0 col6\" >MAPE</th>\n",
       "    </tr>\n",
       "  </thead>\n",
       "  <tbody>\n",
       "    <tr>\n",
       "      <th id=\"T_50a44_level0_row0\" class=\"row_heading level0 row0\" >0</th>\n",
       "      <td id=\"T_50a44_row0_col0\" class=\"data row0 col0\" >Bayesian Ridge</td>\n",
       "      <td id=\"T_50a44_row0_col1\" class=\"data row0 col1\" >0.6340</td>\n",
       "      <td id=\"T_50a44_row0_col2\" class=\"data row0 col2\" >0.4019</td>\n",
       "      <td id=\"T_50a44_row0_col3\" class=\"data row0 col3\" >0.6340</td>\n",
       "      <td id=\"T_50a44_row0_col4\" class=\"data row0 col4\" >nan</td>\n",
       "      <td id=\"T_50a44_row0_col5\" class=\"data row0 col5\" >0.0222</td>\n",
       "      <td id=\"T_50a44_row0_col6\" class=\"data row0 col6\" >0.0233</td>\n",
       "    </tr>\n",
       "  </tbody>\n",
       "</table>\n"
      ],
      "text/plain": [
       "<pandas.io.formats.style.Styler at 0x19be4fbc050>"
      ]
     },
     "metadata": {},
     "output_type": "display_data"
    },
    {
     "data": {
      "text/html": [
       "<style type=\"text/css\">\n",
       "</style>\n",
       "<table id=\"T_4a921\">\n",
       "  <thead>\n",
       "    <tr>\n",
       "      <th class=\"blank level0\" >&nbsp;</th>\n",
       "      <th id=\"T_4a921_level0_col0\" class=\"col_heading level0 col0\" >Model</th>\n",
       "      <th id=\"T_4a921_level0_col1\" class=\"col_heading level0 col1\" >MAE</th>\n",
       "      <th id=\"T_4a921_level0_col2\" class=\"col_heading level0 col2\" >MSE</th>\n",
       "      <th id=\"T_4a921_level0_col3\" class=\"col_heading level0 col3\" >RMSE</th>\n",
       "      <th id=\"T_4a921_level0_col4\" class=\"col_heading level0 col4\" >R2</th>\n",
       "      <th id=\"T_4a921_level0_col5\" class=\"col_heading level0 col5\" >RMSLE</th>\n",
       "      <th id=\"T_4a921_level0_col6\" class=\"col_heading level0 col6\" >MAPE</th>\n",
       "    </tr>\n",
       "  </thead>\n",
       "  <tbody>\n",
       "    <tr>\n",
       "      <th id=\"T_4a921_level0_row0\" class=\"row_heading level0 row0\" >0</th>\n",
       "      <td id=\"T_4a921_row0_col0\" class=\"data row0 col0\" >Bayesian Ridge</td>\n",
       "      <td id=\"T_4a921_row0_col1\" class=\"data row0 col1\" >0.3904</td>\n",
       "      <td id=\"T_4a921_row0_col2\" class=\"data row0 col2\" >0.1524</td>\n",
       "      <td id=\"T_4a921_row0_col3\" class=\"data row0 col3\" >0.3904</td>\n",
       "      <td id=\"T_4a921_row0_col4\" class=\"data row0 col4\" >nan</td>\n",
       "      <td id=\"T_4a921_row0_col5\" class=\"data row0 col5\" >0.0136</td>\n",
       "      <td id=\"T_4a921_row0_col6\" class=\"data row0 col6\" >0.0142</td>\n",
       "    </tr>\n",
       "  </tbody>\n",
       "</table>\n"
      ],
      "text/plain": [
       "<pandas.io.formats.style.Styler at 0x19be4fb2710>"
      ]
     },
     "metadata": {},
     "output_type": "display_data"
    },
    {
     "data": {
      "text/html": [
       "<style type=\"text/css\">\n",
       "</style>\n",
       "<table id=\"T_e214b\">\n",
       "  <thead>\n",
       "    <tr>\n",
       "      <th class=\"blank level0\" >&nbsp;</th>\n",
       "      <th id=\"T_e214b_level0_col0\" class=\"col_heading level0 col0\" >Model</th>\n",
       "      <th id=\"T_e214b_level0_col1\" class=\"col_heading level0 col1\" >MAE</th>\n",
       "      <th id=\"T_e214b_level0_col2\" class=\"col_heading level0 col2\" >MSE</th>\n",
       "      <th id=\"T_e214b_level0_col3\" class=\"col_heading level0 col3\" >RMSE</th>\n",
       "      <th id=\"T_e214b_level0_col4\" class=\"col_heading level0 col4\" >R2</th>\n",
       "      <th id=\"T_e214b_level0_col5\" class=\"col_heading level0 col5\" >RMSLE</th>\n",
       "      <th id=\"T_e214b_level0_col6\" class=\"col_heading level0 col6\" >MAPE</th>\n",
       "    </tr>\n",
       "  </thead>\n",
       "  <tbody>\n",
       "    <tr>\n",
       "      <th id=\"T_e214b_level0_row0\" class=\"row_heading level0 row0\" >0</th>\n",
       "      <td id=\"T_e214b_row0_col0\" class=\"data row0 col0\" >Bayesian Ridge</td>\n",
       "      <td id=\"T_e214b_row0_col1\" class=\"data row0 col1\" >0.5706</td>\n",
       "      <td id=\"T_e214b_row0_col2\" class=\"data row0 col2\" >0.3256</td>\n",
       "      <td id=\"T_e214b_row0_col3\" class=\"data row0 col3\" >0.5706</td>\n",
       "      <td id=\"T_e214b_row0_col4\" class=\"data row0 col4\" >nan</td>\n",
       "      <td id=\"T_e214b_row0_col5\" class=\"data row0 col5\" >0.0199</td>\n",
       "      <td id=\"T_e214b_row0_col6\" class=\"data row0 col6\" >0.0209</td>\n",
       "    </tr>\n",
       "  </tbody>\n",
       "</table>\n"
      ],
      "text/plain": [
       "<pandas.io.formats.style.Styler at 0x19be4eaa710>"
      ]
     },
     "metadata": {},
     "output_type": "display_data"
    },
    {
     "data": {
      "text/html": [
       "<style type=\"text/css\">\n",
       "</style>\n",
       "<table id=\"T_bb983\">\n",
       "  <thead>\n",
       "    <tr>\n",
       "      <th class=\"blank level0\" >&nbsp;</th>\n",
       "      <th id=\"T_bb983_level0_col0\" class=\"col_heading level0 col0\" >Model</th>\n",
       "      <th id=\"T_bb983_level0_col1\" class=\"col_heading level0 col1\" >MAE</th>\n",
       "      <th id=\"T_bb983_level0_col2\" class=\"col_heading level0 col2\" >MSE</th>\n",
       "      <th id=\"T_bb983_level0_col3\" class=\"col_heading level0 col3\" >RMSE</th>\n",
       "      <th id=\"T_bb983_level0_col4\" class=\"col_heading level0 col4\" >R2</th>\n",
       "      <th id=\"T_bb983_level0_col5\" class=\"col_heading level0 col5\" >RMSLE</th>\n",
       "      <th id=\"T_bb983_level0_col6\" class=\"col_heading level0 col6\" >MAPE</th>\n",
       "    </tr>\n",
       "  </thead>\n",
       "  <tbody>\n",
       "    <tr>\n",
       "      <th id=\"T_bb983_level0_row0\" class=\"row_heading level0 row0\" >0</th>\n",
       "      <td id=\"T_bb983_row0_col0\" class=\"data row0 col0\" >Bayesian Ridge</td>\n",
       "      <td id=\"T_bb983_row0_col1\" class=\"data row0 col1\" >1.0671</td>\n",
       "      <td id=\"T_bb983_row0_col2\" class=\"data row0 col2\" >1.1386</td>\n",
       "      <td id=\"T_bb983_row0_col3\" class=\"data row0 col3\" >1.0671</td>\n",
       "      <td id=\"T_bb983_row0_col4\" class=\"data row0 col4\" >nan</td>\n",
       "      <td id=\"T_bb983_row0_col5\" class=\"data row0 col5\" >0.0370</td>\n",
       "      <td id=\"T_bb983_row0_col6\" class=\"data row0 col6\" >0.0391</td>\n",
       "    </tr>\n",
       "  </tbody>\n",
       "</table>\n"
      ],
      "text/plain": [
       "<pandas.io.formats.style.Styler at 0x19be4f57650>"
      ]
     },
     "metadata": {},
     "output_type": "display_data"
    },
    {
     "data": {
      "text/html": [
       "<style type=\"text/css\">\n",
       "</style>\n",
       "<table id=\"T_83101\">\n",
       "  <thead>\n",
       "    <tr>\n",
       "      <th class=\"blank level0\" >&nbsp;</th>\n",
       "      <th id=\"T_83101_level0_col0\" class=\"col_heading level0 col0\" >Model</th>\n",
       "      <th id=\"T_83101_level0_col1\" class=\"col_heading level0 col1\" >MAE</th>\n",
       "      <th id=\"T_83101_level0_col2\" class=\"col_heading level0 col2\" >MSE</th>\n",
       "      <th id=\"T_83101_level0_col3\" class=\"col_heading level0 col3\" >RMSE</th>\n",
       "      <th id=\"T_83101_level0_col4\" class=\"col_heading level0 col4\" >R2</th>\n",
       "      <th id=\"T_83101_level0_col5\" class=\"col_heading level0 col5\" >RMSLE</th>\n",
       "      <th id=\"T_83101_level0_col6\" class=\"col_heading level0 col6\" >MAPE</th>\n",
       "    </tr>\n",
       "  </thead>\n",
       "  <tbody>\n",
       "    <tr>\n",
       "      <th id=\"T_83101_level0_row0\" class=\"row_heading level0 row0\" >0</th>\n",
       "      <td id=\"T_83101_row0_col0\" class=\"data row0 col0\" >Bayesian Ridge</td>\n",
       "      <td id=\"T_83101_row0_col1\" class=\"data row0 col1\" >0.8933</td>\n",
       "      <td id=\"T_83101_row0_col2\" class=\"data row0 col2\" >0.7979</td>\n",
       "      <td id=\"T_83101_row0_col3\" class=\"data row0 col3\" >0.8933</td>\n",
       "      <td id=\"T_83101_row0_col4\" class=\"data row0 col4\" >nan</td>\n",
       "      <td id=\"T_83101_row0_col5\" class=\"data row0 col5\" >0.0307</td>\n",
       "      <td id=\"T_83101_row0_col6\" class=\"data row0 col6\" >0.0323</td>\n",
       "    </tr>\n",
       "  </tbody>\n",
       "</table>\n"
      ],
      "text/plain": [
       "<pandas.io.formats.style.Styler at 0x19be4faa390>"
      ]
     },
     "metadata": {},
     "output_type": "display_data"
    },
    {
     "data": {
      "text/html": [
       "<style type=\"text/css\">\n",
       "</style>\n",
       "<table id=\"T_a6ecd\">\n",
       "  <thead>\n",
       "    <tr>\n",
       "      <th class=\"blank level0\" >&nbsp;</th>\n",
       "      <th id=\"T_a6ecd_level0_col0\" class=\"col_heading level0 col0\" >Model</th>\n",
       "      <th id=\"T_a6ecd_level0_col1\" class=\"col_heading level0 col1\" >MAE</th>\n",
       "      <th id=\"T_a6ecd_level0_col2\" class=\"col_heading level0 col2\" >MSE</th>\n",
       "      <th id=\"T_a6ecd_level0_col3\" class=\"col_heading level0 col3\" >RMSE</th>\n",
       "      <th id=\"T_a6ecd_level0_col4\" class=\"col_heading level0 col4\" >R2</th>\n",
       "      <th id=\"T_a6ecd_level0_col5\" class=\"col_heading level0 col5\" >RMSLE</th>\n",
       "      <th id=\"T_a6ecd_level0_col6\" class=\"col_heading level0 col6\" >MAPE</th>\n",
       "    </tr>\n",
       "  </thead>\n",
       "  <tbody>\n",
       "    <tr>\n",
       "      <th id=\"T_a6ecd_level0_row0\" class=\"row_heading level0 row0\" >0</th>\n",
       "      <td id=\"T_a6ecd_row0_col0\" class=\"data row0 col0\" >Bayesian Ridge</td>\n",
       "      <td id=\"T_a6ecd_row0_col1\" class=\"data row0 col1\" >0.0204</td>\n",
       "      <td id=\"T_a6ecd_row0_col2\" class=\"data row0 col2\" >0.0004</td>\n",
       "      <td id=\"T_a6ecd_row0_col3\" class=\"data row0 col3\" >0.0204</td>\n",
       "      <td id=\"T_a6ecd_row0_col4\" class=\"data row0 col4\" >nan</td>\n",
       "      <td id=\"T_a6ecd_row0_col5\" class=\"data row0 col5\" >0.0007</td>\n",
       "      <td id=\"T_a6ecd_row0_col6\" class=\"data row0 col6\" >0.0007</td>\n",
       "    </tr>\n",
       "  </tbody>\n",
       "</table>\n"
      ],
      "text/plain": [
       "<pandas.io.formats.style.Styler at 0x19bec032710>"
      ]
     },
     "metadata": {},
     "output_type": "display_data"
    },
    {
     "data": {
      "text/html": [
       "<style type=\"text/css\">\n",
       "</style>\n",
       "<table id=\"T_52e40\">\n",
       "  <thead>\n",
       "    <tr>\n",
       "      <th class=\"blank level0\" >&nbsp;</th>\n",
       "      <th id=\"T_52e40_level0_col0\" class=\"col_heading level0 col0\" >Model</th>\n",
       "      <th id=\"T_52e40_level0_col1\" class=\"col_heading level0 col1\" >MAE</th>\n",
       "      <th id=\"T_52e40_level0_col2\" class=\"col_heading level0 col2\" >MSE</th>\n",
       "      <th id=\"T_52e40_level0_col3\" class=\"col_heading level0 col3\" >RMSE</th>\n",
       "      <th id=\"T_52e40_level0_col4\" class=\"col_heading level0 col4\" >R2</th>\n",
       "      <th id=\"T_52e40_level0_col5\" class=\"col_heading level0 col5\" >RMSLE</th>\n",
       "      <th id=\"T_52e40_level0_col6\" class=\"col_heading level0 col6\" >MAPE</th>\n",
       "    </tr>\n",
       "  </thead>\n",
       "  <tbody>\n",
       "    <tr>\n",
       "      <th id=\"T_52e40_level0_row0\" class=\"row_heading level0 row0\" >0</th>\n",
       "      <td id=\"T_52e40_row0_col0\" class=\"data row0 col0\" >Bayesian Ridge</td>\n",
       "      <td id=\"T_52e40_row0_col1\" class=\"data row0 col1\" >0.9906</td>\n",
       "      <td id=\"T_52e40_row0_col2\" class=\"data row0 col2\" >0.9812</td>\n",
       "      <td id=\"T_52e40_row0_col3\" class=\"data row0 col3\" >0.9906</td>\n",
       "      <td id=\"T_52e40_row0_col4\" class=\"data row0 col4\" >nan</td>\n",
       "      <td id=\"T_52e40_row0_col5\" class=\"data row0 col5\" >0.0338</td>\n",
       "      <td id=\"T_52e40_row0_col6\" class=\"data row0 col6\" >0.0357</td>\n",
       "    </tr>\n",
       "  </tbody>\n",
       "</table>\n"
      ],
      "text/plain": [
       "<pandas.io.formats.style.Styler at 0x19be4ec7650>"
      ]
     },
     "metadata": {},
     "output_type": "display_data"
    },
    {
     "data": {
      "text/html": [
       "<style type=\"text/css\">\n",
       "</style>\n",
       "<table id=\"T_0da29\">\n",
       "  <thead>\n",
       "    <tr>\n",
       "      <th class=\"blank level0\" >&nbsp;</th>\n",
       "      <th id=\"T_0da29_level0_col0\" class=\"col_heading level0 col0\" >Model</th>\n",
       "      <th id=\"T_0da29_level0_col1\" class=\"col_heading level0 col1\" >MAE</th>\n",
       "      <th id=\"T_0da29_level0_col2\" class=\"col_heading level0 col2\" >MSE</th>\n",
       "      <th id=\"T_0da29_level0_col3\" class=\"col_heading level0 col3\" >RMSE</th>\n",
       "      <th id=\"T_0da29_level0_col4\" class=\"col_heading level0 col4\" >R2</th>\n",
       "      <th id=\"T_0da29_level0_col5\" class=\"col_heading level0 col5\" >RMSLE</th>\n",
       "      <th id=\"T_0da29_level0_col6\" class=\"col_heading level0 col6\" >MAPE</th>\n",
       "    </tr>\n",
       "  </thead>\n",
       "  <tbody>\n",
       "    <tr>\n",
       "      <th id=\"T_0da29_level0_row0\" class=\"row_heading level0 row0\" >0</th>\n",
       "      <td id=\"T_0da29_row0_col0\" class=\"data row0 col0\" >Bayesian Ridge</td>\n",
       "      <td id=\"T_0da29_row0_col1\" class=\"data row0 col1\" >0.5337</td>\n",
       "      <td id=\"T_0da29_row0_col2\" class=\"data row0 col2\" >0.2849</td>\n",
       "      <td id=\"T_0da29_row0_col3\" class=\"data row0 col3\" >0.5337</td>\n",
       "      <td id=\"T_0da29_row0_col4\" class=\"data row0 col4\" >nan</td>\n",
       "      <td id=\"T_0da29_row0_col5\" class=\"data row0 col5\" >0.0180</td>\n",
       "      <td id=\"T_0da29_row0_col6\" class=\"data row0 col6\" >0.0188</td>\n",
       "    </tr>\n",
       "  </tbody>\n",
       "</table>\n"
      ],
      "text/plain": [
       "<pandas.io.formats.style.Styler at 0x19be4fb31d0>"
      ]
     },
     "metadata": {},
     "output_type": "display_data"
    },
    {
     "data": {
      "text/html": [
       "<style type=\"text/css\">\n",
       "</style>\n",
       "<table id=\"T_29a86\">\n",
       "  <thead>\n",
       "    <tr>\n",
       "      <th class=\"blank level0\" >&nbsp;</th>\n",
       "      <th id=\"T_29a86_level0_col0\" class=\"col_heading level0 col0\" >Model</th>\n",
       "      <th id=\"T_29a86_level0_col1\" class=\"col_heading level0 col1\" >MAE</th>\n",
       "      <th id=\"T_29a86_level0_col2\" class=\"col_heading level0 col2\" >MSE</th>\n",
       "      <th id=\"T_29a86_level0_col3\" class=\"col_heading level0 col3\" >RMSE</th>\n",
       "      <th id=\"T_29a86_level0_col4\" class=\"col_heading level0 col4\" >R2</th>\n",
       "      <th id=\"T_29a86_level0_col5\" class=\"col_heading level0 col5\" >RMSLE</th>\n",
       "      <th id=\"T_29a86_level0_col6\" class=\"col_heading level0 col6\" >MAPE</th>\n",
       "    </tr>\n",
       "  </thead>\n",
       "  <tbody>\n",
       "    <tr>\n",
       "      <th id=\"T_29a86_level0_row0\" class=\"row_heading level0 row0\" >0</th>\n",
       "      <td id=\"T_29a86_row0_col0\" class=\"data row0 col0\" >Bayesian Ridge</td>\n",
       "      <td id=\"T_29a86_row0_col1\" class=\"data row0 col1\" >0.3758</td>\n",
       "      <td id=\"T_29a86_row0_col2\" class=\"data row0 col2\" >0.1413</td>\n",
       "      <td id=\"T_29a86_row0_col3\" class=\"data row0 col3\" >0.3758</td>\n",
       "      <td id=\"T_29a86_row0_col4\" class=\"data row0 col4\" >nan</td>\n",
       "      <td id=\"T_29a86_row0_col5\" class=\"data row0 col5\" >0.0126</td>\n",
       "      <td id=\"T_29a86_row0_col6\" class=\"data row0 col6\" >0.0132</td>\n",
       "    </tr>\n",
       "  </tbody>\n",
       "</table>\n"
      ],
      "text/plain": [
       "<pandas.io.formats.style.Styler at 0x19baf027650>"
      ]
     },
     "metadata": {},
     "output_type": "display_data"
    },
    {
     "data": {
      "text/html": [
       "<style type=\"text/css\">\n",
       "</style>\n",
       "<table id=\"T_e0a0d\">\n",
       "  <thead>\n",
       "    <tr>\n",
       "      <th class=\"blank level0\" >&nbsp;</th>\n",
       "      <th id=\"T_e0a0d_level0_col0\" class=\"col_heading level0 col0\" >Model</th>\n",
       "      <th id=\"T_e0a0d_level0_col1\" class=\"col_heading level0 col1\" >MAE</th>\n",
       "      <th id=\"T_e0a0d_level0_col2\" class=\"col_heading level0 col2\" >MSE</th>\n",
       "      <th id=\"T_e0a0d_level0_col3\" class=\"col_heading level0 col3\" >RMSE</th>\n",
       "      <th id=\"T_e0a0d_level0_col4\" class=\"col_heading level0 col4\" >R2</th>\n",
       "      <th id=\"T_e0a0d_level0_col5\" class=\"col_heading level0 col5\" >RMSLE</th>\n",
       "      <th id=\"T_e0a0d_level0_col6\" class=\"col_heading level0 col6\" >MAPE</th>\n",
       "    </tr>\n",
       "  </thead>\n",
       "  <tbody>\n",
       "    <tr>\n",
       "      <th id=\"T_e0a0d_level0_row0\" class=\"row_heading level0 row0\" >0</th>\n",
       "      <td id=\"T_e0a0d_row0_col0\" class=\"data row0 col0\" >Bayesian Ridge</td>\n",
       "      <td id=\"T_e0a0d_row0_col1\" class=\"data row0 col1\" >0.7800</td>\n",
       "      <td id=\"T_e0a0d_row0_col2\" class=\"data row0 col2\" >0.6083</td>\n",
       "      <td id=\"T_e0a0d_row0_col3\" class=\"data row0 col3\" >0.7800</td>\n",
       "      <td id=\"T_e0a0d_row0_col4\" class=\"data row0 col4\" >nan</td>\n",
       "      <td id=\"T_e0a0d_row0_col5\" class=\"data row0 col5\" >0.0263</td>\n",
       "      <td id=\"T_e0a0d_row0_col6\" class=\"data row0 col6\" >0.0276</td>\n",
       "    </tr>\n",
       "  </tbody>\n",
       "</table>\n"
      ],
      "text/plain": [
       "<pandas.io.formats.style.Styler at 0x19be272c8d0>"
      ]
     },
     "metadata": {},
     "output_type": "display_data"
    },
    {
     "data": {
      "text/html": [
       "<style type=\"text/css\">\n",
       "</style>\n",
       "<table id=\"T_6f6bd\">\n",
       "  <thead>\n",
       "    <tr>\n",
       "      <th class=\"blank level0\" >&nbsp;</th>\n",
       "      <th id=\"T_6f6bd_level0_col0\" class=\"col_heading level0 col0\" >Model</th>\n",
       "      <th id=\"T_6f6bd_level0_col1\" class=\"col_heading level0 col1\" >MAE</th>\n",
       "      <th id=\"T_6f6bd_level0_col2\" class=\"col_heading level0 col2\" >MSE</th>\n",
       "      <th id=\"T_6f6bd_level0_col3\" class=\"col_heading level0 col3\" >RMSE</th>\n",
       "      <th id=\"T_6f6bd_level0_col4\" class=\"col_heading level0 col4\" >R2</th>\n",
       "      <th id=\"T_6f6bd_level0_col5\" class=\"col_heading level0 col5\" >RMSLE</th>\n",
       "      <th id=\"T_6f6bd_level0_col6\" class=\"col_heading level0 col6\" >MAPE</th>\n",
       "    </tr>\n",
       "  </thead>\n",
       "  <tbody>\n",
       "    <tr>\n",
       "      <th id=\"T_6f6bd_level0_row0\" class=\"row_heading level0 row0\" >0</th>\n",
       "      <td id=\"T_6f6bd_row0_col0\" class=\"data row0 col0\" >Bayesian Ridge</td>\n",
       "      <td id=\"T_6f6bd_row0_col1\" class=\"data row0 col1\" >0.7196</td>\n",
       "      <td id=\"T_6f6bd_row0_col2\" class=\"data row0 col2\" >0.5178</td>\n",
       "      <td id=\"T_6f6bd_row0_col3\" class=\"data row0 col3\" >0.7196</td>\n",
       "      <td id=\"T_6f6bd_row0_col4\" class=\"data row0 col4\" >nan</td>\n",
       "      <td id=\"T_6f6bd_row0_col5\" class=\"data row0 col5\" >0.0242</td>\n",
       "      <td id=\"T_6f6bd_row0_col6\" class=\"data row0 col6\" >0.0253</td>\n",
       "    </tr>\n",
       "  </tbody>\n",
       "</table>\n"
      ],
      "text/plain": [
       "<pandas.io.formats.style.Styler at 0x19be4f08b90>"
      ]
     },
     "metadata": {},
     "output_type": "display_data"
    },
    {
     "data": {
      "text/html": [
       "<style type=\"text/css\">\n",
       "</style>\n",
       "<table id=\"T_20a52\">\n",
       "  <thead>\n",
       "    <tr>\n",
       "      <th class=\"blank level0\" >&nbsp;</th>\n",
       "      <th id=\"T_20a52_level0_col0\" class=\"col_heading level0 col0\" >Model</th>\n",
       "      <th id=\"T_20a52_level0_col1\" class=\"col_heading level0 col1\" >MAE</th>\n",
       "      <th id=\"T_20a52_level0_col2\" class=\"col_heading level0 col2\" >MSE</th>\n",
       "      <th id=\"T_20a52_level0_col3\" class=\"col_heading level0 col3\" >RMSE</th>\n",
       "      <th id=\"T_20a52_level0_col4\" class=\"col_heading level0 col4\" >R2</th>\n",
       "      <th id=\"T_20a52_level0_col5\" class=\"col_heading level0 col5\" >RMSLE</th>\n",
       "      <th id=\"T_20a52_level0_col6\" class=\"col_heading level0 col6\" >MAPE</th>\n",
       "    </tr>\n",
       "  </thead>\n",
       "  <tbody>\n",
       "    <tr>\n",
       "      <th id=\"T_20a52_level0_row0\" class=\"row_heading level0 row0\" >0</th>\n",
       "      <td id=\"T_20a52_row0_col0\" class=\"data row0 col0\" >Bayesian Ridge</td>\n",
       "      <td id=\"T_20a52_row0_col1\" class=\"data row0 col1\" >0.7846</td>\n",
       "      <td id=\"T_20a52_row0_col2\" class=\"data row0 col2\" >0.6156</td>\n",
       "      <td id=\"T_20a52_row0_col3\" class=\"data row0 col3\" >0.7846</td>\n",
       "      <td id=\"T_20a52_row0_col4\" class=\"data row0 col4\" >nan</td>\n",
       "      <td id=\"T_20a52_row0_col5\" class=\"data row0 col5\" >0.0264</td>\n",
       "      <td id=\"T_20a52_row0_col6\" class=\"data row0 col6\" >0.0277</td>\n",
       "    </tr>\n",
       "  </tbody>\n",
       "</table>\n"
      ],
      "text/plain": [
       "<pandas.io.formats.style.Styler at 0x19be4ee0310>"
      ]
     },
     "metadata": {},
     "output_type": "display_data"
    },
    {
     "data": {
      "text/html": [
       "<style type=\"text/css\">\n",
       "</style>\n",
       "<table id=\"T_10471\">\n",
       "  <thead>\n",
       "    <tr>\n",
       "      <th class=\"blank level0\" >&nbsp;</th>\n",
       "      <th id=\"T_10471_level0_col0\" class=\"col_heading level0 col0\" >Model</th>\n",
       "      <th id=\"T_10471_level0_col1\" class=\"col_heading level0 col1\" >MAE</th>\n",
       "      <th id=\"T_10471_level0_col2\" class=\"col_heading level0 col2\" >MSE</th>\n",
       "      <th id=\"T_10471_level0_col3\" class=\"col_heading level0 col3\" >RMSE</th>\n",
       "      <th id=\"T_10471_level0_col4\" class=\"col_heading level0 col4\" >R2</th>\n",
       "      <th id=\"T_10471_level0_col5\" class=\"col_heading level0 col5\" >RMSLE</th>\n",
       "      <th id=\"T_10471_level0_col6\" class=\"col_heading level0 col6\" >MAPE</th>\n",
       "    </tr>\n",
       "  </thead>\n",
       "  <tbody>\n",
       "    <tr>\n",
       "      <th id=\"T_10471_level0_row0\" class=\"row_heading level0 row0\" >0</th>\n",
       "      <td id=\"T_10471_row0_col0\" class=\"data row0 col0\" >Bayesian Ridge</td>\n",
       "      <td id=\"T_10471_row0_col1\" class=\"data row0 col1\" >0.8502</td>\n",
       "      <td id=\"T_10471_row0_col2\" class=\"data row0 col2\" >0.7229</td>\n",
       "      <td id=\"T_10471_row0_col3\" class=\"data row0 col3\" >0.8502</td>\n",
       "      <td id=\"T_10471_row0_col4\" class=\"data row0 col4\" >nan</td>\n",
       "      <td id=\"T_10471_row0_col5\" class=\"data row0 col5\" >0.0287</td>\n",
       "      <td id=\"T_10471_row0_col6\" class=\"data row0 col6\" >0.0301</td>\n",
       "    </tr>\n",
       "  </tbody>\n",
       "</table>\n"
      ],
      "text/plain": [
       "<pandas.io.formats.style.Styler at 0x19be4faa710>"
      ]
     },
     "metadata": {},
     "output_type": "display_data"
    },
    {
     "data": {
      "text/html": [
       "<style type=\"text/css\">\n",
       "</style>\n",
       "<table id=\"T_ef5ab\">\n",
       "  <thead>\n",
       "    <tr>\n",
       "      <th class=\"blank level0\" >&nbsp;</th>\n",
       "      <th id=\"T_ef5ab_level0_col0\" class=\"col_heading level0 col0\" >Model</th>\n",
       "      <th id=\"T_ef5ab_level0_col1\" class=\"col_heading level0 col1\" >MAE</th>\n",
       "      <th id=\"T_ef5ab_level0_col2\" class=\"col_heading level0 col2\" >MSE</th>\n",
       "      <th id=\"T_ef5ab_level0_col3\" class=\"col_heading level0 col3\" >RMSE</th>\n",
       "      <th id=\"T_ef5ab_level0_col4\" class=\"col_heading level0 col4\" >R2</th>\n",
       "      <th id=\"T_ef5ab_level0_col5\" class=\"col_heading level0 col5\" >RMSLE</th>\n",
       "      <th id=\"T_ef5ab_level0_col6\" class=\"col_heading level0 col6\" >MAPE</th>\n",
       "    </tr>\n",
       "  </thead>\n",
       "  <tbody>\n",
       "    <tr>\n",
       "      <th id=\"T_ef5ab_level0_row0\" class=\"row_heading level0 row0\" >0</th>\n",
       "      <td id=\"T_ef5ab_row0_col0\" class=\"data row0 col0\" >Bayesian Ridge</td>\n",
       "      <td id=\"T_ef5ab_row0_col1\" class=\"data row0 col1\" >0.4617</td>\n",
       "      <td id=\"T_ef5ab_row0_col2\" class=\"data row0 col2\" >0.2131</td>\n",
       "      <td id=\"T_ef5ab_row0_col3\" class=\"data row0 col3\" >0.4617</td>\n",
       "      <td id=\"T_ef5ab_row0_col4\" class=\"data row0 col4\" >nan</td>\n",
       "      <td id=\"T_ef5ab_row0_col5\" class=\"data row0 col5\" >0.0154</td>\n",
       "      <td id=\"T_ef5ab_row0_col6\" class=\"data row0 col6\" >0.0161</td>\n",
       "    </tr>\n",
       "  </tbody>\n",
       "</table>\n"
      ],
      "text/plain": [
       "<pandas.io.formats.style.Styler at 0x19bec031b50>"
      ]
     },
     "metadata": {},
     "output_type": "display_data"
    },
    {
     "name": "stdout",
     "output_type": "stream",
     "text": [
      "Processing model: LinearRegression\n"
     ]
    },
    {
     "data": {
      "text/html": [
       "<style type=\"text/css\">\n",
       "</style>\n",
       "<table id=\"T_c9162\">\n",
       "  <thead>\n",
       "    <tr>\n",
       "      <th class=\"blank level0\" >&nbsp;</th>\n",
       "      <th id=\"T_c9162_level0_col0\" class=\"col_heading level0 col0\" >Model</th>\n",
       "      <th id=\"T_c9162_level0_col1\" class=\"col_heading level0 col1\" >MAE</th>\n",
       "      <th id=\"T_c9162_level0_col2\" class=\"col_heading level0 col2\" >MSE</th>\n",
       "      <th id=\"T_c9162_level0_col3\" class=\"col_heading level0 col3\" >RMSE</th>\n",
       "      <th id=\"T_c9162_level0_col4\" class=\"col_heading level0 col4\" >R2</th>\n",
       "      <th id=\"T_c9162_level0_col5\" class=\"col_heading level0 col5\" >RMSLE</th>\n",
       "      <th id=\"T_c9162_level0_col6\" class=\"col_heading level0 col6\" >MAPE</th>\n",
       "    </tr>\n",
       "  </thead>\n",
       "  <tbody>\n",
       "    <tr>\n",
       "      <th id=\"T_c9162_level0_row0\" class=\"row_heading level0 row0\" >0</th>\n",
       "      <td id=\"T_c9162_row0_col0\" class=\"data row0 col0\" >Linear Regression</td>\n",
       "      <td id=\"T_c9162_row0_col1\" class=\"data row0 col1\" >1.1261</td>\n",
       "      <td id=\"T_c9162_row0_col2\" class=\"data row0 col2\" >1.2682</td>\n",
       "      <td id=\"T_c9162_row0_col3\" class=\"data row0 col3\" >1.1261</td>\n",
       "      <td id=\"T_c9162_row0_col4\" class=\"data row0 col4\" >nan</td>\n",
       "      <td id=\"T_c9162_row0_col5\" class=\"data row0 col5\" >0.0409</td>\n",
       "      <td id=\"T_c9162_row0_col6\" class=\"data row0 col6\" >0.0433</td>\n",
       "    </tr>\n",
       "  </tbody>\n",
       "</table>\n"
      ],
      "text/plain": [
       "<pandas.io.formats.style.Styler at 0x19be4e22710>"
      ]
     },
     "metadata": {},
     "output_type": "display_data"
    },
    {
     "data": {
      "text/html": [
       "<style type=\"text/css\">\n",
       "</style>\n",
       "<table id=\"T_0d32a\">\n",
       "  <thead>\n",
       "    <tr>\n",
       "      <th class=\"blank level0\" >&nbsp;</th>\n",
       "      <th id=\"T_0d32a_level0_col0\" class=\"col_heading level0 col0\" >Model</th>\n",
       "      <th id=\"T_0d32a_level0_col1\" class=\"col_heading level0 col1\" >MAE</th>\n",
       "      <th id=\"T_0d32a_level0_col2\" class=\"col_heading level0 col2\" >MSE</th>\n",
       "      <th id=\"T_0d32a_level0_col3\" class=\"col_heading level0 col3\" >RMSE</th>\n",
       "      <th id=\"T_0d32a_level0_col4\" class=\"col_heading level0 col4\" >R2</th>\n",
       "      <th id=\"T_0d32a_level0_col5\" class=\"col_heading level0 col5\" >RMSLE</th>\n",
       "      <th id=\"T_0d32a_level0_col6\" class=\"col_heading level0 col6\" >MAPE</th>\n",
       "    </tr>\n",
       "  </thead>\n",
       "  <tbody>\n",
       "    <tr>\n",
       "      <th id=\"T_0d32a_level0_row0\" class=\"row_heading level0 row0\" >0</th>\n",
       "      <td id=\"T_0d32a_row0_col0\" class=\"data row0 col0\" >Linear Regression</td>\n",
       "      <td id=\"T_0d32a_row0_col1\" class=\"data row0 col1\" >0.6219</td>\n",
       "      <td id=\"T_0d32a_row0_col2\" class=\"data row0 col2\" >0.3867</td>\n",
       "      <td id=\"T_0d32a_row0_col3\" class=\"data row0 col3\" >0.6219</td>\n",
       "      <td id=\"T_0d32a_row0_col4\" class=\"data row0 col4\" >nan</td>\n",
       "      <td id=\"T_0d32a_row0_col5\" class=\"data row0 col5\" >0.0221</td>\n",
       "      <td id=\"T_0d32a_row0_col6\" class=\"data row0 col6\" >0.0232</td>\n",
       "    </tr>\n",
       "  </tbody>\n",
       "</table>\n"
      ],
      "text/plain": [
       "<pandas.io.formats.style.Styler at 0x19be4fcdf10>"
      ]
     },
     "metadata": {},
     "output_type": "display_data"
    },
    {
     "data": {
      "text/html": [
       "<style type=\"text/css\">\n",
       "</style>\n",
       "<table id=\"T_6da12\">\n",
       "  <thead>\n",
       "    <tr>\n",
       "      <th class=\"blank level0\" >&nbsp;</th>\n",
       "      <th id=\"T_6da12_level0_col0\" class=\"col_heading level0 col0\" >Model</th>\n",
       "      <th id=\"T_6da12_level0_col1\" class=\"col_heading level0 col1\" >MAE</th>\n",
       "      <th id=\"T_6da12_level0_col2\" class=\"col_heading level0 col2\" >MSE</th>\n",
       "      <th id=\"T_6da12_level0_col3\" class=\"col_heading level0 col3\" >RMSE</th>\n",
       "      <th id=\"T_6da12_level0_col4\" class=\"col_heading level0 col4\" >R2</th>\n",
       "      <th id=\"T_6da12_level0_col5\" class=\"col_heading level0 col5\" >RMSLE</th>\n",
       "      <th id=\"T_6da12_level0_col6\" class=\"col_heading level0 col6\" >MAPE</th>\n",
       "    </tr>\n",
       "  </thead>\n",
       "  <tbody>\n",
       "    <tr>\n",
       "      <th id=\"T_6da12_level0_row0\" class=\"row_heading level0 row0\" >0</th>\n",
       "      <td id=\"T_6da12_row0_col0\" class=\"data row0 col0\" >Linear Regression</td>\n",
       "      <td id=\"T_6da12_row0_col1\" class=\"data row0 col1\" >0.5590</td>\n",
       "      <td id=\"T_6da12_row0_col2\" class=\"data row0 col2\" >0.3125</td>\n",
       "      <td id=\"T_6da12_row0_col3\" class=\"data row0 col3\" >0.5590</td>\n",
       "      <td id=\"T_6da12_row0_col4\" class=\"data row0 col4\" >nan</td>\n",
       "      <td id=\"T_6da12_row0_col5\" class=\"data row0 col5\" >0.0197</td>\n",
       "      <td id=\"T_6da12_row0_col6\" class=\"data row0 col6\" >0.0206</td>\n",
       "    </tr>\n",
       "  </tbody>\n",
       "</table>\n"
      ],
      "text/plain": [
       "<pandas.io.formats.style.Styler at 0x19be4f8c150>"
      ]
     },
     "metadata": {},
     "output_type": "display_data"
    },
    {
     "data": {
      "text/html": [
       "<style type=\"text/css\">\n",
       "</style>\n",
       "<table id=\"T_fb3bd\">\n",
       "  <thead>\n",
       "    <tr>\n",
       "      <th class=\"blank level0\" >&nbsp;</th>\n",
       "      <th id=\"T_fb3bd_level0_col0\" class=\"col_heading level0 col0\" >Model</th>\n",
       "      <th id=\"T_fb3bd_level0_col1\" class=\"col_heading level0 col1\" >MAE</th>\n",
       "      <th id=\"T_fb3bd_level0_col2\" class=\"col_heading level0 col2\" >MSE</th>\n",
       "      <th id=\"T_fb3bd_level0_col3\" class=\"col_heading level0 col3\" >RMSE</th>\n",
       "      <th id=\"T_fb3bd_level0_col4\" class=\"col_heading level0 col4\" >R2</th>\n",
       "      <th id=\"T_fb3bd_level0_col5\" class=\"col_heading level0 col5\" >RMSLE</th>\n",
       "      <th id=\"T_fb3bd_level0_col6\" class=\"col_heading level0 col6\" >MAPE</th>\n",
       "    </tr>\n",
       "  </thead>\n",
       "  <tbody>\n",
       "    <tr>\n",
       "      <th id=\"T_fb3bd_level0_row0\" class=\"row_heading level0 row0\" >0</th>\n",
       "      <td id=\"T_fb3bd_row0_col0\" class=\"data row0 col0\" >Linear Regression</td>\n",
       "      <td id=\"T_fb3bd_row0_col1\" class=\"data row0 col1\" >3.2940</td>\n",
       "      <td id=\"T_fb3bd_row0_col2\" class=\"data row0 col2\" >10.8507</td>\n",
       "      <td id=\"T_fb3bd_row0_col3\" class=\"data row0 col3\" >3.2940</td>\n",
       "      <td id=\"T_fb3bd_row0_col4\" class=\"data row0 col4\" >nan</td>\n",
       "      <td id=\"T_fb3bd_row0_col5\" class=\"data row0 col5\" >0.1193</td>\n",
       "      <td id=\"T_fb3bd_row0_col6\" class=\"data row0 col6\" >0.1318</td>\n",
       "    </tr>\n",
       "  </tbody>\n",
       "</table>\n"
      ],
      "text/plain": [
       "<pandas.io.formats.style.Styler at 0x19be4e74050>"
      ]
     },
     "metadata": {},
     "output_type": "display_data"
    },
    {
     "data": {
      "text/html": [
       "<style type=\"text/css\">\n",
       "</style>\n",
       "<table id=\"T_376aa\">\n",
       "  <thead>\n",
       "    <tr>\n",
       "      <th class=\"blank level0\" >&nbsp;</th>\n",
       "      <th id=\"T_376aa_level0_col0\" class=\"col_heading level0 col0\" >Model</th>\n",
       "      <th id=\"T_376aa_level0_col1\" class=\"col_heading level0 col1\" >MAE</th>\n",
       "      <th id=\"T_376aa_level0_col2\" class=\"col_heading level0 col2\" >MSE</th>\n",
       "      <th id=\"T_376aa_level0_col3\" class=\"col_heading level0 col3\" >RMSE</th>\n",
       "      <th id=\"T_376aa_level0_col4\" class=\"col_heading level0 col4\" >R2</th>\n",
       "      <th id=\"T_376aa_level0_col5\" class=\"col_heading level0 col5\" >RMSLE</th>\n",
       "      <th id=\"T_376aa_level0_col6\" class=\"col_heading level0 col6\" >MAPE</th>\n",
       "    </tr>\n",
       "  </thead>\n",
       "  <tbody>\n",
       "    <tr>\n",
       "      <th id=\"T_376aa_level0_row0\" class=\"row_heading level0 row0\" >0</th>\n",
       "      <td id=\"T_376aa_row0_col0\" class=\"data row0 col0\" >Linear Regression</td>\n",
       "      <td id=\"T_376aa_row0_col1\" class=\"data row0 col1\" >0.8227</td>\n",
       "      <td id=\"T_376aa_row0_col2\" class=\"data row0 col2\" >0.6768</td>\n",
       "      <td id=\"T_376aa_row0_col3\" class=\"data row0 col3\" >0.8227</td>\n",
       "      <td id=\"T_376aa_row0_col4\" class=\"data row0 col4\" >nan</td>\n",
       "      <td id=\"T_376aa_row0_col5\" class=\"data row0 col5\" >0.0287</td>\n",
       "      <td id=\"T_376aa_row0_col6\" class=\"data row0 col6\" >0.0302</td>\n",
       "    </tr>\n",
       "  </tbody>\n",
       "</table>\n"
      ],
      "text/plain": [
       "<pandas.io.formats.style.Styler at 0x19be4e231d0>"
      ]
     },
     "metadata": {},
     "output_type": "display_data"
    },
    {
     "data": {
      "text/html": [
       "<style type=\"text/css\">\n",
       "</style>\n",
       "<table id=\"T_6f122\">\n",
       "  <thead>\n",
       "    <tr>\n",
       "      <th class=\"blank level0\" >&nbsp;</th>\n",
       "      <th id=\"T_6f122_level0_col0\" class=\"col_heading level0 col0\" >Model</th>\n",
       "      <th id=\"T_6f122_level0_col1\" class=\"col_heading level0 col1\" >MAE</th>\n",
       "      <th id=\"T_6f122_level0_col2\" class=\"col_heading level0 col2\" >MSE</th>\n",
       "      <th id=\"T_6f122_level0_col3\" class=\"col_heading level0 col3\" >RMSE</th>\n",
       "      <th id=\"T_6f122_level0_col4\" class=\"col_heading level0 col4\" >R2</th>\n",
       "      <th id=\"T_6f122_level0_col5\" class=\"col_heading level0 col5\" >RMSLE</th>\n",
       "      <th id=\"T_6f122_level0_col6\" class=\"col_heading level0 col6\" >MAPE</th>\n",
       "    </tr>\n",
       "  </thead>\n",
       "  <tbody>\n",
       "    <tr>\n",
       "      <th id=\"T_6f122_level0_row0\" class=\"row_heading level0 row0\" >0</th>\n",
       "      <td id=\"T_6f122_row0_col0\" class=\"data row0 col0\" >Linear Regression</td>\n",
       "      <td id=\"T_6f122_row0_col1\" class=\"data row0 col1\" >1.1257</td>\n",
       "      <td id=\"T_6f122_row0_col2\" class=\"data row0 col2\" >1.2672</td>\n",
       "      <td id=\"T_6f122_row0_col3\" class=\"data row0 col3\" >1.1257</td>\n",
       "      <td id=\"T_6f122_row0_col4\" class=\"data row0 col4\" >nan</td>\n",
       "      <td id=\"T_6f122_row0_col5\" class=\"data row0 col5\" >0.0396</td>\n",
       "      <td id=\"T_6f122_row0_col6\" class=\"data row0 col6\" >0.0420</td>\n",
       "    </tr>\n",
       "  </tbody>\n",
       "</table>\n"
      ],
      "text/plain": [
       "<pandas.io.formats.style.Styler at 0x19be4ea0910>"
      ]
     },
     "metadata": {},
     "output_type": "display_data"
    },
    {
     "data": {
      "text/html": [
       "<style type=\"text/css\">\n",
       "</style>\n",
       "<table id=\"T_2b52e\">\n",
       "  <thead>\n",
       "    <tr>\n",
       "      <th class=\"blank level0\" >&nbsp;</th>\n",
       "      <th id=\"T_2b52e_level0_col0\" class=\"col_heading level0 col0\" >Model</th>\n",
       "      <th id=\"T_2b52e_level0_col1\" class=\"col_heading level0 col1\" >MAE</th>\n",
       "      <th id=\"T_2b52e_level0_col2\" class=\"col_heading level0 col2\" >MSE</th>\n",
       "      <th id=\"T_2b52e_level0_col3\" class=\"col_heading level0 col3\" >RMSE</th>\n",
       "      <th id=\"T_2b52e_level0_col4\" class=\"col_heading level0 col4\" >R2</th>\n",
       "      <th id=\"T_2b52e_level0_col5\" class=\"col_heading level0 col5\" >RMSLE</th>\n",
       "      <th id=\"T_2b52e_level0_col6\" class=\"col_heading level0 col6\" >MAPE</th>\n",
       "    </tr>\n",
       "  </thead>\n",
       "  <tbody>\n",
       "    <tr>\n",
       "      <th id=\"T_2b52e_level0_row0\" class=\"row_heading level0 row0\" >0</th>\n",
       "      <td id=\"T_2b52e_row0_col0\" class=\"data row0 col0\" >Linear Regression</td>\n",
       "      <td id=\"T_2b52e_row0_col1\" class=\"data row0 col1\" >2.6540</td>\n",
       "      <td id=\"T_2b52e_row0_col2\" class=\"data row0 col2\" >7.0436</td>\n",
       "      <td id=\"T_2b52e_row0_col3\" class=\"data row0 col3\" >2.6540</td>\n",
       "      <td id=\"T_2b52e_row0_col4\" class=\"data row0 col4\" >nan</td>\n",
       "      <td id=\"T_2b52e_row0_col5\" class=\"data row0 col5\" >0.0951</td>\n",
       "      <td id=\"T_2b52e_row0_col6\" class=\"data row0 col6\" >0.1037</td>\n",
       "    </tr>\n",
       "  </tbody>\n",
       "</table>\n"
      ],
      "text/plain": [
       "<pandas.io.formats.style.Styler at 0x19bec172710>"
      ]
     },
     "metadata": {},
     "output_type": "display_data"
    },
    {
     "data": {
      "text/html": [
       "<style type=\"text/css\">\n",
       "</style>\n",
       "<table id=\"T_6e74e\">\n",
       "  <thead>\n",
       "    <tr>\n",
       "      <th class=\"blank level0\" >&nbsp;</th>\n",
       "      <th id=\"T_6e74e_level0_col0\" class=\"col_heading level0 col0\" >Model</th>\n",
       "      <th id=\"T_6e74e_level0_col1\" class=\"col_heading level0 col1\" >MAE</th>\n",
       "      <th id=\"T_6e74e_level0_col2\" class=\"col_heading level0 col2\" >MSE</th>\n",
       "      <th id=\"T_6e74e_level0_col3\" class=\"col_heading level0 col3\" >RMSE</th>\n",
       "      <th id=\"T_6e74e_level0_col4\" class=\"col_heading level0 col4\" >R2</th>\n",
       "      <th id=\"T_6e74e_level0_col5\" class=\"col_heading level0 col5\" >RMSLE</th>\n",
       "      <th id=\"T_6e74e_level0_col6\" class=\"col_heading level0 col6\" >MAPE</th>\n",
       "    </tr>\n",
       "  </thead>\n",
       "  <tbody>\n",
       "    <tr>\n",
       "      <th id=\"T_6e74e_level0_row0\" class=\"row_heading level0 row0\" >0</th>\n",
       "      <td id=\"T_6e74e_row0_col0\" class=\"data row0 col0\" >Linear Regression</td>\n",
       "      <td id=\"T_6e74e_row0_col1\" class=\"data row0 col1\" >1.7123</td>\n",
       "      <td id=\"T_6e74e_row0_col2\" class=\"data row0 col2\" >2.9321</td>\n",
       "      <td id=\"T_6e74e_row0_col3\" class=\"data row0 col3\" >1.7123</td>\n",
       "      <td id=\"T_6e74e_row0_col4\" class=\"data row0 col4\" >nan</td>\n",
       "      <td id=\"T_6e74e_row0_col5\" class=\"data row0 col5\" >0.0607</td>\n",
       "      <td id=\"T_6e74e_row0_col6\" class=\"data row0 col6\" >0.0650</td>\n",
       "    </tr>\n",
       "  </tbody>\n",
       "</table>\n"
      ],
      "text/plain": [
       "<pandas.io.formats.style.Styler at 0x19be4eaa710>"
      ]
     },
     "metadata": {},
     "output_type": "display_data"
    },
    {
     "data": {
      "text/html": [
       "<style type=\"text/css\">\n",
       "</style>\n",
       "<table id=\"T_243fa\">\n",
       "  <thead>\n",
       "    <tr>\n",
       "      <th class=\"blank level0\" >&nbsp;</th>\n",
       "      <th id=\"T_243fa_level0_col0\" class=\"col_heading level0 col0\" >Model</th>\n",
       "      <th id=\"T_243fa_level0_col1\" class=\"col_heading level0 col1\" >MAE</th>\n",
       "      <th id=\"T_243fa_level0_col2\" class=\"col_heading level0 col2\" >MSE</th>\n",
       "      <th id=\"T_243fa_level0_col3\" class=\"col_heading level0 col3\" >RMSE</th>\n",
       "      <th id=\"T_243fa_level0_col4\" class=\"col_heading level0 col4\" >R2</th>\n",
       "      <th id=\"T_243fa_level0_col5\" class=\"col_heading level0 col5\" >RMSLE</th>\n",
       "      <th id=\"T_243fa_level0_col6\" class=\"col_heading level0 col6\" >MAPE</th>\n",
       "    </tr>\n",
       "  </thead>\n",
       "  <tbody>\n",
       "    <tr>\n",
       "      <th id=\"T_243fa_level0_row0\" class=\"row_heading level0 row0\" >0</th>\n",
       "      <td id=\"T_243fa_row0_col0\" class=\"data row0 col0\" >Linear Regression</td>\n",
       "      <td id=\"T_243fa_row0_col1\" class=\"data row0 col1\" >0.1748</td>\n",
       "      <td id=\"T_243fa_row0_col2\" class=\"data row0 col2\" >0.0305</td>\n",
       "      <td id=\"T_243fa_row0_col3\" class=\"data row0 col3\" >0.1748</td>\n",
       "      <td id=\"T_243fa_row0_col4\" class=\"data row0 col4\" >nan</td>\n",
       "      <td id=\"T_243fa_row0_col5\" class=\"data row0 col5\" >0.0060</td>\n",
       "      <td id=\"T_243fa_row0_col6\" class=\"data row0 col6\" >0.0062</td>\n",
       "    </tr>\n",
       "  </tbody>\n",
       "</table>\n"
      ],
      "text/plain": [
       "<pandas.io.formats.style.Styler at 0x19be4f0a710>"
      ]
     },
     "metadata": {},
     "output_type": "display_data"
    },
    {
     "data": {
      "text/html": [],
      "text/plain": [
       "<IPython.core.display.HTML object>"
      ]
     },
     "metadata": {},
     "output_type": "display_data"
    },
    {
     "ename": "KeyboardInterrupt",
     "evalue": "",
     "output_type": "error",
     "traceback": [
      "\u001b[1;31m---------------------------------------------------------------------------\u001b[0m",
      "\u001b[1;31mKeyboardInterrupt\u001b[0m                         Traceback (most recent call last)",
      "Cell \u001b[1;32mIn[63], line 47\u001b[0m\n\u001b[0;32m     44\u001b[0m test_1 \u001b[38;5;241m=\u001b[39m test_1\u001b[38;5;241m.\u001b[39mdropna()\n\u001b[0;32m     46\u001b[0m \u001b[38;5;66;03m# ทำนายค่า\u001b[39;00m\n\u001b[1;32m---> 47\u001b[0m predict_test_1 \u001b[38;5;241m=\u001b[39m \u001b[43mexp1\u001b[49m\u001b[38;5;241;43m.\u001b[39;49m\u001b[43mpredict_model\u001b[49m\u001b[43m(\u001b[49m\u001b[43mmodel\u001b[49m\u001b[43m,\u001b[49m\u001b[43m \u001b[49m\u001b[43mdata\u001b[49m\u001b[38;5;241;43m=\u001b[39;49m\u001b[43mtest_1\u001b[49m\u001b[43m)\u001b[49m\n\u001b[0;32m     49\u001b[0m \u001b[38;5;66;03m# อัปเดต data_compare\u001b[39;00m\n\u001b[0;32m     50\u001b[0m predict_test_1\u001b[38;5;241m.\u001b[39mindex \u001b[38;5;241m=\u001b[39m [date]  \u001b[38;5;66;03m# กำหนด index เป็นวันที่พยากรณ์\u001b[39;00m\n",
      "File \u001b[1;32md:\\Normal File\\Coder\\MINI_PROJECT_1-2\\pycaret_venv\\Lib\\site-packages\\pycaret\\regression\\oop.py:2188\u001b[0m, in \u001b[0;36mRegressionExperiment.predict_model\u001b[1;34m(self, estimator, data, round, verbose)\u001b[0m\n\u001b[0;32m   2134\u001b[0m \u001b[38;5;28;01mdef\u001b[39;00m\u001b[38;5;250m \u001b[39m\u001b[38;5;21mpredict_model\u001b[39m(\n\u001b[0;32m   2135\u001b[0m     \u001b[38;5;28mself\u001b[39m,\n\u001b[0;32m   2136\u001b[0m     estimator,\n\u001b[1;32m   (...)\u001b[0m\n\u001b[0;32m   2139\u001b[0m     verbose: \u001b[38;5;28mbool\u001b[39m \u001b[38;5;241m=\u001b[39m \u001b[38;5;28;01mTrue\u001b[39;00m,\n\u001b[0;32m   2140\u001b[0m ) \u001b[38;5;241m-\u001b[39m\u001b[38;5;241m>\u001b[39m pd\u001b[38;5;241m.\u001b[39mDataFrame:\n\u001b[0;32m   2141\u001b[0m \u001b[38;5;250m    \u001b[39m\u001b[38;5;124;03m\"\"\"\u001b[39;00m\n\u001b[0;32m   2142\u001b[0m \u001b[38;5;124;03m    This function predicts ``Label`` using a trained model. When ``data`` is\u001b[39;00m\n\u001b[0;32m   2143\u001b[0m \u001b[38;5;124;03m    None, it predicts label on the holdout set.\u001b[39;00m\n\u001b[1;32m   (...)\u001b[0m\n\u001b[0;32m   2185\u001b[0m \n\u001b[0;32m   2186\u001b[0m \u001b[38;5;124;03m    \"\"\"\u001b[39;00m\n\u001b[1;32m-> 2188\u001b[0m     \u001b[38;5;28;01mreturn\u001b[39;00m \u001b[38;5;28;43msuper\u001b[39;49m\u001b[43m(\u001b[49m\u001b[43m)\u001b[49m\u001b[38;5;241;43m.\u001b[39;49m\u001b[43mpredict_model\u001b[49m\u001b[43m(\u001b[49m\n\u001b[0;32m   2189\u001b[0m \u001b[43m        \u001b[49m\u001b[43mestimator\u001b[49m\u001b[38;5;241;43m=\u001b[39;49m\u001b[43mestimator\u001b[49m\u001b[43m,\u001b[49m\n\u001b[0;32m   2190\u001b[0m \u001b[43m        \u001b[49m\u001b[43mdata\u001b[49m\u001b[38;5;241;43m=\u001b[39;49m\u001b[43mdata\u001b[49m\u001b[43m,\u001b[49m\n\u001b[0;32m   2191\u001b[0m \u001b[43m        \u001b[49m\u001b[43mprobability_threshold\u001b[49m\u001b[38;5;241;43m=\u001b[39;49m\u001b[38;5;28;43;01mNone\u001b[39;49;00m\u001b[43m,\u001b[49m\n\u001b[0;32m   2192\u001b[0m \u001b[43m        \u001b[49m\u001b[43mencoded_labels\u001b[49m\u001b[38;5;241;43m=\u001b[39;49m\u001b[38;5;28;43;01mFalse\u001b[39;49;00m\u001b[43m,\u001b[49m\n\u001b[0;32m   2193\u001b[0m \u001b[43m        \u001b[49m\u001b[38;5;28;43mround\u001b[39;49m\u001b[38;5;241;43m=\u001b[39;49m\u001b[38;5;28;43mround\u001b[39;49m\u001b[43m,\u001b[49m\n\u001b[0;32m   2194\u001b[0m \u001b[43m        \u001b[49m\u001b[43mverbose\u001b[49m\u001b[38;5;241;43m=\u001b[39;49m\u001b[43mverbose\u001b[49m\u001b[43m,\u001b[49m\n\u001b[0;32m   2195\u001b[0m \u001b[43m    \u001b[49m\u001b[43m)\u001b[49m\n",
      "File \u001b[1;32md:\\Normal File\\Coder\\MINI_PROJECT_1-2\\pycaret_venv\\Lib\\site-packages\\pycaret\\internal\\pycaret_experiment\\supervised_experiment.py:4952\u001b[0m, in \u001b[0;36m_SupervisedExperiment.predict_model\u001b[1;34m(self, estimator, data, probability_threshold, encoded_labels, raw_score, round, verbose, ml_usecase, preprocess)\u001b[0m\n\u001b[0;32m   4950\u001b[0m \u001b[38;5;28;01melse\u001b[39;00m:\n\u001b[0;32m   4951\u001b[0m     \u001b[38;5;28;01mif\u001b[39;00m y_name \u001b[38;5;129;01min\u001b[39;00m data\u001b[38;5;241m.\u001b[39mcolumns:\n\u001b[1;32m-> 4952\u001b[0m         data \u001b[38;5;241m=\u001b[39m \u001b[38;5;28;43mself\u001b[39;49m\u001b[38;5;241;43m.\u001b[39;49m\u001b[43m_set_index\u001b[49m\u001b[43m(\u001b[49m\u001b[38;5;28;43mself\u001b[39;49m\u001b[38;5;241;43m.\u001b[39;49m\u001b[43m_prepare_dataset\u001b[49m\u001b[43m(\u001b[49m\u001b[43mdata\u001b[49m\u001b[43m,\u001b[49m\u001b[43m \u001b[49m\u001b[43my_name\u001b[49m\u001b[43m)\u001b[49m\u001b[43m)\u001b[49m\n\u001b[0;32m   4953\u001b[0m         target \u001b[38;5;241m=\u001b[39m data[y_name]\n\u001b[0;32m   4954\u001b[0m         data \u001b[38;5;241m=\u001b[39m data\u001b[38;5;241m.\u001b[39mdrop(y_name, axis\u001b[38;5;241m=\u001b[39m\u001b[38;5;241m1\u001b[39m)\n",
      "File \u001b[1;32md:\\Normal File\\Coder\\MINI_PROJECT_1-2\\pycaret_venv\\Lib\\site-packages\\pycaret\\internal\\preprocess\\preprocessor.py:176\u001b[0m, in \u001b[0;36mPreprocessor._set_index\u001b[1;34m(self, df)\u001b[0m\n\u001b[0;32m    174\u001b[0m \u001b[38;5;28;01mdef\u001b[39;00m\u001b[38;5;250m \u001b[39m\u001b[38;5;21m_set_index\u001b[39m(\u001b[38;5;28mself\u001b[39m, df):\n\u001b[0;32m    175\u001b[0m \u001b[38;5;250m    \u001b[39m\u001b[38;5;124;03m\"\"\"Assign an index to the dataframe.\"\"\"\u001b[39;00m\n\u001b[1;32m--> 176\u001b[0m     \u001b[38;5;28;43mself\u001b[39;49m\u001b[38;5;241;43m.\u001b[39;49m\u001b[43mlogger\u001b[49m\u001b[38;5;241;43m.\u001b[39;49m\u001b[43minfo\u001b[49m\u001b[43m(\u001b[49m\u001b[38;5;124;43m\"\u001b[39;49m\u001b[38;5;124;43mSet up index.\u001b[39;49m\u001b[38;5;124;43m\"\u001b[39;49m\u001b[43m)\u001b[49m\n\u001b[0;32m    178\u001b[0m     target \u001b[38;5;241m=\u001b[39m df\u001b[38;5;241m.\u001b[39mcolumns[\u001b[38;5;241m-\u001b[39m\u001b[38;5;241m1\u001b[39m]\n\u001b[0;32m    180\u001b[0m     \u001b[38;5;28;01mif\u001b[39;00m \u001b[38;5;28mgetattr\u001b[39m(\u001b[38;5;28mself\u001b[39m, \u001b[38;5;124m\"\u001b[39m\u001b[38;5;124mindex\u001b[39m\u001b[38;5;124m\"\u001b[39m, \u001b[38;5;28;01mTrue\u001b[39;00m) \u001b[38;5;129;01mis\u001b[39;00m \u001b[38;5;28;01mTrue\u001b[39;00m:  \u001b[38;5;66;03m# True gets caught by isinstance(int)\u001b[39;00m\n",
      "File \u001b[1;32mC:\\Program Files\\WindowsApps\\PythonSoftwareFoundation.Python.3.11_3.11.2544.0_x64__qbz5n2kfra8p0\\Lib\\logging\\__init__.py:1489\u001b[0m, in \u001b[0;36mLogger.info\u001b[1;34m(self, msg, *args, **kwargs)\u001b[0m\n\u001b[0;32m   1480\u001b[0m \u001b[38;5;250m\u001b[39m\u001b[38;5;124;03m\"\"\"\u001b[39;00m\n\u001b[0;32m   1481\u001b[0m \u001b[38;5;124;03mLog 'msg % args' with severity 'INFO'.\u001b[39;00m\n\u001b[0;32m   1482\u001b[0m \n\u001b[1;32m   (...)\u001b[0m\n\u001b[0;32m   1486\u001b[0m \u001b[38;5;124;03mlogger.info(\"Houston, we have a %s\", \"interesting problem\", exc_info=True)\u001b[39;00m\n\u001b[0;32m   1487\u001b[0m \u001b[38;5;124;03m\"\"\"\u001b[39;00m\n\u001b[0;32m   1488\u001b[0m \u001b[38;5;28;01mif\u001b[39;00m \u001b[38;5;28mself\u001b[39m\u001b[38;5;241m.\u001b[39misEnabledFor(INFO):\n\u001b[1;32m-> 1489\u001b[0m     \u001b[38;5;28;43mself\u001b[39;49m\u001b[38;5;241;43m.\u001b[39;49m\u001b[43m_log\u001b[49m\u001b[43m(\u001b[49m\u001b[43mINFO\u001b[49m\u001b[43m,\u001b[49m\u001b[43m \u001b[49m\u001b[43mmsg\u001b[49m\u001b[43m,\u001b[49m\u001b[43m \u001b[49m\u001b[43margs\u001b[49m\u001b[43m,\u001b[49m\u001b[43m \u001b[49m\u001b[38;5;241;43m*\u001b[39;49m\u001b[38;5;241;43m*\u001b[39;49m\u001b[43mkwargs\u001b[49m\u001b[43m)\u001b[49m\n",
      "File \u001b[1;32mC:\\Program Files\\WindowsApps\\PythonSoftwareFoundation.Python.3.11_3.11.2544.0_x64__qbz5n2kfra8p0\\Lib\\logging\\__init__.py:1634\u001b[0m, in \u001b[0;36mLogger._log\u001b[1;34m(self, level, msg, args, exc_info, extra, stack_info, stacklevel)\u001b[0m\n\u001b[0;32m   1631\u001b[0m         exc_info \u001b[38;5;241m=\u001b[39m sys\u001b[38;5;241m.\u001b[39mexc_info()\n\u001b[0;32m   1632\u001b[0m record \u001b[38;5;241m=\u001b[39m \u001b[38;5;28mself\u001b[39m\u001b[38;5;241m.\u001b[39mmakeRecord(\u001b[38;5;28mself\u001b[39m\u001b[38;5;241m.\u001b[39mname, level, fn, lno, msg, args,\n\u001b[0;32m   1633\u001b[0m                          exc_info, func, extra, sinfo)\n\u001b[1;32m-> 1634\u001b[0m \u001b[38;5;28;43mself\u001b[39;49m\u001b[38;5;241;43m.\u001b[39;49m\u001b[43mhandle\u001b[49m\u001b[43m(\u001b[49m\u001b[43mrecord\u001b[49m\u001b[43m)\u001b[49m\n",
      "File \u001b[1;32mC:\\Program Files\\WindowsApps\\PythonSoftwareFoundation.Python.3.11_3.11.2544.0_x64__qbz5n2kfra8p0\\Lib\\logging\\__init__.py:1644\u001b[0m, in \u001b[0;36mLogger.handle\u001b[1;34m(self, record)\u001b[0m\n\u001b[0;32m   1637\u001b[0m \u001b[38;5;250m\u001b[39m\u001b[38;5;124;03m\"\"\"\u001b[39;00m\n\u001b[0;32m   1638\u001b[0m \u001b[38;5;124;03mCall the handlers for the specified record.\u001b[39;00m\n\u001b[0;32m   1639\u001b[0m \n\u001b[0;32m   1640\u001b[0m \u001b[38;5;124;03mThis method is used for unpickled records received from a socket, as\u001b[39;00m\n\u001b[0;32m   1641\u001b[0m \u001b[38;5;124;03mwell as those created locally. Logger-level filtering is applied.\u001b[39;00m\n\u001b[0;32m   1642\u001b[0m \u001b[38;5;124;03m\"\"\"\u001b[39;00m\n\u001b[0;32m   1643\u001b[0m \u001b[38;5;28;01mif\u001b[39;00m (\u001b[38;5;129;01mnot\u001b[39;00m \u001b[38;5;28mself\u001b[39m\u001b[38;5;241m.\u001b[39mdisabled) \u001b[38;5;129;01mand\u001b[39;00m \u001b[38;5;28mself\u001b[39m\u001b[38;5;241m.\u001b[39mfilter(record):\n\u001b[1;32m-> 1644\u001b[0m     \u001b[38;5;28;43mself\u001b[39;49m\u001b[38;5;241;43m.\u001b[39;49m\u001b[43mcallHandlers\u001b[49m\u001b[43m(\u001b[49m\u001b[43mrecord\u001b[49m\u001b[43m)\u001b[49m\n",
      "File \u001b[1;32mC:\\Program Files\\WindowsApps\\PythonSoftwareFoundation.Python.3.11_3.11.2544.0_x64__qbz5n2kfra8p0\\Lib\\logging\\__init__.py:1706\u001b[0m, in \u001b[0;36mLogger.callHandlers\u001b[1;34m(self, record)\u001b[0m\n\u001b[0;32m   1704\u001b[0m     found \u001b[38;5;241m=\u001b[39m found \u001b[38;5;241m+\u001b[39m \u001b[38;5;241m1\u001b[39m\n\u001b[0;32m   1705\u001b[0m     \u001b[38;5;28;01mif\u001b[39;00m record\u001b[38;5;241m.\u001b[39mlevelno \u001b[38;5;241m>\u001b[39m\u001b[38;5;241m=\u001b[39m hdlr\u001b[38;5;241m.\u001b[39mlevel:\n\u001b[1;32m-> 1706\u001b[0m         \u001b[43mhdlr\u001b[49m\u001b[38;5;241;43m.\u001b[39;49m\u001b[43mhandle\u001b[49m\u001b[43m(\u001b[49m\u001b[43mrecord\u001b[49m\u001b[43m)\u001b[49m\n\u001b[0;32m   1707\u001b[0m \u001b[38;5;28;01mif\u001b[39;00m \u001b[38;5;129;01mnot\u001b[39;00m c\u001b[38;5;241m.\u001b[39mpropagate:\n\u001b[0;32m   1708\u001b[0m     c \u001b[38;5;241m=\u001b[39m \u001b[38;5;28;01mNone\u001b[39;00m    \u001b[38;5;66;03m#break out\u001b[39;00m\n",
      "File \u001b[1;32mC:\\Program Files\\WindowsApps\\PythonSoftwareFoundation.Python.3.11_3.11.2544.0_x64__qbz5n2kfra8p0\\Lib\\logging\\__init__.py:978\u001b[0m, in \u001b[0;36mHandler.handle\u001b[1;34m(self, record)\u001b[0m\n\u001b[0;32m    976\u001b[0m \u001b[38;5;28mself\u001b[39m\u001b[38;5;241m.\u001b[39macquire()\n\u001b[0;32m    977\u001b[0m \u001b[38;5;28;01mtry\u001b[39;00m:\n\u001b[1;32m--> 978\u001b[0m     \u001b[38;5;28;43mself\u001b[39;49m\u001b[38;5;241;43m.\u001b[39;49m\u001b[43memit\u001b[49m\u001b[43m(\u001b[49m\u001b[43mrecord\u001b[49m\u001b[43m)\u001b[49m\n\u001b[0;32m    979\u001b[0m \u001b[38;5;28;01mfinally\u001b[39;00m:\n\u001b[0;32m    980\u001b[0m     \u001b[38;5;28mself\u001b[39m\u001b[38;5;241m.\u001b[39mrelease()\n",
      "File \u001b[1;32mC:\\Program Files\\WindowsApps\\PythonSoftwareFoundation.Python.3.11_3.11.2544.0_x64__qbz5n2kfra8p0\\Lib\\logging\\__init__.py:1230\u001b[0m, in \u001b[0;36mFileHandler.emit\u001b[1;34m(self, record)\u001b[0m\n\u001b[0;32m   1228\u001b[0m         \u001b[38;5;28mself\u001b[39m\u001b[38;5;241m.\u001b[39mstream \u001b[38;5;241m=\u001b[39m \u001b[38;5;28mself\u001b[39m\u001b[38;5;241m.\u001b[39m_open()\n\u001b[0;32m   1229\u001b[0m \u001b[38;5;28;01mif\u001b[39;00m \u001b[38;5;28mself\u001b[39m\u001b[38;5;241m.\u001b[39mstream:\n\u001b[1;32m-> 1230\u001b[0m     \u001b[43mStreamHandler\u001b[49m\u001b[38;5;241;43m.\u001b[39;49m\u001b[43memit\u001b[49m\u001b[43m(\u001b[49m\u001b[38;5;28;43mself\u001b[39;49m\u001b[43m,\u001b[49m\u001b[43m \u001b[49m\u001b[43mrecord\u001b[49m\u001b[43m)\u001b[49m\n",
      "File \u001b[1;32mC:\\Program Files\\WindowsApps\\PythonSoftwareFoundation.Python.3.11_3.11.2544.0_x64__qbz5n2kfra8p0\\Lib\\logging\\__init__.py:1114\u001b[0m, in \u001b[0;36mStreamHandler.emit\u001b[1;34m(self, record)\u001b[0m\n\u001b[0;32m   1112\u001b[0m     \u001b[38;5;66;03m# issue 35046: merged two stream.writes into one.\u001b[39;00m\n\u001b[0;32m   1113\u001b[0m     stream\u001b[38;5;241m.\u001b[39mwrite(msg \u001b[38;5;241m+\u001b[39m \u001b[38;5;28mself\u001b[39m\u001b[38;5;241m.\u001b[39mterminator)\n\u001b[1;32m-> 1114\u001b[0m     \u001b[38;5;28;43mself\u001b[39;49m\u001b[38;5;241;43m.\u001b[39;49m\u001b[43mflush\u001b[49m\u001b[43m(\u001b[49m\u001b[43m)\u001b[49m\n\u001b[0;32m   1115\u001b[0m \u001b[38;5;28;01mexcept\u001b[39;00m \u001b[38;5;167;01mRecursionError\u001b[39;00m:  \u001b[38;5;66;03m# See issue 36272\u001b[39;00m\n\u001b[0;32m   1116\u001b[0m     \u001b[38;5;28;01mraise\u001b[39;00m\n",
      "File \u001b[1;32mC:\\Program Files\\WindowsApps\\PythonSoftwareFoundation.Python.3.11_3.11.2544.0_x64__qbz5n2kfra8p0\\Lib\\logging\\__init__.py:1094\u001b[0m, in \u001b[0;36mStreamHandler.flush\u001b[1;34m(self)\u001b[0m\n\u001b[0;32m   1092\u001b[0m \u001b[38;5;28;01mtry\u001b[39;00m:\n\u001b[0;32m   1093\u001b[0m     \u001b[38;5;28;01mif\u001b[39;00m \u001b[38;5;28mself\u001b[39m\u001b[38;5;241m.\u001b[39mstream \u001b[38;5;129;01mand\u001b[39;00m \u001b[38;5;28mhasattr\u001b[39m(\u001b[38;5;28mself\u001b[39m\u001b[38;5;241m.\u001b[39mstream, \u001b[38;5;124m\"\u001b[39m\u001b[38;5;124mflush\u001b[39m\u001b[38;5;124m\"\u001b[39m):\n\u001b[1;32m-> 1094\u001b[0m         \u001b[38;5;28mself\u001b[39m\u001b[38;5;241m.\u001b[39mstream\u001b[38;5;241m.\u001b[39mflush()\n\u001b[0;32m   1095\u001b[0m \u001b[38;5;28;01mfinally\u001b[39;00m:\n\u001b[0;32m   1096\u001b[0m     \u001b[38;5;28mself\u001b[39m\u001b[38;5;241m.\u001b[39mrelease()\n",
      "\u001b[1;31mKeyboardInterrupt\u001b[0m: "
     ]
    }
   ],
   "source": [
    "import pandas as pd\n",
    "import matplotlib.pyplot as plt\n",
    "\n",
    "# แปลง index เป็น datetime และลบเวลาออก\n",
    "x = data_filtered.copy()\n",
    "x.index = pd.to_datetime(x.index).normalize()\n",
    "\n",
    "# เก็บผลลัพธ์ของแต่ละโมเดล\n",
    "result_dict = {}\n",
    "\n",
    "# รายชื่อโมเดลทั้งหมดจาก best_list\n",
    "model_names = {model.__class__.__name__: model for model in best}\n",
    "\n",
    "start_date = \"2025-01-13\"\n",
    "end_date = \"2025-02-11\"\n",
    "\n",
    "# วนลูปผ่านทุกโมเดล\n",
    "for model_name, model in model_names.items():\n",
    "    print(f\"Processing model: {model_name}\")\n",
    "\n",
    "    data_compare = x.loc[:'2025-01-12'].copy()  # ใช้ copy() ป้องกัน Warning\n",
    "    result = pd.DataFrame()\n",
    "\n",
    "    for date in pd.date_range(start=start_date, end=end_date, freq=\"D\"):\n",
    "        # ลบเวลาออกจากวันที่\n",
    "        date = pd.to_datetime(date).normalize()  # ลบเวลาออกจากตัวแปร date\n",
    "\n",
    "        # ตรวจสอบว่าใน x มีข้อมูลในวันที่นี้หรือไม่\n",
    "        if date not in x.index:\n",
    "            print(f\"⚠️ Warning: Date {date} not found in x index.\")\n",
    "            continue\n",
    "\n",
    "        # ดึงข้อมูลของวันที่ต้องการ\n",
    "        test_1 = x.loc[[date]].copy()\n",
    "\n",
    "        # ใส่เข้าไป\n",
    "        data_compare = pd.concat([data_compare, test_1], axis=0)\n",
    "\n",
    "        # เพิ่ม lag feature\n",
    "        for i in range(1, lag_size + 1):\n",
    "            test_1[f'temperature_lag_{i}'] = data_compare['temperature'].shift(i).iloc[-1]\n",
    "\n",
    "        # ลบค่า NaN ที่เกิดจากการ shift\n",
    "        test_1 = test_1.dropna()\n",
    "\n",
    "        # ทำนายค่า\n",
    "        predict_test_1 = exp1.predict_model(model, data=test_1)\n",
    "\n",
    "        # อัปเดต data_compare\n",
    "        predict_test_1.index = [date]  # กำหนด index เป็นวันที่พยากรณ์\n",
    "        data_compare.loc[date, 'temperature'] = predict_test_1['prediction_label'].values[0]\n",
    "\n",
    "        # บันทึกผลลัพธ์\n",
    "        result = pd.concat([result, predict_test_1], axis=0)\n",
    "\n",
    "    # บันทึกผลลัพธ์ของโมเดลนี้ลง dict\n",
    "    result_dict[model_name] = result\n",
    "\n",
    "# --------------------------------------------\n",
    "# พล็อตกราฟเปรียบเทียบทุกโมเดล\n",
    "# --------------------------------------------\n",
    "real_data = x.loc[start_date:end_date]\n",
    "\n",
    "# วนลูปพล็อตกราฟทีละโมเดล\n",
    "for model_name, result in result_dict.items():\n",
    "    plt.figure(figsize=(12, 6))\n",
    "    \n",
    "    result_plot = pd.concat([result['prediction_label'].shift(-1), real_data['temperature']], axis=1)\n",
    "    result_plot.columns = ['Predictions', 'Actual TEMP']\n",
    "\n",
    "    plt.plot(result_plot.index, result_plot['Predictions'], label=f\"Predicted ({model_name})\")\n",
    "    plt.plot(real_data.index, real_data['temperature'], label=\"Actual TEMP\", color=\"black\", linewidth=2)\n",
    "    \n",
    "    # ตั้งค่ากราฟ\n",
    "    plt.title(f'Predictions vs Actual TEMP for {model_name}')\n",
    "    plt.xlabel('Date')\n",
    "    plt.ylabel('TEMP Values')\n",
    "    plt.legend()\n",
    "\n",
    "    # แสดงกราฟ\n",
    "    plt.show()"
   ]
  },
  {
   "cell_type": "code",
   "execution_count": null,
   "metadata": {},
   "outputs": [
    {
     "name": "stdout",
     "output_type": "stream",
     "text": [
      "\n",
      "📊 Model Performance Metrics:\n",
      "Model: BayesianRidge\n",
      "R² Score: -0.1825\n",
      "Mean Absolute Error (MAE): 0.8012\n",
      "Root Mean Squared Error (RMSE): 0.9964\n",
      "Mean Absolute Percentage Error (MAPE): 2.98%\n",
      "Accuracy: 97.02%\n",
      "--------------------------------------------------\n",
      "\n",
      "📊 Model Performance Metrics:\n",
      "Model: LinearRegression\n",
      "R² Score: -0.9267\n",
      "Mean Absolute Error (MAE): 1.0830\n",
      "Root Mean Squared Error (RMSE): 1.2719\n",
      "Mean Absolute Percentage Error (MAPE): 4.01%\n",
      "Accuracy: 95.99%\n",
      "--------------------------------------------------\n",
      "\n",
      "📊 Model Performance Metrics:\n",
      "Model: Ridge\n",
      "R² Score: 0.1173\n",
      "Mean Absolute Error (MAE): 0.6980\n",
      "Root Mean Squared Error (RMSE): 0.8609\n",
      "Mean Absolute Percentage Error (MAPE): 2.58%\n",
      "Accuracy: 97.42%\n",
      "--------------------------------------------------\n",
      "\n",
      "📊 Model Performance Metrics:\n",
      "Model: ExtraTreesRegressor\n",
      "R² Score: -0.1375\n",
      "Mean Absolute Error (MAE): 0.6746\n",
      "Root Mean Squared Error (RMSE): 0.9772\n",
      "Mean Absolute Percentage Error (MAPE): 2.54%\n",
      "Accuracy: 97.46%\n",
      "--------------------------------------------------\n",
      "\n",
      "📊 Model Performance Metrics:\n",
      "Model: RandomForestRegressor\n",
      "R² Score: 0.1011\n",
      "Mean Absolute Error (MAE): 0.6574\n",
      "Root Mean Squared Error (RMSE): 0.8687\n",
      "Mean Absolute Percentage Error (MAPE): 2.45%\n",
      "Accuracy: 97.55%\n",
      "--------------------------------------------------\n",
      "\n",
      "📊 Model Performance Metrics:\n",
      "Model: AdaBoostRegressor\n",
      "R² Score: 0.0403\n",
      "Mean Absolute Error (MAE): 0.6810\n",
      "Root Mean Squared Error (RMSE): 0.8976\n",
      "Mean Absolute Percentage Error (MAPE): 2.54%\n",
      "Accuracy: 97.46%\n",
      "--------------------------------------------------\n",
      "\n",
      "📊 Model Performance Metrics:\n",
      "Model: HuberRegressor\n",
      "R² Score: 0.0249\n",
      "Mean Absolute Error (MAE): 0.7275\n",
      "Root Mean Squared Error (RMSE): 0.9048\n",
      "Mean Absolute Percentage Error (MAPE): 2.69%\n",
      "Accuracy: 97.31%\n",
      "--------------------------------------------------\n",
      "\n",
      "📊 Model Performance Metrics:\n",
      "Model: OrthogonalMatchingPursuit\n",
      "R² Score: -4.2471\n",
      "Mean Absolute Error (MAE): 1.9402\n",
      "Root Mean Squared Error (RMSE): 2.0989\n",
      "Mean Absolute Percentage Error (MAPE): 7.15%\n",
      "Accuracy: 92.85%\n",
      "--------------------------------------------------\n",
      "\n",
      "📊 Model Performance Metrics:\n",
      "Model: LGBMRegressor\n",
      "R² Score: 0.0924\n",
      "Mean Absolute Error (MAE): 0.6858\n",
      "Root Mean Squared Error (RMSE): 0.8729\n",
      "Mean Absolute Percentage Error (MAPE): 2.54%\n",
      "Accuracy: 97.46%\n",
      "--------------------------------------------------\n",
      "\n",
      "📊 Model Performance Metrics:\n",
      "Model: GradientBoostingRegressor\n",
      "R² Score: 0.1180\n",
      "Mean Absolute Error (MAE): 0.6844\n",
      "Root Mean Squared Error (RMSE): 0.8605\n",
      "Mean Absolute Percentage Error (MAPE): 2.55%\n",
      "Accuracy: 97.45%\n",
      "--------------------------------------------------\n",
      "\n",
      "📊 Model Performance Metrics:\n",
      "Model: Lars\n",
      "R² Score: -0.5111\n",
      "Mean Absolute Error (MAE): 0.9830\n",
      "Root Mean Squared Error (RMSE): 1.1263\n",
      "Mean Absolute Percentage Error (MAPE): 3.55%\n",
      "Accuracy: 96.45%\n",
      "--------------------------------------------------\n",
      "\n",
      "📊 Model Performance Metrics:\n",
      "Model: KNeighborsRegressor\n",
      "R² Score: -0.3255\n",
      "Mean Absolute Error (MAE): 0.8541\n",
      "Root Mean Squared Error (RMSE): 1.0549\n",
      "Mean Absolute Percentage Error (MAPE): 3.16%\n",
      "Accuracy: 96.84%\n",
      "--------------------------------------------------\n",
      "\n",
      "📊 Model Performance Metrics:\n",
      "Model: ElasticNet\n",
      "R² Score: -4.4878\n",
      "Mean Absolute Error (MAE): 1.9525\n",
      "Root Mean Squared Error (RMSE): 2.1465\n",
      "Mean Absolute Percentage Error (MAPE): 7.22%\n",
      "Accuracy: 92.78%\n",
      "--------------------------------------------------\n",
      "\n",
      "📊 Model Performance Metrics:\n",
      "Model: Lasso\n",
      "R² Score: -4.6311\n",
      "Mean Absolute Error (MAE): 1.9577\n",
      "Root Mean Squared Error (RMSE): 2.1743\n",
      "Mean Absolute Percentage Error (MAPE): 7.25%\n",
      "Accuracy: 92.75%\n",
      "--------------------------------------------------\n",
      "\n",
      "📊 Model Performance Metrics:\n",
      "Model: LassoLars\n",
      "R² Score: -4.6311\n",
      "Mean Absolute Error (MAE): 1.9577\n",
      "Root Mean Squared Error (RMSE): 2.1743\n",
      "Mean Absolute Percentage Error (MAPE): 7.25%\n",
      "Accuracy: 92.75%\n",
      "--------------------------------------------------\n"
     ]
    }
   ],
   "source": [
    "# --------------------------------------------\n",
    "# คำนวณและแสดงผล Regression Metrics (หลังจากพล็อตกราฟ)\n",
    "# --------------------------------------------\n",
    "for model_name, result in result_dict.items():\n",
    "    y_true = x.loc[start_date:end_date, 'temperature'][:'2025-2-10']  # ค่าจริง\n",
    "    y_pred = result['prediction_label'].shift(-1)  # ค่าพยากรณ์\n",
    "\n",
    "    # ลบ NaN ที่เกิดจากการ shift\n",
    "    valid_idx = y_pred.dropna().index\n",
    "    y_true = y_true.loc[valid_idx]\n",
    "    y_pred = y_pred.loc[valid_idx]\n",
    "\n",
    "    r2 = r2_score(y_true, y_pred)\n",
    "    mae = mean_absolute_error(y_true, y_pred)\n",
    "    rmse = np.sqrt(mean_squared_error(y_true, y_pred))\n",
    "    mape = np.mean(np.abs((y_true - y_pred) / y_true)) * 100  # Mean Absolute Percentage Error\n",
    "    accuracy = 100 - mape  # เปลี่ยนเป็น Accuracy %\n",
    "\n",
    "    # แสดงค่า Metrics ของโมเดลนี้\n",
    "    print(\"\\n📊 Model Performance Metrics:\")\n",
    "    print(f\"Model: {model_name}\")\n",
    "    print(f\"R² Score: {r2:.4f}\")\n",
    "    print(f\"Mean Absolute Error (MAE): {mae:.4f}\")\n",
    "    print(f\"Root Mean Squared Error (RMSE): {rmse:.4f}\")\n",
    "    print(f\"Mean Absolute Percentage Error (MAPE): {mape:.2f}%\")\n",
    "    print(f\"Accuracy: {accuracy:.2f}%\")\n",
    "    print(\"-\" * 50)"
   ]
  }
 ],
 "metadata": {
  "kernelspec": {
   "display_name": "pycaret_venv",
   "language": "python",
   "name": "python3"
  },
  "language_info": {
   "codemirror_mode": {
    "name": "ipython",
    "version": 3
   },
   "file_extension": ".py",
   "mimetype": "text/x-python",
   "name": "python",
   "nbconvert_exporter": "python",
   "pygments_lexer": "ipython3",
   "version": "3.11.9"
  }
 },
 "nbformat": 4,
 "nbformat_minor": 2
}

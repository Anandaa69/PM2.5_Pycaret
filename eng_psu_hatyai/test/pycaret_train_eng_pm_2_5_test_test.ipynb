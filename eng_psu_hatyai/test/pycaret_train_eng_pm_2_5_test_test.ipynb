{
 "cells": [
  {
   "cell_type": "code",
   "execution_count": 235,
   "metadata": {},
   "outputs": [],
   "source": [
    "import pycaret\n",
    "import pandas as pd"
   ]
  },
  {
   "cell_type": "code",
   "execution_count": 236,
   "metadata": {},
   "outputs": [],
   "source": [
    "# อ่านไฟล์ CSV\n",
    "data = pd.read_csv('../export_data/filtered_data_3_best.csv')"
   ]
  },
  {
   "cell_type": "code",
   "execution_count": 237,
   "metadata": {},
   "outputs": [],
   "source": [
    "# ตั้ง 'timestamp' เป็น index หากยังไม่ได้ทำ\n",
    "data['timestamp'] = pd.to_datetime(data['timestamp'])\n",
    "data.set_index('timestamp', inplace=True)\n",
    "\n",
    "# ตั้งค่า freq ให้กับ index\n",
    "data = data.asfreq('D')  # 'D' สำหรับรายวัน"
   ]
  },
  {
   "cell_type": "code",
   "execution_count": 238,
   "metadata": {},
   "outputs": [
    {
     "name": "stdout",
     "output_type": "stream",
     "text": [
      "แถวที่มีค่าหายไปก่อนเติม:\n",
      "                     humidity  pm_10  pm_2_5  pm_2_5_sp  temperature\n",
      "timestamp                                                           \n",
      "2023-09-30 07:00:00       NaN    NaN     NaN        NaN          NaN\n",
      "ไม่มีค่าหายไปแล้ว\n"
     ]
    },
    {
     "data": {
      "text/plain": [
       "humidity       82.889367\n",
       "pm_10          60.525519\n",
       "pm_2_5         53.415241\n",
       "pm_2_5_sp      69.527667\n",
       "temperature    29.219760\n",
       "Name: 2023-09-30 07:00:00, dtype: float64"
      ]
     },
     "execution_count": 238,
     "metadata": {},
     "output_type": "execute_result"
    }
   ],
   "source": [
    "# แสดงแถวที่มีค่าหายไปก่อนเติม\n",
    "print(\"แถวที่มีค่าหายไปก่อนเติม:\")\n",
    "print(data[data.isnull().any(axis=1)])\n",
    "\n",
    "# เติมค่าที่หายไปด้วยการ interpolate แบบเส้นตรง\n",
    "data.interpolate(method='linear', inplace=True)\n",
    "\n",
    "# แสดงแถวที่ยังมีค่า NaN หลังจากเติม (ถ้ามี)\n",
    "missing_rows_after = data[data.isnull().any(axis=1)]\n",
    "if not missing_rows_after.empty:\n",
    "    print(\"แถวที่ยังมีค่าหายไปหลังเติม:\")\n",
    "    print(missing_rows_after)\n",
    "else:\n",
    "    print(\"ไม่มีค่าหายไปแล้ว\")\n",
    "\n",
    "\n",
    "row = data.loc[\"2023-09-30 07:00:00\"]\n",
    "row"
   ]
  },
  {
   "cell_type": "code",
   "execution_count": 239,
   "metadata": {},
   "outputs": [],
   "source": [
    "data = data[['pm_2_5', 'humidity', 'temperature']]"
   ]
  },
  {
   "cell_type": "code",
   "execution_count": 240,
   "metadata": {},
   "outputs": [],
   "source": [
    "from scipy import stats\n",
    "import numpy as np\n",
    "\n",
    "# คำนวณ Z-score\n",
    "z_scores = np.abs(stats.zscore(data[['humidity', 'temperature', 'pm_2_5']]))\n",
    "\n",
    "# กำหนด threshold เป็น 3 (ค่าเกิน 3 ถือว่าผิดปกติ)\n",
    "threshold = 5\n",
    "\n",
    "# แทนค่าผิดปกติด้วยค่าเฉลี่ยของคอลัมน์นั้นๆ\n",
    "for col in ['humidity', 'temperature', 'pm_2_5']:\n",
    "    mean_value = data[col].mean()  # หาค่าเฉลี่ยของคอลัมน์\n",
    "    data.loc[z_scores[col] > threshold, col] = mean_value  # แทนค่าที่เป็น outlier"
   ]
  },
  {
   "cell_type": "code",
   "execution_count": 241,
   "metadata": {},
   "outputs": [],
   "source": [
    "data[\"year\"] = data.index.year\n",
    "data[\"month\"] = data.index.month\n",
    "data[\"day\"] = data.index.day\n",
    "data[\"day_of_week\"] = data.index.dayofweek  # 0 = Monday, 6 = Sunday\n",
    "data[\"week_of_year\"] = data.index.isocalendar().week  # ค่าจะเป็น int64"
   ]
  },
  {
   "cell_type": "code",
   "execution_count": 242,
   "metadata": {},
   "outputs": [],
   "source": [
    "# สมมติว่า data มี index เป็น datetime อยู่แล้ว\n",
    "def assign_season(month):\n",
    "    if month in [2, 3, 4]:  # ก.พ. - เม.ย.\n",
    "        return \"summer\"        # ฤดูร้อน\n",
    "    elif month in [5, 6, 7]:  # พ.ค. - ก.ค.\n",
    "        return \"early_rainy\"   # ต้นฤดูฝน\n",
    "    else:  # ส.ค. - ม.ค.\n",
    "        return \"late_rainy\"    # ปลายฤดูฝน\n",
    "\n",
    "season_mapping = {'summer': 0, 'early_rainy': 1, 'late_rainy': 2}\n",
    "data[\"season\"] = data.index.month.map(assign_season)\n",
    "data['season'] = data['season'].map(season_mapping)"
   ]
  },
  {
   "cell_type": "code",
   "execution_count": 243,
   "metadata": {},
   "outputs": [],
   "source": [
    "data['dew_point'] = data['temperature'] - ((100 - data['humidity']) / 5)"
   ]
  },
  {
   "cell_type": "code",
   "execution_count": 244,
   "metadata": {},
   "outputs": [],
   "source": [
    "data[\"is_weekend\"] = data.index.dayofweek.isin([5, 6]).astype(int)"
   ]
  },
  {
   "cell_type": "code",
   "execution_count": 245,
   "metadata": {},
   "outputs": [],
   "source": [
    "# อัตราส่วนของอุณหภูมิต่อความชื้น\n",
    "data[\"temp_humidity_ratio\"] = data[\"temperature\"] / (data[\"humidity\"] + 1)"
   ]
  },
  {
   "cell_type": "code",
   "execution_count": 246,
   "metadata": {},
   "outputs": [],
   "source": [
    "# ดัชนีความร้อน (Heat Index) หรืออุณหภูมิที่รับรู้\n",
    "T = data[\"temperature\"]\n",
    "RH = data[\"humidity\"]\n",
    "\n",
    "data[\"heat_index\"] = -42.379 + (2.04901523 * T) + (10.14333127 * RH) - (0.22475541 * T * RH) - \\\n",
    "                   (0.00683783 * T**2) - (0.05481717 * RH**2) + (0.00122874 * T**2 * RH) + \\\n",
    "                   (0.00085282 * T * RH**2) - (0.00000199 * T**2 * RH**2)"
   ]
  },
  {
   "cell_type": "code",
   "execution_count": 247,
   "metadata": {},
   "outputs": [],
   "source": [
    "# ความชื้นสัมพัทธ์เชิงดัชนี\n",
    "data[\"rh_index\"] = data[\"humidity\"] ** 2 / (data[\"temperature\"] + 1)"
   ]
  },
  {
   "cell_type": "code",
   "execution_count": 248,
   "metadata": {},
   "outputs": [],
   "source": [
    "import pandas as pd\n",
    "import numpy as np\n",
    "\n",
    "# สมมุติว่ามี DataFrame data ที่มีข้อมูลอยู่แล้ว\n",
    "\n",
    "# เพิ่มฟีเจอร์ day_of_year\n",
    "data['date'] = pd.to_datetime(data[['year', 'month', 'day']])\n",
    "data['day_of_year'] = data['date'].dt.dayofyear\n",
    "\n",
    "# เพิ่มฟีเจอร์ month_sin และ month_cos\n",
    "data['month_sin'] = np.sin(2 * np.pi * data['month'] / 12)\n",
    "data['month_cos'] = np.cos(2 * np.pi * data['month'] / 12)\n",
    "\n",
    "# เพิ่มฟีเจอร์ day_of_week_sin และ day_of_week_cos\n",
    "data['day_of_week_sin'] = np.sin(2 * np.pi * data['day_of_week'] / 7)\n",
    "data['day_of_week_cos'] = np.cos(2 * np.pi * data['day_of_week'] / 7)\n",
    "\n",
    "data['pm_2_5_lag_1'] = data['pm_2_5'].shift(1)\n",
    "data['pm_2_5_lag_2'] = data['pm_2_5'].shift(2)\n",
    "data['pm_2_5_lag_3'] = data['pm_2_5'].shift(3)\n",
    "data['pm_2_5_lag_4'] = data['pm_2_5'].shift(4)\n",
    "data['pm_2_5_lag_5'] = data['pm_2_5'].shift(5)\n",
    "data['pm_2_5_lag_6'] = data['pm_2_5'].shift(6)\n",
    "data['pm_2_5_lag_7'] = data['pm_2_5'].shift(7)\n",
    "\n",
    "data['humidity_lag_1'] = data['humidity'].shift(1)\n",
    "data['humidity_lag_2'] = data['humidity'].shift(2)\n",
    "data['humidity_lag_3'] = data['humidity'].shift(3)\n",
    "data['humidity_lag_5'] = data['humidity'].shift(5)\n",
    "data['humidity_lag_7'] = data['humidity'].shift(7)\n",
    "\n",
    "data['temperature_lag_1'] = data['temperature'].shift(1)\n",
    "data['temperature_lag_2'] = data['temperature'].shift(2)\n",
    "data['temperature_lag_3'] = data['temperature'].shift(3)\n",
    "data['temperature_lag_5'] = data['temperature'].shift(5)\n",
    "data['temperature_lag_7'] = data['temperature'].shift(7)\n"
   ]
  },
  {
   "cell_type": "code",
   "execution_count": 249,
   "metadata": {},
   "outputs": [],
   "source": [
    "data[\"temp_diff\"] = data[\"temperature\"].diff()\n",
    "data[\"humidity_diff\"] = data[\"humidity\"].diff()"
   ]
  },
  {
   "cell_type": "code",
   "execution_count": 250,
   "metadata": {},
   "outputs": [
    {
     "data": {
      "text/plain": [
       "Index(['pm_2_5', 'humidity', 'temperature', 'year', 'month', 'day',\n",
       "       'day_of_week', 'week_of_year', 'season', 'dew_point', 'is_weekend',\n",
       "       'temp_humidity_ratio', 'heat_index', 'rh_index', 'date', 'day_of_year',\n",
       "       'month_sin', 'month_cos', 'day_of_week_sin', 'day_of_week_cos',\n",
       "       'pm_2_5_lag_1', 'pm_2_5_lag_2', 'pm_2_5_lag_3', 'pm_2_5_lag_4',\n",
       "       'pm_2_5_lag_5', 'pm_2_5_lag_6', 'pm_2_5_lag_7', 'humidity_lag_1',\n",
       "       'humidity_lag_2', 'humidity_lag_3', 'humidity_lag_5', 'humidity_lag_7',\n",
       "       'temperature_lag_1', 'temperature_lag_2', 'temperature_lag_3',\n",
       "       'temperature_lag_5', 'temperature_lag_7', 'temp_diff', 'humidity_diff'],\n",
       "      dtype='object')"
      ]
     },
     "execution_count": 250,
     "metadata": {},
     "output_type": "execute_result"
    }
   ],
   "source": [
    "data.columns"
   ]
  },
  {
   "cell_type": "code",
   "execution_count": 251,
   "metadata": {},
   "outputs": [],
   "source": [
    "data_filtered = data.loc['2023-09':]  # ดึงข้อมูลตั้งแต่กันยายน 2023 เป็นต้นไป"
   ]
  },
  {
   "cell_type": "code",
   "execution_count": 252,
   "metadata": {},
   "outputs": [
    {
     "data": {
      "text/plain": [
       "<Axes: xlabel='timestamp'>"
      ]
     },
     "execution_count": 252,
     "metadata": {},
     "output_type": "execute_result"
    },
    {
     "data": {
      "image/png": "[encoded data removed]",
      "text/plain": [
       "<Figure size 800x550 with 1 Axes>"
      ]
     },
     "metadata": {},
     "output_type": "display_data"
    }
   ],
   "source": [
    "data_filtered.plot()"
   ]
  },
  {
   "cell_type": "code",
   "execution_count": 253,
   "metadata": {},
   "outputs": [
    {
     "data": {
      "text/plain": [
       "0.05660377358490566"
      ]
     },
     "execution_count": 253,
     "metadata": {},
     "output_type": "execute_result"
    }
   ],
   "source": [
    "# สมมติว่า data มีจำนวนวันทั้งหมด\n",
    "total_data = len(data_filtered)\n",
    "\n",
    "# จำนวนวันที่ต้องการเป็น test data\n",
    "test_days = 30\n",
    "\n",
    "# คำนวณสัดส่วนของ 30 วันในข้อมูลทั้งหมด\n",
    "test_size = test_days / total_data\n",
    "test_size"
   ]
  },
  {
   "cell_type": "code",
   "execution_count": 254,
   "metadata": {},
   "outputs": [],
   "source": [
    "from sklearn.model_selection import train_test_split\n",
    "train_data, test_data = train_test_split(data_filtered, test_size=test_size, shuffle=False)"
   ]
  },
  {
   "cell_type": "code",
   "execution_count": 255,
   "metadata": {},
   "outputs": [
    {
     "data": {
      "text/plain": [
       "(500, 39)"
      ]
     },
     "execution_count": 255,
     "metadata": {},
     "output_type": "execute_result"
    }
   ],
   "source": [
    "train_data.shape"
   ]
  },
  {
   "cell_type": "code",
   "execution_count": 256,
   "metadata": {},
   "outputs": [
    {
     "data": {
      "text/plain": [
       "(30, 39)"
      ]
     },
     "execution_count": 256,
     "metadata": {},
     "output_type": "execute_result"
    }
   ],
   "source": [
    "test_data.shape"
   ]
  },
  {
   "cell_type": "code",
   "execution_count": 257,
   "metadata": {},
   "outputs": [
    {
     "data": {
      "text/html": [
       "<div>\n",
       "<style scoped>\n",
       "    .dataframe tbody tr th:only-of-type {\n",
       "        vertical-align: middle;\n",
       "    }\n",
       "\n",
       "    .dataframe tbody tr th {\n",
       "        vertical-align: top;\n",
       "    }\n",
       "\n",
       "    .dataframe thead th {\n",
       "        text-align: right;\n",
       "    }\n",
       "</style>\n",
       "<table border=\"1\" class=\"dataframe\">\n",
       "  <thead>\n",
       "    <tr style=\"text-align: right;\">\n",
       "      <th></th>\n",
       "      <th>pm_2_5</th>\n",
       "      <th>humidity</th>\n",
       "      <th>temperature</th>\n",
       "      <th>year</th>\n",
       "      <th>month</th>\n",
       "      <th>day</th>\n",
       "      <th>day_of_week</th>\n",
       "      <th>week_of_year</th>\n",
       "      <th>season</th>\n",
       "      <th>dew_point</th>\n",
       "      <th>...</th>\n",
       "      <th>humidity_lag_3</th>\n",
       "      <th>humidity_lag_5</th>\n",
       "      <th>humidity_lag_7</th>\n",
       "      <th>temperature_lag_1</th>\n",
       "      <th>temperature_lag_2</th>\n",
       "      <th>temperature_lag_3</th>\n",
       "      <th>temperature_lag_5</th>\n",
       "      <th>temperature_lag_7</th>\n",
       "      <th>temp_diff</th>\n",
       "      <th>humidity_diff</th>\n",
       "    </tr>\n",
       "    <tr>\n",
       "      <th>timestamp</th>\n",
       "      <th></th>\n",
       "      <th></th>\n",
       "      <th></th>\n",
       "      <th></th>\n",
       "      <th></th>\n",
       "      <th></th>\n",
       "      <th></th>\n",
       "      <th></th>\n",
       "      <th></th>\n",
       "      <th></th>\n",
       "      <th></th>\n",
       "      <th></th>\n",
       "      <th></th>\n",
       "      <th></th>\n",
       "      <th></th>\n",
       "      <th></th>\n",
       "      <th></th>\n",
       "      <th></th>\n",
       "      <th></th>\n",
       "      <th></th>\n",
       "      <th></th>\n",
       "    </tr>\n",
       "  </thead>\n",
       "  <tbody>\n",
       "    <tr>\n",
       "      <th>2025-01-13 07:00:00</th>\n",
       "      <td>42.594631</td>\n",
       "      <td>78.292202</td>\n",
       "      <td>25.997341</td>\n",
       "      <td>2025</td>\n",
       "      <td>1</td>\n",
       "      <td>13</td>\n",
       "      <td>0</td>\n",
       "      <td>3</td>\n",
       "      <td>2</td>\n",
       "      <td>21.655782</td>\n",
       "      <td>...</td>\n",
       "      <td>70.491487</td>\n",
       "      <td>71.168637</td>\n",
       "      <td>72.844643</td>\n",
       "      <td>25.434972</td>\n",
       "      <td>28.357459</td>\n",
       "      <td>28.945704</td>\n",
       "      <td>28.921543</td>\n",
       "      <td>28.825509</td>\n",
       "      <td>0.562369</td>\n",
       "      <td>-7.087604</td>\n",
       "    </tr>\n",
       "  </tbody>\n",
       "</table>\n",
       "<p>1 rows × 39 columns</p>\n",
       "</div>"
      ],
      "text/plain": [
       "                        pm_2_5   humidity  temperature  year  month  day  \\\n",
       "timestamp                                                                  \n",
       "2025-01-13 07:00:00  42.594631  78.292202    25.997341  2025      1   13   \n",
       "\n",
       "                     day_of_week  week_of_year  season  dew_point  ...  \\\n",
       "timestamp                                                          ...   \n",
       "2025-01-13 07:00:00            0             3       2  21.655782  ...   \n",
       "\n",
       "                     humidity_lag_3  humidity_lag_5  humidity_lag_7  \\\n",
       "timestamp                                                             \n",
       "2025-01-13 07:00:00       70.491487       71.168637       72.844643   \n",
       "\n",
       "                     temperature_lag_1 temperature_lag_2  temperature_lag_3  \\\n",
       "timestamp                                                                     \n",
       "2025-01-13 07:00:00          25.434972         28.357459          28.945704   \n",
       "\n",
       "                     temperature_lag_5  temperature_lag_7  temp_diff  \\\n",
       "timestamp                                                              \n",
       "2025-01-13 07:00:00          28.921543          28.825509   0.562369   \n",
       "\n",
       "                     humidity_diff  \n",
       "timestamp                           \n",
       "2025-01-13 07:00:00      -7.087604  \n",
       "\n",
       "[1 rows x 39 columns]"
      ]
     },
     "execution_count": 257,
     "metadata": {},
     "output_type": "execute_result"
    }
   ],
   "source": [
    "test_data.head(1)"
   ]
  },
  {
   "cell_type": "code",
   "execution_count": 258,
   "metadata": {},
   "outputs": [
    {
     "data": {
      "text/html": [
       "<div>\n",
       "<style scoped>\n",
       "    .dataframe tbody tr th:only-of-type {\n",
       "        vertical-align: middle;\n",
       "    }\n",
       "\n",
       "    .dataframe tbody tr th {\n",
       "        vertical-align: top;\n",
       "    }\n",
       "\n",
       "    .dataframe thead th {\n",
       "        text-align: right;\n",
       "    }\n",
       "</style>\n",
       "<table border=\"1\" class=\"dataframe\">\n",
       "  <thead>\n",
       "    <tr style=\"text-align: right;\">\n",
       "      <th></th>\n",
       "      <th>pm_2_5</th>\n",
       "      <th>humidity</th>\n",
       "      <th>temperature</th>\n",
       "      <th>year</th>\n",
       "      <th>month</th>\n",
       "      <th>day</th>\n",
       "      <th>day_of_week</th>\n",
       "      <th>week_of_year</th>\n",
       "      <th>season</th>\n",
       "      <th>dew_point</th>\n",
       "      <th>...</th>\n",
       "      <th>humidity_lag_3</th>\n",
       "      <th>humidity_lag_5</th>\n",
       "      <th>humidity_lag_7</th>\n",
       "      <th>temperature_lag_1</th>\n",
       "      <th>temperature_lag_2</th>\n",
       "      <th>temperature_lag_3</th>\n",
       "      <th>temperature_lag_5</th>\n",
       "      <th>temperature_lag_7</th>\n",
       "      <th>temp_diff</th>\n",
       "      <th>humidity_diff</th>\n",
       "    </tr>\n",
       "    <tr>\n",
       "      <th>timestamp</th>\n",
       "      <th></th>\n",
       "      <th></th>\n",
       "      <th></th>\n",
       "      <th></th>\n",
       "      <th></th>\n",
       "      <th></th>\n",
       "      <th></th>\n",
       "      <th></th>\n",
       "      <th></th>\n",
       "      <th></th>\n",
       "      <th></th>\n",
       "      <th></th>\n",
       "      <th></th>\n",
       "      <th></th>\n",
       "      <th></th>\n",
       "      <th></th>\n",
       "      <th></th>\n",
       "      <th></th>\n",
       "      <th></th>\n",
       "      <th></th>\n",
       "      <th></th>\n",
       "    </tr>\n",
       "  </thead>\n",
       "  <tbody>\n",
       "    <tr>\n",
       "      <th>2025-02-11 07:00:00</th>\n",
       "      <td>27.522727</td>\n",
       "      <td>68.159624</td>\n",
       "      <td>28.693799</td>\n",
       "      <td>2025</td>\n",
       "      <td>2</td>\n",
       "      <td>11</td>\n",
       "      <td>1</td>\n",
       "      <td>7</td>\n",
       "      <td>0</td>\n",
       "      <td>22.325724</td>\n",
       "      <td>...</td>\n",
       "      <td>69.348548</td>\n",
       "      <td>69.511783</td>\n",
       "      <td>70.266522</td>\n",
       "      <td>28.251201</td>\n",
       "      <td>28.373742</td>\n",
       "      <td>28.385596</td>\n",
       "      <td>28.579177</td>\n",
       "      <td>27.775432</td>\n",
       "      <td>0.442598</td>\n",
       "      <td>-3.066711</td>\n",
       "    </tr>\n",
       "  </tbody>\n",
       "</table>\n",
       "<p>1 rows × 39 columns</p>\n",
       "</div>"
      ],
      "text/plain": [
       "                        pm_2_5   humidity  temperature  year  month  day  \\\n",
       "timestamp                                                                  \n",
       "2025-02-11 07:00:00  27.522727  68.159624    28.693799  2025      2   11   \n",
       "\n",
       "                     day_of_week  week_of_year  season  dew_point  ...  \\\n",
       "timestamp                                                          ...   \n",
       "2025-02-11 07:00:00            1             7       0  22.325724  ...   \n",
       "\n",
       "                     humidity_lag_3  humidity_lag_5  humidity_lag_7  \\\n",
       "timestamp                                                             \n",
       "2025-02-11 07:00:00       69.348548       69.511783       70.266522   \n",
       "\n",
       "                     temperature_lag_1 temperature_lag_2  temperature_lag_3  \\\n",
       "timestamp                                                                     \n",
       "2025-02-11 07:00:00          28.251201         28.373742          28.385596   \n",
       "\n",
       "                     temperature_lag_5  temperature_lag_7  temp_diff  \\\n",
       "timestamp                                                              \n",
       "2025-02-11 07:00:00          28.579177          27.775432   0.442598   \n",
       "\n",
       "                     humidity_diff  \n",
       "timestamp                           \n",
       "2025-02-11 07:00:00      -3.066711  \n",
       "\n",
       "[1 rows x 39 columns]"
      ]
     },
     "execution_count": 258,
     "metadata": {},
     "output_type": "execute_result"
    }
   ],
   "source": [
    "test_data.tail(1)"
   ]
  },
  {
   "cell_type": "code",
   "execution_count": 259,
   "metadata": {},
   "outputs": [
    {
     "data": {
      "text/html": [
       "<div>\n",
       "<style scoped>\n",
       "    .dataframe tbody tr th:only-of-type {\n",
       "        vertical-align: middle;\n",
       "    }\n",
       "\n",
       "    .dataframe tbody tr th {\n",
       "        vertical-align: top;\n",
       "    }\n",
       "\n",
       "    .dataframe thead th {\n",
       "        text-align: right;\n",
       "    }\n",
       "</style>\n",
       "<table border=\"1\" class=\"dataframe\">\n",
       "  <thead>\n",
       "    <tr style=\"text-align: right;\">\n",
       "      <th></th>\n",
       "      <th>pm_2_5</th>\n",
       "      <th>humidity</th>\n",
       "      <th>temperature</th>\n",
       "      <th>year</th>\n",
       "      <th>month</th>\n",
       "      <th>day</th>\n",
       "      <th>day_of_week</th>\n",
       "      <th>week_of_year</th>\n",
       "      <th>season</th>\n",
       "      <th>dew_point</th>\n",
       "      <th>...</th>\n",
       "      <th>humidity_lag_3</th>\n",
       "      <th>humidity_lag_5</th>\n",
       "      <th>humidity_lag_7</th>\n",
       "      <th>temperature_lag_1</th>\n",
       "      <th>temperature_lag_2</th>\n",
       "      <th>temperature_lag_3</th>\n",
       "      <th>temperature_lag_5</th>\n",
       "      <th>temperature_lag_7</th>\n",
       "      <th>temp_diff</th>\n",
       "      <th>humidity_diff</th>\n",
       "    </tr>\n",
       "    <tr>\n",
       "      <th>timestamp</th>\n",
       "      <th></th>\n",
       "      <th></th>\n",
       "      <th></th>\n",
       "      <th></th>\n",
       "      <th></th>\n",
       "      <th></th>\n",
       "      <th></th>\n",
       "      <th></th>\n",
       "      <th></th>\n",
       "      <th></th>\n",
       "      <th></th>\n",
       "      <th></th>\n",
       "      <th></th>\n",
       "      <th></th>\n",
       "      <th></th>\n",
       "      <th></th>\n",
       "      <th></th>\n",
       "      <th></th>\n",
       "      <th></th>\n",
       "      <th></th>\n",
       "      <th></th>\n",
       "    </tr>\n",
       "  </thead>\n",
       "  <tbody>\n",
       "    <tr>\n",
       "      <th>2025-02-07 07:00:00</th>\n",
       "      <td>29.321219</td>\n",
       "      <td>70.933952</td>\n",
       "      <td>28.271927</td>\n",
       "      <td>2025</td>\n",
       "      <td>2</td>\n",
       "      <td>7</td>\n",
       "      <td>4</td>\n",
       "      <td>6</td>\n",
       "      <td>0</td>\n",
       "      <td>22.458717</td>\n",
       "      <td>...</td>\n",
       "      <td>70.266522</td>\n",
       "      <td>70.341639</td>\n",
       "      <td>68.520368</td>\n",
       "      <td>28.579177</td>\n",
       "      <td>28.327450</td>\n",
       "      <td>27.775432</td>\n",
       "      <td>27.683890</td>\n",
       "      <td>27.336718</td>\n",
       "      <td>-0.307250</td>\n",
       "      <td>1.422170</td>\n",
       "    </tr>\n",
       "    <tr>\n",
       "      <th>2025-02-08 07:00:00</th>\n",
       "      <td>26.000000</td>\n",
       "      <td>69.348548</td>\n",
       "      <td>28.385596</td>\n",
       "      <td>2025</td>\n",
       "      <td>2</td>\n",
       "      <td>8</td>\n",
       "      <td>5</td>\n",
       "      <td>6</td>\n",
       "      <td>0</td>\n",
       "      <td>22.255305</td>\n",
       "      <td>...</td>\n",
       "      <td>71.500943</td>\n",
       "      <td>65.114261</td>\n",
       "      <td>69.231031</td>\n",
       "      <td>28.271927</td>\n",
       "      <td>28.579177</td>\n",
       "      <td>28.327450</td>\n",
       "      <td>28.644544</td>\n",
       "      <td>27.315410</td>\n",
       "      <td>0.113669</td>\n",
       "      <td>-1.585405</td>\n",
       "    </tr>\n",
       "    <tr>\n",
       "      <th>2025-02-09 07:00:00</th>\n",
       "      <td>24.616898</td>\n",
       "      <td>69.916384</td>\n",
       "      <td>28.373742</td>\n",
       "      <td>2025</td>\n",
       "      <td>2</td>\n",
       "      <td>9</td>\n",
       "      <td>6</td>\n",
       "      <td>6</td>\n",
       "      <td>0</td>\n",
       "      <td>22.357019</td>\n",
       "      <td>...</td>\n",
       "      <td>69.511783</td>\n",
       "      <td>70.266522</td>\n",
       "      <td>70.341639</td>\n",
       "      <td>28.385596</td>\n",
       "      <td>28.271927</td>\n",
       "      <td>28.579177</td>\n",
       "      <td>27.775432</td>\n",
       "      <td>27.683890</td>\n",
       "      <td>-0.011853</td>\n",
       "      <td>0.567837</td>\n",
       "    </tr>\n",
       "    <tr>\n",
       "      <th>2025-02-10 07:00:00</th>\n",
       "      <td>25.856981</td>\n",
       "      <td>71.226336</td>\n",
       "      <td>28.251201</td>\n",
       "      <td>2025</td>\n",
       "      <td>2</td>\n",
       "      <td>10</td>\n",
       "      <td>0</td>\n",
       "      <td>7</td>\n",
       "      <td>0</td>\n",
       "      <td>22.496468</td>\n",
       "      <td>...</td>\n",
       "      <td>70.933952</td>\n",
       "      <td>71.500943</td>\n",
       "      <td>65.114261</td>\n",
       "      <td>28.373742</td>\n",
       "      <td>28.385596</td>\n",
       "      <td>28.271927</td>\n",
       "      <td>28.327450</td>\n",
       "      <td>28.644544</td>\n",
       "      <td>-0.122542</td>\n",
       "      <td>1.309951</td>\n",
       "    </tr>\n",
       "    <tr>\n",
       "      <th>2025-02-11 07:00:00</th>\n",
       "      <td>27.522727</td>\n",
       "      <td>68.159624</td>\n",
       "      <td>28.693799</td>\n",
       "      <td>2025</td>\n",
       "      <td>2</td>\n",
       "      <td>11</td>\n",
       "      <td>1</td>\n",
       "      <td>7</td>\n",
       "      <td>0</td>\n",
       "      <td>22.325724</td>\n",
       "      <td>...</td>\n",
       "      <td>69.348548</td>\n",
       "      <td>69.511783</td>\n",
       "      <td>70.266522</td>\n",
       "      <td>28.251201</td>\n",
       "      <td>28.373742</td>\n",
       "      <td>28.385596</td>\n",
       "      <td>28.579177</td>\n",
       "      <td>27.775432</td>\n",
       "      <td>0.442598</td>\n",
       "      <td>-3.066711</td>\n",
       "    </tr>\n",
       "  </tbody>\n",
       "</table>\n",
       "<p>5 rows × 39 columns</p>\n",
       "</div>"
      ],
      "text/plain": [
       "                        pm_2_5   humidity  temperature  year  month  day  \\\n",
       "timestamp                                                                  \n",
       "2025-02-07 07:00:00  29.321219  70.933952    28.271927  2025      2    7   \n",
       "2025-02-08 07:00:00  26.000000  69.348548    28.385596  2025      2    8   \n",
       "2025-02-09 07:00:00  24.616898  69.916384    28.373742  2025      2    9   \n",
       "2025-02-10 07:00:00  25.856981  71.226336    28.251201  2025      2   10   \n",
       "2025-02-11 07:00:00  27.522727  68.159624    28.693799  2025      2   11   \n",
       "\n",
       "                     day_of_week  week_of_year  season  dew_point  ...  \\\n",
       "timestamp                                                          ...   \n",
       "2025-02-07 07:00:00            4             6       0  22.458717  ...   \n",
       "2025-02-08 07:00:00            5             6       0  22.255305  ...   \n",
       "2025-02-09 07:00:00            6             6       0  22.357019  ...   \n",
       "2025-02-10 07:00:00            0             7       0  22.496468  ...   \n",
       "2025-02-11 07:00:00            1             7       0  22.325724  ...   \n",
       "\n",
       "                     humidity_lag_3  humidity_lag_5  humidity_lag_7  \\\n",
       "timestamp                                                             \n",
       "2025-02-07 07:00:00       70.266522       70.341639       68.520368   \n",
       "2025-02-08 07:00:00       71.500943       65.114261       69.231031   \n",
       "2025-02-09 07:00:00       69.511783       70.266522       70.341639   \n",
       "2025-02-10 07:00:00       70.933952       71.500943       65.114261   \n",
       "2025-02-11 07:00:00       69.348548       69.511783       70.266522   \n",
       "\n",
       "                     temperature_lag_1 temperature_lag_2  temperature_lag_3  \\\n",
       "timestamp                                                                     \n",
       "2025-02-07 07:00:00          28.579177         28.327450          27.775432   \n",
       "2025-02-08 07:00:00          28.271927         28.579177          28.327450   \n",
       "2025-02-09 07:00:00          28.385596         28.271927          28.579177   \n",
       "2025-02-10 07:00:00          28.373742         28.385596          28.271927   \n",
       "2025-02-11 07:00:00          28.251201         28.373742          28.385596   \n",
       "\n",
       "                     temperature_lag_5  temperature_lag_7  temp_diff  \\\n",
       "timestamp                                                              \n",
       "2025-02-07 07:00:00          27.683890          27.336718  -0.307250   \n",
       "2025-02-08 07:00:00          28.644544          27.315410   0.113669   \n",
       "2025-02-09 07:00:00          27.775432          27.683890  -0.011853   \n",
       "2025-02-10 07:00:00          28.327450          28.644544  -0.122542   \n",
       "2025-02-11 07:00:00          28.579177          27.775432   0.442598   \n",
       "\n",
       "                     humidity_diff  \n",
       "timestamp                           \n",
       "2025-02-07 07:00:00       1.422170  \n",
       "2025-02-08 07:00:00      -1.585405  \n",
       "2025-02-09 07:00:00       0.567837  \n",
       "2025-02-10 07:00:00       1.309951  \n",
       "2025-02-11 07:00:00      -3.066711  \n",
       "\n",
       "[5 rows x 39 columns]"
      ]
     },
     "execution_count": 259,
     "metadata": {},
     "output_type": "execute_result"
    }
   ],
   "source": [
    "test_data.tail()"
   ]
  },
  {
   "cell_type": "code",
   "execution_count": 260,
   "metadata": {},
   "outputs": [
    {
     "data": {
      "text/plain": [
       "Index(['pm_2_5', 'humidity', 'temperature', 'year', 'month', 'day',\n",
       "       'day_of_week', 'week_of_year', 'season', 'dew_point', 'is_weekend',\n",
       "       'temp_humidity_ratio', 'heat_index', 'rh_index', 'date', 'day_of_year',\n",
       "       'month_sin', 'month_cos', 'day_of_week_sin', 'day_of_week_cos',\n",
       "       'pm_2_5_lag_1', 'pm_2_5_lag_2', 'pm_2_5_lag_3', 'pm_2_5_lag_4',\n",
       "       'pm_2_5_lag_5', 'pm_2_5_lag_6', 'pm_2_5_lag_7', 'humidity_lag_1',\n",
       "       'humidity_lag_2', 'humidity_lag_3', 'humidity_lag_5', 'humidity_lag_7',\n",
       "       'temperature_lag_1', 'temperature_lag_2', 'temperature_lag_3',\n",
       "       'temperature_lag_5', 'temperature_lag_7', 'temp_diff', 'humidity_diff'],\n",
       "      dtype='object')"
      ]
     },
     "execution_count": 260,
     "metadata": {},
     "output_type": "execute_result"
    }
   ],
   "source": [
    "test_data.columns"
   ]
  },
  {
   "cell_type": "code",
   "execution_count": 261,
   "metadata": {},
   "outputs": [],
   "source": [
    "# train_data.dropna()"
   ]
  },
  {
   "cell_type": "code",
   "execution_count": 262,
   "metadata": {},
   "outputs": [
    {
     "data": {
      "text/html": [
       "<style type=\"text/css\">\n",
       "#T_1a522_row9_col1, #T_1a522_row13_col1 {\n",
       "  background-color: lightgreen;\n",
       "}\n",
       "</style>\n",
       "<table id=\"T_1a522\">\n",
       "  <thead>\n",
       "    <tr>\n",
       "      <th class=\"blank level0\" >&nbsp;</th>\n",
       "      <th id=\"T_1a522_level0_col0\" class=\"col_heading level0 col0\" >Description</th>\n",
       "      <th id=\"T_1a522_level0_col1\" class=\"col_heading level0 col1\" >Value</th>\n",
       "    </tr>\n",
       "  </thead>\n",
       "  <tbody>\n",
       "    <tr>\n",
       "      <th id=\"T_1a522_level0_row0\" class=\"row_heading level0 row0\" >0</th>\n",
       "      <td id=\"T_1a522_row0_col0\" class=\"data row0 col0\" >Session id</td>\n",
       "      <td id=\"T_1a522_row0_col1\" class=\"data row0 col1\" >123</td>\n",
       "    </tr>\n",
       "    <tr>\n",
       "      <th id=\"T_1a522_level0_row1\" class=\"row_heading level0 row1\" >1</th>\n",
       "      <td id=\"T_1a522_row1_col0\" class=\"data row1 col0\" >Target</td>\n",
       "      <td id=\"T_1a522_row1_col1\" class=\"data row1 col1\" >pm_2_5</td>\n",
       "    </tr>\n",
       "    <tr>\n",
       "      <th id=\"T_1a522_level0_row2\" class=\"row_heading level0 row2\" >2</th>\n",
       "      <td id=\"T_1a522_row2_col0\" class=\"data row2 col0\" >Target type</td>\n",
       "      <td id=\"T_1a522_row2_col1\" class=\"data row2 col1\" >Regression</td>\n",
       "    </tr>\n",
       "    <tr>\n",
       "      <th id=\"T_1a522_level0_row3\" class=\"row_heading level0 row3\" >3</th>\n",
       "      <td id=\"T_1a522_row3_col0\" class=\"data row3 col0\" >Original data shape</td>\n",
       "      <td id=\"T_1a522_row3_col1\" class=\"data row3 col1\" >(500, 39)</td>\n",
       "    </tr>\n",
       "    <tr>\n",
       "      <th id=\"T_1a522_level0_row4\" class=\"row_heading level0 row4\" >4</th>\n",
       "      <td id=\"T_1a522_row4_col0\" class=\"data row4 col0\" >Transformed data shape</td>\n",
       "      <td id=\"T_1a522_row4_col1\" class=\"data row4 col1\" >(482, 41)</td>\n",
       "    </tr>\n",
       "    <tr>\n",
       "      <th id=\"T_1a522_level0_row5\" class=\"row_heading level0 row5\" >5</th>\n",
       "      <td id=\"T_1a522_row5_col0\" class=\"data row5 col0\" >Transformed train set shape</td>\n",
       "      <td id=\"T_1a522_row5_col1\" class=\"data row5 col1\" >(332, 41)</td>\n",
       "    </tr>\n",
       "    <tr>\n",
       "      <th id=\"T_1a522_level0_row6\" class=\"row_heading level0 row6\" >6</th>\n",
       "      <td id=\"T_1a522_row6_col0\" class=\"data row6 col0\" >Transformed test set shape</td>\n",
       "      <td id=\"T_1a522_row6_col1\" class=\"data row6 col1\" >(150, 41)</td>\n",
       "    </tr>\n",
       "    <tr>\n",
       "      <th id=\"T_1a522_level0_row7\" class=\"row_heading level0 row7\" >7</th>\n",
       "      <td id=\"T_1a522_row7_col0\" class=\"data row7 col0\" >Numeric features</td>\n",
       "      <td id=\"T_1a522_row7_col1\" class=\"data row7 col1\" >37</td>\n",
       "    </tr>\n",
       "    <tr>\n",
       "      <th id=\"T_1a522_level0_row8\" class=\"row_heading level0 row8\" >8</th>\n",
       "      <td id=\"T_1a522_row8_col0\" class=\"data row8 col0\" >Date features</td>\n",
       "      <td id=\"T_1a522_row8_col1\" class=\"data row8 col1\" >1</td>\n",
       "    </tr>\n",
       "    <tr>\n",
       "      <th id=\"T_1a522_level0_row9\" class=\"row_heading level0 row9\" >9</th>\n",
       "      <td id=\"T_1a522_row9_col0\" class=\"data row9 col0\" >Preprocess</td>\n",
       "      <td id=\"T_1a522_row9_col1\" class=\"data row9 col1\" >True</td>\n",
       "    </tr>\n",
       "    <tr>\n",
       "      <th id=\"T_1a522_level0_row10\" class=\"row_heading level0 row10\" >10</th>\n",
       "      <td id=\"T_1a522_row10_col0\" class=\"data row10 col0\" >Imputation type</td>\n",
       "      <td id=\"T_1a522_row10_col1\" class=\"data row10 col1\" >simple</td>\n",
       "    </tr>\n",
       "    <tr>\n",
       "      <th id=\"T_1a522_level0_row11\" class=\"row_heading level0 row11\" >11</th>\n",
       "      <td id=\"T_1a522_row11_col0\" class=\"data row11 col0\" >Numeric imputation</td>\n",
       "      <td id=\"T_1a522_row11_col1\" class=\"data row11 col1\" >mean</td>\n",
       "    </tr>\n",
       "    <tr>\n",
       "      <th id=\"T_1a522_level0_row12\" class=\"row_heading level0 row12\" >12</th>\n",
       "      <td id=\"T_1a522_row12_col0\" class=\"data row12 col0\" >Categorical imputation</td>\n",
       "      <td id=\"T_1a522_row12_col1\" class=\"data row12 col1\" >mode</td>\n",
       "    </tr>\n",
       "    <tr>\n",
       "      <th id=\"T_1a522_level0_row13\" class=\"row_heading level0 row13\" >13</th>\n",
       "      <td id=\"T_1a522_row13_col0\" class=\"data row13 col0\" >Remove outliers</td>\n",
       "      <td id=\"T_1a522_row13_col1\" class=\"data row13 col1\" >True</td>\n",
       "    </tr>\n",
       "    <tr>\n",
       "      <th id=\"T_1a522_level0_row14\" class=\"row_heading level0 row14\" >14</th>\n",
       "      <td id=\"T_1a522_row14_col0\" class=\"data row14 col0\" >Outliers threshold</td>\n",
       "      <td id=\"T_1a522_row14_col1\" class=\"data row14 col1\" >0.050000</td>\n",
       "    </tr>\n",
       "    <tr>\n",
       "      <th id=\"T_1a522_level0_row15\" class=\"row_heading level0 row15\" >15</th>\n",
       "      <td id=\"T_1a522_row15_col0\" class=\"data row15 col0\" >Fold Generator</td>\n",
       "      <td id=\"T_1a522_row15_col1\" class=\"data row15 col1\" >KFold</td>\n",
       "    </tr>\n",
       "    <tr>\n",
       "      <th id=\"T_1a522_level0_row16\" class=\"row_heading level0 row16\" >16</th>\n",
       "      <td id=\"T_1a522_row16_col0\" class=\"data row16 col0\" >Fold Number</td>\n",
       "      <td id=\"T_1a522_row16_col1\" class=\"data row16 col1\" >12</td>\n",
       "    </tr>\n",
       "    <tr>\n",
       "      <th id=\"T_1a522_level0_row17\" class=\"row_heading level0 row17\" >17</th>\n",
       "      <td id=\"T_1a522_row17_col0\" class=\"data row17 col0\" >CPU Jobs</td>\n",
       "      <td id=\"T_1a522_row17_col1\" class=\"data row17 col1\" >-1</td>\n",
       "    </tr>\n",
       "    <tr>\n",
       "      <th id=\"T_1a522_level0_row18\" class=\"row_heading level0 row18\" >18</th>\n",
       "      <td id=\"T_1a522_row18_col0\" class=\"data row18 col0\" >Use GPU</td>\n",
       "      <td id=\"T_1a522_row18_col1\" class=\"data row18 col1\" >False</td>\n",
       "    </tr>\n",
       "    <tr>\n",
       "      <th id=\"T_1a522_level0_row19\" class=\"row_heading level0 row19\" >19</th>\n",
       "      <td id=\"T_1a522_row19_col0\" class=\"data row19 col0\" >Log Experiment</td>\n",
       "      <td id=\"T_1a522_row19_col1\" class=\"data row19 col1\" >False</td>\n",
       "    </tr>\n",
       "    <tr>\n",
       "      <th id=\"T_1a522_level0_row20\" class=\"row_heading level0 row20\" >20</th>\n",
       "      <td id=\"T_1a522_row20_col0\" class=\"data row20 col0\" >Experiment Name</td>\n",
       "      <td id=\"T_1a522_row20_col1\" class=\"data row20 col1\" >reg-default-name</td>\n",
       "    </tr>\n",
       "    <tr>\n",
       "      <th id=\"T_1a522_level0_row21\" class=\"row_heading level0 row21\" >21</th>\n",
       "      <td id=\"T_1a522_row21_col0\" class=\"data row21 col0\" >USI</td>\n",
       "      <td id=\"T_1a522_row21_col1\" class=\"data row21 col1\" >f575</td>\n",
       "    </tr>\n",
       "  </tbody>\n",
       "</table>\n"
      ],
      "text/plain": [
       "<pandas.io.formats.style.Styler at 0x25c4c508090>"
      ]
     },
     "metadata": {},
     "output_type": "display_data"
    },
    {
     "data": {
      "text/plain": [
       "<pycaret.regression.oop.RegressionExperiment at 0x25c4abce810>"
      ]
     },
     "execution_count": 262,
     "metadata": {},
     "output_type": "execute_result"
    }
   ],
   "source": [
    "# from pycaret.time_series import *\n",
    "from pycaret.regression import RegressionExperiment\n",
    "exp1 = RegressionExperiment()\n",
    "exp1.setup(data=train_data, target='pm_2_5', session_id=123, fold=12, iterative_imputation_iters=100, remove_outliers = True)"
   ]
  },
  {
   "cell_type": "code",
   "execution_count": 263,
   "metadata": {},
   "outputs": [
    {
     "data": {
      "text/html": [],
      "text/plain": [
       "<IPython.core.display.HTML object>"
      ]
     },
     "metadata": {},
     "output_type": "display_data"
    },
    {
     "data": {
      "text/html": [
       "<style type=\"text/css\">\n",
       "#T_1b8d7 th {\n",
       "  text-align: left;\n",
       "}\n",
       "#T_1b8d7_row0_col0, #T_1b8d7_row0_col6, #T_1b8d7_row1_col0, #T_1b8d7_row1_col1, #T_1b8d7_row1_col2, #T_1b8d7_row1_col3, #T_1b8d7_row1_col4, #T_1b8d7_row1_col6, #T_1b8d7_row2_col0, #T_1b8d7_row2_col1, #T_1b8d7_row2_col2, #T_1b8d7_row2_col3, #T_1b8d7_row2_col4, #T_1b8d7_row2_col5, #T_1b8d7_row2_col6, #T_1b8d7_row3_col0, #T_1b8d7_row3_col1, #T_1b8d7_row3_col2, #T_1b8d7_row3_col3, #T_1b8d7_row3_col4, #T_1b8d7_row3_col5, #T_1b8d7_row3_col6, #T_1b8d7_row4_col0, #T_1b8d7_row4_col1, #T_1b8d7_row4_col2, #T_1b8d7_row4_col3, #T_1b8d7_row4_col4, #T_1b8d7_row4_col5, #T_1b8d7_row4_col6, #T_1b8d7_row5_col0, #T_1b8d7_row5_col1, #T_1b8d7_row5_col2, #T_1b8d7_row5_col3, #T_1b8d7_row5_col4, #T_1b8d7_row5_col5, #T_1b8d7_row6_col0, #T_1b8d7_row6_col1, #T_1b8d7_row6_col2, #T_1b8d7_row6_col3, #T_1b8d7_row6_col4, #T_1b8d7_row6_col5, #T_1b8d7_row6_col6, #T_1b8d7_row7_col0, #T_1b8d7_row7_col1, #T_1b8d7_row7_col2, #T_1b8d7_row7_col3, #T_1b8d7_row7_col4, #T_1b8d7_row7_col5, #T_1b8d7_row7_col6, #T_1b8d7_row8_col0, #T_1b8d7_row8_col1, #T_1b8d7_row8_col2, #T_1b8d7_row8_col3, #T_1b8d7_row8_col4, #T_1b8d7_row8_col5, #T_1b8d7_row8_col6, #T_1b8d7_row9_col0, #T_1b8d7_row9_col1, #T_1b8d7_row9_col2, #T_1b8d7_row9_col3, #T_1b8d7_row9_col4, #T_1b8d7_row9_col5, #T_1b8d7_row9_col6, #T_1b8d7_row10_col0, #T_1b8d7_row10_col1, #T_1b8d7_row10_col2, #T_1b8d7_row10_col3, #T_1b8d7_row10_col4, #T_1b8d7_row10_col5, #T_1b8d7_row10_col6, #T_1b8d7_row11_col0, #T_1b8d7_row11_col1, #T_1b8d7_row11_col2, #T_1b8d7_row11_col3, #T_1b8d7_row11_col4, #T_1b8d7_row11_col5, #T_1b8d7_row11_col6, #T_1b8d7_row12_col0, #T_1b8d7_row12_col1, #T_1b8d7_row12_col2, #T_1b8d7_row12_col3, #T_1b8d7_row12_col4, #T_1b8d7_row12_col5, #T_1b8d7_row12_col6, #T_1b8d7_row13_col0, #T_1b8d7_row13_col1, #T_1b8d7_row13_col2, #T_1b8d7_row13_col3, #T_1b8d7_row13_col4, #T_1b8d7_row13_col5, #T_1b8d7_row13_col6, #T_1b8d7_row14_col0, #T_1b8d7_row14_col1, #T_1b8d7_row14_col2, #T_1b8d7_row14_col3, #T_1b8d7_row14_col4, #T_1b8d7_row14_col5, #T_1b8d7_row14_col6, #T_1b8d7_row15_col0, #T_1b8d7_row15_col1, #T_1b8d7_row15_col2, #T_1b8d7_row15_col3, #T_1b8d7_row15_col4, #T_1b8d7_row15_col5, #T_1b8d7_row15_col6, #T_1b8d7_row16_col0, #T_1b8d7_row16_col1, #T_1b8d7_row16_col2, #T_1b8d7_row16_col3, #T_1b8d7_row16_col4, #T_1b8d7_row16_col5, #T_1b8d7_row16_col6, #T_1b8d7_row17_col0, #T_1b8d7_row17_col1, #T_1b8d7_row17_col2, #T_1b8d7_row17_col3, #T_1b8d7_row17_col4, #T_1b8d7_row17_col5, #T_1b8d7_row17_col6 {\n",
       "  text-align: left;\n",
       "}\n",
       "#T_1b8d7_row0_col1, #T_1b8d7_row0_col2, #T_1b8d7_row0_col3, #T_1b8d7_row0_col4, #T_1b8d7_row0_col5, #T_1b8d7_row1_col5, #T_1b8d7_row5_col6 {\n",
       "  text-align: left;\n",
       "  background-color: yellow;\n",
       "}\n",
       "#T_1b8d7_row0_col7, #T_1b8d7_row1_col7, #T_1b8d7_row2_col7, #T_1b8d7_row3_col7, #T_1b8d7_row4_col7, #T_1b8d7_row5_col7, #T_1b8d7_row6_col7, #T_1b8d7_row7_col7, #T_1b8d7_row8_col7, #T_1b8d7_row9_col7, #T_1b8d7_row10_col7, #T_1b8d7_row11_col7, #T_1b8d7_row12_col7, #T_1b8d7_row13_col7, #T_1b8d7_row14_col7, #T_1b8d7_row16_col7, #T_1b8d7_row17_col7 {\n",
       "  text-align: left;\n",
       "  background-color: lightgrey;\n",
       "}\n",
       "#T_1b8d7_row15_col7 {\n",
       "  text-align: left;\n",
       "  background-color: yellow;\n",
       "  background-color: lightgrey;\n",
       "}\n",
       "</style>\n",
       "<table id=\"T_1b8d7\">\n",
       "  <thead>\n",
       "    <tr>\n",
       "      <th class=\"blank level0\" >&nbsp;</th>\n",
       "      <th id=\"T_1b8d7_level0_col0\" class=\"col_heading level0 col0\" >Model</th>\n",
       "      <th id=\"T_1b8d7_level0_col1\" class=\"col_heading level0 col1\" >MAE</th>\n",
       "      <th id=\"T_1b8d7_level0_col2\" class=\"col_heading level0 col2\" >MSE</th>\n",
       "      <th id=\"T_1b8d7_level0_col3\" class=\"col_heading level0 col3\" >RMSE</th>\n",
       "      <th id=\"T_1b8d7_level0_col4\" class=\"col_heading level0 col4\" >R2</th>\n",
       "      <th id=\"T_1b8d7_level0_col5\" class=\"col_heading level0 col5\" >RMSLE</th>\n",
       "      <th id=\"T_1b8d7_level0_col6\" class=\"col_heading level0 col6\" >MAPE</th>\n",
       "      <th id=\"T_1b8d7_level0_col7\" class=\"col_heading level0 col7\" >TT (Sec)</th>\n",
       "    </tr>\n",
       "  </thead>\n",
       "  <tbody>\n",
       "    <tr>\n",
       "      <th id=\"T_1b8d7_level0_row0\" class=\"row_heading level0 row0\" >lasso</th>\n",
       "      <td id=\"T_1b8d7_row0_col0\" class=\"data row0 col0\" >Lasso Regression</td>\n",
       "      <td id=\"T_1b8d7_row0_col1\" class=\"data row0 col1\" >5.1063</td>\n",
       "      <td id=\"T_1b8d7_row0_col2\" class=\"data row0 col2\" >44.2188</td>\n",
       "      <td id=\"T_1b8d7_row0_col3\" class=\"data row0 col3\" >6.4932</td>\n",
       "      <td id=\"T_1b8d7_row0_col4\" class=\"data row0 col4\" >0.5266</td>\n",
       "      <td id=\"T_1b8d7_row0_col5\" class=\"data row0 col5\" >0.3431</td>\n",
       "      <td id=\"T_1b8d7_row0_col6\" class=\"data row0 col6\" >0.3226</td>\n",
       "      <td id=\"T_1b8d7_row0_col7\" class=\"data row0 col7\" >0.0208</td>\n",
       "    </tr>\n",
       "    <tr>\n",
       "      <th id=\"T_1b8d7_level0_row1\" class=\"row_heading level0 row1\" >llar</th>\n",
       "      <td id=\"T_1b8d7_row1_col0\" class=\"data row1 col0\" >Lasso Least Angle Regression</td>\n",
       "      <td id=\"T_1b8d7_row1_col1\" class=\"data row1 col1\" >5.1115</td>\n",
       "      <td id=\"T_1b8d7_row1_col2\" class=\"data row1 col2\" >44.2643</td>\n",
       "      <td id=\"T_1b8d7_row1_col3\" class=\"data row1 col3\" >6.4967</td>\n",
       "      <td id=\"T_1b8d7_row1_col4\" class=\"data row1 col4\" >0.5262</td>\n",
       "      <td id=\"T_1b8d7_row1_col5\" class=\"data row1 col5\" >0.3431</td>\n",
       "      <td id=\"T_1b8d7_row1_col6\" class=\"data row1 col6\" >0.3229</td>\n",
       "      <td id=\"T_1b8d7_row1_col7\" class=\"data row1 col7\" >0.0192</td>\n",
       "    </tr>\n",
       "    <tr>\n",
       "      <th id=\"T_1b8d7_level0_row2\" class=\"row_heading level0 row2\" >br</th>\n",
       "      <td id=\"T_1b8d7_row2_col0\" class=\"data row2 col0\" >Bayesian Ridge</td>\n",
       "      <td id=\"T_1b8d7_row2_col1\" class=\"data row2 col1\" >5.1382</td>\n",
       "      <td id=\"T_1b8d7_row2_col2\" class=\"data row2 col2\" >44.7383</td>\n",
       "      <td id=\"T_1b8d7_row2_col3\" class=\"data row2 col3\" >6.5352</td>\n",
       "      <td id=\"T_1b8d7_row2_col4\" class=\"data row2 col4\" >0.5222</td>\n",
       "      <td id=\"T_1b8d7_row2_col5\" class=\"data row2 col5\" >0.3457</td>\n",
       "      <td id=\"T_1b8d7_row2_col6\" class=\"data row2 col6\" >0.3246</td>\n",
       "      <td id=\"T_1b8d7_row2_col7\" class=\"data row2 col7\" >0.0183</td>\n",
       "    </tr>\n",
       "    <tr>\n",
       "      <th id=\"T_1b8d7_level0_row3\" class=\"row_heading level0 row3\" >en</th>\n",
       "      <td id=\"T_1b8d7_row3_col0\" class=\"data row3 col0\" >Elastic Net</td>\n",
       "      <td id=\"T_1b8d7_row3_col1\" class=\"data row3 col1\" >5.1270</td>\n",
       "      <td id=\"T_1b8d7_row3_col2\" class=\"data row3 col2\" >44.7151</td>\n",
       "      <td id=\"T_1b8d7_row3_col3\" class=\"data row3 col3\" >6.5293</td>\n",
       "      <td id=\"T_1b8d7_row3_col4\" class=\"data row3 col4\" >0.5207</td>\n",
       "      <td id=\"T_1b8d7_row3_col5\" class=\"data row3 col5\" >0.3453</td>\n",
       "      <td id=\"T_1b8d7_row3_col6\" class=\"data row3 col6\" >0.3230</td>\n",
       "      <td id=\"T_1b8d7_row3_col7\" class=\"data row3 col7\" >0.0192</td>\n",
       "    </tr>\n",
       "    <tr>\n",
       "      <th id=\"T_1b8d7_level0_row4\" class=\"row_heading level0 row4\" >omp</th>\n",
       "      <td id=\"T_1b8d7_row4_col0\" class=\"data row4 col0\" >Orthogonal Matching Pursuit</td>\n",
       "      <td id=\"T_1b8d7_row4_col1\" class=\"data row4 col1\" >5.1457</td>\n",
       "      <td id=\"T_1b8d7_row4_col2\" class=\"data row4 col2\" >44.8714</td>\n",
       "      <td id=\"T_1b8d7_row4_col3\" class=\"data row4 col3\" >6.5434</td>\n",
       "      <td id=\"T_1b8d7_row4_col4\" class=\"data row4 col4\" >0.5194</td>\n",
       "      <td id=\"T_1b8d7_row4_col5\" class=\"data row4 col5\" >0.3451</td>\n",
       "      <td id=\"T_1b8d7_row4_col6\" class=\"data row4 col6\" >0.3261</td>\n",
       "      <td id=\"T_1b8d7_row4_col7\" class=\"data row4 col7\" >0.0208</td>\n",
       "    </tr>\n",
       "    <tr>\n",
       "      <th id=\"T_1b8d7_level0_row5\" class=\"row_heading level0 row5\" >huber</th>\n",
       "      <td id=\"T_1b8d7_row5_col0\" class=\"data row5 col0\" >Huber Regressor</td>\n",
       "      <td id=\"T_1b8d7_row5_col1\" class=\"data row5 col1\" >5.1162</td>\n",
       "      <td id=\"T_1b8d7_row5_col2\" class=\"data row5 col2\" >46.0862</td>\n",
       "      <td id=\"T_1b8d7_row5_col3\" class=\"data row5 col3\" >6.5935</td>\n",
       "      <td id=\"T_1b8d7_row5_col4\" class=\"data row5 col4\" >0.5094</td>\n",
       "      <td id=\"T_1b8d7_row5_col5\" class=\"data row5 col5\" >0.3456</td>\n",
       "      <td id=\"T_1b8d7_row5_col6\" class=\"data row5 col6\" >0.3067</td>\n",
       "      <td id=\"T_1b8d7_row5_col7\" class=\"data row5 col7\" >0.0208</td>\n",
       "    </tr>\n",
       "    <tr>\n",
       "      <th id=\"T_1b8d7_level0_row6\" class=\"row_heading level0 row6\" >gbr</th>\n",
       "      <td id=\"T_1b8d7_row6_col0\" class=\"data row6 col0\" >Gradient Boosting Regressor</td>\n",
       "      <td id=\"T_1b8d7_row6_col1\" class=\"data row6 col1\" >5.3309</td>\n",
       "      <td id=\"T_1b8d7_row6_col2\" class=\"data row6 col2\" >46.4344</td>\n",
       "      <td id=\"T_1b8d7_row6_col3\" class=\"data row6 col3\" >6.6721</td>\n",
       "      <td id=\"T_1b8d7_row6_col4\" class=\"data row6 col4\" >0.5060</td>\n",
       "      <td id=\"T_1b8d7_row6_col5\" class=\"data row6 col5\" >0.3507</td>\n",
       "      <td id=\"T_1b8d7_row6_col6\" class=\"data row6 col6\" >0.3370</td>\n",
       "      <td id=\"T_1b8d7_row6_col7\" class=\"data row6 col7\" >0.0517</td>\n",
       "    </tr>\n",
       "    <tr>\n",
       "      <th id=\"T_1b8d7_level0_row7\" class=\"row_heading level0 row7\" >rf</th>\n",
       "      <td id=\"T_1b8d7_row7_col0\" class=\"data row7 col0\" >Random Forest Regressor</td>\n",
       "      <td id=\"T_1b8d7_row7_col1\" class=\"data row7 col1\" >5.3054</td>\n",
       "      <td id=\"T_1b8d7_row7_col2\" class=\"data row7 col2\" >46.7517</td>\n",
       "      <td id=\"T_1b8d7_row7_col3\" class=\"data row7 col3\" >6.6779</td>\n",
       "      <td id=\"T_1b8d7_row7_col4\" class=\"data row7 col4\" >0.5057</td>\n",
       "      <td id=\"T_1b8d7_row7_col5\" class=\"data row7 col5\" >0.3588</td>\n",
       "      <td id=\"T_1b8d7_row7_col6\" class=\"data row7 col6\" >0.3508</td>\n",
       "      <td id=\"T_1b8d7_row7_col7\" class=\"data row7 col7\" >0.0917</td>\n",
       "    </tr>\n",
       "    <tr>\n",
       "      <th id=\"T_1b8d7_level0_row8\" class=\"row_heading level0 row8\" >ridge</th>\n",
       "      <td id=\"T_1b8d7_row8_col0\" class=\"data row8 col0\" >Ridge Regression</td>\n",
       "      <td id=\"T_1b8d7_row8_col1\" class=\"data row8 col1\" >5.2611</td>\n",
       "      <td id=\"T_1b8d7_row8_col2\" class=\"data row8 col2\" >46.4648</td>\n",
       "      <td id=\"T_1b8d7_row8_col3\" class=\"data row8 col3\" >6.6861</td>\n",
       "      <td id=\"T_1b8d7_row8_col4\" class=\"data row8 col4\" >0.5013</td>\n",
       "      <td id=\"T_1b8d7_row8_col5\" class=\"data row8 col5\" >0.3776</td>\n",
       "      <td id=\"T_1b8d7_row8_col6\" class=\"data row8 col6\" >0.3293</td>\n",
       "      <td id=\"T_1b8d7_row8_col7\" class=\"data row8 col7\" >0.0242</td>\n",
       "    </tr>\n",
       "    <tr>\n",
       "      <th id=\"T_1b8d7_level0_row9\" class=\"row_heading level0 row9\" >ada</th>\n",
       "      <td id=\"T_1b8d7_row9_col0\" class=\"data row9 col0\" >AdaBoost Regressor</td>\n",
       "      <td id=\"T_1b8d7_row9_col1\" class=\"data row9 col1\" >5.4854</td>\n",
       "      <td id=\"T_1b8d7_row9_col2\" class=\"data row9 col2\" >47.2316</td>\n",
       "      <td id=\"T_1b8d7_row9_col3\" class=\"data row9 col3\" >6.7367</td>\n",
       "      <td id=\"T_1b8d7_row9_col4\" class=\"data row9 col4\" >0.4964</td>\n",
       "      <td id=\"T_1b8d7_row9_col5\" class=\"data row9 col5\" >0.3709</td>\n",
       "      <td id=\"T_1b8d7_row9_col6\" class=\"data row9 col6\" >0.3801</td>\n",
       "      <td id=\"T_1b8d7_row9_col7\" class=\"data row9 col7\" >0.0325</td>\n",
       "    </tr>\n",
       "    <tr>\n",
       "      <th id=\"T_1b8d7_level0_row10\" class=\"row_heading level0 row10\" >lr</th>\n",
       "      <td id=\"T_1b8d7_row10_col0\" class=\"data row10 col0\" >Linear Regression</td>\n",
       "      <td id=\"T_1b8d7_row10_col1\" class=\"data row10 col1\" >5.3052</td>\n",
       "      <td id=\"T_1b8d7_row10_col2\" class=\"data row10 col2\" >47.1521</td>\n",
       "      <td id=\"T_1b8d7_row10_col3\" class=\"data row10 col3\" >6.7280</td>\n",
       "      <td id=\"T_1b8d7_row10_col4\" class=\"data row10 col4\" >0.4952</td>\n",
       "      <td id=\"T_1b8d7_row10_col5\" class=\"data row10 col5\" >0.3770</td>\n",
       "      <td id=\"T_1b8d7_row10_col6\" class=\"data row10 col6\" >0.3309</td>\n",
       "      <td id=\"T_1b8d7_row10_col7\" class=\"data row10 col7\" >0.0217</td>\n",
       "    </tr>\n",
       "    <tr>\n",
       "      <th id=\"T_1b8d7_level0_row11\" class=\"row_heading level0 row11\" >et</th>\n",
       "      <td id=\"T_1b8d7_row11_col0\" class=\"data row11 col0\" >Extra Trees Regressor</td>\n",
       "      <td id=\"T_1b8d7_row11_col1\" class=\"data row11 col1\" >5.2642</td>\n",
       "      <td id=\"T_1b8d7_row11_col2\" class=\"data row11 col2\" >47.2324</td>\n",
       "      <td id=\"T_1b8d7_row11_col3\" class=\"data row11 col3\" >6.6852</td>\n",
       "      <td id=\"T_1b8d7_row11_col4\" class=\"data row11 col4\" >0.4937</td>\n",
       "      <td id=\"T_1b8d7_row11_col5\" class=\"data row11 col5\" >0.3542</td>\n",
       "      <td id=\"T_1b8d7_row11_col6\" class=\"data row11 col6\" >0.3395</td>\n",
       "      <td id=\"T_1b8d7_row11_col7\" class=\"data row11 col7\" >0.0550</td>\n",
       "    </tr>\n",
       "    <tr>\n",
       "      <th id=\"T_1b8d7_level0_row12\" class=\"row_heading level0 row12\" >lightgbm</th>\n",
       "      <td id=\"T_1b8d7_row12_col0\" class=\"data row12 col0\" >Light Gradient Boosting Machine</td>\n",
       "      <td id=\"T_1b8d7_row12_col1\" class=\"data row12 col1\" >5.3958</td>\n",
       "      <td id=\"T_1b8d7_row12_col2\" class=\"data row12 col2\" >47.4602</td>\n",
       "      <td id=\"T_1b8d7_row12_col3\" class=\"data row12 col3\" >6.7372</td>\n",
       "      <td id=\"T_1b8d7_row12_col4\" class=\"data row12 col4\" >0.4913</td>\n",
       "      <td id=\"T_1b8d7_row12_col5\" class=\"data row12 col5\" >0.3639</td>\n",
       "      <td id=\"T_1b8d7_row12_col6\" class=\"data row12 col6\" >0.3497</td>\n",
       "      <td id=\"T_1b8d7_row12_col7\" class=\"data row12 col7\" >0.0475</td>\n",
       "    </tr>\n",
       "    <tr>\n",
       "      <th id=\"T_1b8d7_level0_row13\" class=\"row_heading level0 row13\" >knn</th>\n",
       "      <td id=\"T_1b8d7_row13_col0\" class=\"data row13 col0\" >K Neighbors Regressor</td>\n",
       "      <td id=\"T_1b8d7_row13_col1\" class=\"data row13 col1\" >6.1319</td>\n",
       "      <td id=\"T_1b8d7_row13_col2\" class=\"data row13 col2\" >63.2035</td>\n",
       "      <td id=\"T_1b8d7_row13_col3\" class=\"data row13 col3\" >7.8208</td>\n",
       "      <td id=\"T_1b8d7_row13_col4\" class=\"data row13 col4\" >0.3139</td>\n",
       "      <td id=\"T_1b8d7_row13_col5\" class=\"data row13 col5\" >0.3953</td>\n",
       "      <td id=\"T_1b8d7_row13_col6\" class=\"data row13 col6\" >0.3886</td>\n",
       "      <td id=\"T_1b8d7_row13_col7\" class=\"data row13 col7\" >0.0183</td>\n",
       "    </tr>\n",
       "    <tr>\n",
       "      <th id=\"T_1b8d7_level0_row14\" class=\"row_heading level0 row14\" >dt</th>\n",
       "      <td id=\"T_1b8d7_row14_col0\" class=\"data row14 col0\" >Decision Tree Regressor</td>\n",
       "      <td id=\"T_1b8d7_row14_col1\" class=\"data row14 col1\" >7.1389</td>\n",
       "      <td id=\"T_1b8d7_row14_col2\" class=\"data row14 col2\" >85.3877</td>\n",
       "      <td id=\"T_1b8d7_row14_col3\" class=\"data row14 col3\" >9.1191</td>\n",
       "      <td id=\"T_1b8d7_row14_col4\" class=\"data row14 col4\" >0.0542</td>\n",
       "      <td id=\"T_1b8d7_row14_col5\" class=\"data row14 col5\" >0.4720</td>\n",
       "      <td id=\"T_1b8d7_row14_col6\" class=\"data row14 col6\" >0.4237</td>\n",
       "      <td id=\"T_1b8d7_row14_col7\" class=\"data row14 col7\" >0.0217</td>\n",
       "    </tr>\n",
       "    <tr>\n",
       "      <th id=\"T_1b8d7_level0_row15\" class=\"row_heading level0 row15\" >dummy</th>\n",
       "      <td id=\"T_1b8d7_row15_col0\" class=\"data row15 col0\" >Dummy Regressor</td>\n",
       "      <td id=\"T_1b8d7_row15_col1\" class=\"data row15 col1\" >7.8709</td>\n",
       "      <td id=\"T_1b8d7_row15_col2\" class=\"data row15 col2\" >99.8166</td>\n",
       "      <td id=\"T_1b8d7_row15_col3\" class=\"data row15 col3\" >9.8530</td>\n",
       "      <td id=\"T_1b8d7_row15_col4\" class=\"data row15 col4\" >-0.0476</td>\n",
       "      <td id=\"T_1b8d7_row15_col5\" class=\"data row15 col5\" >0.5004</td>\n",
       "      <td id=\"T_1b8d7_row15_col6\" class=\"data row15 col6\" >0.5563</td>\n",
       "      <td id=\"T_1b8d7_row15_col7\" class=\"data row15 col7\" >0.0175</td>\n",
       "    </tr>\n",
       "    <tr>\n",
       "      <th id=\"T_1b8d7_level0_row16\" class=\"row_heading level0 row16\" >par</th>\n",
       "      <td id=\"T_1b8d7_row16_col0\" class=\"data row16 col0\" >Passive Aggressive Regressor</td>\n",
       "      <td id=\"T_1b8d7_row16_col1\" class=\"data row16 col1\" >10.1300</td>\n",
       "      <td id=\"T_1b8d7_row16_col2\" class=\"data row16 col2\" >194.5290</td>\n",
       "      <td id=\"T_1b8d7_row16_col3\" class=\"data row16 col3\" >12.0385</td>\n",
       "      <td id=\"T_1b8d7_row16_col4\" class=\"data row16 col4\" >-1.2148</td>\n",
       "      <td id=\"T_1b8d7_row16_col5\" class=\"data row16 col5\" >0.5444</td>\n",
       "      <td id=\"T_1b8d7_row16_col6\" class=\"data row16 col6\" >0.6557</td>\n",
       "      <td id=\"T_1b8d7_row16_col7\" class=\"data row16 col7\" >0.0183</td>\n",
       "    </tr>\n",
       "    <tr>\n",
       "      <th id=\"T_1b8d7_level0_row17\" class=\"row_heading level0 row17\" >lar</th>\n",
       "      <td id=\"T_1b8d7_row17_col0\" class=\"data row17 col0\" >Least Angle Regression</td>\n",
       "      <td id=\"T_1b8d7_row17_col1\" class=\"data row17 col1\" >170845254126453.7812</td>\n",
       "      <td id=\"T_1b8d7_row17_col2\" class=\"data row17 col2\" >533324115627297196391907983360.0000</td>\n",
       "      <td id=\"T_1b8d7_row17_col3\" class=\"data row17 col3\" >210847950905106.3438</td>\n",
       "      <td id=\"T_1b8d7_row17_col4\" class=\"data row17 col4\" >-7287424168887912056347426816.0000</td>\n",
       "      <td id=\"T_1b8d7_row17_col5\" class=\"data row17 col5\" >17.6262</td>\n",
       "      <td id=\"T_1b8d7_row17_col6\" class=\"data row17 col6\" >13772657940987.1504</td>\n",
       "      <td id=\"T_1b8d7_row17_col7\" class=\"data row17 col7\" >0.0233</td>\n",
       "    </tr>\n",
       "  </tbody>\n",
       "</table>\n"
      ],
      "text/plain": [
       "<pandas.io.formats.style.Styler at 0x25c4aaa0fd0>"
      ]
     },
     "metadata": {},
     "output_type": "display_data"
    },
    {
     "data": {
      "text/html": [],
      "text/plain": [
       "<IPython.core.display.HTML object>"
      ]
     },
     "metadata": {},
     "output_type": "display_data"
    }
   ],
   "source": [
    "# compare baseline models\n",
    "best = exp1.compare_models(n_select=17)"
   ]
  },
  {
   "cell_type": "code",
   "execution_count": 264,
   "metadata": {},
   "outputs": [
    {
     "data": {
      "text/html": [],
      "text/plain": [
       "<IPython.core.display.HTML object>"
      ]
     },
     "metadata": {},
     "output_type": "display_data"
    },
    {
     "data": {
      "text/html": [
       "<style type=\"text/css\">\n",
       "#T_9d567_row12_col0, #T_9d567_row12_col1, #T_9d567_row12_col2, #T_9d567_row12_col3, #T_9d567_row12_col4, #T_9d567_row12_col5 {\n",
       "  background: yellow;\n",
       "}\n",
       "</style>\n",
       "<table id=\"T_9d567\">\n",
       "  <thead>\n",
       "    <tr>\n",
       "      <th class=\"blank level0\" >&nbsp;</th>\n",
       "      <th id=\"T_9d567_level0_col0\" class=\"col_heading level0 col0\" >MAE</th>\n",
       "      <th id=\"T_9d567_level0_col1\" class=\"col_heading level0 col1\" >MSE</th>\n",
       "      <th id=\"T_9d567_level0_col2\" class=\"col_heading level0 col2\" >RMSE</th>\n",
       "      <th id=\"T_9d567_level0_col3\" class=\"col_heading level0 col3\" >R2</th>\n",
       "      <th id=\"T_9d567_level0_col4\" class=\"col_heading level0 col4\" >RMSLE</th>\n",
       "      <th id=\"T_9d567_level0_col5\" class=\"col_heading level0 col5\" >MAPE</th>\n",
       "    </tr>\n",
       "    <tr>\n",
       "      <th class=\"index_name level0\" >Fold</th>\n",
       "      <th class=\"blank col0\" >&nbsp;</th>\n",
       "      <th class=\"blank col1\" >&nbsp;</th>\n",
       "      <th class=\"blank col2\" >&nbsp;</th>\n",
       "      <th class=\"blank col3\" >&nbsp;</th>\n",
       "      <th class=\"blank col4\" >&nbsp;</th>\n",
       "      <th class=\"blank col5\" >&nbsp;</th>\n",
       "    </tr>\n",
       "  </thead>\n",
       "  <tbody>\n",
       "    <tr>\n",
       "      <th id=\"T_9d567_level0_row0\" class=\"row_heading level0 row0\" >0</th>\n",
       "      <td id=\"T_9d567_row0_col0\" class=\"data row0 col0\" >4.3920</td>\n",
       "      <td id=\"T_9d567_row0_col1\" class=\"data row0 col1\" >28.1040</td>\n",
       "      <td id=\"T_9d567_row0_col2\" class=\"data row0 col2\" >5.3013</td>\n",
       "      <td id=\"T_9d567_row0_col3\" class=\"data row0 col3\" >0.6909</td>\n",
       "      <td id=\"T_9d567_row0_col4\" class=\"data row0 col4\" >0.3161</td>\n",
       "      <td id=\"T_9d567_row0_col5\" class=\"data row0 col5\" >0.3013</td>\n",
       "    </tr>\n",
       "    <tr>\n",
       "      <th id=\"T_9d567_level0_row1\" class=\"row_heading level0 row1\" >1</th>\n",
       "      <td id=\"T_9d567_row1_col0\" class=\"data row1 col0\" >7.7893</td>\n",
       "      <td id=\"T_9d567_row1_col1\" class=\"data row1 col1\" >111.1562</td>\n",
       "      <td id=\"T_9d567_row1_col2\" class=\"data row1 col2\" >10.5431</td>\n",
       "      <td id=\"T_9d567_row1_col3\" class=\"data row1 col3\" >0.3876</td>\n",
       "      <td id=\"T_9d567_row1_col4\" class=\"data row1 col4\" >0.4466</td>\n",
       "      <td id=\"T_9d567_row1_col5\" class=\"data row1 col5\" >0.3869</td>\n",
       "    </tr>\n",
       "    <tr>\n",
       "      <th id=\"T_9d567_level0_row2\" class=\"row_heading level0 row2\" >2</th>\n",
       "      <td id=\"T_9d567_row2_col0\" class=\"data row2 col0\" >4.5444</td>\n",
       "      <td id=\"T_9d567_row2_col1\" class=\"data row2 col1\" >26.9542</td>\n",
       "      <td id=\"T_9d567_row2_col2\" class=\"data row2 col2\" >5.1917</td>\n",
       "      <td id=\"T_9d567_row2_col3\" class=\"data row2 col3\" >0.6317</td>\n",
       "      <td id=\"T_9d567_row2_col4\" class=\"data row2 col4\" >0.4018</td>\n",
       "      <td id=\"T_9d567_row2_col5\" class=\"data row2 col5\" >0.4597</td>\n",
       "    </tr>\n",
       "    <tr>\n",
       "      <th id=\"T_9d567_level0_row3\" class=\"row_heading level0 row3\" >3</th>\n",
       "      <td id=\"T_9d567_row3_col0\" class=\"data row3 col0\" >6.2770</td>\n",
       "      <td id=\"T_9d567_row3_col1\" class=\"data row3 col1\" >58.3960</td>\n",
       "      <td id=\"T_9d567_row3_col2\" class=\"data row3 col2\" >7.6417</td>\n",
       "      <td id=\"T_9d567_row3_col3\" class=\"data row3 col3\" >0.4802</td>\n",
       "      <td id=\"T_9d567_row3_col4\" class=\"data row3 col4\" >0.4158</td>\n",
       "      <td id=\"T_9d567_row3_col5\" class=\"data row3 col5\" >0.4385</td>\n",
       "    </tr>\n",
       "    <tr>\n",
       "      <th id=\"T_9d567_level0_row4\" class=\"row_heading level0 row4\" >4</th>\n",
       "      <td id=\"T_9d567_row4_col0\" class=\"data row4 col0\" >4.4968</td>\n",
       "      <td id=\"T_9d567_row4_col1\" class=\"data row4 col1\" >53.5889</td>\n",
       "      <td id=\"T_9d567_row4_col2\" class=\"data row4 col2\" >7.3204</td>\n",
       "      <td id=\"T_9d567_row4_col3\" class=\"data row4 col3\" >0.4845</td>\n",
       "      <td id=\"T_9d567_row4_col4\" class=\"data row4 col4\" >0.2983</td>\n",
       "      <td id=\"T_9d567_row4_col5\" class=\"data row4 col5\" >0.2259</td>\n",
       "    </tr>\n",
       "    <tr>\n",
       "      <th id=\"T_9d567_level0_row5\" class=\"row_heading level0 row5\" >5</th>\n",
       "      <td id=\"T_9d567_row5_col0\" class=\"data row5 col0\" >5.5119</td>\n",
       "      <td id=\"T_9d567_row5_col1\" class=\"data row5 col1\" >44.9527</td>\n",
       "      <td id=\"T_9d567_row5_col2\" class=\"data row5 col2\" >6.7047</td>\n",
       "      <td id=\"T_9d567_row5_col3\" class=\"data row5 col3\" >0.2507</td>\n",
       "      <td id=\"T_9d567_row5_col4\" class=\"data row5 col4\" >0.4022</td>\n",
       "      <td id=\"T_9d567_row5_col5\" class=\"data row5 col5\" >0.4372</td>\n",
       "    </tr>\n",
       "    <tr>\n",
       "      <th id=\"T_9d567_level0_row6\" class=\"row_heading level0 row6\" >6</th>\n",
       "      <td id=\"T_9d567_row6_col0\" class=\"data row6 col0\" >5.7010</td>\n",
       "      <td id=\"T_9d567_row6_col1\" class=\"data row6 col1\" >47.1947</td>\n",
       "      <td id=\"T_9d567_row6_col2\" class=\"data row6 col2\" >6.8698</td>\n",
       "      <td id=\"T_9d567_row6_col3\" class=\"data row6 col3\" >0.2290</td>\n",
       "      <td id=\"T_9d567_row6_col4\" class=\"data row6 col4\" >0.3972</td>\n",
       "      <td id=\"T_9d567_row6_col5\" class=\"data row6 col5\" >0.4226</td>\n",
       "    </tr>\n",
       "    <tr>\n",
       "      <th id=\"T_9d567_level0_row7\" class=\"row_heading level0 row7\" >7</th>\n",
       "      <td id=\"T_9d567_row7_col0\" class=\"data row7 col0\" >6.1701</td>\n",
       "      <td id=\"T_9d567_row7_col1\" class=\"data row7 col1\" >55.7743</td>\n",
       "      <td id=\"T_9d567_row7_col2\" class=\"data row7 col2\" >7.4682</td>\n",
       "      <td id=\"T_9d567_row7_col3\" class=\"data row7 col3\" >0.5610</td>\n",
       "      <td id=\"T_9d567_row7_col4\" class=\"data row7 col4\" >0.4137</td>\n",
       "      <td id=\"T_9d567_row7_col5\" class=\"data row7 col5\" >0.4331</td>\n",
       "    </tr>\n",
       "    <tr>\n",
       "      <th id=\"T_9d567_level0_row8\" class=\"row_heading level0 row8\" >8</th>\n",
       "      <td id=\"T_9d567_row8_col0\" class=\"data row8 col0\" >4.0870</td>\n",
       "      <td id=\"T_9d567_row8_col1\" class=\"data row8 col1\" >24.3771</td>\n",
       "      <td id=\"T_9d567_row8_col2\" class=\"data row8 col2\" >4.9373</td>\n",
       "      <td id=\"T_9d567_row8_col3\" class=\"data row8 col3\" >0.6857</td>\n",
       "      <td id=\"T_9d567_row8_col4\" class=\"data row8 col4\" >0.2677</td>\n",
       "      <td id=\"T_9d567_row8_col5\" class=\"data row8 col5\" >0.2481</td>\n",
       "    </tr>\n",
       "    <tr>\n",
       "      <th id=\"T_9d567_level0_row9\" class=\"row_heading level0 row9\" >9</th>\n",
       "      <td id=\"T_9d567_row9_col0\" class=\"data row9 col0\" >5.0393</td>\n",
       "      <td id=\"T_9d567_row9_col1\" class=\"data row9 col1\" >40.2546</td>\n",
       "      <td id=\"T_9d567_row9_col2\" class=\"data row9 col2\" >6.3447</td>\n",
       "      <td id=\"T_9d567_row9_col3\" class=\"data row9 col3\" >0.6074</td>\n",
       "      <td id=\"T_9d567_row9_col4\" class=\"data row9 col4\" >0.3110</td>\n",
       "      <td id=\"T_9d567_row9_col5\" class=\"data row9 col5\" >0.2542</td>\n",
       "    </tr>\n",
       "    <tr>\n",
       "      <th id=\"T_9d567_level0_row10\" class=\"row_heading level0 row10\" >10</th>\n",
       "      <td id=\"T_9d567_row10_col0\" class=\"data row10 col0\" >4.5524</td>\n",
       "      <td id=\"T_9d567_row10_col1\" class=\"data row10 col1\" >29.1877</td>\n",
       "      <td id=\"T_9d567_row10_col2\" class=\"data row10 col2\" >5.4026</td>\n",
       "      <td id=\"T_9d567_row10_col3\" class=\"data row10 col3\" >0.6423</td>\n",
       "      <td id=\"T_9d567_row10_col4\" class=\"data row10 col4\" >0.3335</td>\n",
       "      <td id=\"T_9d567_row10_col5\" class=\"data row10 col5\" >0.3340</td>\n",
       "    </tr>\n",
       "    <tr>\n",
       "      <th id=\"T_9d567_level0_row11\" class=\"row_heading level0 row11\" >11</th>\n",
       "      <td id=\"T_9d567_row11_col0\" class=\"data row11 col0\" >5.1038</td>\n",
       "      <td id=\"T_9d567_row11_col1\" class=\"data row11 col1\" >41.0800</td>\n",
       "      <td id=\"T_9d567_row11_col2\" class=\"data row11 col2\" >6.4094</td>\n",
       "      <td id=\"T_9d567_row11_col3\" class=\"data row11 col3\" >0.4175</td>\n",
       "      <td id=\"T_9d567_row11_col4\" class=\"data row11 col4\" >0.3011</td>\n",
       "      <td id=\"T_9d567_row11_col5\" class=\"data row11 col5\" >0.2677</td>\n",
       "    </tr>\n",
       "    <tr>\n",
       "      <th id=\"T_9d567_level0_row12\" class=\"row_heading level0 row12\" >Mean</th>\n",
       "      <td id=\"T_9d567_row12_col0\" class=\"data row12 col0\" >5.3054</td>\n",
       "      <td id=\"T_9d567_row12_col1\" class=\"data row12 col1\" >46.7517</td>\n",
       "      <td id=\"T_9d567_row12_col2\" class=\"data row12 col2\" >6.6779</td>\n",
       "      <td id=\"T_9d567_row12_col3\" class=\"data row12 col3\" >0.5057</td>\n",
       "      <td id=\"T_9d567_row12_col4\" class=\"data row12 col4\" >0.3588</td>\n",
       "      <td id=\"T_9d567_row12_col5\" class=\"data row12 col5\" >0.3508</td>\n",
       "    </tr>\n",
       "    <tr>\n",
       "      <th id=\"T_9d567_level0_row13\" class=\"row_heading level0 row13\" >Std</th>\n",
       "      <td id=\"T_9d567_row13_col0\" class=\"data row13 col0\" >1.0121</td>\n",
       "      <td id=\"T_9d567_row13_col1\" class=\"data row13 col1\" >22.4319</td>\n",
       "      <td id=\"T_9d567_row13_col2\" class=\"data row13 col2\" >1.4687</td>\n",
       "      <td id=\"T_9d567_row13_col3\" class=\"data row13 col3\" >0.1525</td>\n",
       "      <td id=\"T_9d567_row13_col4\" class=\"data row13 col4\" >0.0572</td>\n",
       "      <td id=\"T_9d567_row13_col5\" class=\"data row13 col5\" >0.0843</td>\n",
       "    </tr>\n",
       "  </tbody>\n",
       "</table>\n"
      ],
      "text/plain": [
       "<pandas.io.formats.style.Styler at 0x25c433bf7d0>"
      ]
     },
     "metadata": {},
     "output_type": "display_data"
    },
    {
     "data": {
      "text/html": [],
      "text/plain": [
       "<IPython.core.display.HTML object>"
      ]
     },
     "metadata": {},
     "output_type": "display_data"
    }
   ],
   "source": [
    "model_1 = exp1.create_model('rf')\n",
    "# model_1 = exp1.create_model('en')"
   ]
  },
  {
   "cell_type": "code",
   "execution_count": 265,
   "metadata": {},
   "outputs": [
    {
     "data": {
      "application/vnd.jupyter.widget-view+json": {
       "model_id": "a05f42e9f9294aca938b9a9840e342b7",
       "version_major": 2,
       "version_minor": 0
      },
      "text/plain": [
       "interactive(children=(ToggleButtons(description='Plot Type:', icons=('',), options=(('Pipeline Plot', 'pipelin…"
      ]
     },
     "metadata": {},
     "output_type": "display_data"
    }
   ],
   "source": [
    "exp1.evaluate_model(model_1)"
   ]
  },
  {
   "cell_type": "code",
   "execution_count": 276,
   "metadata": {},
   "outputs": [
    {
     "data": {
      "text/html": [],
      "text/plain": [
       "<IPython.core.display.HTML object>"
      ]
     },
     "metadata": {},
     "output_type": "display_data"
    },
    {
     "data": {
      "text/html": [
       "<style type=\"text/css\">\n",
       "#T_27085_row12_col0, #T_27085_row12_col1, #T_27085_row12_col2, #T_27085_row12_col3, #T_27085_row12_col4, #T_27085_row12_col5 {\n",
       "  background: yellow;\n",
       "}\n",
       "</style>\n",
       "<table id=\"T_27085\">\n",
       "  <thead>\n",
       "    <tr>\n",
       "      <th class=\"blank level0\" >&nbsp;</th>\n",
       "      <th id=\"T_27085_level0_col0\" class=\"col_heading level0 col0\" >MAE</th>\n",
       "      <th id=\"T_27085_level0_col1\" class=\"col_heading level0 col1\" >MSE</th>\n",
       "      <th id=\"T_27085_level0_col2\" class=\"col_heading level0 col2\" >RMSE</th>\n",
       "      <th id=\"T_27085_level0_col3\" class=\"col_heading level0 col3\" >R2</th>\n",
       "      <th id=\"T_27085_level0_col4\" class=\"col_heading level0 col4\" >RMSLE</th>\n",
       "      <th id=\"T_27085_level0_col5\" class=\"col_heading level0 col5\" >MAPE</th>\n",
       "    </tr>\n",
       "    <tr>\n",
       "      <th class=\"index_name level0\" >Fold</th>\n",
       "      <th class=\"blank col0\" >&nbsp;</th>\n",
       "      <th class=\"blank col1\" >&nbsp;</th>\n",
       "      <th class=\"blank col2\" >&nbsp;</th>\n",
       "      <th class=\"blank col3\" >&nbsp;</th>\n",
       "      <th class=\"blank col4\" >&nbsp;</th>\n",
       "      <th class=\"blank col5\" >&nbsp;</th>\n",
       "    </tr>\n",
       "  </thead>\n",
       "  <tbody>\n",
       "    <tr>\n",
       "      <th id=\"T_27085_level0_row0\" class=\"row_heading level0 row0\" >0</th>\n",
       "      <td id=\"T_27085_row0_col0\" class=\"data row0 col0\" >4.8336</td>\n",
       "      <td id=\"T_27085_row0_col1\" class=\"data row0 col1\" >32.9426</td>\n",
       "      <td id=\"T_27085_row0_col2\" class=\"data row0 col2\" >5.7396</td>\n",
       "      <td id=\"T_27085_row0_col3\" class=\"data row0 col3\" >0.6377</td>\n",
       "      <td id=\"T_27085_row0_col4\" class=\"data row0 col4\" >0.3212</td>\n",
       "      <td id=\"T_27085_row0_col5\" class=\"data row0 col5\" >0.3154</td>\n",
       "    </tr>\n",
       "    <tr>\n",
       "      <th id=\"T_27085_level0_row1\" class=\"row_heading level0 row1\" >1</th>\n",
       "      <td id=\"T_27085_row1_col0\" class=\"data row1 col0\" >7.2078</td>\n",
       "      <td id=\"T_27085_row1_col1\" class=\"data row1 col1\" >102.9841</td>\n",
       "      <td id=\"T_27085_row1_col2\" class=\"data row1 col2\" >10.1481</td>\n",
       "      <td id=\"T_27085_row1_col3\" class=\"data row1 col3\" >0.4326</td>\n",
       "      <td id=\"T_27085_row1_col4\" class=\"data row1 col4\" >0.4114</td>\n",
       "      <td id=\"T_27085_row1_col5\" class=\"data row1 col5\" >0.3385</td>\n",
       "    </tr>\n",
       "    <tr>\n",
       "      <th id=\"T_27085_level0_row2\" class=\"row_heading level0 row2\" >2</th>\n",
       "      <td id=\"T_27085_row2_col0\" class=\"data row2 col0\" >3.8614</td>\n",
       "      <td id=\"T_27085_row2_col1\" class=\"data row2 col1\" >22.0595</td>\n",
       "      <td id=\"T_27085_row2_col2\" class=\"data row2 col2\" >4.6968</td>\n",
       "      <td id=\"T_27085_row2_col3\" class=\"data row2 col3\" >0.6986</td>\n",
       "      <td id=\"T_27085_row2_col4\" class=\"data row2 col4\" >0.3324</td>\n",
       "      <td id=\"T_27085_row2_col5\" class=\"data row2 col5\" >0.3510</td>\n",
       "    </tr>\n",
       "    <tr>\n",
       "      <th id=\"T_27085_level0_row3\" class=\"row_heading level0 row3\" >3</th>\n",
       "      <td id=\"T_27085_row3_col0\" class=\"data row3 col0\" >5.4657</td>\n",
       "      <td id=\"T_27085_row3_col1\" class=\"data row3 col1\" >43.6399</td>\n",
       "      <td id=\"T_27085_row3_col2\" class=\"data row3 col2\" >6.6061</td>\n",
       "      <td id=\"T_27085_row3_col3\" class=\"data row3 col3\" >0.6115</td>\n",
       "      <td id=\"T_27085_row3_col4\" class=\"data row3 col4\" >0.3617</td>\n",
       "      <td id=\"T_27085_row3_col5\" class=\"data row3 col5\" >0.3646</td>\n",
       "    </tr>\n",
       "    <tr>\n",
       "      <th id=\"T_27085_level0_row4\" class=\"row_heading level0 row4\" >4</th>\n",
       "      <td id=\"T_27085_row4_col0\" class=\"data row4 col0\" >5.1668</td>\n",
       "      <td id=\"T_27085_row4_col1\" class=\"data row4 col1\" >62.5850</td>\n",
       "      <td id=\"T_27085_row4_col2\" class=\"data row4 col2\" >7.9111</td>\n",
       "      <td id=\"T_27085_row4_col3\" class=\"data row4 col3\" >0.3980</td>\n",
       "      <td id=\"T_27085_row4_col4\" class=\"data row4 col4\" >0.3183</td>\n",
       "      <td id=\"T_27085_row4_col5\" class=\"data row4 col5\" >0.2451</td>\n",
       "    </tr>\n",
       "    <tr>\n",
       "      <th id=\"T_27085_level0_row5\" class=\"row_heading level0 row5\" >5</th>\n",
       "      <td id=\"T_27085_row5_col0\" class=\"data row5 col0\" >5.3083</td>\n",
       "      <td id=\"T_27085_row5_col1\" class=\"data row5 col1\" >42.1228</td>\n",
       "      <td id=\"T_27085_row5_col2\" class=\"data row5 col2\" >6.4902</td>\n",
       "      <td id=\"T_27085_row5_col3\" class=\"data row5 col3\" >0.2979</td>\n",
       "      <td id=\"T_27085_row5_col4\" class=\"data row5 col4\" >0.3837</td>\n",
       "      <td id=\"T_27085_row5_col5\" class=\"data row5 col5\" >0.3940</td>\n",
       "    </tr>\n",
       "    <tr>\n",
       "      <th id=\"T_27085_level0_row6\" class=\"row_heading level0 row6\" >6</th>\n",
       "      <td id=\"T_27085_row6_col0\" class=\"data row6 col0\" >5.4642</td>\n",
       "      <td id=\"T_27085_row6_col1\" class=\"data row6 col1\" >48.6332</td>\n",
       "      <td id=\"T_27085_row6_col2\" class=\"data row6 col2\" >6.9737</td>\n",
       "      <td id=\"T_27085_row6_col3\" class=\"data row6 col3\" >0.2055</td>\n",
       "      <td id=\"T_27085_row6_col4\" class=\"data row6 col4\" >0.3884</td>\n",
       "      <td id=\"T_27085_row6_col5\" class=\"data row6 col5\" >0.4021</td>\n",
       "    </tr>\n",
       "    <tr>\n",
       "      <th id=\"T_27085_level0_row7\" class=\"row_heading level0 row7\" >7</th>\n",
       "      <td id=\"T_27085_row7_col0\" class=\"data row7 col0\" >5.8969</td>\n",
       "      <td id=\"T_27085_row7_col1\" class=\"data row7 col1\" >48.2235</td>\n",
       "      <td id=\"T_27085_row7_col2\" class=\"data row7 col2\" >6.9443</td>\n",
       "      <td id=\"T_27085_row7_col3\" class=\"data row7 col3\" >0.6205</td>\n",
       "      <td id=\"T_27085_row7_col4\" class=\"data row7 col4\" >0.3784</td>\n",
       "      <td id=\"T_27085_row7_col5\" class=\"data row7 col5\" >0.3866</td>\n",
       "    </tr>\n",
       "    <tr>\n",
       "      <th id=\"T_27085_level0_row8\" class=\"row_heading level0 row8\" >8</th>\n",
       "      <td id=\"T_27085_row8_col0\" class=\"data row8 col0\" >4.6683</td>\n",
       "      <td id=\"T_27085_row8_col1\" class=\"data row8 col1\" >28.7732</td>\n",
       "      <td id=\"T_27085_row8_col2\" class=\"data row8 col2\" >5.3641</td>\n",
       "      <td id=\"T_27085_row8_col3\" class=\"data row8 col3\" >0.6290</td>\n",
       "      <td id=\"T_27085_row8_col4\" class=\"data row8 col4\" >0.2796</td>\n",
       "      <td id=\"T_27085_row8_col5\" class=\"data row8 col5\" >0.2770</td>\n",
       "    </tr>\n",
       "    <tr>\n",
       "      <th id=\"T_27085_level0_row9\" class=\"row_heading level0 row9\" >9</th>\n",
       "      <td id=\"T_27085_row9_col0\" class=\"data row9 col0\" >5.1934</td>\n",
       "      <td id=\"T_27085_row9_col1\" class=\"data row9 col1\" >40.8529</td>\n",
       "      <td id=\"T_27085_row9_col2\" class=\"data row9 col2\" >6.3916</td>\n",
       "      <td id=\"T_27085_row9_col3\" class=\"data row9 col3\" >0.6016</td>\n",
       "      <td id=\"T_27085_row9_col4\" class=\"data row9 col4\" >0.3400</td>\n",
       "      <td id=\"T_27085_row9_col5\" class=\"data row9 col5\" >0.2515</td>\n",
       "    </tr>\n",
       "    <tr>\n",
       "      <th id=\"T_27085_level0_row10\" class=\"row_heading level0 row10\" >10</th>\n",
       "      <td id=\"T_27085_row10_col0\" class=\"data row10 col0\" >3.4509</td>\n",
       "      <td id=\"T_27085_row10_col1\" class=\"data row10 col1\" >21.4296</td>\n",
       "      <td id=\"T_27085_row10_col2\" class=\"data row10 col2\" >4.6292</td>\n",
       "      <td id=\"T_27085_row10_col3\" class=\"data row10 col3\" >0.7374</td>\n",
       "      <td id=\"T_27085_row10_col4\" class=\"data row10 col4\" >0.3126</td>\n",
       "      <td id=\"T_27085_row10_col5\" class=\"data row10 col5\" >0.2850</td>\n",
       "    </tr>\n",
       "    <tr>\n",
       "      <th id=\"T_27085_level0_row11\" class=\"row_heading level0 row11\" >11</th>\n",
       "      <td id=\"T_27085_row11_col0\" class=\"data row11 col0\" >5.1408</td>\n",
       "      <td id=\"T_27085_row11_col1\" class=\"data row11 col1\" >42.6131</td>\n",
       "      <td id=\"T_27085_row11_col2\" class=\"data row11 col2\" >6.5279</td>\n",
       "      <td id=\"T_27085_row11_col3\" class=\"data row11 col3\" >0.3957</td>\n",
       "      <td id=\"T_27085_row11_col4\" class=\"data row11 col4\" >0.3205</td>\n",
       "      <td id=\"T_27085_row11_col5\" class=\"data row11 col5\" >0.2845</td>\n",
       "    </tr>\n",
       "    <tr>\n",
       "      <th id=\"T_27085_level0_row12\" class=\"row_heading level0 row12\" >Mean</th>\n",
       "      <td id=\"T_27085_row12_col0\" class=\"data row12 col0\" >5.1382</td>\n",
       "      <td id=\"T_27085_row12_col1\" class=\"data row12 col1\" >44.7383</td>\n",
       "      <td id=\"T_27085_row12_col2\" class=\"data row12 col2\" >6.5352</td>\n",
       "      <td id=\"T_27085_row12_col3\" class=\"data row12 col3\" >0.5222</td>\n",
       "      <td id=\"T_27085_row12_col4\" class=\"data row12 col4\" >0.3457</td>\n",
       "      <td id=\"T_27085_row12_col5\" class=\"data row12 col5\" >0.3246</td>\n",
       "    </tr>\n",
       "    <tr>\n",
       "      <th id=\"T_27085_level0_row13\" class=\"row_heading level0 row13\" >Std</th>\n",
       "      <td id=\"T_27085_row13_col0\" class=\"data row13 col0\" >0.9081</td>\n",
       "      <td id=\"T_27085_row13_col1\" class=\"data row13 col1\" >20.8521</td>\n",
       "      <td id=\"T_27085_row13_col2\" class=\"data row13 col2\" >1.4245</td>\n",
       "      <td id=\"T_27085_row13_col3\" class=\"data row13 col3\" >0.1623</td>\n",
       "      <td id=\"T_27085_row13_col4\" class=\"data row13 col4\" >0.0372</td>\n",
       "      <td id=\"T_27085_row13_col5\" class=\"data row13 col5\" >0.0535</td>\n",
       "    </tr>\n",
       "  </tbody>\n",
       "</table>\n"
      ],
      "text/plain": [
       "<pandas.io.formats.style.Styler at 0x25c4c22a910>"
      ]
     },
     "metadata": {},
     "output_type": "display_data"
    },
    {
     "data": {
      "text/html": [],
      "text/plain": [
       "<IPython.core.display.HTML object>"
      ]
     },
     "metadata": {},
     "output_type": "display_data"
    }
   ],
   "source": [
    "model_2 = exp1.create_model('br')"
   ]
  },
  {
   "cell_type": "code",
   "execution_count": 277,
   "metadata": {},
   "outputs": [
    {
     "data": {
      "text/html": [],
      "text/plain": [
       "<IPython.core.display.HTML object>"
      ]
     },
     "metadata": {},
     "output_type": "display_data"
    },
    {
     "data": {
      "text/html": [
       "<div>\n",
       "<style scoped>\n",
       "    .dataframe tbody tr th:only-of-type {\n",
       "        vertical-align: middle;\n",
       "    }\n",
       "\n",
       "    .dataframe tbody tr th {\n",
       "        vertical-align: top;\n",
       "    }\n",
       "\n",
       "    .dataframe thead th {\n",
       "        text-align: right;\n",
       "    }\n",
       "</style>\n",
       "<table border=\"1\" class=\"dataframe\">\n",
       "  <thead>\n",
       "    <tr style=\"text-align: right;\">\n",
       "      <th></th>\n",
       "      <th>humidity</th>\n",
       "      <th>temperature</th>\n",
       "      <th>year</th>\n",
       "      <th>month</th>\n",
       "      <th>day</th>\n",
       "      <th>day_of_week</th>\n",
       "      <th>week_of_year</th>\n",
       "      <th>season</th>\n",
       "      <th>dew_point</th>\n",
       "      <th>is_weekend</th>\n",
       "      <th>...</th>\n",
       "      <th>humidity_lag_5</th>\n",
       "      <th>humidity_lag_7</th>\n",
       "      <th>temperature_lag_1</th>\n",
       "      <th>temperature_lag_2</th>\n",
       "      <th>temperature_lag_3</th>\n",
       "      <th>temperature_lag_5</th>\n",
       "      <th>temperature_lag_7</th>\n",
       "      <th>temp_diff</th>\n",
       "      <th>humidity_diff</th>\n",
       "      <th>prediction_label</th>\n",
       "    </tr>\n",
       "    <tr>\n",
       "      <th>timestamp</th>\n",
       "      <th></th>\n",
       "      <th></th>\n",
       "      <th></th>\n",
       "      <th></th>\n",
       "      <th></th>\n",
       "      <th></th>\n",
       "      <th></th>\n",
       "      <th></th>\n",
       "      <th></th>\n",
       "      <th></th>\n",
       "      <th></th>\n",
       "      <th></th>\n",
       "      <th></th>\n",
       "      <th></th>\n",
       "      <th></th>\n",
       "      <th></th>\n",
       "      <th></th>\n",
       "      <th></th>\n",
       "      <th></th>\n",
       "      <th></th>\n",
       "      <th></th>\n",
       "    </tr>\n",
       "  </thead>\n",
       "  <tbody>\n",
       "    <tr>\n",
       "      <th>2025-01-13 07:00:00</th>\n",
       "      <td>78.292206</td>\n",
       "      <td>25.997341</td>\n",
       "      <td>2025</td>\n",
       "      <td>1</td>\n",
       "      <td>13</td>\n",
       "      <td>0</td>\n",
       "      <td>3</td>\n",
       "      <td>2</td>\n",
       "      <td>21.655781</td>\n",
       "      <td>0</td>\n",
       "      <td>...</td>\n",
       "      <td>71.168640</td>\n",
       "      <td>72.844643</td>\n",
       "      <td>25.434973</td>\n",
       "      <td>28.357460</td>\n",
       "      <td>28.945705</td>\n",
       "      <td>28.921543</td>\n",
       "      <td>28.825508</td>\n",
       "      <td>0.562369</td>\n",
       "      <td>-7.087604</td>\n",
       "      <td>25.302041</td>\n",
       "    </tr>\n",
       "    <tr>\n",
       "      <th>2025-01-14 07:00:00</th>\n",
       "      <td>74.887207</td>\n",
       "      <td>26.780884</td>\n",
       "      <td>2025</td>\n",
       "      <td>1</td>\n",
       "      <td>14</td>\n",
       "      <td>1</td>\n",
       "      <td>3</td>\n",
       "      <td>2</td>\n",
       "      <td>21.758324</td>\n",
       "      <td>0</td>\n",
       "      <td>...</td>\n",
       "      <td>70.983574</td>\n",
       "      <td>70.630295</td>\n",
       "      <td>25.997341</td>\n",
       "      <td>25.434973</td>\n",
       "      <td>28.357460</td>\n",
       "      <td>28.383165</td>\n",
       "      <td>29.145098</td>\n",
       "      <td>0.783542</td>\n",
       "      <td>-3.404998</td>\n",
       "      <td>33.523396</td>\n",
       "    </tr>\n",
       "    <tr>\n",
       "      <th>2025-01-15 07:00:00</th>\n",
       "      <td>74.201401</td>\n",
       "      <td>27.146723</td>\n",
       "      <td>2025</td>\n",
       "      <td>1</td>\n",
       "      <td>15</td>\n",
       "      <td>2</td>\n",
       "      <td>3</td>\n",
       "      <td>2</td>\n",
       "      <td>21.987003</td>\n",
       "      <td>0</td>\n",
       "      <td>...</td>\n",
       "      <td>70.491486</td>\n",
       "      <td>71.168640</td>\n",
       "      <td>26.780884</td>\n",
       "      <td>25.997341</td>\n",
       "      <td>25.434973</td>\n",
       "      <td>28.945705</td>\n",
       "      <td>28.921543</td>\n",
       "      <td>0.365839</td>\n",
       "      <td>-0.685802</td>\n",
       "      <td>39.623172</td>\n",
       "    </tr>\n",
       "    <tr>\n",
       "      <th>2025-01-16 07:00:00</th>\n",
       "      <td>89.873428</td>\n",
       "      <td>24.990604</td>\n",
       "      <td>2025</td>\n",
       "      <td>1</td>\n",
       "      <td>16</td>\n",
       "      <td>3</td>\n",
       "      <td>3</td>\n",
       "      <td>2</td>\n",
       "      <td>22.965288</td>\n",
       "      <td>0</td>\n",
       "      <td>...</td>\n",
       "      <td>73.568382</td>\n",
       "      <td>70.983574</td>\n",
       "      <td>27.146723</td>\n",
       "      <td>26.780884</td>\n",
       "      <td>25.997341</td>\n",
       "      <td>28.357460</td>\n",
       "      <td>28.383165</td>\n",
       "      <td>-2.156118</td>\n",
       "      <td>15.672023</td>\n",
       "      <td>33.368651</td>\n",
       "    </tr>\n",
       "    <tr>\n",
       "      <th>2025-01-17 07:00:00</th>\n",
       "      <td>80.848938</td>\n",
       "      <td>27.221664</td>\n",
       "      <td>2025</td>\n",
       "      <td>1</td>\n",
       "      <td>17</td>\n",
       "      <td>4</td>\n",
       "      <td>3</td>\n",
       "      <td>2</td>\n",
       "      <td>23.391453</td>\n",
       "      <td>0</td>\n",
       "      <td>...</td>\n",
       "      <td>85.379807</td>\n",
       "      <td>70.491486</td>\n",
       "      <td>24.990604</td>\n",
       "      <td>27.146723</td>\n",
       "      <td>26.780884</td>\n",
       "      <td>25.434973</td>\n",
       "      <td>28.945705</td>\n",
       "      <td>2.231061</td>\n",
       "      <td>-9.024486</td>\n",
       "      <td>35.101747</td>\n",
       "    </tr>\n",
       "  </tbody>\n",
       "</table>\n",
       "<p>5 rows × 39 columns</p>\n",
       "</div>"
      ],
      "text/plain": [
       "                      humidity  temperature  year  month  day  day_of_week  \\\n",
       "timestamp                                                                    \n",
       "2025-01-13 07:00:00  78.292206    25.997341  2025      1   13            0   \n",
       "2025-01-14 07:00:00  74.887207    26.780884  2025      1   14            1   \n",
       "2025-01-15 07:00:00  74.201401    27.146723  2025      1   15            2   \n",
       "2025-01-16 07:00:00  89.873428    24.990604  2025      1   16            3   \n",
       "2025-01-17 07:00:00  80.848938    27.221664  2025      1   17            4   \n",
       "\n",
       "                     week_of_year  season  dew_point  is_weekend  ...  \\\n",
       "timestamp                                                         ...   \n",
       "2025-01-13 07:00:00             3       2  21.655781           0  ...   \n",
       "2025-01-14 07:00:00             3       2  21.758324           0  ...   \n",
       "2025-01-15 07:00:00             3       2  21.987003           0  ...   \n",
       "2025-01-16 07:00:00             3       2  22.965288           0  ...   \n",
       "2025-01-17 07:00:00             3       2  23.391453           0  ...   \n",
       "\n",
       "                     humidity_lag_5  humidity_lag_7  temperature_lag_1  \\\n",
       "timestamp                                                                \n",
       "2025-01-13 07:00:00       71.168640       72.844643          25.434973   \n",
       "2025-01-14 07:00:00       70.983574       70.630295          25.997341   \n",
       "2025-01-15 07:00:00       70.491486       71.168640          26.780884   \n",
       "2025-01-16 07:00:00       73.568382       70.983574          27.146723   \n",
       "2025-01-17 07:00:00       85.379807       70.491486          24.990604   \n",
       "\n",
       "                    temperature_lag_2  temperature_lag_3  temperature_lag_5  \\\n",
       "timestamp                                                                     \n",
       "2025-01-13 07:00:00         28.357460          28.945705          28.921543   \n",
       "2025-01-14 07:00:00         25.434973          28.357460          28.383165   \n",
       "2025-01-15 07:00:00         25.997341          25.434973          28.945705   \n",
       "2025-01-16 07:00:00         26.780884          25.997341          28.357460   \n",
       "2025-01-17 07:00:00         27.146723          26.780884          25.434973   \n",
       "\n",
       "                     temperature_lag_7  temp_diff  humidity_diff  \\\n",
       "timestamp                                                          \n",
       "2025-01-13 07:00:00          28.825508   0.562369      -7.087604   \n",
       "2025-01-14 07:00:00          29.145098   0.783542      -3.404998   \n",
       "2025-01-15 07:00:00          28.921543   0.365839      -0.685802   \n",
       "2025-01-16 07:00:00          28.383165  -2.156118      15.672023   \n",
       "2025-01-17 07:00:00          28.945705   2.231061      -9.024486   \n",
       "\n",
       "                     prediction_label  \n",
       "timestamp                              \n",
       "2025-01-13 07:00:00         25.302041  \n",
       "2025-01-14 07:00:00         33.523396  \n",
       "2025-01-15 07:00:00         39.623172  \n",
       "2025-01-16 07:00:00         33.368651  \n",
       "2025-01-17 07:00:00         35.101747  \n",
       "\n",
       "[5 rows x 39 columns]"
      ]
     },
     "execution_count": 277,
     "metadata": {},
     "output_type": "execute_result"
    }
   ],
   "source": [
    "new_data = test_data.copy().drop(['pm_2_5'], axis=1)\n",
    "predictions = exp1.predict_model(model_2, data=new_data)\n",
    "predictions.head()"
   ]
  },
  {
   "cell_type": "code",
   "execution_count": 278,
   "metadata": {},
   "outputs": [],
   "source": [
    "predict_v = predictions['prediction_label']"
   ]
  },
  {
   "cell_type": "code",
   "execution_count": 279,
   "metadata": {},
   "outputs": [],
   "source": [
    "real = test_data['pm_2_5']"
   ]
  },
  {
   "cell_type": "markdown",
   "metadata": {},
   "source": [
    "# ทำนาย 1 วันข้างหน้า ต้องทำนายเผื่อ 2 วัน"
   ]
  },
  {
   "cell_type": "code",
   "execution_count": 280,
   "metadata": {},
   "outputs": [
    {
     "data": {
      "image/png": "[encoded data removed]",
      "text/plain": [
       "<Figure size 1000x600 with 1 Axes>"
      ]
     },
     "metadata": {},
     "output_type": "display_data"
    }
   ],
   "source": [
    "import pandas as pd\n",
    "import matplotlib.pyplot as plt\n",
    "\n",
    "# สมมุติว่า result คือ DataFrame ที่รวม predictions กับ pm_10\n",
    "result = pd.concat([predict_v.shift(-1), test_data['pm_2_5']], axis=1)\n",
    "result.columns = ['Predictions', 'Actual PM2_5']  # ตั้งชื่อคอลัมน์\n",
    "\n",
    "# พล็อตข้อมูล\n",
    "result.plot(figsize=(10, 6))\n",
    "\n",
    "# ตั้งชื่อกราฟ\n",
    "plt.title('Predictions vs Actual PM2_5')\n",
    "plt.xlabel('Index')\n",
    "plt.ylabel('PM2_5 Values')\n",
    "\n",
    "# แสดงกราฟ\n",
    "plt.show()"
   ]
  },
  {
   "cell_type": "code",
   "execution_count": 271,
   "metadata": {},
   "outputs": [],
   "source": [
    "# import pandas as pd\n",
    "# from sklearn.metrics import mean_absolute_percentage_error, r2_score\n",
    "\n",
    "# # สร้าง result จากการ shift ค่าทำนาย\n",
    "# result = pd.concat([predict_v.shift(-1), test_data['pm_10']], axis=1)\n",
    "# result.columns = ['predicted', 'actual']\n",
    "\n",
    "# # ลบแถวที่มีค่า NaN\n",
    "# result = result.dropna()\n",
    "\n",
    "# # คำนวณ MAPE\n",
    "# mape = mean_absolute_percentage_error(result['actual'], result['predicted']) * 100\n",
    "\n",
    "# # คำนวณ R2\n",
    "# r2 = r2_score(result['actual'], result['predicted'])\n",
    "\n",
    "# print(f'MAPE: {mape}%')\n",
    "# print(f'R²: {r2}')\n"
   ]
  },
  {
   "cell_type": "markdown",
   "metadata": {},
   "source": [
    "# Predict 1 by 1"
   ]
  },
  {
   "cell_type": "markdown",
   "metadata": {},
   "source": [
    "30 วัน  \n",
    "2025-01-13 07:00:00  \n",
    "2025-02-11 07:00:00  \n",
    "7 วัน  \n",
    "2025-02-05  \n",
    "2025-02-11  \n",
    "24 วัน  \n",
    "2025-01-19 07:00:00  \n",
    "31 วัน\n",
    "2025-01-12 07:00:00"
   ]
  },
  {
   "cell_type": "code",
   "execution_count": 281,
   "metadata": {},
   "outputs": [
    {
     "data": {
      "text/html": [],
      "text/plain": [
       "<IPython.core.display.HTML object>"
      ]
     },
     "metadata": {},
     "output_type": "display_data"
    },
    {
     "data": {
      "text/html": [],
      "text/plain": [
       "<IPython.core.display.HTML object>"
      ]
     },
     "metadata": {},
     "output_type": "display_data"
    },
    {
     "data": {
      "text/html": [],
      "text/plain": [
       "<IPython.core.display.HTML object>"
      ]
     },
     "metadata": {},
     "output_type": "display_data"
    },
    {
     "data": {
      "text/html": [],
      "text/plain": [
       "<IPython.core.display.HTML object>"
      ]
     },
     "metadata": {},
     "output_type": "display_data"
    },
    {
     "data": {
      "text/html": [],
      "text/plain": [
       "<IPython.core.display.HTML object>"
      ]
     },
     "metadata": {},
     "output_type": "display_data"
    },
    {
     "data": {
      "text/html": [],
      "text/plain": [
       "<IPython.core.display.HTML object>"
      ]
     },
     "metadata": {},
     "output_type": "display_data"
    },
    {
     "data": {
      "text/html": [],
      "text/plain": [
       "<IPython.core.display.HTML object>"
      ]
     },
     "metadata": {},
     "output_type": "display_data"
    },
    {
     "data": {
      "text/html": [],
      "text/plain": [
       "<IPython.core.display.HTML object>"
      ]
     },
     "metadata": {},
     "output_type": "display_data"
    },
    {
     "data": {
      "text/html": [],
      "text/plain": [
       "<IPython.core.display.HTML object>"
      ]
     },
     "metadata": {},
     "output_type": "display_data"
    },
    {
     "data": {
      "text/html": [],
      "text/plain": [
       "<IPython.core.display.HTML object>"
      ]
     },
     "metadata": {},
     "output_type": "display_data"
    },
    {
     "data": {
      "text/html": [],
      "text/plain": [
       "<IPython.core.display.HTML object>"
      ]
     },
     "metadata": {},
     "output_type": "display_data"
    },
    {
     "data": {
      "text/html": [],
      "text/plain": [
       "<IPython.core.display.HTML object>"
      ]
     },
     "metadata": {},
     "output_type": "display_data"
    },
    {
     "data": {
      "text/html": [],
      "text/plain": [
       "<IPython.core.display.HTML object>"
      ]
     },
     "metadata": {},
     "output_type": "display_data"
    },
    {
     "data": {
      "text/html": [],
      "text/plain": [
       "<IPython.core.display.HTML object>"
      ]
     },
     "metadata": {},
     "output_type": "display_data"
    },
    {
     "data": {
      "text/html": [],
      "text/plain": [
       "<IPython.core.display.HTML object>"
      ]
     },
     "metadata": {},
     "output_type": "display_data"
    },
    {
     "data": {
      "text/html": [],
      "text/plain": [
       "<IPython.core.display.HTML object>"
      ]
     },
     "metadata": {},
     "output_type": "display_data"
    },
    {
     "data": {
      "text/html": [],
      "text/plain": [
       "<IPython.core.display.HTML object>"
      ]
     },
     "metadata": {},
     "output_type": "display_data"
    },
    {
     "data": {
      "text/html": [],
      "text/plain": [
       "<IPython.core.display.HTML object>"
      ]
     },
     "metadata": {},
     "output_type": "display_data"
    },
    {
     "data": {
      "text/html": [],
      "text/plain": [
       "<IPython.core.display.HTML object>"
      ]
     },
     "metadata": {},
     "output_type": "display_data"
    },
    {
     "data": {
      "text/html": [],
      "text/plain": [
       "<IPython.core.display.HTML object>"
      ]
     },
     "metadata": {},
     "output_type": "display_data"
    },
    {
     "data": {
      "text/html": [],
      "text/plain": [
       "<IPython.core.display.HTML object>"
      ]
     },
     "metadata": {},
     "output_type": "display_data"
    },
    {
     "data": {
      "text/html": [],
      "text/plain": [
       "<IPython.core.display.HTML object>"
      ]
     },
     "metadata": {},
     "output_type": "display_data"
    },
    {
     "data": {
      "text/html": [],
      "text/plain": [
       "<IPython.core.display.HTML object>"
      ]
     },
     "metadata": {},
     "output_type": "display_data"
    },
    {
     "data": {
      "text/html": [],
      "text/plain": [
       "<IPython.core.display.HTML object>"
      ]
     },
     "metadata": {},
     "output_type": "display_data"
    },
    {
     "data": {
      "text/html": [],
      "text/plain": [
       "<IPython.core.display.HTML object>"
      ]
     },
     "metadata": {},
     "output_type": "display_data"
    },
    {
     "data": {
      "text/html": [],
      "text/plain": [
       "<IPython.core.display.HTML object>"
      ]
     },
     "metadata": {},
     "output_type": "display_data"
    },
    {
     "data": {
      "text/html": [],
      "text/plain": [
       "<IPython.core.display.HTML object>"
      ]
     },
     "metadata": {},
     "output_type": "display_data"
    },
    {
     "data": {
      "text/html": [],
      "text/plain": [
       "<IPython.core.display.HTML object>"
      ]
     },
     "metadata": {},
     "output_type": "display_data"
    },
    {
     "data": {
      "text/html": [],
      "text/plain": [
       "<IPython.core.display.HTML object>"
      ]
     },
     "metadata": {},
     "output_type": "display_data"
    },
    {
     "data": {
      "text/html": [],
      "text/plain": [
       "<IPython.core.display.HTML object>"
      ]
     },
     "metadata": {},
     "output_type": "display_data"
    }
   ],
   "source": [
    "data_compare = data_filtered.loc[:'2025-01-12']\n",
    "result = pd.DataFrame()\n",
    "\n",
    "start_date = \"2025-01-13\"\n",
    "end_date = \"2025-02-11\"\n",
    "\n",
    "model = model_2\n",
    "\n",
    "for date in pd.date_range(start=start_date, end=end_date, freq=\"D\"):\n",
    "    # Drop columns\n",
    "    test_1 = data_filtered\n",
    "\n",
    "    # ดึงวันนี้มา\n",
    "    test_1 = test_1.loc[str(date.date())]\n",
    "\n",
    "    # ใส่เข้าไป\n",
    "    data_compare = pd.concat([data_compare, test_1], axis=0)\n",
    "\n",
    "    # เพิ่มฟีเจอร์ rolling average (ค่าเฉลี่ยเคลื่อนที่)\n",
    "\n",
    "    # data_compare['pm_2_5_rolling_7'] = data_compare['pm_2_5'].rolling(window=7).mean().shift(1)  # ค่าเฉลี่ย 5 วันของ PM 10\n",
    "\n",
    "    data_compare['pm_2_5_lag_1'] = data_compare['pm_2_5'].shift(1)\n",
    "    data_compare['pm_2_5_lag_2'] = data_compare['pm_2_5'].shift(2)\n",
    "    data_compare['pm_2_5_lag_3'] = data_compare['pm_2_5'].shift(3)\n",
    "    data_compare['pm_2_5_lag_4'] = data_compare['pm_2_5'].shift(4)\n",
    "    data_compare['pm_2_5_lag_5'] = data_compare['pm_2_5'].shift(5)\n",
    "    data_compare['pm_2_5_lag_6'] = data_compare['pm_2_5'].shift(6)\n",
    "    data_compare['pm_2_5_lag_7'] = data_compare['pm_2_5'].shift(7)\n",
    "\n",
    "    # ดึง\n",
    "    test_1 = (data_compare.loc[str(date.date())]).drop(columns=['pm_2_5'])\n",
    "    \n",
    "    # Drop ทิ้งล่าสุดใน data_compare\n",
    "    data_compare = data_compare.drop(data_compare.last_valid_index())\n",
    "    test_1 = test_1[~test_1.index.duplicated(keep='last')]\n",
    "\n",
    "    # Predict\n",
    "    predict_test_1 = exp1.predict_model(model, data=test_1)\n",
    "\n",
    "        # เพิ่มผลทำนายเข้าไปใน data_compare\n",
    "    data_compare = pd.concat([data_compare, predict_test_1], axis=0)\n",
    "\n",
    "    # แทนที่ค่าในคอลัมน์ 'pm_2_5' ในวันที่ '2025-01-13' ด้วยค่าในคอลัมน์ 'prediction_label'\n",
    "    data_compare.loc[str(date.date()), 'pm_2_5'] = data_compare.loc[str(date.date()), 'prediction_label']\n",
    "\n",
    "    # ลบคอลัมน์ 'prediction_label' (หากต้องการแค่ผลทำนาย)\n",
    "    data_compare = data_compare.drop(columns=['prediction_label'])\n",
    "\n",
    "    # กรองเอาวันที่ซ้ำกัน (index ซ้ำ) ออกให้เหลือแค่ตัวเดียว\n",
    "    data_compare = data_compare[~data_compare.index.duplicated(keep='last')]\n",
    "\n",
    "    # บันทึกลง result\n",
    "    result = pd.concat([result, predict_test_1], axis=0)"
   ]
  },
  {
   "cell_type": "code",
   "execution_count": 282,
   "metadata": {},
   "outputs": [
    {
     "data": {
      "image/png": "[encoded data removed]",
      "text/plain": [
       "<Figure size 1000x600 with 1 Axes>"
      ]
     },
     "metadata": {},
     "output_type": "display_data"
    }
   ],
   "source": [
    "import pandas as pd\n",
    "import matplotlib.pyplot as plt\n",
    "\n",
    "real_data = data_filtered.loc[start_date:end_date]\n",
    "# สมมุติว่า result คือ DataFrame ที่รวม predictions กับ pm_10\n",
    "result_plot = pd.concat([result['prediction_label'].shift(-1), real_data['pm_2_5']], axis=1)\n",
    "result_plot.columns = ['Predictions', 'Actual PM10']  # ตั้งชื่อคอลัมน์\n",
    "\n",
    "# พล็อตข้อมูล\n",
    "result_plot.plot(figsize=(10, 6))\n",
    "\n",
    "# ตั้งชื่อกราฟ\n",
    "plt.title('Predictions vs Actual PM10')\n",
    "plt.xlabel('Index')\n",
    "plt.ylabel('PM10 Values')\n",
    "\n",
    "# แสดงกราฟ\n",
    "plt.show()"
   ]
  },
  {
   "cell_type": "code",
   "execution_count": 283,
   "metadata": {},
   "outputs": [
    {
     "name": "stdout",
     "output_type": "stream",
     "text": [
      "R² Score: -0.6167\n",
      "Mean Absolute Error (MAE): 9.9714\n",
      "Root Mean Squared Error (RMSE): 12.6930\n",
      "Accuracy: 65.38%\n"
     ]
    }
   ],
   "source": [
    "from pycaret.regression import *\n",
    "from sklearn.metrics import r2_score, mean_absolute_error, mean_squared_error\n",
    "import numpy as np\n",
    "\n",
    "y_true = real_data[\"pm_2_5\"][:\"2025-2-10\"]\n",
    "y_pred = result['prediction_label'].shift(-1).dropna(axis=0)# \"prediction_label\" contains predictions\n",
    "\n",
    "# Calculate Regression Metrics\n",
    "r2 = r2_score(y_true, y_pred)\n",
    "mae = mean_absolute_error(y_true, y_pred)\n",
    "rmse = np.sqrt(mean_squared_error(y_true, y_pred))\n",
    "\n",
    "# Calculate Accuracy as (1 - (MAE / mean_actual)) * 100\n",
    "mean_actual = np.mean(y_true)  # Mean of actual values\n",
    "accuracy = (1 - (mae / mean_actual)) * 100  # Accuracy in percentage\n",
    "\n",
    "# Print Results\n",
    "print(f\"R² Score: {r2:.4f}\")  # Closer to 1 is better\n",
    "print(f\"Mean Absolute Error (MAE): {mae:.4f}\")  # Lower is better\n",
    "print(f\"Root Mean Squared Error (RMSE): {rmse:.4f}\")  # Lower is better\n",
    "print(f\"Accuracy: {accuracy:.2f}%\")  # Accuracy percentage"
   ]
  },
  {
   "cell_type": "code",
   "execution_count": 275,
   "metadata": {},
   "outputs": [
    {
     "name": "stdout",
     "output_type": "stream",
     "text": [
      "R² Score: -0.6780\n",
      "Mean Absolute Percentage Error (MAPE): 31.51%\n"
     ]
    }
   ],
   "source": [
    "# ค่า R² และ MAPE\n",
    "r2 = r2_score(y_true, y_pred)\n",
    "mape = np.mean(np.abs((y_true - y_pred) / y_true)) * 100  # MAPE in percentage\n",
    "\n",
    "# การปรับสเกลของ R² (สมมติให้อยู่ในช่วง 0-100 เพื่อให้อยู่ในช่วงเดียวกับ MAPE)\n",
    "r2_scaled = r2 * 100  # เปลี่ยน R² ให้เป็นค่าร้อยละ\n",
    "\n",
    "print(f\"R² Score: {r2:.4f}\")\n",
    "print(f\"Mean Absolute Percentage Error (MAPE): {mape:.2f}%\")\n",
    "\n"
   ]
  }
 ],
 "metadata": {
  "kernelspec": {
   "display_name": "pycaret_venv",
   "language": "python",
   "name": "python3"
  },
  "language_info": {
   "codemirror_mode": {
    "name": "ipython",
    "version": 3
   },
   "file_extension": ".py",
   "mimetype": "text/x-python",
   "name": "python",
   "nbconvert_exporter": "python",
   "pygments_lexer": "ipython3",
   "version": "3.11.9"
  }
 },
 "nbformat": 4,
 "nbformat_minor": 2
}

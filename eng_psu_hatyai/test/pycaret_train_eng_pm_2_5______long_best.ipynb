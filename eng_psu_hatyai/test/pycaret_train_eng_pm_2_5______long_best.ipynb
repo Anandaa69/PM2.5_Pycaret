{
 "cells": [
  {
   "cell_type": "code",
   "execution_count": 1,
   "metadata": {},
   "outputs": [],
   "source": [
    "import pycaret\n",
    "import pandas as pd"
   ]
  },
  {
   "cell_type": "code",
   "execution_count": 2,
   "metadata": {},
   "outputs": [],
   "source": [
    "# อ่านไฟล์ CSV\n",
    "data = pd.read_csv('../export_data/filtered_data_3_best.csv')"
   ]
  },
  {
   "cell_type": "code",
   "execution_count": 3,
   "metadata": {},
   "outputs": [],
   "source": [
    "# ตั้ง 'timestamp' เป็น index หากยังไม่ได้ทำ\n",
    "data['timestamp'] = pd.to_datetime(data['timestamp'])\n",
    "data.set_index('timestamp', inplace=True)\n",
    "\n",
    "# ตั้งค่า freq ให้กับ index\n",
    "data = data.asfreq('D')  # 'D' สำหรับรายวัน"
   ]
  },
  {
   "cell_type": "code",
   "execution_count": 4,
   "metadata": {},
   "outputs": [
    {
     "data": {
      "text/html": [
       "<div>\n",
       "<style scoped>\n",
       "    .dataframe tbody tr th:only-of-type {\n",
       "        vertical-align: middle;\n",
       "    }\n",
       "\n",
       "    .dataframe tbody tr th {\n",
       "        vertical-align: top;\n",
       "    }\n",
       "\n",
       "    .dataframe thead th {\n",
       "        text-align: right;\n",
       "    }\n",
       "</style>\n",
       "<table border=\"1\" class=\"dataframe\">\n",
       "  <thead>\n",
       "    <tr style=\"text-align: right;\">\n",
       "      <th></th>\n",
       "      <th>humidity</th>\n",
       "      <th>pm_10</th>\n",
       "      <th>pm_2_5</th>\n",
       "      <th>pm_2_5_sp</th>\n",
       "      <th>temperature</th>\n",
       "    </tr>\n",
       "    <tr>\n",
       "      <th>timestamp</th>\n",
       "      <th></th>\n",
       "      <th></th>\n",
       "      <th></th>\n",
       "      <th></th>\n",
       "      <th></th>\n",
       "    </tr>\n",
       "  </thead>\n",
       "  <tbody>\n",
       "    <tr>\n",
       "      <th>2025-02-07 07:00:00</th>\n",
       "      <td>70.933952</td>\n",
       "      <td>34.743259</td>\n",
       "      <td>29.321219</td>\n",
       "      <td>26.166471</td>\n",
       "      <td>28.271927</td>\n",
       "    </tr>\n",
       "    <tr>\n",
       "      <th>2025-02-08 07:00:00</th>\n",
       "      <td>69.348548</td>\n",
       "      <td>30.654249</td>\n",
       "      <td>26.000000</td>\n",
       "      <td>22.380675</td>\n",
       "      <td>28.385596</td>\n",
       "    </tr>\n",
       "    <tr>\n",
       "      <th>2025-02-09 07:00:00</th>\n",
       "      <td>69.916384</td>\n",
       "      <td>28.971065</td>\n",
       "      <td>24.616898</td>\n",
       "      <td>20.976852</td>\n",
       "      <td>28.373742</td>\n",
       "    </tr>\n",
       "    <tr>\n",
       "      <th>2025-02-10 07:00:00</th>\n",
       "      <td>71.226336</td>\n",
       "      <td>30.652667</td>\n",
       "      <td>25.856981</td>\n",
       "      <td>22.374574</td>\n",
       "      <td>28.251201</td>\n",
       "    </tr>\n",
       "    <tr>\n",
       "      <th>2025-02-11 07:00:00</th>\n",
       "      <td>68.159624</td>\n",
       "      <td>32.532955</td>\n",
       "      <td>27.522727</td>\n",
       "      <td>24.120455</td>\n",
       "      <td>28.693799</td>\n",
       "    </tr>\n",
       "  </tbody>\n",
       "</table>\n",
       "</div>"
      ],
      "text/plain": [
       "                      humidity      pm_10     pm_2_5  pm_2_5_sp  temperature\n",
       "timestamp                                                                   \n",
       "2025-02-07 07:00:00  70.933952  34.743259  29.321219  26.166471    28.271927\n",
       "2025-02-08 07:00:00  69.348548  30.654249  26.000000  22.380675    28.385596\n",
       "2025-02-09 07:00:00  69.916384  28.971065  24.616898  20.976852    28.373742\n",
       "2025-02-10 07:00:00  71.226336  30.652667  25.856981  22.374574    28.251201\n",
       "2025-02-11 07:00:00  68.159624  32.532955  27.522727  24.120455    28.693799"
      ]
     },
     "execution_count": 4,
     "metadata": {},
     "output_type": "execute_result"
    }
   ],
   "source": [
    "data.tail()"
   ]
  },
  {
   "cell_type": "code",
   "execution_count": 5,
   "metadata": {},
   "outputs": [
    {
     "name": "stdout",
     "output_type": "stream",
     "text": [
      "แถวที่มีค่าหายไปก่อนเติม:\n",
      "                     humidity  pm_10  pm_2_5  pm_2_5_sp  temperature\n",
      "timestamp                                                           \n",
      "2023-09-30 07:00:00       NaN    NaN     NaN        NaN          NaN\n",
      "ไม่มีค่าหายไปแล้ว\n"
     ]
    },
    {
     "data": {
      "text/plain": [
       "humidity       82.889367\n",
       "pm_10          60.525519\n",
       "pm_2_5         53.415241\n",
       "pm_2_5_sp      69.527667\n",
       "temperature    29.219760\n",
       "Name: 2023-09-30 07:00:00, dtype: float64"
      ]
     },
     "execution_count": 5,
     "metadata": {},
     "output_type": "execute_result"
    }
   ],
   "source": [
    "# แสดงแถวที่มีค่าหายไปก่อนเติม\n",
    "print(\"แถวที่มีค่าหายไปก่อนเติม:\")\n",
    "print(data[data.isnull().any(axis=1)])\n",
    "\n",
    "# เติมค่าที่หายไปด้วยการ interpolate แบบเส้นตรง\n",
    "data.interpolate(method='linear', inplace=True)\n",
    "\n",
    "# แสดงแถวที่ยังมีค่า NaN หลังจากเติม (ถ้ามี)\n",
    "missing_rows_after = data[data.isnull().any(axis=1)]\n",
    "if not missing_rows_after.empty:\n",
    "    print(\"แถวที่ยังมีค่าหายไปหลังเติม:\")\n",
    "    print(missing_rows_after)\n",
    "else:\n",
    "    print(\"ไม่มีค่าหายไปแล้ว\")\n",
    "\n",
    "\n",
    "row = data.loc[\"2023-09-30 07:00:00\"]\n",
    "row"
   ]
  },
  {
   "cell_type": "code",
   "execution_count": 6,
   "metadata": {},
   "outputs": [],
   "source": [
    "data = data[['pm_2_5', 'humidity', 'temperature']]"
   ]
  },
  {
   "cell_type": "code",
   "execution_count": 7,
   "metadata": {},
   "outputs": [],
   "source": [
    "data[\"year\"] = data.index.year\n",
    "data[\"month\"] = data.index.month\n",
    "data[\"day\"] = data.index.day\n",
    "data[\"day_of_week\"] = data.index.dayofweek  # 0 = Monday, 6 = Sunday\n",
    "data[\"week_of_year\"] = data.index.isocalendar().week  # ค่าจะเป็น int64"
   ]
  },
  {
   "cell_type": "code",
   "execution_count": 8,
   "metadata": {},
   "outputs": [],
   "source": [
    "# สมมติว่า data มี index เป็น datetime อยู่แล้ว\n",
    "def assign_season(month):\n",
    "    if month in [2, 3, 4]:  # ก.พ. - เม.ย.\n",
    "        return \"summer\"        # ฤดูร้อน\n",
    "    elif month in [5, 6, 7]:  # พ.ค. - ก.ค.\n",
    "        return \"early_rainy\"   # ต้นฤดูฝน\n",
    "    else:  # ส.ค. - ม.ค.\n",
    "        return \"late_rainy\"    # ปลายฤดูฝน\n",
    "\n",
    "season_mapping = {'summer': 0, 'early_rainy': 1, 'late_rainy': 2}\n",
    "data[\"season\"] = data.index.month.map(assign_season)\n",
    "data['season'] = data['season'].map(season_mapping)"
   ]
  },
  {
   "cell_type": "code",
   "execution_count": 9,
   "metadata": {},
   "outputs": [],
   "source": [
    "data['dew_point'] = data['temperature'] - ((100 - data['humidity']) / 5)"
   ]
  },
  {
   "cell_type": "code",
   "execution_count": 10,
   "metadata": {},
   "outputs": [],
   "source": [
    "data[\"is_weekend\"] = data.index.dayofweek.isin([5, 6]).astype(int)"
   ]
  },
  {
   "cell_type": "code",
   "execution_count": 11,
   "metadata": {},
   "outputs": [],
   "source": [
    "# อัตราส่วนของอุณหภูมิต่อความชื้น\n",
    "data[\"temp_humidity_ratio\"] = data[\"temperature\"] / (data[\"humidity\"] + 1)"
   ]
  },
  {
   "cell_type": "code",
   "execution_count": 12,
   "metadata": {},
   "outputs": [],
   "source": [
    "# ดัชนีความร้อน (Heat Index) หรืออุณหภูมิที่รับรู้\n",
    "T = data[\"temperature\"]\n",
    "RH = data[\"humidity\"]\n",
    "\n",
    "data[\"heat_index\"] = -42.379 + (2.04901523 * T) + (10.14333127 * RH) - (0.22475541 * T * RH) - \\\n",
    "                   (0.00683783 * T**2) - (0.05481717 * RH**2) + (0.00122874 * T**2 * RH) + \\\n",
    "                   (0.00085282 * T * RH**2) - (0.00000199 * T**2 * RH**2)"
   ]
  },
  {
   "cell_type": "code",
   "execution_count": 13,
   "metadata": {},
   "outputs": [],
   "source": [
    "# ความชื้นสัมพัทธ์เชิงดัชนี\n",
    "data[\"rh_index\"] = data[\"humidity\"] ** 2 / (data[\"temperature\"] + 1)"
   ]
  },
  {
   "cell_type": "code",
   "execution_count": 14,
   "metadata": {},
   "outputs": [],
   "source": [
    "import pandas as pd\n",
    "import numpy as np\n",
    "\n",
    "# สมมุติว่ามี DataFrame data ที่มีข้อมูลอยู่แล้ว\n",
    "# เพิ่มฟีเจอร์ day_of_year\n",
    "data['date'] = pd.to_datetime(data[['year', 'month', 'day']])\n",
    "data['day_of_year'] = data['date'].dt.dayofyear\n",
    "\n",
    "# เพิ่มฟีเจอร์ month_sin และ month_cos\n",
    "data['month_sin'] = np.sin(2 * np.pi * data['month'] / 12)\n",
    "data['month_cos'] = np.cos(2 * np.pi * data['month'] / 12)\n",
    "\n",
    "# เพิ่มฟีเจอร์ day_of_week_sin และ day_of_week_cos\n",
    "data['day_of_week_sin'] = np.sin(2 * np.pi * data['day_of_week'] / 7)\n",
    "data['day_of_week_cos'] = np.cos(2 * np.pi * data['day_of_week'] / 7)\n",
    "\n",
    "rolling_size = 7\n",
    "for i in range(2,rolling_size+1):\n",
    "    data[f'pm_2_5_rolling_{i}'] = data['pm_2_5'].rolling(window=i).mean().shift(1)\n",
    "\n",
    "lag_size = 7\n",
    "for i in range(1,lag_size+1):\n",
    "    data[f'pm_2_5_lag_{i}'] = data['pm_2_5'].shift(i)\n",
    "\n",
    "data['humidity_rolling_2'] = data['humidity'].rolling(window=2).mean().shift(1)  # ค่าเฉลี่ย 2 วันของ PM 10\n",
    "data['humidity_rolling_5'] = data['humidity'].rolling(window=5).mean().shift(1)  # ค่าเฉลี่ย 5 วันของ PM 10\n",
    "data['humidity_rolling_7'] = data['humidity'].rolling(window=7).mean().shift(1)  # ค่าเฉลี่ย 7 วันของ PM 10\n",
    "\n",
    "data['humidity_lag_1'] = data['humidity'].shift(1)\n",
    "data['humidity_lag_2'] = data['humidity'].shift(2)\n",
    "data['humidity_lag_3'] = data['humidity'].shift(3)\n",
    "data['humidity_lag_7'] = data['humidity'].shift(7)\n",
    "\n",
    "data['temperature_rolling_2'] = data['temperature'].rolling(window=2).mean().shift(1)  # ค่าเฉลี่ย 2 วันของ PM 10\n",
    "data['temperature_rolling_5'] = data['temperature'].rolling(window=5).mean().shift(1)  # ค่าเฉลี่ย 5 วันของ PM 10\n",
    "data['temperature_rolling_7'] = data['temperature'].rolling(window=7).mean().shift(1)  # ค่าเฉลี่ย 7 วันของ PM 10\n",
    "\n",
    "data['temperature_lag_1'] = data['temperature'].shift(1)\n",
    "data['temperature_lag_2'] = data['temperature'].shift(2)\n",
    "data['temperature_lag_3'] = data['temperature'].shift(3)\n",
    "data['temperature_lag_7'] = data['temperature'].shift(7)"
   ]
  },
  {
   "cell_type": "code",
   "execution_count": 15,
   "metadata": {},
   "outputs": [],
   "source": [
    "# data[\"temp_diff\"] = data[\"temperature\"].diff()\n",
    "# data[\"humidity_diff\"] = data[\"humidity\"].diff()"
   ]
  },
  {
   "cell_type": "code",
   "execution_count": 16,
   "metadata": {},
   "outputs": [
    {
     "data": {
      "text/plain": [
       "Index(['pm_2_5', 'humidity', 'temperature', 'year', 'month', 'day',\n",
       "       'day_of_week', 'week_of_year', 'season', 'dew_point', 'is_weekend',\n",
       "       'temp_humidity_ratio', 'heat_index', 'rh_index', 'date', 'day_of_year',\n",
       "       'month_sin', 'month_cos', 'day_of_week_sin', 'day_of_week_cos',\n",
       "       'pm_2_5_rolling_2', 'pm_2_5_rolling_3', 'pm_2_5_rolling_4',\n",
       "       'pm_2_5_rolling_5', 'pm_2_5_rolling_6', 'pm_2_5_rolling_7',\n",
       "       'pm_2_5_lag_1', 'pm_2_5_lag_2', 'pm_2_5_lag_3', 'pm_2_5_lag_4',\n",
       "       'pm_2_5_lag_5', 'pm_2_5_lag_6', 'pm_2_5_lag_7', 'humidity_rolling_2',\n",
       "       'humidity_rolling_5', 'humidity_rolling_7', 'humidity_lag_1',\n",
       "       'humidity_lag_2', 'humidity_lag_3', 'humidity_lag_7',\n",
       "       'temperature_rolling_2', 'temperature_rolling_5',\n",
       "       'temperature_rolling_7', 'temperature_lag_1', 'temperature_lag_2',\n",
       "       'temperature_lag_3', 'temperature_lag_7'],\n",
       "      dtype='object')"
      ]
     },
     "execution_count": 16,
     "metadata": {},
     "output_type": "execute_result"
    }
   ],
   "source": [
    "data.columns"
   ]
  },
  {
   "cell_type": "code",
   "execution_count": 17,
   "metadata": {},
   "outputs": [],
   "source": [
    "data_filtered = data.loc['2023-09':]  # ดึงข้อมูลตั้งแต่กันยายน 2023 เป็นต้นไป"
   ]
  },
  {
   "cell_type": "code",
   "execution_count": 18,
   "metadata": {},
   "outputs": [
    {
     "data": {
      "text/plain": [
       "<Axes: xlabel='timestamp'>"
      ]
     },
     "execution_count": 18,
     "metadata": {},
     "output_type": "execute_result"
    },
    {
     "data": {
      "image/png": "[encoded data removed]",
      "text/plain": [
       "<Figure size 640x480 with 1 Axes>"
      ]
     },
     "metadata": {},
     "output_type": "display_data"
    }
   ],
   "source": [
    "data_filtered.plot()"
   ]
  },
  {
   "cell_type": "code",
   "execution_count": 19,
   "metadata": {},
   "outputs": [
    {
     "data": {
      "text/plain": [
       "0.05660377358490566"
      ]
     },
     "execution_count": 19,
     "metadata": {},
     "output_type": "execute_result"
    }
   ],
   "source": [
    "# สมมติว่า data มีจำนวนวันทั้งหมด\n",
    "total_data = len(data_filtered)\n",
    "\n",
    "# จำนวนวันที่ต้องการเป็น test data\n",
    "test_days = 30\n",
    "\n",
    "# คำนวณสัดส่วนของ 30 วันในข้อมูลทั้งหมด\n",
    "test_size = test_days / total_data\n",
    "test_size"
   ]
  },
  {
   "cell_type": "code",
   "execution_count": 20,
   "metadata": {},
   "outputs": [],
   "source": [
    "from sklearn.model_selection import train_test_split\n",
    "train_data, test_data = train_test_split(data_filtered, test_size=test_size, shuffle=False)"
   ]
  },
  {
   "cell_type": "code",
   "execution_count": 21,
   "metadata": {},
   "outputs": [
    {
     "data": {
      "text/plain": [
       "(500, 47)"
      ]
     },
     "execution_count": 21,
     "metadata": {},
     "output_type": "execute_result"
    }
   ],
   "source": [
    "train_data.shape"
   ]
  },
  {
   "cell_type": "code",
   "execution_count": 22,
   "metadata": {},
   "outputs": [
    {
     "data": {
      "text/plain": [
       "(30, 47)"
      ]
     },
     "execution_count": 22,
     "metadata": {},
     "output_type": "execute_result"
    }
   ],
   "source": [
    "test_data.shape"
   ]
  },
  {
   "cell_type": "code",
   "execution_count": 23,
   "metadata": {},
   "outputs": [
    {
     "data": {
      "text/html": [
       "<div>\n",
       "<style scoped>\n",
       "    .dataframe tbody tr th:only-of-type {\n",
       "        vertical-align: middle;\n",
       "    }\n",
       "\n",
       "    .dataframe tbody tr th {\n",
       "        vertical-align: top;\n",
       "    }\n",
       "\n",
       "    .dataframe thead th {\n",
       "        text-align: right;\n",
       "    }\n",
       "</style>\n",
       "<table border=\"1\" class=\"dataframe\">\n",
       "  <thead>\n",
       "    <tr style=\"text-align: right;\">\n",
       "      <th></th>\n",
       "      <th>pm_2_5</th>\n",
       "      <th>humidity</th>\n",
       "      <th>temperature</th>\n",
       "      <th>year</th>\n",
       "      <th>month</th>\n",
       "      <th>day</th>\n",
       "      <th>day_of_week</th>\n",
       "      <th>week_of_year</th>\n",
       "      <th>season</th>\n",
       "      <th>dew_point</th>\n",
       "      <th>...</th>\n",
       "      <th>humidity_lag_2</th>\n",
       "      <th>humidity_lag_3</th>\n",
       "      <th>humidity_lag_7</th>\n",
       "      <th>temperature_rolling_2</th>\n",
       "      <th>temperature_rolling_5</th>\n",
       "      <th>temperature_rolling_7</th>\n",
       "      <th>temperature_lag_1</th>\n",
       "      <th>temperature_lag_2</th>\n",
       "      <th>temperature_lag_3</th>\n",
       "      <th>temperature_lag_7</th>\n",
       "    </tr>\n",
       "    <tr>\n",
       "      <th>timestamp</th>\n",
       "      <th></th>\n",
       "      <th></th>\n",
       "      <th></th>\n",
       "      <th></th>\n",
       "      <th></th>\n",
       "      <th></th>\n",
       "      <th></th>\n",
       "      <th></th>\n",
       "      <th></th>\n",
       "      <th></th>\n",
       "      <th></th>\n",
       "      <th></th>\n",
       "      <th></th>\n",
       "      <th></th>\n",
       "      <th></th>\n",
       "      <th></th>\n",
       "      <th></th>\n",
       "      <th></th>\n",
       "      <th></th>\n",
       "      <th></th>\n",
       "      <th></th>\n",
       "    </tr>\n",
       "  </thead>\n",
       "  <tbody>\n",
       "    <tr>\n",
       "      <th>2025-01-13 07:00:00</th>\n",
       "      <td>42.594631</td>\n",
       "      <td>78.292202</td>\n",
       "      <td>25.997341</td>\n",
       "      <td>2025</td>\n",
       "      <td>1</td>\n",
       "      <td>13</td>\n",
       "      <td>0</td>\n",
       "      <td>3</td>\n",
       "      <td>2</td>\n",
       "      <td>21.655782</td>\n",
       "      <td>...</td>\n",
       "      <td>73.568381</td>\n",
       "      <td>70.491487</td>\n",
       "      <td>72.844643</td>\n",
       "      <td>26.896216</td>\n",
       "      <td>28.008569</td>\n",
       "      <td>28.287636</td>\n",
       "      <td>25.434972</td>\n",
       "      <td>28.357459</td>\n",
       "      <td>28.945704</td>\n",
       "      <td>28.825509</td>\n",
       "    </tr>\n",
       "  </tbody>\n",
       "</table>\n",
       "<p>1 rows × 47 columns</p>\n",
       "</div>"
      ],
      "text/plain": [
       "                        pm_2_5   humidity  temperature  year  month  day  \\\n",
       "timestamp                                                                  \n",
       "2025-01-13 07:00:00  42.594631  78.292202    25.997341  2025      1   13   \n",
       "\n",
       "                     day_of_week  week_of_year  season  dew_point  ...  \\\n",
       "timestamp                                                          ...   \n",
       "2025-01-13 07:00:00            0             3       2  21.655782  ...   \n",
       "\n",
       "                     humidity_lag_2  humidity_lag_3  humidity_lag_7  \\\n",
       "timestamp                                                             \n",
       "2025-01-13 07:00:00       73.568381       70.491487       72.844643   \n",
       "\n",
       "                     temperature_rolling_2 temperature_rolling_5  \\\n",
       "timestamp                                                          \n",
       "2025-01-13 07:00:00              26.896216             28.008569   \n",
       "\n",
       "                     temperature_rolling_7  temperature_lag_1  \\\n",
       "timestamp                                                       \n",
       "2025-01-13 07:00:00              28.287636          25.434972   \n",
       "\n",
       "                     temperature_lag_2  temperature_lag_3  temperature_lag_7  \n",
       "timestamp                                                                     \n",
       "2025-01-13 07:00:00          28.357459          28.945704          28.825509  \n",
       "\n",
       "[1 rows x 47 columns]"
      ]
     },
     "execution_count": 23,
     "metadata": {},
     "output_type": "execute_result"
    }
   ],
   "source": [
    "test_data.head(1)"
   ]
  },
  {
   "cell_type": "code",
   "execution_count": 24,
   "metadata": {},
   "outputs": [
    {
     "data": {
      "text/html": [
       "<div>\n",
       "<style scoped>\n",
       "    .dataframe tbody tr th:only-of-type {\n",
       "        vertical-align: middle;\n",
       "    }\n",
       "\n",
       "    .dataframe tbody tr th {\n",
       "        vertical-align: top;\n",
       "    }\n",
       "\n",
       "    .dataframe thead th {\n",
       "        text-align: right;\n",
       "    }\n",
       "</style>\n",
       "<table border=\"1\" class=\"dataframe\">\n",
       "  <thead>\n",
       "    <tr style=\"text-align: right;\">\n",
       "      <th></th>\n",
       "      <th>pm_2_5</th>\n",
       "      <th>humidity</th>\n",
       "      <th>temperature</th>\n",
       "      <th>year</th>\n",
       "      <th>month</th>\n",
       "      <th>day</th>\n",
       "      <th>day_of_week</th>\n",
       "      <th>week_of_year</th>\n",
       "      <th>season</th>\n",
       "      <th>dew_point</th>\n",
       "      <th>...</th>\n",
       "      <th>humidity_lag_2</th>\n",
       "      <th>humidity_lag_3</th>\n",
       "      <th>humidity_lag_7</th>\n",
       "      <th>temperature_rolling_2</th>\n",
       "      <th>temperature_rolling_5</th>\n",
       "      <th>temperature_rolling_7</th>\n",
       "      <th>temperature_lag_1</th>\n",
       "      <th>temperature_lag_2</th>\n",
       "      <th>temperature_lag_3</th>\n",
       "      <th>temperature_lag_7</th>\n",
       "    </tr>\n",
       "    <tr>\n",
       "      <th>timestamp</th>\n",
       "      <th></th>\n",
       "      <th></th>\n",
       "      <th></th>\n",
       "      <th></th>\n",
       "      <th></th>\n",
       "      <th></th>\n",
       "      <th></th>\n",
       "      <th></th>\n",
       "      <th></th>\n",
       "      <th></th>\n",
       "      <th></th>\n",
       "      <th></th>\n",
       "      <th></th>\n",
       "      <th></th>\n",
       "      <th></th>\n",
       "      <th></th>\n",
       "      <th></th>\n",
       "      <th></th>\n",
       "      <th></th>\n",
       "      <th></th>\n",
       "      <th></th>\n",
       "    </tr>\n",
       "  </thead>\n",
       "  <tbody>\n",
       "    <tr>\n",
       "      <th>2025-02-11 07:00:00</th>\n",
       "      <td>27.522727</td>\n",
       "      <td>68.159624</td>\n",
       "      <td>28.693799</td>\n",
       "      <td>2025</td>\n",
       "      <td>2</td>\n",
       "      <td>11</td>\n",
       "      <td>1</td>\n",
       "      <td>7</td>\n",
       "      <td>0</td>\n",
       "      <td>22.325724</td>\n",
       "      <td>...</td>\n",
       "      <td>69.916384</td>\n",
       "      <td>69.348548</td>\n",
       "      <td>70.266522</td>\n",
       "      <td>28.312472</td>\n",
       "      <td>28.372328</td>\n",
       "      <td>28.280646</td>\n",
       "      <td>28.251201</td>\n",
       "      <td>28.373742</td>\n",
       "      <td>28.385596</td>\n",
       "      <td>27.775432</td>\n",
       "    </tr>\n",
       "  </tbody>\n",
       "</table>\n",
       "<p>1 rows × 47 columns</p>\n",
       "</div>"
      ],
      "text/plain": [
       "                        pm_2_5   humidity  temperature  year  month  day  \\\n",
       "timestamp                                                                  \n",
       "2025-02-11 07:00:00  27.522727  68.159624    28.693799  2025      2   11   \n",
       "\n",
       "                     day_of_week  week_of_year  season  dew_point  ...  \\\n",
       "timestamp                                                          ...   \n",
       "2025-02-11 07:00:00            1             7       0  22.325724  ...   \n",
       "\n",
       "                     humidity_lag_2  humidity_lag_3  humidity_lag_7  \\\n",
       "timestamp                                                             \n",
       "2025-02-11 07:00:00       69.916384       69.348548       70.266522   \n",
       "\n",
       "                     temperature_rolling_2 temperature_rolling_5  \\\n",
       "timestamp                                                          \n",
       "2025-02-11 07:00:00              28.312472             28.372328   \n",
       "\n",
       "                     temperature_rolling_7  temperature_lag_1  \\\n",
       "timestamp                                                       \n",
       "2025-02-11 07:00:00              28.280646          28.251201   \n",
       "\n",
       "                     temperature_lag_2  temperature_lag_3  temperature_lag_7  \n",
       "timestamp                                                                     \n",
       "2025-02-11 07:00:00          28.373742          28.385596          27.775432  \n",
       "\n",
       "[1 rows x 47 columns]"
      ]
     },
     "execution_count": 24,
     "metadata": {},
     "output_type": "execute_result"
    }
   ],
   "source": [
    "test_data.tail(1)"
   ]
  },
  {
   "cell_type": "code",
   "execution_count": 25,
   "metadata": {},
   "outputs": [
    {
     "data": {
      "text/html": [
       "<div>\n",
       "<style scoped>\n",
       "    .dataframe tbody tr th:only-of-type {\n",
       "        vertical-align: middle;\n",
       "    }\n",
       "\n",
       "    .dataframe tbody tr th {\n",
       "        vertical-align: top;\n",
       "    }\n",
       "\n",
       "    .dataframe thead th {\n",
       "        text-align: right;\n",
       "    }\n",
       "</style>\n",
       "<table border=\"1\" class=\"dataframe\">\n",
       "  <thead>\n",
       "    <tr style=\"text-align: right;\">\n",
       "      <th></th>\n",
       "      <th>pm_2_5</th>\n",
       "      <th>humidity</th>\n",
       "      <th>temperature</th>\n",
       "      <th>year</th>\n",
       "      <th>month</th>\n",
       "      <th>day</th>\n",
       "      <th>day_of_week</th>\n",
       "      <th>week_of_year</th>\n",
       "      <th>season</th>\n",
       "      <th>dew_point</th>\n",
       "      <th>...</th>\n",
       "      <th>humidity_lag_2</th>\n",
       "      <th>humidity_lag_3</th>\n",
       "      <th>humidity_lag_7</th>\n",
       "      <th>temperature_rolling_2</th>\n",
       "      <th>temperature_rolling_5</th>\n",
       "      <th>temperature_rolling_7</th>\n",
       "      <th>temperature_lag_1</th>\n",
       "      <th>temperature_lag_2</th>\n",
       "      <th>temperature_lag_3</th>\n",
       "      <th>temperature_lag_7</th>\n",
       "    </tr>\n",
       "    <tr>\n",
       "      <th>timestamp</th>\n",
       "      <th></th>\n",
       "      <th></th>\n",
       "      <th></th>\n",
       "      <th></th>\n",
       "      <th></th>\n",
       "      <th></th>\n",
       "      <th></th>\n",
       "      <th></th>\n",
       "      <th></th>\n",
       "      <th></th>\n",
       "      <th></th>\n",
       "      <th></th>\n",
       "      <th></th>\n",
       "      <th></th>\n",
       "      <th></th>\n",
       "      <th></th>\n",
       "      <th></th>\n",
       "      <th></th>\n",
       "      <th></th>\n",
       "      <th></th>\n",
       "      <th></th>\n",
       "    </tr>\n",
       "  </thead>\n",
       "  <tbody>\n",
       "    <tr>\n",
       "      <th>2025-02-07 07:00:00</th>\n",
       "      <td>29.321219</td>\n",
       "      <td>70.933952</td>\n",
       "      <td>28.271927</td>\n",
       "      <td>2025</td>\n",
       "      <td>2</td>\n",
       "      <td>7</td>\n",
       "      <td>4</td>\n",
       "      <td>6</td>\n",
       "      <td>0</td>\n",
       "      <td>22.458717</td>\n",
       "      <td>...</td>\n",
       "      <td>71.500943</td>\n",
       "      <td>70.266522</td>\n",
       "      <td>68.520368</td>\n",
       "      <td>28.453313</td>\n",
       "      <td>28.202099</td>\n",
       "      <td>27.951803</td>\n",
       "      <td>28.579177</td>\n",
       "      <td>28.327450</td>\n",
       "      <td>27.775432</td>\n",
       "      <td>27.336718</td>\n",
       "    </tr>\n",
       "    <tr>\n",
       "      <th>2025-02-08 07:00:00</th>\n",
       "      <td>26.000000</td>\n",
       "      <td>69.348548</td>\n",
       "      <td>28.385596</td>\n",
       "      <td>2025</td>\n",
       "      <td>2</td>\n",
       "      <td>8</td>\n",
       "      <td>5</td>\n",
       "      <td>6</td>\n",
       "      <td>0</td>\n",
       "      <td>22.255305</td>\n",
       "      <td>...</td>\n",
       "      <td>69.511783</td>\n",
       "      <td>71.500943</td>\n",
       "      <td>69.231031</td>\n",
       "      <td>28.425552</td>\n",
       "      <td>28.319706</td>\n",
       "      <td>28.085404</td>\n",
       "      <td>28.271927</td>\n",
       "      <td>28.579177</td>\n",
       "      <td>28.327450</td>\n",
       "      <td>27.315410</td>\n",
       "    </tr>\n",
       "    <tr>\n",
       "      <th>2025-02-09 07:00:00</th>\n",
       "      <td>24.616898</td>\n",
       "      <td>69.916384</td>\n",
       "      <td>28.373742</td>\n",
       "      <td>2025</td>\n",
       "      <td>2</td>\n",
       "      <td>9</td>\n",
       "      <td>6</td>\n",
       "      <td>6</td>\n",
       "      <td>0</td>\n",
       "      <td>22.357019</td>\n",
       "      <td>...</td>\n",
       "      <td>70.933952</td>\n",
       "      <td>69.511783</td>\n",
       "      <td>70.341639</td>\n",
       "      <td>28.328761</td>\n",
       "      <td>28.267916</td>\n",
       "      <td>28.238288</td>\n",
       "      <td>28.385596</td>\n",
       "      <td>28.271927</td>\n",
       "      <td>28.579177</td>\n",
       "      <td>27.683890</td>\n",
       "    </tr>\n",
       "    <tr>\n",
       "      <th>2025-02-10 07:00:00</th>\n",
       "      <td>25.856981</td>\n",
       "      <td>71.226336</td>\n",
       "      <td>28.251201</td>\n",
       "      <td>2025</td>\n",
       "      <td>2</td>\n",
       "      <td>10</td>\n",
       "      <td>0</td>\n",
       "      <td>7</td>\n",
       "      <td>0</td>\n",
       "      <td>22.496468</td>\n",
       "      <td>...</td>\n",
       "      <td>69.348548</td>\n",
       "      <td>70.933952</td>\n",
       "      <td>65.114261</td>\n",
       "      <td>28.379669</td>\n",
       "      <td>28.387578</td>\n",
       "      <td>28.336838</td>\n",
       "      <td>28.373742</td>\n",
       "      <td>28.385596</td>\n",
       "      <td>28.271927</td>\n",
       "      <td>28.644544</td>\n",
       "    </tr>\n",
       "    <tr>\n",
       "      <th>2025-02-11 07:00:00</th>\n",
       "      <td>27.522727</td>\n",
       "      <td>68.159624</td>\n",
       "      <td>28.693799</td>\n",
       "      <td>2025</td>\n",
       "      <td>2</td>\n",
       "      <td>11</td>\n",
       "      <td>1</td>\n",
       "      <td>7</td>\n",
       "      <td>0</td>\n",
       "      <td>22.325724</td>\n",
       "      <td>...</td>\n",
       "      <td>69.916384</td>\n",
       "      <td>69.348548</td>\n",
       "      <td>70.266522</td>\n",
       "      <td>28.312472</td>\n",
       "      <td>28.372328</td>\n",
       "      <td>28.280646</td>\n",
       "      <td>28.251201</td>\n",
       "      <td>28.373742</td>\n",
       "      <td>28.385596</td>\n",
       "      <td>27.775432</td>\n",
       "    </tr>\n",
       "  </tbody>\n",
       "</table>\n",
       "<p>5 rows × 47 columns</p>\n",
       "</div>"
      ],
      "text/plain": [
       "                        pm_2_5   humidity  temperature  year  month  day  \\\n",
       "timestamp                                                                  \n",
       "2025-02-07 07:00:00  29.321219  70.933952    28.271927  2025      2    7   \n",
       "2025-02-08 07:00:00  26.000000  69.348548    28.385596  2025      2    8   \n",
       "2025-02-09 07:00:00  24.616898  69.916384    28.373742  2025      2    9   \n",
       "2025-02-10 07:00:00  25.856981  71.226336    28.251201  2025      2   10   \n",
       "2025-02-11 07:00:00  27.522727  68.159624    28.693799  2025      2   11   \n",
       "\n",
       "                     day_of_week  week_of_year  season  dew_point  ...  \\\n",
       "timestamp                                                          ...   \n",
       "2025-02-07 07:00:00            4             6       0  22.458717  ...   \n",
       "2025-02-08 07:00:00            5             6       0  22.255305  ...   \n",
       "2025-02-09 07:00:00            6             6       0  22.357019  ...   \n",
       "2025-02-10 07:00:00            0             7       0  22.496468  ...   \n",
       "2025-02-11 07:00:00            1             7       0  22.325724  ...   \n",
       "\n",
       "                     humidity_lag_2  humidity_lag_3  humidity_lag_7  \\\n",
       "timestamp                                                             \n",
       "2025-02-07 07:00:00       71.500943       70.266522       68.520368   \n",
       "2025-02-08 07:00:00       69.511783       71.500943       69.231031   \n",
       "2025-02-09 07:00:00       70.933952       69.511783       70.341639   \n",
       "2025-02-10 07:00:00       69.348548       70.933952       65.114261   \n",
       "2025-02-11 07:00:00       69.916384       69.348548       70.266522   \n",
       "\n",
       "                     temperature_rolling_2 temperature_rolling_5  \\\n",
       "timestamp                                                          \n",
       "2025-02-07 07:00:00              28.453313             28.202099   \n",
       "2025-02-08 07:00:00              28.425552             28.319706   \n",
       "2025-02-09 07:00:00              28.328761             28.267916   \n",
       "2025-02-10 07:00:00              28.379669             28.387578   \n",
       "2025-02-11 07:00:00              28.312472             28.372328   \n",
       "\n",
       "                     temperature_rolling_7  temperature_lag_1  \\\n",
       "timestamp                                                       \n",
       "2025-02-07 07:00:00              27.951803          28.579177   \n",
       "2025-02-08 07:00:00              28.085404          28.271927   \n",
       "2025-02-09 07:00:00              28.238288          28.385596   \n",
       "2025-02-10 07:00:00              28.336838          28.373742   \n",
       "2025-02-11 07:00:00              28.280646          28.251201   \n",
       "\n",
       "                     temperature_lag_2  temperature_lag_3  temperature_lag_7  \n",
       "timestamp                                                                     \n",
       "2025-02-07 07:00:00          28.327450          27.775432          27.336718  \n",
       "2025-02-08 07:00:00          28.579177          28.327450          27.315410  \n",
       "2025-02-09 07:00:00          28.271927          28.579177          27.683890  \n",
       "2025-02-10 07:00:00          28.385596          28.271927          28.644544  \n",
       "2025-02-11 07:00:00          28.373742          28.385596          27.775432  \n",
       "\n",
       "[5 rows x 47 columns]"
      ]
     },
     "execution_count": 25,
     "metadata": {},
     "output_type": "execute_result"
    }
   ],
   "source": [
    "test_data.tail()"
   ]
  },
  {
   "cell_type": "code",
   "execution_count": 26,
   "metadata": {},
   "outputs": [
    {
     "data": {
      "text/plain": [
       "Index(['pm_2_5', 'humidity', 'temperature', 'year', 'month', 'day',\n",
       "       'day_of_week', 'week_of_year', 'season', 'dew_point', 'is_weekend',\n",
       "       'temp_humidity_ratio', 'heat_index', 'rh_index', 'date', 'day_of_year',\n",
       "       'month_sin', 'month_cos', 'day_of_week_sin', 'day_of_week_cos',\n",
       "       'pm_2_5_rolling_2', 'pm_2_5_rolling_3', 'pm_2_5_rolling_4',\n",
       "       'pm_2_5_rolling_5', 'pm_2_5_rolling_6', 'pm_2_5_rolling_7',\n",
       "       'pm_2_5_lag_1', 'pm_2_5_lag_2', 'pm_2_5_lag_3', 'pm_2_5_lag_4',\n",
       "       'pm_2_5_lag_5', 'pm_2_5_lag_6', 'pm_2_5_lag_7', 'humidity_rolling_2',\n",
       "       'humidity_rolling_5', 'humidity_rolling_7', 'humidity_lag_1',\n",
       "       'humidity_lag_2', 'humidity_lag_3', 'humidity_lag_7',\n",
       "       'temperature_rolling_2', 'temperature_rolling_5',\n",
       "       'temperature_rolling_7', 'temperature_lag_1', 'temperature_lag_2',\n",
       "       'temperature_lag_3', 'temperature_lag_7'],\n",
       "      dtype='object')"
      ]
     },
     "execution_count": 26,
     "metadata": {},
     "output_type": "execute_result"
    }
   ],
   "source": [
    "test_data.columns"
   ]
  },
  {
   "cell_type": "code",
   "execution_count": 27,
   "metadata": {},
   "outputs": [],
   "source": [
    "# train_data.dropna()"
   ]
  },
  {
   "cell_type": "code",
   "execution_count": 28,
   "metadata": {},
   "outputs": [
    {
     "data": {
      "text/html": [
       "<style type=\"text/css\">\n",
       "#T_ac2ca_row9_col1, #T_ac2ca_row13_col1 {\n",
       "  background-color: lightgreen;\n",
       "}\n",
       "</style>\n",
       "<table id=\"T_ac2ca\">\n",
       "  <thead>\n",
       "    <tr>\n",
       "      <th class=\"blank level0\" >&nbsp;</th>\n",
       "      <th id=\"T_ac2ca_level0_col0\" class=\"col_heading level0 col0\" >Description</th>\n",
       "      <th id=\"T_ac2ca_level0_col1\" class=\"col_heading level0 col1\" >Value</th>\n",
       "    </tr>\n",
       "  </thead>\n",
       "  <tbody>\n",
       "    <tr>\n",
       "      <th id=\"T_ac2ca_level0_row0\" class=\"row_heading level0 row0\" >0</th>\n",
       "      <td id=\"T_ac2ca_row0_col0\" class=\"data row0 col0\" >Session id</td>\n",
       "      <td id=\"T_ac2ca_row0_col1\" class=\"data row0 col1\" >123</td>\n",
       "    </tr>\n",
       "    <tr>\n",
       "      <th id=\"T_ac2ca_level0_row1\" class=\"row_heading level0 row1\" >1</th>\n",
       "      <td id=\"T_ac2ca_row1_col0\" class=\"data row1 col0\" >Target</td>\n",
       "      <td id=\"T_ac2ca_row1_col1\" class=\"data row1 col1\" >pm_2_5</td>\n",
       "    </tr>\n",
       "    <tr>\n",
       "      <th id=\"T_ac2ca_level0_row2\" class=\"row_heading level0 row2\" >2</th>\n",
       "      <td id=\"T_ac2ca_row2_col0\" class=\"data row2 col0\" >Target type</td>\n",
       "      <td id=\"T_ac2ca_row2_col1\" class=\"data row2 col1\" >Regression</td>\n",
       "    </tr>\n",
       "    <tr>\n",
       "      <th id=\"T_ac2ca_level0_row3\" class=\"row_heading level0 row3\" >3</th>\n",
       "      <td id=\"T_ac2ca_row3_col0\" class=\"data row3 col0\" >Original data shape</td>\n",
       "      <td id=\"T_ac2ca_row3_col1\" class=\"data row3 col1\" >(500, 47)</td>\n",
       "    </tr>\n",
       "    <tr>\n",
       "      <th id=\"T_ac2ca_level0_row4\" class=\"row_heading level0 row4\" >4</th>\n",
       "      <td id=\"T_ac2ca_row4_col0\" class=\"data row4 col0\" >Transformed data shape</td>\n",
       "      <td id=\"T_ac2ca_row4_col1\" class=\"data row4 col1\" >(482, 49)</td>\n",
       "    </tr>\n",
       "    <tr>\n",
       "      <th id=\"T_ac2ca_level0_row5\" class=\"row_heading level0 row5\" >5</th>\n",
       "      <td id=\"T_ac2ca_row5_col0\" class=\"data row5 col0\" >Transformed train set shape</td>\n",
       "      <td id=\"T_ac2ca_row5_col1\" class=\"data row5 col1\" >(332, 49)</td>\n",
       "    </tr>\n",
       "    <tr>\n",
       "      <th id=\"T_ac2ca_level0_row6\" class=\"row_heading level0 row6\" >6</th>\n",
       "      <td id=\"T_ac2ca_row6_col0\" class=\"data row6 col0\" >Transformed test set shape</td>\n",
       "      <td id=\"T_ac2ca_row6_col1\" class=\"data row6 col1\" >(150, 49)</td>\n",
       "    </tr>\n",
       "    <tr>\n",
       "      <th id=\"T_ac2ca_level0_row7\" class=\"row_heading level0 row7\" >7</th>\n",
       "      <td id=\"T_ac2ca_row7_col0\" class=\"data row7 col0\" >Numeric features</td>\n",
       "      <td id=\"T_ac2ca_row7_col1\" class=\"data row7 col1\" >45</td>\n",
       "    </tr>\n",
       "    <tr>\n",
       "      <th id=\"T_ac2ca_level0_row8\" class=\"row_heading level0 row8\" >8</th>\n",
       "      <td id=\"T_ac2ca_row8_col0\" class=\"data row8 col0\" >Date features</td>\n",
       "      <td id=\"T_ac2ca_row8_col1\" class=\"data row8 col1\" >1</td>\n",
       "    </tr>\n",
       "    <tr>\n",
       "      <th id=\"T_ac2ca_level0_row9\" class=\"row_heading level0 row9\" >9</th>\n",
       "      <td id=\"T_ac2ca_row9_col0\" class=\"data row9 col0\" >Preprocess</td>\n",
       "      <td id=\"T_ac2ca_row9_col1\" class=\"data row9 col1\" >True</td>\n",
       "    </tr>\n",
       "    <tr>\n",
       "      <th id=\"T_ac2ca_level0_row10\" class=\"row_heading level0 row10\" >10</th>\n",
       "      <td id=\"T_ac2ca_row10_col0\" class=\"data row10 col0\" >Imputation type</td>\n",
       "      <td id=\"T_ac2ca_row10_col1\" class=\"data row10 col1\" >simple</td>\n",
       "    </tr>\n",
       "    <tr>\n",
       "      <th id=\"T_ac2ca_level0_row11\" class=\"row_heading level0 row11\" >11</th>\n",
       "      <td id=\"T_ac2ca_row11_col0\" class=\"data row11 col0\" >Numeric imputation</td>\n",
       "      <td id=\"T_ac2ca_row11_col1\" class=\"data row11 col1\" >mean</td>\n",
       "    </tr>\n",
       "    <tr>\n",
       "      <th id=\"T_ac2ca_level0_row12\" class=\"row_heading level0 row12\" >12</th>\n",
       "      <td id=\"T_ac2ca_row12_col0\" class=\"data row12 col0\" >Categorical imputation</td>\n",
       "      <td id=\"T_ac2ca_row12_col1\" class=\"data row12 col1\" >mode</td>\n",
       "    </tr>\n",
       "    <tr>\n",
       "      <th id=\"T_ac2ca_level0_row13\" class=\"row_heading level0 row13\" >13</th>\n",
       "      <td id=\"T_ac2ca_row13_col0\" class=\"data row13 col0\" >Remove outliers</td>\n",
       "      <td id=\"T_ac2ca_row13_col1\" class=\"data row13 col1\" >True</td>\n",
       "    </tr>\n",
       "    <tr>\n",
       "      <th id=\"T_ac2ca_level0_row14\" class=\"row_heading level0 row14\" >14</th>\n",
       "      <td id=\"T_ac2ca_row14_col0\" class=\"data row14 col0\" >Outliers threshold</td>\n",
       "      <td id=\"T_ac2ca_row14_col1\" class=\"data row14 col1\" >0.050000</td>\n",
       "    </tr>\n",
       "    <tr>\n",
       "      <th id=\"T_ac2ca_level0_row15\" class=\"row_heading level0 row15\" >15</th>\n",
       "      <td id=\"T_ac2ca_row15_col0\" class=\"data row15 col0\" >Fold Generator</td>\n",
       "      <td id=\"T_ac2ca_row15_col1\" class=\"data row15 col1\" >KFold</td>\n",
       "    </tr>\n",
       "    <tr>\n",
       "      <th id=\"T_ac2ca_level0_row16\" class=\"row_heading level0 row16\" >16</th>\n",
       "      <td id=\"T_ac2ca_row16_col0\" class=\"data row16 col0\" >Fold Number</td>\n",
       "      <td id=\"T_ac2ca_row16_col1\" class=\"data row16 col1\" >12</td>\n",
       "    </tr>\n",
       "    <tr>\n",
       "      <th id=\"T_ac2ca_level0_row17\" class=\"row_heading level0 row17\" >17</th>\n",
       "      <td id=\"T_ac2ca_row17_col0\" class=\"data row17 col0\" >CPU Jobs</td>\n",
       "      <td id=\"T_ac2ca_row17_col1\" class=\"data row17 col1\" >-1</td>\n",
       "    </tr>\n",
       "    <tr>\n",
       "      <th id=\"T_ac2ca_level0_row18\" class=\"row_heading level0 row18\" >18</th>\n",
       "      <td id=\"T_ac2ca_row18_col0\" class=\"data row18 col0\" >Use GPU</td>\n",
       "      <td id=\"T_ac2ca_row18_col1\" class=\"data row18 col1\" >False</td>\n",
       "    </tr>\n",
       "    <tr>\n",
       "      <th id=\"T_ac2ca_level0_row19\" class=\"row_heading level0 row19\" >19</th>\n",
       "      <td id=\"T_ac2ca_row19_col0\" class=\"data row19 col0\" >Log Experiment</td>\n",
       "      <td id=\"T_ac2ca_row19_col1\" class=\"data row19 col1\" >False</td>\n",
       "    </tr>\n",
       "    <tr>\n",
       "      <th id=\"T_ac2ca_level0_row20\" class=\"row_heading level0 row20\" >20</th>\n",
       "      <td id=\"T_ac2ca_row20_col0\" class=\"data row20 col0\" >Experiment Name</td>\n",
       "      <td id=\"T_ac2ca_row20_col1\" class=\"data row20 col1\" >reg-default-name</td>\n",
       "    </tr>\n",
       "    <tr>\n",
       "      <th id=\"T_ac2ca_level0_row21\" class=\"row_heading level0 row21\" >21</th>\n",
       "      <td id=\"T_ac2ca_row21_col0\" class=\"data row21 col0\" >USI</td>\n",
       "      <td id=\"T_ac2ca_row21_col1\" class=\"data row21 col1\" >a75c</td>\n",
       "    </tr>\n",
       "  </tbody>\n",
       "</table>\n"
      ],
      "text/plain": [
       "<pandas.io.formats.style.Styler at 0x217c10430d0>"
      ]
     },
     "metadata": {},
     "output_type": "display_data"
    },
    {
     "data": {
      "text/plain": [
       "<pycaret.regression.oop.RegressionExperiment at 0x217c1b97a10>"
      ]
     },
     "execution_count": 28,
     "metadata": {},
     "output_type": "execute_result"
    }
   ],
   "source": [
    "# from pycaret.time_series import *\n",
    "from pycaret.regression import RegressionExperiment\n",
    "exp1 = RegressionExperiment()\n",
    "exp1.setup(data=train_data, target='pm_2_5', session_id=123, fold=12, iterative_imputation_iters=100, remove_outliers = True)\n",
    "# iterative_imputation_iters=100, remove_outliers = True"
   ]
  },
  {
   "cell_type": "code",
   "execution_count": 30,
   "metadata": {},
   "outputs": [
    {
     "data": {
      "text/html": [],
      "text/plain": [
       "<IPython.core.display.HTML object>"
      ]
     },
     "metadata": {},
     "output_type": "display_data"
    },
    {
     "data": {
      "text/html": [
       "<style type=\"text/css\">\n",
       "#T_803f5 th {\n",
       "  text-align: left;\n",
       "}\n",
       "#T_803f5_row0_col0, #T_803f5_row0_col1, #T_803f5_row0_col3, #T_803f5_row0_col6, #T_803f5_row1_col0, #T_803f5_row1_col1, #T_803f5_row1_col2, #T_803f5_row1_col4, #T_803f5_row1_col5, #T_803f5_row1_col6, #T_803f5_row2_col0, #T_803f5_row2_col1, #T_803f5_row2_col2, #T_803f5_row2_col3, #T_803f5_row2_col4, #T_803f5_row2_col5, #T_803f5_row2_col6, #T_803f5_row3_col0, #T_803f5_row3_col1, #T_803f5_row3_col2, #T_803f5_row3_col3, #T_803f5_row3_col4, #T_803f5_row3_col5, #T_803f5_row3_col6, #T_803f5_row4_col0, #T_803f5_row4_col1, #T_803f5_row4_col2, #T_803f5_row4_col3, #T_803f5_row4_col4, #T_803f5_row4_col5, #T_803f5_row4_col6, #T_803f5_row5_col0, #T_803f5_row5_col2, #T_803f5_row5_col3, #T_803f5_row5_col4, #T_803f5_row5_col5, #T_803f5_row6_col0, #T_803f5_row6_col1, #T_803f5_row6_col2, #T_803f5_row6_col3, #T_803f5_row6_col4, #T_803f5_row6_col5, #T_803f5_row6_col6, #T_803f5_row7_col0, #T_803f5_row7_col1, #T_803f5_row7_col2, #T_803f5_row7_col3, #T_803f5_row7_col4, #T_803f5_row7_col5, #T_803f5_row7_col6, #T_803f5_row8_col0, #T_803f5_row8_col1, #T_803f5_row8_col2, #T_803f5_row8_col3, #T_803f5_row8_col4, #T_803f5_row8_col5, #T_803f5_row8_col6, #T_803f5_row9_col0, #T_803f5_row9_col1, #T_803f5_row9_col2, #T_803f5_row9_col3, #T_803f5_row9_col4, #T_803f5_row9_col5, #T_803f5_row9_col6, #T_803f5_row10_col0, #T_803f5_row10_col1, #T_803f5_row10_col2, #T_803f5_row10_col3, #T_803f5_row10_col4, #T_803f5_row10_col5, #T_803f5_row10_col6, #T_803f5_row11_col0, #T_803f5_row11_col1, #T_803f5_row11_col2, #T_803f5_row11_col3, #T_803f5_row11_col4, #T_803f5_row11_col5, #T_803f5_row11_col6, #T_803f5_row12_col0, #T_803f5_row12_col1, #T_803f5_row12_col2, #T_803f5_row12_col3, #T_803f5_row12_col4, #T_803f5_row12_col5, #T_803f5_row12_col6, #T_803f5_row13_col0, #T_803f5_row13_col1, #T_803f5_row13_col2, #T_803f5_row13_col3, #T_803f5_row13_col4, #T_803f5_row13_col5, #T_803f5_row13_col6, #T_803f5_row14_col0, #T_803f5_row14_col1, #T_803f5_row14_col2, #T_803f5_row14_col3, #T_803f5_row14_col4, #T_803f5_row14_col5, #T_803f5_row14_col6, #T_803f5_row15_col0, #T_803f5_row15_col1, #T_803f5_row15_col2, #T_803f5_row15_col3, #T_803f5_row15_col4, #T_803f5_row15_col5, #T_803f5_row15_col6, #T_803f5_row16_col0, #T_803f5_row16_col1, #T_803f5_row16_col2, #T_803f5_row16_col3, #T_803f5_row16_col4, #T_803f5_row16_col5, #T_803f5_row16_col6, #T_803f5_row17_col0, #T_803f5_row17_col1, #T_803f5_row17_col2, #T_803f5_row17_col3, #T_803f5_row17_col4, #T_803f5_row17_col5, #T_803f5_row17_col6 {\n",
       "  text-align: left;\n",
       "}\n",
       "#T_803f5_row0_col2, #T_803f5_row0_col4, #T_803f5_row0_col5, #T_803f5_row1_col3, #T_803f5_row5_col1, #T_803f5_row5_col6 {\n",
       "  text-align: left;\n",
       "  background-color: yellow;\n",
       "}\n",
       "#T_803f5_row0_col7, #T_803f5_row1_col7, #T_803f5_row2_col7, #T_803f5_row4_col7, #T_803f5_row5_col7, #T_803f5_row6_col7, #T_803f5_row7_col7, #T_803f5_row8_col7, #T_803f5_row9_col7, #T_803f5_row10_col7, #T_803f5_row11_col7, #T_803f5_row12_col7, #T_803f5_row13_col7, #T_803f5_row14_col7, #T_803f5_row15_col7, #T_803f5_row16_col7, #T_803f5_row17_col7 {\n",
       "  text-align: left;\n",
       "  background-color: lightgrey;\n",
       "}\n",
       "#T_803f5_row3_col7 {\n",
       "  text-align: left;\n",
       "  background-color: yellow;\n",
       "  background-color: lightgrey;\n",
       "}\n",
       "</style>\n",
       "<table id=\"T_803f5\">\n",
       "  <thead>\n",
       "    <tr>\n",
       "      <th class=\"blank level0\" >&nbsp;</th>\n",
       "      <th id=\"T_803f5_level0_col0\" class=\"col_heading level0 col0\" >Model</th>\n",
       "      <th id=\"T_803f5_level0_col1\" class=\"col_heading level0 col1\" >MAE</th>\n",
       "      <th id=\"T_803f5_level0_col2\" class=\"col_heading level0 col2\" >MSE</th>\n",
       "      <th id=\"T_803f5_level0_col3\" class=\"col_heading level0 col3\" >RMSE</th>\n",
       "      <th id=\"T_803f5_level0_col4\" class=\"col_heading level0 col4\" >R2</th>\n",
       "      <th id=\"T_803f5_level0_col5\" class=\"col_heading level0 col5\" >RMSLE</th>\n",
       "      <th id=\"T_803f5_level0_col6\" class=\"col_heading level0 col6\" >MAPE</th>\n",
       "      <th id=\"T_803f5_level0_col7\" class=\"col_heading level0 col7\" >TT (Sec)</th>\n",
       "    </tr>\n",
       "  </thead>\n",
       "  <tbody>\n",
       "    <tr>\n",
       "      <th id=\"T_803f5_level0_row0\" class=\"row_heading level0 row0\" >llar</th>\n",
       "      <td id=\"T_803f5_row0_col0\" class=\"data row0 col0\" >Lasso Least Angle Regression</td>\n",
       "      <td id=\"T_803f5_row0_col1\" class=\"data row0 col1\" >5.1200</td>\n",
       "      <td id=\"T_803f5_row0_col2\" class=\"data row0 col2\" >44.1443</td>\n",
       "      <td id=\"T_803f5_row0_col3\" class=\"data row0 col3\" >6.4939</td>\n",
       "      <td id=\"T_803f5_row0_col4\" class=\"data row0 col4\" >0.5278</td>\n",
       "      <td id=\"T_803f5_row0_col5\" class=\"data row0 col5\" >0.3442</td>\n",
       "      <td id=\"T_803f5_row0_col6\" class=\"data row0 col6\" >0.3257</td>\n",
       "      <td id=\"T_803f5_row0_col7\" class=\"data row0 col7\" >0.1017</td>\n",
       "    </tr>\n",
       "    <tr>\n",
       "      <th id=\"T_803f5_level0_row1\" class=\"row_heading level0 row1\" >lasso</th>\n",
       "      <td id=\"T_803f5_row1_col0\" class=\"data row1 col0\" >Lasso Regression</td>\n",
       "      <td id=\"T_803f5_row1_col1\" class=\"data row1 col1\" >5.1165</td>\n",
       "      <td id=\"T_803f5_row1_col2\" class=\"data row1 col2\" >44.1497</td>\n",
       "      <td id=\"T_803f5_row1_col3\" class=\"data row1 col3\" >6.4926</td>\n",
       "      <td id=\"T_803f5_row1_col4\" class=\"data row1 col4\" >0.5277</td>\n",
       "      <td id=\"T_803f5_row1_col5\" class=\"data row1 col5\" >0.3444</td>\n",
       "      <td id=\"T_803f5_row1_col6\" class=\"data row1 col6\" >0.3255</td>\n",
       "      <td id=\"T_803f5_row1_col7\" class=\"data row1 col7\" >0.1300</td>\n",
       "    </tr>\n",
       "    <tr>\n",
       "      <th id=\"T_803f5_level0_row2\" class=\"row_heading level0 row2\" >en</th>\n",
       "      <td id=\"T_803f5_row2_col0\" class=\"data row2 col0\" >Elastic Net</td>\n",
       "      <td id=\"T_803f5_row2_col1\" class=\"data row2 col1\" >5.1605</td>\n",
       "      <td id=\"T_803f5_row2_col2\" class=\"data row2 col2\" >44.7436</td>\n",
       "      <td id=\"T_803f5_row2_col3\" class=\"data row2 col3\" >6.5389</td>\n",
       "      <td id=\"T_803f5_row2_col4\" class=\"data row2 col4\" >0.5203</td>\n",
       "      <td id=\"T_803f5_row2_col5\" class=\"data row2 col5\" >0.3478</td>\n",
       "      <td id=\"T_803f5_row2_col6\" class=\"data row2 col6\" >0.3282</td>\n",
       "      <td id=\"T_803f5_row2_col7\" class=\"data row2 col7\" >0.1050</td>\n",
       "    </tr>\n",
       "    <tr>\n",
       "      <th id=\"T_803f5_level0_row3\" class=\"row_heading level0 row3\" >br</th>\n",
       "      <td id=\"T_803f5_row3_col0\" class=\"data row3 col0\" >Bayesian Ridge</td>\n",
       "      <td id=\"T_803f5_row3_col1\" class=\"data row3 col1\" >5.1876</td>\n",
       "      <td id=\"T_803f5_row3_col2\" class=\"data row3 col2\" >44.9907</td>\n",
       "      <td id=\"T_803f5_row3_col3\" class=\"data row3 col3\" >6.5598</td>\n",
       "      <td id=\"T_803f5_row3_col4\" class=\"data row3 col4\" >0.5189</td>\n",
       "      <td id=\"T_803f5_row3_col5\" class=\"data row3 col5\" >0.3487</td>\n",
       "      <td id=\"T_803f5_row3_col6\" class=\"data row3 col6\" >0.3307</td>\n",
       "      <td id=\"T_803f5_row3_col7\" class=\"data row3 col7\" >0.0800</td>\n",
       "    </tr>\n",
       "    <tr>\n",
       "      <th id=\"T_803f5_level0_row4\" class=\"row_heading level0 row4\" >omp</th>\n",
       "      <td id=\"T_803f5_row4_col0\" class=\"data row4 col0\" >Orthogonal Matching Pursuit</td>\n",
       "      <td id=\"T_803f5_row4_col1\" class=\"data row4 col1\" >5.1398</td>\n",
       "      <td id=\"T_803f5_row4_col2\" class=\"data row4 col2\" >44.9781</td>\n",
       "      <td id=\"T_803f5_row4_col3\" class=\"data row4 col3\" >6.5605</td>\n",
       "      <td id=\"T_803f5_row4_col4\" class=\"data row4 col4\" >0.5178</td>\n",
       "      <td id=\"T_803f5_row4_col5\" class=\"data row4 col5\" >0.3461</td>\n",
       "      <td id=\"T_803f5_row4_col6\" class=\"data row4 col6\" >0.3283</td>\n",
       "      <td id=\"T_803f5_row4_col7\" class=\"data row4 col7\" >0.1025</td>\n",
       "    </tr>\n",
       "    <tr>\n",
       "      <th id=\"T_803f5_level0_row5\" class=\"row_heading level0 row5\" >huber</th>\n",
       "      <td id=\"T_803f5_row5_col0\" class=\"data row5 col0\" >Huber Regressor</td>\n",
       "      <td id=\"T_803f5_row5_col1\" class=\"data row5 col1\" >5.0845</td>\n",
       "      <td id=\"T_803f5_row5_col2\" class=\"data row5 col2\" >45.6962</td>\n",
       "      <td id=\"T_803f5_row5_col3\" class=\"data row5 col3\" >6.5707</td>\n",
       "      <td id=\"T_803f5_row5_col4\" class=\"data row5 col4\" >0.5113</td>\n",
       "      <td id=\"T_803f5_row5_col5\" class=\"data row5 col5\" >0.3447</td>\n",
       "      <td id=\"T_803f5_row5_col6\" class=\"data row5 col6\" >0.3069</td>\n",
       "      <td id=\"T_803f5_row5_col7\" class=\"data row5 col7\" >0.1350</td>\n",
       "    </tr>\n",
       "    <tr>\n",
       "      <th id=\"T_803f5_level0_row6\" class=\"row_heading level0 row6\" >gbr</th>\n",
       "      <td id=\"T_803f5_row6_col0\" class=\"data row6 col0\" >Gradient Boosting Regressor</td>\n",
       "      <td id=\"T_803f5_row6_col1\" class=\"data row6 col1\" >5.3462</td>\n",
       "      <td id=\"T_803f5_row6_col2\" class=\"data row6 col2\" >46.9290</td>\n",
       "      <td id=\"T_803f5_row6_col3\" class=\"data row6 col3\" >6.7231</td>\n",
       "      <td id=\"T_803f5_row6_col4\" class=\"data row6 col4\" >0.4977</td>\n",
       "      <td id=\"T_803f5_row6_col5\" class=\"data row6 col5\" >0.3554</td>\n",
       "      <td id=\"T_803f5_row6_col6\" class=\"data row6 col6\" >0.3448</td>\n",
       "      <td id=\"T_803f5_row6_col7\" class=\"data row6 col7\" >0.2558</td>\n",
       "    </tr>\n",
       "    <tr>\n",
       "      <th id=\"T_803f5_level0_row7\" class=\"row_heading level0 row7\" >ada</th>\n",
       "      <td id=\"T_803f5_row7_col0\" class=\"data row7 col0\" >AdaBoost Regressor</td>\n",
       "      <td id=\"T_803f5_row7_col1\" class=\"data row7 col1\" >5.5100</td>\n",
       "      <td id=\"T_803f5_row7_col2\" class=\"data row7 col2\" >47.5578</td>\n",
       "      <td id=\"T_803f5_row7_col3\" class=\"data row7 col3\" >6.7657</td>\n",
       "      <td id=\"T_803f5_row7_col4\" class=\"data row7 col4\" >0.4966</td>\n",
       "      <td id=\"T_803f5_row7_col5\" class=\"data row7 col5\" >0.3710</td>\n",
       "      <td id=\"T_803f5_row7_col6\" class=\"data row7 col6\" >0.3813</td>\n",
       "      <td id=\"T_803f5_row7_col7\" class=\"data row7 col7\" >0.1908</td>\n",
       "    </tr>\n",
       "    <tr>\n",
       "      <th id=\"T_803f5_level0_row8\" class=\"row_heading level0 row8\" >et</th>\n",
       "      <td id=\"T_803f5_row8_col0\" class=\"data row8 col0\" >Extra Trees Regressor</td>\n",
       "      <td id=\"T_803f5_row8_col1\" class=\"data row8 col1\" >5.3148</td>\n",
       "      <td id=\"T_803f5_row8_col2\" class=\"data row8 col2\" >46.9296</td>\n",
       "      <td id=\"T_803f5_row8_col3\" class=\"data row8 col3\" >6.7028</td>\n",
       "      <td id=\"T_803f5_row8_col4\" class=\"data row8 col4\" >0.4962</td>\n",
       "      <td id=\"T_803f5_row8_col5\" class=\"data row8 col5\" >0.3605</td>\n",
       "      <td id=\"T_803f5_row8_col6\" class=\"data row8 col6\" >0.3519</td>\n",
       "      <td id=\"T_803f5_row8_col7\" class=\"data row8 col7\" >0.3042</td>\n",
       "    </tr>\n",
       "    <tr>\n",
       "      <th id=\"T_803f5_level0_row9\" class=\"row_heading level0 row9\" >rf</th>\n",
       "      <td id=\"T_803f5_row9_col0\" class=\"data row9 col0\" >Random Forest Regressor</td>\n",
       "      <td id=\"T_803f5_row9_col1\" class=\"data row9 col1\" >5.3562</td>\n",
       "      <td id=\"T_803f5_row9_col2\" class=\"data row9 col2\" >47.1286</td>\n",
       "      <td id=\"T_803f5_row9_col3\" class=\"data row9 col3\" >6.7453</td>\n",
       "      <td id=\"T_803f5_row9_col4\" class=\"data row9 col4\" >0.4960</td>\n",
       "      <td id=\"T_803f5_row9_col5\" class=\"data row9 col5\" >0.3622</td>\n",
       "      <td id=\"T_803f5_row9_col6\" class=\"data row9 col6\" >0.3557</td>\n",
       "      <td id=\"T_803f5_row9_col7\" class=\"data row9 col7\" >0.3758</td>\n",
       "    </tr>\n",
       "    <tr>\n",
       "      <th id=\"T_803f5_level0_row10\" class=\"row_heading level0 row10\" >ridge</th>\n",
       "      <td id=\"T_803f5_row10_col0\" class=\"data row10 col0\" >Ridge Regression</td>\n",
       "      <td id=\"T_803f5_row10_col1\" class=\"data row10 col1\" >5.3363</td>\n",
       "      <td id=\"T_803f5_row10_col2\" class=\"data row10 col2\" >47.4655</td>\n",
       "      <td id=\"T_803f5_row10_col3\" class=\"data row10 col3\" >6.7621</td>\n",
       "      <td id=\"T_803f5_row10_col4\" class=\"data row10 col4\" >0.4914</td>\n",
       "      <td id=\"T_803f5_row10_col5\" class=\"data row10 col5\" >0.3767</td>\n",
       "      <td id=\"T_803f5_row10_col6\" class=\"data row10 col6\" >0.3341</td>\n",
       "      <td id=\"T_803f5_row10_col7\" class=\"data row10 col7\" >0.0833</td>\n",
       "    </tr>\n",
       "    <tr>\n",
       "      <th id=\"T_803f5_level0_row11\" class=\"row_heading level0 row11\" >lightgbm</th>\n",
       "      <td id=\"T_803f5_row11_col0\" class=\"data row11 col0\" >Light Gradient Boosting Machine</td>\n",
       "      <td id=\"T_803f5_row11_col1\" class=\"data row11 col1\" >5.4209</td>\n",
       "      <td id=\"T_803f5_row11_col2\" class=\"data row11 col2\" >48.7978</td>\n",
       "      <td id=\"T_803f5_row11_col3\" class=\"data row11 col3\" >6.7971</td>\n",
       "      <td id=\"T_803f5_row11_col4\" class=\"data row11 col4\" >0.4859</td>\n",
       "      <td id=\"T_803f5_row11_col5\" class=\"data row11 col5\" >0.3669</td>\n",
       "      <td id=\"T_803f5_row11_col6\" class=\"data row11 col6\" >0.3557</td>\n",
       "      <td id=\"T_803f5_row11_col7\" class=\"data row11 col7\" >0.2708</td>\n",
       "    </tr>\n",
       "    <tr>\n",
       "      <th id=\"T_803f5_level0_row12\" class=\"row_heading level0 row12\" >lr</th>\n",
       "      <td id=\"T_803f5_row12_col0\" class=\"data row12 col0\" >Linear Regression</td>\n",
       "      <td id=\"T_803f5_row12_col1\" class=\"data row12 col1\" >5.3845</td>\n",
       "      <td id=\"T_803f5_row12_col2\" class=\"data row12 col2\" >49.0917</td>\n",
       "      <td id=\"T_803f5_row12_col3\" class=\"data row12 col3\" >6.8650</td>\n",
       "      <td id=\"T_803f5_row12_col4\" class=\"data row12 col4\" >0.4762</td>\n",
       "      <td id=\"T_803f5_row12_col5\" class=\"data row12 col5\" >0.3769</td>\n",
       "      <td id=\"T_803f5_row12_col6\" class=\"data row12 col6\" >0.3308</td>\n",
       "      <td id=\"T_803f5_row12_col7\" class=\"data row12 col7\" >1.1142</td>\n",
       "    </tr>\n",
       "    <tr>\n",
       "      <th id=\"T_803f5_level0_row13\" class=\"row_heading level0 row13\" >knn</th>\n",
       "      <td id=\"T_803f5_row13_col0\" class=\"data row13 col0\" >K Neighbors Regressor</td>\n",
       "      <td id=\"T_803f5_row13_col1\" class=\"data row13 col1\" >6.0153</td>\n",
       "      <td id=\"T_803f5_row13_col2\" class=\"data row13 col2\" >59.8126</td>\n",
       "      <td id=\"T_803f5_row13_col3\" class=\"data row13 col3\" >7.6301</td>\n",
       "      <td id=\"T_803f5_row13_col4\" class=\"data row13 col4\" >0.3421</td>\n",
       "      <td id=\"T_803f5_row13_col5\" class=\"data row13 col5\" >0.3898</td>\n",
       "      <td id=\"T_803f5_row13_col6\" class=\"data row13 col6\" >0.3825</td>\n",
       "      <td id=\"T_803f5_row13_col7\" class=\"data row13 col7\" >0.1233</td>\n",
       "    </tr>\n",
       "    <tr>\n",
       "      <th id=\"T_803f5_level0_row14\" class=\"row_heading level0 row14\" >dt</th>\n",
       "      <td id=\"T_803f5_row14_col0\" class=\"data row14 col0\" >Decision Tree Regressor</td>\n",
       "      <td id=\"T_803f5_row14_col1\" class=\"data row14 col1\" >7.3439</td>\n",
       "      <td id=\"T_803f5_row14_col2\" class=\"data row14 col2\" >86.8752</td>\n",
       "      <td id=\"T_803f5_row14_col3\" class=\"data row14 col3\" >9.2475</td>\n",
       "      <td id=\"T_803f5_row14_col4\" class=\"data row14 col4\" >0.0334</td>\n",
       "      <td id=\"T_803f5_row14_col5\" class=\"data row14 col5\" >0.4634</td>\n",
       "      <td id=\"T_803f5_row14_col6\" class=\"data row14 col6\" >0.4647</td>\n",
       "      <td id=\"T_803f5_row14_col7\" class=\"data row14 col7\" >0.0975</td>\n",
       "    </tr>\n",
       "    <tr>\n",
       "      <th id=\"T_803f5_level0_row15\" class=\"row_heading level0 row15\" >dummy</th>\n",
       "      <td id=\"T_803f5_row15_col0\" class=\"data row15 col0\" >Dummy Regressor</td>\n",
       "      <td id=\"T_803f5_row15_col1\" class=\"data row15 col1\" >7.8636</td>\n",
       "      <td id=\"T_803f5_row15_col2\" class=\"data row15 col2\" >99.7760</td>\n",
       "      <td id=\"T_803f5_row15_col3\" class=\"data row15 col3\" >9.8503</td>\n",
       "      <td id=\"T_803f5_row15_col4\" class=\"data row15 col4\" >-0.0466</td>\n",
       "      <td id=\"T_803f5_row15_col5\" class=\"data row15 col5\" >0.5000</td>\n",
       "      <td id=\"T_803f5_row15_col6\" class=\"data row15 col6\" >0.5551</td>\n",
       "      <td id=\"T_803f5_row15_col7\" class=\"data row15 col7\" >0.1100</td>\n",
       "    </tr>\n",
       "    <tr>\n",
       "      <th id=\"T_803f5_level0_row16\" class=\"row_heading level0 row16\" >par</th>\n",
       "      <td id=\"T_803f5_row16_col0\" class=\"data row16 col0\" >Passive Aggressive Regressor</td>\n",
       "      <td id=\"T_803f5_row16_col1\" class=\"data row16 col1\" >10.1750</td>\n",
       "      <td id=\"T_803f5_row16_col2\" class=\"data row16 col2\" >171.4784</td>\n",
       "      <td id=\"T_803f5_row16_col3\" class=\"data row16 col3\" >12.0926</td>\n",
       "      <td id=\"T_803f5_row16_col4\" class=\"data row16 col4\" >-0.9425</td>\n",
       "      <td id=\"T_803f5_row16_col5\" class=\"data row16 col5\" >0.5592</td>\n",
       "      <td id=\"T_803f5_row16_col6\" class=\"data row16 col6\" >0.7002</td>\n",
       "      <td id=\"T_803f5_row16_col7\" class=\"data row16 col7\" >0.1042</td>\n",
       "    </tr>\n",
       "    <tr>\n",
       "      <th id=\"T_803f5_level0_row17\" class=\"row_heading level0 row17\" >lar</th>\n",
       "      <td id=\"T_803f5_row17_col0\" class=\"data row17 col0\" >Least Angle Regression</td>\n",
       "      <td id=\"T_803f5_row17_col1\" class=\"data row17 col1\" >81282438803.3244</td>\n",
       "      <td id=\"T_803f5_row17_col2\" class=\"data row17 col2\" >41346107746926827929600.0000</td>\n",
       "      <td id=\"T_803f5_row17_col3\" class=\"data row17 col3\" >100028477381.4167</td>\n",
       "      <td id=\"T_803f5_row17_col4\" class=\"data row17 col4\" >-524609687679104516096.0000</td>\n",
       "      <td id=\"T_803f5_row17_col5\" class=\"data row17 col5\" >16.5001</td>\n",
       "      <td id=\"T_803f5_row17_col6\" class=\"data row17 col6\" >4583409476.7353</td>\n",
       "      <td id=\"T_803f5_row17_col7\" class=\"data row17 col7\" >0.0875</td>\n",
       "    </tr>\n",
       "  </tbody>\n",
       "</table>\n"
      ],
      "text/plain": [
       "<pandas.io.formats.style.Styler at 0x217c547f390>"
      ]
     },
     "metadata": {},
     "output_type": "display_data"
    },
    {
     "data": {
      "text/html": [],
      "text/plain": [
       "<IPython.core.display.HTML object>"
      ]
     },
     "metadata": {},
     "output_type": "display_data"
    }
   ],
   "source": [
    "# compare baseline models\n",
    "best = exp1.compare_models(n_select=15)"
   ]
  },
  {
   "cell_type": "code",
   "execution_count": 31,
   "metadata": {},
   "outputs": [
    {
     "data": {
      "text/html": [],
      "text/plain": [
       "<IPython.core.display.HTML object>"
      ]
     },
     "metadata": {},
     "output_type": "display_data"
    },
    {
     "data": {
      "text/html": [
       "<style type=\"text/css\">\n",
       "#T_6aad9_row12_col0, #T_6aad9_row12_col1, #T_6aad9_row12_col2, #T_6aad9_row12_col3, #T_6aad9_row12_col4, #T_6aad9_row12_col5 {\n",
       "  background: yellow;\n",
       "}\n",
       "</style>\n",
       "<table id=\"T_6aad9\">\n",
       "  <thead>\n",
       "    <tr>\n",
       "      <th class=\"blank level0\" >&nbsp;</th>\n",
       "      <th id=\"T_6aad9_level0_col0\" class=\"col_heading level0 col0\" >MAE</th>\n",
       "      <th id=\"T_6aad9_level0_col1\" class=\"col_heading level0 col1\" >MSE</th>\n",
       "      <th id=\"T_6aad9_level0_col2\" class=\"col_heading level0 col2\" >RMSE</th>\n",
       "      <th id=\"T_6aad9_level0_col3\" class=\"col_heading level0 col3\" >R2</th>\n",
       "      <th id=\"T_6aad9_level0_col4\" class=\"col_heading level0 col4\" >RMSLE</th>\n",
       "      <th id=\"T_6aad9_level0_col5\" class=\"col_heading level0 col5\" >MAPE</th>\n",
       "    </tr>\n",
       "    <tr>\n",
       "      <th class=\"index_name level0\" >Fold</th>\n",
       "      <th class=\"blank col0\" >&nbsp;</th>\n",
       "      <th class=\"blank col1\" >&nbsp;</th>\n",
       "      <th class=\"blank col2\" >&nbsp;</th>\n",
       "      <th class=\"blank col3\" >&nbsp;</th>\n",
       "      <th class=\"blank col4\" >&nbsp;</th>\n",
       "      <th class=\"blank col5\" >&nbsp;</th>\n",
       "    </tr>\n",
       "  </thead>\n",
       "  <tbody>\n",
       "    <tr>\n",
       "      <th id=\"T_6aad9_level0_row0\" class=\"row_heading level0 row0\" >0</th>\n",
       "      <td id=\"T_6aad9_row0_col0\" class=\"data row0 col0\" >4.4418</td>\n",
       "      <td id=\"T_6aad9_row0_col1\" class=\"data row0 col1\" >30.8152</td>\n",
       "      <td id=\"T_6aad9_row0_col2\" class=\"data row0 col2\" >5.5511</td>\n",
       "      <td id=\"T_6aad9_row0_col3\" class=\"data row0 col3\" >0.6611</td>\n",
       "      <td id=\"T_6aad9_row0_col4\" class=\"data row0 col4\" >0.3278</td>\n",
       "      <td id=\"T_6aad9_row0_col5\" class=\"data row0 col5\" >0.3086</td>\n",
       "    </tr>\n",
       "    <tr>\n",
       "      <th id=\"T_6aad9_level0_row1\" class=\"row_heading level0 row1\" >1</th>\n",
       "      <td id=\"T_6aad9_row1_col0\" class=\"data row1 col0\" >7.4588</td>\n",
       "      <td id=\"T_6aad9_row1_col1\" class=\"data row1 col1\" >105.1100</td>\n",
       "      <td id=\"T_6aad9_row1_col2\" class=\"data row1 col2\" >10.2523</td>\n",
       "      <td id=\"T_6aad9_row1_col3\" class=\"data row1 col3\" >0.4209</td>\n",
       "      <td id=\"T_6aad9_row1_col4\" class=\"data row1 col4\" >0.4265</td>\n",
       "      <td id=\"T_6aad9_row1_col5\" class=\"data row1 col5\" >0.3659</td>\n",
       "    </tr>\n",
       "    <tr>\n",
       "      <th id=\"T_6aad9_level0_row2\" class=\"row_heading level0 row2\" >2</th>\n",
       "      <td id=\"T_6aad9_row2_col0\" class=\"data row2 col0\" >4.7770</td>\n",
       "      <td id=\"T_6aad9_row2_col1\" class=\"data row2 col1\" >29.8153</td>\n",
       "      <td id=\"T_6aad9_row2_col2\" class=\"data row2 col2\" >5.4603</td>\n",
       "      <td id=\"T_6aad9_row2_col3\" class=\"data row2 col3\" >0.5926</td>\n",
       "      <td id=\"T_6aad9_row2_col4\" class=\"data row2 col4\" >0.4165</td>\n",
       "      <td id=\"T_6aad9_row2_col5\" class=\"data row2 col5\" >0.4826</td>\n",
       "    </tr>\n",
       "    <tr>\n",
       "      <th id=\"T_6aad9_level0_row3\" class=\"row_heading level0 row3\" >3</th>\n",
       "      <td id=\"T_6aad9_row3_col0\" class=\"data row3 col0\" >6.4266</td>\n",
       "      <td id=\"T_6aad9_row3_col1\" class=\"data row3 col1\" >61.6108</td>\n",
       "      <td id=\"T_6aad9_row3_col2\" class=\"data row3 col2\" >7.8493</td>\n",
       "      <td id=\"T_6aad9_row3_col3\" class=\"data row3 col3\" >0.4516</td>\n",
       "      <td id=\"T_6aad9_row3_col4\" class=\"data row3 col4\" >0.4296</td>\n",
       "      <td id=\"T_6aad9_row3_col5\" class=\"data row3 col5\" >0.4604</td>\n",
       "    </tr>\n",
       "    <tr>\n",
       "      <th id=\"T_6aad9_level0_row4\" class=\"row_heading level0 row4\" >4</th>\n",
       "      <td id=\"T_6aad9_row4_col0\" class=\"data row4 col0\" >4.6346</td>\n",
       "      <td id=\"T_6aad9_row4_col1\" class=\"data row4 col1\" >48.8369</td>\n",
       "      <td id=\"T_6aad9_row4_col2\" class=\"data row4 col2\" >6.9883</td>\n",
       "      <td id=\"T_6aad9_row4_col3\" class=\"data row4 col3\" >0.5303</td>\n",
       "      <td id=\"T_6aad9_row4_col4\" class=\"data row4 col4\" >0.2912</td>\n",
       "      <td id=\"T_6aad9_row4_col5\" class=\"data row4 col5\" >0.2307</td>\n",
       "    </tr>\n",
       "    <tr>\n",
       "      <th id=\"T_6aad9_level0_row5\" class=\"row_heading level0 row5\" >5</th>\n",
       "      <td id=\"T_6aad9_row5_col0\" class=\"data row5 col0\" >5.3565</td>\n",
       "      <td id=\"T_6aad9_row5_col1\" class=\"data row5 col1\" >43.2313</td>\n",
       "      <td id=\"T_6aad9_row5_col2\" class=\"data row5 col2\" >6.5751</td>\n",
       "      <td id=\"T_6aad9_row5_col3\" class=\"data row5 col3\" >0.2794</td>\n",
       "      <td id=\"T_6aad9_row5_col4\" class=\"data row5 col4\" >0.3975</td>\n",
       "      <td id=\"T_6aad9_row5_col5\" class=\"data row5 col5\" >0.4178</td>\n",
       "    </tr>\n",
       "    <tr>\n",
       "      <th id=\"T_6aad9_level0_row6\" class=\"row_heading level0 row6\" >6</th>\n",
       "      <td id=\"T_6aad9_row6_col0\" class=\"data row6 col0\" >5.8057</td>\n",
       "      <td id=\"T_6aad9_row6_col1\" class=\"data row6 col1\" >48.3112</td>\n",
       "      <td id=\"T_6aad9_row6_col2\" class=\"data row6 col2\" >6.9506</td>\n",
       "      <td id=\"T_6aad9_row6_col3\" class=\"data row6 col3\" >0.2107</td>\n",
       "      <td id=\"T_6aad9_row6_col4\" class=\"data row6 col4\" >0.4098</td>\n",
       "      <td id=\"T_6aad9_row6_col5\" class=\"data row6 col5\" >0.4407</td>\n",
       "    </tr>\n",
       "    <tr>\n",
       "      <th id=\"T_6aad9_level0_row7\" class=\"row_heading level0 row7\" >7</th>\n",
       "      <td id=\"T_6aad9_row7_col0\" class=\"data row7 col0\" >6.0066</td>\n",
       "      <td id=\"T_6aad9_row7_col1\" class=\"data row7 col1\" >52.6544</td>\n",
       "      <td id=\"T_6aad9_row7_col2\" class=\"data row7 col2\" >7.2563</td>\n",
       "      <td id=\"T_6aad9_row7_col3\" class=\"data row7 col3\" >0.5856</td>\n",
       "      <td id=\"T_6aad9_row7_col4\" class=\"data row7 col4\" >0.3998</td>\n",
       "      <td id=\"T_6aad9_row7_col5\" class=\"data row7 col5\" >0.4208</td>\n",
       "    </tr>\n",
       "    <tr>\n",
       "      <th id=\"T_6aad9_level0_row8\" class=\"row_heading level0 row8\" >8</th>\n",
       "      <td id=\"T_6aad9_row8_col0\" class=\"data row8 col0\" >4.6336</td>\n",
       "      <td id=\"T_6aad9_row8_col1\" class=\"data row8 col1\" >30.7702</td>\n",
       "      <td id=\"T_6aad9_row8_col2\" class=\"data row8 col2\" >5.5471</td>\n",
       "      <td id=\"T_6aad9_row8_col3\" class=\"data row8 col3\" >0.6032</td>\n",
       "      <td id=\"T_6aad9_row8_col4\" class=\"data row8 col4\" >0.2920</td>\n",
       "      <td id=\"T_6aad9_row8_col5\" class=\"data row8 col5\" >0.2818</td>\n",
       "    </tr>\n",
       "    <tr>\n",
       "      <th id=\"T_6aad9_level0_row9\" class=\"row_heading level0 row9\" >9</th>\n",
       "      <td id=\"T_6aad9_row9_col0\" class=\"data row9 col0\" >4.8694</td>\n",
       "      <td id=\"T_6aad9_row9_col1\" class=\"data row9 col1\" >38.9687</td>\n",
       "      <td id=\"T_6aad9_row9_col2\" class=\"data row9 col2\" >6.2425</td>\n",
       "      <td id=\"T_6aad9_row9_col3\" class=\"data row9 col3\" >0.6200</td>\n",
       "      <td id=\"T_6aad9_row9_col4\" class=\"data row9 col4\" >0.3126</td>\n",
       "      <td id=\"T_6aad9_row9_col5\" class=\"data row9 col5\" >0.2374</td>\n",
       "    </tr>\n",
       "    <tr>\n",
       "      <th id=\"T_6aad9_level0_row10\" class=\"row_heading level0 row10\" >10</th>\n",
       "      <td id=\"T_6aad9_row10_col0\" class=\"data row10 col0\" >4.8010</td>\n",
       "      <td id=\"T_6aad9_row10_col1\" class=\"data row10 col1\" >34.5118</td>\n",
       "      <td id=\"T_6aad9_row10_col2\" class=\"data row10 col2\" >5.8747</td>\n",
       "      <td id=\"T_6aad9_row10_col3\" class=\"data row10 col3\" >0.5771</td>\n",
       "      <td id=\"T_6aad9_row10_col4\" class=\"data row10 col4\" >0.3433</td>\n",
       "      <td id=\"T_6aad9_row10_col5\" class=\"data row10 col5\" >0.3525</td>\n",
       "    </tr>\n",
       "    <tr>\n",
       "      <th id=\"T_6aad9_level0_row11\" class=\"row_heading level0 row11\" >11</th>\n",
       "      <td id=\"T_6aad9_row11_col0\" class=\"data row11 col0\" >5.0626</td>\n",
       "      <td id=\"T_6aad9_row11_col1\" class=\"data row11 col1\" >40.9075</td>\n",
       "      <td id=\"T_6aad9_row11_col2\" class=\"data row11 col2\" >6.3959</td>\n",
       "      <td id=\"T_6aad9_row11_col3\" class=\"data row11 col3\" >0.4199</td>\n",
       "      <td id=\"T_6aad9_row11_col4\" class=\"data row11 col4\" >0.2999</td>\n",
       "      <td id=\"T_6aad9_row11_col5\" class=\"data row11 col5\" >0.2694</td>\n",
       "    </tr>\n",
       "    <tr>\n",
       "      <th id=\"T_6aad9_level0_row12\" class=\"row_heading level0 row12\" >Mean</th>\n",
       "      <td id=\"T_6aad9_row12_col0\" class=\"data row12 col0\" >5.3562</td>\n",
       "      <td id=\"T_6aad9_row12_col1\" class=\"data row12 col1\" >47.1286</td>\n",
       "      <td id=\"T_6aad9_row12_col2\" class=\"data row12 col2\" >6.7453</td>\n",
       "      <td id=\"T_6aad9_row12_col3\" class=\"data row12 col3\" >0.4960</td>\n",
       "      <td id=\"T_6aad9_row12_col4\" class=\"data row12 col4\" >0.3622</td>\n",
       "      <td id=\"T_6aad9_row12_col5\" class=\"data row12 col5\" >0.3557</td>\n",
       "    </tr>\n",
       "    <tr>\n",
       "      <th id=\"T_6aad9_level0_row13\" class=\"row_heading level0 row13\" >Std</th>\n",
       "      <td id=\"T_6aad9_row13_col0\" class=\"data row13 col0\" >0.8678</td>\n",
       "      <td id=\"T_6aad9_row13_col1\" class=\"data row13 col1\" >19.8317</td>\n",
       "      <td id=\"T_6aad9_row13_col2\" class=\"data row13 col2\" >1.2766</td>\n",
       "      <td id=\"T_6aad9_row13_col3\" class=\"data row13 col3\" >0.1357</td>\n",
       "      <td id=\"T_6aad9_row13_col4\" class=\"data row13 col4\" >0.0535</td>\n",
       "      <td id=\"T_6aad9_row13_col5\" class=\"data row13 col5\" >0.0853</td>\n",
       "    </tr>\n",
       "  </tbody>\n",
       "</table>\n"
      ],
      "text/plain": [
       "<pandas.io.formats.style.Styler at 0x217c5415510>"
      ]
     },
     "metadata": {},
     "output_type": "display_data"
    },
    {
     "data": {
      "text/html": [],
      "text/plain": [
       "<IPython.core.display.HTML object>"
      ]
     },
     "metadata": {},
     "output_type": "display_data"
    }
   ],
   "source": [
    "# model_1 = exp1.create_model('rf')\n",
    "model_1 = exp1.create_model('rf')"
   ]
  },
  {
   "cell_type": "code",
   "execution_count": null,
   "metadata": {},
   "outputs": [],
   "source": [
    "exp1.evaluate_model(model_1)"
   ]
  },
  {
   "cell_type": "code",
   "execution_count": 33,
   "metadata": {},
   "outputs": [
    {
     "data": {
      "text/html": [],
      "text/plain": [
       "<IPython.core.display.HTML object>"
      ]
     },
     "metadata": {},
     "output_type": "display_data"
    },
    {
     "data": {
      "text/html": [
       "<style type=\"text/css\">\n",
       "#T_87a01_row12_col0, #T_87a01_row12_col1, #T_87a01_row12_col2, #T_87a01_row12_col3, #T_87a01_row12_col4, #T_87a01_row12_col5 {\n",
       "  background: yellow;\n",
       "}\n",
       "</style>\n",
       "<table id=\"T_87a01\">\n",
       "  <thead>\n",
       "    <tr>\n",
       "      <th class=\"blank level0\" >&nbsp;</th>\n",
       "      <th id=\"T_87a01_level0_col0\" class=\"col_heading level0 col0\" >MAE</th>\n",
       "      <th id=\"T_87a01_level0_col1\" class=\"col_heading level0 col1\" >MSE</th>\n",
       "      <th id=\"T_87a01_level0_col2\" class=\"col_heading level0 col2\" >RMSE</th>\n",
       "      <th id=\"T_87a01_level0_col3\" class=\"col_heading level0 col3\" >R2</th>\n",
       "      <th id=\"T_87a01_level0_col4\" class=\"col_heading level0 col4\" >RMSLE</th>\n",
       "      <th id=\"T_87a01_level0_col5\" class=\"col_heading level0 col5\" >MAPE</th>\n",
       "    </tr>\n",
       "    <tr>\n",
       "      <th class=\"index_name level0\" >Fold</th>\n",
       "      <th class=\"blank col0\" >&nbsp;</th>\n",
       "      <th class=\"blank col1\" >&nbsp;</th>\n",
       "      <th class=\"blank col2\" >&nbsp;</th>\n",
       "      <th class=\"blank col3\" >&nbsp;</th>\n",
       "      <th class=\"blank col4\" >&nbsp;</th>\n",
       "      <th class=\"blank col5\" >&nbsp;</th>\n",
       "    </tr>\n",
       "  </thead>\n",
       "  <tbody>\n",
       "    <tr>\n",
       "      <th id=\"T_87a01_level0_row0\" class=\"row_heading level0 row0\" >0</th>\n",
       "      <td id=\"T_87a01_row0_col0\" class=\"data row0 col0\" >4.8485</td>\n",
       "      <td id=\"T_87a01_row0_col1\" class=\"data row0 col1\" >33.1800</td>\n",
       "      <td id=\"T_87a01_row0_col2\" class=\"data row0 col2\" >5.7602</td>\n",
       "      <td id=\"T_87a01_row0_col3\" class=\"data row0 col3\" >0.6351</td>\n",
       "      <td id=\"T_87a01_row0_col4\" class=\"data row0 col4\" >0.3277</td>\n",
       "      <td id=\"T_87a01_row0_col5\" class=\"data row0 col5\" >0.3222</td>\n",
       "    </tr>\n",
       "    <tr>\n",
       "      <th id=\"T_87a01_level0_row1\" class=\"row_heading level0 row1\" >1</th>\n",
       "      <td id=\"T_87a01_row1_col0\" class=\"data row1 col0\" >7.3318</td>\n",
       "      <td id=\"T_87a01_row1_col1\" class=\"data row1 col1\" >103.2075</td>\n",
       "      <td id=\"T_87a01_row1_col2\" class=\"data row1 col2\" >10.1591</td>\n",
       "      <td id=\"T_87a01_row1_col3\" class=\"data row1 col3\" >0.4314</td>\n",
       "      <td id=\"T_87a01_row1_col4\" class=\"data row1 col4\" >0.4084</td>\n",
       "      <td id=\"T_87a01_row1_col5\" class=\"data row1 col5\" >0.3417</td>\n",
       "    </tr>\n",
       "    <tr>\n",
       "      <th id=\"T_87a01_level0_row2\" class=\"row_heading level0 row2\" >2</th>\n",
       "      <td id=\"T_87a01_row2_col0\" class=\"data row2 col0\" >3.9226</td>\n",
       "      <td id=\"T_87a01_row2_col1\" class=\"data row2 col1\" >22.2212</td>\n",
       "      <td id=\"T_87a01_row2_col2\" class=\"data row2 col2\" >4.7139</td>\n",
       "      <td id=\"T_87a01_row2_col3\" class=\"data row2 col3\" >0.6964</td>\n",
       "      <td id=\"T_87a01_row2_col4\" class=\"data row2 col4\" >0.3381</td>\n",
       "      <td id=\"T_87a01_row2_col5\" class=\"data row2 col5\" >0.3593</td>\n",
       "    </tr>\n",
       "    <tr>\n",
       "      <th id=\"T_87a01_level0_row3\" class=\"row_heading level0 row3\" >3</th>\n",
       "      <td id=\"T_87a01_row3_col0\" class=\"data row3 col0\" >5.5188</td>\n",
       "      <td id=\"T_87a01_row3_col1\" class=\"data row3 col1\" >43.8653</td>\n",
       "      <td id=\"T_87a01_row3_col2\" class=\"data row3 col2\" >6.6231</td>\n",
       "      <td id=\"T_87a01_row3_col3\" class=\"data row3 col3\" >0.6095</td>\n",
       "      <td id=\"T_87a01_row3_col4\" class=\"data row3 col4\" >0.3613</td>\n",
       "      <td id=\"T_87a01_row3_col5\" class=\"data row3 col5\" >0.3751</td>\n",
       "    </tr>\n",
       "    <tr>\n",
       "      <th id=\"T_87a01_level0_row4\" class=\"row_heading level0 row4\" >4</th>\n",
       "      <td id=\"T_87a01_row4_col0\" class=\"data row4 col0\" >5.2661</td>\n",
       "      <td id=\"T_87a01_row4_col1\" class=\"data row4 col1\" >63.4735</td>\n",
       "      <td id=\"T_87a01_row4_col2\" class=\"data row4 col2\" >7.9670</td>\n",
       "      <td id=\"T_87a01_row4_col3\" class=\"data row4 col3\" >0.3895</td>\n",
       "      <td id=\"T_87a01_row4_col4\" class=\"data row4 col4\" >0.3199</td>\n",
       "      <td id=\"T_87a01_row4_col5\" class=\"data row4 col5\" >0.2496</td>\n",
       "    </tr>\n",
       "    <tr>\n",
       "      <th id=\"T_87a01_level0_row5\" class=\"row_heading level0 row5\" >5</th>\n",
       "      <td id=\"T_87a01_row5_col0\" class=\"data row5 col0\" >5.2633</td>\n",
       "      <td id=\"T_87a01_row5_col1\" class=\"data row5 col1\" >40.8689</td>\n",
       "      <td id=\"T_87a01_row5_col2\" class=\"data row5 col2\" >6.3929</td>\n",
       "      <td id=\"T_87a01_row5_col3\" class=\"data row5 col3\" >0.3188</td>\n",
       "      <td id=\"T_87a01_row5_col4\" class=\"data row5 col4\" >0.3806</td>\n",
       "      <td id=\"T_87a01_row5_col5\" class=\"data row5 col5\" >0.3943</td>\n",
       "    </tr>\n",
       "    <tr>\n",
       "      <th id=\"T_87a01_level0_row6\" class=\"row_heading level0 row6\" >6</th>\n",
       "      <td id=\"T_87a01_row6_col0\" class=\"data row6 col0\" >5.5254</td>\n",
       "      <td id=\"T_87a01_row6_col1\" class=\"data row6 col1\" >49.3660</td>\n",
       "      <td id=\"T_87a01_row6_col2\" class=\"data row6 col2\" >7.0261</td>\n",
       "      <td id=\"T_87a01_row6_col3\" class=\"data row6 col3\" >0.1935</td>\n",
       "      <td id=\"T_87a01_row6_col4\" class=\"data row6 col4\" >0.4001</td>\n",
       "      <td id=\"T_87a01_row6_col5\" class=\"data row6 col5\" >0.4160</td>\n",
       "    </tr>\n",
       "    <tr>\n",
       "      <th id=\"T_87a01_level0_row7\" class=\"row_heading level0 row7\" >7</th>\n",
       "      <td id=\"T_87a01_row7_col0\" class=\"data row7 col0\" >5.8284</td>\n",
       "      <td id=\"T_87a01_row7_col1\" class=\"data row7 col1\" >46.3497</td>\n",
       "      <td id=\"T_87a01_row7_col2\" class=\"data row7 col2\" >6.8081</td>\n",
       "      <td id=\"T_87a01_row7_col3\" class=\"data row7 col3\" >0.6352</td>\n",
       "      <td id=\"T_87a01_row7_col4\" class=\"data row7 col4\" >0.3770</td>\n",
       "      <td id=\"T_87a01_row7_col5\" class=\"data row7 col5\" >0.3902</td>\n",
       "    </tr>\n",
       "    <tr>\n",
       "      <th id=\"T_87a01_level0_row8\" class=\"row_heading level0 row8\" >8</th>\n",
       "      <td id=\"T_87a01_row8_col0\" class=\"data row8 col0\" >4.8520</td>\n",
       "      <td id=\"T_87a01_row8_col1\" class=\"data row8 col1\" >31.0512</td>\n",
       "      <td id=\"T_87a01_row8_col2\" class=\"data row8 col2\" >5.5724</td>\n",
       "      <td id=\"T_87a01_row8_col3\" class=\"data row8 col3\" >0.5996</td>\n",
       "      <td id=\"T_87a01_row8_col4\" class=\"data row8 col4\" >0.2897</td>\n",
       "      <td id=\"T_87a01_row8_col5\" class=\"data row8 col5\" >0.2888</td>\n",
       "    </tr>\n",
       "    <tr>\n",
       "      <th id=\"T_87a01_level0_row9\" class=\"row_heading level0 row9\" >9</th>\n",
       "      <td id=\"T_87a01_row9_col0\" class=\"data row9 col0\" >5.1448</td>\n",
       "      <td id=\"T_87a01_row9_col1\" class=\"data row9 col1\" >40.9274</td>\n",
       "      <td id=\"T_87a01_row9_col2\" class=\"data row9 col2\" >6.3975</td>\n",
       "      <td id=\"T_87a01_row9_col3\" class=\"data row9 col3\" >0.6009</td>\n",
       "      <td id=\"T_87a01_row9_col4\" class=\"data row9 col4\" >0.3382</td>\n",
       "      <td id=\"T_87a01_row9_col5\" class=\"data row9 col5\" >0.2478</td>\n",
       "    </tr>\n",
       "    <tr>\n",
       "      <th id=\"T_87a01_level0_row10\" class=\"row_heading level0 row10\" >10</th>\n",
       "      <td id=\"T_87a01_row10_col0\" class=\"data row10 col0\" >3.5810</td>\n",
       "      <td id=\"T_87a01_row10_col1\" class=\"data row10 col1\" >22.7202</td>\n",
       "      <td id=\"T_87a01_row10_col2\" class=\"data row10 col2\" >4.7666</td>\n",
       "      <td id=\"T_87a01_row10_col3\" class=\"data row10 col3\" >0.7216</td>\n",
       "      <td id=\"T_87a01_row10_col4\" class=\"data row10 col4\" >0.3213</td>\n",
       "      <td id=\"T_87a01_row10_col5\" class=\"data row10 col5\" >0.2969</td>\n",
       "    </tr>\n",
       "    <tr>\n",
       "      <th id=\"T_87a01_level0_row11\" class=\"row_heading level0 row11\" >11</th>\n",
       "      <td id=\"T_87a01_row11_col0\" class=\"data row11 col0\" >5.1683</td>\n",
       "      <td id=\"T_87a01_row11_col1\" class=\"data row11 col1\" >42.6579</td>\n",
       "      <td id=\"T_87a01_row11_col2\" class=\"data row11 col2\" >6.5313</td>\n",
       "      <td id=\"T_87a01_row11_col3\" class=\"data row11 col3\" >0.3951</td>\n",
       "      <td id=\"T_87a01_row11_col4\" class=\"data row11 col4\" >0.3221</td>\n",
       "      <td id=\"T_87a01_row11_col5\" class=\"data row11 col5\" >0.2868</td>\n",
       "    </tr>\n",
       "    <tr>\n",
       "      <th id=\"T_87a01_level0_row12\" class=\"row_heading level0 row12\" >Mean</th>\n",
       "      <td id=\"T_87a01_row12_col0\" class=\"data row12 col0\" >5.1876</td>\n",
       "      <td id=\"T_87a01_row12_col1\" class=\"data row12 col1\" >44.9907</td>\n",
       "      <td id=\"T_87a01_row12_col2\" class=\"data row12 col2\" >6.5598</td>\n",
       "      <td id=\"T_87a01_row12_col3\" class=\"data row12 col3\" >0.5189</td>\n",
       "      <td id=\"T_87a01_row12_col4\" class=\"data row12 col4\" >0.3487</td>\n",
       "      <td id=\"T_87a01_row12_col5\" class=\"data row12 col5\" >0.3307</td>\n",
       "    </tr>\n",
       "    <tr>\n",
       "      <th id=\"T_87a01_level0_row13\" class=\"row_heading level0 row13\" >Std</th>\n",
       "      <td id=\"T_87a01_row13_col0\" class=\"data row13 col0\" >0.8970</td>\n",
       "      <td id=\"T_87a01_row13_col1\" class=\"data row13 col1\" >20.6967</td>\n",
       "      <td id=\"T_87a01_row13_col2\" class=\"data row13 col2\" >1.3997</td>\n",
       "      <td id=\"T_87a01_row13_col3\" class=\"data row13 col3\" >0.1599</td>\n",
       "      <td id=\"T_87a01_row13_col4\" class=\"data row13 col4\" >0.0349</td>\n",
       "      <td id=\"T_87a01_row13_col5\" class=\"data row13 col5\" >0.0549</td>\n",
       "    </tr>\n",
       "  </tbody>\n",
       "</table>\n"
      ],
      "text/plain": [
       "<pandas.io.formats.style.Styler at 0x217c5472a50>"
      ]
     },
     "metadata": {},
     "output_type": "display_data"
    },
    {
     "data": {
      "text/html": [],
      "text/plain": [
       "<IPython.core.display.HTML object>"
      ]
     },
     "metadata": {},
     "output_type": "display_data"
    }
   ],
   "source": [
    "model_2 = exp1.create_model('br')"
   ]
  },
  {
   "cell_type": "code",
   "execution_count": null,
   "metadata": {},
   "outputs": [
    {
     "data": {
      "text/html": [],
      "text/plain": [
       "<IPython.core.display.HTML object>"
      ]
     },
     "metadata": {},
     "output_type": "display_data"
    },
    {
     "data": {
      "text/html": [
       "<style type=\"text/css\">\n",
       "#T_ca64f_row12_col0, #T_ca64f_row12_col1, #T_ca64f_row12_col2, #T_ca64f_row12_col3, #T_ca64f_row12_col4, #T_ca64f_row12_col5 {\n",
       "  background: yellow;\n",
       "}\n",
       "</style>\n",
       "<table id=\"T_ca64f\">\n",
       "  <thead>\n",
       "    <tr>\n",
       "      <th class=\"blank level0\" >&nbsp;</th>\n",
       "      <th id=\"T_ca64f_level0_col0\" class=\"col_heading level0 col0\" >MAE</th>\n",
       "      <th id=\"T_ca64f_level0_col1\" class=\"col_heading level0 col1\" >MSE</th>\n",
       "      <th id=\"T_ca64f_level0_col2\" class=\"col_heading level0 col2\" >RMSE</th>\n",
       "      <th id=\"T_ca64f_level0_col3\" class=\"col_heading level0 col3\" >R2</th>\n",
       "      <th id=\"T_ca64f_level0_col4\" class=\"col_heading level0 col4\" >RMSLE</th>\n",
       "      <th id=\"T_ca64f_level0_col5\" class=\"col_heading level0 col5\" >MAPE</th>\n",
       "    </tr>\n",
       "    <tr>\n",
       "      <th class=\"index_name level0\" >Fold</th>\n",
       "      <th class=\"blank col0\" >&nbsp;</th>\n",
       "      <th class=\"blank col1\" >&nbsp;</th>\n",
       "      <th class=\"blank col2\" >&nbsp;</th>\n",
       "      <th class=\"blank col3\" >&nbsp;</th>\n",
       "      <th class=\"blank col4\" >&nbsp;</th>\n",
       "      <th class=\"blank col5\" >&nbsp;</th>\n",
       "    </tr>\n",
       "  </thead>\n",
       "  <tbody>\n",
       "    <tr>\n",
       "      <th id=\"T_ca64f_level0_row0\" class=\"row_heading level0 row0\" >0</th>\n",
       "      <td id=\"T_ca64f_row0_col0\" class=\"data row0 col0\" >5.3498</td>\n",
       "      <td id=\"T_ca64f_row0_col1\" class=\"data row0 col1\" >41.1805</td>\n",
       "      <td id=\"T_ca64f_row0_col2\" class=\"data row0 col2\" >6.4172</td>\n",
       "      <td id=\"T_ca64f_row0_col3\" class=\"data row0 col3\" >0.5471</td>\n",
       "      <td id=\"T_ca64f_row0_col4\" class=\"data row0 col4\" >0.3692</td>\n",
       "      <td id=\"T_ca64f_row0_col5\" class=\"data row0 col5\" >0.3698</td>\n",
       "    </tr>\n",
       "    <tr>\n",
       "      <th id=\"T_ca64f_level0_row1\" class=\"row_heading level0 row1\" >1</th>\n",
       "      <td id=\"T_ca64f_row1_col0\" class=\"data row1 col0\" >7.9688</td>\n",
       "      <td id=\"T_ca64f_row1_col1\" class=\"data row1 col1\" >113.1429</td>\n",
       "      <td id=\"T_ca64f_row1_col2\" class=\"data row1 col2\" >10.6369</td>\n",
       "      <td id=\"T_ca64f_row1_col3\" class=\"data row1 col3\" >0.3767</td>\n",
       "      <td id=\"T_ca64f_row1_col4\" class=\"data row1 col4\" >0.4418</td>\n",
       "      <td id=\"T_ca64f_row1_col5\" class=\"data row1 col5\" >0.3761</td>\n",
       "    </tr>\n",
       "    <tr>\n",
       "      <th id=\"T_ca64f_level0_row2\" class=\"row_heading level0 row2\" >2</th>\n",
       "      <td id=\"T_ca64f_row2_col0\" class=\"data row2 col0\" >4.1071</td>\n",
       "      <td id=\"T_ca64f_row2_col1\" class=\"data row2 col1\" >22.4421</td>\n",
       "      <td id=\"T_ca64f_row2_col2\" class=\"data row2 col2\" >4.7373</td>\n",
       "      <td id=\"T_ca64f_row2_col3\" class=\"data row2 col3\" >0.6933</td>\n",
       "      <td id=\"T_ca64f_row2_col4\" class=\"data row2 col4\" >0.3472</td>\n",
       "      <td id=\"T_ca64f_row2_col5\" class=\"data row2 col5\" >0.3721</td>\n",
       "    </tr>\n",
       "    <tr>\n",
       "      <th id=\"T_ca64f_level0_row3\" class=\"row_heading level0 row3\" >3</th>\n",
       "      <td id=\"T_ca64f_row3_col0\" class=\"data row3 col0\" >6.5490</td>\n",
       "      <td id=\"T_ca64f_row3_col1\" class=\"data row3 col1\" >64.7876</td>\n",
       "      <td id=\"T_ca64f_row3_col2\" class=\"data row3 col2\" >8.0491</td>\n",
       "      <td id=\"T_ca64f_row3_col3\" class=\"data row3 col3\" >0.4233</td>\n",
       "      <td id=\"T_ca64f_row3_col4\" class=\"data row3 col4\" >0.4306</td>\n",
       "      <td id=\"T_ca64f_row3_col5\" class=\"data row3 col5\" >0.4435</td>\n",
       "    </tr>\n",
       "    <tr>\n",
       "      <th id=\"T_ca64f_level0_row4\" class=\"row_heading level0 row4\" >4</th>\n",
       "      <td id=\"T_ca64f_row4_col0\" class=\"data row4 col0\" >4.9621</td>\n",
       "      <td id=\"T_ca64f_row4_col1\" class=\"data row4 col1\" >56.6840</td>\n",
       "      <td id=\"T_ca64f_row4_col2\" class=\"data row4 col2\" >7.5289</td>\n",
       "      <td id=\"T_ca64f_row4_col3\" class=\"data row4 col3\" >0.4548</td>\n",
       "      <td id=\"T_ca64f_row4_col4\" class=\"data row4 col4\" >0.2955</td>\n",
       "      <td id=\"T_ca64f_row4_col5\" class=\"data row4 col5\" >0.2316</td>\n",
       "    </tr>\n",
       "    <tr>\n",
       "      <th id=\"T_ca64f_level0_row5\" class=\"row_heading level0 row5\" >5</th>\n",
       "      <td id=\"T_ca64f_row5_col0\" class=\"data row5 col0\" >4.9588</td>\n",
       "      <td id=\"T_ca64f_row5_col1\" class=\"data row5 col1\" >38.5733</td>\n",
       "      <td id=\"T_ca64f_row5_col2\" class=\"data row5 col2\" >6.2107</td>\n",
       "      <td id=\"T_ca64f_row5_col3\" class=\"data row5 col3\" >0.3570</td>\n",
       "      <td id=\"T_ca64f_row5_col4\" class=\"data row5 col4\" >0.3709</td>\n",
       "      <td id=\"T_ca64f_row5_col5\" class=\"data row5 col5\" >0.3767</td>\n",
       "    </tr>\n",
       "    <tr>\n",
       "      <th id=\"T_ca64f_level0_row6\" class=\"row_heading level0 row6\" >6</th>\n",
       "      <td id=\"T_ca64f_row6_col0\" class=\"data row6 col0\" >6.0048</td>\n",
       "      <td id=\"T_ca64f_row6_col1\" class=\"data row6 col1\" >49.2798</td>\n",
       "      <td id=\"T_ca64f_row6_col2\" class=\"data row6 col2\" >7.0200</td>\n",
       "      <td id=\"T_ca64f_row6_col3\" class=\"data row6 col3\" >0.1949</td>\n",
       "      <td id=\"T_ca64f_row6_col4\" class=\"data row6 col4\" >0.4136</td>\n",
       "      <td id=\"T_ca64f_row6_col5\" class=\"data row6 col5\" >0.4520</td>\n",
       "    </tr>\n",
       "    <tr>\n",
       "      <th id=\"T_ca64f_level0_row7\" class=\"row_heading level0 row7\" >7</th>\n",
       "      <td id=\"T_ca64f_row7_col0\" class=\"data row7 col0\" >5.3887</td>\n",
       "      <td id=\"T_ca64f_row7_col1\" class=\"data row7 col1\" >43.4339</td>\n",
       "      <td id=\"T_ca64f_row7_col2\" class=\"data row7 col2\" >6.5904</td>\n",
       "      <td id=\"T_ca64f_row7_col3\" class=\"data row7 col3\" >0.6582</td>\n",
       "      <td id=\"T_ca64f_row7_col4\" class=\"data row7 col4\" >0.3676</td>\n",
       "      <td id=\"T_ca64f_row7_col5\" class=\"data row7 col5\" >0.3777</td>\n",
       "    </tr>\n",
       "    <tr>\n",
       "      <th id=\"T_ca64f_level0_row8\" class=\"row_heading level0 row8\" >8</th>\n",
       "      <td id=\"T_ca64f_row8_col0\" class=\"data row8 col0\" >4.5566</td>\n",
       "      <td id=\"T_ca64f_row8_col1\" class=\"data row8 col1\" >30.6665</td>\n",
       "      <td id=\"T_ca64f_row8_col2\" class=\"data row8 col2\" >5.5377</td>\n",
       "      <td id=\"T_ca64f_row8_col3\" class=\"data row8 col3\" >0.6046</td>\n",
       "      <td id=\"T_ca64f_row8_col4\" class=\"data row8 col4\" >0.2980</td>\n",
       "      <td id=\"T_ca64f_row8_col5\" class=\"data row8 col5\" >0.2751</td>\n",
       "    </tr>\n",
       "    <tr>\n",
       "      <th id=\"T_ca64f_level0_row9\" class=\"row_heading level0 row9\" >9</th>\n",
       "      <td id=\"T_ca64f_row9_col0\" class=\"data row9 col0\" >5.2422</td>\n",
       "      <td id=\"T_ca64f_row9_col1\" class=\"data row9 col1\" >37.0025</td>\n",
       "      <td id=\"T_ca64f_row9_col2\" class=\"data row9 col2\" >6.0830</td>\n",
       "      <td id=\"T_ca64f_row9_col3\" class=\"data row9 col3\" >0.6391</td>\n",
       "      <td id=\"T_ca64f_row9_col4\" class=\"data row9 col4\" >0.3019</td>\n",
       "      <td id=\"T_ca64f_row9_col5\" class=\"data row9 col5\" >0.2657</td>\n",
       "    </tr>\n",
       "    <tr>\n",
       "      <th id=\"T_ca64f_level0_row10\" class=\"row_heading level0 row10\" >10</th>\n",
       "      <td id=\"T_ca64f_row10_col0\" class=\"data row10 col0\" >4.1263</td>\n",
       "      <td id=\"T_ca64f_row10_col1\" class=\"data row10 col1\" >25.6454</td>\n",
       "      <td id=\"T_ca64f_row10_col2\" class=\"data row10 col2\" >5.0641</td>\n",
       "      <td id=\"T_ca64f_row10_col3\" class=\"data row10 col3\" >0.6857</td>\n",
       "      <td id=\"T_ca64f_row10_col4\" class=\"data row10 col4\" >0.2927</td>\n",
       "      <td id=\"T_ca64f_row10_col5\" class=\"data row10 col5\" >0.2816</td>\n",
       "    </tr>\n",
       "    <tr>\n",
       "      <th id=\"T_ca64f_level0_row11\" class=\"row_heading level0 row11\" >11</th>\n",
       "      <td id=\"T_ca64f_row11_col0\" class=\"data row11 col0\" >4.8620</td>\n",
       "      <td id=\"T_ca64f_row11_col1\" class=\"data row11 col1\" >37.5977</td>\n",
       "      <td id=\"T_ca64f_row11_col2\" class=\"data row11 col2\" >6.1317</td>\n",
       "      <td id=\"T_ca64f_row11_col3\" class=\"data row11 col3\" >0.4669</td>\n",
       "      <td id=\"T_ca64f_row11_col4\" class=\"data row11 col4\" >0.3183</td>\n",
       "      <td id=\"T_ca64f_row11_col5\" class=\"data row11 col5\" >0.2662</td>\n",
       "    </tr>\n",
       "    <tr>\n",
       "      <th id=\"T_ca64f_level0_row12\" class=\"row_heading level0 row12\" >Mean</th>\n",
       "      <td id=\"T_ca64f_row12_col0\" class=\"data row12 col0\" >5.3397</td>\n",
       "      <td id=\"T_ca64f_row12_col1\" class=\"data row12 col1\" >46.7030</td>\n",
       "      <td id=\"T_ca64f_row12_col2\" class=\"data row12 col2\" >6.6673</td>\n",
       "      <td id=\"T_ca64f_row12_col3\" class=\"data row12 col3\" >0.5085</td>\n",
       "      <td id=\"T_ca64f_row12_col4\" class=\"data row12 col4\" >0.3539</td>\n",
       "      <td id=\"T_ca64f_row12_col5\" class=\"data row12 col5\" >0.3407</td>\n",
       "    </tr>\n",
       "    <tr>\n",
       "      <th id=\"T_ca64f_level0_row13\" class=\"row_heading level0 row13\" >Std</th>\n",
       "      <td id=\"T_ca64f_row13_col0\" class=\"data row13 col0\" >1.0388</td>\n",
       "      <td id=\"T_ca64f_row13_col1\" class=\"data row13 col1\" >23.1319</td>\n",
       "      <td id=\"T_ca64f_row13_col2\" class=\"data row13 col2\" >1.5003</td>\n",
       "      <td id=\"T_ca64f_row13_col3\" class=\"data row13 col3\" >0.1490</td>\n",
       "      <td id=\"T_ca64f_row13_col4\" class=\"data row13 col4\" >0.0518</td>\n",
       "      <td id=\"T_ca64f_row13_col5\" class=\"data row13 col5\" >0.0705</td>\n",
       "    </tr>\n",
       "  </tbody>\n",
       "</table>\n"
      ],
      "text/plain": [
       "<pandas.io.formats.style.Styler at 0x21febfe0550>"
      ]
     },
     "metadata": {},
     "output_type": "display_data"
    },
    {
     "data": {
      "text/html": [],
      "text/plain": [
       "<IPython.core.display.HTML object>"
      ]
     },
     "metadata": {},
     "output_type": "display_data"
    }
   ],
   "source": [
    "model_3 = exp1.create_model('lightgbm')"
   ]
  },
  {
   "cell_type": "code",
   "execution_count": null,
   "metadata": {},
   "outputs": [
    {
     "data": {
      "text/html": [],
      "text/plain": [
       "<IPython.core.display.HTML object>"
      ]
     },
     "metadata": {},
     "output_type": "display_data"
    },
    {
     "data": {
      "text/html": [
       "<div>\n",
       "<style scoped>\n",
       "    .dataframe tbody tr th:only-of-type {\n",
       "        vertical-align: middle;\n",
       "    }\n",
       "\n",
       "    .dataframe tbody tr th {\n",
       "        vertical-align: top;\n",
       "    }\n",
       "\n",
       "    .dataframe thead th {\n",
       "        text-align: right;\n",
       "    }\n",
       "</style>\n",
       "<table border=\"1\" class=\"dataframe\">\n",
       "  <thead>\n",
       "    <tr style=\"text-align: right;\">\n",
       "      <th></th>\n",
       "      <th>humidity</th>\n",
       "      <th>temperature</th>\n",
       "      <th>year</th>\n",
       "      <th>month</th>\n",
       "      <th>day</th>\n",
       "      <th>day_of_week</th>\n",
       "      <th>week_of_year</th>\n",
       "      <th>season</th>\n",
       "      <th>dew_point</th>\n",
       "      <th>is_weekend</th>\n",
       "      <th>...</th>\n",
       "      <th>humidity_lag_3</th>\n",
       "      <th>humidity_lag_7</th>\n",
       "      <th>temperature_rolling_2</th>\n",
       "      <th>temperature_rolling_5</th>\n",
       "      <th>temperature_rolling_7</th>\n",
       "      <th>temperature_lag_1</th>\n",
       "      <th>temperature_lag_2</th>\n",
       "      <th>temperature_lag_3</th>\n",
       "      <th>temperature_lag_7</th>\n",
       "      <th>prediction_label</th>\n",
       "    </tr>\n",
       "    <tr>\n",
       "      <th>timestamp</th>\n",
       "      <th></th>\n",
       "      <th></th>\n",
       "      <th></th>\n",
       "      <th></th>\n",
       "      <th></th>\n",
       "      <th></th>\n",
       "      <th></th>\n",
       "      <th></th>\n",
       "      <th></th>\n",
       "      <th></th>\n",
       "      <th></th>\n",
       "      <th></th>\n",
       "      <th></th>\n",
       "      <th></th>\n",
       "      <th></th>\n",
       "      <th></th>\n",
       "      <th></th>\n",
       "      <th></th>\n",
       "      <th></th>\n",
       "      <th></th>\n",
       "      <th></th>\n",
       "    </tr>\n",
       "  </thead>\n",
       "  <tbody>\n",
       "    <tr>\n",
       "      <th>2025-01-13 07:00:00</th>\n",
       "      <td>78.292206</td>\n",
       "      <td>25.997341</td>\n",
       "      <td>2025</td>\n",
       "      <td>1</td>\n",
       "      <td>13</td>\n",
       "      <td>0</td>\n",
       "      <td>3</td>\n",
       "      <td>2</td>\n",
       "      <td>21.655781</td>\n",
       "      <td>0</td>\n",
       "      <td>...</td>\n",
       "      <td>70.491486</td>\n",
       "      <td>72.844643</td>\n",
       "      <td>26.896215</td>\n",
       "      <td>28.008570</td>\n",
       "      <td>28.287636</td>\n",
       "      <td>25.434973</td>\n",
       "      <td>28.357460</td>\n",
       "      <td>28.945705</td>\n",
       "      <td>28.825508</td>\n",
       "      <td>29.927804</td>\n",
       "    </tr>\n",
       "    <tr>\n",
       "      <th>2025-01-14 07:00:00</th>\n",
       "      <td>74.887207</td>\n",
       "      <td>26.780884</td>\n",
       "      <td>2025</td>\n",
       "      <td>1</td>\n",
       "      <td>14</td>\n",
       "      <td>1</td>\n",
       "      <td>3</td>\n",
       "      <td>2</td>\n",
       "      <td>21.758324</td>\n",
       "      <td>0</td>\n",
       "      <td>...</td>\n",
       "      <td>73.568382</td>\n",
       "      <td>70.630295</td>\n",
       "      <td>25.716156</td>\n",
       "      <td>27.423729</td>\n",
       "      <td>27.883612</td>\n",
       "      <td>25.997341</td>\n",
       "      <td>25.434973</td>\n",
       "      <td>28.357460</td>\n",
       "      <td>29.145098</td>\n",
       "      <td>35.394236</td>\n",
       "    </tr>\n",
       "    <tr>\n",
       "      <th>2025-01-15 07:00:00</th>\n",
       "      <td>74.201401</td>\n",
       "      <td>27.146723</td>\n",
       "      <td>2025</td>\n",
       "      <td>1</td>\n",
       "      <td>15</td>\n",
       "      <td>2</td>\n",
       "      <td>3</td>\n",
       "      <td>2</td>\n",
       "      <td>21.987003</td>\n",
       "      <td>0</td>\n",
       "      <td>...</td>\n",
       "      <td>85.379807</td>\n",
       "      <td>71.168640</td>\n",
       "      <td>26.389112</td>\n",
       "      <td>27.103271</td>\n",
       "      <td>27.545866</td>\n",
       "      <td>26.780884</td>\n",
       "      <td>25.997341</td>\n",
       "      <td>25.434973</td>\n",
       "      <td>28.921543</td>\n",
       "      <td>35.700378</td>\n",
       "    </tr>\n",
       "    <tr>\n",
       "      <th>2025-01-16 07:00:00</th>\n",
       "      <td>89.873428</td>\n",
       "      <td>24.990604</td>\n",
       "      <td>2025</td>\n",
       "      <td>1</td>\n",
       "      <td>16</td>\n",
       "      <td>3</td>\n",
       "      <td>3</td>\n",
       "      <td>2</td>\n",
       "      <td>22.965288</td>\n",
       "      <td>0</td>\n",
       "      <td>...</td>\n",
       "      <td>78.292206</td>\n",
       "      <td>70.983574</td>\n",
       "      <td>26.963802</td>\n",
       "      <td>26.743475</td>\n",
       "      <td>27.292320</td>\n",
       "      <td>27.146723</td>\n",
       "      <td>26.780884</td>\n",
       "      <td>25.997341</td>\n",
       "      <td>28.383165</td>\n",
       "      <td>34.728874</td>\n",
       "    </tr>\n",
       "    <tr>\n",
       "      <th>2025-01-17 07:00:00</th>\n",
       "      <td>80.848938</td>\n",
       "      <td>27.221664</td>\n",
       "      <td>2025</td>\n",
       "      <td>1</td>\n",
       "      <td>17</td>\n",
       "      <td>4</td>\n",
       "      <td>3</td>\n",
       "      <td>2</td>\n",
       "      <td>23.391453</td>\n",
       "      <td>0</td>\n",
       "      <td>...</td>\n",
       "      <td>74.887207</td>\n",
       "      <td>70.491486</td>\n",
       "      <td>26.068663</td>\n",
       "      <td>26.070105</td>\n",
       "      <td>26.807669</td>\n",
       "      <td>24.990604</td>\n",
       "      <td>27.146723</td>\n",
       "      <td>26.780884</td>\n",
       "      <td>28.945705</td>\n",
       "      <td>35.791569</td>\n",
       "    </tr>\n",
       "  </tbody>\n",
       "</table>\n",
       "<p>5 rows × 48 columns</p>\n",
       "</div>"
      ],
      "text/plain": [
       "                      humidity  temperature  year  month  day  day_of_week  \\\n",
       "timestamp                                                                    \n",
       "2025-01-13 07:00:00  78.292206    25.997341  2025      1   13            0   \n",
       "2025-01-14 07:00:00  74.887207    26.780884  2025      1   14            1   \n",
       "2025-01-15 07:00:00  74.201401    27.146723  2025      1   15            2   \n",
       "2025-01-16 07:00:00  89.873428    24.990604  2025      1   16            3   \n",
       "2025-01-17 07:00:00  80.848938    27.221664  2025      1   17            4   \n",
       "\n",
       "                     week_of_year  season  dew_point  is_weekend  ...  \\\n",
       "timestamp                                                         ...   \n",
       "2025-01-13 07:00:00             3       2  21.655781           0  ...   \n",
       "2025-01-14 07:00:00             3       2  21.758324           0  ...   \n",
       "2025-01-15 07:00:00             3       2  21.987003           0  ...   \n",
       "2025-01-16 07:00:00             3       2  22.965288           0  ...   \n",
       "2025-01-17 07:00:00             3       2  23.391453           0  ...   \n",
       "\n",
       "                     humidity_lag_3  humidity_lag_7  temperature_rolling_2  \\\n",
       "timestamp                                                                    \n",
       "2025-01-13 07:00:00       70.491486       72.844643              26.896215   \n",
       "2025-01-14 07:00:00       73.568382       70.630295              25.716156   \n",
       "2025-01-15 07:00:00       85.379807       71.168640              26.389112   \n",
       "2025-01-16 07:00:00       78.292206       70.983574              26.963802   \n",
       "2025-01-17 07:00:00       74.887207       70.491486              26.068663   \n",
       "\n",
       "                    temperature_rolling_5  temperature_rolling_7  \\\n",
       "timestamp                                                          \n",
       "2025-01-13 07:00:00             28.008570              28.287636   \n",
       "2025-01-14 07:00:00             27.423729              27.883612   \n",
       "2025-01-15 07:00:00             27.103271              27.545866   \n",
       "2025-01-16 07:00:00             26.743475              27.292320   \n",
       "2025-01-17 07:00:00             26.070105              26.807669   \n",
       "\n",
       "                     temperature_lag_1  temperature_lag_2  temperature_lag_3  \\\n",
       "timestamp                                                                      \n",
       "2025-01-13 07:00:00          25.434973          28.357460          28.945705   \n",
       "2025-01-14 07:00:00          25.997341          25.434973          28.357460   \n",
       "2025-01-15 07:00:00          26.780884          25.997341          25.434973   \n",
       "2025-01-16 07:00:00          27.146723          26.780884          25.997341   \n",
       "2025-01-17 07:00:00          24.990604          27.146723          26.780884   \n",
       "\n",
       "                     temperature_lag_7  prediction_label  \n",
       "timestamp                                                 \n",
       "2025-01-13 07:00:00          28.825508         29.927804  \n",
       "2025-01-14 07:00:00          29.145098         35.394236  \n",
       "2025-01-15 07:00:00          28.921543         35.700378  \n",
       "2025-01-16 07:00:00          28.383165         34.728874  \n",
       "2025-01-17 07:00:00          28.945705         35.791569  \n",
       "\n",
       "[5 rows x 48 columns]"
      ]
     },
     "execution_count": 284,
     "metadata": {},
     "output_type": "execute_result"
    }
   ],
   "source": [
    "new_data = test_data.copy().drop(['pm_2_5'], axis=1)\n",
    "predictions = exp1.predict_model(model_1, data=new_data)\n",
    "predictions.head()"
   ]
  },
  {
   "cell_type": "code",
   "execution_count": null,
   "metadata": {},
   "outputs": [],
   "source": [
    "predict_v = predictions['prediction_label']\n",
    "# predict_v.head(7)"
   ]
  },
  {
   "cell_type": "code",
   "execution_count": null,
   "metadata": {},
   "outputs": [],
   "source": [
    "real = test_data['pm_2_5']\n",
    "# real.head(7)"
   ]
  },
  {
   "cell_type": "markdown",
   "metadata": {},
   "source": [
    "# ทำนาย 1 วันข้างหน้า ต้องทำนายเผื่อ 2 วัน"
   ]
  },
  {
   "cell_type": "code",
   "execution_count": null,
   "metadata": {},
   "outputs": [
    {
     "data": {
      "image/png": "[encoded data removed]",
      "text/plain": [
       "<Figure size 1000x600 with 1 Axes>"
      ]
     },
     "metadata": {},
     "output_type": "display_data"
    }
   ],
   "source": [
    "import pandas as pd\n",
    "import matplotlib.pyplot as plt\n",
    "\n",
    "# สมมุติว่า result คือ DataFrame ที่รวม predictions กับ pm_10\n",
    "result = pd.concat([predict_v.shift(-1), test_data['pm_2_5']], axis=1)\n",
    "result.columns = ['Predictions', 'Actual PM2_5']  # ตั้งชื่อคอลัมน์\n",
    "\n",
    "# พล็อตข้อมูล\n",
    "result.plot(figsize=(10, 6))\n",
    "\n",
    "# ตั้งชื่อกราฟ\n",
    "plt.title('Predictions vs Actual PM2_5')\n",
    "plt.xlabel('Index')\n",
    "plt.ylabel('PM2_5 Values')\n",
    "\n",
    "# แสดงกราฟ\n",
    "plt.show()"
   ]
  },
  {
   "cell_type": "markdown",
   "metadata": {},
   "source": [
    "# Predict 1 by 1"
   ]
  },
  {
   "cell_type": "markdown",
   "metadata": {},
   "source": [
    "30 วัน  \n",
    "2025-01-13 07:00:00  \n",
    "2025-02-11 07:00:00  \n",
    "7 วัน  \n",
    "2025-02-05  \n",
    "2025-02-11  \n",
    "24 วัน  \n",
    "2025-01-19 07:00:00  \n",
    "31 วัน\n",
    "2025-01-12 07:00:00"
   ]
  },
  {
   "cell_type": "code",
   "execution_count": null,
   "metadata": {},
   "outputs": [],
   "source": [
    "# model_1 = exp1.create_model('rf')\n",
    "# tune_1 = exp1.tune_model(model_1)"
   ]
  },
  {
   "cell_type": "code",
   "execution_count": 37,
   "metadata": {},
   "outputs": [
    {
     "data": {
      "text/html": [],
      "text/plain": [
       "<IPython.core.display.HTML object>"
      ]
     },
     "metadata": {},
     "output_type": "display_data"
    },
    {
     "data": {
      "text/html": [],
      "text/plain": [
       "<IPython.core.display.HTML object>"
      ]
     },
     "metadata": {},
     "output_type": "display_data"
    },
    {
     "data": {
      "text/html": [],
      "text/plain": [
       "<IPython.core.display.HTML object>"
      ]
     },
     "metadata": {},
     "output_type": "display_data"
    },
    {
     "data": {
      "text/html": [],
      "text/plain": [
       "<IPython.core.display.HTML object>"
      ]
     },
     "metadata": {},
     "output_type": "display_data"
    },
    {
     "data": {
      "text/html": [],
      "text/plain": [
       "<IPython.core.display.HTML object>"
      ]
     },
     "metadata": {},
     "output_type": "display_data"
    },
    {
     "data": {
      "text/html": [],
      "text/plain": [
       "<IPython.core.display.HTML object>"
      ]
     },
     "metadata": {},
     "output_type": "display_data"
    },
    {
     "data": {
      "text/html": [],
      "text/plain": [
       "<IPython.core.display.HTML object>"
      ]
     },
     "metadata": {},
     "output_type": "display_data"
    },
    {
     "data": {
      "text/html": [],
      "text/plain": [
       "<IPython.core.display.HTML object>"
      ]
     },
     "metadata": {},
     "output_type": "display_data"
    },
    {
     "data": {
      "text/html": [],
      "text/plain": [
       "<IPython.core.display.HTML object>"
      ]
     },
     "metadata": {},
     "output_type": "display_data"
    },
    {
     "data": {
      "text/html": [],
      "text/plain": [
       "<IPython.core.display.HTML object>"
      ]
     },
     "metadata": {},
     "output_type": "display_data"
    },
    {
     "data": {
      "text/html": [],
      "text/plain": [
       "<IPython.core.display.HTML object>"
      ]
     },
     "metadata": {},
     "output_type": "display_data"
    },
    {
     "data": {
      "text/html": [],
      "text/plain": [
       "<IPython.core.display.HTML object>"
      ]
     },
     "metadata": {},
     "output_type": "display_data"
    },
    {
     "data": {
      "text/html": [],
      "text/plain": [
       "<IPython.core.display.HTML object>"
      ]
     },
     "metadata": {},
     "output_type": "display_data"
    },
    {
     "data": {
      "text/html": [],
      "text/plain": [
       "<IPython.core.display.HTML object>"
      ]
     },
     "metadata": {},
     "output_type": "display_data"
    },
    {
     "data": {
      "text/html": [],
      "text/plain": [
       "<IPython.core.display.HTML object>"
      ]
     },
     "metadata": {},
     "output_type": "display_data"
    },
    {
     "data": {
      "text/html": [],
      "text/plain": [
       "<IPython.core.display.HTML object>"
      ]
     },
     "metadata": {},
     "output_type": "display_data"
    },
    {
     "data": {
      "text/html": [],
      "text/plain": [
       "<IPython.core.display.HTML object>"
      ]
     },
     "metadata": {},
     "output_type": "display_data"
    },
    {
     "data": {
      "text/html": [],
      "text/plain": [
       "<IPython.core.display.HTML object>"
      ]
     },
     "metadata": {},
     "output_type": "display_data"
    },
    {
     "data": {
      "text/html": [],
      "text/plain": [
       "<IPython.core.display.HTML object>"
      ]
     },
     "metadata": {},
     "output_type": "display_data"
    },
    {
     "data": {
      "text/html": [],
      "text/plain": [
       "<IPython.core.display.HTML object>"
      ]
     },
     "metadata": {},
     "output_type": "display_data"
    },
    {
     "data": {
      "text/html": [],
      "text/plain": [
       "<IPython.core.display.HTML object>"
      ]
     },
     "metadata": {},
     "output_type": "display_data"
    },
    {
     "data": {
      "text/html": [],
      "text/plain": [
       "<IPython.core.display.HTML object>"
      ]
     },
     "metadata": {},
     "output_type": "display_data"
    },
    {
     "data": {
      "text/html": [],
      "text/plain": [
       "<IPython.core.display.HTML object>"
      ]
     },
     "metadata": {},
     "output_type": "display_data"
    },
    {
     "data": {
      "text/html": [],
      "text/plain": [
       "<IPython.core.display.HTML object>"
      ]
     },
     "metadata": {},
     "output_type": "display_data"
    },
    {
     "data": {
      "text/html": [],
      "text/plain": [
       "<IPython.core.display.HTML object>"
      ]
     },
     "metadata": {},
     "output_type": "display_data"
    },
    {
     "data": {
      "text/html": [],
      "text/plain": [
       "<IPython.core.display.HTML object>"
      ]
     },
     "metadata": {},
     "output_type": "display_data"
    },
    {
     "data": {
      "text/html": [],
      "text/plain": [
       "<IPython.core.display.HTML object>"
      ]
     },
     "metadata": {},
     "output_type": "display_data"
    },
    {
     "data": {
      "text/html": [],
      "text/plain": [
       "<IPython.core.display.HTML object>"
      ]
     },
     "metadata": {},
     "output_type": "display_data"
    },
    {
     "data": {
      "text/html": [],
      "text/plain": [
       "<IPython.core.display.HTML object>"
      ]
     },
     "metadata": {},
     "output_type": "display_data"
    },
    {
     "data": {
      "text/html": [],
      "text/plain": [
       "<IPython.core.display.HTML object>"
      ]
     },
     "metadata": {},
     "output_type": "display_data"
    }
   ],
   "source": [
    "data_compare = data_filtered.loc[:'2025-01-12']\n",
    "result = pd.DataFrame()\n",
    "\n",
    "start_date = \"2025-01-13\"\n",
    "end_date = \"2025-02-11\"\n",
    "\n",
    "model = model_2\n",
    "\n",
    "for date in pd.date_range(start=start_date, end=end_date, freq=\"D\"):\n",
    "    # Drop columns\n",
    "    test_1 = data_filtered\n",
    "\n",
    "    # ดึงวันนี้มา\n",
    "    test_1 = test_1.loc[str(date.date())]\n",
    "\n",
    "    # ใส่เข้าไป\n",
    "    data_compare = pd.concat([data_compare, test_1], axis=0)\n",
    "\n",
    "    # เพิ่มฟีเจอร์ rolling average (ค่าเฉลี่ยเคลื่อนที่)\n",
    "\n",
    "    # data_compare['pm_2_5_rolling_7'] = data_compare['pm_2_5'].rolling(window=7).mean().shift(1)  # ค่าเฉลี่ย 5 วันของ PM 10\n",
    "\n",
    "    for i in range(2,rolling_size+1):\n",
    "        data_compare[f'pm_2_5_rolling_{i}'] = data_compare['pm_2_5'].rolling(window=i).mean().shift(1)\n",
    "\n",
    "    for i in range(1,lag_size+1):\n",
    "        data_compare[f'pm_2_5_lag_{i}'] = data_compare['pm_2_5'].shift(i)\n",
    "\n",
    "    # ดึง\n",
    "    test_1 = (data_compare.loc[str(date.date())]).drop(columns=['pm_2_5'])\n",
    "    \n",
    "    # Drop ทิ้งล่าสุดใน data_compare\n",
    "    data_compare = data_compare.drop(data_compare.last_valid_index())\n",
    "    test_1 = test_1[~test_1.index.duplicated(keep='last')]\n",
    "\n",
    "    # Predict\n",
    "    predict_test_1 = exp1.predict_model(model, data=test_1)\n",
    "\n",
    "        # เพิ่มผลทำนายเข้าไปใน data_compare\n",
    "    data_compare = pd.concat([data_compare, predict_test_1], axis=0)\n",
    "\n",
    "    # แทนที่ค่าในคอลัมน์ 'pm_2_5' ในวันที่ '2025-01-13' ด้วยค่าในคอลัมน์ 'prediction_label'\n",
    "    data_compare.loc[str(date.date()), 'pm_2_5'] = data_compare.loc[str(date.date()), 'prediction_label']\n",
    "\n",
    "    # ลบคอลัมน์ 'prediction_label' (หากต้องการแค่ผลทำนาย)\n",
    "    data_compare = data_compare.drop(columns=['prediction_label'])\n",
    "\n",
    "    # กรองเอาวันที่ซ้ำกัน (index ซ้ำ) ออกให้เหลือแค่ตัวเดียว\n",
    "    data_compare = data_compare[~data_compare.index.duplicated(keep='last')]\n",
    "\n",
    "    # บันทึกลง result\n",
    "    result = pd.concat([result, predict_test_1], axis=0)"
   ]
  },
  {
   "cell_type": "code",
   "execution_count": 38,
   "metadata": {},
   "outputs": [
    {
     "data": {
      "image/png": "[encoded data removed]",
      "text/plain": [
       "<Figure size 1000x600 with 1 Axes>"
      ]
     },
     "metadata": {},
     "output_type": "display_data"
    }
   ],
   "source": [
    "import pandas as pd\n",
    "import matplotlib.pyplot as plt\n",
    "\n",
    "real_data = data_filtered.loc[start_date:end_date]\n",
    "# สมมุติว่า result คือ DataFrame ที่รวม predictions กับ pm_10\n",
    "result_plot = pd.concat([result['prediction_label'].shift(-1), real_data['pm_2_5']], axis=1)\n",
    "result_plot.columns = ['Predictions', 'Actual PM10']  # ตั้งชื่อคอลัมน์\n",
    "\n",
    "# พล็อตข้อมูล\n",
    "result_plot.plot(figsize=(10, 6))\n",
    "\n",
    "# ตั้งชื่อกราฟ\n",
    "plt.title('Predictions vs Actual PM10')\n",
    "plt.xlabel('Index')\n",
    "plt.ylabel('PM10 Values')\n",
    "\n",
    "# แสดงกราฟ\n",
    "plt.show()"
   ]
  },
  {
   "cell_type": "code",
   "execution_count": 39,
   "metadata": {},
   "outputs": [
    {
     "name": "stdout",
     "output_type": "stream",
     "text": [
      "R² Score: -0.4587\n",
      "Mean Absolute Error (MAE): 9.7850\n",
      "Root Mean Squared Error (RMSE): 12.0570\n",
      "Accuracy: 66.03%\n"
     ]
    }
   ],
   "source": [
    "from pycaret.regression import *\n",
    "from sklearn.metrics import r2_score, mean_absolute_error, mean_squared_error\n",
    "import numpy as np\n",
    "\n",
    "y_true = real_data[\"pm_2_5\"][:\"2025-2-10\"]\n",
    "y_pred = result['prediction_label'].shift(-1).dropna(axis=0)# \"prediction_label\" contains predictions\n",
    "\n",
    "# Calculate Regression Metrics\n",
    "r2 = r2_score(y_true, y_pred)\n",
    "mae = mean_absolute_error(y_true, y_pred)\n",
    "rmse = np.sqrt(mean_squared_error(y_true, y_pred))\n",
    "\n",
    "# Calculate Accuracy as (1 - (MAE / mean_actual)) * 100\n",
    "mean_actual = np.mean(y_true)  # Mean of actual values\n",
    "accuracy = (1 - (mae / mean_actual)) * 100  # Accuracy in percentage\n",
    "\n",
    "# Print Results\n",
    "print(f\"R² Score: {r2:.4f}\")  # Closer to 1 is better\n",
    "print(f\"Mean Absolute Error (MAE): {mae:.4f}\")  # Lower is better\n",
    "print(f\"Root Mean Squared Error (RMSE): {rmse:.4f}\")  # Lower is better\n",
    "print(f\"Accuracy: {accuracy:.2f}%\")  # Accuracy percentage"
   ]
  },
  {
   "cell_type": "code",
   "execution_count": null,
   "metadata": {},
   "outputs": [
    {
     "name": "stdout",
     "output_type": "stream",
     "text": [
      "R² Score: 0.4020\n",
      "Mean Absolute Percentage Error (MAPE): 23.85%\n"
     ]
    }
   ],
   "source": [
    "# ค่า R² และ MAPE\n",
    "r2 = r2_score(y_true, y_pred)\n",
    "mape = np.mean(np.abs((y_true - y_pred) / y_true)) * 100  # MAPE in percentage\n",
    "\n",
    "# การปรับสเกลของ R² (สมมติให้อยู่ในช่วง 0-100 เพื่อให้อยู่ในช่วงเดียวกับ MAPE)\n",
    "r2_scaled = r2 * 100  # เปลี่ยน R² ให้เป็นค่าร้อยละ\n",
    "\n",
    "print(f\"R² Score: {r2:.4f}\")\n",
    "print(f\"Mean Absolute Percentage Error (MAPE): {mape:.2f}%\")\n",
    "\n"
   ]
  },
  {
   "cell_type": "code",
   "execution_count": null,
   "metadata": {},
   "outputs": [],
   "source": []
  }
 ],
 "metadata": {
  "kernelspec": {
   "display_name": "Python 3.11.9 ('venv': venv)",
   "language": "python",
   "name": "python3"
  },
  "language_info": {
   "codemirror_mode": {
    "name": "ipython",
    "version": 3
   },
   "file_extension": ".py",
   "mimetype": "text/x-python",
   "name": "python",
   "nbconvert_exporter": "python",
   "pygments_lexer": "ipython3",
   "version": "3.11.9"
  },
  "vscode": {
   "interpreter": {
    "hash": "a59bf01f6890b2ed43fbf06ab972ae61aa40692c1f27817fbc63d183940b6722"
   }
  }
 },
 "nbformat": 4,
 "nbformat_minor": 2
}
